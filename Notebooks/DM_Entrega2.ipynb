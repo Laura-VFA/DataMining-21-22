{
  "nbformat": 4,
  "nbformat_minor": 0,
  "metadata": {
    "colab": {
      "name": "DM-Entrega2.ipynb",
      "provenance": [],
      "collapsed_sections": [],
      "toc_visible": true,
      "authorship_tag": "ABX9TyMG1cMXrS8w0U0Pj6+YWVb1",
      "include_colab_link": true
    },
    "kernelspec": {
      "name": "python3",
      "display_name": "Python 3"
    },
    "language_info": {
      "name": "python"
    }
  },
  "cells": [
    {
      "cell_type": "markdown",
      "metadata": {
        "id": "view-in-github",
        "colab_type": "text"
      },
      "source": [
        "<a href=\"https://colab.research.google.com/github/Laura-VFA/DataMining-21-22/blob/main/Notebooks/DM_Entrega2.ipynb\" target=\"_parent\"><img src=\"https://colab.research.google.com/assets/colab-badge.svg\" alt=\"Open In Colab\"/></a>"
      ]
    },
    {
      "cell_type": "markdown",
      "metadata": {
        "id": "Ay42tlQhVbsK"
      },
      "source": [
        "# Minería de Datos\n",
        "## Preproceso y Transformación"
      ]
    },
    {
      "cell_type": "markdown",
      "metadata": {
        "id": "t08Ym4Qi--IY"
      },
      "source": [
        "## 1. Recopilación de datasets necesarios"
      ]
    },
    {
      "cell_type": "code",
      "metadata": {
        "colab": {
          "base_uri": "https://localhost:8080/"
        },
        "id": "njH4snxtVa4R",
        "outputId": "1652b933-cd65-4ed6-a52f-ed5964c563d2"
      },
      "source": [
        "!rm *.*\n",
        "\n",
        "!wget https://raw.githubusercontent.com/Laura-VFA/DataMining-21-22/main/Datasets/Dataset1.-%20DatosConsumoAlimentarioMAPAporCCAA.txt \n",
        "!wget https://raw.githubusercontent.com/Laura-VFA/DataMining-21-22/main/Datasets/Dataset2.-%20Precios%20Semanales%20Observatorio%20de%20Precios%20Junta%20de%20Andalucia.txt \n",
        "!wget https://raw.githubusercontent.com/Laura-VFA/DataMining-21-22/main/Datasets/Dataset3a_Datos_MercaMadrid.txt \n",
        "!wget https://raw.githubusercontent.com/Laura-VFA/DataMining-21-22/main/Datasets/Dataset3b_Datos_MercaBarna.txt\n",
        "\n",
        "#!wget https://raw.githubusercontent.com/Laura-VFA/DataMining-21-22/main/Datasets/precios_agrarios_enero2019_junio2021.csv\n",
        "!wget https://raw.githubusercontent.com/Laura-VFA/DataMining-21-22/main/Datasets/planificacion_siembra.csv\n",
        "\n",
        "!wget https://raw.githubusercontent.com/Laura-VFA/DataMining-21-22/main/Datasets/Aemet.csv\n",
        "\n",
        "!wget https://raw.githubusercontent.com/Laura-VFA/DataMining-21-22/main/Dicts/ccaa_names.json\n",
        "!wget https://raw.githubusercontent.com/Laura-VFA/DataMining-21-22/main/Dicts/cultivos_names.json\n",
        "!wget https://raw.githubusercontent.com/Laura-VFA/DataMining-21-22/main/Dicts/months_season.json\n",
        "\n",
        "!pip install unidecode\n"
      ],
      "execution_count": 518,
      "outputs": [
        {
          "output_type": "stream",
          "name": "stdout",
          "text": [
            "--2021-12-04 10:15:06--  https://raw.githubusercontent.com/Laura-VFA/DataMining-21-22/main/Datasets/Dataset1.-%20DatosConsumoAlimentarioMAPAporCCAA.txt\n",
            "Resolving raw.githubusercontent.com (raw.githubusercontent.com)... 185.199.108.133, 185.199.109.133, 185.199.110.133, ...\n",
            "Connecting to raw.githubusercontent.com (raw.githubusercontent.com)|185.199.108.133|:443... connected.\n",
            "HTTP request sent, awaiting response... 200 OK\n",
            "Length: 1885064 (1.8M) [text/plain]\n",
            "Saving to: ‘Dataset1.- DatosConsumoAlimentarioMAPAporCCAA.txt’\n",
            "\n",
            "\r          Dataset1.   0%[                    ]       0  --.-KB/s               \rDataset1.- DatosCon 100%[===================>]   1.80M  --.-KB/s    in 0.01s   \n",
            "\n",
            "2021-12-04 10:15:06 (140 MB/s) - ‘Dataset1.- DatosConsumoAlimentarioMAPAporCCAA.txt’ saved [1885064/1885064]\n",
            "\n",
            "--2021-12-04 10:15:06--  https://raw.githubusercontent.com/Laura-VFA/DataMining-21-22/main/Datasets/Dataset2.-%20Precios%20Semanales%20Observatorio%20de%20Precios%20Junta%20de%20Andalucia.txt\n",
            "Resolving raw.githubusercontent.com (raw.githubusercontent.com)... 185.199.108.133, 185.199.109.133, 185.199.110.133, ...\n",
            "Connecting to raw.githubusercontent.com (raw.githubusercontent.com)|185.199.108.133|:443... connected.\n",
            "HTTP request sent, awaiting response... 200 OK\n",
            "Length: 2481863 (2.4M) [text/plain]\n",
            "Saving to: ‘Dataset2.- Precios Semanales Observatorio de Precios Junta de Andalucia.txt’\n",
            "\n",
            "Dataset2.- Precios  100%[===================>]   2.37M  --.-KB/s    in 0.02s   \n",
            "\n",
            "2021-12-04 10:15:06 (152 MB/s) - ‘Dataset2.- Precios Semanales Observatorio de Precios Junta de Andalucia.txt’ saved [2481863/2481863]\n",
            "\n",
            "--2021-12-04 10:15:06--  https://raw.githubusercontent.com/Laura-VFA/DataMining-21-22/main/Datasets/Dataset3a_Datos_MercaMadrid.txt\n",
            "Resolving raw.githubusercontent.com (raw.githubusercontent.com)... 185.199.108.133, 185.199.109.133, 185.199.110.133, ...\n",
            "Connecting to raw.githubusercontent.com (raw.githubusercontent.com)|185.199.108.133|:443... connected.\n",
            "HTTP request sent, awaiting response... 200 OK\n",
            "Length: 5018905 (4.8M) [text/plain]\n",
            "Saving to: ‘Dataset3a_Datos_MercaMadrid.txt’\n",
            "\n",
            "Dataset3a_Datos_Mer 100%[===================>]   4.79M  --.-KB/s    in 0.03s   \n",
            "\n",
            "2021-12-04 10:15:07 (152 MB/s) - ‘Dataset3a_Datos_MercaMadrid.txt’ saved [5018905/5018905]\n",
            "\n",
            "--2021-12-04 10:15:07--  https://raw.githubusercontent.com/Laura-VFA/DataMining-21-22/main/Datasets/Dataset3b_Datos_MercaBarna.txt\n",
            "Resolving raw.githubusercontent.com (raw.githubusercontent.com)... 185.199.108.133, 185.199.109.133, 185.199.110.133, ...\n",
            "Connecting to raw.githubusercontent.com (raw.githubusercontent.com)|185.199.108.133|:443... connected.\n",
            "HTTP request sent, awaiting response... 200 OK\n",
            "Length: 2621190 (2.5M) [text/plain]\n",
            "Saving to: ‘Dataset3b_Datos_MercaBarna.txt’\n",
            "\n",
            "Dataset3b_Datos_Mer 100%[===================>]   2.50M  --.-KB/s    in 0.02s   \n",
            "\n",
            "2021-12-04 10:15:07 (164 MB/s) - ‘Dataset3b_Datos_MercaBarna.txt’ saved [2621190/2621190]\n",
            "\n",
            "--2021-12-04 10:15:07--  https://raw.githubusercontent.com/Laura-VFA/DataMining-21-22/main/Datasets/planificacion_siembra.csv\n",
            "Resolving raw.githubusercontent.com (raw.githubusercontent.com)... 185.199.110.133, 185.199.108.133, 185.199.111.133, ...\n",
            "Connecting to raw.githubusercontent.com (raw.githubusercontent.com)|185.199.110.133|:443... connected.\n",
            "HTTP request sent, awaiting response... 200 OK\n",
            "Length: 6363 (6.2K) [text/plain]\n",
            "Saving to: ‘planificacion_siembra.csv’\n",
            "\n",
            "planificacion_siemb 100%[===================>]   6.21K  --.-KB/s    in 0s      \n",
            "\n",
            "2021-12-04 10:15:07 (72.8 MB/s) - ‘planificacion_siembra.csv’ saved [6363/6363]\n",
            "\n",
            "--2021-12-04 10:15:07--  https://raw.githubusercontent.com/Laura-VFA/DataMining-21-22/main/Datasets/Aemet.csv\n",
            "Resolving raw.githubusercontent.com (raw.githubusercontent.com)... 185.199.108.133, 185.199.109.133, 185.199.110.133, ...\n",
            "Connecting to raw.githubusercontent.com (raw.githubusercontent.com)|185.199.108.133|:443... connected.\n",
            "HTTP request sent, awaiting response... 200 OK\n",
            "Length: 98538828 (94M) [text/plain]\n",
            "Saving to: ‘Aemet.csv’\n",
            "\n",
            "Aemet.csv           100%[===================>]  93.97M   148MB/s    in 0.6s    \n",
            "\n",
            "2021-12-04 10:15:08 (148 MB/s) - ‘Aemet.csv’ saved [98538828/98538828]\n",
            "\n",
            "--2021-12-04 10:15:08--  https://raw.githubusercontent.com/Laura-VFA/DataMining-21-22/main/Dicts/ccaa_names.json\n",
            "Resolving raw.githubusercontent.com (raw.githubusercontent.com)... 185.199.108.133, 185.199.109.133, 185.199.110.133, ...\n",
            "Connecting to raw.githubusercontent.com (raw.githubusercontent.com)|185.199.108.133|:443... connected.\n",
            "HTTP request sent, awaiting response... 200 OK\n",
            "Length: 2852 (2.8K) [text/plain]\n",
            "Saving to: ‘ccaa_names.json’\n",
            "\n",
            "ccaa_names.json     100%[===================>]   2.79K  --.-KB/s    in 0s      \n",
            "\n",
            "2021-12-04 10:15:08 (35.9 MB/s) - ‘ccaa_names.json’ saved [2852/2852]\n",
            "\n",
            "--2021-12-04 10:15:08--  https://raw.githubusercontent.com/Laura-VFA/DataMining-21-22/main/Dicts/cultivos_names.json\n",
            "Resolving raw.githubusercontent.com (raw.githubusercontent.com)... 185.199.108.133, 185.199.109.133, 185.199.110.133, ...\n",
            "Connecting to raw.githubusercontent.com (raw.githubusercontent.com)|185.199.108.133|:443... connected.\n",
            "HTTP request sent, awaiting response... 200 OK\n",
            "Length: 3199 (3.1K) [text/plain]\n",
            "Saving to: ‘cultivos_names.json’\n",
            "\n",
            "cultivos_names.json 100%[===================>]   3.12K  --.-KB/s    in 0s      \n",
            "\n",
            "2021-12-04 10:15:08 (46.6 MB/s) - ‘cultivos_names.json’ saved [3199/3199]\n",
            "\n",
            "--2021-12-04 10:15:08--  https://raw.githubusercontent.com/Laura-VFA/DataMining-21-22/main/Dicts/months_season.json\n",
            "Resolving raw.githubusercontent.com (raw.githubusercontent.com)... 185.199.108.133, 185.199.109.133, 185.199.110.133, ...\n",
            "Connecting to raw.githubusercontent.com (raw.githubusercontent.com)|185.199.108.133|:443... connected.\n",
            "HTTP request sent, awaiting response... 200 OK\n",
            "Length: 395 [text/plain]\n",
            "Saving to: ‘months_season.json’\n",
            "\n",
            "months_season.json  100%[===================>]     395  --.-KB/s    in 0s      \n",
            "\n",
            "2021-12-04 10:15:08 (25.6 MB/s) - ‘months_season.json’ saved [395/395]\n",
            "\n",
            "Requirement already satisfied: unidecode in /usr/local/lib/python3.7/dist-packages (1.3.2)\n"
          ]
        }
      ]
    },
    {
      "cell_type": "code",
      "metadata": {
        "id": "EJcazBE_9EnA"
      },
      "source": [
        "!rm *.*\n"
      ],
      "execution_count": null,
      "outputs": []
    },
    {
      "cell_type": "code",
      "metadata": {
        "colab": {
          "base_uri": "https://localhost:8080/",
          "height": 625
        },
        "id": "MIws5yBDzRM3",
        "outputId": "f0474770-6df2-4215-8fdb-aea9534dda30"
      },
      "source": [
        "import pandas\n",
        "\n",
        "calendario_siembra = pandas.read_csv('planificacion_siembra.csv', sep=';')\n",
        "calendario_siembra.head()\n"
      ],
      "execution_count": 519,
      "outputs": [
        {
          "output_type": "execute_result",
          "data": {
            "text/html": [
              "<div>\n",
              "<style scoped>\n",
              "    .dataframe tbody tr th:only-of-type {\n",
              "        vertical-align: middle;\n",
              "    }\n",
              "\n",
              "    .dataframe tbody tr th {\n",
              "        vertical-align: top;\n",
              "    }\n",
              "\n",
              "    .dataframe thead th {\n",
              "        text-align: right;\n",
              "    }\n",
              "</style>\n",
              "<table border=\"1\" class=\"dataframe\">\n",
              "  <thead>\n",
              "    <tr style=\"text-align: right;\">\n",
              "      <th></th>\n",
              "      <th>Cultivo</th>\n",
              "      <th>Familia</th>\n",
              "      <th>Aprovecha</th>\n",
              "      <th>Epoca siemb</th>\n",
              "      <th>Asociac</th>\n",
              "      <th>Rotaciones</th>\n",
              "      <th>D siem-recol</th>\n",
              "      <th>ene</th>\n",
              "      <th>ene.1</th>\n",
              "      <th>feb</th>\n",
              "      <th>feb.1</th>\n",
              "      <th>mar</th>\n",
              "      <th>mar.1</th>\n",
              "      <th>abr</th>\n",
              "      <th>abr.1</th>\n",
              "      <th>may</th>\n",
              "      <th>may.1</th>\n",
              "      <th>jun</th>\n",
              "      <th>jun.1</th>\n",
              "      <th>jul</th>\n",
              "      <th>jul.1</th>\n",
              "      <th>ago</th>\n",
              "      <th>ago.1</th>\n",
              "      <th>sep</th>\n",
              "      <th>sep.1</th>\n",
              "      <th>oct</th>\n",
              "      <th>oct.1</th>\n",
              "      <th>nov</th>\n",
              "      <th>nov.1</th>\n",
              "      <th>dic</th>\n",
              "      <th>dic.1</th>\n",
              "    </tr>\n",
              "  </thead>\n",
              "  <tbody>\n",
              "    <tr>\n",
              "      <th>0</th>\n",
              "      <td>ACELGA</td>\n",
              "      <td>Quenopodiáceas</td>\n",
              "      <td>hoja</td>\n",
              "      <td>Otoño-Primav</td>\n",
              "      <td>judias, zanahorias, nabos y rabanos</td>\n",
              "      <td>2 años</td>\n",
              "      <td>90</td>\n",
              "      <td>C</td>\n",
              "      <td>SC</td>\n",
              "      <td>SC</td>\n",
              "      <td>SC</td>\n",
              "      <td>STC</td>\n",
              "      <td>STC</td>\n",
              "      <td>STC</td>\n",
              "      <td>STC</td>\n",
              "      <td>STC</td>\n",
              "      <td>STC</td>\n",
              "      <td>STC</td>\n",
              "      <td>STC</td>\n",
              "      <td>STC</td>\n",
              "      <td>STC</td>\n",
              "      <td>C</td>\n",
              "      <td>C</td>\n",
              "      <td>C</td>\n",
              "      <td>C</td>\n",
              "      <td>C</td>\n",
              "      <td>C</td>\n",
              "      <td>C</td>\n",
              "      <td>C</td>\n",
              "      <td>C</td>\n",
              "      <td>C</td>\n",
              "    </tr>\n",
              "    <tr>\n",
              "      <th>1</th>\n",
              "      <td>AJO</td>\n",
              "      <td>Liliáceas</td>\n",
              "      <td>bulbo</td>\n",
              "      <td>Otoño-Invierno</td>\n",
              "      <td>fresas, remolacha, patata, lechuga, tomate, hi...</td>\n",
              "      <td>2 años</td>\n",
              "      <td>60-120</td>\n",
              "      <td>S</td>\n",
              "      <td>S</td>\n",
              "      <td>S</td>\n",
              "      <td>S</td>\n",
              "      <td>NaN</td>\n",
              "      <td>NaN</td>\n",
              "      <td>C</td>\n",
              "      <td>C</td>\n",
              "      <td>C</td>\n",
              "      <td>C</td>\n",
              "      <td>C</td>\n",
              "      <td>C</td>\n",
              "      <td>C</td>\n",
              "      <td>C</td>\n",
              "      <td>C</td>\n",
              "      <td>NaN</td>\n",
              "      <td>NaN</td>\n",
              "      <td>NaN</td>\n",
              "      <td>S</td>\n",
              "      <td>S</td>\n",
              "      <td>S</td>\n",
              "      <td>S</td>\n",
              "      <td>NaN</td>\n",
              "      <td>NaN</td>\n",
              "    </tr>\n",
              "    <tr>\n",
              "      <th>2</th>\n",
              "      <td>ALCACHOFA</td>\n",
              "      <td>Compuestas</td>\n",
              "      <td>infloresc</td>\n",
              "      <td>Primav</td>\n",
              "      <td>lechuga, col, cebolla, haba, guisante</td>\n",
              "      <td>5 años</td>\n",
              "      <td>90-120</td>\n",
              "      <td>C</td>\n",
              "      <td>C</td>\n",
              "      <td>C</td>\n",
              "      <td>C</td>\n",
              "      <td>C</td>\n",
              "      <td>C</td>\n",
              "      <td>NaN</td>\n",
              "      <td>NaN</td>\n",
              "      <td>NaN</td>\n",
              "      <td>NaN</td>\n",
              "      <td>NaN</td>\n",
              "      <td>NaN</td>\n",
              "      <td>T</td>\n",
              "      <td>T</td>\n",
              "      <td>T</td>\n",
              "      <td>T</td>\n",
              "      <td>T</td>\n",
              "      <td>T</td>\n",
              "      <td>NaN</td>\n",
              "      <td>NaN</td>\n",
              "      <td>C</td>\n",
              "      <td>C</td>\n",
              "      <td>C</td>\n",
              "      <td>C</td>\n",
              "    </tr>\n",
              "    <tr>\n",
              "      <th>3</th>\n",
              "      <td>APIO</td>\n",
              "      <td>Umbrelíferas</td>\n",
              "      <td>hoja</td>\n",
              "      <td>Primav</td>\n",
              "      <td>ajo, cebolla, puerro, maiz, guisante, judia, l...</td>\n",
              "      <td>no hoja</td>\n",
              "      <td>100</td>\n",
              "      <td>C</td>\n",
              "      <td>C</td>\n",
              "      <td>SC</td>\n",
              "      <td>SC</td>\n",
              "      <td>SC</td>\n",
              "      <td>SC</td>\n",
              "      <td>ST</td>\n",
              "      <td>ST</td>\n",
              "      <td>ST</td>\n",
              "      <td>ST</td>\n",
              "      <td>ST</td>\n",
              "      <td>T</td>\n",
              "      <td>T</td>\n",
              "      <td>T</td>\n",
              "      <td>NaN</td>\n",
              "      <td>NaN</td>\n",
              "      <td>NaN</td>\n",
              "      <td>C</td>\n",
              "      <td>C</td>\n",
              "      <td>C</td>\n",
              "      <td>C</td>\n",
              "      <td>C</td>\n",
              "      <td>C</td>\n",
              "      <td>C</td>\n",
              "    </tr>\n",
              "    <tr>\n",
              "      <th>4</th>\n",
              "      <td>BERENJENA</td>\n",
              "      <td>Solenáceas</td>\n",
              "      <td>fruto</td>\n",
              "      <td>Primav</td>\n",
              "      <td>judias, patatas, pimiento, calendula, cañamo</td>\n",
              "      <td>3 años</td>\n",
              "      <td>130</td>\n",
              "      <td>NaN</td>\n",
              "      <td>NaN</td>\n",
              "      <td>NaN</td>\n",
              "      <td>S</td>\n",
              "      <td>S</td>\n",
              "      <td>ST</td>\n",
              "      <td>ST</td>\n",
              "      <td>ST</td>\n",
              "      <td>ST</td>\n",
              "      <td>ST</td>\n",
              "      <td>T</td>\n",
              "      <td>T</td>\n",
              "      <td>TC</td>\n",
              "      <td>C</td>\n",
              "      <td>C</td>\n",
              "      <td>C</td>\n",
              "      <td>C</td>\n",
              "      <td>C</td>\n",
              "      <td>C</td>\n",
              "      <td>C</td>\n",
              "      <td>NaN</td>\n",
              "      <td>NaN</td>\n",
              "      <td>NaN</td>\n",
              "      <td>NaN</td>\n",
              "    </tr>\n",
              "  </tbody>\n",
              "</table>\n",
              "</div>"
            ],
            "text/plain": [
              "     Cultivo         Familia  Aprovecha     Epoca siemb  ...  nov nov.1  dic dic.1\n",
              "0     ACELGA  Quenopodiáceas       hoja    Otoño-Primav  ...    C     C    C     C\n",
              "1        AJO       Liliáceas      bulbo  Otoño-Invierno  ...    S     S  NaN   NaN\n",
              "2  ALCACHOFA      Compuestas  infloresc          Primav  ...    C     C    C     C\n",
              "3       APIO    Umbrelíferas       hoja          Primav  ...    C     C    C     C\n",
              "4  BERENJENA      Solenáceas      fruto          Primav  ...  NaN   NaN  NaN   NaN\n",
              "\n",
              "[5 rows x 31 columns]"
            ]
          },
          "metadata": {},
          "execution_count": 519
        }
      ]
    },
    {
      "cell_type": "code",
      "metadata": {
        "colab": {
          "base_uri": "https://localhost:8080/",
          "height": 328
        },
        "id": "_nOdRshG8IVm",
        "outputId": "2789e460-30e6-4e50-bf26-eed497588474"
      },
      "source": [
        "import pandas\n",
        "\n",
        "consumo_CCAA = pandas.read_csv('Dataset1.- DatosConsumoAlimentarioMAPAporCCAA.txt', sep='|', decimal=',')\n",
        "consumo_CCAA.head()"
      ],
      "execution_count": 520,
      "outputs": [
        {
          "output_type": "execute_result",
          "data": {
            "text/html": [
              "<div>\n",
              "<style scoped>\n",
              "    .dataframe tbody tr th:only-of-type {\n",
              "        vertical-align: middle;\n",
              "    }\n",
              "\n",
              "    .dataframe tbody tr th {\n",
              "        vertical-align: top;\n",
              "    }\n",
              "\n",
              "    .dataframe thead th {\n",
              "        text-align: right;\n",
              "    }\n",
              "</style>\n",
              "<table border=\"1\" class=\"dataframe\">\n",
              "  <thead>\n",
              "    <tr style=\"text-align: right;\">\n",
              "      <th></th>\n",
              "      <th>Año</th>\n",
              "      <th>Mes</th>\n",
              "      <th>CCAA</th>\n",
              "      <th>Producto</th>\n",
              "      <th>Volumen (miles de kg)</th>\n",
              "      <th>Valor (miles de €)</th>\n",
              "      <th>Precio medio kg</th>\n",
              "      <th>Penetración (%)</th>\n",
              "      <th>Consumo per capita</th>\n",
              "      <th>Gasto per capita</th>\n",
              "      <th>Unnamed: 10</th>\n",
              "      <th>Unnamed: 11</th>\n",
              "    </tr>\n",
              "  </thead>\n",
              "  <tbody>\n",
              "    <tr>\n",
              "      <th>0</th>\n",
              "      <td>2018</td>\n",
              "      <td>Enero</td>\n",
              "      <td>Total Nacional</td>\n",
              "      <td>TOTAL PATATAS</td>\n",
              "      <td>108430.72</td>\n",
              "      <td>84640.08</td>\n",
              "      <td>0.78</td>\n",
              "      <td>79.40</td>\n",
              "      <td>2.38</td>\n",
              "      <td>1.85</td>\n",
              "      <td>NaN</td>\n",
              "      <td>NaN</td>\n",
              "    </tr>\n",
              "    <tr>\n",
              "      <th>1</th>\n",
              "      <td>2018</td>\n",
              "      <td>Enero</td>\n",
              "      <td>Total Nacional</td>\n",
              "      <td>PATATAS FRESCAS</td>\n",
              "      <td>79445.66</td>\n",
              "      <td>54688.29</td>\n",
              "      <td>0.69</td>\n",
              "      <td>68.46</td>\n",
              "      <td>1.74</td>\n",
              "      <td>1.20</td>\n",
              "      <td>NaN</td>\n",
              "      <td>NaN</td>\n",
              "    </tr>\n",
              "    <tr>\n",
              "      <th>2</th>\n",
              "      <td>2018</td>\n",
              "      <td>Enero</td>\n",
              "      <td>Total Nacional</td>\n",
              "      <td>PATATAS CONGELADAS</td>\n",
              "      <td>3999.90</td>\n",
              "      <td>4857.79</td>\n",
              "      <td>1.21</td>\n",
              "      <td>12.06</td>\n",
              "      <td>0.09</td>\n",
              "      <td>0.11</td>\n",
              "      <td>NaN</td>\n",
              "      <td>NaN</td>\n",
              "    </tr>\n",
              "    <tr>\n",
              "      <th>3</th>\n",
              "      <td>2018</td>\n",
              "      <td>Enero</td>\n",
              "      <td>Total Nacional</td>\n",
              "      <td>PATATAS PROCESADAS</td>\n",
              "      <td>4997.03</td>\n",
              "      <td>25094.00</td>\n",
              "      <td>5.02</td>\n",
              "      <td>45.94</td>\n",
              "      <td>0.11</td>\n",
              "      <td>0.55</td>\n",
              "      <td>NaN</td>\n",
              "      <td>NaN</td>\n",
              "    </tr>\n",
              "    <tr>\n",
              "      <th>4</th>\n",
              "      <td>2018</td>\n",
              "      <td>Enero</td>\n",
              "      <td>Total Nacional</td>\n",
              "      <td>T.HORTALIZAS FRESCAS</td>\n",
              "      <td>209957.24</td>\n",
              "      <td>376688.56</td>\n",
              "      <td>1.79</td>\n",
              "      <td>97.27</td>\n",
              "      <td>4.60</td>\n",
              "      <td>8.25</td>\n",
              "      <td>NaN</td>\n",
              "      <td>NaN</td>\n",
              "    </tr>\n",
              "  </tbody>\n",
              "</table>\n",
              "</div>"
            ],
            "text/plain": [
              "    Año    Mes            CCAA  ... Gasto per capita  Unnamed: 10  Unnamed: 11\n",
              "0  2018  Enero  Total Nacional  ...             1.85          NaN          NaN\n",
              "1  2018  Enero  Total Nacional  ...             1.20          NaN          NaN\n",
              "2  2018  Enero  Total Nacional  ...             0.11          NaN          NaN\n",
              "3  2018  Enero  Total Nacional  ...             0.55          NaN          NaN\n",
              "4  2018  Enero  Total Nacional  ...             8.25          NaN          NaN\n",
              "\n",
              "[5 rows x 12 columns]"
            ]
          },
          "metadata": {},
          "execution_count": 520
        }
      ]
    },
    {
      "cell_type": "code",
      "metadata": {
        "colab": {
          "base_uri": "https://localhost:8080/",
          "height": 244
        },
        "id": "0yArYiK38IiD",
        "outputId": "82fb5ec4-0684-40a8-e696-9d440d5e886b"
      },
      "source": [
        "import pandas\n",
        "\n",
        "precios_JAndalucia = pandas.read_csv('Dataset2.- Precios Semanales Observatorio de Precios Junta de Andalucia.txt', sep='|', decimal=',')\n",
        "precios_JAndalucia.head()"
      ],
      "execution_count": 521,
      "outputs": [
        {
          "output_type": "execute_result",
          "data": {
            "text/html": [
              "<div>\n",
              "<style scoped>\n",
              "    .dataframe tbody tr th:only-of-type {\n",
              "        vertical-align: middle;\n",
              "    }\n",
              "\n",
              "    .dataframe tbody tr th {\n",
              "        vertical-align: top;\n",
              "    }\n",
              "\n",
              "    .dataframe thead th {\n",
              "        text-align: right;\n",
              "    }\n",
              "</style>\n",
              "<table border=\"1\" class=\"dataframe\">\n",
              "  <thead>\n",
              "    <tr style=\"text-align: right;\">\n",
              "      <th></th>\n",
              "      <th>INICIO</th>\n",
              "      <th>FIN</th>\n",
              "      <th>GRUPO</th>\n",
              "      <th>SECTOR</th>\n",
              "      <th>SUBSECTOR</th>\n",
              "      <th>PRODUCTO</th>\n",
              "      <th>TIPO</th>\n",
              "      <th>SUBTIPO</th>\n",
              "      <th>POSICION</th>\n",
              "      <th>CATEGORIA</th>\n",
              "      <th>FORMATO</th>\n",
              "      <th>PRECIO</th>\n",
              "      <th>UNIDAD</th>\n",
              "    </tr>\n",
              "  </thead>\n",
              "  <tbody>\n",
              "    <tr>\n",
              "      <th>0</th>\n",
              "      <td>01/01/2018</td>\n",
              "      <td>07/01/2018</td>\n",
              "      <td>Agrícola</td>\n",
              "      <td>Frutales</td>\n",
              "      <td>Citricos</td>\n",
              "      <td>LIMON</td>\n",
              "      <td>NaN</td>\n",
              "      <td>NaN</td>\n",
              "      <td>Mercas</td>\n",
              "      <td>NaN</td>\n",
              "      <td>NaN</td>\n",
              "      <td>0.92</td>\n",
              "      <td>Euros/kg</td>\n",
              "    </tr>\n",
              "    <tr>\n",
              "      <th>1</th>\n",
              "      <td>01/01/2018</td>\n",
              "      <td>07/01/2018</td>\n",
              "      <td>Agrícola</td>\n",
              "      <td>Frutales</td>\n",
              "      <td>Citricos</td>\n",
              "      <td>MANDARINA</td>\n",
              "      <td>NaN</td>\n",
              "      <td>NaN</td>\n",
              "      <td>Mercas</td>\n",
              "      <td>NaN</td>\n",
              "      <td>NaN</td>\n",
              "      <td>0.84</td>\n",
              "      <td>Euros/kg</td>\n",
              "    </tr>\n",
              "    <tr>\n",
              "      <th>2</th>\n",
              "      <td>01/01/2018</td>\n",
              "      <td>07/01/2018</td>\n",
              "      <td>Agrícola</td>\n",
              "      <td>Frutales</td>\n",
              "      <td>Citricos</td>\n",
              "      <td>NARANJA</td>\n",
              "      <td>NaN</td>\n",
              "      <td>NaN</td>\n",
              "      <td>Mercas</td>\n",
              "      <td>NaN</td>\n",
              "      <td>NaN</td>\n",
              "      <td>0.78</td>\n",
              "      <td>Euros/kg</td>\n",
              "    </tr>\n",
              "    <tr>\n",
              "      <th>3</th>\n",
              "      <td>01/01/2018</td>\n",
              "      <td>07/01/2018</td>\n",
              "      <td>Agrícola</td>\n",
              "      <td>Frutales</td>\n",
              "      <td>Citricos</td>\n",
              "      <td>POMELO</td>\n",
              "      <td>NaN</td>\n",
              "      <td>NaN</td>\n",
              "      <td>Mercas</td>\n",
              "      <td>NaN</td>\n",
              "      <td>NaN</td>\n",
              "      <td>1.01</td>\n",
              "      <td>Euros/kg</td>\n",
              "    </tr>\n",
              "    <tr>\n",
              "      <th>4</th>\n",
              "      <td>01/01/2018</td>\n",
              "      <td>07/01/2018</td>\n",
              "      <td>Agrícola</td>\n",
              "      <td>Frutales</td>\n",
              "      <td>Frutales no cítricos</td>\n",
              "      <td>AGUACATE</td>\n",
              "      <td>NaN</td>\n",
              "      <td>NaN</td>\n",
              "      <td>Mercas</td>\n",
              "      <td>NaN</td>\n",
              "      <td>NaN</td>\n",
              "      <td>3.77</td>\n",
              "      <td>Euros/kg</td>\n",
              "    </tr>\n",
              "  </tbody>\n",
              "</table>\n",
              "</div>"
            ],
            "text/plain": [
              "       INICIO         FIN     GRUPO  ... FORMATO PRECIO    UNIDAD\n",
              "0  01/01/2018  07/01/2018  Agrícola  ...     NaN   0.92  Euros/kg\n",
              "1  01/01/2018  07/01/2018  Agrícola  ...     NaN   0.84  Euros/kg\n",
              "2  01/01/2018  07/01/2018  Agrícola  ...     NaN   0.78  Euros/kg\n",
              "3  01/01/2018  07/01/2018  Agrícola  ...     NaN   1.01  Euros/kg\n",
              "4  01/01/2018  07/01/2018  Agrícola  ...     NaN   3.77  Euros/kg\n",
              "\n",
              "[5 rows x 13 columns]"
            ]
          },
          "metadata": {},
          "execution_count": 521
        }
      ]
    },
    {
      "cell_type": "code",
      "metadata": {
        "colab": {
          "base_uri": "https://localhost:8080/",
          "height": 206
        },
        "id": "S1WciXLD8Il5",
        "outputId": "d9a7137b-9d3a-4504-c81e-daf54cbd844d"
      },
      "source": [
        "import pandas\n",
        "\n",
        "dat_mercaMadrid = pandas.read_csv('Dataset3a_Datos_MercaMadrid.txt', sep='|', decimal=',')\n",
        "dat_mercaMadrid.head()"
      ],
      "execution_count": 522,
      "outputs": [
        {
          "output_type": "execute_result",
          "data": {
            "text/html": [
              "<div>\n",
              "<style scoped>\n",
              "    .dataframe tbody tr th:only-of-type {\n",
              "        vertical-align: middle;\n",
              "    }\n",
              "\n",
              "    .dataframe tbody tr th {\n",
              "        vertical-align: top;\n",
              "    }\n",
              "\n",
              "    .dataframe thead th {\n",
              "        text-align: right;\n",
              "    }\n",
              "</style>\n",
              "<table border=\"1\" class=\"dataframe\">\n",
              "  <thead>\n",
              "    <tr style=\"text-align: right;\">\n",
              "      <th></th>\n",
              "      <th>product</th>\n",
              "      <th>variedad</th>\n",
              "      <th>origen</th>\n",
              "      <th>Unidad</th>\n",
              "      <th>familia</th>\n",
              "      <th>YEAR</th>\n",
              "      <th>MONTH</th>\n",
              "      <th>price_mean</th>\n",
              "      <th>price_min</th>\n",
              "      <th>price_max</th>\n",
              "      <th>Volumen</th>\n",
              "    </tr>\n",
              "  </thead>\n",
              "  <tbody>\n",
              "    <tr>\n",
              "      <th>0</th>\n",
              "      <td>ACEITUNAS</td>\n",
              "      <td>ACEITUNAS</td>\n",
              "      <td>ALMERIA</td>\n",
              "      <td>kg</td>\n",
              "      <td>FRUTAS</td>\n",
              "      <td>2018</td>\n",
              "      <td>2</td>\n",
              "      <td>3.46</td>\n",
              "      <td>3.31</td>\n",
              "      <td>3.61</td>\n",
              "      <td>6700</td>\n",
              "    </tr>\n",
              "    <tr>\n",
              "      <th>1</th>\n",
              "      <td>ACEITUNAS</td>\n",
              "      <td>ACEITUNAS</td>\n",
              "      <td>ALMERIA</td>\n",
              "      <td>kg</td>\n",
              "      <td>FRUTAS</td>\n",
              "      <td>2018</td>\n",
              "      <td>4</td>\n",
              "      <td>3.46</td>\n",
              "      <td>3.31</td>\n",
              "      <td>3.61</td>\n",
              "      <td>400</td>\n",
              "    </tr>\n",
              "    <tr>\n",
              "      <th>2</th>\n",
              "      <td>ACEITUNAS</td>\n",
              "      <td>ACEITUNAS</td>\n",
              "      <td>ALMERIA</td>\n",
              "      <td>kg</td>\n",
              "      <td>FRUTAS</td>\n",
              "      <td>2018</td>\n",
              "      <td>5</td>\n",
              "      <td>3.46</td>\n",
              "      <td>3.31</td>\n",
              "      <td>3.61</td>\n",
              "      <td>260</td>\n",
              "    </tr>\n",
              "    <tr>\n",
              "      <th>3</th>\n",
              "      <td>ACEITUNAS</td>\n",
              "      <td>ACEITUNAS</td>\n",
              "      <td>BADAJOZ</td>\n",
              "      <td>kg</td>\n",
              "      <td>FRUTAS</td>\n",
              "      <td>2018</td>\n",
              "      <td>4</td>\n",
              "      <td>3.46</td>\n",
              "      <td>3.31</td>\n",
              "      <td>3.61</td>\n",
              "      <td>24060</td>\n",
              "    </tr>\n",
              "    <tr>\n",
              "      <th>4</th>\n",
              "      <td>ACEITUNAS</td>\n",
              "      <td>ACEITUNAS</td>\n",
              "      <td>BARCELONA</td>\n",
              "      <td>kg</td>\n",
              "      <td>ULTRAMARINO</td>\n",
              "      <td>2019</td>\n",
              "      <td>2</td>\n",
              "      <td>0.00</td>\n",
              "      <td>0.00</td>\n",
              "      <td>0.00</td>\n",
              "      <td>1000</td>\n",
              "    </tr>\n",
              "  </tbody>\n",
              "</table>\n",
              "</div>"
            ],
            "text/plain": [
              "     product   variedad     origen  ... price_min price_max  Volumen\n",
              "0  ACEITUNAS  ACEITUNAS    ALMERIA  ...      3.31      3.61     6700\n",
              "1  ACEITUNAS  ACEITUNAS    ALMERIA  ...      3.31      3.61      400\n",
              "2  ACEITUNAS  ACEITUNAS    ALMERIA  ...      3.31      3.61      260\n",
              "3  ACEITUNAS  ACEITUNAS    BADAJOZ  ...      3.31      3.61    24060\n",
              "4  ACEITUNAS  ACEITUNAS  BARCELONA  ...      0.00      0.00     1000\n",
              "\n",
              "[5 rows x 11 columns]"
            ]
          },
          "metadata": {},
          "execution_count": 522
        }
      ]
    },
    {
      "cell_type": "code",
      "metadata": {
        "colab": {
          "base_uri": "https://localhost:8080/",
          "height": 206
        },
        "id": "cLc-XT9d8Ion",
        "outputId": "5606aec9-d757-4d42-e80d-3e00a90c27b0"
      },
      "source": [
        "import pandas\n",
        "\n",
        "dat_mercaBarna = pandas.read_csv('Dataset3b_Datos_MercaBarna.txt', sep='|', decimal=',')\n",
        "dat_mercaBarna.head()"
      ],
      "execution_count": 523,
      "outputs": [
        {
          "output_type": "execute_result",
          "data": {
            "text/html": [
              "<div>\n",
              "<style scoped>\n",
              "    .dataframe tbody tr th:only-of-type {\n",
              "        vertical-align: middle;\n",
              "    }\n",
              "\n",
              "    .dataframe tbody tr th {\n",
              "        vertical-align: top;\n",
              "    }\n",
              "\n",
              "    .dataframe thead th {\n",
              "        text-align: right;\n",
              "    }\n",
              "</style>\n",
              "<table border=\"1\" class=\"dataframe\">\n",
              "  <thead>\n",
              "    <tr style=\"text-align: right;\">\n",
              "      <th></th>\n",
              "      <th>product</th>\n",
              "      <th>origen</th>\n",
              "      <th>Unidad</th>\n",
              "      <th>familia</th>\n",
              "      <th>YEAR</th>\n",
              "      <th>MONTH</th>\n",
              "      <th>price_mean</th>\n",
              "      <th>Volumen</th>\n",
              "    </tr>\n",
              "  </thead>\n",
              "  <tbody>\n",
              "    <tr>\n",
              "      <th>0</th>\n",
              "      <td>ACEITUNAS</td>\n",
              "      <td>BARCELONA</td>\n",
              "      <td>kg</td>\n",
              "      <td>FRUTAS HUESO</td>\n",
              "      <td>2018</td>\n",
              "      <td>4</td>\n",
              "      <td>3.8</td>\n",
              "      <td>12</td>\n",
              "    </tr>\n",
              "    <tr>\n",
              "      <th>1</th>\n",
              "      <td>ACEITUNAS</td>\n",
              "      <td>BARCELONA</td>\n",
              "      <td>kg</td>\n",
              "      <td>FRUTAS HUESO</td>\n",
              "      <td>2018</td>\n",
              "      <td>5</td>\n",
              "      <td>3.8</td>\n",
              "      <td>5</td>\n",
              "    </tr>\n",
              "    <tr>\n",
              "      <th>2</th>\n",
              "      <td>ACEITUNAS</td>\n",
              "      <td>BARCELONA</td>\n",
              "      <td>kg</td>\n",
              "      <td>FRUTAS HUESO</td>\n",
              "      <td>2018</td>\n",
              "      <td>6</td>\n",
              "      <td>3.8</td>\n",
              "      <td>10</td>\n",
              "    </tr>\n",
              "    <tr>\n",
              "      <th>3</th>\n",
              "      <td>ACEITUNAS</td>\n",
              "      <td>BARCELONA</td>\n",
              "      <td>kg</td>\n",
              "      <td>FRUTAS HUESO</td>\n",
              "      <td>2018</td>\n",
              "      <td>7</td>\n",
              "      <td>3.8</td>\n",
              "      <td>4</td>\n",
              "    </tr>\n",
              "    <tr>\n",
              "      <th>4</th>\n",
              "      <td>ACEITUNAS</td>\n",
              "      <td>BARCELONA</td>\n",
              "      <td>kg</td>\n",
              "      <td>FRUTAS HUESO</td>\n",
              "      <td>2018</td>\n",
              "      <td>8</td>\n",
              "      <td>3.8</td>\n",
              "      <td>12</td>\n",
              "    </tr>\n",
              "  </tbody>\n",
              "</table>\n",
              "</div>"
            ],
            "text/plain": [
              "     product     origen Unidad       familia  YEAR  MONTH  price_mean  Volumen\n",
              "0  ACEITUNAS  BARCELONA     kg  FRUTAS HUESO  2018      4         3.8       12\n",
              "1  ACEITUNAS  BARCELONA     kg  FRUTAS HUESO  2018      5         3.8        5\n",
              "2  ACEITUNAS  BARCELONA     kg  FRUTAS HUESO  2018      6         3.8       10\n",
              "3  ACEITUNAS  BARCELONA     kg  FRUTAS HUESO  2018      7         3.8        4\n",
              "4  ACEITUNAS  BARCELONA     kg  FRUTAS HUESO  2018      8         3.8       12"
            ]
          },
          "metadata": {},
          "execution_count": 523
        }
      ]
    },
    {
      "cell_type": "code",
      "metadata": {
        "colab": {
          "base_uri": "https://localhost:8080/",
          "height": 348
        },
        "id": "P1yGDHUyM3K2",
        "outputId": "2dfaef8a-4570-4a81-974a-56865b3d22d9"
      },
      "source": [
        "import pandas\n",
        "\n",
        "aemet = pandas.read_csv('Aemet.csv', sep=',')\n",
        "aemet.head()"
      ],
      "execution_count": 524,
      "outputs": [
        {
          "output_type": "execute_result",
          "data": {
            "text/html": [
              "<div>\n",
              "<style scoped>\n",
              "    .dataframe tbody tr th:only-of-type {\n",
              "        vertical-align: middle;\n",
              "    }\n",
              "\n",
              "    .dataframe tbody tr th {\n",
              "        vertical-align: top;\n",
              "    }\n",
              "\n",
              "    .dataframe thead th {\n",
              "        text-align: right;\n",
              "    }\n",
              "</style>\n",
              "<table border=\"1\" class=\"dataframe\">\n",
              "  <thead>\n",
              "    <tr style=\"text-align: right;\">\n",
              "      <th></th>\n",
              "      <th>Unnamed: 0</th>\n",
              "      <th>Unnamed: 0.1</th>\n",
              "      <th>Estación</th>\n",
              "      <th>Provincia</th>\n",
              "      <th>Temperatura máxima (ºC)</th>\n",
              "      <th>Temperatura mínima (ºC)</th>\n",
              "      <th>Temperatura media (ºC)</th>\n",
              "      <th>Racha (km/h)</th>\n",
              "      <th>Velocidad máxima (km/h)</th>\n",
              "      <th>Precipitación 00-24h (mm)</th>\n",
              "      <th>Precipitación 00-06h (mm)</th>\n",
              "      <th>Precipitación 06-12h (mm)</th>\n",
              "      <th>Precipitación 12-18h (mm)</th>\n",
              "      <th>Precipitación 18-24h (mm)</th>\n",
              "      <th>Fecha</th>\n",
              "    </tr>\n",
              "  </thead>\n",
              "  <tbody>\n",
              "    <tr>\n",
              "      <th>0</th>\n",
              "      <td>0</td>\n",
              "      <td>0</td>\n",
              "      <td>Estaca de Bares</td>\n",
              "      <td>A Coruña</td>\n",
              "      <td>13.6 (15:50)</td>\n",
              "      <td>6.8 (04:30)</td>\n",
              "      <td>10.2</td>\n",
              "      <td>72 (00:10)</td>\n",
              "      <td>56 (11:10)</td>\n",
              "      <td>NaN</td>\n",
              "      <td>NaN</td>\n",
              "      <td>NaN</td>\n",
              "      <td>NaN</td>\n",
              "      <td>NaN</td>\n",
              "      <td>2018-03-07</td>\n",
              "    </tr>\n",
              "    <tr>\n",
              "      <th>1</th>\n",
              "      <td>1</td>\n",
              "      <td>1</td>\n",
              "      <td>As Pontes</td>\n",
              "      <td>A Coruña</td>\n",
              "      <td>11.0 (17:30)</td>\n",
              "      <td>3.0 (04:50)</td>\n",
              "      <td>7.0</td>\n",
              "      <td>NaN</td>\n",
              "      <td>NaN</td>\n",
              "      <td>1.8</td>\n",
              "      <td>1.4</td>\n",
              "      <td>0.4</td>\n",
              "      <td>0.0</td>\n",
              "      <td>0.0</td>\n",
              "      <td>2018-03-07</td>\n",
              "    </tr>\n",
              "    <tr>\n",
              "      <th>2</th>\n",
              "      <td>2</td>\n",
              "      <td>2</td>\n",
              "      <td>A Coruña</td>\n",
              "      <td>A Coruña</td>\n",
              "      <td>13.1 (15:10)</td>\n",
              "      <td>7.3 (07:00)</td>\n",
              "      <td>10.2</td>\n",
              "      <td>44 (00:30)</td>\n",
              "      <td>26 (00:30)</td>\n",
              "      <td>1.0</td>\n",
              "      <td>1.0</td>\n",
              "      <td>0.0</td>\n",
              "      <td>0.0</td>\n",
              "      <td>0.0</td>\n",
              "      <td>2018-03-07</td>\n",
              "    </tr>\n",
              "    <tr>\n",
              "      <th>3</th>\n",
              "      <td>3</td>\n",
              "      <td>3</td>\n",
              "      <td>A Coruña Aeropuerto</td>\n",
              "      <td>A Coruña</td>\n",
              "      <td>13.1 (14:30)</td>\n",
              "      <td>4.3 (05:50)</td>\n",
              "      <td>8.7</td>\n",
              "      <td>46 (12:40)</td>\n",
              "      <td>32 (16:00)</td>\n",
              "      <td>0.7</td>\n",
              "      <td>0.7</td>\n",
              "      <td>0.0</td>\n",
              "      <td>0.0</td>\n",
              "      <td>0.0</td>\n",
              "      <td>2018-03-07</td>\n",
              "    </tr>\n",
              "    <tr>\n",
              "      <th>4</th>\n",
              "      <td>4</td>\n",
              "      <td>4</td>\n",
              "      <td>Carballo, Depuradora</td>\n",
              "      <td>A Coruña</td>\n",
              "      <td>12.5 (14:50)</td>\n",
              "      <td>2.2 (02:50)</td>\n",
              "      <td>7.4</td>\n",
              "      <td>NaN</td>\n",
              "      <td>NaN</td>\n",
              "      <td>0.6</td>\n",
              "      <td>0.4</td>\n",
              "      <td>0.2</td>\n",
              "      <td>0.0</td>\n",
              "      <td>0.0</td>\n",
              "      <td>2018-03-07</td>\n",
              "    </tr>\n",
              "  </tbody>\n",
              "</table>\n",
              "</div>"
            ],
            "text/plain": [
              "   Unnamed: 0  Unnamed: 0.1  ... Precipitación 18-24h (mm)       Fecha\n",
              "0           0             0  ...                       NaN  2018-03-07\n",
              "1           1             1  ...                       0.0  2018-03-07\n",
              "2           2             2  ...                       0.0  2018-03-07\n",
              "3           3             3  ...                       0.0  2018-03-07\n",
              "4           4             4  ...                       0.0  2018-03-07\n",
              "\n",
              "[5 rows x 15 columns]"
            ]
          },
          "metadata": {},
          "execution_count": 524
        }
      ]
    },
    {
      "cell_type": "markdown",
      "metadata": {
        "id": "Qch30Rkk_GZ2"
      },
      "source": [
        "## 2. Selección de Características (y elementos?????)"
      ]
    },
    {
      "cell_type": "code",
      "metadata": {
        "colab": {
          "base_uri": "https://localhost:8080/",
          "height": 206
        },
        "id": "mRAZnqL1BgzI",
        "outputId": "a4c9643c-daf4-46a7-b9b6-19e2f3c49adf"
      },
      "source": [
        "calendario_siembra = calendario_siembra.drop(columns=calendario_siembra.columns[7:])\n",
        "calendario_siembra = calendario_siembra.drop(labels=['Familia', 'Aprovecha', 'Asociac', 'Rotaciones'], axis=1)\n",
        "calendario_siembra.head()\n",
        "# Fresa???????"
      ],
      "execution_count": 526,
      "outputs": [
        {
          "output_type": "execute_result",
          "data": {
            "text/html": [
              "<div>\n",
              "<style scoped>\n",
              "    .dataframe tbody tr th:only-of-type {\n",
              "        vertical-align: middle;\n",
              "    }\n",
              "\n",
              "    .dataframe tbody tr th {\n",
              "        vertical-align: top;\n",
              "    }\n",
              "\n",
              "    .dataframe thead th {\n",
              "        text-align: right;\n",
              "    }\n",
              "</style>\n",
              "<table border=\"1\" class=\"dataframe\">\n",
              "  <thead>\n",
              "    <tr style=\"text-align: right;\">\n",
              "      <th></th>\n",
              "      <th>Cultivo</th>\n",
              "      <th>Epoca siemb</th>\n",
              "      <th>D siem-recol</th>\n",
              "    </tr>\n",
              "  </thead>\n",
              "  <tbody>\n",
              "    <tr>\n",
              "      <th>0</th>\n",
              "      <td>ACELGA</td>\n",
              "      <td>Otoño-Primav</td>\n",
              "      <td>90</td>\n",
              "    </tr>\n",
              "    <tr>\n",
              "      <th>1</th>\n",
              "      <td>AJO</td>\n",
              "      <td>Otoño-Invierno</td>\n",
              "      <td>60-120</td>\n",
              "    </tr>\n",
              "    <tr>\n",
              "      <th>2</th>\n",
              "      <td>ALCACHOFA</td>\n",
              "      <td>Primav</td>\n",
              "      <td>90-120</td>\n",
              "    </tr>\n",
              "    <tr>\n",
              "      <th>3</th>\n",
              "      <td>APIO</td>\n",
              "      <td>Primav</td>\n",
              "      <td>100</td>\n",
              "    </tr>\n",
              "    <tr>\n",
              "      <th>4</th>\n",
              "      <td>BERENJENA</td>\n",
              "      <td>Primav</td>\n",
              "      <td>130</td>\n",
              "    </tr>\n",
              "  </tbody>\n",
              "</table>\n",
              "</div>"
            ],
            "text/plain": [
              "     Cultivo     Epoca siemb D siem-recol\n",
              "0     ACELGA    Otoño-Primav           90\n",
              "1        AJO  Otoño-Invierno       60-120\n",
              "2  ALCACHOFA          Primav       90-120\n",
              "3       APIO          Primav          100\n",
              "4  BERENJENA          Primav          130"
            ]
          },
          "metadata": {},
          "execution_count": 526
        }
      ]
    },
    {
      "cell_type": "code",
      "metadata": {
        "colab": {
          "base_uri": "https://localhost:8080/",
          "height": 554
        },
        "id": "5PFZl8UpCuSg",
        "outputId": "842d3760-e05c-463f-fc2f-6ac70fef24fb"
      },
      "source": [
        "consumo_CCAA = consumo_CCAA.drop(columns=consumo_CCAA.columns[10:12])\n",
        "consumo_CCAA.head(10)"
      ],
      "execution_count": 527,
      "outputs": [
        {
          "output_type": "execute_result",
          "data": {
            "text/html": [
              "<div>\n",
              "<style scoped>\n",
              "    .dataframe tbody tr th:only-of-type {\n",
              "        vertical-align: middle;\n",
              "    }\n",
              "\n",
              "    .dataframe tbody tr th {\n",
              "        vertical-align: top;\n",
              "    }\n",
              "\n",
              "    .dataframe thead th {\n",
              "        text-align: right;\n",
              "    }\n",
              "</style>\n",
              "<table border=\"1\" class=\"dataframe\">\n",
              "  <thead>\n",
              "    <tr style=\"text-align: right;\">\n",
              "      <th></th>\n",
              "      <th>Año</th>\n",
              "      <th>Mes</th>\n",
              "      <th>CCAA</th>\n",
              "      <th>Producto</th>\n",
              "      <th>Volumen (miles de kg)</th>\n",
              "      <th>Valor (miles de €)</th>\n",
              "      <th>Precio medio kg</th>\n",
              "      <th>Penetración (%)</th>\n",
              "      <th>Consumo per capita</th>\n",
              "      <th>Gasto per capita</th>\n",
              "    </tr>\n",
              "  </thead>\n",
              "  <tbody>\n",
              "    <tr>\n",
              "      <th>0</th>\n",
              "      <td>2018</td>\n",
              "      <td>Enero</td>\n",
              "      <td>Total Nacional</td>\n",
              "      <td>TOTAL PATATAS</td>\n",
              "      <td>108430.72</td>\n",
              "      <td>84640.08</td>\n",
              "      <td>0.78</td>\n",
              "      <td>79.40</td>\n",
              "      <td>2.38</td>\n",
              "      <td>1.85</td>\n",
              "    </tr>\n",
              "    <tr>\n",
              "      <th>1</th>\n",
              "      <td>2018</td>\n",
              "      <td>Enero</td>\n",
              "      <td>Total Nacional</td>\n",
              "      <td>PATATAS FRESCAS</td>\n",
              "      <td>79445.66</td>\n",
              "      <td>54688.29</td>\n",
              "      <td>0.69</td>\n",
              "      <td>68.46</td>\n",
              "      <td>1.74</td>\n",
              "      <td>1.20</td>\n",
              "    </tr>\n",
              "    <tr>\n",
              "      <th>2</th>\n",
              "      <td>2018</td>\n",
              "      <td>Enero</td>\n",
              "      <td>Total Nacional</td>\n",
              "      <td>PATATAS CONGELADAS</td>\n",
              "      <td>3999.90</td>\n",
              "      <td>4857.79</td>\n",
              "      <td>1.21</td>\n",
              "      <td>12.06</td>\n",
              "      <td>0.09</td>\n",
              "      <td>0.11</td>\n",
              "    </tr>\n",
              "    <tr>\n",
              "      <th>3</th>\n",
              "      <td>2018</td>\n",
              "      <td>Enero</td>\n",
              "      <td>Total Nacional</td>\n",
              "      <td>PATATAS PROCESADAS</td>\n",
              "      <td>4997.03</td>\n",
              "      <td>25094.00</td>\n",
              "      <td>5.02</td>\n",
              "      <td>45.94</td>\n",
              "      <td>0.11</td>\n",
              "      <td>0.55</td>\n",
              "    </tr>\n",
              "    <tr>\n",
              "      <th>4</th>\n",
              "      <td>2018</td>\n",
              "      <td>Enero</td>\n",
              "      <td>Total Nacional</td>\n",
              "      <td>T.HORTALIZAS FRESCAS</td>\n",
              "      <td>209957.24</td>\n",
              "      <td>376688.56</td>\n",
              "      <td>1.79</td>\n",
              "      <td>97.27</td>\n",
              "      <td>4.60</td>\n",
              "      <td>8.25</td>\n",
              "    </tr>\n",
              "    <tr>\n",
              "      <th>5</th>\n",
              "      <td>2018</td>\n",
              "      <td>Enero</td>\n",
              "      <td>Total Nacional</td>\n",
              "      <td>TOMATES</td>\n",
              "      <td>39934.35</td>\n",
              "      <td>67517.73</td>\n",
              "      <td>1.69</td>\n",
              "      <td>77.90</td>\n",
              "      <td>0.88</td>\n",
              "      <td>1.48</td>\n",
              "    </tr>\n",
              "    <tr>\n",
              "      <th>6</th>\n",
              "      <td>2018</td>\n",
              "      <td>Enero</td>\n",
              "      <td>Total Nacional</td>\n",
              "      <td>CEBOLLAS</td>\n",
              "      <td>25922.07</td>\n",
              "      <td>26254.86</td>\n",
              "      <td>1.01</td>\n",
              "      <td>69.76</td>\n",
              "      <td>0.57</td>\n",
              "      <td>0.58</td>\n",
              "    </tr>\n",
              "    <tr>\n",
              "      <th>7</th>\n",
              "      <td>2018</td>\n",
              "      <td>Enero</td>\n",
              "      <td>Total Nacional</td>\n",
              "      <td>AJOS</td>\n",
              "      <td>2572.64</td>\n",
              "      <td>10736.54</td>\n",
              "      <td>4.17</td>\n",
              "      <td>34.75</td>\n",
              "      <td>0.06</td>\n",
              "      <td>0.24</td>\n",
              "    </tr>\n",
              "    <tr>\n",
              "      <th>8</th>\n",
              "      <td>2018</td>\n",
              "      <td>Enero</td>\n",
              "      <td>Total Nacional</td>\n",
              "      <td>COLES</td>\n",
              "      <td>7041.12</td>\n",
              "      <td>7624.86</td>\n",
              "      <td>1.08</td>\n",
              "      <td>23.93</td>\n",
              "      <td>0.15</td>\n",
              "      <td>0.17</td>\n",
              "    </tr>\n",
              "    <tr>\n",
              "      <th>9</th>\n",
              "      <td>2018</td>\n",
              "      <td>Enero</td>\n",
              "      <td>Total Nacional</td>\n",
              "      <td>PEPINOS</td>\n",
              "      <td>4143.06</td>\n",
              "      <td>6335.35</td>\n",
              "      <td>1.53</td>\n",
              "      <td>22.20</td>\n",
              "      <td>0.09</td>\n",
              "      <td>0.14</td>\n",
              "    </tr>\n",
              "  </tbody>\n",
              "</table>\n",
              "</div>"
            ],
            "text/plain": [
              "    Año    Mes  ... Consumo per capita Gasto per capita\n",
              "0  2018  Enero  ...               2.38             1.85\n",
              "1  2018  Enero  ...               1.74             1.20\n",
              "2  2018  Enero  ...               0.09             0.11\n",
              "3  2018  Enero  ...               0.11             0.55\n",
              "4  2018  Enero  ...               4.60             8.25\n",
              "5  2018  Enero  ...               0.88             1.48\n",
              "6  2018  Enero  ...               0.57             0.58\n",
              "7  2018  Enero  ...               0.06             0.24\n",
              "8  2018  Enero  ...               0.15             0.17\n",
              "9  2018  Enero  ...               0.09             0.14\n",
              "\n",
              "[10 rows x 10 columns]"
            ]
          },
          "metadata": {},
          "execution_count": 527
        }
      ]
    },
    {
      "cell_type": "code",
      "metadata": {
        "colab": {
          "base_uri": "https://localhost:8080/",
          "height": 206
        },
        "id": "pFHRSAveEXMS",
        "outputId": "6f970788-0b94-4d72-9b52-d027bd812dd6"
      },
      "source": [
        "precios_JAndalucia['CATEGORIA'].unique()\n",
        "precios_JAndalucia = precios_JAndalucia.drop(labels=['CATEGORIA'], axis=1)\n",
        "precios_JAndalucia.head()"
      ],
      "execution_count": 528,
      "outputs": [
        {
          "output_type": "execute_result",
          "data": {
            "text/html": [
              "<div>\n",
              "<style scoped>\n",
              "    .dataframe tbody tr th:only-of-type {\n",
              "        vertical-align: middle;\n",
              "    }\n",
              "\n",
              "    .dataframe tbody tr th {\n",
              "        vertical-align: top;\n",
              "    }\n",
              "\n",
              "    .dataframe thead th {\n",
              "        text-align: right;\n",
              "    }\n",
              "</style>\n",
              "<table border=\"1\" class=\"dataframe\">\n",
              "  <thead>\n",
              "    <tr style=\"text-align: right;\">\n",
              "      <th></th>\n",
              "      <th>INICIO</th>\n",
              "      <th>FIN</th>\n",
              "      <th>GRUPO</th>\n",
              "      <th>SECTOR</th>\n",
              "      <th>SUBSECTOR</th>\n",
              "      <th>PRODUCTO</th>\n",
              "      <th>TIPO</th>\n",
              "      <th>SUBTIPO</th>\n",
              "      <th>POSICION</th>\n",
              "      <th>FORMATO</th>\n",
              "      <th>PRECIO</th>\n",
              "      <th>UNIDAD</th>\n",
              "    </tr>\n",
              "  </thead>\n",
              "  <tbody>\n",
              "    <tr>\n",
              "      <th>0</th>\n",
              "      <td>01/01/2018</td>\n",
              "      <td>07/01/2018</td>\n",
              "      <td>Agrícola</td>\n",
              "      <td>Frutales</td>\n",
              "      <td>Citricos</td>\n",
              "      <td>LIMON</td>\n",
              "      <td>NaN</td>\n",
              "      <td>NaN</td>\n",
              "      <td>Mercas</td>\n",
              "      <td>NaN</td>\n",
              "      <td>0.92</td>\n",
              "      <td>Euros/kg</td>\n",
              "    </tr>\n",
              "    <tr>\n",
              "      <th>1</th>\n",
              "      <td>01/01/2018</td>\n",
              "      <td>07/01/2018</td>\n",
              "      <td>Agrícola</td>\n",
              "      <td>Frutales</td>\n",
              "      <td>Citricos</td>\n",
              "      <td>MANDARINA</td>\n",
              "      <td>NaN</td>\n",
              "      <td>NaN</td>\n",
              "      <td>Mercas</td>\n",
              "      <td>NaN</td>\n",
              "      <td>0.84</td>\n",
              "      <td>Euros/kg</td>\n",
              "    </tr>\n",
              "    <tr>\n",
              "      <th>2</th>\n",
              "      <td>01/01/2018</td>\n",
              "      <td>07/01/2018</td>\n",
              "      <td>Agrícola</td>\n",
              "      <td>Frutales</td>\n",
              "      <td>Citricos</td>\n",
              "      <td>NARANJA</td>\n",
              "      <td>NaN</td>\n",
              "      <td>NaN</td>\n",
              "      <td>Mercas</td>\n",
              "      <td>NaN</td>\n",
              "      <td>0.78</td>\n",
              "      <td>Euros/kg</td>\n",
              "    </tr>\n",
              "    <tr>\n",
              "      <th>3</th>\n",
              "      <td>01/01/2018</td>\n",
              "      <td>07/01/2018</td>\n",
              "      <td>Agrícola</td>\n",
              "      <td>Frutales</td>\n",
              "      <td>Citricos</td>\n",
              "      <td>POMELO</td>\n",
              "      <td>NaN</td>\n",
              "      <td>NaN</td>\n",
              "      <td>Mercas</td>\n",
              "      <td>NaN</td>\n",
              "      <td>1.01</td>\n",
              "      <td>Euros/kg</td>\n",
              "    </tr>\n",
              "    <tr>\n",
              "      <th>4</th>\n",
              "      <td>01/01/2018</td>\n",
              "      <td>07/01/2018</td>\n",
              "      <td>Agrícola</td>\n",
              "      <td>Frutales</td>\n",
              "      <td>Frutales no cítricos</td>\n",
              "      <td>AGUACATE</td>\n",
              "      <td>NaN</td>\n",
              "      <td>NaN</td>\n",
              "      <td>Mercas</td>\n",
              "      <td>NaN</td>\n",
              "      <td>3.77</td>\n",
              "      <td>Euros/kg</td>\n",
              "    </tr>\n",
              "  </tbody>\n",
              "</table>\n",
              "</div>"
            ],
            "text/plain": [
              "       INICIO         FIN     GRUPO  ... FORMATO PRECIO    UNIDAD\n",
              "0  01/01/2018  07/01/2018  Agrícola  ...     NaN   0.92  Euros/kg\n",
              "1  01/01/2018  07/01/2018  Agrícola  ...     NaN   0.84  Euros/kg\n",
              "2  01/01/2018  07/01/2018  Agrícola  ...     NaN   0.78  Euros/kg\n",
              "3  01/01/2018  07/01/2018  Agrícola  ...     NaN   1.01  Euros/kg\n",
              "4  01/01/2018  07/01/2018  Agrícola  ...     NaN   3.77  Euros/kg\n",
              "\n",
              "[5 rows x 12 columns]"
            ]
          },
          "metadata": {},
          "execution_count": 528
        }
      ]
    },
    {
      "cell_type": "code",
      "metadata": {
        "colab": {
          "base_uri": "https://localhost:8080/",
          "height": 206
        },
        "id": "zWdw6Eo1F63u",
        "outputId": "71ba637d-2cfb-496b-dc62-6f3360b627a8"
      },
      "source": [
        "precios_JAndalucia = precios_JAndalucia.drop(labels=['UNIDAD', 'SUBSECTOR', 'TIPO', 'SUBTIPO', 'FORMATO', 'GRUPO', 'SECTOR'], axis=1)\n",
        "precios_JAndalucia.head()"
      ],
      "execution_count": 529,
      "outputs": [
        {
          "output_type": "execute_result",
          "data": {
            "text/html": [
              "<div>\n",
              "<style scoped>\n",
              "    .dataframe tbody tr th:only-of-type {\n",
              "        vertical-align: middle;\n",
              "    }\n",
              "\n",
              "    .dataframe tbody tr th {\n",
              "        vertical-align: top;\n",
              "    }\n",
              "\n",
              "    .dataframe thead th {\n",
              "        text-align: right;\n",
              "    }\n",
              "</style>\n",
              "<table border=\"1\" class=\"dataframe\">\n",
              "  <thead>\n",
              "    <tr style=\"text-align: right;\">\n",
              "      <th></th>\n",
              "      <th>INICIO</th>\n",
              "      <th>FIN</th>\n",
              "      <th>PRODUCTO</th>\n",
              "      <th>POSICION</th>\n",
              "      <th>PRECIO</th>\n",
              "    </tr>\n",
              "  </thead>\n",
              "  <tbody>\n",
              "    <tr>\n",
              "      <th>0</th>\n",
              "      <td>01/01/2018</td>\n",
              "      <td>07/01/2018</td>\n",
              "      <td>LIMON</td>\n",
              "      <td>Mercas</td>\n",
              "      <td>0.92</td>\n",
              "    </tr>\n",
              "    <tr>\n",
              "      <th>1</th>\n",
              "      <td>01/01/2018</td>\n",
              "      <td>07/01/2018</td>\n",
              "      <td>MANDARINA</td>\n",
              "      <td>Mercas</td>\n",
              "      <td>0.84</td>\n",
              "    </tr>\n",
              "    <tr>\n",
              "      <th>2</th>\n",
              "      <td>01/01/2018</td>\n",
              "      <td>07/01/2018</td>\n",
              "      <td>NARANJA</td>\n",
              "      <td>Mercas</td>\n",
              "      <td>0.78</td>\n",
              "    </tr>\n",
              "    <tr>\n",
              "      <th>3</th>\n",
              "      <td>01/01/2018</td>\n",
              "      <td>07/01/2018</td>\n",
              "      <td>POMELO</td>\n",
              "      <td>Mercas</td>\n",
              "      <td>1.01</td>\n",
              "    </tr>\n",
              "    <tr>\n",
              "      <th>4</th>\n",
              "      <td>01/01/2018</td>\n",
              "      <td>07/01/2018</td>\n",
              "      <td>AGUACATE</td>\n",
              "      <td>Mercas</td>\n",
              "      <td>3.77</td>\n",
              "    </tr>\n",
              "  </tbody>\n",
              "</table>\n",
              "</div>"
            ],
            "text/plain": [
              "       INICIO         FIN   PRODUCTO POSICION  PRECIO\n",
              "0  01/01/2018  07/01/2018      LIMON   Mercas    0.92\n",
              "1  01/01/2018  07/01/2018  MANDARINA   Mercas    0.84\n",
              "2  01/01/2018  07/01/2018    NARANJA   Mercas    0.78\n",
              "3  01/01/2018  07/01/2018     POMELO   Mercas    1.01\n",
              "4  01/01/2018  07/01/2018   AGUACATE   Mercas    3.77"
            ]
          },
          "metadata": {},
          "execution_count": 529
        }
      ]
    },
    {
      "cell_type": "code",
      "metadata": {
        "colab": {
          "base_uri": "https://localhost:8080/",
          "height": 206
        },
        "id": "CjlFnA2mIdmD",
        "outputId": "3f12f9e4-8298-4b68-df11-d1c5d8510fa6"
      },
      "source": [
        "dat_mercaMadrid = dat_mercaMadrid.drop(labels=['Unidad', 'variedad', 'familia'], axis=1)\n",
        "dat_mercaMadrid.head()"
      ],
      "execution_count": 530,
      "outputs": [
        {
          "output_type": "execute_result",
          "data": {
            "text/html": [
              "<div>\n",
              "<style scoped>\n",
              "    .dataframe tbody tr th:only-of-type {\n",
              "        vertical-align: middle;\n",
              "    }\n",
              "\n",
              "    .dataframe tbody tr th {\n",
              "        vertical-align: top;\n",
              "    }\n",
              "\n",
              "    .dataframe thead th {\n",
              "        text-align: right;\n",
              "    }\n",
              "</style>\n",
              "<table border=\"1\" class=\"dataframe\">\n",
              "  <thead>\n",
              "    <tr style=\"text-align: right;\">\n",
              "      <th></th>\n",
              "      <th>product</th>\n",
              "      <th>origen</th>\n",
              "      <th>YEAR</th>\n",
              "      <th>MONTH</th>\n",
              "      <th>price_mean</th>\n",
              "      <th>price_min</th>\n",
              "      <th>price_max</th>\n",
              "      <th>Volumen</th>\n",
              "    </tr>\n",
              "  </thead>\n",
              "  <tbody>\n",
              "    <tr>\n",
              "      <th>0</th>\n",
              "      <td>ACEITUNAS</td>\n",
              "      <td>ALMERIA</td>\n",
              "      <td>2018</td>\n",
              "      <td>2</td>\n",
              "      <td>3.46</td>\n",
              "      <td>3.31</td>\n",
              "      <td>3.61</td>\n",
              "      <td>6700</td>\n",
              "    </tr>\n",
              "    <tr>\n",
              "      <th>1</th>\n",
              "      <td>ACEITUNAS</td>\n",
              "      <td>ALMERIA</td>\n",
              "      <td>2018</td>\n",
              "      <td>4</td>\n",
              "      <td>3.46</td>\n",
              "      <td>3.31</td>\n",
              "      <td>3.61</td>\n",
              "      <td>400</td>\n",
              "    </tr>\n",
              "    <tr>\n",
              "      <th>2</th>\n",
              "      <td>ACEITUNAS</td>\n",
              "      <td>ALMERIA</td>\n",
              "      <td>2018</td>\n",
              "      <td>5</td>\n",
              "      <td>3.46</td>\n",
              "      <td>3.31</td>\n",
              "      <td>3.61</td>\n",
              "      <td>260</td>\n",
              "    </tr>\n",
              "    <tr>\n",
              "      <th>3</th>\n",
              "      <td>ACEITUNAS</td>\n",
              "      <td>BADAJOZ</td>\n",
              "      <td>2018</td>\n",
              "      <td>4</td>\n",
              "      <td>3.46</td>\n",
              "      <td>3.31</td>\n",
              "      <td>3.61</td>\n",
              "      <td>24060</td>\n",
              "    </tr>\n",
              "    <tr>\n",
              "      <th>4</th>\n",
              "      <td>ACEITUNAS</td>\n",
              "      <td>BARCELONA</td>\n",
              "      <td>2019</td>\n",
              "      <td>2</td>\n",
              "      <td>0.00</td>\n",
              "      <td>0.00</td>\n",
              "      <td>0.00</td>\n",
              "      <td>1000</td>\n",
              "    </tr>\n",
              "  </tbody>\n",
              "</table>\n",
              "</div>"
            ],
            "text/plain": [
              "     product     origen  YEAR  MONTH  price_mean  price_min  price_max  Volumen\n",
              "0  ACEITUNAS    ALMERIA  2018      2        3.46       3.31       3.61     6700\n",
              "1  ACEITUNAS    ALMERIA  2018      4        3.46       3.31       3.61      400\n",
              "2  ACEITUNAS    ALMERIA  2018      5        3.46       3.31       3.61      260\n",
              "3  ACEITUNAS    BADAJOZ  2018      4        3.46       3.31       3.61    24060\n",
              "4  ACEITUNAS  BARCELONA  2019      2        0.00       0.00       0.00     1000"
            ]
          },
          "metadata": {},
          "execution_count": 530
        }
      ]
    },
    {
      "cell_type": "code",
      "metadata": {
        "colab": {
          "base_uri": "https://localhost:8080/",
          "height": 206
        },
        "id": "BfWWYxbZLW0f",
        "outputId": "5b80fc7c-f2b4-444c-fa2c-4e6ff922324b"
      },
      "source": [
        "dat_mercaBarna = dat_mercaBarna.drop(labels=['Unidad', 'familia'], axis=1)\n",
        "dat_mercaBarna.head()"
      ],
      "execution_count": 531,
      "outputs": [
        {
          "output_type": "execute_result",
          "data": {
            "text/html": [
              "<div>\n",
              "<style scoped>\n",
              "    .dataframe tbody tr th:only-of-type {\n",
              "        vertical-align: middle;\n",
              "    }\n",
              "\n",
              "    .dataframe tbody tr th {\n",
              "        vertical-align: top;\n",
              "    }\n",
              "\n",
              "    .dataframe thead th {\n",
              "        text-align: right;\n",
              "    }\n",
              "</style>\n",
              "<table border=\"1\" class=\"dataframe\">\n",
              "  <thead>\n",
              "    <tr style=\"text-align: right;\">\n",
              "      <th></th>\n",
              "      <th>product</th>\n",
              "      <th>origen</th>\n",
              "      <th>YEAR</th>\n",
              "      <th>MONTH</th>\n",
              "      <th>price_mean</th>\n",
              "      <th>Volumen</th>\n",
              "    </tr>\n",
              "  </thead>\n",
              "  <tbody>\n",
              "    <tr>\n",
              "      <th>0</th>\n",
              "      <td>ACEITUNAS</td>\n",
              "      <td>BARCELONA</td>\n",
              "      <td>2018</td>\n",
              "      <td>4</td>\n",
              "      <td>3.8</td>\n",
              "      <td>12</td>\n",
              "    </tr>\n",
              "    <tr>\n",
              "      <th>1</th>\n",
              "      <td>ACEITUNAS</td>\n",
              "      <td>BARCELONA</td>\n",
              "      <td>2018</td>\n",
              "      <td>5</td>\n",
              "      <td>3.8</td>\n",
              "      <td>5</td>\n",
              "    </tr>\n",
              "    <tr>\n",
              "      <th>2</th>\n",
              "      <td>ACEITUNAS</td>\n",
              "      <td>BARCELONA</td>\n",
              "      <td>2018</td>\n",
              "      <td>6</td>\n",
              "      <td>3.8</td>\n",
              "      <td>10</td>\n",
              "    </tr>\n",
              "    <tr>\n",
              "      <th>3</th>\n",
              "      <td>ACEITUNAS</td>\n",
              "      <td>BARCELONA</td>\n",
              "      <td>2018</td>\n",
              "      <td>7</td>\n",
              "      <td>3.8</td>\n",
              "      <td>4</td>\n",
              "    </tr>\n",
              "    <tr>\n",
              "      <th>4</th>\n",
              "      <td>ACEITUNAS</td>\n",
              "      <td>BARCELONA</td>\n",
              "      <td>2018</td>\n",
              "      <td>8</td>\n",
              "      <td>3.8</td>\n",
              "      <td>12</td>\n",
              "    </tr>\n",
              "  </tbody>\n",
              "</table>\n",
              "</div>"
            ],
            "text/plain": [
              "     product     origen  YEAR  MONTH  price_mean  Volumen\n",
              "0  ACEITUNAS  BARCELONA  2018      4         3.8       12\n",
              "1  ACEITUNAS  BARCELONA  2018      5         3.8        5\n",
              "2  ACEITUNAS  BARCELONA  2018      6         3.8       10\n",
              "3  ACEITUNAS  BARCELONA  2018      7         3.8        4\n",
              "4  ACEITUNAS  BARCELONA  2018      8         3.8       12"
            ]
          },
          "metadata": {},
          "execution_count": 531
        }
      ]
    },
    {
      "cell_type": "code",
      "metadata": {
        "colab": {
          "base_uri": "https://localhost:8080/",
          "height": 348
        },
        "id": "5nJhbwviLvC_",
        "outputId": "44c15cde-1ec7-4b29-d312-f089fc334af1"
      },
      "source": [
        "# Las dos primeras columnas son el identificador, y el subidentificador dentro de cada día. Eliminenlos perros\n",
        "aemet = aemet.drop(columns=aemet.columns[:2])\n",
        "aemet.head()"
      ],
      "execution_count": 532,
      "outputs": [
        {
          "output_type": "execute_result",
          "data": {
            "text/html": [
              "<div>\n",
              "<style scoped>\n",
              "    .dataframe tbody tr th:only-of-type {\n",
              "        vertical-align: middle;\n",
              "    }\n",
              "\n",
              "    .dataframe tbody tr th {\n",
              "        vertical-align: top;\n",
              "    }\n",
              "\n",
              "    .dataframe thead th {\n",
              "        text-align: right;\n",
              "    }\n",
              "</style>\n",
              "<table border=\"1\" class=\"dataframe\">\n",
              "  <thead>\n",
              "    <tr style=\"text-align: right;\">\n",
              "      <th></th>\n",
              "      <th>Estación</th>\n",
              "      <th>Provincia</th>\n",
              "      <th>Temperatura máxima (ºC)</th>\n",
              "      <th>Temperatura mínima (ºC)</th>\n",
              "      <th>Temperatura media (ºC)</th>\n",
              "      <th>Racha (km/h)</th>\n",
              "      <th>Velocidad máxima (km/h)</th>\n",
              "      <th>Precipitación 00-24h (mm)</th>\n",
              "      <th>Precipitación 00-06h (mm)</th>\n",
              "      <th>Precipitación 06-12h (mm)</th>\n",
              "      <th>Precipitación 12-18h (mm)</th>\n",
              "      <th>Precipitación 18-24h (mm)</th>\n",
              "      <th>Fecha</th>\n",
              "    </tr>\n",
              "  </thead>\n",
              "  <tbody>\n",
              "    <tr>\n",
              "      <th>0</th>\n",
              "      <td>Estaca de Bares</td>\n",
              "      <td>A Coruña</td>\n",
              "      <td>13.6 (15:50)</td>\n",
              "      <td>6.8 (04:30)</td>\n",
              "      <td>10.2</td>\n",
              "      <td>72 (00:10)</td>\n",
              "      <td>56 (11:10)</td>\n",
              "      <td>NaN</td>\n",
              "      <td>NaN</td>\n",
              "      <td>NaN</td>\n",
              "      <td>NaN</td>\n",
              "      <td>NaN</td>\n",
              "      <td>2018-03-07</td>\n",
              "    </tr>\n",
              "    <tr>\n",
              "      <th>1</th>\n",
              "      <td>As Pontes</td>\n",
              "      <td>A Coruña</td>\n",
              "      <td>11.0 (17:30)</td>\n",
              "      <td>3.0 (04:50)</td>\n",
              "      <td>7.0</td>\n",
              "      <td>NaN</td>\n",
              "      <td>NaN</td>\n",
              "      <td>1.8</td>\n",
              "      <td>1.4</td>\n",
              "      <td>0.4</td>\n",
              "      <td>0.0</td>\n",
              "      <td>0.0</td>\n",
              "      <td>2018-03-07</td>\n",
              "    </tr>\n",
              "    <tr>\n",
              "      <th>2</th>\n",
              "      <td>A Coruña</td>\n",
              "      <td>A Coruña</td>\n",
              "      <td>13.1 (15:10)</td>\n",
              "      <td>7.3 (07:00)</td>\n",
              "      <td>10.2</td>\n",
              "      <td>44 (00:30)</td>\n",
              "      <td>26 (00:30)</td>\n",
              "      <td>1.0</td>\n",
              "      <td>1.0</td>\n",
              "      <td>0.0</td>\n",
              "      <td>0.0</td>\n",
              "      <td>0.0</td>\n",
              "      <td>2018-03-07</td>\n",
              "    </tr>\n",
              "    <tr>\n",
              "      <th>3</th>\n",
              "      <td>A Coruña Aeropuerto</td>\n",
              "      <td>A Coruña</td>\n",
              "      <td>13.1 (14:30)</td>\n",
              "      <td>4.3 (05:50)</td>\n",
              "      <td>8.7</td>\n",
              "      <td>46 (12:40)</td>\n",
              "      <td>32 (16:00)</td>\n",
              "      <td>0.7</td>\n",
              "      <td>0.7</td>\n",
              "      <td>0.0</td>\n",
              "      <td>0.0</td>\n",
              "      <td>0.0</td>\n",
              "      <td>2018-03-07</td>\n",
              "    </tr>\n",
              "    <tr>\n",
              "      <th>4</th>\n",
              "      <td>Carballo, Depuradora</td>\n",
              "      <td>A Coruña</td>\n",
              "      <td>12.5 (14:50)</td>\n",
              "      <td>2.2 (02:50)</td>\n",
              "      <td>7.4</td>\n",
              "      <td>NaN</td>\n",
              "      <td>NaN</td>\n",
              "      <td>0.6</td>\n",
              "      <td>0.4</td>\n",
              "      <td>0.2</td>\n",
              "      <td>0.0</td>\n",
              "      <td>0.0</td>\n",
              "      <td>2018-03-07</td>\n",
              "    </tr>\n",
              "  </tbody>\n",
              "</table>\n",
              "</div>"
            ],
            "text/plain": [
              "               Estación Provincia  ... Precipitación 18-24h (mm)       Fecha\n",
              "0       Estaca de Bares  A Coruña  ...                       NaN  2018-03-07\n",
              "1             As Pontes  A Coruña  ...                       0.0  2018-03-07\n",
              "2              A Coruña  A Coruña  ...                       0.0  2018-03-07\n",
              "3   A Coruña Aeropuerto  A Coruña  ...                       0.0  2018-03-07\n",
              "4  Carballo, Depuradora  A Coruña  ...                       0.0  2018-03-07\n",
              "\n",
              "[5 rows x 13 columns]"
            ]
          },
          "metadata": {},
          "execution_count": 532
        }
      ]
    },
    {
      "cell_type": "code",
      "metadata": {
        "colab": {
          "base_uri": "https://localhost:8080/",
          "height": 310
        },
        "id": "E01lVT_iN3Ao",
        "outputId": "caa63f64-dc4d-43ff-e1a6-86bd8afdd5c7"
      },
      "source": [
        "aemet = aemet.drop(labels=['Estación', 'Temperatura máxima (ºC)', 'Temperatura mínima (ºC)', 'Racha (km/h)', 'Velocidad máxima (km/h)'], axis=1)\n",
        "aemet.head()"
      ],
      "execution_count": 533,
      "outputs": [
        {
          "output_type": "execute_result",
          "data": {
            "text/html": [
              "<div>\n",
              "<style scoped>\n",
              "    .dataframe tbody tr th:only-of-type {\n",
              "        vertical-align: middle;\n",
              "    }\n",
              "\n",
              "    .dataframe tbody tr th {\n",
              "        vertical-align: top;\n",
              "    }\n",
              "\n",
              "    .dataframe thead th {\n",
              "        text-align: right;\n",
              "    }\n",
              "</style>\n",
              "<table border=\"1\" class=\"dataframe\">\n",
              "  <thead>\n",
              "    <tr style=\"text-align: right;\">\n",
              "      <th></th>\n",
              "      <th>Provincia</th>\n",
              "      <th>Temperatura media (ºC)</th>\n",
              "      <th>Precipitación 00-24h (mm)</th>\n",
              "      <th>Precipitación 00-06h (mm)</th>\n",
              "      <th>Precipitación 06-12h (mm)</th>\n",
              "      <th>Precipitación 12-18h (mm)</th>\n",
              "      <th>Precipitación 18-24h (mm)</th>\n",
              "      <th>Fecha</th>\n",
              "    </tr>\n",
              "  </thead>\n",
              "  <tbody>\n",
              "    <tr>\n",
              "      <th>0</th>\n",
              "      <td>A Coruña</td>\n",
              "      <td>10.2</td>\n",
              "      <td>NaN</td>\n",
              "      <td>NaN</td>\n",
              "      <td>NaN</td>\n",
              "      <td>NaN</td>\n",
              "      <td>NaN</td>\n",
              "      <td>2018-03-07</td>\n",
              "    </tr>\n",
              "    <tr>\n",
              "      <th>1</th>\n",
              "      <td>A Coruña</td>\n",
              "      <td>7.0</td>\n",
              "      <td>1.8</td>\n",
              "      <td>1.4</td>\n",
              "      <td>0.4</td>\n",
              "      <td>0.0</td>\n",
              "      <td>0.0</td>\n",
              "      <td>2018-03-07</td>\n",
              "    </tr>\n",
              "    <tr>\n",
              "      <th>2</th>\n",
              "      <td>A Coruña</td>\n",
              "      <td>10.2</td>\n",
              "      <td>1.0</td>\n",
              "      <td>1.0</td>\n",
              "      <td>0.0</td>\n",
              "      <td>0.0</td>\n",
              "      <td>0.0</td>\n",
              "      <td>2018-03-07</td>\n",
              "    </tr>\n",
              "    <tr>\n",
              "      <th>3</th>\n",
              "      <td>A Coruña</td>\n",
              "      <td>8.7</td>\n",
              "      <td>0.7</td>\n",
              "      <td>0.7</td>\n",
              "      <td>0.0</td>\n",
              "      <td>0.0</td>\n",
              "      <td>0.0</td>\n",
              "      <td>2018-03-07</td>\n",
              "    </tr>\n",
              "    <tr>\n",
              "      <th>4</th>\n",
              "      <td>A Coruña</td>\n",
              "      <td>7.4</td>\n",
              "      <td>0.6</td>\n",
              "      <td>0.4</td>\n",
              "      <td>0.2</td>\n",
              "      <td>0.0</td>\n",
              "      <td>0.0</td>\n",
              "      <td>2018-03-07</td>\n",
              "    </tr>\n",
              "  </tbody>\n",
              "</table>\n",
              "</div>"
            ],
            "text/plain": [
              "  Provincia  Temperatura media (ºC)  ...  Precipitación 18-24h (mm)       Fecha\n",
              "0  A Coruña                    10.2  ...                        NaN  2018-03-07\n",
              "1  A Coruña                     7.0  ...                        0.0  2018-03-07\n",
              "2  A Coruña                    10.2  ...                        0.0  2018-03-07\n",
              "3  A Coruña                     8.7  ...                        0.0  2018-03-07\n",
              "4  A Coruña                     7.4  ...                        0.0  2018-03-07\n",
              "\n",
              "[5 rows x 8 columns]"
            ]
          },
          "metadata": {},
          "execution_count": 533
        }
      ]
    },
    {
      "cell_type": "code",
      "metadata": {
        "colab": {
          "base_uri": "https://localhost:8080/",
          "height": 206
        },
        "id": "o9igTTLLOtW-",
        "outputId": "84db3488-214c-4a2d-9b40-498baa34d3b4"
      },
      "source": [
        "aemet = aemet.drop(labels=['Precipitación 00-06h (mm)', 'Precipitación 06-12h (mm)', 'Precipitación 12-18h (mm)', 'Precipitación 18-24h (mm)'], axis=1)\n",
        "aemet.head()"
      ],
      "execution_count": 534,
      "outputs": [
        {
          "output_type": "execute_result",
          "data": {
            "text/html": [
              "<div>\n",
              "<style scoped>\n",
              "    .dataframe tbody tr th:only-of-type {\n",
              "        vertical-align: middle;\n",
              "    }\n",
              "\n",
              "    .dataframe tbody tr th {\n",
              "        vertical-align: top;\n",
              "    }\n",
              "\n",
              "    .dataframe thead th {\n",
              "        text-align: right;\n",
              "    }\n",
              "</style>\n",
              "<table border=\"1\" class=\"dataframe\">\n",
              "  <thead>\n",
              "    <tr style=\"text-align: right;\">\n",
              "      <th></th>\n",
              "      <th>Provincia</th>\n",
              "      <th>Temperatura media (ºC)</th>\n",
              "      <th>Precipitación 00-24h (mm)</th>\n",
              "      <th>Fecha</th>\n",
              "    </tr>\n",
              "  </thead>\n",
              "  <tbody>\n",
              "    <tr>\n",
              "      <th>0</th>\n",
              "      <td>A Coruña</td>\n",
              "      <td>10.2</td>\n",
              "      <td>NaN</td>\n",
              "      <td>2018-03-07</td>\n",
              "    </tr>\n",
              "    <tr>\n",
              "      <th>1</th>\n",
              "      <td>A Coruña</td>\n",
              "      <td>7.0</td>\n",
              "      <td>1.8</td>\n",
              "      <td>2018-03-07</td>\n",
              "    </tr>\n",
              "    <tr>\n",
              "      <th>2</th>\n",
              "      <td>A Coruña</td>\n",
              "      <td>10.2</td>\n",
              "      <td>1.0</td>\n",
              "      <td>2018-03-07</td>\n",
              "    </tr>\n",
              "    <tr>\n",
              "      <th>3</th>\n",
              "      <td>A Coruña</td>\n",
              "      <td>8.7</td>\n",
              "      <td>0.7</td>\n",
              "      <td>2018-03-07</td>\n",
              "    </tr>\n",
              "    <tr>\n",
              "      <th>4</th>\n",
              "      <td>A Coruña</td>\n",
              "      <td>7.4</td>\n",
              "      <td>0.6</td>\n",
              "      <td>2018-03-07</td>\n",
              "    </tr>\n",
              "  </tbody>\n",
              "</table>\n",
              "</div>"
            ],
            "text/plain": [
              "  Provincia  Temperatura media (ºC)  Precipitación 00-24h (mm)       Fecha\n",
              "0  A Coruña                    10.2                        NaN  2018-03-07\n",
              "1  A Coruña                     7.0                        1.8  2018-03-07\n",
              "2  A Coruña                    10.2                        1.0  2018-03-07\n",
              "3  A Coruña                     8.7                        0.7  2018-03-07\n",
              "4  A Coruña                     7.4                        0.6  2018-03-07"
            ]
          },
          "metadata": {},
          "execution_count": 534
        }
      ]
    },
    {
      "cell_type": "markdown",
      "metadata": {
        "id": "p-OmB5-v_LWV"
      },
      "source": [
        "## 3. Preproceso\n"
      ]
    },
    {
      "cell_type": "markdown",
      "metadata": {
        "id": "YPcD7e81mirV"
      },
      "source": [
        "### 3.1 Selección de elementos"
      ]
    },
    {
      "cell_type": "markdown",
      "metadata": {
        "id": "7JvIGV79pyN1"
      },
      "source": [
        "### 3.1.1 Unificar nombres de productos"
      ]
    },
    {
      "cell_type": "code",
      "metadata": {
        "id": "l2in6efElzZu"
      },
      "source": [
        "import json\n",
        "# Load the dicts\n",
        "with open('cultivos_names.json') as json_file:\n",
        "  cultivos_names = json.load(json_file)"
      ],
      "execution_count": 535,
      "outputs": []
    },
    {
      "cell_type": "code",
      "metadata": {
        "colab": {
          "base_uri": "https://localhost:8080/"
        },
        "id": "MXNm1f00mn03",
        "outputId": "7ea5153e-dc53-4613-8947-f3c2b998cda9"
      },
      "source": [
        "calendario_siembra['Cultivo'].unique()"
      ],
      "execution_count": 536,
      "outputs": [
        {
          "output_type": "execute_result",
          "data": {
            "text/plain": [
              "array(['ACELGA', 'AJO', 'ALCACHOFA', 'APIO', 'BERENJENA', 'BROCOLI',\n",
              "       'CALABACÍN', 'CALABAZA', 'CEBOLLA guardar', 'CEBOLLA tierna',\n",
              "       'CHIRIVIA', 'COL CHINA', 'COL BRUSELAS', 'COL LOMBARDA',\n",
              "       'COL REPOLLO', 'COLIFLOR', 'ESCAROLA ', 'ESPINACA', 'FRESA',\n",
              "       'GUISANTE', 'HABAS', 'JUDIAS MATA BAJA', 'JUDIAS ENRAME',\n",
              "       'LECHUGAS', 'MAIZ', 'MELÓN', 'NABO', 'PATATA', 'PEPINO', 'PEREJIL',\n",
              "       'PIMIENTO', 'PUERRO', 'RABANITO', 'REMOLACHA', 'SANDIA', 'TOMATE',\n",
              "       'ZANAHORIA'], dtype=object)"
            ]
          },
          "metadata": {},
          "execution_count": 536
        }
      ]
    },
    {
      "cell_type": "code",
      "metadata": {
        "colab": {
          "base_uri": "https://localhost:8080/"
        },
        "id": "V2ZlbjWhuT4S",
        "outputId": "29d3e106-1486-4614-ce0e-afc7e79419dd"
      },
      "source": [
        "from unidecode import unidecode\n",
        "elems_remove = ['FRESA', 'JUDIAS ENRAME'] # quitar judia enrame puesto que tiene el mismo tiempo de siembra que la otra\n",
        "for elem in elems_remove:\n",
        "  #calendario_siembra = calendario_siembra.drop(calendario_siembra[calendario_siembra['Cultivo'] == elem].index)\n",
        "  calendario_siembra = calendario_siembra[calendario_siembra.Cultivo != elem]\n",
        "\n",
        "#Singular, quitar tildes y renombrar nombres rarunos\n",
        "calendario_dict = cultivos_names['calendario']\n",
        "calendario_siembra['Cultivo'] = calendario_siembra['Cultivo'].map(lambda x: x.strip() if x not in calendario_dict else calendario_dict[x]).map(lambda x: unidecode(x))\n",
        "calendario_siembra['Cultivo'].unique()"
      ],
      "execution_count": 537,
      "outputs": [
        {
          "output_type": "execute_result",
          "data": {
            "text/plain": [
              "array(['ACELGA', 'AJO', 'ALCACHOFA', 'APIO', 'BERENJENA', 'BROCOLI',\n",
              "       'CALABACIN', 'CALABAZA', 'CEBOLLA', 'CEBOLLETA', 'CHIRIVIA',\n",
              "       'COL CHINA', 'COL BRUSELAS', 'COL LOMBARDA', 'COL REPOLLO',\n",
              "       'COLIFLOR', 'ESCAROLA', 'ESPINACA', 'GUISANTE', 'HABA', 'JUDIA',\n",
              "       'LECHUGA', 'MAIZ', 'MELON', 'NABO', 'PATATA', 'PEPINO', 'PEREJIL',\n",
              "       'PIMIENTO', 'PUERRO', 'RABANITO', 'REMOLACHA', 'SANDIA', 'TOMATE',\n",
              "       'ZANAHORIA'], dtype=object)"
            ]
          },
          "metadata": {},
          "execution_count": 537
        }
      ]
    },
    {
      "cell_type": "code",
      "metadata": {
        "colab": {
          "base_uri": "https://localhost:8080/"
        },
        "id": "2LBylVuZnxjQ",
        "outputId": "87b68b0a-2317-49df-9b30-1bca2c2fdd56"
      },
      "source": [
        "consumo_CCAA['Producto'].unique()"
      ],
      "execution_count": 538,
      "outputs": [
        {
          "output_type": "execute_result",
          "data": {
            "text/plain": [
              "array(['TOTAL PATATAS', 'PATATAS FRESCAS', 'PATATAS CONGELADAS',\n",
              "       'PATATAS PROCESADAS', 'T.HORTALIZAS FRESCAS', 'TOMATES',\n",
              "       'CEBOLLAS', 'AJOS', 'COLES', 'PEPINOS', 'JUDIAS VERDES',\n",
              "       'PIMIENTOS', 'CHAMPIÑONES+O.SETAS', 'LECHUGA/ESC./ENDIVIA',\n",
              "       'ESPARRAGOS', 'VERDURAS DE HOJA', 'BERENJENAS', 'ZANAHORIAS',\n",
              "       'CALABACINES', 'OTR.HORTALIZAS/VERD.', 'BROCOLI', 'ALCACHOFAS',\n",
              "       'VERD./HORT. IV GAMA', 'T.FRUTAS FRESCAS', 'NARANJAS',\n",
              "       'MANDARINAS', 'LIMONES', 'PLATANOS', 'MANZANAS', 'PERAS',\n",
              "       'MELOCOTONES', 'NECTARINAS', 'ALBARICOQUES', 'FRESAS/FRESON',\n",
              "       'MELON', 'SANDIA', 'CIRUELAS', 'CEREZAS', 'UVAS', 'KIWI',\n",
              "       'AGUACATE', 'PIÑA', 'OTRAS FRUTAS FRESCAS', 'POMELO', 'CHIRIMOYA',\n",
              "       'FRUTAS IV GAMA', 'PATATAS FRITAS', 'APIO', 'COLIFLOR', 'PUERRO',\n",
              "       'MANGO'], dtype=object)"
            ]
          },
          "metadata": {},
          "execution_count": 538
        }
      ]
    },
    {
      "cell_type": "code",
      "metadata": {
        "colab": {
          "base_uri": "https://localhost:8080/"
        },
        "id": "V5ZQQaYEsJSh",
        "outputId": "54f19515-1cfb-428b-b69c-7779cc5db915"
      },
      "source": [
        "consumo_CCAA_dict = cultivos_names['consumo_CCAA_dict']\n",
        "#ASUNCIONNNNNNNNNNNN COLES A COL REPOLLO\n",
        "for elem in list(consumo_CCAA['Producto'].unique()) - consumo_CCAA_dict.keys():\n",
        "  #consumo_CCAA = consumo_CCAA.drop(consumo_CCAA[consumo_CCAA['Producto'] == elem].index)\n",
        "  consumo_CCAA = consumo_CCAA[consumo_CCAA.Producto != elem]\n",
        "\n",
        "consumo_CCAA['Producto'] = consumo_CCAA['Producto'].map(lambda x: consumo_CCAA_dict[x])\n",
        "consumo_CCAA['Producto'].unique()"
      ],
      "execution_count": 539,
      "outputs": [
        {
          "output_type": "execute_result",
          "data": {
            "text/plain": [
              "array(['PATATA', 'TOMATE', 'CEBOLLA', 'AJO', 'COL REPOLLO', 'PEPINO',\n",
              "       'JUDIA', 'PIMIENTO', 'LECHUGA', 'BERENJENA', 'ZANAHORIA',\n",
              "       'CALABACIN', 'BROCOLI', 'ALCACHOFA', 'MELON', 'SANDIA', 'APIO',\n",
              "       'COLIFLOR', 'PUERRO'], dtype=object)"
            ]
          },
          "metadata": {},
          "execution_count": 539
        }
      ]
    },
    {
      "cell_type": "code",
      "metadata": {
        "colab": {
          "base_uri": "https://localhost:8080/"
        },
        "id": "XYrPI3FCoGNt",
        "outputId": "fccb2e1c-c98a-4761-a55c-c378f5a301e4"
      },
      "source": [
        "dat_mercaMadrid['product'].unique()"
      ],
      "execution_count": 540,
      "outputs": [
        {
          "output_type": "execute_result",
          "data": {
            "text/plain": [
              "array(['ACEITUNAS', 'ACELGAS', 'AGUACATES', 'AJOS', 'ALBARICOQUES',\n",
              "       'ALCACHOFAS', 'ALPICOCES', 'APIO', 'AVELLANAS', 'BANANITOS',\n",
              "       'BATATAS', 'BELLOTAS', 'BERENJENAS', 'BERROS', 'BONIATOS',\n",
              "       'BORRAJAS', 'BREVAS', 'BROCOLI', 'CALABACINES', 'CALABAZAS',\n",
              "       'CAQUIS', 'CARAMBOLA', 'CARDOS', 'CARLOTAS', 'CASTAÃ\\x91AS',\n",
              "       'CAÃ\\x91A DE AZUCAR', 'CEBOLLAS', 'CEREZAS', 'CHAMPIÃ\\x91ON',\n",
              "       'CHIRIMOYAS', 'CHIRIVIAS', 'CIRUELAS', 'COCOS', 'COLES-REPOLLO',\n",
              "       'COLIFLORES', 'CONGELADOS VEGETALES', 'CONSERVAS VEGETALES',\n",
              "       'CUARTA GAMA FRUTAS', 'CUARTA GAMA HORT.', 'DATILES',\n",
              "       'ELABORADOS VEGETALES', 'ENDIVIAS', 'ESCAROLAS', 'ESPARRAGOS',\n",
              "       'ESPINACAS', 'FISALIS', 'FRAMBUESAS', 'FRESONES', 'FRESQUILLAS',\n",
              "       'FRUTA DE LA PASION', 'FRUTOS SECOS', 'GARROFON', 'GRANADAS',\n",
              "       'GRELOS', 'GROSELLA', 'GUAYABOS', 'GUINDILLAS', 'GUISANTES',\n",
              "       'HABAS VERDES', 'HIGO CHUMBO', 'HIGOS', 'HINOJO', 'JENGIBRE',\n",
              "       'JUDIAS VERDES', 'KIWI', 'KUNKUAT', 'LAUREL', 'LECHUGAS', 'LIMA',\n",
              "       'LIMONES', 'LITCHIS', 'LOMBARDA', 'MACHE', 'MAIZ', 'MANDARINAS',\n",
              "       'MANGA', 'MANGOS', 'MANGOSTAN', 'MANZANAS', 'MARACUYA',\n",
              "       'MELOCOTONES', 'MELONES', 'MEMBRILLOS', 'MORAS', 'NABOS',\n",
              "       'NARANJAS', 'NASHI', 'NECTARINAS', 'NISPEROS', 'NUECES', 'OCRA',\n",
              "       'PAPAYA GIGANTE', 'PAPAYOS', 'PARAGUAYAS', 'PATATAS', 'PEPINOS',\n",
              "       'PERAS', 'PEREJIL', 'PERETAS', 'PIMIENTAS', 'PIMIENTOS',\n",
              "       'PITAHAYA', 'PIÃ\\x91AS', 'PLATANOS', 'POMELOS',\n",
              "       'PRECOCINADOS VEGETALES', 'PUERROS', 'QUINTA GAMA', 'RABANILLAS',\n",
              "       'RABANOS', 'RAMBUTAN', 'REMOLACHA', 'RESTO DE FRUTAS',\n",
              "       'RESTO HORTALIZAS', 'ROMANESCU', 'SANDIAS', 'SETAS', 'TABELLA',\n",
              "       'TAMARINDO', 'TIRABEQUES', 'TOMATES', 'UVAS', 'YUCA', 'ZANAHORIAS',\n",
              "       'Ã\\x91AME O YAME'], dtype=object)"
            ]
          },
          "metadata": {},
          "execution_count": 540
        }
      ]
    },
    {
      "cell_type": "code",
      "metadata": {
        "colab": {
          "base_uri": "https://localhost:8080/"
        },
        "id": "qEB5Wjzy6YBP",
        "outputId": "df38c321-719a-4528-90fc-30635dc24af0"
      },
      "source": [
        "dat_mercaMadrid_dict = cultivos_names['dat_mercaMadrid_dict']\n",
        "\n",
        "for elem in list(dat_mercaMadrid['product'].unique()) - dat_mercaMadrid_dict.keys():\n",
        "  #dat_mercaMadrid = dat_mercaMadrid.drop(dat_mercaMadrid[dat_mercaMadrid['product'] == elem].index)\n",
        "  dat_mercaMadrid = dat_mercaMadrid[dat_mercaMadrid['product'] != elem]\n",
        "\n",
        "dat_mercaMadrid['product'] = dat_mercaMadrid['product'].map(lambda x: dat_mercaMadrid_dict[x])\n",
        "dat_mercaMadrid['product'].unique()"
      ],
      "execution_count": 541,
      "outputs": [
        {
          "output_type": "execute_result",
          "data": {
            "text/plain": [
              "array(['ACELGA', 'AJO', 'ALCACHOFA', 'APIO', 'BERENJENA', 'BROCOLI',\n",
              "       'CALABACIN', 'CALABAZA', 'CEBOLLA', 'CHIRIVIA', 'COL REPOLLO',\n",
              "       'COLIFLOR', 'ESCAROLA', 'ESPINACA', 'GUISANTE', 'HABA', 'JUDIA',\n",
              "       'LECHUGA', 'COL LOMBARDA', 'MAIZ', 'MELON', 'NABO', 'PATATA',\n",
              "       'PEPINO', 'PEREJIL', 'PIMIENTO', 'PUERRO', 'RABANITO', 'REMOLACHA',\n",
              "       'SANDIA', 'TOMATE', 'ZANAHORIA'], dtype=object)"
            ]
          },
          "metadata": {},
          "execution_count": 541
        }
      ]
    },
    {
      "cell_type": "code",
      "metadata": {
        "colab": {
          "base_uri": "https://localhost:8080/"
        },
        "id": "EnuhWbw1oMa9",
        "outputId": "4b0ea7ec-03fe-4189-f302-6a5bb6dfabcd"
      },
      "source": [
        "dat_mercaBarna['product'].unique()"
      ],
      "execution_count": 542,
      "outputs": [
        {
          "output_type": "execute_result",
          "data": {
            "text/plain": [
              "array(['ACEITUNAS', 'ACELGAS', 'AGUACATE', 'AJOS SECOS', 'AJOS TIERNOS',\n",
              "       'ALBARICOQUES', 'ALCACHOFA', 'APIOS', 'BATATA', 'BERENJENA LARGA',\n",
              "       'BERENJENA REDONDA', 'BERROS', 'BORRAJA', 'BRÃ\\x89COL',\n",
              "       'BRÃ\\x93CULI', 'CALABACÃ\\x8dN', 'CALABAZA', 'CALÃ\\x87OTS',\n",
              "       'CARACOLES', 'CARAMBOLA', 'CARDOS', 'CAÃ\\x91A DE AZÃ\\x9aCAR',\n",
              "       'CEBOLLA SECA', 'CEBOLLA SECA FIGUERAS', 'CEBOLLA TIERNA',\n",
              "       'CEREZAS', 'CHAMPIÃ\\x91ONES', 'CHIRIMOIA', 'CHIRIVÃ\\x8dA',\n",
              "       'CIRUELA', 'COCOS', 'COL BRUSELAS', 'COLES', 'COLES CHINA',\n",
              "       'COLES LOMBARDA', 'COLIFLOR', 'ENDÃ\\x8dBIAS', 'ESCAROLA',\n",
              "       'ESPINACAS', 'ESPÃ\\x81RRAGO BLANCO', 'ESPÃ\\x81RRAGO VERDE',\n",
              "       'FEIJOA', 'FRUTAS CAQUIS', 'FRUTAS DÃ\\x81TILES',\n",
              "       'FRUTAS FRAMBUESA', 'FRUTAS FRESA', 'FRUTAS FRESÃ\\x93N',\n",
              "       'FRUTAS FRUTAS SIN DETERMINAR', 'FRUTAS GRANADAS',\n",
              "       'FRUTAS GROSELLA', 'FRUTAS HIGO CHUMBO', 'FRUTAS HIGOS',\n",
              "       'FRUTAS KIWIS', 'FRUTAS MELÃ\\x93N AMARILLO',\n",
              "       'FRUTAS MELÃ\\x93N GALIA', 'FRUTAS MELÃ\\x93N SIN DETERMINAR',\n",
              "       'FRUTAS MELÃ\\x93N VERDE PIEL DE SAPO', 'FRUTAS MORA',\n",
              "       'FRUTAS PIÃ\\x91A TROPICAL', 'FRUTAS PLÃ\\x81TANOS CANARIOS',\n",
              "       'FRUTAS PLÃ\\x81TANOS IMPORTACIÃ\\x93N',\n",
              "       'FRUTAS SANDÃ\\x8dA CON GRANA', 'FRUTAS SANDÃ\\x8dA SIN GRANA',\n",
              "       'FRUTAS UVA BLANCA', 'FRUTAS UVA NEGRA', 'GUISANTE',\n",
              "       'GÃ\\x8dRGOLAS', 'HABAS', 'HINOJO', 'JUDÃ\\x8dA BOBI',\n",
              "       'JUDÃ\\x8dA FINA', 'JUDÃ\\x8dA PERONA', 'JUDÃ\\x8dAS SIN DETERMINAR',\n",
              "       'LECHUGA ICEBERG', 'LECHUGA LARGA', 'LECHUGA SIN DETERMINAR',\n",
              "       'LICHIS', 'LIMA', 'LIMÃ\\x93N', 'MANDARINA CLEMENTINA',\n",
              "       'MANDARINA SATSUMA', 'MANDARINAS SIN DETER.', 'MANGOS',\n",
              "       'MANZANA AMARILLA GOLDEN', 'MANZANA BICOLOR', 'MANZANA ROJA',\n",
              "       'MANZANA VERDE GRANNY SMITH', 'MANZANAS SIN DETERMINAR',\n",
              "       'MARACUYÃ\\x81', 'MAÃ\\x8dZ', 'MELOCOTONES ROJOS P.AMARILLA',\n",
              "       'MELOCOTÃ\\x93N AMARILLO', 'MELOCOTÃ\\x93N ROJO P.BLANCA',\n",
              "       'MEMBRILLO', 'MENESTRA', 'NABO', 'NARANJA', 'NASHIS',\n",
              "       'NECTARINA PULPA AMARILLA', 'NECTARINA PULPA BLANCA',\n",
              "       'NÃ\\x8dSCALOS', 'NÃ\\x8dSPERO', 'PAPAYAS',\n",
              "       'PATATA BLANCA CALIDAD MONA LISA', 'PATATA ROJA', 'PEPINO',\n",
              "       'PERA BLANQUILLA', 'PERA DE INVIERNO', 'PERA DE VERANO',\n",
              "       'PERA TEMPRANA', 'PEREJIL', 'PIMIENTO LAMUYO', 'PIMIENTO ROJO',\n",
              "       'PIMIENTO VERDE ITALIANO', 'PITAHAYA', 'POMELO', 'PUERROS',\n",
              "       'RAMBUTÃ\\x81N', 'REMOLACHA', 'RÃ\\x81BANOS', 'SECO ALMENDRAS',\n",
              "       'SECO AVELLANAS', 'SECO CASTAÃ\\x91AS', 'SECO NUECES',\n",
              "       'SETAS SIN DETERMINAR', 'TOMATE MADURO', 'TOMATE VERDE', 'VARIOS',\n",
              "       'VERDURAS OTRAS', 'ZANAHORIA'], dtype=object)"
            ]
          },
          "metadata": {},
          "execution_count": 542
        }
      ]
    },
    {
      "cell_type": "code",
      "metadata": {
        "colab": {
          "base_uri": "https://localhost:8080/"
        },
        "id": "r6ZrScheAK13",
        "outputId": "4abd2e7a-6bf5-4b87-987b-f713a98438ff"
      },
      "source": [
        "dat_mercaBarna_dict = cultivos_names['dat_mercaBarna_dict']\n",
        "# AASUNCION COLES A LA GENERAL COLES REPOLLO\n",
        "for elem in list(dat_mercaBarna['product'].unique()) - dat_mercaBarna_dict.keys():\n",
        "  #dat_mercaBarna = dat_mercaBarna.drop(dat_mercaBarna[dat_mercaBarna['product'] == elem].index)\n",
        "  dat_mercaBarna = dat_mercaBarna[dat_mercaBarna['product'] != elem]\n",
        "\n",
        "dat_mercaBarna['product'] = dat_mercaBarna['product'].map(lambda x: dat_mercaBarna_dict[x])\n",
        "dat_mercaBarna['product'].unique()"
      ],
      "execution_count": 543,
      "outputs": [
        {
          "output_type": "execute_result",
          "data": {
            "text/plain": [
              "array(['ACELGA', 'AJO', 'ALCACHOFA', 'APIO', 'BERENJENA', 'BROCOLI',\n",
              "       'CALABACIN', 'CALABAZA', 'CEBOLLA', 'CEBOLLETA', 'CHIRIVIA',\n",
              "       'COL BRUSELAS', 'COL REPOLLO', 'COL CHINA', 'COL LOMBARDA',\n",
              "       'COLIFLOR', 'ESCAROLA', 'ESPINACA', 'MELON', 'SANDIA', 'GUISANTE',\n",
              "       'HABA', 'JUDIA', 'LECHUGA', 'MAIZ', 'NABO', 'PATATA', 'PEPINO',\n",
              "       'PEREJIL', 'PIMIENTO', 'PUERRO', 'REMOLACHA', 'TOMATE',\n",
              "       'ZANAHORIA'], dtype=object)"
            ]
          },
          "metadata": {},
          "execution_count": 543
        }
      ]
    },
    {
      "cell_type": "code",
      "metadata": {
        "colab": {
          "base_uri": "https://localhost:8080/"
        },
        "id": "4CBLCVcJoiPR",
        "outputId": "fbb13058-6fdd-4ca9-c56d-4c1bf24e9ff4"
      },
      "source": [
        "precios_JAndalucia['PRODUCTO'].unique()"
      ],
      "execution_count": 544,
      "outputs": [
        {
          "output_type": "execute_result",
          "data": {
            "text/plain": [
              "array(['LIMON', 'MANDARINA', 'NARANJA', 'POMELO', 'AGUACATE', 'CHIRIMOYA',\n",
              "       'MANGO', 'FRAMBUESA', 'FRESÓN', 'AJO', 'CEBOLLA', 'ESPARRAGO',\n",
              "       'LECHUGA', 'ZANAHORIA', 'BERENJENA', 'CALABACIN', 'JUDIA VERDE',\n",
              "       'MELON', 'PEPINO', 'PIMIENTO', 'SANDIA', 'TOMATE',\n",
              "       'BERENJENA (ECO)', 'CALABACIN (ECO)', 'PEPINO (ECO)',\n",
              "       'PIMIENTO (ECO)', 'TOMATE (ECO)', 'ALMENDRA', 'ARANDANO',\n",
              "       'SANDIA (ECO)', 'JUDIA VERDE (ECO)', 'ALMENDRA (ECO)'],\n",
              "      dtype=object)"
            ]
          },
          "metadata": {},
          "execution_count": 544
        }
      ]
    },
    {
      "cell_type": "code",
      "metadata": {
        "colab": {
          "base_uri": "https://localhost:8080/"
        },
        "id": "YjXYyeYwHefu",
        "outputId": "f75d7f5f-d5e2-4ba2-b0c6-c10fdd74995d"
      },
      "source": [
        "precios_JAndalucia_dict = cultivos_names['precios_JAndalucia_dict']\n",
        "\n",
        "for elem in list(precios_JAndalucia['PRODUCTO'].unique()) - precios_JAndalucia_dict.keys():\n",
        "  #precios_JAndalucia = precios_JAndalucia.drop(precios_JAndalucia[precios_JAndalucia['PRODUCTO'] == elem].index)\n",
        "  precios_JAndalucia = precios_JAndalucia[precios_JAndalucia.PRODUCTO != elem]\n",
        "\n",
        "precios_JAndalucia['PRODUCTO'] = precios_JAndalucia['PRODUCTO'].map(lambda x: precios_JAndalucia_dict[x])\n",
        "precios_JAndalucia['PRODUCTO'].unique()"
      ],
      "execution_count": 545,
      "outputs": [
        {
          "output_type": "execute_result",
          "data": {
            "text/plain": [
              "array(['AJO', 'CEBOLLA', 'LECHUGA', 'ZANAHORIA', 'BERENJENA', 'CALABACIN',\n",
              "       'JUDIA', 'MELON', 'PEPINO', 'PIMIENTO', 'SANDIA', 'TOMATE'],\n",
              "      dtype=object)"
            ]
          },
          "metadata": {},
          "execution_count": 545
        }
      ]
    },
    {
      "cell_type": "markdown",
      "metadata": {
        "id": "iiuV86aaaBvs"
      },
      "source": [
        "### 3.1.2 Descartar elementos que no nos interesen"
      ]
    },
    {
      "cell_type": "code",
      "metadata": {
        "id": "Ea08A8e2ZOn-"
      },
      "source": [
        "# Quitar elementos Total Nacional en cosumo_CCAA\n",
        "consumo_CCAA = consumo_CCAA[consumo_CCAA.CCAA != 'Total Nacional']"
      ],
      "execution_count": 546,
      "outputs": []
    },
    {
      "cell_type": "markdown",
      "metadata": {
        "id": "kJ1cRWIzhk_H"
      },
      "source": [
        "### 3.1.3 Unificar nombres de CCAA (y pasar provincias a CCAA)"
      ]
    },
    {
      "cell_type": "code",
      "metadata": {
        "id": "PeFlJ5jExl72"
      },
      "source": [
        "with open('ccaa_names.json') as json_file:\n",
        "  ccaa_names = json.load(json_file)"
      ],
      "execution_count": 547,
      "outputs": []
    },
    {
      "cell_type": "code",
      "metadata": {
        "colab": {
          "base_uri": "https://localhost:8080/"
        },
        "id": "7oXXwIKLhwd6",
        "outputId": "ac3870b0-0980-45d4-f5b0-ca05fcdefe2b"
      },
      "source": [
        "dat_mercaMadrid['origen'].unique()"
      ],
      "execution_count": 548,
      "outputs": [
        {
          "output_type": "execute_result",
          "data": {
            "text/plain": [
              "array(['ALBACETE', 'ALICANTE', 'ALMERIA', 'AVILA', 'BADAJOZ', 'BURGOS',\n",
              "       'CACERES', 'CANTABRIA', 'CASTELLON', 'CORDOBA', 'CUENCA',\n",
              "       'FRANCIA', 'GRANADA', 'HUELVA', 'LA CORUÃ\\x91A', 'LA RIOJA',\n",
              "       'LEON', 'LERIDA', 'MADRID', 'MALAGA', 'MURCIA', 'NAVARRA',\n",
              "       'ORENSE', 'PONTEVEDRA', 'PORTUGAL', 'SEGOVIA', 'SEVILLA',\n",
              "       'TARRAGONA', 'TOLEDO', 'VALENCIA', 'VALLADOLID', 'VIZCAYA',\n",
              "       'ZARAGOZA', 'CADIZ', 'CIUDAD REAL', 'HUESCA', 'BARCELONA',\n",
              "       'GERONA', 'GUIPUZCOA', 'LAS PALMAS', 'LUGO', 'ZAMORA', 'ASTURIAS',\n",
              "       'ALAVA', 'TERUEL', 'BELGICA', 'HOLANDA', 'BALEARES', 'GUATEMALA',\n",
              "       'JAEN', 'MARRUECOS', 'REPUBLICA DOMINICANA', 'GUADALAJARA',\n",
              "       'IRLANDA', 'PALENCIA', 'ARGENTINA', 'BRASIL', 'CHILE', 'CHINA',\n",
              "       'COSTA RICA', 'ESTADOS UNIDOS', 'ITALIA', 'PERU', 'SALAMANCA',\n",
              "       'SUDAFRICA', 'SORIA', 'POLONIA', 'ALEMANIA', 'SENEGAL', 'HONDURAS',\n",
              "       'PANAMA', 'BULGARIA', 'ARGELIA', 'CAMERUN', 'EGIPTO',\n",
              "       'GRAN BRETAÃ\\x91A', 'OTROS PAIS. EUROPEOS', 'TURQUIA'],\n",
              "      dtype=object)"
            ]
          },
          "metadata": {},
          "execution_count": 548
        }
      ]
    },
    {
      "cell_type": "code",
      "metadata": {
        "colab": {
          "base_uri": "https://localhost:8080/"
        },
        "id": "vBm0IXeYiFTL",
        "outputId": "8e508476-907c-4bb2-fac6-a3367a629ad9"
      },
      "source": [
        "ccaa_merca = ccaa_names['ccaa_merca']\n",
        "# Hemos quitado paises de afuera (Italia, Rep Dominicana..'ARGENTINA', 'BRASIL', 'CHILE', 'CHINA'\n",
        "for elem in list(dat_mercaMadrid['origen'].unique()) - ccaa_merca.keys():\n",
        "  dat_mercaMadrid = dat_mercaMadrid[dat_mercaMadrid.origen != elem]\n",
        "\n",
        "dat_mercaMadrid['origen'] = dat_mercaMadrid['origen'].map(lambda x: ccaa_merca[x])\n",
        "dat_mercaMadrid['origen'].unique()"
      ],
      "execution_count": 549,
      "outputs": [
        {
          "output_type": "execute_result",
          "data": {
            "text/plain": [
              "array(['Castilla La Mancha', 'Valencia', 'Andalucia', 'Castilla Leon',\n",
              "       'Extremadura', 'Cantabria', 'Galicia', 'La Rioja', 'Cataluña',\n",
              "       'Madrid', 'Murcia', 'Navarra', 'Pais Vasco', 'Aragon', 'Canarias',\n",
              "       'Asturias', 'Baleares'], dtype=object)"
            ]
          },
          "metadata": {},
          "execution_count": 549
        }
      ]
    },
    {
      "cell_type": "code",
      "metadata": {
        "colab": {
          "base_uri": "https://localhost:8080/"
        },
        "id": "JrcM8bS8hwoM",
        "outputId": "fa1fef22-28dd-4f69-fd7e-97096a4d660e"
      },
      "source": [
        "dat_mercaBarna['origen'].unique()"
      ],
      "execution_count": 550,
      "outputs": [
        {
          "output_type": "execute_result",
          "data": {
            "text/plain": [
              "array(['ALEMANIA', 'ALICANTE', 'ALMERIA', 'BARCELONA', 'BURGOS', 'CADIZ',\n",
              "       'CATELLON', 'CHILE', 'CHINA', 'CORDOBA', 'ECUADOR', 'GERONA',\n",
              "       'GRANADA', 'HUELVA', 'HUESCA', 'ITALIA', 'LA CORUÑA', 'LERIDA',\n",
              "       'MADRID', 'MARRUECOS', 'MURCIA', 'NAVARRA', 'OTRAS PROVINCIAS',\n",
              "       'OTROS AMERICA', 'TARRAGONA', 'USA', 'VALENCIA', 'VALLADOLID',\n",
              "       'ALBACETE', 'BALEARES', 'CIUDAD REAL', 'CUENCA', 'FRANCIA',\n",
              "       'HOLANDA', 'JAEN', 'LOGROÑO', 'SEGOVIA', 'SEVILLA', 'TOLEDO',\n",
              "       'ARGENTINA', 'BADAJOZ', 'MALAGA', 'ORENSE', 'SORIA', 'ZAMORA',\n",
              "       'BELGICA', 'TERUEL', 'ZARAGOZA', 'ALAVA', 'DINAMARCA', 'LUGO',\n",
              "       'LUXEMBURGO', 'PORTUGAL', 'SUDAFRICA', 'CANADA', 'TUNEZ', 'AVILA',\n",
              "       'CACERES', 'COSTA RICA', 'GRAN BRETAÑA', 'GUIPUZCUA', 'ISRAEL',\n",
              "       'OVIEDO', 'SUIZA', 'TAILANDIA', 'VIZCAYA', 'BRASIL', 'MEJICO',\n",
              "       'NUEVA ZELANDA', 'OTROS ASIA', 'COLOMBIA', 'PALENCIA',\n",
              "       'COSTA MARFIL', 'OTROS AFRICA', 'OTROS EUROPA', 'TURQUIA',\n",
              "       'AUSTRIA', 'OTROS ESPAÑA', 'SALAMANCA', 'PONTEVEDRA', 'KENIA',\n",
              "       'URUGUAY', 'GUADALAJARA', 'ISLANDIA', 'SANTANDER', 'LEON',\n",
              "       'ANDORRA', 'COREA', 'GRECIA'], dtype=object)"
            ]
          },
          "metadata": {},
          "execution_count": 550
        }
      ]
    },
    {
      "cell_type": "code",
      "metadata": {
        "colab": {
          "base_uri": "https://localhost:8080/"
        },
        "id": "r2qsCPfypxJM",
        "outputId": "7f5190f7-9bfc-4451-dc8a-aff44445b36a"
      },
      "source": [
        "for elem in list(dat_mercaBarna['origen'].unique()) - ccaa_merca.keys():\n",
        "  dat_mercaBarna = dat_mercaBarna[dat_mercaBarna.origen != elem]\n",
        "\n",
        "dat_mercaBarna['origen'] = dat_mercaBarna['origen'].map(lambda x: ccaa_merca[x])\n",
        "dat_mercaBarna['origen'].unique()"
      ],
      "execution_count": 551,
      "outputs": [
        {
          "output_type": "execute_result",
          "data": {
            "text/plain": [
              "array(['Valencia', 'Andalucia', 'Cataluña', 'Castilla Leon', 'Aragon',\n",
              "       'Galicia', 'Madrid', 'Murcia', 'Navarra', 'Castilla La Mancha',\n",
              "       'Baleares', 'La Rioja', 'Extremadura', 'Pais Vasco', 'Asturias',\n",
              "       'Cantabria'], dtype=object)"
            ]
          },
          "metadata": {},
          "execution_count": 551
        }
      ]
    },
    {
      "cell_type": "code",
      "metadata": {
        "colab": {
          "base_uri": "https://localhost:8080/"
        },
        "id": "O8lw6e_yqdTr",
        "outputId": "8d133ee4-3797-4a33-ffc8-a01e5dea287d"
      },
      "source": [
        "aemet_dict = ccaa_names['aemet_dict']\n",
        "\n",
        "# CEUTA Y MELILLA LO HEMOS QUITAAAAAAAAO\n",
        "\n",
        "for elem in list(aemet['Provincia'].unique()) - aemet_dict.keys():\n",
        "  aemet = aemet[aemet.Provincia != elem]\n",
        "\n",
        "aemet['Provincia'] = aemet['Provincia'].map(lambda x: aemet_dict[x])\n",
        "aemet['Provincia'].unique()"
      ],
      "execution_count": 552,
      "outputs": [
        {
          "output_type": "stream",
          "name": "stderr",
          "text": [
            "/usr/local/lib/python3.7/dist-packages/ipykernel_launcher.py:8: SettingWithCopyWarning: \n",
            "A value is trying to be set on a copy of a slice from a DataFrame.\n",
            "Try using .loc[row_indexer,col_indexer] = value instead\n",
            "\n",
            "See the caveats in the documentation: https://pandas.pydata.org/pandas-docs/stable/user_guide/indexing.html#returning-a-view-versus-a-copy\n",
            "  \n"
          ]
        },
        {
          "output_type": "execute_result",
          "data": {
            "text/plain": [
              "array(['Galicia', 'Castilla La Mancha', 'Valencia', 'Andalucia',\n",
              "       'Pais Vasco', 'Asturias', 'Castilla Leon', 'Extremadura',\n",
              "       'Cataluña', 'Cantabria', 'Aragon', 'Baleares', 'La Rioja',\n",
              "       'Canarias', 'Madrid', 'Murcia', 'Navarra'], dtype=object)"
            ]
          },
          "metadata": {},
          "execution_count": 552
        }
      ]
    },
    {
      "cell_type": "markdown",
      "metadata": {
        "id": "V6ZDW8V5usYx"
      },
      "source": [
        "### Unificar nombres de meses (pasarlos a numericos)"
      ]
    },
    {
      "cell_type": "code",
      "metadata": {
        "id": "d_D16jBUzkDN"
      },
      "source": [
        "with open('months_season.json') as json_file:\n",
        "  months_season = json.load(json_file)"
      ],
      "execution_count": 553,
      "outputs": []
    },
    {
      "cell_type": "code",
      "metadata": {
        "colab": {
          "base_uri": "https://localhost:8080/"
        },
        "id": "6d1onRPWu0ah",
        "outputId": "76a924c1-dbea-4a46-be56-0cfc098079ed"
      },
      "source": [
        "months = months_season['months']\n",
        "for elem in list(consumo_CCAA['Mes'].unique()) - months.keys():\n",
        "  consumo_CCAA = consumo_CCAA[consumo_CCAA.Mes != elem]\n",
        "\n",
        "consumo_CCAA['Mes'] = consumo_CCAA['Mes'].map(lambda x: months[x])\n",
        "consumo_CCAA['Mes'].unique()"
      ],
      "execution_count": 554,
      "outputs": [
        {
          "output_type": "execute_result",
          "data": {
            "text/plain": [
              "array([ 1,  2,  3,  4,  5,  6,  7,  8,  9, 10, 11, 12])"
            ]
          },
          "metadata": {},
          "execution_count": 554
        }
      ]
    },
    {
      "cell_type": "code",
      "metadata": {
        "colab": {
          "base_uri": "https://localhost:8080/"
        },
        "id": "CuD2VWc9RU5P",
        "outputId": "c802f9e3-9e5c-434d-f876-bae5279dc60d"
      },
      "source": [
        "# Normalizar estaciones a meses\n",
        "# Primero comprobamos si no hay valores nulos\n",
        "#Chekiar en los numericos si hay 0 (que equivalen a nulos EN ESTE CASO)\n",
        "calendario_siembra['D siem-recol'].unique()\n"
      ],
      "execution_count": 555,
      "outputs": [
        {
          "output_type": "execute_result",
          "data": {
            "text/plain": [
              "array(['90', '60-120', '90-120', '100', '130', '75', '120', '60-180',\n",
              "       '110', '80', '60'], dtype=object)"
            ]
          },
          "metadata": {},
          "execution_count": 555
        }
      ]
    },
    {
      "cell_type": "code",
      "metadata": {
        "id": "0sUICaeOQSXX"
      },
      "source": [
        "\n",
        "import pandas as pd\n",
        "\n",
        "calendario_siembra_new = pd.DataFrame()\n",
        "for _, row in calendario_siembra.iterrows():\n",
        "  for epoca in row['Epoca siemb'].split('-'):\n",
        "    calendario_siembra_new = calendario_siembra_new.append([{\n",
        "        'Cultivo': row.Cultivo,\n",
        "        'Epoca siemb': epoca.lower(),\n",
        "        'D siem-recol': row['D siem-recol']\n",
        "        }], ignore_index=True,)\n",
        "    \n",
        "calendario_siembra = calendario_siembra_new\n"
      ],
      "execution_count": 556,
      "outputs": []
    },
    {
      "cell_type": "code",
      "metadata": {
        "colab": {
          "base_uri": "https://localhost:8080/",
          "height": 206
        },
        "id": "6EDLqgXoQcp2",
        "outputId": "5e2363c3-8b31-43d8-a3e8-6e014b03a814"
      },
      "source": [
        "season_to_month_dict = months_season['season_to_month_dict']\n",
        "\n",
        "calendario_siembra['Inicio'] = calendario_siembra['Epoca siemb'].map(lambda x: season_to_month_dict[x][0])\n",
        "calendario_siembra['Fin'] = calendario_siembra['Epoca siemb'].map(lambda x: season_to_month_dict[x][1])\n",
        "calendario_siembra.drop('Epoca siemb', axis=1, inplace=True)\n",
        "calendario_siembra.head()"
      ],
      "execution_count": 557,
      "outputs": [
        {
          "output_type": "execute_result",
          "data": {
            "text/html": [
              "<div>\n",
              "<style scoped>\n",
              "    .dataframe tbody tr th:only-of-type {\n",
              "        vertical-align: middle;\n",
              "    }\n",
              "\n",
              "    .dataframe tbody tr th {\n",
              "        vertical-align: top;\n",
              "    }\n",
              "\n",
              "    .dataframe thead th {\n",
              "        text-align: right;\n",
              "    }\n",
              "</style>\n",
              "<table border=\"1\" class=\"dataframe\">\n",
              "  <thead>\n",
              "    <tr style=\"text-align: right;\">\n",
              "      <th></th>\n",
              "      <th>Cultivo</th>\n",
              "      <th>D siem-recol</th>\n",
              "      <th>Inicio</th>\n",
              "      <th>Fin</th>\n",
              "    </tr>\n",
              "  </thead>\n",
              "  <tbody>\n",
              "    <tr>\n",
              "      <th>0</th>\n",
              "      <td>ACELGA</td>\n",
              "      <td>90</td>\n",
              "      <td>9</td>\n",
              "      <td>11</td>\n",
              "    </tr>\n",
              "    <tr>\n",
              "      <th>1</th>\n",
              "      <td>ACELGA</td>\n",
              "      <td>90</td>\n",
              "      <td>3</td>\n",
              "      <td>5</td>\n",
              "    </tr>\n",
              "    <tr>\n",
              "      <th>2</th>\n",
              "      <td>AJO</td>\n",
              "      <td>60-120</td>\n",
              "      <td>9</td>\n",
              "      <td>11</td>\n",
              "    </tr>\n",
              "    <tr>\n",
              "      <th>3</th>\n",
              "      <td>AJO</td>\n",
              "      <td>60-120</td>\n",
              "      <td>12</td>\n",
              "      <td>2</td>\n",
              "    </tr>\n",
              "    <tr>\n",
              "      <th>4</th>\n",
              "      <td>ALCACHOFA</td>\n",
              "      <td>90-120</td>\n",
              "      <td>3</td>\n",
              "      <td>5</td>\n",
              "    </tr>\n",
              "  </tbody>\n",
              "</table>\n",
              "</div>"
            ],
            "text/plain": [
              "     Cultivo D siem-recol  Inicio  Fin\n",
              "0     ACELGA           90       9   11\n",
              "1     ACELGA           90       3    5\n",
              "2        AJO       60-120       9   11\n",
              "3        AJO       60-120      12    2\n",
              "4  ALCACHOFA       90-120       3    5"
            ]
          },
          "metadata": {},
          "execution_count": 557
        }
      ]
    },
    {
      "cell_type": "code",
      "metadata": {
        "id": "75fPTto1QhWB"
      },
      "source": [
        "import math #python no redondea con 0.5\n",
        "def normal_round(n):\n",
        "    if n - math.floor(n) < 0.5:\n",
        "        return math.floor(n)\n",
        "    return math.ceil(n)\n",
        "\n",
        "\n",
        "d_siembr = calendario_siembra['D siem-recol'] \\\n",
        "  .map(lambda x: x.split('-')) \\\n",
        "  .map(lambda days: list(map(lambda day: normal_round(float(day) / 30), days))) \\\n",
        "  .map(lambda x: x if len(x) >= 2 else x*2)\n",
        "\n",
        "calendario_siembra['Min siem-recol'] = d_siembr.map(lambda x: x[0])\n",
        "calendario_siembra['Max siem-recol'] = d_siembr.map(lambda x: x[1])\n",
        "calendario_siembra.drop('D siem-recol', axis=1, inplace=True)\n",
        "\n"
      ],
      "execution_count": 558,
      "outputs": []
    },
    {
      "cell_type": "markdown",
      "metadata": {
        "id": "0iuNcEM3sqdy"
      },
      "source": [
        "### Tratar valores nulos xd (0000) "
      ]
    },
    {
      "cell_type": "code",
      "metadata": {
        "colab": {
          "base_uri": "https://localhost:8080/"
        },
        "id": "0Ifp4Q7FyzmM",
        "outputId": "6be87960-b4b1-4273-818f-a7b1bb66a18b"
      },
      "source": [
        "import pandas as pd\n",
        "pd.isnull(calendario_siembra).any()\n",
        "\n",
        "#df.dropna(axis=0, how='any', thresh=None, subset=None, inplace=True)"
      ],
      "execution_count": 559,
      "outputs": [
        {
          "output_type": "execute_result",
          "data": {
            "text/plain": [
              "Cultivo           False\n",
              "Inicio            False\n",
              "Fin               False\n",
              "Min siem-recol    False\n",
              "Max siem-recol    False\n",
              "dtype: bool"
            ]
          },
          "metadata": {},
          "execution_count": 559
        }
      ]
    },
    {
      "cell_type": "code",
      "metadata": {
        "colab": {
          "base_uri": "https://localhost:8080/"
        },
        "id": "bM5DDUTf0cqL",
        "outputId": "53565c52-6d0d-44d1-9e20-0fee46fdf2bc"
      },
      "source": [
        "import pandas as pd\n",
        "pd.isnull(consumo_CCAA).any()"
      ],
      "execution_count": 560,
      "outputs": [
        {
          "output_type": "execute_result",
          "data": {
            "text/plain": [
              "Año                      False\n",
              "Mes                      False\n",
              "CCAA                     False\n",
              "Producto                 False\n",
              "Volumen (miles de kg)    False\n",
              "Valor (miles de €)       False\n",
              "Precio medio kg          False\n",
              "Penetración (%)          False\n",
              "Consumo per capita       False\n",
              "Gasto per capita         False\n",
              "dtype: bool"
            ]
          },
          "metadata": {},
          "execution_count": 560
        }
      ]
    },
    {
      "cell_type": "code",
      "metadata": {
        "colab": {
          "base_uri": "https://localhost:8080/"
        },
        "id": "PExARkeBdUM-",
        "outputId": "6d1806af-8f2a-4594-cb3c-587b7f5453e0"
      },
      "source": [
        "pd.isnull(dat_mercaMadrid).any()"
      ],
      "execution_count": 561,
      "outputs": [
        {
          "output_type": "execute_result",
          "data": {
            "text/plain": [
              "product       False\n",
              "origen        False\n",
              "YEAR          False\n",
              "MONTH         False\n",
              "price_mean    False\n",
              "price_min     False\n",
              "price_max     False\n",
              "Volumen       False\n",
              "dtype: bool"
            ]
          },
          "metadata": {},
          "execution_count": 561
        }
      ]
    },
    {
      "cell_type": "code",
      "metadata": {
        "colab": {
          "base_uri": "https://localhost:8080/"
        },
        "id": "SS20CIfddUUQ",
        "outputId": "518f9dbe-3aed-4c6a-fd13-9b6b859fd447"
      },
      "source": [
        "pd.isnull(dat_mercaBarna).any()"
      ],
      "execution_count": 562,
      "outputs": [
        {
          "output_type": "execute_result",
          "data": {
            "text/plain": [
              "product       False\n",
              "origen        False\n",
              "YEAR          False\n",
              "MONTH         False\n",
              "price_mean    False\n",
              "Volumen       False\n",
              "dtype: bool"
            ]
          },
          "metadata": {},
          "execution_count": 562
        }
      ]
    },
    {
      "cell_type": "code",
      "metadata": {
        "colab": {
          "base_uri": "https://localhost:8080/"
        },
        "id": "v0vrmEwCdZPY",
        "outputId": "af54d8c0-3734-4f6d-aaa9-554a7f912598"
      },
      "source": [
        "pd.isnull(precios_JAndalucia).any()"
      ],
      "execution_count": 563,
      "outputs": [
        {
          "output_type": "execute_result",
          "data": {
            "text/plain": [
              "INICIO      False\n",
              "FIN         False\n",
              "PRODUCTO    False\n",
              "POSICION    False\n",
              "PRECIO      False\n",
              "dtype: bool"
            ]
          },
          "metadata": {},
          "execution_count": 563
        }
      ]
    },
    {
      "cell_type": "code",
      "metadata": {
        "colab": {
          "base_uri": "https://localhost:8080/"
        },
        "id": "4zYu1_85dd_i",
        "outputId": "2dc4ac18-5304-4951-e00a-5722cad4e852"
      },
      "source": [
        "pd.isnull(aemet).any()"
      ],
      "execution_count": 564,
      "outputs": [
        {
          "output_type": "execute_result",
          "data": {
            "text/plain": [
              "Provincia                    False\n",
              "Temperatura media (ºC)        True\n",
              "Precipitación 00-24h (mm)     True\n",
              "Fecha                        False\n",
              "dtype: bool"
            ]
          },
          "metadata": {},
          "execution_count": 564
        }
      ]
    },
    {
      "cell_type": "code",
      "metadata": {
        "colab": {
          "base_uri": "https://localhost:8080/"
        },
        "id": "SkZQ8Hqyd2Vq",
        "outputId": "37113de5-d323-424b-ac5f-6c3857f72de9"
      },
      "source": [
        "pd.isnull(aemet).sum(axis=0)"
      ],
      "execution_count": 565,
      "outputs": [
        {
          "output_type": "execute_result",
          "data": {
            "text/plain": [
              "Provincia                        0\n",
              "Temperatura media (ºC)       37567\n",
              "Precipitación 00-24h (mm)    45115\n",
              "Fecha                            0\n",
              "dtype: int64"
            ]
          },
          "metadata": {},
          "execution_count": 565
        }
      ]
    },
    {
      "cell_type": "code",
      "metadata": {
        "id": "mJ4umGEygBSt"
      },
      "source": [
        "# Agrupar por mes para ver la distribucion de nulos\n",
        "aemet['Año'] = aemet['Fecha'].map(lambda x : int(x.split('-')[0]))\n",
        "aemet['Mes'] = aemet['Fecha'].map(lambda x : int(x.split('-')[1]))\n",
        "aemet['Dia'] = aemet['Fecha'].map(lambda x : int(x.split('-')[2]))"
      ],
      "execution_count": 566,
      "outputs": []
    },
    {
      "cell_type": "code",
      "metadata": {
        "colab": {
          "base_uri": "https://localhost:8080/",
          "height": 206
        },
        "id": "txt86qT0hzNZ",
        "outputId": "e91bc776-cd0e-4033-eb3d-2efebb67675b"
      },
      "source": [
        "# Además, se borrara la columna fecha ya que es redundante\n",
        "aemet.drop('Fecha', axis=1, inplace=True)\n",
        "aemet.head()"
      ],
      "execution_count": 567,
      "outputs": [
        {
          "output_type": "execute_result",
          "data": {
            "text/html": [
              "<div>\n",
              "<style scoped>\n",
              "    .dataframe tbody tr th:only-of-type {\n",
              "        vertical-align: middle;\n",
              "    }\n",
              "\n",
              "    .dataframe tbody tr th {\n",
              "        vertical-align: top;\n",
              "    }\n",
              "\n",
              "    .dataframe thead th {\n",
              "        text-align: right;\n",
              "    }\n",
              "</style>\n",
              "<table border=\"1\" class=\"dataframe\">\n",
              "  <thead>\n",
              "    <tr style=\"text-align: right;\">\n",
              "      <th></th>\n",
              "      <th>Provincia</th>\n",
              "      <th>Temperatura media (ºC)</th>\n",
              "      <th>Precipitación 00-24h (mm)</th>\n",
              "      <th>Año</th>\n",
              "      <th>Mes</th>\n",
              "      <th>Dia</th>\n",
              "    </tr>\n",
              "  </thead>\n",
              "  <tbody>\n",
              "    <tr>\n",
              "      <th>0</th>\n",
              "      <td>Galicia</td>\n",
              "      <td>10.2</td>\n",
              "      <td>NaN</td>\n",
              "      <td>2018</td>\n",
              "      <td>3</td>\n",
              "      <td>7</td>\n",
              "    </tr>\n",
              "    <tr>\n",
              "      <th>1</th>\n",
              "      <td>Galicia</td>\n",
              "      <td>7.0</td>\n",
              "      <td>1.8</td>\n",
              "      <td>2018</td>\n",
              "      <td>3</td>\n",
              "      <td>7</td>\n",
              "    </tr>\n",
              "    <tr>\n",
              "      <th>2</th>\n",
              "      <td>Galicia</td>\n",
              "      <td>10.2</td>\n",
              "      <td>1.0</td>\n",
              "      <td>2018</td>\n",
              "      <td>3</td>\n",
              "      <td>7</td>\n",
              "    </tr>\n",
              "    <tr>\n",
              "      <th>3</th>\n",
              "      <td>Galicia</td>\n",
              "      <td>8.7</td>\n",
              "      <td>0.7</td>\n",
              "      <td>2018</td>\n",
              "      <td>3</td>\n",
              "      <td>7</td>\n",
              "    </tr>\n",
              "    <tr>\n",
              "      <th>4</th>\n",
              "      <td>Galicia</td>\n",
              "      <td>7.4</td>\n",
              "      <td>0.6</td>\n",
              "      <td>2018</td>\n",
              "      <td>3</td>\n",
              "      <td>7</td>\n",
              "    </tr>\n",
              "  </tbody>\n",
              "</table>\n",
              "</div>"
            ],
            "text/plain": [
              "  Provincia  Temperatura media (ºC)  Precipitación 00-24h (mm)   Año  Mes  Dia\n",
              "0   Galicia                    10.2                        NaN  2018    3    7\n",
              "1   Galicia                     7.0                        1.8  2018    3    7\n",
              "2   Galicia                    10.2                        1.0  2018    3    7\n",
              "3   Galicia                     8.7                        0.7  2018    3    7\n",
              "4   Galicia                     7.4                        0.6  2018    3    7"
            ]
          },
          "metadata": {},
          "execution_count": 567
        }
      ]
    },
    {
      "cell_type": "code",
      "metadata": {
        "id": "AR_oq9ImhzUG"
      },
      "source": [
        "#aux = aemet.groupby(['Provincia', 'Año' , 'Mes']).mean()\n",
        "#aux = aemet[aemet['Precipitación 00-24h (mm)'].isnull()].groupby(['Provincia', 'Año' , 'Mes'])\n"
      ],
      "execution_count": 568,
      "outputs": []
    },
    {
      "cell_type": "code",
      "metadata": {
        "id": "MhLTGvIOsb0h"
      },
      "source": [
        "import numpy as np\n",
        "\n",
        "aux = aemet.copy()\n",
        "def countNulls(x):\n",
        "  count = 0\n",
        "  if np.isnan(x[0]) or np.isnan(x[1]):\n",
        "    count += 1\n",
        "  return count\n",
        "\n",
        "aux['Nulls'] = list(map(lambda x: countNulls(x), zip(aux['Temperatura media (ºC)'], aux['Precipitación 00-24h (mm)'])))\n",
        "aux1 = aux.groupby(['Provincia', 'Año', 'Mes']).sum()[['Nulls']] # suma de filas con algun nulo\n",
        "#Quitar columnas"
      ],
      "execution_count": 569,
      "outputs": []
    },
    {
      "cell_type": "code",
      "metadata": {
        "colab": {
          "base_uri": "https://localhost:8080/",
          "height": 238
        },
        "id": "p8PjL033r8Gy",
        "outputId": "977dd215-77bf-4dd7-ed5b-d2558542beec"
      },
      "source": [
        "display(aux1.head())"
      ],
      "execution_count": 570,
      "outputs": [
        {
          "output_type": "display_data",
          "data": {
            "text/html": [
              "<div>\n",
              "<style scoped>\n",
              "    .dataframe tbody tr th:only-of-type {\n",
              "        vertical-align: middle;\n",
              "    }\n",
              "\n",
              "    .dataframe tbody tr th {\n",
              "        vertical-align: top;\n",
              "    }\n",
              "\n",
              "    .dataframe thead th {\n",
              "        text-align: right;\n",
              "    }\n",
              "</style>\n",
              "<table border=\"1\" class=\"dataframe\">\n",
              "  <thead>\n",
              "    <tr style=\"text-align: right;\">\n",
              "      <th></th>\n",
              "      <th></th>\n",
              "      <th></th>\n",
              "      <th>Nulls</th>\n",
              "    </tr>\n",
              "    <tr>\n",
              "      <th>Provincia</th>\n",
              "      <th>Año</th>\n",
              "      <th>Mes</th>\n",
              "      <th></th>\n",
              "    </tr>\n",
              "  </thead>\n",
              "  <tbody>\n",
              "    <tr>\n",
              "      <th rowspan=\"5\" valign=\"top\">Andalucia</th>\n",
              "      <th rowspan=\"5\" valign=\"top\">2018</th>\n",
              "      <th>1</th>\n",
              "      <td>187</td>\n",
              "    </tr>\n",
              "    <tr>\n",
              "      <th>2</th>\n",
              "      <td>134</td>\n",
              "    </tr>\n",
              "    <tr>\n",
              "      <th>3</th>\n",
              "      <td>344</td>\n",
              "    </tr>\n",
              "    <tr>\n",
              "      <th>4</th>\n",
              "      <td>249</td>\n",
              "    </tr>\n",
              "    <tr>\n",
              "      <th>5</th>\n",
              "      <td>245</td>\n",
              "    </tr>\n",
              "  </tbody>\n",
              "</table>\n",
              "</div>"
            ],
            "text/plain": [
              "                    Nulls\n",
              "Provincia Año  Mes       \n",
              "Andalucia 2018 1      187\n",
              "               2      134\n",
              "               3      344\n",
              "               4      249\n",
              "               5      245"
            ]
          },
          "metadata": {}
        }
      ]
    },
    {
      "cell_type": "code",
      "metadata": {
        "id": "DMznpQEm0WWp"
      },
      "source": [
        "aux2 = aux.groupby(['Provincia', 'Año', 'Mes']).count()['Dia'] # filtrar por un valor que no tiene nulos para obtener el n de filas por mes"
      ],
      "execution_count": 571,
      "outputs": []
    },
    {
      "cell_type": "code",
      "metadata": {
        "id": "zEUAHJ650zQ6",
        "colab": {
          "base_uri": "https://localhost:8080/",
          "height": 238
        },
        "outputId": "1248fdb6-883b-4f9c-f4c2-bc77f905140e"
      },
      "source": [
        "aux1['per_nulls'] = aux1['Nulls'] / aux2 *100\n",
        "aux1.head()"
      ],
      "execution_count": 572,
      "outputs": [
        {
          "output_type": "execute_result",
          "data": {
            "text/html": [
              "<div>\n",
              "<style scoped>\n",
              "    .dataframe tbody tr th:only-of-type {\n",
              "        vertical-align: middle;\n",
              "    }\n",
              "\n",
              "    .dataframe tbody tr th {\n",
              "        vertical-align: top;\n",
              "    }\n",
              "\n",
              "    .dataframe thead th {\n",
              "        text-align: right;\n",
              "    }\n",
              "</style>\n",
              "<table border=\"1\" class=\"dataframe\">\n",
              "  <thead>\n",
              "    <tr style=\"text-align: right;\">\n",
              "      <th></th>\n",
              "      <th></th>\n",
              "      <th></th>\n",
              "      <th>Nulls</th>\n",
              "      <th>per_nulls</th>\n",
              "    </tr>\n",
              "    <tr>\n",
              "      <th>Provincia</th>\n",
              "      <th>Año</th>\n",
              "      <th>Mes</th>\n",
              "      <th></th>\n",
              "      <th></th>\n",
              "    </tr>\n",
              "  </thead>\n",
              "  <tbody>\n",
              "    <tr>\n",
              "      <th rowspan=\"5\" valign=\"top\">Andalucia</th>\n",
              "      <th rowspan=\"5\" valign=\"top\">2018</th>\n",
              "      <th>1</th>\n",
              "      <td>187</td>\n",
              "      <td>5.373563</td>\n",
              "    </tr>\n",
              "    <tr>\n",
              "      <th>2</th>\n",
              "      <td>134</td>\n",
              "      <td>4.224464</td>\n",
              "    </tr>\n",
              "    <tr>\n",
              "      <th>3</th>\n",
              "      <td>344</td>\n",
              "      <td>9.736768</td>\n",
              "    </tr>\n",
              "    <tr>\n",
              "      <th>4</th>\n",
              "      <td>249</td>\n",
              "      <td>7.364685</td>\n",
              "    </tr>\n",
              "    <tr>\n",
              "      <th>5</th>\n",
              "      <td>245</td>\n",
              "      <td>7.097335</td>\n",
              "    </tr>\n",
              "  </tbody>\n",
              "</table>\n",
              "</div>"
            ],
            "text/plain": [
              "                    Nulls  per_nulls\n",
              "Provincia Año  Mes                  \n",
              "Andalucia 2018 1      187   5.373563\n",
              "               2      134   4.224464\n",
              "               3      344   9.736768\n",
              "               4      249   7.364685\n",
              "               5      245   7.097335"
            ]
          },
          "metadata": {},
          "execution_count": 572
        }
      ]
    },
    {
      "cell_type": "code",
      "metadata": {
        "id": "Se0eU1932nXZ"
      },
      "source": [
        "# Remove all the nulls \n",
        "aemet.dropna(inplace=True)"
      ],
      "execution_count": 573,
      "outputs": []
    },
    {
      "cell_type": "code",
      "metadata": {
        "colab": {
          "base_uri": "https://localhost:8080/"
        },
        "id": "F_jx-w_k4LvU",
        "outputId": "a0da0ae5-ef46-4b53-8d17-244e70bc31f1"
      },
      "source": [
        "pd.isnull(aemet).any()"
      ],
      "execution_count": 574,
      "outputs": [
        {
          "output_type": "execute_result",
          "data": {
            "text/plain": [
              "Provincia                    False\n",
              "Temperatura media (ºC)       False\n",
              "Precipitación 00-24h (mm)    False\n",
              "Año                          False\n",
              "Mes                          False\n",
              "Dia                          False\n",
              "dtype: bool"
            ]
          },
          "metadata": {},
          "execution_count": 574
        }
      ]
    },
    {
      "cell_type": "code",
      "metadata": {
        "colab": {
          "base_uri": "https://localhost:8080/",
          "height": 206
        },
        "id": "pLg4Bqna4koC",
        "outputId": "a87bc1aa-bd38-47de-ab38-30ad51b61906"
      },
      "source": [
        "aemet.head()"
      ],
      "execution_count": 575,
      "outputs": [
        {
          "output_type": "execute_result",
          "data": {
            "text/html": [
              "<div>\n",
              "<style scoped>\n",
              "    .dataframe tbody tr th:only-of-type {\n",
              "        vertical-align: middle;\n",
              "    }\n",
              "\n",
              "    .dataframe tbody tr th {\n",
              "        vertical-align: top;\n",
              "    }\n",
              "\n",
              "    .dataframe thead th {\n",
              "        text-align: right;\n",
              "    }\n",
              "</style>\n",
              "<table border=\"1\" class=\"dataframe\">\n",
              "  <thead>\n",
              "    <tr style=\"text-align: right;\">\n",
              "      <th></th>\n",
              "      <th>Provincia</th>\n",
              "      <th>Temperatura media (ºC)</th>\n",
              "      <th>Precipitación 00-24h (mm)</th>\n",
              "      <th>Año</th>\n",
              "      <th>Mes</th>\n",
              "      <th>Dia</th>\n",
              "    </tr>\n",
              "  </thead>\n",
              "  <tbody>\n",
              "    <tr>\n",
              "      <th>1</th>\n",
              "      <td>Galicia</td>\n",
              "      <td>7.0</td>\n",
              "      <td>1.8</td>\n",
              "      <td>2018</td>\n",
              "      <td>3</td>\n",
              "      <td>7</td>\n",
              "    </tr>\n",
              "    <tr>\n",
              "      <th>2</th>\n",
              "      <td>Galicia</td>\n",
              "      <td>10.2</td>\n",
              "      <td>1.0</td>\n",
              "      <td>2018</td>\n",
              "      <td>3</td>\n",
              "      <td>7</td>\n",
              "    </tr>\n",
              "    <tr>\n",
              "      <th>3</th>\n",
              "      <td>Galicia</td>\n",
              "      <td>8.7</td>\n",
              "      <td>0.7</td>\n",
              "      <td>2018</td>\n",
              "      <td>3</td>\n",
              "      <td>7</td>\n",
              "    </tr>\n",
              "    <tr>\n",
              "      <th>4</th>\n",
              "      <td>Galicia</td>\n",
              "      <td>7.4</td>\n",
              "      <td>0.6</td>\n",
              "      <td>2018</td>\n",
              "      <td>3</td>\n",
              "      <td>7</td>\n",
              "    </tr>\n",
              "    <tr>\n",
              "      <th>5</th>\n",
              "      <td>Galicia</td>\n",
              "      <td>10.3</td>\n",
              "      <td>1.8</td>\n",
              "      <td>2018</td>\n",
              "      <td>3</td>\n",
              "      <td>7</td>\n",
              "    </tr>\n",
              "  </tbody>\n",
              "</table>\n",
              "</div>"
            ],
            "text/plain": [
              "  Provincia  Temperatura media (ºC)  Precipitación 00-24h (mm)   Año  Mes  Dia\n",
              "1   Galicia                     7.0                        1.8  2018    3    7\n",
              "2   Galicia                    10.2                        1.0  2018    3    7\n",
              "3   Galicia                     8.7                        0.7  2018    3    7\n",
              "4   Galicia                     7.4                        0.6  2018    3    7\n",
              "5   Galicia                    10.3                        1.8  2018    3    7"
            ]
          },
          "metadata": {},
          "execution_count": 575
        }
      ]
    },
    {
      "cell_type": "markdown",
      "metadata": {
        "id": "LRSNgU7n6GZ4"
      },
      "source": [
        "### Chekeamiento de valores"
      ]
    },
    {
      "cell_type": "code",
      "metadata": {
        "colab": {
          "base_uri": "https://localhost:8080/",
          "height": 300
        },
        "id": "qA5Ik9to6Nzs",
        "outputId": "c3435107-908c-46ed-fb5a-ca9dc6ae90e6"
      },
      "source": [
        "calendario_siembra.describe()"
      ],
      "execution_count": 576,
      "outputs": [
        {
          "output_type": "execute_result",
          "data": {
            "text/html": [
              "<div>\n",
              "<style scoped>\n",
              "    .dataframe tbody tr th:only-of-type {\n",
              "        vertical-align: middle;\n",
              "    }\n",
              "\n",
              "    .dataframe tbody tr th {\n",
              "        vertical-align: top;\n",
              "    }\n",
              "\n",
              "    .dataframe thead th {\n",
              "        text-align: right;\n",
              "    }\n",
              "</style>\n",
              "<table border=\"1\" class=\"dataframe\">\n",
              "  <thead>\n",
              "    <tr style=\"text-align: right;\">\n",
              "      <th></th>\n",
              "      <th>Inicio</th>\n",
              "      <th>Fin</th>\n",
              "      <th>Min siem-recol</th>\n",
              "      <th>Max siem-recol</th>\n",
              "    </tr>\n",
              "  </thead>\n",
              "  <tbody>\n",
              "    <tr>\n",
              "      <th>count</th>\n",
              "      <td>64.000000</td>\n",
              "      <td>64.000000</td>\n",
              "      <td>64.000000</td>\n",
              "      <td>64.00000</td>\n",
              "    </tr>\n",
              "    <tr>\n",
              "      <th>mean</th>\n",
              "      <td>6.718750</td>\n",
              "      <td>6.218750</td>\n",
              "      <td>3.046875</td>\n",
              "      <td>3.53125</td>\n",
              "    </tr>\n",
              "    <tr>\n",
              "      <th>std</th>\n",
              "      <td>3.701003</td>\n",
              "      <td>3.410855</td>\n",
              "      <td>0.652947</td>\n",
              "      <td>0.95898</td>\n",
              "    </tr>\n",
              "    <tr>\n",
              "      <th>min</th>\n",
              "      <td>2.000000</td>\n",
              "      <td>2.000000</td>\n",
              "      <td>2.000000</td>\n",
              "      <td>2.00000</td>\n",
              "    </tr>\n",
              "    <tr>\n",
              "      <th>25%</th>\n",
              "      <td>3.000000</td>\n",
              "      <td>5.000000</td>\n",
              "      <td>3.000000</td>\n",
              "      <td>3.00000</td>\n",
              "    </tr>\n",
              "    <tr>\n",
              "      <th>50%</th>\n",
              "      <td>6.000000</td>\n",
              "      <td>5.000000</td>\n",
              "      <td>3.000000</td>\n",
              "      <td>3.00000</td>\n",
              "    </tr>\n",
              "    <tr>\n",
              "      <th>75%</th>\n",
              "      <td>9.000000</td>\n",
              "      <td>11.000000</td>\n",
              "      <td>3.000000</td>\n",
              "      <td>4.00000</td>\n",
              "    </tr>\n",
              "    <tr>\n",
              "      <th>max</th>\n",
              "      <td>12.000000</td>\n",
              "      <td>11.000000</td>\n",
              "      <td>4.000000</td>\n",
              "      <td>6.00000</td>\n",
              "    </tr>\n",
              "  </tbody>\n",
              "</table>\n",
              "</div>"
            ],
            "text/plain": [
              "          Inicio        Fin  Min siem-recol  Max siem-recol\n",
              "count  64.000000  64.000000       64.000000        64.00000\n",
              "mean    6.718750   6.218750        3.046875         3.53125\n",
              "std     3.701003   3.410855        0.652947         0.95898\n",
              "min     2.000000   2.000000        2.000000         2.00000\n",
              "25%     3.000000   5.000000        3.000000         3.00000\n",
              "50%     6.000000   5.000000        3.000000         3.00000\n",
              "75%     9.000000  11.000000        3.000000         4.00000\n",
              "max    12.000000  11.000000        4.000000         6.00000"
            ]
          },
          "metadata": {},
          "execution_count": 576
        }
      ]
    },
    {
      "cell_type": "code",
      "metadata": {
        "colab": {
          "base_uri": "https://localhost:8080/",
          "height": 318
        },
        "id": "K-kuggca6N7_",
        "outputId": "7f471de3-1fb6-46ee-d75d-f91c30a29176"
      },
      "source": [
        "consumo_CCAA.describe()"
      ],
      "execution_count": 577,
      "outputs": [
        {
          "output_type": "execute_result",
          "data": {
            "text/html": [
              "<div>\n",
              "<style scoped>\n",
              "    .dataframe tbody tr th:only-of-type {\n",
              "        vertical-align: middle;\n",
              "    }\n",
              "\n",
              "    .dataframe tbody tr th {\n",
              "        vertical-align: top;\n",
              "    }\n",
              "\n",
              "    .dataframe thead th {\n",
              "        text-align: right;\n",
              "    }\n",
              "</style>\n",
              "<table border=\"1\" class=\"dataframe\">\n",
              "  <thead>\n",
              "    <tr style=\"text-align: right;\">\n",
              "      <th></th>\n",
              "      <th>Año</th>\n",
              "      <th>Mes</th>\n",
              "      <th>Volumen (miles de kg)</th>\n",
              "      <th>Valor (miles de €)</th>\n",
              "      <th>Precio medio kg</th>\n",
              "      <th>Penetración (%)</th>\n",
              "      <th>Consumo per capita</th>\n",
              "      <th>Gasto per capita</th>\n",
              "    </tr>\n",
              "  </thead>\n",
              "  <tbody>\n",
              "    <tr>\n",
              "      <th>count</th>\n",
              "      <td>9078.000000</td>\n",
              "      <td>9078.000000</td>\n",
              "      <td>9078.000000</td>\n",
              "      <td>9078.000000</td>\n",
              "      <td>9078.000000</td>\n",
              "      <td>9078.000000</td>\n",
              "      <td>9078.000000</td>\n",
              "      <td>9078.000000</td>\n",
              "    </tr>\n",
              "    <tr>\n",
              "      <th>mean</th>\n",
              "      <td>2018.853933</td>\n",
              "      <td>5.859551</td>\n",
              "      <td>1075.080184</td>\n",
              "      <td>1481.313506</td>\n",
              "      <td>1.833669</td>\n",
              "      <td>39.009210</td>\n",
              "      <td>0.393417</td>\n",
              "      <td>0.547362</td>\n",
              "    </tr>\n",
              "    <tr>\n",
              "      <th>std</th>\n",
              "      <td>0.742805</td>\n",
              "      <td>3.392309</td>\n",
              "      <td>2077.398821</td>\n",
              "      <td>2416.738738</td>\n",
              "      <td>0.943047</td>\n",
              "      <td>23.389702</td>\n",
              "      <td>0.514203</td>\n",
              "      <td>0.573987</td>\n",
              "    </tr>\n",
              "    <tr>\n",
              "      <th>min</th>\n",
              "      <td>2018.000000</td>\n",
              "      <td>1.000000</td>\n",
              "      <td>0.000000</td>\n",
              "      <td>0.000000</td>\n",
              "      <td>0.000000</td>\n",
              "      <td>0.000000</td>\n",
              "      <td>0.000000</td>\n",
              "      <td>0.000000</td>\n",
              "    </tr>\n",
              "    <tr>\n",
              "      <th>25%</th>\n",
              "      <td>2018.000000</td>\n",
              "      <td>3.000000</td>\n",
              "      <td>117.720000</td>\n",
              "      <td>224.362500</td>\n",
              "      <td>1.200000</td>\n",
              "      <td>19.160000</td>\n",
              "      <td>0.080000</td>\n",
              "      <td>0.160000</td>\n",
              "    </tr>\n",
              "    <tr>\n",
              "      <th>50%</th>\n",
              "      <td>2019.000000</td>\n",
              "      <td>5.000000</td>\n",
              "      <td>347.550000</td>\n",
              "      <td>612.160000</td>\n",
              "      <td>1.610000</td>\n",
              "      <td>36.560000</td>\n",
              "      <td>0.200000</td>\n",
              "      <td>0.320000</td>\n",
              "    </tr>\n",
              "    <tr>\n",
              "      <th>75%</th>\n",
              "      <td>2019.000000</td>\n",
              "      <td>9.000000</td>\n",
              "      <td>1059.345000</td>\n",
              "      <td>1679.580000</td>\n",
              "      <td>2.180000</td>\n",
              "      <td>59.530000</td>\n",
              "      <td>0.440000</td>\n",
              "      <td>0.770000</td>\n",
              "    </tr>\n",
              "    <tr>\n",
              "      <th>max</th>\n",
              "      <td>2020.000000</td>\n",
              "      <td>12.000000</td>\n",
              "      <td>20478.430000</td>\n",
              "      <td>22990.810000</td>\n",
              "      <td>8.780000</td>\n",
              "      <td>96.520000</td>\n",
              "      <td>4.360000</td>\n",
              "      <td>5.140000</td>\n",
              "    </tr>\n",
              "  </tbody>\n",
              "</table>\n",
              "</div>"
            ],
            "text/plain": [
              "               Año          Mes  ...  Consumo per capita  Gasto per capita\n",
              "count  9078.000000  9078.000000  ...         9078.000000       9078.000000\n",
              "mean   2018.853933     5.859551  ...            0.393417          0.547362\n",
              "std       0.742805     3.392309  ...            0.514203          0.573987\n",
              "min    2018.000000     1.000000  ...            0.000000          0.000000\n",
              "25%    2018.000000     3.000000  ...            0.080000          0.160000\n",
              "50%    2019.000000     5.000000  ...            0.200000          0.320000\n",
              "75%    2019.000000     9.000000  ...            0.440000          0.770000\n",
              "max    2020.000000    12.000000  ...            4.360000          5.140000\n",
              "\n",
              "[8 rows x 8 columns]"
            ]
          },
          "metadata": {},
          "execution_count": 577
        }
      ]
    },
    {
      "cell_type": "code",
      "metadata": {
        "colab": {
          "base_uri": "https://localhost:8080/",
          "height": 300
        },
        "id": "3HSC_4516OC3",
        "outputId": "8642a87e-f8ea-4f70-85ba-e33d3d160c2e"
      },
      "source": [
        "dat_mercaMadrid.describe()"
      ],
      "execution_count": 578,
      "outputs": [
        {
          "output_type": "execute_result",
          "data": {
            "text/html": [
              "<div>\n",
              "<style scoped>\n",
              "    .dataframe tbody tr th:only-of-type {\n",
              "        vertical-align: middle;\n",
              "    }\n",
              "\n",
              "    .dataframe tbody tr th {\n",
              "        vertical-align: top;\n",
              "    }\n",
              "\n",
              "    .dataframe thead th {\n",
              "        text-align: right;\n",
              "    }\n",
              "</style>\n",
              "<table border=\"1\" class=\"dataframe\">\n",
              "  <thead>\n",
              "    <tr style=\"text-align: right;\">\n",
              "      <th></th>\n",
              "      <th>YEAR</th>\n",
              "      <th>MONTH</th>\n",
              "      <th>price_mean</th>\n",
              "      <th>price_min</th>\n",
              "      <th>price_max</th>\n",
              "      <th>Volumen</th>\n",
              "    </tr>\n",
              "  </thead>\n",
              "  <tbody>\n",
              "    <tr>\n",
              "      <th>count</th>\n",
              "      <td>33898.000000</td>\n",
              "      <td>33898.000000</td>\n",
              "      <td>33898.000000</td>\n",
              "      <td>33898.000000</td>\n",
              "      <td>33898.000000</td>\n",
              "      <td>3.389800e+04</td>\n",
              "    </tr>\n",
              "    <tr>\n",
              "      <th>mean</th>\n",
              "      <td>2018.934096</td>\n",
              "      <td>6.454422</td>\n",
              "      <td>1.092612</td>\n",
              "      <td>0.739530</td>\n",
              "      <td>1.568666</td>\n",
              "      <td>6.954446e+04</td>\n",
              "    </tr>\n",
              "    <tr>\n",
              "      <th>std</th>\n",
              "      <td>0.796391</td>\n",
              "      <td>3.349925</td>\n",
              "      <td>0.940910</td>\n",
              "      <td>0.667397</td>\n",
              "      <td>3.563890</td>\n",
              "      <td>2.496999e+05</td>\n",
              "    </tr>\n",
              "    <tr>\n",
              "      <th>min</th>\n",
              "      <td>2018.000000</td>\n",
              "      <td>1.000000</td>\n",
              "      <td>0.000000</td>\n",
              "      <td>0.000000</td>\n",
              "      <td>0.000000</td>\n",
              "      <td>2.000000e+00</td>\n",
              "    </tr>\n",
              "    <tr>\n",
              "      <th>25%</th>\n",
              "      <td>2018.000000</td>\n",
              "      <td>4.000000</td>\n",
              "      <td>0.500000</td>\n",
              "      <td>0.380000</td>\n",
              "      <td>0.620000</td>\n",
              "      <td>1.464250e+03</td>\n",
              "    </tr>\n",
              "    <tr>\n",
              "      <th>50%</th>\n",
              "      <td>2019.000000</td>\n",
              "      <td>7.000000</td>\n",
              "      <td>0.800000</td>\n",
              "      <td>0.550000</td>\n",
              "      <td>1.000000</td>\n",
              "      <td>5.810000e+03</td>\n",
              "    </tr>\n",
              "    <tr>\n",
              "      <th>75%</th>\n",
              "      <td>2020.000000</td>\n",
              "      <td>9.000000</td>\n",
              "      <td>1.350000</td>\n",
              "      <td>0.900000</td>\n",
              "      <td>1.900000</td>\n",
              "      <td>2.806150e+04</td>\n",
              "    </tr>\n",
              "    <tr>\n",
              "      <th>max</th>\n",
              "      <td>2020.000000</td>\n",
              "      <td>12.000000</td>\n",
              "      <td>12.500000</td>\n",
              "      <td>8.000000</td>\n",
              "      <td>350.000000</td>\n",
              "      <td>7.262361e+06</td>\n",
              "    </tr>\n",
              "  </tbody>\n",
              "</table>\n",
              "</div>"
            ],
            "text/plain": [
              "               YEAR         MONTH  ...     price_max       Volumen\n",
              "count  33898.000000  33898.000000  ...  33898.000000  3.389800e+04\n",
              "mean    2018.934096      6.454422  ...      1.568666  6.954446e+04\n",
              "std        0.796391      3.349925  ...      3.563890  2.496999e+05\n",
              "min     2018.000000      1.000000  ...      0.000000  2.000000e+00\n",
              "25%     2018.000000      4.000000  ...      0.620000  1.464250e+03\n",
              "50%     2019.000000      7.000000  ...      1.000000  5.810000e+03\n",
              "75%     2020.000000      9.000000  ...      1.900000  2.806150e+04\n",
              "max     2020.000000     12.000000  ...    350.000000  7.262361e+06\n",
              "\n",
              "[8 rows x 6 columns]"
            ]
          },
          "metadata": {},
          "execution_count": 578
        }
      ]
    },
    {
      "cell_type": "code",
      "metadata": {
        "colab": {
          "base_uri": "https://localhost:8080/",
          "height": 300
        },
        "id": "lPGfQL706sgQ",
        "outputId": "e8cff4f9-0e7f-408b-f6b6-67c39d45332b"
      },
      "source": [
        "dat_mercaBarna.describe()"
      ],
      "execution_count": 579,
      "outputs": [
        {
          "output_type": "execute_result",
          "data": {
            "text/html": [
              "<div>\n",
              "<style scoped>\n",
              "    .dataframe tbody tr th:only-of-type {\n",
              "        vertical-align: middle;\n",
              "    }\n",
              "\n",
              "    .dataframe tbody tr th {\n",
              "        vertical-align: top;\n",
              "    }\n",
              "\n",
              "    .dataframe thead th {\n",
              "        text-align: right;\n",
              "    }\n",
              "</style>\n",
              "<table border=\"1\" class=\"dataframe\">\n",
              "  <thead>\n",
              "    <tr style=\"text-align: right;\">\n",
              "      <th></th>\n",
              "      <th>YEAR</th>\n",
              "      <th>MONTH</th>\n",
              "      <th>price_mean</th>\n",
              "      <th>Volumen</th>\n",
              "    </tr>\n",
              "  </thead>\n",
              "  <tbody>\n",
              "    <tr>\n",
              "      <th>count</th>\n",
              "      <td>13681.000000</td>\n",
              "      <td>13681.000000</td>\n",
              "      <td>13681.000000</td>\n",
              "      <td>1.368100e+04</td>\n",
              "    </tr>\n",
              "    <tr>\n",
              "      <th>mean</th>\n",
              "      <td>2018.915723</td>\n",
              "      <td>6.342080</td>\n",
              "      <td>1.018298</td>\n",
              "      <td>8.379785e+04</td>\n",
              "    </tr>\n",
              "    <tr>\n",
              "      <th>std</th>\n",
              "      <td>0.808933</td>\n",
              "      <td>3.349381</td>\n",
              "      <td>0.727834</td>\n",
              "      <td>2.683928e+05</td>\n",
              "    </tr>\n",
              "    <tr>\n",
              "      <th>min</th>\n",
              "      <td>2018.000000</td>\n",
              "      <td>1.000000</td>\n",
              "      <td>0.230000</td>\n",
              "      <td>1.000000e+00</td>\n",
              "    </tr>\n",
              "    <tr>\n",
              "      <th>25%</th>\n",
              "      <td>2018.000000</td>\n",
              "      <td>4.000000</td>\n",
              "      <td>0.584545</td>\n",
              "      <td>1.327000e+03</td>\n",
              "    </tr>\n",
              "    <tr>\n",
              "      <th>50%</th>\n",
              "      <td>2019.000000</td>\n",
              "      <td>6.000000</td>\n",
              "      <td>0.758333</td>\n",
              "      <td>8.550000e+03</td>\n",
              "    </tr>\n",
              "    <tr>\n",
              "      <th>75%</th>\n",
              "      <td>2020.000000</td>\n",
              "      <td>9.000000</td>\n",
              "      <td>1.150000</td>\n",
              "      <td>4.493300e+04</td>\n",
              "    </tr>\n",
              "    <tr>\n",
              "      <th>max</th>\n",
              "      <td>2020.000000</td>\n",
              "      <td>12.000000</td>\n",
              "      <td>5.662500</td>\n",
              "      <td>4.978898e+06</td>\n",
              "    </tr>\n",
              "  </tbody>\n",
              "</table>\n",
              "</div>"
            ],
            "text/plain": [
              "               YEAR         MONTH    price_mean       Volumen\n",
              "count  13681.000000  13681.000000  13681.000000  1.368100e+04\n",
              "mean    2018.915723      6.342080      1.018298  8.379785e+04\n",
              "std        0.808933      3.349381      0.727834  2.683928e+05\n",
              "min     2018.000000      1.000000      0.230000  1.000000e+00\n",
              "25%     2018.000000      4.000000      0.584545  1.327000e+03\n",
              "50%     2019.000000      6.000000      0.758333  8.550000e+03\n",
              "75%     2020.000000      9.000000      1.150000  4.493300e+04\n",
              "max     2020.000000     12.000000      5.662500  4.978898e+06"
            ]
          },
          "metadata": {},
          "execution_count": 579
        }
      ]
    },
    {
      "cell_type": "code",
      "metadata": {
        "colab": {
          "base_uri": "https://localhost:8080/",
          "height": 300
        },
        "id": "5KNfCVEV6snL",
        "outputId": "624e8a28-7659-49d9-e3d4-3744228cedc9"
      },
      "source": [
        "precios_JAndalucia.describe()"
      ],
      "execution_count": 580,
      "outputs": [
        {
          "output_type": "execute_result",
          "data": {
            "text/html": [
              "<div>\n",
              "<style scoped>\n",
              "    .dataframe tbody tr th:only-of-type {\n",
              "        vertical-align: middle;\n",
              "    }\n",
              "\n",
              "    .dataframe tbody tr th {\n",
              "        vertical-align: top;\n",
              "    }\n",
              "\n",
              "    .dataframe thead th {\n",
              "        text-align: right;\n",
              "    }\n",
              "</style>\n",
              "<table border=\"1\" class=\"dataframe\">\n",
              "  <thead>\n",
              "    <tr style=\"text-align: right;\">\n",
              "      <th></th>\n",
              "      <th>PRECIO</th>\n",
              "    </tr>\n",
              "  </thead>\n",
              "  <tbody>\n",
              "    <tr>\n",
              "      <th>count</th>\n",
              "      <td>13838.000000</td>\n",
              "    </tr>\n",
              "    <tr>\n",
              "      <th>mean</th>\n",
              "      <td>0.786503</td>\n",
              "    </tr>\n",
              "    <tr>\n",
              "      <th>std</th>\n",
              "      <td>0.682536</td>\n",
              "    </tr>\n",
              "    <tr>\n",
              "      <th>min</th>\n",
              "      <td>0.010000</td>\n",
              "    </tr>\n",
              "    <tr>\n",
              "      <th>25%</th>\n",
              "      <td>0.320000</td>\n",
              "    </tr>\n",
              "    <tr>\n",
              "      <th>50%</th>\n",
              "      <td>0.620000</td>\n",
              "    </tr>\n",
              "    <tr>\n",
              "      <th>75%</th>\n",
              "      <td>1.030000</td>\n",
              "    </tr>\n",
              "    <tr>\n",
              "      <th>max</th>\n",
              "      <td>8.690000</td>\n",
              "    </tr>\n",
              "  </tbody>\n",
              "</table>\n",
              "</div>"
            ],
            "text/plain": [
              "             PRECIO\n",
              "count  13838.000000\n",
              "mean       0.786503\n",
              "std        0.682536\n",
              "min        0.010000\n",
              "25%        0.320000\n",
              "50%        0.620000\n",
              "75%        1.030000\n",
              "max        8.690000"
            ]
          },
          "metadata": {},
          "execution_count": 580
        }
      ]
    },
    {
      "cell_type": "code",
      "metadata": {
        "colab": {
          "base_uri": "https://localhost:8080/",
          "height": 300
        },
        "id": "jgoeWbnW6zVn",
        "outputId": "0e03c69a-24ab-4517-caca-eca4d1702610"
      },
      "source": [
        "aemet.describe()"
      ],
      "execution_count": 581,
      "outputs": [
        {
          "output_type": "execute_result",
          "data": {
            "text/html": [
              "<div>\n",
              "<style scoped>\n",
              "    .dataframe tbody tr th:only-of-type {\n",
              "        vertical-align: middle;\n",
              "    }\n",
              "\n",
              "    .dataframe tbody tr th {\n",
              "        vertical-align: top;\n",
              "    }\n",
              "\n",
              "    .dataframe thead th {\n",
              "        text-align: right;\n",
              "    }\n",
              "</style>\n",
              "<table border=\"1\" class=\"dataframe\">\n",
              "  <thead>\n",
              "    <tr style=\"text-align: right;\">\n",
              "      <th></th>\n",
              "      <th>Temperatura media (ºC)</th>\n",
              "      <th>Precipitación 00-24h (mm)</th>\n",
              "      <th>Año</th>\n",
              "      <th>Mes</th>\n",
              "      <th>Dia</th>\n",
              "    </tr>\n",
              "  </thead>\n",
              "  <tbody>\n",
              "    <tr>\n",
              "      <th>count</th>\n",
              "      <td>811893.000000</td>\n",
              "      <td>811893.000000</td>\n",
              "      <td>811893.000000</td>\n",
              "      <td>811893.000000</td>\n",
              "      <td>811893.000000</td>\n",
              "    </tr>\n",
              "    <tr>\n",
              "      <th>mean</th>\n",
              "      <td>15.327651</td>\n",
              "      <td>1.849144</td>\n",
              "      <td>2018.999915</td>\n",
              "      <td>6.521178</td>\n",
              "      <td>15.765655</td>\n",
              "    </tr>\n",
              "    <tr>\n",
              "      <th>std</th>\n",
              "      <td>6.883050</td>\n",
              "      <td>6.414804</td>\n",
              "      <td>0.814722</td>\n",
              "      <td>3.450967</td>\n",
              "      <td>8.795279</td>\n",
              "    </tr>\n",
              "    <tr>\n",
              "      <th>min</th>\n",
              "      <td>-9.500000</td>\n",
              "      <td>0.000000</td>\n",
              "      <td>2018.000000</td>\n",
              "      <td>1.000000</td>\n",
              "      <td>1.000000</td>\n",
              "    </tr>\n",
              "    <tr>\n",
              "      <th>25%</th>\n",
              "      <td>10.100000</td>\n",
              "      <td>0.000000</td>\n",
              "      <td>2018.000000</td>\n",
              "      <td>4.000000</td>\n",
              "      <td>8.000000</td>\n",
              "    </tr>\n",
              "    <tr>\n",
              "      <th>50%</th>\n",
              "      <td>15.100000</td>\n",
              "      <td>0.000000</td>\n",
              "      <td>2019.000000</td>\n",
              "      <td>7.000000</td>\n",
              "      <td>16.000000</td>\n",
              "    </tr>\n",
              "    <tr>\n",
              "      <th>75%</th>\n",
              "      <td>20.600000</td>\n",
              "      <td>0.200000</td>\n",
              "      <td>2020.000000</td>\n",
              "      <td>10.000000</td>\n",
              "      <td>23.000000</td>\n",
              "    </tr>\n",
              "    <tr>\n",
              "      <th>max</th>\n",
              "      <td>37.200000</td>\n",
              "      <td>352.200000</td>\n",
              "      <td>2020.000000</td>\n",
              "      <td>12.000000</td>\n",
              "      <td>31.000000</td>\n",
              "    </tr>\n",
              "  </tbody>\n",
              "</table>\n",
              "</div>"
            ],
            "text/plain": [
              "       Temperatura media (ºC)  ...            Dia\n",
              "count           811893.000000  ...  811893.000000\n",
              "mean                15.327651  ...      15.765655\n",
              "std                  6.883050  ...       8.795279\n",
              "min                 -9.500000  ...       1.000000\n",
              "25%                 10.100000  ...       8.000000\n",
              "50%                 15.100000  ...      16.000000\n",
              "75%                 20.600000  ...      23.000000\n",
              "max                 37.200000  ...      31.000000\n",
              "\n",
              "[8 rows x 5 columns]"
            ]
          },
          "metadata": {},
          "execution_count": 581
        }
      ]
    },
    {
      "cell_type": "code",
      "metadata": {
        "colab": {
          "base_uri": "https://localhost:8080/",
          "height": 81
        },
        "id": "cG1Pn8Os7VtU",
        "outputId": "49ac38cf-4c5e-4a5c-9c10-b97f4da341e0"
      },
      "source": [
        "aemet[aemet['Temperatura media (ºC)'] <= -9.5]"
      ],
      "execution_count": 582,
      "outputs": [
        {
          "output_type": "execute_result",
          "data": {
            "text/html": [
              "<div>\n",
              "<style scoped>\n",
              "    .dataframe tbody tr th:only-of-type {\n",
              "        vertical-align: middle;\n",
              "    }\n",
              "\n",
              "    .dataframe tbody tr th {\n",
              "        vertical-align: top;\n",
              "    }\n",
              "\n",
              "    .dataframe thead th {\n",
              "        text-align: right;\n",
              "    }\n",
              "</style>\n",
              "<table border=\"1\" class=\"dataframe\">\n",
              "  <thead>\n",
              "    <tr style=\"text-align: right;\">\n",
              "      <th></th>\n",
              "      <th>Provincia</th>\n",
              "      <th>Temperatura media (ºC)</th>\n",
              "      <th>Precipitación 00-24h (mm)</th>\n",
              "      <th>Año</th>\n",
              "      <th>Mes</th>\n",
              "      <th>Dia</th>\n",
              "    </tr>\n",
              "  </thead>\n",
              "  <tbody>\n",
              "    <tr>\n",
              "      <th>80100</th>\n",
              "      <td>Castilla Leon</td>\n",
              "      <td>-9.5</td>\n",
              "      <td>4.4</td>\n",
              "      <td>2018</td>\n",
              "      <td>1</td>\n",
              "      <td>8</td>\n",
              "    </tr>\n",
              "  </tbody>\n",
              "</table>\n",
              "</div>"
            ],
            "text/plain": [
              "           Provincia  Temperatura media (ºC)  ...  Mes  Dia\n",
              "80100  Castilla Leon                    -9.5  ...    1    8\n",
              "\n",
              "[1 rows x 6 columns]"
            ]
          },
          "metadata": {},
          "execution_count": 582
        }
      ]
    },
    {
      "cell_type": "markdown",
      "metadata": {
        "id": "bPGVMO13q6MI"
      },
      "source": [
        "### RESULTADOS HEAD "
      ]
    },
    {
      "cell_type": "code",
      "metadata": {
        "colab": {
          "base_uri": "https://localhost:8080/",
          "height": 206
        },
        "id": "pikDEJDuX6XL",
        "outputId": "c00444bb-43e4-4203-cb41-d0204dc42a71"
      },
      "source": [
        "calendario_siembra.head()"
      ],
      "execution_count": 583,
      "outputs": [
        {
          "output_type": "execute_result",
          "data": {
            "text/html": [
              "<div>\n",
              "<style scoped>\n",
              "    .dataframe tbody tr th:only-of-type {\n",
              "        vertical-align: middle;\n",
              "    }\n",
              "\n",
              "    .dataframe tbody tr th {\n",
              "        vertical-align: top;\n",
              "    }\n",
              "\n",
              "    .dataframe thead th {\n",
              "        text-align: right;\n",
              "    }\n",
              "</style>\n",
              "<table border=\"1\" class=\"dataframe\">\n",
              "  <thead>\n",
              "    <tr style=\"text-align: right;\">\n",
              "      <th></th>\n",
              "      <th>Cultivo</th>\n",
              "      <th>Inicio</th>\n",
              "      <th>Fin</th>\n",
              "      <th>Min siem-recol</th>\n",
              "      <th>Max siem-recol</th>\n",
              "    </tr>\n",
              "  </thead>\n",
              "  <tbody>\n",
              "    <tr>\n",
              "      <th>0</th>\n",
              "      <td>ACELGA</td>\n",
              "      <td>9</td>\n",
              "      <td>11</td>\n",
              "      <td>3</td>\n",
              "      <td>3</td>\n",
              "    </tr>\n",
              "    <tr>\n",
              "      <th>1</th>\n",
              "      <td>ACELGA</td>\n",
              "      <td>3</td>\n",
              "      <td>5</td>\n",
              "      <td>3</td>\n",
              "      <td>3</td>\n",
              "    </tr>\n",
              "    <tr>\n",
              "      <th>2</th>\n",
              "      <td>AJO</td>\n",
              "      <td>9</td>\n",
              "      <td>11</td>\n",
              "      <td>2</td>\n",
              "      <td>4</td>\n",
              "    </tr>\n",
              "    <tr>\n",
              "      <th>3</th>\n",
              "      <td>AJO</td>\n",
              "      <td>12</td>\n",
              "      <td>2</td>\n",
              "      <td>2</td>\n",
              "      <td>4</td>\n",
              "    </tr>\n",
              "    <tr>\n",
              "      <th>4</th>\n",
              "      <td>ALCACHOFA</td>\n",
              "      <td>3</td>\n",
              "      <td>5</td>\n",
              "      <td>3</td>\n",
              "      <td>4</td>\n",
              "    </tr>\n",
              "  </tbody>\n",
              "</table>\n",
              "</div>"
            ],
            "text/plain": [
              "     Cultivo  Inicio  Fin  Min siem-recol  Max siem-recol\n",
              "0     ACELGA       9   11               3               3\n",
              "1     ACELGA       3    5               3               3\n",
              "2        AJO       9   11               2               4\n",
              "3        AJO      12    2               2               4\n",
              "4  ALCACHOFA       3    5               3               4"
            ]
          },
          "metadata": {},
          "execution_count": 583
        }
      ]
    },
    {
      "cell_type": "code",
      "metadata": {
        "colab": {
          "base_uri": "https://localhost:8080/",
          "height": 241
        },
        "id": "Ux_xpuXJrPGj",
        "outputId": "c28cb9b3-c12a-49a0-d22d-bf55b51c1d67"
      },
      "source": [
        "consumo_CCAA.head()"
      ],
      "execution_count": 584,
      "outputs": [
        {
          "output_type": "execute_result",
          "data": {
            "text/html": [
              "<div>\n",
              "<style scoped>\n",
              "    .dataframe tbody tr th:only-of-type {\n",
              "        vertical-align: middle;\n",
              "    }\n",
              "\n",
              "    .dataframe tbody tr th {\n",
              "        vertical-align: top;\n",
              "    }\n",
              "\n",
              "    .dataframe thead th {\n",
              "        text-align: right;\n",
              "    }\n",
              "</style>\n",
              "<table border=\"1\" class=\"dataframe\">\n",
              "  <thead>\n",
              "    <tr style=\"text-align: right;\">\n",
              "      <th></th>\n",
              "      <th>Año</th>\n",
              "      <th>Mes</th>\n",
              "      <th>CCAA</th>\n",
              "      <th>Producto</th>\n",
              "      <th>Volumen (miles de kg)</th>\n",
              "      <th>Valor (miles de €)</th>\n",
              "      <th>Precio medio kg</th>\n",
              "      <th>Penetración (%)</th>\n",
              "      <th>Consumo per capita</th>\n",
              "      <th>Gasto per capita</th>\n",
              "    </tr>\n",
              "  </thead>\n",
              "  <tbody>\n",
              "    <tr>\n",
              "      <th>24</th>\n",
              "      <td>2018</td>\n",
              "      <td>1</td>\n",
              "      <td>Andalucia</td>\n",
              "      <td>PATATA</td>\n",
              "      <td>15651.83</td>\n",
              "      <td>10399.72</td>\n",
              "      <td>0.66</td>\n",
              "      <td>71.12</td>\n",
              "      <td>1.80</td>\n",
              "      <td>1.20</td>\n",
              "    </tr>\n",
              "    <tr>\n",
              "      <th>28</th>\n",
              "      <td>2018</td>\n",
              "      <td>1</td>\n",
              "      <td>Andalucia</td>\n",
              "      <td>TOMATE</td>\n",
              "      <td>7480.28</td>\n",
              "      <td>11031.97</td>\n",
              "      <td>1.47</td>\n",
              "      <td>79.01</td>\n",
              "      <td>0.86</td>\n",
              "      <td>1.27</td>\n",
              "    </tr>\n",
              "    <tr>\n",
              "      <th>29</th>\n",
              "      <td>2018</td>\n",
              "      <td>1</td>\n",
              "      <td>Andalucia</td>\n",
              "      <td>CEBOLLA</td>\n",
              "      <td>4717.41</td>\n",
              "      <td>4361.80</td>\n",
              "      <td>0.92</td>\n",
              "      <td>72.88</td>\n",
              "      <td>0.54</td>\n",
              "      <td>0.50</td>\n",
              "    </tr>\n",
              "    <tr>\n",
              "      <th>30</th>\n",
              "      <td>2018</td>\n",
              "      <td>1</td>\n",
              "      <td>Andalucia</td>\n",
              "      <td>AJO</td>\n",
              "      <td>538.35</td>\n",
              "      <td>2140.82</td>\n",
              "      <td>3.98</td>\n",
              "      <td>40.69</td>\n",
              "      <td>0.06</td>\n",
              "      <td>0.25</td>\n",
              "    </tr>\n",
              "    <tr>\n",
              "      <th>31</th>\n",
              "      <td>2018</td>\n",
              "      <td>1</td>\n",
              "      <td>Andalucia</td>\n",
              "      <td>COL REPOLLO</td>\n",
              "      <td>1066.82</td>\n",
              "      <td>1045.78</td>\n",
              "      <td>0.98</td>\n",
              "      <td>17.48</td>\n",
              "      <td>0.12</td>\n",
              "      <td>0.12</td>\n",
              "    </tr>\n",
              "  </tbody>\n",
              "</table>\n",
              "</div>"
            ],
            "text/plain": [
              "     Año  Mes       CCAA  ... Penetración (%)  Consumo per capita  Gasto per capita\n",
              "24  2018    1  Andalucia  ...           71.12                1.80              1.20\n",
              "28  2018    1  Andalucia  ...           79.01                0.86              1.27\n",
              "29  2018    1  Andalucia  ...           72.88                0.54              0.50\n",
              "30  2018    1  Andalucia  ...           40.69                0.06              0.25\n",
              "31  2018    1  Andalucia  ...           17.48                0.12              0.12\n",
              "\n",
              "[5 rows x 10 columns]"
            ]
          },
          "metadata": {},
          "execution_count": 584
        }
      ]
    },
    {
      "cell_type": "code",
      "metadata": {
        "colab": {
          "base_uri": "https://localhost:8080/",
          "height": 206
        },
        "id": "siKNYRxqrPMi",
        "outputId": "dc204bea-e2ec-43ae-d4d1-3fe2162a2200"
      },
      "source": [
        "dat_mercaBarna.head()"
      ],
      "execution_count": 585,
      "outputs": [
        {
          "output_type": "execute_result",
          "data": {
            "text/html": [
              "<div>\n",
              "<style scoped>\n",
              "    .dataframe tbody tr th:only-of-type {\n",
              "        vertical-align: middle;\n",
              "    }\n",
              "\n",
              "    .dataframe tbody tr th {\n",
              "        vertical-align: top;\n",
              "    }\n",
              "\n",
              "    .dataframe thead th {\n",
              "        text-align: right;\n",
              "    }\n",
              "</style>\n",
              "<table border=\"1\" class=\"dataframe\">\n",
              "  <thead>\n",
              "    <tr style=\"text-align: right;\">\n",
              "      <th></th>\n",
              "      <th>product</th>\n",
              "      <th>origen</th>\n",
              "      <th>YEAR</th>\n",
              "      <th>MONTH</th>\n",
              "      <th>price_mean</th>\n",
              "      <th>Volumen</th>\n",
              "    </tr>\n",
              "  </thead>\n",
              "  <tbody>\n",
              "    <tr>\n",
              "      <th>62</th>\n",
              "      <td>ACELGA</td>\n",
              "      <td>Valencia</td>\n",
              "      <td>2018</td>\n",
              "      <td>1</td>\n",
              "      <td>0.750000</td>\n",
              "      <td>408</td>\n",
              "    </tr>\n",
              "    <tr>\n",
              "      <th>63</th>\n",
              "      <td>ACELGA</td>\n",
              "      <td>Valencia</td>\n",
              "      <td>2018</td>\n",
              "      <td>3</td>\n",
              "      <td>0.575000</td>\n",
              "      <td>1420</td>\n",
              "    </tr>\n",
              "    <tr>\n",
              "      <th>64</th>\n",
              "      <td>ACELGA</td>\n",
              "      <td>Valencia</td>\n",
              "      <td>2018</td>\n",
              "      <td>11</td>\n",
              "      <td>0.950000</td>\n",
              "      <td>302</td>\n",
              "    </tr>\n",
              "    <tr>\n",
              "      <th>65</th>\n",
              "      <td>ACELGA</td>\n",
              "      <td>Valencia</td>\n",
              "      <td>2018</td>\n",
              "      <td>12</td>\n",
              "      <td>0.838462</td>\n",
              "      <td>4056</td>\n",
              "    </tr>\n",
              "    <tr>\n",
              "      <th>66</th>\n",
              "      <td>ACELGA</td>\n",
              "      <td>Valencia</td>\n",
              "      <td>2019</td>\n",
              "      <td>1</td>\n",
              "      <td>0.883333</td>\n",
              "      <td>2529</td>\n",
              "    </tr>\n",
              "  </tbody>\n",
              "</table>\n",
              "</div>"
            ],
            "text/plain": [
              "   product    origen  YEAR  MONTH  price_mean  Volumen\n",
              "62  ACELGA  Valencia  2018      1    0.750000      408\n",
              "63  ACELGA  Valencia  2018      3    0.575000     1420\n",
              "64  ACELGA  Valencia  2018     11    0.950000      302\n",
              "65  ACELGA  Valencia  2018     12    0.838462     4056\n",
              "66  ACELGA  Valencia  2019      1    0.883333     2529"
            ]
          },
          "metadata": {},
          "execution_count": 585
        }
      ]
    },
    {
      "cell_type": "code",
      "metadata": {
        "colab": {
          "base_uri": "https://localhost:8080/",
          "height": 206
        },
        "id": "lQnUtqq3rPRb",
        "outputId": "5dbb2d64-6e4e-4609-ae03-de83101c3136"
      },
      "source": [
        "dat_mercaMadrid.head()"
      ],
      "execution_count": 586,
      "outputs": [
        {
          "output_type": "execute_result",
          "data": {
            "text/html": [
              "<div>\n",
              "<style scoped>\n",
              "    .dataframe tbody tr th:only-of-type {\n",
              "        vertical-align: middle;\n",
              "    }\n",
              "\n",
              "    .dataframe tbody tr th {\n",
              "        vertical-align: top;\n",
              "    }\n",
              "\n",
              "    .dataframe thead th {\n",
              "        text-align: right;\n",
              "    }\n",
              "</style>\n",
              "<table border=\"1\" class=\"dataframe\">\n",
              "  <thead>\n",
              "    <tr style=\"text-align: right;\">\n",
              "      <th></th>\n",
              "      <th>product</th>\n",
              "      <th>origen</th>\n",
              "      <th>YEAR</th>\n",
              "      <th>MONTH</th>\n",
              "      <th>price_mean</th>\n",
              "      <th>price_min</th>\n",
              "      <th>price_max</th>\n",
              "      <th>Volumen</th>\n",
              "    </tr>\n",
              "  </thead>\n",
              "  <tbody>\n",
              "    <tr>\n",
              "      <th>147</th>\n",
              "      <td>ACELGA</td>\n",
              "      <td>Castilla La Mancha</td>\n",
              "      <td>2019</td>\n",
              "      <td>4</td>\n",
              "      <td>0.5000</td>\n",
              "      <td>0.4</td>\n",
              "      <td>0.9</td>\n",
              "      <td>1300</td>\n",
              "    </tr>\n",
              "    <tr>\n",
              "      <th>148</th>\n",
              "      <td>ACELGA</td>\n",
              "      <td>Castilla La Mancha</td>\n",
              "      <td>2020</td>\n",
              "      <td>6</td>\n",
              "      <td>0.9000</td>\n",
              "      <td>0.6</td>\n",
              "      <td>1.3</td>\n",
              "      <td>3330</td>\n",
              "    </tr>\n",
              "    <tr>\n",
              "      <th>149</th>\n",
              "      <td>ACELGA</td>\n",
              "      <td>Valencia</td>\n",
              "      <td>2018</td>\n",
              "      <td>1</td>\n",
              "      <td>0.9000</td>\n",
              "      <td>0.7</td>\n",
              "      <td>1.0</td>\n",
              "      <td>1000</td>\n",
              "    </tr>\n",
              "    <tr>\n",
              "      <th>150</th>\n",
              "      <td>ACELGA</td>\n",
              "      <td>Valencia</td>\n",
              "      <td>2018</td>\n",
              "      <td>2</td>\n",
              "      <td>0.7125</td>\n",
              "      <td>0.3</td>\n",
              "      <td>1.0</td>\n",
              "      <td>6590</td>\n",
              "    </tr>\n",
              "    <tr>\n",
              "      <th>151</th>\n",
              "      <td>ACELGA</td>\n",
              "      <td>Valencia</td>\n",
              "      <td>2018</td>\n",
              "      <td>3</td>\n",
              "      <td>0.5000</td>\n",
              "      <td>0.3</td>\n",
              "      <td>0.7</td>\n",
              "      <td>200</td>\n",
              "    </tr>\n",
              "  </tbody>\n",
              "</table>\n",
              "</div>"
            ],
            "text/plain": [
              "    product              origen  YEAR  ...  price_min  price_max  Volumen\n",
              "147  ACELGA  Castilla La Mancha  2019  ...        0.4        0.9     1300\n",
              "148  ACELGA  Castilla La Mancha  2020  ...        0.6        1.3     3330\n",
              "149  ACELGA            Valencia  2018  ...        0.7        1.0     1000\n",
              "150  ACELGA            Valencia  2018  ...        0.3        1.0     6590\n",
              "151  ACELGA            Valencia  2018  ...        0.3        0.7      200\n",
              "\n",
              "[5 rows x 8 columns]"
            ]
          },
          "metadata": {},
          "execution_count": 586
        }
      ]
    },
    {
      "cell_type": "code",
      "metadata": {
        "colab": {
          "base_uri": "https://localhost:8080/",
          "height": 206
        },
        "id": "njBvtiERrWWy",
        "outputId": "ea7d92f8-f3c0-4c7e-f4eb-ad8582d8e36d"
      },
      "source": [
        "precios_JAndalucia.head()"
      ],
      "execution_count": 587,
      "outputs": [
        {
          "output_type": "execute_result",
          "data": {
            "text/html": [
              "<div>\n",
              "<style scoped>\n",
              "    .dataframe tbody tr th:only-of-type {\n",
              "        vertical-align: middle;\n",
              "    }\n",
              "\n",
              "    .dataframe tbody tr th {\n",
              "        vertical-align: top;\n",
              "    }\n",
              "\n",
              "    .dataframe thead th {\n",
              "        text-align: right;\n",
              "    }\n",
              "</style>\n",
              "<table border=\"1\" class=\"dataframe\">\n",
              "  <thead>\n",
              "    <tr style=\"text-align: right;\">\n",
              "      <th></th>\n",
              "      <th>INICIO</th>\n",
              "      <th>FIN</th>\n",
              "      <th>PRODUCTO</th>\n",
              "      <th>POSICION</th>\n",
              "      <th>PRECIO</th>\n",
              "    </tr>\n",
              "  </thead>\n",
              "  <tbody>\n",
              "    <tr>\n",
              "      <th>26</th>\n",
              "      <td>01/01/2018</td>\n",
              "      <td>07/01/2018</td>\n",
              "      <td>AJO</td>\n",
              "      <td>Mercas</td>\n",
              "      <td>1.82</td>\n",
              "    </tr>\n",
              "    <tr>\n",
              "      <th>27</th>\n",
              "      <td>01/01/2018</td>\n",
              "      <td>07/01/2018</td>\n",
              "      <td>CEBOLLA</td>\n",
              "      <td>Mercas</td>\n",
              "      <td>0.40</td>\n",
              "    </tr>\n",
              "    <tr>\n",
              "      <th>29</th>\n",
              "      <td>01/01/2018</td>\n",
              "      <td>07/01/2018</td>\n",
              "      <td>LECHUGA</td>\n",
              "      <td>Mercas</td>\n",
              "      <td>1.26</td>\n",
              "    </tr>\n",
              "    <tr>\n",
              "      <th>30</th>\n",
              "      <td>01/01/2018</td>\n",
              "      <td>07/01/2018</td>\n",
              "      <td>ZANAHORIA</td>\n",
              "      <td>Mercas</td>\n",
              "      <td>0.76</td>\n",
              "    </tr>\n",
              "    <tr>\n",
              "      <th>31</th>\n",
              "      <td>01/01/2018</td>\n",
              "      <td>07/01/2018</td>\n",
              "      <td>ZANAHORIA</td>\n",
              "      <td>Agricultor</td>\n",
              "      <td>0.32</td>\n",
              "    </tr>\n",
              "  </tbody>\n",
              "</table>\n",
              "</div>"
            ],
            "text/plain": [
              "        INICIO         FIN   PRODUCTO    POSICION  PRECIO\n",
              "26  01/01/2018  07/01/2018        AJO      Mercas    1.82\n",
              "27  01/01/2018  07/01/2018    CEBOLLA      Mercas    0.40\n",
              "29  01/01/2018  07/01/2018    LECHUGA      Mercas    1.26\n",
              "30  01/01/2018  07/01/2018  ZANAHORIA      Mercas    0.76\n",
              "31  01/01/2018  07/01/2018  ZANAHORIA  Agricultor    0.32"
            ]
          },
          "metadata": {},
          "execution_count": 587
        }
      ]
    },
    {
      "cell_type": "code",
      "metadata": {
        "colab": {
          "base_uri": "https://localhost:8080/",
          "height": 206
        },
        "id": "r9d8XG6vrPVN",
        "outputId": "aaa62d16-4db4-495d-9ac8-9df4a6911833"
      },
      "source": [
        "aemet.head() # hacer media"
      ],
      "execution_count": 588,
      "outputs": [
        {
          "output_type": "execute_result",
          "data": {
            "text/html": [
              "<div>\n",
              "<style scoped>\n",
              "    .dataframe tbody tr th:only-of-type {\n",
              "        vertical-align: middle;\n",
              "    }\n",
              "\n",
              "    .dataframe tbody tr th {\n",
              "        vertical-align: top;\n",
              "    }\n",
              "\n",
              "    .dataframe thead th {\n",
              "        text-align: right;\n",
              "    }\n",
              "</style>\n",
              "<table border=\"1\" class=\"dataframe\">\n",
              "  <thead>\n",
              "    <tr style=\"text-align: right;\">\n",
              "      <th></th>\n",
              "      <th>Provincia</th>\n",
              "      <th>Temperatura media (ºC)</th>\n",
              "      <th>Precipitación 00-24h (mm)</th>\n",
              "      <th>Año</th>\n",
              "      <th>Mes</th>\n",
              "      <th>Dia</th>\n",
              "    </tr>\n",
              "  </thead>\n",
              "  <tbody>\n",
              "    <tr>\n",
              "      <th>1</th>\n",
              "      <td>Galicia</td>\n",
              "      <td>7.0</td>\n",
              "      <td>1.8</td>\n",
              "      <td>2018</td>\n",
              "      <td>3</td>\n",
              "      <td>7</td>\n",
              "    </tr>\n",
              "    <tr>\n",
              "      <th>2</th>\n",
              "      <td>Galicia</td>\n",
              "      <td>10.2</td>\n",
              "      <td>1.0</td>\n",
              "      <td>2018</td>\n",
              "      <td>3</td>\n",
              "      <td>7</td>\n",
              "    </tr>\n",
              "    <tr>\n",
              "      <th>3</th>\n",
              "      <td>Galicia</td>\n",
              "      <td>8.7</td>\n",
              "      <td>0.7</td>\n",
              "      <td>2018</td>\n",
              "      <td>3</td>\n",
              "      <td>7</td>\n",
              "    </tr>\n",
              "    <tr>\n",
              "      <th>4</th>\n",
              "      <td>Galicia</td>\n",
              "      <td>7.4</td>\n",
              "      <td>0.6</td>\n",
              "      <td>2018</td>\n",
              "      <td>3</td>\n",
              "      <td>7</td>\n",
              "    </tr>\n",
              "    <tr>\n",
              "      <th>5</th>\n",
              "      <td>Galicia</td>\n",
              "      <td>10.3</td>\n",
              "      <td>1.8</td>\n",
              "      <td>2018</td>\n",
              "      <td>3</td>\n",
              "      <td>7</td>\n",
              "    </tr>\n",
              "  </tbody>\n",
              "</table>\n",
              "</div>"
            ],
            "text/plain": [
              "  Provincia  Temperatura media (ºC)  Precipitación 00-24h (mm)   Año  Mes  Dia\n",
              "1   Galicia                     7.0                        1.8  2018    3    7\n",
              "2   Galicia                    10.2                        1.0  2018    3    7\n",
              "3   Galicia                     8.7                        0.7  2018    3    7\n",
              "4   Galicia                     7.4                        0.6  2018    3    7\n",
              "5   Galicia                    10.3                        1.8  2018    3    7"
            ]
          },
          "metadata": {},
          "execution_count": 588
        }
      ]
    },
    {
      "cell_type": "markdown",
      "metadata": {
        "id": "O6kKBVdY_Rzt"
      },
      "source": [
        "## 4. Transformación"
      ]
    }
  ]
}