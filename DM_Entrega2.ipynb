{
  "nbformat": 4,
  "nbformat_minor": 0,
  "metadata": {
    "colab": {
      "name": "DM-Entrega2.ipynb",
      "provenance": [],
      "collapsed_sections": [],
      "toc_visible": true,
      "authorship_tag": "ABX9TyNrYLSV51b1fc/w3n5hRnXh",
      "include_colab_link": true
    },
    "kernelspec": {
      "name": "python3",
      "display_name": "Python 3"
    },
    "language_info": {
      "name": "python"
    }
  },
  "cells": [
    {
      "cell_type": "markdown",
      "metadata": {
        "id": "view-in-github",
        "colab_type": "text"
      },
      "source": [
        "<a href=\"https://colab.research.google.com/github/Laura-VFA/DataMining-21-22/blob/main/DM_Entrega2.ipynb\" target=\"_parent\"><img src=\"https://colab.research.google.com/assets/colab-badge.svg\" alt=\"Open In Colab\"/></a>"
      ]
    },
    {
      "cell_type": "markdown",
      "source": [
        "- Iago García Suárez  \n",
        "- David González Bermúdez  \n",
        "- Sergio Martínez Cid  \n",
        "- Laura Villa Fernández-Arroyo"
      ],
      "metadata": {
        "id": "cs7uhXztdG23"
      }
    },
    {
      "cell_type": "markdown",
      "metadata": {
        "id": "Ay42tlQhVbsK"
      },
      "source": [
        "# Minería de Datos\n",
        "# Preproceso, Transformación e Hipótesis"
      ]
    },
    {
      "cell_type": "markdown",
      "metadata": {
        "id": "t08Ym4Qi--IY"
      },
      "source": [
        "## 1. Carga de datos"
      ]
    },
    {
      "cell_type": "markdown",
      "source": [
        "Primero, se cargarán en distintos dataframes todos los datasets necesarios para la resolución del problema.  \n",
        "Se utilizarán los datasets de:  \n",
        "- Datos de consumo alimentario por CCAA\n",
        "- Precios de la Junta de Andalucía\n",
        "- Datos de MercaMadrid\n",
        "- Datos de MarcaBarna\n",
        "- Calendario de siembra\n",
        "- Datos de precipitaciones y temperaturas de AEMet\n",
        "- Necesidades de Riego y temperaturas de cultivos"
      ],
      "metadata": {
        "id": "4q50s-HYd-kV"
      }
    },
    {
      "cell_type": "code",
      "metadata": {
        "colab": {
          "base_uri": "https://localhost:8080/"
        },
        "id": "njH4snxtVa4R",
        "outputId": "63e55791-41a0-45bf-8b84-0203ca9558f3"
      },
      "source": [
        "!rm *.*\n",
        "\n",
        "!wget https://raw.githubusercontent.com/Laura-VFA/DataMining-21-22/main/Datasets/Dataset1.-%20DatosConsumoAlimentarioMAPAporCCAA.txt \n",
        "!wget https://raw.githubusercontent.com/Laura-VFA/DataMining-21-22/main/Datasets/Dataset2.-%20Precios%20Semanales%20Observatorio%20de%20Precios%20Junta%20de%20Andalucia.txt \n",
        "!wget https://raw.githubusercontent.com/Laura-VFA/DataMining-21-22/main/Datasets/Dataset3a_Datos_MercaMadrid.txt \n",
        "!wget https://raw.githubusercontent.com/Laura-VFA/DataMining-21-22/main/Datasets/Dataset3b_Datos_MercaBarna.txt\n",
        "!wget https://raw.githubusercontent.com/Laura-VFA/DataMining-21-22/main/Datasets/planificacion_siembra.csv\n",
        "!wget https://raw.githubusercontent.com/Laura-VFA/DataMining-21-22/main/Datasets/Aemet.csv\n",
        "!wget https://raw.githubusercontent.com/Laura-VFA/DataMining-21-22/main/Datasets/RiegosYTemperaturasCultivos.txt\n",
        "\n",
        "!wget https://raw.githubusercontent.com/Laura-VFA/DataMining-21-22/main/Dicts/ccaa_names.json\n",
        "!wget https://raw.githubusercontent.com/Laura-VFA/DataMining-21-22/main/Dicts/cultivos_names.json\n",
        "!wget https://raw.githubusercontent.com/Laura-VFA/DataMining-21-22/main/Dicts/months_season.json\n",
        "\n",
        "\n",
        "!pip install unidecode\n"
      ],
      "execution_count": 101,
      "outputs": [
        {
          "output_type": "stream",
          "name": "stdout",
          "text": [
            "--2021-12-15 08:24:27--  https://raw.githubusercontent.com/Laura-VFA/DataMining-21-22/main/Datasets/Dataset1.-%20DatosConsumoAlimentarioMAPAporCCAA.txt\n",
            "Resolving raw.githubusercontent.com (raw.githubusercontent.com)... 185.199.108.133, 185.199.109.133, 185.199.110.133, ...\n",
            "Connecting to raw.githubusercontent.com (raw.githubusercontent.com)|185.199.108.133|:443... connected.\n",
            "HTTP request sent, awaiting response... 200 OK\n",
            "Length: 1885064 (1.8M) [text/plain]\n",
            "Saving to: ‘Dataset1.- DatosConsumoAlimentarioMAPAporCCAA.txt’\n",
            "\n",
            "\r          Dataset1.   0%[                    ]       0  --.-KB/s               \rDataset1.- DatosCon 100%[===================>]   1.80M  --.-KB/s    in 0.06s   \n",
            "\n",
            "2021-12-15 08:24:28 (30.0 MB/s) - ‘Dataset1.- DatosConsumoAlimentarioMAPAporCCAA.txt’ saved [1885064/1885064]\n",
            "\n",
            "--2021-12-15 08:24:28--  https://raw.githubusercontent.com/Laura-VFA/DataMining-21-22/main/Datasets/Dataset2.-%20Precios%20Semanales%20Observatorio%20de%20Precios%20Junta%20de%20Andalucia.txt\n",
            "Resolving raw.githubusercontent.com (raw.githubusercontent.com)... 185.199.108.133, 185.199.111.133, 185.199.110.133, ...\n",
            "Connecting to raw.githubusercontent.com (raw.githubusercontent.com)|185.199.108.133|:443... connected.\n",
            "HTTP request sent, awaiting response... 200 OK\n",
            "Length: 2481863 (2.4M) [text/plain]\n",
            "Saving to: ‘Dataset2.- Precios Semanales Observatorio de Precios Junta de Andalucia.txt’\n",
            "\n",
            "Dataset2.- Precios  100%[===================>]   2.37M  --.-KB/s    in 0.07s   \n",
            "\n",
            "2021-12-15 08:24:28 (36.1 MB/s) - ‘Dataset2.- Precios Semanales Observatorio de Precios Junta de Andalucia.txt’ saved [2481863/2481863]\n",
            "\n",
            "--2021-12-15 08:24:28--  https://raw.githubusercontent.com/Laura-VFA/DataMining-21-22/main/Datasets/Dataset3a_Datos_MercaMadrid.txt\n",
            "Resolving raw.githubusercontent.com (raw.githubusercontent.com)... 185.199.111.133, 185.199.110.133, 185.199.108.133, ...\n",
            "Connecting to raw.githubusercontent.com (raw.githubusercontent.com)|185.199.111.133|:443... connected.\n",
            "HTTP request sent, awaiting response... 200 OK\n",
            "Length: 5018905 (4.8M) [text/plain]\n",
            "Saving to: ‘Dataset3a_Datos_MercaMadrid.txt’\n",
            "\n",
            "Dataset3a_Datos_Mer 100%[===================>]   4.79M  --.-KB/s    in 0.09s   \n",
            "\n",
            "2021-12-15 08:24:28 (51.4 MB/s) - ‘Dataset3a_Datos_MercaMadrid.txt’ saved [5018905/5018905]\n",
            "\n",
            "--2021-12-15 08:24:29--  https://raw.githubusercontent.com/Laura-VFA/DataMining-21-22/main/Datasets/Dataset3b_Datos_MercaBarna.txt\n",
            "Resolving raw.githubusercontent.com (raw.githubusercontent.com)... 185.199.108.133, 185.199.109.133, 185.199.110.133, ...\n",
            "Connecting to raw.githubusercontent.com (raw.githubusercontent.com)|185.199.108.133|:443... connected.\n",
            "HTTP request sent, awaiting response... 200 OK\n",
            "Length: 2621190 (2.5M) [text/plain]\n",
            "Saving to: ‘Dataset3b_Datos_MercaBarna.txt’\n",
            "\n",
            "Dataset3b_Datos_Mer 100%[===================>]   2.50M  --.-KB/s    in 0.07s   \n",
            "\n",
            "2021-12-15 08:24:29 (37.0 MB/s) - ‘Dataset3b_Datos_MercaBarna.txt’ saved [2621190/2621190]\n",
            "\n",
            "--2021-12-15 08:24:29--  https://raw.githubusercontent.com/Laura-VFA/DataMining-21-22/main/Datasets/planificacion_siembra.csv\n",
            "Resolving raw.githubusercontent.com (raw.githubusercontent.com)... 185.199.108.133, 185.199.109.133, 185.199.110.133, ...\n",
            "Connecting to raw.githubusercontent.com (raw.githubusercontent.com)|185.199.108.133|:443... connected.\n",
            "HTTP request sent, awaiting response... 200 OK\n",
            "Length: 6363 (6.2K) [text/plain]\n",
            "Saving to: ‘planificacion_siembra.csv’\n",
            "\n",
            "planificacion_siemb 100%[===================>]   6.21K  --.-KB/s    in 0s      \n",
            "\n",
            "2021-12-15 08:24:29 (46.9 MB/s) - ‘planificacion_siembra.csv’ saved [6363/6363]\n",
            "\n",
            "--2021-12-15 08:24:29--  https://raw.githubusercontent.com/Laura-VFA/DataMining-21-22/main/Datasets/Aemet.csv\n",
            "Resolving raw.githubusercontent.com (raw.githubusercontent.com)... 185.199.108.133, 185.199.109.133, 185.199.110.133, ...\n",
            "Connecting to raw.githubusercontent.com (raw.githubusercontent.com)|185.199.108.133|:443... connected.\n",
            "HTTP request sent, awaiting response... 200 OK\n",
            "Length: 98538828 (94M) [text/plain]\n",
            "Saving to: ‘Aemet.csv’\n",
            "\n",
            "Aemet.csv           100%[===================>]  93.97M   168MB/s    in 0.6s    \n",
            "\n",
            "2021-12-15 08:24:30 (168 MB/s) - ‘Aemet.csv’ saved [98538828/98538828]\n",
            "\n",
            "--2021-12-15 08:24:30--  https://raw.githubusercontent.com/Laura-VFA/DataMining-21-22/main/Datasets/RiegosYTemperaturasCultivos.txt\n",
            "Resolving raw.githubusercontent.com (raw.githubusercontent.com)... 185.199.108.133, 185.199.109.133, 185.199.110.133, ...\n",
            "Connecting to raw.githubusercontent.com (raw.githubusercontent.com)|185.199.108.133|:443... connected.\n",
            "HTTP request sent, awaiting response... 200 OK\n",
            "Length: 1288 (1.3K) [text/plain]\n",
            "Saving to: ‘RiegosYTemperaturasCultivos.txt’\n",
            "\n",
            "RiegosYTemperaturas 100%[===================>]   1.26K  --.-KB/s    in 0s      \n",
            "\n",
            "2021-12-15 08:24:30 (41.3 MB/s) - ‘RiegosYTemperaturasCultivos.txt’ saved [1288/1288]\n",
            "\n",
            "--2021-12-15 08:24:30--  https://raw.githubusercontent.com/Laura-VFA/DataMining-21-22/main/Dicts/ccaa_names.json\n",
            "Resolving raw.githubusercontent.com (raw.githubusercontent.com)... 185.199.108.133, 185.199.109.133, 185.199.110.133, ...\n",
            "Connecting to raw.githubusercontent.com (raw.githubusercontent.com)|185.199.108.133|:443... connected.\n",
            "HTTP request sent, awaiting response... 200 OK\n",
            "Length: 2852 (2.8K) [text/plain]\n",
            "Saving to: ‘ccaa_names.json’\n",
            "\n",
            "ccaa_names.json     100%[===================>]   2.79K  --.-KB/s    in 0s      \n",
            "\n",
            "2021-12-15 08:24:30 (29.0 MB/s) - ‘ccaa_names.json’ saved [2852/2852]\n",
            "\n",
            "--2021-12-15 08:24:30--  https://raw.githubusercontent.com/Laura-VFA/DataMining-21-22/main/Dicts/cultivos_names.json\n",
            "Resolving raw.githubusercontent.com (raw.githubusercontent.com)... 185.199.108.133, 185.199.109.133, 185.199.110.133, ...\n",
            "Connecting to raw.githubusercontent.com (raw.githubusercontent.com)|185.199.108.133|:443... connected.\n",
            "HTTP request sent, awaiting response... 200 OK\n",
            "Length: 3199 (3.1K) [text/plain]\n",
            "Saving to: ‘cultivos_names.json’\n",
            "\n",
            "cultivos_names.json 100%[===================>]   3.12K  --.-KB/s    in 0s      \n",
            "\n",
            "2021-12-15 08:24:31 (29.6 MB/s) - ‘cultivos_names.json’ saved [3199/3199]\n",
            "\n",
            "--2021-12-15 08:24:31--  https://raw.githubusercontent.com/Laura-VFA/DataMining-21-22/main/Dicts/months_season.json\n",
            "Resolving raw.githubusercontent.com (raw.githubusercontent.com)... 185.199.108.133, 185.199.109.133, 185.199.110.133, ...\n",
            "Connecting to raw.githubusercontent.com (raw.githubusercontent.com)|185.199.108.133|:443... connected.\n",
            "HTTP request sent, awaiting response... 200 OK\n",
            "Length: 395 [text/plain]\n",
            "Saving to: ‘months_season.json’\n",
            "\n",
            "months_season.json  100%[===================>]     395  --.-KB/s    in 0s      \n",
            "\n",
            "2021-12-15 08:24:31 (13.3 MB/s) - ‘months_season.json’ saved [395/395]\n",
            "\n",
            "Requirement already satisfied: unidecode in /usr/local/lib/python3.7/dist-packages (1.3.2)\n"
          ]
        }
      ]
    },
    {
      "cell_type": "code",
      "metadata": {
        "colab": {
          "base_uri": "https://localhost:8080/",
          "height": 625
        },
        "id": "MIws5yBDzRM3",
        "outputId": "5d734b54-4c2c-482e-f3b0-514569a93a08"
      },
      "source": [
        "import pandas as pd\n",
        "\n",
        "calendario_siembra = pd.read_csv('planificacion_siembra.csv', sep=';')\n",
        "calendario_siembra.head()\n"
      ],
      "execution_count": 102,
      "outputs": [
        {
          "output_type": "execute_result",
          "data": {
            "text/html": [
              "<div>\n",
              "<style scoped>\n",
              "    .dataframe tbody tr th:only-of-type {\n",
              "        vertical-align: middle;\n",
              "    }\n",
              "\n",
              "    .dataframe tbody tr th {\n",
              "        vertical-align: top;\n",
              "    }\n",
              "\n",
              "    .dataframe thead th {\n",
              "        text-align: right;\n",
              "    }\n",
              "</style>\n",
              "<table border=\"1\" class=\"dataframe\">\n",
              "  <thead>\n",
              "    <tr style=\"text-align: right;\">\n",
              "      <th></th>\n",
              "      <th>Cultivo</th>\n",
              "      <th>Familia</th>\n",
              "      <th>Aprovecha</th>\n",
              "      <th>Epoca siemb</th>\n",
              "      <th>Asociac</th>\n",
              "      <th>Rotaciones</th>\n",
              "      <th>D siem-recol</th>\n",
              "      <th>ene</th>\n",
              "      <th>ene.1</th>\n",
              "      <th>feb</th>\n",
              "      <th>feb.1</th>\n",
              "      <th>mar</th>\n",
              "      <th>mar.1</th>\n",
              "      <th>abr</th>\n",
              "      <th>abr.1</th>\n",
              "      <th>may</th>\n",
              "      <th>may.1</th>\n",
              "      <th>jun</th>\n",
              "      <th>jun.1</th>\n",
              "      <th>jul</th>\n",
              "      <th>jul.1</th>\n",
              "      <th>ago</th>\n",
              "      <th>ago.1</th>\n",
              "      <th>sep</th>\n",
              "      <th>sep.1</th>\n",
              "      <th>oct</th>\n",
              "      <th>oct.1</th>\n",
              "      <th>nov</th>\n",
              "      <th>nov.1</th>\n",
              "      <th>dic</th>\n",
              "      <th>dic.1</th>\n",
              "    </tr>\n",
              "  </thead>\n",
              "  <tbody>\n",
              "    <tr>\n",
              "      <th>0</th>\n",
              "      <td>ACELGA</td>\n",
              "      <td>Quenopodiáceas</td>\n",
              "      <td>hoja</td>\n",
              "      <td>Otoño-Primav</td>\n",
              "      <td>judias, zanahorias, nabos y rabanos</td>\n",
              "      <td>2 años</td>\n",
              "      <td>90</td>\n",
              "      <td>C</td>\n",
              "      <td>SC</td>\n",
              "      <td>SC</td>\n",
              "      <td>SC</td>\n",
              "      <td>STC</td>\n",
              "      <td>STC</td>\n",
              "      <td>STC</td>\n",
              "      <td>STC</td>\n",
              "      <td>STC</td>\n",
              "      <td>STC</td>\n",
              "      <td>STC</td>\n",
              "      <td>STC</td>\n",
              "      <td>STC</td>\n",
              "      <td>STC</td>\n",
              "      <td>C</td>\n",
              "      <td>C</td>\n",
              "      <td>C</td>\n",
              "      <td>C</td>\n",
              "      <td>C</td>\n",
              "      <td>C</td>\n",
              "      <td>C</td>\n",
              "      <td>C</td>\n",
              "      <td>C</td>\n",
              "      <td>C</td>\n",
              "    </tr>\n",
              "    <tr>\n",
              "      <th>1</th>\n",
              "      <td>AJO</td>\n",
              "      <td>Liliáceas</td>\n",
              "      <td>bulbo</td>\n",
              "      <td>Otoño-Invierno</td>\n",
              "      <td>fresas, remolacha, patata, lechuga, tomate, hi...</td>\n",
              "      <td>2 años</td>\n",
              "      <td>60-120</td>\n",
              "      <td>S</td>\n",
              "      <td>S</td>\n",
              "      <td>S</td>\n",
              "      <td>S</td>\n",
              "      <td>NaN</td>\n",
              "      <td>NaN</td>\n",
              "      <td>C</td>\n",
              "      <td>C</td>\n",
              "      <td>C</td>\n",
              "      <td>C</td>\n",
              "      <td>C</td>\n",
              "      <td>C</td>\n",
              "      <td>C</td>\n",
              "      <td>C</td>\n",
              "      <td>C</td>\n",
              "      <td>NaN</td>\n",
              "      <td>NaN</td>\n",
              "      <td>NaN</td>\n",
              "      <td>S</td>\n",
              "      <td>S</td>\n",
              "      <td>S</td>\n",
              "      <td>S</td>\n",
              "      <td>NaN</td>\n",
              "      <td>NaN</td>\n",
              "    </tr>\n",
              "    <tr>\n",
              "      <th>2</th>\n",
              "      <td>ALCACHOFA</td>\n",
              "      <td>Compuestas</td>\n",
              "      <td>infloresc</td>\n",
              "      <td>Primav</td>\n",
              "      <td>lechuga, col, cebolla, haba, guisante</td>\n",
              "      <td>5 años</td>\n",
              "      <td>90-120</td>\n",
              "      <td>C</td>\n",
              "      <td>C</td>\n",
              "      <td>C</td>\n",
              "      <td>C</td>\n",
              "      <td>C</td>\n",
              "      <td>C</td>\n",
              "      <td>NaN</td>\n",
              "      <td>NaN</td>\n",
              "      <td>NaN</td>\n",
              "      <td>NaN</td>\n",
              "      <td>NaN</td>\n",
              "      <td>NaN</td>\n",
              "      <td>T</td>\n",
              "      <td>T</td>\n",
              "      <td>T</td>\n",
              "      <td>T</td>\n",
              "      <td>T</td>\n",
              "      <td>T</td>\n",
              "      <td>NaN</td>\n",
              "      <td>NaN</td>\n",
              "      <td>C</td>\n",
              "      <td>C</td>\n",
              "      <td>C</td>\n",
              "      <td>C</td>\n",
              "    </tr>\n",
              "    <tr>\n",
              "      <th>3</th>\n",
              "      <td>APIO</td>\n",
              "      <td>Umbrelíferas</td>\n",
              "      <td>hoja</td>\n",
              "      <td>Primav</td>\n",
              "      <td>ajo, cebolla, puerro, maiz, guisante, judia, l...</td>\n",
              "      <td>no hoja</td>\n",
              "      <td>100</td>\n",
              "      <td>C</td>\n",
              "      <td>C</td>\n",
              "      <td>SC</td>\n",
              "      <td>SC</td>\n",
              "      <td>SC</td>\n",
              "      <td>SC</td>\n",
              "      <td>ST</td>\n",
              "      <td>ST</td>\n",
              "      <td>ST</td>\n",
              "      <td>ST</td>\n",
              "      <td>ST</td>\n",
              "      <td>T</td>\n",
              "      <td>T</td>\n",
              "      <td>T</td>\n",
              "      <td>NaN</td>\n",
              "      <td>NaN</td>\n",
              "      <td>NaN</td>\n",
              "      <td>C</td>\n",
              "      <td>C</td>\n",
              "      <td>C</td>\n",
              "      <td>C</td>\n",
              "      <td>C</td>\n",
              "      <td>C</td>\n",
              "      <td>C</td>\n",
              "    </tr>\n",
              "    <tr>\n",
              "      <th>4</th>\n",
              "      <td>BERENJENA</td>\n",
              "      <td>Solenáceas</td>\n",
              "      <td>fruto</td>\n",
              "      <td>Primav</td>\n",
              "      <td>judias, patatas, pimiento, calendula, cañamo</td>\n",
              "      <td>3 años</td>\n",
              "      <td>130</td>\n",
              "      <td>NaN</td>\n",
              "      <td>NaN</td>\n",
              "      <td>NaN</td>\n",
              "      <td>S</td>\n",
              "      <td>S</td>\n",
              "      <td>ST</td>\n",
              "      <td>ST</td>\n",
              "      <td>ST</td>\n",
              "      <td>ST</td>\n",
              "      <td>ST</td>\n",
              "      <td>T</td>\n",
              "      <td>T</td>\n",
              "      <td>TC</td>\n",
              "      <td>C</td>\n",
              "      <td>C</td>\n",
              "      <td>C</td>\n",
              "      <td>C</td>\n",
              "      <td>C</td>\n",
              "      <td>C</td>\n",
              "      <td>C</td>\n",
              "      <td>NaN</td>\n",
              "      <td>NaN</td>\n",
              "      <td>NaN</td>\n",
              "      <td>NaN</td>\n",
              "    </tr>\n",
              "  </tbody>\n",
              "</table>\n",
              "</div>"
            ],
            "text/plain": [
              "     Cultivo         Familia  Aprovecha     Epoca siemb  ...  nov nov.1  dic dic.1\n",
              "0     ACELGA  Quenopodiáceas       hoja    Otoño-Primav  ...    C     C    C     C\n",
              "1        AJO       Liliáceas      bulbo  Otoño-Invierno  ...    S     S  NaN   NaN\n",
              "2  ALCACHOFA      Compuestas  infloresc          Primav  ...    C     C    C     C\n",
              "3       APIO    Umbrelíferas       hoja          Primav  ...    C     C    C     C\n",
              "4  BERENJENA      Solenáceas      fruto          Primav  ...  NaN   NaN  NaN   NaN\n",
              "\n",
              "[5 rows x 31 columns]"
            ]
          },
          "metadata": {},
          "execution_count": 102
        }
      ]
    },
    {
      "cell_type": "code",
      "metadata": {
        "colab": {
          "base_uri": "https://localhost:8080/",
          "height": 328
        },
        "id": "_nOdRshG8IVm",
        "outputId": "6b64a284-bbb0-4f6d-bc12-5733b96f29b7"
      },
      "source": [
        "consumo_CCAA = pd.read_csv('Dataset1.- DatosConsumoAlimentarioMAPAporCCAA.txt', sep='|', decimal=',')\n",
        "consumo_CCAA.head()"
      ],
      "execution_count": 103,
      "outputs": [
        {
          "output_type": "execute_result",
          "data": {
            "text/html": [
              "<div>\n",
              "<style scoped>\n",
              "    .dataframe tbody tr th:only-of-type {\n",
              "        vertical-align: middle;\n",
              "    }\n",
              "\n",
              "    .dataframe tbody tr th {\n",
              "        vertical-align: top;\n",
              "    }\n",
              "\n",
              "    .dataframe thead th {\n",
              "        text-align: right;\n",
              "    }\n",
              "</style>\n",
              "<table border=\"1\" class=\"dataframe\">\n",
              "  <thead>\n",
              "    <tr style=\"text-align: right;\">\n",
              "      <th></th>\n",
              "      <th>Año</th>\n",
              "      <th>Mes</th>\n",
              "      <th>CCAA</th>\n",
              "      <th>Producto</th>\n",
              "      <th>Volumen (miles de kg)</th>\n",
              "      <th>Valor (miles de €)</th>\n",
              "      <th>Precio medio kg</th>\n",
              "      <th>Penetración (%)</th>\n",
              "      <th>Consumo per capita</th>\n",
              "      <th>Gasto per capita</th>\n",
              "      <th>Unnamed: 10</th>\n",
              "      <th>Unnamed: 11</th>\n",
              "    </tr>\n",
              "  </thead>\n",
              "  <tbody>\n",
              "    <tr>\n",
              "      <th>0</th>\n",
              "      <td>2018</td>\n",
              "      <td>Enero</td>\n",
              "      <td>Total Nacional</td>\n",
              "      <td>TOTAL PATATAS</td>\n",
              "      <td>108430.72</td>\n",
              "      <td>84640.08</td>\n",
              "      <td>0.78</td>\n",
              "      <td>79.40</td>\n",
              "      <td>2.38</td>\n",
              "      <td>1.85</td>\n",
              "      <td>NaN</td>\n",
              "      <td>NaN</td>\n",
              "    </tr>\n",
              "    <tr>\n",
              "      <th>1</th>\n",
              "      <td>2018</td>\n",
              "      <td>Enero</td>\n",
              "      <td>Total Nacional</td>\n",
              "      <td>PATATAS FRESCAS</td>\n",
              "      <td>79445.66</td>\n",
              "      <td>54688.29</td>\n",
              "      <td>0.69</td>\n",
              "      <td>68.46</td>\n",
              "      <td>1.74</td>\n",
              "      <td>1.20</td>\n",
              "      <td>NaN</td>\n",
              "      <td>NaN</td>\n",
              "    </tr>\n",
              "    <tr>\n",
              "      <th>2</th>\n",
              "      <td>2018</td>\n",
              "      <td>Enero</td>\n",
              "      <td>Total Nacional</td>\n",
              "      <td>PATATAS CONGELADAS</td>\n",
              "      <td>3999.90</td>\n",
              "      <td>4857.79</td>\n",
              "      <td>1.21</td>\n",
              "      <td>12.06</td>\n",
              "      <td>0.09</td>\n",
              "      <td>0.11</td>\n",
              "      <td>NaN</td>\n",
              "      <td>NaN</td>\n",
              "    </tr>\n",
              "    <tr>\n",
              "      <th>3</th>\n",
              "      <td>2018</td>\n",
              "      <td>Enero</td>\n",
              "      <td>Total Nacional</td>\n",
              "      <td>PATATAS PROCESADAS</td>\n",
              "      <td>4997.03</td>\n",
              "      <td>25094.00</td>\n",
              "      <td>5.02</td>\n",
              "      <td>45.94</td>\n",
              "      <td>0.11</td>\n",
              "      <td>0.55</td>\n",
              "      <td>NaN</td>\n",
              "      <td>NaN</td>\n",
              "    </tr>\n",
              "    <tr>\n",
              "      <th>4</th>\n",
              "      <td>2018</td>\n",
              "      <td>Enero</td>\n",
              "      <td>Total Nacional</td>\n",
              "      <td>T.HORTALIZAS FRESCAS</td>\n",
              "      <td>209957.24</td>\n",
              "      <td>376688.56</td>\n",
              "      <td>1.79</td>\n",
              "      <td>97.27</td>\n",
              "      <td>4.60</td>\n",
              "      <td>8.25</td>\n",
              "      <td>NaN</td>\n",
              "      <td>NaN</td>\n",
              "    </tr>\n",
              "  </tbody>\n",
              "</table>\n",
              "</div>"
            ],
            "text/plain": [
              "    Año    Mes            CCAA  ... Gasto per capita  Unnamed: 10  Unnamed: 11\n",
              "0  2018  Enero  Total Nacional  ...             1.85          NaN          NaN\n",
              "1  2018  Enero  Total Nacional  ...             1.20          NaN          NaN\n",
              "2  2018  Enero  Total Nacional  ...             0.11          NaN          NaN\n",
              "3  2018  Enero  Total Nacional  ...             0.55          NaN          NaN\n",
              "4  2018  Enero  Total Nacional  ...             8.25          NaN          NaN\n",
              "\n",
              "[5 rows x 12 columns]"
            ]
          },
          "metadata": {},
          "execution_count": 103
        }
      ]
    },
    {
      "cell_type": "code",
      "metadata": {
        "colab": {
          "base_uri": "https://localhost:8080/",
          "height": 244
        },
        "id": "0yArYiK38IiD",
        "outputId": "3b8b33c2-06d3-431d-99fe-5ef25b7f8fab"
      },
      "source": [
        "import pandas\n",
        "\n",
        "precios_JAndalucia = pd.read_csv('Dataset2.- Precios Semanales Observatorio de Precios Junta de Andalucia.txt', sep='|', decimal=',')\n",
        "precios_JAndalucia.head()"
      ],
      "execution_count": 104,
      "outputs": [
        {
          "output_type": "execute_result",
          "data": {
            "text/html": [
              "<div>\n",
              "<style scoped>\n",
              "    .dataframe tbody tr th:only-of-type {\n",
              "        vertical-align: middle;\n",
              "    }\n",
              "\n",
              "    .dataframe tbody tr th {\n",
              "        vertical-align: top;\n",
              "    }\n",
              "\n",
              "    .dataframe thead th {\n",
              "        text-align: right;\n",
              "    }\n",
              "</style>\n",
              "<table border=\"1\" class=\"dataframe\">\n",
              "  <thead>\n",
              "    <tr style=\"text-align: right;\">\n",
              "      <th></th>\n",
              "      <th>INICIO</th>\n",
              "      <th>FIN</th>\n",
              "      <th>GRUPO</th>\n",
              "      <th>SECTOR</th>\n",
              "      <th>SUBSECTOR</th>\n",
              "      <th>PRODUCTO</th>\n",
              "      <th>TIPO</th>\n",
              "      <th>SUBTIPO</th>\n",
              "      <th>POSICION</th>\n",
              "      <th>CATEGORIA</th>\n",
              "      <th>FORMATO</th>\n",
              "      <th>PRECIO</th>\n",
              "      <th>UNIDAD</th>\n",
              "    </tr>\n",
              "  </thead>\n",
              "  <tbody>\n",
              "    <tr>\n",
              "      <th>0</th>\n",
              "      <td>01/01/2018</td>\n",
              "      <td>07/01/2018</td>\n",
              "      <td>Agrícola</td>\n",
              "      <td>Frutales</td>\n",
              "      <td>Citricos</td>\n",
              "      <td>LIMON</td>\n",
              "      <td>NaN</td>\n",
              "      <td>NaN</td>\n",
              "      <td>Mercas</td>\n",
              "      <td>NaN</td>\n",
              "      <td>NaN</td>\n",
              "      <td>0.92</td>\n",
              "      <td>Euros/kg</td>\n",
              "    </tr>\n",
              "    <tr>\n",
              "      <th>1</th>\n",
              "      <td>01/01/2018</td>\n",
              "      <td>07/01/2018</td>\n",
              "      <td>Agrícola</td>\n",
              "      <td>Frutales</td>\n",
              "      <td>Citricos</td>\n",
              "      <td>MANDARINA</td>\n",
              "      <td>NaN</td>\n",
              "      <td>NaN</td>\n",
              "      <td>Mercas</td>\n",
              "      <td>NaN</td>\n",
              "      <td>NaN</td>\n",
              "      <td>0.84</td>\n",
              "      <td>Euros/kg</td>\n",
              "    </tr>\n",
              "    <tr>\n",
              "      <th>2</th>\n",
              "      <td>01/01/2018</td>\n",
              "      <td>07/01/2018</td>\n",
              "      <td>Agrícola</td>\n",
              "      <td>Frutales</td>\n",
              "      <td>Citricos</td>\n",
              "      <td>NARANJA</td>\n",
              "      <td>NaN</td>\n",
              "      <td>NaN</td>\n",
              "      <td>Mercas</td>\n",
              "      <td>NaN</td>\n",
              "      <td>NaN</td>\n",
              "      <td>0.78</td>\n",
              "      <td>Euros/kg</td>\n",
              "    </tr>\n",
              "    <tr>\n",
              "      <th>3</th>\n",
              "      <td>01/01/2018</td>\n",
              "      <td>07/01/2018</td>\n",
              "      <td>Agrícola</td>\n",
              "      <td>Frutales</td>\n",
              "      <td>Citricos</td>\n",
              "      <td>POMELO</td>\n",
              "      <td>NaN</td>\n",
              "      <td>NaN</td>\n",
              "      <td>Mercas</td>\n",
              "      <td>NaN</td>\n",
              "      <td>NaN</td>\n",
              "      <td>1.01</td>\n",
              "      <td>Euros/kg</td>\n",
              "    </tr>\n",
              "    <tr>\n",
              "      <th>4</th>\n",
              "      <td>01/01/2018</td>\n",
              "      <td>07/01/2018</td>\n",
              "      <td>Agrícola</td>\n",
              "      <td>Frutales</td>\n",
              "      <td>Frutales no cítricos</td>\n",
              "      <td>AGUACATE</td>\n",
              "      <td>NaN</td>\n",
              "      <td>NaN</td>\n",
              "      <td>Mercas</td>\n",
              "      <td>NaN</td>\n",
              "      <td>NaN</td>\n",
              "      <td>3.77</td>\n",
              "      <td>Euros/kg</td>\n",
              "    </tr>\n",
              "  </tbody>\n",
              "</table>\n",
              "</div>"
            ],
            "text/plain": [
              "       INICIO         FIN     GRUPO  ... FORMATO PRECIO    UNIDAD\n",
              "0  01/01/2018  07/01/2018  Agrícola  ...     NaN   0.92  Euros/kg\n",
              "1  01/01/2018  07/01/2018  Agrícola  ...     NaN   0.84  Euros/kg\n",
              "2  01/01/2018  07/01/2018  Agrícola  ...     NaN   0.78  Euros/kg\n",
              "3  01/01/2018  07/01/2018  Agrícola  ...     NaN   1.01  Euros/kg\n",
              "4  01/01/2018  07/01/2018  Agrícola  ...     NaN   3.77  Euros/kg\n",
              "\n",
              "[5 rows x 13 columns]"
            ]
          },
          "metadata": {},
          "execution_count": 104
        }
      ]
    },
    {
      "cell_type": "code",
      "metadata": {
        "colab": {
          "base_uri": "https://localhost:8080/",
          "height": 206
        },
        "id": "S1WciXLD8Il5",
        "outputId": "addc4d45-e632-4d37-b6ae-96cd29655652"
      },
      "source": [
        "dat_mercaMadrid = pd.read_csv('Dataset3a_Datos_MercaMadrid.txt', sep='|', decimal=',')\n",
        "dat_mercaMadrid.head()"
      ],
      "execution_count": 105,
      "outputs": [
        {
          "output_type": "execute_result",
          "data": {
            "text/html": [
              "<div>\n",
              "<style scoped>\n",
              "    .dataframe tbody tr th:only-of-type {\n",
              "        vertical-align: middle;\n",
              "    }\n",
              "\n",
              "    .dataframe tbody tr th {\n",
              "        vertical-align: top;\n",
              "    }\n",
              "\n",
              "    .dataframe thead th {\n",
              "        text-align: right;\n",
              "    }\n",
              "</style>\n",
              "<table border=\"1\" class=\"dataframe\">\n",
              "  <thead>\n",
              "    <tr style=\"text-align: right;\">\n",
              "      <th></th>\n",
              "      <th>product</th>\n",
              "      <th>variedad</th>\n",
              "      <th>origen</th>\n",
              "      <th>Unidad</th>\n",
              "      <th>familia</th>\n",
              "      <th>YEAR</th>\n",
              "      <th>MONTH</th>\n",
              "      <th>price_mean</th>\n",
              "      <th>price_min</th>\n",
              "      <th>price_max</th>\n",
              "      <th>Volumen</th>\n",
              "    </tr>\n",
              "  </thead>\n",
              "  <tbody>\n",
              "    <tr>\n",
              "      <th>0</th>\n",
              "      <td>ACEITUNAS</td>\n",
              "      <td>ACEITUNAS</td>\n",
              "      <td>ALMERIA</td>\n",
              "      <td>kg</td>\n",
              "      <td>FRUTAS</td>\n",
              "      <td>2018</td>\n",
              "      <td>2</td>\n",
              "      <td>3.46</td>\n",
              "      <td>3.31</td>\n",
              "      <td>3.61</td>\n",
              "      <td>6700</td>\n",
              "    </tr>\n",
              "    <tr>\n",
              "      <th>1</th>\n",
              "      <td>ACEITUNAS</td>\n",
              "      <td>ACEITUNAS</td>\n",
              "      <td>ALMERIA</td>\n",
              "      <td>kg</td>\n",
              "      <td>FRUTAS</td>\n",
              "      <td>2018</td>\n",
              "      <td>4</td>\n",
              "      <td>3.46</td>\n",
              "      <td>3.31</td>\n",
              "      <td>3.61</td>\n",
              "      <td>400</td>\n",
              "    </tr>\n",
              "    <tr>\n",
              "      <th>2</th>\n",
              "      <td>ACEITUNAS</td>\n",
              "      <td>ACEITUNAS</td>\n",
              "      <td>ALMERIA</td>\n",
              "      <td>kg</td>\n",
              "      <td>FRUTAS</td>\n",
              "      <td>2018</td>\n",
              "      <td>5</td>\n",
              "      <td>3.46</td>\n",
              "      <td>3.31</td>\n",
              "      <td>3.61</td>\n",
              "      <td>260</td>\n",
              "    </tr>\n",
              "    <tr>\n",
              "      <th>3</th>\n",
              "      <td>ACEITUNAS</td>\n",
              "      <td>ACEITUNAS</td>\n",
              "      <td>BADAJOZ</td>\n",
              "      <td>kg</td>\n",
              "      <td>FRUTAS</td>\n",
              "      <td>2018</td>\n",
              "      <td>4</td>\n",
              "      <td>3.46</td>\n",
              "      <td>3.31</td>\n",
              "      <td>3.61</td>\n",
              "      <td>24060</td>\n",
              "    </tr>\n",
              "    <tr>\n",
              "      <th>4</th>\n",
              "      <td>ACEITUNAS</td>\n",
              "      <td>ACEITUNAS</td>\n",
              "      <td>BARCELONA</td>\n",
              "      <td>kg</td>\n",
              "      <td>ULTRAMARINO</td>\n",
              "      <td>2019</td>\n",
              "      <td>2</td>\n",
              "      <td>0.00</td>\n",
              "      <td>0.00</td>\n",
              "      <td>0.00</td>\n",
              "      <td>1000</td>\n",
              "    </tr>\n",
              "  </tbody>\n",
              "</table>\n",
              "</div>"
            ],
            "text/plain": [
              "     product   variedad     origen  ... price_min price_max  Volumen\n",
              "0  ACEITUNAS  ACEITUNAS    ALMERIA  ...      3.31      3.61     6700\n",
              "1  ACEITUNAS  ACEITUNAS    ALMERIA  ...      3.31      3.61      400\n",
              "2  ACEITUNAS  ACEITUNAS    ALMERIA  ...      3.31      3.61      260\n",
              "3  ACEITUNAS  ACEITUNAS    BADAJOZ  ...      3.31      3.61    24060\n",
              "4  ACEITUNAS  ACEITUNAS  BARCELONA  ...      0.00      0.00     1000\n",
              "\n",
              "[5 rows x 11 columns]"
            ]
          },
          "metadata": {},
          "execution_count": 105
        }
      ]
    },
    {
      "cell_type": "code",
      "metadata": {
        "colab": {
          "base_uri": "https://localhost:8080/",
          "height": 206
        },
        "id": "cLc-XT9d8Ion",
        "outputId": "9f5496f3-9de9-4731-9af6-05141397ccee"
      },
      "source": [
        "import pandas\n",
        "\n",
        "dat_mercaBarna = pd.read_csv('Dataset3b_Datos_MercaBarna.txt', sep='|', decimal=',')\n",
        "dat_mercaBarna.head()"
      ],
      "execution_count": 106,
      "outputs": [
        {
          "output_type": "execute_result",
          "data": {
            "text/html": [
              "<div>\n",
              "<style scoped>\n",
              "    .dataframe tbody tr th:only-of-type {\n",
              "        vertical-align: middle;\n",
              "    }\n",
              "\n",
              "    .dataframe tbody tr th {\n",
              "        vertical-align: top;\n",
              "    }\n",
              "\n",
              "    .dataframe thead th {\n",
              "        text-align: right;\n",
              "    }\n",
              "</style>\n",
              "<table border=\"1\" class=\"dataframe\">\n",
              "  <thead>\n",
              "    <tr style=\"text-align: right;\">\n",
              "      <th></th>\n",
              "      <th>product</th>\n",
              "      <th>origen</th>\n",
              "      <th>Unidad</th>\n",
              "      <th>familia</th>\n",
              "      <th>YEAR</th>\n",
              "      <th>MONTH</th>\n",
              "      <th>price_mean</th>\n",
              "      <th>Volumen</th>\n",
              "    </tr>\n",
              "  </thead>\n",
              "  <tbody>\n",
              "    <tr>\n",
              "      <th>0</th>\n",
              "      <td>ACEITUNAS</td>\n",
              "      <td>BARCELONA</td>\n",
              "      <td>kg</td>\n",
              "      <td>FRUTAS HUESO</td>\n",
              "      <td>2018</td>\n",
              "      <td>4</td>\n",
              "      <td>3.8</td>\n",
              "      <td>12</td>\n",
              "    </tr>\n",
              "    <tr>\n",
              "      <th>1</th>\n",
              "      <td>ACEITUNAS</td>\n",
              "      <td>BARCELONA</td>\n",
              "      <td>kg</td>\n",
              "      <td>FRUTAS HUESO</td>\n",
              "      <td>2018</td>\n",
              "      <td>5</td>\n",
              "      <td>3.8</td>\n",
              "      <td>5</td>\n",
              "    </tr>\n",
              "    <tr>\n",
              "      <th>2</th>\n",
              "      <td>ACEITUNAS</td>\n",
              "      <td>BARCELONA</td>\n",
              "      <td>kg</td>\n",
              "      <td>FRUTAS HUESO</td>\n",
              "      <td>2018</td>\n",
              "      <td>6</td>\n",
              "      <td>3.8</td>\n",
              "      <td>10</td>\n",
              "    </tr>\n",
              "    <tr>\n",
              "      <th>3</th>\n",
              "      <td>ACEITUNAS</td>\n",
              "      <td>BARCELONA</td>\n",
              "      <td>kg</td>\n",
              "      <td>FRUTAS HUESO</td>\n",
              "      <td>2018</td>\n",
              "      <td>7</td>\n",
              "      <td>3.8</td>\n",
              "      <td>4</td>\n",
              "    </tr>\n",
              "    <tr>\n",
              "      <th>4</th>\n",
              "      <td>ACEITUNAS</td>\n",
              "      <td>BARCELONA</td>\n",
              "      <td>kg</td>\n",
              "      <td>FRUTAS HUESO</td>\n",
              "      <td>2018</td>\n",
              "      <td>8</td>\n",
              "      <td>3.8</td>\n",
              "      <td>12</td>\n",
              "    </tr>\n",
              "  </tbody>\n",
              "</table>\n",
              "</div>"
            ],
            "text/plain": [
              "     product     origen Unidad       familia  YEAR  MONTH  price_mean  Volumen\n",
              "0  ACEITUNAS  BARCELONA     kg  FRUTAS HUESO  2018      4         3.8       12\n",
              "1  ACEITUNAS  BARCELONA     kg  FRUTAS HUESO  2018      5         3.8        5\n",
              "2  ACEITUNAS  BARCELONA     kg  FRUTAS HUESO  2018      6         3.8       10\n",
              "3  ACEITUNAS  BARCELONA     kg  FRUTAS HUESO  2018      7         3.8        4\n",
              "4  ACEITUNAS  BARCELONA     kg  FRUTAS HUESO  2018      8         3.8       12"
            ]
          },
          "metadata": {},
          "execution_count": 106
        }
      ]
    },
    {
      "cell_type": "code",
      "metadata": {
        "colab": {
          "base_uri": "https://localhost:8080/",
          "height": 348
        },
        "id": "P1yGDHUyM3K2",
        "outputId": "7575ce25-c8f9-4e35-e3be-c151ab36deca"
      },
      "source": [
        "aemet = pd.read_csv('Aemet.csv', sep=',')\n",
        "aemet.head()"
      ],
      "execution_count": 107,
      "outputs": [
        {
          "output_type": "execute_result",
          "data": {
            "text/html": [
              "<div>\n",
              "<style scoped>\n",
              "    .dataframe tbody tr th:only-of-type {\n",
              "        vertical-align: middle;\n",
              "    }\n",
              "\n",
              "    .dataframe tbody tr th {\n",
              "        vertical-align: top;\n",
              "    }\n",
              "\n",
              "    .dataframe thead th {\n",
              "        text-align: right;\n",
              "    }\n",
              "</style>\n",
              "<table border=\"1\" class=\"dataframe\">\n",
              "  <thead>\n",
              "    <tr style=\"text-align: right;\">\n",
              "      <th></th>\n",
              "      <th>Unnamed: 0</th>\n",
              "      <th>Unnamed: 0.1</th>\n",
              "      <th>Estación</th>\n",
              "      <th>Provincia</th>\n",
              "      <th>Temperatura máxima (ºC)</th>\n",
              "      <th>Temperatura mínima (ºC)</th>\n",
              "      <th>Temperatura media (ºC)</th>\n",
              "      <th>Racha (km/h)</th>\n",
              "      <th>Velocidad máxima (km/h)</th>\n",
              "      <th>Precipitación 00-24h (mm)</th>\n",
              "      <th>Precipitación 00-06h (mm)</th>\n",
              "      <th>Precipitación 06-12h (mm)</th>\n",
              "      <th>Precipitación 12-18h (mm)</th>\n",
              "      <th>Precipitación 18-24h (mm)</th>\n",
              "      <th>Fecha</th>\n",
              "    </tr>\n",
              "  </thead>\n",
              "  <tbody>\n",
              "    <tr>\n",
              "      <th>0</th>\n",
              "      <td>0</td>\n",
              "      <td>0</td>\n",
              "      <td>Estaca de Bares</td>\n",
              "      <td>A Coruña</td>\n",
              "      <td>13.6 (15:50)</td>\n",
              "      <td>6.8 (04:30)</td>\n",
              "      <td>10.2</td>\n",
              "      <td>72 (00:10)</td>\n",
              "      <td>56 (11:10)</td>\n",
              "      <td>NaN</td>\n",
              "      <td>NaN</td>\n",
              "      <td>NaN</td>\n",
              "      <td>NaN</td>\n",
              "      <td>NaN</td>\n",
              "      <td>2018-03-07</td>\n",
              "    </tr>\n",
              "    <tr>\n",
              "      <th>1</th>\n",
              "      <td>1</td>\n",
              "      <td>1</td>\n",
              "      <td>As Pontes</td>\n",
              "      <td>A Coruña</td>\n",
              "      <td>11.0 (17:30)</td>\n",
              "      <td>3.0 (04:50)</td>\n",
              "      <td>7.0</td>\n",
              "      <td>NaN</td>\n",
              "      <td>NaN</td>\n",
              "      <td>1.8</td>\n",
              "      <td>1.4</td>\n",
              "      <td>0.4</td>\n",
              "      <td>0.0</td>\n",
              "      <td>0.0</td>\n",
              "      <td>2018-03-07</td>\n",
              "    </tr>\n",
              "    <tr>\n",
              "      <th>2</th>\n",
              "      <td>2</td>\n",
              "      <td>2</td>\n",
              "      <td>A Coruña</td>\n",
              "      <td>A Coruña</td>\n",
              "      <td>13.1 (15:10)</td>\n",
              "      <td>7.3 (07:00)</td>\n",
              "      <td>10.2</td>\n",
              "      <td>44 (00:30)</td>\n",
              "      <td>26 (00:30)</td>\n",
              "      <td>1.0</td>\n",
              "      <td>1.0</td>\n",
              "      <td>0.0</td>\n",
              "      <td>0.0</td>\n",
              "      <td>0.0</td>\n",
              "      <td>2018-03-07</td>\n",
              "    </tr>\n",
              "    <tr>\n",
              "      <th>3</th>\n",
              "      <td>3</td>\n",
              "      <td>3</td>\n",
              "      <td>A Coruña Aeropuerto</td>\n",
              "      <td>A Coruña</td>\n",
              "      <td>13.1 (14:30)</td>\n",
              "      <td>4.3 (05:50)</td>\n",
              "      <td>8.7</td>\n",
              "      <td>46 (12:40)</td>\n",
              "      <td>32 (16:00)</td>\n",
              "      <td>0.7</td>\n",
              "      <td>0.7</td>\n",
              "      <td>0.0</td>\n",
              "      <td>0.0</td>\n",
              "      <td>0.0</td>\n",
              "      <td>2018-03-07</td>\n",
              "    </tr>\n",
              "    <tr>\n",
              "      <th>4</th>\n",
              "      <td>4</td>\n",
              "      <td>4</td>\n",
              "      <td>Carballo, Depuradora</td>\n",
              "      <td>A Coruña</td>\n",
              "      <td>12.5 (14:50)</td>\n",
              "      <td>2.2 (02:50)</td>\n",
              "      <td>7.4</td>\n",
              "      <td>NaN</td>\n",
              "      <td>NaN</td>\n",
              "      <td>0.6</td>\n",
              "      <td>0.4</td>\n",
              "      <td>0.2</td>\n",
              "      <td>0.0</td>\n",
              "      <td>0.0</td>\n",
              "      <td>2018-03-07</td>\n",
              "    </tr>\n",
              "  </tbody>\n",
              "</table>\n",
              "</div>"
            ],
            "text/plain": [
              "   Unnamed: 0  Unnamed: 0.1  ... Precipitación 18-24h (mm)       Fecha\n",
              "0           0             0  ...                       NaN  2018-03-07\n",
              "1           1             1  ...                       0.0  2018-03-07\n",
              "2           2             2  ...                       0.0  2018-03-07\n",
              "3           3             3  ...                       0.0  2018-03-07\n",
              "4           4             4  ...                       0.0  2018-03-07\n",
              "\n",
              "[5 rows x 15 columns]"
            ]
          },
          "metadata": {},
          "execution_count": 107
        }
      ]
    },
    {
      "cell_type": "code",
      "source": [
        "riegos_temp_cultivos = pd.read_csv('RiegosYTemperaturasCultivos.txt', sep='|')\n",
        "riegos_temp_cultivos.head()"
      ],
      "metadata": {
        "colab": {
          "base_uri": "https://localhost:8080/",
          "height": 241
        },
        "id": "vM7pP09dp9pW",
        "outputId": "19bff830-991c-490c-bb7d-f41cebf45a4b"
      },
      "execution_count": 108,
      "outputs": [
        {
          "output_type": "execute_result",
          "data": {
            "text/html": [
              "<div>\n",
              "<style scoped>\n",
              "    .dataframe tbody tr th:only-of-type {\n",
              "        vertical-align: middle;\n",
              "    }\n",
              "\n",
              "    .dataframe tbody tr th {\n",
              "        vertical-align: top;\n",
              "    }\n",
              "\n",
              "    .dataframe thead th {\n",
              "        text-align: right;\n",
              "    }\n",
              "</style>\n",
              "<table border=\"1\" class=\"dataframe\">\n",
              "  <thead>\n",
              "    <tr style=\"text-align: right;\">\n",
              "      <th></th>\n",
              "      <th>Cultivo</th>\n",
              "      <th>Temperatura min req</th>\n",
              "      <th>Temperatura max req</th>\n",
              "      <th>Temperatura min opt</th>\n",
              "      <th>Temperatura max opt</th>\n",
              "      <th>Dias entre riego zona seca</th>\n",
              "      <th>Dias entre riego zona húmeda</th>\n",
              "      <th>Tipo</th>\n",
              "    </tr>\n",
              "  </thead>\n",
              "  <tbody>\n",
              "    <tr>\n",
              "      <th>0</th>\n",
              "      <td>ACELGA</td>\n",
              "      <td>6.0</td>\n",
              "      <td>33.0</td>\n",
              "      <td>15.0</td>\n",
              "      <td>25.0</td>\n",
              "      <td>4</td>\n",
              "      <td>10</td>\n",
              "      <td>SECANO</td>\n",
              "    </tr>\n",
              "    <tr>\n",
              "      <th>1</th>\n",
              "      <td>AJO</td>\n",
              "      <td>7.0</td>\n",
              "      <td>30.0</td>\n",
              "      <td>14.0</td>\n",
              "      <td>24.0</td>\n",
              "      <td>5</td>\n",
              "      <td>7</td>\n",
              "      <td>SECANO</td>\n",
              "    </tr>\n",
              "    <tr>\n",
              "      <th>2</th>\n",
              "      <td>ALCACHOFA</td>\n",
              "      <td>7.0</td>\n",
              "      <td>29.0</td>\n",
              "      <td>15.0</td>\n",
              "      <td>18.0</td>\n",
              "      <td>1</td>\n",
              "      <td>2</td>\n",
              "      <td>REGADIO</td>\n",
              "    </tr>\n",
              "    <tr>\n",
              "      <th>3</th>\n",
              "      <td>APIO</td>\n",
              "      <td>15.0</td>\n",
              "      <td>27.0</td>\n",
              "      <td>15.0</td>\n",
              "      <td>21.0</td>\n",
              "      <td>2</td>\n",
              "      <td>3</td>\n",
              "      <td>REGADIO</td>\n",
              "    </tr>\n",
              "    <tr>\n",
              "      <th>4</th>\n",
              "      <td>BERENJENA</td>\n",
              "      <td>15.0</td>\n",
              "      <td>40.0</td>\n",
              "      <td>23.0</td>\n",
              "      <td>25.0</td>\n",
              "      <td>2</td>\n",
              "      <td>3</td>\n",
              "      <td>REGADIO</td>\n",
              "    </tr>\n",
              "  </tbody>\n",
              "</table>\n",
              "</div>"
            ],
            "text/plain": [
              "     Cultivo  Temperatura min req  ...  Dias entre riego zona húmeda     Tipo\n",
              "0     ACELGA                  6.0  ...                            10   SECANO\n",
              "1        AJO                  7.0  ...                             7   SECANO\n",
              "2  ALCACHOFA                  7.0  ...                             2  REGADIO\n",
              "3       APIO                 15.0  ...                             3  REGADIO\n",
              "4  BERENJENA                 15.0  ...                             3  REGADIO\n",
              "\n",
              "[5 rows x 8 columns]"
            ]
          },
          "metadata": {},
          "execution_count": 108
        }
      ]
    },
    {
      "cell_type": "markdown",
      "metadata": {
        "id": "Qch30Rkk_GZ2"
      },
      "source": [
        "## 2. Selección de Características"
      ]
    },
    {
      "cell_type": "markdown",
      "source": [
        "A continuación, se van a revisar las diferentes características de cada dataset, y se eliminarán aquellas que no resulten útiles para el problema a resolver."
      ],
      "metadata": {
        "id": "OS07rHOqfEjz"
      }
    },
    {
      "cell_type": "markdown",
      "source": [
        "Primero, para el **calendario de siembra** se eliminan las columnas de tipo *ene, ene.1, ... dic, dic.1* del final, puesto que incluyen el periodo  en  el  que  esta  el  cultivo (Periodo  de  siembra,recolección, etc), las cuales no nos interesan puesto que solo nos centraremos en qué sembrar y cuándo, sin tener en cuenta el tiempo de barbecho de la tierra y otras semejantes.  \n",
        "La *familia* del cultivo por ejemplo no sería útil puesto que solo nos vamos a centrar en cultivos de siembra (no árboles frutales, ni semenjantes), así que se acabarán eliminando aquellos elementos que no se contemplen más adelante. Lo mismo ocurre con *asociac*.\n",
        "La característica *aprovecha* tampoco nos resulta útil para la resolución del problema.  \n",
        "Así se irían comprobando todas las características.\n"
      ],
      "metadata": {
        "id": "auE06N_Ofdfu"
      }
    },
    {
      "cell_type": "code",
      "metadata": {
        "colab": {
          "base_uri": "https://localhost:8080/",
          "height": 206
        },
        "id": "mRAZnqL1BgzI",
        "outputId": "4f160c54-5251-46e3-a898-28310b4b795e"
      },
      "source": [
        "calendario_siembra = calendario_siembra.drop(columns=calendario_siembra.columns[7:])\n",
        "calendario_siembra = calendario_siembra.drop(labels=['Familia', 'Aprovecha', 'Asociac', 'Rotaciones'], axis=1)\n",
        "calendario_siembra.head()"
      ],
      "execution_count": 109,
      "outputs": [
        {
          "output_type": "execute_result",
          "data": {
            "text/html": [
              "<div>\n",
              "<style scoped>\n",
              "    .dataframe tbody tr th:only-of-type {\n",
              "        vertical-align: middle;\n",
              "    }\n",
              "\n",
              "    .dataframe tbody tr th {\n",
              "        vertical-align: top;\n",
              "    }\n",
              "\n",
              "    .dataframe thead th {\n",
              "        text-align: right;\n",
              "    }\n",
              "</style>\n",
              "<table border=\"1\" class=\"dataframe\">\n",
              "  <thead>\n",
              "    <tr style=\"text-align: right;\">\n",
              "      <th></th>\n",
              "      <th>Cultivo</th>\n",
              "      <th>Epoca siemb</th>\n",
              "      <th>D siem-recol</th>\n",
              "    </tr>\n",
              "  </thead>\n",
              "  <tbody>\n",
              "    <tr>\n",
              "      <th>0</th>\n",
              "      <td>ACELGA</td>\n",
              "      <td>Otoño-Primav</td>\n",
              "      <td>90</td>\n",
              "    </tr>\n",
              "    <tr>\n",
              "      <th>1</th>\n",
              "      <td>AJO</td>\n",
              "      <td>Otoño-Invierno</td>\n",
              "      <td>60-120</td>\n",
              "    </tr>\n",
              "    <tr>\n",
              "      <th>2</th>\n",
              "      <td>ALCACHOFA</td>\n",
              "      <td>Primav</td>\n",
              "      <td>90-120</td>\n",
              "    </tr>\n",
              "    <tr>\n",
              "      <th>3</th>\n",
              "      <td>APIO</td>\n",
              "      <td>Primav</td>\n",
              "      <td>100</td>\n",
              "    </tr>\n",
              "    <tr>\n",
              "      <th>4</th>\n",
              "      <td>BERENJENA</td>\n",
              "      <td>Primav</td>\n",
              "      <td>130</td>\n",
              "    </tr>\n",
              "  </tbody>\n",
              "</table>\n",
              "</div>"
            ],
            "text/plain": [
              "     Cultivo     Epoca siemb D siem-recol\n",
              "0     ACELGA    Otoño-Primav           90\n",
              "1        AJO  Otoño-Invierno       60-120\n",
              "2  ALCACHOFA          Primav       90-120\n",
              "3       APIO          Primav          100\n",
              "4  BERENJENA          Primav          130"
            ]
          },
          "metadata": {},
          "execution_count": 109
        }
      ]
    },
    {
      "cell_type": "markdown",
      "source": [
        "Para el **consumo por CCAA**, se eliminarán dos columnas vacías sin significado que se han creado por un problema de formato proveniente del propio dataset.  \n",
        "En principio, parece que todas las características serán útiles para la resolución del problema."
      ],
      "metadata": {
        "id": "Bzjia9sqg8yX"
      }
    },
    {
      "cell_type": "code",
      "metadata": {
        "colab": {
          "base_uri": "https://localhost:8080/",
          "height": 554
        },
        "id": "5PFZl8UpCuSg",
        "outputId": "133d3752-cfed-4240-daa8-4b4700d5fb66"
      },
      "source": [
        "consumo_CCAA = consumo_CCAA.drop(columns=consumo_CCAA.columns[10:12])\n",
        "consumo_CCAA.head(10)"
      ],
      "execution_count": 110,
      "outputs": [
        {
          "output_type": "execute_result",
          "data": {
            "text/html": [
              "<div>\n",
              "<style scoped>\n",
              "    .dataframe tbody tr th:only-of-type {\n",
              "        vertical-align: middle;\n",
              "    }\n",
              "\n",
              "    .dataframe tbody tr th {\n",
              "        vertical-align: top;\n",
              "    }\n",
              "\n",
              "    .dataframe thead th {\n",
              "        text-align: right;\n",
              "    }\n",
              "</style>\n",
              "<table border=\"1\" class=\"dataframe\">\n",
              "  <thead>\n",
              "    <tr style=\"text-align: right;\">\n",
              "      <th></th>\n",
              "      <th>Año</th>\n",
              "      <th>Mes</th>\n",
              "      <th>CCAA</th>\n",
              "      <th>Producto</th>\n",
              "      <th>Volumen (miles de kg)</th>\n",
              "      <th>Valor (miles de €)</th>\n",
              "      <th>Precio medio kg</th>\n",
              "      <th>Penetración (%)</th>\n",
              "      <th>Consumo per capita</th>\n",
              "      <th>Gasto per capita</th>\n",
              "    </tr>\n",
              "  </thead>\n",
              "  <tbody>\n",
              "    <tr>\n",
              "      <th>0</th>\n",
              "      <td>2018</td>\n",
              "      <td>Enero</td>\n",
              "      <td>Total Nacional</td>\n",
              "      <td>TOTAL PATATAS</td>\n",
              "      <td>108430.72</td>\n",
              "      <td>84640.08</td>\n",
              "      <td>0.78</td>\n",
              "      <td>79.40</td>\n",
              "      <td>2.38</td>\n",
              "      <td>1.85</td>\n",
              "    </tr>\n",
              "    <tr>\n",
              "      <th>1</th>\n",
              "      <td>2018</td>\n",
              "      <td>Enero</td>\n",
              "      <td>Total Nacional</td>\n",
              "      <td>PATATAS FRESCAS</td>\n",
              "      <td>79445.66</td>\n",
              "      <td>54688.29</td>\n",
              "      <td>0.69</td>\n",
              "      <td>68.46</td>\n",
              "      <td>1.74</td>\n",
              "      <td>1.20</td>\n",
              "    </tr>\n",
              "    <tr>\n",
              "      <th>2</th>\n",
              "      <td>2018</td>\n",
              "      <td>Enero</td>\n",
              "      <td>Total Nacional</td>\n",
              "      <td>PATATAS CONGELADAS</td>\n",
              "      <td>3999.90</td>\n",
              "      <td>4857.79</td>\n",
              "      <td>1.21</td>\n",
              "      <td>12.06</td>\n",
              "      <td>0.09</td>\n",
              "      <td>0.11</td>\n",
              "    </tr>\n",
              "    <tr>\n",
              "      <th>3</th>\n",
              "      <td>2018</td>\n",
              "      <td>Enero</td>\n",
              "      <td>Total Nacional</td>\n",
              "      <td>PATATAS PROCESADAS</td>\n",
              "      <td>4997.03</td>\n",
              "      <td>25094.00</td>\n",
              "      <td>5.02</td>\n",
              "      <td>45.94</td>\n",
              "      <td>0.11</td>\n",
              "      <td>0.55</td>\n",
              "    </tr>\n",
              "    <tr>\n",
              "      <th>4</th>\n",
              "      <td>2018</td>\n",
              "      <td>Enero</td>\n",
              "      <td>Total Nacional</td>\n",
              "      <td>T.HORTALIZAS FRESCAS</td>\n",
              "      <td>209957.24</td>\n",
              "      <td>376688.56</td>\n",
              "      <td>1.79</td>\n",
              "      <td>97.27</td>\n",
              "      <td>4.60</td>\n",
              "      <td>8.25</td>\n",
              "    </tr>\n",
              "    <tr>\n",
              "      <th>5</th>\n",
              "      <td>2018</td>\n",
              "      <td>Enero</td>\n",
              "      <td>Total Nacional</td>\n",
              "      <td>TOMATES</td>\n",
              "      <td>39934.35</td>\n",
              "      <td>67517.73</td>\n",
              "      <td>1.69</td>\n",
              "      <td>77.90</td>\n",
              "      <td>0.88</td>\n",
              "      <td>1.48</td>\n",
              "    </tr>\n",
              "    <tr>\n",
              "      <th>6</th>\n",
              "      <td>2018</td>\n",
              "      <td>Enero</td>\n",
              "      <td>Total Nacional</td>\n",
              "      <td>CEBOLLAS</td>\n",
              "      <td>25922.07</td>\n",
              "      <td>26254.86</td>\n",
              "      <td>1.01</td>\n",
              "      <td>69.76</td>\n",
              "      <td>0.57</td>\n",
              "      <td>0.58</td>\n",
              "    </tr>\n",
              "    <tr>\n",
              "      <th>7</th>\n",
              "      <td>2018</td>\n",
              "      <td>Enero</td>\n",
              "      <td>Total Nacional</td>\n",
              "      <td>AJOS</td>\n",
              "      <td>2572.64</td>\n",
              "      <td>10736.54</td>\n",
              "      <td>4.17</td>\n",
              "      <td>34.75</td>\n",
              "      <td>0.06</td>\n",
              "      <td>0.24</td>\n",
              "    </tr>\n",
              "    <tr>\n",
              "      <th>8</th>\n",
              "      <td>2018</td>\n",
              "      <td>Enero</td>\n",
              "      <td>Total Nacional</td>\n",
              "      <td>COLES</td>\n",
              "      <td>7041.12</td>\n",
              "      <td>7624.86</td>\n",
              "      <td>1.08</td>\n",
              "      <td>23.93</td>\n",
              "      <td>0.15</td>\n",
              "      <td>0.17</td>\n",
              "    </tr>\n",
              "    <tr>\n",
              "      <th>9</th>\n",
              "      <td>2018</td>\n",
              "      <td>Enero</td>\n",
              "      <td>Total Nacional</td>\n",
              "      <td>PEPINOS</td>\n",
              "      <td>4143.06</td>\n",
              "      <td>6335.35</td>\n",
              "      <td>1.53</td>\n",
              "      <td>22.20</td>\n",
              "      <td>0.09</td>\n",
              "      <td>0.14</td>\n",
              "    </tr>\n",
              "  </tbody>\n",
              "</table>\n",
              "</div>"
            ],
            "text/plain": [
              "    Año    Mes  ... Consumo per capita Gasto per capita\n",
              "0  2018  Enero  ...               2.38             1.85\n",
              "1  2018  Enero  ...               1.74             1.20\n",
              "2  2018  Enero  ...               0.09             0.11\n",
              "3  2018  Enero  ...               0.11             0.55\n",
              "4  2018  Enero  ...               4.60             8.25\n",
              "5  2018  Enero  ...               0.88             1.48\n",
              "6  2018  Enero  ...               0.57             0.58\n",
              "7  2018  Enero  ...               0.06             0.24\n",
              "8  2018  Enero  ...               0.15             0.17\n",
              "9  2018  Enero  ...               0.09             0.14\n",
              "\n",
              "[10 rows x 10 columns]"
            ]
          },
          "metadata": {},
          "execution_count": 110
        }
      ]
    },
    {
      "cell_type": "markdown",
      "source": [
        "Para los precio de la **Junta de Andalucía**, se eliminará la característica *CATEGORIA* puesto que no nos proporciona información relevante sobre el tipo.  \n"
      ],
      "metadata": {
        "id": "TTzXy224hQPW"
      }
    },
    {
      "cell_type": "code",
      "metadata": {
        "colab": {
          "base_uri": "https://localhost:8080/",
          "height": 206
        },
        "id": "pFHRSAveEXMS",
        "outputId": "44e2786d-a28a-4846-cc2c-f027b43a557b"
      },
      "source": [
        "precios_JAndalucia = precios_JAndalucia.drop(labels=['CATEGORIA'], axis=1)\n",
        "precios_JAndalucia.head()"
      ],
      "execution_count": 111,
      "outputs": [
        {
          "output_type": "execute_result",
          "data": {
            "text/html": [
              "<div>\n",
              "<style scoped>\n",
              "    .dataframe tbody tr th:only-of-type {\n",
              "        vertical-align: middle;\n",
              "    }\n",
              "\n",
              "    .dataframe tbody tr th {\n",
              "        vertical-align: top;\n",
              "    }\n",
              "\n",
              "    .dataframe thead th {\n",
              "        text-align: right;\n",
              "    }\n",
              "</style>\n",
              "<table border=\"1\" class=\"dataframe\">\n",
              "  <thead>\n",
              "    <tr style=\"text-align: right;\">\n",
              "      <th></th>\n",
              "      <th>INICIO</th>\n",
              "      <th>FIN</th>\n",
              "      <th>GRUPO</th>\n",
              "      <th>SECTOR</th>\n",
              "      <th>SUBSECTOR</th>\n",
              "      <th>PRODUCTO</th>\n",
              "      <th>TIPO</th>\n",
              "      <th>SUBTIPO</th>\n",
              "      <th>POSICION</th>\n",
              "      <th>FORMATO</th>\n",
              "      <th>PRECIO</th>\n",
              "      <th>UNIDAD</th>\n",
              "    </tr>\n",
              "  </thead>\n",
              "  <tbody>\n",
              "    <tr>\n",
              "      <th>0</th>\n",
              "      <td>01/01/2018</td>\n",
              "      <td>07/01/2018</td>\n",
              "      <td>Agrícola</td>\n",
              "      <td>Frutales</td>\n",
              "      <td>Citricos</td>\n",
              "      <td>LIMON</td>\n",
              "      <td>NaN</td>\n",
              "      <td>NaN</td>\n",
              "      <td>Mercas</td>\n",
              "      <td>NaN</td>\n",
              "      <td>0.92</td>\n",
              "      <td>Euros/kg</td>\n",
              "    </tr>\n",
              "    <tr>\n",
              "      <th>1</th>\n",
              "      <td>01/01/2018</td>\n",
              "      <td>07/01/2018</td>\n",
              "      <td>Agrícola</td>\n",
              "      <td>Frutales</td>\n",
              "      <td>Citricos</td>\n",
              "      <td>MANDARINA</td>\n",
              "      <td>NaN</td>\n",
              "      <td>NaN</td>\n",
              "      <td>Mercas</td>\n",
              "      <td>NaN</td>\n",
              "      <td>0.84</td>\n",
              "      <td>Euros/kg</td>\n",
              "    </tr>\n",
              "    <tr>\n",
              "      <th>2</th>\n",
              "      <td>01/01/2018</td>\n",
              "      <td>07/01/2018</td>\n",
              "      <td>Agrícola</td>\n",
              "      <td>Frutales</td>\n",
              "      <td>Citricos</td>\n",
              "      <td>NARANJA</td>\n",
              "      <td>NaN</td>\n",
              "      <td>NaN</td>\n",
              "      <td>Mercas</td>\n",
              "      <td>NaN</td>\n",
              "      <td>0.78</td>\n",
              "      <td>Euros/kg</td>\n",
              "    </tr>\n",
              "    <tr>\n",
              "      <th>3</th>\n",
              "      <td>01/01/2018</td>\n",
              "      <td>07/01/2018</td>\n",
              "      <td>Agrícola</td>\n",
              "      <td>Frutales</td>\n",
              "      <td>Citricos</td>\n",
              "      <td>POMELO</td>\n",
              "      <td>NaN</td>\n",
              "      <td>NaN</td>\n",
              "      <td>Mercas</td>\n",
              "      <td>NaN</td>\n",
              "      <td>1.01</td>\n",
              "      <td>Euros/kg</td>\n",
              "    </tr>\n",
              "    <tr>\n",
              "      <th>4</th>\n",
              "      <td>01/01/2018</td>\n",
              "      <td>07/01/2018</td>\n",
              "      <td>Agrícola</td>\n",
              "      <td>Frutales</td>\n",
              "      <td>Frutales no cítricos</td>\n",
              "      <td>AGUACATE</td>\n",
              "      <td>NaN</td>\n",
              "      <td>NaN</td>\n",
              "      <td>Mercas</td>\n",
              "      <td>NaN</td>\n",
              "      <td>3.77</td>\n",
              "      <td>Euros/kg</td>\n",
              "    </tr>\n",
              "  </tbody>\n",
              "</table>\n",
              "</div>"
            ],
            "text/plain": [
              "       INICIO         FIN     GRUPO  ... FORMATO PRECIO    UNIDAD\n",
              "0  01/01/2018  07/01/2018  Agrícola  ...     NaN   0.92  Euros/kg\n",
              "1  01/01/2018  07/01/2018  Agrícola  ...     NaN   0.84  Euros/kg\n",
              "2  01/01/2018  07/01/2018  Agrícola  ...     NaN   0.78  Euros/kg\n",
              "3  01/01/2018  07/01/2018  Agrícola  ...     NaN   1.01  Euros/kg\n",
              "4  01/01/2018  07/01/2018  Agrícola  ...     NaN   3.77  Euros/kg\n",
              "\n",
              "[5 rows x 12 columns]"
            ]
          },
          "metadata": {},
          "execution_count": 111
        }
      ]
    },
    {
      "cell_type": "markdown",
      "source": [
        "También se van a eliminar característicar como *SUBTIPO*, *FORMATO* y *GRUPO* que en principio poseen muchos NaN y tampoco interesa tanto detalle en los datos.  \n",
        "Otros como *SECTOR* que indican si el cultivo es frutal, hortaliza, etc. también se eliminará puesto que posteriormente se hará un filtrado con los productos específicos con los que se va a trabajar.  \n",
        "*UNIDAD* se elimina porque siempre tiene el mismo valor."
      ],
      "metadata": {
        "id": "cEcCHr3IhvPL"
      }
    },
    {
      "cell_type": "code",
      "metadata": {
        "colab": {
          "base_uri": "https://localhost:8080/",
          "height": 206
        },
        "id": "zWdw6Eo1F63u",
        "outputId": "8d274a0a-44ab-44cd-c2dd-ae17d03409b8"
      },
      "source": [
        "precios_JAndalucia = precios_JAndalucia.drop(labels=['UNIDAD', 'SUBSECTOR', 'TIPO', 'SUBTIPO', 'FORMATO', 'GRUPO', 'SECTOR'], axis=1)\n",
        "precios_JAndalucia.head()"
      ],
      "execution_count": 112,
      "outputs": [
        {
          "output_type": "execute_result",
          "data": {
            "text/html": [
              "<div>\n",
              "<style scoped>\n",
              "    .dataframe tbody tr th:only-of-type {\n",
              "        vertical-align: middle;\n",
              "    }\n",
              "\n",
              "    .dataframe tbody tr th {\n",
              "        vertical-align: top;\n",
              "    }\n",
              "\n",
              "    .dataframe thead th {\n",
              "        text-align: right;\n",
              "    }\n",
              "</style>\n",
              "<table border=\"1\" class=\"dataframe\">\n",
              "  <thead>\n",
              "    <tr style=\"text-align: right;\">\n",
              "      <th></th>\n",
              "      <th>INICIO</th>\n",
              "      <th>FIN</th>\n",
              "      <th>PRODUCTO</th>\n",
              "      <th>POSICION</th>\n",
              "      <th>PRECIO</th>\n",
              "    </tr>\n",
              "  </thead>\n",
              "  <tbody>\n",
              "    <tr>\n",
              "      <th>0</th>\n",
              "      <td>01/01/2018</td>\n",
              "      <td>07/01/2018</td>\n",
              "      <td>LIMON</td>\n",
              "      <td>Mercas</td>\n",
              "      <td>0.92</td>\n",
              "    </tr>\n",
              "    <tr>\n",
              "      <th>1</th>\n",
              "      <td>01/01/2018</td>\n",
              "      <td>07/01/2018</td>\n",
              "      <td>MANDARINA</td>\n",
              "      <td>Mercas</td>\n",
              "      <td>0.84</td>\n",
              "    </tr>\n",
              "    <tr>\n",
              "      <th>2</th>\n",
              "      <td>01/01/2018</td>\n",
              "      <td>07/01/2018</td>\n",
              "      <td>NARANJA</td>\n",
              "      <td>Mercas</td>\n",
              "      <td>0.78</td>\n",
              "    </tr>\n",
              "    <tr>\n",
              "      <th>3</th>\n",
              "      <td>01/01/2018</td>\n",
              "      <td>07/01/2018</td>\n",
              "      <td>POMELO</td>\n",
              "      <td>Mercas</td>\n",
              "      <td>1.01</td>\n",
              "    </tr>\n",
              "    <tr>\n",
              "      <th>4</th>\n",
              "      <td>01/01/2018</td>\n",
              "      <td>07/01/2018</td>\n",
              "      <td>AGUACATE</td>\n",
              "      <td>Mercas</td>\n",
              "      <td>3.77</td>\n",
              "    </tr>\n",
              "  </tbody>\n",
              "</table>\n",
              "</div>"
            ],
            "text/plain": [
              "       INICIO         FIN   PRODUCTO POSICION  PRECIO\n",
              "0  01/01/2018  07/01/2018      LIMON   Mercas    0.92\n",
              "1  01/01/2018  07/01/2018  MANDARINA   Mercas    0.84\n",
              "2  01/01/2018  07/01/2018    NARANJA   Mercas    0.78\n",
              "3  01/01/2018  07/01/2018     POMELO   Mercas    1.01\n",
              "4  01/01/2018  07/01/2018   AGUACATE   Mercas    3.77"
            ]
          },
          "metadata": {},
          "execution_count": 112
        }
      ]
    },
    {
      "cell_type": "markdown",
      "source": [
        "De los datasets de **mercaMadrid** y **mercaBarna** se descartarán las características *Unidad*, *variedad* y *familia* por las razones expuestas en los anteriores datasets.  \n",
        "Se eliminarán *price_min* y *price_max*, quedando sólo el *price_mean* puesto que no se busca tanto detalle en los datos."
      ],
      "metadata": {
        "id": "FJrSIJTriteL"
      }
    },
    {
      "cell_type": "code",
      "metadata": {
        "colab": {
          "base_uri": "https://localhost:8080/",
          "height": 206
        },
        "id": "CjlFnA2mIdmD",
        "outputId": "b95e3e9f-5f4c-4ad8-cfc2-1717eb053a7c"
      },
      "source": [
        "dat_mercaMadrid = dat_mercaMadrid.drop(labels=['Unidad', 'variedad', 'familia', 'price_min', 'price_max' ], axis=1)\n",
        "dat_mercaMadrid.head()"
      ],
      "execution_count": 113,
      "outputs": [
        {
          "output_type": "execute_result",
          "data": {
            "text/html": [
              "<div>\n",
              "<style scoped>\n",
              "    .dataframe tbody tr th:only-of-type {\n",
              "        vertical-align: middle;\n",
              "    }\n",
              "\n",
              "    .dataframe tbody tr th {\n",
              "        vertical-align: top;\n",
              "    }\n",
              "\n",
              "    .dataframe thead th {\n",
              "        text-align: right;\n",
              "    }\n",
              "</style>\n",
              "<table border=\"1\" class=\"dataframe\">\n",
              "  <thead>\n",
              "    <tr style=\"text-align: right;\">\n",
              "      <th></th>\n",
              "      <th>product</th>\n",
              "      <th>origen</th>\n",
              "      <th>YEAR</th>\n",
              "      <th>MONTH</th>\n",
              "      <th>price_mean</th>\n",
              "      <th>Volumen</th>\n",
              "    </tr>\n",
              "  </thead>\n",
              "  <tbody>\n",
              "    <tr>\n",
              "      <th>0</th>\n",
              "      <td>ACEITUNAS</td>\n",
              "      <td>ALMERIA</td>\n",
              "      <td>2018</td>\n",
              "      <td>2</td>\n",
              "      <td>3.46</td>\n",
              "      <td>6700</td>\n",
              "    </tr>\n",
              "    <tr>\n",
              "      <th>1</th>\n",
              "      <td>ACEITUNAS</td>\n",
              "      <td>ALMERIA</td>\n",
              "      <td>2018</td>\n",
              "      <td>4</td>\n",
              "      <td>3.46</td>\n",
              "      <td>400</td>\n",
              "    </tr>\n",
              "    <tr>\n",
              "      <th>2</th>\n",
              "      <td>ACEITUNAS</td>\n",
              "      <td>ALMERIA</td>\n",
              "      <td>2018</td>\n",
              "      <td>5</td>\n",
              "      <td>3.46</td>\n",
              "      <td>260</td>\n",
              "    </tr>\n",
              "    <tr>\n",
              "      <th>3</th>\n",
              "      <td>ACEITUNAS</td>\n",
              "      <td>BADAJOZ</td>\n",
              "      <td>2018</td>\n",
              "      <td>4</td>\n",
              "      <td>3.46</td>\n",
              "      <td>24060</td>\n",
              "    </tr>\n",
              "    <tr>\n",
              "      <th>4</th>\n",
              "      <td>ACEITUNAS</td>\n",
              "      <td>BARCELONA</td>\n",
              "      <td>2019</td>\n",
              "      <td>2</td>\n",
              "      <td>0.00</td>\n",
              "      <td>1000</td>\n",
              "    </tr>\n",
              "  </tbody>\n",
              "</table>\n",
              "</div>"
            ],
            "text/plain": [
              "     product     origen  YEAR  MONTH  price_mean  Volumen\n",
              "0  ACEITUNAS    ALMERIA  2018      2        3.46     6700\n",
              "1  ACEITUNAS    ALMERIA  2018      4        3.46      400\n",
              "2  ACEITUNAS    ALMERIA  2018      5        3.46      260\n",
              "3  ACEITUNAS    BADAJOZ  2018      4        3.46    24060\n",
              "4  ACEITUNAS  BARCELONA  2019      2        0.00     1000"
            ]
          },
          "metadata": {},
          "execution_count": 113
        }
      ]
    },
    {
      "cell_type": "code",
      "metadata": {
        "colab": {
          "base_uri": "https://localhost:8080/",
          "height": 206
        },
        "id": "BfWWYxbZLW0f",
        "outputId": "2452ed2c-b2d6-402c-87dd-3f728a1691e7"
      },
      "source": [
        "dat_mercaBarna = dat_mercaBarna.drop(labels=['Unidad', 'familia'], axis=1)\n",
        "dat_mercaBarna.head()"
      ],
      "execution_count": 114,
      "outputs": [
        {
          "output_type": "execute_result",
          "data": {
            "text/html": [
              "<div>\n",
              "<style scoped>\n",
              "    .dataframe tbody tr th:only-of-type {\n",
              "        vertical-align: middle;\n",
              "    }\n",
              "\n",
              "    .dataframe tbody tr th {\n",
              "        vertical-align: top;\n",
              "    }\n",
              "\n",
              "    .dataframe thead th {\n",
              "        text-align: right;\n",
              "    }\n",
              "</style>\n",
              "<table border=\"1\" class=\"dataframe\">\n",
              "  <thead>\n",
              "    <tr style=\"text-align: right;\">\n",
              "      <th></th>\n",
              "      <th>product</th>\n",
              "      <th>origen</th>\n",
              "      <th>YEAR</th>\n",
              "      <th>MONTH</th>\n",
              "      <th>price_mean</th>\n",
              "      <th>Volumen</th>\n",
              "    </tr>\n",
              "  </thead>\n",
              "  <tbody>\n",
              "    <tr>\n",
              "      <th>0</th>\n",
              "      <td>ACEITUNAS</td>\n",
              "      <td>BARCELONA</td>\n",
              "      <td>2018</td>\n",
              "      <td>4</td>\n",
              "      <td>3.8</td>\n",
              "      <td>12</td>\n",
              "    </tr>\n",
              "    <tr>\n",
              "      <th>1</th>\n",
              "      <td>ACEITUNAS</td>\n",
              "      <td>BARCELONA</td>\n",
              "      <td>2018</td>\n",
              "      <td>5</td>\n",
              "      <td>3.8</td>\n",
              "      <td>5</td>\n",
              "    </tr>\n",
              "    <tr>\n",
              "      <th>2</th>\n",
              "      <td>ACEITUNAS</td>\n",
              "      <td>BARCELONA</td>\n",
              "      <td>2018</td>\n",
              "      <td>6</td>\n",
              "      <td>3.8</td>\n",
              "      <td>10</td>\n",
              "    </tr>\n",
              "    <tr>\n",
              "      <th>3</th>\n",
              "      <td>ACEITUNAS</td>\n",
              "      <td>BARCELONA</td>\n",
              "      <td>2018</td>\n",
              "      <td>7</td>\n",
              "      <td>3.8</td>\n",
              "      <td>4</td>\n",
              "    </tr>\n",
              "    <tr>\n",
              "      <th>4</th>\n",
              "      <td>ACEITUNAS</td>\n",
              "      <td>BARCELONA</td>\n",
              "      <td>2018</td>\n",
              "      <td>8</td>\n",
              "      <td>3.8</td>\n",
              "      <td>12</td>\n",
              "    </tr>\n",
              "  </tbody>\n",
              "</table>\n",
              "</div>"
            ],
            "text/plain": [
              "     product     origen  YEAR  MONTH  price_mean  Volumen\n",
              "0  ACEITUNAS  BARCELONA  2018      4         3.8       12\n",
              "1  ACEITUNAS  BARCELONA  2018      5         3.8        5\n",
              "2  ACEITUNAS  BARCELONA  2018      6         3.8       10\n",
              "3  ACEITUNAS  BARCELONA  2018      7         3.8        4\n",
              "4  ACEITUNAS  BARCELONA  2018      8         3.8       12"
            ]
          },
          "metadata": {},
          "execution_count": 114
        }
      ]
    },
    {
      "cell_type": "markdown",
      "source": [
        "En el dataset de **AEMet**, se descartan las dos primeras columnas que corresponden al identificador y el subidentificador de cada día, existentes en el dataset debido a que se obtuvo mediante técnicas de *WebScrapping*."
      ],
      "metadata": {
        "id": "shs71FQCjQmV"
      }
    },
    {
      "cell_type": "code",
      "metadata": {
        "colab": {
          "base_uri": "https://localhost:8080/",
          "height": 348
        },
        "id": "5nJhbwviLvC_",
        "outputId": "6eed2c3c-f582-45c8-bc5a-2204afeddcdf"
      },
      "source": [
        "aemet = aemet.drop(columns=aemet.columns[:2])\n",
        "aemet.head()"
      ],
      "execution_count": 115,
      "outputs": [
        {
          "output_type": "execute_result",
          "data": {
            "text/html": [
              "<div>\n",
              "<style scoped>\n",
              "    .dataframe tbody tr th:only-of-type {\n",
              "        vertical-align: middle;\n",
              "    }\n",
              "\n",
              "    .dataframe tbody tr th {\n",
              "        vertical-align: top;\n",
              "    }\n",
              "\n",
              "    .dataframe thead th {\n",
              "        text-align: right;\n",
              "    }\n",
              "</style>\n",
              "<table border=\"1\" class=\"dataframe\">\n",
              "  <thead>\n",
              "    <tr style=\"text-align: right;\">\n",
              "      <th></th>\n",
              "      <th>Estación</th>\n",
              "      <th>Provincia</th>\n",
              "      <th>Temperatura máxima (ºC)</th>\n",
              "      <th>Temperatura mínima (ºC)</th>\n",
              "      <th>Temperatura media (ºC)</th>\n",
              "      <th>Racha (km/h)</th>\n",
              "      <th>Velocidad máxima (km/h)</th>\n",
              "      <th>Precipitación 00-24h (mm)</th>\n",
              "      <th>Precipitación 00-06h (mm)</th>\n",
              "      <th>Precipitación 06-12h (mm)</th>\n",
              "      <th>Precipitación 12-18h (mm)</th>\n",
              "      <th>Precipitación 18-24h (mm)</th>\n",
              "      <th>Fecha</th>\n",
              "    </tr>\n",
              "  </thead>\n",
              "  <tbody>\n",
              "    <tr>\n",
              "      <th>0</th>\n",
              "      <td>Estaca de Bares</td>\n",
              "      <td>A Coruña</td>\n",
              "      <td>13.6 (15:50)</td>\n",
              "      <td>6.8 (04:30)</td>\n",
              "      <td>10.2</td>\n",
              "      <td>72 (00:10)</td>\n",
              "      <td>56 (11:10)</td>\n",
              "      <td>NaN</td>\n",
              "      <td>NaN</td>\n",
              "      <td>NaN</td>\n",
              "      <td>NaN</td>\n",
              "      <td>NaN</td>\n",
              "      <td>2018-03-07</td>\n",
              "    </tr>\n",
              "    <tr>\n",
              "      <th>1</th>\n",
              "      <td>As Pontes</td>\n",
              "      <td>A Coruña</td>\n",
              "      <td>11.0 (17:30)</td>\n",
              "      <td>3.0 (04:50)</td>\n",
              "      <td>7.0</td>\n",
              "      <td>NaN</td>\n",
              "      <td>NaN</td>\n",
              "      <td>1.8</td>\n",
              "      <td>1.4</td>\n",
              "      <td>0.4</td>\n",
              "      <td>0.0</td>\n",
              "      <td>0.0</td>\n",
              "      <td>2018-03-07</td>\n",
              "    </tr>\n",
              "    <tr>\n",
              "      <th>2</th>\n",
              "      <td>A Coruña</td>\n",
              "      <td>A Coruña</td>\n",
              "      <td>13.1 (15:10)</td>\n",
              "      <td>7.3 (07:00)</td>\n",
              "      <td>10.2</td>\n",
              "      <td>44 (00:30)</td>\n",
              "      <td>26 (00:30)</td>\n",
              "      <td>1.0</td>\n",
              "      <td>1.0</td>\n",
              "      <td>0.0</td>\n",
              "      <td>0.0</td>\n",
              "      <td>0.0</td>\n",
              "      <td>2018-03-07</td>\n",
              "    </tr>\n",
              "    <tr>\n",
              "      <th>3</th>\n",
              "      <td>A Coruña Aeropuerto</td>\n",
              "      <td>A Coruña</td>\n",
              "      <td>13.1 (14:30)</td>\n",
              "      <td>4.3 (05:50)</td>\n",
              "      <td>8.7</td>\n",
              "      <td>46 (12:40)</td>\n",
              "      <td>32 (16:00)</td>\n",
              "      <td>0.7</td>\n",
              "      <td>0.7</td>\n",
              "      <td>0.0</td>\n",
              "      <td>0.0</td>\n",
              "      <td>0.0</td>\n",
              "      <td>2018-03-07</td>\n",
              "    </tr>\n",
              "    <tr>\n",
              "      <th>4</th>\n",
              "      <td>Carballo, Depuradora</td>\n",
              "      <td>A Coruña</td>\n",
              "      <td>12.5 (14:50)</td>\n",
              "      <td>2.2 (02:50)</td>\n",
              "      <td>7.4</td>\n",
              "      <td>NaN</td>\n",
              "      <td>NaN</td>\n",
              "      <td>0.6</td>\n",
              "      <td>0.4</td>\n",
              "      <td>0.2</td>\n",
              "      <td>0.0</td>\n",
              "      <td>0.0</td>\n",
              "      <td>2018-03-07</td>\n",
              "    </tr>\n",
              "  </tbody>\n",
              "</table>\n",
              "</div>"
            ],
            "text/plain": [
              "               Estación Provincia  ... Precipitación 18-24h (mm)       Fecha\n",
              "0       Estaca de Bares  A Coruña  ...                       NaN  2018-03-07\n",
              "1             As Pontes  A Coruña  ...                       0.0  2018-03-07\n",
              "2              A Coruña  A Coruña  ...                       0.0  2018-03-07\n",
              "3   A Coruña Aeropuerto  A Coruña  ...                       0.0  2018-03-07\n",
              "4  Carballo, Depuradora  A Coruña  ...                       0.0  2018-03-07\n",
              "\n",
              "[5 rows x 13 columns]"
            ]
          },
          "metadata": {},
          "execution_count": 115
        }
      ]
    },
    {
      "cell_type": "markdown",
      "source": [
        "También se descartarán características que tengan mínimo y máximo valor (como temperatura, dejando solo la media) ya que no se necesita tanto detalle para el problema.  \n",
        "La estación meteorológica no es necesaria conocerla ya que sólo interesa la ubicación.  \n",
        "El viento no se tendrá en cuenta como factor para la siembra de cultivos."
      ],
      "metadata": {
        "id": "8QH0wItBkEuG"
      }
    },
    {
      "cell_type": "code",
      "metadata": {
        "colab": {
          "base_uri": "https://localhost:8080/",
          "height": 310
        },
        "id": "E01lVT_iN3Ao",
        "outputId": "db3d4599-c3e0-431a-a9e2-8ba48441042a"
      },
      "source": [
        "aemet = aemet.drop(labels=['Estación', 'Temperatura máxima (ºC)', 'Temperatura mínima (ºC)', 'Racha (km/h)', 'Velocidad máxima (km/h)'], axis=1)\n",
        "aemet.head()"
      ],
      "execution_count": 116,
      "outputs": [
        {
          "output_type": "execute_result",
          "data": {
            "text/html": [
              "<div>\n",
              "<style scoped>\n",
              "    .dataframe tbody tr th:only-of-type {\n",
              "        vertical-align: middle;\n",
              "    }\n",
              "\n",
              "    .dataframe tbody tr th {\n",
              "        vertical-align: top;\n",
              "    }\n",
              "\n",
              "    .dataframe thead th {\n",
              "        text-align: right;\n",
              "    }\n",
              "</style>\n",
              "<table border=\"1\" class=\"dataframe\">\n",
              "  <thead>\n",
              "    <tr style=\"text-align: right;\">\n",
              "      <th></th>\n",
              "      <th>Provincia</th>\n",
              "      <th>Temperatura media (ºC)</th>\n",
              "      <th>Precipitación 00-24h (mm)</th>\n",
              "      <th>Precipitación 00-06h (mm)</th>\n",
              "      <th>Precipitación 06-12h (mm)</th>\n",
              "      <th>Precipitación 12-18h (mm)</th>\n",
              "      <th>Precipitación 18-24h (mm)</th>\n",
              "      <th>Fecha</th>\n",
              "    </tr>\n",
              "  </thead>\n",
              "  <tbody>\n",
              "    <tr>\n",
              "      <th>0</th>\n",
              "      <td>A Coruña</td>\n",
              "      <td>10.2</td>\n",
              "      <td>NaN</td>\n",
              "      <td>NaN</td>\n",
              "      <td>NaN</td>\n",
              "      <td>NaN</td>\n",
              "      <td>NaN</td>\n",
              "      <td>2018-03-07</td>\n",
              "    </tr>\n",
              "    <tr>\n",
              "      <th>1</th>\n",
              "      <td>A Coruña</td>\n",
              "      <td>7.0</td>\n",
              "      <td>1.8</td>\n",
              "      <td>1.4</td>\n",
              "      <td>0.4</td>\n",
              "      <td>0.0</td>\n",
              "      <td>0.0</td>\n",
              "      <td>2018-03-07</td>\n",
              "    </tr>\n",
              "    <tr>\n",
              "      <th>2</th>\n",
              "      <td>A Coruña</td>\n",
              "      <td>10.2</td>\n",
              "      <td>1.0</td>\n",
              "      <td>1.0</td>\n",
              "      <td>0.0</td>\n",
              "      <td>0.0</td>\n",
              "      <td>0.0</td>\n",
              "      <td>2018-03-07</td>\n",
              "    </tr>\n",
              "    <tr>\n",
              "      <th>3</th>\n",
              "      <td>A Coruña</td>\n",
              "      <td>8.7</td>\n",
              "      <td>0.7</td>\n",
              "      <td>0.7</td>\n",
              "      <td>0.0</td>\n",
              "      <td>0.0</td>\n",
              "      <td>0.0</td>\n",
              "      <td>2018-03-07</td>\n",
              "    </tr>\n",
              "    <tr>\n",
              "      <th>4</th>\n",
              "      <td>A Coruña</td>\n",
              "      <td>7.4</td>\n",
              "      <td>0.6</td>\n",
              "      <td>0.4</td>\n",
              "      <td>0.2</td>\n",
              "      <td>0.0</td>\n",
              "      <td>0.0</td>\n",
              "      <td>2018-03-07</td>\n",
              "    </tr>\n",
              "  </tbody>\n",
              "</table>\n",
              "</div>"
            ],
            "text/plain": [
              "  Provincia  Temperatura media (ºC)  ...  Precipitación 18-24h (mm)       Fecha\n",
              "0  A Coruña                    10.2  ...                        NaN  2018-03-07\n",
              "1  A Coruña                     7.0  ...                        0.0  2018-03-07\n",
              "2  A Coruña                    10.2  ...                        0.0  2018-03-07\n",
              "3  A Coruña                     8.7  ...                        0.0  2018-03-07\n",
              "4  A Coruña                     7.4  ...                        0.0  2018-03-07\n",
              "\n",
              "[5 rows x 8 columns]"
            ]
          },
          "metadata": {},
          "execution_count": 116
        }
      ]
    },
    {
      "cell_type": "markdown",
      "source": [
        "También se eliminarán subintervalos de precipitación, permaneciendo sólo la total del día."
      ],
      "metadata": {
        "id": "U4OtwThZklUd"
      }
    },
    {
      "cell_type": "code",
      "metadata": {
        "colab": {
          "base_uri": "https://localhost:8080/",
          "height": 206
        },
        "id": "o9igTTLLOtW-",
        "outputId": "81f90c3a-fb12-49b2-a45d-2a1b1960ceb1"
      },
      "source": [
        "aemet = aemet.drop(labels=['Precipitación 00-06h (mm)', 'Precipitación 06-12h (mm)', 'Precipitación 12-18h (mm)', 'Precipitación 18-24h (mm)'], axis=1)\n",
        "aemet.head()"
      ],
      "execution_count": 117,
      "outputs": [
        {
          "output_type": "execute_result",
          "data": {
            "text/html": [
              "<div>\n",
              "<style scoped>\n",
              "    .dataframe tbody tr th:only-of-type {\n",
              "        vertical-align: middle;\n",
              "    }\n",
              "\n",
              "    .dataframe tbody tr th {\n",
              "        vertical-align: top;\n",
              "    }\n",
              "\n",
              "    .dataframe thead th {\n",
              "        text-align: right;\n",
              "    }\n",
              "</style>\n",
              "<table border=\"1\" class=\"dataframe\">\n",
              "  <thead>\n",
              "    <tr style=\"text-align: right;\">\n",
              "      <th></th>\n",
              "      <th>Provincia</th>\n",
              "      <th>Temperatura media (ºC)</th>\n",
              "      <th>Precipitación 00-24h (mm)</th>\n",
              "      <th>Fecha</th>\n",
              "    </tr>\n",
              "  </thead>\n",
              "  <tbody>\n",
              "    <tr>\n",
              "      <th>0</th>\n",
              "      <td>A Coruña</td>\n",
              "      <td>10.2</td>\n",
              "      <td>NaN</td>\n",
              "      <td>2018-03-07</td>\n",
              "    </tr>\n",
              "    <tr>\n",
              "      <th>1</th>\n",
              "      <td>A Coruña</td>\n",
              "      <td>7.0</td>\n",
              "      <td>1.8</td>\n",
              "      <td>2018-03-07</td>\n",
              "    </tr>\n",
              "    <tr>\n",
              "      <th>2</th>\n",
              "      <td>A Coruña</td>\n",
              "      <td>10.2</td>\n",
              "      <td>1.0</td>\n",
              "      <td>2018-03-07</td>\n",
              "    </tr>\n",
              "    <tr>\n",
              "      <th>3</th>\n",
              "      <td>A Coruña</td>\n",
              "      <td>8.7</td>\n",
              "      <td>0.7</td>\n",
              "      <td>2018-03-07</td>\n",
              "    </tr>\n",
              "    <tr>\n",
              "      <th>4</th>\n",
              "      <td>A Coruña</td>\n",
              "      <td>7.4</td>\n",
              "      <td>0.6</td>\n",
              "      <td>2018-03-07</td>\n",
              "    </tr>\n",
              "  </tbody>\n",
              "</table>\n",
              "</div>"
            ],
            "text/plain": [
              "  Provincia  Temperatura media (ºC)  Precipitación 00-24h (mm)       Fecha\n",
              "0  A Coruña                    10.2                        NaN  2018-03-07\n",
              "1  A Coruña                     7.0                        1.8  2018-03-07\n",
              "2  A Coruña                    10.2                        1.0  2018-03-07\n",
              "3  A Coruña                     8.7                        0.7  2018-03-07\n",
              "4  A Coruña                     7.4                        0.6  2018-03-07"
            ]
          },
          "metadata": {},
          "execution_count": 117
        }
      ]
    },
    {
      "cell_type": "markdown",
      "source": [
        "Para el dataset de las **necesidades de riego y temperaturas de los cultivos** se eliminará la característica *Tipo* ya que su contenido está implícito en las características de *Dias entre riego zona seca* y *Dias entre riego zona húmeda*"
      ],
      "metadata": {
        "id": "kp8qxj2jqHl0"
      }
    },
    {
      "cell_type": "code",
      "source": [
        "riegos_temp_cultivos.drop(labels=['Tipo'], axis=1, inplace=True)"
      ],
      "metadata": {
        "id": "XF74YV1OqHyd"
      },
      "execution_count": 118,
      "outputs": []
    },
    {
      "cell_type": "markdown",
      "metadata": {
        "id": "p-OmB5-v_LWV"
      },
      "source": [
        "## 3. Preproceso\n"
      ]
    },
    {
      "cell_type": "markdown",
      "metadata": {
        "id": "7JvIGV79pyN1"
      },
      "source": [
        "### 3.1 Normalización de productos"
      ]
    },
    {
      "cell_type": "markdown",
      "source": [
        "La normalización de los productos consiste en descartar aquellos productos que no tengamos en consideración y en utilizar un único nombre para aquellos productos que sí tengamos en cuenta. Para tal efecto se utilizan diccionarios almacenados en un archivo JSON; por cada dataset que incluye nombres de cultivos se añade una entrada al diccionario cuyo valor es el diccionario utilizado para normalizar. Las claves de este diccionario anidado son los cultivos con el nombre que tiene en el dataset y los valores son los nombres normalizados. Aquellos cultivos descartados no aparecen en los diccionarios."
      ],
      "metadata": {
        "id": "AnefM_wIlDAE"
      }
    },
    {
      "cell_type": "code",
      "metadata": {
        "id": "l2in6efElzZu"
      },
      "source": [
        "import json\n",
        "# Se cargan los diccionarios usados para normalizar los nombres\n",
        "with open('cultivos_names.json') as json_file:\n",
        "  cultivos_names = json.load(json_file)"
      ],
      "execution_count": 119,
      "outputs": []
    },
    {
      "cell_type": "code",
      "metadata": {
        "colab": {
          "base_uri": "https://localhost:8080/"
        },
        "id": "MXNm1f00mn03",
        "outputId": "9bdce00a-7b2a-4777-f432-759393cdf766"
      },
      "source": [
        "calendario_siembra['Cultivo'].unique()"
      ],
      "execution_count": 120,
      "outputs": [
        {
          "output_type": "execute_result",
          "data": {
            "text/plain": [
              "array(['ACELGA', 'AJO', 'ALCACHOFA', 'APIO', 'BERENJENA', 'BROCOLI',\n",
              "       'CALABACÍN', 'CALABAZA', 'CEBOLLA guardar', 'CEBOLLA tierna',\n",
              "       'CHIRIVIA', 'COL CHINA', 'COL BRUSELAS', 'COL LOMBARDA',\n",
              "       'COL REPOLLO', 'COLIFLOR', 'ESCAROLA ', 'ESPINACA', 'FRESA',\n",
              "       'GUISANTE', 'HABAS', 'JUDIAS MATA BAJA', 'JUDIAS ENRAME',\n",
              "       'LECHUGAS', 'MAIZ', 'MELÓN', 'NABO', 'PATATA', 'PEPINO', 'PEREJIL',\n",
              "       'PIMIENTO', 'PUERRO', 'RABANITO', 'REMOLACHA', 'SANDIA', 'TOMATE',\n",
              "       'ZANAHORIA'], dtype=object)"
            ]
          },
          "metadata": {},
          "execution_count": 120
        }
      ]
    },
    {
      "cell_type": "markdown",
      "source": [
        "En el caso del calendario de siembra, se incluyen todos los cultivos, ya que los cultivos considerados son los presentes en el calendario.  \n",
        "Se eliminarán los elementos:\n",
        "- *FRESA*, porque en el calendario de cultivos no viene su información de siembra.\n",
        "- *JUDIAS ENRAME*, porque se generalizará a *JUDÍA MATA BAJA* puesto que tienen el mismo tiempo de siembra."
      ],
      "metadata": {
        "id": "FDcAk4_9lHz-"
      }
    },
    {
      "cell_type": "code",
      "metadata": {
        "colab": {
          "base_uri": "https://localhost:8080/"
        },
        "id": "V2ZlbjWhuT4S",
        "outputId": "9037e500-9dbe-4cd2-fa73-63ac3c7d1233"
      },
      "source": [
        "from unidecode import unidecode\n",
        "elems_remove = ['FRESA', 'JUDIAS ENRAME'] \n",
        "for elem in elems_remove:\n",
        "  calendario_siembra = calendario_siembra[calendario_siembra.Cultivo != elem]\n",
        "\n",
        "# Renombramos y quitamos tildes\n",
        "calendario_dict = cultivos_names['calendario']\n",
        "calendario_siembra['Cultivo'] = calendario_siembra['Cultivo'].map(lambda x: x.strip() if x not in calendario_dict else calendario_dict[x]).map(lambda x: unidecode(x))\n",
        "calendario_siembra['Cultivo'].unique()"
      ],
      "execution_count": 121,
      "outputs": [
        {
          "output_type": "execute_result",
          "data": {
            "text/plain": [
              "array(['ACELGA', 'AJO', 'ALCACHOFA', 'APIO', 'BERENJENA', 'BROCOLI',\n",
              "       'CALABACIN', 'CALABAZA', 'CEBOLLA', 'CEBOLLETA', 'CHIRIVIA',\n",
              "       'COL CHINA', 'COL BRUSELAS', 'COL LOMBARDA', 'COL REPOLLO',\n",
              "       'COLIFLOR', 'ESCAROLA', 'ESPINACA', 'GUISANTE', 'HABA', 'JUDIA',\n",
              "       'LECHUGA', 'MAIZ', 'MELON', 'NABO', 'PATATA', 'PEPINO', 'PEREJIL',\n",
              "       'PIMIENTO', 'PUERRO', 'RABANITO', 'REMOLACHA', 'SANDIA', 'TOMATE',\n",
              "       'ZANAHORIA'], dtype=object)"
            ]
          },
          "metadata": {},
          "execution_count": 121
        }
      ]
    },
    {
      "cell_type": "code",
      "metadata": {
        "colab": {
          "base_uri": "https://localhost:8080/"
        },
        "id": "V5ZQQaYEsJSh",
        "outputId": "f98b5455-fe89-47ff-e5df-3805cad0093c"
      },
      "source": [
        "consumo_CCAA_dict = cultivos_names['consumo_CCAA_dict']\n",
        "\n",
        "# Se asume que donde aparece COLES se refiere a COL REPOLLO\n",
        "for elem in list(consumo_CCAA['Producto'].unique()) - consumo_CCAA_dict.keys():\n",
        "  consumo_CCAA = consumo_CCAA[consumo_CCAA.Producto != elem]\n",
        "\n",
        "consumo_CCAA['Producto'] = consumo_CCAA['Producto'].map(lambda x: consumo_CCAA_dict[x])\n",
        "consumo_CCAA['Producto'].unique()"
      ],
      "execution_count": 122,
      "outputs": [
        {
          "output_type": "execute_result",
          "data": {
            "text/plain": [
              "array(['PATATA', 'TOMATE', 'CEBOLLA', 'AJO', 'COL REPOLLO', 'PEPINO',\n",
              "       'JUDIA', 'PIMIENTO', 'LECHUGA', 'BERENJENA', 'ZANAHORIA',\n",
              "       'CALABACIN', 'BROCOLI', 'ALCACHOFA', 'MELON', 'SANDIA', 'APIO',\n",
              "       'COLIFLOR', 'PUERRO'], dtype=object)"
            ]
          },
          "metadata": {},
          "execution_count": 122
        }
      ]
    },
    {
      "cell_type": "code",
      "metadata": {
        "colab": {
          "base_uri": "https://localhost:8080/"
        },
        "id": "qEB5Wjzy6YBP",
        "outputId": "eb376e08-e52d-4e01-cf95-00c5baa51001"
      },
      "source": [
        "dat_mercaMadrid_dict = cultivos_names['dat_mercaMadrid_dict']\n",
        "\n",
        "for elem in list(dat_mercaMadrid['product'].unique()) - dat_mercaMadrid_dict.keys():\n",
        "  dat_mercaMadrid = dat_mercaMadrid[dat_mercaMadrid['product'] != elem]\n",
        "\n",
        "dat_mercaMadrid['product'] = dat_mercaMadrid['product'].map(lambda x: dat_mercaMadrid_dict[x])\n",
        "dat_mercaMadrid['product'].unique()"
      ],
      "execution_count": 123,
      "outputs": [
        {
          "output_type": "execute_result",
          "data": {
            "text/plain": [
              "array(['ACELGA', 'AJO', 'ALCACHOFA', 'APIO', 'BERENJENA', 'BROCOLI',\n",
              "       'CALABACIN', 'CALABAZA', 'CEBOLLA', 'CHIRIVIA', 'COL REPOLLO',\n",
              "       'COLIFLOR', 'ESCAROLA', 'ESPINACA', 'GUISANTE', 'HABA', 'JUDIA',\n",
              "       'LECHUGA', 'COL LOMBARDA', 'MAIZ', 'MELON', 'NABO', 'PATATA',\n",
              "       'PEPINO', 'PEREJIL', 'PIMIENTO', 'PUERRO', 'RABANITO', 'REMOLACHA',\n",
              "       'SANDIA', 'TOMATE', 'ZANAHORIA'], dtype=object)"
            ]
          },
          "metadata": {},
          "execution_count": 123
        }
      ]
    },
    {
      "cell_type": "code",
      "metadata": {
        "colab": {
          "base_uri": "https://localhost:8080/"
        },
        "id": "r6ZrScheAK13",
        "outputId": "5202e675-9a10-46bd-f842-52a8d3fce787"
      },
      "source": [
        "dat_mercaBarna_dict = cultivos_names['dat_mercaBarna_dict']\n",
        "\n",
        "# Se asume que donde aparece COLES se refiere a COL REPOLLO\n",
        "for elem in list(dat_mercaBarna['product'].unique()) - dat_mercaBarna_dict.keys():\n",
        "  dat_mercaBarna = dat_mercaBarna[dat_mercaBarna['product'] != elem]\n",
        "\n",
        "dat_mercaBarna['product'] = dat_mercaBarna['product'].map(lambda x: dat_mercaBarna_dict[x])\n",
        "dat_mercaBarna['product'].unique()"
      ],
      "execution_count": 124,
      "outputs": [
        {
          "output_type": "execute_result",
          "data": {
            "text/plain": [
              "array(['ACELGA', 'AJO', 'ALCACHOFA', 'APIO', 'BERENJENA', 'BROCOLI',\n",
              "       'CALABACIN', 'CALABAZA', 'CEBOLLA', 'CEBOLLETA', 'CHIRIVIA',\n",
              "       'COL BRUSELAS', 'COL REPOLLO', 'COL CHINA', 'COL LOMBARDA',\n",
              "       'COLIFLOR', 'ESCAROLA', 'ESPINACA', 'MELON', 'SANDIA', 'GUISANTE',\n",
              "       'HABA', 'JUDIA', 'LECHUGA', 'MAIZ', 'NABO', 'PATATA', 'PEPINO',\n",
              "       'PEREJIL', 'PIMIENTO', 'PUERRO', 'REMOLACHA', 'TOMATE',\n",
              "       'ZANAHORIA'], dtype=object)"
            ]
          },
          "metadata": {},
          "execution_count": 124
        }
      ]
    },
    {
      "cell_type": "code",
      "metadata": {
        "colab": {
          "base_uri": "https://localhost:8080/"
        },
        "id": "YjXYyeYwHefu",
        "outputId": "193c6f2e-3c3c-423a-fd4b-8d317ba3df7d"
      },
      "source": [
        "precios_JAndalucia_dict = cultivos_names['precios_JAndalucia_dict']\n",
        "\n",
        "for elem in list(precios_JAndalucia['PRODUCTO'].unique()) - precios_JAndalucia_dict.keys():\n",
        "  precios_JAndalucia = precios_JAndalucia[precios_JAndalucia.PRODUCTO != elem]\n",
        "\n",
        "precios_JAndalucia['PRODUCTO'] = precios_JAndalucia['PRODUCTO'].map(lambda x: precios_JAndalucia_dict[x])\n",
        "precios_JAndalucia['PRODUCTO'].unique()"
      ],
      "execution_count": 125,
      "outputs": [
        {
          "output_type": "execute_result",
          "data": {
            "text/plain": [
              "array(['AJO', 'CEBOLLA', 'LECHUGA', 'ZANAHORIA', 'BERENJENA', 'CALABACIN',\n",
              "       'JUDIA', 'MELON', 'PEPINO', 'PIMIENTO', 'SANDIA', 'TOMATE'],\n",
              "      dtype=object)"
            ]
          },
          "metadata": {},
          "execution_count": 125
        }
      ]
    },
    {
      "cell_type": "markdown",
      "metadata": {
        "id": "iiuV86aaaBvs"
      },
      "source": [
        "### 3.2 Descarte de elementos"
      ]
    },
    {
      "cell_type": "markdown",
      "source": [
        "Descartamos el agrupamiento redundante de *Total Nacional* en el dataset *consumo_CCAA*."
      ],
      "metadata": {
        "id": "xiIFk0jiltw3"
      }
    },
    {
      "cell_type": "code",
      "metadata": {
        "id": "Ea08A8e2ZOn-"
      },
      "source": [
        "consumo_CCAA = consumo_CCAA[consumo_CCAA.CCAA != 'Total Nacional']"
      ],
      "execution_count": 126,
      "outputs": []
    },
    {
      "cell_type": "markdown",
      "metadata": {
        "id": "kJ1cRWIzhk_H"
      },
      "source": [
        "### 3.3 Normalización nombres de CCAA"
      ]
    },
    {
      "cell_type": "markdown",
      "source": [
        "Debido a la distinta granularidad que presentan los datasets respeto a las localizaciones, se ha optado por reducirlas y normalizarlas al nivel de comunidades autónomas. Se ha diseñado un diccionario en formato JSON donde se agrupará cada una de las localizaciones en su comunidad autónoma correspondiente y, posteriormente, se aplicará a los datasets para así normalizar las localizaciones. También se han eliminado las localizaciones que no sean de España, y además tampoco se tendrán en cuenta Ceuta y Melilla. Se han seguido lo siguientes pasos para realizar la normalización: \n",
        " \n",
        "1.   Comprobación de qué zonas aparecerán en el dataset mediante unique() \n",
        "2.   Construcción del diccionario en formato JSON con cada uno de los valores obtenidos en el paso anterior como clave y la comunidad autónoma a la que pertenecen como el valor de dicha clave. \n",
        "3.   Mapeo a cada dataset de una función que cambie el valor leído en el dataset por el valor correspondiente en el diccionario. \n",
        "4.   Recomprobación de que todos los valores se han cambiado correctamente y no ha quedado ninguno no contemplado en el diccionario."
      ],
      "metadata": {
        "id": "3NVsi4bmmJcl"
      }
    },
    {
      "cell_type": "code",
      "metadata": {
        "id": "PeFlJ5jExl72"
      },
      "source": [
        "with open('ccaa_names.json') as json_file:\n",
        "  ccaa_names = json.load(json_file)"
      ],
      "execution_count": 127,
      "outputs": []
    },
    {
      "cell_type": "code",
      "metadata": {
        "colab": {
          "base_uri": "https://localhost:8080/"
        },
        "id": "vBm0IXeYiFTL",
        "outputId": "247d4674-b2e7-491b-9f8a-e535d7091ecb"
      },
      "source": [
        "ccaa_merca = ccaa_names['ccaa_merca']\n",
        "\n",
        "for elem in list(dat_mercaMadrid['origen'].unique()) - ccaa_merca.keys():\n",
        "  dat_mercaMadrid = dat_mercaMadrid[dat_mercaMadrid.origen != elem]\n",
        "\n",
        "dat_mercaMadrid['origen'] = dat_mercaMadrid['origen'].map(lambda x: ccaa_merca[x])\n",
        "dat_mercaMadrid['origen'].unique()"
      ],
      "execution_count": 128,
      "outputs": [
        {
          "output_type": "execute_result",
          "data": {
            "text/plain": [
              "array(['Castilla La Mancha', 'Valencia', 'Andalucia', 'Castilla Leon',\n",
              "       'Extremadura', 'Cantabria', 'Galicia', 'La Rioja', 'Cataluña',\n",
              "       'Madrid', 'Murcia', 'Navarra', 'Pais Vasco', 'Aragon', 'Canarias',\n",
              "       'Asturias', 'Baleares'], dtype=object)"
            ]
          },
          "metadata": {},
          "execution_count": 128
        }
      ]
    },
    {
      "cell_type": "code",
      "metadata": {
        "colab": {
          "base_uri": "https://localhost:8080/"
        },
        "id": "r2qsCPfypxJM",
        "outputId": "e2b59c5b-ed33-4114-d04c-29d07c0ecaba"
      },
      "source": [
        "for elem in list(dat_mercaBarna['origen'].unique()) - ccaa_merca.keys():\n",
        "  dat_mercaBarna = dat_mercaBarna[dat_mercaBarna.origen != elem]\n",
        "\n",
        "dat_mercaBarna['origen'] = dat_mercaBarna['origen'].map(lambda x: ccaa_merca[x])\n",
        "dat_mercaBarna['origen'].unique()"
      ],
      "execution_count": 129,
      "outputs": [
        {
          "output_type": "execute_result",
          "data": {
            "text/plain": [
              "array(['Valencia', 'Andalucia', 'Cataluña', 'Castilla Leon', 'Aragon',\n",
              "       'Galicia', 'Madrid', 'Murcia', 'Navarra', 'Castilla La Mancha',\n",
              "       'Baleares', 'La Rioja', 'Extremadura', 'Pais Vasco', 'Asturias',\n",
              "       'Cantabria'], dtype=object)"
            ]
          },
          "metadata": {},
          "execution_count": 129
        }
      ]
    },
    {
      "cell_type": "code",
      "metadata": {
        "colab": {
          "base_uri": "https://localhost:8080/"
        },
        "id": "O8lw6e_yqdTr",
        "outputId": "3eba0ebb-dfb7-49ab-92d5-c4bc03b71bfd"
      },
      "source": [
        "aemet_dict = ccaa_names['aemet_dict']\n",
        "\n",
        "for elem in list(aemet['Provincia'].unique()) - aemet_dict.keys():\n",
        "  aemet = aemet[aemet.Provincia != elem]\n",
        "\n",
        "aemet['Provincia'] = aemet['Provincia'].map(lambda x: aemet_dict[x])\n",
        "aemet.rename(columns={'Provincia': 'CCAA'}, inplace=True)\n",
        "aemet['CCAA'].unique()"
      ],
      "execution_count": 130,
      "outputs": [
        {
          "output_type": "execute_result",
          "data": {
            "text/plain": [
              "array(['Galicia', 'Castilla La Mancha', 'Valencia', 'Andalucia',\n",
              "       'Pais Vasco', 'Asturias', 'Castilla Leon', 'Extremadura',\n",
              "       'Cataluña', 'Cantabria', 'Aragon', 'Baleares', 'La Rioja',\n",
              "       'Canarias', 'Madrid', 'Murcia', 'Navarra'], dtype=object)"
            ]
          },
          "metadata": {},
          "execution_count": 130
        }
      ]
    },
    {
      "cell_type": "markdown",
      "metadata": {
        "id": "V6ZDW8V5usYx"
      },
      "source": [
        "### 3.4 Normalización de nombres de meses"
      ]
    },
    {
      "cell_type": "markdown",
      "source": [
        "Igual que en los casos anteriores, los meses vienen representados de distintas maneras, por lo que llevamos a cabo un proceso de normalización en el que buscaremos obtener todos los meses en formato numérico. Para este proceso se han seguido los siguientes pasos: \n",
        " \n",
        "1.   Comprobación de los valores mediante unique() para verificar el formato en el que se representan los meses en el dataset dado. \n",
        "2.   Confección de un diccionario donde cada uno de los valores recibidos en el paso anterior será la clave y el valor asignado a la clave será el valor numérico del mes. \n",
        "3.   Para el caso de calendario_siembra se encuentran intervalos de temporadas, por lo que primero se deberán separar esos intervalos. Se hará mediante una función que separará los valores donde haya un guión (\"-\") o, en su defecto, se duplicará el valor para indicar que el valor mínimo y el máximo son iguales. \n",
        "4.   Con los valores ya separados, se crea una nueva columna para cada uno y se normalizan en caso de que no sea un valor numérico correspondiente al mes. En caso de que el valor corresponda a una estación, también se normalizarán al valor numérico del mes correspondiente. \n",
        "5.   Una vez separado y normalizado cada valor, se añaden como nuevas columnas al dataset."
      ],
      "metadata": {
        "id": "5_Rw49dEnZgq"
      }
    },
    {
      "cell_type": "code",
      "metadata": {
        "id": "d_D16jBUzkDN"
      },
      "source": [
        "with open('months_season.json') as json_file:\n",
        "  months_season = json.load(json_file)"
      ],
      "execution_count": 131,
      "outputs": []
    },
    {
      "cell_type": "code",
      "metadata": {
        "colab": {
          "base_uri": "https://localhost:8080/"
        },
        "id": "6d1onRPWu0ah",
        "outputId": "a59bda53-c95e-4f8d-fbf9-99441d48e893"
      },
      "source": [
        "months = months_season['months']\n",
        "for elem in list(consumo_CCAA['Mes'].unique()) - months.keys():\n",
        "  consumo_CCAA = consumo_CCAA[consumo_CCAA.Mes != elem]\n",
        "\n",
        "consumo_CCAA['Mes'] = consumo_CCAA['Mes'].map(lambda x: months[x])\n",
        "consumo_CCAA['Mes'].unique()"
      ],
      "execution_count": 132,
      "outputs": [
        {
          "output_type": "execute_result",
          "data": {
            "text/plain": [
              "array([ 1,  2,  3,  4,  5,  6,  7,  8,  9, 10, 11, 12])"
            ]
          },
          "metadata": {},
          "execution_count": 132
        }
      ]
    },
    {
      "cell_type": "code",
      "metadata": {
        "colab": {
          "base_uri": "https://localhost:8080/"
        },
        "id": "CuD2VWc9RU5P",
        "outputId": "a8d3b7c8-d14a-4f81-90f6-73ac56a19cf8"
      },
      "source": [
        "calendario_siembra['D siem-recol'].unique()"
      ],
      "execution_count": 133,
      "outputs": [
        {
          "output_type": "execute_result",
          "data": {
            "text/plain": [
              "array(['90', '60-120', '90-120', '100', '130', '75', '120', '60-180',\n",
              "       '110', '80', '60'], dtype=object)"
            ]
          },
          "metadata": {},
          "execution_count": 133
        }
      ]
    },
    {
      "cell_type": "code",
      "metadata": {
        "id": "0sUICaeOQSXX"
      },
      "source": [
        "calendario_siembra_new = pd.DataFrame()\n",
        "for _, row in calendario_siembra.iterrows():\n",
        "  for epoca in row['Epoca siemb'].split('-'):\n",
        "    calendario_siembra_new = calendario_siembra_new.append([{\n",
        "        'Cultivo': row.Cultivo,\n",
        "        'Epoca siemb': epoca.lower(),\n",
        "        'D siem-recol': row['D siem-recol']\n",
        "        }], ignore_index=True,)\n",
        "    \n",
        "calendario_siembra = calendario_siembra_new\n"
      ],
      "execution_count": 134,
      "outputs": []
    },
    {
      "cell_type": "code",
      "metadata": {
        "colab": {
          "base_uri": "https://localhost:8080/",
          "height": 206
        },
        "id": "6EDLqgXoQcp2",
        "outputId": "94be6ae0-0a5e-4456-81f0-56ab23c6aa70"
      },
      "source": [
        "season_to_month_dict = months_season['season_to_month_dict']\n",
        "\n",
        "calendario_siembra['Inicio'] = calendario_siembra['Epoca siemb'].map(lambda x: season_to_month_dict[x][0])\n",
        "calendario_siembra['Fin'] = calendario_siembra['Epoca siemb'].map(lambda x: season_to_month_dict[x][1])\n",
        "calendario_siembra.drop('Epoca siemb', axis=1, inplace=True)\n",
        "calendario_siembra.head()"
      ],
      "execution_count": 135,
      "outputs": [
        {
          "output_type": "execute_result",
          "data": {
            "text/html": [
              "<div>\n",
              "<style scoped>\n",
              "    .dataframe tbody tr th:only-of-type {\n",
              "        vertical-align: middle;\n",
              "    }\n",
              "\n",
              "    .dataframe tbody tr th {\n",
              "        vertical-align: top;\n",
              "    }\n",
              "\n",
              "    .dataframe thead th {\n",
              "        text-align: right;\n",
              "    }\n",
              "</style>\n",
              "<table border=\"1\" class=\"dataframe\">\n",
              "  <thead>\n",
              "    <tr style=\"text-align: right;\">\n",
              "      <th></th>\n",
              "      <th>Cultivo</th>\n",
              "      <th>D siem-recol</th>\n",
              "      <th>Inicio</th>\n",
              "      <th>Fin</th>\n",
              "    </tr>\n",
              "  </thead>\n",
              "  <tbody>\n",
              "    <tr>\n",
              "      <th>0</th>\n",
              "      <td>ACELGA</td>\n",
              "      <td>90</td>\n",
              "      <td>9</td>\n",
              "      <td>11</td>\n",
              "    </tr>\n",
              "    <tr>\n",
              "      <th>1</th>\n",
              "      <td>ACELGA</td>\n",
              "      <td>90</td>\n",
              "      <td>3</td>\n",
              "      <td>5</td>\n",
              "    </tr>\n",
              "    <tr>\n",
              "      <th>2</th>\n",
              "      <td>AJO</td>\n",
              "      <td>60-120</td>\n",
              "      <td>9</td>\n",
              "      <td>11</td>\n",
              "    </tr>\n",
              "    <tr>\n",
              "      <th>3</th>\n",
              "      <td>AJO</td>\n",
              "      <td>60-120</td>\n",
              "      <td>12</td>\n",
              "      <td>2</td>\n",
              "    </tr>\n",
              "    <tr>\n",
              "      <th>4</th>\n",
              "      <td>ALCACHOFA</td>\n",
              "      <td>90-120</td>\n",
              "      <td>3</td>\n",
              "      <td>5</td>\n",
              "    </tr>\n",
              "  </tbody>\n",
              "</table>\n",
              "</div>"
            ],
            "text/plain": [
              "     Cultivo D siem-recol  Inicio  Fin\n",
              "0     ACELGA           90       9   11\n",
              "1     ACELGA           90       3    5\n",
              "2        AJO       60-120       9   11\n",
              "3        AJO       60-120      12    2\n",
              "4  ALCACHOFA       90-120       3    5"
            ]
          },
          "metadata": {},
          "execution_count": 135
        }
      ]
    },
    {
      "cell_type": "markdown",
      "source": [
        "Debido a que python redondea al par más cercano cuando es un decimal de forma .5, se diseña un algoritmo que redondee correctamente para así llevar a cabo la normalización."
      ],
      "metadata": {
        "id": "kAfH8k3-ryLQ"
      }
    },
    {
      "cell_type": "code",
      "metadata": {
        "id": "75fPTto1QhWB"
      },
      "source": [
        "import math \n",
        "def normal_round(n):\n",
        "    if n - math.floor(n) < 0.5:\n",
        "        return math.floor(n)\n",
        "    return math.ceil(n)\n",
        "\n",
        "\n",
        "d_siembr = calendario_siembra['D siem-recol'] \\\n",
        "  .map(lambda x: x.split('-')) \\\n",
        "  .map(lambda days: list(map(lambda day: normal_round(float(day) / 30), days))) \\\n",
        "  .map(lambda x: x if len(x) >= 2 else x*2)\n",
        "\n",
        "calendario_siembra['Min siem-recol'] = d_siembr.map(lambda x: x[0])\n",
        "calendario_siembra['Max siem-recol'] = d_siembr.map(lambda x: x[1])\n",
        "calendario_siembra.drop('D siem-recol', axis=1, inplace=True)\n",
        "\n"
      ],
      "execution_count": 136,
      "outputs": []
    },
    {
      "cell_type": "markdown",
      "metadata": {
        "id": "0iuNcEM3sqdy"
      },
      "source": [
        "### 3.5 Tratamiento de valores nulos/perdidos"
      ]
    },
    {
      "cell_type": "markdown",
      "source": [
        "Se va a comprobar en qué datasets hay valores nulos y se procederá a procesarlos de la manera más adecuada."
      ],
      "metadata": {
        "id": "89orULFooD1o"
      }
    },
    {
      "cell_type": "code",
      "metadata": {
        "colab": {
          "base_uri": "https://localhost:8080/"
        },
        "id": "0Ifp4Q7FyzmM",
        "outputId": "c69429fd-b8e1-4099-f0c0-cd45d01b8401"
      },
      "source": [
        "pd.isnull(calendario_siembra).any()"
      ],
      "execution_count": 137,
      "outputs": [
        {
          "output_type": "execute_result",
          "data": {
            "text/plain": [
              "Cultivo           False\n",
              "Inicio            False\n",
              "Fin               False\n",
              "Min siem-recol    False\n",
              "Max siem-recol    False\n",
              "dtype: bool"
            ]
          },
          "metadata": {},
          "execution_count": 137
        }
      ]
    },
    {
      "cell_type": "code",
      "metadata": {
        "colab": {
          "base_uri": "https://localhost:8080/"
        },
        "id": "bM5DDUTf0cqL",
        "outputId": "12b6338e-16b3-481f-ca7a-80fb11ca3861"
      },
      "source": [
        "pd.isnull(consumo_CCAA).any()"
      ],
      "execution_count": 138,
      "outputs": [
        {
          "output_type": "execute_result",
          "data": {
            "text/plain": [
              "Año                      False\n",
              "Mes                      False\n",
              "CCAA                     False\n",
              "Producto                 False\n",
              "Volumen (miles de kg)    False\n",
              "Valor (miles de €)       False\n",
              "Precio medio kg          False\n",
              "Penetración (%)          False\n",
              "Consumo per capita       False\n",
              "Gasto per capita         False\n",
              "dtype: bool"
            ]
          },
          "metadata": {},
          "execution_count": 138
        }
      ]
    },
    {
      "cell_type": "code",
      "metadata": {
        "colab": {
          "base_uri": "https://localhost:8080/"
        },
        "id": "PExARkeBdUM-",
        "outputId": "2aa89d1e-af4f-430b-fc5b-9a18d861fc3a"
      },
      "source": [
        "pd.isnull(dat_mercaMadrid).any()"
      ],
      "execution_count": 139,
      "outputs": [
        {
          "output_type": "execute_result",
          "data": {
            "text/plain": [
              "product       False\n",
              "origen        False\n",
              "YEAR          False\n",
              "MONTH         False\n",
              "price_mean    False\n",
              "Volumen       False\n",
              "dtype: bool"
            ]
          },
          "metadata": {},
          "execution_count": 139
        }
      ]
    },
    {
      "cell_type": "code",
      "metadata": {
        "colab": {
          "base_uri": "https://localhost:8080/"
        },
        "id": "SS20CIfddUUQ",
        "outputId": "a2ecee30-016c-4ad5-ef55-ac6945527474"
      },
      "source": [
        "pd.isnull(dat_mercaBarna).any()"
      ],
      "execution_count": 140,
      "outputs": [
        {
          "output_type": "execute_result",
          "data": {
            "text/plain": [
              "product       False\n",
              "origen        False\n",
              "YEAR          False\n",
              "MONTH         False\n",
              "price_mean    False\n",
              "Volumen       False\n",
              "dtype: bool"
            ]
          },
          "metadata": {},
          "execution_count": 140
        }
      ]
    },
    {
      "cell_type": "code",
      "metadata": {
        "colab": {
          "base_uri": "https://localhost:8080/"
        },
        "id": "v0vrmEwCdZPY",
        "outputId": "84f5fa00-35c0-41e1-f2c1-6522dca2ad05"
      },
      "source": [
        "pd.isnull(precios_JAndalucia).any()"
      ],
      "execution_count": 141,
      "outputs": [
        {
          "output_type": "execute_result",
          "data": {
            "text/plain": [
              "INICIO      False\n",
              "FIN         False\n",
              "PRODUCTO    False\n",
              "POSICION    False\n",
              "PRECIO      False\n",
              "dtype: bool"
            ]
          },
          "metadata": {},
          "execution_count": 141
        }
      ]
    },
    {
      "cell_type": "code",
      "metadata": {
        "colab": {
          "base_uri": "https://localhost:8080/"
        },
        "id": "4zYu1_85dd_i",
        "outputId": "8377c09e-00f3-4393-bd6d-f9f7346e2f4b"
      },
      "source": [
        "pd.isnull(aemet).any()"
      ],
      "execution_count": 142,
      "outputs": [
        {
          "output_type": "execute_result",
          "data": {
            "text/plain": [
              "CCAA                         False\n",
              "Temperatura media (ºC)        True\n",
              "Precipitación 00-24h (mm)     True\n",
              "Fecha                        False\n",
              "dtype: bool"
            ]
          },
          "metadata": {},
          "execution_count": 142
        }
      ]
    },
    {
      "cell_type": "markdown",
      "source": [
        "Al comprobar si los datos de Aemet contienen valores nulos se ha descubierto que las columnas de CCAA \"Temperatura media (ºC)\" y \"Precipitación 00-24h (mm)\" contienen nulos. A continuación se revisará la cantidad exacta de nulos, ya que, dependiendo de esta pueden llegar a ser un problema. Un ejemplo de esto es que hubiera 2 meses seguidos con valores nulos."
      ],
      "metadata": {
        "id": "dJH7nm3SoPN3"
      }
    },
    {
      "cell_type": "code",
      "metadata": {
        "colab": {
          "base_uri": "https://localhost:8080/"
        },
        "id": "SkZQ8Hqyd2Vq",
        "outputId": "93917893-e893-4438-c385-99f8da5d97ad"
      },
      "source": [
        "pd.isnull(aemet).sum(axis=0)"
      ],
      "execution_count": 143,
      "outputs": [
        {
          "output_type": "execute_result",
          "data": {
            "text/plain": [
              "CCAA                             0\n",
              "Temperatura media (ºC)       37567\n",
              "Precipitación 00-24h (mm)    45115\n",
              "Fecha                            0\n",
              "dtype: int64"
            ]
          },
          "metadata": {},
          "execution_count": 143
        }
      ]
    },
    {
      "cell_type": "markdown",
      "source": [
        "Como se puede observar hay 37567 y 45115 nulos en \"Temperatura media (ºC)\" y \"Precipitación 00-24h (mm)\" respectivamente. Estos valores comparados con el números de registros (870019) no son excesivamente altos pero siguen siendo considerables así que se procederá a analizar su distribución agrupando por meses. Para ello primero se dividirá la Fecha en 3 columnas y se eliminará la columna \"Fecha\"."
      ],
      "metadata": {
        "id": "EfGY4jQXoWud"
      }
    },
    {
      "cell_type": "code",
      "metadata": {
        "id": "mJ4umGEygBSt",
        "colab": {
          "base_uri": "https://localhost:8080/",
          "height": 206
        },
        "outputId": "04492606-dab8-4877-9b8b-f306d762c405"
      },
      "source": [
        "aemet['Año'] = aemet['Fecha'].map(lambda x : int(x.split('-')[0]))\n",
        "aemet['Mes'] = aemet['Fecha'].map(lambda x : int(x.split('-')[1]))\n",
        "aemet['Dia'] = aemet['Fecha'].map(lambda x : int(x.split('-')[2]))\n",
        "\n",
        "aemet.drop('Fecha', axis=1, inplace=True)\n",
        "aemet.head()"
      ],
      "execution_count": 144,
      "outputs": [
        {
          "output_type": "execute_result",
          "data": {
            "text/html": [
              "<div>\n",
              "<style scoped>\n",
              "    .dataframe tbody tr th:only-of-type {\n",
              "        vertical-align: middle;\n",
              "    }\n",
              "\n",
              "    .dataframe tbody tr th {\n",
              "        vertical-align: top;\n",
              "    }\n",
              "\n",
              "    .dataframe thead th {\n",
              "        text-align: right;\n",
              "    }\n",
              "</style>\n",
              "<table border=\"1\" class=\"dataframe\">\n",
              "  <thead>\n",
              "    <tr style=\"text-align: right;\">\n",
              "      <th></th>\n",
              "      <th>CCAA</th>\n",
              "      <th>Temperatura media (ºC)</th>\n",
              "      <th>Precipitación 00-24h (mm)</th>\n",
              "      <th>Año</th>\n",
              "      <th>Mes</th>\n",
              "      <th>Dia</th>\n",
              "    </tr>\n",
              "  </thead>\n",
              "  <tbody>\n",
              "    <tr>\n",
              "      <th>0</th>\n",
              "      <td>Galicia</td>\n",
              "      <td>10.2</td>\n",
              "      <td>NaN</td>\n",
              "      <td>2018</td>\n",
              "      <td>3</td>\n",
              "      <td>7</td>\n",
              "    </tr>\n",
              "    <tr>\n",
              "      <th>1</th>\n",
              "      <td>Galicia</td>\n",
              "      <td>7.0</td>\n",
              "      <td>1.8</td>\n",
              "      <td>2018</td>\n",
              "      <td>3</td>\n",
              "      <td>7</td>\n",
              "    </tr>\n",
              "    <tr>\n",
              "      <th>2</th>\n",
              "      <td>Galicia</td>\n",
              "      <td>10.2</td>\n",
              "      <td>1.0</td>\n",
              "      <td>2018</td>\n",
              "      <td>3</td>\n",
              "      <td>7</td>\n",
              "    </tr>\n",
              "    <tr>\n",
              "      <th>3</th>\n",
              "      <td>Galicia</td>\n",
              "      <td>8.7</td>\n",
              "      <td>0.7</td>\n",
              "      <td>2018</td>\n",
              "      <td>3</td>\n",
              "      <td>7</td>\n",
              "    </tr>\n",
              "    <tr>\n",
              "      <th>4</th>\n",
              "      <td>Galicia</td>\n",
              "      <td>7.4</td>\n",
              "      <td>0.6</td>\n",
              "      <td>2018</td>\n",
              "      <td>3</td>\n",
              "      <td>7</td>\n",
              "    </tr>\n",
              "  </tbody>\n",
              "</table>\n",
              "</div>"
            ],
            "text/plain": [
              "      CCAA  Temperatura media (ºC)  Precipitación 00-24h (mm)   Año  Mes  Dia\n",
              "0  Galicia                    10.2                        NaN  2018    3    7\n",
              "1  Galicia                     7.0                        1.8  2018    3    7\n",
              "2  Galicia                    10.2                        1.0  2018    3    7\n",
              "3  Galicia                     8.7                        0.7  2018    3    7\n",
              "4  Galicia                     7.4                        0.6  2018    3    7"
            ]
          },
          "metadata": {},
          "execution_count": 144
        }
      ]
    },
    {
      "cell_type": "markdown",
      "source": [
        "Se realizará la agrupación basada en las columnas \"CCAA, \"Año\" y \"Mes\", se calculará el número de valores nulos y se creará un nuevo DataFrame que almacene estos valores."
      ],
      "metadata": {
        "id": "71dKj_adokoP"
      }
    },
    {
      "cell_type": "code",
      "metadata": {
        "id": "MhLTGvIOsb0h"
      },
      "source": [
        "import numpy as np\n",
        "\n",
        "aux = aemet.copy()\n",
        "def countNulls(x):\n",
        "  count = 0\n",
        "  if np.isnan(x[0]) or np.isnan(x[1]):\n",
        "    count += 1\n",
        "  return count\n",
        "\n",
        "aux['Nulls'] = list(map(lambda x: countNulls(x), zip(aux['Temperatura media (ºC)'], aux['Precipitación 00-24h (mm)'])))\n",
        "aux1 = aux.groupby(['CCAA', 'Año', 'Mes']).sum()[['Nulls']] # Suma de filas con algún valor nulo"
      ],
      "execution_count": 145,
      "outputs": []
    },
    {
      "cell_type": "code",
      "metadata": {
        "colab": {
          "base_uri": "https://localhost:8080/",
          "height": 238
        },
        "id": "p8PjL033r8Gy",
        "outputId": "cea8cc65-0866-4881-d907-53db9c44beca"
      },
      "source": [
        "display(aux1.head())"
      ],
      "execution_count": 146,
      "outputs": [
        {
          "output_type": "display_data",
          "data": {
            "text/html": [
              "<div>\n",
              "<style scoped>\n",
              "    .dataframe tbody tr th:only-of-type {\n",
              "        vertical-align: middle;\n",
              "    }\n",
              "\n",
              "    .dataframe tbody tr th {\n",
              "        vertical-align: top;\n",
              "    }\n",
              "\n",
              "    .dataframe thead th {\n",
              "        text-align: right;\n",
              "    }\n",
              "</style>\n",
              "<table border=\"1\" class=\"dataframe\">\n",
              "  <thead>\n",
              "    <tr style=\"text-align: right;\">\n",
              "      <th></th>\n",
              "      <th></th>\n",
              "      <th></th>\n",
              "      <th>Nulls</th>\n",
              "    </tr>\n",
              "    <tr>\n",
              "      <th>CCAA</th>\n",
              "      <th>Año</th>\n",
              "      <th>Mes</th>\n",
              "      <th></th>\n",
              "    </tr>\n",
              "  </thead>\n",
              "  <tbody>\n",
              "    <tr>\n",
              "      <th rowspan=\"5\" valign=\"top\">Andalucia</th>\n",
              "      <th rowspan=\"5\" valign=\"top\">2018</th>\n",
              "      <th>1</th>\n",
              "      <td>187</td>\n",
              "    </tr>\n",
              "    <tr>\n",
              "      <th>2</th>\n",
              "      <td>134</td>\n",
              "    </tr>\n",
              "    <tr>\n",
              "      <th>3</th>\n",
              "      <td>344</td>\n",
              "    </tr>\n",
              "    <tr>\n",
              "      <th>4</th>\n",
              "      <td>249</td>\n",
              "    </tr>\n",
              "    <tr>\n",
              "      <th>5</th>\n",
              "      <td>245</td>\n",
              "    </tr>\n",
              "  </tbody>\n",
              "</table>\n",
              "</div>"
            ],
            "text/plain": [
              "                    Nulls\n",
              "CCAA      Año  Mes       \n",
              "Andalucia 2018 1      187\n",
              "               2      134\n",
              "               3      344\n",
              "               4      249\n",
              "               5      245"
            ]
          },
          "metadata": {}
        }
      ]
    },
    {
      "cell_type": "markdown",
      "source": [
        "Se añadirá una nueva columna a este DataFrame con el porcentaje de nulos respecto del total de registros dentro de cada mes de cada comunidad autónoma."
      ],
      "metadata": {
        "id": "BOfqA9SwozaD"
      }
    },
    {
      "cell_type": "code",
      "metadata": {
        "id": "DMznpQEm0WWp"
      },
      "source": [
        "# Filtrar por un valor que no tiene nulos para obtener el n de filas por mes\n",
        "aux2 = aux.groupby(['CCAA', 'Año', 'Mes']).count()['Dia'] "
      ],
      "execution_count": 147,
      "outputs": []
    },
    {
      "cell_type": "code",
      "metadata": {
        "id": "zEUAHJ650zQ6",
        "colab": {
          "base_uri": "https://localhost:8080/",
          "height": 238
        },
        "outputId": "5ed385c8-8af1-439c-afa5-76b0eba21b50"
      },
      "source": [
        "aux1['per_nulls'] = aux1['Nulls'] / aux2 *100\n",
        "aux1.head()"
      ],
      "execution_count": 148,
      "outputs": [
        {
          "output_type": "execute_result",
          "data": {
            "text/html": [
              "<div>\n",
              "<style scoped>\n",
              "    .dataframe tbody tr th:only-of-type {\n",
              "        vertical-align: middle;\n",
              "    }\n",
              "\n",
              "    .dataframe tbody tr th {\n",
              "        vertical-align: top;\n",
              "    }\n",
              "\n",
              "    .dataframe thead th {\n",
              "        text-align: right;\n",
              "    }\n",
              "</style>\n",
              "<table border=\"1\" class=\"dataframe\">\n",
              "  <thead>\n",
              "    <tr style=\"text-align: right;\">\n",
              "      <th></th>\n",
              "      <th></th>\n",
              "      <th></th>\n",
              "      <th>Nulls</th>\n",
              "      <th>per_nulls</th>\n",
              "    </tr>\n",
              "    <tr>\n",
              "      <th>CCAA</th>\n",
              "      <th>Año</th>\n",
              "      <th>Mes</th>\n",
              "      <th></th>\n",
              "      <th></th>\n",
              "    </tr>\n",
              "  </thead>\n",
              "  <tbody>\n",
              "    <tr>\n",
              "      <th rowspan=\"5\" valign=\"top\">Andalucia</th>\n",
              "      <th rowspan=\"5\" valign=\"top\">2018</th>\n",
              "      <th>1</th>\n",
              "      <td>187</td>\n",
              "      <td>5.373563</td>\n",
              "    </tr>\n",
              "    <tr>\n",
              "      <th>2</th>\n",
              "      <td>134</td>\n",
              "      <td>4.224464</td>\n",
              "    </tr>\n",
              "    <tr>\n",
              "      <th>3</th>\n",
              "      <td>344</td>\n",
              "      <td>9.736768</td>\n",
              "    </tr>\n",
              "    <tr>\n",
              "      <th>4</th>\n",
              "      <td>249</td>\n",
              "      <td>7.364685</td>\n",
              "    </tr>\n",
              "    <tr>\n",
              "      <th>5</th>\n",
              "      <td>245</td>\n",
              "      <td>7.097335</td>\n",
              "    </tr>\n",
              "  </tbody>\n",
              "</table>\n",
              "</div>"
            ],
            "text/plain": [
              "                    Nulls  per_nulls\n",
              "CCAA      Año  Mes                  \n",
              "Andalucia 2018 1      187   5.373563\n",
              "               2      134   4.224464\n",
              "               3      344   9.736768\n",
              "               4      249   7.364685\n",
              "               5      245   7.097335"
            ]
          },
          "metadata": {},
          "execution_count": 148
        }
      ]
    },
    {
      "cell_type": "code",
      "source": [
        "print(aux1['per_nulls'].mean())\n",
        "print(aux1['per_nulls'].max())"
      ],
      "metadata": {
        "colab": {
          "base_uri": "https://localhost:8080/"
        },
        "id": "r8xTAol9pA3l",
        "outputId": "1003b97c-6002-4b73-df83-483a2bf525e5"
      },
      "execution_count": 149,
      "outputs": [
        {
          "output_type": "stream",
          "name": "stdout",
          "text": [
            "5.782763969122593\n",
            "30.618401206636502\n"
          ]
        }
      ]
    },
    {
      "cell_type": "markdown",
      "source": [
        "Como resultado el valor medio de valores nulos es de entorno a un 5% con un máximo de un 30%. Dados estos datos se concluye que se pueden eliminar los registros nulos sin que se vean afectados los datos."
      ],
      "metadata": {
        "id": "OqicpsNbpDD-"
      }
    },
    {
      "cell_type": "code",
      "metadata": {
        "id": "Se0eU1932nXZ",
        "colab": {
          "base_uri": "https://localhost:8080/"
        },
        "outputId": "71bf0c4d-8acb-4067-87d2-657f5f4b8fb3"
      },
      "source": [
        "aemet.dropna(inplace=True)\n",
        "pd.isnull(aemet).any()"
      ],
      "execution_count": 150,
      "outputs": [
        {
          "output_type": "execute_result",
          "data": {
            "text/plain": [
              "CCAA                         False\n",
              "Temperatura media (ºC)       False\n",
              "Precipitación 00-24h (mm)    False\n",
              "Año                          False\n",
              "Mes                          False\n",
              "Dia                          False\n",
              "dtype: bool"
            ]
          },
          "metadata": {},
          "execution_count": 150
        }
      ]
    },
    {
      "cell_type": "markdown",
      "source": [
        "A continuación se eliminará la columna \"Dia\" que ya no es necesaria."
      ],
      "metadata": {
        "id": "h7m_fJkqpOFe"
      }
    },
    {
      "cell_type": "code",
      "metadata": {
        "colab": {
          "base_uri": "https://localhost:8080/",
          "height": 206
        },
        "id": "pLg4Bqna4koC",
        "outputId": "3737c7c3-06b7-4166-b209-612c36efc250"
      },
      "source": [
        "aemet.drop(labels=['Dia'], axis=1, inplace=True)\n",
        "aemet.head()"
      ],
      "execution_count": 151,
      "outputs": [
        {
          "output_type": "execute_result",
          "data": {
            "text/html": [
              "<div>\n",
              "<style scoped>\n",
              "    .dataframe tbody tr th:only-of-type {\n",
              "        vertical-align: middle;\n",
              "    }\n",
              "\n",
              "    .dataframe tbody tr th {\n",
              "        vertical-align: top;\n",
              "    }\n",
              "\n",
              "    .dataframe thead th {\n",
              "        text-align: right;\n",
              "    }\n",
              "</style>\n",
              "<table border=\"1\" class=\"dataframe\">\n",
              "  <thead>\n",
              "    <tr style=\"text-align: right;\">\n",
              "      <th></th>\n",
              "      <th>CCAA</th>\n",
              "      <th>Temperatura media (ºC)</th>\n",
              "      <th>Precipitación 00-24h (mm)</th>\n",
              "      <th>Año</th>\n",
              "      <th>Mes</th>\n",
              "    </tr>\n",
              "  </thead>\n",
              "  <tbody>\n",
              "    <tr>\n",
              "      <th>1</th>\n",
              "      <td>Galicia</td>\n",
              "      <td>7.0</td>\n",
              "      <td>1.8</td>\n",
              "      <td>2018</td>\n",
              "      <td>3</td>\n",
              "    </tr>\n",
              "    <tr>\n",
              "      <th>2</th>\n",
              "      <td>Galicia</td>\n",
              "      <td>10.2</td>\n",
              "      <td>1.0</td>\n",
              "      <td>2018</td>\n",
              "      <td>3</td>\n",
              "    </tr>\n",
              "    <tr>\n",
              "      <th>3</th>\n",
              "      <td>Galicia</td>\n",
              "      <td>8.7</td>\n",
              "      <td>0.7</td>\n",
              "      <td>2018</td>\n",
              "      <td>3</td>\n",
              "    </tr>\n",
              "    <tr>\n",
              "      <th>4</th>\n",
              "      <td>Galicia</td>\n",
              "      <td>7.4</td>\n",
              "      <td>0.6</td>\n",
              "      <td>2018</td>\n",
              "      <td>3</td>\n",
              "    </tr>\n",
              "    <tr>\n",
              "      <th>5</th>\n",
              "      <td>Galicia</td>\n",
              "      <td>10.3</td>\n",
              "      <td>1.8</td>\n",
              "      <td>2018</td>\n",
              "      <td>3</td>\n",
              "    </tr>\n",
              "  </tbody>\n",
              "</table>\n",
              "</div>"
            ],
            "text/plain": [
              "      CCAA  Temperatura media (ºC)  Precipitación 00-24h (mm)   Año  Mes\n",
              "1  Galicia                     7.0                        1.8  2018    3\n",
              "2  Galicia                    10.2                        1.0  2018    3\n",
              "3  Galicia                     8.7                        0.7  2018    3\n",
              "4  Galicia                     7.4                        0.6  2018    3\n",
              "5  Galicia                    10.3                        1.8  2018    3"
            ]
          },
          "metadata": {},
          "execution_count": 151
        }
      ]
    },
    {
      "cell_type": "markdown",
      "source": [
        "En el dataset de **riegos y temperaturas para cultivos** hay valores nulos en las siguientes columnas: Temperatura min req, Temperatura max req, Temperatura min opt, Temperatura max opt."
      ],
      "metadata": {
        "id": "mCD-uf95qw6F"
      }
    },
    {
      "cell_type": "code",
      "metadata": {
        "colab": {
          "base_uri": "https://localhost:8080/"
        },
        "id": "A5AS9XUfTLPl",
        "outputId": "24f352f4-7c04-4c9b-b383-55b8e8e78b28"
      },
      "source": [
        "pd.isnull(riegos_temp_cultivos).any()"
      ],
      "execution_count": 152,
      "outputs": [
        {
          "output_type": "execute_result",
          "data": {
            "text/plain": [
              "Cultivo                         False\n",
              "Temperatura min req              True\n",
              "Temperatura max req              True\n",
              "Temperatura min opt              True\n",
              "Temperatura max opt              True\n",
              "Dias entre riego zona seca      False\n",
              "Dias entre riego zona húmeda    False\n",
              "dtype: bool"
            ]
          },
          "metadata": {},
          "execution_count": 152
        }
      ]
    },
    {
      "cell_type": "markdown",
      "source": [
        "Por la naturaleza de estos datos y teniendo en cuenta que no hay ningún caso en el que ambas temperaturas, (requeridas y óptimas) sean valores nulos se ha decidido duplicar las temperaturas óptimas en el caso de que no estén las requeridas y viceversa."
      ],
      "metadata": {
        "id": "CXkBKL3dq1xL"
      }
    },
    {
      "cell_type": "code",
      "metadata": {
        "id": "r3LsH8s_bgyb"
      },
      "source": [
        "for index in riegos_temp_cultivos.index:\n",
        "  if np.isnan(riegos_temp_cultivos.at[index,'Temperatura min req']):\n",
        "    riegos_temp_cultivos.at[index, 'Temperatura min req'] = riegos_temp_cultivos.at[index,'Temperatura min opt']\n",
        "\n",
        "  if np.isnan(riegos_temp_cultivos.at[index,'Temperatura max req']):\n",
        "    riegos_temp_cultivos.at[index, 'Temperatura max req'] = riegos_temp_cultivos.at[index,'Temperatura max opt']\n",
        "\n",
        "  if np.isnan(riegos_temp_cultivos.at[index,'Temperatura min opt']):\n",
        "    riegos_temp_cultivos.at[index, 'Temperatura min opt'] = riegos_temp_cultivos.at[index,'Temperatura min req']\n",
        "\n",
        "  if np.isnan(riegos_temp_cultivos.at[index,'Temperatura max opt']):\n",
        "    riegos_temp_cultivos.at[index, 'Temperatura max opt'] = riegos_temp_cultivos.at[index,'Temperatura max req']"
      ],
      "execution_count": 153,
      "outputs": []
    },
    {
      "cell_type": "code",
      "metadata": {
        "colab": {
          "base_uri": "https://localhost:8080/"
        },
        "id": "m_rk2WcpaWuW",
        "outputId": "d0460827-f360-438b-aefe-d08dd73bbc88"
      },
      "source": [
        "pd.isnull(riegos_temp_cultivos).any()"
      ],
      "execution_count": 154,
      "outputs": [
        {
          "output_type": "execute_result",
          "data": {
            "text/plain": [
              "Cultivo                         False\n",
              "Temperatura min req             False\n",
              "Temperatura max req             False\n",
              "Temperatura min opt             False\n",
              "Temperatura max opt             False\n",
              "Dias entre riego zona seca      False\n",
              "Dias entre riego zona húmeda    False\n",
              "dtype: bool"
            ]
          },
          "metadata": {},
          "execution_count": 154
        }
      ]
    },
    {
      "cell_type": "markdown",
      "metadata": {
        "id": "LRSNgU7n6GZ4"
      },
      "source": [
        "### 3.6 Comprobación de valores"
      ]
    },
    {
      "cell_type": "markdown",
      "source": [
        "A continuación, se utilizará la función *describe* para comprobar si algún valor está fuera lo normal (por ejemplo, año 3000)."
      ],
      "metadata": {
        "id": "0Jb8LpvMpdtj"
      }
    },
    {
      "cell_type": "code",
      "metadata": {
        "colab": {
          "base_uri": "https://localhost:8080/",
          "height": 300
        },
        "id": "qA5Ik9to6Nzs",
        "outputId": "2d983024-4b2a-46d7-9a3b-be17300b98e8"
      },
      "source": [
        "calendario_siembra.describe()"
      ],
      "execution_count": 155,
      "outputs": [
        {
          "output_type": "execute_result",
          "data": {
            "text/html": [
              "<div>\n",
              "<style scoped>\n",
              "    .dataframe tbody tr th:only-of-type {\n",
              "        vertical-align: middle;\n",
              "    }\n",
              "\n",
              "    .dataframe tbody tr th {\n",
              "        vertical-align: top;\n",
              "    }\n",
              "\n",
              "    .dataframe thead th {\n",
              "        text-align: right;\n",
              "    }\n",
              "</style>\n",
              "<table border=\"1\" class=\"dataframe\">\n",
              "  <thead>\n",
              "    <tr style=\"text-align: right;\">\n",
              "      <th></th>\n",
              "      <th>Inicio</th>\n",
              "      <th>Fin</th>\n",
              "      <th>Min siem-recol</th>\n",
              "      <th>Max siem-recol</th>\n",
              "    </tr>\n",
              "  </thead>\n",
              "  <tbody>\n",
              "    <tr>\n",
              "      <th>count</th>\n",
              "      <td>64.000000</td>\n",
              "      <td>64.000000</td>\n",
              "      <td>64.000000</td>\n",
              "      <td>64.00000</td>\n",
              "    </tr>\n",
              "    <tr>\n",
              "      <th>mean</th>\n",
              "      <td>6.718750</td>\n",
              "      <td>6.218750</td>\n",
              "      <td>3.046875</td>\n",
              "      <td>3.53125</td>\n",
              "    </tr>\n",
              "    <tr>\n",
              "      <th>std</th>\n",
              "      <td>3.701003</td>\n",
              "      <td>3.410855</td>\n",
              "      <td>0.652947</td>\n",
              "      <td>0.95898</td>\n",
              "    </tr>\n",
              "    <tr>\n",
              "      <th>min</th>\n",
              "      <td>2.000000</td>\n",
              "      <td>2.000000</td>\n",
              "      <td>2.000000</td>\n",
              "      <td>2.00000</td>\n",
              "    </tr>\n",
              "    <tr>\n",
              "      <th>25%</th>\n",
              "      <td>3.000000</td>\n",
              "      <td>5.000000</td>\n",
              "      <td>3.000000</td>\n",
              "      <td>3.00000</td>\n",
              "    </tr>\n",
              "    <tr>\n",
              "      <th>50%</th>\n",
              "      <td>6.000000</td>\n",
              "      <td>5.000000</td>\n",
              "      <td>3.000000</td>\n",
              "      <td>3.00000</td>\n",
              "    </tr>\n",
              "    <tr>\n",
              "      <th>75%</th>\n",
              "      <td>9.000000</td>\n",
              "      <td>11.000000</td>\n",
              "      <td>3.000000</td>\n",
              "      <td>4.00000</td>\n",
              "    </tr>\n",
              "    <tr>\n",
              "      <th>max</th>\n",
              "      <td>12.000000</td>\n",
              "      <td>11.000000</td>\n",
              "      <td>4.000000</td>\n",
              "      <td>6.00000</td>\n",
              "    </tr>\n",
              "  </tbody>\n",
              "</table>\n",
              "</div>"
            ],
            "text/plain": [
              "          Inicio        Fin  Min siem-recol  Max siem-recol\n",
              "count  64.000000  64.000000       64.000000        64.00000\n",
              "mean    6.718750   6.218750        3.046875         3.53125\n",
              "std     3.701003   3.410855        0.652947         0.95898\n",
              "min     2.000000   2.000000        2.000000         2.00000\n",
              "25%     3.000000   5.000000        3.000000         3.00000\n",
              "50%     6.000000   5.000000        3.000000         3.00000\n",
              "75%     9.000000  11.000000        3.000000         4.00000\n",
              "max    12.000000  11.000000        4.000000         6.00000"
            ]
          },
          "metadata": {},
          "execution_count": 155
        }
      ]
    },
    {
      "cell_type": "code",
      "metadata": {
        "colab": {
          "base_uri": "https://localhost:8080/",
          "height": 318
        },
        "id": "K-kuggca6N7_",
        "outputId": "1d56724a-6b52-44fa-918b-749098c830fb"
      },
      "source": [
        "consumo_CCAA.describe()"
      ],
      "execution_count": 156,
      "outputs": [
        {
          "output_type": "execute_result",
          "data": {
            "text/html": [
              "<div>\n",
              "<style scoped>\n",
              "    .dataframe tbody tr th:only-of-type {\n",
              "        vertical-align: middle;\n",
              "    }\n",
              "\n",
              "    .dataframe tbody tr th {\n",
              "        vertical-align: top;\n",
              "    }\n",
              "\n",
              "    .dataframe thead th {\n",
              "        text-align: right;\n",
              "    }\n",
              "</style>\n",
              "<table border=\"1\" class=\"dataframe\">\n",
              "  <thead>\n",
              "    <tr style=\"text-align: right;\">\n",
              "      <th></th>\n",
              "      <th>Año</th>\n",
              "      <th>Mes</th>\n",
              "      <th>Volumen (miles de kg)</th>\n",
              "      <th>Valor (miles de €)</th>\n",
              "      <th>Precio medio kg</th>\n",
              "      <th>Penetración (%)</th>\n",
              "      <th>Consumo per capita</th>\n",
              "      <th>Gasto per capita</th>\n",
              "    </tr>\n",
              "  </thead>\n",
              "  <tbody>\n",
              "    <tr>\n",
              "      <th>count</th>\n",
              "      <td>9078.000000</td>\n",
              "      <td>9078.000000</td>\n",
              "      <td>9078.000000</td>\n",
              "      <td>9078.000000</td>\n",
              "      <td>9078.000000</td>\n",
              "      <td>9078.000000</td>\n",
              "      <td>9078.000000</td>\n",
              "      <td>9078.000000</td>\n",
              "    </tr>\n",
              "    <tr>\n",
              "      <th>mean</th>\n",
              "      <td>2018.853933</td>\n",
              "      <td>5.859551</td>\n",
              "      <td>1075.080184</td>\n",
              "      <td>1481.313506</td>\n",
              "      <td>1.833669</td>\n",
              "      <td>39.009210</td>\n",
              "      <td>0.393417</td>\n",
              "      <td>0.547362</td>\n",
              "    </tr>\n",
              "    <tr>\n",
              "      <th>std</th>\n",
              "      <td>0.742805</td>\n",
              "      <td>3.392309</td>\n",
              "      <td>2077.398821</td>\n",
              "      <td>2416.738738</td>\n",
              "      <td>0.943047</td>\n",
              "      <td>23.389702</td>\n",
              "      <td>0.514203</td>\n",
              "      <td>0.573987</td>\n",
              "    </tr>\n",
              "    <tr>\n",
              "      <th>min</th>\n",
              "      <td>2018.000000</td>\n",
              "      <td>1.000000</td>\n",
              "      <td>0.000000</td>\n",
              "      <td>0.000000</td>\n",
              "      <td>0.000000</td>\n",
              "      <td>0.000000</td>\n",
              "      <td>0.000000</td>\n",
              "      <td>0.000000</td>\n",
              "    </tr>\n",
              "    <tr>\n",
              "      <th>25%</th>\n",
              "      <td>2018.000000</td>\n",
              "      <td>3.000000</td>\n",
              "      <td>117.720000</td>\n",
              "      <td>224.362500</td>\n",
              "      <td>1.200000</td>\n",
              "      <td>19.160000</td>\n",
              "      <td>0.080000</td>\n",
              "      <td>0.160000</td>\n",
              "    </tr>\n",
              "    <tr>\n",
              "      <th>50%</th>\n",
              "      <td>2019.000000</td>\n",
              "      <td>5.000000</td>\n",
              "      <td>347.550000</td>\n",
              "      <td>612.160000</td>\n",
              "      <td>1.610000</td>\n",
              "      <td>36.560000</td>\n",
              "      <td>0.200000</td>\n",
              "      <td>0.320000</td>\n",
              "    </tr>\n",
              "    <tr>\n",
              "      <th>75%</th>\n",
              "      <td>2019.000000</td>\n",
              "      <td>9.000000</td>\n",
              "      <td>1059.345000</td>\n",
              "      <td>1679.580000</td>\n",
              "      <td>2.180000</td>\n",
              "      <td>59.530000</td>\n",
              "      <td>0.440000</td>\n",
              "      <td>0.770000</td>\n",
              "    </tr>\n",
              "    <tr>\n",
              "      <th>max</th>\n",
              "      <td>2020.000000</td>\n",
              "      <td>12.000000</td>\n",
              "      <td>20478.430000</td>\n",
              "      <td>22990.810000</td>\n",
              "      <td>8.780000</td>\n",
              "      <td>96.520000</td>\n",
              "      <td>4.360000</td>\n",
              "      <td>5.140000</td>\n",
              "    </tr>\n",
              "  </tbody>\n",
              "</table>\n",
              "</div>"
            ],
            "text/plain": [
              "               Año          Mes  ...  Consumo per capita  Gasto per capita\n",
              "count  9078.000000  9078.000000  ...         9078.000000       9078.000000\n",
              "mean   2018.853933     5.859551  ...            0.393417          0.547362\n",
              "std       0.742805     3.392309  ...            0.514203          0.573987\n",
              "min    2018.000000     1.000000  ...            0.000000          0.000000\n",
              "25%    2018.000000     3.000000  ...            0.080000          0.160000\n",
              "50%    2019.000000     5.000000  ...            0.200000          0.320000\n",
              "75%    2019.000000     9.000000  ...            0.440000          0.770000\n",
              "max    2020.000000    12.000000  ...            4.360000          5.140000\n",
              "\n",
              "[8 rows x 8 columns]"
            ]
          },
          "metadata": {},
          "execution_count": 156
        }
      ]
    },
    {
      "cell_type": "code",
      "metadata": {
        "colab": {
          "base_uri": "https://localhost:8080/",
          "height": 300
        },
        "id": "3HSC_4516OC3",
        "outputId": "db3abbd5-0b9a-4421-c3f0-0343712ff2e7"
      },
      "source": [
        "dat_mercaMadrid.describe()"
      ],
      "execution_count": 157,
      "outputs": [
        {
          "output_type": "execute_result",
          "data": {
            "text/html": [
              "<div>\n",
              "<style scoped>\n",
              "    .dataframe tbody tr th:only-of-type {\n",
              "        vertical-align: middle;\n",
              "    }\n",
              "\n",
              "    .dataframe tbody tr th {\n",
              "        vertical-align: top;\n",
              "    }\n",
              "\n",
              "    .dataframe thead th {\n",
              "        text-align: right;\n",
              "    }\n",
              "</style>\n",
              "<table border=\"1\" class=\"dataframe\">\n",
              "  <thead>\n",
              "    <tr style=\"text-align: right;\">\n",
              "      <th></th>\n",
              "      <th>YEAR</th>\n",
              "      <th>MONTH</th>\n",
              "      <th>price_mean</th>\n",
              "      <th>Volumen</th>\n",
              "    </tr>\n",
              "  </thead>\n",
              "  <tbody>\n",
              "    <tr>\n",
              "      <th>count</th>\n",
              "      <td>33898.000000</td>\n",
              "      <td>33898.000000</td>\n",
              "      <td>33898.000000</td>\n",
              "      <td>3.389800e+04</td>\n",
              "    </tr>\n",
              "    <tr>\n",
              "      <th>mean</th>\n",
              "      <td>2018.934096</td>\n",
              "      <td>6.454422</td>\n",
              "      <td>1.092612</td>\n",
              "      <td>6.954446e+04</td>\n",
              "    </tr>\n",
              "    <tr>\n",
              "      <th>std</th>\n",
              "      <td>0.796391</td>\n",
              "      <td>3.349925</td>\n",
              "      <td>0.940910</td>\n",
              "      <td>2.496999e+05</td>\n",
              "    </tr>\n",
              "    <tr>\n",
              "      <th>min</th>\n",
              "      <td>2018.000000</td>\n",
              "      <td>1.000000</td>\n",
              "      <td>0.000000</td>\n",
              "      <td>2.000000e+00</td>\n",
              "    </tr>\n",
              "    <tr>\n",
              "      <th>25%</th>\n",
              "      <td>2018.000000</td>\n",
              "      <td>4.000000</td>\n",
              "      <td>0.500000</td>\n",
              "      <td>1.464250e+03</td>\n",
              "    </tr>\n",
              "    <tr>\n",
              "      <th>50%</th>\n",
              "      <td>2019.000000</td>\n",
              "      <td>7.000000</td>\n",
              "      <td>0.800000</td>\n",
              "      <td>5.810000e+03</td>\n",
              "    </tr>\n",
              "    <tr>\n",
              "      <th>75%</th>\n",
              "      <td>2020.000000</td>\n",
              "      <td>9.000000</td>\n",
              "      <td>1.350000</td>\n",
              "      <td>2.806150e+04</td>\n",
              "    </tr>\n",
              "    <tr>\n",
              "      <th>max</th>\n",
              "      <td>2020.000000</td>\n",
              "      <td>12.000000</td>\n",
              "      <td>12.500000</td>\n",
              "      <td>7.262361e+06</td>\n",
              "    </tr>\n",
              "  </tbody>\n",
              "</table>\n",
              "</div>"
            ],
            "text/plain": [
              "               YEAR         MONTH    price_mean       Volumen\n",
              "count  33898.000000  33898.000000  33898.000000  3.389800e+04\n",
              "mean    2018.934096      6.454422      1.092612  6.954446e+04\n",
              "std        0.796391      3.349925      0.940910  2.496999e+05\n",
              "min     2018.000000      1.000000      0.000000  2.000000e+00\n",
              "25%     2018.000000      4.000000      0.500000  1.464250e+03\n",
              "50%     2019.000000      7.000000      0.800000  5.810000e+03\n",
              "75%     2020.000000      9.000000      1.350000  2.806150e+04\n",
              "max     2020.000000     12.000000     12.500000  7.262361e+06"
            ]
          },
          "metadata": {},
          "execution_count": 157
        }
      ]
    },
    {
      "cell_type": "code",
      "metadata": {
        "colab": {
          "base_uri": "https://localhost:8080/",
          "height": 300
        },
        "id": "lPGfQL706sgQ",
        "outputId": "97b2e5a9-3cb0-4699-c7ef-f79029b07ed7"
      },
      "source": [
        "dat_mercaBarna.describe()"
      ],
      "execution_count": 158,
      "outputs": [
        {
          "output_type": "execute_result",
          "data": {
            "text/html": [
              "<div>\n",
              "<style scoped>\n",
              "    .dataframe tbody tr th:only-of-type {\n",
              "        vertical-align: middle;\n",
              "    }\n",
              "\n",
              "    .dataframe tbody tr th {\n",
              "        vertical-align: top;\n",
              "    }\n",
              "\n",
              "    .dataframe thead th {\n",
              "        text-align: right;\n",
              "    }\n",
              "</style>\n",
              "<table border=\"1\" class=\"dataframe\">\n",
              "  <thead>\n",
              "    <tr style=\"text-align: right;\">\n",
              "      <th></th>\n",
              "      <th>YEAR</th>\n",
              "      <th>MONTH</th>\n",
              "      <th>price_mean</th>\n",
              "      <th>Volumen</th>\n",
              "    </tr>\n",
              "  </thead>\n",
              "  <tbody>\n",
              "    <tr>\n",
              "      <th>count</th>\n",
              "      <td>13681.000000</td>\n",
              "      <td>13681.000000</td>\n",
              "      <td>13681.000000</td>\n",
              "      <td>1.368100e+04</td>\n",
              "    </tr>\n",
              "    <tr>\n",
              "      <th>mean</th>\n",
              "      <td>2018.915723</td>\n",
              "      <td>6.342080</td>\n",
              "      <td>1.018298</td>\n",
              "      <td>8.379785e+04</td>\n",
              "    </tr>\n",
              "    <tr>\n",
              "      <th>std</th>\n",
              "      <td>0.808933</td>\n",
              "      <td>3.349381</td>\n",
              "      <td>0.727834</td>\n",
              "      <td>2.683928e+05</td>\n",
              "    </tr>\n",
              "    <tr>\n",
              "      <th>min</th>\n",
              "      <td>2018.000000</td>\n",
              "      <td>1.000000</td>\n",
              "      <td>0.230000</td>\n",
              "      <td>1.000000e+00</td>\n",
              "    </tr>\n",
              "    <tr>\n",
              "      <th>25%</th>\n",
              "      <td>2018.000000</td>\n",
              "      <td>4.000000</td>\n",
              "      <td>0.584545</td>\n",
              "      <td>1.327000e+03</td>\n",
              "    </tr>\n",
              "    <tr>\n",
              "      <th>50%</th>\n",
              "      <td>2019.000000</td>\n",
              "      <td>6.000000</td>\n",
              "      <td>0.758333</td>\n",
              "      <td>8.550000e+03</td>\n",
              "    </tr>\n",
              "    <tr>\n",
              "      <th>75%</th>\n",
              "      <td>2020.000000</td>\n",
              "      <td>9.000000</td>\n",
              "      <td>1.150000</td>\n",
              "      <td>4.493300e+04</td>\n",
              "    </tr>\n",
              "    <tr>\n",
              "      <th>max</th>\n",
              "      <td>2020.000000</td>\n",
              "      <td>12.000000</td>\n",
              "      <td>5.662500</td>\n",
              "      <td>4.978898e+06</td>\n",
              "    </tr>\n",
              "  </tbody>\n",
              "</table>\n",
              "</div>"
            ],
            "text/plain": [
              "               YEAR         MONTH    price_mean       Volumen\n",
              "count  13681.000000  13681.000000  13681.000000  1.368100e+04\n",
              "mean    2018.915723      6.342080      1.018298  8.379785e+04\n",
              "std        0.808933      3.349381      0.727834  2.683928e+05\n",
              "min     2018.000000      1.000000      0.230000  1.000000e+00\n",
              "25%     2018.000000      4.000000      0.584545  1.327000e+03\n",
              "50%     2019.000000      6.000000      0.758333  8.550000e+03\n",
              "75%     2020.000000      9.000000      1.150000  4.493300e+04\n",
              "max     2020.000000     12.000000      5.662500  4.978898e+06"
            ]
          },
          "metadata": {},
          "execution_count": 158
        }
      ]
    },
    {
      "cell_type": "code",
      "metadata": {
        "colab": {
          "base_uri": "https://localhost:8080/",
          "height": 300
        },
        "id": "5KNfCVEV6snL",
        "outputId": "592f03c3-ecb6-4aca-c113-2dbe0e9a2b08"
      },
      "source": [
        "precios_JAndalucia.describe()"
      ],
      "execution_count": 159,
      "outputs": [
        {
          "output_type": "execute_result",
          "data": {
            "text/html": [
              "<div>\n",
              "<style scoped>\n",
              "    .dataframe tbody tr th:only-of-type {\n",
              "        vertical-align: middle;\n",
              "    }\n",
              "\n",
              "    .dataframe tbody tr th {\n",
              "        vertical-align: top;\n",
              "    }\n",
              "\n",
              "    .dataframe thead th {\n",
              "        text-align: right;\n",
              "    }\n",
              "</style>\n",
              "<table border=\"1\" class=\"dataframe\">\n",
              "  <thead>\n",
              "    <tr style=\"text-align: right;\">\n",
              "      <th></th>\n",
              "      <th>PRECIO</th>\n",
              "    </tr>\n",
              "  </thead>\n",
              "  <tbody>\n",
              "    <tr>\n",
              "      <th>count</th>\n",
              "      <td>13838.000000</td>\n",
              "    </tr>\n",
              "    <tr>\n",
              "      <th>mean</th>\n",
              "      <td>0.786503</td>\n",
              "    </tr>\n",
              "    <tr>\n",
              "      <th>std</th>\n",
              "      <td>0.682536</td>\n",
              "    </tr>\n",
              "    <tr>\n",
              "      <th>min</th>\n",
              "      <td>0.010000</td>\n",
              "    </tr>\n",
              "    <tr>\n",
              "      <th>25%</th>\n",
              "      <td>0.320000</td>\n",
              "    </tr>\n",
              "    <tr>\n",
              "      <th>50%</th>\n",
              "      <td>0.620000</td>\n",
              "    </tr>\n",
              "    <tr>\n",
              "      <th>75%</th>\n",
              "      <td>1.030000</td>\n",
              "    </tr>\n",
              "    <tr>\n",
              "      <th>max</th>\n",
              "      <td>8.690000</td>\n",
              "    </tr>\n",
              "  </tbody>\n",
              "</table>\n",
              "</div>"
            ],
            "text/plain": [
              "             PRECIO\n",
              "count  13838.000000\n",
              "mean       0.786503\n",
              "std        0.682536\n",
              "min        0.010000\n",
              "25%        0.320000\n",
              "50%        0.620000\n",
              "75%        1.030000\n",
              "max        8.690000"
            ]
          },
          "metadata": {},
          "execution_count": 159
        }
      ]
    },
    {
      "cell_type": "code",
      "metadata": {
        "colab": {
          "base_uri": "https://localhost:8080/",
          "height": 300
        },
        "id": "jgoeWbnW6zVn",
        "outputId": "e5ce3649-38eb-4628-ec9b-fbb7147632d8"
      },
      "source": [
        "aemet.describe()"
      ],
      "execution_count": 160,
      "outputs": [
        {
          "output_type": "execute_result",
          "data": {
            "text/html": [
              "<div>\n",
              "<style scoped>\n",
              "    .dataframe tbody tr th:only-of-type {\n",
              "        vertical-align: middle;\n",
              "    }\n",
              "\n",
              "    .dataframe tbody tr th {\n",
              "        vertical-align: top;\n",
              "    }\n",
              "\n",
              "    .dataframe thead th {\n",
              "        text-align: right;\n",
              "    }\n",
              "</style>\n",
              "<table border=\"1\" class=\"dataframe\">\n",
              "  <thead>\n",
              "    <tr style=\"text-align: right;\">\n",
              "      <th></th>\n",
              "      <th>Temperatura media (ºC)</th>\n",
              "      <th>Precipitación 00-24h (mm)</th>\n",
              "      <th>Año</th>\n",
              "      <th>Mes</th>\n",
              "    </tr>\n",
              "  </thead>\n",
              "  <tbody>\n",
              "    <tr>\n",
              "      <th>count</th>\n",
              "      <td>811893.000000</td>\n",
              "      <td>811893.000000</td>\n",
              "      <td>811893.000000</td>\n",
              "      <td>811893.000000</td>\n",
              "    </tr>\n",
              "    <tr>\n",
              "      <th>mean</th>\n",
              "      <td>15.327651</td>\n",
              "      <td>1.849144</td>\n",
              "      <td>2018.999915</td>\n",
              "      <td>6.521178</td>\n",
              "    </tr>\n",
              "    <tr>\n",
              "      <th>std</th>\n",
              "      <td>6.883050</td>\n",
              "      <td>6.414804</td>\n",
              "      <td>0.814722</td>\n",
              "      <td>3.450967</td>\n",
              "    </tr>\n",
              "    <tr>\n",
              "      <th>min</th>\n",
              "      <td>-9.500000</td>\n",
              "      <td>0.000000</td>\n",
              "      <td>2018.000000</td>\n",
              "      <td>1.000000</td>\n",
              "    </tr>\n",
              "    <tr>\n",
              "      <th>25%</th>\n",
              "      <td>10.100000</td>\n",
              "      <td>0.000000</td>\n",
              "      <td>2018.000000</td>\n",
              "      <td>4.000000</td>\n",
              "    </tr>\n",
              "    <tr>\n",
              "      <th>50%</th>\n",
              "      <td>15.100000</td>\n",
              "      <td>0.000000</td>\n",
              "      <td>2019.000000</td>\n",
              "      <td>7.000000</td>\n",
              "    </tr>\n",
              "    <tr>\n",
              "      <th>75%</th>\n",
              "      <td>20.600000</td>\n",
              "      <td>0.200000</td>\n",
              "      <td>2020.000000</td>\n",
              "      <td>10.000000</td>\n",
              "    </tr>\n",
              "    <tr>\n",
              "      <th>max</th>\n",
              "      <td>37.200000</td>\n",
              "      <td>352.200000</td>\n",
              "      <td>2020.000000</td>\n",
              "      <td>12.000000</td>\n",
              "    </tr>\n",
              "  </tbody>\n",
              "</table>\n",
              "</div>"
            ],
            "text/plain": [
              "       Temperatura media (ºC)  ...            Mes\n",
              "count           811893.000000  ...  811893.000000\n",
              "mean                15.327651  ...       6.521178\n",
              "std                  6.883050  ...       3.450967\n",
              "min                 -9.500000  ...       1.000000\n",
              "25%                 10.100000  ...       4.000000\n",
              "50%                 15.100000  ...       7.000000\n",
              "75%                 20.600000  ...      10.000000\n",
              "max                 37.200000  ...      12.000000\n",
              "\n",
              "[8 rows x 4 columns]"
            ]
          },
          "metadata": {},
          "execution_count": 160
        }
      ]
    },
    {
      "cell_type": "markdown",
      "metadata": {
        "id": "bPGVMO13q6MI"
      },
      "source": [
        "### 3.7 Visualización de resultados intermedios"
      ]
    },
    {
      "cell_type": "code",
      "metadata": {
        "colab": {
          "base_uri": "https://localhost:8080/",
          "height": 206
        },
        "id": "pikDEJDuX6XL",
        "outputId": "f98567c7-8505-426e-894e-70a71979e1b8"
      },
      "source": [
        "calendario_siembra.head()"
      ],
      "execution_count": 161,
      "outputs": [
        {
          "output_type": "execute_result",
          "data": {
            "text/html": [
              "<div>\n",
              "<style scoped>\n",
              "    .dataframe tbody tr th:only-of-type {\n",
              "        vertical-align: middle;\n",
              "    }\n",
              "\n",
              "    .dataframe tbody tr th {\n",
              "        vertical-align: top;\n",
              "    }\n",
              "\n",
              "    .dataframe thead th {\n",
              "        text-align: right;\n",
              "    }\n",
              "</style>\n",
              "<table border=\"1\" class=\"dataframe\">\n",
              "  <thead>\n",
              "    <tr style=\"text-align: right;\">\n",
              "      <th></th>\n",
              "      <th>Cultivo</th>\n",
              "      <th>Inicio</th>\n",
              "      <th>Fin</th>\n",
              "      <th>Min siem-recol</th>\n",
              "      <th>Max siem-recol</th>\n",
              "    </tr>\n",
              "  </thead>\n",
              "  <tbody>\n",
              "    <tr>\n",
              "      <th>0</th>\n",
              "      <td>ACELGA</td>\n",
              "      <td>9</td>\n",
              "      <td>11</td>\n",
              "      <td>3</td>\n",
              "      <td>3</td>\n",
              "    </tr>\n",
              "    <tr>\n",
              "      <th>1</th>\n",
              "      <td>ACELGA</td>\n",
              "      <td>3</td>\n",
              "      <td>5</td>\n",
              "      <td>3</td>\n",
              "      <td>3</td>\n",
              "    </tr>\n",
              "    <tr>\n",
              "      <th>2</th>\n",
              "      <td>AJO</td>\n",
              "      <td>9</td>\n",
              "      <td>11</td>\n",
              "      <td>2</td>\n",
              "      <td>4</td>\n",
              "    </tr>\n",
              "    <tr>\n",
              "      <th>3</th>\n",
              "      <td>AJO</td>\n",
              "      <td>12</td>\n",
              "      <td>2</td>\n",
              "      <td>2</td>\n",
              "      <td>4</td>\n",
              "    </tr>\n",
              "    <tr>\n",
              "      <th>4</th>\n",
              "      <td>ALCACHOFA</td>\n",
              "      <td>3</td>\n",
              "      <td>5</td>\n",
              "      <td>3</td>\n",
              "      <td>4</td>\n",
              "    </tr>\n",
              "  </tbody>\n",
              "</table>\n",
              "</div>"
            ],
            "text/plain": [
              "     Cultivo  Inicio  Fin  Min siem-recol  Max siem-recol\n",
              "0     ACELGA       9   11               3               3\n",
              "1     ACELGA       3    5               3               3\n",
              "2        AJO       9   11               2               4\n",
              "3        AJO      12    2               2               4\n",
              "4  ALCACHOFA       3    5               3               4"
            ]
          },
          "metadata": {},
          "execution_count": 161
        }
      ]
    },
    {
      "cell_type": "code",
      "metadata": {
        "colab": {
          "base_uri": "https://localhost:8080/",
          "height": 241
        },
        "id": "Ux_xpuXJrPGj",
        "outputId": "1510e4a7-4a28-4de7-a8cb-83fa6a62162b"
      },
      "source": [
        "consumo_CCAA.head()"
      ],
      "execution_count": 162,
      "outputs": [
        {
          "output_type": "execute_result",
          "data": {
            "text/html": [
              "<div>\n",
              "<style scoped>\n",
              "    .dataframe tbody tr th:only-of-type {\n",
              "        vertical-align: middle;\n",
              "    }\n",
              "\n",
              "    .dataframe tbody tr th {\n",
              "        vertical-align: top;\n",
              "    }\n",
              "\n",
              "    .dataframe thead th {\n",
              "        text-align: right;\n",
              "    }\n",
              "</style>\n",
              "<table border=\"1\" class=\"dataframe\">\n",
              "  <thead>\n",
              "    <tr style=\"text-align: right;\">\n",
              "      <th></th>\n",
              "      <th>Año</th>\n",
              "      <th>Mes</th>\n",
              "      <th>CCAA</th>\n",
              "      <th>Producto</th>\n",
              "      <th>Volumen (miles de kg)</th>\n",
              "      <th>Valor (miles de €)</th>\n",
              "      <th>Precio medio kg</th>\n",
              "      <th>Penetración (%)</th>\n",
              "      <th>Consumo per capita</th>\n",
              "      <th>Gasto per capita</th>\n",
              "    </tr>\n",
              "  </thead>\n",
              "  <tbody>\n",
              "    <tr>\n",
              "      <th>24</th>\n",
              "      <td>2018</td>\n",
              "      <td>1</td>\n",
              "      <td>Andalucia</td>\n",
              "      <td>PATATA</td>\n",
              "      <td>15651.83</td>\n",
              "      <td>10399.72</td>\n",
              "      <td>0.66</td>\n",
              "      <td>71.12</td>\n",
              "      <td>1.80</td>\n",
              "      <td>1.20</td>\n",
              "    </tr>\n",
              "    <tr>\n",
              "      <th>28</th>\n",
              "      <td>2018</td>\n",
              "      <td>1</td>\n",
              "      <td>Andalucia</td>\n",
              "      <td>TOMATE</td>\n",
              "      <td>7480.28</td>\n",
              "      <td>11031.97</td>\n",
              "      <td>1.47</td>\n",
              "      <td>79.01</td>\n",
              "      <td>0.86</td>\n",
              "      <td>1.27</td>\n",
              "    </tr>\n",
              "    <tr>\n",
              "      <th>29</th>\n",
              "      <td>2018</td>\n",
              "      <td>1</td>\n",
              "      <td>Andalucia</td>\n",
              "      <td>CEBOLLA</td>\n",
              "      <td>4717.41</td>\n",
              "      <td>4361.80</td>\n",
              "      <td>0.92</td>\n",
              "      <td>72.88</td>\n",
              "      <td>0.54</td>\n",
              "      <td>0.50</td>\n",
              "    </tr>\n",
              "    <tr>\n",
              "      <th>30</th>\n",
              "      <td>2018</td>\n",
              "      <td>1</td>\n",
              "      <td>Andalucia</td>\n",
              "      <td>AJO</td>\n",
              "      <td>538.35</td>\n",
              "      <td>2140.82</td>\n",
              "      <td>3.98</td>\n",
              "      <td>40.69</td>\n",
              "      <td>0.06</td>\n",
              "      <td>0.25</td>\n",
              "    </tr>\n",
              "    <tr>\n",
              "      <th>31</th>\n",
              "      <td>2018</td>\n",
              "      <td>1</td>\n",
              "      <td>Andalucia</td>\n",
              "      <td>COL REPOLLO</td>\n",
              "      <td>1066.82</td>\n",
              "      <td>1045.78</td>\n",
              "      <td>0.98</td>\n",
              "      <td>17.48</td>\n",
              "      <td>0.12</td>\n",
              "      <td>0.12</td>\n",
              "    </tr>\n",
              "  </tbody>\n",
              "</table>\n",
              "</div>"
            ],
            "text/plain": [
              "     Año  Mes       CCAA  ... Penetración (%)  Consumo per capita  Gasto per capita\n",
              "24  2018    1  Andalucia  ...           71.12                1.80              1.20\n",
              "28  2018    1  Andalucia  ...           79.01                0.86              1.27\n",
              "29  2018    1  Andalucia  ...           72.88                0.54              0.50\n",
              "30  2018    1  Andalucia  ...           40.69                0.06              0.25\n",
              "31  2018    1  Andalucia  ...           17.48                0.12              0.12\n",
              "\n",
              "[5 rows x 10 columns]"
            ]
          },
          "metadata": {},
          "execution_count": 162
        }
      ]
    },
    {
      "cell_type": "code",
      "metadata": {
        "colab": {
          "base_uri": "https://localhost:8080/",
          "height": 206
        },
        "id": "lQnUtqq3rPRb",
        "outputId": "b89048f3-1ce9-4213-e239-afe00dcdf675"
      },
      "source": [
        "dat_mercaMadrid.head()"
      ],
      "execution_count": 163,
      "outputs": [
        {
          "output_type": "execute_result",
          "data": {
            "text/html": [
              "<div>\n",
              "<style scoped>\n",
              "    .dataframe tbody tr th:only-of-type {\n",
              "        vertical-align: middle;\n",
              "    }\n",
              "\n",
              "    .dataframe tbody tr th {\n",
              "        vertical-align: top;\n",
              "    }\n",
              "\n",
              "    .dataframe thead th {\n",
              "        text-align: right;\n",
              "    }\n",
              "</style>\n",
              "<table border=\"1\" class=\"dataframe\">\n",
              "  <thead>\n",
              "    <tr style=\"text-align: right;\">\n",
              "      <th></th>\n",
              "      <th>product</th>\n",
              "      <th>origen</th>\n",
              "      <th>YEAR</th>\n",
              "      <th>MONTH</th>\n",
              "      <th>price_mean</th>\n",
              "      <th>Volumen</th>\n",
              "    </tr>\n",
              "  </thead>\n",
              "  <tbody>\n",
              "    <tr>\n",
              "      <th>147</th>\n",
              "      <td>ACELGA</td>\n",
              "      <td>Castilla La Mancha</td>\n",
              "      <td>2019</td>\n",
              "      <td>4</td>\n",
              "      <td>0.5000</td>\n",
              "      <td>1300</td>\n",
              "    </tr>\n",
              "    <tr>\n",
              "      <th>148</th>\n",
              "      <td>ACELGA</td>\n",
              "      <td>Castilla La Mancha</td>\n",
              "      <td>2020</td>\n",
              "      <td>6</td>\n",
              "      <td>0.9000</td>\n",
              "      <td>3330</td>\n",
              "    </tr>\n",
              "    <tr>\n",
              "      <th>149</th>\n",
              "      <td>ACELGA</td>\n",
              "      <td>Valencia</td>\n",
              "      <td>2018</td>\n",
              "      <td>1</td>\n",
              "      <td>0.9000</td>\n",
              "      <td>1000</td>\n",
              "    </tr>\n",
              "    <tr>\n",
              "      <th>150</th>\n",
              "      <td>ACELGA</td>\n",
              "      <td>Valencia</td>\n",
              "      <td>2018</td>\n",
              "      <td>2</td>\n",
              "      <td>0.7125</td>\n",
              "      <td>6590</td>\n",
              "    </tr>\n",
              "    <tr>\n",
              "      <th>151</th>\n",
              "      <td>ACELGA</td>\n",
              "      <td>Valencia</td>\n",
              "      <td>2018</td>\n",
              "      <td>3</td>\n",
              "      <td>0.5000</td>\n",
              "      <td>200</td>\n",
              "    </tr>\n",
              "  </tbody>\n",
              "</table>\n",
              "</div>"
            ],
            "text/plain": [
              "    product              origen  YEAR  MONTH  price_mean  Volumen\n",
              "147  ACELGA  Castilla La Mancha  2019      4      0.5000     1300\n",
              "148  ACELGA  Castilla La Mancha  2020      6      0.9000     3330\n",
              "149  ACELGA            Valencia  2018      1      0.9000     1000\n",
              "150  ACELGA            Valencia  2018      2      0.7125     6590\n",
              "151  ACELGA            Valencia  2018      3      0.5000      200"
            ]
          },
          "metadata": {},
          "execution_count": 163
        }
      ]
    },
    {
      "cell_type": "code",
      "metadata": {
        "colab": {
          "base_uri": "https://localhost:8080/",
          "height": 206
        },
        "id": "siKNYRxqrPMi",
        "outputId": "635dc257-ec70-4e5b-9d0c-a48059dba716"
      },
      "source": [
        "dat_mercaBarna.head()"
      ],
      "execution_count": 164,
      "outputs": [
        {
          "output_type": "execute_result",
          "data": {
            "text/html": [
              "<div>\n",
              "<style scoped>\n",
              "    .dataframe tbody tr th:only-of-type {\n",
              "        vertical-align: middle;\n",
              "    }\n",
              "\n",
              "    .dataframe tbody tr th {\n",
              "        vertical-align: top;\n",
              "    }\n",
              "\n",
              "    .dataframe thead th {\n",
              "        text-align: right;\n",
              "    }\n",
              "</style>\n",
              "<table border=\"1\" class=\"dataframe\">\n",
              "  <thead>\n",
              "    <tr style=\"text-align: right;\">\n",
              "      <th></th>\n",
              "      <th>product</th>\n",
              "      <th>origen</th>\n",
              "      <th>YEAR</th>\n",
              "      <th>MONTH</th>\n",
              "      <th>price_mean</th>\n",
              "      <th>Volumen</th>\n",
              "    </tr>\n",
              "  </thead>\n",
              "  <tbody>\n",
              "    <tr>\n",
              "      <th>62</th>\n",
              "      <td>ACELGA</td>\n",
              "      <td>Valencia</td>\n",
              "      <td>2018</td>\n",
              "      <td>1</td>\n",
              "      <td>0.750000</td>\n",
              "      <td>408</td>\n",
              "    </tr>\n",
              "    <tr>\n",
              "      <th>63</th>\n",
              "      <td>ACELGA</td>\n",
              "      <td>Valencia</td>\n",
              "      <td>2018</td>\n",
              "      <td>3</td>\n",
              "      <td>0.575000</td>\n",
              "      <td>1420</td>\n",
              "    </tr>\n",
              "    <tr>\n",
              "      <th>64</th>\n",
              "      <td>ACELGA</td>\n",
              "      <td>Valencia</td>\n",
              "      <td>2018</td>\n",
              "      <td>11</td>\n",
              "      <td>0.950000</td>\n",
              "      <td>302</td>\n",
              "    </tr>\n",
              "    <tr>\n",
              "      <th>65</th>\n",
              "      <td>ACELGA</td>\n",
              "      <td>Valencia</td>\n",
              "      <td>2018</td>\n",
              "      <td>12</td>\n",
              "      <td>0.838462</td>\n",
              "      <td>4056</td>\n",
              "    </tr>\n",
              "    <tr>\n",
              "      <th>66</th>\n",
              "      <td>ACELGA</td>\n",
              "      <td>Valencia</td>\n",
              "      <td>2019</td>\n",
              "      <td>1</td>\n",
              "      <td>0.883333</td>\n",
              "      <td>2529</td>\n",
              "    </tr>\n",
              "  </tbody>\n",
              "</table>\n",
              "</div>"
            ],
            "text/plain": [
              "   product    origen  YEAR  MONTH  price_mean  Volumen\n",
              "62  ACELGA  Valencia  2018      1    0.750000      408\n",
              "63  ACELGA  Valencia  2018      3    0.575000     1420\n",
              "64  ACELGA  Valencia  2018     11    0.950000      302\n",
              "65  ACELGA  Valencia  2018     12    0.838462     4056\n",
              "66  ACELGA  Valencia  2019      1    0.883333     2529"
            ]
          },
          "metadata": {},
          "execution_count": 164
        }
      ]
    },
    {
      "cell_type": "code",
      "metadata": {
        "colab": {
          "base_uri": "https://localhost:8080/",
          "height": 206
        },
        "id": "njBvtiERrWWy",
        "outputId": "3398f2f2-f66b-4bb2-b35b-8490aa92cfd4"
      },
      "source": [
        "precios_JAndalucia.head()"
      ],
      "execution_count": 165,
      "outputs": [
        {
          "output_type": "execute_result",
          "data": {
            "text/html": [
              "<div>\n",
              "<style scoped>\n",
              "    .dataframe tbody tr th:only-of-type {\n",
              "        vertical-align: middle;\n",
              "    }\n",
              "\n",
              "    .dataframe tbody tr th {\n",
              "        vertical-align: top;\n",
              "    }\n",
              "\n",
              "    .dataframe thead th {\n",
              "        text-align: right;\n",
              "    }\n",
              "</style>\n",
              "<table border=\"1\" class=\"dataframe\">\n",
              "  <thead>\n",
              "    <tr style=\"text-align: right;\">\n",
              "      <th></th>\n",
              "      <th>INICIO</th>\n",
              "      <th>FIN</th>\n",
              "      <th>PRODUCTO</th>\n",
              "      <th>POSICION</th>\n",
              "      <th>PRECIO</th>\n",
              "    </tr>\n",
              "  </thead>\n",
              "  <tbody>\n",
              "    <tr>\n",
              "      <th>26</th>\n",
              "      <td>01/01/2018</td>\n",
              "      <td>07/01/2018</td>\n",
              "      <td>AJO</td>\n",
              "      <td>Mercas</td>\n",
              "      <td>1.82</td>\n",
              "    </tr>\n",
              "    <tr>\n",
              "      <th>27</th>\n",
              "      <td>01/01/2018</td>\n",
              "      <td>07/01/2018</td>\n",
              "      <td>CEBOLLA</td>\n",
              "      <td>Mercas</td>\n",
              "      <td>0.40</td>\n",
              "    </tr>\n",
              "    <tr>\n",
              "      <th>29</th>\n",
              "      <td>01/01/2018</td>\n",
              "      <td>07/01/2018</td>\n",
              "      <td>LECHUGA</td>\n",
              "      <td>Mercas</td>\n",
              "      <td>1.26</td>\n",
              "    </tr>\n",
              "    <tr>\n",
              "      <th>30</th>\n",
              "      <td>01/01/2018</td>\n",
              "      <td>07/01/2018</td>\n",
              "      <td>ZANAHORIA</td>\n",
              "      <td>Mercas</td>\n",
              "      <td>0.76</td>\n",
              "    </tr>\n",
              "    <tr>\n",
              "      <th>31</th>\n",
              "      <td>01/01/2018</td>\n",
              "      <td>07/01/2018</td>\n",
              "      <td>ZANAHORIA</td>\n",
              "      <td>Agricultor</td>\n",
              "      <td>0.32</td>\n",
              "    </tr>\n",
              "  </tbody>\n",
              "</table>\n",
              "</div>"
            ],
            "text/plain": [
              "        INICIO         FIN   PRODUCTO    POSICION  PRECIO\n",
              "26  01/01/2018  07/01/2018        AJO      Mercas    1.82\n",
              "27  01/01/2018  07/01/2018    CEBOLLA      Mercas    0.40\n",
              "29  01/01/2018  07/01/2018    LECHUGA      Mercas    1.26\n",
              "30  01/01/2018  07/01/2018  ZANAHORIA      Mercas    0.76\n",
              "31  01/01/2018  07/01/2018  ZANAHORIA  Agricultor    0.32"
            ]
          },
          "metadata": {},
          "execution_count": 165
        }
      ]
    },
    {
      "cell_type": "code",
      "metadata": {
        "colab": {
          "base_uri": "https://localhost:8080/",
          "height": 206
        },
        "id": "r9d8XG6vrPVN",
        "outputId": "7bf6b39e-deaf-40e2-91a0-da48e1bd47f4"
      },
      "source": [
        "aemet.head()"
      ],
      "execution_count": 166,
      "outputs": [
        {
          "output_type": "execute_result",
          "data": {
            "text/html": [
              "<div>\n",
              "<style scoped>\n",
              "    .dataframe tbody tr th:only-of-type {\n",
              "        vertical-align: middle;\n",
              "    }\n",
              "\n",
              "    .dataframe tbody tr th {\n",
              "        vertical-align: top;\n",
              "    }\n",
              "\n",
              "    .dataframe thead th {\n",
              "        text-align: right;\n",
              "    }\n",
              "</style>\n",
              "<table border=\"1\" class=\"dataframe\">\n",
              "  <thead>\n",
              "    <tr style=\"text-align: right;\">\n",
              "      <th></th>\n",
              "      <th>CCAA</th>\n",
              "      <th>Temperatura media (ºC)</th>\n",
              "      <th>Precipitación 00-24h (mm)</th>\n",
              "      <th>Año</th>\n",
              "      <th>Mes</th>\n",
              "    </tr>\n",
              "  </thead>\n",
              "  <tbody>\n",
              "    <tr>\n",
              "      <th>1</th>\n",
              "      <td>Galicia</td>\n",
              "      <td>7.0</td>\n",
              "      <td>1.8</td>\n",
              "      <td>2018</td>\n",
              "      <td>3</td>\n",
              "    </tr>\n",
              "    <tr>\n",
              "      <th>2</th>\n",
              "      <td>Galicia</td>\n",
              "      <td>10.2</td>\n",
              "      <td>1.0</td>\n",
              "      <td>2018</td>\n",
              "      <td>3</td>\n",
              "    </tr>\n",
              "    <tr>\n",
              "      <th>3</th>\n",
              "      <td>Galicia</td>\n",
              "      <td>8.7</td>\n",
              "      <td>0.7</td>\n",
              "      <td>2018</td>\n",
              "      <td>3</td>\n",
              "    </tr>\n",
              "    <tr>\n",
              "      <th>4</th>\n",
              "      <td>Galicia</td>\n",
              "      <td>7.4</td>\n",
              "      <td>0.6</td>\n",
              "      <td>2018</td>\n",
              "      <td>3</td>\n",
              "    </tr>\n",
              "    <tr>\n",
              "      <th>5</th>\n",
              "      <td>Galicia</td>\n",
              "      <td>10.3</td>\n",
              "      <td>1.8</td>\n",
              "      <td>2018</td>\n",
              "      <td>3</td>\n",
              "    </tr>\n",
              "  </tbody>\n",
              "</table>\n",
              "</div>"
            ],
            "text/plain": [
              "      CCAA  Temperatura media (ºC)  Precipitación 00-24h (mm)   Año  Mes\n",
              "1  Galicia                     7.0                        1.8  2018    3\n",
              "2  Galicia                    10.2                        1.0  2018    3\n",
              "3  Galicia                     8.7                        0.7  2018    3\n",
              "4  Galicia                     7.4                        0.6  2018    3\n",
              "5  Galicia                    10.3                        1.8  2018    3"
            ]
          },
          "metadata": {},
          "execution_count": 166
        }
      ]
    },
    {
      "cell_type": "code",
      "metadata": {
        "colab": {
          "base_uri": "https://localhost:8080/",
          "height": 224
        },
        "id": "WJu0POg1dKk0",
        "outputId": "a51f09af-d232-4dc8-abe3-415670308dd2"
      },
      "source": [
        "riegos_temp_cultivos.head()"
      ],
      "execution_count": 167,
      "outputs": [
        {
          "output_type": "execute_result",
          "data": {
            "text/html": [
              "<div>\n",
              "<style scoped>\n",
              "    .dataframe tbody tr th:only-of-type {\n",
              "        vertical-align: middle;\n",
              "    }\n",
              "\n",
              "    .dataframe tbody tr th {\n",
              "        vertical-align: top;\n",
              "    }\n",
              "\n",
              "    .dataframe thead th {\n",
              "        text-align: right;\n",
              "    }\n",
              "</style>\n",
              "<table border=\"1\" class=\"dataframe\">\n",
              "  <thead>\n",
              "    <tr style=\"text-align: right;\">\n",
              "      <th></th>\n",
              "      <th>Cultivo</th>\n",
              "      <th>Temperatura min req</th>\n",
              "      <th>Temperatura max req</th>\n",
              "      <th>Temperatura min opt</th>\n",
              "      <th>Temperatura max opt</th>\n",
              "      <th>Dias entre riego zona seca</th>\n",
              "      <th>Dias entre riego zona húmeda</th>\n",
              "    </tr>\n",
              "  </thead>\n",
              "  <tbody>\n",
              "    <tr>\n",
              "      <th>0</th>\n",
              "      <td>ACELGA</td>\n",
              "      <td>6.0</td>\n",
              "      <td>33.0</td>\n",
              "      <td>15.0</td>\n",
              "      <td>25.0</td>\n",
              "      <td>4</td>\n",
              "      <td>10</td>\n",
              "    </tr>\n",
              "    <tr>\n",
              "      <th>1</th>\n",
              "      <td>AJO</td>\n",
              "      <td>7.0</td>\n",
              "      <td>30.0</td>\n",
              "      <td>14.0</td>\n",
              "      <td>24.0</td>\n",
              "      <td>5</td>\n",
              "      <td>7</td>\n",
              "    </tr>\n",
              "    <tr>\n",
              "      <th>2</th>\n",
              "      <td>ALCACHOFA</td>\n",
              "      <td>7.0</td>\n",
              "      <td>29.0</td>\n",
              "      <td>15.0</td>\n",
              "      <td>18.0</td>\n",
              "      <td>1</td>\n",
              "      <td>2</td>\n",
              "    </tr>\n",
              "    <tr>\n",
              "      <th>3</th>\n",
              "      <td>APIO</td>\n",
              "      <td>15.0</td>\n",
              "      <td>27.0</td>\n",
              "      <td>15.0</td>\n",
              "      <td>21.0</td>\n",
              "      <td>2</td>\n",
              "      <td>3</td>\n",
              "    </tr>\n",
              "    <tr>\n",
              "      <th>4</th>\n",
              "      <td>BERENJENA</td>\n",
              "      <td>15.0</td>\n",
              "      <td>40.0</td>\n",
              "      <td>23.0</td>\n",
              "      <td>25.0</td>\n",
              "      <td>2</td>\n",
              "      <td>3</td>\n",
              "    </tr>\n",
              "  </tbody>\n",
              "</table>\n",
              "</div>"
            ],
            "text/plain": [
              "     Cultivo  ...  Dias entre riego zona húmeda\n",
              "0     ACELGA  ...                            10\n",
              "1        AJO  ...                             7\n",
              "2  ALCACHOFA  ...                             2\n",
              "3       APIO  ...                             3\n",
              "4  BERENJENA  ...                             3\n",
              "\n",
              "[5 rows x 7 columns]"
            ]
          },
          "metadata": {},
          "execution_count": 167
        }
      ]
    },
    {
      "cell_type": "markdown",
      "metadata": {
        "id": "O6kKBVdY_Rzt"
      },
      "source": [
        "## 4. Transformación"
      ]
    },
    {
      "cell_type": "markdown",
      "source": [
        "A continuación, se va a proceder a ir fusionando los distintos dataframe. Habrá algunos que necesiten alguna transformación estilo *group by*. De esta manera, iremos orientando los datos para construir la tarjeta de datos."
      ],
      "metadata": {
        "id": "burBtAyxIqFI"
      }
    },
    {
      "cell_type": "markdown",
      "source": [
        "### 4.1 Transformación de *consumo_CCAA*"
      ],
      "metadata": {
        "id": "HmtFTHCNLEgI"
      }
    },
    {
      "cell_type": "markdown",
      "source": [
        "En el dataset *consumo_CCAA*, agruparemos por *Producto*, *CCAA*, *Año* y *Mes*, agrupando por producto para comprobar si hay varias filas que sean el mismo, y contaremos el número de filas. Si el número de filas de la agrupación es el mismo que el del dataframe antes de la agrupación, significará que no había nada que agrupar y será el mismo, así que la agrupación sería inútil."
      ],
      "metadata": {
        "id": "u14tupylKYOO"
      }
    },
    {
      "cell_type": "code",
      "metadata": {
        "colab": {
          "base_uri": "https://localhost:8080/"
        },
        "id": "vIq8McZZg5zn",
        "outputId": "0b966650-4b19-47ec-e559-a1f255fd5246"
      },
      "source": [
        "consumo_CCAA_gb = consumo_CCAA.groupby(['Producto', 'CCAA','Año', 'Mes']).count()\n",
        "print('Filas_agrup: ' + str(consumo_CCAA_gb.shape))\n",
        "print('Filas_no_agrup: ' + str(consumo_CCAA.shape))\n",
        "# Como se puede apreciar, no hay valores de agrupacion repetidos y por tanto este dataseet no necesita groupby"
      ],
      "execution_count": 169,
      "outputs": [
        {
          "output_type": "stream",
          "name": "stdout",
          "text": [
            "Filas_agrup: (9078, 6)\n",
            "Filas_no_agrup: (9078, 10)\n"
          ]
        }
      ]
    },
    {
      "cell_type": "markdown",
      "source": [
        "Como se puede apreciar, no hay valores de agrupación repetidos y por tanto este dataframe no necesita agrupación."
      ],
      "metadata": {
        "id": "hubchwPnL7lm"
      }
    },
    {
      "cell_type": "markdown",
      "source": [
        "### 4.2 Transformación y fusión de *dat_mercaMadrid* y *dat_mercaBarna*"
      ],
      "metadata": {
        "id": "s1j0C07kMvYe"
      }
    },
    {
      "cell_type": "markdown",
      "source": [
        "Para fusionar estos dataframes, simplemente se concatenarán las filas de *dat_mercaBarna* a *dat_mercaMadrid*. Luego, se hará una agrupación por producto, comunidad autónoma, año y mes, aplicando en caso de \"elementos agrupados\" la media al precio y la suma de los volúmenes."
      ],
      "metadata": {
        "id": "rkqg5vS5N-4u"
      }
    },
    {
      "cell_type": "code",
      "metadata": {
        "id": "fjcln7H1mHLm"
      },
      "source": [
        "# Fusionar datos mercamadrid y mercabarna ya que tienen las mismas columnas\n",
        "dat_merca = dat_mercaMadrid.append(dat_mercaBarna, ignore_index=True)"
      ],
      "execution_count": 170,
      "outputs": []
    },
    {
      "cell_type": "code",
      "metadata": {
        "colab": {
          "base_uri": "https://localhost:8080/",
          "height": 424
        },
        "id": "okNfuU-8inzZ",
        "outputId": "e7372009-bd16-4f08-9793-6342643be0bd"
      },
      "source": [
        "dat_merca_gb = dat_merca.groupby(['product', 'origen','YEAR', 'MONTH'], as_index=False).agg(price_mean=('price_mean', 'mean'), Volumen=('Volumen', 'sum'))\n",
        "dat_merca_gb"
      ],
      "execution_count": 171,
      "outputs": [
        {
          "output_type": "execute_result",
          "data": {
            "text/html": [
              "<div>\n",
              "<style scoped>\n",
              "    .dataframe tbody tr th:only-of-type {\n",
              "        vertical-align: middle;\n",
              "    }\n",
              "\n",
              "    .dataframe tbody tr th {\n",
              "        vertical-align: top;\n",
              "    }\n",
              "\n",
              "    .dataframe thead th {\n",
              "        text-align: right;\n",
              "    }\n",
              "</style>\n",
              "<table border=\"1\" class=\"dataframe\">\n",
              "  <thead>\n",
              "    <tr style=\"text-align: right;\">\n",
              "      <th></th>\n",
              "      <th>product</th>\n",
              "      <th>origen</th>\n",
              "      <th>YEAR</th>\n",
              "      <th>MONTH</th>\n",
              "      <th>price_mean</th>\n",
              "      <th>Volumen</th>\n",
              "    </tr>\n",
              "  </thead>\n",
              "  <tbody>\n",
              "    <tr>\n",
              "      <th>0</th>\n",
              "      <td>ACELGA</td>\n",
              "      <td>Andalucia</td>\n",
              "      <td>2018</td>\n",
              "      <td>1</td>\n",
              "      <td>0.750238</td>\n",
              "      <td>46516</td>\n",
              "    </tr>\n",
              "    <tr>\n",
              "      <th>1</th>\n",
              "      <td>ACELGA</td>\n",
              "      <td>Andalucia</td>\n",
              "      <td>2018</td>\n",
              "      <td>2</td>\n",
              "      <td>0.734375</td>\n",
              "      <td>37237</td>\n",
              "    </tr>\n",
              "    <tr>\n",
              "      <th>2</th>\n",
              "      <td>ACELGA</td>\n",
              "      <td>Andalucia</td>\n",
              "      <td>2018</td>\n",
              "      <td>3</td>\n",
              "      <td>0.672059</td>\n",
              "      <td>78318</td>\n",
              "    </tr>\n",
              "    <tr>\n",
              "      <th>3</th>\n",
              "      <td>ACELGA</td>\n",
              "      <td>Andalucia</td>\n",
              "      <td>2018</td>\n",
              "      <td>4</td>\n",
              "      <td>0.666176</td>\n",
              "      <td>64277</td>\n",
              "    </tr>\n",
              "    <tr>\n",
              "      <th>4</th>\n",
              "      <td>ACELGA</td>\n",
              "      <td>Andalucia</td>\n",
              "      <td>2018</td>\n",
              "      <td>5</td>\n",
              "      <td>0.869608</td>\n",
              "      <td>94592</td>\n",
              "    </tr>\n",
              "    <tr>\n",
              "      <th>...</th>\n",
              "      <td>...</td>\n",
              "      <td>...</td>\n",
              "      <td>...</td>\n",
              "      <td>...</td>\n",
              "      <td>...</td>\n",
              "      <td>...</td>\n",
              "    </tr>\n",
              "    <tr>\n",
              "      <th>9712</th>\n",
              "      <td>ZANAHORIA</td>\n",
              "      <td>Valencia</td>\n",
              "      <td>2020</td>\n",
              "      <td>7</td>\n",
              "      <td>0.500000</td>\n",
              "      <td>3100</td>\n",
              "    </tr>\n",
              "    <tr>\n",
              "      <th>9713</th>\n",
              "      <td>ZANAHORIA</td>\n",
              "      <td>Valencia</td>\n",
              "      <td>2020</td>\n",
              "      <td>8</td>\n",
              "      <td>0.500000</td>\n",
              "      <td>7610</td>\n",
              "    </tr>\n",
              "    <tr>\n",
              "      <th>9714</th>\n",
              "      <td>ZANAHORIA</td>\n",
              "      <td>Valencia</td>\n",
              "      <td>2020</td>\n",
              "      <td>9</td>\n",
              "      <td>0.500000</td>\n",
              "      <td>8000</td>\n",
              "    </tr>\n",
              "    <tr>\n",
              "      <th>9715</th>\n",
              "      <td>ZANAHORIA</td>\n",
              "      <td>Valencia</td>\n",
              "      <td>2020</td>\n",
              "      <td>10</td>\n",
              "      <td>0.566667</td>\n",
              "      <td>6400</td>\n",
              "    </tr>\n",
              "    <tr>\n",
              "      <th>9716</th>\n",
              "      <td>ZANAHORIA</td>\n",
              "      <td>Valencia</td>\n",
              "      <td>2020</td>\n",
              "      <td>11</td>\n",
              "      <td>0.461111</td>\n",
              "      <td>6375</td>\n",
              "    </tr>\n",
              "  </tbody>\n",
              "</table>\n",
              "<p>9717 rows × 6 columns</p>\n",
              "</div>"
            ],
            "text/plain": [
              "        product     origen  YEAR  MONTH  price_mean  Volumen\n",
              "0        ACELGA  Andalucia  2018      1    0.750238    46516\n",
              "1        ACELGA  Andalucia  2018      2    0.734375    37237\n",
              "2        ACELGA  Andalucia  2018      3    0.672059    78318\n",
              "3        ACELGA  Andalucia  2018      4    0.666176    64277\n",
              "4        ACELGA  Andalucia  2018      5    0.869608    94592\n",
              "...         ...        ...   ...    ...         ...      ...\n",
              "9712  ZANAHORIA   Valencia  2020      7    0.500000     3100\n",
              "9713  ZANAHORIA   Valencia  2020      8    0.500000     7610\n",
              "9714  ZANAHORIA   Valencia  2020      9    0.500000     8000\n",
              "9715  ZANAHORIA   Valencia  2020     10    0.566667     6400\n",
              "9716  ZANAHORIA   Valencia  2020     11    0.461111     6375\n",
              "\n",
              "[9717 rows x 6 columns]"
            ]
          },
          "metadata": {},
          "execution_count": 171
        }
      ]
    },
    {
      "cell_type": "markdown",
      "source": [
        "### 4.3 Fusión *consumo_CCAA* + *dat_merca*"
      ],
      "metadata": {
        "id": "08pCZNTOM4Fu"
      }
    },
    {
      "cell_type": "markdown",
      "source": [
        "Para esta fusión, se seguirá la siguiente política: EXPLICAR QUE ESCOGEMOS ANTES LOS PRECIOS Y VOLUMENES DE MERCA Y SI NO ESTAN PUES COGEMOS LOS DE CONSUMO AAAAA"
      ],
      "metadata": {
        "id": "G80uRLLrO3wD"
      }
    },
    {
      "cell_type": "code",
      "source": [
        "# Quitar las columnas que no hacen falta para la fusion con merca\n",
        "consumo_CCAA.drop(labels=['Valor (miles de €)'], axis=1, inplace=True)\n",
        "consumo_CCAA.head()"
      ],
      "metadata": {
        "id": "e2KZEXUAl_PY"
      },
      "execution_count": null,
      "outputs": []
    },
    {
      "cell_type": "code",
      "source": [
        "# PRIMERO SE COMPRUEBA QUE EL PRECIO DE CONSUMO COMUNIDADES Y MERCAS PODRIA POTENCIALMENTE SER EL MIMSO\n",
        "\n",
        "consumo_CCAA.rename(columns={'Producto': 'product', 'Año':'YEAR', 'Mes':'MONTH', 'CCAA':'origen'}, inplace=True)\n",
        "target_data_test = pd.merge(dat_merca_gb, consumo_CCAA, how='inner', on=['product', 'origen', 'YEAR', 'MONTH'])"
      ],
      "metadata": {
        "id": "z-vVXDly_fa4"
      },
      "execution_count": null,
      "outputs": []
    },
    {
      "cell_type": "code",
      "source": [
        "# la diferencia entre el volumen y volumen;  y precio medio y precio para ver la distorsion a ver si podemos asumir que es lo mimso\n",
        "target_data_test"
      ],
      "metadata": {
        "id": "9uq4s6QGARmZ"
      },
      "execution_count": null,
      "outputs": []
    },
    {
      "cell_type": "code",
      "source": [
        "# OH NO, HAY DIFERENSIA TOPE GURDA\n",
        "consumo_CCAA['product'].unique()"
      ],
      "metadata": {
        "id": "q9s19Ue1AR2K"
      },
      "execution_count": null,
      "outputs": []
    },
    {
      "cell_type": "code",
      "source": [
        "dat_merca_gb['product'].unique()"
      ],
      "metadata": {
        "id": "BXcl4vLpAkuV"
      },
      "execution_count": null,
      "outputs": []
    },
    {
      "cell_type": "code",
      "source": [
        "# Fusionar dat_merca + consumo\n",
        "# Renombrar para que tengan el mismo nombre y poder hacer el merge\n",
        "#consumo_CCAA.rename(columns={'Producto': 'product', 'Año':'YEAR', 'Mes':'MONTH', 'CCAA':'origen'}, inplace=True)\n",
        "target_data = pd.merge(dat_merca_gb, consumo_CCAA, how='outer', on=['product', 'origen', 'YEAR', 'MONTH'])\n"
      ],
      "metadata": {
        "id": "7lb3IJ6jo4UU"
      },
      "execution_count": null,
      "outputs": []
    },
    {
      "cell_type": "code",
      "source": [
        "target_data"
      ],
      "metadata": {
        "id": "RTQtP2NNyxz_"
      },
      "execution_count": null,
      "outputs": []
    },
    {
      "cell_type": "code",
      "source": [
        "# Nulos del resultado :(\n",
        "# Utilizar los valores del otro dataframe si en precio o volumen de alguno es nulo\n",
        "for index, row in target_data.iterrows():\n",
        "  if np.isnan(row['price_mean']):\n",
        "    target_data.at[index, 'price_mean'] =  row['Precio medio kg']\n",
        "\n",
        "  if np.isnan(row['Volumen']):\n",
        "    target_data.at[index, 'Volumen'] =  row['Volumen (miles de kg)']\n",
        "\n"
      ],
      "metadata": {
        "id": "TvvH-m5Ll_X_"
      },
      "execution_count": null,
      "outputs": []
    },
    {
      "cell_type": "code",
      "source": [
        "target_data.drop(labels=['Volumen (miles de kg)', 'Precio medio kg'], axis=1, inplace=True)\n",
        "target_data"
      ],
      "metadata": {
        "id": "GzjLGlwl6zo5"
      },
      "execution_count": null,
      "outputs": []
    },
    {
      "cell_type": "code",
      "source": [
        "# Seguimos con nulos en penetracion y demas????????\n",
        "target_data"
      ],
      "metadata": {
        "id": "iPEsMGSC9Oqu"
      },
      "execution_count": null,
      "outputs": []
    },
    {
      "cell_type": "markdown",
      "source": [
        "### 4.4 Transformación *aemet*"
      ],
      "metadata": {
        "id": "J8qaS57KNDQ0"
      }
    },
    {
      "cell_type": "markdown",
      "source": [
        "Para la transformación de *aemet*, primero se agrupará por comunidad autónoma, año y mes, puesto que había filas con esos tres elementos repetidos a causa de la normalización de 3.3, donde el nombre de la provincia se sustituyó por el nombre de su comunidad autónoma."
      ],
      "metadata": {
        "id": "cX824UEaPPo-"
      }
    },
    {
      "cell_type": "code",
      "metadata": {
        "id": "-E5wyL08eTy6"
      },
      "source": [
        "aemet_gb = aemet.groupby(['CCAA', 'Año', 'Mes'], as_index=False).mean()\n",
        "aemet_gb"
      ],
      "execution_count": null,
      "outputs": []
    },
    {
      "cell_type": "markdown",
      "source": [
        "Tras esto, se va a discretizar el valor de las temperaturas y las precipitaciones, para mayor comodidad y distinción de regiones más o menos lluviosas y cálidas.  \n",
        "Se probará con las estrategias *uniform*, *quantile* y *kmeans*."
      ],
      "metadata": {
        "id": "mlvkmkVuQeiK"
      }
    },
    {
      "cell_type": "code",
      "metadata": {
        "id": "DoX_jqJPqNK0"
      },
      "source": [
        "# Precipitacion\n",
        "from sklearn.preprocessing import KBinsDiscretizer\n",
        "#strategies: uniform, quantile, kmeans\n",
        "\n",
        "results_precip  = []\n",
        "\n",
        "for strategy in ['uniform', 'quantile', 'kmeans']:\n",
        "  enc = KBinsDiscretizer(n_bins=5, encode='ordinal', strategy=strategy)\n",
        "  aemet_gb['Precipitacion_'+strategy] = enc.fit_transform(aemet_gb[['Precipitación 00-24h (mm)']])\n",
        "  results_precip.append(aemet_gb.groupby(['Precipitacion_'+strategy])['Precipitación 00-24h (mm)'].mean())\n",
        " \n",
        "results_precip\n"
      ],
      "execution_count": null,
      "outputs": []
    },
    {
      "cell_type": "code",
      "metadata": {
        "id": "bkLSmXBLu40T"
      },
      "source": [
        "# Temperatura\n",
        "from sklearn.preprocessing import KBinsDiscretizer\n",
        "#strategies: uniform, quantile, kmeans\n",
        "\n",
        "results  = []\n",
        "\n",
        "for strategy in ['uniform', 'quantile', 'kmeans']:\n",
        "  enc = KBinsDiscretizer(n_bins=5, encode='ordinal', strategy=strategy)\n",
        "  aemet_gb['Temperatura_'+strategy] = enc.fit_transform(aemet_gb[['Temperatura media (ºC)']])\n",
        "  results.append(aemet_gb.groupby(['Temperatura_'+strategy])['Temperatura media (ºC)'].mean())\n",
        " \n",
        "results"
      ],
      "execution_count": null,
      "outputs": []
    },
    {
      "cell_type": "markdown",
      "source": [
        "Ante estos resultados, se ha escogido la estrategia *_______________________* para el resultado final, puesto que   \n",
        "Así, se descartan las columnas de los otros dos."
      ],
      "metadata": {
        "id": "auaMF06tRFEK"
      }
    },
    {
      "cell_type": "code",
      "metadata": {
        "id": "t0lAfbVwtxgC"
      },
      "source": [
        "# quedarnos solo con quantiles\n",
        "aemet_gb.drop(labels=['Precipitacion_uniform', 'Precipitacion_kmeans'], axis=1, inplace=True)"
      ],
      "execution_count": null,
      "outputs": []
    },
    {
      "cell_type": "code",
      "source": [
        "aemet_gb.drop(labels=['Temperatura_uniform', 'Temperatura_kmeans'], axis=1,  inplace=True)"
      ],
      "metadata": {
        "id": "SYKkxg43k854"
      },
      "execution_count": null,
      "outputs": []
    },
    {
      "cell_type": "code",
      "source": [
        "aemet_gb.drop(labels=['Temperatura media (ºC)', 'Precipitación 00-24h (mm)'], axis=1,  inplace=True)\n",
        "aemet_gb.rename(columns={'Precipitacion_quantile': 'Precipitacion_group', 'Temperatura_quantile': 'Temperatura_group'}, inplace=True)\n",
        "aemet_gb.head()"
      ],
      "metadata": {
        "id": "KkbeLkbVlXqX"
      },
      "execution_count": null,
      "outputs": []
    },
    {
      "cell_type": "markdown",
      "source": [
        "### 4.5 Fusión *aemet* + *target_data*"
      ],
      "metadata": {
        "id": "8b8H6OxxNL-K"
      }
    },
    {
      "cell_type": "code",
      "source": [
        "# Procedemos a fusionar target_data + aemet\n",
        "aemet_gb.rename(columns={'Año':'YEAR', 'Mes':'MONTH', 'CCAA':'origen'}, inplace=True)\n",
        "target_data = pd.merge(target_data, aemet_gb, how='left', on=['origen', 'YEAR', 'MONTH'])\n"
      ],
      "metadata": {
        "id": "QKbkQZPE_BKe"
      },
      "execution_count": null,
      "outputs": []
    },
    {
      "cell_type": "code",
      "source": [
        "target_data"
      ],
      "metadata": {
        "id": "FP1rvydbBSIW"
      },
      "execution_count": null,
      "outputs": []
    },
    {
      "cell_type": "markdown",
      "source": [
        "### 4.6 Fusión *calendario_siembra* + *riegos_temp_cultivos*"
      ],
      "metadata": {
        "id": "ZNakO-EwNYNH"
      }
    },
    {
      "cell_type": "code",
      "source": [
        "# Fusionar riegos_temp_cutivos + calendario\n",
        "calendario_riegos_temp = pd.merge(calendario_siembra, riegos_temp_cultivos, how='left', on=['Cultivo'])\n",
        "calendario_riegos_temp"
      ],
      "metadata": {
        "id": "YT4MOdYoBfXN"
      },
      "execution_count": null,
      "outputs": []
    },
    {
      "cell_type": "markdown",
      "source": [
        "### 4.7 Obtención de la tarjeta de datos"
      ],
      "metadata": {
        "id": "BZb-dK2qNnGT"
      }
    },
    {
      "cell_type": "code",
      "source": [
        "# Empezar a fusionar lo gordaco\n",
        "\n",
        "target_data = pd.merge(target_data, calendario_riegos_temp, how='left', left_on=['product'], right_on=['Cultivo'])"
      ],
      "metadata": {
        "id": "RlGCW-P6RHeO"
      },
      "execution_count": null,
      "outputs": []
    },
    {
      "cell_type": "code",
      "source": [
        "target_data"
      ],
      "metadata": {
        "id": "p_g55XZ4SSMa"
      },
      "execution_count": null,
      "outputs": []
    },
    {
      "cell_type": "code",
      "source": [
        "for index, row in target_data.iterrows():\n",
        "  target_data.at[index, 'distancia_mes_inicio_siem'] =  row['MONTH'] - row['Inicio'] \n",
        "  target_data.at[index, 'distancia_mes_fin_siem'] =  row['MONTH'] - row['Fin'] if row['Inicio'] < row['Fin'] else row['MONTH'] - row['Fin'] - 12\n",
        "\n"
      ],
      "metadata": {
        "id": "uSWO6pC9Sv2O"
      },
      "execution_count": null,
      "outputs": []
    },
    {
      "cell_type": "code",
      "source": [
        "target_data.drop(labels=['Cultivo', 'Inicio', 'Fin' ], axis=1, inplace=True)"
      ],
      "metadata": {
        "id": "iksN9943VEDK"
      },
      "execution_count": null,
      "outputs": []
    },
    {
      "cell_type": "code",
      "source": [
        "target_data"
      ],
      "metadata": {
        "id": "VIhCXlQMW86m"
      },
      "execution_count": null,
      "outputs": []
    },
    {
      "cell_type": "code",
      "source": [
        "target_data.drop(labels=['Min siem-recol', 'Max siem-recol'], axis=1, inplace=True)"
      ],
      "metadata": {
        "id": "VXy1lwAV9bvk"
      },
      "execution_count": null,
      "outputs": []
    },
    {
      "cell_type": "code",
      "source": [
        "target_data.head()"
      ],
      "metadata": {
        "id": "nn53Dx-l9tgD"
      },
      "execution_count": null,
      "outputs": []
    },
    {
      "cell_type": "code",
      "source": [
        "# Ver nulos y tal"
      ],
      "metadata": {
        "id": "BGSDptef94UX"
      },
      "execution_count": null,
      "outputs": []
    },
    {
      "cell_type": "code",
      "source": [
        "# "
      ],
      "metadata": {
        "id": "bG-wJX1L96Di"
      },
      "execution_count": null,
      "outputs": []
    }
  ]
}