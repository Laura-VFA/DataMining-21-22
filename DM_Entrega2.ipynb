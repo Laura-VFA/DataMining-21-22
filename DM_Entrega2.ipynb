{
  "nbformat": 4,
  "nbformat_minor": 0,
  "metadata": {
    "colab": {
      "name": "DM-Entrega2.ipynb",
      "provenance": [],
      "collapsed_sections": [],
      "toc_visible": true,
      "authorship_tag": "ABX9TyO2wdZ7acxkD0NMwUlRMLQR",
      "include_colab_link": true
    },
    "kernelspec": {
      "name": "python3",
      "display_name": "Python 3"
    },
    "language_info": {
      "name": "python"
    }
  },
  "cells": [
    {
      "cell_type": "markdown",
      "metadata": {
        "id": "view-in-github",
        "colab_type": "text"
      },
      "source": [
        "<a href=\"https://colab.research.google.com/github/Laura-VFA/DataMining-21-22/blob/main/DM_Entrega2.ipynb\" target=\"_parent\"><img src=\"https://colab.research.google.com/assets/colab-badge.svg\" alt=\"Open In Colab\"/></a>"
      ]
    },
    {
      "cell_type": "markdown",
      "metadata": {
        "id": "Ay42tlQhVbsK"
      },
      "source": [
        "# Minería de Datos\n",
        "## Preproceso y Transformación"
      ]
    },
    {
      "cell_type": "markdown",
      "metadata": {
        "id": "t08Ym4Qi--IY"
      },
      "source": [
        "## 1. Recopilación de datasets necesarios"
      ]
    },
    {
      "cell_type": "code",
      "metadata": {
        "colab": {
          "base_uri": "https://localhost:8080/"
        },
        "id": "njH4snxtVa4R",
        "outputId": "f0715349-8b6c-4844-859a-c049db1e19cf"
      },
      "source": [
        "!rm *.*\n",
        "\n",
        "!wget https://raw.githubusercontent.com/Laura-VFA/DataMining-21-22/main/Datasets/Dataset1.-%20DatosConsumoAlimentarioMAPAporCCAA.txt \n",
        "!wget https://raw.githubusercontent.com/Laura-VFA/DataMining-21-22/main/Datasets/Dataset2.-%20Precios%20Semanales%20Observatorio%20de%20Precios%20Junta%20de%20Andalucia.txt \n",
        "!wget https://raw.githubusercontent.com/Laura-VFA/DataMining-21-22/main/Datasets/Dataset3a_Datos_MercaMadrid.txt \n",
        "!wget https://raw.githubusercontent.com/Laura-VFA/DataMining-21-22/main/Datasets/Dataset3b_Datos_MercaBarna.txt\n",
        "\n",
        "#!wget https://raw.githubusercontent.com/Laura-VFA/DataMining-21-22/main/Datasets/precios_agrarios_enero2019_junio2021.csv\n",
        "!wget https://raw.githubusercontent.com/Laura-VFA/DataMining-21-22/main/Datasets/planificacion_siembra.csv\n",
        "\n",
        "!wget https://raw.githubusercontent.com/Laura-VFA/DataMining-21-22/main/Datasets/Aemet.csv\n",
        "\n",
        "!wget https://raw.githubusercontent.com/Laura-VFA/DataMining-21-22/main/Dicts/ccaa_names.json\n",
        "!wget https://raw.githubusercontent.com/Laura-VFA/DataMining-21-22/main/Dicts/cultivos_names.json\n",
        "!wget https://raw.githubusercontent.com/Laura-VFA/DataMining-21-22/main/Dicts/months_season.json\n",
        "\n",
        "!pip install unidecode\n"
      ],
      "execution_count": null,
      "outputs": [
        {
          "output_type": "stream",
          "name": "stdout",
          "text": [
            "--2021-12-06 16:35:47--  https://raw.githubusercontent.com/Laura-VFA/DataMining-21-22/main/Datasets/Dataset1.-%20DatosConsumoAlimentarioMAPAporCCAA.txt\n",
            "Resolving raw.githubusercontent.com (raw.githubusercontent.com)... 185.199.108.133, 185.199.109.133, 185.199.110.133, ...\n",
            "Connecting to raw.githubusercontent.com (raw.githubusercontent.com)|185.199.108.133|:443... connected.\n",
            "HTTP request sent, awaiting response... 200 OK\n",
            "Length: 1885064 (1.8M) [text/plain]\n",
            "Saving to: ‘Dataset1.- DatosConsumoAlimentarioMAPAporCCAA.txt’\n",
            "\n",
            "Dataset1.- DatosCon 100%[===================>]   1.80M  --.-KB/s    in 0.03s   \n",
            "\n",
            "2021-12-06 16:35:47 (67.4 MB/s) - ‘Dataset1.- DatosConsumoAlimentarioMAPAporCCAA.txt’ saved [1885064/1885064]\n",
            "\n",
            "--2021-12-06 16:35:47--  https://raw.githubusercontent.com/Laura-VFA/DataMining-21-22/main/Datasets/Dataset2.-%20Precios%20Semanales%20Observatorio%20de%20Precios%20Junta%20de%20Andalucia.txt\n",
            "Resolving raw.githubusercontent.com (raw.githubusercontent.com)... 185.199.108.133, 185.199.109.133, 185.199.110.133, ...\n",
            "Connecting to raw.githubusercontent.com (raw.githubusercontent.com)|185.199.108.133|:443... connected.\n",
            "HTTP request sent, awaiting response... 200 OK\n",
            "Length: 2481863 (2.4M) [text/plain]\n",
            "Saving to: ‘Dataset2.- Precios Semanales Observatorio de Precios Junta de Andalucia.txt’\n",
            "\n",
            "Dataset2.- Precios  100%[===================>]   2.37M  --.-KB/s    in 0.03s   \n",
            "\n",
            "2021-12-06 16:35:48 (78.6 MB/s) - ‘Dataset2.- Precios Semanales Observatorio de Precios Junta de Andalucia.txt’ saved [2481863/2481863]\n",
            "\n",
            "--2021-12-06 16:35:48--  https://raw.githubusercontent.com/Laura-VFA/DataMining-21-22/main/Datasets/Dataset3a_Datos_MercaMadrid.txt\n",
            "Resolving raw.githubusercontent.com (raw.githubusercontent.com)... 185.199.108.133, 185.199.109.133, 185.199.110.133, ...\n",
            "Connecting to raw.githubusercontent.com (raw.githubusercontent.com)|185.199.108.133|:443... connected.\n",
            "HTTP request sent, awaiting response... 200 OK\n",
            "Length: 5018905 (4.8M) [text/plain]\n",
            "Saving to: ‘Dataset3a_Datos_MercaMadrid.txt’\n",
            "\n",
            "Dataset3a_Datos_Mer 100%[===================>]   4.79M  --.-KB/s    in 0.05s   \n",
            "\n",
            "2021-12-06 16:35:48 (98.9 MB/s) - ‘Dataset3a_Datos_MercaMadrid.txt’ saved [5018905/5018905]\n",
            "\n",
            "--2021-12-06 16:35:48--  https://raw.githubusercontent.com/Laura-VFA/DataMining-21-22/main/Datasets/Dataset3b_Datos_MercaBarna.txt\n",
            "Resolving raw.githubusercontent.com (raw.githubusercontent.com)... 185.199.108.133, 185.199.109.133, 185.199.110.133, ...\n",
            "Connecting to raw.githubusercontent.com (raw.githubusercontent.com)|185.199.108.133|:443... connected.\n",
            "HTTP request sent, awaiting response... 200 OK\n",
            "Length: 2621190 (2.5M) [text/plain]\n",
            "Saving to: ‘Dataset3b_Datos_MercaBarna.txt’\n",
            "\n",
            "Dataset3b_Datos_Mer 100%[===================>]   2.50M  --.-KB/s    in 0.03s   \n",
            "\n",
            "2021-12-06 16:35:48 (79.5 MB/s) - ‘Dataset3b_Datos_MercaBarna.txt’ saved [2621190/2621190]\n",
            "\n",
            "--2021-12-06 16:35:49--  https://raw.githubusercontent.com/Laura-VFA/DataMining-21-22/main/Datasets/planificacion_siembra.csv\n",
            "Resolving raw.githubusercontent.com (raw.githubusercontent.com)... 185.199.108.133, 185.199.109.133, 185.199.110.133, ...\n",
            "Connecting to raw.githubusercontent.com (raw.githubusercontent.com)|185.199.108.133|:443... connected.\n",
            "HTTP request sent, awaiting response... 200 OK\n",
            "Length: 6363 (6.2K) [text/plain]\n",
            "Saving to: ‘planificacion_siembra.csv’\n",
            "\n",
            "planificacion_siemb 100%[===================>]   6.21K  --.-KB/s    in 0s      \n",
            "\n",
            "2021-12-06 16:35:49 (80.3 MB/s) - ‘planificacion_siembra.csv’ saved [6363/6363]\n",
            "\n",
            "--2021-12-06 16:35:49--  https://raw.githubusercontent.com/Laura-VFA/DataMining-21-22/main/Datasets/Aemet.csv\n",
            "Resolving raw.githubusercontent.com (raw.githubusercontent.com)... 185.199.108.133, 185.199.109.133, 185.199.110.133, ...\n",
            "Connecting to raw.githubusercontent.com (raw.githubusercontent.com)|185.199.108.133|:443... connected.\n",
            "HTTP request sent, awaiting response... 200 OK\n",
            "Length: 98538828 (94M) [text/plain]\n",
            "Saving to: ‘Aemet.csv’\n",
            "\n",
            "Aemet.csv           100%[===================>]  93.97M   163MB/s    in 0.6s    \n",
            "\n",
            "2021-12-06 16:35:50 (163 MB/s) - ‘Aemet.csv’ saved [98538828/98538828]\n",
            "\n",
            "--2021-12-06 16:35:50--  https://raw.githubusercontent.com/Laura-VFA/DataMining-21-22/main/Dicts/ccaa_names.json\n",
            "Resolving raw.githubusercontent.com (raw.githubusercontent.com)... 185.199.108.133, 185.199.109.133, 185.199.110.133, ...\n",
            "Connecting to raw.githubusercontent.com (raw.githubusercontent.com)|185.199.108.133|:443... connected.\n",
            "HTTP request sent, awaiting response... 200 OK\n",
            "Length: 2852 (2.8K) [text/plain]\n",
            "Saving to: ‘ccaa_names.json’\n",
            "\n",
            "ccaa_names.json     100%[===================>]   2.79K  --.-KB/s    in 0s      \n",
            "\n",
            "2021-12-06 16:35:50 (31.9 MB/s) - ‘ccaa_names.json’ saved [2852/2852]\n",
            "\n",
            "--2021-12-06 16:35:50--  https://raw.githubusercontent.com/Laura-VFA/DataMining-21-22/main/Dicts/cultivos_names.json\n",
            "Resolving raw.githubusercontent.com (raw.githubusercontent.com)... 185.199.108.133, 185.199.111.133, 185.199.109.133, ...\n",
            "Connecting to raw.githubusercontent.com (raw.githubusercontent.com)|185.199.108.133|:443... connected.\n",
            "HTTP request sent, awaiting response... 200 OK\n",
            "Length: 3199 (3.1K) [text/plain]\n",
            "Saving to: ‘cultivos_names.json’\n",
            "\n",
            "cultivos_names.json 100%[===================>]   3.12K  --.-KB/s    in 0s      \n",
            "\n",
            "2021-12-06 16:35:50 (42.6 MB/s) - ‘cultivos_names.json’ saved [3199/3199]\n",
            "\n",
            "--2021-12-06 16:35:50--  https://raw.githubusercontent.com/Laura-VFA/DataMining-21-22/main/Dicts/months_season.json\n",
            "Resolving raw.githubusercontent.com (raw.githubusercontent.com)... 185.199.108.133, 185.199.109.133, 185.199.110.133, ...\n",
            "Connecting to raw.githubusercontent.com (raw.githubusercontent.com)|185.199.108.133|:443... connected.\n",
            "HTTP request sent, awaiting response... 200 OK\n",
            "Length: 395 [text/plain]\n",
            "Saving to: ‘months_season.json’\n",
            "\n",
            "months_season.json  100%[===================>]     395  --.-KB/s    in 0s      \n",
            "\n",
            "2021-12-06 16:35:51 (24.2 MB/s) - ‘months_season.json’ saved [395/395]\n",
            "\n",
            "Requirement already satisfied: unidecode in /usr/local/lib/python3.7/dist-packages (1.3.2)\n"
          ]
        }
      ]
    },
    {
      "cell_type": "code",
      "metadata": {
        "colab": {
          "base_uri": "https://localhost:8080/",
          "height": 625
        },
        "id": "MIws5yBDzRM3",
        "outputId": "6866d4ea-ec4a-4983-c783-12e07813324a"
      },
      "source": [
        "import pandas\n",
        "\n",
        "calendario_siembra = pandas.read_csv('planificacion_siembra.csv', sep=';')\n",
        "calendario_siembra.head()\n"
      ],
      "execution_count": null,
      "outputs": [
        {
          "output_type": "execute_result",
          "data": {
            "text/html": [
              "<div>\n",
              "<style scoped>\n",
              "    .dataframe tbody tr th:only-of-type {\n",
              "        vertical-align: middle;\n",
              "    }\n",
              "\n",
              "    .dataframe tbody tr th {\n",
              "        vertical-align: top;\n",
              "    }\n",
              "\n",
              "    .dataframe thead th {\n",
              "        text-align: right;\n",
              "    }\n",
              "</style>\n",
              "<table border=\"1\" class=\"dataframe\">\n",
              "  <thead>\n",
              "    <tr style=\"text-align: right;\">\n",
              "      <th></th>\n",
              "      <th>Cultivo</th>\n",
              "      <th>Familia</th>\n",
              "      <th>Aprovecha</th>\n",
              "      <th>Epoca siemb</th>\n",
              "      <th>Asociac</th>\n",
              "      <th>Rotaciones</th>\n",
              "      <th>D siem-recol</th>\n",
              "      <th>ene</th>\n",
              "      <th>ene.1</th>\n",
              "      <th>feb</th>\n",
              "      <th>feb.1</th>\n",
              "      <th>mar</th>\n",
              "      <th>mar.1</th>\n",
              "      <th>abr</th>\n",
              "      <th>abr.1</th>\n",
              "      <th>may</th>\n",
              "      <th>may.1</th>\n",
              "      <th>jun</th>\n",
              "      <th>jun.1</th>\n",
              "      <th>jul</th>\n",
              "      <th>jul.1</th>\n",
              "      <th>ago</th>\n",
              "      <th>ago.1</th>\n",
              "      <th>sep</th>\n",
              "      <th>sep.1</th>\n",
              "      <th>oct</th>\n",
              "      <th>oct.1</th>\n",
              "      <th>nov</th>\n",
              "      <th>nov.1</th>\n",
              "      <th>dic</th>\n",
              "      <th>dic.1</th>\n",
              "    </tr>\n",
              "  </thead>\n",
              "  <tbody>\n",
              "    <tr>\n",
              "      <th>0</th>\n",
              "      <td>ACELGA</td>\n",
              "      <td>Quenopodiáceas</td>\n",
              "      <td>hoja</td>\n",
              "      <td>Otoño-Primav</td>\n",
              "      <td>judias, zanahorias, nabos y rabanos</td>\n",
              "      <td>2 años</td>\n",
              "      <td>90</td>\n",
              "      <td>C</td>\n",
              "      <td>SC</td>\n",
              "      <td>SC</td>\n",
              "      <td>SC</td>\n",
              "      <td>STC</td>\n",
              "      <td>STC</td>\n",
              "      <td>STC</td>\n",
              "      <td>STC</td>\n",
              "      <td>STC</td>\n",
              "      <td>STC</td>\n",
              "      <td>STC</td>\n",
              "      <td>STC</td>\n",
              "      <td>STC</td>\n",
              "      <td>STC</td>\n",
              "      <td>C</td>\n",
              "      <td>C</td>\n",
              "      <td>C</td>\n",
              "      <td>C</td>\n",
              "      <td>C</td>\n",
              "      <td>C</td>\n",
              "      <td>C</td>\n",
              "      <td>C</td>\n",
              "      <td>C</td>\n",
              "      <td>C</td>\n",
              "    </tr>\n",
              "    <tr>\n",
              "      <th>1</th>\n",
              "      <td>AJO</td>\n",
              "      <td>Liliáceas</td>\n",
              "      <td>bulbo</td>\n",
              "      <td>Otoño-Invierno</td>\n",
              "      <td>fresas, remolacha, patata, lechuga, tomate, hi...</td>\n",
              "      <td>2 años</td>\n",
              "      <td>60-120</td>\n",
              "      <td>S</td>\n",
              "      <td>S</td>\n",
              "      <td>S</td>\n",
              "      <td>S</td>\n",
              "      <td>NaN</td>\n",
              "      <td>NaN</td>\n",
              "      <td>C</td>\n",
              "      <td>C</td>\n",
              "      <td>C</td>\n",
              "      <td>C</td>\n",
              "      <td>C</td>\n",
              "      <td>C</td>\n",
              "      <td>C</td>\n",
              "      <td>C</td>\n",
              "      <td>C</td>\n",
              "      <td>NaN</td>\n",
              "      <td>NaN</td>\n",
              "      <td>NaN</td>\n",
              "      <td>S</td>\n",
              "      <td>S</td>\n",
              "      <td>S</td>\n",
              "      <td>S</td>\n",
              "      <td>NaN</td>\n",
              "      <td>NaN</td>\n",
              "    </tr>\n",
              "    <tr>\n",
              "      <th>2</th>\n",
              "      <td>ALCACHOFA</td>\n",
              "      <td>Compuestas</td>\n",
              "      <td>infloresc</td>\n",
              "      <td>Primav</td>\n",
              "      <td>lechuga, col, cebolla, haba, guisante</td>\n",
              "      <td>5 años</td>\n",
              "      <td>90-120</td>\n",
              "      <td>C</td>\n",
              "      <td>C</td>\n",
              "      <td>C</td>\n",
              "      <td>C</td>\n",
              "      <td>C</td>\n",
              "      <td>C</td>\n",
              "      <td>NaN</td>\n",
              "      <td>NaN</td>\n",
              "      <td>NaN</td>\n",
              "      <td>NaN</td>\n",
              "      <td>NaN</td>\n",
              "      <td>NaN</td>\n",
              "      <td>T</td>\n",
              "      <td>T</td>\n",
              "      <td>T</td>\n",
              "      <td>T</td>\n",
              "      <td>T</td>\n",
              "      <td>T</td>\n",
              "      <td>NaN</td>\n",
              "      <td>NaN</td>\n",
              "      <td>C</td>\n",
              "      <td>C</td>\n",
              "      <td>C</td>\n",
              "      <td>C</td>\n",
              "    </tr>\n",
              "    <tr>\n",
              "      <th>3</th>\n",
              "      <td>APIO</td>\n",
              "      <td>Umbrelíferas</td>\n",
              "      <td>hoja</td>\n",
              "      <td>Primav</td>\n",
              "      <td>ajo, cebolla, puerro, maiz, guisante, judia, l...</td>\n",
              "      <td>no hoja</td>\n",
              "      <td>100</td>\n",
              "      <td>C</td>\n",
              "      <td>C</td>\n",
              "      <td>SC</td>\n",
              "      <td>SC</td>\n",
              "      <td>SC</td>\n",
              "      <td>SC</td>\n",
              "      <td>ST</td>\n",
              "      <td>ST</td>\n",
              "      <td>ST</td>\n",
              "      <td>ST</td>\n",
              "      <td>ST</td>\n",
              "      <td>T</td>\n",
              "      <td>T</td>\n",
              "      <td>T</td>\n",
              "      <td>NaN</td>\n",
              "      <td>NaN</td>\n",
              "      <td>NaN</td>\n",
              "      <td>C</td>\n",
              "      <td>C</td>\n",
              "      <td>C</td>\n",
              "      <td>C</td>\n",
              "      <td>C</td>\n",
              "      <td>C</td>\n",
              "      <td>C</td>\n",
              "    </tr>\n",
              "    <tr>\n",
              "      <th>4</th>\n",
              "      <td>BERENJENA</td>\n",
              "      <td>Solenáceas</td>\n",
              "      <td>fruto</td>\n",
              "      <td>Primav</td>\n",
              "      <td>judias, patatas, pimiento, calendula, cañamo</td>\n",
              "      <td>3 años</td>\n",
              "      <td>130</td>\n",
              "      <td>NaN</td>\n",
              "      <td>NaN</td>\n",
              "      <td>NaN</td>\n",
              "      <td>S</td>\n",
              "      <td>S</td>\n",
              "      <td>ST</td>\n",
              "      <td>ST</td>\n",
              "      <td>ST</td>\n",
              "      <td>ST</td>\n",
              "      <td>ST</td>\n",
              "      <td>T</td>\n",
              "      <td>T</td>\n",
              "      <td>TC</td>\n",
              "      <td>C</td>\n",
              "      <td>C</td>\n",
              "      <td>C</td>\n",
              "      <td>C</td>\n",
              "      <td>C</td>\n",
              "      <td>C</td>\n",
              "      <td>C</td>\n",
              "      <td>NaN</td>\n",
              "      <td>NaN</td>\n",
              "      <td>NaN</td>\n",
              "      <td>NaN</td>\n",
              "    </tr>\n",
              "  </tbody>\n",
              "</table>\n",
              "</div>"
            ],
            "text/plain": [
              "     Cultivo         Familia  Aprovecha     Epoca siemb  ...  nov nov.1  dic dic.1\n",
              "0     ACELGA  Quenopodiáceas       hoja    Otoño-Primav  ...    C     C    C     C\n",
              "1        AJO       Liliáceas      bulbo  Otoño-Invierno  ...    S     S  NaN   NaN\n",
              "2  ALCACHOFA      Compuestas  infloresc          Primav  ...    C     C    C     C\n",
              "3       APIO    Umbrelíferas       hoja          Primav  ...    C     C    C     C\n",
              "4  BERENJENA      Solenáceas      fruto          Primav  ...  NaN   NaN  NaN   NaN\n",
              "\n",
              "[5 rows x 31 columns]"
            ]
          },
          "metadata": {},
          "execution_count": 855
        }
      ]
    },
    {
      "cell_type": "code",
      "metadata": {
        "colab": {
          "base_uri": "https://localhost:8080/",
          "height": 328
        },
        "id": "_nOdRshG8IVm",
        "outputId": "d028ca08-96c4-435a-fa26-5164e51c67b8"
      },
      "source": [
        "import pandas\n",
        "\n",
        "consumo_CCAA = pandas.read_csv('Dataset1.- DatosConsumoAlimentarioMAPAporCCAA.txt', sep='|', decimal=',')\n",
        "consumo_CCAA.head()"
      ],
      "execution_count": null,
      "outputs": [
        {
          "output_type": "execute_result",
          "data": {
            "text/html": [
              "<div>\n",
              "<style scoped>\n",
              "    .dataframe tbody tr th:only-of-type {\n",
              "        vertical-align: middle;\n",
              "    }\n",
              "\n",
              "    .dataframe tbody tr th {\n",
              "        vertical-align: top;\n",
              "    }\n",
              "\n",
              "    .dataframe thead th {\n",
              "        text-align: right;\n",
              "    }\n",
              "</style>\n",
              "<table border=\"1\" class=\"dataframe\">\n",
              "  <thead>\n",
              "    <tr style=\"text-align: right;\">\n",
              "      <th></th>\n",
              "      <th>Año</th>\n",
              "      <th>Mes</th>\n",
              "      <th>CCAA</th>\n",
              "      <th>Producto</th>\n",
              "      <th>Volumen (miles de kg)</th>\n",
              "      <th>Valor (miles de €)</th>\n",
              "      <th>Precio medio kg</th>\n",
              "      <th>Penetración (%)</th>\n",
              "      <th>Consumo per capita</th>\n",
              "      <th>Gasto per capita</th>\n",
              "      <th>Unnamed: 10</th>\n",
              "      <th>Unnamed: 11</th>\n",
              "    </tr>\n",
              "  </thead>\n",
              "  <tbody>\n",
              "    <tr>\n",
              "      <th>0</th>\n",
              "      <td>2018</td>\n",
              "      <td>Enero</td>\n",
              "      <td>Total Nacional</td>\n",
              "      <td>TOTAL PATATAS</td>\n",
              "      <td>108430.72</td>\n",
              "      <td>84640.08</td>\n",
              "      <td>0.78</td>\n",
              "      <td>79.40</td>\n",
              "      <td>2.38</td>\n",
              "      <td>1.85</td>\n",
              "      <td>NaN</td>\n",
              "      <td>NaN</td>\n",
              "    </tr>\n",
              "    <tr>\n",
              "      <th>1</th>\n",
              "      <td>2018</td>\n",
              "      <td>Enero</td>\n",
              "      <td>Total Nacional</td>\n",
              "      <td>PATATAS FRESCAS</td>\n",
              "      <td>79445.66</td>\n",
              "      <td>54688.29</td>\n",
              "      <td>0.69</td>\n",
              "      <td>68.46</td>\n",
              "      <td>1.74</td>\n",
              "      <td>1.20</td>\n",
              "      <td>NaN</td>\n",
              "      <td>NaN</td>\n",
              "    </tr>\n",
              "    <tr>\n",
              "      <th>2</th>\n",
              "      <td>2018</td>\n",
              "      <td>Enero</td>\n",
              "      <td>Total Nacional</td>\n",
              "      <td>PATATAS CONGELADAS</td>\n",
              "      <td>3999.90</td>\n",
              "      <td>4857.79</td>\n",
              "      <td>1.21</td>\n",
              "      <td>12.06</td>\n",
              "      <td>0.09</td>\n",
              "      <td>0.11</td>\n",
              "      <td>NaN</td>\n",
              "      <td>NaN</td>\n",
              "    </tr>\n",
              "    <tr>\n",
              "      <th>3</th>\n",
              "      <td>2018</td>\n",
              "      <td>Enero</td>\n",
              "      <td>Total Nacional</td>\n",
              "      <td>PATATAS PROCESADAS</td>\n",
              "      <td>4997.03</td>\n",
              "      <td>25094.00</td>\n",
              "      <td>5.02</td>\n",
              "      <td>45.94</td>\n",
              "      <td>0.11</td>\n",
              "      <td>0.55</td>\n",
              "      <td>NaN</td>\n",
              "      <td>NaN</td>\n",
              "    </tr>\n",
              "    <tr>\n",
              "      <th>4</th>\n",
              "      <td>2018</td>\n",
              "      <td>Enero</td>\n",
              "      <td>Total Nacional</td>\n",
              "      <td>T.HORTALIZAS FRESCAS</td>\n",
              "      <td>209957.24</td>\n",
              "      <td>376688.56</td>\n",
              "      <td>1.79</td>\n",
              "      <td>97.27</td>\n",
              "      <td>4.60</td>\n",
              "      <td>8.25</td>\n",
              "      <td>NaN</td>\n",
              "      <td>NaN</td>\n",
              "    </tr>\n",
              "  </tbody>\n",
              "</table>\n",
              "</div>"
            ],
            "text/plain": [
              "    Año    Mes            CCAA  ... Gasto per capita  Unnamed: 10  Unnamed: 11\n",
              "0  2018  Enero  Total Nacional  ...             1.85          NaN          NaN\n",
              "1  2018  Enero  Total Nacional  ...             1.20          NaN          NaN\n",
              "2  2018  Enero  Total Nacional  ...             0.11          NaN          NaN\n",
              "3  2018  Enero  Total Nacional  ...             0.55          NaN          NaN\n",
              "4  2018  Enero  Total Nacional  ...             8.25          NaN          NaN\n",
              "\n",
              "[5 rows x 12 columns]"
            ]
          },
          "metadata": {},
          "execution_count": 856
        }
      ]
    },
    {
      "cell_type": "code",
      "metadata": {
        "colab": {
          "base_uri": "https://localhost:8080/",
          "height": 244
        },
        "id": "0yArYiK38IiD",
        "outputId": "1f90f32b-d6cf-42cc-8ccf-01d617b1da59"
      },
      "source": [
        "import pandas\n",
        "\n",
        "precios_JAndalucia = pandas.read_csv('Dataset2.- Precios Semanales Observatorio de Precios Junta de Andalucia.txt', sep='|', decimal=',')\n",
        "precios_JAndalucia.head()"
      ],
      "execution_count": null,
      "outputs": [
        {
          "output_type": "execute_result",
          "data": {
            "text/html": [
              "<div>\n",
              "<style scoped>\n",
              "    .dataframe tbody tr th:only-of-type {\n",
              "        vertical-align: middle;\n",
              "    }\n",
              "\n",
              "    .dataframe tbody tr th {\n",
              "        vertical-align: top;\n",
              "    }\n",
              "\n",
              "    .dataframe thead th {\n",
              "        text-align: right;\n",
              "    }\n",
              "</style>\n",
              "<table border=\"1\" class=\"dataframe\">\n",
              "  <thead>\n",
              "    <tr style=\"text-align: right;\">\n",
              "      <th></th>\n",
              "      <th>INICIO</th>\n",
              "      <th>FIN</th>\n",
              "      <th>GRUPO</th>\n",
              "      <th>SECTOR</th>\n",
              "      <th>SUBSECTOR</th>\n",
              "      <th>PRODUCTO</th>\n",
              "      <th>TIPO</th>\n",
              "      <th>SUBTIPO</th>\n",
              "      <th>POSICION</th>\n",
              "      <th>CATEGORIA</th>\n",
              "      <th>FORMATO</th>\n",
              "      <th>PRECIO</th>\n",
              "      <th>UNIDAD</th>\n",
              "    </tr>\n",
              "  </thead>\n",
              "  <tbody>\n",
              "    <tr>\n",
              "      <th>0</th>\n",
              "      <td>01/01/2018</td>\n",
              "      <td>07/01/2018</td>\n",
              "      <td>Agrícola</td>\n",
              "      <td>Frutales</td>\n",
              "      <td>Citricos</td>\n",
              "      <td>LIMON</td>\n",
              "      <td>NaN</td>\n",
              "      <td>NaN</td>\n",
              "      <td>Mercas</td>\n",
              "      <td>NaN</td>\n",
              "      <td>NaN</td>\n",
              "      <td>0.92</td>\n",
              "      <td>Euros/kg</td>\n",
              "    </tr>\n",
              "    <tr>\n",
              "      <th>1</th>\n",
              "      <td>01/01/2018</td>\n",
              "      <td>07/01/2018</td>\n",
              "      <td>Agrícola</td>\n",
              "      <td>Frutales</td>\n",
              "      <td>Citricos</td>\n",
              "      <td>MANDARINA</td>\n",
              "      <td>NaN</td>\n",
              "      <td>NaN</td>\n",
              "      <td>Mercas</td>\n",
              "      <td>NaN</td>\n",
              "      <td>NaN</td>\n",
              "      <td>0.84</td>\n",
              "      <td>Euros/kg</td>\n",
              "    </tr>\n",
              "    <tr>\n",
              "      <th>2</th>\n",
              "      <td>01/01/2018</td>\n",
              "      <td>07/01/2018</td>\n",
              "      <td>Agrícola</td>\n",
              "      <td>Frutales</td>\n",
              "      <td>Citricos</td>\n",
              "      <td>NARANJA</td>\n",
              "      <td>NaN</td>\n",
              "      <td>NaN</td>\n",
              "      <td>Mercas</td>\n",
              "      <td>NaN</td>\n",
              "      <td>NaN</td>\n",
              "      <td>0.78</td>\n",
              "      <td>Euros/kg</td>\n",
              "    </tr>\n",
              "    <tr>\n",
              "      <th>3</th>\n",
              "      <td>01/01/2018</td>\n",
              "      <td>07/01/2018</td>\n",
              "      <td>Agrícola</td>\n",
              "      <td>Frutales</td>\n",
              "      <td>Citricos</td>\n",
              "      <td>POMELO</td>\n",
              "      <td>NaN</td>\n",
              "      <td>NaN</td>\n",
              "      <td>Mercas</td>\n",
              "      <td>NaN</td>\n",
              "      <td>NaN</td>\n",
              "      <td>1.01</td>\n",
              "      <td>Euros/kg</td>\n",
              "    </tr>\n",
              "    <tr>\n",
              "      <th>4</th>\n",
              "      <td>01/01/2018</td>\n",
              "      <td>07/01/2018</td>\n",
              "      <td>Agrícola</td>\n",
              "      <td>Frutales</td>\n",
              "      <td>Frutales no cítricos</td>\n",
              "      <td>AGUACATE</td>\n",
              "      <td>NaN</td>\n",
              "      <td>NaN</td>\n",
              "      <td>Mercas</td>\n",
              "      <td>NaN</td>\n",
              "      <td>NaN</td>\n",
              "      <td>3.77</td>\n",
              "      <td>Euros/kg</td>\n",
              "    </tr>\n",
              "  </tbody>\n",
              "</table>\n",
              "</div>"
            ],
            "text/plain": [
              "       INICIO         FIN     GRUPO  ... FORMATO PRECIO    UNIDAD\n",
              "0  01/01/2018  07/01/2018  Agrícola  ...     NaN   0.92  Euros/kg\n",
              "1  01/01/2018  07/01/2018  Agrícola  ...     NaN   0.84  Euros/kg\n",
              "2  01/01/2018  07/01/2018  Agrícola  ...     NaN   0.78  Euros/kg\n",
              "3  01/01/2018  07/01/2018  Agrícola  ...     NaN   1.01  Euros/kg\n",
              "4  01/01/2018  07/01/2018  Agrícola  ...     NaN   3.77  Euros/kg\n",
              "\n",
              "[5 rows x 13 columns]"
            ]
          },
          "metadata": {},
          "execution_count": 857
        }
      ]
    },
    {
      "cell_type": "code",
      "metadata": {
        "colab": {
          "base_uri": "https://localhost:8080/",
          "height": 206
        },
        "id": "S1WciXLD8Il5",
        "outputId": "1520a4c1-5298-4f79-faae-dd6ec89a46b2"
      },
      "source": [
        "import pandas\n",
        "\n",
        "dat_mercaMadrid = pandas.read_csv('Dataset3a_Datos_MercaMadrid.txt', sep='|', decimal=',')\n",
        "dat_mercaMadrid.head()"
      ],
      "execution_count": null,
      "outputs": [
        {
          "output_type": "execute_result",
          "data": {
            "text/html": [
              "<div>\n",
              "<style scoped>\n",
              "    .dataframe tbody tr th:only-of-type {\n",
              "        vertical-align: middle;\n",
              "    }\n",
              "\n",
              "    .dataframe tbody tr th {\n",
              "        vertical-align: top;\n",
              "    }\n",
              "\n",
              "    .dataframe thead th {\n",
              "        text-align: right;\n",
              "    }\n",
              "</style>\n",
              "<table border=\"1\" class=\"dataframe\">\n",
              "  <thead>\n",
              "    <tr style=\"text-align: right;\">\n",
              "      <th></th>\n",
              "      <th>product</th>\n",
              "      <th>variedad</th>\n",
              "      <th>origen</th>\n",
              "      <th>Unidad</th>\n",
              "      <th>familia</th>\n",
              "      <th>YEAR</th>\n",
              "      <th>MONTH</th>\n",
              "      <th>price_mean</th>\n",
              "      <th>price_min</th>\n",
              "      <th>price_max</th>\n",
              "      <th>Volumen</th>\n",
              "    </tr>\n",
              "  </thead>\n",
              "  <tbody>\n",
              "    <tr>\n",
              "      <th>0</th>\n",
              "      <td>ACEITUNAS</td>\n",
              "      <td>ACEITUNAS</td>\n",
              "      <td>ALMERIA</td>\n",
              "      <td>kg</td>\n",
              "      <td>FRUTAS</td>\n",
              "      <td>2018</td>\n",
              "      <td>2</td>\n",
              "      <td>3.46</td>\n",
              "      <td>3.31</td>\n",
              "      <td>3.61</td>\n",
              "      <td>6700</td>\n",
              "    </tr>\n",
              "    <tr>\n",
              "      <th>1</th>\n",
              "      <td>ACEITUNAS</td>\n",
              "      <td>ACEITUNAS</td>\n",
              "      <td>ALMERIA</td>\n",
              "      <td>kg</td>\n",
              "      <td>FRUTAS</td>\n",
              "      <td>2018</td>\n",
              "      <td>4</td>\n",
              "      <td>3.46</td>\n",
              "      <td>3.31</td>\n",
              "      <td>3.61</td>\n",
              "      <td>400</td>\n",
              "    </tr>\n",
              "    <tr>\n",
              "      <th>2</th>\n",
              "      <td>ACEITUNAS</td>\n",
              "      <td>ACEITUNAS</td>\n",
              "      <td>ALMERIA</td>\n",
              "      <td>kg</td>\n",
              "      <td>FRUTAS</td>\n",
              "      <td>2018</td>\n",
              "      <td>5</td>\n",
              "      <td>3.46</td>\n",
              "      <td>3.31</td>\n",
              "      <td>3.61</td>\n",
              "      <td>260</td>\n",
              "    </tr>\n",
              "    <tr>\n",
              "      <th>3</th>\n",
              "      <td>ACEITUNAS</td>\n",
              "      <td>ACEITUNAS</td>\n",
              "      <td>BADAJOZ</td>\n",
              "      <td>kg</td>\n",
              "      <td>FRUTAS</td>\n",
              "      <td>2018</td>\n",
              "      <td>4</td>\n",
              "      <td>3.46</td>\n",
              "      <td>3.31</td>\n",
              "      <td>3.61</td>\n",
              "      <td>24060</td>\n",
              "    </tr>\n",
              "    <tr>\n",
              "      <th>4</th>\n",
              "      <td>ACEITUNAS</td>\n",
              "      <td>ACEITUNAS</td>\n",
              "      <td>BARCELONA</td>\n",
              "      <td>kg</td>\n",
              "      <td>ULTRAMARINO</td>\n",
              "      <td>2019</td>\n",
              "      <td>2</td>\n",
              "      <td>0.00</td>\n",
              "      <td>0.00</td>\n",
              "      <td>0.00</td>\n",
              "      <td>1000</td>\n",
              "    </tr>\n",
              "  </tbody>\n",
              "</table>\n",
              "</div>"
            ],
            "text/plain": [
              "     product   variedad     origen  ... price_min price_max  Volumen\n",
              "0  ACEITUNAS  ACEITUNAS    ALMERIA  ...      3.31      3.61     6700\n",
              "1  ACEITUNAS  ACEITUNAS    ALMERIA  ...      3.31      3.61      400\n",
              "2  ACEITUNAS  ACEITUNAS    ALMERIA  ...      3.31      3.61      260\n",
              "3  ACEITUNAS  ACEITUNAS    BADAJOZ  ...      3.31      3.61    24060\n",
              "4  ACEITUNAS  ACEITUNAS  BARCELONA  ...      0.00      0.00     1000\n",
              "\n",
              "[5 rows x 11 columns]"
            ]
          },
          "metadata": {},
          "execution_count": 858
        }
      ]
    },
    {
      "cell_type": "code",
      "metadata": {
        "colab": {
          "base_uri": "https://localhost:8080/",
          "height": 206
        },
        "id": "cLc-XT9d8Ion",
        "outputId": "86ccb667-1b88-4919-b9ad-4d6e14df3cec"
      },
      "source": [
        "import pandas\n",
        "\n",
        "dat_mercaBarna = pandas.read_csv('Dataset3b_Datos_MercaBarna.txt', sep='|', decimal=',')\n",
        "dat_mercaBarna.head()"
      ],
      "execution_count": null,
      "outputs": [
        {
          "output_type": "execute_result",
          "data": {
            "text/html": [
              "<div>\n",
              "<style scoped>\n",
              "    .dataframe tbody tr th:only-of-type {\n",
              "        vertical-align: middle;\n",
              "    }\n",
              "\n",
              "    .dataframe tbody tr th {\n",
              "        vertical-align: top;\n",
              "    }\n",
              "\n",
              "    .dataframe thead th {\n",
              "        text-align: right;\n",
              "    }\n",
              "</style>\n",
              "<table border=\"1\" class=\"dataframe\">\n",
              "  <thead>\n",
              "    <tr style=\"text-align: right;\">\n",
              "      <th></th>\n",
              "      <th>product</th>\n",
              "      <th>origen</th>\n",
              "      <th>Unidad</th>\n",
              "      <th>familia</th>\n",
              "      <th>YEAR</th>\n",
              "      <th>MONTH</th>\n",
              "      <th>price_mean</th>\n",
              "      <th>Volumen</th>\n",
              "    </tr>\n",
              "  </thead>\n",
              "  <tbody>\n",
              "    <tr>\n",
              "      <th>0</th>\n",
              "      <td>ACEITUNAS</td>\n",
              "      <td>BARCELONA</td>\n",
              "      <td>kg</td>\n",
              "      <td>FRUTAS HUESO</td>\n",
              "      <td>2018</td>\n",
              "      <td>4</td>\n",
              "      <td>3.8</td>\n",
              "      <td>12</td>\n",
              "    </tr>\n",
              "    <tr>\n",
              "      <th>1</th>\n",
              "      <td>ACEITUNAS</td>\n",
              "      <td>BARCELONA</td>\n",
              "      <td>kg</td>\n",
              "      <td>FRUTAS HUESO</td>\n",
              "      <td>2018</td>\n",
              "      <td>5</td>\n",
              "      <td>3.8</td>\n",
              "      <td>5</td>\n",
              "    </tr>\n",
              "    <tr>\n",
              "      <th>2</th>\n",
              "      <td>ACEITUNAS</td>\n",
              "      <td>BARCELONA</td>\n",
              "      <td>kg</td>\n",
              "      <td>FRUTAS HUESO</td>\n",
              "      <td>2018</td>\n",
              "      <td>6</td>\n",
              "      <td>3.8</td>\n",
              "      <td>10</td>\n",
              "    </tr>\n",
              "    <tr>\n",
              "      <th>3</th>\n",
              "      <td>ACEITUNAS</td>\n",
              "      <td>BARCELONA</td>\n",
              "      <td>kg</td>\n",
              "      <td>FRUTAS HUESO</td>\n",
              "      <td>2018</td>\n",
              "      <td>7</td>\n",
              "      <td>3.8</td>\n",
              "      <td>4</td>\n",
              "    </tr>\n",
              "    <tr>\n",
              "      <th>4</th>\n",
              "      <td>ACEITUNAS</td>\n",
              "      <td>BARCELONA</td>\n",
              "      <td>kg</td>\n",
              "      <td>FRUTAS HUESO</td>\n",
              "      <td>2018</td>\n",
              "      <td>8</td>\n",
              "      <td>3.8</td>\n",
              "      <td>12</td>\n",
              "    </tr>\n",
              "  </tbody>\n",
              "</table>\n",
              "</div>"
            ],
            "text/plain": [
              "     product     origen Unidad       familia  YEAR  MONTH  price_mean  Volumen\n",
              "0  ACEITUNAS  BARCELONA     kg  FRUTAS HUESO  2018      4         3.8       12\n",
              "1  ACEITUNAS  BARCELONA     kg  FRUTAS HUESO  2018      5         3.8        5\n",
              "2  ACEITUNAS  BARCELONA     kg  FRUTAS HUESO  2018      6         3.8       10\n",
              "3  ACEITUNAS  BARCELONA     kg  FRUTAS HUESO  2018      7         3.8        4\n",
              "4  ACEITUNAS  BARCELONA     kg  FRUTAS HUESO  2018      8         3.8       12"
            ]
          },
          "metadata": {},
          "execution_count": 859
        }
      ]
    },
    {
      "cell_type": "code",
      "metadata": {
        "colab": {
          "base_uri": "https://localhost:8080/",
          "height": 348
        },
        "id": "P1yGDHUyM3K2",
        "outputId": "5dd54a68-7079-41f2-d388-bdac40bdb211"
      },
      "source": [
        "import pandas\n",
        "\n",
        "aemet = pandas.read_csv('Aemet.csv', sep=',')\n",
        "aemet.head()"
      ],
      "execution_count": null,
      "outputs": [
        {
          "output_type": "execute_result",
          "data": {
            "text/html": [
              "<div>\n",
              "<style scoped>\n",
              "    .dataframe tbody tr th:only-of-type {\n",
              "        vertical-align: middle;\n",
              "    }\n",
              "\n",
              "    .dataframe tbody tr th {\n",
              "        vertical-align: top;\n",
              "    }\n",
              "\n",
              "    .dataframe thead th {\n",
              "        text-align: right;\n",
              "    }\n",
              "</style>\n",
              "<table border=\"1\" class=\"dataframe\">\n",
              "  <thead>\n",
              "    <tr style=\"text-align: right;\">\n",
              "      <th></th>\n",
              "      <th>Unnamed: 0</th>\n",
              "      <th>Unnamed: 0.1</th>\n",
              "      <th>Estación</th>\n",
              "      <th>Provincia</th>\n",
              "      <th>Temperatura máxima (ºC)</th>\n",
              "      <th>Temperatura mínima (ºC)</th>\n",
              "      <th>Temperatura media (ºC)</th>\n",
              "      <th>Racha (km/h)</th>\n",
              "      <th>Velocidad máxima (km/h)</th>\n",
              "      <th>Precipitación 00-24h (mm)</th>\n",
              "      <th>Precipitación 00-06h (mm)</th>\n",
              "      <th>Precipitación 06-12h (mm)</th>\n",
              "      <th>Precipitación 12-18h (mm)</th>\n",
              "      <th>Precipitación 18-24h (mm)</th>\n",
              "      <th>Fecha</th>\n",
              "    </tr>\n",
              "  </thead>\n",
              "  <tbody>\n",
              "    <tr>\n",
              "      <th>0</th>\n",
              "      <td>0</td>\n",
              "      <td>0</td>\n",
              "      <td>Estaca de Bares</td>\n",
              "      <td>A Coruña</td>\n",
              "      <td>13.6 (15:50)</td>\n",
              "      <td>6.8 (04:30)</td>\n",
              "      <td>10.2</td>\n",
              "      <td>72 (00:10)</td>\n",
              "      <td>56 (11:10)</td>\n",
              "      <td>NaN</td>\n",
              "      <td>NaN</td>\n",
              "      <td>NaN</td>\n",
              "      <td>NaN</td>\n",
              "      <td>NaN</td>\n",
              "      <td>2018-03-07</td>\n",
              "    </tr>\n",
              "    <tr>\n",
              "      <th>1</th>\n",
              "      <td>1</td>\n",
              "      <td>1</td>\n",
              "      <td>As Pontes</td>\n",
              "      <td>A Coruña</td>\n",
              "      <td>11.0 (17:30)</td>\n",
              "      <td>3.0 (04:50)</td>\n",
              "      <td>7.0</td>\n",
              "      <td>NaN</td>\n",
              "      <td>NaN</td>\n",
              "      <td>1.8</td>\n",
              "      <td>1.4</td>\n",
              "      <td>0.4</td>\n",
              "      <td>0.0</td>\n",
              "      <td>0.0</td>\n",
              "      <td>2018-03-07</td>\n",
              "    </tr>\n",
              "    <tr>\n",
              "      <th>2</th>\n",
              "      <td>2</td>\n",
              "      <td>2</td>\n",
              "      <td>A Coruña</td>\n",
              "      <td>A Coruña</td>\n",
              "      <td>13.1 (15:10)</td>\n",
              "      <td>7.3 (07:00)</td>\n",
              "      <td>10.2</td>\n",
              "      <td>44 (00:30)</td>\n",
              "      <td>26 (00:30)</td>\n",
              "      <td>1.0</td>\n",
              "      <td>1.0</td>\n",
              "      <td>0.0</td>\n",
              "      <td>0.0</td>\n",
              "      <td>0.0</td>\n",
              "      <td>2018-03-07</td>\n",
              "    </tr>\n",
              "    <tr>\n",
              "      <th>3</th>\n",
              "      <td>3</td>\n",
              "      <td>3</td>\n",
              "      <td>A Coruña Aeropuerto</td>\n",
              "      <td>A Coruña</td>\n",
              "      <td>13.1 (14:30)</td>\n",
              "      <td>4.3 (05:50)</td>\n",
              "      <td>8.7</td>\n",
              "      <td>46 (12:40)</td>\n",
              "      <td>32 (16:00)</td>\n",
              "      <td>0.7</td>\n",
              "      <td>0.7</td>\n",
              "      <td>0.0</td>\n",
              "      <td>0.0</td>\n",
              "      <td>0.0</td>\n",
              "      <td>2018-03-07</td>\n",
              "    </tr>\n",
              "    <tr>\n",
              "      <th>4</th>\n",
              "      <td>4</td>\n",
              "      <td>4</td>\n",
              "      <td>Carballo, Depuradora</td>\n",
              "      <td>A Coruña</td>\n",
              "      <td>12.5 (14:50)</td>\n",
              "      <td>2.2 (02:50)</td>\n",
              "      <td>7.4</td>\n",
              "      <td>NaN</td>\n",
              "      <td>NaN</td>\n",
              "      <td>0.6</td>\n",
              "      <td>0.4</td>\n",
              "      <td>0.2</td>\n",
              "      <td>0.0</td>\n",
              "      <td>0.0</td>\n",
              "      <td>2018-03-07</td>\n",
              "    </tr>\n",
              "  </tbody>\n",
              "</table>\n",
              "</div>"
            ],
            "text/plain": [
              "   Unnamed: 0  Unnamed: 0.1  ... Precipitación 18-24h (mm)       Fecha\n",
              "0           0             0  ...                       NaN  2018-03-07\n",
              "1           1             1  ...                       0.0  2018-03-07\n",
              "2           2             2  ...                       0.0  2018-03-07\n",
              "3           3             3  ...                       0.0  2018-03-07\n",
              "4           4             4  ...                       0.0  2018-03-07\n",
              "\n",
              "[5 rows x 15 columns]"
            ]
          },
          "metadata": {},
          "execution_count": 860
        }
      ]
    },
    {
      "cell_type": "markdown",
      "metadata": {
        "id": "Qch30Rkk_GZ2"
      },
      "source": [
        "## 2. Selección de Características (y elementos?????)"
      ]
    },
    {
      "cell_type": "code",
      "metadata": {
        "colab": {
          "base_uri": "https://localhost:8080/",
          "height": 206
        },
        "id": "mRAZnqL1BgzI",
        "outputId": "668adc20-e465-48d7-f775-5021fe04c90d"
      },
      "source": [
        "calendario_siembra = calendario_siembra.drop(columns=calendario_siembra.columns[7:])\n",
        "calendario_siembra = calendario_siembra.drop(labels=['Familia', 'Aprovecha', 'Asociac', 'Rotaciones'], axis=1)\n",
        "calendario_siembra.head()\n",
        "# Fresa???????"
      ],
      "execution_count": null,
      "outputs": [
        {
          "output_type": "execute_result",
          "data": {
            "text/html": [
              "<div>\n",
              "<style scoped>\n",
              "    .dataframe tbody tr th:only-of-type {\n",
              "        vertical-align: middle;\n",
              "    }\n",
              "\n",
              "    .dataframe tbody tr th {\n",
              "        vertical-align: top;\n",
              "    }\n",
              "\n",
              "    .dataframe thead th {\n",
              "        text-align: right;\n",
              "    }\n",
              "</style>\n",
              "<table border=\"1\" class=\"dataframe\">\n",
              "  <thead>\n",
              "    <tr style=\"text-align: right;\">\n",
              "      <th></th>\n",
              "      <th>Cultivo</th>\n",
              "      <th>Epoca siemb</th>\n",
              "      <th>D siem-recol</th>\n",
              "    </tr>\n",
              "  </thead>\n",
              "  <tbody>\n",
              "    <tr>\n",
              "      <th>0</th>\n",
              "      <td>ACELGA</td>\n",
              "      <td>Otoño-Primav</td>\n",
              "      <td>90</td>\n",
              "    </tr>\n",
              "    <tr>\n",
              "      <th>1</th>\n",
              "      <td>AJO</td>\n",
              "      <td>Otoño-Invierno</td>\n",
              "      <td>60-120</td>\n",
              "    </tr>\n",
              "    <tr>\n",
              "      <th>2</th>\n",
              "      <td>ALCACHOFA</td>\n",
              "      <td>Primav</td>\n",
              "      <td>90-120</td>\n",
              "    </tr>\n",
              "    <tr>\n",
              "      <th>3</th>\n",
              "      <td>APIO</td>\n",
              "      <td>Primav</td>\n",
              "      <td>100</td>\n",
              "    </tr>\n",
              "    <tr>\n",
              "      <th>4</th>\n",
              "      <td>BERENJENA</td>\n",
              "      <td>Primav</td>\n",
              "      <td>130</td>\n",
              "    </tr>\n",
              "  </tbody>\n",
              "</table>\n",
              "</div>"
            ],
            "text/plain": [
              "     Cultivo     Epoca siemb D siem-recol\n",
              "0     ACELGA    Otoño-Primav           90\n",
              "1        AJO  Otoño-Invierno       60-120\n",
              "2  ALCACHOFA          Primav       90-120\n",
              "3       APIO          Primav          100\n",
              "4  BERENJENA          Primav          130"
            ]
          },
          "metadata": {},
          "execution_count": 861
        }
      ]
    },
    {
      "cell_type": "code",
      "metadata": {
        "colab": {
          "base_uri": "https://localhost:8080/",
          "height": 554
        },
        "id": "5PFZl8UpCuSg",
        "outputId": "a51cf09d-b4e7-45fc-c9a3-e0a525fa0170"
      },
      "source": [
        "consumo_CCAA = consumo_CCAA.drop(columns=consumo_CCAA.columns[10:12]) #quitar las columnas del final que surgieron de manera rara\n",
        "consumo_CCAA.head(10)"
      ],
      "execution_count": null,
      "outputs": [
        {
          "output_type": "execute_result",
          "data": {
            "text/html": [
              "<div>\n",
              "<style scoped>\n",
              "    .dataframe tbody tr th:only-of-type {\n",
              "        vertical-align: middle;\n",
              "    }\n",
              "\n",
              "    .dataframe tbody tr th {\n",
              "        vertical-align: top;\n",
              "    }\n",
              "\n",
              "    .dataframe thead th {\n",
              "        text-align: right;\n",
              "    }\n",
              "</style>\n",
              "<table border=\"1\" class=\"dataframe\">\n",
              "  <thead>\n",
              "    <tr style=\"text-align: right;\">\n",
              "      <th></th>\n",
              "      <th>Año</th>\n",
              "      <th>Mes</th>\n",
              "      <th>CCAA</th>\n",
              "      <th>Producto</th>\n",
              "      <th>Volumen (miles de kg)</th>\n",
              "      <th>Valor (miles de €)</th>\n",
              "      <th>Precio medio kg</th>\n",
              "      <th>Penetración (%)</th>\n",
              "      <th>Consumo per capita</th>\n",
              "      <th>Gasto per capita</th>\n",
              "    </tr>\n",
              "  </thead>\n",
              "  <tbody>\n",
              "    <tr>\n",
              "      <th>0</th>\n",
              "      <td>2018</td>\n",
              "      <td>Enero</td>\n",
              "      <td>Total Nacional</td>\n",
              "      <td>TOTAL PATATAS</td>\n",
              "      <td>108430.72</td>\n",
              "      <td>84640.08</td>\n",
              "      <td>0.78</td>\n",
              "      <td>79.40</td>\n",
              "      <td>2.38</td>\n",
              "      <td>1.85</td>\n",
              "    </tr>\n",
              "    <tr>\n",
              "      <th>1</th>\n",
              "      <td>2018</td>\n",
              "      <td>Enero</td>\n",
              "      <td>Total Nacional</td>\n",
              "      <td>PATATAS FRESCAS</td>\n",
              "      <td>79445.66</td>\n",
              "      <td>54688.29</td>\n",
              "      <td>0.69</td>\n",
              "      <td>68.46</td>\n",
              "      <td>1.74</td>\n",
              "      <td>1.20</td>\n",
              "    </tr>\n",
              "    <tr>\n",
              "      <th>2</th>\n",
              "      <td>2018</td>\n",
              "      <td>Enero</td>\n",
              "      <td>Total Nacional</td>\n",
              "      <td>PATATAS CONGELADAS</td>\n",
              "      <td>3999.90</td>\n",
              "      <td>4857.79</td>\n",
              "      <td>1.21</td>\n",
              "      <td>12.06</td>\n",
              "      <td>0.09</td>\n",
              "      <td>0.11</td>\n",
              "    </tr>\n",
              "    <tr>\n",
              "      <th>3</th>\n",
              "      <td>2018</td>\n",
              "      <td>Enero</td>\n",
              "      <td>Total Nacional</td>\n",
              "      <td>PATATAS PROCESADAS</td>\n",
              "      <td>4997.03</td>\n",
              "      <td>25094.00</td>\n",
              "      <td>5.02</td>\n",
              "      <td>45.94</td>\n",
              "      <td>0.11</td>\n",
              "      <td>0.55</td>\n",
              "    </tr>\n",
              "    <tr>\n",
              "      <th>4</th>\n",
              "      <td>2018</td>\n",
              "      <td>Enero</td>\n",
              "      <td>Total Nacional</td>\n",
              "      <td>T.HORTALIZAS FRESCAS</td>\n",
              "      <td>209957.24</td>\n",
              "      <td>376688.56</td>\n",
              "      <td>1.79</td>\n",
              "      <td>97.27</td>\n",
              "      <td>4.60</td>\n",
              "      <td>8.25</td>\n",
              "    </tr>\n",
              "    <tr>\n",
              "      <th>5</th>\n",
              "      <td>2018</td>\n",
              "      <td>Enero</td>\n",
              "      <td>Total Nacional</td>\n",
              "      <td>TOMATES</td>\n",
              "      <td>39934.35</td>\n",
              "      <td>67517.73</td>\n",
              "      <td>1.69</td>\n",
              "      <td>77.90</td>\n",
              "      <td>0.88</td>\n",
              "      <td>1.48</td>\n",
              "    </tr>\n",
              "    <tr>\n",
              "      <th>6</th>\n",
              "      <td>2018</td>\n",
              "      <td>Enero</td>\n",
              "      <td>Total Nacional</td>\n",
              "      <td>CEBOLLAS</td>\n",
              "      <td>25922.07</td>\n",
              "      <td>26254.86</td>\n",
              "      <td>1.01</td>\n",
              "      <td>69.76</td>\n",
              "      <td>0.57</td>\n",
              "      <td>0.58</td>\n",
              "    </tr>\n",
              "    <tr>\n",
              "      <th>7</th>\n",
              "      <td>2018</td>\n",
              "      <td>Enero</td>\n",
              "      <td>Total Nacional</td>\n",
              "      <td>AJOS</td>\n",
              "      <td>2572.64</td>\n",
              "      <td>10736.54</td>\n",
              "      <td>4.17</td>\n",
              "      <td>34.75</td>\n",
              "      <td>0.06</td>\n",
              "      <td>0.24</td>\n",
              "    </tr>\n",
              "    <tr>\n",
              "      <th>8</th>\n",
              "      <td>2018</td>\n",
              "      <td>Enero</td>\n",
              "      <td>Total Nacional</td>\n",
              "      <td>COLES</td>\n",
              "      <td>7041.12</td>\n",
              "      <td>7624.86</td>\n",
              "      <td>1.08</td>\n",
              "      <td>23.93</td>\n",
              "      <td>0.15</td>\n",
              "      <td>0.17</td>\n",
              "    </tr>\n",
              "    <tr>\n",
              "      <th>9</th>\n",
              "      <td>2018</td>\n",
              "      <td>Enero</td>\n",
              "      <td>Total Nacional</td>\n",
              "      <td>PEPINOS</td>\n",
              "      <td>4143.06</td>\n",
              "      <td>6335.35</td>\n",
              "      <td>1.53</td>\n",
              "      <td>22.20</td>\n",
              "      <td>0.09</td>\n",
              "      <td>0.14</td>\n",
              "    </tr>\n",
              "  </tbody>\n",
              "</table>\n",
              "</div>"
            ],
            "text/plain": [
              "    Año    Mes  ... Consumo per capita Gasto per capita\n",
              "0  2018  Enero  ...               2.38             1.85\n",
              "1  2018  Enero  ...               1.74             1.20\n",
              "2  2018  Enero  ...               0.09             0.11\n",
              "3  2018  Enero  ...               0.11             0.55\n",
              "4  2018  Enero  ...               4.60             8.25\n",
              "5  2018  Enero  ...               0.88             1.48\n",
              "6  2018  Enero  ...               0.57             0.58\n",
              "7  2018  Enero  ...               0.06             0.24\n",
              "8  2018  Enero  ...               0.15             0.17\n",
              "9  2018  Enero  ...               0.09             0.14\n",
              "\n",
              "[10 rows x 10 columns]"
            ]
          },
          "metadata": {},
          "execution_count": 862
        }
      ]
    },
    {
      "cell_type": "code",
      "metadata": {
        "colab": {
          "base_uri": "https://localhost:8080/",
          "height": 206
        },
        "id": "pFHRSAveEXMS",
        "outputId": "7c8a6acd-83a8-48d8-f39b-18e3efd31381"
      },
      "source": [
        "precios_JAndalucia['CATEGORIA'].unique()\n",
        "precios_JAndalucia = precios_JAndalucia.drop(labels=['CATEGORIA'], axis=1)\n",
        "precios_JAndalucia.head()"
      ],
      "execution_count": null,
      "outputs": [
        {
          "output_type": "execute_result",
          "data": {
            "text/html": [
              "<div>\n",
              "<style scoped>\n",
              "    .dataframe tbody tr th:only-of-type {\n",
              "        vertical-align: middle;\n",
              "    }\n",
              "\n",
              "    .dataframe tbody tr th {\n",
              "        vertical-align: top;\n",
              "    }\n",
              "\n",
              "    .dataframe thead th {\n",
              "        text-align: right;\n",
              "    }\n",
              "</style>\n",
              "<table border=\"1\" class=\"dataframe\">\n",
              "  <thead>\n",
              "    <tr style=\"text-align: right;\">\n",
              "      <th></th>\n",
              "      <th>INICIO</th>\n",
              "      <th>FIN</th>\n",
              "      <th>GRUPO</th>\n",
              "      <th>SECTOR</th>\n",
              "      <th>SUBSECTOR</th>\n",
              "      <th>PRODUCTO</th>\n",
              "      <th>TIPO</th>\n",
              "      <th>SUBTIPO</th>\n",
              "      <th>POSICION</th>\n",
              "      <th>FORMATO</th>\n",
              "      <th>PRECIO</th>\n",
              "      <th>UNIDAD</th>\n",
              "    </tr>\n",
              "  </thead>\n",
              "  <tbody>\n",
              "    <tr>\n",
              "      <th>0</th>\n",
              "      <td>01/01/2018</td>\n",
              "      <td>07/01/2018</td>\n",
              "      <td>Agrícola</td>\n",
              "      <td>Frutales</td>\n",
              "      <td>Citricos</td>\n",
              "      <td>LIMON</td>\n",
              "      <td>NaN</td>\n",
              "      <td>NaN</td>\n",
              "      <td>Mercas</td>\n",
              "      <td>NaN</td>\n",
              "      <td>0.92</td>\n",
              "      <td>Euros/kg</td>\n",
              "    </tr>\n",
              "    <tr>\n",
              "      <th>1</th>\n",
              "      <td>01/01/2018</td>\n",
              "      <td>07/01/2018</td>\n",
              "      <td>Agrícola</td>\n",
              "      <td>Frutales</td>\n",
              "      <td>Citricos</td>\n",
              "      <td>MANDARINA</td>\n",
              "      <td>NaN</td>\n",
              "      <td>NaN</td>\n",
              "      <td>Mercas</td>\n",
              "      <td>NaN</td>\n",
              "      <td>0.84</td>\n",
              "      <td>Euros/kg</td>\n",
              "    </tr>\n",
              "    <tr>\n",
              "      <th>2</th>\n",
              "      <td>01/01/2018</td>\n",
              "      <td>07/01/2018</td>\n",
              "      <td>Agrícola</td>\n",
              "      <td>Frutales</td>\n",
              "      <td>Citricos</td>\n",
              "      <td>NARANJA</td>\n",
              "      <td>NaN</td>\n",
              "      <td>NaN</td>\n",
              "      <td>Mercas</td>\n",
              "      <td>NaN</td>\n",
              "      <td>0.78</td>\n",
              "      <td>Euros/kg</td>\n",
              "    </tr>\n",
              "    <tr>\n",
              "      <th>3</th>\n",
              "      <td>01/01/2018</td>\n",
              "      <td>07/01/2018</td>\n",
              "      <td>Agrícola</td>\n",
              "      <td>Frutales</td>\n",
              "      <td>Citricos</td>\n",
              "      <td>POMELO</td>\n",
              "      <td>NaN</td>\n",
              "      <td>NaN</td>\n",
              "      <td>Mercas</td>\n",
              "      <td>NaN</td>\n",
              "      <td>1.01</td>\n",
              "      <td>Euros/kg</td>\n",
              "    </tr>\n",
              "    <tr>\n",
              "      <th>4</th>\n",
              "      <td>01/01/2018</td>\n",
              "      <td>07/01/2018</td>\n",
              "      <td>Agrícola</td>\n",
              "      <td>Frutales</td>\n",
              "      <td>Frutales no cítricos</td>\n",
              "      <td>AGUACATE</td>\n",
              "      <td>NaN</td>\n",
              "      <td>NaN</td>\n",
              "      <td>Mercas</td>\n",
              "      <td>NaN</td>\n",
              "      <td>3.77</td>\n",
              "      <td>Euros/kg</td>\n",
              "    </tr>\n",
              "  </tbody>\n",
              "</table>\n",
              "</div>"
            ],
            "text/plain": [
              "       INICIO         FIN     GRUPO  ... FORMATO PRECIO    UNIDAD\n",
              "0  01/01/2018  07/01/2018  Agrícola  ...     NaN   0.92  Euros/kg\n",
              "1  01/01/2018  07/01/2018  Agrícola  ...     NaN   0.84  Euros/kg\n",
              "2  01/01/2018  07/01/2018  Agrícola  ...     NaN   0.78  Euros/kg\n",
              "3  01/01/2018  07/01/2018  Agrícola  ...     NaN   1.01  Euros/kg\n",
              "4  01/01/2018  07/01/2018  Agrícola  ...     NaN   3.77  Euros/kg\n",
              "\n",
              "[5 rows x 12 columns]"
            ]
          },
          "metadata": {},
          "execution_count": 863
        }
      ]
    },
    {
      "cell_type": "code",
      "metadata": {
        "colab": {
          "base_uri": "https://localhost:8080/",
          "height": 206
        },
        "id": "zWdw6Eo1F63u",
        "outputId": "4e76d76d-52ce-40a3-d5a2-30d8659a2428"
      },
      "source": [
        "precios_JAndalucia = precios_JAndalucia.drop(labels=['UNIDAD', 'SUBSECTOR', 'TIPO', 'SUBTIPO', 'FORMATO', 'GRUPO', 'SECTOR'], axis=1)\n",
        "precios_JAndalucia.head()"
      ],
      "execution_count": null,
      "outputs": [
        {
          "output_type": "execute_result",
          "data": {
            "text/html": [
              "<div>\n",
              "<style scoped>\n",
              "    .dataframe tbody tr th:only-of-type {\n",
              "        vertical-align: middle;\n",
              "    }\n",
              "\n",
              "    .dataframe tbody tr th {\n",
              "        vertical-align: top;\n",
              "    }\n",
              "\n",
              "    .dataframe thead th {\n",
              "        text-align: right;\n",
              "    }\n",
              "</style>\n",
              "<table border=\"1\" class=\"dataframe\">\n",
              "  <thead>\n",
              "    <tr style=\"text-align: right;\">\n",
              "      <th></th>\n",
              "      <th>INICIO</th>\n",
              "      <th>FIN</th>\n",
              "      <th>PRODUCTO</th>\n",
              "      <th>POSICION</th>\n",
              "      <th>PRECIO</th>\n",
              "    </tr>\n",
              "  </thead>\n",
              "  <tbody>\n",
              "    <tr>\n",
              "      <th>0</th>\n",
              "      <td>01/01/2018</td>\n",
              "      <td>07/01/2018</td>\n",
              "      <td>LIMON</td>\n",
              "      <td>Mercas</td>\n",
              "      <td>0.92</td>\n",
              "    </tr>\n",
              "    <tr>\n",
              "      <th>1</th>\n",
              "      <td>01/01/2018</td>\n",
              "      <td>07/01/2018</td>\n",
              "      <td>MANDARINA</td>\n",
              "      <td>Mercas</td>\n",
              "      <td>0.84</td>\n",
              "    </tr>\n",
              "    <tr>\n",
              "      <th>2</th>\n",
              "      <td>01/01/2018</td>\n",
              "      <td>07/01/2018</td>\n",
              "      <td>NARANJA</td>\n",
              "      <td>Mercas</td>\n",
              "      <td>0.78</td>\n",
              "    </tr>\n",
              "    <tr>\n",
              "      <th>3</th>\n",
              "      <td>01/01/2018</td>\n",
              "      <td>07/01/2018</td>\n",
              "      <td>POMELO</td>\n",
              "      <td>Mercas</td>\n",
              "      <td>1.01</td>\n",
              "    </tr>\n",
              "    <tr>\n",
              "      <th>4</th>\n",
              "      <td>01/01/2018</td>\n",
              "      <td>07/01/2018</td>\n",
              "      <td>AGUACATE</td>\n",
              "      <td>Mercas</td>\n",
              "      <td>3.77</td>\n",
              "    </tr>\n",
              "  </tbody>\n",
              "</table>\n",
              "</div>"
            ],
            "text/plain": [
              "       INICIO         FIN   PRODUCTO POSICION  PRECIO\n",
              "0  01/01/2018  07/01/2018      LIMON   Mercas    0.92\n",
              "1  01/01/2018  07/01/2018  MANDARINA   Mercas    0.84\n",
              "2  01/01/2018  07/01/2018    NARANJA   Mercas    0.78\n",
              "3  01/01/2018  07/01/2018     POMELO   Mercas    1.01\n",
              "4  01/01/2018  07/01/2018   AGUACATE   Mercas    3.77"
            ]
          },
          "metadata": {},
          "execution_count": 864
        }
      ]
    },
    {
      "cell_type": "code",
      "metadata": {
        "colab": {
          "base_uri": "https://localhost:8080/",
          "height": 206
        },
        "id": "CjlFnA2mIdmD",
        "outputId": "24fdb7a5-4339-42ae-ffaa-458c7e5f54df"
      },
      "source": [
        "dat_mercaMadrid = dat_mercaMadrid.drop(labels=['Unidad', 'variedad', 'familia', 'price_min', 'price_max' ], axis=1)\n",
        "dat_mercaMadrid.head()"
      ],
      "execution_count": null,
      "outputs": [
        {
          "output_type": "execute_result",
          "data": {
            "text/html": [
              "<div>\n",
              "<style scoped>\n",
              "    .dataframe tbody tr th:only-of-type {\n",
              "        vertical-align: middle;\n",
              "    }\n",
              "\n",
              "    .dataframe tbody tr th {\n",
              "        vertical-align: top;\n",
              "    }\n",
              "\n",
              "    .dataframe thead th {\n",
              "        text-align: right;\n",
              "    }\n",
              "</style>\n",
              "<table border=\"1\" class=\"dataframe\">\n",
              "  <thead>\n",
              "    <tr style=\"text-align: right;\">\n",
              "      <th></th>\n",
              "      <th>product</th>\n",
              "      <th>origen</th>\n",
              "      <th>YEAR</th>\n",
              "      <th>MONTH</th>\n",
              "      <th>price_mean</th>\n",
              "      <th>Volumen</th>\n",
              "    </tr>\n",
              "  </thead>\n",
              "  <tbody>\n",
              "    <tr>\n",
              "      <th>0</th>\n",
              "      <td>ACEITUNAS</td>\n",
              "      <td>ALMERIA</td>\n",
              "      <td>2018</td>\n",
              "      <td>2</td>\n",
              "      <td>3.46</td>\n",
              "      <td>6700</td>\n",
              "    </tr>\n",
              "    <tr>\n",
              "      <th>1</th>\n",
              "      <td>ACEITUNAS</td>\n",
              "      <td>ALMERIA</td>\n",
              "      <td>2018</td>\n",
              "      <td>4</td>\n",
              "      <td>3.46</td>\n",
              "      <td>400</td>\n",
              "    </tr>\n",
              "    <tr>\n",
              "      <th>2</th>\n",
              "      <td>ACEITUNAS</td>\n",
              "      <td>ALMERIA</td>\n",
              "      <td>2018</td>\n",
              "      <td>5</td>\n",
              "      <td>3.46</td>\n",
              "      <td>260</td>\n",
              "    </tr>\n",
              "    <tr>\n",
              "      <th>3</th>\n",
              "      <td>ACEITUNAS</td>\n",
              "      <td>BADAJOZ</td>\n",
              "      <td>2018</td>\n",
              "      <td>4</td>\n",
              "      <td>3.46</td>\n",
              "      <td>24060</td>\n",
              "    </tr>\n",
              "    <tr>\n",
              "      <th>4</th>\n",
              "      <td>ACEITUNAS</td>\n",
              "      <td>BARCELONA</td>\n",
              "      <td>2019</td>\n",
              "      <td>2</td>\n",
              "      <td>0.00</td>\n",
              "      <td>1000</td>\n",
              "    </tr>\n",
              "  </tbody>\n",
              "</table>\n",
              "</div>"
            ],
            "text/plain": [
              "     product     origen  YEAR  MONTH  price_mean  Volumen\n",
              "0  ACEITUNAS    ALMERIA  2018      2        3.46     6700\n",
              "1  ACEITUNAS    ALMERIA  2018      4        3.46      400\n",
              "2  ACEITUNAS    ALMERIA  2018      5        3.46      260\n",
              "3  ACEITUNAS    BADAJOZ  2018      4        3.46    24060\n",
              "4  ACEITUNAS  BARCELONA  2019      2        0.00     1000"
            ]
          },
          "metadata": {},
          "execution_count": 865
        }
      ]
    },
    {
      "cell_type": "code",
      "metadata": {
        "colab": {
          "base_uri": "https://localhost:8080/",
          "height": 206
        },
        "id": "BfWWYxbZLW0f",
        "outputId": "b61cc5e8-8f1a-4d46-8947-0dc968a34fec"
      },
      "source": [
        "dat_mercaBarna = dat_mercaBarna.drop(labels=['Unidad', 'familia'], axis=1)\n",
        "dat_mercaBarna.head()"
      ],
      "execution_count": null,
      "outputs": [
        {
          "output_type": "execute_result",
          "data": {
            "text/html": [
              "<div>\n",
              "<style scoped>\n",
              "    .dataframe tbody tr th:only-of-type {\n",
              "        vertical-align: middle;\n",
              "    }\n",
              "\n",
              "    .dataframe tbody tr th {\n",
              "        vertical-align: top;\n",
              "    }\n",
              "\n",
              "    .dataframe thead th {\n",
              "        text-align: right;\n",
              "    }\n",
              "</style>\n",
              "<table border=\"1\" class=\"dataframe\">\n",
              "  <thead>\n",
              "    <tr style=\"text-align: right;\">\n",
              "      <th></th>\n",
              "      <th>product</th>\n",
              "      <th>origen</th>\n",
              "      <th>YEAR</th>\n",
              "      <th>MONTH</th>\n",
              "      <th>price_mean</th>\n",
              "      <th>Volumen</th>\n",
              "    </tr>\n",
              "  </thead>\n",
              "  <tbody>\n",
              "    <tr>\n",
              "      <th>0</th>\n",
              "      <td>ACEITUNAS</td>\n",
              "      <td>BARCELONA</td>\n",
              "      <td>2018</td>\n",
              "      <td>4</td>\n",
              "      <td>3.8</td>\n",
              "      <td>12</td>\n",
              "    </tr>\n",
              "    <tr>\n",
              "      <th>1</th>\n",
              "      <td>ACEITUNAS</td>\n",
              "      <td>BARCELONA</td>\n",
              "      <td>2018</td>\n",
              "      <td>5</td>\n",
              "      <td>3.8</td>\n",
              "      <td>5</td>\n",
              "    </tr>\n",
              "    <tr>\n",
              "      <th>2</th>\n",
              "      <td>ACEITUNAS</td>\n",
              "      <td>BARCELONA</td>\n",
              "      <td>2018</td>\n",
              "      <td>6</td>\n",
              "      <td>3.8</td>\n",
              "      <td>10</td>\n",
              "    </tr>\n",
              "    <tr>\n",
              "      <th>3</th>\n",
              "      <td>ACEITUNAS</td>\n",
              "      <td>BARCELONA</td>\n",
              "      <td>2018</td>\n",
              "      <td>7</td>\n",
              "      <td>3.8</td>\n",
              "      <td>4</td>\n",
              "    </tr>\n",
              "    <tr>\n",
              "      <th>4</th>\n",
              "      <td>ACEITUNAS</td>\n",
              "      <td>BARCELONA</td>\n",
              "      <td>2018</td>\n",
              "      <td>8</td>\n",
              "      <td>3.8</td>\n",
              "      <td>12</td>\n",
              "    </tr>\n",
              "  </tbody>\n",
              "</table>\n",
              "</div>"
            ],
            "text/plain": [
              "     product     origen  YEAR  MONTH  price_mean  Volumen\n",
              "0  ACEITUNAS  BARCELONA  2018      4         3.8       12\n",
              "1  ACEITUNAS  BARCELONA  2018      5         3.8        5\n",
              "2  ACEITUNAS  BARCELONA  2018      6         3.8       10\n",
              "3  ACEITUNAS  BARCELONA  2018      7         3.8        4\n",
              "4  ACEITUNAS  BARCELONA  2018      8         3.8       12"
            ]
          },
          "metadata": {},
          "execution_count": 866
        }
      ]
    },
    {
      "cell_type": "code",
      "metadata": {
        "colab": {
          "base_uri": "https://localhost:8080/",
          "height": 348
        },
        "id": "5nJhbwviLvC_",
        "outputId": "fed94745-3962-40b4-b81d-6a230b228cf7"
      },
      "source": [
        "# Las dos primeras columnas son el identificador, y el subidentificador dentro de cada día. Eliminenlos perros\n",
        "aemet = aemet.drop(columns=aemet.columns[:2])\n",
        "aemet.head()"
      ],
      "execution_count": null,
      "outputs": [
        {
          "output_type": "execute_result",
          "data": {
            "text/html": [
              "<div>\n",
              "<style scoped>\n",
              "    .dataframe tbody tr th:only-of-type {\n",
              "        vertical-align: middle;\n",
              "    }\n",
              "\n",
              "    .dataframe tbody tr th {\n",
              "        vertical-align: top;\n",
              "    }\n",
              "\n",
              "    .dataframe thead th {\n",
              "        text-align: right;\n",
              "    }\n",
              "</style>\n",
              "<table border=\"1\" class=\"dataframe\">\n",
              "  <thead>\n",
              "    <tr style=\"text-align: right;\">\n",
              "      <th></th>\n",
              "      <th>Estación</th>\n",
              "      <th>Provincia</th>\n",
              "      <th>Temperatura máxima (ºC)</th>\n",
              "      <th>Temperatura mínima (ºC)</th>\n",
              "      <th>Temperatura media (ºC)</th>\n",
              "      <th>Racha (km/h)</th>\n",
              "      <th>Velocidad máxima (km/h)</th>\n",
              "      <th>Precipitación 00-24h (mm)</th>\n",
              "      <th>Precipitación 00-06h (mm)</th>\n",
              "      <th>Precipitación 06-12h (mm)</th>\n",
              "      <th>Precipitación 12-18h (mm)</th>\n",
              "      <th>Precipitación 18-24h (mm)</th>\n",
              "      <th>Fecha</th>\n",
              "    </tr>\n",
              "  </thead>\n",
              "  <tbody>\n",
              "    <tr>\n",
              "      <th>0</th>\n",
              "      <td>Estaca de Bares</td>\n",
              "      <td>A Coruña</td>\n",
              "      <td>13.6 (15:50)</td>\n",
              "      <td>6.8 (04:30)</td>\n",
              "      <td>10.2</td>\n",
              "      <td>72 (00:10)</td>\n",
              "      <td>56 (11:10)</td>\n",
              "      <td>NaN</td>\n",
              "      <td>NaN</td>\n",
              "      <td>NaN</td>\n",
              "      <td>NaN</td>\n",
              "      <td>NaN</td>\n",
              "      <td>2018-03-07</td>\n",
              "    </tr>\n",
              "    <tr>\n",
              "      <th>1</th>\n",
              "      <td>As Pontes</td>\n",
              "      <td>A Coruña</td>\n",
              "      <td>11.0 (17:30)</td>\n",
              "      <td>3.0 (04:50)</td>\n",
              "      <td>7.0</td>\n",
              "      <td>NaN</td>\n",
              "      <td>NaN</td>\n",
              "      <td>1.8</td>\n",
              "      <td>1.4</td>\n",
              "      <td>0.4</td>\n",
              "      <td>0.0</td>\n",
              "      <td>0.0</td>\n",
              "      <td>2018-03-07</td>\n",
              "    </tr>\n",
              "    <tr>\n",
              "      <th>2</th>\n",
              "      <td>A Coruña</td>\n",
              "      <td>A Coruña</td>\n",
              "      <td>13.1 (15:10)</td>\n",
              "      <td>7.3 (07:00)</td>\n",
              "      <td>10.2</td>\n",
              "      <td>44 (00:30)</td>\n",
              "      <td>26 (00:30)</td>\n",
              "      <td>1.0</td>\n",
              "      <td>1.0</td>\n",
              "      <td>0.0</td>\n",
              "      <td>0.0</td>\n",
              "      <td>0.0</td>\n",
              "      <td>2018-03-07</td>\n",
              "    </tr>\n",
              "    <tr>\n",
              "      <th>3</th>\n",
              "      <td>A Coruña Aeropuerto</td>\n",
              "      <td>A Coruña</td>\n",
              "      <td>13.1 (14:30)</td>\n",
              "      <td>4.3 (05:50)</td>\n",
              "      <td>8.7</td>\n",
              "      <td>46 (12:40)</td>\n",
              "      <td>32 (16:00)</td>\n",
              "      <td>0.7</td>\n",
              "      <td>0.7</td>\n",
              "      <td>0.0</td>\n",
              "      <td>0.0</td>\n",
              "      <td>0.0</td>\n",
              "      <td>2018-03-07</td>\n",
              "    </tr>\n",
              "    <tr>\n",
              "      <th>4</th>\n",
              "      <td>Carballo, Depuradora</td>\n",
              "      <td>A Coruña</td>\n",
              "      <td>12.5 (14:50)</td>\n",
              "      <td>2.2 (02:50)</td>\n",
              "      <td>7.4</td>\n",
              "      <td>NaN</td>\n",
              "      <td>NaN</td>\n",
              "      <td>0.6</td>\n",
              "      <td>0.4</td>\n",
              "      <td>0.2</td>\n",
              "      <td>0.0</td>\n",
              "      <td>0.0</td>\n",
              "      <td>2018-03-07</td>\n",
              "    </tr>\n",
              "  </tbody>\n",
              "</table>\n",
              "</div>"
            ],
            "text/plain": [
              "               Estación Provincia  ... Precipitación 18-24h (mm)       Fecha\n",
              "0       Estaca de Bares  A Coruña  ...                       NaN  2018-03-07\n",
              "1             As Pontes  A Coruña  ...                       0.0  2018-03-07\n",
              "2              A Coruña  A Coruña  ...                       0.0  2018-03-07\n",
              "3   A Coruña Aeropuerto  A Coruña  ...                       0.0  2018-03-07\n",
              "4  Carballo, Depuradora  A Coruña  ...                       0.0  2018-03-07\n",
              "\n",
              "[5 rows x 13 columns]"
            ]
          },
          "metadata": {},
          "execution_count": 867
        }
      ]
    },
    {
      "cell_type": "code",
      "metadata": {
        "colab": {
          "base_uri": "https://localhost:8080/",
          "height": 310
        },
        "id": "E01lVT_iN3Ao",
        "outputId": "01614914-8e3e-4117-ee0d-1e6b7b2f08f8"
      },
      "source": [
        "aemet = aemet.drop(labels=['Estación', 'Temperatura máxima (ºC)', 'Temperatura mínima (ºC)', 'Racha (km/h)', 'Velocidad máxima (km/h)'], axis=1)\n",
        "aemet.head()"
      ],
      "execution_count": null,
      "outputs": [
        {
          "output_type": "execute_result",
          "data": {
            "text/html": [
              "<div>\n",
              "<style scoped>\n",
              "    .dataframe tbody tr th:only-of-type {\n",
              "        vertical-align: middle;\n",
              "    }\n",
              "\n",
              "    .dataframe tbody tr th {\n",
              "        vertical-align: top;\n",
              "    }\n",
              "\n",
              "    .dataframe thead th {\n",
              "        text-align: right;\n",
              "    }\n",
              "</style>\n",
              "<table border=\"1\" class=\"dataframe\">\n",
              "  <thead>\n",
              "    <tr style=\"text-align: right;\">\n",
              "      <th></th>\n",
              "      <th>Provincia</th>\n",
              "      <th>Temperatura media (ºC)</th>\n",
              "      <th>Precipitación 00-24h (mm)</th>\n",
              "      <th>Precipitación 00-06h (mm)</th>\n",
              "      <th>Precipitación 06-12h (mm)</th>\n",
              "      <th>Precipitación 12-18h (mm)</th>\n",
              "      <th>Precipitación 18-24h (mm)</th>\n",
              "      <th>Fecha</th>\n",
              "    </tr>\n",
              "  </thead>\n",
              "  <tbody>\n",
              "    <tr>\n",
              "      <th>0</th>\n",
              "      <td>A Coruña</td>\n",
              "      <td>10.2</td>\n",
              "      <td>NaN</td>\n",
              "      <td>NaN</td>\n",
              "      <td>NaN</td>\n",
              "      <td>NaN</td>\n",
              "      <td>NaN</td>\n",
              "      <td>2018-03-07</td>\n",
              "    </tr>\n",
              "    <tr>\n",
              "      <th>1</th>\n",
              "      <td>A Coruña</td>\n",
              "      <td>7.0</td>\n",
              "      <td>1.8</td>\n",
              "      <td>1.4</td>\n",
              "      <td>0.4</td>\n",
              "      <td>0.0</td>\n",
              "      <td>0.0</td>\n",
              "      <td>2018-03-07</td>\n",
              "    </tr>\n",
              "    <tr>\n",
              "      <th>2</th>\n",
              "      <td>A Coruña</td>\n",
              "      <td>10.2</td>\n",
              "      <td>1.0</td>\n",
              "      <td>1.0</td>\n",
              "      <td>0.0</td>\n",
              "      <td>0.0</td>\n",
              "      <td>0.0</td>\n",
              "      <td>2018-03-07</td>\n",
              "    </tr>\n",
              "    <tr>\n",
              "      <th>3</th>\n",
              "      <td>A Coruña</td>\n",
              "      <td>8.7</td>\n",
              "      <td>0.7</td>\n",
              "      <td>0.7</td>\n",
              "      <td>0.0</td>\n",
              "      <td>0.0</td>\n",
              "      <td>0.0</td>\n",
              "      <td>2018-03-07</td>\n",
              "    </tr>\n",
              "    <tr>\n",
              "      <th>4</th>\n",
              "      <td>A Coruña</td>\n",
              "      <td>7.4</td>\n",
              "      <td>0.6</td>\n",
              "      <td>0.4</td>\n",
              "      <td>0.2</td>\n",
              "      <td>0.0</td>\n",
              "      <td>0.0</td>\n",
              "      <td>2018-03-07</td>\n",
              "    </tr>\n",
              "  </tbody>\n",
              "</table>\n",
              "</div>"
            ],
            "text/plain": [
              "  Provincia  Temperatura media (ºC)  ...  Precipitación 18-24h (mm)       Fecha\n",
              "0  A Coruña                    10.2  ...                        NaN  2018-03-07\n",
              "1  A Coruña                     7.0  ...                        0.0  2018-03-07\n",
              "2  A Coruña                    10.2  ...                        0.0  2018-03-07\n",
              "3  A Coruña                     8.7  ...                        0.0  2018-03-07\n",
              "4  A Coruña                     7.4  ...                        0.0  2018-03-07\n",
              "\n",
              "[5 rows x 8 columns]"
            ]
          },
          "metadata": {},
          "execution_count": 868
        }
      ]
    },
    {
      "cell_type": "code",
      "metadata": {
        "colab": {
          "base_uri": "https://localhost:8080/",
          "height": 206
        },
        "id": "o9igTTLLOtW-",
        "outputId": "778553ad-11d9-4b22-e7e9-9be9e4ce753a"
      },
      "source": [
        "aemet = aemet.drop(labels=['Precipitación 00-06h (mm)', 'Precipitación 06-12h (mm)', 'Precipitación 12-18h (mm)', 'Precipitación 18-24h (mm)'], axis=1)\n",
        "aemet.head()"
      ],
      "execution_count": null,
      "outputs": [
        {
          "output_type": "execute_result",
          "data": {
            "text/html": [
              "<div>\n",
              "<style scoped>\n",
              "    .dataframe tbody tr th:only-of-type {\n",
              "        vertical-align: middle;\n",
              "    }\n",
              "\n",
              "    .dataframe tbody tr th {\n",
              "        vertical-align: top;\n",
              "    }\n",
              "\n",
              "    .dataframe thead th {\n",
              "        text-align: right;\n",
              "    }\n",
              "</style>\n",
              "<table border=\"1\" class=\"dataframe\">\n",
              "  <thead>\n",
              "    <tr style=\"text-align: right;\">\n",
              "      <th></th>\n",
              "      <th>Provincia</th>\n",
              "      <th>Temperatura media (ºC)</th>\n",
              "      <th>Precipitación 00-24h (mm)</th>\n",
              "      <th>Fecha</th>\n",
              "    </tr>\n",
              "  </thead>\n",
              "  <tbody>\n",
              "    <tr>\n",
              "      <th>0</th>\n",
              "      <td>A Coruña</td>\n",
              "      <td>10.2</td>\n",
              "      <td>NaN</td>\n",
              "      <td>2018-03-07</td>\n",
              "    </tr>\n",
              "    <tr>\n",
              "      <th>1</th>\n",
              "      <td>A Coruña</td>\n",
              "      <td>7.0</td>\n",
              "      <td>1.8</td>\n",
              "      <td>2018-03-07</td>\n",
              "    </tr>\n",
              "    <tr>\n",
              "      <th>2</th>\n",
              "      <td>A Coruña</td>\n",
              "      <td>10.2</td>\n",
              "      <td>1.0</td>\n",
              "      <td>2018-03-07</td>\n",
              "    </tr>\n",
              "    <tr>\n",
              "      <th>3</th>\n",
              "      <td>A Coruña</td>\n",
              "      <td>8.7</td>\n",
              "      <td>0.7</td>\n",
              "      <td>2018-03-07</td>\n",
              "    </tr>\n",
              "    <tr>\n",
              "      <th>4</th>\n",
              "      <td>A Coruña</td>\n",
              "      <td>7.4</td>\n",
              "      <td>0.6</td>\n",
              "      <td>2018-03-07</td>\n",
              "    </tr>\n",
              "  </tbody>\n",
              "</table>\n",
              "</div>"
            ],
            "text/plain": [
              "  Provincia  Temperatura media (ºC)  Precipitación 00-24h (mm)       Fecha\n",
              "0  A Coruña                    10.2                        NaN  2018-03-07\n",
              "1  A Coruña                     7.0                        1.8  2018-03-07\n",
              "2  A Coruña                    10.2                        1.0  2018-03-07\n",
              "3  A Coruña                     8.7                        0.7  2018-03-07\n",
              "4  A Coruña                     7.4                        0.6  2018-03-07"
            ]
          },
          "metadata": {},
          "execution_count": 869
        }
      ]
    },
    {
      "cell_type": "markdown",
      "metadata": {
        "id": "p-OmB5-v_LWV"
      },
      "source": [
        "## 3. Preproceso\n"
      ]
    },
    {
      "cell_type": "markdown",
      "metadata": {
        "id": "YPcD7e81mirV"
      },
      "source": [
        "### 3.1 Selección de elementos"
      ]
    },
    {
      "cell_type": "markdown",
      "metadata": {
        "id": "7JvIGV79pyN1"
      },
      "source": [
        "### 3.1.1 Unificar nombres de productos"
      ]
    },
    {
      "cell_type": "code",
      "metadata": {
        "id": "l2in6efElzZu"
      },
      "source": [
        "import json\n",
        "# Load the dicts\n",
        "with open('cultivos_names.json') as json_file:\n",
        "  cultivos_names = json.load(json_file)"
      ],
      "execution_count": null,
      "outputs": []
    },
    {
      "cell_type": "code",
      "metadata": {
        "colab": {
          "base_uri": "https://localhost:8080/"
        },
        "id": "MXNm1f00mn03",
        "outputId": "32375540-eb69-4b11-f442-23c309bbbd19"
      },
      "source": [
        "calendario_siembra['Cultivo'].unique()"
      ],
      "execution_count": null,
      "outputs": [
        {
          "output_type": "execute_result",
          "data": {
            "text/plain": [
              "array(['ACELGA', 'AJO', 'ALCACHOFA', 'APIO', 'BERENJENA', 'BROCOLI',\n",
              "       'CALABACÍN', 'CALABAZA', 'CEBOLLA guardar', 'CEBOLLA tierna',\n",
              "       'CHIRIVIA', 'COL CHINA', 'COL BRUSELAS', 'COL LOMBARDA',\n",
              "       'COL REPOLLO', 'COLIFLOR', 'ESCAROLA ', 'ESPINACA', 'FRESA',\n",
              "       'GUISANTE', 'HABAS', 'JUDIAS MATA BAJA', 'JUDIAS ENRAME',\n",
              "       'LECHUGAS', 'MAIZ', 'MELÓN', 'NABO', 'PATATA', 'PEPINO', 'PEREJIL',\n",
              "       'PIMIENTO', 'PUERRO', 'RABANITO', 'REMOLACHA', 'SANDIA', 'TOMATE',\n",
              "       'ZANAHORIA'], dtype=object)"
            ]
          },
          "metadata": {},
          "execution_count": 871
        }
      ]
    },
    {
      "cell_type": "code",
      "metadata": {
        "colab": {
          "base_uri": "https://localhost:8080/"
        },
        "id": "V2ZlbjWhuT4S",
        "outputId": "8713e964-d4ab-44f2-8a65-7ba786041709"
      },
      "source": [
        "from unidecode import unidecode\n",
        "elems_remove = ['FRESA', 'JUDIAS ENRAME'] # quitar judia enrame puesto que tiene el mismo tiempo de siembra que la otra\n",
        "for elem in elems_remove:\n",
        "  #calendario_siembra = calendario_siembra.drop(calendario_siembra[calendario_siembra['Cultivo'] == elem].index)\n",
        "  calendario_siembra = calendario_siembra[calendario_siembra.Cultivo != elem]\n",
        "\n",
        "#Singular, quitar tildes y renombrar nombres rarunos\n",
        "calendario_dict = cultivos_names['calendario']\n",
        "calendario_siembra['Cultivo'] = calendario_siembra['Cultivo'].map(lambda x: x.strip() if x not in calendario_dict else calendario_dict[x]).map(lambda x: unidecode(x))\n",
        "calendario_siembra['Cultivo'].unique()"
      ],
      "execution_count": null,
      "outputs": [
        {
          "output_type": "execute_result",
          "data": {
            "text/plain": [
              "array(['ACELGA', 'AJO', 'ALCACHOFA', 'APIO', 'BERENJENA', 'BROCOLI',\n",
              "       'CALABACIN', 'CALABAZA', 'CEBOLLA', 'CEBOLLETA', 'CHIRIVIA',\n",
              "       'COL CHINA', 'COL BRUSELAS', 'COL LOMBARDA', 'COL REPOLLO',\n",
              "       'COLIFLOR', 'ESCAROLA', 'ESPINACA', 'GUISANTE', 'HABA', 'JUDIA',\n",
              "       'LECHUGA', 'MAIZ', 'MELON', 'NABO', 'PATATA', 'PEPINO', 'PEREJIL',\n",
              "       'PIMIENTO', 'PUERRO', 'RABANITO', 'REMOLACHA', 'SANDIA', 'TOMATE',\n",
              "       'ZANAHORIA'], dtype=object)"
            ]
          },
          "metadata": {},
          "execution_count": 872
        }
      ]
    },
    {
      "cell_type": "code",
      "metadata": {
        "colab": {
          "base_uri": "https://localhost:8080/"
        },
        "id": "2LBylVuZnxjQ",
        "outputId": "247f682e-f87e-4c8b-9502-41118428d17c"
      },
      "source": [
        "consumo_CCAA['Producto'].unique()"
      ],
      "execution_count": null,
      "outputs": [
        {
          "output_type": "execute_result",
          "data": {
            "text/plain": [
              "array(['TOTAL PATATAS', 'PATATAS FRESCAS', 'PATATAS CONGELADAS',\n",
              "       'PATATAS PROCESADAS', 'T.HORTALIZAS FRESCAS', 'TOMATES',\n",
              "       'CEBOLLAS', 'AJOS', 'COLES', 'PEPINOS', 'JUDIAS VERDES',\n",
              "       'PIMIENTOS', 'CHAMPIÑONES+O.SETAS', 'LECHUGA/ESC./ENDIVIA',\n",
              "       'ESPARRAGOS', 'VERDURAS DE HOJA', 'BERENJENAS', 'ZANAHORIAS',\n",
              "       'CALABACINES', 'OTR.HORTALIZAS/VERD.', 'BROCOLI', 'ALCACHOFAS',\n",
              "       'VERD./HORT. IV GAMA', 'T.FRUTAS FRESCAS', 'NARANJAS',\n",
              "       'MANDARINAS', 'LIMONES', 'PLATANOS', 'MANZANAS', 'PERAS',\n",
              "       'MELOCOTONES', 'NECTARINAS', 'ALBARICOQUES', 'FRESAS/FRESON',\n",
              "       'MELON', 'SANDIA', 'CIRUELAS', 'CEREZAS', 'UVAS', 'KIWI',\n",
              "       'AGUACATE', 'PIÑA', 'OTRAS FRUTAS FRESCAS', 'POMELO', 'CHIRIMOYA',\n",
              "       'FRUTAS IV GAMA', 'PATATAS FRITAS', 'APIO', 'COLIFLOR', 'PUERRO',\n",
              "       'MANGO'], dtype=object)"
            ]
          },
          "metadata": {},
          "execution_count": 873
        }
      ]
    },
    {
      "cell_type": "code",
      "metadata": {
        "colab": {
          "base_uri": "https://localhost:8080/"
        },
        "id": "V5ZQQaYEsJSh",
        "outputId": "e9b09de8-d95b-435c-cd2b-c58a31aa4936"
      },
      "source": [
        "consumo_CCAA_dict = cultivos_names['consumo_CCAA_dict']\n",
        "#ASUNCIONNNNNNNNNNNN COLES A COL REPOLLO\n",
        "for elem in list(consumo_CCAA['Producto'].unique()) - consumo_CCAA_dict.keys():\n",
        "  #consumo_CCAA = consumo_CCAA.drop(consumo_CCAA[consumo_CCAA['Producto'] == elem].index)\n",
        "  consumo_CCAA = consumo_CCAA[consumo_CCAA.Producto != elem]\n",
        "\n",
        "consumo_CCAA['Producto'] = consumo_CCAA['Producto'].map(lambda x: consumo_CCAA_dict[x])\n",
        "consumo_CCAA['Producto'].unique()"
      ],
      "execution_count": null,
      "outputs": [
        {
          "output_type": "execute_result",
          "data": {
            "text/plain": [
              "array(['PATATA', 'TOMATE', 'CEBOLLA', 'AJO', 'COL REPOLLO', 'PEPINO',\n",
              "       'JUDIA', 'PIMIENTO', 'LECHUGA', 'BERENJENA', 'ZANAHORIA',\n",
              "       'CALABACIN', 'BROCOLI', 'ALCACHOFA', 'MELON', 'SANDIA', 'APIO',\n",
              "       'COLIFLOR', 'PUERRO'], dtype=object)"
            ]
          },
          "metadata": {},
          "execution_count": 874
        }
      ]
    },
    {
      "cell_type": "code",
      "metadata": {
        "colab": {
          "base_uri": "https://localhost:8080/"
        },
        "id": "XYrPI3FCoGNt",
        "outputId": "25b96819-f390-4505-b29f-f6a0fbade0e5"
      },
      "source": [
        "dat_mercaMadrid['product'].unique()"
      ],
      "execution_count": null,
      "outputs": [
        {
          "output_type": "execute_result",
          "data": {
            "text/plain": [
              "array(['ACEITUNAS', 'ACELGAS', 'AGUACATES', 'AJOS', 'ALBARICOQUES',\n",
              "       'ALCACHOFAS', 'ALPICOCES', 'APIO', 'AVELLANAS', 'BANANITOS',\n",
              "       'BATATAS', 'BELLOTAS', 'BERENJENAS', 'BERROS', 'BONIATOS',\n",
              "       'BORRAJAS', 'BREVAS', 'BROCOLI', 'CALABACINES', 'CALABAZAS',\n",
              "       'CAQUIS', 'CARAMBOLA', 'CARDOS', 'CARLOTAS', 'CASTAÃ\\x91AS',\n",
              "       'CAÃ\\x91A DE AZUCAR', 'CEBOLLAS', 'CEREZAS', 'CHAMPIÃ\\x91ON',\n",
              "       'CHIRIMOYAS', 'CHIRIVIAS', 'CIRUELAS', 'COCOS', 'COLES-REPOLLO',\n",
              "       'COLIFLORES', 'CONGELADOS VEGETALES', 'CONSERVAS VEGETALES',\n",
              "       'CUARTA GAMA FRUTAS', 'CUARTA GAMA HORT.', 'DATILES',\n",
              "       'ELABORADOS VEGETALES', 'ENDIVIAS', 'ESCAROLAS', 'ESPARRAGOS',\n",
              "       'ESPINACAS', 'FISALIS', 'FRAMBUESAS', 'FRESONES', 'FRESQUILLAS',\n",
              "       'FRUTA DE LA PASION', 'FRUTOS SECOS', 'GARROFON', 'GRANADAS',\n",
              "       'GRELOS', 'GROSELLA', 'GUAYABOS', 'GUINDILLAS', 'GUISANTES',\n",
              "       'HABAS VERDES', 'HIGO CHUMBO', 'HIGOS', 'HINOJO', 'JENGIBRE',\n",
              "       'JUDIAS VERDES', 'KIWI', 'KUNKUAT', 'LAUREL', 'LECHUGAS', 'LIMA',\n",
              "       'LIMONES', 'LITCHIS', 'LOMBARDA', 'MACHE', 'MAIZ', 'MANDARINAS',\n",
              "       'MANGA', 'MANGOS', 'MANGOSTAN', 'MANZANAS', 'MARACUYA',\n",
              "       'MELOCOTONES', 'MELONES', 'MEMBRILLOS', 'MORAS', 'NABOS',\n",
              "       'NARANJAS', 'NASHI', 'NECTARINAS', 'NISPEROS', 'NUECES', 'OCRA',\n",
              "       'PAPAYA GIGANTE', 'PAPAYOS', 'PARAGUAYAS', 'PATATAS', 'PEPINOS',\n",
              "       'PERAS', 'PEREJIL', 'PERETAS', 'PIMIENTAS', 'PIMIENTOS',\n",
              "       'PITAHAYA', 'PIÃ\\x91AS', 'PLATANOS', 'POMELOS',\n",
              "       'PRECOCINADOS VEGETALES', 'PUERROS', 'QUINTA GAMA', 'RABANILLAS',\n",
              "       'RABANOS', 'RAMBUTAN', 'REMOLACHA', 'RESTO DE FRUTAS',\n",
              "       'RESTO HORTALIZAS', 'ROMANESCU', 'SANDIAS', 'SETAS', 'TABELLA',\n",
              "       'TAMARINDO', 'TIRABEQUES', 'TOMATES', 'UVAS', 'YUCA', 'ZANAHORIAS',\n",
              "       'Ã\\x91AME O YAME'], dtype=object)"
            ]
          },
          "metadata": {},
          "execution_count": 875
        }
      ]
    },
    {
      "cell_type": "code",
      "metadata": {
        "colab": {
          "base_uri": "https://localhost:8080/"
        },
        "id": "qEB5Wjzy6YBP",
        "outputId": "248b1959-8448-4636-9da3-30ceb68e868b"
      },
      "source": [
        "dat_mercaMadrid_dict = cultivos_names['dat_mercaMadrid_dict']\n",
        "\n",
        "for elem in list(dat_mercaMadrid['product'].unique()) - dat_mercaMadrid_dict.keys():\n",
        "  #dat_mercaMadrid = dat_mercaMadrid.drop(dat_mercaMadrid[dat_mercaMadrid['product'] == elem].index)\n",
        "  dat_mercaMadrid = dat_mercaMadrid[dat_mercaMadrid['product'] != elem]\n",
        "\n",
        "dat_mercaMadrid['product'] = dat_mercaMadrid['product'].map(lambda x: dat_mercaMadrid_dict[x])\n",
        "dat_mercaMadrid['product'].unique()"
      ],
      "execution_count": null,
      "outputs": [
        {
          "output_type": "execute_result",
          "data": {
            "text/plain": [
              "array(['ACELGA', 'AJO', 'ALCACHOFA', 'APIO', 'BERENJENA', 'BROCOLI',\n",
              "       'CALABACIN', 'CALABAZA', 'CEBOLLA', 'CHIRIVIA', 'COL REPOLLO',\n",
              "       'COLIFLOR', 'ESCAROLA', 'ESPINACA', 'GUISANTE', 'HABA', 'JUDIA',\n",
              "       'LECHUGA', 'COL LOMBARDA', 'MAIZ', 'MELON', 'NABO', 'PATATA',\n",
              "       'PEPINO', 'PEREJIL', 'PIMIENTO', 'PUERRO', 'RABANITO', 'REMOLACHA',\n",
              "       'SANDIA', 'TOMATE', 'ZANAHORIA'], dtype=object)"
            ]
          },
          "metadata": {},
          "execution_count": 876
        }
      ]
    },
    {
      "cell_type": "code",
      "metadata": {
        "colab": {
          "base_uri": "https://localhost:8080/"
        },
        "id": "EnuhWbw1oMa9",
        "outputId": "c778be15-5b7f-44f6-d6f6-be25c99e8ec5"
      },
      "source": [
        "dat_mercaBarna['product'].unique()"
      ],
      "execution_count": null,
      "outputs": [
        {
          "output_type": "execute_result",
          "data": {
            "text/plain": [
              "array(['ACEITUNAS', 'ACELGAS', 'AGUACATE', 'AJOS SECOS', 'AJOS TIERNOS',\n",
              "       'ALBARICOQUES', 'ALCACHOFA', 'APIOS', 'BATATA', 'BERENJENA LARGA',\n",
              "       'BERENJENA REDONDA', 'BERROS', 'BORRAJA', 'BRÃ\\x89COL',\n",
              "       'BRÃ\\x93CULI', 'CALABACÃ\\x8dN', 'CALABAZA', 'CALÃ\\x87OTS',\n",
              "       'CARACOLES', 'CARAMBOLA', 'CARDOS', 'CAÃ\\x91A DE AZÃ\\x9aCAR',\n",
              "       'CEBOLLA SECA', 'CEBOLLA SECA FIGUERAS', 'CEBOLLA TIERNA',\n",
              "       'CEREZAS', 'CHAMPIÃ\\x91ONES', 'CHIRIMOIA', 'CHIRIVÃ\\x8dA',\n",
              "       'CIRUELA', 'COCOS', 'COL BRUSELAS', 'COLES', 'COLES CHINA',\n",
              "       'COLES LOMBARDA', 'COLIFLOR', 'ENDÃ\\x8dBIAS', 'ESCAROLA',\n",
              "       'ESPINACAS', 'ESPÃ\\x81RRAGO BLANCO', 'ESPÃ\\x81RRAGO VERDE',\n",
              "       'FEIJOA', 'FRUTAS CAQUIS', 'FRUTAS DÃ\\x81TILES',\n",
              "       'FRUTAS FRAMBUESA', 'FRUTAS FRESA', 'FRUTAS FRESÃ\\x93N',\n",
              "       'FRUTAS FRUTAS SIN DETERMINAR', 'FRUTAS GRANADAS',\n",
              "       'FRUTAS GROSELLA', 'FRUTAS HIGO CHUMBO', 'FRUTAS HIGOS',\n",
              "       'FRUTAS KIWIS', 'FRUTAS MELÃ\\x93N AMARILLO',\n",
              "       'FRUTAS MELÃ\\x93N GALIA', 'FRUTAS MELÃ\\x93N SIN DETERMINAR',\n",
              "       'FRUTAS MELÃ\\x93N VERDE PIEL DE SAPO', 'FRUTAS MORA',\n",
              "       'FRUTAS PIÃ\\x91A TROPICAL', 'FRUTAS PLÃ\\x81TANOS CANARIOS',\n",
              "       'FRUTAS PLÃ\\x81TANOS IMPORTACIÃ\\x93N',\n",
              "       'FRUTAS SANDÃ\\x8dA CON GRANA', 'FRUTAS SANDÃ\\x8dA SIN GRANA',\n",
              "       'FRUTAS UVA BLANCA', 'FRUTAS UVA NEGRA', 'GUISANTE',\n",
              "       'GÃ\\x8dRGOLAS', 'HABAS', 'HINOJO', 'JUDÃ\\x8dA BOBI',\n",
              "       'JUDÃ\\x8dA FINA', 'JUDÃ\\x8dA PERONA', 'JUDÃ\\x8dAS SIN DETERMINAR',\n",
              "       'LECHUGA ICEBERG', 'LECHUGA LARGA', 'LECHUGA SIN DETERMINAR',\n",
              "       'LICHIS', 'LIMA', 'LIMÃ\\x93N', 'MANDARINA CLEMENTINA',\n",
              "       'MANDARINA SATSUMA', 'MANDARINAS SIN DETER.', 'MANGOS',\n",
              "       'MANZANA AMARILLA GOLDEN', 'MANZANA BICOLOR', 'MANZANA ROJA',\n",
              "       'MANZANA VERDE GRANNY SMITH', 'MANZANAS SIN DETERMINAR',\n",
              "       'MARACUYÃ\\x81', 'MAÃ\\x8dZ', 'MELOCOTONES ROJOS P.AMARILLA',\n",
              "       'MELOCOTÃ\\x93N AMARILLO', 'MELOCOTÃ\\x93N ROJO P.BLANCA',\n",
              "       'MEMBRILLO', 'MENESTRA', 'NABO', 'NARANJA', 'NASHIS',\n",
              "       'NECTARINA PULPA AMARILLA', 'NECTARINA PULPA BLANCA',\n",
              "       'NÃ\\x8dSCALOS', 'NÃ\\x8dSPERO', 'PAPAYAS',\n",
              "       'PATATA BLANCA CALIDAD MONA LISA', 'PATATA ROJA', 'PEPINO',\n",
              "       'PERA BLANQUILLA', 'PERA DE INVIERNO', 'PERA DE VERANO',\n",
              "       'PERA TEMPRANA', 'PEREJIL', 'PIMIENTO LAMUYO', 'PIMIENTO ROJO',\n",
              "       'PIMIENTO VERDE ITALIANO', 'PITAHAYA', 'POMELO', 'PUERROS',\n",
              "       'RAMBUTÃ\\x81N', 'REMOLACHA', 'RÃ\\x81BANOS', 'SECO ALMENDRAS',\n",
              "       'SECO AVELLANAS', 'SECO CASTAÃ\\x91AS', 'SECO NUECES',\n",
              "       'SETAS SIN DETERMINAR', 'TOMATE MADURO', 'TOMATE VERDE', 'VARIOS',\n",
              "       'VERDURAS OTRAS', 'ZANAHORIA'], dtype=object)"
            ]
          },
          "metadata": {},
          "execution_count": 877
        }
      ]
    },
    {
      "cell_type": "code",
      "metadata": {
        "colab": {
          "base_uri": "https://localhost:8080/"
        },
        "id": "r6ZrScheAK13",
        "outputId": "27d0aa75-24f4-4f40-dc05-a88e468129aa"
      },
      "source": [
        "dat_mercaBarna_dict = cultivos_names['dat_mercaBarna_dict']\n",
        "# AASUNCION COLES A LA GENERAL COLES REPOLLO\n",
        "for elem in list(dat_mercaBarna['product'].unique()) - dat_mercaBarna_dict.keys():\n",
        "  #dat_mercaBarna = dat_mercaBarna.drop(dat_mercaBarna[dat_mercaBarna['product'] == elem].index)\n",
        "  dat_mercaBarna = dat_mercaBarna[dat_mercaBarna['product'] != elem]\n",
        "\n",
        "dat_mercaBarna['product'] = dat_mercaBarna['product'].map(lambda x: dat_mercaBarna_dict[x])\n",
        "dat_mercaBarna['product'].unique()"
      ],
      "execution_count": null,
      "outputs": [
        {
          "output_type": "execute_result",
          "data": {
            "text/plain": [
              "array(['ACELGA', 'AJO', 'ALCACHOFA', 'APIO', 'BERENJENA', 'BROCOLI',\n",
              "       'CALABACIN', 'CALABAZA', 'CEBOLLA', 'CEBOLLETA', 'CHIRIVIA',\n",
              "       'COL BRUSELAS', 'COL REPOLLO', 'COL CHINA', 'COL LOMBARDA',\n",
              "       'COLIFLOR', 'ESCAROLA', 'ESPINACA', 'MELON', 'SANDIA', 'GUISANTE',\n",
              "       'HABA', 'JUDIA', 'LECHUGA', 'MAIZ', 'NABO', 'PATATA', 'PEPINO',\n",
              "       'PEREJIL', 'PIMIENTO', 'PUERRO', 'REMOLACHA', 'TOMATE',\n",
              "       'ZANAHORIA'], dtype=object)"
            ]
          },
          "metadata": {},
          "execution_count": 878
        }
      ]
    },
    {
      "cell_type": "code",
      "metadata": {
        "colab": {
          "base_uri": "https://localhost:8080/"
        },
        "id": "4CBLCVcJoiPR",
        "outputId": "0aa19286-f4ba-4232-b115-d5e4f39ba2a9"
      },
      "source": [
        "precios_JAndalucia['PRODUCTO'].unique()"
      ],
      "execution_count": null,
      "outputs": [
        {
          "output_type": "execute_result",
          "data": {
            "text/plain": [
              "array(['LIMON', 'MANDARINA', 'NARANJA', 'POMELO', 'AGUACATE', 'CHIRIMOYA',\n",
              "       'MANGO', 'FRAMBUESA', 'FRESÓN', 'AJO', 'CEBOLLA', 'ESPARRAGO',\n",
              "       'LECHUGA', 'ZANAHORIA', 'BERENJENA', 'CALABACIN', 'JUDIA VERDE',\n",
              "       'MELON', 'PEPINO', 'PIMIENTO', 'SANDIA', 'TOMATE',\n",
              "       'BERENJENA (ECO)', 'CALABACIN (ECO)', 'PEPINO (ECO)',\n",
              "       'PIMIENTO (ECO)', 'TOMATE (ECO)', 'ALMENDRA', 'ARANDANO',\n",
              "       'SANDIA (ECO)', 'JUDIA VERDE (ECO)', 'ALMENDRA (ECO)'],\n",
              "      dtype=object)"
            ]
          },
          "metadata": {},
          "execution_count": 879
        }
      ]
    },
    {
      "cell_type": "code",
      "metadata": {
        "colab": {
          "base_uri": "https://localhost:8080/"
        },
        "id": "YjXYyeYwHefu",
        "outputId": "9da9ef5b-55e3-4dff-e6cd-ffc4c2ab7e94"
      },
      "source": [
        "precios_JAndalucia_dict = cultivos_names['precios_JAndalucia_dict']\n",
        "\n",
        "for elem in list(precios_JAndalucia['PRODUCTO'].unique()) - precios_JAndalucia_dict.keys():\n",
        "  #precios_JAndalucia = precios_JAndalucia.drop(precios_JAndalucia[precios_JAndalucia['PRODUCTO'] == elem].index)\n",
        "  precios_JAndalucia = precios_JAndalucia[precios_JAndalucia.PRODUCTO != elem]\n",
        "\n",
        "precios_JAndalucia['PRODUCTO'] = precios_JAndalucia['PRODUCTO'].map(lambda x: precios_JAndalucia_dict[x])\n",
        "precios_JAndalucia['PRODUCTO'].unique()"
      ],
      "execution_count": null,
      "outputs": [
        {
          "output_type": "execute_result",
          "data": {
            "text/plain": [
              "array(['AJO', 'CEBOLLA', 'LECHUGA', 'ZANAHORIA', 'BERENJENA', 'CALABACIN',\n",
              "       'JUDIA', 'MELON', 'PEPINO', 'PIMIENTO', 'SANDIA', 'TOMATE'],\n",
              "      dtype=object)"
            ]
          },
          "metadata": {},
          "execution_count": 880
        }
      ]
    },
    {
      "cell_type": "markdown",
      "metadata": {
        "id": "iiuV86aaaBvs"
      },
      "source": [
        "### 3.1.2 Descartar elementos que no nos interesen"
      ]
    },
    {
      "cell_type": "code",
      "metadata": {
        "id": "Ea08A8e2ZOn-"
      },
      "source": [
        "# Quitar elementos Total Nacional en cosumo_CCAA\n",
        "consumo_CCAA = consumo_CCAA[consumo_CCAA.CCAA != 'Total Nacional']"
      ],
      "execution_count": null,
      "outputs": []
    },
    {
      "cell_type": "markdown",
      "metadata": {
        "id": "kJ1cRWIzhk_H"
      },
      "source": [
        "### 3.1.3 Unificar nombres de CCAA (y pasar provincias a CCAA)"
      ]
    },
    {
      "cell_type": "code",
      "metadata": {
        "id": "PeFlJ5jExl72"
      },
      "source": [
        "with open('ccaa_names.json') as json_file:\n",
        "  ccaa_names = json.load(json_file)"
      ],
      "execution_count": null,
      "outputs": []
    },
    {
      "cell_type": "code",
      "metadata": {
        "colab": {
          "base_uri": "https://localhost:8080/"
        },
        "id": "7oXXwIKLhwd6",
        "outputId": "d5a06d05-f169-45a5-d96c-7e91f83242c2"
      },
      "source": [
        "dat_mercaMadrid['origen'].unique()"
      ],
      "execution_count": null,
      "outputs": [
        {
          "output_type": "execute_result",
          "data": {
            "text/plain": [
              "array(['ALBACETE', 'ALICANTE', 'ALMERIA', 'AVILA', 'BADAJOZ', 'BURGOS',\n",
              "       'CACERES', 'CANTABRIA', 'CASTELLON', 'CORDOBA', 'CUENCA',\n",
              "       'FRANCIA', 'GRANADA', 'HUELVA', 'LA CORUÃ\\x91A', 'LA RIOJA',\n",
              "       'LEON', 'LERIDA', 'MADRID', 'MALAGA', 'MURCIA', 'NAVARRA',\n",
              "       'ORENSE', 'PONTEVEDRA', 'PORTUGAL', 'SEGOVIA', 'SEVILLA',\n",
              "       'TARRAGONA', 'TOLEDO', 'VALENCIA', 'VALLADOLID', 'VIZCAYA',\n",
              "       'ZARAGOZA', 'CADIZ', 'CIUDAD REAL', 'HUESCA', 'BARCELONA',\n",
              "       'GERONA', 'GUIPUZCOA', 'LAS PALMAS', 'LUGO', 'ZAMORA', 'ASTURIAS',\n",
              "       'ALAVA', 'TERUEL', 'BELGICA', 'HOLANDA', 'BALEARES', 'GUATEMALA',\n",
              "       'JAEN', 'MARRUECOS', 'REPUBLICA DOMINICANA', 'GUADALAJARA',\n",
              "       'IRLANDA', 'PALENCIA', 'ARGENTINA', 'BRASIL', 'CHILE', 'CHINA',\n",
              "       'COSTA RICA', 'ESTADOS UNIDOS', 'ITALIA', 'PERU', 'SALAMANCA',\n",
              "       'SUDAFRICA', 'SORIA', 'POLONIA', 'ALEMANIA', 'SENEGAL', 'HONDURAS',\n",
              "       'PANAMA', 'BULGARIA', 'ARGELIA', 'CAMERUN', 'EGIPTO',\n",
              "       'GRAN BRETAÃ\\x91A', 'OTROS PAIS. EUROPEOS', 'TURQUIA'],\n",
              "      dtype=object)"
            ]
          },
          "metadata": {},
          "execution_count": 883
        }
      ]
    },
    {
      "cell_type": "code",
      "metadata": {
        "colab": {
          "base_uri": "https://localhost:8080/"
        },
        "id": "vBm0IXeYiFTL",
        "outputId": "bd2ae14c-919d-4bf5-f655-f35d0f20aa51"
      },
      "source": [
        "ccaa_merca = ccaa_names['ccaa_merca']\n",
        "# Hemos quitado paises de afuera (Italia, Rep Dominicana..'ARGENTINA', 'BRASIL', 'CHILE', 'CHINA'\n",
        "for elem in list(dat_mercaMadrid['origen'].unique()) - ccaa_merca.keys():\n",
        "  dat_mercaMadrid = dat_mercaMadrid[dat_mercaMadrid.origen != elem]\n",
        "\n",
        "dat_mercaMadrid['origen'] = dat_mercaMadrid['origen'].map(lambda x: ccaa_merca[x])\n",
        "dat_mercaMadrid['origen'].unique()"
      ],
      "execution_count": null,
      "outputs": [
        {
          "output_type": "execute_result",
          "data": {
            "text/plain": [
              "array(['Castilla La Mancha', 'Valencia', 'Andalucia', 'Castilla Leon',\n",
              "       'Extremadura', 'Cantabria', 'Galicia', 'La Rioja', 'Cataluña',\n",
              "       'Madrid', 'Murcia', 'Navarra', 'Pais Vasco', 'Aragon', 'Canarias',\n",
              "       'Asturias', 'Baleares'], dtype=object)"
            ]
          },
          "metadata": {},
          "execution_count": 884
        }
      ]
    },
    {
      "cell_type": "code",
      "metadata": {
        "colab": {
          "base_uri": "https://localhost:8080/"
        },
        "id": "JrcM8bS8hwoM",
        "outputId": "4fb4b18e-867a-469a-d97c-f5e4672e7600"
      },
      "source": [
        "dat_mercaBarna['origen'].unique()"
      ],
      "execution_count": null,
      "outputs": [
        {
          "output_type": "execute_result",
          "data": {
            "text/plain": [
              "array(['ALEMANIA', 'ALICANTE', 'ALMERIA', 'BARCELONA', 'BURGOS', 'CADIZ',\n",
              "       'CATELLON', 'CHILE', 'CHINA', 'CORDOBA', 'ECUADOR', 'GERONA',\n",
              "       'GRANADA', 'HUELVA', 'HUESCA', 'ITALIA', 'LA CORUÑA', 'LERIDA',\n",
              "       'MADRID', 'MARRUECOS', 'MURCIA', 'NAVARRA', 'OTRAS PROVINCIAS',\n",
              "       'OTROS AMERICA', 'TARRAGONA', 'USA', 'VALENCIA', 'VALLADOLID',\n",
              "       'ALBACETE', 'BALEARES', 'CIUDAD REAL', 'CUENCA', 'FRANCIA',\n",
              "       'HOLANDA', 'JAEN', 'LOGROÑO', 'SEGOVIA', 'SEVILLA', 'TOLEDO',\n",
              "       'ARGENTINA', 'BADAJOZ', 'MALAGA', 'ORENSE', 'SORIA', 'ZAMORA',\n",
              "       'BELGICA', 'TERUEL', 'ZARAGOZA', 'ALAVA', 'DINAMARCA', 'LUGO',\n",
              "       'LUXEMBURGO', 'PORTUGAL', 'SUDAFRICA', 'CANADA', 'TUNEZ', 'AVILA',\n",
              "       'CACERES', 'COSTA RICA', 'GRAN BRETAÑA', 'GUIPUZCUA', 'ISRAEL',\n",
              "       'OVIEDO', 'SUIZA', 'TAILANDIA', 'VIZCAYA', 'BRASIL', 'MEJICO',\n",
              "       'NUEVA ZELANDA', 'OTROS ASIA', 'COLOMBIA', 'PALENCIA',\n",
              "       'COSTA MARFIL', 'OTROS AFRICA', 'OTROS EUROPA', 'TURQUIA',\n",
              "       'AUSTRIA', 'OTROS ESPAÑA', 'SALAMANCA', 'PONTEVEDRA', 'KENIA',\n",
              "       'URUGUAY', 'GUADALAJARA', 'ISLANDIA', 'SANTANDER', 'LEON',\n",
              "       'ANDORRA', 'COREA', 'GRECIA'], dtype=object)"
            ]
          },
          "metadata": {},
          "execution_count": 885
        }
      ]
    },
    {
      "cell_type": "code",
      "metadata": {
        "colab": {
          "base_uri": "https://localhost:8080/"
        },
        "id": "r2qsCPfypxJM",
        "outputId": "fba59658-6250-4fdc-b8a1-4bd8f9b858b7"
      },
      "source": [
        "for elem in list(dat_mercaBarna['origen'].unique()) - ccaa_merca.keys():\n",
        "  dat_mercaBarna = dat_mercaBarna[dat_mercaBarna.origen != elem]\n",
        "\n",
        "dat_mercaBarna['origen'] = dat_mercaBarna['origen'].map(lambda x: ccaa_merca[x])\n",
        "dat_mercaBarna['origen'].unique()"
      ],
      "execution_count": null,
      "outputs": [
        {
          "output_type": "execute_result",
          "data": {
            "text/plain": [
              "array(['Valencia', 'Andalucia', 'Cataluña', 'Castilla Leon', 'Aragon',\n",
              "       'Galicia', 'Madrid', 'Murcia', 'Navarra', 'Castilla La Mancha',\n",
              "       'Baleares', 'La Rioja', 'Extremadura', 'Pais Vasco', 'Asturias',\n",
              "       'Cantabria'], dtype=object)"
            ]
          },
          "metadata": {},
          "execution_count": 886
        }
      ]
    },
    {
      "cell_type": "code",
      "metadata": {
        "colab": {
          "base_uri": "https://localhost:8080/"
        },
        "id": "O8lw6e_yqdTr",
        "outputId": "46d72560-bd35-4d47-a47f-9c10091f0912"
      },
      "source": [
        "aemet_dict = ccaa_names['aemet_dict']\n",
        "\n",
        "# CEUTA Y MELILLA LO HEMOS QUITAAAAAAAAO\n",
        "\n",
        "for elem in list(aemet['Provincia'].unique()) - aemet_dict.keys():\n",
        "  aemet = aemet[aemet.Provincia != elem]\n",
        "\n",
        "aemet['Provincia'] = aemet['Provincia'].map(lambda x: aemet_dict[x])\n",
        "aemet.rename(columns={'Provincia': 'CCAA'}, inplace=True)\n",
        "aemet['CCAA'].unique()"
      ],
      "execution_count": null,
      "outputs": [
        {
          "output_type": "execute_result",
          "data": {
            "text/plain": [
              "array(['Galicia', 'Castilla La Mancha', 'Valencia', 'Andalucia',\n",
              "       'Pais Vasco', 'Asturias', 'Castilla Leon', 'Extremadura',\n",
              "       'Cataluña', 'Cantabria', 'Aragon', 'Baleares', 'La Rioja',\n",
              "       'Canarias', 'Madrid', 'Murcia', 'Navarra'], dtype=object)"
            ]
          },
          "metadata": {},
          "execution_count": 887
        }
      ]
    },
    {
      "cell_type": "markdown",
      "metadata": {
        "id": "V6ZDW8V5usYx"
      },
      "source": [
        "### Unificar nombres de meses (pasarlos a numericos)"
      ]
    },
    {
      "cell_type": "code",
      "metadata": {
        "id": "d_D16jBUzkDN"
      },
      "source": [
        "with open('months_season.json') as json_file:\n",
        "  months_season = json.load(json_file)"
      ],
      "execution_count": null,
      "outputs": []
    },
    {
      "cell_type": "code",
      "metadata": {
        "colab": {
          "base_uri": "https://localhost:8080/"
        },
        "id": "6d1onRPWu0ah",
        "outputId": "3a826cb1-bdc2-4a66-baa2-69a96bb5f3db"
      },
      "source": [
        "months = months_season['months']\n",
        "for elem in list(consumo_CCAA['Mes'].unique()) - months.keys():\n",
        "  consumo_CCAA = consumo_CCAA[consumo_CCAA.Mes != elem]\n",
        "\n",
        "consumo_CCAA['Mes'] = consumo_CCAA['Mes'].map(lambda x: months[x])\n",
        "consumo_CCAA['Mes'].unique()"
      ],
      "execution_count": null,
      "outputs": [
        {
          "output_type": "execute_result",
          "data": {
            "text/plain": [
              "array([ 1,  2,  3,  4,  5,  6,  7,  8,  9, 10, 11, 12])"
            ]
          },
          "metadata": {},
          "execution_count": 889
        }
      ]
    },
    {
      "cell_type": "code",
      "metadata": {
        "colab": {
          "base_uri": "https://localhost:8080/"
        },
        "id": "CuD2VWc9RU5P",
        "outputId": "fd106e33-a1fa-462b-b834-57a71fff7350"
      },
      "source": [
        "# Normalizar estaciones a meses\n",
        "# Primero comprobamos si no hay valores nulos\n",
        "#Chekiar en los numericos si hay 0 (que equivalen a nulos EN ESTE CASO)\n",
        "calendario_siembra['D siem-recol'].unique()\n"
      ],
      "execution_count": null,
      "outputs": [
        {
          "output_type": "execute_result",
          "data": {
            "text/plain": [
              "array(['90', '60-120', '90-120', '100', '130', '75', '120', '60-180',\n",
              "       '110', '80', '60'], dtype=object)"
            ]
          },
          "metadata": {},
          "execution_count": 890
        }
      ]
    },
    {
      "cell_type": "code",
      "metadata": {
        "id": "0sUICaeOQSXX"
      },
      "source": [
        "\n",
        "import pandas as pd\n",
        "\n",
        "calendario_siembra_new = pd.DataFrame()\n",
        "for _, row in calendario_siembra.iterrows():\n",
        "  for epoca in row['Epoca siemb'].split('-'):\n",
        "    calendario_siembra_new = calendario_siembra_new.append([{\n",
        "        'Cultivo': row.Cultivo,\n",
        "        'Epoca siemb': epoca.lower(),\n",
        "        'D siem-recol': row['D siem-recol']\n",
        "        }], ignore_index=True,)\n",
        "    \n",
        "calendario_siembra = calendario_siembra_new\n"
      ],
      "execution_count": null,
      "outputs": []
    },
    {
      "cell_type": "code",
      "metadata": {
        "colab": {
          "base_uri": "https://localhost:8080/",
          "height": 206
        },
        "id": "6EDLqgXoQcp2",
        "outputId": "7b2c8360-9f0f-4cdc-b5d6-4b600713c69e"
      },
      "source": [
        "season_to_month_dict = months_season['season_to_month_dict']\n",
        "\n",
        "calendario_siembra['Inicio'] = calendario_siembra['Epoca siemb'].map(lambda x: season_to_month_dict[x][0])\n",
        "calendario_siembra['Fin'] = calendario_siembra['Epoca siemb'].map(lambda x: season_to_month_dict[x][1])\n",
        "calendario_siembra.drop('Epoca siemb', axis=1, inplace=True)\n",
        "calendario_siembra.head()"
      ],
      "execution_count": null,
      "outputs": [
        {
          "output_type": "execute_result",
          "data": {
            "text/html": [
              "<div>\n",
              "<style scoped>\n",
              "    .dataframe tbody tr th:only-of-type {\n",
              "        vertical-align: middle;\n",
              "    }\n",
              "\n",
              "    .dataframe tbody tr th {\n",
              "        vertical-align: top;\n",
              "    }\n",
              "\n",
              "    .dataframe thead th {\n",
              "        text-align: right;\n",
              "    }\n",
              "</style>\n",
              "<table border=\"1\" class=\"dataframe\">\n",
              "  <thead>\n",
              "    <tr style=\"text-align: right;\">\n",
              "      <th></th>\n",
              "      <th>Cultivo</th>\n",
              "      <th>D siem-recol</th>\n",
              "      <th>Inicio</th>\n",
              "      <th>Fin</th>\n",
              "    </tr>\n",
              "  </thead>\n",
              "  <tbody>\n",
              "    <tr>\n",
              "      <th>0</th>\n",
              "      <td>ACELGA</td>\n",
              "      <td>90</td>\n",
              "      <td>9</td>\n",
              "      <td>11</td>\n",
              "    </tr>\n",
              "    <tr>\n",
              "      <th>1</th>\n",
              "      <td>ACELGA</td>\n",
              "      <td>90</td>\n",
              "      <td>3</td>\n",
              "      <td>5</td>\n",
              "    </tr>\n",
              "    <tr>\n",
              "      <th>2</th>\n",
              "      <td>AJO</td>\n",
              "      <td>60-120</td>\n",
              "      <td>9</td>\n",
              "      <td>11</td>\n",
              "    </tr>\n",
              "    <tr>\n",
              "      <th>3</th>\n",
              "      <td>AJO</td>\n",
              "      <td>60-120</td>\n",
              "      <td>12</td>\n",
              "      <td>2</td>\n",
              "    </tr>\n",
              "    <tr>\n",
              "      <th>4</th>\n",
              "      <td>ALCACHOFA</td>\n",
              "      <td>90-120</td>\n",
              "      <td>3</td>\n",
              "      <td>5</td>\n",
              "    </tr>\n",
              "  </tbody>\n",
              "</table>\n",
              "</div>"
            ],
            "text/plain": [
              "     Cultivo D siem-recol  Inicio  Fin\n",
              "0     ACELGA           90       9   11\n",
              "1     ACELGA           90       3    5\n",
              "2        AJO       60-120       9   11\n",
              "3        AJO       60-120      12    2\n",
              "4  ALCACHOFA       90-120       3    5"
            ]
          },
          "metadata": {},
          "execution_count": 892
        }
      ]
    },
    {
      "cell_type": "code",
      "metadata": {
        "id": "75fPTto1QhWB"
      },
      "source": [
        "import math #python no redondea con 0.5\n",
        "def normal_round(n):\n",
        "    if n - math.floor(n) < 0.5:\n",
        "        return math.floor(n)\n",
        "    return math.ceil(n)\n",
        "\n",
        "\n",
        "d_siembr = calendario_siembra['D siem-recol'] \\\n",
        "  .map(lambda x: x.split('-')) \\\n",
        "  .map(lambda days: list(map(lambda day: normal_round(float(day) / 30), days))) \\\n",
        "  .map(lambda x: x if len(x) >= 2 else x*2)\n",
        "\n",
        "calendario_siembra['Min siem-recol'] = d_siembr.map(lambda x: x[0])\n",
        "calendario_siembra['Max siem-recol'] = d_siembr.map(lambda x: x[1])\n",
        "calendario_siembra.drop('D siem-recol', axis=1, inplace=True)\n",
        "\n"
      ],
      "execution_count": null,
      "outputs": []
    },
    {
      "cell_type": "markdown",
      "metadata": {
        "id": "0iuNcEM3sqdy"
      },
      "source": [
        "### Tratar valores nulos xd (0000) "
      ]
    },
    {
      "cell_type": "code",
      "metadata": {
        "colab": {
          "base_uri": "https://localhost:8080/"
        },
        "id": "0Ifp4Q7FyzmM",
        "outputId": "dc391e78-0cf4-40ec-9cd0-0a30c786fc1c"
      },
      "source": [
        "import pandas as pd\n",
        "pd.isnull(calendario_siembra).any()\n",
        "\n",
        "#df.dropna(axis=0, how='any', thresh=None, subset=None, inplace=True)"
      ],
      "execution_count": null,
      "outputs": [
        {
          "output_type": "execute_result",
          "data": {
            "text/plain": [
              "Cultivo           False\n",
              "Inicio            False\n",
              "Fin               False\n",
              "Min siem-recol    False\n",
              "Max siem-recol    False\n",
              "dtype: bool"
            ]
          },
          "metadata": {},
          "execution_count": 894
        }
      ]
    },
    {
      "cell_type": "code",
      "metadata": {
        "colab": {
          "base_uri": "https://localhost:8080/"
        },
        "id": "bM5DDUTf0cqL",
        "outputId": "79b8df1a-7088-427f-d870-cda74d6af273"
      },
      "source": [
        "import pandas as pd\n",
        "pd.isnull(consumo_CCAA).any()"
      ],
      "execution_count": null,
      "outputs": [
        {
          "output_type": "execute_result",
          "data": {
            "text/plain": [
              "Año                      False\n",
              "Mes                      False\n",
              "CCAA                     False\n",
              "Producto                 False\n",
              "Volumen (miles de kg)    False\n",
              "Valor (miles de €)       False\n",
              "Precio medio kg          False\n",
              "Penetración (%)          False\n",
              "Consumo per capita       False\n",
              "Gasto per capita         False\n",
              "dtype: bool"
            ]
          },
          "metadata": {},
          "execution_count": 895
        }
      ]
    },
    {
      "cell_type": "code",
      "metadata": {
        "colab": {
          "base_uri": "https://localhost:8080/"
        },
        "id": "PExARkeBdUM-",
        "outputId": "ec6bb81e-0cda-45de-b5ff-e4857a170106"
      },
      "source": [
        "pd.isnull(dat_mercaMadrid).any()"
      ],
      "execution_count": null,
      "outputs": [
        {
          "output_type": "execute_result",
          "data": {
            "text/plain": [
              "product       False\n",
              "origen        False\n",
              "YEAR          False\n",
              "MONTH         False\n",
              "price_mean    False\n",
              "Volumen       False\n",
              "dtype: bool"
            ]
          },
          "metadata": {},
          "execution_count": 896
        }
      ]
    },
    {
      "cell_type": "code",
      "metadata": {
        "colab": {
          "base_uri": "https://localhost:8080/"
        },
        "id": "SS20CIfddUUQ",
        "outputId": "4fb2d6d0-5a10-4ebf-9f22-c0dafe6edbe3"
      },
      "source": [
        "pd.isnull(dat_mercaBarna).any()"
      ],
      "execution_count": null,
      "outputs": [
        {
          "output_type": "execute_result",
          "data": {
            "text/plain": [
              "product       False\n",
              "origen        False\n",
              "YEAR          False\n",
              "MONTH         False\n",
              "price_mean    False\n",
              "Volumen       False\n",
              "dtype: bool"
            ]
          },
          "metadata": {},
          "execution_count": 897
        }
      ]
    },
    {
      "cell_type": "code",
      "metadata": {
        "colab": {
          "base_uri": "https://localhost:8080/"
        },
        "id": "v0vrmEwCdZPY",
        "outputId": "e0d58d65-e424-4cba-e7ca-f70a6d34f118"
      },
      "source": [
        "pd.isnull(precios_JAndalucia).any()"
      ],
      "execution_count": null,
      "outputs": [
        {
          "output_type": "execute_result",
          "data": {
            "text/plain": [
              "INICIO      False\n",
              "FIN         False\n",
              "PRODUCTO    False\n",
              "POSICION    False\n",
              "PRECIO      False\n",
              "dtype: bool"
            ]
          },
          "metadata": {},
          "execution_count": 898
        }
      ]
    },
    {
      "cell_type": "code",
      "metadata": {
        "colab": {
          "base_uri": "https://localhost:8080/"
        },
        "id": "4zYu1_85dd_i",
        "outputId": "550cac37-8c85-4dd3-b18f-61731abbd3f2"
      },
      "source": [
        "pd.isnull(aemet).any()"
      ],
      "execution_count": null,
      "outputs": [
        {
          "output_type": "execute_result",
          "data": {
            "text/plain": [
              "CCAA                         False\n",
              "Temperatura media (ºC)        True\n",
              "Precipitación 00-24h (mm)     True\n",
              "Fecha                        False\n",
              "dtype: bool"
            ]
          },
          "metadata": {},
          "execution_count": 899
        }
      ]
    },
    {
      "cell_type": "code",
      "metadata": {
        "colab": {
          "base_uri": "https://localhost:8080/"
        },
        "id": "SkZQ8Hqyd2Vq",
        "outputId": "135a6905-9c41-4844-d5cf-accf0f248e8c"
      },
      "source": [
        "pd.isnull(aemet).sum(axis=0)"
      ],
      "execution_count": null,
      "outputs": [
        {
          "output_type": "execute_result",
          "data": {
            "text/plain": [
              "CCAA                             0\n",
              "Temperatura media (ºC)       37567\n",
              "Precipitación 00-24h (mm)    45115\n",
              "Fecha                            0\n",
              "dtype: int64"
            ]
          },
          "metadata": {},
          "execution_count": 900
        }
      ]
    },
    {
      "cell_type": "code",
      "metadata": {
        "id": "mJ4umGEygBSt"
      },
      "source": [
        "# Agrupar por mes para ver la distribucion de nulos\n",
        "aemet['Año'] = aemet['Fecha'].map(lambda x : int(x.split('-')[0]))\n",
        "aemet['Mes'] = aemet['Fecha'].map(lambda x : int(x.split('-')[1]))\n",
        "aemet['Dia'] = aemet['Fecha'].map(lambda x : int(x.split('-')[2]))"
      ],
      "execution_count": null,
      "outputs": []
    },
    {
      "cell_type": "code",
      "metadata": {
        "colab": {
          "base_uri": "https://localhost:8080/",
          "height": 206
        },
        "id": "txt86qT0hzNZ",
        "outputId": "1c9e6a40-2b36-4005-8342-1e0b9a08d6e8"
      },
      "source": [
        "# Además, se borrara la columna fecha ya que es redundante\n",
        "aemet.drop('Fecha', axis=1, inplace=True)\n",
        "aemet.head()"
      ],
      "execution_count": null,
      "outputs": [
        {
          "output_type": "execute_result",
          "data": {
            "text/html": [
              "<div>\n",
              "<style scoped>\n",
              "    .dataframe tbody tr th:only-of-type {\n",
              "        vertical-align: middle;\n",
              "    }\n",
              "\n",
              "    .dataframe tbody tr th {\n",
              "        vertical-align: top;\n",
              "    }\n",
              "\n",
              "    .dataframe thead th {\n",
              "        text-align: right;\n",
              "    }\n",
              "</style>\n",
              "<table border=\"1\" class=\"dataframe\">\n",
              "  <thead>\n",
              "    <tr style=\"text-align: right;\">\n",
              "      <th></th>\n",
              "      <th>CCAA</th>\n",
              "      <th>Temperatura media (ºC)</th>\n",
              "      <th>Precipitación 00-24h (mm)</th>\n",
              "      <th>Año</th>\n",
              "      <th>Mes</th>\n",
              "      <th>Dia</th>\n",
              "    </tr>\n",
              "  </thead>\n",
              "  <tbody>\n",
              "    <tr>\n",
              "      <th>0</th>\n",
              "      <td>Galicia</td>\n",
              "      <td>10.2</td>\n",
              "      <td>NaN</td>\n",
              "      <td>2018</td>\n",
              "      <td>3</td>\n",
              "      <td>7</td>\n",
              "    </tr>\n",
              "    <tr>\n",
              "      <th>1</th>\n",
              "      <td>Galicia</td>\n",
              "      <td>7.0</td>\n",
              "      <td>1.8</td>\n",
              "      <td>2018</td>\n",
              "      <td>3</td>\n",
              "      <td>7</td>\n",
              "    </tr>\n",
              "    <tr>\n",
              "      <th>2</th>\n",
              "      <td>Galicia</td>\n",
              "      <td>10.2</td>\n",
              "      <td>1.0</td>\n",
              "      <td>2018</td>\n",
              "      <td>3</td>\n",
              "      <td>7</td>\n",
              "    </tr>\n",
              "    <tr>\n",
              "      <th>3</th>\n",
              "      <td>Galicia</td>\n",
              "      <td>8.7</td>\n",
              "      <td>0.7</td>\n",
              "      <td>2018</td>\n",
              "      <td>3</td>\n",
              "      <td>7</td>\n",
              "    </tr>\n",
              "    <tr>\n",
              "      <th>4</th>\n",
              "      <td>Galicia</td>\n",
              "      <td>7.4</td>\n",
              "      <td>0.6</td>\n",
              "      <td>2018</td>\n",
              "      <td>3</td>\n",
              "      <td>7</td>\n",
              "    </tr>\n",
              "  </tbody>\n",
              "</table>\n",
              "</div>"
            ],
            "text/plain": [
              "      CCAA  Temperatura media (ºC)  Precipitación 00-24h (mm)   Año  Mes  Dia\n",
              "0  Galicia                    10.2                        NaN  2018    3    7\n",
              "1  Galicia                     7.0                        1.8  2018    3    7\n",
              "2  Galicia                    10.2                        1.0  2018    3    7\n",
              "3  Galicia                     8.7                        0.7  2018    3    7\n",
              "4  Galicia                     7.4                        0.6  2018    3    7"
            ]
          },
          "metadata": {},
          "execution_count": 902
        }
      ]
    },
    {
      "cell_type": "code",
      "metadata": {
        "id": "AR_oq9ImhzUG"
      },
      "source": [
        "#aux = aemet.groupby(['Provincia', 'Año' , 'Mes']).mean()\n",
        "#aux = aemet[aemet['Precipitación 00-24h (mm)'].isnull()].groupby(['Provincia', 'Año' , 'Mes'])\n"
      ],
      "execution_count": null,
      "outputs": []
    },
    {
      "cell_type": "code",
      "metadata": {
        "id": "MhLTGvIOsb0h"
      },
      "source": [
        "import numpy as np\n",
        "\n",
        "aux = aemet.copy()\n",
        "def countNulls(x):\n",
        "  count = 0\n",
        "  if np.isnan(x[0]) or np.isnan(x[1]):\n",
        "    count += 1\n",
        "  return count\n",
        "\n",
        "aux['Nulls'] = list(map(lambda x: countNulls(x), zip(aux['Temperatura media (ºC)'], aux['Precipitación 00-24h (mm)'])))\n",
        "aux1 = aux.groupby(['CCAA', 'Año', 'Mes']).sum()[['Nulls']] # suma de filas con algun nulo\n",
        "#Quitar columnas"
      ],
      "execution_count": null,
      "outputs": []
    },
    {
      "cell_type": "code",
      "metadata": {
        "colab": {
          "base_uri": "https://localhost:8080/",
          "height": 238
        },
        "id": "p8PjL033r8Gy",
        "outputId": "7b134d4f-dcab-4d59-a7f2-97fa362fef6d"
      },
      "source": [
        "display(aux1.head())"
      ],
      "execution_count": null,
      "outputs": [
        {
          "output_type": "display_data",
          "data": {
            "text/html": [
              "<div>\n",
              "<style scoped>\n",
              "    .dataframe tbody tr th:only-of-type {\n",
              "        vertical-align: middle;\n",
              "    }\n",
              "\n",
              "    .dataframe tbody tr th {\n",
              "        vertical-align: top;\n",
              "    }\n",
              "\n",
              "    .dataframe thead th {\n",
              "        text-align: right;\n",
              "    }\n",
              "</style>\n",
              "<table border=\"1\" class=\"dataframe\">\n",
              "  <thead>\n",
              "    <tr style=\"text-align: right;\">\n",
              "      <th></th>\n",
              "      <th></th>\n",
              "      <th></th>\n",
              "      <th>Nulls</th>\n",
              "    </tr>\n",
              "    <tr>\n",
              "      <th>CCAA</th>\n",
              "      <th>Año</th>\n",
              "      <th>Mes</th>\n",
              "      <th></th>\n",
              "    </tr>\n",
              "  </thead>\n",
              "  <tbody>\n",
              "    <tr>\n",
              "      <th rowspan=\"5\" valign=\"top\">Andalucia</th>\n",
              "      <th rowspan=\"5\" valign=\"top\">2018</th>\n",
              "      <th>1</th>\n",
              "      <td>187</td>\n",
              "    </tr>\n",
              "    <tr>\n",
              "      <th>2</th>\n",
              "      <td>134</td>\n",
              "    </tr>\n",
              "    <tr>\n",
              "      <th>3</th>\n",
              "      <td>344</td>\n",
              "    </tr>\n",
              "    <tr>\n",
              "      <th>4</th>\n",
              "      <td>249</td>\n",
              "    </tr>\n",
              "    <tr>\n",
              "      <th>5</th>\n",
              "      <td>245</td>\n",
              "    </tr>\n",
              "  </tbody>\n",
              "</table>\n",
              "</div>"
            ],
            "text/plain": [
              "                    Nulls\n",
              "CCAA      Año  Mes       \n",
              "Andalucia 2018 1      187\n",
              "               2      134\n",
              "               3      344\n",
              "               4      249\n",
              "               5      245"
            ]
          },
          "metadata": {}
        }
      ]
    },
    {
      "cell_type": "code",
      "metadata": {
        "id": "DMznpQEm0WWp"
      },
      "source": [
        "aux2 = aux.groupby(['CCAA', 'Año', 'Mes']).count()['Dia'] # filtrar por un valor que no tiene nulos para obtener el n de filas por mes"
      ],
      "execution_count": null,
      "outputs": []
    },
    {
      "cell_type": "code",
      "metadata": {
        "id": "zEUAHJ650zQ6",
        "colab": {
          "base_uri": "https://localhost:8080/",
          "height": 238
        },
        "outputId": "4476ed82-4535-4b5c-9f5d-69fc70b1d2f4"
      },
      "source": [
        "aux1['per_nulls'] = aux1['Nulls'] / aux2 *100\n",
        "aux1.head()"
      ],
      "execution_count": null,
      "outputs": [
        {
          "output_type": "execute_result",
          "data": {
            "text/html": [
              "<div>\n",
              "<style scoped>\n",
              "    .dataframe tbody tr th:only-of-type {\n",
              "        vertical-align: middle;\n",
              "    }\n",
              "\n",
              "    .dataframe tbody tr th {\n",
              "        vertical-align: top;\n",
              "    }\n",
              "\n",
              "    .dataframe thead th {\n",
              "        text-align: right;\n",
              "    }\n",
              "</style>\n",
              "<table border=\"1\" class=\"dataframe\">\n",
              "  <thead>\n",
              "    <tr style=\"text-align: right;\">\n",
              "      <th></th>\n",
              "      <th></th>\n",
              "      <th></th>\n",
              "      <th>Nulls</th>\n",
              "      <th>per_nulls</th>\n",
              "    </tr>\n",
              "    <tr>\n",
              "      <th>CCAA</th>\n",
              "      <th>Año</th>\n",
              "      <th>Mes</th>\n",
              "      <th></th>\n",
              "      <th></th>\n",
              "    </tr>\n",
              "  </thead>\n",
              "  <tbody>\n",
              "    <tr>\n",
              "      <th rowspan=\"5\" valign=\"top\">Andalucia</th>\n",
              "      <th rowspan=\"5\" valign=\"top\">2018</th>\n",
              "      <th>1</th>\n",
              "      <td>187</td>\n",
              "      <td>5.373563</td>\n",
              "    </tr>\n",
              "    <tr>\n",
              "      <th>2</th>\n",
              "      <td>134</td>\n",
              "      <td>4.224464</td>\n",
              "    </tr>\n",
              "    <tr>\n",
              "      <th>3</th>\n",
              "      <td>344</td>\n",
              "      <td>9.736768</td>\n",
              "    </tr>\n",
              "    <tr>\n",
              "      <th>4</th>\n",
              "      <td>249</td>\n",
              "      <td>7.364685</td>\n",
              "    </tr>\n",
              "    <tr>\n",
              "      <th>5</th>\n",
              "      <td>245</td>\n",
              "      <td>7.097335</td>\n",
              "    </tr>\n",
              "  </tbody>\n",
              "</table>\n",
              "</div>"
            ],
            "text/plain": [
              "                    Nulls  per_nulls\n",
              "CCAA      Año  Mes                  \n",
              "Andalucia 2018 1      187   5.373563\n",
              "               2      134   4.224464\n",
              "               3      344   9.736768\n",
              "               4      249   7.364685\n",
              "               5      245   7.097335"
            ]
          },
          "metadata": {},
          "execution_count": 907
        }
      ]
    },
    {
      "cell_type": "code",
      "metadata": {
        "id": "Se0eU1932nXZ"
      },
      "source": [
        "# Remove all the nulls \n",
        "aemet.dropna(inplace=True)"
      ],
      "execution_count": null,
      "outputs": []
    },
    {
      "cell_type": "code",
      "metadata": {
        "colab": {
          "base_uri": "https://localhost:8080/"
        },
        "id": "F_jx-w_k4LvU",
        "outputId": "27bfcde9-cf30-4c94-9d24-aaf9cfb2fd67"
      },
      "source": [
        "pd.isnull(aemet).any()"
      ],
      "execution_count": null,
      "outputs": [
        {
          "output_type": "execute_result",
          "data": {
            "text/plain": [
              "CCAA                         False\n",
              "Temperatura media (ºC)       False\n",
              "Precipitación 00-24h (mm)    False\n",
              "Año                          False\n",
              "Mes                          False\n",
              "Dia                          False\n",
              "dtype: bool"
            ]
          },
          "metadata": {},
          "execution_count": 909
        }
      ]
    },
    {
      "cell_type": "code",
      "metadata": {
        "colab": {
          "base_uri": "https://localhost:8080/",
          "height": 206
        },
        "id": "pLg4Bqna4koC",
        "outputId": "4165668d-ba23-4375-d3ff-0100d0d17192"
      },
      "source": [
        "# Quitar dia que no lo vamos a necesitar\n",
        "aemet.drop(labels=['Dia'], axis=1, inplace=True)\n",
        "aemet.head()"
      ],
      "execution_count": null,
      "outputs": [
        {
          "output_type": "execute_result",
          "data": {
            "text/html": [
              "<div>\n",
              "<style scoped>\n",
              "    .dataframe tbody tr th:only-of-type {\n",
              "        vertical-align: middle;\n",
              "    }\n",
              "\n",
              "    .dataframe tbody tr th {\n",
              "        vertical-align: top;\n",
              "    }\n",
              "\n",
              "    .dataframe thead th {\n",
              "        text-align: right;\n",
              "    }\n",
              "</style>\n",
              "<table border=\"1\" class=\"dataframe\">\n",
              "  <thead>\n",
              "    <tr style=\"text-align: right;\">\n",
              "      <th></th>\n",
              "      <th>CCAA</th>\n",
              "      <th>Temperatura media (ºC)</th>\n",
              "      <th>Precipitación 00-24h (mm)</th>\n",
              "      <th>Año</th>\n",
              "      <th>Mes</th>\n",
              "    </tr>\n",
              "  </thead>\n",
              "  <tbody>\n",
              "    <tr>\n",
              "      <th>1</th>\n",
              "      <td>Galicia</td>\n",
              "      <td>7.0</td>\n",
              "      <td>1.8</td>\n",
              "      <td>2018</td>\n",
              "      <td>3</td>\n",
              "    </tr>\n",
              "    <tr>\n",
              "      <th>2</th>\n",
              "      <td>Galicia</td>\n",
              "      <td>10.2</td>\n",
              "      <td>1.0</td>\n",
              "      <td>2018</td>\n",
              "      <td>3</td>\n",
              "    </tr>\n",
              "    <tr>\n",
              "      <th>3</th>\n",
              "      <td>Galicia</td>\n",
              "      <td>8.7</td>\n",
              "      <td>0.7</td>\n",
              "      <td>2018</td>\n",
              "      <td>3</td>\n",
              "    </tr>\n",
              "    <tr>\n",
              "      <th>4</th>\n",
              "      <td>Galicia</td>\n",
              "      <td>7.4</td>\n",
              "      <td>0.6</td>\n",
              "      <td>2018</td>\n",
              "      <td>3</td>\n",
              "    </tr>\n",
              "    <tr>\n",
              "      <th>5</th>\n",
              "      <td>Galicia</td>\n",
              "      <td>10.3</td>\n",
              "      <td>1.8</td>\n",
              "      <td>2018</td>\n",
              "      <td>3</td>\n",
              "    </tr>\n",
              "  </tbody>\n",
              "</table>\n",
              "</div>"
            ],
            "text/plain": [
              "      CCAA  Temperatura media (ºC)  Precipitación 00-24h (mm)   Año  Mes\n",
              "1  Galicia                     7.0                        1.8  2018    3\n",
              "2  Galicia                    10.2                        1.0  2018    3\n",
              "3  Galicia                     8.7                        0.7  2018    3\n",
              "4  Galicia                     7.4                        0.6  2018    3\n",
              "5  Galicia                    10.3                        1.8  2018    3"
            ]
          },
          "metadata": {},
          "execution_count": 910
        }
      ]
    },
    {
      "cell_type": "markdown",
      "metadata": {
        "id": "LRSNgU7n6GZ4"
      },
      "source": [
        "### Chekeamiento de valores"
      ]
    },
    {
      "cell_type": "code",
      "metadata": {
        "colab": {
          "base_uri": "https://localhost:8080/",
          "height": 300
        },
        "id": "qA5Ik9to6Nzs",
        "outputId": "89f6f413-3bcd-4d51-92ac-c4d677daaec9"
      },
      "source": [
        "calendario_siembra.describe()"
      ],
      "execution_count": null,
      "outputs": [
        {
          "output_type": "execute_result",
          "data": {
            "text/html": [
              "<div>\n",
              "<style scoped>\n",
              "    .dataframe tbody tr th:only-of-type {\n",
              "        vertical-align: middle;\n",
              "    }\n",
              "\n",
              "    .dataframe tbody tr th {\n",
              "        vertical-align: top;\n",
              "    }\n",
              "\n",
              "    .dataframe thead th {\n",
              "        text-align: right;\n",
              "    }\n",
              "</style>\n",
              "<table border=\"1\" class=\"dataframe\">\n",
              "  <thead>\n",
              "    <tr style=\"text-align: right;\">\n",
              "      <th></th>\n",
              "      <th>Inicio</th>\n",
              "      <th>Fin</th>\n",
              "      <th>Min siem-recol</th>\n",
              "      <th>Max siem-recol</th>\n",
              "    </tr>\n",
              "  </thead>\n",
              "  <tbody>\n",
              "    <tr>\n",
              "      <th>count</th>\n",
              "      <td>64.000000</td>\n",
              "      <td>64.000000</td>\n",
              "      <td>64.000000</td>\n",
              "      <td>64.00000</td>\n",
              "    </tr>\n",
              "    <tr>\n",
              "      <th>mean</th>\n",
              "      <td>6.718750</td>\n",
              "      <td>6.218750</td>\n",
              "      <td>3.046875</td>\n",
              "      <td>3.53125</td>\n",
              "    </tr>\n",
              "    <tr>\n",
              "      <th>std</th>\n",
              "      <td>3.701003</td>\n",
              "      <td>3.410855</td>\n",
              "      <td>0.652947</td>\n",
              "      <td>0.95898</td>\n",
              "    </tr>\n",
              "    <tr>\n",
              "      <th>min</th>\n",
              "      <td>2.000000</td>\n",
              "      <td>2.000000</td>\n",
              "      <td>2.000000</td>\n",
              "      <td>2.00000</td>\n",
              "    </tr>\n",
              "    <tr>\n",
              "      <th>25%</th>\n",
              "      <td>3.000000</td>\n",
              "      <td>5.000000</td>\n",
              "      <td>3.000000</td>\n",
              "      <td>3.00000</td>\n",
              "    </tr>\n",
              "    <tr>\n",
              "      <th>50%</th>\n",
              "      <td>6.000000</td>\n",
              "      <td>5.000000</td>\n",
              "      <td>3.000000</td>\n",
              "      <td>3.00000</td>\n",
              "    </tr>\n",
              "    <tr>\n",
              "      <th>75%</th>\n",
              "      <td>9.000000</td>\n",
              "      <td>11.000000</td>\n",
              "      <td>3.000000</td>\n",
              "      <td>4.00000</td>\n",
              "    </tr>\n",
              "    <tr>\n",
              "      <th>max</th>\n",
              "      <td>12.000000</td>\n",
              "      <td>11.000000</td>\n",
              "      <td>4.000000</td>\n",
              "      <td>6.00000</td>\n",
              "    </tr>\n",
              "  </tbody>\n",
              "</table>\n",
              "</div>"
            ],
            "text/plain": [
              "          Inicio        Fin  Min siem-recol  Max siem-recol\n",
              "count  64.000000  64.000000       64.000000        64.00000\n",
              "mean    6.718750   6.218750        3.046875         3.53125\n",
              "std     3.701003   3.410855        0.652947         0.95898\n",
              "min     2.000000   2.000000        2.000000         2.00000\n",
              "25%     3.000000   5.000000        3.000000         3.00000\n",
              "50%     6.000000   5.000000        3.000000         3.00000\n",
              "75%     9.000000  11.000000        3.000000         4.00000\n",
              "max    12.000000  11.000000        4.000000         6.00000"
            ]
          },
          "metadata": {},
          "execution_count": 911
        }
      ]
    },
    {
      "cell_type": "code",
      "metadata": {
        "colab": {
          "base_uri": "https://localhost:8080/",
          "height": 318
        },
        "id": "K-kuggca6N7_",
        "outputId": "de64c038-7379-4aa0-80d2-88f3ae781c08"
      },
      "source": [
        "consumo_CCAA.describe()"
      ],
      "execution_count": null,
      "outputs": [
        {
          "output_type": "execute_result",
          "data": {
            "text/html": [
              "<div>\n",
              "<style scoped>\n",
              "    .dataframe tbody tr th:only-of-type {\n",
              "        vertical-align: middle;\n",
              "    }\n",
              "\n",
              "    .dataframe tbody tr th {\n",
              "        vertical-align: top;\n",
              "    }\n",
              "\n",
              "    .dataframe thead th {\n",
              "        text-align: right;\n",
              "    }\n",
              "</style>\n",
              "<table border=\"1\" class=\"dataframe\">\n",
              "  <thead>\n",
              "    <tr style=\"text-align: right;\">\n",
              "      <th></th>\n",
              "      <th>Año</th>\n",
              "      <th>Mes</th>\n",
              "      <th>Volumen (miles de kg)</th>\n",
              "      <th>Valor (miles de €)</th>\n",
              "      <th>Precio medio kg</th>\n",
              "      <th>Penetración (%)</th>\n",
              "      <th>Consumo per capita</th>\n",
              "      <th>Gasto per capita</th>\n",
              "    </tr>\n",
              "  </thead>\n",
              "  <tbody>\n",
              "    <tr>\n",
              "      <th>count</th>\n",
              "      <td>9078.000000</td>\n",
              "      <td>9078.000000</td>\n",
              "      <td>9078.000000</td>\n",
              "      <td>9078.000000</td>\n",
              "      <td>9078.000000</td>\n",
              "      <td>9078.000000</td>\n",
              "      <td>9078.000000</td>\n",
              "      <td>9078.000000</td>\n",
              "    </tr>\n",
              "    <tr>\n",
              "      <th>mean</th>\n",
              "      <td>2018.853933</td>\n",
              "      <td>5.859551</td>\n",
              "      <td>1075.080184</td>\n",
              "      <td>1481.313506</td>\n",
              "      <td>1.833669</td>\n",
              "      <td>39.009210</td>\n",
              "      <td>0.393417</td>\n",
              "      <td>0.547362</td>\n",
              "    </tr>\n",
              "    <tr>\n",
              "      <th>std</th>\n",
              "      <td>0.742805</td>\n",
              "      <td>3.392309</td>\n",
              "      <td>2077.398821</td>\n",
              "      <td>2416.738738</td>\n",
              "      <td>0.943047</td>\n",
              "      <td>23.389702</td>\n",
              "      <td>0.514203</td>\n",
              "      <td>0.573987</td>\n",
              "    </tr>\n",
              "    <tr>\n",
              "      <th>min</th>\n",
              "      <td>2018.000000</td>\n",
              "      <td>1.000000</td>\n",
              "      <td>0.000000</td>\n",
              "      <td>0.000000</td>\n",
              "      <td>0.000000</td>\n",
              "      <td>0.000000</td>\n",
              "      <td>0.000000</td>\n",
              "      <td>0.000000</td>\n",
              "    </tr>\n",
              "    <tr>\n",
              "      <th>25%</th>\n",
              "      <td>2018.000000</td>\n",
              "      <td>3.000000</td>\n",
              "      <td>117.720000</td>\n",
              "      <td>224.362500</td>\n",
              "      <td>1.200000</td>\n",
              "      <td>19.160000</td>\n",
              "      <td>0.080000</td>\n",
              "      <td>0.160000</td>\n",
              "    </tr>\n",
              "    <tr>\n",
              "      <th>50%</th>\n",
              "      <td>2019.000000</td>\n",
              "      <td>5.000000</td>\n",
              "      <td>347.550000</td>\n",
              "      <td>612.160000</td>\n",
              "      <td>1.610000</td>\n",
              "      <td>36.560000</td>\n",
              "      <td>0.200000</td>\n",
              "      <td>0.320000</td>\n",
              "    </tr>\n",
              "    <tr>\n",
              "      <th>75%</th>\n",
              "      <td>2019.000000</td>\n",
              "      <td>9.000000</td>\n",
              "      <td>1059.345000</td>\n",
              "      <td>1679.580000</td>\n",
              "      <td>2.180000</td>\n",
              "      <td>59.530000</td>\n",
              "      <td>0.440000</td>\n",
              "      <td>0.770000</td>\n",
              "    </tr>\n",
              "    <tr>\n",
              "      <th>max</th>\n",
              "      <td>2020.000000</td>\n",
              "      <td>12.000000</td>\n",
              "      <td>20478.430000</td>\n",
              "      <td>22990.810000</td>\n",
              "      <td>8.780000</td>\n",
              "      <td>96.520000</td>\n",
              "      <td>4.360000</td>\n",
              "      <td>5.140000</td>\n",
              "    </tr>\n",
              "  </tbody>\n",
              "</table>\n",
              "</div>"
            ],
            "text/plain": [
              "               Año          Mes  ...  Consumo per capita  Gasto per capita\n",
              "count  9078.000000  9078.000000  ...         9078.000000       9078.000000\n",
              "mean   2018.853933     5.859551  ...            0.393417          0.547362\n",
              "std       0.742805     3.392309  ...            0.514203          0.573987\n",
              "min    2018.000000     1.000000  ...            0.000000          0.000000\n",
              "25%    2018.000000     3.000000  ...            0.080000          0.160000\n",
              "50%    2019.000000     5.000000  ...            0.200000          0.320000\n",
              "75%    2019.000000     9.000000  ...            0.440000          0.770000\n",
              "max    2020.000000    12.000000  ...            4.360000          5.140000\n",
              "\n",
              "[8 rows x 8 columns]"
            ]
          },
          "metadata": {},
          "execution_count": 912
        }
      ]
    },
    {
      "cell_type": "code",
      "metadata": {
        "colab": {
          "base_uri": "https://localhost:8080/",
          "height": 300
        },
        "id": "3HSC_4516OC3",
        "outputId": "5dbd2bfa-b23a-4e56-bc32-bbe9abbf7b20"
      },
      "source": [
        "dat_mercaMadrid.describe()"
      ],
      "execution_count": null,
      "outputs": [
        {
          "output_type": "execute_result",
          "data": {
            "text/html": [
              "<div>\n",
              "<style scoped>\n",
              "    .dataframe tbody tr th:only-of-type {\n",
              "        vertical-align: middle;\n",
              "    }\n",
              "\n",
              "    .dataframe tbody tr th {\n",
              "        vertical-align: top;\n",
              "    }\n",
              "\n",
              "    .dataframe thead th {\n",
              "        text-align: right;\n",
              "    }\n",
              "</style>\n",
              "<table border=\"1\" class=\"dataframe\">\n",
              "  <thead>\n",
              "    <tr style=\"text-align: right;\">\n",
              "      <th></th>\n",
              "      <th>YEAR</th>\n",
              "      <th>MONTH</th>\n",
              "      <th>price_mean</th>\n",
              "      <th>Volumen</th>\n",
              "    </tr>\n",
              "  </thead>\n",
              "  <tbody>\n",
              "    <tr>\n",
              "      <th>count</th>\n",
              "      <td>33898.000000</td>\n",
              "      <td>33898.000000</td>\n",
              "      <td>33898.000000</td>\n",
              "      <td>3.389800e+04</td>\n",
              "    </tr>\n",
              "    <tr>\n",
              "      <th>mean</th>\n",
              "      <td>2018.934096</td>\n",
              "      <td>6.454422</td>\n",
              "      <td>1.092612</td>\n",
              "      <td>6.954446e+04</td>\n",
              "    </tr>\n",
              "    <tr>\n",
              "      <th>std</th>\n",
              "      <td>0.796391</td>\n",
              "      <td>3.349925</td>\n",
              "      <td>0.940910</td>\n",
              "      <td>2.496999e+05</td>\n",
              "    </tr>\n",
              "    <tr>\n",
              "      <th>min</th>\n",
              "      <td>2018.000000</td>\n",
              "      <td>1.000000</td>\n",
              "      <td>0.000000</td>\n",
              "      <td>2.000000e+00</td>\n",
              "    </tr>\n",
              "    <tr>\n",
              "      <th>25%</th>\n",
              "      <td>2018.000000</td>\n",
              "      <td>4.000000</td>\n",
              "      <td>0.500000</td>\n",
              "      <td>1.464250e+03</td>\n",
              "    </tr>\n",
              "    <tr>\n",
              "      <th>50%</th>\n",
              "      <td>2019.000000</td>\n",
              "      <td>7.000000</td>\n",
              "      <td>0.800000</td>\n",
              "      <td>5.810000e+03</td>\n",
              "    </tr>\n",
              "    <tr>\n",
              "      <th>75%</th>\n",
              "      <td>2020.000000</td>\n",
              "      <td>9.000000</td>\n",
              "      <td>1.350000</td>\n",
              "      <td>2.806150e+04</td>\n",
              "    </tr>\n",
              "    <tr>\n",
              "      <th>max</th>\n",
              "      <td>2020.000000</td>\n",
              "      <td>12.000000</td>\n",
              "      <td>12.500000</td>\n",
              "      <td>7.262361e+06</td>\n",
              "    </tr>\n",
              "  </tbody>\n",
              "</table>\n",
              "</div>"
            ],
            "text/plain": [
              "               YEAR         MONTH    price_mean       Volumen\n",
              "count  33898.000000  33898.000000  33898.000000  3.389800e+04\n",
              "mean    2018.934096      6.454422      1.092612  6.954446e+04\n",
              "std        0.796391      3.349925      0.940910  2.496999e+05\n",
              "min     2018.000000      1.000000      0.000000  2.000000e+00\n",
              "25%     2018.000000      4.000000      0.500000  1.464250e+03\n",
              "50%     2019.000000      7.000000      0.800000  5.810000e+03\n",
              "75%     2020.000000      9.000000      1.350000  2.806150e+04\n",
              "max     2020.000000     12.000000     12.500000  7.262361e+06"
            ]
          },
          "metadata": {},
          "execution_count": 913
        }
      ]
    },
    {
      "cell_type": "code",
      "metadata": {
        "colab": {
          "base_uri": "https://localhost:8080/",
          "height": 300
        },
        "id": "lPGfQL706sgQ",
        "outputId": "c567b071-234e-439f-bcd8-baf664ea2a7d"
      },
      "source": [
        "dat_mercaBarna.describe()"
      ],
      "execution_count": null,
      "outputs": [
        {
          "output_type": "execute_result",
          "data": {
            "text/html": [
              "<div>\n",
              "<style scoped>\n",
              "    .dataframe tbody tr th:only-of-type {\n",
              "        vertical-align: middle;\n",
              "    }\n",
              "\n",
              "    .dataframe tbody tr th {\n",
              "        vertical-align: top;\n",
              "    }\n",
              "\n",
              "    .dataframe thead th {\n",
              "        text-align: right;\n",
              "    }\n",
              "</style>\n",
              "<table border=\"1\" class=\"dataframe\">\n",
              "  <thead>\n",
              "    <tr style=\"text-align: right;\">\n",
              "      <th></th>\n",
              "      <th>YEAR</th>\n",
              "      <th>MONTH</th>\n",
              "      <th>price_mean</th>\n",
              "      <th>Volumen</th>\n",
              "    </tr>\n",
              "  </thead>\n",
              "  <tbody>\n",
              "    <tr>\n",
              "      <th>count</th>\n",
              "      <td>13681.000000</td>\n",
              "      <td>13681.000000</td>\n",
              "      <td>13681.000000</td>\n",
              "      <td>1.368100e+04</td>\n",
              "    </tr>\n",
              "    <tr>\n",
              "      <th>mean</th>\n",
              "      <td>2018.915723</td>\n",
              "      <td>6.342080</td>\n",
              "      <td>1.018298</td>\n",
              "      <td>8.379785e+04</td>\n",
              "    </tr>\n",
              "    <tr>\n",
              "      <th>std</th>\n",
              "      <td>0.808933</td>\n",
              "      <td>3.349381</td>\n",
              "      <td>0.727834</td>\n",
              "      <td>2.683928e+05</td>\n",
              "    </tr>\n",
              "    <tr>\n",
              "      <th>min</th>\n",
              "      <td>2018.000000</td>\n",
              "      <td>1.000000</td>\n",
              "      <td>0.230000</td>\n",
              "      <td>1.000000e+00</td>\n",
              "    </tr>\n",
              "    <tr>\n",
              "      <th>25%</th>\n",
              "      <td>2018.000000</td>\n",
              "      <td>4.000000</td>\n",
              "      <td>0.584545</td>\n",
              "      <td>1.327000e+03</td>\n",
              "    </tr>\n",
              "    <tr>\n",
              "      <th>50%</th>\n",
              "      <td>2019.000000</td>\n",
              "      <td>6.000000</td>\n",
              "      <td>0.758333</td>\n",
              "      <td>8.550000e+03</td>\n",
              "    </tr>\n",
              "    <tr>\n",
              "      <th>75%</th>\n",
              "      <td>2020.000000</td>\n",
              "      <td>9.000000</td>\n",
              "      <td>1.150000</td>\n",
              "      <td>4.493300e+04</td>\n",
              "    </tr>\n",
              "    <tr>\n",
              "      <th>max</th>\n",
              "      <td>2020.000000</td>\n",
              "      <td>12.000000</td>\n",
              "      <td>5.662500</td>\n",
              "      <td>4.978898e+06</td>\n",
              "    </tr>\n",
              "  </tbody>\n",
              "</table>\n",
              "</div>"
            ],
            "text/plain": [
              "               YEAR         MONTH    price_mean       Volumen\n",
              "count  13681.000000  13681.000000  13681.000000  1.368100e+04\n",
              "mean    2018.915723      6.342080      1.018298  8.379785e+04\n",
              "std        0.808933      3.349381      0.727834  2.683928e+05\n",
              "min     2018.000000      1.000000      0.230000  1.000000e+00\n",
              "25%     2018.000000      4.000000      0.584545  1.327000e+03\n",
              "50%     2019.000000      6.000000      0.758333  8.550000e+03\n",
              "75%     2020.000000      9.000000      1.150000  4.493300e+04\n",
              "max     2020.000000     12.000000      5.662500  4.978898e+06"
            ]
          },
          "metadata": {},
          "execution_count": 914
        }
      ]
    },
    {
      "cell_type": "code",
      "metadata": {
        "colab": {
          "base_uri": "https://localhost:8080/",
          "height": 300
        },
        "id": "5KNfCVEV6snL",
        "outputId": "738020fa-59fa-4b45-81b5-b91383280d99"
      },
      "source": [
        "precios_JAndalucia.describe()"
      ],
      "execution_count": null,
      "outputs": [
        {
          "output_type": "execute_result",
          "data": {
            "text/html": [
              "<div>\n",
              "<style scoped>\n",
              "    .dataframe tbody tr th:only-of-type {\n",
              "        vertical-align: middle;\n",
              "    }\n",
              "\n",
              "    .dataframe tbody tr th {\n",
              "        vertical-align: top;\n",
              "    }\n",
              "\n",
              "    .dataframe thead th {\n",
              "        text-align: right;\n",
              "    }\n",
              "</style>\n",
              "<table border=\"1\" class=\"dataframe\">\n",
              "  <thead>\n",
              "    <tr style=\"text-align: right;\">\n",
              "      <th></th>\n",
              "      <th>PRECIO</th>\n",
              "    </tr>\n",
              "  </thead>\n",
              "  <tbody>\n",
              "    <tr>\n",
              "      <th>count</th>\n",
              "      <td>13838.000000</td>\n",
              "    </tr>\n",
              "    <tr>\n",
              "      <th>mean</th>\n",
              "      <td>0.786503</td>\n",
              "    </tr>\n",
              "    <tr>\n",
              "      <th>std</th>\n",
              "      <td>0.682536</td>\n",
              "    </tr>\n",
              "    <tr>\n",
              "      <th>min</th>\n",
              "      <td>0.010000</td>\n",
              "    </tr>\n",
              "    <tr>\n",
              "      <th>25%</th>\n",
              "      <td>0.320000</td>\n",
              "    </tr>\n",
              "    <tr>\n",
              "      <th>50%</th>\n",
              "      <td>0.620000</td>\n",
              "    </tr>\n",
              "    <tr>\n",
              "      <th>75%</th>\n",
              "      <td>1.030000</td>\n",
              "    </tr>\n",
              "    <tr>\n",
              "      <th>max</th>\n",
              "      <td>8.690000</td>\n",
              "    </tr>\n",
              "  </tbody>\n",
              "</table>\n",
              "</div>"
            ],
            "text/plain": [
              "             PRECIO\n",
              "count  13838.000000\n",
              "mean       0.786503\n",
              "std        0.682536\n",
              "min        0.010000\n",
              "25%        0.320000\n",
              "50%        0.620000\n",
              "75%        1.030000\n",
              "max        8.690000"
            ]
          },
          "metadata": {},
          "execution_count": 915
        }
      ]
    },
    {
      "cell_type": "code",
      "metadata": {
        "colab": {
          "base_uri": "https://localhost:8080/",
          "height": 300
        },
        "id": "jgoeWbnW6zVn",
        "outputId": "183ee018-d159-456f-cb6a-759d3c5ad942"
      },
      "source": [
        "aemet.describe()"
      ],
      "execution_count": null,
      "outputs": [
        {
          "output_type": "execute_result",
          "data": {
            "text/html": [
              "<div>\n",
              "<style scoped>\n",
              "    .dataframe tbody tr th:only-of-type {\n",
              "        vertical-align: middle;\n",
              "    }\n",
              "\n",
              "    .dataframe tbody tr th {\n",
              "        vertical-align: top;\n",
              "    }\n",
              "\n",
              "    .dataframe thead th {\n",
              "        text-align: right;\n",
              "    }\n",
              "</style>\n",
              "<table border=\"1\" class=\"dataframe\">\n",
              "  <thead>\n",
              "    <tr style=\"text-align: right;\">\n",
              "      <th></th>\n",
              "      <th>Temperatura media (ºC)</th>\n",
              "      <th>Precipitación 00-24h (mm)</th>\n",
              "      <th>Año</th>\n",
              "      <th>Mes</th>\n",
              "    </tr>\n",
              "  </thead>\n",
              "  <tbody>\n",
              "    <tr>\n",
              "      <th>count</th>\n",
              "      <td>811893.000000</td>\n",
              "      <td>811893.000000</td>\n",
              "      <td>811893.000000</td>\n",
              "      <td>811893.000000</td>\n",
              "    </tr>\n",
              "    <tr>\n",
              "      <th>mean</th>\n",
              "      <td>15.327651</td>\n",
              "      <td>1.849144</td>\n",
              "      <td>2018.999915</td>\n",
              "      <td>6.521178</td>\n",
              "    </tr>\n",
              "    <tr>\n",
              "      <th>std</th>\n",
              "      <td>6.883050</td>\n",
              "      <td>6.414804</td>\n",
              "      <td>0.814722</td>\n",
              "      <td>3.450967</td>\n",
              "    </tr>\n",
              "    <tr>\n",
              "      <th>min</th>\n",
              "      <td>-9.500000</td>\n",
              "      <td>0.000000</td>\n",
              "      <td>2018.000000</td>\n",
              "      <td>1.000000</td>\n",
              "    </tr>\n",
              "    <tr>\n",
              "      <th>25%</th>\n",
              "      <td>10.100000</td>\n",
              "      <td>0.000000</td>\n",
              "      <td>2018.000000</td>\n",
              "      <td>4.000000</td>\n",
              "    </tr>\n",
              "    <tr>\n",
              "      <th>50%</th>\n",
              "      <td>15.100000</td>\n",
              "      <td>0.000000</td>\n",
              "      <td>2019.000000</td>\n",
              "      <td>7.000000</td>\n",
              "    </tr>\n",
              "    <tr>\n",
              "      <th>75%</th>\n",
              "      <td>20.600000</td>\n",
              "      <td>0.200000</td>\n",
              "      <td>2020.000000</td>\n",
              "      <td>10.000000</td>\n",
              "    </tr>\n",
              "    <tr>\n",
              "      <th>max</th>\n",
              "      <td>37.200000</td>\n",
              "      <td>352.200000</td>\n",
              "      <td>2020.000000</td>\n",
              "      <td>12.000000</td>\n",
              "    </tr>\n",
              "  </tbody>\n",
              "</table>\n",
              "</div>"
            ],
            "text/plain": [
              "       Temperatura media (ºC)  ...            Mes\n",
              "count           811893.000000  ...  811893.000000\n",
              "mean                15.327651  ...       6.521178\n",
              "std                  6.883050  ...       3.450967\n",
              "min                 -9.500000  ...       1.000000\n",
              "25%                 10.100000  ...       4.000000\n",
              "50%                 15.100000  ...       7.000000\n",
              "75%                 20.600000  ...      10.000000\n",
              "max                 37.200000  ...      12.000000\n",
              "\n",
              "[8 rows x 4 columns]"
            ]
          },
          "metadata": {},
          "execution_count": 916
        }
      ]
    },
    {
      "cell_type": "markdown",
      "metadata": {
        "id": "slGRoWi2RgU8"
      },
      "source": [
        "### Nuevo dataset "
      ]
    },
    {
      "cell_type": "code",
      "metadata": {
        "colab": {
          "base_uri": "https://localhost:8080/"
        },
        "id": "pBbG9tICRliZ",
        "outputId": "482f4a3e-7879-4b12-b100-a83f4e289e75"
      },
      "source": [
        "!wget https://raw.githubusercontent.com/Laura-VFA/DataMining-21-22/main/Datasets/RiegosYTemperaturasCultivos.txt"
      ],
      "execution_count": null,
      "outputs": [
        {
          "output_type": "stream",
          "name": "stdout",
          "text": [
            "--2021-12-06 16:36:05--  https://raw.githubusercontent.com/Laura-VFA/DataMining-21-22/main/Datasets/RiegosYTemperaturasCultivos.txt\n",
            "Resolving raw.githubusercontent.com (raw.githubusercontent.com)... 185.199.108.133, 185.199.109.133, 185.199.110.133, ...\n",
            "Connecting to raw.githubusercontent.com (raw.githubusercontent.com)|185.199.108.133|:443... connected.\n",
            "HTTP request sent, awaiting response... 200 OK\n",
            "Length: 1288 (1.3K) [text/plain]\n",
            "Saving to: ‘RiegosYTemperaturasCultivos.txt’\n",
            "\n",
            "\r          RiegosYTe   0%[                    ]       0  --.-KB/s               \rRiegosYTemperaturas 100%[===================>]   1.26K  --.-KB/s    in 0s      \n",
            "\n",
            "2021-12-06 16:36:05 (91.0 MB/s) - ‘RiegosYTemperaturasCultivos.txt’ saved [1288/1288]\n",
            "\n"
          ]
        }
      ]
    },
    {
      "cell_type": "code",
      "metadata": {
        "colab": {
          "base_uri": "https://localhost:8080/",
          "height": 241
        },
        "id": "76AwouneSU8j",
        "outputId": "99103ef6-7f90-489d-8108-2d71903e0cdc"
      },
      "source": [
        "riegos_temp_cultivos = pandas.read_csv('RiegosYTemperaturasCultivos.txt', sep='|')\n",
        "riegos_temp_cultivos.head()"
      ],
      "execution_count": null,
      "outputs": [
        {
          "output_type": "execute_result",
          "data": {
            "text/html": [
              "<div>\n",
              "<style scoped>\n",
              "    .dataframe tbody tr th:only-of-type {\n",
              "        vertical-align: middle;\n",
              "    }\n",
              "\n",
              "    .dataframe tbody tr th {\n",
              "        vertical-align: top;\n",
              "    }\n",
              "\n",
              "    .dataframe thead th {\n",
              "        text-align: right;\n",
              "    }\n",
              "</style>\n",
              "<table border=\"1\" class=\"dataframe\">\n",
              "  <thead>\n",
              "    <tr style=\"text-align: right;\">\n",
              "      <th></th>\n",
              "      <th>Cultivo</th>\n",
              "      <th>Temperatura min req</th>\n",
              "      <th>Temperatura max req</th>\n",
              "      <th>Temperatura min opt</th>\n",
              "      <th>Temperatura max opt</th>\n",
              "      <th>Dias entre riego zona seca</th>\n",
              "      <th>Dias entre riego zona húmeda</th>\n",
              "      <th>Tipo</th>\n",
              "    </tr>\n",
              "  </thead>\n",
              "  <tbody>\n",
              "    <tr>\n",
              "      <th>0</th>\n",
              "      <td>ACELGA</td>\n",
              "      <td>6.0</td>\n",
              "      <td>33.0</td>\n",
              "      <td>15.0</td>\n",
              "      <td>25.0</td>\n",
              "      <td>4</td>\n",
              "      <td>10</td>\n",
              "      <td>SECANO</td>\n",
              "    </tr>\n",
              "    <tr>\n",
              "      <th>1</th>\n",
              "      <td>AJO</td>\n",
              "      <td>7.0</td>\n",
              "      <td>30.0</td>\n",
              "      <td>14.0</td>\n",
              "      <td>24.0</td>\n",
              "      <td>5</td>\n",
              "      <td>7</td>\n",
              "      <td>SECANO</td>\n",
              "    </tr>\n",
              "    <tr>\n",
              "      <th>2</th>\n",
              "      <td>ALCACHOFA</td>\n",
              "      <td>7.0</td>\n",
              "      <td>29.0</td>\n",
              "      <td>15.0</td>\n",
              "      <td>18.0</td>\n",
              "      <td>1</td>\n",
              "      <td>2</td>\n",
              "      <td>REGADIO</td>\n",
              "    </tr>\n",
              "    <tr>\n",
              "      <th>3</th>\n",
              "      <td>APIO</td>\n",
              "      <td>15.0</td>\n",
              "      <td>27.0</td>\n",
              "      <td>15.0</td>\n",
              "      <td>21.0</td>\n",
              "      <td>2</td>\n",
              "      <td>3</td>\n",
              "      <td>REGADIO</td>\n",
              "    </tr>\n",
              "    <tr>\n",
              "      <th>4</th>\n",
              "      <td>BERENJENA</td>\n",
              "      <td>15.0</td>\n",
              "      <td>40.0</td>\n",
              "      <td>23.0</td>\n",
              "      <td>25.0</td>\n",
              "      <td>2</td>\n",
              "      <td>3</td>\n",
              "      <td>REGADIO</td>\n",
              "    </tr>\n",
              "  </tbody>\n",
              "</table>\n",
              "</div>"
            ],
            "text/plain": [
              "     Cultivo  Temperatura min req  ...  Dias entre riego zona húmeda     Tipo\n",
              "0     ACELGA                  6.0  ...                            10   SECANO\n",
              "1        AJO                  7.0  ...                             7   SECANO\n",
              "2  ALCACHOFA                  7.0  ...                             2  REGADIO\n",
              "3       APIO                 15.0  ...                             3  REGADIO\n",
              "4  BERENJENA                 15.0  ...                             3  REGADIO\n",
              "\n",
              "[5 rows x 8 columns]"
            ]
          },
          "metadata": {},
          "execution_count": 918
        }
      ]
    },
    {
      "cell_type": "code",
      "metadata": {
        "colab": {
          "base_uri": "https://localhost:8080/"
        },
        "id": "mtVVFaL1VVql",
        "outputId": "a517b079-9002-4bc6-a1f7-2765fa969c55"
      },
      "source": [
        "riegos_temp_cultivos.dtypes"
      ],
      "execution_count": null,
      "outputs": [
        {
          "output_type": "execute_result",
          "data": {
            "text/plain": [
              "Cultivo                          object\n",
              "Temperatura min req             float64\n",
              "Temperatura max req             float64\n",
              "Temperatura min opt             float64\n",
              "Temperatura max opt             float64\n",
              "Dias entre riego zona seca        int64\n",
              "Dias entre riego zona húmeda      int64\n",
              "Tipo                             object\n",
              "dtype: object"
            ]
          },
          "metadata": {},
          "execution_count": 919
        }
      ]
    },
    {
      "cell_type": "code",
      "metadata": {
        "id": "YFBKgYX3WRxr"
      },
      "source": [
        "riegos_temp_cultivos.drop(labels=['Tipo'], axis=1, inplace=True)"
      ],
      "execution_count": null,
      "outputs": []
    },
    {
      "cell_type": "code",
      "metadata": {
        "colab": {
          "base_uri": "https://localhost:8080/"
        },
        "id": "A5AS9XUfTLPl",
        "outputId": "62e8614c-7597-4602-a9fc-eb7b34de158e"
      },
      "source": [
        "# Comprobando nulos\n",
        "pd.isnull(riegos_temp_cultivos).any()"
      ],
      "execution_count": null,
      "outputs": [
        {
          "output_type": "execute_result",
          "data": {
            "text/plain": [
              "Cultivo                         False\n",
              "Temperatura min req              True\n",
              "Temperatura max req              True\n",
              "Temperatura min opt              True\n",
              "Temperatura max opt              True\n",
              "Dias entre riego zona seca      False\n",
              "Dias entre riego zona húmeda    False\n",
              "dtype: bool"
            ]
          },
          "metadata": {},
          "execution_count": 921
        }
      ]
    },
    {
      "cell_type": "code",
      "metadata": {
        "id": "r3LsH8s_bgyb"
      },
      "source": [
        "# Si faltan las requeridas, poner las optimas y al reves\n",
        "for index in riegos_temp_cultivos.index:\n",
        "  if np.isnan(riegos_temp_cultivos.at[index,'Temperatura min req']):\n",
        "    riegos_temp_cultivos.at[index, 'Temperatura min req'] = riegos_temp_cultivos.at[index,'Temperatura min opt']\n",
        "\n",
        "  if np.isnan(riegos_temp_cultivos.at[index,'Temperatura max req']):\n",
        "    riegos_temp_cultivos.at[index, 'Temperatura max req'] = riegos_temp_cultivos.at[index,'Temperatura max opt']\n",
        "\n",
        "  if np.isnan(riegos_temp_cultivos.at[index,'Temperatura min opt']):\n",
        "    riegos_temp_cultivos.at[index, 'Temperatura min opt'] = riegos_temp_cultivos.at[index,'Temperatura min req']\n",
        "\n",
        "  if np.isnan(riegos_temp_cultivos.at[index,'Temperatura max opt']):\n",
        "    riegos_temp_cultivos.at[index, 'Temperatura max opt'] = riegos_temp_cultivos.at[index,'Temperatura max req']"
      ],
      "execution_count": null,
      "outputs": []
    },
    {
      "cell_type": "code",
      "metadata": {
        "colab": {
          "base_uri": "https://localhost:8080/"
        },
        "id": "m_rk2WcpaWuW",
        "outputId": "078cffbc-643a-46af-8846-7fd7791566d3"
      },
      "source": [
        "pd.isnull(riegos_temp_cultivos).any()"
      ],
      "execution_count": null,
      "outputs": [
        {
          "output_type": "execute_result",
          "data": {
            "text/plain": [
              "Cultivo                         False\n",
              "Temperatura min req             False\n",
              "Temperatura max req             False\n",
              "Temperatura min opt             False\n",
              "Temperatura max opt             False\n",
              "Dias entre riego zona seca      False\n",
              "Dias entre riego zona húmeda    False\n",
              "dtype: bool"
            ]
          },
          "metadata": {},
          "execution_count": 923
        }
      ]
    },
    {
      "cell_type": "code",
      "metadata": {
        "colab": {
          "base_uri": "https://localhost:8080/",
          "height": 380
        },
        "id": "DMld4CzZcigJ",
        "outputId": "d8f583d4-79a0-446a-fe41-0ae1992b766b"
      },
      "source": [
        "riegos_temp_cultivos.tail(10)"
      ],
      "execution_count": null,
      "outputs": [
        {
          "output_type": "execute_result",
          "data": {
            "text/html": [
              "<div>\n",
              "<style scoped>\n",
              "    .dataframe tbody tr th:only-of-type {\n",
              "        vertical-align: middle;\n",
              "    }\n",
              "\n",
              "    .dataframe tbody tr th {\n",
              "        vertical-align: top;\n",
              "    }\n",
              "\n",
              "    .dataframe thead th {\n",
              "        text-align: right;\n",
              "    }\n",
              "</style>\n",
              "<table border=\"1\" class=\"dataframe\">\n",
              "  <thead>\n",
              "    <tr style=\"text-align: right;\">\n",
              "      <th></th>\n",
              "      <th>Cultivo</th>\n",
              "      <th>Temperatura min req</th>\n",
              "      <th>Temperatura max req</th>\n",
              "      <th>Temperatura min opt</th>\n",
              "      <th>Temperatura max opt</th>\n",
              "      <th>Dias entre riego zona seca</th>\n",
              "      <th>Dias entre riego zona húmeda</th>\n",
              "    </tr>\n",
              "  </thead>\n",
              "  <tbody>\n",
              "    <tr>\n",
              "      <th>25</th>\n",
              "      <td>PATATA</td>\n",
              "      <td>10.0</td>\n",
              "      <td>30.0</td>\n",
              "      <td>10.0</td>\n",
              "      <td>22.0</td>\n",
              "      <td>1</td>\n",
              "      <td>2</td>\n",
              "    </tr>\n",
              "    <tr>\n",
              "      <th>26</th>\n",
              "      <td>PEPINO</td>\n",
              "      <td>10.0</td>\n",
              "      <td>35.0</td>\n",
              "      <td>20.0</td>\n",
              "      <td>30.0</td>\n",
              "      <td>0</td>\n",
              "      <td>1</td>\n",
              "    </tr>\n",
              "    <tr>\n",
              "      <th>27</th>\n",
              "      <td>PEREJIL</td>\n",
              "      <td>0.0</td>\n",
              "      <td>35.0</td>\n",
              "      <td>16.0</td>\n",
              "      <td>20.0</td>\n",
              "      <td>2</td>\n",
              "      <td>3</td>\n",
              "    </tr>\n",
              "    <tr>\n",
              "      <th>28</th>\n",
              "      <td>PIMIENTO</td>\n",
              "      <td>10.0</td>\n",
              "      <td>25.0</td>\n",
              "      <td>16.0</td>\n",
              "      <td>25.0</td>\n",
              "      <td>1</td>\n",
              "      <td>2</td>\n",
              "    </tr>\n",
              "    <tr>\n",
              "      <th>29</th>\n",
              "      <td>PUERRO</td>\n",
              "      <td>13.0</td>\n",
              "      <td>24.0</td>\n",
              "      <td>13.0</td>\n",
              "      <td>24.0</td>\n",
              "      <td>7</td>\n",
              "      <td>50</td>\n",
              "    </tr>\n",
              "    <tr>\n",
              "      <th>30</th>\n",
              "      <td>RABANITO</td>\n",
              "      <td>5.0</td>\n",
              "      <td>35.0</td>\n",
              "      <td>18.0</td>\n",
              "      <td>35.0</td>\n",
              "      <td>1</td>\n",
              "      <td>1</td>\n",
              "    </tr>\n",
              "    <tr>\n",
              "      <th>31</th>\n",
              "      <td>REMOLACHA</td>\n",
              "      <td>12.0</td>\n",
              "      <td>40.0</td>\n",
              "      <td>16.0</td>\n",
              "      <td>20.0</td>\n",
              "      <td>1</td>\n",
              "      <td>2</td>\n",
              "    </tr>\n",
              "    <tr>\n",
              "      <th>32</th>\n",
              "      <td>SANDIA</td>\n",
              "      <td>15.0</td>\n",
              "      <td>35.0</td>\n",
              "      <td>21.0</td>\n",
              "      <td>35.0</td>\n",
              "      <td>5</td>\n",
              "      <td>50</td>\n",
              "    </tr>\n",
              "    <tr>\n",
              "      <th>33</th>\n",
              "      <td>TOMATE</td>\n",
              "      <td>15.0</td>\n",
              "      <td>25.0</td>\n",
              "      <td>15.0</td>\n",
              "      <td>25.0</td>\n",
              "      <td>2</td>\n",
              "      <td>3</td>\n",
              "    </tr>\n",
              "    <tr>\n",
              "      <th>34</th>\n",
              "      <td>ZANAHORIA</td>\n",
              "      <td>10.0</td>\n",
              "      <td>20.0</td>\n",
              "      <td>15.0</td>\n",
              "      <td>20.0</td>\n",
              "      <td>1</td>\n",
              "      <td>3</td>\n",
              "    </tr>\n",
              "  </tbody>\n",
              "</table>\n",
              "</div>"
            ],
            "text/plain": [
              "      Cultivo  ...  Dias entre riego zona húmeda\n",
              "25     PATATA  ...                             2\n",
              "26     PEPINO  ...                             1\n",
              "27    PEREJIL  ...                             3\n",
              "28   PIMIENTO  ...                             2\n",
              "29     PUERRO  ...                            50\n",
              "30   RABANITO  ...                             1\n",
              "31  REMOLACHA  ...                             2\n",
              "32     SANDIA  ...                            50\n",
              "33     TOMATE  ...                             3\n",
              "34  ZANAHORIA  ...                             3\n",
              "\n",
              "[10 rows x 7 columns]"
            ]
          },
          "metadata": {},
          "execution_count": 924
        }
      ]
    },
    {
      "cell_type": "markdown",
      "metadata": {
        "id": "bPGVMO13q6MI"
      },
      "source": [
        "### RESULTADOS HEAD "
      ]
    },
    {
      "cell_type": "code",
      "metadata": {
        "colab": {
          "base_uri": "https://localhost:8080/",
          "height": 206
        },
        "id": "pikDEJDuX6XL",
        "outputId": "1b9138be-e89e-473c-e0a0-65db237d7be6"
      },
      "source": [
        "calendario_siembra.head()"
      ],
      "execution_count": null,
      "outputs": [
        {
          "output_type": "execute_result",
          "data": {
            "text/html": [
              "<div>\n",
              "<style scoped>\n",
              "    .dataframe tbody tr th:only-of-type {\n",
              "        vertical-align: middle;\n",
              "    }\n",
              "\n",
              "    .dataframe tbody tr th {\n",
              "        vertical-align: top;\n",
              "    }\n",
              "\n",
              "    .dataframe thead th {\n",
              "        text-align: right;\n",
              "    }\n",
              "</style>\n",
              "<table border=\"1\" class=\"dataframe\">\n",
              "  <thead>\n",
              "    <tr style=\"text-align: right;\">\n",
              "      <th></th>\n",
              "      <th>Cultivo</th>\n",
              "      <th>Inicio</th>\n",
              "      <th>Fin</th>\n",
              "      <th>Min siem-recol</th>\n",
              "      <th>Max siem-recol</th>\n",
              "    </tr>\n",
              "  </thead>\n",
              "  <tbody>\n",
              "    <tr>\n",
              "      <th>0</th>\n",
              "      <td>ACELGA</td>\n",
              "      <td>9</td>\n",
              "      <td>11</td>\n",
              "      <td>3</td>\n",
              "      <td>3</td>\n",
              "    </tr>\n",
              "    <tr>\n",
              "      <th>1</th>\n",
              "      <td>ACELGA</td>\n",
              "      <td>3</td>\n",
              "      <td>5</td>\n",
              "      <td>3</td>\n",
              "      <td>3</td>\n",
              "    </tr>\n",
              "    <tr>\n",
              "      <th>2</th>\n",
              "      <td>AJO</td>\n",
              "      <td>9</td>\n",
              "      <td>11</td>\n",
              "      <td>2</td>\n",
              "      <td>4</td>\n",
              "    </tr>\n",
              "    <tr>\n",
              "      <th>3</th>\n",
              "      <td>AJO</td>\n",
              "      <td>12</td>\n",
              "      <td>2</td>\n",
              "      <td>2</td>\n",
              "      <td>4</td>\n",
              "    </tr>\n",
              "    <tr>\n",
              "      <th>4</th>\n",
              "      <td>ALCACHOFA</td>\n",
              "      <td>3</td>\n",
              "      <td>5</td>\n",
              "      <td>3</td>\n",
              "      <td>4</td>\n",
              "    </tr>\n",
              "  </tbody>\n",
              "</table>\n",
              "</div>"
            ],
            "text/plain": [
              "     Cultivo  Inicio  Fin  Min siem-recol  Max siem-recol\n",
              "0     ACELGA       9   11               3               3\n",
              "1     ACELGA       3    5               3               3\n",
              "2        AJO       9   11               2               4\n",
              "3        AJO      12    2               2               4\n",
              "4  ALCACHOFA       3    5               3               4"
            ]
          },
          "metadata": {},
          "execution_count": 925
        }
      ]
    },
    {
      "cell_type": "code",
      "metadata": {
        "colab": {
          "base_uri": "https://localhost:8080/",
          "height": 241
        },
        "id": "Ux_xpuXJrPGj",
        "outputId": "f0307010-4342-4bc7-f0e5-c0d7937dcdae"
      },
      "source": [
        "consumo_CCAA.head()"
      ],
      "execution_count": null,
      "outputs": [
        {
          "output_type": "execute_result",
          "data": {
            "text/html": [
              "<div>\n",
              "<style scoped>\n",
              "    .dataframe tbody tr th:only-of-type {\n",
              "        vertical-align: middle;\n",
              "    }\n",
              "\n",
              "    .dataframe tbody tr th {\n",
              "        vertical-align: top;\n",
              "    }\n",
              "\n",
              "    .dataframe thead th {\n",
              "        text-align: right;\n",
              "    }\n",
              "</style>\n",
              "<table border=\"1\" class=\"dataframe\">\n",
              "  <thead>\n",
              "    <tr style=\"text-align: right;\">\n",
              "      <th></th>\n",
              "      <th>Año</th>\n",
              "      <th>Mes</th>\n",
              "      <th>CCAA</th>\n",
              "      <th>Producto</th>\n",
              "      <th>Volumen (miles de kg)</th>\n",
              "      <th>Valor (miles de €)</th>\n",
              "      <th>Precio medio kg</th>\n",
              "      <th>Penetración (%)</th>\n",
              "      <th>Consumo per capita</th>\n",
              "      <th>Gasto per capita</th>\n",
              "    </tr>\n",
              "  </thead>\n",
              "  <tbody>\n",
              "    <tr>\n",
              "      <th>24</th>\n",
              "      <td>2018</td>\n",
              "      <td>1</td>\n",
              "      <td>Andalucia</td>\n",
              "      <td>PATATA</td>\n",
              "      <td>15651.83</td>\n",
              "      <td>10399.72</td>\n",
              "      <td>0.66</td>\n",
              "      <td>71.12</td>\n",
              "      <td>1.80</td>\n",
              "      <td>1.20</td>\n",
              "    </tr>\n",
              "    <tr>\n",
              "      <th>28</th>\n",
              "      <td>2018</td>\n",
              "      <td>1</td>\n",
              "      <td>Andalucia</td>\n",
              "      <td>TOMATE</td>\n",
              "      <td>7480.28</td>\n",
              "      <td>11031.97</td>\n",
              "      <td>1.47</td>\n",
              "      <td>79.01</td>\n",
              "      <td>0.86</td>\n",
              "      <td>1.27</td>\n",
              "    </tr>\n",
              "    <tr>\n",
              "      <th>29</th>\n",
              "      <td>2018</td>\n",
              "      <td>1</td>\n",
              "      <td>Andalucia</td>\n",
              "      <td>CEBOLLA</td>\n",
              "      <td>4717.41</td>\n",
              "      <td>4361.80</td>\n",
              "      <td>0.92</td>\n",
              "      <td>72.88</td>\n",
              "      <td>0.54</td>\n",
              "      <td>0.50</td>\n",
              "    </tr>\n",
              "    <tr>\n",
              "      <th>30</th>\n",
              "      <td>2018</td>\n",
              "      <td>1</td>\n",
              "      <td>Andalucia</td>\n",
              "      <td>AJO</td>\n",
              "      <td>538.35</td>\n",
              "      <td>2140.82</td>\n",
              "      <td>3.98</td>\n",
              "      <td>40.69</td>\n",
              "      <td>0.06</td>\n",
              "      <td>0.25</td>\n",
              "    </tr>\n",
              "    <tr>\n",
              "      <th>31</th>\n",
              "      <td>2018</td>\n",
              "      <td>1</td>\n",
              "      <td>Andalucia</td>\n",
              "      <td>COL REPOLLO</td>\n",
              "      <td>1066.82</td>\n",
              "      <td>1045.78</td>\n",
              "      <td>0.98</td>\n",
              "      <td>17.48</td>\n",
              "      <td>0.12</td>\n",
              "      <td>0.12</td>\n",
              "    </tr>\n",
              "  </tbody>\n",
              "</table>\n",
              "</div>"
            ],
            "text/plain": [
              "     Año  Mes       CCAA  ... Penetración (%)  Consumo per capita  Gasto per capita\n",
              "24  2018    1  Andalucia  ...           71.12                1.80              1.20\n",
              "28  2018    1  Andalucia  ...           79.01                0.86              1.27\n",
              "29  2018    1  Andalucia  ...           72.88                0.54              0.50\n",
              "30  2018    1  Andalucia  ...           40.69                0.06              0.25\n",
              "31  2018    1  Andalucia  ...           17.48                0.12              0.12\n",
              "\n",
              "[5 rows x 10 columns]"
            ]
          },
          "metadata": {},
          "execution_count": 926
        }
      ]
    },
    {
      "cell_type": "code",
      "metadata": {
        "colab": {
          "base_uri": "https://localhost:8080/",
          "height": 206
        },
        "id": "lQnUtqq3rPRb",
        "outputId": "94c46f9c-fff6-4c73-b2ba-1f32fe470908"
      },
      "source": [
        "dat_mercaMadrid.head()"
      ],
      "execution_count": null,
      "outputs": [
        {
          "output_type": "execute_result",
          "data": {
            "text/html": [
              "<div>\n",
              "<style scoped>\n",
              "    .dataframe tbody tr th:only-of-type {\n",
              "        vertical-align: middle;\n",
              "    }\n",
              "\n",
              "    .dataframe tbody tr th {\n",
              "        vertical-align: top;\n",
              "    }\n",
              "\n",
              "    .dataframe thead th {\n",
              "        text-align: right;\n",
              "    }\n",
              "</style>\n",
              "<table border=\"1\" class=\"dataframe\">\n",
              "  <thead>\n",
              "    <tr style=\"text-align: right;\">\n",
              "      <th></th>\n",
              "      <th>product</th>\n",
              "      <th>origen</th>\n",
              "      <th>YEAR</th>\n",
              "      <th>MONTH</th>\n",
              "      <th>price_mean</th>\n",
              "      <th>Volumen</th>\n",
              "    </tr>\n",
              "  </thead>\n",
              "  <tbody>\n",
              "    <tr>\n",
              "      <th>147</th>\n",
              "      <td>ACELGA</td>\n",
              "      <td>Castilla La Mancha</td>\n",
              "      <td>2019</td>\n",
              "      <td>4</td>\n",
              "      <td>0.5000</td>\n",
              "      <td>1300</td>\n",
              "    </tr>\n",
              "    <tr>\n",
              "      <th>148</th>\n",
              "      <td>ACELGA</td>\n",
              "      <td>Castilla La Mancha</td>\n",
              "      <td>2020</td>\n",
              "      <td>6</td>\n",
              "      <td>0.9000</td>\n",
              "      <td>3330</td>\n",
              "    </tr>\n",
              "    <tr>\n",
              "      <th>149</th>\n",
              "      <td>ACELGA</td>\n",
              "      <td>Valencia</td>\n",
              "      <td>2018</td>\n",
              "      <td>1</td>\n",
              "      <td>0.9000</td>\n",
              "      <td>1000</td>\n",
              "    </tr>\n",
              "    <tr>\n",
              "      <th>150</th>\n",
              "      <td>ACELGA</td>\n",
              "      <td>Valencia</td>\n",
              "      <td>2018</td>\n",
              "      <td>2</td>\n",
              "      <td>0.7125</td>\n",
              "      <td>6590</td>\n",
              "    </tr>\n",
              "    <tr>\n",
              "      <th>151</th>\n",
              "      <td>ACELGA</td>\n",
              "      <td>Valencia</td>\n",
              "      <td>2018</td>\n",
              "      <td>3</td>\n",
              "      <td>0.5000</td>\n",
              "      <td>200</td>\n",
              "    </tr>\n",
              "  </tbody>\n",
              "</table>\n",
              "</div>"
            ],
            "text/plain": [
              "    product              origen  YEAR  MONTH  price_mean  Volumen\n",
              "147  ACELGA  Castilla La Mancha  2019      4      0.5000     1300\n",
              "148  ACELGA  Castilla La Mancha  2020      6      0.9000     3330\n",
              "149  ACELGA            Valencia  2018      1      0.9000     1000\n",
              "150  ACELGA            Valencia  2018      2      0.7125     6590\n",
              "151  ACELGA            Valencia  2018      3      0.5000      200"
            ]
          },
          "metadata": {},
          "execution_count": 927
        }
      ]
    },
    {
      "cell_type": "code",
      "metadata": {
        "colab": {
          "base_uri": "https://localhost:8080/",
          "height": 206
        },
        "id": "siKNYRxqrPMi",
        "outputId": "bc6ea247-9e0a-4e0e-b7c6-51d6a53c7a68"
      },
      "source": [
        "dat_mercaBarna.head()"
      ],
      "execution_count": null,
      "outputs": [
        {
          "output_type": "execute_result",
          "data": {
            "text/html": [
              "<div>\n",
              "<style scoped>\n",
              "    .dataframe tbody tr th:only-of-type {\n",
              "        vertical-align: middle;\n",
              "    }\n",
              "\n",
              "    .dataframe tbody tr th {\n",
              "        vertical-align: top;\n",
              "    }\n",
              "\n",
              "    .dataframe thead th {\n",
              "        text-align: right;\n",
              "    }\n",
              "</style>\n",
              "<table border=\"1\" class=\"dataframe\">\n",
              "  <thead>\n",
              "    <tr style=\"text-align: right;\">\n",
              "      <th></th>\n",
              "      <th>product</th>\n",
              "      <th>origen</th>\n",
              "      <th>YEAR</th>\n",
              "      <th>MONTH</th>\n",
              "      <th>price_mean</th>\n",
              "      <th>Volumen</th>\n",
              "    </tr>\n",
              "  </thead>\n",
              "  <tbody>\n",
              "    <tr>\n",
              "      <th>62</th>\n",
              "      <td>ACELGA</td>\n",
              "      <td>Valencia</td>\n",
              "      <td>2018</td>\n",
              "      <td>1</td>\n",
              "      <td>0.750000</td>\n",
              "      <td>408</td>\n",
              "    </tr>\n",
              "    <tr>\n",
              "      <th>63</th>\n",
              "      <td>ACELGA</td>\n",
              "      <td>Valencia</td>\n",
              "      <td>2018</td>\n",
              "      <td>3</td>\n",
              "      <td>0.575000</td>\n",
              "      <td>1420</td>\n",
              "    </tr>\n",
              "    <tr>\n",
              "      <th>64</th>\n",
              "      <td>ACELGA</td>\n",
              "      <td>Valencia</td>\n",
              "      <td>2018</td>\n",
              "      <td>11</td>\n",
              "      <td>0.950000</td>\n",
              "      <td>302</td>\n",
              "    </tr>\n",
              "    <tr>\n",
              "      <th>65</th>\n",
              "      <td>ACELGA</td>\n",
              "      <td>Valencia</td>\n",
              "      <td>2018</td>\n",
              "      <td>12</td>\n",
              "      <td>0.838462</td>\n",
              "      <td>4056</td>\n",
              "    </tr>\n",
              "    <tr>\n",
              "      <th>66</th>\n",
              "      <td>ACELGA</td>\n",
              "      <td>Valencia</td>\n",
              "      <td>2019</td>\n",
              "      <td>1</td>\n",
              "      <td>0.883333</td>\n",
              "      <td>2529</td>\n",
              "    </tr>\n",
              "  </tbody>\n",
              "</table>\n",
              "</div>"
            ],
            "text/plain": [
              "   product    origen  YEAR  MONTH  price_mean  Volumen\n",
              "62  ACELGA  Valencia  2018      1    0.750000      408\n",
              "63  ACELGA  Valencia  2018      3    0.575000     1420\n",
              "64  ACELGA  Valencia  2018     11    0.950000      302\n",
              "65  ACELGA  Valencia  2018     12    0.838462     4056\n",
              "66  ACELGA  Valencia  2019      1    0.883333     2529"
            ]
          },
          "metadata": {},
          "execution_count": 928
        }
      ]
    },
    {
      "cell_type": "code",
      "metadata": {
        "colab": {
          "base_uri": "https://localhost:8080/",
          "height": 206
        },
        "id": "njBvtiERrWWy",
        "outputId": "b4145f91-8aa5-4691-e237-2e91f4bbe33b"
      },
      "source": [
        "precios_JAndalucia.head()"
      ],
      "execution_count": null,
      "outputs": [
        {
          "output_type": "execute_result",
          "data": {
            "text/html": [
              "<div>\n",
              "<style scoped>\n",
              "    .dataframe tbody tr th:only-of-type {\n",
              "        vertical-align: middle;\n",
              "    }\n",
              "\n",
              "    .dataframe tbody tr th {\n",
              "        vertical-align: top;\n",
              "    }\n",
              "\n",
              "    .dataframe thead th {\n",
              "        text-align: right;\n",
              "    }\n",
              "</style>\n",
              "<table border=\"1\" class=\"dataframe\">\n",
              "  <thead>\n",
              "    <tr style=\"text-align: right;\">\n",
              "      <th></th>\n",
              "      <th>INICIO</th>\n",
              "      <th>FIN</th>\n",
              "      <th>PRODUCTO</th>\n",
              "      <th>POSICION</th>\n",
              "      <th>PRECIO</th>\n",
              "    </tr>\n",
              "  </thead>\n",
              "  <tbody>\n",
              "    <tr>\n",
              "      <th>26</th>\n",
              "      <td>01/01/2018</td>\n",
              "      <td>07/01/2018</td>\n",
              "      <td>AJO</td>\n",
              "      <td>Mercas</td>\n",
              "      <td>1.82</td>\n",
              "    </tr>\n",
              "    <tr>\n",
              "      <th>27</th>\n",
              "      <td>01/01/2018</td>\n",
              "      <td>07/01/2018</td>\n",
              "      <td>CEBOLLA</td>\n",
              "      <td>Mercas</td>\n",
              "      <td>0.40</td>\n",
              "    </tr>\n",
              "    <tr>\n",
              "      <th>29</th>\n",
              "      <td>01/01/2018</td>\n",
              "      <td>07/01/2018</td>\n",
              "      <td>LECHUGA</td>\n",
              "      <td>Mercas</td>\n",
              "      <td>1.26</td>\n",
              "    </tr>\n",
              "    <tr>\n",
              "      <th>30</th>\n",
              "      <td>01/01/2018</td>\n",
              "      <td>07/01/2018</td>\n",
              "      <td>ZANAHORIA</td>\n",
              "      <td>Mercas</td>\n",
              "      <td>0.76</td>\n",
              "    </tr>\n",
              "    <tr>\n",
              "      <th>31</th>\n",
              "      <td>01/01/2018</td>\n",
              "      <td>07/01/2018</td>\n",
              "      <td>ZANAHORIA</td>\n",
              "      <td>Agricultor</td>\n",
              "      <td>0.32</td>\n",
              "    </tr>\n",
              "  </tbody>\n",
              "</table>\n",
              "</div>"
            ],
            "text/plain": [
              "        INICIO         FIN   PRODUCTO    POSICION  PRECIO\n",
              "26  01/01/2018  07/01/2018        AJO      Mercas    1.82\n",
              "27  01/01/2018  07/01/2018    CEBOLLA      Mercas    0.40\n",
              "29  01/01/2018  07/01/2018    LECHUGA      Mercas    1.26\n",
              "30  01/01/2018  07/01/2018  ZANAHORIA      Mercas    0.76\n",
              "31  01/01/2018  07/01/2018  ZANAHORIA  Agricultor    0.32"
            ]
          },
          "metadata": {},
          "execution_count": 929
        }
      ]
    },
    {
      "cell_type": "code",
      "metadata": {
        "colab": {
          "base_uri": "https://localhost:8080/",
          "height": 206
        },
        "id": "r9d8XG6vrPVN",
        "outputId": "dfbd3cad-daa4-43e7-aaf5-6c8f92a046d7"
      },
      "source": [
        "aemet.head() # hacer media"
      ],
      "execution_count": null,
      "outputs": [
        {
          "output_type": "execute_result",
          "data": {
            "text/html": [
              "<div>\n",
              "<style scoped>\n",
              "    .dataframe tbody tr th:only-of-type {\n",
              "        vertical-align: middle;\n",
              "    }\n",
              "\n",
              "    .dataframe tbody tr th {\n",
              "        vertical-align: top;\n",
              "    }\n",
              "\n",
              "    .dataframe thead th {\n",
              "        text-align: right;\n",
              "    }\n",
              "</style>\n",
              "<table border=\"1\" class=\"dataframe\">\n",
              "  <thead>\n",
              "    <tr style=\"text-align: right;\">\n",
              "      <th></th>\n",
              "      <th>CCAA</th>\n",
              "      <th>Temperatura media (ºC)</th>\n",
              "      <th>Precipitación 00-24h (mm)</th>\n",
              "      <th>Año</th>\n",
              "      <th>Mes</th>\n",
              "    </tr>\n",
              "  </thead>\n",
              "  <tbody>\n",
              "    <tr>\n",
              "      <th>1</th>\n",
              "      <td>Galicia</td>\n",
              "      <td>7.0</td>\n",
              "      <td>1.8</td>\n",
              "      <td>2018</td>\n",
              "      <td>3</td>\n",
              "    </tr>\n",
              "    <tr>\n",
              "      <th>2</th>\n",
              "      <td>Galicia</td>\n",
              "      <td>10.2</td>\n",
              "      <td>1.0</td>\n",
              "      <td>2018</td>\n",
              "      <td>3</td>\n",
              "    </tr>\n",
              "    <tr>\n",
              "      <th>3</th>\n",
              "      <td>Galicia</td>\n",
              "      <td>8.7</td>\n",
              "      <td>0.7</td>\n",
              "      <td>2018</td>\n",
              "      <td>3</td>\n",
              "    </tr>\n",
              "    <tr>\n",
              "      <th>4</th>\n",
              "      <td>Galicia</td>\n",
              "      <td>7.4</td>\n",
              "      <td>0.6</td>\n",
              "      <td>2018</td>\n",
              "      <td>3</td>\n",
              "    </tr>\n",
              "    <tr>\n",
              "      <th>5</th>\n",
              "      <td>Galicia</td>\n",
              "      <td>10.3</td>\n",
              "      <td>1.8</td>\n",
              "      <td>2018</td>\n",
              "      <td>3</td>\n",
              "    </tr>\n",
              "  </tbody>\n",
              "</table>\n",
              "</div>"
            ],
            "text/plain": [
              "      CCAA  Temperatura media (ºC)  Precipitación 00-24h (mm)   Año  Mes\n",
              "1  Galicia                     7.0                        1.8  2018    3\n",
              "2  Galicia                    10.2                        1.0  2018    3\n",
              "3  Galicia                     8.7                        0.7  2018    3\n",
              "4  Galicia                     7.4                        0.6  2018    3\n",
              "5  Galicia                    10.3                        1.8  2018    3"
            ]
          },
          "metadata": {},
          "execution_count": 930
        }
      ]
    },
    {
      "cell_type": "code",
      "metadata": {
        "colab": {
          "base_uri": "https://localhost:8080/",
          "height": 224
        },
        "id": "WJu0POg1dKk0",
        "outputId": "91a947ce-1f2c-43fd-f4d7-eb475a75c169"
      },
      "source": [
        "riegos_temp_cultivos.head()"
      ],
      "execution_count": null,
      "outputs": [
        {
          "output_type": "execute_result",
          "data": {
            "text/html": [
              "<div>\n",
              "<style scoped>\n",
              "    .dataframe tbody tr th:only-of-type {\n",
              "        vertical-align: middle;\n",
              "    }\n",
              "\n",
              "    .dataframe tbody tr th {\n",
              "        vertical-align: top;\n",
              "    }\n",
              "\n",
              "    .dataframe thead th {\n",
              "        text-align: right;\n",
              "    }\n",
              "</style>\n",
              "<table border=\"1\" class=\"dataframe\">\n",
              "  <thead>\n",
              "    <tr style=\"text-align: right;\">\n",
              "      <th></th>\n",
              "      <th>Cultivo</th>\n",
              "      <th>Temperatura min req</th>\n",
              "      <th>Temperatura max req</th>\n",
              "      <th>Temperatura min opt</th>\n",
              "      <th>Temperatura max opt</th>\n",
              "      <th>Dias entre riego zona seca</th>\n",
              "      <th>Dias entre riego zona húmeda</th>\n",
              "    </tr>\n",
              "  </thead>\n",
              "  <tbody>\n",
              "    <tr>\n",
              "      <th>0</th>\n",
              "      <td>ACELGA</td>\n",
              "      <td>6.0</td>\n",
              "      <td>33.0</td>\n",
              "      <td>15.0</td>\n",
              "      <td>25.0</td>\n",
              "      <td>4</td>\n",
              "      <td>10</td>\n",
              "    </tr>\n",
              "    <tr>\n",
              "      <th>1</th>\n",
              "      <td>AJO</td>\n",
              "      <td>7.0</td>\n",
              "      <td>30.0</td>\n",
              "      <td>14.0</td>\n",
              "      <td>24.0</td>\n",
              "      <td>5</td>\n",
              "      <td>7</td>\n",
              "    </tr>\n",
              "    <tr>\n",
              "      <th>2</th>\n",
              "      <td>ALCACHOFA</td>\n",
              "      <td>7.0</td>\n",
              "      <td>29.0</td>\n",
              "      <td>15.0</td>\n",
              "      <td>18.0</td>\n",
              "      <td>1</td>\n",
              "      <td>2</td>\n",
              "    </tr>\n",
              "    <tr>\n",
              "      <th>3</th>\n",
              "      <td>APIO</td>\n",
              "      <td>15.0</td>\n",
              "      <td>27.0</td>\n",
              "      <td>15.0</td>\n",
              "      <td>21.0</td>\n",
              "      <td>2</td>\n",
              "      <td>3</td>\n",
              "    </tr>\n",
              "    <tr>\n",
              "      <th>4</th>\n",
              "      <td>BERENJENA</td>\n",
              "      <td>15.0</td>\n",
              "      <td>40.0</td>\n",
              "      <td>23.0</td>\n",
              "      <td>25.0</td>\n",
              "      <td>2</td>\n",
              "      <td>3</td>\n",
              "    </tr>\n",
              "  </tbody>\n",
              "</table>\n",
              "</div>"
            ],
            "text/plain": [
              "     Cultivo  ...  Dias entre riego zona húmeda\n",
              "0     ACELGA  ...                            10\n",
              "1        AJO  ...                             7\n",
              "2  ALCACHOFA  ...                             2\n",
              "3       APIO  ...                             3\n",
              "4  BERENJENA  ...                             3\n",
              "\n",
              "[5 rows x 7 columns]"
            ]
          },
          "metadata": {},
          "execution_count": 931
        }
      ]
    },
    {
      "cell_type": "markdown",
      "metadata": {
        "id": "O6kKBVdY_Rzt"
      },
      "source": [
        "## 4. Transformación"
      ]
    },
    {
      "cell_type": "code",
      "metadata": {
        "colab": {
          "base_uri": "https://localhost:8080/",
          "height": 300
        },
        "id": "vIq8McZZg5zn",
        "outputId": "44a1b0b9-b7b4-4c8c-db34-023418d1ae5e"
      },
      "source": [
        "# Agrupar por cultivos repetidos\n",
        "consumo_CCAA_gb = consumo_CCAA.groupby(['Producto', 'CCAA','Año', 'Mes']).count()\n",
        "consumo_CCAA_gb.describe()\n",
        "# Como se puede apreciar, no hay valores de agrupacion repetidos y por tanto este dataseet no necesita groupby"
      ],
      "execution_count": null,
      "outputs": [
        {
          "output_type": "execute_result",
          "data": {
            "text/html": [
              "<div>\n",
              "<style scoped>\n",
              "    .dataframe tbody tr th:only-of-type {\n",
              "        vertical-align: middle;\n",
              "    }\n",
              "\n",
              "    .dataframe tbody tr th {\n",
              "        vertical-align: top;\n",
              "    }\n",
              "\n",
              "    .dataframe thead th {\n",
              "        text-align: right;\n",
              "    }\n",
              "</style>\n",
              "<table border=\"1\" class=\"dataframe\">\n",
              "  <thead>\n",
              "    <tr style=\"text-align: right;\">\n",
              "      <th></th>\n",
              "      <th>Volumen (miles de kg)</th>\n",
              "      <th>Valor (miles de €)</th>\n",
              "      <th>Precio medio kg</th>\n",
              "      <th>Penetración (%)</th>\n",
              "      <th>Consumo per capita</th>\n",
              "      <th>Gasto per capita</th>\n",
              "    </tr>\n",
              "  </thead>\n",
              "  <tbody>\n",
              "    <tr>\n",
              "      <th>count</th>\n",
              "      <td>9078.0</td>\n",
              "      <td>9078.0</td>\n",
              "      <td>9078.0</td>\n",
              "      <td>9078.0</td>\n",
              "      <td>9078.0</td>\n",
              "      <td>9078.0</td>\n",
              "    </tr>\n",
              "    <tr>\n",
              "      <th>mean</th>\n",
              "      <td>1.0</td>\n",
              "      <td>1.0</td>\n",
              "      <td>1.0</td>\n",
              "      <td>1.0</td>\n",
              "      <td>1.0</td>\n",
              "      <td>1.0</td>\n",
              "    </tr>\n",
              "    <tr>\n",
              "      <th>std</th>\n",
              "      <td>0.0</td>\n",
              "      <td>0.0</td>\n",
              "      <td>0.0</td>\n",
              "      <td>0.0</td>\n",
              "      <td>0.0</td>\n",
              "      <td>0.0</td>\n",
              "    </tr>\n",
              "    <tr>\n",
              "      <th>min</th>\n",
              "      <td>1.0</td>\n",
              "      <td>1.0</td>\n",
              "      <td>1.0</td>\n",
              "      <td>1.0</td>\n",
              "      <td>1.0</td>\n",
              "      <td>1.0</td>\n",
              "    </tr>\n",
              "    <tr>\n",
              "      <th>25%</th>\n",
              "      <td>1.0</td>\n",
              "      <td>1.0</td>\n",
              "      <td>1.0</td>\n",
              "      <td>1.0</td>\n",
              "      <td>1.0</td>\n",
              "      <td>1.0</td>\n",
              "    </tr>\n",
              "    <tr>\n",
              "      <th>50%</th>\n",
              "      <td>1.0</td>\n",
              "      <td>1.0</td>\n",
              "      <td>1.0</td>\n",
              "      <td>1.0</td>\n",
              "      <td>1.0</td>\n",
              "      <td>1.0</td>\n",
              "    </tr>\n",
              "    <tr>\n",
              "      <th>75%</th>\n",
              "      <td>1.0</td>\n",
              "      <td>1.0</td>\n",
              "      <td>1.0</td>\n",
              "      <td>1.0</td>\n",
              "      <td>1.0</td>\n",
              "      <td>1.0</td>\n",
              "    </tr>\n",
              "    <tr>\n",
              "      <th>max</th>\n",
              "      <td>1.0</td>\n",
              "      <td>1.0</td>\n",
              "      <td>1.0</td>\n",
              "      <td>1.0</td>\n",
              "      <td>1.0</td>\n",
              "      <td>1.0</td>\n",
              "    </tr>\n",
              "  </tbody>\n",
              "</table>\n",
              "</div>"
            ],
            "text/plain": [
              "       Volumen (miles de kg)  ...  Gasto per capita\n",
              "count                 9078.0  ...            9078.0\n",
              "mean                     1.0  ...               1.0\n",
              "std                      0.0  ...               0.0\n",
              "min                      1.0  ...               1.0\n",
              "25%                      1.0  ...               1.0\n",
              "50%                      1.0  ...               1.0\n",
              "75%                      1.0  ...               1.0\n",
              "max                      1.0  ...               1.0\n",
              "\n",
              "[8 rows x 6 columns]"
            ]
          },
          "metadata": {},
          "execution_count": 932
        }
      ]
    },
    {
      "cell_type": "code",
      "metadata": {
        "id": "fjcln7H1mHLm"
      },
      "source": [
        "# Fusionar datos mercamadrid y mercabarna ya que tienen las mismas columnas\n",
        "dat_merca = dat_mercaMadrid.append(dat_mercaBarna, ignore_index=True)"
      ],
      "execution_count": null,
      "outputs": []
    },
    {
      "cell_type": "code",
      "metadata": {
        "colab": {
          "base_uri": "https://localhost:8080/",
          "height": 455
        },
        "id": "okNfuU-8inzZ",
        "outputId": "3d482a29-9aa5-4ac5-dc33-7737c9214768"
      },
      "source": [
        "dat_merca_gb = dat_merca.groupby(['product', 'origen','YEAR', 'MONTH']).agg(price_mean=('price_mean', 'mean'), Volumen=('Volumen', 'sum'))\n",
        "dat_merca_gb"
      ],
      "execution_count": null,
      "outputs": [
        {
          "output_type": "execute_result",
          "data": {
            "text/html": [
              "<div>\n",
              "<style scoped>\n",
              "    .dataframe tbody tr th:only-of-type {\n",
              "        vertical-align: middle;\n",
              "    }\n",
              "\n",
              "    .dataframe tbody tr th {\n",
              "        vertical-align: top;\n",
              "    }\n",
              "\n",
              "    .dataframe thead th {\n",
              "        text-align: right;\n",
              "    }\n",
              "</style>\n",
              "<table border=\"1\" class=\"dataframe\">\n",
              "  <thead>\n",
              "    <tr style=\"text-align: right;\">\n",
              "      <th></th>\n",
              "      <th></th>\n",
              "      <th></th>\n",
              "      <th></th>\n",
              "      <th>price_mean</th>\n",
              "      <th>Volumen</th>\n",
              "    </tr>\n",
              "    <tr>\n",
              "      <th>product</th>\n",
              "      <th>origen</th>\n",
              "      <th>YEAR</th>\n",
              "      <th>MONTH</th>\n",
              "      <th></th>\n",
              "      <th></th>\n",
              "    </tr>\n",
              "  </thead>\n",
              "  <tbody>\n",
              "    <tr>\n",
              "      <th rowspan=\"5\" valign=\"top\">ACELGA</th>\n",
              "      <th rowspan=\"5\" valign=\"top\">Andalucia</th>\n",
              "      <th rowspan=\"5\" valign=\"top\">2018</th>\n",
              "      <th>1</th>\n",
              "      <td>0.750238</td>\n",
              "      <td>46516</td>\n",
              "    </tr>\n",
              "    <tr>\n",
              "      <th>2</th>\n",
              "      <td>0.734375</td>\n",
              "      <td>37237</td>\n",
              "    </tr>\n",
              "    <tr>\n",
              "      <th>3</th>\n",
              "      <td>0.672059</td>\n",
              "      <td>78318</td>\n",
              "    </tr>\n",
              "    <tr>\n",
              "      <th>4</th>\n",
              "      <td>0.666176</td>\n",
              "      <td>64277</td>\n",
              "    </tr>\n",
              "    <tr>\n",
              "      <th>5</th>\n",
              "      <td>0.869608</td>\n",
              "      <td>94592</td>\n",
              "    </tr>\n",
              "    <tr>\n",
              "      <th>...</th>\n",
              "      <th>...</th>\n",
              "      <th>...</th>\n",
              "      <th>...</th>\n",
              "      <td>...</td>\n",
              "      <td>...</td>\n",
              "    </tr>\n",
              "    <tr>\n",
              "      <th rowspan=\"5\" valign=\"top\">ZANAHORIA</th>\n",
              "      <th rowspan=\"5\" valign=\"top\">Valencia</th>\n",
              "      <th rowspan=\"5\" valign=\"top\">2020</th>\n",
              "      <th>7</th>\n",
              "      <td>0.500000</td>\n",
              "      <td>3100</td>\n",
              "    </tr>\n",
              "    <tr>\n",
              "      <th>8</th>\n",
              "      <td>0.500000</td>\n",
              "      <td>7610</td>\n",
              "    </tr>\n",
              "    <tr>\n",
              "      <th>9</th>\n",
              "      <td>0.500000</td>\n",
              "      <td>8000</td>\n",
              "    </tr>\n",
              "    <tr>\n",
              "      <th>10</th>\n",
              "      <td>0.566667</td>\n",
              "      <td>6400</td>\n",
              "    </tr>\n",
              "    <tr>\n",
              "      <th>11</th>\n",
              "      <td>0.461111</td>\n",
              "      <td>6375</td>\n",
              "    </tr>\n",
              "  </tbody>\n",
              "</table>\n",
              "<p>9717 rows × 2 columns</p>\n",
              "</div>"
            ],
            "text/plain": [
              "                                price_mean  Volumen\n",
              "product   origen    YEAR MONTH                     \n",
              "ACELGA    Andalucia 2018 1        0.750238    46516\n",
              "                         2        0.734375    37237\n",
              "                         3        0.672059    78318\n",
              "                         4        0.666176    64277\n",
              "                         5        0.869608    94592\n",
              "...                                    ...      ...\n",
              "ZANAHORIA Valencia  2020 7        0.500000     3100\n",
              "                         8        0.500000     7610\n",
              "                         9        0.500000     8000\n",
              "                         10       0.566667     6400\n",
              "                         11       0.461111     6375\n",
              "\n",
              "[9717 rows x 2 columns]"
            ]
          },
          "metadata": {},
          "execution_count": 937
        }
      ]
    },
    {
      "cell_type": "code",
      "metadata": {
        "colab": {
          "base_uri": "https://localhost:8080/",
          "height": 455
        },
        "id": "-E5wyL08eTy6",
        "outputId": "75a6c65e-a0db-441b-d7ce-b9911e662adb"
      },
      "source": [
        "# Primero, se agruparan las filas de las misma CCAA en el dataset de aemet\n",
        "aemet_gb = aemet.groupby(['CCAA', 'Año', 'Mes']).mean()\n",
        "aemet_gb"
      ],
      "execution_count": null,
      "outputs": [
        {
          "output_type": "execute_result",
          "data": {
            "text/html": [
              "<div>\n",
              "<style scoped>\n",
              "    .dataframe tbody tr th:only-of-type {\n",
              "        vertical-align: middle;\n",
              "    }\n",
              "\n",
              "    .dataframe tbody tr th {\n",
              "        vertical-align: top;\n",
              "    }\n",
              "\n",
              "    .dataframe thead th {\n",
              "        text-align: right;\n",
              "    }\n",
              "</style>\n",
              "<table border=\"1\" class=\"dataframe\">\n",
              "  <thead>\n",
              "    <tr style=\"text-align: right;\">\n",
              "      <th></th>\n",
              "      <th></th>\n",
              "      <th></th>\n",
              "      <th>Temperatura media (ºC)</th>\n",
              "      <th>Precipitación 00-24h (mm)</th>\n",
              "    </tr>\n",
              "    <tr>\n",
              "      <th>CCAA</th>\n",
              "      <th>Año</th>\n",
              "      <th>Mes</th>\n",
              "      <th></th>\n",
              "      <th></th>\n",
              "    </tr>\n",
              "  </thead>\n",
              "  <tbody>\n",
              "    <tr>\n",
              "      <th rowspan=\"5\" valign=\"top\">Andalucia</th>\n",
              "      <th rowspan=\"5\" valign=\"top\">2018</th>\n",
              "      <th>1</th>\n",
              "      <td>10.275828</td>\n",
              "      <td>1.529851</td>\n",
              "    </tr>\n",
              "    <tr>\n",
              "      <th>2</th>\n",
              "      <td>9.711652</td>\n",
              "      <td>1.343055</td>\n",
              "    </tr>\n",
              "    <tr>\n",
              "      <th>3</th>\n",
              "      <td>11.911101</td>\n",
              "      <td>8.004955</td>\n",
              "    </tr>\n",
              "    <tr>\n",
              "      <th>4</th>\n",
              "      <td>14.844540</td>\n",
              "      <td>2.318774</td>\n",
              "    </tr>\n",
              "    <tr>\n",
              "      <th>5</th>\n",
              "      <td>17.499532</td>\n",
              "      <td>0.862894</td>\n",
              "    </tr>\n",
              "    <tr>\n",
              "      <th>...</th>\n",
              "      <th>...</th>\n",
              "      <th>...</th>\n",
              "      <td>...</td>\n",
              "      <td>...</td>\n",
              "    </tr>\n",
              "    <tr>\n",
              "      <th rowspan=\"5\" valign=\"top\">Valencia</th>\n",
              "      <th rowspan=\"5\" valign=\"top\">2020</th>\n",
              "      <th>8</th>\n",
              "      <td>25.787106</td>\n",
              "      <td>0.351958</td>\n",
              "    </tr>\n",
              "    <tr>\n",
              "      <th>9</th>\n",
              "      <td>21.658917</td>\n",
              "      <td>0.518900</td>\n",
              "    </tr>\n",
              "    <tr>\n",
              "      <th>10</th>\n",
              "      <td>16.864085</td>\n",
              "      <td>0.270383</td>\n",
              "    </tr>\n",
              "    <tr>\n",
              "      <th>11</th>\n",
              "      <td>13.892183</td>\n",
              "      <td>3.745472</td>\n",
              "    </tr>\n",
              "    <tr>\n",
              "      <th>12</th>\n",
              "      <td>10.120636</td>\n",
              "      <td>0.311545</td>\n",
              "    </tr>\n",
              "  </tbody>\n",
              "</table>\n",
              "<p>612 rows × 2 columns</p>\n",
              "</div>"
            ],
            "text/plain": [
              "                    Temperatura media (ºC)  Precipitación 00-24h (mm)\n",
              "CCAA      Año  Mes                                                   \n",
              "Andalucia 2018 1                 10.275828                   1.529851\n",
              "               2                  9.711652                   1.343055\n",
              "               3                 11.911101                   8.004955\n",
              "               4                 14.844540                   2.318774\n",
              "               5                 17.499532                   0.862894\n",
              "...                                    ...                        ...\n",
              "Valencia  2020 8                 25.787106                   0.351958\n",
              "               9                 21.658917                   0.518900\n",
              "               10                16.864085                   0.270383\n",
              "               11                13.892183                   3.745472\n",
              "               12                10.120636                   0.311545\n",
              "\n",
              "[612 rows x 2 columns]"
            ]
          },
          "metadata": {},
          "execution_count": 939
        }
      ]
    },
    {
      "cell_type": "code",
      "metadata": {
        "colab": {
          "base_uri": "https://localhost:8080/"
        },
        "id": "DoX_jqJPqNK0",
        "outputId": "84bf111a-707d-4211-b2ff-d7cbcf7e44e0"
      },
      "source": [
        "# DISCRETIZACION DE TEMPERATURAS Y PRECIPITACIONES\n",
        "\n",
        "from sklearn.preprocessing import KBinsDiscretizer\n",
        "#strategies: uniform, quantile, kmeans\n",
        "\n",
        "results_precip  = []\n",
        "\n",
        "for strategy in ['uniform', 'quantile', 'kmeans']:\n",
        "  enc = KBinsDiscretizer(n_bins=5, encode='ordinal', strategy=strategy)\n",
        "  aemet_gb['Precipitacion_'+strategy] = enc.fit_transform(aemet_gb[['Precipitación 00-24h (mm)']])\n",
        "  results_precip.append(aemet_gb.groupby(['Precipitacion_'+strategy])['Precipitación 00-24h (mm)'].mean())\n",
        " \n",
        "results_precip\n"
      ],
      "execution_count": null,
      "outputs": [
        {
          "output_type": "execute_result",
          "data": {
            "text/plain": [
              "[Precipitacion_uniform\n",
              " 0.0     1.076695\n",
              " 1.0     3.411708\n",
              " 2.0     6.091110\n",
              " 3.0     8.946050\n",
              " 4.0    11.894444\n",
              " Name: Precipitación 00-24h (mm), dtype: float64, Precipitacion_quantile\n",
              " 0.0    0.213152\n",
              " 1.0    0.891870\n",
              " 2.0    1.586106\n",
              " 3.0    2.550882\n",
              " 4.0    5.205004\n",
              " Name: Precipitación 00-24h (mm), dtype: float64, Precipitacion_kmeans\n",
              " 0.0     0.751655\n",
              " 1.0     2.507828\n",
              " 2.0     4.711894\n",
              " 3.0     8.466964\n",
              " 4.0    11.894444\n",
              " Name: Precipitación 00-24h (mm), dtype: float64]"
            ]
          },
          "metadata": {},
          "execution_count": 944
        }
      ]
    },
    {
      "cell_type": "code",
      "metadata": {
        "colab": {
          "base_uri": "https://localhost:8080/"
        },
        "id": "bkLSmXBLu40T",
        "outputId": "4c889b20-9df0-4d10-d895-a281a2cb1caf"
      },
      "source": [
        "from sklearn.preprocessing import KBinsDiscretizer\n",
        "#strategies: uniform, quantile, kmeans\n",
        "\n",
        "results  = []\n",
        "\n",
        "for strategy in ['uniform', 'quantile', 'kmeans']:\n",
        "  enc = KBinsDiscretizer(n_bins=5, encode='ordinal', strategy=strategy)\n",
        "  aemet_gb['Temperatura_'+strategy] = enc.fit_transform(aemet_gb[['Temperatura media (ºC)']])\n",
        "  results.append(aemet_gb.groupby(['Temperatura_'+strategy])['Temperatura media (ºC)'].mean())\n",
        " \n",
        "results"
      ],
      "execution_count": null,
      "outputs": [
        {
          "output_type": "execute_result",
          "data": {
            "text/plain": [
              "[Temperatura_uniform\n",
              " 0.0     6.128880\n",
              " 1.0    10.442241\n",
              " 2.0    15.508060\n",
              " 3.0    20.629588\n",
              " 4.0    25.360998\n",
              " Name: Temperatura media (ºC), dtype: float64, Temperatura_quantile\n",
              " 0.0     7.174902\n",
              " 1.0    10.888098\n",
              " 2.0    14.429266\n",
              " 3.0    18.723801\n",
              " 4.0    23.582372\n",
              " Name: Temperatura media (ºC), dtype: float64, Temperatura_kmeans\n",
              " 0.0     6.786301\n",
              " 1.0    10.872729\n",
              " 2.0    15.363984\n",
              " 3.0    20.170708\n",
              " 4.0    24.857453\n",
              " Name: Temperatura media (ºC), dtype: float64]"
            ]
          },
          "metadata": {},
          "execution_count": 945
        }
      ]
    },
    {
      "cell_type": "code",
      "metadata": {
        "colab": {
          "base_uri": "https://localhost:8080/",
          "height": 472
        },
        "id": "t0lAfbVwtxgC",
        "outputId": "848a798a-8bee-46ba-fd77-bb960eade398"
      },
      "source": [
        "aemet_gb[aemet_gb['Temperatura_quantile'] == 0.0]"
      ],
      "execution_count": null,
      "outputs": [
        {
          "output_type": "execute_result",
          "data": {
            "text/html": [
              "<div>\n",
              "<style scoped>\n",
              "    .dataframe tbody tr th:only-of-type {\n",
              "        vertical-align: middle;\n",
              "    }\n",
              "\n",
              "    .dataframe tbody tr th {\n",
              "        vertical-align: top;\n",
              "    }\n",
              "\n",
              "    .dataframe thead th {\n",
              "        text-align: right;\n",
              "    }\n",
              "</style>\n",
              "<table border=\"1\" class=\"dataframe\">\n",
              "  <thead>\n",
              "    <tr style=\"text-align: right;\">\n",
              "      <th></th>\n",
              "      <th></th>\n",
              "      <th></th>\n",
              "      <th>Temperatura media (ºC)</th>\n",
              "      <th>Precipitación 00-24h (mm)</th>\n",
              "      <th>Temperatura_uniform</th>\n",
              "      <th>Temperatura_quantile</th>\n",
              "      <th>Temperatura_kmeans</th>\n",
              "    </tr>\n",
              "    <tr>\n",
              "      <th>CCAA</th>\n",
              "      <th>Año</th>\n",
              "      <th>Mes</th>\n",
              "      <th></th>\n",
              "      <th></th>\n",
              "      <th></th>\n",
              "      <th></th>\n",
              "      <th></th>\n",
              "    </tr>\n",
              "  </thead>\n",
              "  <tbody>\n",
              "    <tr>\n",
              "      <th rowspan=\"5\" valign=\"top\">Aragon</th>\n",
              "      <th rowspan=\"5\" valign=\"top\">2018</th>\n",
              "      <th>1</th>\n",
              "      <td>6.605175</td>\n",
              "      <td>1.394943</td>\n",
              "      <td>0.0</td>\n",
              "      <td>0.0</td>\n",
              "      <td>0.0</td>\n",
              "    </tr>\n",
              "    <tr>\n",
              "      <th>2</th>\n",
              "      <td>3.978345</td>\n",
              "      <td>1.572721</td>\n",
              "      <td>0.0</td>\n",
              "      <td>0.0</td>\n",
              "      <td>0.0</td>\n",
              "    </tr>\n",
              "    <tr>\n",
              "      <th>3</th>\n",
              "      <td>7.682732</td>\n",
              "      <td>2.514962</td>\n",
              "      <td>0.0</td>\n",
              "      <td>0.0</td>\n",
              "      <td>0.0</td>\n",
              "    </tr>\n",
              "    <tr>\n",
              "      <th>11</th>\n",
              "      <td>8.937694</td>\n",
              "      <td>1.932052</td>\n",
              "      <td>1.0</td>\n",
              "      <td>0.0</td>\n",
              "      <td>1.0</td>\n",
              "    </tr>\n",
              "    <tr>\n",
              "      <th>12</th>\n",
              "      <td>7.107083</td>\n",
              "      <td>0.548274</td>\n",
              "      <td>0.0</td>\n",
              "      <td>0.0</td>\n",
              "      <td>0.0</td>\n",
              "    </tr>\n",
              "    <tr>\n",
              "      <th>...</th>\n",
              "      <th>...</th>\n",
              "      <th>...</th>\n",
              "      <td>...</td>\n",
              "      <td>...</td>\n",
              "      <td>...</td>\n",
              "      <td>...</td>\n",
              "      <td>...</td>\n",
              "    </tr>\n",
              "    <tr>\n",
              "      <th rowspan=\"3\" valign=\"top\">Pais Vasco</th>\n",
              "      <th>2019</th>\n",
              "      <th>1</th>\n",
              "      <td>6.029371</td>\n",
              "      <td>8.532567</td>\n",
              "      <td>0.0</td>\n",
              "      <td>0.0</td>\n",
              "      <td>0.0</td>\n",
              "    </tr>\n",
              "    <tr>\n",
              "      <th rowspan=\"2\" valign=\"top\">2020</th>\n",
              "      <th>1</th>\n",
              "      <td>8.180231</td>\n",
              "      <td>1.419243</td>\n",
              "      <td>1.0</td>\n",
              "      <td>0.0</td>\n",
              "      <td>0.0</td>\n",
              "    </tr>\n",
              "    <tr>\n",
              "      <th>12</th>\n",
              "      <td>8.089195</td>\n",
              "      <td>10.921292</td>\n",
              "      <td>1.0</td>\n",
              "      <td>0.0</td>\n",
              "      <td>0.0</td>\n",
              "    </tr>\n",
              "    <tr>\n",
              "      <th rowspan=\"2\" valign=\"top\">Valencia</th>\n",
              "      <th>2018</th>\n",
              "      <th>2</th>\n",
              "      <td>8.367619</td>\n",
              "      <td>1.760260</td>\n",
              "      <td>1.0</td>\n",
              "      <td>0.0</td>\n",
              "      <td>0.0</td>\n",
              "    </tr>\n",
              "    <tr>\n",
              "      <th>2019</th>\n",
              "      <th>1</th>\n",
              "      <td>8.918771</td>\n",
              "      <td>0.104966</td>\n",
              "      <td>1.0</td>\n",
              "      <td>0.0</td>\n",
              "      <td>1.0</td>\n",
              "    </tr>\n",
              "  </tbody>\n",
              "</table>\n",
              "<p>123 rows × 5 columns</p>\n",
              "</div>"
            ],
            "text/plain": [
              "                     Temperatura media (ºC)  ...  Temperatura_kmeans\n",
              "CCAA       Año  Mes                          ...                    \n",
              "Aragon     2018 1                  6.605175  ...                 0.0\n",
              "                2                  3.978345  ...                 0.0\n",
              "                3                  7.682732  ...                 0.0\n",
              "                11                 8.937694  ...                 1.0\n",
              "                12                 7.107083  ...                 0.0\n",
              "...                                     ...  ...                 ...\n",
              "Pais Vasco 2019 1                  6.029371  ...                 0.0\n",
              "           2020 1                  8.180231  ...                 0.0\n",
              "                12                 8.089195  ...                 0.0\n",
              "Valencia   2018 2                  8.367619  ...                 0.0\n",
              "           2019 1                  8.918771  ...                 1.0\n",
              "\n",
              "[123 rows x 5 columns]"
            ]
          },
          "metadata": {},
          "execution_count": 942
        }
      ]
    }
  ]
}