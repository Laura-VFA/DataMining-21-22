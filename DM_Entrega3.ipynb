{
  "nbformat": 4,
  "nbformat_minor": 0,
  "metadata": {
    "colab": {
      "name": "DM_Entrega3.ipynb",
      "provenance": [],
      "collapsed_sections": [],
      "toc_visible": true,
      "include_colab_link": true
    },
    "kernelspec": {
      "name": "python3",
      "display_name": "Python 3"
    },
    "language_info": {
      "name": "python"
    }
  },
  "cells": [
    {
      "cell_type": "markdown",
      "metadata": {
        "id": "view-in-github",
        "colab_type": "text"
      },
      "source": [
        "<a href=\"https://colab.research.google.com/github/Laura-VFA/DataMining-21-22/blob/main/DM_Entrega3.ipynb\" target=\"_parent\"><img src=\"https://colab.research.google.com/assets/colab-badge.svg\" alt=\"Open In Colab\"/></a>"
      ]
    },
    {
      "cell_type": "markdown",
      "source": [
        "- Iago García Suárez  \n",
        "- David González Bermúdez  \n",
        "- Sergio Martínez Cid  \n",
        "- Laura Villa Fernández-Arroyo"
      ],
      "metadata": {
        "id": "MIppySjMTMjc"
      }
    },
    {
      "cell_type": "markdown",
      "source": [
        "# Minería de datos\n",
        "# Aplicación de modelo de minería de datos"
      ],
      "metadata": {
        "id": "bbMgKIPCTOYy"
      }
    },
    {
      "cell_type": "markdown",
      "source": [
        "## 1. Carga de datos"
      ],
      "metadata": {
        "id": "EdRob44RK_hI"
      }
    },
    {
      "cell_type": "code",
      "source": [
        "import json\n",
        "import itertools\n",
        "import warnings\n",
        "import numpy as np\n",
        "import pandas as pd\n",
        "import seaborn as sns\n",
        "import matplotlib.pyplot as plt\n",
        "from google.colab import widgets\n",
        "from sklearn import metrics, ensemble\n",
        "from sklearn.metrics import accuracy_score\n",
        "from sklearn.tree import DecisionTreeRegressor\n",
        "from sklearn.ensemble import RandomForestRegressor\n",
        "from sklearn.model_selection import train_test_split\n",
        "from sklearn.model_selection import KFold, train_test_split"
      ],
      "metadata": {
        "id": "srYeFbF-152g"
      },
      "execution_count": 1,
      "outputs": []
    },
    {
      "cell_type": "code",
      "execution_count": 2,
      "metadata": {
        "colab": {
          "base_uri": "https://localhost:8080/"
        },
        "id": "r2Plw-5H0GUM",
        "outputId": "0d9a1f91-6fba-4f9b-c267-e05f4eac8ac0"
      },
      "outputs": [
        {
          "output_type": "stream",
          "name": "stdout",
          "text": [
            "--2022-01-19 17:25:13--  https://raw.githubusercontent.com/Laura-VFA/DataMining-21-22/main/Datasets/agroanalisis_recolec.csv\n",
            "Resolving raw.githubusercontent.com (raw.githubusercontent.com)... 185.199.111.133, 185.199.108.133, 185.199.110.133, ...\n",
            "Connecting to raw.githubusercontent.com (raw.githubusercontent.com)|185.199.111.133|:443... connected.\n",
            "HTTP request sent, awaiting response... 200 OK\n",
            "Length: 2241493 (2.1M) [text/plain]\n",
            "Saving to: ‘agroanalisis_recolec.csv’\n",
            "\n",
            "agroanalisis_recole 100%[===================>]   2.14M  --.-KB/s    in 0.05s   \n",
            "\n",
            "2022-01-19 17:25:14 (46.2 MB/s) - ‘agroanalisis_recolec.csv’ saved [2241493/2241493]\n",
            "\n",
            "--2022-01-19 17:25:14--  https://raw.githubusercontent.com/Laura-VFA/DataMining-21-22/main/Dicts/product_origen_inference.json\n",
            "Resolving raw.githubusercontent.com (raw.githubusercontent.com)... 185.199.108.133, 185.199.109.133, 185.199.110.133, ...\n",
            "Connecting to raw.githubusercontent.com (raw.githubusercontent.com)|185.199.108.133|:443... connected.\n",
            "HTTP request sent, awaiting response... 200 OK\n",
            "Length: 1173 (1.1K) [text/plain]\n",
            "Saving to: ‘product_origen_inference.json’\n",
            "\n",
            "product_origen_infe 100%[===================>]   1.15K  --.-KB/s    in 0s      \n",
            "\n",
            "2022-01-19 17:25:14 (71.0 MB/s) - ‘product_origen_inference.json’ saved [1173/1173]\n",
            "\n",
            "--2022-01-19 17:25:14--  https://raw.githubusercontent.com/Laura-VFA/DataMining-21-22/main/Dicts/available_products.json\n",
            "Resolving raw.githubusercontent.com (raw.githubusercontent.com)... 185.199.108.133, 185.199.109.133, 185.199.110.133, ...\n",
            "Connecting to raw.githubusercontent.com (raw.githubusercontent.com)|185.199.108.133|:443... connected.\n",
            "HTTP request sent, awaiting response... 200 OK\n",
            "Length: 395 [text/plain]\n",
            "Saving to: ‘available_products.json’\n",
            "\n",
            "available_products. 100%[===================>]     395  --.-KB/s    in 0s      \n",
            "\n",
            "2022-01-19 17:25:14 (16.4 MB/s) - ‘available_products.json’ saved [395/395]\n",
            "\n"
          ]
        }
      ],
      "source": [
        "!rm *.*\n",
        "\n",
        "!wget https://raw.githubusercontent.com/Laura-VFA/DataMining-21-22/main/Datasets/agroanalisis_recolec.csv\n",
        "\n",
        "!wget https://raw.githubusercontent.com/Laura-VFA/DataMining-21-22/main/Dicts/product_origen_inference.json\n",
        "!wget https://raw.githubusercontent.com/Laura-VFA/DataMining-21-22/main/Dicts/available_products.json\n"
      ]
    },
    {
      "cell_type": "code",
      "source": [
        "agroanalisis = pd.read_csv('agroanalisis_recolec.csv', sep=';')\n",
        "agroanalisis.drop(axis=1, labels=['Unnamed: 0'], inplace=True)\n",
        "agroanalisis.head()"
      ],
      "metadata": {
        "colab": {
          "base_uri": "https://localhost:8080/",
          "height": 340
        },
        "id": "GG4ofL2a13ex",
        "outputId": "ec2bd6fc-eaff-4ee5-aeea-088045d83a66"
      },
      "execution_count": 3,
      "outputs": [
        {
          "output_type": "execute_result",
          "data": {
            "text/html": [
              "\n",
              "  <div id=\"df-1fdaed27-e37a-48a4-85f9-deab7afd9e72\">\n",
              "    <div class=\"colab-df-container\">\n",
              "      <div>\n",
              "<style scoped>\n",
              "    .dataframe tbody tr th:only-of-type {\n",
              "        vertical-align: middle;\n",
              "    }\n",
              "\n",
              "    .dataframe tbody tr th {\n",
              "        vertical-align: top;\n",
              "    }\n",
              "\n",
              "    .dataframe thead th {\n",
              "        text-align: right;\n",
              "    }\n",
              "</style>\n",
              "<table border=\"1\" class=\"dataframe\">\n",
              "  <thead>\n",
              "    <tr style=\"text-align: right;\">\n",
              "      <th></th>\n",
              "      <th>product</th>\n",
              "      <th>origen</th>\n",
              "      <th>YEAR</th>\n",
              "      <th>MONTH</th>\n",
              "      <th>price_mean</th>\n",
              "      <th>Volumen</th>\n",
              "      <th>temperatura</th>\n",
              "      <th>Precipitacion_group</th>\n",
              "      <th>Min siem-recol</th>\n",
              "      <th>Max siem-recol</th>\n",
              "      <th>Temperatura min req</th>\n",
              "      <th>Temperatura max req</th>\n",
              "      <th>Temperatura min opt</th>\n",
              "      <th>Temperatura max opt</th>\n",
              "      <th>Dias entre riego zona seca</th>\n",
              "      <th>Dias entre riego zona húmeda</th>\n",
              "      <th>distancia_mes_inicio_siem</th>\n",
              "      <th>distancia_mes_fin_siem</th>\n",
              "    </tr>\n",
              "  </thead>\n",
              "  <tbody>\n",
              "    <tr>\n",
              "      <th>0</th>\n",
              "      <td>ACELGA</td>\n",
              "      <td>Andalucia</td>\n",
              "      <td>2018</td>\n",
              "      <td>1</td>\n",
              "      <td>0.750238</td>\n",
              "      <td>46516.0</td>\n",
              "      <td>10.26</td>\n",
              "      <td>0.0</td>\n",
              "      <td>3</td>\n",
              "      <td>3</td>\n",
              "      <td>6.0</td>\n",
              "      <td>33.0</td>\n",
              "      <td>15.0</td>\n",
              "      <td>25.0</td>\n",
              "      <td>4</td>\n",
              "      <td>10</td>\n",
              "      <td>-8.0</td>\n",
              "      <td>-10.0</td>\n",
              "    </tr>\n",
              "    <tr>\n",
              "      <th>1</th>\n",
              "      <td>ACELGA</td>\n",
              "      <td>Andalucia</td>\n",
              "      <td>2018</td>\n",
              "      <td>1</td>\n",
              "      <td>0.750238</td>\n",
              "      <td>46516.0</td>\n",
              "      <td>10.26</td>\n",
              "      <td>0.0</td>\n",
              "      <td>3</td>\n",
              "      <td>3</td>\n",
              "      <td>6.0</td>\n",
              "      <td>33.0</td>\n",
              "      <td>15.0</td>\n",
              "      <td>25.0</td>\n",
              "      <td>4</td>\n",
              "      <td>10</td>\n",
              "      <td>-2.0</td>\n",
              "      <td>-4.0</td>\n",
              "    </tr>\n",
              "    <tr>\n",
              "      <th>2</th>\n",
              "      <td>ACELGA</td>\n",
              "      <td>Andalucia</td>\n",
              "      <td>2018</td>\n",
              "      <td>2</td>\n",
              "      <td>0.734375</td>\n",
              "      <td>37237.0</td>\n",
              "      <td>9.68</td>\n",
              "      <td>0.0</td>\n",
              "      <td>3</td>\n",
              "      <td>3</td>\n",
              "      <td>6.0</td>\n",
              "      <td>33.0</td>\n",
              "      <td>15.0</td>\n",
              "      <td>25.0</td>\n",
              "      <td>4</td>\n",
              "      <td>10</td>\n",
              "      <td>-7.0</td>\n",
              "      <td>-9.0</td>\n",
              "    </tr>\n",
              "    <tr>\n",
              "      <th>3</th>\n",
              "      <td>ACELGA</td>\n",
              "      <td>Andalucia</td>\n",
              "      <td>2018</td>\n",
              "      <td>2</td>\n",
              "      <td>0.734375</td>\n",
              "      <td>37237.0</td>\n",
              "      <td>9.68</td>\n",
              "      <td>0.0</td>\n",
              "      <td>3</td>\n",
              "      <td>3</td>\n",
              "      <td>6.0</td>\n",
              "      <td>33.0</td>\n",
              "      <td>15.0</td>\n",
              "      <td>25.0</td>\n",
              "      <td>4</td>\n",
              "      <td>10</td>\n",
              "      <td>-1.0</td>\n",
              "      <td>-3.0</td>\n",
              "    </tr>\n",
              "    <tr>\n",
              "      <th>4</th>\n",
              "      <td>ACELGA</td>\n",
              "      <td>Andalucia</td>\n",
              "      <td>2018</td>\n",
              "      <td>3</td>\n",
              "      <td>0.672059</td>\n",
              "      <td>78318.0</td>\n",
              "      <td>11.90</td>\n",
              "      <td>2.0</td>\n",
              "      <td>3</td>\n",
              "      <td>3</td>\n",
              "      <td>6.0</td>\n",
              "      <td>33.0</td>\n",
              "      <td>15.0</td>\n",
              "      <td>25.0</td>\n",
              "      <td>4</td>\n",
              "      <td>10</td>\n",
              "      <td>-6.0</td>\n",
              "      <td>-8.0</td>\n",
              "    </tr>\n",
              "  </tbody>\n",
              "</table>\n",
              "</div>\n",
              "      <button class=\"colab-df-convert\" onclick=\"convertToInteractive('df-1fdaed27-e37a-48a4-85f9-deab7afd9e72')\"\n",
              "              title=\"Convert this dataframe to an interactive table.\"\n",
              "              style=\"display:none;\">\n",
              "        \n",
              "  <svg xmlns=\"http://www.w3.org/2000/svg\" height=\"24px\"viewBox=\"0 0 24 24\"\n",
              "       width=\"24px\">\n",
              "    <path d=\"M0 0h24v24H0V0z\" fill=\"none\"/>\n",
              "    <path d=\"M18.56 5.44l.94 2.06.94-2.06 2.06-.94-2.06-.94-.94-2.06-.94 2.06-2.06.94zm-11 1L8.5 8.5l.94-2.06 2.06-.94-2.06-.94L8.5 2.5l-.94 2.06-2.06.94zm10 10l.94 2.06.94-2.06 2.06-.94-2.06-.94-.94-2.06-.94 2.06-2.06.94z\"/><path d=\"M17.41 7.96l-1.37-1.37c-.4-.4-.92-.59-1.43-.59-.52 0-1.04.2-1.43.59L10.3 9.45l-7.72 7.72c-.78.78-.78 2.05 0 2.83L4 21.41c.39.39.9.59 1.41.59.51 0 1.02-.2 1.41-.59l7.78-7.78 2.81-2.81c.8-.78.8-2.07 0-2.86zM5.41 20L4 18.59l7.72-7.72 1.47 1.35L5.41 20z\"/>\n",
              "  </svg>\n",
              "      </button>\n",
              "      \n",
              "  <style>\n",
              "    .colab-df-container {\n",
              "      display:flex;\n",
              "      flex-wrap:wrap;\n",
              "      gap: 12px;\n",
              "    }\n",
              "\n",
              "    .colab-df-convert {\n",
              "      background-color: #E8F0FE;\n",
              "      border: none;\n",
              "      border-radius: 50%;\n",
              "      cursor: pointer;\n",
              "      display: none;\n",
              "      fill: #1967D2;\n",
              "      height: 32px;\n",
              "      padding: 0 0 0 0;\n",
              "      width: 32px;\n",
              "    }\n",
              "\n",
              "    .colab-df-convert:hover {\n",
              "      background-color: #E2EBFA;\n",
              "      box-shadow: 0px 1px 2px rgba(60, 64, 67, 0.3), 0px 1px 3px 1px rgba(60, 64, 67, 0.15);\n",
              "      fill: #174EA6;\n",
              "    }\n",
              "\n",
              "    [theme=dark] .colab-df-convert {\n",
              "      background-color: #3B4455;\n",
              "      fill: #D2E3FC;\n",
              "    }\n",
              "\n",
              "    [theme=dark] .colab-df-convert:hover {\n",
              "      background-color: #434B5C;\n",
              "      box-shadow: 0px 1px 3px 1px rgba(0, 0, 0, 0.15);\n",
              "      filter: drop-shadow(0px 1px 2px rgba(0, 0, 0, 0.3));\n",
              "      fill: #FFFFFF;\n",
              "    }\n",
              "  </style>\n",
              "\n",
              "      <script>\n",
              "        const buttonEl =\n",
              "          document.querySelector('#df-1fdaed27-e37a-48a4-85f9-deab7afd9e72 button.colab-df-convert');\n",
              "        buttonEl.style.display =\n",
              "          google.colab.kernel.accessAllowed ? 'block' : 'none';\n",
              "\n",
              "        async function convertToInteractive(key) {\n",
              "          const element = document.querySelector('#df-1fdaed27-e37a-48a4-85f9-deab7afd9e72');\n",
              "          const dataTable =\n",
              "            await google.colab.kernel.invokeFunction('convertToInteractive',\n",
              "                                                     [key], {});\n",
              "          if (!dataTable) return;\n",
              "\n",
              "          const docLinkHtml = 'Like what you see? Visit the ' +\n",
              "            '<a target=\"_blank\" href=https://colab.research.google.com/notebooks/data_table.ipynb>data table notebook</a>'\n",
              "            + ' to learn more about interactive tables.';\n",
              "          element.innerHTML = '';\n",
              "          dataTable['output_type'] = 'display_data';\n",
              "          await google.colab.output.renderOutput(dataTable, element);\n",
              "          const docLink = document.createElement('div');\n",
              "          docLink.innerHTML = docLinkHtml;\n",
              "          element.appendChild(docLink);\n",
              "        }\n",
              "      </script>\n",
              "    </div>\n",
              "  </div>\n",
              "  "
            ],
            "text/plain": [
              "  product     origen  ...  distancia_mes_inicio_siem  distancia_mes_fin_siem\n",
              "0  ACELGA  Andalucia  ...                       -8.0                   -10.0\n",
              "1  ACELGA  Andalucia  ...                       -2.0                    -4.0\n",
              "2  ACELGA  Andalucia  ...                       -7.0                    -9.0\n",
              "3  ACELGA  Andalucia  ...                       -1.0                    -3.0\n",
              "4  ACELGA  Andalucia  ...                       -6.0                    -8.0\n",
              "\n",
              "[5 rows x 18 columns]"
            ]
          },
          "metadata": {},
          "execution_count": 3
        }
      ]
    },
    {
      "cell_type": "markdown",
      "source": [
        "## 2. Transformación"
      ],
      "metadata": {
        "id": "2iTn4Wx2LEmd"
      }
    },
    {
      "cell_type": "markdown",
      "source": [
        "Se añaden varias columnas con los valores relacionados al **precio, volumen y mes** en el cual se llevaría a cabo la recolección del cultivo. En el caso de que hubiera varias posibilidades, permanecería solo el cultivo cuyo precio sea más elevado. Esta operación puede resultar en nulos para algunos casos donde el cultivo no está en su periodo de siembra. Además, otros valores que no son de interés son aquellos que representan el **producto inexistente**, como es el caso de los registros con *Volumen = 0*. Para mantener una tarjeta de datos lo más limpia posible y sin ruido, se han **eliminado esos registros**."
      ],
      "metadata": {
        "id": "yc1eK2LiTkau"
      }
    },
    {
      "cell_type": "code",
      "source": [
        "for index1 in agroanalisis.index:\n",
        "  if agroanalisis.at[index1, 'distancia_mes_inicio_siem'] >= 0 and agroanalisis.at[index1,'distancia_mes_fin_siem'] <= 0:\n",
        "    interval = range(agroanalisis.at[index1,'Min siem-recol'],agroanalisis.at[index1,'Max siem-recol']+1)\n",
        "    prices = []\n",
        "    for year, month in map(lambda delta: (agroanalisis.at[index1,'YEAR'] if agroanalisis.at[index1,'MONTH']+delta <=12 else agroanalisis.at[index1,'YEAR']+1, (agroanalisis.at[index1,'MONTH']+delta) % 12), interval):\n",
        "      result = agroanalisis[(agroanalisis['product'] == agroanalisis.at[index1,'product']) & \\\n",
        "                   (agroanalisis['origen'] == agroanalisis.at[index1,'origen']) & \\\n",
        "                   (agroanalisis['YEAR'] == year) & (agroanalisis['MONTH'] == month)]\n",
        "      for index2 in result.index:\n",
        "          prices.append((result.at[index2,'price_mean'], result.at[index2,'Volumen'], result.at[index2,'MONTH'] ))\n",
        "    if prices:\n",
        "      agroanalisis.at[index1, 'price_max_recolec'], agroanalisis.at[index1, 'Volumen_max_recolec'], agroanalisis.at[index1, 'MONTH_max_recolec'] = max(prices)"
      ],
      "metadata": {
        "id": "RCExAKOqKjJH"
      },
      "execution_count": 4,
      "outputs": []
    },
    {
      "cell_type": "code",
      "source": [
        "agroanalisis.head()"
      ],
      "metadata": {
        "colab": {
          "base_uri": "https://localhost:8080/",
          "height": 340
        },
        "id": "wsn9eJlCBR7m",
        "outputId": "c762d831-d924-40ba-c573-76d6e5bcbfb0"
      },
      "execution_count": 5,
      "outputs": [
        {
          "output_type": "execute_result",
          "data": {
            "text/html": [
              "\n",
              "  <div id=\"df-b60020f9-3c56-4c93-81cb-515c2a3049b3\">\n",
              "    <div class=\"colab-df-container\">\n",
              "      <div>\n",
              "<style scoped>\n",
              "    .dataframe tbody tr th:only-of-type {\n",
              "        vertical-align: middle;\n",
              "    }\n",
              "\n",
              "    .dataframe tbody tr th {\n",
              "        vertical-align: top;\n",
              "    }\n",
              "\n",
              "    .dataframe thead th {\n",
              "        text-align: right;\n",
              "    }\n",
              "</style>\n",
              "<table border=\"1\" class=\"dataframe\">\n",
              "  <thead>\n",
              "    <tr style=\"text-align: right;\">\n",
              "      <th></th>\n",
              "      <th>product</th>\n",
              "      <th>origen</th>\n",
              "      <th>YEAR</th>\n",
              "      <th>MONTH</th>\n",
              "      <th>price_mean</th>\n",
              "      <th>Volumen</th>\n",
              "      <th>temperatura</th>\n",
              "      <th>Precipitacion_group</th>\n",
              "      <th>Min siem-recol</th>\n",
              "      <th>Max siem-recol</th>\n",
              "      <th>Temperatura min req</th>\n",
              "      <th>Temperatura max req</th>\n",
              "      <th>Temperatura min opt</th>\n",
              "      <th>Temperatura max opt</th>\n",
              "      <th>Dias entre riego zona seca</th>\n",
              "      <th>Dias entre riego zona húmeda</th>\n",
              "      <th>distancia_mes_inicio_siem</th>\n",
              "      <th>distancia_mes_fin_siem</th>\n",
              "      <th>price_max_recolec</th>\n",
              "      <th>Volumen_max_recolec</th>\n",
              "      <th>MONTH_max_recolec</th>\n",
              "    </tr>\n",
              "  </thead>\n",
              "  <tbody>\n",
              "    <tr>\n",
              "      <th>0</th>\n",
              "      <td>ACELGA</td>\n",
              "      <td>Andalucia</td>\n",
              "      <td>2018</td>\n",
              "      <td>1</td>\n",
              "      <td>0.750238</td>\n",
              "      <td>46516.0</td>\n",
              "      <td>10.26</td>\n",
              "      <td>0.0</td>\n",
              "      <td>3</td>\n",
              "      <td>3</td>\n",
              "      <td>6.0</td>\n",
              "      <td>33.0</td>\n",
              "      <td>15.0</td>\n",
              "      <td>25.0</td>\n",
              "      <td>4</td>\n",
              "      <td>10</td>\n",
              "      <td>-8.0</td>\n",
              "      <td>-10.0</td>\n",
              "      <td>NaN</td>\n",
              "      <td>NaN</td>\n",
              "      <td>NaN</td>\n",
              "    </tr>\n",
              "    <tr>\n",
              "      <th>1</th>\n",
              "      <td>ACELGA</td>\n",
              "      <td>Andalucia</td>\n",
              "      <td>2018</td>\n",
              "      <td>1</td>\n",
              "      <td>0.750238</td>\n",
              "      <td>46516.0</td>\n",
              "      <td>10.26</td>\n",
              "      <td>0.0</td>\n",
              "      <td>3</td>\n",
              "      <td>3</td>\n",
              "      <td>6.0</td>\n",
              "      <td>33.0</td>\n",
              "      <td>15.0</td>\n",
              "      <td>25.0</td>\n",
              "      <td>4</td>\n",
              "      <td>10</td>\n",
              "      <td>-2.0</td>\n",
              "      <td>-4.0</td>\n",
              "      <td>NaN</td>\n",
              "      <td>NaN</td>\n",
              "      <td>NaN</td>\n",
              "    </tr>\n",
              "    <tr>\n",
              "      <th>2</th>\n",
              "      <td>ACELGA</td>\n",
              "      <td>Andalucia</td>\n",
              "      <td>2018</td>\n",
              "      <td>2</td>\n",
              "      <td>0.734375</td>\n",
              "      <td>37237.0</td>\n",
              "      <td>9.68</td>\n",
              "      <td>0.0</td>\n",
              "      <td>3</td>\n",
              "      <td>3</td>\n",
              "      <td>6.0</td>\n",
              "      <td>33.0</td>\n",
              "      <td>15.0</td>\n",
              "      <td>25.0</td>\n",
              "      <td>4</td>\n",
              "      <td>10</td>\n",
              "      <td>-7.0</td>\n",
              "      <td>-9.0</td>\n",
              "      <td>NaN</td>\n",
              "      <td>NaN</td>\n",
              "      <td>NaN</td>\n",
              "    </tr>\n",
              "    <tr>\n",
              "      <th>3</th>\n",
              "      <td>ACELGA</td>\n",
              "      <td>Andalucia</td>\n",
              "      <td>2018</td>\n",
              "      <td>2</td>\n",
              "      <td>0.734375</td>\n",
              "      <td>37237.0</td>\n",
              "      <td>9.68</td>\n",
              "      <td>0.0</td>\n",
              "      <td>3</td>\n",
              "      <td>3</td>\n",
              "      <td>6.0</td>\n",
              "      <td>33.0</td>\n",
              "      <td>15.0</td>\n",
              "      <td>25.0</td>\n",
              "      <td>4</td>\n",
              "      <td>10</td>\n",
              "      <td>-1.0</td>\n",
              "      <td>-3.0</td>\n",
              "      <td>NaN</td>\n",
              "      <td>NaN</td>\n",
              "      <td>NaN</td>\n",
              "    </tr>\n",
              "    <tr>\n",
              "      <th>4</th>\n",
              "      <td>ACELGA</td>\n",
              "      <td>Andalucia</td>\n",
              "      <td>2018</td>\n",
              "      <td>3</td>\n",
              "      <td>0.672059</td>\n",
              "      <td>78318.0</td>\n",
              "      <td>11.90</td>\n",
              "      <td>2.0</td>\n",
              "      <td>3</td>\n",
              "      <td>3</td>\n",
              "      <td>6.0</td>\n",
              "      <td>33.0</td>\n",
              "      <td>15.0</td>\n",
              "      <td>25.0</td>\n",
              "      <td>4</td>\n",
              "      <td>10</td>\n",
              "      <td>-6.0</td>\n",
              "      <td>-8.0</td>\n",
              "      <td>NaN</td>\n",
              "      <td>NaN</td>\n",
              "      <td>NaN</td>\n",
              "    </tr>\n",
              "  </tbody>\n",
              "</table>\n",
              "</div>\n",
              "      <button class=\"colab-df-convert\" onclick=\"convertToInteractive('df-b60020f9-3c56-4c93-81cb-515c2a3049b3')\"\n",
              "              title=\"Convert this dataframe to an interactive table.\"\n",
              "              style=\"display:none;\">\n",
              "        \n",
              "  <svg xmlns=\"http://www.w3.org/2000/svg\" height=\"24px\"viewBox=\"0 0 24 24\"\n",
              "       width=\"24px\">\n",
              "    <path d=\"M0 0h24v24H0V0z\" fill=\"none\"/>\n",
              "    <path d=\"M18.56 5.44l.94 2.06.94-2.06 2.06-.94-2.06-.94-.94-2.06-.94 2.06-2.06.94zm-11 1L8.5 8.5l.94-2.06 2.06-.94-2.06-.94L8.5 2.5l-.94 2.06-2.06.94zm10 10l.94 2.06.94-2.06 2.06-.94-2.06-.94-.94-2.06-.94 2.06-2.06.94z\"/><path d=\"M17.41 7.96l-1.37-1.37c-.4-.4-.92-.59-1.43-.59-.52 0-1.04.2-1.43.59L10.3 9.45l-7.72 7.72c-.78.78-.78 2.05 0 2.83L4 21.41c.39.39.9.59 1.41.59.51 0 1.02-.2 1.41-.59l7.78-7.78 2.81-2.81c.8-.78.8-2.07 0-2.86zM5.41 20L4 18.59l7.72-7.72 1.47 1.35L5.41 20z\"/>\n",
              "  </svg>\n",
              "      </button>\n",
              "      \n",
              "  <style>\n",
              "    .colab-df-container {\n",
              "      display:flex;\n",
              "      flex-wrap:wrap;\n",
              "      gap: 12px;\n",
              "    }\n",
              "\n",
              "    .colab-df-convert {\n",
              "      background-color: #E8F0FE;\n",
              "      border: none;\n",
              "      border-radius: 50%;\n",
              "      cursor: pointer;\n",
              "      display: none;\n",
              "      fill: #1967D2;\n",
              "      height: 32px;\n",
              "      padding: 0 0 0 0;\n",
              "      width: 32px;\n",
              "    }\n",
              "\n",
              "    .colab-df-convert:hover {\n",
              "      background-color: #E2EBFA;\n",
              "      box-shadow: 0px 1px 2px rgba(60, 64, 67, 0.3), 0px 1px 3px 1px rgba(60, 64, 67, 0.15);\n",
              "      fill: #174EA6;\n",
              "    }\n",
              "\n",
              "    [theme=dark] .colab-df-convert {\n",
              "      background-color: #3B4455;\n",
              "      fill: #D2E3FC;\n",
              "    }\n",
              "\n",
              "    [theme=dark] .colab-df-convert:hover {\n",
              "      background-color: #434B5C;\n",
              "      box-shadow: 0px 1px 3px 1px rgba(0, 0, 0, 0.15);\n",
              "      filter: drop-shadow(0px 1px 2px rgba(0, 0, 0, 0.3));\n",
              "      fill: #FFFFFF;\n",
              "    }\n",
              "  </style>\n",
              "\n",
              "      <script>\n",
              "        const buttonEl =\n",
              "          document.querySelector('#df-b60020f9-3c56-4c93-81cb-515c2a3049b3 button.colab-df-convert');\n",
              "        buttonEl.style.display =\n",
              "          google.colab.kernel.accessAllowed ? 'block' : 'none';\n",
              "\n",
              "        async function convertToInteractive(key) {\n",
              "          const element = document.querySelector('#df-b60020f9-3c56-4c93-81cb-515c2a3049b3');\n",
              "          const dataTable =\n",
              "            await google.colab.kernel.invokeFunction('convertToInteractive',\n",
              "                                                     [key], {});\n",
              "          if (!dataTable) return;\n",
              "\n",
              "          const docLinkHtml = 'Like what you see? Visit the ' +\n",
              "            '<a target=\"_blank\" href=https://colab.research.google.com/notebooks/data_table.ipynb>data table notebook</a>'\n",
              "            + ' to learn more about interactive tables.';\n",
              "          element.innerHTML = '';\n",
              "          dataTable['output_type'] = 'display_data';\n",
              "          await google.colab.output.renderOutput(dataTable, element);\n",
              "          const docLink = document.createElement('div');\n",
              "          docLink.innerHTML = docLinkHtml;\n",
              "          element.appendChild(docLink);\n",
              "        }\n",
              "      </script>\n",
              "    </div>\n",
              "  </div>\n",
              "  "
            ],
            "text/plain": [
              "  product     origen  ...  Volumen_max_recolec  MONTH_max_recolec\n",
              "0  ACELGA  Andalucia  ...                  NaN                NaN\n",
              "1  ACELGA  Andalucia  ...                  NaN                NaN\n",
              "2  ACELGA  Andalucia  ...                  NaN                NaN\n",
              "3  ACELGA  Andalucia  ...                  NaN                NaN\n",
              "4  ACELGA  Andalucia  ...                  NaN                NaN\n",
              "\n",
              "[5 rows x 21 columns]"
            ]
          },
          "metadata": {},
          "execution_count": 5
        }
      ]
    },
    {
      "cell_type": "code",
      "source": [
        "agroanalisis.dropna(inplace=True)"
      ],
      "metadata": {
        "id": "THno3alyIs_L"
      },
      "execution_count": 6,
      "outputs": []
    },
    {
      "cell_type": "markdown",
      "source": [
        "Se comprueba si algún registro se repite para un producto, lugar y fecha, ya que podría haber **periodos solapados**."
      ],
      "metadata": {
        "id": "sSvsm10UT07E"
      }
    },
    {
      "cell_type": "code",
      "source": [
        "agroanalisis.shape"
      ],
      "metadata": {
        "colab": {
          "base_uri": "https://localhost:8080/"
        },
        "id": "NYCLlg_MJltq",
        "outputId": "eee12bf0-df66-4bd0-847d-966936febcec"
      },
      "execution_count": 7,
      "outputs": [
        {
          "output_type": "execute_result",
          "data": {
            "text/plain": [
              "(3822, 21)"
            ]
          },
          "metadata": {},
          "execution_count": 7
        }
      ]
    },
    {
      "cell_type": "code",
      "source": [
        "agroanalisis.groupby(['product', 'origen','YEAR', 'MONTH'], as_index=False).count()"
      ],
      "metadata": {
        "colab": {
          "base_uri": "https://localhost:8080/",
          "height": 557
        },
        "id": "5Tmt7kZTM138",
        "outputId": "7916a8e9-bd64-43de-fd86-e249f306671a"
      },
      "execution_count": 8,
      "outputs": [
        {
          "output_type": "execute_result",
          "data": {
            "text/html": [
              "\n",
              "  <div id=\"df-d2da8793-3cb9-4754-aec2-8a9b95cad998\">\n",
              "    <div class=\"colab-df-container\">\n",
              "      <div>\n",
              "<style scoped>\n",
              "    .dataframe tbody tr th:only-of-type {\n",
              "        vertical-align: middle;\n",
              "    }\n",
              "\n",
              "    .dataframe tbody tr th {\n",
              "        vertical-align: top;\n",
              "    }\n",
              "\n",
              "    .dataframe thead th {\n",
              "        text-align: right;\n",
              "    }\n",
              "</style>\n",
              "<table border=\"1\" class=\"dataframe\">\n",
              "  <thead>\n",
              "    <tr style=\"text-align: right;\">\n",
              "      <th></th>\n",
              "      <th>product</th>\n",
              "      <th>origen</th>\n",
              "      <th>YEAR</th>\n",
              "      <th>MONTH</th>\n",
              "      <th>price_mean</th>\n",
              "      <th>Volumen</th>\n",
              "      <th>temperatura</th>\n",
              "      <th>Precipitacion_group</th>\n",
              "      <th>Min siem-recol</th>\n",
              "      <th>Max siem-recol</th>\n",
              "      <th>Temperatura min req</th>\n",
              "      <th>Temperatura max req</th>\n",
              "      <th>Temperatura min opt</th>\n",
              "      <th>Temperatura max opt</th>\n",
              "      <th>Dias entre riego zona seca</th>\n",
              "      <th>Dias entre riego zona húmeda</th>\n",
              "      <th>distancia_mes_inicio_siem</th>\n",
              "      <th>distancia_mes_fin_siem</th>\n",
              "      <th>price_max_recolec</th>\n",
              "      <th>Volumen_max_recolec</th>\n",
              "      <th>MONTH_max_recolec</th>\n",
              "    </tr>\n",
              "  </thead>\n",
              "  <tbody>\n",
              "    <tr>\n",
              "      <th>0</th>\n",
              "      <td>ACELGA</td>\n",
              "      <td>Andalucia</td>\n",
              "      <td>2018</td>\n",
              "      <td>3</td>\n",
              "      <td>1</td>\n",
              "      <td>1</td>\n",
              "      <td>1</td>\n",
              "      <td>1</td>\n",
              "      <td>1</td>\n",
              "      <td>1</td>\n",
              "      <td>1</td>\n",
              "      <td>1</td>\n",
              "      <td>1</td>\n",
              "      <td>1</td>\n",
              "      <td>1</td>\n",
              "      <td>1</td>\n",
              "      <td>1</td>\n",
              "      <td>1</td>\n",
              "      <td>1</td>\n",
              "      <td>1</td>\n",
              "      <td>1</td>\n",
              "    </tr>\n",
              "    <tr>\n",
              "      <th>1</th>\n",
              "      <td>ACELGA</td>\n",
              "      <td>Andalucia</td>\n",
              "      <td>2018</td>\n",
              "      <td>4</td>\n",
              "      <td>1</td>\n",
              "      <td>1</td>\n",
              "      <td>1</td>\n",
              "      <td>1</td>\n",
              "      <td>1</td>\n",
              "      <td>1</td>\n",
              "      <td>1</td>\n",
              "      <td>1</td>\n",
              "      <td>1</td>\n",
              "      <td>1</td>\n",
              "      <td>1</td>\n",
              "      <td>1</td>\n",
              "      <td>1</td>\n",
              "      <td>1</td>\n",
              "      <td>1</td>\n",
              "      <td>1</td>\n",
              "      <td>1</td>\n",
              "    </tr>\n",
              "    <tr>\n",
              "      <th>2</th>\n",
              "      <td>ACELGA</td>\n",
              "      <td>Andalucia</td>\n",
              "      <td>2018</td>\n",
              "      <td>5</td>\n",
              "      <td>1</td>\n",
              "      <td>1</td>\n",
              "      <td>1</td>\n",
              "      <td>1</td>\n",
              "      <td>1</td>\n",
              "      <td>1</td>\n",
              "      <td>1</td>\n",
              "      <td>1</td>\n",
              "      <td>1</td>\n",
              "      <td>1</td>\n",
              "      <td>1</td>\n",
              "      <td>1</td>\n",
              "      <td>1</td>\n",
              "      <td>1</td>\n",
              "      <td>1</td>\n",
              "      <td>1</td>\n",
              "      <td>1</td>\n",
              "    </tr>\n",
              "    <tr>\n",
              "      <th>3</th>\n",
              "      <td>ACELGA</td>\n",
              "      <td>Andalucia</td>\n",
              "      <td>2018</td>\n",
              "      <td>10</td>\n",
              "      <td>1</td>\n",
              "      <td>1</td>\n",
              "      <td>1</td>\n",
              "      <td>1</td>\n",
              "      <td>1</td>\n",
              "      <td>1</td>\n",
              "      <td>1</td>\n",
              "      <td>1</td>\n",
              "      <td>1</td>\n",
              "      <td>1</td>\n",
              "      <td>1</td>\n",
              "      <td>1</td>\n",
              "      <td>1</td>\n",
              "      <td>1</td>\n",
              "      <td>1</td>\n",
              "      <td>1</td>\n",
              "      <td>1</td>\n",
              "    </tr>\n",
              "    <tr>\n",
              "      <th>4</th>\n",
              "      <td>ACELGA</td>\n",
              "      <td>Andalucia</td>\n",
              "      <td>2018</td>\n",
              "      <td>11</td>\n",
              "      <td>1</td>\n",
              "      <td>1</td>\n",
              "      <td>1</td>\n",
              "      <td>1</td>\n",
              "      <td>1</td>\n",
              "      <td>1</td>\n",
              "      <td>1</td>\n",
              "      <td>1</td>\n",
              "      <td>1</td>\n",
              "      <td>1</td>\n",
              "      <td>1</td>\n",
              "      <td>1</td>\n",
              "      <td>1</td>\n",
              "      <td>1</td>\n",
              "      <td>1</td>\n",
              "      <td>1</td>\n",
              "      <td>1</td>\n",
              "    </tr>\n",
              "    <tr>\n",
              "      <th>...</th>\n",
              "      <td>...</td>\n",
              "      <td>...</td>\n",
              "      <td>...</td>\n",
              "      <td>...</td>\n",
              "      <td>...</td>\n",
              "      <td>...</td>\n",
              "      <td>...</td>\n",
              "      <td>...</td>\n",
              "      <td>...</td>\n",
              "      <td>...</td>\n",
              "      <td>...</td>\n",
              "      <td>...</td>\n",
              "      <td>...</td>\n",
              "      <td>...</td>\n",
              "      <td>...</td>\n",
              "      <td>...</td>\n",
              "      <td>...</td>\n",
              "      <td>...</td>\n",
              "      <td>...</td>\n",
              "      <td>...</td>\n",
              "      <td>...</td>\n",
              "    </tr>\n",
              "    <tr>\n",
              "      <th>3817</th>\n",
              "      <td>ZANAHORIA</td>\n",
              "      <td>Valencia</td>\n",
              "      <td>2019</td>\n",
              "      <td>11</td>\n",
              "      <td>1</td>\n",
              "      <td>1</td>\n",
              "      <td>1</td>\n",
              "      <td>1</td>\n",
              "      <td>1</td>\n",
              "      <td>1</td>\n",
              "      <td>1</td>\n",
              "      <td>1</td>\n",
              "      <td>1</td>\n",
              "      <td>1</td>\n",
              "      <td>1</td>\n",
              "      <td>1</td>\n",
              "      <td>1</td>\n",
              "      <td>1</td>\n",
              "      <td>1</td>\n",
              "      <td>1</td>\n",
              "      <td>1</td>\n",
              "    </tr>\n",
              "    <tr>\n",
              "      <th>3818</th>\n",
              "      <td>ZANAHORIA</td>\n",
              "      <td>Valencia</td>\n",
              "      <td>2020</td>\n",
              "      <td>2</td>\n",
              "      <td>1</td>\n",
              "      <td>1</td>\n",
              "      <td>1</td>\n",
              "      <td>1</td>\n",
              "      <td>1</td>\n",
              "      <td>1</td>\n",
              "      <td>1</td>\n",
              "      <td>1</td>\n",
              "      <td>1</td>\n",
              "      <td>1</td>\n",
              "      <td>1</td>\n",
              "      <td>1</td>\n",
              "      <td>1</td>\n",
              "      <td>1</td>\n",
              "      <td>1</td>\n",
              "      <td>1</td>\n",
              "      <td>1</td>\n",
              "    </tr>\n",
              "    <tr>\n",
              "      <th>3819</th>\n",
              "      <td>ZANAHORIA</td>\n",
              "      <td>Valencia</td>\n",
              "      <td>2020</td>\n",
              "      <td>3</td>\n",
              "      <td>1</td>\n",
              "      <td>1</td>\n",
              "      <td>1</td>\n",
              "      <td>1</td>\n",
              "      <td>1</td>\n",
              "      <td>1</td>\n",
              "      <td>1</td>\n",
              "      <td>1</td>\n",
              "      <td>1</td>\n",
              "      <td>1</td>\n",
              "      <td>1</td>\n",
              "      <td>1</td>\n",
              "      <td>1</td>\n",
              "      <td>1</td>\n",
              "      <td>1</td>\n",
              "      <td>1</td>\n",
              "      <td>1</td>\n",
              "    </tr>\n",
              "    <tr>\n",
              "      <th>3820</th>\n",
              "      <td>ZANAHORIA</td>\n",
              "      <td>Valencia</td>\n",
              "      <td>2020</td>\n",
              "      <td>4</td>\n",
              "      <td>1</td>\n",
              "      <td>1</td>\n",
              "      <td>1</td>\n",
              "      <td>1</td>\n",
              "      <td>1</td>\n",
              "      <td>1</td>\n",
              "      <td>1</td>\n",
              "      <td>1</td>\n",
              "      <td>1</td>\n",
              "      <td>1</td>\n",
              "      <td>1</td>\n",
              "      <td>1</td>\n",
              "      <td>1</td>\n",
              "      <td>1</td>\n",
              "      <td>1</td>\n",
              "      <td>1</td>\n",
              "      <td>1</td>\n",
              "    </tr>\n",
              "    <tr>\n",
              "      <th>3821</th>\n",
              "      <td>ZANAHORIA</td>\n",
              "      <td>Valencia</td>\n",
              "      <td>2020</td>\n",
              "      <td>5</td>\n",
              "      <td>1</td>\n",
              "      <td>1</td>\n",
              "      <td>1</td>\n",
              "      <td>1</td>\n",
              "      <td>1</td>\n",
              "      <td>1</td>\n",
              "      <td>1</td>\n",
              "      <td>1</td>\n",
              "      <td>1</td>\n",
              "      <td>1</td>\n",
              "      <td>1</td>\n",
              "      <td>1</td>\n",
              "      <td>1</td>\n",
              "      <td>1</td>\n",
              "      <td>1</td>\n",
              "      <td>1</td>\n",
              "      <td>1</td>\n",
              "    </tr>\n",
              "  </tbody>\n",
              "</table>\n",
              "<p>3822 rows × 21 columns</p>\n",
              "</div>\n",
              "      <button class=\"colab-df-convert\" onclick=\"convertToInteractive('df-d2da8793-3cb9-4754-aec2-8a9b95cad998')\"\n",
              "              title=\"Convert this dataframe to an interactive table.\"\n",
              "              style=\"display:none;\">\n",
              "        \n",
              "  <svg xmlns=\"http://www.w3.org/2000/svg\" height=\"24px\"viewBox=\"0 0 24 24\"\n",
              "       width=\"24px\">\n",
              "    <path d=\"M0 0h24v24H0V0z\" fill=\"none\"/>\n",
              "    <path d=\"M18.56 5.44l.94 2.06.94-2.06 2.06-.94-2.06-.94-.94-2.06-.94 2.06-2.06.94zm-11 1L8.5 8.5l.94-2.06 2.06-.94-2.06-.94L8.5 2.5l-.94 2.06-2.06.94zm10 10l.94 2.06.94-2.06 2.06-.94-2.06-.94-.94-2.06-.94 2.06-2.06.94z\"/><path d=\"M17.41 7.96l-1.37-1.37c-.4-.4-.92-.59-1.43-.59-.52 0-1.04.2-1.43.59L10.3 9.45l-7.72 7.72c-.78.78-.78 2.05 0 2.83L4 21.41c.39.39.9.59 1.41.59.51 0 1.02-.2 1.41-.59l7.78-7.78 2.81-2.81c.8-.78.8-2.07 0-2.86zM5.41 20L4 18.59l7.72-7.72 1.47 1.35L5.41 20z\"/>\n",
              "  </svg>\n",
              "      </button>\n",
              "      \n",
              "  <style>\n",
              "    .colab-df-container {\n",
              "      display:flex;\n",
              "      flex-wrap:wrap;\n",
              "      gap: 12px;\n",
              "    }\n",
              "\n",
              "    .colab-df-convert {\n",
              "      background-color: #E8F0FE;\n",
              "      border: none;\n",
              "      border-radius: 50%;\n",
              "      cursor: pointer;\n",
              "      display: none;\n",
              "      fill: #1967D2;\n",
              "      height: 32px;\n",
              "      padding: 0 0 0 0;\n",
              "      width: 32px;\n",
              "    }\n",
              "\n",
              "    .colab-df-convert:hover {\n",
              "      background-color: #E2EBFA;\n",
              "      box-shadow: 0px 1px 2px rgba(60, 64, 67, 0.3), 0px 1px 3px 1px rgba(60, 64, 67, 0.15);\n",
              "      fill: #174EA6;\n",
              "    }\n",
              "\n",
              "    [theme=dark] .colab-df-convert {\n",
              "      background-color: #3B4455;\n",
              "      fill: #D2E3FC;\n",
              "    }\n",
              "\n",
              "    [theme=dark] .colab-df-convert:hover {\n",
              "      background-color: #434B5C;\n",
              "      box-shadow: 0px 1px 3px 1px rgba(0, 0, 0, 0.15);\n",
              "      filter: drop-shadow(0px 1px 2px rgba(0, 0, 0, 0.3));\n",
              "      fill: #FFFFFF;\n",
              "    }\n",
              "  </style>\n",
              "\n",
              "      <script>\n",
              "        const buttonEl =\n",
              "          document.querySelector('#df-d2da8793-3cb9-4754-aec2-8a9b95cad998 button.colab-df-convert');\n",
              "        buttonEl.style.display =\n",
              "          google.colab.kernel.accessAllowed ? 'block' : 'none';\n",
              "\n",
              "        async function convertToInteractive(key) {\n",
              "          const element = document.querySelector('#df-d2da8793-3cb9-4754-aec2-8a9b95cad998');\n",
              "          const dataTable =\n",
              "            await google.colab.kernel.invokeFunction('convertToInteractive',\n",
              "                                                     [key], {});\n",
              "          if (!dataTable) return;\n",
              "\n",
              "          const docLinkHtml = 'Like what you see? Visit the ' +\n",
              "            '<a target=\"_blank\" href=https://colab.research.google.com/notebooks/data_table.ipynb>data table notebook</a>'\n",
              "            + ' to learn more about interactive tables.';\n",
              "          element.innerHTML = '';\n",
              "          dataTable['output_type'] = 'display_data';\n",
              "          await google.colab.output.renderOutput(dataTable, element);\n",
              "          const docLink = document.createElement('div');\n",
              "          docLink.innerHTML = docLinkHtml;\n",
              "          element.appendChild(docLink);\n",
              "        }\n",
              "      </script>\n",
              "    </div>\n",
              "  </div>\n",
              "  "
            ],
            "text/plain": [
              "        product     origen  ...  Volumen_max_recolec  MONTH_max_recolec\n",
              "0        ACELGA  Andalucia  ...                    1                  1\n",
              "1        ACELGA  Andalucia  ...                    1                  1\n",
              "2        ACELGA  Andalucia  ...                    1                  1\n",
              "3        ACELGA  Andalucia  ...                    1                  1\n",
              "4        ACELGA  Andalucia  ...                    1                  1\n",
              "...         ...        ...  ...                  ...                ...\n",
              "3817  ZANAHORIA   Valencia  ...                    1                  1\n",
              "3818  ZANAHORIA   Valencia  ...                    1                  1\n",
              "3819  ZANAHORIA   Valencia  ...                    1                  1\n",
              "3820  ZANAHORIA   Valencia  ...                    1                  1\n",
              "3821  ZANAHORIA   Valencia  ...                    1                  1\n",
              "\n",
              "[3822 rows x 21 columns]"
            ]
          },
          "metadata": {},
          "execution_count": 8
        }
      ]
    },
    {
      "cell_type": "markdown",
      "source": [
        "Como tras hacer la agrupación el número de filas es el mismo, podemos concluir que no hay solapamientos."
      ],
      "metadata": {
        "id": "UrclwwCoJ0mZ"
      }
    },
    {
      "cell_type": "markdown",
      "source": [
        "Para **relacionar la humedad de una zona con la necesidad de riego de cada cultivo** se ha llevado a cabo una **discretización manual**, por la cual se comprueban los valores que pueden tomar todos los cultivos y se agrupan en 3 grupos, de los cuales el 0 corresponde al grupo que menos necesidad hídrica tiene y el 2 al que más necesidad hídrica tiene."
      ],
      "metadata": {
        "id": "rbjLulGbUAQV"
      }
    },
    {
      "cell_type": "code",
      "source": [
        "agroanalisis['Dias entre riego zona seca'].hist(bins=15)"
      ],
      "metadata": {
        "colab": {
          "base_uri": "https://localhost:8080/",
          "height": 282
        },
        "id": "j9plSSXjX709",
        "outputId": "61c791bf-5146-4c01-b53f-911f82634545"
      },
      "execution_count": 9,
      "outputs": [
        {
          "output_type": "execute_result",
          "data": {
            "text/plain": [
              "<matplotlib.axes._subplots.AxesSubplot at 0x7fd6e641a2d0>"
            ]
          },
          "metadata": {},
          "execution_count": 9
        },
        {
          "output_type": "display_data",
          "data": {
            "image/png": "[encoded data removed]",
            "text/plain": [
              "<Figure size 432x288 with 1 Axes>"
            ]
          },
          "metadata": {
            "needs_background": "light"
          }
        }
      ]
    },
    {
      "cell_type": "code",
      "source": [
        "agroanalisis['Dias entre riego zona húmeda'].hist()"
      ],
      "metadata": {
        "colab": {
          "base_uri": "https://localhost:8080/",
          "height": 282
        },
        "id": "9iByfW08YDVh",
        "outputId": "2c14979e-89be-4e7a-defa-e1e92fc3797b"
      },
      "execution_count": 10,
      "outputs": [
        {
          "output_type": "execute_result",
          "data": {
            "text/plain": [
              "<matplotlib.axes._subplots.AxesSubplot at 0x7fd6e637cc50>"
            ]
          },
          "metadata": {},
          "execution_count": 10
        },
        {
          "output_type": "display_data",
          "data": {
            "image/png": "[encoded data removed]",
            "text/plain": [
              "<Figure size 432x288 with 1 Axes>"
            ]
          },
          "metadata": {
            "needs_background": "light"
          }
        }
      ]
    },
    {
      "cell_type": "code",
      "source": [
        "for index in agroanalisis.index:\n",
        "  if agroanalisis.at[index, 'Dias entre riego zona seca'] < 2:\n",
        "    val = 2\n",
        "  elif agroanalisis.at[index, 'Dias entre riego zona seca'] < 4:\n",
        "    val = 1\n",
        "  else:\n",
        "    val = 0\n",
        "  agroanalisis.at[index, 'need_humidity_group'] = val"
      ],
      "metadata": {
        "id": "K0RkFdooaaUW"
      },
      "execution_count": 11,
      "outputs": []
    },
    {
      "cell_type": "markdown",
      "source": [
        "Con la necesidad de riego ya discretizada y el precio en el mes de recolección calculado, podemos **eliminar las columnas** correspondientes a los días entre riego para zonas secas y húmedas y a los meses de cultivo, ya que no volverán a ser necesarias (la columna *Dias entre riego zona húmeda* no es necesaria puesto que las necesidades de riego son bien descritas con la columna *Dias entre riego zona seca*, ya que muestra bien qué tiene que ser regado con más o menos frecuencia, que es lo que interesa)."
      ],
      "metadata": {
        "id": "3XwN5zgdUGpM"
      }
    },
    {
      "cell_type": "code",
      "source": [
        "agroanalisis.drop(axis=1, labels=['Dias entre riego zona seca', 'Dias entre riego zona húmeda', 'Min siem-recol', 'Max siem-recol'], inplace=True)"
      ],
      "metadata": {
        "id": "j8TILxDsbyAm"
      },
      "execution_count": 12,
      "outputs": []
    },
    {
      "cell_type": "markdown",
      "source": [
        "También se comprobará si hay registros cuyo volumen vendido en el mes máximo de la recolección sea 0, ya que puede ocurrir que no se vendiesen piezas de un producto en ese mes concreto. En tal caso deben eliminarse.  \n",
        "Así, como ya se ha calculado el precio máximo de la recolección y su volumen, las columnas *price_mean* y *Volumen* quedan un poco obsoletas y pueden descartarse."
      ],
      "metadata": {
        "id": "ZB2TOLPAK7WV"
      }
    },
    {
      "cell_type": "code",
      "source": [
        "agroanalisis['Volumen_max_recolec'].describe()"
      ],
      "metadata": {
        "colab": {
          "base_uri": "https://localhost:8080/"
        },
        "id": "-LGU_JsklZHq",
        "outputId": "3e5d3560-57aa-4969-f2ff-4d153312bfb9"
      },
      "execution_count": 13,
      "outputs": [
        {
          "output_type": "execute_result",
          "data": {
            "text/plain": [
              "count    3.822000e+03\n",
              "mean     3.896903e+05\n",
              "std      1.066783e+06\n",
              "min      0.000000e+00\n",
              "25%      1.144100e+04\n",
              "50%      5.636800e+04\n",
              "75%      2.354790e+05\n",
              "max      1.452241e+07\n",
              "Name: Volumen_max_recolec, dtype: float64"
            ]
          },
          "metadata": {},
          "execution_count": 13
        }
      ]
    },
    {
      "cell_type": "code",
      "source": [
        "agroanalisis.drop(agroanalisis[agroanalisis['Volumen_max_recolec'] <= 0].index, inplace=True)\n",
        "agroanalisis.drop(labels=['price_mean', 'Volumen'], axis=1, inplace=True)\n"
      ],
      "metadata": {
        "id": "R9L00Bj6peoi"
      },
      "execution_count": 14,
      "outputs": []
    },
    {
      "cell_type": "markdown",
      "source": [
        "## 3. Línea de trabajo 1: ¿Cuál es el cultivo más rentable a sembrar?"
      ],
      "metadata": {
        "id": "ww6SlxGg3IKU"
      }
    },
    {
      "cell_type": "markdown",
      "source": [
        "### 3.1 Construcción del campo objetivo"
      ],
      "metadata": {
        "id": "EKep3I0TLo39"
      }
    },
    {
      "cell_type": "markdown",
      "source": [
        "A continuación, se creará una columna/característica en el *Dataframe*, que se corresponderá con la columna objetivo.  \n",
        "El objetivo es **etiquetar los 5 mejores cultivos** (con mejor se refiere a un cultivo con el precio de los más altos) por mes, comunidad y año de esa fila. Así, para una agrupación por mes, comunidad y año, solo 5 cultivos tendrán un valor 1 en la nueva columna *rentable*. \n",
        "Así, esta columna tomará valores 0 o 1, representando que es no rentable y rentable, respectivamente."
      ],
      "metadata": {
        "id": "a8opKxy6MKas"
      }
    },
    {
      "cell_type": "code",
      "source": [
        "agroanalisis['rentable'] = 0 # Creación de nueva columna, todos los valores 0\n",
        "agroanalisis.head()"
      ],
      "metadata": {
        "colab": {
          "base_uri": "https://localhost:8080/",
          "height": 288
        },
        "id": "77AsZ2QbqjHh",
        "outputId": "d424c86f-7033-430b-fbf7-0cd67a1fa08d"
      },
      "execution_count": 15,
      "outputs": [
        {
          "output_type": "execute_result",
          "data": {
            "text/html": [
              "\n",
              "  <div id=\"df-59239f65-e55d-4731-9df1-25a1165472d1\">\n",
              "    <div class=\"colab-df-container\">\n",
              "      <div>\n",
              "<style scoped>\n",
              "    .dataframe tbody tr th:only-of-type {\n",
              "        vertical-align: middle;\n",
              "    }\n",
              "\n",
              "    .dataframe tbody tr th {\n",
              "        vertical-align: top;\n",
              "    }\n",
              "\n",
              "    .dataframe thead th {\n",
              "        text-align: right;\n",
              "    }\n",
              "</style>\n",
              "<table border=\"1\" class=\"dataframe\">\n",
              "  <thead>\n",
              "    <tr style=\"text-align: right;\">\n",
              "      <th></th>\n",
              "      <th>product</th>\n",
              "      <th>origen</th>\n",
              "      <th>YEAR</th>\n",
              "      <th>MONTH</th>\n",
              "      <th>temperatura</th>\n",
              "      <th>Precipitacion_group</th>\n",
              "      <th>Temperatura min req</th>\n",
              "      <th>Temperatura max req</th>\n",
              "      <th>Temperatura min opt</th>\n",
              "      <th>Temperatura max opt</th>\n",
              "      <th>distancia_mes_inicio_siem</th>\n",
              "      <th>distancia_mes_fin_siem</th>\n",
              "      <th>price_max_recolec</th>\n",
              "      <th>Volumen_max_recolec</th>\n",
              "      <th>MONTH_max_recolec</th>\n",
              "      <th>need_humidity_group</th>\n",
              "      <th>rentable</th>\n",
              "    </tr>\n",
              "  </thead>\n",
              "  <tbody>\n",
              "    <tr>\n",
              "      <th>5</th>\n",
              "      <td>ACELGA</td>\n",
              "      <td>Andalucia</td>\n",
              "      <td>2018</td>\n",
              "      <td>3</td>\n",
              "      <td>11.90</td>\n",
              "      <td>2.0</td>\n",
              "      <td>6.0</td>\n",
              "      <td>33.0</td>\n",
              "      <td>15.0</td>\n",
              "      <td>25.0</td>\n",
              "      <td>0.0</td>\n",
              "      <td>-2.0</td>\n",
              "      <td>1.035714</td>\n",
              "      <td>58905.0</td>\n",
              "      <td>6.0</td>\n",
              "      <td>0.0</td>\n",
              "      <td>0</td>\n",
              "    </tr>\n",
              "    <tr>\n",
              "      <th>7</th>\n",
              "      <td>ACELGA</td>\n",
              "      <td>Andalucia</td>\n",
              "      <td>2018</td>\n",
              "      <td>4</td>\n",
              "      <td>14.84</td>\n",
              "      <td>1.0</td>\n",
              "      <td>6.0</td>\n",
              "      <td>33.0</td>\n",
              "      <td>15.0</td>\n",
              "      <td>25.0</td>\n",
              "      <td>1.0</td>\n",
              "      <td>-1.0</td>\n",
              "      <td>0.725000</td>\n",
              "      <td>16570.0</td>\n",
              "      <td>7.0</td>\n",
              "      <td>0.0</td>\n",
              "      <td>0</td>\n",
              "    </tr>\n",
              "    <tr>\n",
              "      <th>9</th>\n",
              "      <td>ACELGA</td>\n",
              "      <td>Andalucia</td>\n",
              "      <td>2018</td>\n",
              "      <td>5</td>\n",
              "      <td>17.50</td>\n",
              "      <td>0.0</td>\n",
              "      <td>6.0</td>\n",
              "      <td>33.0</td>\n",
              "      <td>15.0</td>\n",
              "      <td>25.0</td>\n",
              "      <td>2.0</td>\n",
              "      <td>0.0</td>\n",
              "      <td>0.529167</td>\n",
              "      <td>35470.0</td>\n",
              "      <td>8.0</td>\n",
              "      <td>0.0</td>\n",
              "      <td>0</td>\n",
              "    </tr>\n",
              "    <tr>\n",
              "      <th>18</th>\n",
              "      <td>ACELGA</td>\n",
              "      <td>Andalucia</td>\n",
              "      <td>2018</td>\n",
              "      <td>10</td>\n",
              "      <td>18.05</td>\n",
              "      <td>1.0</td>\n",
              "      <td>6.0</td>\n",
              "      <td>33.0</td>\n",
              "      <td>15.0</td>\n",
              "      <td>25.0</td>\n",
              "      <td>1.0</td>\n",
              "      <td>-1.0</td>\n",
              "      <td>0.880000</td>\n",
              "      <td>61704.0</td>\n",
              "      <td>1.0</td>\n",
              "      <td>0.0</td>\n",
              "      <td>0</td>\n",
              "    </tr>\n",
              "    <tr>\n",
              "      <th>20</th>\n",
              "      <td>ACELGA</td>\n",
              "      <td>Andalucia</td>\n",
              "      <td>2018</td>\n",
              "      <td>11</td>\n",
              "      <td>13.19</td>\n",
              "      <td>1.0</td>\n",
              "      <td>6.0</td>\n",
              "      <td>33.0</td>\n",
              "      <td>15.0</td>\n",
              "      <td>25.0</td>\n",
              "      <td>2.0</td>\n",
              "      <td>0.0</td>\n",
              "      <td>0.682381</td>\n",
              "      <td>106154.0</td>\n",
              "      <td>2.0</td>\n",
              "      <td>0.0</td>\n",
              "      <td>0</td>\n",
              "    </tr>\n",
              "  </tbody>\n",
              "</table>\n",
              "</div>\n",
              "      <button class=\"colab-df-convert\" onclick=\"convertToInteractive('df-59239f65-e55d-4731-9df1-25a1165472d1')\"\n",
              "              title=\"Convert this dataframe to an interactive table.\"\n",
              "              style=\"display:none;\">\n",
              "        \n",
              "  <svg xmlns=\"http://www.w3.org/2000/svg\" height=\"24px\"viewBox=\"0 0 24 24\"\n",
              "       width=\"24px\">\n",
              "    <path d=\"M0 0h24v24H0V0z\" fill=\"none\"/>\n",
              "    <path d=\"M18.56 5.44l.94 2.06.94-2.06 2.06-.94-2.06-.94-.94-2.06-.94 2.06-2.06.94zm-11 1L8.5 8.5l.94-2.06 2.06-.94-2.06-.94L8.5 2.5l-.94 2.06-2.06.94zm10 10l.94 2.06.94-2.06 2.06-.94-2.06-.94-.94-2.06-.94 2.06-2.06.94z\"/><path d=\"M17.41 7.96l-1.37-1.37c-.4-.4-.92-.59-1.43-.59-.52 0-1.04.2-1.43.59L10.3 9.45l-7.72 7.72c-.78.78-.78 2.05 0 2.83L4 21.41c.39.39.9.59 1.41.59.51 0 1.02-.2 1.41-.59l7.78-7.78 2.81-2.81c.8-.78.8-2.07 0-2.86zM5.41 20L4 18.59l7.72-7.72 1.47 1.35L5.41 20z\"/>\n",
              "  </svg>\n",
              "      </button>\n",
              "      \n",
              "  <style>\n",
              "    .colab-df-container {\n",
              "      display:flex;\n",
              "      flex-wrap:wrap;\n",
              "      gap: 12px;\n",
              "    }\n",
              "\n",
              "    .colab-df-convert {\n",
              "      background-color: #E8F0FE;\n",
              "      border: none;\n",
              "      border-radius: 50%;\n",
              "      cursor: pointer;\n",
              "      display: none;\n",
              "      fill: #1967D2;\n",
              "      height: 32px;\n",
              "      padding: 0 0 0 0;\n",
              "      width: 32px;\n",
              "    }\n",
              "\n",
              "    .colab-df-convert:hover {\n",
              "      background-color: #E2EBFA;\n",
              "      box-shadow: 0px 1px 2px rgba(60, 64, 67, 0.3), 0px 1px 3px 1px rgba(60, 64, 67, 0.15);\n",
              "      fill: #174EA6;\n",
              "    }\n",
              "\n",
              "    [theme=dark] .colab-df-convert {\n",
              "      background-color: #3B4455;\n",
              "      fill: #D2E3FC;\n",
              "    }\n",
              "\n",
              "    [theme=dark] .colab-df-convert:hover {\n",
              "      background-color: #434B5C;\n",
              "      box-shadow: 0px 1px 3px 1px rgba(0, 0, 0, 0.15);\n",
              "      filter: drop-shadow(0px 1px 2px rgba(0, 0, 0, 0.3));\n",
              "      fill: #FFFFFF;\n",
              "    }\n",
              "  </style>\n",
              "\n",
              "      <script>\n",
              "        const buttonEl =\n",
              "          document.querySelector('#df-59239f65-e55d-4731-9df1-25a1165472d1 button.colab-df-convert');\n",
              "        buttonEl.style.display =\n",
              "          google.colab.kernel.accessAllowed ? 'block' : 'none';\n",
              "\n",
              "        async function convertToInteractive(key) {\n",
              "          const element = document.querySelector('#df-59239f65-e55d-4731-9df1-25a1165472d1');\n",
              "          const dataTable =\n",
              "            await google.colab.kernel.invokeFunction('convertToInteractive',\n",
              "                                                     [key], {});\n",
              "          if (!dataTable) return;\n",
              "\n",
              "          const docLinkHtml = 'Like what you see? Visit the ' +\n",
              "            '<a target=\"_blank\" href=https://colab.research.google.com/notebooks/data_table.ipynb>data table notebook</a>'\n",
              "            + ' to learn more about interactive tables.';\n",
              "          element.innerHTML = '';\n",
              "          dataTable['output_type'] = 'display_data';\n",
              "          await google.colab.output.renderOutput(dataTable, element);\n",
              "          const docLink = document.createElement('div');\n",
              "          docLink.innerHTML = docLinkHtml;\n",
              "          element.appendChild(docLink);\n",
              "        }\n",
              "      </script>\n",
              "    </div>\n",
              "  </div>\n",
              "  "
            ],
            "text/plain": [
              "   product     origen  YEAR  ...  MONTH_max_recolec  need_humidity_group  rentable\n",
              "5   ACELGA  Andalucia  2018  ...                6.0                  0.0         0\n",
              "7   ACELGA  Andalucia  2018  ...                7.0                  0.0         0\n",
              "9   ACELGA  Andalucia  2018  ...                8.0                  0.0         0\n",
              "18  ACELGA  Andalucia  2018  ...                1.0                  0.0         0\n",
              "20  ACELGA  Andalucia  2018  ...                2.0                  0.0         0\n",
              "\n",
              "[5 rows x 17 columns]"
            ]
          },
          "metadata": {},
          "execution_count": 15
        }
      ]
    },
    {
      "cell_type": "markdown",
      "source": [
        "A continuación, se irá iterando por filas teniendo en cuenta las posibles variaciones de origen, año y mes. Estas se ordenarán por *price_max_recolec* (de mayor a menor), y se tomarán las 5 primeras filas, correspondientes a los 5 cultivos más rentables. En esas filas se pondrá un valor 1 en la nueva característica *rentable*."
      ],
      "metadata": {
        "id": "wMHYLC2-PVD8"
      }
    },
    {
      "cell_type": "code",
      "source": [
        "with warnings.catch_warnings():\n",
        "  warnings.filterwarnings('ignore')\n",
        "  for origen, year, month in itertools.product(agroanalisis['origen'].unique(), agroanalisis['YEAR'].unique(), agroanalisis['MONTH'].unique()):\n",
        "    result = agroanalisis[(agroanalisis['origen'] == origen) & \\\n",
        "                    (agroanalisis['YEAR'] == year) & (agroanalisis['MONTH'] == month)]\n",
        "    if len(result) > 0:\n",
        "      result.sort_values('price_max_recolec', axis=0, ascending=False, inplace=True)\n",
        "      agroanalisis.loc[(agroanalisis['origen'] == origen) & \\\n",
        "                      (agroanalisis['YEAR'] == year) & \\\n",
        "                      (agroanalisis['MONTH'] == month) & \n",
        "                      (agroanalisis['price_max_recolec'] >= list(result['price_max_recolec'][:5])[-1]), 'rentable' ] = 1\n"
      ],
      "metadata": {
        "id": "SwUqsPrkrUFB"
      },
      "execution_count": 16,
      "outputs": []
    },
    {
      "cell_type": "markdown",
      "source": [
        "### 3.2 Preparación de datos para el modelo"
      ],
      "metadata": {
        "id": "-aQqfyOXQ77E"
      }
    },
    {
      "cell_type": "markdown",
      "source": [
        "Se aplicará un modelo de clasificación de RandomForests.  \n",
        "Para ello, primero será necesario comprobar que no nos enfrentamos a un problema desbalanceado. Esta comprobación se realizará mediante el recuento de valores de cada tipo en la columna *rentable*."
      ],
      "metadata": {
        "id": "Y3PJh9z4RC-L"
      }
    },
    {
      "cell_type": "code",
      "source": [
        "sns.set(style='darkgrid')\n",
        "\n",
        "print(agroanalisis.groupby('rentable').size())\n",
        "   \n",
        "sns.catplot(x='rentable', data=agroanalisis, kind='count')"
      ],
      "metadata": {
        "colab": {
          "base_uri": "https://localhost:8080/",
          "height": 452
        },
        "id": "fU0Qhq9mzTgD",
        "outputId": "acec2ae3-e71c-40b3-86d4-6851d30e92e0"
      },
      "execution_count": 17,
      "outputs": [
        {
          "output_type": "stream",
          "name": "stdout",
          "text": [
            "rentable\n",
            "0    2054\n",
            "1    1763\n",
            "dtype: int64\n"
          ]
        },
        {
          "output_type": "execute_result",
          "data": {
            "text/plain": [
              "<seaborn.axisgrid.FacetGrid at 0x7fd6e7b85410>"
            ]
          },
          "metadata": {},
          "execution_count": 17
        },
        {
          "output_type": "display_data",
          "data": {
            "image/png": "[encoded data removed]",
            "text/plain": [
              "<Figure size 360x360 with 1 Axes>"
            ]
          },
          "metadata": {}
        }
      ]
    },
    {
      "cell_type": "markdown",
      "source": [
        "Como se puede comprobar, se encuentra bastante balanceado y no es necesario aplicar ninguna transformación."
      ],
      "metadata": {
        "id": "uVbv5xs1RjCj"
      }
    },
    {
      "cell_type": "markdown",
      "source": [
        "##### 3.2.1 OneHot Encoding"
      ],
      "metadata": {
        "id": "tZ0ZvP1eRQU1"
      }
    },
    {
      "cell_type": "markdown",
      "source": [
        "En el *dataframe* existen datos de tipo categórico, los cuales pueden resultar problemáticos a la hora de aplicar el modelo de clasificación. Por ello, se ha decidido aplicar un **encoding** a este tipo de datos. Más concretamente, se ha decidido utilizar el **OneHot**, ya que otro tipo de encoding podría acarrear relaciones numéricas entre datos que realmente no poseen ningún tipo de orden."
      ],
      "metadata": {
        "id": "AfmfJoLGRpfE"
      }
    },
    {
      "cell_type": "markdown",
      "source": [
        "Se aplicará a los campos *product* y *origen*."
      ],
      "metadata": {
        "id": "h6t_jxncSTSb"
      }
    },
    {
      "cell_type": "code",
      "source": [
        "# OneHot de product\n",
        "df_OneHot = pd.get_dummies(agroanalisis[['product']])\n",
        "agroanalisis = pd.concat([agroanalisis, df_OneHot], axis = 1)"
      ],
      "metadata": {
        "id": "-FxcNDSoE2mM"
      },
      "execution_count": 18,
      "outputs": []
    },
    {
      "cell_type": "code",
      "source": [
        "# OneHot de origen\n",
        "df_OneHot = pd.get_dummies(agroanalisis[['origen']])\n",
        "agroanalisis = pd.concat([agroanalisis, df_OneHot], axis = 1)"
      ],
      "metadata": {
        "id": "Sc01sKdEGMm1"
      },
      "execution_count": 19,
      "outputs": []
    },
    {
      "cell_type": "code",
      "source": [
        "# Descarte de columnas no numéricas\n",
        "agroanalisis.drop(labels=['product', 'origen'], axis=1, inplace=True)\n",
        "agroanalisis.head()"
      ],
      "metadata": {
        "colab": {
          "base_uri": "https://localhost:8080/",
          "height": 288
        },
        "id": "XcxqH-4bF9Cz",
        "outputId": "7b33c635-d072-46fc-ce79-685dc0a55b4c"
      },
      "execution_count": 20,
      "outputs": [
        {
          "output_type": "execute_result",
          "data": {
            "text/html": [
              "\n",
              "  <div id=\"df-b7eb8933-5d4d-455d-9819-04cba82878c0\">\n",
              "    <div class=\"colab-df-container\">\n",
              "      <div>\n",
              "<style scoped>\n",
              "    .dataframe tbody tr th:only-of-type {\n",
              "        vertical-align: middle;\n",
              "    }\n",
              "\n",
              "    .dataframe tbody tr th {\n",
              "        vertical-align: top;\n",
              "    }\n",
              "\n",
              "    .dataframe thead th {\n",
              "        text-align: right;\n",
              "    }\n",
              "</style>\n",
              "<table border=\"1\" class=\"dataframe\">\n",
              "  <thead>\n",
              "    <tr style=\"text-align: right;\">\n",
              "      <th></th>\n",
              "      <th>YEAR</th>\n",
              "      <th>MONTH</th>\n",
              "      <th>temperatura</th>\n",
              "      <th>Precipitacion_group</th>\n",
              "      <th>Temperatura min req</th>\n",
              "      <th>Temperatura max req</th>\n",
              "      <th>Temperatura min opt</th>\n",
              "      <th>Temperatura max opt</th>\n",
              "      <th>distancia_mes_inicio_siem</th>\n",
              "      <th>distancia_mes_fin_siem</th>\n",
              "      <th>price_max_recolec</th>\n",
              "      <th>Volumen_max_recolec</th>\n",
              "      <th>MONTH_max_recolec</th>\n",
              "      <th>need_humidity_group</th>\n",
              "      <th>rentable</th>\n",
              "      <th>product_ACELGA</th>\n",
              "      <th>product_AJO</th>\n",
              "      <th>product_ALCACHOFA</th>\n",
              "      <th>product_APIO</th>\n",
              "      <th>product_BERENJENA</th>\n",
              "      <th>product_BROCOLI</th>\n",
              "      <th>product_CALABACIN</th>\n",
              "      <th>product_CALABAZA</th>\n",
              "      <th>product_CEBOLLA</th>\n",
              "      <th>product_CEBOLLETA</th>\n",
              "      <th>product_CHIRIVIA</th>\n",
              "      <th>product_COL BRUSELAS</th>\n",
              "      <th>product_COL CHINA</th>\n",
              "      <th>product_COL LOMBARDA</th>\n",
              "      <th>product_COL REPOLLO</th>\n",
              "      <th>product_COLIFLOR</th>\n",
              "      <th>product_ESCAROLA</th>\n",
              "      <th>product_ESPINACA</th>\n",
              "      <th>product_GUISANTE</th>\n",
              "      <th>product_HABA</th>\n",
              "      <th>product_JUDIA</th>\n",
              "      <th>product_LECHUGA</th>\n",
              "      <th>product_MAIZ</th>\n",
              "      <th>product_MELON</th>\n",
              "      <th>product_NABO</th>\n",
              "      <th>product_PATATA</th>\n",
              "      <th>product_PEPINO</th>\n",
              "      <th>product_PEREJIL</th>\n",
              "      <th>product_PIMIENTO</th>\n",
              "      <th>product_PUERRO</th>\n",
              "      <th>product_RABANITO</th>\n",
              "      <th>product_REMOLACHA</th>\n",
              "      <th>product_SANDIA</th>\n",
              "      <th>product_TOMATE</th>\n",
              "      <th>product_ZANAHORIA</th>\n",
              "      <th>origen_Andalucia</th>\n",
              "      <th>origen_Aragon</th>\n",
              "      <th>origen_Asturias</th>\n",
              "      <th>origen_Baleares</th>\n",
              "      <th>origen_Canarias</th>\n",
              "      <th>origen_Cantabria</th>\n",
              "      <th>origen_Castilla La Mancha</th>\n",
              "      <th>origen_Castilla Leon</th>\n",
              "      <th>origen_Cataluña</th>\n",
              "      <th>origen_Extremadura</th>\n",
              "      <th>origen_Galicia</th>\n",
              "      <th>origen_La Rioja</th>\n",
              "      <th>origen_Madrid</th>\n",
              "      <th>origen_Murcia</th>\n",
              "      <th>origen_Navarra</th>\n",
              "      <th>origen_Pais Vasco</th>\n",
              "      <th>origen_Valencia</th>\n",
              "    </tr>\n",
              "  </thead>\n",
              "  <tbody>\n",
              "    <tr>\n",
              "      <th>5</th>\n",
              "      <td>2018</td>\n",
              "      <td>3</td>\n",
              "      <td>11.90</td>\n",
              "      <td>2.0</td>\n",
              "      <td>6.0</td>\n",
              "      <td>33.0</td>\n",
              "      <td>15.0</td>\n",
              "      <td>25.0</td>\n",
              "      <td>0.0</td>\n",
              "      <td>-2.0</td>\n",
              "      <td>1.035714</td>\n",
              "      <td>58905.0</td>\n",
              "      <td>6.0</td>\n",
              "      <td>0.0</td>\n",
              "      <td>0</td>\n",
              "      <td>1</td>\n",
              "      <td>0</td>\n",
              "      <td>0</td>\n",
              "      <td>0</td>\n",
              "      <td>0</td>\n",
              "      <td>0</td>\n",
              "      <td>0</td>\n",
              "      <td>0</td>\n",
              "      <td>0</td>\n",
              "      <td>0</td>\n",
              "      <td>0</td>\n",
              "      <td>0</td>\n",
              "      <td>0</td>\n",
              "      <td>0</td>\n",
              "      <td>0</td>\n",
              "      <td>0</td>\n",
              "      <td>0</td>\n",
              "      <td>0</td>\n",
              "      <td>0</td>\n",
              "      <td>0</td>\n",
              "      <td>0</td>\n",
              "      <td>0</td>\n",
              "      <td>0</td>\n",
              "      <td>0</td>\n",
              "      <td>0</td>\n",
              "      <td>0</td>\n",
              "      <td>0</td>\n",
              "      <td>0</td>\n",
              "      <td>0</td>\n",
              "      <td>0</td>\n",
              "      <td>0</td>\n",
              "      <td>0</td>\n",
              "      <td>0</td>\n",
              "      <td>0</td>\n",
              "      <td>0</td>\n",
              "      <td>1</td>\n",
              "      <td>0</td>\n",
              "      <td>0</td>\n",
              "      <td>0</td>\n",
              "      <td>0</td>\n",
              "      <td>0</td>\n",
              "      <td>0</td>\n",
              "      <td>0</td>\n",
              "      <td>0</td>\n",
              "      <td>0</td>\n",
              "      <td>0</td>\n",
              "      <td>0</td>\n",
              "      <td>0</td>\n",
              "      <td>0</td>\n",
              "      <td>0</td>\n",
              "      <td>0</td>\n",
              "      <td>0</td>\n",
              "    </tr>\n",
              "    <tr>\n",
              "      <th>7</th>\n",
              "      <td>2018</td>\n",
              "      <td>4</td>\n",
              "      <td>14.84</td>\n",
              "      <td>1.0</td>\n",
              "      <td>6.0</td>\n",
              "      <td>33.0</td>\n",
              "      <td>15.0</td>\n",
              "      <td>25.0</td>\n",
              "      <td>1.0</td>\n",
              "      <td>-1.0</td>\n",
              "      <td>0.725000</td>\n",
              "      <td>16570.0</td>\n",
              "      <td>7.0</td>\n",
              "      <td>0.0</td>\n",
              "      <td>0</td>\n",
              "      <td>1</td>\n",
              "      <td>0</td>\n",
              "      <td>0</td>\n",
              "      <td>0</td>\n",
              "      <td>0</td>\n",
              "      <td>0</td>\n",
              "      <td>0</td>\n",
              "      <td>0</td>\n",
              "      <td>0</td>\n",
              "      <td>0</td>\n",
              "      <td>0</td>\n",
              "      <td>0</td>\n",
              "      <td>0</td>\n",
              "      <td>0</td>\n",
              "      <td>0</td>\n",
              "      <td>0</td>\n",
              "      <td>0</td>\n",
              "      <td>0</td>\n",
              "      <td>0</td>\n",
              "      <td>0</td>\n",
              "      <td>0</td>\n",
              "      <td>0</td>\n",
              "      <td>0</td>\n",
              "      <td>0</td>\n",
              "      <td>0</td>\n",
              "      <td>0</td>\n",
              "      <td>0</td>\n",
              "      <td>0</td>\n",
              "      <td>0</td>\n",
              "      <td>0</td>\n",
              "      <td>0</td>\n",
              "      <td>0</td>\n",
              "      <td>0</td>\n",
              "      <td>0</td>\n",
              "      <td>0</td>\n",
              "      <td>1</td>\n",
              "      <td>0</td>\n",
              "      <td>0</td>\n",
              "      <td>0</td>\n",
              "      <td>0</td>\n",
              "      <td>0</td>\n",
              "      <td>0</td>\n",
              "      <td>0</td>\n",
              "      <td>0</td>\n",
              "      <td>0</td>\n",
              "      <td>0</td>\n",
              "      <td>0</td>\n",
              "      <td>0</td>\n",
              "      <td>0</td>\n",
              "      <td>0</td>\n",
              "      <td>0</td>\n",
              "      <td>0</td>\n",
              "    </tr>\n",
              "    <tr>\n",
              "      <th>9</th>\n",
              "      <td>2018</td>\n",
              "      <td>5</td>\n",
              "      <td>17.50</td>\n",
              "      <td>0.0</td>\n",
              "      <td>6.0</td>\n",
              "      <td>33.0</td>\n",
              "      <td>15.0</td>\n",
              "      <td>25.0</td>\n",
              "      <td>2.0</td>\n",
              "      <td>0.0</td>\n",
              "      <td>0.529167</td>\n",
              "      <td>35470.0</td>\n",
              "      <td>8.0</td>\n",
              "      <td>0.0</td>\n",
              "      <td>0</td>\n",
              "      <td>1</td>\n",
              "      <td>0</td>\n",
              "      <td>0</td>\n",
              "      <td>0</td>\n",
              "      <td>0</td>\n",
              "      <td>0</td>\n",
              "      <td>0</td>\n",
              "      <td>0</td>\n",
              "      <td>0</td>\n",
              "      <td>0</td>\n",
              "      <td>0</td>\n",
              "      <td>0</td>\n",
              "      <td>0</td>\n",
              "      <td>0</td>\n",
              "      <td>0</td>\n",
              "      <td>0</td>\n",
              "      <td>0</td>\n",
              "      <td>0</td>\n",
              "      <td>0</td>\n",
              "      <td>0</td>\n",
              "      <td>0</td>\n",
              "      <td>0</td>\n",
              "      <td>0</td>\n",
              "      <td>0</td>\n",
              "      <td>0</td>\n",
              "      <td>0</td>\n",
              "      <td>0</td>\n",
              "      <td>0</td>\n",
              "      <td>0</td>\n",
              "      <td>0</td>\n",
              "      <td>0</td>\n",
              "      <td>0</td>\n",
              "      <td>0</td>\n",
              "      <td>0</td>\n",
              "      <td>0</td>\n",
              "      <td>1</td>\n",
              "      <td>0</td>\n",
              "      <td>0</td>\n",
              "      <td>0</td>\n",
              "      <td>0</td>\n",
              "      <td>0</td>\n",
              "      <td>0</td>\n",
              "      <td>0</td>\n",
              "      <td>0</td>\n",
              "      <td>0</td>\n",
              "      <td>0</td>\n",
              "      <td>0</td>\n",
              "      <td>0</td>\n",
              "      <td>0</td>\n",
              "      <td>0</td>\n",
              "      <td>0</td>\n",
              "      <td>0</td>\n",
              "    </tr>\n",
              "    <tr>\n",
              "      <th>18</th>\n",
              "      <td>2018</td>\n",
              "      <td>10</td>\n",
              "      <td>18.05</td>\n",
              "      <td>1.0</td>\n",
              "      <td>6.0</td>\n",
              "      <td>33.0</td>\n",
              "      <td>15.0</td>\n",
              "      <td>25.0</td>\n",
              "      <td>1.0</td>\n",
              "      <td>-1.0</td>\n",
              "      <td>0.880000</td>\n",
              "      <td>61704.0</td>\n",
              "      <td>1.0</td>\n",
              "      <td>0.0</td>\n",
              "      <td>0</td>\n",
              "      <td>1</td>\n",
              "      <td>0</td>\n",
              "      <td>0</td>\n",
              "      <td>0</td>\n",
              "      <td>0</td>\n",
              "      <td>0</td>\n",
              "      <td>0</td>\n",
              "      <td>0</td>\n",
              "      <td>0</td>\n",
              "      <td>0</td>\n",
              "      <td>0</td>\n",
              "      <td>0</td>\n",
              "      <td>0</td>\n",
              "      <td>0</td>\n",
              "      <td>0</td>\n",
              "      <td>0</td>\n",
              "      <td>0</td>\n",
              "      <td>0</td>\n",
              "      <td>0</td>\n",
              "      <td>0</td>\n",
              "      <td>0</td>\n",
              "      <td>0</td>\n",
              "      <td>0</td>\n",
              "      <td>0</td>\n",
              "      <td>0</td>\n",
              "      <td>0</td>\n",
              "      <td>0</td>\n",
              "      <td>0</td>\n",
              "      <td>0</td>\n",
              "      <td>0</td>\n",
              "      <td>0</td>\n",
              "      <td>0</td>\n",
              "      <td>0</td>\n",
              "      <td>0</td>\n",
              "      <td>0</td>\n",
              "      <td>1</td>\n",
              "      <td>0</td>\n",
              "      <td>0</td>\n",
              "      <td>0</td>\n",
              "      <td>0</td>\n",
              "      <td>0</td>\n",
              "      <td>0</td>\n",
              "      <td>0</td>\n",
              "      <td>0</td>\n",
              "      <td>0</td>\n",
              "      <td>0</td>\n",
              "      <td>0</td>\n",
              "      <td>0</td>\n",
              "      <td>0</td>\n",
              "      <td>0</td>\n",
              "      <td>0</td>\n",
              "      <td>0</td>\n",
              "    </tr>\n",
              "    <tr>\n",
              "      <th>20</th>\n",
              "      <td>2018</td>\n",
              "      <td>11</td>\n",
              "      <td>13.19</td>\n",
              "      <td>1.0</td>\n",
              "      <td>6.0</td>\n",
              "      <td>33.0</td>\n",
              "      <td>15.0</td>\n",
              "      <td>25.0</td>\n",
              "      <td>2.0</td>\n",
              "      <td>0.0</td>\n",
              "      <td>0.682381</td>\n",
              "      <td>106154.0</td>\n",
              "      <td>2.0</td>\n",
              "      <td>0.0</td>\n",
              "      <td>0</td>\n",
              "      <td>1</td>\n",
              "      <td>0</td>\n",
              "      <td>0</td>\n",
              "      <td>0</td>\n",
              "      <td>0</td>\n",
              "      <td>0</td>\n",
              "      <td>0</td>\n",
              "      <td>0</td>\n",
              "      <td>0</td>\n",
              "      <td>0</td>\n",
              "      <td>0</td>\n",
              "      <td>0</td>\n",
              "      <td>0</td>\n",
              "      <td>0</td>\n",
              "      <td>0</td>\n",
              "      <td>0</td>\n",
              "      <td>0</td>\n",
              "      <td>0</td>\n",
              "      <td>0</td>\n",
              "      <td>0</td>\n",
              "      <td>0</td>\n",
              "      <td>0</td>\n",
              "      <td>0</td>\n",
              "      <td>0</td>\n",
              "      <td>0</td>\n",
              "      <td>0</td>\n",
              "      <td>0</td>\n",
              "      <td>0</td>\n",
              "      <td>0</td>\n",
              "      <td>0</td>\n",
              "      <td>0</td>\n",
              "      <td>0</td>\n",
              "      <td>0</td>\n",
              "      <td>0</td>\n",
              "      <td>0</td>\n",
              "      <td>1</td>\n",
              "      <td>0</td>\n",
              "      <td>0</td>\n",
              "      <td>0</td>\n",
              "      <td>0</td>\n",
              "      <td>0</td>\n",
              "      <td>0</td>\n",
              "      <td>0</td>\n",
              "      <td>0</td>\n",
              "      <td>0</td>\n",
              "      <td>0</td>\n",
              "      <td>0</td>\n",
              "      <td>0</td>\n",
              "      <td>0</td>\n",
              "      <td>0</td>\n",
              "      <td>0</td>\n",
              "      <td>0</td>\n",
              "    </tr>\n",
              "  </tbody>\n",
              "</table>\n",
              "</div>\n",
              "      <button class=\"colab-df-convert\" onclick=\"convertToInteractive('df-b7eb8933-5d4d-455d-9819-04cba82878c0')\"\n",
              "              title=\"Convert this dataframe to an interactive table.\"\n",
              "              style=\"display:none;\">\n",
              "        \n",
              "  <svg xmlns=\"http://www.w3.org/2000/svg\" height=\"24px\"viewBox=\"0 0 24 24\"\n",
              "       width=\"24px\">\n",
              "    <path d=\"M0 0h24v24H0V0z\" fill=\"none\"/>\n",
              "    <path d=\"M18.56 5.44l.94 2.06.94-2.06 2.06-.94-2.06-.94-.94-2.06-.94 2.06-2.06.94zm-11 1L8.5 8.5l.94-2.06 2.06-.94-2.06-.94L8.5 2.5l-.94 2.06-2.06.94zm10 10l.94 2.06.94-2.06 2.06-.94-2.06-.94-.94-2.06-.94 2.06-2.06.94z\"/><path d=\"M17.41 7.96l-1.37-1.37c-.4-.4-.92-.59-1.43-.59-.52 0-1.04.2-1.43.59L10.3 9.45l-7.72 7.72c-.78.78-.78 2.05 0 2.83L4 21.41c.39.39.9.59 1.41.59.51 0 1.02-.2 1.41-.59l7.78-7.78 2.81-2.81c.8-.78.8-2.07 0-2.86zM5.41 20L4 18.59l7.72-7.72 1.47 1.35L5.41 20z\"/>\n",
              "  </svg>\n",
              "      </button>\n",
              "      \n",
              "  <style>\n",
              "    .colab-df-container {\n",
              "      display:flex;\n",
              "      flex-wrap:wrap;\n",
              "      gap: 12px;\n",
              "    }\n",
              "\n",
              "    .colab-df-convert {\n",
              "      background-color: #E8F0FE;\n",
              "      border: none;\n",
              "      border-radius: 50%;\n",
              "      cursor: pointer;\n",
              "      display: none;\n",
              "      fill: #1967D2;\n",
              "      height: 32px;\n",
              "      padding: 0 0 0 0;\n",
              "      width: 32px;\n",
              "    }\n",
              "\n",
              "    .colab-df-convert:hover {\n",
              "      background-color: #E2EBFA;\n",
              "      box-shadow: 0px 1px 2px rgba(60, 64, 67, 0.3), 0px 1px 3px 1px rgba(60, 64, 67, 0.15);\n",
              "      fill: #174EA6;\n",
              "    }\n",
              "\n",
              "    [theme=dark] .colab-df-convert {\n",
              "      background-color: #3B4455;\n",
              "      fill: #D2E3FC;\n",
              "    }\n",
              "\n",
              "    [theme=dark] .colab-df-convert:hover {\n",
              "      background-color: #434B5C;\n",
              "      box-shadow: 0px 1px 3px 1px rgba(0, 0, 0, 0.15);\n",
              "      filter: drop-shadow(0px 1px 2px rgba(0, 0, 0, 0.3));\n",
              "      fill: #FFFFFF;\n",
              "    }\n",
              "  </style>\n",
              "\n",
              "      <script>\n",
              "        const buttonEl =\n",
              "          document.querySelector('#df-b7eb8933-5d4d-455d-9819-04cba82878c0 button.colab-df-convert');\n",
              "        buttonEl.style.display =\n",
              "          google.colab.kernel.accessAllowed ? 'block' : 'none';\n",
              "\n",
              "        async function convertToInteractive(key) {\n",
              "          const element = document.querySelector('#df-b7eb8933-5d4d-455d-9819-04cba82878c0');\n",
              "          const dataTable =\n",
              "            await google.colab.kernel.invokeFunction('convertToInteractive',\n",
              "                                                     [key], {});\n",
              "          if (!dataTable) return;\n",
              "\n",
              "          const docLinkHtml = 'Like what you see? Visit the ' +\n",
              "            '<a target=\"_blank\" href=https://colab.research.google.com/notebooks/data_table.ipynb>data table notebook</a>'\n",
              "            + ' to learn more about interactive tables.';\n",
              "          element.innerHTML = '';\n",
              "          dataTable['output_type'] = 'display_data';\n",
              "          await google.colab.output.renderOutput(dataTable, element);\n",
              "          const docLink = document.createElement('div');\n",
              "          docLink.innerHTML = docLinkHtml;\n",
              "          element.appendChild(docLink);\n",
              "        }\n",
              "      </script>\n",
              "    </div>\n",
              "  </div>\n",
              "  "
            ],
            "text/plain": [
              "    YEAR  MONTH  ...  origen_Pais Vasco  origen_Valencia\n",
              "5   2018      3  ...                  0                0\n",
              "7   2018      4  ...                  0                0\n",
              "9   2018      5  ...                  0                0\n",
              "18  2018     10  ...                  0                0\n",
              "20  2018     11  ...                  0                0\n",
              "\n",
              "[5 rows x 67 columns]"
            ]
          },
          "metadata": {},
          "execution_count": 20
        }
      ]
    },
    {
      "cell_type": "code",
      "source": [
        "agroanalisis.shape"
      ],
      "metadata": {
        "colab": {
          "base_uri": "https://localhost:8080/"
        },
        "id": "kjYa3P-eS67G",
        "outputId": "99fb95d3-cc5f-4e0e-9873-67a9b0f059ee"
      },
      "execution_count": 21,
      "outputs": [
        {
          "output_type": "execute_result",
          "data": {
            "text/plain": [
              "(3817, 67)"
            ]
          },
          "metadata": {},
          "execution_count": 21
        }
      ]
    },
    {
      "cell_type": "markdown",
      "source": [
        "### 3.3 Aplicación de modelo de clasificación"
      ],
      "metadata": {
        "id": "mzbjqllqL3Fi"
      }
    },
    {
      "cell_type": "markdown",
      "source": [
        "Se usará el algoritmo **RandomForest**.  \n",
        "Además, se utilizará **cross-validation**.  \n",
        "En la división del dataset para datos de entrenamiento y test, se descartarán la columna objetivo *rentable*, así como *price_max_recolec* y *Volumen_max_recolec* puesto que a la hora de realizar la predicción no se dispondrá de estos valores a priori."
      ],
      "metadata": {
        "id": "kJ1BQodZU8us"
      }
    },
    {
      "cell_type": "code",
      "source": [
        "X = list(agroanalisis.columns)\n",
        "X.remove('rentable')\n",
        "X.remove('YEAR')\n",
        "X.remove('price_max_recolec')\n",
        "X.remove('Volumen_max_recolec')\n",
        "X = agroanalisis[X]\n",
        "y = agroanalisis['rentable']\n",
        "\n",
        "X_train, X_test, y_train, y_test = train_test_split( X, y, test_size=0.30, random_state=42)"
      ],
      "metadata": {
        "id": "cZpfiptI1tUa"
      },
      "execution_count": 22,
      "outputs": []
    },
    {
      "cell_type": "code",
      "source": [
        "cv = KFold(n_splits = 5, shuffle = True)\n",
        "\n",
        "fold_accuracy = []\n",
        "rndfor = ensemble.RandomForestClassifier(n_estimators=1000)\n",
        "for train_fold, test_fold in cv.split(X_train):\n",
        "  # División train test aleatoria\n",
        "  fx_train = X_train.iloc[train_fold]\n",
        "  fy_train = y_train.iloc[train_fold]\n",
        "  fx_test = X_train.iloc[test_fold]\n",
        "  fy_test = y_train.iloc[test_fold]\n",
        "  # entrenamiento y ejecución del modelo\n",
        "  rndfor.fit( X = fx_train, y = fy_train)\n",
        "  fy_pred = rndfor.predict(X = fx_test)\n",
        "  # evaluación del modelo\n",
        "  acc = accuracy_score(fy_test, fy_pred)\n",
        "  fold_accuracy.append(acc)\n",
        "total_scores = sum(fold_accuracy)/len(fold_accuracy)\n",
        "\n",
        "print(total_scores)\n"
      ],
      "metadata": {
        "colab": {
          "base_uri": "https://localhost:8080/"
        },
        "id": "x3u2Rmpi3n6z",
        "outputId": "c66dfa75-199b-4f1a-8029-176d5fd5d9fe"
      },
      "execution_count": 23,
      "outputs": [
        {
          "output_type": "stream",
          "name": "stdout",
          "text": [
            "0.8917953026007212\n"
          ]
        }
      ]
    },
    {
      "cell_type": "code",
      "source": [
        "# Fit y predicción\n",
        "rndfor.fit( X = X_train, y = y_train)\n",
        "y_pred = rndfor.predict(X = X_test)\n",
        "\n",
        "print (\"MAE:\", metrics.mean_absolute_error(y_pred , y_test))\n",
        "print (\"MAPE:\", metrics.mean_absolute_percentage_error(y_pred , y_test))\n",
        "print (\"MSE:\", metrics.mean_squared_error(y_pred , y_test))\n",
        "print (\"R^2:\", metrics.r2_score(y_pred , y_test))"
      ],
      "metadata": {
        "colab": {
          "base_uri": "https://localhost:8080/"
        },
        "id": "ZdlCfyUB3oJ6",
        "outputId": "ecc98096-3d12-401e-84ba-a42a81720683"
      },
      "execution_count": 24,
      "outputs": [
        {
          "output_type": "stream",
          "name": "stdout",
          "text": [
            "MAE: 0.11518324607329843\n",
            "MAPE: 231860713800051.78\n",
            "MSE: 0.11518324607329843\n",
            "R^2: 0.5375415769908042\n"
          ]
        }
      ]
    },
    {
      "cell_type": "markdown",
      "source": [
        "#### 3.3.1 Matriz de confusión"
      ],
      "metadata": {
        "id": "2v4-RtppXYrG"
      }
    },
    {
      "cell_type": "markdown",
      "source": [
        "Para una mejor visualización de los resultados de acierto y error en la predicción, se dibujará la matriz de confusión."
      ],
      "metadata": {
        "id": "OvgyeittXbdd"
      }
    },
    {
      "cell_type": "code",
      "source": [
        "cm = metrics.confusion_matrix(y_test, y_pred)\n",
        "print(cm)"
      ],
      "metadata": {
        "colab": {
          "base_uri": "https://localhost:8080/"
        },
        "id": "-2IVc4JRHVF9",
        "outputId": "0789ff42-97b2-4b0e-81e9-c083a1eb9d66"
      },
      "execution_count": 25,
      "outputs": [
        {
          "output_type": "stream",
          "name": "stdout",
          "text": [
            "[[549  73]\n",
            " [ 59 465]]\n"
          ]
        }
      ]
    },
    {
      "cell_type": "code",
      "source": [
        "plt.figure(figsize=(9,9))\n",
        "sns.heatmap(cm, annot=True, fmt=\".3f\", linewidths=.5, square = True, cmap = 'Blues_r');\n",
        "plt.ylabel('Valor Real');\n",
        "plt.xlabel('Valor Predicho');\n",
        "all_sample_title = 'Exactitud: {0}'.format(total_scores)\n",
        "plt.title(all_sample_title, size = 15);"
      ],
      "metadata": {
        "colab": {
          "base_uri": "https://localhost:8080/",
          "height": 520
        },
        "id": "_4tteEdK3vP6",
        "outputId": "7740410f-f82a-416e-d159-717c7ca4f9b5"
      },
      "execution_count": 26,
      "outputs": [
        {
          "output_type": "display_data",
          "data": {
            "image/png": "[encoded data removed]",
            "text/plain": [
              "<Figure size 648x648 with 2 Axes>"
            ]
          },
          "metadata": {}
        }
      ]
    },
    {
      "cell_type": "markdown",
      "source": [
        "Así, podríamos decir en principio que se trata de un modelo bastane preciso (89%) para determinar si la siembra de un cultivo es rentable o no."
      ],
      "metadata": {
        "id": "StSL8xa0aoQC"
      }
    },
    {
      "cell_type": "markdown",
      "source": [
        "### 3.4 Entrada del usuario"
      ],
      "metadata": {
        "id": "CxAfCJYvVA5o"
      }
    },
    {
      "cell_type": "markdown",
      "source": [
        "A continuación, haciendo uso de *sliders* de colab, se ha creado una pequeña interfaz para que el usuario pueda introducir los datos. Introduciendo el mes, la región, la precipitación y la temperatura, se mostrará un top 5 (si lo hay) de los cultivos que resulte más rentable sembrar."
      ],
      "metadata": {
        "id": "Wgz3g8-jbAJB"
      }
    },
    {
      "cell_type": "code",
      "source": [
        "with open('available_products.json', 'r') as available_products_file:\n",
        "  available_products = json.load(available_products_file)\n",
        "\n",
        "with open('product_origen_inference.json', 'r') as product_origen_inference_file:\n",
        "  product_origen_inference = json.load(product_origen_inference_file)"
      ],
      "metadata": {
        "id": "IkVhYXZvEkIg"
      },
      "execution_count": 27,
      "outputs": []
    },
    {
      "cell_type": "code",
      "source": [
        "product_data_columns = [\n",
        "        \"Temperatura min req\",\n",
        "        \"Temperatura max req\",\n",
        "        \"Temperatura min opt\",\n",
        "        \"Temperatura max opt\",\n",
        "        \"distancia_mes_inicio_siem\",\n",
        "        \"distancia_mes_fin_siem\",\n",
        "        \"MONTH_max_recolec\",\n",
        "        \"need_humidity_group\"\n",
        "]\n",
        "\n",
        "def predict_best_product(month, origen, temperatura, precipitacion):\n",
        "  best_products = []\n",
        "\n",
        "  for product in available_products:\n",
        "      product_data = agroanalisis[(agroanalisis['product_'+product] == 1) & (agroanalisis['MONTH'] == month)]\n",
        "      if len(product_data) <= 0:\n",
        "        continue\n",
        "      dict_features = {\n",
        "        \"MONTH\": month,\n",
        "        \"temperatura\": temperatura,\n",
        "        \"Precipitacion_group\": precipitacion,\n",
        "        **product_data[product_data_columns].iloc[0].to_dict(),\n",
        "        **product_origen_inference\n",
        "      }\n",
        "      dict_features[\"product_\"+product] = 1\n",
        "      dict_features[\"origen_\"+origen] = 1\n",
        "      \n",
        "      df_input = pd.DataFrame([dict_features])\n",
        "      pred = rndfor.predict(df_input)[0]\n",
        "\n",
        "      if pred == 1:\n",
        "        best_products.append(product)\n",
        "\n",
        "  return best_products"
      ],
      "metadata": {
        "id": "-DE5LplVVFRY"
      },
      "execution_count": 28,
      "outputs": []
    },
    {
      "cell_type": "code",
      "source": [
        "month = 7 #@param {type:\"slider\", min:1, max:12}\n",
        "origen = \"Madrid\" #@param [\"Andalucia\", \"Aragon\", \"Asturias\", \"Baleares\", \"Canarias\", \"Cantabria\", \"Castilla La Mancha\", \"Castilla Leon\", \"Cataluña\", \"Extremadura\", \"Galicia\", \"La Rioja\", \"Madrid\", \"Murcia\", \"Navarra\", \"Pais Vasco\", \"Valencia\"]\n",
        "temperature = 40 #@param {type:\"slider\", min:-20, max:47, step:0.01}\n",
        "precipitacion_group = 1 #@param {type:\"slider\", min:0.0, max:2.0, step:1.0}\n",
        "\n",
        "predict_best_product(month, origen, temperature, precipitacion_group)"
      ],
      "metadata": {
        "colab": {
          "base_uri": "https://localhost:8080/"
        },
        "id": "D02g8oVBVIP6",
        "outputId": "92bd82fa-967d-4b3a-dcc6-884f1474db04"
      },
      "execution_count": 29,
      "outputs": [
        {
          "output_type": "execute_result",
          "data": {
            "text/plain": [
              "['BROCOLI', 'COL BRUSELAS', 'COL CHINA', 'COLIFLOR', 'PEREJIL']"
            ]
          },
          "metadata": {},
          "execution_count": 29
        }
      ]
    },
    {
      "cell_type": "markdown",
      "source": [
        "## 4. Línea de trabajo 3: Influencia de variables en el beneficio de un cultivo\n"
      ],
      "metadata": {
        "id": "WikFoGwNi9Ei"
      }
    },
    {
      "cell_type": "markdown",
      "source": [
        "Esta línea se abordará de dos maneras diferentes:\n",
        "- Se podría realizar un **árbol de decisión de cada región**, y obtener así la importancia de cada característica dependiendo de dónde se haya sembrado el cultivo.\n",
        "- Otra opción sería crear un **modelo para cada factor cuya influencia se quiera estudiar** (mes, temperatura y precipitación en este caso son los primordiales) que prediga el precio medio sin esa misma característica, y comparar con el precio real que introduzca el usuario. Así, si el precio medio sin ese factor es mucho más alto que el precio real, significará que esa característica ha afectado negativamente. Lo mismo sucede al contrario: si el precio medio predecido es mucho más bajo, ese factor afectó positivamente."
      ],
      "metadata": {
        "id": "UiFO7KQc4T3x"
      }
    },
    {
      "cell_type": "markdown",
      "source": [
        "### 4.1 Influencia de variables por región"
      ],
      "metadata": {
        "id": "KRFV9D9NvAMO"
      }
    },
    {
      "cell_type": "markdown",
      "source": [
        "Dada una región,  se estudiará el grado en que los factores han contribuido. En este caso, se han construido modelos de árboles de decisión de ejemplo para tres regiones: Galicia, Castilla - La Mancha y Andalucía. Así se podrá comprobar cómo funciona esta estrategia con datos reales."
      ],
      "metadata": {
        "id": "GfffMxEQjDXO"
      }
    },
    {
      "cell_type": "markdown",
      "source": [
        "#### 4.1.1 Galicia"
      ],
      "metadata": {
        "id": "xv9IPIrZ78C8"
      }
    },
    {
      "cell_type": "code",
      "source": [
        "# Filtrar dataframe por la región elegida\n",
        "aux = agroanalisis[agroanalisis['origen_Galicia'] == 1]\n",
        "aux.head()"
      ],
      "metadata": {
        "id": "Rz8qu3CDvXSL",
        "colab": {
          "base_uri": "https://localhost:8080/",
          "height": 288
        },
        "outputId": "086dfea8-14f3-4426-c601-50bf4a5d36e8"
      },
      "execution_count": 30,
      "outputs": [
        {
          "output_type": "execute_result",
          "data": {
            "text/html": [
              "\n",
              "  <div id=\"df-89ff6f4f-a79d-40cd-9473-ab20e56eaccb\">\n",
              "    <div class=\"colab-df-container\">\n",
              "      <div>\n",
              "<style scoped>\n",
              "    .dataframe tbody tr th:only-of-type {\n",
              "        vertical-align: middle;\n",
              "    }\n",
              "\n",
              "    .dataframe tbody tr th {\n",
              "        vertical-align: top;\n",
              "    }\n",
              "\n",
              "    .dataframe thead th {\n",
              "        text-align: right;\n",
              "    }\n",
              "</style>\n",
              "<table border=\"1\" class=\"dataframe\">\n",
              "  <thead>\n",
              "    <tr style=\"text-align: right;\">\n",
              "      <th></th>\n",
              "      <th>YEAR</th>\n",
              "      <th>MONTH</th>\n",
              "      <th>temperatura</th>\n",
              "      <th>Precipitacion_group</th>\n",
              "      <th>Temperatura min req</th>\n",
              "      <th>Temperatura max req</th>\n",
              "      <th>Temperatura min opt</th>\n",
              "      <th>Temperatura max opt</th>\n",
              "      <th>distancia_mes_inicio_siem</th>\n",
              "      <th>distancia_mes_fin_siem</th>\n",
              "      <th>price_max_recolec</th>\n",
              "      <th>Volumen_max_recolec</th>\n",
              "      <th>MONTH_max_recolec</th>\n",
              "      <th>need_humidity_group</th>\n",
              "      <th>rentable</th>\n",
              "      <th>product_ACELGA</th>\n",
              "      <th>product_AJO</th>\n",
              "      <th>product_ALCACHOFA</th>\n",
              "      <th>product_APIO</th>\n",
              "      <th>product_BERENJENA</th>\n",
              "      <th>product_BROCOLI</th>\n",
              "      <th>product_CALABACIN</th>\n",
              "      <th>product_CALABAZA</th>\n",
              "      <th>product_CEBOLLA</th>\n",
              "      <th>product_CEBOLLETA</th>\n",
              "      <th>product_CHIRIVIA</th>\n",
              "      <th>product_COL BRUSELAS</th>\n",
              "      <th>product_COL CHINA</th>\n",
              "      <th>product_COL LOMBARDA</th>\n",
              "      <th>product_COL REPOLLO</th>\n",
              "      <th>product_COLIFLOR</th>\n",
              "      <th>product_ESCAROLA</th>\n",
              "      <th>product_ESPINACA</th>\n",
              "      <th>product_GUISANTE</th>\n",
              "      <th>product_HABA</th>\n",
              "      <th>product_JUDIA</th>\n",
              "      <th>product_LECHUGA</th>\n",
              "      <th>product_MAIZ</th>\n",
              "      <th>product_MELON</th>\n",
              "      <th>product_NABO</th>\n",
              "      <th>product_PATATA</th>\n",
              "      <th>product_PEPINO</th>\n",
              "      <th>product_PEREJIL</th>\n",
              "      <th>product_PIMIENTO</th>\n",
              "      <th>product_PUERRO</th>\n",
              "      <th>product_RABANITO</th>\n",
              "      <th>product_REMOLACHA</th>\n",
              "      <th>product_SANDIA</th>\n",
              "      <th>product_TOMATE</th>\n",
              "      <th>product_ZANAHORIA</th>\n",
              "      <th>origen_Andalucia</th>\n",
              "      <th>origen_Aragon</th>\n",
              "      <th>origen_Asturias</th>\n",
              "      <th>origen_Baleares</th>\n",
              "      <th>origen_Canarias</th>\n",
              "      <th>origen_Cantabria</th>\n",
              "      <th>origen_Castilla La Mancha</th>\n",
              "      <th>origen_Castilla Leon</th>\n",
              "      <th>origen_Cataluña</th>\n",
              "      <th>origen_Extremadura</th>\n",
              "      <th>origen_Galicia</th>\n",
              "      <th>origen_La Rioja</th>\n",
              "      <th>origen_Madrid</th>\n",
              "      <th>origen_Murcia</th>\n",
              "      <th>origen_Navarra</th>\n",
              "      <th>origen_Pais Vasco</th>\n",
              "      <th>origen_Valencia</th>\n",
              "    </tr>\n",
              "  </thead>\n",
              "  <tbody>\n",
              "    <tr>\n",
              "      <th>287</th>\n",
              "      <td>2018</td>\n",
              "      <td>3</td>\n",
              "      <td>7.97</td>\n",
              "      <td>2.0</td>\n",
              "      <td>6.0</td>\n",
              "      <td>33.0</td>\n",
              "      <td>15.0</td>\n",
              "      <td>25.0</td>\n",
              "      <td>0.0</td>\n",
              "      <td>-2.0</td>\n",
              "      <td>0.600000</td>\n",
              "      <td>231.0</td>\n",
              "      <td>6.0</td>\n",
              "      <td>0.0</td>\n",
              "      <td>0</td>\n",
              "      <td>1</td>\n",
              "      <td>0</td>\n",
              "      <td>0</td>\n",
              "      <td>0</td>\n",
              "      <td>0</td>\n",
              "      <td>0</td>\n",
              "      <td>0</td>\n",
              "      <td>0</td>\n",
              "      <td>0</td>\n",
              "      <td>0</td>\n",
              "      <td>0</td>\n",
              "      <td>0</td>\n",
              "      <td>0</td>\n",
              "      <td>0</td>\n",
              "      <td>0</td>\n",
              "      <td>0</td>\n",
              "      <td>0</td>\n",
              "      <td>0</td>\n",
              "      <td>0</td>\n",
              "      <td>0</td>\n",
              "      <td>0</td>\n",
              "      <td>0</td>\n",
              "      <td>0</td>\n",
              "      <td>0</td>\n",
              "      <td>0</td>\n",
              "      <td>0</td>\n",
              "      <td>0</td>\n",
              "      <td>0</td>\n",
              "      <td>0</td>\n",
              "      <td>0</td>\n",
              "      <td>0</td>\n",
              "      <td>0</td>\n",
              "      <td>0</td>\n",
              "      <td>0</td>\n",
              "      <td>0</td>\n",
              "      <td>0</td>\n",
              "      <td>0</td>\n",
              "      <td>0</td>\n",
              "      <td>0</td>\n",
              "      <td>0</td>\n",
              "      <td>0</td>\n",
              "      <td>0</td>\n",
              "      <td>0</td>\n",
              "      <td>0</td>\n",
              "      <td>0</td>\n",
              "      <td>1</td>\n",
              "      <td>0</td>\n",
              "      <td>0</td>\n",
              "      <td>0</td>\n",
              "      <td>0</td>\n",
              "      <td>0</td>\n",
              "      <td>0</td>\n",
              "    </tr>\n",
              "    <tr>\n",
              "      <th>924</th>\n",
              "      <td>2018</td>\n",
              "      <td>9</td>\n",
              "      <td>20.32</td>\n",
              "      <td>0.0</td>\n",
              "      <td>7.0</td>\n",
              "      <td>30.0</td>\n",
              "      <td>14.0</td>\n",
              "      <td>24.0</td>\n",
              "      <td>0.0</td>\n",
              "      <td>-2.0</td>\n",
              "      <td>3.127511</td>\n",
              "      <td>119580.0</td>\n",
              "      <td>11.0</td>\n",
              "      <td>0.0</td>\n",
              "      <td>1</td>\n",
              "      <td>0</td>\n",
              "      <td>1</td>\n",
              "      <td>0</td>\n",
              "      <td>0</td>\n",
              "      <td>0</td>\n",
              "      <td>0</td>\n",
              "      <td>0</td>\n",
              "      <td>0</td>\n",
              "      <td>0</td>\n",
              "      <td>0</td>\n",
              "      <td>0</td>\n",
              "      <td>0</td>\n",
              "      <td>0</td>\n",
              "      <td>0</td>\n",
              "      <td>0</td>\n",
              "      <td>0</td>\n",
              "      <td>0</td>\n",
              "      <td>0</td>\n",
              "      <td>0</td>\n",
              "      <td>0</td>\n",
              "      <td>0</td>\n",
              "      <td>0</td>\n",
              "      <td>0</td>\n",
              "      <td>0</td>\n",
              "      <td>0</td>\n",
              "      <td>0</td>\n",
              "      <td>0</td>\n",
              "      <td>0</td>\n",
              "      <td>0</td>\n",
              "      <td>0</td>\n",
              "      <td>0</td>\n",
              "      <td>0</td>\n",
              "      <td>0</td>\n",
              "      <td>0</td>\n",
              "      <td>0</td>\n",
              "      <td>0</td>\n",
              "      <td>0</td>\n",
              "      <td>0</td>\n",
              "      <td>0</td>\n",
              "      <td>0</td>\n",
              "      <td>0</td>\n",
              "      <td>0</td>\n",
              "      <td>0</td>\n",
              "      <td>0</td>\n",
              "      <td>0</td>\n",
              "      <td>1</td>\n",
              "      <td>0</td>\n",
              "      <td>0</td>\n",
              "      <td>0</td>\n",
              "      <td>0</td>\n",
              "      <td>0</td>\n",
              "      <td>0</td>\n",
              "    </tr>\n",
              "    <tr>\n",
              "      <th>926</th>\n",
              "      <td>2018</td>\n",
              "      <td>10</td>\n",
              "      <td>14.19</td>\n",
              "      <td>1.0</td>\n",
              "      <td>7.0</td>\n",
              "      <td>30.0</td>\n",
              "      <td>14.0</td>\n",
              "      <td>24.0</td>\n",
              "      <td>1.0</td>\n",
              "      <td>-1.0</td>\n",
              "      <td>2.988657</td>\n",
              "      <td>157130.0</td>\n",
              "      <td>1.0</td>\n",
              "      <td>0.0</td>\n",
              "      <td>1</td>\n",
              "      <td>0</td>\n",
              "      <td>1</td>\n",
              "      <td>0</td>\n",
              "      <td>0</td>\n",
              "      <td>0</td>\n",
              "      <td>0</td>\n",
              "      <td>0</td>\n",
              "      <td>0</td>\n",
              "      <td>0</td>\n",
              "      <td>0</td>\n",
              "      <td>0</td>\n",
              "      <td>0</td>\n",
              "      <td>0</td>\n",
              "      <td>0</td>\n",
              "      <td>0</td>\n",
              "      <td>0</td>\n",
              "      <td>0</td>\n",
              "      <td>0</td>\n",
              "      <td>0</td>\n",
              "      <td>0</td>\n",
              "      <td>0</td>\n",
              "      <td>0</td>\n",
              "      <td>0</td>\n",
              "      <td>0</td>\n",
              "      <td>0</td>\n",
              "      <td>0</td>\n",
              "      <td>0</td>\n",
              "      <td>0</td>\n",
              "      <td>0</td>\n",
              "      <td>0</td>\n",
              "      <td>0</td>\n",
              "      <td>0</td>\n",
              "      <td>0</td>\n",
              "      <td>0</td>\n",
              "      <td>0</td>\n",
              "      <td>0</td>\n",
              "      <td>0</td>\n",
              "      <td>0</td>\n",
              "      <td>0</td>\n",
              "      <td>0</td>\n",
              "      <td>0</td>\n",
              "      <td>0</td>\n",
              "      <td>0</td>\n",
              "      <td>0</td>\n",
              "      <td>0</td>\n",
              "      <td>1</td>\n",
              "      <td>0</td>\n",
              "      <td>0</td>\n",
              "      <td>0</td>\n",
              "      <td>0</td>\n",
              "      <td>0</td>\n",
              "      <td>0</td>\n",
              "    </tr>\n",
              "    <tr>\n",
              "      <th>930</th>\n",
              "      <td>2019</td>\n",
              "      <td>11</td>\n",
              "      <td>10.07</td>\n",
              "      <td>2.0</td>\n",
              "      <td>7.0</td>\n",
              "      <td>30.0</td>\n",
              "      <td>14.0</td>\n",
              "      <td>24.0</td>\n",
              "      <td>2.0</td>\n",
              "      <td>0.0</td>\n",
              "      <td>3.081226</td>\n",
              "      <td>154920.0</td>\n",
              "      <td>3.0</td>\n",
              "      <td>0.0</td>\n",
              "      <td>1</td>\n",
              "      <td>0</td>\n",
              "      <td>1</td>\n",
              "      <td>0</td>\n",
              "      <td>0</td>\n",
              "      <td>0</td>\n",
              "      <td>0</td>\n",
              "      <td>0</td>\n",
              "      <td>0</td>\n",
              "      <td>0</td>\n",
              "      <td>0</td>\n",
              "      <td>0</td>\n",
              "      <td>0</td>\n",
              "      <td>0</td>\n",
              "      <td>0</td>\n",
              "      <td>0</td>\n",
              "      <td>0</td>\n",
              "      <td>0</td>\n",
              "      <td>0</td>\n",
              "      <td>0</td>\n",
              "      <td>0</td>\n",
              "      <td>0</td>\n",
              "      <td>0</td>\n",
              "      <td>0</td>\n",
              "      <td>0</td>\n",
              "      <td>0</td>\n",
              "      <td>0</td>\n",
              "      <td>0</td>\n",
              "      <td>0</td>\n",
              "      <td>0</td>\n",
              "      <td>0</td>\n",
              "      <td>0</td>\n",
              "      <td>0</td>\n",
              "      <td>0</td>\n",
              "      <td>0</td>\n",
              "      <td>0</td>\n",
              "      <td>0</td>\n",
              "      <td>0</td>\n",
              "      <td>0</td>\n",
              "      <td>0</td>\n",
              "      <td>0</td>\n",
              "      <td>0</td>\n",
              "      <td>0</td>\n",
              "      <td>0</td>\n",
              "      <td>0</td>\n",
              "      <td>0</td>\n",
              "      <td>1</td>\n",
              "      <td>0</td>\n",
              "      <td>0</td>\n",
              "      <td>0</td>\n",
              "      <td>0</td>\n",
              "      <td>0</td>\n",
              "      <td>0</td>\n",
              "    </tr>\n",
              "    <tr>\n",
              "      <th>1366</th>\n",
              "      <td>2018</td>\n",
              "      <td>3</td>\n",
              "      <td>7.97</td>\n",
              "      <td>2.0</td>\n",
              "      <td>7.0</td>\n",
              "      <td>29.0</td>\n",
              "      <td>15.0</td>\n",
              "      <td>18.0</td>\n",
              "      <td>0.0</td>\n",
              "      <td>-2.0</td>\n",
              "      <td>1.408372</td>\n",
              "      <td>53380.0</td>\n",
              "      <td>7.0</td>\n",
              "      <td>2.0</td>\n",
              "      <td>1</td>\n",
              "      <td>0</td>\n",
              "      <td>0</td>\n",
              "      <td>1</td>\n",
              "      <td>0</td>\n",
              "      <td>0</td>\n",
              "      <td>0</td>\n",
              "      <td>0</td>\n",
              "      <td>0</td>\n",
              "      <td>0</td>\n",
              "      <td>0</td>\n",
              "      <td>0</td>\n",
              "      <td>0</td>\n",
              "      <td>0</td>\n",
              "      <td>0</td>\n",
              "      <td>0</td>\n",
              "      <td>0</td>\n",
              "      <td>0</td>\n",
              "      <td>0</td>\n",
              "      <td>0</td>\n",
              "      <td>0</td>\n",
              "      <td>0</td>\n",
              "      <td>0</td>\n",
              "      <td>0</td>\n",
              "      <td>0</td>\n",
              "      <td>0</td>\n",
              "      <td>0</td>\n",
              "      <td>0</td>\n",
              "      <td>0</td>\n",
              "      <td>0</td>\n",
              "      <td>0</td>\n",
              "      <td>0</td>\n",
              "      <td>0</td>\n",
              "      <td>0</td>\n",
              "      <td>0</td>\n",
              "      <td>0</td>\n",
              "      <td>0</td>\n",
              "      <td>0</td>\n",
              "      <td>0</td>\n",
              "      <td>0</td>\n",
              "      <td>0</td>\n",
              "      <td>0</td>\n",
              "      <td>0</td>\n",
              "      <td>0</td>\n",
              "      <td>0</td>\n",
              "      <td>0</td>\n",
              "      <td>1</td>\n",
              "      <td>0</td>\n",
              "      <td>0</td>\n",
              "      <td>0</td>\n",
              "      <td>0</td>\n",
              "      <td>0</td>\n",
              "      <td>0</td>\n",
              "    </tr>\n",
              "  </tbody>\n",
              "</table>\n",
              "</div>\n",
              "      <button class=\"colab-df-convert\" onclick=\"convertToInteractive('df-89ff6f4f-a79d-40cd-9473-ab20e56eaccb')\"\n",
              "              title=\"Convert this dataframe to an interactive table.\"\n",
              "              style=\"display:none;\">\n",
              "        \n",
              "  <svg xmlns=\"http://www.w3.org/2000/svg\" height=\"24px\"viewBox=\"0 0 24 24\"\n",
              "       width=\"24px\">\n",
              "    <path d=\"M0 0h24v24H0V0z\" fill=\"none\"/>\n",
              "    <path d=\"M18.56 5.44l.94 2.06.94-2.06 2.06-.94-2.06-.94-.94-2.06-.94 2.06-2.06.94zm-11 1L8.5 8.5l.94-2.06 2.06-.94-2.06-.94L8.5 2.5l-.94 2.06-2.06.94zm10 10l.94 2.06.94-2.06 2.06-.94-2.06-.94-.94-2.06-.94 2.06-2.06.94z\"/><path d=\"M17.41 7.96l-1.37-1.37c-.4-.4-.92-.59-1.43-.59-.52 0-1.04.2-1.43.59L10.3 9.45l-7.72 7.72c-.78.78-.78 2.05 0 2.83L4 21.41c.39.39.9.59 1.41.59.51 0 1.02-.2 1.41-.59l7.78-7.78 2.81-2.81c.8-.78.8-2.07 0-2.86zM5.41 20L4 18.59l7.72-7.72 1.47 1.35L5.41 20z\"/>\n",
              "  </svg>\n",
              "      </button>\n",
              "      \n",
              "  <style>\n",
              "    .colab-df-container {\n",
              "      display:flex;\n",
              "      flex-wrap:wrap;\n",
              "      gap: 12px;\n",
              "    }\n",
              "\n",
              "    .colab-df-convert {\n",
              "      background-color: #E8F0FE;\n",
              "      border: none;\n",
              "      border-radius: 50%;\n",
              "      cursor: pointer;\n",
              "      display: none;\n",
              "      fill: #1967D2;\n",
              "      height: 32px;\n",
              "      padding: 0 0 0 0;\n",
              "      width: 32px;\n",
              "    }\n",
              "\n",
              "    .colab-df-convert:hover {\n",
              "      background-color: #E2EBFA;\n",
              "      box-shadow: 0px 1px 2px rgba(60, 64, 67, 0.3), 0px 1px 3px 1px rgba(60, 64, 67, 0.15);\n",
              "      fill: #174EA6;\n",
              "    }\n",
              "\n",
              "    [theme=dark] .colab-df-convert {\n",
              "      background-color: #3B4455;\n",
              "      fill: #D2E3FC;\n",
              "    }\n",
              "\n",
              "    [theme=dark] .colab-df-convert:hover {\n",
              "      background-color: #434B5C;\n",
              "      box-shadow: 0px 1px 3px 1px rgba(0, 0, 0, 0.15);\n",
              "      filter: drop-shadow(0px 1px 2px rgba(0, 0, 0, 0.3));\n",
              "      fill: #FFFFFF;\n",
              "    }\n",
              "  </style>\n",
              "\n",
              "      <script>\n",
              "        const buttonEl =\n",
              "          document.querySelector('#df-89ff6f4f-a79d-40cd-9473-ab20e56eaccb button.colab-df-convert');\n",
              "        buttonEl.style.display =\n",
              "          google.colab.kernel.accessAllowed ? 'block' : 'none';\n",
              "\n",
              "        async function convertToInteractive(key) {\n",
              "          const element = document.querySelector('#df-89ff6f4f-a79d-40cd-9473-ab20e56eaccb');\n",
              "          const dataTable =\n",
              "            await google.colab.kernel.invokeFunction('convertToInteractive',\n",
              "                                                     [key], {});\n",
              "          if (!dataTable) return;\n",
              "\n",
              "          const docLinkHtml = 'Like what you see? Visit the ' +\n",
              "            '<a target=\"_blank\" href=https://colab.research.google.com/notebooks/data_table.ipynb>data table notebook</a>'\n",
              "            + ' to learn more about interactive tables.';\n",
              "          element.innerHTML = '';\n",
              "          dataTable['output_type'] = 'display_data';\n",
              "          await google.colab.output.renderOutput(dataTable, element);\n",
              "          const docLink = document.createElement('div');\n",
              "          docLink.innerHTML = docLinkHtml;\n",
              "          element.appendChild(docLink);\n",
              "        }\n",
              "      </script>\n",
              "    </div>\n",
              "  </div>\n",
              "  "
            ],
            "text/plain": [
              "      YEAR  MONTH  ...  origen_Pais Vasco  origen_Valencia\n",
              "287   2018      3  ...                  0                0\n",
              "924   2018      9  ...                  0                0\n",
              "926   2018     10  ...                  0                0\n",
              "930   2019     11  ...                  0                0\n",
              "1366  2018      3  ...                  0                0\n",
              "\n",
              "[5 rows x 67 columns]"
            ]
          },
          "metadata": {},
          "execution_count": 30
        }
      ]
    },
    {
      "cell_type": "markdown",
      "source": [
        "Se descartarán las características que no sirvan para el propósito: las de origen de las comunidades, los productos (ya que interesa saber qué factores tienen importancia en general en cada región, no algo dependiente del cultivo), el año, el precio, el volumen vendido y el mes de recolección. También se descartará el campo objetivo construido en el apartado anterior (*rentable*)."
      ],
      "metadata": {
        "id": "LXYmS0Nq_i6J"
      }
    },
    {
      "cell_type": "code",
      "source": [
        "x_features = list(aux.columns)\n",
        "x_features = [ item for item in x_features if 'origen_' not in item]\n",
        "x_features = [ item for item in x_features if 'product_' not in item]\n",
        "x_features.remove('rentable')\n",
        "x_features.remove('YEAR')\n",
        "x_features.remove('price_max_recolec')\n",
        "x_features.remove('Volumen_max_recolec')\n",
        "x_features.remove('MONTH_max_recolec')"
      ],
      "metadata": {
        "id": "RU42wUbZvAYH"
      },
      "execution_count": 31,
      "outputs": []
    },
    {
      "cell_type": "markdown",
      "source": [
        "Cabe destacar que no se hará división entre datos de train y test, sino que se empleará una estrategia de **train vs train**. Esto se debe a que los árboles que se van a obtener son **árboles descriptivos**, y se usarán para describir los datos, y no como modelo de predicción."
      ],
      "metadata": {
        "id": "4663ZOmIAlxE"
      }
    },
    {
      "cell_type": "code",
      "source": [
        "X = aux[x_features]\n",
        "y = aux['price_max_recolec'] # Campo sobre el que se desea ver la influencia"
      ],
      "metadata": {
        "id": "alwWgKgRyWMv"
      },
      "execution_count": 32,
      "outputs": []
    },
    {
      "cell_type": "code",
      "source": [
        "regressor = DecisionTreeRegressor(criterion='mse', random_state=0)\n",
        "regressor.fit(X, y)\n",
        "\n",
        "y_pred = regressor.predict(X = X) # Predicción sobre los propios datos de train"
      ],
      "metadata": {
        "colab": {
          "base_uri": "https://localhost:8080/"
        },
        "id": "Iqy-Dp4Ewtcp",
        "outputId": "07a45a03-db8b-4a12-8757-0e94b7b935fd"
      },
      "execution_count": 33,
      "outputs": [
        {
          "output_type": "stream",
          "name": "stderr",
          "text": [
            "/usr/local/lib/python3.7/dist-packages/sklearn/tree/_classes.py:363: FutureWarning: Criterion 'mse' was deprecated in v1.0 and will be removed in version 1.2. Use `criterion='squared_error'` which is equivalent.\n",
            "  FutureWarning,\n"
          ]
        }
      ]
    },
    {
      "cell_type": "code",
      "source": [
        "print ('Feature Relevances')\n",
        "pd.DataFrame({'Attributes': x_features ,\n",
        "              'Decision Tree': regressor.feature_importances_})"
      ],
      "metadata": {
        "colab": {
          "base_uri": "https://localhost:8080/",
          "height": 380
        },
        "id": "-rHOiTPkypv5",
        "outputId": "c3846076-15cb-4a43-8092-056d02f7ca7e"
      },
      "execution_count": 34,
      "outputs": [
        {
          "output_type": "stream",
          "name": "stdout",
          "text": [
            "Feature Relevances\n"
          ]
        },
        {
          "output_type": "execute_result",
          "data": {
            "text/html": [
              "\n",
              "  <div id=\"df-bcde0670-c81e-4030-94d0-e51d6483e759\">\n",
              "    <div class=\"colab-df-container\">\n",
              "      <div>\n",
              "<style scoped>\n",
              "    .dataframe tbody tr th:only-of-type {\n",
              "        vertical-align: middle;\n",
              "    }\n",
              "\n",
              "    .dataframe tbody tr th {\n",
              "        vertical-align: top;\n",
              "    }\n",
              "\n",
              "    .dataframe thead th {\n",
              "        text-align: right;\n",
              "    }\n",
              "</style>\n",
              "<table border=\"1\" class=\"dataframe\">\n",
              "  <thead>\n",
              "    <tr style=\"text-align: right;\">\n",
              "      <th></th>\n",
              "      <th>Attributes</th>\n",
              "      <th>Decision Tree</th>\n",
              "    </tr>\n",
              "  </thead>\n",
              "  <tbody>\n",
              "    <tr>\n",
              "      <th>0</th>\n",
              "      <td>MONTH</td>\n",
              "      <td>0.076154</td>\n",
              "    </tr>\n",
              "    <tr>\n",
              "      <th>1</th>\n",
              "      <td>temperatura</td>\n",
              "      <td>0.078801</td>\n",
              "    </tr>\n",
              "    <tr>\n",
              "      <th>2</th>\n",
              "      <td>Precipitacion_group</td>\n",
              "      <td>0.016940</td>\n",
              "    </tr>\n",
              "    <tr>\n",
              "      <th>3</th>\n",
              "      <td>Temperatura min req</td>\n",
              "      <td>0.003789</td>\n",
              "    </tr>\n",
              "    <tr>\n",
              "      <th>4</th>\n",
              "      <td>Temperatura max req</td>\n",
              "      <td>0.359900</td>\n",
              "    </tr>\n",
              "    <tr>\n",
              "      <th>5</th>\n",
              "      <td>Temperatura min opt</td>\n",
              "      <td>0.138241</td>\n",
              "    </tr>\n",
              "    <tr>\n",
              "      <th>6</th>\n",
              "      <td>Temperatura max opt</td>\n",
              "      <td>0.146305</td>\n",
              "    </tr>\n",
              "    <tr>\n",
              "      <th>7</th>\n",
              "      <td>distancia_mes_inicio_siem</td>\n",
              "      <td>0.001435</td>\n",
              "    </tr>\n",
              "    <tr>\n",
              "      <th>8</th>\n",
              "      <td>distancia_mes_fin_siem</td>\n",
              "      <td>0.002983</td>\n",
              "    </tr>\n",
              "    <tr>\n",
              "      <th>9</th>\n",
              "      <td>need_humidity_group</td>\n",
              "      <td>0.175452</td>\n",
              "    </tr>\n",
              "  </tbody>\n",
              "</table>\n",
              "</div>\n",
              "      <button class=\"colab-df-convert\" onclick=\"convertToInteractive('df-bcde0670-c81e-4030-94d0-e51d6483e759')\"\n",
              "              title=\"Convert this dataframe to an interactive table.\"\n",
              "              style=\"display:none;\">\n",
              "        \n",
              "  <svg xmlns=\"http://www.w3.org/2000/svg\" height=\"24px\"viewBox=\"0 0 24 24\"\n",
              "       width=\"24px\">\n",
              "    <path d=\"M0 0h24v24H0V0z\" fill=\"none\"/>\n",
              "    <path d=\"M18.56 5.44l.94 2.06.94-2.06 2.06-.94-2.06-.94-.94-2.06-.94 2.06-2.06.94zm-11 1L8.5 8.5l.94-2.06 2.06-.94-2.06-.94L8.5 2.5l-.94 2.06-2.06.94zm10 10l.94 2.06.94-2.06 2.06-.94-2.06-.94-.94-2.06-.94 2.06-2.06.94z\"/><path d=\"M17.41 7.96l-1.37-1.37c-.4-.4-.92-.59-1.43-.59-.52 0-1.04.2-1.43.59L10.3 9.45l-7.72 7.72c-.78.78-.78 2.05 0 2.83L4 21.41c.39.39.9.59 1.41.59.51 0 1.02-.2 1.41-.59l7.78-7.78 2.81-2.81c.8-.78.8-2.07 0-2.86zM5.41 20L4 18.59l7.72-7.72 1.47 1.35L5.41 20z\"/>\n",
              "  </svg>\n",
              "      </button>\n",
              "      \n",
              "  <style>\n",
              "    .colab-df-container {\n",
              "      display:flex;\n",
              "      flex-wrap:wrap;\n",
              "      gap: 12px;\n",
              "    }\n",
              "\n",
              "    .colab-df-convert {\n",
              "      background-color: #E8F0FE;\n",
              "      border: none;\n",
              "      border-radius: 50%;\n",
              "      cursor: pointer;\n",
              "      display: none;\n",
              "      fill: #1967D2;\n",
              "      height: 32px;\n",
              "      padding: 0 0 0 0;\n",
              "      width: 32px;\n",
              "    }\n",
              "\n",
              "    .colab-df-convert:hover {\n",
              "      background-color: #E2EBFA;\n",
              "      box-shadow: 0px 1px 2px rgba(60, 64, 67, 0.3), 0px 1px 3px 1px rgba(60, 64, 67, 0.15);\n",
              "      fill: #174EA6;\n",
              "    }\n",
              "\n",
              "    [theme=dark] .colab-df-convert {\n",
              "      background-color: #3B4455;\n",
              "      fill: #D2E3FC;\n",
              "    }\n",
              "\n",
              "    [theme=dark] .colab-df-convert:hover {\n",
              "      background-color: #434B5C;\n",
              "      box-shadow: 0px 1px 3px 1px rgba(0, 0, 0, 0.15);\n",
              "      filter: drop-shadow(0px 1px 2px rgba(0, 0, 0, 0.3));\n",
              "      fill: #FFFFFF;\n",
              "    }\n",
              "  </style>\n",
              "\n",
              "      <script>\n",
              "        const buttonEl =\n",
              "          document.querySelector('#df-bcde0670-c81e-4030-94d0-e51d6483e759 button.colab-df-convert');\n",
              "        buttonEl.style.display =\n",
              "          google.colab.kernel.accessAllowed ? 'block' : 'none';\n",
              "\n",
              "        async function convertToInteractive(key) {\n",
              "          const element = document.querySelector('#df-bcde0670-c81e-4030-94d0-e51d6483e759');\n",
              "          const dataTable =\n",
              "            await google.colab.kernel.invokeFunction('convertToInteractive',\n",
              "                                                     [key], {});\n",
              "          if (!dataTable) return;\n",
              "\n",
              "          const docLinkHtml = 'Like what you see? Visit the ' +\n",
              "            '<a target=\"_blank\" href=https://colab.research.google.com/notebooks/data_table.ipynb>data table notebook</a>'\n",
              "            + ' to learn more about interactive tables.';\n",
              "          element.innerHTML = '';\n",
              "          dataTable['output_type'] = 'display_data';\n",
              "          await google.colab.output.renderOutput(dataTable, element);\n",
              "          const docLink = document.createElement('div');\n",
              "          docLink.innerHTML = docLinkHtml;\n",
              "          element.appendChild(docLink);\n",
              "        }\n",
              "      </script>\n",
              "    </div>\n",
              "  </div>\n",
              "  "
            ],
            "text/plain": [
              "                  Attributes  Decision Tree\n",
              "0                      MONTH       0.076154\n",
              "1                temperatura       0.078801\n",
              "2        Precipitacion_group       0.016940\n",
              "3        Temperatura min req       0.003789\n",
              "4        Temperatura max req       0.359900\n",
              "5        Temperatura min opt       0.138241\n",
              "6        Temperatura max opt       0.146305\n",
              "7  distancia_mes_inicio_siem       0.001435\n",
              "8     distancia_mes_fin_siem       0.002983\n",
              "9        need_humidity_group       0.175452"
            ]
          },
          "metadata": {},
          "execution_count": 34
        }
      ]
    },
    {
      "cell_type": "code",
      "source": [
        "print (\"MAE:\", metrics.mean_absolute_error(y_pred , y))\n",
        "print (\"MAPE:\", metrics.mean_absolute_percentage_error(y_pred , y))\n",
        "print (\"MSE:\", metrics.mean_squared_error(y_pred , y))\n",
        "print (\"R^2:\", metrics.r2_score(y_pred , y))"
      ],
      "metadata": {
        "colab": {
          "base_uri": "https://localhost:8080/"
        },
        "id": "yYJo4kCcx9I5",
        "outputId": "553f8aca-976f-4d4e-c87b-07f9dc45ab14"
      },
      "execution_count": 35,
      "outputs": [
        {
          "output_type": "stream",
          "name": "stdout",
          "text": [
            "MAE: 0.0\n",
            "MAPE: 0.0\n",
            "MSE: 0.0\n",
            "R^2: 1.0\n"
          ]
        }
      ]
    },
    {
      "cell_type": "markdown",
      "source": [
        "Como se puede apreciar, el error de predicción es bajísimo, por lo que podemos concluir que los datos no tienen mucho ruido/distorsiones y el modelo describe correctamente el fenómeno."
      ],
      "metadata": {
        "id": "eV5t6xdIBoEt"
      }
    },
    {
      "cell_type": "markdown",
      "source": [
        "#### 4.1.2 Castilla - La Mancha"
      ],
      "metadata": {
        "id": "dH_zL6l-8CbT"
      }
    },
    {
      "cell_type": "code",
      "source": [
        "# Filtrar dataframe por la región elegida\n",
        "aux = agroanalisis[agroanalisis['origen_Castilla La Mancha'] == 1]\n",
        "aux.head()"
      ],
      "metadata": {
        "colab": {
          "base_uri": "https://localhost:8080/",
          "height": 288
        },
        "id": "GinHSmt40JAh",
        "outputId": "1ce52aca-06e3-4fa3-b68f-1a6a6dd4abc0"
      },
      "execution_count": 36,
      "outputs": [
        {
          "output_type": "execute_result",
          "data": {
            "text/html": [
              "\n",
              "  <div id=\"df-79ce5ea6-a8f4-4ca6-bfab-1d07c286896a\">\n",
              "    <div class=\"colab-df-container\">\n",
              "      <div>\n",
              "<style scoped>\n",
              "    .dataframe tbody tr th:only-of-type {\n",
              "        vertical-align: middle;\n",
              "    }\n",
              "\n",
              "    .dataframe tbody tr th {\n",
              "        vertical-align: top;\n",
              "    }\n",
              "\n",
              "    .dataframe thead th {\n",
              "        text-align: right;\n",
              "    }\n",
              "</style>\n",
              "<table border=\"1\" class=\"dataframe\">\n",
              "  <thead>\n",
              "    <tr style=\"text-align: right;\">\n",
              "      <th></th>\n",
              "      <th>YEAR</th>\n",
              "      <th>MONTH</th>\n",
              "      <th>temperatura</th>\n",
              "      <th>Precipitacion_group</th>\n",
              "      <th>Temperatura min req</th>\n",
              "      <th>Temperatura max req</th>\n",
              "      <th>Temperatura min opt</th>\n",
              "      <th>Temperatura max opt</th>\n",
              "      <th>distancia_mes_inicio_siem</th>\n",
              "      <th>distancia_mes_fin_siem</th>\n",
              "      <th>price_max_recolec</th>\n",
              "      <th>Volumen_max_recolec</th>\n",
              "      <th>MONTH_max_recolec</th>\n",
              "      <th>need_humidity_group</th>\n",
              "      <th>rentable</th>\n",
              "      <th>product_ACELGA</th>\n",
              "      <th>product_AJO</th>\n",
              "      <th>product_ALCACHOFA</th>\n",
              "      <th>product_APIO</th>\n",
              "      <th>product_BERENJENA</th>\n",
              "      <th>product_BROCOLI</th>\n",
              "      <th>product_CALABACIN</th>\n",
              "      <th>product_CALABAZA</th>\n",
              "      <th>product_CEBOLLA</th>\n",
              "      <th>product_CEBOLLETA</th>\n",
              "      <th>product_CHIRIVIA</th>\n",
              "      <th>product_COL BRUSELAS</th>\n",
              "      <th>product_COL CHINA</th>\n",
              "      <th>product_COL LOMBARDA</th>\n",
              "      <th>product_COL REPOLLO</th>\n",
              "      <th>product_COLIFLOR</th>\n",
              "      <th>product_ESCAROLA</th>\n",
              "      <th>product_ESPINACA</th>\n",
              "      <th>product_GUISANTE</th>\n",
              "      <th>product_HABA</th>\n",
              "      <th>product_JUDIA</th>\n",
              "      <th>product_LECHUGA</th>\n",
              "      <th>product_MAIZ</th>\n",
              "      <th>product_MELON</th>\n",
              "      <th>product_NABO</th>\n",
              "      <th>product_PATATA</th>\n",
              "      <th>product_PEPINO</th>\n",
              "      <th>product_PEREJIL</th>\n",
              "      <th>product_PIMIENTO</th>\n",
              "      <th>product_PUERRO</th>\n",
              "      <th>product_RABANITO</th>\n",
              "      <th>product_REMOLACHA</th>\n",
              "      <th>product_SANDIA</th>\n",
              "      <th>product_TOMATE</th>\n",
              "      <th>product_ZANAHORIA</th>\n",
              "      <th>origen_Andalucia</th>\n",
              "      <th>origen_Aragon</th>\n",
              "      <th>origen_Asturias</th>\n",
              "      <th>origen_Baleares</th>\n",
              "      <th>origen_Canarias</th>\n",
              "      <th>origen_Cantabria</th>\n",
              "      <th>origen_Castilla La Mancha</th>\n",
              "      <th>origen_Castilla Leon</th>\n",
              "      <th>origen_Cataluña</th>\n",
              "      <th>origen_Extremadura</th>\n",
              "      <th>origen_Galicia</th>\n",
              "      <th>origen_La Rioja</th>\n",
              "      <th>origen_Madrid</th>\n",
              "      <th>origen_Murcia</th>\n",
              "      <th>origen_Navarra</th>\n",
              "      <th>origen_Pais Vasco</th>\n",
              "      <th>origen_Valencia</th>\n",
              "    </tr>\n",
              "  </thead>\n",
              "  <tbody>\n",
              "    <tr>\n",
              "      <th>87</th>\n",
              "      <td>2018</td>\n",
              "      <td>3</td>\n",
              "      <td>7.66</td>\n",
              "      <td>1.0</td>\n",
              "      <td>6.0</td>\n",
              "      <td>33.0</td>\n",
              "      <td>15.0</td>\n",
              "      <td>25.0</td>\n",
              "      <td>0.0</td>\n",
              "      <td>-2.0</td>\n",
              "      <td>1.120000</td>\n",
              "      <td>248740.0</td>\n",
              "      <td>6.0</td>\n",
              "      <td>0.0</td>\n",
              "      <td>0</td>\n",
              "      <td>1</td>\n",
              "      <td>0</td>\n",
              "      <td>0</td>\n",
              "      <td>0</td>\n",
              "      <td>0</td>\n",
              "      <td>0</td>\n",
              "      <td>0</td>\n",
              "      <td>0</td>\n",
              "      <td>0</td>\n",
              "      <td>0</td>\n",
              "      <td>0</td>\n",
              "      <td>0</td>\n",
              "      <td>0</td>\n",
              "      <td>0</td>\n",
              "      <td>0</td>\n",
              "      <td>0</td>\n",
              "      <td>0</td>\n",
              "      <td>0</td>\n",
              "      <td>0</td>\n",
              "      <td>0</td>\n",
              "      <td>0</td>\n",
              "      <td>0</td>\n",
              "      <td>0</td>\n",
              "      <td>0</td>\n",
              "      <td>0</td>\n",
              "      <td>0</td>\n",
              "      <td>0</td>\n",
              "      <td>0</td>\n",
              "      <td>0</td>\n",
              "      <td>0</td>\n",
              "      <td>0</td>\n",
              "      <td>0</td>\n",
              "      <td>0</td>\n",
              "      <td>0</td>\n",
              "      <td>0</td>\n",
              "      <td>0</td>\n",
              "      <td>0</td>\n",
              "      <td>0</td>\n",
              "      <td>0</td>\n",
              "      <td>0</td>\n",
              "      <td>0</td>\n",
              "      <td>1</td>\n",
              "      <td>0</td>\n",
              "      <td>0</td>\n",
              "      <td>0</td>\n",
              "      <td>0</td>\n",
              "      <td>0</td>\n",
              "      <td>0</td>\n",
              "      <td>0</td>\n",
              "      <td>0</td>\n",
              "      <td>0</td>\n",
              "      <td>0</td>\n",
              "    </tr>\n",
              "    <tr>\n",
              "      <th>89</th>\n",
              "      <td>2018</td>\n",
              "      <td>4</td>\n",
              "      <td>11.85</td>\n",
              "      <td>0.0</td>\n",
              "      <td>6.0</td>\n",
              "      <td>33.0</td>\n",
              "      <td>15.0</td>\n",
              "      <td>25.0</td>\n",
              "      <td>1.0</td>\n",
              "      <td>-1.0</td>\n",
              "      <td>0.776190</td>\n",
              "      <td>50195.0</td>\n",
              "      <td>7.0</td>\n",
              "      <td>0.0</td>\n",
              "      <td>0</td>\n",
              "      <td>1</td>\n",
              "      <td>0</td>\n",
              "      <td>0</td>\n",
              "      <td>0</td>\n",
              "      <td>0</td>\n",
              "      <td>0</td>\n",
              "      <td>0</td>\n",
              "      <td>0</td>\n",
              "      <td>0</td>\n",
              "      <td>0</td>\n",
              "      <td>0</td>\n",
              "      <td>0</td>\n",
              "      <td>0</td>\n",
              "      <td>0</td>\n",
              "      <td>0</td>\n",
              "      <td>0</td>\n",
              "      <td>0</td>\n",
              "      <td>0</td>\n",
              "      <td>0</td>\n",
              "      <td>0</td>\n",
              "      <td>0</td>\n",
              "      <td>0</td>\n",
              "      <td>0</td>\n",
              "      <td>0</td>\n",
              "      <td>0</td>\n",
              "      <td>0</td>\n",
              "      <td>0</td>\n",
              "      <td>0</td>\n",
              "      <td>0</td>\n",
              "      <td>0</td>\n",
              "      <td>0</td>\n",
              "      <td>0</td>\n",
              "      <td>0</td>\n",
              "      <td>0</td>\n",
              "      <td>0</td>\n",
              "      <td>0</td>\n",
              "      <td>0</td>\n",
              "      <td>0</td>\n",
              "      <td>0</td>\n",
              "      <td>0</td>\n",
              "      <td>0</td>\n",
              "      <td>1</td>\n",
              "      <td>0</td>\n",
              "      <td>0</td>\n",
              "      <td>0</td>\n",
              "      <td>0</td>\n",
              "      <td>0</td>\n",
              "      <td>0</td>\n",
              "      <td>0</td>\n",
              "      <td>0</td>\n",
              "      <td>0</td>\n",
              "      <td>0</td>\n",
              "    </tr>\n",
              "    <tr>\n",
              "      <th>91</th>\n",
              "      <td>2018</td>\n",
              "      <td>5</td>\n",
              "      <td>15.45</td>\n",
              "      <td>0.0</td>\n",
              "      <td>6.0</td>\n",
              "      <td>33.0</td>\n",
              "      <td>15.0</td>\n",
              "      <td>25.0</td>\n",
              "      <td>2.0</td>\n",
              "      <td>0.0</td>\n",
              "      <td>0.559091</td>\n",
              "      <td>134190.0</td>\n",
              "      <td>8.0</td>\n",
              "      <td>0.0</td>\n",
              "      <td>0</td>\n",
              "      <td>1</td>\n",
              "      <td>0</td>\n",
              "      <td>0</td>\n",
              "      <td>0</td>\n",
              "      <td>0</td>\n",
              "      <td>0</td>\n",
              "      <td>0</td>\n",
              "      <td>0</td>\n",
              "      <td>0</td>\n",
              "      <td>0</td>\n",
              "      <td>0</td>\n",
              "      <td>0</td>\n",
              "      <td>0</td>\n",
              "      <td>0</td>\n",
              "      <td>0</td>\n",
              "      <td>0</td>\n",
              "      <td>0</td>\n",
              "      <td>0</td>\n",
              "      <td>0</td>\n",
              "      <td>0</td>\n",
              "      <td>0</td>\n",
              "      <td>0</td>\n",
              "      <td>0</td>\n",
              "      <td>0</td>\n",
              "      <td>0</td>\n",
              "      <td>0</td>\n",
              "      <td>0</td>\n",
              "      <td>0</td>\n",
              "      <td>0</td>\n",
              "      <td>0</td>\n",
              "      <td>0</td>\n",
              "      <td>0</td>\n",
              "      <td>0</td>\n",
              "      <td>0</td>\n",
              "      <td>0</td>\n",
              "      <td>0</td>\n",
              "      <td>0</td>\n",
              "      <td>0</td>\n",
              "      <td>0</td>\n",
              "      <td>0</td>\n",
              "      <td>0</td>\n",
              "      <td>1</td>\n",
              "      <td>0</td>\n",
              "      <td>0</td>\n",
              "      <td>0</td>\n",
              "      <td>0</td>\n",
              "      <td>0</td>\n",
              "      <td>0</td>\n",
              "      <td>0</td>\n",
              "      <td>0</td>\n",
              "      <td>0</td>\n",
              "      <td>0</td>\n",
              "    </tr>\n",
              "    <tr>\n",
              "      <th>100</th>\n",
              "      <td>2018</td>\n",
              "      <td>10</td>\n",
              "      <td>14.23</td>\n",
              "      <td>0.0</td>\n",
              "      <td>6.0</td>\n",
              "      <td>33.0</td>\n",
              "      <td>15.0</td>\n",
              "      <td>25.0</td>\n",
              "      <td>1.0</td>\n",
              "      <td>-1.0</td>\n",
              "      <td>0.890476</td>\n",
              "      <td>113425.0</td>\n",
              "      <td>1.0</td>\n",
              "      <td>0.0</td>\n",
              "      <td>0</td>\n",
              "      <td>1</td>\n",
              "      <td>0</td>\n",
              "      <td>0</td>\n",
              "      <td>0</td>\n",
              "      <td>0</td>\n",
              "      <td>0</td>\n",
              "      <td>0</td>\n",
              "      <td>0</td>\n",
              "      <td>0</td>\n",
              "      <td>0</td>\n",
              "      <td>0</td>\n",
              "      <td>0</td>\n",
              "      <td>0</td>\n",
              "      <td>0</td>\n",
              "      <td>0</td>\n",
              "      <td>0</td>\n",
              "      <td>0</td>\n",
              "      <td>0</td>\n",
              "      <td>0</td>\n",
              "      <td>0</td>\n",
              "      <td>0</td>\n",
              "      <td>0</td>\n",
              "      <td>0</td>\n",
              "      <td>0</td>\n",
              "      <td>0</td>\n",
              "      <td>0</td>\n",
              "      <td>0</td>\n",
              "      <td>0</td>\n",
              "      <td>0</td>\n",
              "      <td>0</td>\n",
              "      <td>0</td>\n",
              "      <td>0</td>\n",
              "      <td>0</td>\n",
              "      <td>0</td>\n",
              "      <td>0</td>\n",
              "      <td>0</td>\n",
              "      <td>0</td>\n",
              "      <td>0</td>\n",
              "      <td>0</td>\n",
              "      <td>0</td>\n",
              "      <td>0</td>\n",
              "      <td>1</td>\n",
              "      <td>0</td>\n",
              "      <td>0</td>\n",
              "      <td>0</td>\n",
              "      <td>0</td>\n",
              "      <td>0</td>\n",
              "      <td>0</td>\n",
              "      <td>0</td>\n",
              "      <td>0</td>\n",
              "      <td>0</td>\n",
              "      <td>0</td>\n",
              "    </tr>\n",
              "    <tr>\n",
              "      <th>102</th>\n",
              "      <td>2018</td>\n",
              "      <td>11</td>\n",
              "      <td>9.23</td>\n",
              "      <td>0.0</td>\n",
              "      <td>6.0</td>\n",
              "      <td>33.0</td>\n",
              "      <td>15.0</td>\n",
              "      <td>25.0</td>\n",
              "      <td>2.0</td>\n",
              "      <td>0.0</td>\n",
              "      <td>0.707895</td>\n",
              "      <td>107030.0</td>\n",
              "      <td>2.0</td>\n",
              "      <td>0.0</td>\n",
              "      <td>0</td>\n",
              "      <td>1</td>\n",
              "      <td>0</td>\n",
              "      <td>0</td>\n",
              "      <td>0</td>\n",
              "      <td>0</td>\n",
              "      <td>0</td>\n",
              "      <td>0</td>\n",
              "      <td>0</td>\n",
              "      <td>0</td>\n",
              "      <td>0</td>\n",
              "      <td>0</td>\n",
              "      <td>0</td>\n",
              "      <td>0</td>\n",
              "      <td>0</td>\n",
              "      <td>0</td>\n",
              "      <td>0</td>\n",
              "      <td>0</td>\n",
              "      <td>0</td>\n",
              "      <td>0</td>\n",
              "      <td>0</td>\n",
              "      <td>0</td>\n",
              "      <td>0</td>\n",
              "      <td>0</td>\n",
              "      <td>0</td>\n",
              "      <td>0</td>\n",
              "      <td>0</td>\n",
              "      <td>0</td>\n",
              "      <td>0</td>\n",
              "      <td>0</td>\n",
              "      <td>0</td>\n",
              "      <td>0</td>\n",
              "      <td>0</td>\n",
              "      <td>0</td>\n",
              "      <td>0</td>\n",
              "      <td>0</td>\n",
              "      <td>0</td>\n",
              "      <td>0</td>\n",
              "      <td>0</td>\n",
              "      <td>0</td>\n",
              "      <td>0</td>\n",
              "      <td>0</td>\n",
              "      <td>1</td>\n",
              "      <td>0</td>\n",
              "      <td>0</td>\n",
              "      <td>0</td>\n",
              "      <td>0</td>\n",
              "      <td>0</td>\n",
              "      <td>0</td>\n",
              "      <td>0</td>\n",
              "      <td>0</td>\n",
              "      <td>0</td>\n",
              "      <td>0</td>\n",
              "    </tr>\n",
              "  </tbody>\n",
              "</table>\n",
              "</div>\n",
              "      <button class=\"colab-df-convert\" onclick=\"convertToInteractive('df-79ce5ea6-a8f4-4ca6-bfab-1d07c286896a')\"\n",
              "              title=\"Convert this dataframe to an interactive table.\"\n",
              "              style=\"display:none;\">\n",
              "        \n",
              "  <svg xmlns=\"http://www.w3.org/2000/svg\" height=\"24px\"viewBox=\"0 0 24 24\"\n",
              "       width=\"24px\">\n",
              "    <path d=\"M0 0h24v24H0V0z\" fill=\"none\"/>\n",
              "    <path d=\"M18.56 5.44l.94 2.06.94-2.06 2.06-.94-2.06-.94-.94-2.06-.94 2.06-2.06.94zm-11 1L8.5 8.5l.94-2.06 2.06-.94-2.06-.94L8.5 2.5l-.94 2.06-2.06.94zm10 10l.94 2.06.94-2.06 2.06-.94-2.06-.94-.94-2.06-.94 2.06-2.06.94z\"/><path d=\"M17.41 7.96l-1.37-1.37c-.4-.4-.92-.59-1.43-.59-.52 0-1.04.2-1.43.59L10.3 9.45l-7.72 7.72c-.78.78-.78 2.05 0 2.83L4 21.41c.39.39.9.59 1.41.59.51 0 1.02-.2 1.41-.59l7.78-7.78 2.81-2.81c.8-.78.8-2.07 0-2.86zM5.41 20L4 18.59l7.72-7.72 1.47 1.35L5.41 20z\"/>\n",
              "  </svg>\n",
              "      </button>\n",
              "      \n",
              "  <style>\n",
              "    .colab-df-container {\n",
              "      display:flex;\n",
              "      flex-wrap:wrap;\n",
              "      gap: 12px;\n",
              "    }\n",
              "\n",
              "    .colab-df-convert {\n",
              "      background-color: #E8F0FE;\n",
              "      border: none;\n",
              "      border-radius: 50%;\n",
              "      cursor: pointer;\n",
              "      display: none;\n",
              "      fill: #1967D2;\n",
              "      height: 32px;\n",
              "      padding: 0 0 0 0;\n",
              "      width: 32px;\n",
              "    }\n",
              "\n",
              "    .colab-df-convert:hover {\n",
              "      background-color: #E2EBFA;\n",
              "      box-shadow: 0px 1px 2px rgba(60, 64, 67, 0.3), 0px 1px 3px 1px rgba(60, 64, 67, 0.15);\n",
              "      fill: #174EA6;\n",
              "    }\n",
              "\n",
              "    [theme=dark] .colab-df-convert {\n",
              "      background-color: #3B4455;\n",
              "      fill: #D2E3FC;\n",
              "    }\n",
              "\n",
              "    [theme=dark] .colab-df-convert:hover {\n",
              "      background-color: #434B5C;\n",
              "      box-shadow: 0px 1px 3px 1px rgba(0, 0, 0, 0.15);\n",
              "      filter: drop-shadow(0px 1px 2px rgba(0, 0, 0, 0.3));\n",
              "      fill: #FFFFFF;\n",
              "    }\n",
              "  </style>\n",
              "\n",
              "      <script>\n",
              "        const buttonEl =\n",
              "          document.querySelector('#df-79ce5ea6-a8f4-4ca6-bfab-1d07c286896a button.colab-df-convert');\n",
              "        buttonEl.style.display =\n",
              "          google.colab.kernel.accessAllowed ? 'block' : 'none';\n",
              "\n",
              "        async function convertToInteractive(key) {\n",
              "          const element = document.querySelector('#df-79ce5ea6-a8f4-4ca6-bfab-1d07c286896a');\n",
              "          const dataTable =\n",
              "            await google.colab.kernel.invokeFunction('convertToInteractive',\n",
              "                                                     [key], {});\n",
              "          if (!dataTable) return;\n",
              "\n",
              "          const docLinkHtml = 'Like what you see? Visit the ' +\n",
              "            '<a target=\"_blank\" href=https://colab.research.google.com/notebooks/data_table.ipynb>data table notebook</a>'\n",
              "            + ' to learn more about interactive tables.';\n",
              "          element.innerHTML = '';\n",
              "          dataTable['output_type'] = 'display_data';\n",
              "          await google.colab.output.renderOutput(dataTable, element);\n",
              "          const docLink = document.createElement('div');\n",
              "          docLink.innerHTML = docLinkHtml;\n",
              "          element.appendChild(docLink);\n",
              "        }\n",
              "      </script>\n",
              "    </div>\n",
              "  </div>\n",
              "  "
            ],
            "text/plain": [
              "     YEAR  MONTH  ...  origen_Pais Vasco  origen_Valencia\n",
              "87   2018      3  ...                  0                0\n",
              "89   2018      4  ...                  0                0\n",
              "91   2018      5  ...                  0                0\n",
              "100  2018     10  ...                  0                0\n",
              "102  2018     11  ...                  0                0\n",
              "\n",
              "[5 rows x 67 columns]"
            ]
          },
          "metadata": {},
          "execution_count": 36
        }
      ]
    },
    {
      "cell_type": "markdown",
      "source": [
        "Se descartarán las mismas características que en el apartado anterior."
      ],
      "metadata": {
        "id": "5RrRw7L9CpXD"
      }
    },
    {
      "cell_type": "code",
      "source": [
        "x_features = list(aux.columns)\n",
        "x_features = [ item for item in x_features if 'origen_' not in item]\n",
        "x_features = [ item for item in x_features if 'product_' not in item]\n",
        "x_features.remove('rentable')\n",
        "x_features.remove('YEAR')\n",
        "x_features.remove('price_max_recolec')\n",
        "x_features.remove('Volumen_max_recolec')\n",
        "x_features.remove('MONTH_max_recolec')"
      ],
      "metadata": {
        "id": "Up8uUViU0UUC"
      },
      "execution_count": 37,
      "outputs": []
    },
    {
      "cell_type": "code",
      "source": [
        "X = aux[x_features]\n",
        "y = aux['price_max_recolec'] # Campo sobre el que se desea ver la influencia"
      ],
      "metadata": {
        "id": "HpvhvPfL0U5C"
      },
      "execution_count": 38,
      "outputs": []
    },
    {
      "cell_type": "code",
      "source": [
        "regressor = DecisionTreeRegressor(criterion='mse', random_state=0)\n",
        "regressor.fit(X, y)\n",
        "\n",
        "y_pred = regressor.predict(X = X)"
      ],
      "metadata": {
        "colab": {
          "base_uri": "https://localhost:8080/"
        },
        "id": "ybp-Vb4Z0YBn",
        "outputId": "650af58f-efed-416d-9695-395c702c8d29"
      },
      "execution_count": 39,
      "outputs": [
        {
          "output_type": "stream",
          "name": "stderr",
          "text": [
            "/usr/local/lib/python3.7/dist-packages/sklearn/tree/_classes.py:363: FutureWarning: Criterion 'mse' was deprecated in v1.0 and will be removed in version 1.2. Use `criterion='squared_error'` which is equivalent.\n",
            "  FutureWarning,\n"
          ]
        }
      ]
    },
    {
      "cell_type": "code",
      "source": [
        "print ('Feature Relevances')\n",
        "pd.DataFrame({'Attributes': x_features ,\n",
        "              'Decision Tree': regressor.feature_importances_})"
      ],
      "metadata": {
        "colab": {
          "base_uri": "https://localhost:8080/",
          "height": 380
        },
        "id": "4fZaPozB0a8x",
        "outputId": "905770ac-60a5-49ae-c377-6907bd99d176"
      },
      "execution_count": 40,
      "outputs": [
        {
          "output_type": "stream",
          "name": "stdout",
          "text": [
            "Feature Relevances\n"
          ]
        },
        {
          "output_type": "execute_result",
          "data": {
            "text/html": [
              "\n",
              "  <div id=\"df-acfa1c51-4a56-4577-b703-d2f2e0cc9d58\">\n",
              "    <div class=\"colab-df-container\">\n",
              "      <div>\n",
              "<style scoped>\n",
              "    .dataframe tbody tr th:only-of-type {\n",
              "        vertical-align: middle;\n",
              "    }\n",
              "\n",
              "    .dataframe tbody tr th {\n",
              "        vertical-align: top;\n",
              "    }\n",
              "\n",
              "    .dataframe thead th {\n",
              "        text-align: right;\n",
              "    }\n",
              "</style>\n",
              "<table border=\"1\" class=\"dataframe\">\n",
              "  <thead>\n",
              "    <tr style=\"text-align: right;\">\n",
              "      <th></th>\n",
              "      <th>Attributes</th>\n",
              "      <th>Decision Tree</th>\n",
              "    </tr>\n",
              "  </thead>\n",
              "  <tbody>\n",
              "    <tr>\n",
              "      <th>0</th>\n",
              "      <td>MONTH</td>\n",
              "      <td>0.114665</td>\n",
              "    </tr>\n",
              "    <tr>\n",
              "      <th>1</th>\n",
              "      <td>temperatura</td>\n",
              "      <td>0.077658</td>\n",
              "    </tr>\n",
              "    <tr>\n",
              "      <th>2</th>\n",
              "      <td>Precipitacion_group</td>\n",
              "      <td>0.007806</td>\n",
              "    </tr>\n",
              "    <tr>\n",
              "      <th>3</th>\n",
              "      <td>Temperatura min req</td>\n",
              "      <td>0.426042</td>\n",
              "    </tr>\n",
              "    <tr>\n",
              "      <th>4</th>\n",
              "      <td>Temperatura max req</td>\n",
              "      <td>0.092111</td>\n",
              "    </tr>\n",
              "    <tr>\n",
              "      <th>5</th>\n",
              "      <td>Temperatura min opt</td>\n",
              "      <td>0.166185</td>\n",
              "    </tr>\n",
              "    <tr>\n",
              "      <th>6</th>\n",
              "      <td>Temperatura max opt</td>\n",
              "      <td>0.104534</td>\n",
              "    </tr>\n",
              "    <tr>\n",
              "      <th>7</th>\n",
              "      <td>distancia_mes_inicio_siem</td>\n",
              "      <td>0.006085</td>\n",
              "    </tr>\n",
              "    <tr>\n",
              "      <th>8</th>\n",
              "      <td>distancia_mes_fin_siem</td>\n",
              "      <td>0.001326</td>\n",
              "    </tr>\n",
              "    <tr>\n",
              "      <th>9</th>\n",
              "      <td>need_humidity_group</td>\n",
              "      <td>0.003588</td>\n",
              "    </tr>\n",
              "  </tbody>\n",
              "</table>\n",
              "</div>\n",
              "      <button class=\"colab-df-convert\" onclick=\"convertToInteractive('df-acfa1c51-4a56-4577-b703-d2f2e0cc9d58')\"\n",
              "              title=\"Convert this dataframe to an interactive table.\"\n",
              "              style=\"display:none;\">\n",
              "        \n",
              "  <svg xmlns=\"http://www.w3.org/2000/svg\" height=\"24px\"viewBox=\"0 0 24 24\"\n",
              "       width=\"24px\">\n",
              "    <path d=\"M0 0h24v24H0V0z\" fill=\"none\"/>\n",
              "    <path d=\"M18.56 5.44l.94 2.06.94-2.06 2.06-.94-2.06-.94-.94-2.06-.94 2.06-2.06.94zm-11 1L8.5 8.5l.94-2.06 2.06-.94-2.06-.94L8.5 2.5l-.94 2.06-2.06.94zm10 10l.94 2.06.94-2.06 2.06-.94-2.06-.94-.94-2.06-.94 2.06-2.06.94z\"/><path d=\"M17.41 7.96l-1.37-1.37c-.4-.4-.92-.59-1.43-.59-.52 0-1.04.2-1.43.59L10.3 9.45l-7.72 7.72c-.78.78-.78 2.05 0 2.83L4 21.41c.39.39.9.59 1.41.59.51 0 1.02-.2 1.41-.59l7.78-7.78 2.81-2.81c.8-.78.8-2.07 0-2.86zM5.41 20L4 18.59l7.72-7.72 1.47 1.35L5.41 20z\"/>\n",
              "  </svg>\n",
              "      </button>\n",
              "      \n",
              "  <style>\n",
              "    .colab-df-container {\n",
              "      display:flex;\n",
              "      flex-wrap:wrap;\n",
              "      gap: 12px;\n",
              "    }\n",
              "\n",
              "    .colab-df-convert {\n",
              "      background-color: #E8F0FE;\n",
              "      border: none;\n",
              "      border-radius: 50%;\n",
              "      cursor: pointer;\n",
              "      display: none;\n",
              "      fill: #1967D2;\n",
              "      height: 32px;\n",
              "      padding: 0 0 0 0;\n",
              "      width: 32px;\n",
              "    }\n",
              "\n",
              "    .colab-df-convert:hover {\n",
              "      background-color: #E2EBFA;\n",
              "      box-shadow: 0px 1px 2px rgba(60, 64, 67, 0.3), 0px 1px 3px 1px rgba(60, 64, 67, 0.15);\n",
              "      fill: #174EA6;\n",
              "    }\n",
              "\n",
              "    [theme=dark] .colab-df-convert {\n",
              "      background-color: #3B4455;\n",
              "      fill: #D2E3FC;\n",
              "    }\n",
              "\n",
              "    [theme=dark] .colab-df-convert:hover {\n",
              "      background-color: #434B5C;\n",
              "      box-shadow: 0px 1px 3px 1px rgba(0, 0, 0, 0.15);\n",
              "      filter: drop-shadow(0px 1px 2px rgba(0, 0, 0, 0.3));\n",
              "      fill: #FFFFFF;\n",
              "    }\n",
              "  </style>\n",
              "\n",
              "      <script>\n",
              "        const buttonEl =\n",
              "          document.querySelector('#df-acfa1c51-4a56-4577-b703-d2f2e0cc9d58 button.colab-df-convert');\n",
              "        buttonEl.style.display =\n",
              "          google.colab.kernel.accessAllowed ? 'block' : 'none';\n",
              "\n",
              "        async function convertToInteractive(key) {\n",
              "          const element = document.querySelector('#df-acfa1c51-4a56-4577-b703-d2f2e0cc9d58');\n",
              "          const dataTable =\n",
              "            await google.colab.kernel.invokeFunction('convertToInteractive',\n",
              "                                                     [key], {});\n",
              "          if (!dataTable) return;\n",
              "\n",
              "          const docLinkHtml = 'Like what you see? Visit the ' +\n",
              "            '<a target=\"_blank\" href=https://colab.research.google.com/notebooks/data_table.ipynb>data table notebook</a>'\n",
              "            + ' to learn more about interactive tables.';\n",
              "          element.innerHTML = '';\n",
              "          dataTable['output_type'] = 'display_data';\n",
              "          await google.colab.output.renderOutput(dataTable, element);\n",
              "          const docLink = document.createElement('div');\n",
              "          docLink.innerHTML = docLinkHtml;\n",
              "          element.appendChild(docLink);\n",
              "        }\n",
              "      </script>\n",
              "    </div>\n",
              "  </div>\n",
              "  "
            ],
            "text/plain": [
              "                  Attributes  Decision Tree\n",
              "0                      MONTH       0.114665\n",
              "1                temperatura       0.077658\n",
              "2        Precipitacion_group       0.007806\n",
              "3        Temperatura min req       0.426042\n",
              "4        Temperatura max req       0.092111\n",
              "5        Temperatura min opt       0.166185\n",
              "6        Temperatura max opt       0.104534\n",
              "7  distancia_mes_inicio_siem       0.006085\n",
              "8     distancia_mes_fin_siem       0.001326\n",
              "9        need_humidity_group       0.003588"
            ]
          },
          "metadata": {},
          "execution_count": 40
        }
      ]
    },
    {
      "cell_type": "code",
      "source": [
        "print (\"MAE:\", metrics.mean_absolute_error(y_pred , y))\n",
        "print (\"MAPE:\", metrics.mean_absolute_percentage_error(y_pred , y))\n",
        "print (\"MSE:\", metrics.mean_squared_error(y_pred , y))\n",
        "print (\"R^2:\", metrics.r2_score(y_pred , y))"
      ],
      "metadata": {
        "colab": {
          "base_uri": "https://localhost:8080/"
        },
        "id": "Phg8quog0gCA",
        "outputId": "5a0ac4c9-91e2-41be-a51a-b9d61d253bea"
      },
      "execution_count": 41,
      "outputs": [
        {
          "output_type": "stream",
          "name": "stdout",
          "text": [
            "MAE: 0.0\n",
            "MAPE: 0.0\n",
            "MSE: 0.0\n",
            "R^2: 1.0\n"
          ]
        }
      ]
    },
    {
      "cell_type": "markdown",
      "source": [
        "De nuevo el error es bajísimo, por lo que el modelo describe correctamente el fenómeno."
      ],
      "metadata": {
        "id": "jnq0RJJaCz-d"
      }
    },
    {
      "cell_type": "markdown",
      "source": [
        "#### 4.1.3 Andalucía"
      ],
      "metadata": {
        "id": "Cy9Jajsy8JGR"
      }
    },
    {
      "cell_type": "code",
      "source": [
        "aux = agroanalisis[agroanalisis['origen_Andalucia'] == 1]\n",
        "aux.head()"
      ],
      "metadata": {
        "colab": {
          "base_uri": "https://localhost:8080/",
          "height": 288
        },
        "id": "qCGptzZ98OOq",
        "outputId": "b5d6f44b-58f2-44ac-fc38-c5a277179284"
      },
      "execution_count": 42,
      "outputs": [
        {
          "output_type": "execute_result",
          "data": {
            "text/html": [
              "\n",
              "  <div id=\"df-4c122df4-26c9-476d-b96b-43da7134f1ef\">\n",
              "    <div class=\"colab-df-container\">\n",
              "      <div>\n",
              "<style scoped>\n",
              "    .dataframe tbody tr th:only-of-type {\n",
              "        vertical-align: middle;\n",
              "    }\n",
              "\n",
              "    .dataframe tbody tr th {\n",
              "        vertical-align: top;\n",
              "    }\n",
              "\n",
              "    .dataframe thead th {\n",
              "        text-align: right;\n",
              "    }\n",
              "</style>\n",
              "<table border=\"1\" class=\"dataframe\">\n",
              "  <thead>\n",
              "    <tr style=\"text-align: right;\">\n",
              "      <th></th>\n",
              "      <th>YEAR</th>\n",
              "      <th>MONTH</th>\n",
              "      <th>temperatura</th>\n",
              "      <th>Precipitacion_group</th>\n",
              "      <th>Temperatura min req</th>\n",
              "      <th>Temperatura max req</th>\n",
              "      <th>Temperatura min opt</th>\n",
              "      <th>Temperatura max opt</th>\n",
              "      <th>distancia_mes_inicio_siem</th>\n",
              "      <th>distancia_mes_fin_siem</th>\n",
              "      <th>price_max_recolec</th>\n",
              "      <th>Volumen_max_recolec</th>\n",
              "      <th>MONTH_max_recolec</th>\n",
              "      <th>need_humidity_group</th>\n",
              "      <th>rentable</th>\n",
              "      <th>product_ACELGA</th>\n",
              "      <th>product_AJO</th>\n",
              "      <th>product_ALCACHOFA</th>\n",
              "      <th>product_APIO</th>\n",
              "      <th>product_BERENJENA</th>\n",
              "      <th>product_BROCOLI</th>\n",
              "      <th>product_CALABACIN</th>\n",
              "      <th>product_CALABAZA</th>\n",
              "      <th>product_CEBOLLA</th>\n",
              "      <th>product_CEBOLLETA</th>\n",
              "      <th>product_CHIRIVIA</th>\n",
              "      <th>product_COL BRUSELAS</th>\n",
              "      <th>product_COL CHINA</th>\n",
              "      <th>product_COL LOMBARDA</th>\n",
              "      <th>product_COL REPOLLO</th>\n",
              "      <th>product_COLIFLOR</th>\n",
              "      <th>product_ESCAROLA</th>\n",
              "      <th>product_ESPINACA</th>\n",
              "      <th>product_GUISANTE</th>\n",
              "      <th>product_HABA</th>\n",
              "      <th>product_JUDIA</th>\n",
              "      <th>product_LECHUGA</th>\n",
              "      <th>product_MAIZ</th>\n",
              "      <th>product_MELON</th>\n",
              "      <th>product_NABO</th>\n",
              "      <th>product_PATATA</th>\n",
              "      <th>product_PEPINO</th>\n",
              "      <th>product_PEREJIL</th>\n",
              "      <th>product_PIMIENTO</th>\n",
              "      <th>product_PUERRO</th>\n",
              "      <th>product_RABANITO</th>\n",
              "      <th>product_REMOLACHA</th>\n",
              "      <th>product_SANDIA</th>\n",
              "      <th>product_TOMATE</th>\n",
              "      <th>product_ZANAHORIA</th>\n",
              "      <th>origen_Andalucia</th>\n",
              "      <th>origen_Aragon</th>\n",
              "      <th>origen_Asturias</th>\n",
              "      <th>origen_Baleares</th>\n",
              "      <th>origen_Canarias</th>\n",
              "      <th>origen_Cantabria</th>\n",
              "      <th>origen_Castilla La Mancha</th>\n",
              "      <th>origen_Castilla Leon</th>\n",
              "      <th>origen_Cataluña</th>\n",
              "      <th>origen_Extremadura</th>\n",
              "      <th>origen_Galicia</th>\n",
              "      <th>origen_La Rioja</th>\n",
              "      <th>origen_Madrid</th>\n",
              "      <th>origen_Murcia</th>\n",
              "      <th>origen_Navarra</th>\n",
              "      <th>origen_Pais Vasco</th>\n",
              "      <th>origen_Valencia</th>\n",
              "    </tr>\n",
              "  </thead>\n",
              "  <tbody>\n",
              "    <tr>\n",
              "      <th>5</th>\n",
              "      <td>2018</td>\n",
              "      <td>3</td>\n",
              "      <td>11.90</td>\n",
              "      <td>2.0</td>\n",
              "      <td>6.0</td>\n",
              "      <td>33.0</td>\n",
              "      <td>15.0</td>\n",
              "      <td>25.0</td>\n",
              "      <td>0.0</td>\n",
              "      <td>-2.0</td>\n",
              "      <td>1.035714</td>\n",
              "      <td>58905.0</td>\n",
              "      <td>6.0</td>\n",
              "      <td>0.0</td>\n",
              "      <td>0</td>\n",
              "      <td>1</td>\n",
              "      <td>0</td>\n",
              "      <td>0</td>\n",
              "      <td>0</td>\n",
              "      <td>0</td>\n",
              "      <td>0</td>\n",
              "      <td>0</td>\n",
              "      <td>0</td>\n",
              "      <td>0</td>\n",
              "      <td>0</td>\n",
              "      <td>0</td>\n",
              "      <td>0</td>\n",
              "      <td>0</td>\n",
              "      <td>0</td>\n",
              "      <td>0</td>\n",
              "      <td>0</td>\n",
              "      <td>0</td>\n",
              "      <td>0</td>\n",
              "      <td>0</td>\n",
              "      <td>0</td>\n",
              "      <td>0</td>\n",
              "      <td>0</td>\n",
              "      <td>0</td>\n",
              "      <td>0</td>\n",
              "      <td>0</td>\n",
              "      <td>0</td>\n",
              "      <td>0</td>\n",
              "      <td>0</td>\n",
              "      <td>0</td>\n",
              "      <td>0</td>\n",
              "      <td>0</td>\n",
              "      <td>0</td>\n",
              "      <td>0</td>\n",
              "      <td>0</td>\n",
              "      <td>0</td>\n",
              "      <td>1</td>\n",
              "      <td>0</td>\n",
              "      <td>0</td>\n",
              "      <td>0</td>\n",
              "      <td>0</td>\n",
              "      <td>0</td>\n",
              "      <td>0</td>\n",
              "      <td>0</td>\n",
              "      <td>0</td>\n",
              "      <td>0</td>\n",
              "      <td>0</td>\n",
              "      <td>0</td>\n",
              "      <td>0</td>\n",
              "      <td>0</td>\n",
              "      <td>0</td>\n",
              "      <td>0</td>\n",
              "      <td>0</td>\n",
              "    </tr>\n",
              "    <tr>\n",
              "      <th>7</th>\n",
              "      <td>2018</td>\n",
              "      <td>4</td>\n",
              "      <td>14.84</td>\n",
              "      <td>1.0</td>\n",
              "      <td>6.0</td>\n",
              "      <td>33.0</td>\n",
              "      <td>15.0</td>\n",
              "      <td>25.0</td>\n",
              "      <td>1.0</td>\n",
              "      <td>-1.0</td>\n",
              "      <td>0.725000</td>\n",
              "      <td>16570.0</td>\n",
              "      <td>7.0</td>\n",
              "      <td>0.0</td>\n",
              "      <td>0</td>\n",
              "      <td>1</td>\n",
              "      <td>0</td>\n",
              "      <td>0</td>\n",
              "      <td>0</td>\n",
              "      <td>0</td>\n",
              "      <td>0</td>\n",
              "      <td>0</td>\n",
              "      <td>0</td>\n",
              "      <td>0</td>\n",
              "      <td>0</td>\n",
              "      <td>0</td>\n",
              "      <td>0</td>\n",
              "      <td>0</td>\n",
              "      <td>0</td>\n",
              "      <td>0</td>\n",
              "      <td>0</td>\n",
              "      <td>0</td>\n",
              "      <td>0</td>\n",
              "      <td>0</td>\n",
              "      <td>0</td>\n",
              "      <td>0</td>\n",
              "      <td>0</td>\n",
              "      <td>0</td>\n",
              "      <td>0</td>\n",
              "      <td>0</td>\n",
              "      <td>0</td>\n",
              "      <td>0</td>\n",
              "      <td>0</td>\n",
              "      <td>0</td>\n",
              "      <td>0</td>\n",
              "      <td>0</td>\n",
              "      <td>0</td>\n",
              "      <td>0</td>\n",
              "      <td>0</td>\n",
              "      <td>0</td>\n",
              "      <td>1</td>\n",
              "      <td>0</td>\n",
              "      <td>0</td>\n",
              "      <td>0</td>\n",
              "      <td>0</td>\n",
              "      <td>0</td>\n",
              "      <td>0</td>\n",
              "      <td>0</td>\n",
              "      <td>0</td>\n",
              "      <td>0</td>\n",
              "      <td>0</td>\n",
              "      <td>0</td>\n",
              "      <td>0</td>\n",
              "      <td>0</td>\n",
              "      <td>0</td>\n",
              "      <td>0</td>\n",
              "      <td>0</td>\n",
              "    </tr>\n",
              "    <tr>\n",
              "      <th>9</th>\n",
              "      <td>2018</td>\n",
              "      <td>5</td>\n",
              "      <td>17.50</td>\n",
              "      <td>0.0</td>\n",
              "      <td>6.0</td>\n",
              "      <td>33.0</td>\n",
              "      <td>15.0</td>\n",
              "      <td>25.0</td>\n",
              "      <td>2.0</td>\n",
              "      <td>0.0</td>\n",
              "      <td>0.529167</td>\n",
              "      <td>35470.0</td>\n",
              "      <td>8.0</td>\n",
              "      <td>0.0</td>\n",
              "      <td>0</td>\n",
              "      <td>1</td>\n",
              "      <td>0</td>\n",
              "      <td>0</td>\n",
              "      <td>0</td>\n",
              "      <td>0</td>\n",
              "      <td>0</td>\n",
              "      <td>0</td>\n",
              "      <td>0</td>\n",
              "      <td>0</td>\n",
              "      <td>0</td>\n",
              "      <td>0</td>\n",
              "      <td>0</td>\n",
              "      <td>0</td>\n",
              "      <td>0</td>\n",
              "      <td>0</td>\n",
              "      <td>0</td>\n",
              "      <td>0</td>\n",
              "      <td>0</td>\n",
              "      <td>0</td>\n",
              "      <td>0</td>\n",
              "      <td>0</td>\n",
              "      <td>0</td>\n",
              "      <td>0</td>\n",
              "      <td>0</td>\n",
              "      <td>0</td>\n",
              "      <td>0</td>\n",
              "      <td>0</td>\n",
              "      <td>0</td>\n",
              "      <td>0</td>\n",
              "      <td>0</td>\n",
              "      <td>0</td>\n",
              "      <td>0</td>\n",
              "      <td>0</td>\n",
              "      <td>0</td>\n",
              "      <td>0</td>\n",
              "      <td>1</td>\n",
              "      <td>0</td>\n",
              "      <td>0</td>\n",
              "      <td>0</td>\n",
              "      <td>0</td>\n",
              "      <td>0</td>\n",
              "      <td>0</td>\n",
              "      <td>0</td>\n",
              "      <td>0</td>\n",
              "      <td>0</td>\n",
              "      <td>0</td>\n",
              "      <td>0</td>\n",
              "      <td>0</td>\n",
              "      <td>0</td>\n",
              "      <td>0</td>\n",
              "      <td>0</td>\n",
              "      <td>0</td>\n",
              "    </tr>\n",
              "    <tr>\n",
              "      <th>18</th>\n",
              "      <td>2018</td>\n",
              "      <td>10</td>\n",
              "      <td>18.05</td>\n",
              "      <td>1.0</td>\n",
              "      <td>6.0</td>\n",
              "      <td>33.0</td>\n",
              "      <td>15.0</td>\n",
              "      <td>25.0</td>\n",
              "      <td>1.0</td>\n",
              "      <td>-1.0</td>\n",
              "      <td>0.880000</td>\n",
              "      <td>61704.0</td>\n",
              "      <td>1.0</td>\n",
              "      <td>0.0</td>\n",
              "      <td>0</td>\n",
              "      <td>1</td>\n",
              "      <td>0</td>\n",
              "      <td>0</td>\n",
              "      <td>0</td>\n",
              "      <td>0</td>\n",
              "      <td>0</td>\n",
              "      <td>0</td>\n",
              "      <td>0</td>\n",
              "      <td>0</td>\n",
              "      <td>0</td>\n",
              "      <td>0</td>\n",
              "      <td>0</td>\n",
              "      <td>0</td>\n",
              "      <td>0</td>\n",
              "      <td>0</td>\n",
              "      <td>0</td>\n",
              "      <td>0</td>\n",
              "      <td>0</td>\n",
              "      <td>0</td>\n",
              "      <td>0</td>\n",
              "      <td>0</td>\n",
              "      <td>0</td>\n",
              "      <td>0</td>\n",
              "      <td>0</td>\n",
              "      <td>0</td>\n",
              "      <td>0</td>\n",
              "      <td>0</td>\n",
              "      <td>0</td>\n",
              "      <td>0</td>\n",
              "      <td>0</td>\n",
              "      <td>0</td>\n",
              "      <td>0</td>\n",
              "      <td>0</td>\n",
              "      <td>0</td>\n",
              "      <td>0</td>\n",
              "      <td>1</td>\n",
              "      <td>0</td>\n",
              "      <td>0</td>\n",
              "      <td>0</td>\n",
              "      <td>0</td>\n",
              "      <td>0</td>\n",
              "      <td>0</td>\n",
              "      <td>0</td>\n",
              "      <td>0</td>\n",
              "      <td>0</td>\n",
              "      <td>0</td>\n",
              "      <td>0</td>\n",
              "      <td>0</td>\n",
              "      <td>0</td>\n",
              "      <td>0</td>\n",
              "      <td>0</td>\n",
              "      <td>0</td>\n",
              "    </tr>\n",
              "    <tr>\n",
              "      <th>20</th>\n",
              "      <td>2018</td>\n",
              "      <td>11</td>\n",
              "      <td>13.19</td>\n",
              "      <td>1.0</td>\n",
              "      <td>6.0</td>\n",
              "      <td>33.0</td>\n",
              "      <td>15.0</td>\n",
              "      <td>25.0</td>\n",
              "      <td>2.0</td>\n",
              "      <td>0.0</td>\n",
              "      <td>0.682381</td>\n",
              "      <td>106154.0</td>\n",
              "      <td>2.0</td>\n",
              "      <td>0.0</td>\n",
              "      <td>0</td>\n",
              "      <td>1</td>\n",
              "      <td>0</td>\n",
              "      <td>0</td>\n",
              "      <td>0</td>\n",
              "      <td>0</td>\n",
              "      <td>0</td>\n",
              "      <td>0</td>\n",
              "      <td>0</td>\n",
              "      <td>0</td>\n",
              "      <td>0</td>\n",
              "      <td>0</td>\n",
              "      <td>0</td>\n",
              "      <td>0</td>\n",
              "      <td>0</td>\n",
              "      <td>0</td>\n",
              "      <td>0</td>\n",
              "      <td>0</td>\n",
              "      <td>0</td>\n",
              "      <td>0</td>\n",
              "      <td>0</td>\n",
              "      <td>0</td>\n",
              "      <td>0</td>\n",
              "      <td>0</td>\n",
              "      <td>0</td>\n",
              "      <td>0</td>\n",
              "      <td>0</td>\n",
              "      <td>0</td>\n",
              "      <td>0</td>\n",
              "      <td>0</td>\n",
              "      <td>0</td>\n",
              "      <td>0</td>\n",
              "      <td>0</td>\n",
              "      <td>0</td>\n",
              "      <td>0</td>\n",
              "      <td>0</td>\n",
              "      <td>1</td>\n",
              "      <td>0</td>\n",
              "      <td>0</td>\n",
              "      <td>0</td>\n",
              "      <td>0</td>\n",
              "      <td>0</td>\n",
              "      <td>0</td>\n",
              "      <td>0</td>\n",
              "      <td>0</td>\n",
              "      <td>0</td>\n",
              "      <td>0</td>\n",
              "      <td>0</td>\n",
              "      <td>0</td>\n",
              "      <td>0</td>\n",
              "      <td>0</td>\n",
              "      <td>0</td>\n",
              "      <td>0</td>\n",
              "    </tr>\n",
              "  </tbody>\n",
              "</table>\n",
              "</div>\n",
              "      <button class=\"colab-df-convert\" onclick=\"convertToInteractive('df-4c122df4-26c9-476d-b96b-43da7134f1ef')\"\n",
              "              title=\"Convert this dataframe to an interactive table.\"\n",
              "              style=\"display:none;\">\n",
              "        \n",
              "  <svg xmlns=\"http://www.w3.org/2000/svg\" height=\"24px\"viewBox=\"0 0 24 24\"\n",
              "       width=\"24px\">\n",
              "    <path d=\"M0 0h24v24H0V0z\" fill=\"none\"/>\n",
              "    <path d=\"M18.56 5.44l.94 2.06.94-2.06 2.06-.94-2.06-.94-.94-2.06-.94 2.06-2.06.94zm-11 1L8.5 8.5l.94-2.06 2.06-.94-2.06-.94L8.5 2.5l-.94 2.06-2.06.94zm10 10l.94 2.06.94-2.06 2.06-.94-2.06-.94-.94-2.06-.94 2.06-2.06.94z\"/><path d=\"M17.41 7.96l-1.37-1.37c-.4-.4-.92-.59-1.43-.59-.52 0-1.04.2-1.43.59L10.3 9.45l-7.72 7.72c-.78.78-.78 2.05 0 2.83L4 21.41c.39.39.9.59 1.41.59.51 0 1.02-.2 1.41-.59l7.78-7.78 2.81-2.81c.8-.78.8-2.07 0-2.86zM5.41 20L4 18.59l7.72-7.72 1.47 1.35L5.41 20z\"/>\n",
              "  </svg>\n",
              "      </button>\n",
              "      \n",
              "  <style>\n",
              "    .colab-df-container {\n",
              "      display:flex;\n",
              "      flex-wrap:wrap;\n",
              "      gap: 12px;\n",
              "    }\n",
              "\n",
              "    .colab-df-convert {\n",
              "      background-color: #E8F0FE;\n",
              "      border: none;\n",
              "      border-radius: 50%;\n",
              "      cursor: pointer;\n",
              "      display: none;\n",
              "      fill: #1967D2;\n",
              "      height: 32px;\n",
              "      padding: 0 0 0 0;\n",
              "      width: 32px;\n",
              "    }\n",
              "\n",
              "    .colab-df-convert:hover {\n",
              "      background-color: #E2EBFA;\n",
              "      box-shadow: 0px 1px 2px rgba(60, 64, 67, 0.3), 0px 1px 3px 1px rgba(60, 64, 67, 0.15);\n",
              "      fill: #174EA6;\n",
              "    }\n",
              "\n",
              "    [theme=dark] .colab-df-convert {\n",
              "      background-color: #3B4455;\n",
              "      fill: #D2E3FC;\n",
              "    }\n",
              "\n",
              "    [theme=dark] .colab-df-convert:hover {\n",
              "      background-color: #434B5C;\n",
              "      box-shadow: 0px 1px 3px 1px rgba(0, 0, 0, 0.15);\n",
              "      filter: drop-shadow(0px 1px 2px rgba(0, 0, 0, 0.3));\n",
              "      fill: #FFFFFF;\n",
              "    }\n",
              "  </style>\n",
              "\n",
              "      <script>\n",
              "        const buttonEl =\n",
              "          document.querySelector('#df-4c122df4-26c9-476d-b96b-43da7134f1ef button.colab-df-convert');\n",
              "        buttonEl.style.display =\n",
              "          google.colab.kernel.accessAllowed ? 'block' : 'none';\n",
              "\n",
              "        async function convertToInteractive(key) {\n",
              "          const element = document.querySelector('#df-4c122df4-26c9-476d-b96b-43da7134f1ef');\n",
              "          const dataTable =\n",
              "            await google.colab.kernel.invokeFunction('convertToInteractive',\n",
              "                                                     [key], {});\n",
              "          if (!dataTable) return;\n",
              "\n",
              "          const docLinkHtml = 'Like what you see? Visit the ' +\n",
              "            '<a target=\"_blank\" href=https://colab.research.google.com/notebooks/data_table.ipynb>data table notebook</a>'\n",
              "            + ' to learn more about interactive tables.';\n",
              "          element.innerHTML = '';\n",
              "          dataTable['output_type'] = 'display_data';\n",
              "          await google.colab.output.renderOutput(dataTable, element);\n",
              "          const docLink = document.createElement('div');\n",
              "          docLink.innerHTML = docLinkHtml;\n",
              "          element.appendChild(docLink);\n",
              "        }\n",
              "      </script>\n",
              "    </div>\n",
              "  </div>\n",
              "  "
            ],
            "text/plain": [
              "    YEAR  MONTH  ...  origen_Pais Vasco  origen_Valencia\n",
              "5   2018      3  ...                  0                0\n",
              "7   2018      4  ...                  0                0\n",
              "9   2018      5  ...                  0                0\n",
              "18  2018     10  ...                  0                0\n",
              "20  2018     11  ...                  0                0\n",
              "\n",
              "[5 rows x 67 columns]"
            ]
          },
          "metadata": {},
          "execution_count": 42
        }
      ]
    },
    {
      "cell_type": "code",
      "source": [
        "x_features = list(aux.columns)\n",
        "x_features = [ item for item in x_features if 'origen_' not in item]\n",
        "x_features = [ item for item in x_features if 'product_' not in item]\n",
        "x_features.remove('rentable')\n",
        "x_features.remove('YEAR')\n",
        "x_features.remove('price_max_recolec')\n",
        "x_features.remove('Volumen_max_recolec')\n",
        "x_features.remove('MONTH_max_recolec')"
      ],
      "metadata": {
        "id": "aJ_8yBCX8Tur"
      },
      "execution_count": 43,
      "outputs": []
    },
    {
      "cell_type": "code",
      "source": [
        "X = aux[x_features]\n",
        "y = aux['price_max_recolec']"
      ],
      "metadata": {
        "id": "w695Dy0n8TxJ"
      },
      "execution_count": 44,
      "outputs": []
    },
    {
      "cell_type": "code",
      "source": [
        "regressor = DecisionTreeRegressor(criterion='mse', random_state=0)\n",
        "regressor.fit(X, y)\n",
        "\n",
        "y_pred = regressor.predict(X = X)"
      ],
      "metadata": {
        "colab": {
          "base_uri": "https://localhost:8080/"
        },
        "id": "BPPTZZwP8Tze",
        "outputId": "ce096f02-a81e-4c46-ad1e-8d30ed616051"
      },
      "execution_count": 45,
      "outputs": [
        {
          "output_type": "stream",
          "name": "stderr",
          "text": [
            "/usr/local/lib/python3.7/dist-packages/sklearn/tree/_classes.py:363: FutureWarning: Criterion 'mse' was deprecated in v1.0 and will be removed in version 1.2. Use `criterion='squared_error'` which is equivalent.\n",
            "  FutureWarning,\n"
          ]
        }
      ]
    },
    {
      "cell_type": "code",
      "source": [
        "print ('Feature Relevances')\n",
        "pd.DataFrame({'Attributes': x_features ,\n",
        "              'Decision Tree': regressor.feature_importances_})"
      ],
      "metadata": {
        "colab": {
          "base_uri": "https://localhost:8080/",
          "height": 380
        },
        "id": "7Dga0RYe8a1i",
        "outputId": "1db7022b-4ef2-41fb-9802-5b5d753aa179"
      },
      "execution_count": 46,
      "outputs": [
        {
          "output_type": "stream",
          "name": "stdout",
          "text": [
            "Feature Relevances\n"
          ]
        },
        {
          "output_type": "execute_result",
          "data": {
            "text/html": [
              "\n",
              "  <div id=\"df-e36283a0-6820-4e6f-b0bb-cfe4af5072e7\">\n",
              "    <div class=\"colab-df-container\">\n",
              "      <div>\n",
              "<style scoped>\n",
              "    .dataframe tbody tr th:only-of-type {\n",
              "        vertical-align: middle;\n",
              "    }\n",
              "\n",
              "    .dataframe tbody tr th {\n",
              "        vertical-align: top;\n",
              "    }\n",
              "\n",
              "    .dataframe thead th {\n",
              "        text-align: right;\n",
              "    }\n",
              "</style>\n",
              "<table border=\"1\" class=\"dataframe\">\n",
              "  <thead>\n",
              "    <tr style=\"text-align: right;\">\n",
              "      <th></th>\n",
              "      <th>Attributes</th>\n",
              "      <th>Decision Tree</th>\n",
              "    </tr>\n",
              "  </thead>\n",
              "  <tbody>\n",
              "    <tr>\n",
              "      <th>0</th>\n",
              "      <td>MONTH</td>\n",
              "      <td>0.022249</td>\n",
              "    </tr>\n",
              "    <tr>\n",
              "      <th>1</th>\n",
              "      <td>temperatura</td>\n",
              "      <td>0.131240</td>\n",
              "    </tr>\n",
              "    <tr>\n",
              "      <th>2</th>\n",
              "      <td>Precipitacion_group</td>\n",
              "      <td>0.002168</td>\n",
              "    </tr>\n",
              "    <tr>\n",
              "      <th>3</th>\n",
              "      <td>Temperatura min req</td>\n",
              "      <td>0.140059</td>\n",
              "    </tr>\n",
              "    <tr>\n",
              "      <th>4</th>\n",
              "      <td>Temperatura max req</td>\n",
              "      <td>0.222578</td>\n",
              "    </tr>\n",
              "    <tr>\n",
              "      <th>5</th>\n",
              "      <td>Temperatura min opt</td>\n",
              "      <td>0.341773</td>\n",
              "    </tr>\n",
              "    <tr>\n",
              "      <th>6</th>\n",
              "      <td>Temperatura max opt</td>\n",
              "      <td>0.101533</td>\n",
              "    </tr>\n",
              "    <tr>\n",
              "      <th>7</th>\n",
              "      <td>distancia_mes_inicio_siem</td>\n",
              "      <td>0.000848</td>\n",
              "    </tr>\n",
              "    <tr>\n",
              "      <th>8</th>\n",
              "      <td>distancia_mes_fin_siem</td>\n",
              "      <td>0.005457</td>\n",
              "    </tr>\n",
              "    <tr>\n",
              "      <th>9</th>\n",
              "      <td>need_humidity_group</td>\n",
              "      <td>0.032095</td>\n",
              "    </tr>\n",
              "  </tbody>\n",
              "</table>\n",
              "</div>\n",
              "      <button class=\"colab-df-convert\" onclick=\"convertToInteractive('df-e36283a0-6820-4e6f-b0bb-cfe4af5072e7')\"\n",
              "              title=\"Convert this dataframe to an interactive table.\"\n",
              "              style=\"display:none;\">\n",
              "        \n",
              "  <svg xmlns=\"http://www.w3.org/2000/svg\" height=\"24px\"viewBox=\"0 0 24 24\"\n",
              "       width=\"24px\">\n",
              "    <path d=\"M0 0h24v24H0V0z\" fill=\"none\"/>\n",
              "    <path d=\"M18.56 5.44l.94 2.06.94-2.06 2.06-.94-2.06-.94-.94-2.06-.94 2.06-2.06.94zm-11 1L8.5 8.5l.94-2.06 2.06-.94-2.06-.94L8.5 2.5l-.94 2.06-2.06.94zm10 10l.94 2.06.94-2.06 2.06-.94-2.06-.94-.94-2.06-.94 2.06-2.06.94z\"/><path d=\"M17.41 7.96l-1.37-1.37c-.4-.4-.92-.59-1.43-.59-.52 0-1.04.2-1.43.59L10.3 9.45l-7.72 7.72c-.78.78-.78 2.05 0 2.83L4 21.41c.39.39.9.59 1.41.59.51 0 1.02-.2 1.41-.59l7.78-7.78 2.81-2.81c.8-.78.8-2.07 0-2.86zM5.41 20L4 18.59l7.72-7.72 1.47 1.35L5.41 20z\"/>\n",
              "  </svg>\n",
              "      </button>\n",
              "      \n",
              "  <style>\n",
              "    .colab-df-container {\n",
              "      display:flex;\n",
              "      flex-wrap:wrap;\n",
              "      gap: 12px;\n",
              "    }\n",
              "\n",
              "    .colab-df-convert {\n",
              "      background-color: #E8F0FE;\n",
              "      border: none;\n",
              "      border-radius: 50%;\n",
              "      cursor: pointer;\n",
              "      display: none;\n",
              "      fill: #1967D2;\n",
              "      height: 32px;\n",
              "      padding: 0 0 0 0;\n",
              "      width: 32px;\n",
              "    }\n",
              "\n",
              "    .colab-df-convert:hover {\n",
              "      background-color: #E2EBFA;\n",
              "      box-shadow: 0px 1px 2px rgba(60, 64, 67, 0.3), 0px 1px 3px 1px rgba(60, 64, 67, 0.15);\n",
              "      fill: #174EA6;\n",
              "    }\n",
              "\n",
              "    [theme=dark] .colab-df-convert {\n",
              "      background-color: #3B4455;\n",
              "      fill: #D2E3FC;\n",
              "    }\n",
              "\n",
              "    [theme=dark] .colab-df-convert:hover {\n",
              "      background-color: #434B5C;\n",
              "      box-shadow: 0px 1px 3px 1px rgba(0, 0, 0, 0.15);\n",
              "      filter: drop-shadow(0px 1px 2px rgba(0, 0, 0, 0.3));\n",
              "      fill: #FFFFFF;\n",
              "    }\n",
              "  </style>\n",
              "\n",
              "      <script>\n",
              "        const buttonEl =\n",
              "          document.querySelector('#df-e36283a0-6820-4e6f-b0bb-cfe4af5072e7 button.colab-df-convert');\n",
              "        buttonEl.style.display =\n",
              "          google.colab.kernel.accessAllowed ? 'block' : 'none';\n",
              "\n",
              "        async function convertToInteractive(key) {\n",
              "          const element = document.querySelector('#df-e36283a0-6820-4e6f-b0bb-cfe4af5072e7');\n",
              "          const dataTable =\n",
              "            await google.colab.kernel.invokeFunction('convertToInteractive',\n",
              "                                                     [key], {});\n",
              "          if (!dataTable) return;\n",
              "\n",
              "          const docLinkHtml = 'Like what you see? Visit the ' +\n",
              "            '<a target=\"_blank\" href=https://colab.research.google.com/notebooks/data_table.ipynb>data table notebook</a>'\n",
              "            + ' to learn more about interactive tables.';\n",
              "          element.innerHTML = '';\n",
              "          dataTable['output_type'] = 'display_data';\n",
              "          await google.colab.output.renderOutput(dataTable, element);\n",
              "          const docLink = document.createElement('div');\n",
              "          docLink.innerHTML = docLinkHtml;\n",
              "          element.appendChild(docLink);\n",
              "        }\n",
              "      </script>\n",
              "    </div>\n",
              "  </div>\n",
              "  "
            ],
            "text/plain": [
              "                  Attributes  Decision Tree\n",
              "0                      MONTH       0.022249\n",
              "1                temperatura       0.131240\n",
              "2        Precipitacion_group       0.002168\n",
              "3        Temperatura min req       0.140059\n",
              "4        Temperatura max req       0.222578\n",
              "5        Temperatura min opt       0.341773\n",
              "6        Temperatura max opt       0.101533\n",
              "7  distancia_mes_inicio_siem       0.000848\n",
              "8     distancia_mes_fin_siem       0.005457\n",
              "9        need_humidity_group       0.032095"
            ]
          },
          "metadata": {},
          "execution_count": 46
        }
      ]
    },
    {
      "cell_type": "code",
      "source": [
        "print (\"MAE:\", metrics.mean_absolute_error(y_pred , y))\n",
        "print (\"MAPE:\", metrics.mean_absolute_percentage_error(y_pred , y))\n",
        "print (\"MSE:\", metrics.mean_squared_error(y_pred , y))\n",
        "print (\"R^2:\", metrics.r2_score(y_pred , y))"
      ],
      "metadata": {
        "colab": {
          "base_uri": "https://localhost:8080/"
        },
        "id": "UAO-z6TU8dAc",
        "outputId": "545ea7ae-f34a-47ba-fb70-ebeba418a9e3"
      },
      "execution_count": 47,
      "outputs": [
        {
          "output_type": "stream",
          "name": "stdout",
          "text": [
            "MAE: 0.0\n",
            "MAPE: 0.0\n",
            "MSE: 0.0\n",
            "R^2: 1.0\n"
          ]
        }
      ]
    },
    {
      "cell_type": "markdown",
      "source": [
        "De nuevo el error es bajísimo, por lo que el modelo describe correctamente el fenómeno."
      ],
      "metadata": {
        "id": "pLOoqDEaDGH9"
      }
    },
    {
      "cell_type": "markdown",
      "source": [
        "#### 4.1.4 Conclusión"
      ],
      "metadata": {
        "id": "qiAE-etaIu6l"
      }
    },
    {
      "cell_type": "markdown",
      "source": [
        "El contraste en la **importancia de cada región con respecto a la *need_humidity_group*** es destacable: en Galicia, al tratarse de la zona más húmeda, en los cultivos que se planten allí tiene sentido que se vean influenciados por la humedad más que en las otras dos regiones (0.17 de importancia en Galicia frente a 0.003 y 0.03 en CLM y Andalucía).  \n",
        "Algo parecido ocurre con ***precipitacion_group***: en el caso de CLM y Andalucía, al tratarse de zonas en las que las precipitaciones son más intermitentes, tiene sentido que le el grupo de precipitación sea menos influyente en los cultivos que se siembren en estas regiones (0.007 en CLM y 0.002 en Andalucía).  \n",
        "Respecto a la **temperatura de los cultivos**, en general tiene bastante importancia en todas las regiones en las que se han realizado pruebas. Destaca que la temperatura que más relevancia tiene en Galicia es la máxima. Si bien puede parecer inicialmente paradójico, debido a que el requerimiento de temperatura mínima es más estricto en Galicia, tiene sentido que el modelo le de más importancia. Esto es debido a que la diferencia de la temperatura real con la temperatura mínima del cultivo es menor que la diferencia con la temperatura máxima del cultivo. Esta lógica también se aplica a la temperatura mínima en las comunidades de Castilla-La Mancha y Andalucía.  \n",
        "\n",
        "En general, las distancias hasta el mes de inicio y fin siembra no son demasiado influyentes."
      ],
      "metadata": {
        "id": "42HW3FJUIyb0"
      }
    },
    {
      "cell_type": "markdown",
      "source": [
        "### 4.2 Influencia de variables por característica "
      ],
      "metadata": {
        "id": "uPRlzoEkcuMj"
      }
    },
    {
      "cell_type": "markdown",
      "source": [
        "Para estudiar la influencia de cada característica, se **predice el precio ignorando dicha característica** y se compara con el precio real. Por cada característica se crea un modelo."
      ],
      "metadata": {
        "id": "44D5l1xC-Lmz"
      }
    },
    {
      "cell_type": "code",
      "source": [
        "x_features_all = [\"MONTH\",\n",
        "\"temperatura\",\n",
        "\"Precipitacion_group\",\n",
        "*list(product_origen_inference.keys())]\n",
        "\n",
        "x_features_month = [feature for feature in x_features_all if feature != 'MONTH']\n",
        "x_features_temperatura = [feature for feature in x_features_all if feature != 'temperatura']\n",
        "x_features_precipitacion = [feature for feature in x_features_all if feature != 'Precipitacion_group']"
      ],
      "metadata": {
        "id": "sYbT6CQmeTrM"
      },
      "execution_count": 48,
      "outputs": []
    },
    {
      "cell_type": "markdown",
      "source": [
        "#### 4.2.1 Modelo del mes"
      ],
      "metadata": {
        "id": "m9QU7O8Oh1Gf"
      }
    },
    {
      "cell_type": "code",
      "source": [
        "X = agroanalisis[x_features_month]\n",
        "y = agroanalisis['price_max_recolec']\n",
        "\n",
        "X_train, X_test, y_train, y_test = train_test_split( X, y, test_size=0.33, random_state=42)\n",
        "X_train.head()"
      ],
      "metadata": {
        "colab": {
          "base_uri": "https://localhost:8080/",
          "height": 288
        },
        "id": "BB5soZEzf4He",
        "outputId": "ad15e4ab-d7e0-42ee-e227-0feb65345859"
      },
      "execution_count": 49,
      "outputs": [
        {
          "output_type": "execute_result",
          "data": {
            "text/html": [
              "\n",
              "  <div id=\"df-db3fbb8d-7481-4df1-a0f0-32415e65f221\">\n",
              "    <div class=\"colab-df-container\">\n",
              "      <div>\n",
              "<style scoped>\n",
              "    .dataframe tbody tr th:only-of-type {\n",
              "        vertical-align: middle;\n",
              "    }\n",
              "\n",
              "    .dataframe tbody tr th {\n",
              "        vertical-align: top;\n",
              "    }\n",
              "\n",
              "    .dataframe thead th {\n",
              "        text-align: right;\n",
              "    }\n",
              "</style>\n",
              "<table border=\"1\" class=\"dataframe\">\n",
              "  <thead>\n",
              "    <tr style=\"text-align: right;\">\n",
              "      <th></th>\n",
              "      <th>temperatura</th>\n",
              "      <th>Precipitacion_group</th>\n",
              "      <th>product_ACELGA</th>\n",
              "      <th>product_AJO</th>\n",
              "      <th>product_ALCACHOFA</th>\n",
              "      <th>product_APIO</th>\n",
              "      <th>product_BERENJENA</th>\n",
              "      <th>product_BROCOLI</th>\n",
              "      <th>product_CALABACIN</th>\n",
              "      <th>product_CALABAZA</th>\n",
              "      <th>product_CEBOLLA</th>\n",
              "      <th>product_CEBOLLETA</th>\n",
              "      <th>product_CHIRIVIA</th>\n",
              "      <th>product_COL BRUSELAS</th>\n",
              "      <th>product_COL CHINA</th>\n",
              "      <th>product_COL LOMBARDA</th>\n",
              "      <th>product_COL REPOLLO</th>\n",
              "      <th>product_COLIFLOR</th>\n",
              "      <th>product_ESCAROLA</th>\n",
              "      <th>product_ESPINACA</th>\n",
              "      <th>product_GUISANTE</th>\n",
              "      <th>product_HABA</th>\n",
              "      <th>product_JUDIA</th>\n",
              "      <th>product_LECHUGA</th>\n",
              "      <th>product_MAIZ</th>\n",
              "      <th>product_MELON</th>\n",
              "      <th>product_NABO</th>\n",
              "      <th>product_PATATA</th>\n",
              "      <th>product_PEPINO</th>\n",
              "      <th>product_PEREJIL</th>\n",
              "      <th>product_PIMIENTO</th>\n",
              "      <th>product_PUERRO</th>\n",
              "      <th>product_RABANITO</th>\n",
              "      <th>product_REMOLACHA</th>\n",
              "      <th>product_SANDIA</th>\n",
              "      <th>product_TOMATE</th>\n",
              "      <th>product_ZANAHORIA</th>\n",
              "      <th>origen_Andalucia</th>\n",
              "      <th>origen_Aragon</th>\n",
              "      <th>origen_Asturias</th>\n",
              "      <th>origen_Baleares</th>\n",
              "      <th>origen_Canarias</th>\n",
              "      <th>origen_Cantabria</th>\n",
              "      <th>origen_Castilla La Mancha</th>\n",
              "      <th>origen_Castilla Leon</th>\n",
              "      <th>origen_Cataluña</th>\n",
              "      <th>origen_Extremadura</th>\n",
              "      <th>origen_Galicia</th>\n",
              "      <th>origen_La Rioja</th>\n",
              "      <th>origen_Madrid</th>\n",
              "      <th>origen_Murcia</th>\n",
              "      <th>origen_Navarra</th>\n",
              "      <th>origen_Pais Vasco</th>\n",
              "      <th>origen_Valencia</th>\n",
              "    </tr>\n",
              "  </thead>\n",
              "  <tbody>\n",
              "    <tr>\n",
              "      <th>702</th>\n",
              "      <td>22.07</td>\n",
              "      <td>0.0</td>\n",
              "      <td>0</td>\n",
              "      <td>1</td>\n",
              "      <td>0</td>\n",
              "      <td>0</td>\n",
              "      <td>0</td>\n",
              "      <td>0</td>\n",
              "      <td>0</td>\n",
              "      <td>0</td>\n",
              "      <td>0</td>\n",
              "      <td>0</td>\n",
              "      <td>0</td>\n",
              "      <td>0</td>\n",
              "      <td>0</td>\n",
              "      <td>0</td>\n",
              "      <td>0</td>\n",
              "      <td>0</td>\n",
              "      <td>0</td>\n",
              "      <td>0</td>\n",
              "      <td>0</td>\n",
              "      <td>0</td>\n",
              "      <td>0</td>\n",
              "      <td>0</td>\n",
              "      <td>0</td>\n",
              "      <td>0</td>\n",
              "      <td>0</td>\n",
              "      <td>0</td>\n",
              "      <td>0</td>\n",
              "      <td>0</td>\n",
              "      <td>0</td>\n",
              "      <td>0</td>\n",
              "      <td>0</td>\n",
              "      <td>0</td>\n",
              "      <td>0</td>\n",
              "      <td>0</td>\n",
              "      <td>0</td>\n",
              "      <td>0</td>\n",
              "      <td>0</td>\n",
              "      <td>0</td>\n",
              "      <td>0</td>\n",
              "      <td>0</td>\n",
              "      <td>0</td>\n",
              "      <td>1</td>\n",
              "      <td>0</td>\n",
              "      <td>0</td>\n",
              "      <td>0</td>\n",
              "      <td>0</td>\n",
              "      <td>0</td>\n",
              "      <td>0</td>\n",
              "      <td>0</td>\n",
              "      <td>0</td>\n",
              "      <td>0</td>\n",
              "      <td>0</td>\n",
              "    </tr>\n",
              "    <tr>\n",
              "      <th>17623</th>\n",
              "      <td>9.40</td>\n",
              "      <td>1.0</td>\n",
              "      <td>0</td>\n",
              "      <td>0</td>\n",
              "      <td>0</td>\n",
              "      <td>0</td>\n",
              "      <td>0</td>\n",
              "      <td>0</td>\n",
              "      <td>0</td>\n",
              "      <td>0</td>\n",
              "      <td>0</td>\n",
              "      <td>0</td>\n",
              "      <td>0</td>\n",
              "      <td>0</td>\n",
              "      <td>0</td>\n",
              "      <td>0</td>\n",
              "      <td>0</td>\n",
              "      <td>0</td>\n",
              "      <td>0</td>\n",
              "      <td>0</td>\n",
              "      <td>0</td>\n",
              "      <td>0</td>\n",
              "      <td>0</td>\n",
              "      <td>0</td>\n",
              "      <td>0</td>\n",
              "      <td>1</td>\n",
              "      <td>0</td>\n",
              "      <td>0</td>\n",
              "      <td>0</td>\n",
              "      <td>0</td>\n",
              "      <td>0</td>\n",
              "      <td>0</td>\n",
              "      <td>0</td>\n",
              "      <td>0</td>\n",
              "      <td>0</td>\n",
              "      <td>0</td>\n",
              "      <td>0</td>\n",
              "      <td>0</td>\n",
              "      <td>0</td>\n",
              "      <td>0</td>\n",
              "      <td>0</td>\n",
              "      <td>0</td>\n",
              "      <td>0</td>\n",
              "      <td>0</td>\n",
              "      <td>0</td>\n",
              "      <td>0</td>\n",
              "      <td>0</td>\n",
              "      <td>0</td>\n",
              "      <td>0</td>\n",
              "      <td>0</td>\n",
              "      <td>0</td>\n",
              "      <td>0</td>\n",
              "      <td>1</td>\n",
              "      <td>0</td>\n",
              "    </tr>\n",
              "    <tr>\n",
              "      <th>10686</th>\n",
              "      <td>13.63</td>\n",
              "      <td>1.0</td>\n",
              "      <td>0</td>\n",
              "      <td>0</td>\n",
              "      <td>0</td>\n",
              "      <td>0</td>\n",
              "      <td>0</td>\n",
              "      <td>0</td>\n",
              "      <td>0</td>\n",
              "      <td>0</td>\n",
              "      <td>0</td>\n",
              "      <td>0</td>\n",
              "      <td>0</td>\n",
              "      <td>0</td>\n",
              "      <td>0</td>\n",
              "      <td>0</td>\n",
              "      <td>0</td>\n",
              "      <td>0</td>\n",
              "      <td>0</td>\n",
              "      <td>0</td>\n",
              "      <td>0</td>\n",
              "      <td>0</td>\n",
              "      <td>0</td>\n",
              "      <td>1</td>\n",
              "      <td>0</td>\n",
              "      <td>0</td>\n",
              "      <td>0</td>\n",
              "      <td>0</td>\n",
              "      <td>0</td>\n",
              "      <td>0</td>\n",
              "      <td>0</td>\n",
              "      <td>0</td>\n",
              "      <td>0</td>\n",
              "      <td>0</td>\n",
              "      <td>0</td>\n",
              "      <td>0</td>\n",
              "      <td>0</td>\n",
              "      <td>0</td>\n",
              "      <td>0</td>\n",
              "      <td>0</td>\n",
              "      <td>0</td>\n",
              "      <td>0</td>\n",
              "      <td>0</td>\n",
              "      <td>0</td>\n",
              "      <td>0</td>\n",
              "      <td>0</td>\n",
              "      <td>0</td>\n",
              "      <td>0</td>\n",
              "      <td>0</td>\n",
              "      <td>1</td>\n",
              "      <td>0</td>\n",
              "      <td>0</td>\n",
              "      <td>0</td>\n",
              "      <td>0</td>\n",
              "    </tr>\n",
              "    <tr>\n",
              "      <th>13470</th>\n",
              "      <td>9.51</td>\n",
              "      <td>0.0</td>\n",
              "      <td>0</td>\n",
              "      <td>0</td>\n",
              "      <td>0</td>\n",
              "      <td>0</td>\n",
              "      <td>0</td>\n",
              "      <td>0</td>\n",
              "      <td>0</td>\n",
              "      <td>0</td>\n",
              "      <td>0</td>\n",
              "      <td>0</td>\n",
              "      <td>0</td>\n",
              "      <td>0</td>\n",
              "      <td>0</td>\n",
              "      <td>0</td>\n",
              "      <td>0</td>\n",
              "      <td>0</td>\n",
              "      <td>0</td>\n",
              "      <td>0</td>\n",
              "      <td>0</td>\n",
              "      <td>0</td>\n",
              "      <td>0</td>\n",
              "      <td>0</td>\n",
              "      <td>0</td>\n",
              "      <td>0</td>\n",
              "      <td>0</td>\n",
              "      <td>0</td>\n",
              "      <td>0</td>\n",
              "      <td>0</td>\n",
              "      <td>1</td>\n",
              "      <td>0</td>\n",
              "      <td>0</td>\n",
              "      <td>0</td>\n",
              "      <td>0</td>\n",
              "      <td>0</td>\n",
              "      <td>0</td>\n",
              "      <td>0</td>\n",
              "      <td>0</td>\n",
              "      <td>0</td>\n",
              "      <td>0</td>\n",
              "      <td>0</td>\n",
              "      <td>1</td>\n",
              "      <td>0</td>\n",
              "      <td>0</td>\n",
              "      <td>0</td>\n",
              "      <td>0</td>\n",
              "      <td>0</td>\n",
              "      <td>0</td>\n",
              "      <td>0</td>\n",
              "      <td>0</td>\n",
              "      <td>0</td>\n",
              "      <td>0</td>\n",
              "      <td>0</td>\n",
              "    </tr>\n",
              "    <tr>\n",
              "      <th>10629</th>\n",
              "      <td>10.30</td>\n",
              "      <td>1.0</td>\n",
              "      <td>0</td>\n",
              "      <td>0</td>\n",
              "      <td>0</td>\n",
              "      <td>0</td>\n",
              "      <td>0</td>\n",
              "      <td>0</td>\n",
              "      <td>0</td>\n",
              "      <td>0</td>\n",
              "      <td>0</td>\n",
              "      <td>0</td>\n",
              "      <td>0</td>\n",
              "      <td>0</td>\n",
              "      <td>0</td>\n",
              "      <td>0</td>\n",
              "      <td>0</td>\n",
              "      <td>0</td>\n",
              "      <td>0</td>\n",
              "      <td>0</td>\n",
              "      <td>0</td>\n",
              "      <td>0</td>\n",
              "      <td>0</td>\n",
              "      <td>1</td>\n",
              "      <td>0</td>\n",
              "      <td>0</td>\n",
              "      <td>0</td>\n",
              "      <td>0</td>\n",
              "      <td>0</td>\n",
              "      <td>0</td>\n",
              "      <td>0</td>\n",
              "      <td>0</td>\n",
              "      <td>0</td>\n",
              "      <td>0</td>\n",
              "      <td>0</td>\n",
              "      <td>0</td>\n",
              "      <td>0</td>\n",
              "      <td>0</td>\n",
              "      <td>0</td>\n",
              "      <td>0</td>\n",
              "      <td>0</td>\n",
              "      <td>0</td>\n",
              "      <td>0</td>\n",
              "      <td>0</td>\n",
              "      <td>0</td>\n",
              "      <td>0</td>\n",
              "      <td>0</td>\n",
              "      <td>0</td>\n",
              "      <td>1</td>\n",
              "      <td>0</td>\n",
              "      <td>0</td>\n",
              "      <td>0</td>\n",
              "      <td>0</td>\n",
              "      <td>0</td>\n",
              "    </tr>\n",
              "  </tbody>\n",
              "</table>\n",
              "</div>\n",
              "      <button class=\"colab-df-convert\" onclick=\"convertToInteractive('df-db3fbb8d-7481-4df1-a0f0-32415e65f221')\"\n",
              "              title=\"Convert this dataframe to an interactive table.\"\n",
              "              style=\"display:none;\">\n",
              "        \n",
              "  <svg xmlns=\"http://www.w3.org/2000/svg\" height=\"24px\"viewBox=\"0 0 24 24\"\n",
              "       width=\"24px\">\n",
              "    <path d=\"M0 0h24v24H0V0z\" fill=\"none\"/>\n",
              "    <path d=\"M18.56 5.44l.94 2.06.94-2.06 2.06-.94-2.06-.94-.94-2.06-.94 2.06-2.06.94zm-11 1L8.5 8.5l.94-2.06 2.06-.94-2.06-.94L8.5 2.5l-.94 2.06-2.06.94zm10 10l.94 2.06.94-2.06 2.06-.94-2.06-.94-.94-2.06-.94 2.06-2.06.94z\"/><path d=\"M17.41 7.96l-1.37-1.37c-.4-.4-.92-.59-1.43-.59-.52 0-1.04.2-1.43.59L10.3 9.45l-7.72 7.72c-.78.78-.78 2.05 0 2.83L4 21.41c.39.39.9.59 1.41.59.51 0 1.02-.2 1.41-.59l7.78-7.78 2.81-2.81c.8-.78.8-2.07 0-2.86zM5.41 20L4 18.59l7.72-7.72 1.47 1.35L5.41 20z\"/>\n",
              "  </svg>\n",
              "      </button>\n",
              "      \n",
              "  <style>\n",
              "    .colab-df-container {\n",
              "      display:flex;\n",
              "      flex-wrap:wrap;\n",
              "      gap: 12px;\n",
              "    }\n",
              "\n",
              "    .colab-df-convert {\n",
              "      background-color: #E8F0FE;\n",
              "      border: none;\n",
              "      border-radius: 50%;\n",
              "      cursor: pointer;\n",
              "      display: none;\n",
              "      fill: #1967D2;\n",
              "      height: 32px;\n",
              "      padding: 0 0 0 0;\n",
              "      width: 32px;\n",
              "    }\n",
              "\n",
              "    .colab-df-convert:hover {\n",
              "      background-color: #E2EBFA;\n",
              "      box-shadow: 0px 1px 2px rgba(60, 64, 67, 0.3), 0px 1px 3px 1px rgba(60, 64, 67, 0.15);\n",
              "      fill: #174EA6;\n",
              "    }\n",
              "\n",
              "    [theme=dark] .colab-df-convert {\n",
              "      background-color: #3B4455;\n",
              "      fill: #D2E3FC;\n",
              "    }\n",
              "\n",
              "    [theme=dark] .colab-df-convert:hover {\n",
              "      background-color: #434B5C;\n",
              "      box-shadow: 0px 1px 3px 1px rgba(0, 0, 0, 0.15);\n",
              "      filter: drop-shadow(0px 1px 2px rgba(0, 0, 0, 0.3));\n",
              "      fill: #FFFFFF;\n",
              "    }\n",
              "  </style>\n",
              "\n",
              "      <script>\n",
              "        const buttonEl =\n",
              "          document.querySelector('#df-db3fbb8d-7481-4df1-a0f0-32415e65f221 button.colab-df-convert');\n",
              "        buttonEl.style.display =\n",
              "          google.colab.kernel.accessAllowed ? 'block' : 'none';\n",
              "\n",
              "        async function convertToInteractive(key) {\n",
              "          const element = document.querySelector('#df-db3fbb8d-7481-4df1-a0f0-32415e65f221');\n",
              "          const dataTable =\n",
              "            await google.colab.kernel.invokeFunction('convertToInteractive',\n",
              "                                                     [key], {});\n",
              "          if (!dataTable) return;\n",
              "\n",
              "          const docLinkHtml = 'Like what you see? Visit the ' +\n",
              "            '<a target=\"_blank\" href=https://colab.research.google.com/notebooks/data_table.ipynb>data table notebook</a>'\n",
              "            + ' to learn more about interactive tables.';\n",
              "          element.innerHTML = '';\n",
              "          dataTable['output_type'] = 'display_data';\n",
              "          await google.colab.output.renderOutput(dataTable, element);\n",
              "          const docLink = document.createElement('div');\n",
              "          docLink.innerHTML = docLinkHtml;\n",
              "          element.appendChild(docLink);\n",
              "        }\n",
              "      </script>\n",
              "    </div>\n",
              "  </div>\n",
              "  "
            ],
            "text/plain": [
              "       temperatura  Precipitacion_group  ...  origen_Pais Vasco  origen_Valencia\n",
              "702          22.07                  0.0  ...                  0                0\n",
              "17623         9.40                  1.0  ...                  1                0\n",
              "10686        13.63                  1.0  ...                  0                0\n",
              "13470         9.51                  0.0  ...                  0                0\n",
              "10629        10.30                  1.0  ...                  0                0\n",
              "\n",
              "[5 rows x 54 columns]"
            ]
          },
          "metadata": {},
          "execution_count": 49
        }
      ]
    },
    {
      "cell_type": "code",
      "source": [
        "regr_month = RandomForestRegressor(n_estimators= 4, criterion='absolute_error', random_state=0)\n",
        "\n",
        "# Entrenamiento y ejecución del modelo\n",
        "regr_month.fit(X_train, y_train)\n",
        "y_pred = regr_month.predict(X_test)"
      ],
      "metadata": {
        "id": "6JFN5ECDgxCv"
      },
      "execution_count": 50,
      "outputs": []
    },
    {
      "cell_type": "code",
      "source": [
        "print (\"MAE:\", metrics.mean_absolute_error(y_pred , y_test))\n",
        "print (\"MAPE:\", metrics.mean_absolute_percentage_error(y_pred , y_test))\n",
        "print (\"MSE:\", metrics.mean_squared_error(y_pred , y_test))\n",
        "print (\"R^2:\", metrics.r2_score(y_pred , y_test))"
      ],
      "metadata": {
        "colab": {
          "base_uri": "https://localhost:8080/"
        },
        "id": "AO29m8ywhTuw",
        "outputId": "fbb9663f-2a4e-4b4f-d80e-cfbeb88c2ac8"
      },
      "execution_count": 51,
      "outputs": [
        {
          "output_type": "stream",
          "name": "stdout",
          "text": [
            "MAE: 0.2134568362975141\n",
            "MAPE: 0.1806802168213629\n",
            "MSE: 0.17175733461819367\n",
            "R^2: 0.6936667696452574\n"
          ]
        }
      ]
    },
    {
      "cell_type": "code",
      "source": [
        "xx = np.stack(i for i in range(len(y_test)))\n",
        "plt.scatter(xx, y_test, c='r', label='data')\n",
        "plt.plot(xx, y_pred, c='g', label='prediction')\n",
        "plt.axis('tight')\n",
        "plt.legend()\n",
        "plt.title(\"RandomForests Regressor\")\n",
        "\n",
        "plt.show()"
      ],
      "metadata": {
        "colab": {
          "base_uri": "https://localhost:8080/",
          "height": 339
        },
        "id": "gkX9gWSmhaOv",
        "outputId": "b02b7b3e-3d6d-4d10-ce66-e955dceed763"
      },
      "execution_count": 52,
      "outputs": [
        {
          "output_type": "stream",
          "name": "stderr",
          "text": [
            "/usr/local/lib/python3.7/dist-packages/IPython/core/interactiveshell.py:2822: FutureWarning: arrays to stack must be passed as a \"sequence\" type such as list or tuple. Support for non-sequence iterables such as generators is deprecated as of NumPy 1.16 and will raise an error in the future.\n",
            "  if self.run_code(code, result):\n"
          ]
        },
        {
          "output_type": "display_data",
          "data": {
            "image/png": "[encoded data removed]",
            "text/plain": [
              "<Figure size 432x288 with 1 Axes>"
            ]
          },
          "metadata": {}
        }
      ]
    },
    {
      "cell_type": "markdown",
      "source": [
        "#### 4.2.2 Modelo de la temperatura"
      ],
      "metadata": {
        "id": "cI8iNKBSiPVN"
      }
    },
    {
      "cell_type": "code",
      "source": [
        "X = agroanalisis[x_features_temperatura]\n",
        "y = agroanalisis['price_max_recolec']\n",
        "\n",
        "X_train, X_test, y_train, y_test = train_test_split( X, y, test_size=0.33, random_state=42)\n",
        "X_train.head()"
      ],
      "metadata": {
        "colab": {
          "base_uri": "https://localhost:8080/",
          "height": 288
        },
        "outputId": "40fea8a0-5f76-45ec-95b1-b9ad7f34f5a6",
        "id": "B5ZhxkiTiPVQ"
      },
      "execution_count": 53,
      "outputs": [
        {
          "output_type": "execute_result",
          "data": {
            "text/html": [
              "\n",
              "  <div id=\"df-f7bfd293-4fde-433c-a7d3-4bb170f0a15c\">\n",
              "    <div class=\"colab-df-container\">\n",
              "      <div>\n",
              "<style scoped>\n",
              "    .dataframe tbody tr th:only-of-type {\n",
              "        vertical-align: middle;\n",
              "    }\n",
              "\n",
              "    .dataframe tbody tr th {\n",
              "        vertical-align: top;\n",
              "    }\n",
              "\n",
              "    .dataframe thead th {\n",
              "        text-align: right;\n",
              "    }\n",
              "</style>\n",
              "<table border=\"1\" class=\"dataframe\">\n",
              "  <thead>\n",
              "    <tr style=\"text-align: right;\">\n",
              "      <th></th>\n",
              "      <th>MONTH</th>\n",
              "      <th>Precipitacion_group</th>\n",
              "      <th>product_ACELGA</th>\n",
              "      <th>product_AJO</th>\n",
              "      <th>product_ALCACHOFA</th>\n",
              "      <th>product_APIO</th>\n",
              "      <th>product_BERENJENA</th>\n",
              "      <th>product_BROCOLI</th>\n",
              "      <th>product_CALABACIN</th>\n",
              "      <th>product_CALABAZA</th>\n",
              "      <th>product_CEBOLLA</th>\n",
              "      <th>product_CEBOLLETA</th>\n",
              "      <th>product_CHIRIVIA</th>\n",
              "      <th>product_COL BRUSELAS</th>\n",
              "      <th>product_COL CHINA</th>\n",
              "      <th>product_COL LOMBARDA</th>\n",
              "      <th>product_COL REPOLLO</th>\n",
              "      <th>product_COLIFLOR</th>\n",
              "      <th>product_ESCAROLA</th>\n",
              "      <th>product_ESPINACA</th>\n",
              "      <th>product_GUISANTE</th>\n",
              "      <th>product_HABA</th>\n",
              "      <th>product_JUDIA</th>\n",
              "      <th>product_LECHUGA</th>\n",
              "      <th>product_MAIZ</th>\n",
              "      <th>product_MELON</th>\n",
              "      <th>product_NABO</th>\n",
              "      <th>product_PATATA</th>\n",
              "      <th>product_PEPINO</th>\n",
              "      <th>product_PEREJIL</th>\n",
              "      <th>product_PIMIENTO</th>\n",
              "      <th>product_PUERRO</th>\n",
              "      <th>product_RABANITO</th>\n",
              "      <th>product_REMOLACHA</th>\n",
              "      <th>product_SANDIA</th>\n",
              "      <th>product_TOMATE</th>\n",
              "      <th>product_ZANAHORIA</th>\n",
              "      <th>origen_Andalucia</th>\n",
              "      <th>origen_Aragon</th>\n",
              "      <th>origen_Asturias</th>\n",
              "      <th>origen_Baleares</th>\n",
              "      <th>origen_Canarias</th>\n",
              "      <th>origen_Cantabria</th>\n",
              "      <th>origen_Castilla La Mancha</th>\n",
              "      <th>origen_Castilla Leon</th>\n",
              "      <th>origen_Cataluña</th>\n",
              "      <th>origen_Extremadura</th>\n",
              "      <th>origen_Galicia</th>\n",
              "      <th>origen_La Rioja</th>\n",
              "      <th>origen_Madrid</th>\n",
              "      <th>origen_Murcia</th>\n",
              "      <th>origen_Navarra</th>\n",
              "      <th>origen_Pais Vasco</th>\n",
              "      <th>origen_Valencia</th>\n",
              "    </tr>\n",
              "  </thead>\n",
              "  <tbody>\n",
              "    <tr>\n",
              "      <th>702</th>\n",
              "      <td>9</td>\n",
              "      <td>0.0</td>\n",
              "      <td>0</td>\n",
              "      <td>1</td>\n",
              "      <td>0</td>\n",
              "      <td>0</td>\n",
              "      <td>0</td>\n",
              "      <td>0</td>\n",
              "      <td>0</td>\n",
              "      <td>0</td>\n",
              "      <td>0</td>\n",
              "      <td>0</td>\n",
              "      <td>0</td>\n",
              "      <td>0</td>\n",
              "      <td>0</td>\n",
              "      <td>0</td>\n",
              "      <td>0</td>\n",
              "      <td>0</td>\n",
              "      <td>0</td>\n",
              "      <td>0</td>\n",
              "      <td>0</td>\n",
              "      <td>0</td>\n",
              "      <td>0</td>\n",
              "      <td>0</td>\n",
              "      <td>0</td>\n",
              "      <td>0</td>\n",
              "      <td>0</td>\n",
              "      <td>0</td>\n",
              "      <td>0</td>\n",
              "      <td>0</td>\n",
              "      <td>0</td>\n",
              "      <td>0</td>\n",
              "      <td>0</td>\n",
              "      <td>0</td>\n",
              "      <td>0</td>\n",
              "      <td>0</td>\n",
              "      <td>0</td>\n",
              "      <td>0</td>\n",
              "      <td>0</td>\n",
              "      <td>0</td>\n",
              "      <td>0</td>\n",
              "      <td>0</td>\n",
              "      <td>0</td>\n",
              "      <td>1</td>\n",
              "      <td>0</td>\n",
              "      <td>0</td>\n",
              "      <td>0</td>\n",
              "      <td>0</td>\n",
              "      <td>0</td>\n",
              "      <td>0</td>\n",
              "      <td>0</td>\n",
              "      <td>0</td>\n",
              "      <td>0</td>\n",
              "      <td>0</td>\n",
              "    </tr>\n",
              "    <tr>\n",
              "      <th>17623</th>\n",
              "      <td>3</td>\n",
              "      <td>1.0</td>\n",
              "      <td>0</td>\n",
              "      <td>0</td>\n",
              "      <td>0</td>\n",
              "      <td>0</td>\n",
              "      <td>0</td>\n",
              "      <td>0</td>\n",
              "      <td>0</td>\n",
              "      <td>0</td>\n",
              "      <td>0</td>\n",
              "      <td>0</td>\n",
              "      <td>0</td>\n",
              "      <td>0</td>\n",
              "      <td>0</td>\n",
              "      <td>0</td>\n",
              "      <td>0</td>\n",
              "      <td>0</td>\n",
              "      <td>0</td>\n",
              "      <td>0</td>\n",
              "      <td>0</td>\n",
              "      <td>0</td>\n",
              "      <td>0</td>\n",
              "      <td>0</td>\n",
              "      <td>0</td>\n",
              "      <td>1</td>\n",
              "      <td>0</td>\n",
              "      <td>0</td>\n",
              "      <td>0</td>\n",
              "      <td>0</td>\n",
              "      <td>0</td>\n",
              "      <td>0</td>\n",
              "      <td>0</td>\n",
              "      <td>0</td>\n",
              "      <td>0</td>\n",
              "      <td>0</td>\n",
              "      <td>0</td>\n",
              "      <td>0</td>\n",
              "      <td>0</td>\n",
              "      <td>0</td>\n",
              "      <td>0</td>\n",
              "      <td>0</td>\n",
              "      <td>0</td>\n",
              "      <td>0</td>\n",
              "      <td>0</td>\n",
              "      <td>0</td>\n",
              "      <td>0</td>\n",
              "      <td>0</td>\n",
              "      <td>0</td>\n",
              "      <td>0</td>\n",
              "      <td>0</td>\n",
              "      <td>0</td>\n",
              "      <td>1</td>\n",
              "      <td>0</td>\n",
              "    </tr>\n",
              "    <tr>\n",
              "      <th>10686</th>\n",
              "      <td>10</td>\n",
              "      <td>1.0</td>\n",
              "      <td>0</td>\n",
              "      <td>0</td>\n",
              "      <td>0</td>\n",
              "      <td>0</td>\n",
              "      <td>0</td>\n",
              "      <td>0</td>\n",
              "      <td>0</td>\n",
              "      <td>0</td>\n",
              "      <td>0</td>\n",
              "      <td>0</td>\n",
              "      <td>0</td>\n",
              "      <td>0</td>\n",
              "      <td>0</td>\n",
              "      <td>0</td>\n",
              "      <td>0</td>\n",
              "      <td>0</td>\n",
              "      <td>0</td>\n",
              "      <td>0</td>\n",
              "      <td>0</td>\n",
              "      <td>0</td>\n",
              "      <td>0</td>\n",
              "      <td>1</td>\n",
              "      <td>0</td>\n",
              "      <td>0</td>\n",
              "      <td>0</td>\n",
              "      <td>0</td>\n",
              "      <td>0</td>\n",
              "      <td>0</td>\n",
              "      <td>0</td>\n",
              "      <td>0</td>\n",
              "      <td>0</td>\n",
              "      <td>0</td>\n",
              "      <td>0</td>\n",
              "      <td>0</td>\n",
              "      <td>0</td>\n",
              "      <td>0</td>\n",
              "      <td>0</td>\n",
              "      <td>0</td>\n",
              "      <td>0</td>\n",
              "      <td>0</td>\n",
              "      <td>0</td>\n",
              "      <td>0</td>\n",
              "      <td>0</td>\n",
              "      <td>0</td>\n",
              "      <td>0</td>\n",
              "      <td>0</td>\n",
              "      <td>0</td>\n",
              "      <td>1</td>\n",
              "      <td>0</td>\n",
              "      <td>0</td>\n",
              "      <td>0</td>\n",
              "      <td>0</td>\n",
              "    </tr>\n",
              "    <tr>\n",
              "      <th>13470</th>\n",
              "      <td>3</td>\n",
              "      <td>0.0</td>\n",
              "      <td>0</td>\n",
              "      <td>0</td>\n",
              "      <td>0</td>\n",
              "      <td>0</td>\n",
              "      <td>0</td>\n",
              "      <td>0</td>\n",
              "      <td>0</td>\n",
              "      <td>0</td>\n",
              "      <td>0</td>\n",
              "      <td>0</td>\n",
              "      <td>0</td>\n",
              "      <td>0</td>\n",
              "      <td>0</td>\n",
              "      <td>0</td>\n",
              "      <td>0</td>\n",
              "      <td>0</td>\n",
              "      <td>0</td>\n",
              "      <td>0</td>\n",
              "      <td>0</td>\n",
              "      <td>0</td>\n",
              "      <td>0</td>\n",
              "      <td>0</td>\n",
              "      <td>0</td>\n",
              "      <td>0</td>\n",
              "      <td>0</td>\n",
              "      <td>0</td>\n",
              "      <td>0</td>\n",
              "      <td>0</td>\n",
              "      <td>1</td>\n",
              "      <td>0</td>\n",
              "      <td>0</td>\n",
              "      <td>0</td>\n",
              "      <td>0</td>\n",
              "      <td>0</td>\n",
              "      <td>0</td>\n",
              "      <td>0</td>\n",
              "      <td>0</td>\n",
              "      <td>0</td>\n",
              "      <td>0</td>\n",
              "      <td>0</td>\n",
              "      <td>1</td>\n",
              "      <td>0</td>\n",
              "      <td>0</td>\n",
              "      <td>0</td>\n",
              "      <td>0</td>\n",
              "      <td>0</td>\n",
              "      <td>0</td>\n",
              "      <td>0</td>\n",
              "      <td>0</td>\n",
              "      <td>0</td>\n",
              "      <td>0</td>\n",
              "      <td>0</td>\n",
              "    </tr>\n",
              "    <tr>\n",
              "      <th>10629</th>\n",
              "      <td>4</td>\n",
              "      <td>1.0</td>\n",
              "      <td>0</td>\n",
              "      <td>0</td>\n",
              "      <td>0</td>\n",
              "      <td>0</td>\n",
              "      <td>0</td>\n",
              "      <td>0</td>\n",
              "      <td>0</td>\n",
              "      <td>0</td>\n",
              "      <td>0</td>\n",
              "      <td>0</td>\n",
              "      <td>0</td>\n",
              "      <td>0</td>\n",
              "      <td>0</td>\n",
              "      <td>0</td>\n",
              "      <td>0</td>\n",
              "      <td>0</td>\n",
              "      <td>0</td>\n",
              "      <td>0</td>\n",
              "      <td>0</td>\n",
              "      <td>0</td>\n",
              "      <td>0</td>\n",
              "      <td>1</td>\n",
              "      <td>0</td>\n",
              "      <td>0</td>\n",
              "      <td>0</td>\n",
              "      <td>0</td>\n",
              "      <td>0</td>\n",
              "      <td>0</td>\n",
              "      <td>0</td>\n",
              "      <td>0</td>\n",
              "      <td>0</td>\n",
              "      <td>0</td>\n",
              "      <td>0</td>\n",
              "      <td>0</td>\n",
              "      <td>0</td>\n",
              "      <td>0</td>\n",
              "      <td>0</td>\n",
              "      <td>0</td>\n",
              "      <td>0</td>\n",
              "      <td>0</td>\n",
              "      <td>0</td>\n",
              "      <td>0</td>\n",
              "      <td>0</td>\n",
              "      <td>0</td>\n",
              "      <td>0</td>\n",
              "      <td>0</td>\n",
              "      <td>1</td>\n",
              "      <td>0</td>\n",
              "      <td>0</td>\n",
              "      <td>0</td>\n",
              "      <td>0</td>\n",
              "      <td>0</td>\n",
              "    </tr>\n",
              "  </tbody>\n",
              "</table>\n",
              "</div>\n",
              "      <button class=\"colab-df-convert\" onclick=\"convertToInteractive('df-f7bfd293-4fde-433c-a7d3-4bb170f0a15c')\"\n",
              "              title=\"Convert this dataframe to an interactive table.\"\n",
              "              style=\"display:none;\">\n",
              "        \n",
              "  <svg xmlns=\"http://www.w3.org/2000/svg\" height=\"24px\"viewBox=\"0 0 24 24\"\n",
              "       width=\"24px\">\n",
              "    <path d=\"M0 0h24v24H0V0z\" fill=\"none\"/>\n",
              "    <path d=\"M18.56 5.44l.94 2.06.94-2.06 2.06-.94-2.06-.94-.94-2.06-.94 2.06-2.06.94zm-11 1L8.5 8.5l.94-2.06 2.06-.94-2.06-.94L8.5 2.5l-.94 2.06-2.06.94zm10 10l.94 2.06.94-2.06 2.06-.94-2.06-.94-.94-2.06-.94 2.06-2.06.94z\"/><path d=\"M17.41 7.96l-1.37-1.37c-.4-.4-.92-.59-1.43-.59-.52 0-1.04.2-1.43.59L10.3 9.45l-7.72 7.72c-.78.78-.78 2.05 0 2.83L4 21.41c.39.39.9.59 1.41.59.51 0 1.02-.2 1.41-.59l7.78-7.78 2.81-2.81c.8-.78.8-2.07 0-2.86zM5.41 20L4 18.59l7.72-7.72 1.47 1.35L5.41 20z\"/>\n",
              "  </svg>\n",
              "      </button>\n",
              "      \n",
              "  <style>\n",
              "    .colab-df-container {\n",
              "      display:flex;\n",
              "      flex-wrap:wrap;\n",
              "      gap: 12px;\n",
              "    }\n",
              "\n",
              "    .colab-df-convert {\n",
              "      background-color: #E8F0FE;\n",
              "      border: none;\n",
              "      border-radius: 50%;\n",
              "      cursor: pointer;\n",
              "      display: none;\n",
              "      fill: #1967D2;\n",
              "      height: 32px;\n",
              "      padding: 0 0 0 0;\n",
              "      width: 32px;\n",
              "    }\n",
              "\n",
              "    .colab-df-convert:hover {\n",
              "      background-color: #E2EBFA;\n",
              "      box-shadow: 0px 1px 2px rgba(60, 64, 67, 0.3), 0px 1px 3px 1px rgba(60, 64, 67, 0.15);\n",
              "      fill: #174EA6;\n",
              "    }\n",
              "\n",
              "    [theme=dark] .colab-df-convert {\n",
              "      background-color: #3B4455;\n",
              "      fill: #D2E3FC;\n",
              "    }\n",
              "\n",
              "    [theme=dark] .colab-df-convert:hover {\n",
              "      background-color: #434B5C;\n",
              "      box-shadow: 0px 1px 3px 1px rgba(0, 0, 0, 0.15);\n",
              "      filter: drop-shadow(0px 1px 2px rgba(0, 0, 0, 0.3));\n",
              "      fill: #FFFFFF;\n",
              "    }\n",
              "  </style>\n",
              "\n",
              "      <script>\n",
              "        const buttonEl =\n",
              "          document.querySelector('#df-f7bfd293-4fde-433c-a7d3-4bb170f0a15c button.colab-df-convert');\n",
              "        buttonEl.style.display =\n",
              "          google.colab.kernel.accessAllowed ? 'block' : 'none';\n",
              "\n",
              "        async function convertToInteractive(key) {\n",
              "          const element = document.querySelector('#df-f7bfd293-4fde-433c-a7d3-4bb170f0a15c');\n",
              "          const dataTable =\n",
              "            await google.colab.kernel.invokeFunction('convertToInteractive',\n",
              "                                                     [key], {});\n",
              "          if (!dataTable) return;\n",
              "\n",
              "          const docLinkHtml = 'Like what you see? Visit the ' +\n",
              "            '<a target=\"_blank\" href=https://colab.research.google.com/notebooks/data_table.ipynb>data table notebook</a>'\n",
              "            + ' to learn more about interactive tables.';\n",
              "          element.innerHTML = '';\n",
              "          dataTable['output_type'] = 'display_data';\n",
              "          await google.colab.output.renderOutput(dataTable, element);\n",
              "          const docLink = document.createElement('div');\n",
              "          docLink.innerHTML = docLinkHtml;\n",
              "          element.appendChild(docLink);\n",
              "        }\n",
              "      </script>\n",
              "    </div>\n",
              "  </div>\n",
              "  "
            ],
            "text/plain": [
              "       MONTH  Precipitacion_group  ...  origen_Pais Vasco  origen_Valencia\n",
              "702        9                  0.0  ...                  0                0\n",
              "17623      3                  1.0  ...                  1                0\n",
              "10686     10                  1.0  ...                  0                0\n",
              "13470      3                  0.0  ...                  0                0\n",
              "10629      4                  1.0  ...                  0                0\n",
              "\n",
              "[5 rows x 54 columns]"
            ]
          },
          "metadata": {},
          "execution_count": 53
        }
      ]
    },
    {
      "cell_type": "code",
      "source": [
        "regr_temp = RandomForestRegressor(n_estimators= 4, criterion='absolute_error', random_state=0)\n",
        "\n",
        "# Entrenamiento y ejecución del modelo\n",
        "regr_temp.fit(X_train, y_train)\n",
        "y_pred = regr_temp.predict(X_test)"
      ],
      "metadata": {
        "id": "DccGAX0TiPVZ"
      },
      "execution_count": 54,
      "outputs": []
    },
    {
      "cell_type": "code",
      "source": [
        "print (\"MAE:\", metrics.mean_absolute_error(y_pred , y_test))\n",
        "print (\"MAPE:\", metrics.mean_absolute_percentage_error(y_pred , y_test))\n",
        "print (\"MSE:\", metrics.mean_squared_error(y_pred , y_test))\n",
        "print (\"R^2:\", metrics.r2_score(y_pred , y_test))"
      ],
      "metadata": {
        "colab": {
          "base_uri": "https://localhost:8080/"
        },
        "outputId": "8c712f93-a711-42e3-c148-9ef3de1e659d",
        "id": "jcRXt2vmiPVd"
      },
      "execution_count": 55,
      "outputs": [
        {
          "output_type": "stream",
          "name": "stdout",
          "text": [
            "MAE: 0.21699185006444177\n",
            "MAPE: 0.17694889125716265\n",
            "MSE: 0.18760731484797083\n",
            "R^2: 0.7073456286672091\n"
          ]
        }
      ]
    },
    {
      "cell_type": "code",
      "source": [
        "xx = np.stack(i for i in range(len(y_test)))\n",
        "plt.scatter(xx, y_test, c='r', label='data')\n",
        "plt.plot(xx, y_pred, c='g', label='prediction')\n",
        "plt.axis('tight')\n",
        "plt.legend()\n",
        "plt.title(\"RandomForests Regressor\")\n",
        "\n",
        "plt.show()"
      ],
      "metadata": {
        "colab": {
          "base_uri": "https://localhost:8080/",
          "height": 339
        },
        "outputId": "d4c5d25c-6ebc-40de-ec8d-0d7f01da74c1",
        "id": "t68xuNywiPVh"
      },
      "execution_count": 56,
      "outputs": [
        {
          "output_type": "stream",
          "name": "stderr",
          "text": [
            "/usr/local/lib/python3.7/dist-packages/IPython/core/interactiveshell.py:2822: FutureWarning: arrays to stack must be passed as a \"sequence\" type such as list or tuple. Support for non-sequence iterables such as generators is deprecated as of NumPy 1.16 and will raise an error in the future.\n",
            "  if self.run_code(code, result):\n"
          ]
        },
        {
          "output_type": "display_data",
          "data": {
            "image/png": "[encoded data removed]",
            "text/plain": [
              "<Figure size 432x288 with 1 Axes>"
            ]
          },
          "metadata": {}
        }
      ]
    },
    {
      "cell_type": "markdown",
      "source": [
        "#### 4.2.3 Modelo de la precipitación"
      ],
      "metadata": {
        "id": "d5ElrW_WiRoV"
      }
    },
    {
      "cell_type": "code",
      "source": [
        "X = agroanalisis[x_features_precipitacion]\n",
        "y = agroanalisis['price_max_recolec']\n",
        "\n",
        "X_train, X_test, y_train, y_test = train_test_split( X, y, test_size=0.33, random_state=42)\n",
        "X_train.head()"
      ],
      "metadata": {
        "colab": {
          "base_uri": "https://localhost:8080/",
          "height": 288
        },
        "outputId": "93034ca8-de6e-47ed-fb4d-3b6f76dda0a2",
        "id": "zONO6AqJiRoZ"
      },
      "execution_count": 57,
      "outputs": [
        {
          "output_type": "execute_result",
          "data": {
            "text/html": [
              "\n",
              "  <div id=\"df-96ca7ce9-8183-445b-a96e-93db39c2eddc\">\n",
              "    <div class=\"colab-df-container\">\n",
              "      <div>\n",
              "<style scoped>\n",
              "    .dataframe tbody tr th:only-of-type {\n",
              "        vertical-align: middle;\n",
              "    }\n",
              "\n",
              "    .dataframe tbody tr th {\n",
              "        vertical-align: top;\n",
              "    }\n",
              "\n",
              "    .dataframe thead th {\n",
              "        text-align: right;\n",
              "    }\n",
              "</style>\n",
              "<table border=\"1\" class=\"dataframe\">\n",
              "  <thead>\n",
              "    <tr style=\"text-align: right;\">\n",
              "      <th></th>\n",
              "      <th>MONTH</th>\n",
              "      <th>temperatura</th>\n",
              "      <th>product_ACELGA</th>\n",
              "      <th>product_AJO</th>\n",
              "      <th>product_ALCACHOFA</th>\n",
              "      <th>product_APIO</th>\n",
              "      <th>product_BERENJENA</th>\n",
              "      <th>product_BROCOLI</th>\n",
              "      <th>product_CALABACIN</th>\n",
              "      <th>product_CALABAZA</th>\n",
              "      <th>product_CEBOLLA</th>\n",
              "      <th>product_CEBOLLETA</th>\n",
              "      <th>product_CHIRIVIA</th>\n",
              "      <th>product_COL BRUSELAS</th>\n",
              "      <th>product_COL CHINA</th>\n",
              "      <th>product_COL LOMBARDA</th>\n",
              "      <th>product_COL REPOLLO</th>\n",
              "      <th>product_COLIFLOR</th>\n",
              "      <th>product_ESCAROLA</th>\n",
              "      <th>product_ESPINACA</th>\n",
              "      <th>product_GUISANTE</th>\n",
              "      <th>product_HABA</th>\n",
              "      <th>product_JUDIA</th>\n",
              "      <th>product_LECHUGA</th>\n",
              "      <th>product_MAIZ</th>\n",
              "      <th>product_MELON</th>\n",
              "      <th>product_NABO</th>\n",
              "      <th>product_PATATA</th>\n",
              "      <th>product_PEPINO</th>\n",
              "      <th>product_PEREJIL</th>\n",
              "      <th>product_PIMIENTO</th>\n",
              "      <th>product_PUERRO</th>\n",
              "      <th>product_RABANITO</th>\n",
              "      <th>product_REMOLACHA</th>\n",
              "      <th>product_SANDIA</th>\n",
              "      <th>product_TOMATE</th>\n",
              "      <th>product_ZANAHORIA</th>\n",
              "      <th>origen_Andalucia</th>\n",
              "      <th>origen_Aragon</th>\n",
              "      <th>origen_Asturias</th>\n",
              "      <th>origen_Baleares</th>\n",
              "      <th>origen_Canarias</th>\n",
              "      <th>origen_Cantabria</th>\n",
              "      <th>origen_Castilla La Mancha</th>\n",
              "      <th>origen_Castilla Leon</th>\n",
              "      <th>origen_Cataluña</th>\n",
              "      <th>origen_Extremadura</th>\n",
              "      <th>origen_Galicia</th>\n",
              "      <th>origen_La Rioja</th>\n",
              "      <th>origen_Madrid</th>\n",
              "      <th>origen_Murcia</th>\n",
              "      <th>origen_Navarra</th>\n",
              "      <th>origen_Pais Vasco</th>\n",
              "      <th>origen_Valencia</th>\n",
              "    </tr>\n",
              "  </thead>\n",
              "  <tbody>\n",
              "    <tr>\n",
              "      <th>702</th>\n",
              "      <td>9</td>\n",
              "      <td>22.07</td>\n",
              "      <td>0</td>\n",
              "      <td>1</td>\n",
              "      <td>0</td>\n",
              "      <td>0</td>\n",
              "      <td>0</td>\n",
              "      <td>0</td>\n",
              "      <td>0</td>\n",
              "      <td>0</td>\n",
              "      <td>0</td>\n",
              "      <td>0</td>\n",
              "      <td>0</td>\n",
              "      <td>0</td>\n",
              "      <td>0</td>\n",
              "      <td>0</td>\n",
              "      <td>0</td>\n",
              "      <td>0</td>\n",
              "      <td>0</td>\n",
              "      <td>0</td>\n",
              "      <td>0</td>\n",
              "      <td>0</td>\n",
              "      <td>0</td>\n",
              "      <td>0</td>\n",
              "      <td>0</td>\n",
              "      <td>0</td>\n",
              "      <td>0</td>\n",
              "      <td>0</td>\n",
              "      <td>0</td>\n",
              "      <td>0</td>\n",
              "      <td>0</td>\n",
              "      <td>0</td>\n",
              "      <td>0</td>\n",
              "      <td>0</td>\n",
              "      <td>0</td>\n",
              "      <td>0</td>\n",
              "      <td>0</td>\n",
              "      <td>0</td>\n",
              "      <td>0</td>\n",
              "      <td>0</td>\n",
              "      <td>0</td>\n",
              "      <td>0</td>\n",
              "      <td>0</td>\n",
              "      <td>1</td>\n",
              "      <td>0</td>\n",
              "      <td>0</td>\n",
              "      <td>0</td>\n",
              "      <td>0</td>\n",
              "      <td>0</td>\n",
              "      <td>0</td>\n",
              "      <td>0</td>\n",
              "      <td>0</td>\n",
              "      <td>0</td>\n",
              "      <td>0</td>\n",
              "    </tr>\n",
              "    <tr>\n",
              "      <th>17623</th>\n",
              "      <td>3</td>\n",
              "      <td>9.40</td>\n",
              "      <td>0</td>\n",
              "      <td>0</td>\n",
              "      <td>0</td>\n",
              "      <td>0</td>\n",
              "      <td>0</td>\n",
              "      <td>0</td>\n",
              "      <td>0</td>\n",
              "      <td>0</td>\n",
              "      <td>0</td>\n",
              "      <td>0</td>\n",
              "      <td>0</td>\n",
              "      <td>0</td>\n",
              "      <td>0</td>\n",
              "      <td>0</td>\n",
              "      <td>0</td>\n",
              "      <td>0</td>\n",
              "      <td>0</td>\n",
              "      <td>0</td>\n",
              "      <td>0</td>\n",
              "      <td>0</td>\n",
              "      <td>0</td>\n",
              "      <td>0</td>\n",
              "      <td>0</td>\n",
              "      <td>1</td>\n",
              "      <td>0</td>\n",
              "      <td>0</td>\n",
              "      <td>0</td>\n",
              "      <td>0</td>\n",
              "      <td>0</td>\n",
              "      <td>0</td>\n",
              "      <td>0</td>\n",
              "      <td>0</td>\n",
              "      <td>0</td>\n",
              "      <td>0</td>\n",
              "      <td>0</td>\n",
              "      <td>0</td>\n",
              "      <td>0</td>\n",
              "      <td>0</td>\n",
              "      <td>0</td>\n",
              "      <td>0</td>\n",
              "      <td>0</td>\n",
              "      <td>0</td>\n",
              "      <td>0</td>\n",
              "      <td>0</td>\n",
              "      <td>0</td>\n",
              "      <td>0</td>\n",
              "      <td>0</td>\n",
              "      <td>0</td>\n",
              "      <td>0</td>\n",
              "      <td>0</td>\n",
              "      <td>1</td>\n",
              "      <td>0</td>\n",
              "    </tr>\n",
              "    <tr>\n",
              "      <th>10686</th>\n",
              "      <td>10</td>\n",
              "      <td>13.63</td>\n",
              "      <td>0</td>\n",
              "      <td>0</td>\n",
              "      <td>0</td>\n",
              "      <td>0</td>\n",
              "      <td>0</td>\n",
              "      <td>0</td>\n",
              "      <td>0</td>\n",
              "      <td>0</td>\n",
              "      <td>0</td>\n",
              "      <td>0</td>\n",
              "      <td>0</td>\n",
              "      <td>0</td>\n",
              "      <td>0</td>\n",
              "      <td>0</td>\n",
              "      <td>0</td>\n",
              "      <td>0</td>\n",
              "      <td>0</td>\n",
              "      <td>0</td>\n",
              "      <td>0</td>\n",
              "      <td>0</td>\n",
              "      <td>0</td>\n",
              "      <td>1</td>\n",
              "      <td>0</td>\n",
              "      <td>0</td>\n",
              "      <td>0</td>\n",
              "      <td>0</td>\n",
              "      <td>0</td>\n",
              "      <td>0</td>\n",
              "      <td>0</td>\n",
              "      <td>0</td>\n",
              "      <td>0</td>\n",
              "      <td>0</td>\n",
              "      <td>0</td>\n",
              "      <td>0</td>\n",
              "      <td>0</td>\n",
              "      <td>0</td>\n",
              "      <td>0</td>\n",
              "      <td>0</td>\n",
              "      <td>0</td>\n",
              "      <td>0</td>\n",
              "      <td>0</td>\n",
              "      <td>0</td>\n",
              "      <td>0</td>\n",
              "      <td>0</td>\n",
              "      <td>0</td>\n",
              "      <td>0</td>\n",
              "      <td>0</td>\n",
              "      <td>1</td>\n",
              "      <td>0</td>\n",
              "      <td>0</td>\n",
              "      <td>0</td>\n",
              "      <td>0</td>\n",
              "    </tr>\n",
              "    <tr>\n",
              "      <th>13470</th>\n",
              "      <td>3</td>\n",
              "      <td>9.51</td>\n",
              "      <td>0</td>\n",
              "      <td>0</td>\n",
              "      <td>0</td>\n",
              "      <td>0</td>\n",
              "      <td>0</td>\n",
              "      <td>0</td>\n",
              "      <td>0</td>\n",
              "      <td>0</td>\n",
              "      <td>0</td>\n",
              "      <td>0</td>\n",
              "      <td>0</td>\n",
              "      <td>0</td>\n",
              "      <td>0</td>\n",
              "      <td>0</td>\n",
              "      <td>0</td>\n",
              "      <td>0</td>\n",
              "      <td>0</td>\n",
              "      <td>0</td>\n",
              "      <td>0</td>\n",
              "      <td>0</td>\n",
              "      <td>0</td>\n",
              "      <td>0</td>\n",
              "      <td>0</td>\n",
              "      <td>0</td>\n",
              "      <td>0</td>\n",
              "      <td>0</td>\n",
              "      <td>0</td>\n",
              "      <td>0</td>\n",
              "      <td>1</td>\n",
              "      <td>0</td>\n",
              "      <td>0</td>\n",
              "      <td>0</td>\n",
              "      <td>0</td>\n",
              "      <td>0</td>\n",
              "      <td>0</td>\n",
              "      <td>0</td>\n",
              "      <td>0</td>\n",
              "      <td>0</td>\n",
              "      <td>0</td>\n",
              "      <td>0</td>\n",
              "      <td>1</td>\n",
              "      <td>0</td>\n",
              "      <td>0</td>\n",
              "      <td>0</td>\n",
              "      <td>0</td>\n",
              "      <td>0</td>\n",
              "      <td>0</td>\n",
              "      <td>0</td>\n",
              "      <td>0</td>\n",
              "      <td>0</td>\n",
              "      <td>0</td>\n",
              "      <td>0</td>\n",
              "    </tr>\n",
              "    <tr>\n",
              "      <th>10629</th>\n",
              "      <td>4</td>\n",
              "      <td>10.30</td>\n",
              "      <td>0</td>\n",
              "      <td>0</td>\n",
              "      <td>0</td>\n",
              "      <td>0</td>\n",
              "      <td>0</td>\n",
              "      <td>0</td>\n",
              "      <td>0</td>\n",
              "      <td>0</td>\n",
              "      <td>0</td>\n",
              "      <td>0</td>\n",
              "      <td>0</td>\n",
              "      <td>0</td>\n",
              "      <td>0</td>\n",
              "      <td>0</td>\n",
              "      <td>0</td>\n",
              "      <td>0</td>\n",
              "      <td>0</td>\n",
              "      <td>0</td>\n",
              "      <td>0</td>\n",
              "      <td>0</td>\n",
              "      <td>0</td>\n",
              "      <td>1</td>\n",
              "      <td>0</td>\n",
              "      <td>0</td>\n",
              "      <td>0</td>\n",
              "      <td>0</td>\n",
              "      <td>0</td>\n",
              "      <td>0</td>\n",
              "      <td>0</td>\n",
              "      <td>0</td>\n",
              "      <td>0</td>\n",
              "      <td>0</td>\n",
              "      <td>0</td>\n",
              "      <td>0</td>\n",
              "      <td>0</td>\n",
              "      <td>0</td>\n",
              "      <td>0</td>\n",
              "      <td>0</td>\n",
              "      <td>0</td>\n",
              "      <td>0</td>\n",
              "      <td>0</td>\n",
              "      <td>0</td>\n",
              "      <td>0</td>\n",
              "      <td>0</td>\n",
              "      <td>0</td>\n",
              "      <td>0</td>\n",
              "      <td>1</td>\n",
              "      <td>0</td>\n",
              "      <td>0</td>\n",
              "      <td>0</td>\n",
              "      <td>0</td>\n",
              "      <td>0</td>\n",
              "    </tr>\n",
              "  </tbody>\n",
              "</table>\n",
              "</div>\n",
              "      <button class=\"colab-df-convert\" onclick=\"convertToInteractive('df-96ca7ce9-8183-445b-a96e-93db39c2eddc')\"\n",
              "              title=\"Convert this dataframe to an interactive table.\"\n",
              "              style=\"display:none;\">\n",
              "        \n",
              "  <svg xmlns=\"http://www.w3.org/2000/svg\" height=\"24px\"viewBox=\"0 0 24 24\"\n",
              "       width=\"24px\">\n",
              "    <path d=\"M0 0h24v24H0V0z\" fill=\"none\"/>\n",
              "    <path d=\"M18.56 5.44l.94 2.06.94-2.06 2.06-.94-2.06-.94-.94-2.06-.94 2.06-2.06.94zm-11 1L8.5 8.5l.94-2.06 2.06-.94-2.06-.94L8.5 2.5l-.94 2.06-2.06.94zm10 10l.94 2.06.94-2.06 2.06-.94-2.06-.94-.94-2.06-.94 2.06-2.06.94z\"/><path d=\"M17.41 7.96l-1.37-1.37c-.4-.4-.92-.59-1.43-.59-.52 0-1.04.2-1.43.59L10.3 9.45l-7.72 7.72c-.78.78-.78 2.05 0 2.83L4 21.41c.39.39.9.59 1.41.59.51 0 1.02-.2 1.41-.59l7.78-7.78 2.81-2.81c.8-.78.8-2.07 0-2.86zM5.41 20L4 18.59l7.72-7.72 1.47 1.35L5.41 20z\"/>\n",
              "  </svg>\n",
              "      </button>\n",
              "      \n",
              "  <style>\n",
              "    .colab-df-container {\n",
              "      display:flex;\n",
              "      flex-wrap:wrap;\n",
              "      gap: 12px;\n",
              "    }\n",
              "\n",
              "    .colab-df-convert {\n",
              "      background-color: #E8F0FE;\n",
              "      border: none;\n",
              "      border-radius: 50%;\n",
              "      cursor: pointer;\n",
              "      display: none;\n",
              "      fill: #1967D2;\n",
              "      height: 32px;\n",
              "      padding: 0 0 0 0;\n",
              "      width: 32px;\n",
              "    }\n",
              "\n",
              "    .colab-df-convert:hover {\n",
              "      background-color: #E2EBFA;\n",
              "      box-shadow: 0px 1px 2px rgba(60, 64, 67, 0.3), 0px 1px 3px 1px rgba(60, 64, 67, 0.15);\n",
              "      fill: #174EA6;\n",
              "    }\n",
              "\n",
              "    [theme=dark] .colab-df-convert {\n",
              "      background-color: #3B4455;\n",
              "      fill: #D2E3FC;\n",
              "    }\n",
              "\n",
              "    [theme=dark] .colab-df-convert:hover {\n",
              "      background-color: #434B5C;\n",
              "      box-shadow: 0px 1px 3px 1px rgba(0, 0, 0, 0.15);\n",
              "      filter: drop-shadow(0px 1px 2px rgba(0, 0, 0, 0.3));\n",
              "      fill: #FFFFFF;\n",
              "    }\n",
              "  </style>\n",
              "\n",
              "      <script>\n",
              "        const buttonEl =\n",
              "          document.querySelector('#df-96ca7ce9-8183-445b-a96e-93db39c2eddc button.colab-df-convert');\n",
              "        buttonEl.style.display =\n",
              "          google.colab.kernel.accessAllowed ? 'block' : 'none';\n",
              "\n",
              "        async function convertToInteractive(key) {\n",
              "          const element = document.querySelector('#df-96ca7ce9-8183-445b-a96e-93db39c2eddc');\n",
              "          const dataTable =\n",
              "            await google.colab.kernel.invokeFunction('convertToInteractive',\n",
              "                                                     [key], {});\n",
              "          if (!dataTable) return;\n",
              "\n",
              "          const docLinkHtml = 'Like what you see? Visit the ' +\n",
              "            '<a target=\"_blank\" href=https://colab.research.google.com/notebooks/data_table.ipynb>data table notebook</a>'\n",
              "            + ' to learn more about interactive tables.';\n",
              "          element.innerHTML = '';\n",
              "          dataTable['output_type'] = 'display_data';\n",
              "          await google.colab.output.renderOutput(dataTable, element);\n",
              "          const docLink = document.createElement('div');\n",
              "          docLink.innerHTML = docLinkHtml;\n",
              "          element.appendChild(docLink);\n",
              "        }\n",
              "      </script>\n",
              "    </div>\n",
              "  </div>\n",
              "  "
            ],
            "text/plain": [
              "       MONTH  temperatura  ...  origen_Pais Vasco  origen_Valencia\n",
              "702        9        22.07  ...                  0                0\n",
              "17623      3         9.40  ...                  1                0\n",
              "10686     10        13.63  ...                  0                0\n",
              "13470      3         9.51  ...                  0                0\n",
              "10629      4        10.30  ...                  0                0\n",
              "\n",
              "[5 rows x 54 columns]"
            ]
          },
          "metadata": {},
          "execution_count": 57
        }
      ]
    },
    {
      "cell_type": "code",
      "source": [
        "regr_precip = RandomForestRegressor(n_estimators= 4, criterion='absolute_error', random_state=0)\n",
        "\n",
        "# Entrenamiento y ejecución del modelo\n",
        "regr_precip.fit(X_train, y_train)\n",
        "y_pred = regr_precip.predict(X_test)"
      ],
      "metadata": {
        "id": "94io2AppiRok"
      },
      "execution_count": 58,
      "outputs": []
    },
    {
      "cell_type": "code",
      "source": [
        "print (\"MAE:\", metrics.mean_absolute_error(y_pred , y_test))\n",
        "print (\"MAPE:\", metrics.mean_absolute_percentage_error(y_pred , y_test))\n",
        "print (\"MSE:\", metrics.mean_squared_error(y_pred , y_test))\n",
        "print (\"R^2:\", metrics.r2_score(y_pred , y_test))"
      ],
      "metadata": {
        "colab": {
          "base_uri": "https://localhost:8080/"
        },
        "outputId": "9bd44ec1-6e5c-417e-b8d5-3a6e43167d0f",
        "id": "wK-H8sIIiRoo"
      },
      "execution_count": 59,
      "outputs": [
        {
          "output_type": "stream",
          "name": "stdout",
          "text": [
            "MAE: 0.21748720457323692\n",
            "MAPE: 0.18146379735391652\n",
            "MSE: 0.17335876650329177\n",
            "R^2: 0.7010750433823212\n"
          ]
        }
      ]
    },
    {
      "cell_type": "code",
      "source": [
        "xx = np.stack(i for i in range(len(y_test)))\n",
        "plt.scatter(xx, y_test, c='r', label='data')\n",
        "plt.plot(xx, y_pred, c='g', label='prediction')\n",
        "plt.axis('tight')\n",
        "plt.legend()\n",
        "plt.title(\"RandomForests Regressor\")\n",
        "\n",
        "plt.show()"
      ],
      "metadata": {
        "colab": {
          "base_uri": "https://localhost:8080/",
          "height": 339
        },
        "outputId": "5f4219f0-d9ba-4398-df6f-ddd6e7675443",
        "id": "sbvxVuveiRoq"
      },
      "execution_count": 60,
      "outputs": [
        {
          "output_type": "stream",
          "name": "stderr",
          "text": [
            "/usr/local/lib/python3.7/dist-packages/IPython/core/interactiveshell.py:2822: FutureWarning: arrays to stack must be passed as a \"sequence\" type such as list or tuple. Support for non-sequence iterables such as generators is deprecated as of NumPy 1.16 and will raise an error in the future.\n",
            "  if self.run_code(code, result):\n"
          ]
        },
        {
          "output_type": "display_data",
          "data": {
            "image/png": "[encoded data removed]",
            "text/plain": [
              "<Figure size 432x288 with 1 Axes>"
            ]
          },
          "metadata": {}
        }
      ]
    },
    {
      "cell_type": "markdown",
      "source": [
        "#### 4.2.4 Integración de los modelos"
      ],
      "metadata": {
        "id": "w-rBzf0Ir531"
      }
    },
    {
      "cell_type": "markdown",
      "source": [
        "A continuación, se integrarán todos los modelos anteriores, para mostrar la **diferencia entre los beneficios predichos y los reales**, indicando así si el factor influyó positiva o negativamente."
      ],
      "metadata": {
        "id": "zqumWXrfgr7H"
      }
    },
    {
      "cell_type": "code",
      "source": [
        "def to_table (dif_month, dif_temperatura, dif_precipitacion): # Funcion para mostrar las diferencias en forma de tabla\n",
        "  print(\"Diferencia de beneficios\")\n",
        "\n",
        "  grid = widgets.Grid(4, 3, header_row=True, header_column=True)\n",
        "\n",
        "  with grid.output_to(0, 0):\n",
        "    print(\"Característica que falta\")\n",
        "\n",
        "  with grid.output_to(1, 0):\n",
        "    print(\"Mes\")\n",
        "  with grid.output_to(2, 0):\n",
        "    print(\"Temperatura\")\n",
        "  with grid.output_to(3, 0):\n",
        "    print(\"Precipitación\")\n",
        "\n",
        "  with grid.output_to(1, 1):\n",
        "    print(dif_month)\n",
        "  with grid.output_to(2, 1):\n",
        "    print(dif_temperatura)\n",
        "  with grid.output_to(3, 1):\n",
        "    print(dif_precipitacion)\n",
        "\n",
        "  with grid.output_to(0, 1):\n",
        "    print(\"Beneficio real - Beneficio esperado\")\n",
        "\n",
        "  with grid.output_to(0, 2):\n",
        "    print('Influencia')\n",
        "  with grid.output_to(1, 2):\n",
        "    if dif_month < 0.2 and dif_month > -0.2:\n",
        "      influence = 'neutral'\n",
        "    else:\n",
        "      influence = 'positive' if dif_month > 0 else 'negative'\n",
        "    print(influence)\n",
        "  with grid.output_to(2, 2):\n",
        "    if dif_temperatura < 0.2 and dif_temperatura > -0.2:\n",
        "      influence = 'neutral'\n",
        "    else:\n",
        "      influence = 'positive' if dif_temperatura > 0 else 'negative'\n",
        "    print(influence)\n",
        "  with grid.output_to(3, 2):\n",
        "    if dif_precipitacion < 0.2 and dif_precipitacion > -0.2:\n",
        "      influence = 'neutral'\n",
        "    else:\n",
        "      influence = 'positive' if dif_precipitacion > 0 else 'negative'\n",
        "    print(influence)\n"
      ],
      "metadata": {
        "id": "hUXLveavdKIH"
      },
      "execution_count": 61,
      "outputs": []
    },
    {
      "cell_type": "code",
      "source": [
        "def checkInfluence(month, temperatura, precipitacion_group, product, origen, price_max_recolec):\n",
        "  dict_all_features = {\n",
        "      \"MONTH\": month,\n",
        "      \"temperatura\": temperatura,\n",
        "      \"Precipitacion_group\": precipitacion_group,\n",
        "      **product_origen_inference\n",
        "  }\n",
        "  dict_all_features[\"product_\"+product] = 1\n",
        "  dict_all_features[\"origen_\"+origen] = 1\n",
        "  dict_month = dict_all_features.copy()\n",
        "  dict_temperatura = dict_all_features.copy()\n",
        "  dict_precipitacion = dict_all_features.copy()\n",
        "\n",
        "  dict_month.pop(\"MONTH\", None)\n",
        "  dict_temperatura.pop(\"temperatura\", None)\n",
        "  dict_precipitacion.pop(\"Precipitacion_group\", None)\n",
        "  \n",
        "  df_month = pd.DataFrame([dict_month])\n",
        "  df_temperatura = pd.DataFrame([dict_temperatura])\n",
        "  df_precipitacion = pd.DataFrame([dict_precipitacion])\n",
        "\n",
        "  pred_month = regr_month.predict(df_month)[0]\n",
        "  pred_temperatura = regr_temp.predict(df_temperatura)[0]\n",
        "  pred_precipitacion = regr_precip.predict(df_precipitacion)[0]\n",
        "  \n",
        "  dif_month = price_max_recolec - pred_month\n",
        "  dif_temperatura = price_max_recolec - pred_temperatura\n",
        "  dif_precipitacion = price_max_recolec - pred_precipitacion\n",
        "  \n",
        "  to_table(dif_month, dif_temperatura, dif_precipitacion)\n"
      ],
      "metadata": {
        "id": "Ez1fhiAOkJvE"
      },
      "execution_count": 62,
      "outputs": []
    },
    {
      "cell_type": "markdown",
      "source": [
        "#### 4.2.5 Ejemplos de prueba"
      ],
      "metadata": {
        "id": "K6A9mpuibuGr"
      }
    },
    {
      "cell_type": "markdown",
      "source": [
        "A continuación se muestran ejemplos de inferencia sobre la tercera línea de trabajo.  "
      ],
      "metadata": {
        "id": "s51OWjVuddeR"
      }
    },
    {
      "cell_type": "code",
      "source": [
        "checkInfluence(3, 11.9, 2.0, \"ACELGA\", \"Andalucia\", 1.035714)\n",
        "print('\\n\\n')\n",
        "checkInfluence(12, 15.45, 0.0, \"SANDIA\", \"Castilla La Mancha\", 0.397377)"
      ],
      "metadata": {
        "colab": {
          "base_uri": "https://localhost:8080/",
          "height": 269
        },
        "id": "oeeo39TC2BlE",
        "outputId": "2792e10a-e88d-4c4b-83dc-60eff743d307"
      },
      "execution_count": 63,
      "outputs": [
        {
          "output_type": "stream",
          "name": "stdout",
          "text": [
            "Diferencia de beneficios\n"
          ]
        },
        {
          "output_type": "display_data",
          "data": {
            "text/html": [
              "<style>\n",
              "       table#id2, #id2 > tbody > tr > th, #id2 > tbody > tr > td {\n",
              "         border: 1px solid lightgray;\n",
              "         border-collapse:collapse;\n",
              "         \n",
              "        }</style>"
            ],
            "text/plain": [
              "<IPython.core.display.HTML object>"
            ]
          },
          "metadata": {}
        },
        {
          "output_type": "display_data",
          "data": {
            "text/html": [
              "<table id=id2><tr><th id=id2-0-0></th><th id=id2-0-1></th><th id=id2-0-2></th></tr><tr><th id=id2-1-0></th><td id=id2-1-1></td><td id=id2-1-2></td></tr><tr><th id=id2-2-0></th><td id=id2-2-1></td><td id=id2-2-2></td></tr><tr><th id=id2-3-0></th><td id=id2-3-1></td><td id=id2-3-2></td></tr></table>"
            ],
            "text/plain": [
              "<IPython.core.display.HTML object>"
            ]
          },
          "metadata": {}
        },
        {
          "output_type": "display_data",
          "data": {
            "application/javascript": [
              "window[\"eb9ae594-794c-11ec-977b-0242ac1c0002\"] = google.colab.output.getActiveOutputArea();\n",
              "//# sourceURL=js_ed82c4a9e0"
            ],
            "text/plain": [
              "<IPython.core.display.Javascript object>"
            ]
          },
          "metadata": {}
        },
        {
          "output_type": "display_data",
          "data": {
            "application/javascript": [
              "window[\"eb9b5a38-794c-11ec-977b-0242ac1c0002\"] = document.querySelector(\"#id2-0-0\");\n",
              "//# sourceURL=js_ae55acbfff"
            ],
            "text/plain": [
              "<IPython.core.display.Javascript object>"
            ]
          },
          "metadata": {}
        },
        {
          "output_type": "display_data",
          "data": {
            "application/javascript": [
              "window[\"eb9c2094-794c-11ec-977b-0242ac1c0002\"] = google.colab.output.setActiveOutputArea(window[\"eb9b5a38-794c-11ec-977b-0242ac1c0002\"]);\n",
              "//# sourceURL=js_a612b1f194"
            ],
            "text/plain": [
              "<IPython.core.display.Javascript object>"
            ]
          },
          "metadata": {}
        },
        {
          "output_type": "stream",
          "name": "stdout",
          "text": [
            "Característica que falta\n"
          ]
        },
        {
          "output_type": "display_data",
          "data": {
            "application/javascript": [
              "window[\"eb9f04a8-794c-11ec-977b-0242ac1c0002\"] = google.colab.output.setActiveOutputArea(window[\"eb9ae594-794c-11ec-977b-0242ac1c0002\"]);\n",
              "//# sourceURL=js_4864fc8b9a"
            ],
            "text/plain": [
              "<IPython.core.display.Javascript object>"
            ]
          },
          "metadata": {}
        },
        {
          "output_type": "display_data",
          "data": {
            "application/javascript": [
              "window[\"eba22b74-794c-11ec-977b-0242ac1c0002\"] = google.colab.output.getActiveOutputArea();\n",
              "//# sourceURL=js_5c77e0f42c"
            ],
            "text/plain": [
              "<IPython.core.display.Javascript object>"
            ]
          },
          "metadata": {}
        },
        {
          "output_type": "display_data",
          "data": {
            "application/javascript": [
              "window[\"eba2842a-794c-11ec-977b-0242ac1c0002\"] = document.querySelector(\"#id2-1-0\");\n",
              "//# sourceURL=js_8db20d694f"
            ],
            "text/plain": [
              "<IPython.core.display.Javascript object>"
            ]
          },
          "metadata": {}
        },
        {
          "output_type": "display_data",
          "data": {
            "application/javascript": [
              "window[\"eba34be4-794c-11ec-977b-0242ac1c0002\"] = google.colab.output.setActiveOutputArea(window[\"eba2842a-794c-11ec-977b-0242ac1c0002\"]);\n",
              "//# sourceURL=js_686cdd82b0"
            ],
            "text/plain": [
              "<IPython.core.display.Javascript object>"
            ]
          },
          "metadata": {}
        },
        {
          "output_type": "stream",
          "name": "stdout",
          "text": [
            "Mes\n"
          ]
        },
        {
          "output_type": "display_data",
          "data": {
            "application/javascript": [
              "window[\"eba63976-794c-11ec-977b-0242ac1c0002\"] = google.colab.output.setActiveOutputArea(window[\"eba22b74-794c-11ec-977b-0242ac1c0002\"]);\n",
              "//# sourceURL=js_2b4773bcdb"
            ],
            "text/plain": [
              "<IPython.core.display.Javascript object>"
            ]
          },
          "metadata": {}
        },
        {
          "output_type": "display_data",
          "data": {
            "application/javascript": [
              "window[\"eba8065c-794c-11ec-977b-0242ac1c0002\"] = google.colab.output.getActiveOutputArea();\n",
              "//# sourceURL=js_bbf8699162"
            ],
            "text/plain": [
              "<IPython.core.display.Javascript object>"
            ]
          },
          "metadata": {}
        },
        {
          "output_type": "display_data",
          "data": {
            "application/javascript": [
              "window[\"eba8761e-794c-11ec-977b-0242ac1c0002\"] = document.querySelector(\"#id2-2-0\");\n",
              "//# sourceURL=js_4cf19821ae"
            ],
            "text/plain": [
              "<IPython.core.display.Javascript object>"
            ]
          },
          "metadata": {}
        },
        {
          "output_type": "display_data",
          "data": {
            "application/javascript": [
              "window[\"eba8dd0c-794c-11ec-977b-0242ac1c0002\"] = google.colab.output.setActiveOutputArea(window[\"eba8761e-794c-11ec-977b-0242ac1c0002\"]);\n",
              "//# sourceURL=js_ab12798088"
            ],
            "text/plain": [
              "<IPython.core.display.Javascript object>"
            ]
          },
          "metadata": {}
        },
        {
          "output_type": "stream",
          "name": "stdout",
          "text": [
            "Temperatura\n"
          ]
        },
        {
          "output_type": "display_data",
          "data": {
            "application/javascript": [
              "window[\"ebaa12e4-794c-11ec-977b-0242ac1c0002\"] = google.colab.output.setActiveOutputArea(window[\"eba8065c-794c-11ec-977b-0242ac1c0002\"]);\n",
              "//# sourceURL=js_c354c59478"
            ],
            "text/plain": [
              "<IPython.core.display.Javascript object>"
            ]
          },
          "metadata": {}
        },
        {
          "output_type": "display_data",
          "data": {
            "application/javascript": [
              "window[\"ebad4fc2-794c-11ec-977b-0242ac1c0002\"] = google.colab.output.getActiveOutputArea();\n",
              "//# sourceURL=js_efadf9d324"
            ],
            "text/plain": [
              "<IPython.core.display.Javascript object>"
            ]
          },
          "metadata": {}
        },
        {
          "output_type": "display_data",
          "data": {
            "application/javascript": [
              "window[\"ebae00f2-794c-11ec-977b-0242ac1c0002\"] = document.querySelector(\"#id2-3-0\");\n",
              "//# sourceURL=js_3b09ed1881"
            ],
            "text/plain": [
              "<IPython.core.display.Javascript object>"
            ]
          },
          "metadata": {}
        },
        {
          "output_type": "display_data",
          "data": {
            "application/javascript": [
              "window[\"ebae5d04-794c-11ec-977b-0242ac1c0002\"] = google.colab.output.setActiveOutputArea(window[\"ebae00f2-794c-11ec-977b-0242ac1c0002\"]);\n",
              "//# sourceURL=js_6f18f4675f"
            ],
            "text/plain": [
              "<IPython.core.display.Javascript object>"
            ]
          },
          "metadata": {}
        },
        {
          "output_type": "stream",
          "name": "stdout",
          "text": [
            "Precipitación\n"
          ]
        },
        {
          "output_type": "display_data",
          "data": {
            "application/javascript": [
              "window[\"ebaf851c-794c-11ec-977b-0242ac1c0002\"] = google.colab.output.setActiveOutputArea(window[\"ebad4fc2-794c-11ec-977b-0242ac1c0002\"]);\n",
              "//# sourceURL=js_e63a1822ab"
            ],
            "text/plain": [
              "<IPython.core.display.Javascript object>"
            ]
          },
          "metadata": {}
        },
        {
          "output_type": "display_data",
          "data": {
            "application/javascript": [
              "window[\"ebb14c08-794c-11ec-977b-0242ac1c0002\"] = google.colab.output.getActiveOutputArea();\n",
              "//# sourceURL=js_076450a480"
            ],
            "text/plain": [
              "<IPython.core.display.Javascript object>"
            ]
          },
          "metadata": {}
        },
        {
          "output_type": "display_data",
          "data": {
            "application/javascript": [
              "window[\"ebb1a126-794c-11ec-977b-0242ac1c0002\"] = document.querySelector(\"#id2-1-1\");\n",
              "//# sourceURL=js_32994dcef5"
            ],
            "text/plain": [
              "<IPython.core.display.Javascript object>"
            ]
          },
          "metadata": {}
        },
        {
          "output_type": "display_data",
          "data": {
            "application/javascript": [
              "window[\"ebb1f7ac-794c-11ec-977b-0242ac1c0002\"] = google.colab.output.setActiveOutputArea(window[\"ebb1a126-794c-11ec-977b-0242ac1c0002\"]);\n",
              "//# sourceURL=js_83be441222"
            ],
            "text/plain": [
              "<IPython.core.display.Javascript object>"
            ]
          },
          "metadata": {}
        },
        {
          "output_type": "stream",
          "name": "stdout",
          "text": [
            "0.40179270202500006\n"
          ]
        },
        {
          "output_type": "display_data",
          "data": {
            "application/javascript": [
              "window[\"ebb31de4-794c-11ec-977b-0242ac1c0002\"] = google.colab.output.setActiveOutputArea(window[\"ebb14c08-794c-11ec-977b-0242ac1c0002\"]);\n",
              "//# sourceURL=js_bc168a0f20"
            ],
            "text/plain": [
              "<IPython.core.display.Javascript object>"
            ]
          },
          "metadata": {}
        },
        {
          "output_type": "display_data",
          "data": {
            "application/javascript": [
              "window[\"ebb51fcc-794c-11ec-977b-0242ac1c0002\"] = google.colab.output.getActiveOutputArea();\n",
              "//# sourceURL=js_33a769b959"
            ],
            "text/plain": [
              "<IPython.core.display.Javascript object>"
            ]
          },
          "metadata": {}
        },
        {
          "output_type": "display_data",
          "data": {
            "application/javascript": [
              "window[\"ebb58156-794c-11ec-977b-0242ac1c0002\"] = document.querySelector(\"#id2-2-1\");\n",
              "//# sourceURL=js_cef42314c5"
            ],
            "text/plain": [
              "<IPython.core.display.Javascript object>"
            ]
          },
          "metadata": {}
        },
        {
          "output_type": "display_data",
          "data": {
            "application/javascript": [
              "window[\"ebb5efba-794c-11ec-977b-0242ac1c0002\"] = google.colab.output.setActiveOutputArea(window[\"ebb58156-794c-11ec-977b-0242ac1c0002\"]);\n",
              "//# sourceURL=js_560716f13c"
            ],
            "text/plain": [
              "<IPython.core.display.Javascript object>"
            ]
          },
          "metadata": {}
        },
        {
          "output_type": "stream",
          "name": "stdout",
          "text": [
            "0.3655751111250001\n"
          ]
        },
        {
          "output_type": "display_data",
          "data": {
            "application/javascript": [
              "window[\"ebb72fe2-794c-11ec-977b-0242ac1c0002\"] = google.colab.output.setActiveOutputArea(window[\"ebb51fcc-794c-11ec-977b-0242ac1c0002\"]);\n",
              "//# sourceURL=js_58a79bf87c"
            ],
            "text/plain": [
              "<IPython.core.display.Javascript object>"
            ]
          },
          "metadata": {}
        },
        {
          "output_type": "display_data",
          "data": {
            "application/javascript": [
              "window[\"ebb97c7a-794c-11ec-977b-0242ac1c0002\"] = google.colab.output.getActiveOutputArea();\n",
              "//# sourceURL=js_c4decd58bb"
            ],
            "text/plain": [
              "<IPython.core.display.Javascript object>"
            ]
          },
          "metadata": {}
        },
        {
          "output_type": "display_data",
          "data": {
            "application/javascript": [
              "window[\"ebba7bd4-794c-11ec-977b-0242ac1c0002\"] = document.querySelector(\"#id2-3-1\");\n",
              "//# sourceURL=js_049508d1ef"
            ],
            "text/plain": [
              "<IPython.core.display.Javascript object>"
            ]
          },
          "metadata": {}
        },
        {
          "output_type": "display_data",
          "data": {
            "application/javascript": [
              "window[\"ebbad8fe-794c-11ec-977b-0242ac1c0002\"] = google.colab.output.setActiveOutputArea(window[\"ebba7bd4-794c-11ec-977b-0242ac1c0002\"]);\n",
              "//# sourceURL=js_7de282002a"
            ],
            "text/plain": [
              "<IPython.core.display.Javascript object>"
            ]
          },
          "metadata": {}
        },
        {
          "output_type": "stream",
          "name": "stdout",
          "text": [
            "0.5530949523333333\n"
          ]
        },
        {
          "output_type": "display_data",
          "data": {
            "application/javascript": [
              "window[\"ebbc35e6-794c-11ec-977b-0242ac1c0002\"] = google.colab.output.setActiveOutputArea(window[\"ebb97c7a-794c-11ec-977b-0242ac1c0002\"]);\n",
              "//# sourceURL=js_f6106d85c3"
            ],
            "text/plain": [
              "<IPython.core.display.Javascript object>"
            ]
          },
          "metadata": {}
        },
        {
          "output_type": "display_data",
          "data": {
            "application/javascript": [
              "window[\"ebbe6c76-794c-11ec-977b-0242ac1c0002\"] = google.colab.output.getActiveOutputArea();\n",
              "//# sourceURL=js_a869f2dbcc"
            ],
            "text/plain": [
              "<IPython.core.display.Javascript object>"
            ]
          },
          "metadata": {}
        },
        {
          "output_type": "display_data",
          "data": {
            "application/javascript": [
              "window[\"ebbebdd4-794c-11ec-977b-0242ac1c0002\"] = document.querySelector(\"#id2-0-1\");\n",
              "//# sourceURL=js_42fe63132f"
            ],
            "text/plain": [
              "<IPython.core.display.Javascript object>"
            ]
          },
          "metadata": {}
        },
        {
          "output_type": "display_data",
          "data": {
            "application/javascript": [
              "window[\"ebbf0fc8-794c-11ec-977b-0242ac1c0002\"] = google.colab.output.setActiveOutputArea(window[\"ebbebdd4-794c-11ec-977b-0242ac1c0002\"]);\n",
              "//# sourceURL=js_0bd47540e6"
            ],
            "text/plain": [
              "<IPython.core.display.Javascript object>"
            ]
          },
          "metadata": {}
        },
        {
          "output_type": "stream",
          "name": "stdout",
          "text": [
            "Beneficio real - Beneficio esperado\n"
          ]
        },
        {
          "output_type": "display_data",
          "data": {
            "application/javascript": [
              "window[\"ebc030f6-794c-11ec-977b-0242ac1c0002\"] = google.colab.output.setActiveOutputArea(window[\"ebbe6c76-794c-11ec-977b-0242ac1c0002\"]);\n",
              "//# sourceURL=js_2f87796ce0"
            ],
            "text/plain": [
              "<IPython.core.display.Javascript object>"
            ]
          },
          "metadata": {}
        },
        {
          "output_type": "display_data",
          "data": {
            "application/javascript": [
              "window[\"ebc2648e-794c-11ec-977b-0242ac1c0002\"] = google.colab.output.getActiveOutputArea();\n",
              "//# sourceURL=js_885a70b3e8"
            ],
            "text/plain": [
              "<IPython.core.display.Javascript object>"
            ]
          },
          "metadata": {}
        },
        {
          "output_type": "display_data",
          "data": {
            "application/javascript": [
              "window[\"ebc2b8bc-794c-11ec-977b-0242ac1c0002\"] = document.querySelector(\"#id2-0-2\");\n",
              "//# sourceURL=js_361bb62220"
            ],
            "text/plain": [
              "<IPython.core.display.Javascript object>"
            ]
          },
          "metadata": {}
        },
        {
          "output_type": "display_data",
          "data": {
            "application/javascript": [
              "window[\"ebc30e34-794c-11ec-977b-0242ac1c0002\"] = google.colab.output.setActiveOutputArea(window[\"ebc2b8bc-794c-11ec-977b-0242ac1c0002\"]);\n",
              "//# sourceURL=js_8a72c0c5b2"
            ],
            "text/plain": [
              "<IPython.core.display.Javascript object>"
            ]
          },
          "metadata": {}
        },
        {
          "output_type": "stream",
          "name": "stdout",
          "text": [
            "Influencia\n"
          ]
        },
        {
          "output_type": "display_data",
          "data": {
            "application/javascript": [
              "window[\"ebc44524-794c-11ec-977b-0242ac1c0002\"] = google.colab.output.setActiveOutputArea(window[\"ebc2648e-794c-11ec-977b-0242ac1c0002\"]);\n",
              "//# sourceURL=js_c4f98b2868"
            ],
            "text/plain": [
              "<IPython.core.display.Javascript object>"
            ]
          },
          "metadata": {}
        },
        {
          "output_type": "display_data",
          "data": {
            "application/javascript": [
              "window[\"ebc6215a-794c-11ec-977b-0242ac1c0002\"] = google.colab.output.getActiveOutputArea();\n",
              "//# sourceURL=js_fb28b7bee0"
            ],
            "text/plain": [
              "<IPython.core.display.Javascript object>"
            ]
          },
          "metadata": {}
        },
        {
          "output_type": "display_data",
          "data": {
            "application/javascript": [
              "window[\"ebc67c72-794c-11ec-977b-0242ac1c0002\"] = document.querySelector(\"#id2-1-2\");\n",
              "//# sourceURL=js_b5dc7f5578"
            ],
            "text/plain": [
              "<IPython.core.display.Javascript object>"
            ]
          },
          "metadata": {}
        },
        {
          "output_type": "display_data",
          "data": {
            "application/javascript": [
              "window[\"ebc6d0a0-794c-11ec-977b-0242ac1c0002\"] = google.colab.output.setActiveOutputArea(window[\"ebc67c72-794c-11ec-977b-0242ac1c0002\"]);\n",
              "//# sourceURL=js_4cd572e69e"
            ],
            "text/plain": [
              "<IPython.core.display.Javascript object>"
            ]
          },
          "metadata": {}
        },
        {
          "output_type": "stream",
          "name": "stdout",
          "text": [
            "positive\n"
          ]
        },
        {
          "output_type": "display_data",
          "data": {
            "application/javascript": [
              "window[\"ebc81064-794c-11ec-977b-0242ac1c0002\"] = google.colab.output.setActiveOutputArea(window[\"ebc6215a-794c-11ec-977b-0242ac1c0002\"]);\n",
              "//# sourceURL=js_4040986e66"
            ],
            "text/plain": [
              "<IPython.core.display.Javascript object>"
            ]
          },
          "metadata": {}
        },
        {
          "output_type": "display_data",
          "data": {
            "application/javascript": [
              "window[\"ebc9e36c-794c-11ec-977b-0242ac1c0002\"] = google.colab.output.getActiveOutputArea();\n",
              "//# sourceURL=js_f5d339ed57"
            ],
            "text/plain": [
              "<IPython.core.display.Javascript object>"
            ]
          },
          "metadata": {}
        },
        {
          "output_type": "display_data",
          "data": {
            "application/javascript": [
              "window[\"ebca406e-794c-11ec-977b-0242ac1c0002\"] = document.querySelector(\"#id2-2-2\");\n",
              "//# sourceURL=js_8a975399df"
            ],
            "text/plain": [
              "<IPython.core.display.Javascript object>"
            ]
          },
          "metadata": {}
        },
        {
          "output_type": "display_data",
          "data": {
            "application/javascript": [
              "window[\"ebca91f4-794c-11ec-977b-0242ac1c0002\"] = google.colab.output.setActiveOutputArea(window[\"ebca406e-794c-11ec-977b-0242ac1c0002\"]);\n",
              "//# sourceURL=js_4330875117"
            ],
            "text/plain": [
              "<IPython.core.display.Javascript object>"
            ]
          },
          "metadata": {}
        },
        {
          "output_type": "stream",
          "name": "stdout",
          "text": [
            "positive\n"
          ]
        },
        {
          "output_type": "display_data",
          "data": {
            "application/javascript": [
              "window[\"ebcbc8a8-794c-11ec-977b-0242ac1c0002\"] = google.colab.output.setActiveOutputArea(window[\"ebc9e36c-794c-11ec-977b-0242ac1c0002\"]);\n",
              "//# sourceURL=js_5c0ca3cff2"
            ],
            "text/plain": [
              "<IPython.core.display.Javascript object>"
            ]
          },
          "metadata": {}
        },
        {
          "output_type": "display_data",
          "data": {
            "application/javascript": [
              "window[\"ebcd8af8-794c-11ec-977b-0242ac1c0002\"] = google.colab.output.getActiveOutputArea();\n",
              "//# sourceURL=js_23a6447696"
            ],
            "text/plain": [
              "<IPython.core.display.Javascript object>"
            ]
          },
          "metadata": {}
        },
        {
          "output_type": "display_data",
          "data": {
            "application/javascript": [
              "window[\"ebcde412-794c-11ec-977b-0242ac1c0002\"] = document.querySelector(\"#id2-3-2\");\n",
              "//# sourceURL=js_3dbdbb7cdc"
            ],
            "text/plain": [
              "<IPython.core.display.Javascript object>"
            ]
          },
          "metadata": {}
        },
        {
          "output_type": "display_data",
          "data": {
            "application/javascript": [
              "window[\"ebce3a98-794c-11ec-977b-0242ac1c0002\"] = google.colab.output.setActiveOutputArea(window[\"ebcde412-794c-11ec-977b-0242ac1c0002\"]);\n",
              "//# sourceURL=js_5a549a9d8c"
            ],
            "text/plain": [
              "<IPython.core.display.Javascript object>"
            ]
          },
          "metadata": {}
        },
        {
          "output_type": "stream",
          "name": "stdout",
          "text": [
            "positive\n"
          ]
        },
        {
          "output_type": "display_data",
          "data": {
            "application/javascript": [
              "window[\"ebcf67ce-794c-11ec-977b-0242ac1c0002\"] = google.colab.output.setActiveOutputArea(window[\"ebcd8af8-794c-11ec-977b-0242ac1c0002\"]);\n",
              "//# sourceURL=js_346d2136bb"
            ],
            "text/plain": [
              "<IPython.core.display.Javascript object>"
            ]
          },
          "metadata": {}
        },
        {
          "output_type": "stream",
          "name": "stdout",
          "text": [
            "\n",
            "\n",
            "\n",
            "Diferencia de beneficios\n"
          ]
        },
        {
          "output_type": "display_data",
          "data": {
            "text/html": [
              "<style>\n",
              "       table#id4, #id4 > tbody > tr > th, #id4 > tbody > tr > td {\n",
              "         border: 1px solid lightgray;\n",
              "         border-collapse:collapse;\n",
              "         \n",
              "        }</style>"
            ],
            "text/plain": [
              "<IPython.core.display.HTML object>"
            ]
          },
          "metadata": {}
        },
        {
          "output_type": "display_data",
          "data": {
            "text/html": [
              "<table id=id4><tr><th id=id4-0-0></th><th id=id4-0-1></th><th id=id4-0-2></th></tr><tr><th id=id4-1-0></th><td id=id4-1-1></td><td id=id4-1-2></td></tr><tr><th id=id4-2-0></th><td id=id4-2-1></td><td id=id4-2-2></td></tr><tr><th id=id4-3-0></th><td id=id4-3-1></td><td id=id4-3-2></td></tr></table>"
            ],
            "text/plain": [
              "<IPython.core.display.HTML object>"
            ]
          },
          "metadata": {}
        },
        {
          "output_type": "display_data",
          "data": {
            "application/javascript": [
              "window[\"ebe08d92-794c-11ec-977b-0242ac1c0002\"] = google.colab.output.getActiveOutputArea();\n",
              "//# sourceURL=js_508830aebf"
            ],
            "text/plain": [
              "<IPython.core.display.Javascript object>"
            ]
          },
          "metadata": {}
        },
        {
          "output_type": "display_data",
          "data": {
            "application/javascript": [
              "window[\"ebe11794-794c-11ec-977b-0242ac1c0002\"] = document.querySelector(\"#id4-0-0\");\n",
              "//# sourceURL=js_1a861028d1"
            ],
            "text/plain": [
              "<IPython.core.display.Javascript object>"
            ]
          },
          "metadata": {}
        },
        {
          "output_type": "display_data",
          "data": {
            "application/javascript": [
              "window[\"ebe2b630-794c-11ec-977b-0242ac1c0002\"] = google.colab.output.setActiveOutputArea(window[\"ebe11794-794c-11ec-977b-0242ac1c0002\"]);\n",
              "//# sourceURL=js_95ef97eb07"
            ],
            "text/plain": [
              "<IPython.core.display.Javascript object>"
            ]
          },
          "metadata": {}
        },
        {
          "output_type": "stream",
          "name": "stdout",
          "text": [
            "Característica que falta\n"
          ]
        },
        {
          "output_type": "display_data",
          "data": {
            "application/javascript": [
              "window[\"ebe70f14-794c-11ec-977b-0242ac1c0002\"] = google.colab.output.setActiveOutputArea(window[\"ebe08d92-794c-11ec-977b-0242ac1c0002\"]);\n",
              "//# sourceURL=js_b07ba651fa"
            ],
            "text/plain": [
              "<IPython.core.display.Javascript object>"
            ]
          },
          "metadata": {}
        },
        {
          "output_type": "display_data",
          "data": {
            "application/javascript": [
              "window[\"ebe914bc-794c-11ec-977b-0242ac1c0002\"] = google.colab.output.getActiveOutputArea();\n",
              "//# sourceURL=js_cfee35b3ca"
            ],
            "text/plain": [
              "<IPython.core.display.Javascript object>"
            ]
          },
          "metadata": {}
        },
        {
          "output_type": "display_data",
          "data": {
            "application/javascript": [
              "window[\"ebe964a8-794c-11ec-977b-0242ac1c0002\"] = document.querySelector(\"#id4-1-0\");\n",
              "//# sourceURL=js_8967036b46"
            ],
            "text/plain": [
              "<IPython.core.display.Javascript object>"
            ]
          },
          "metadata": {}
        },
        {
          "output_type": "display_data",
          "data": {
            "application/javascript": [
              "window[\"ebe9ae0e-794c-11ec-977b-0242ac1c0002\"] = google.colab.output.setActiveOutputArea(window[\"ebe964a8-794c-11ec-977b-0242ac1c0002\"]);\n",
              "//# sourceURL=js_2de8df3e04"
            ],
            "text/plain": [
              "<IPython.core.display.Javascript object>"
            ]
          },
          "metadata": {}
        },
        {
          "output_type": "stream",
          "name": "stdout",
          "text": [
            "Mes\n"
          ]
        },
        {
          "output_type": "display_data",
          "data": {
            "application/javascript": [
              "window[\"ebeaaea8-794c-11ec-977b-0242ac1c0002\"] = google.colab.output.setActiveOutputArea(window[\"ebe914bc-794c-11ec-977b-0242ac1c0002\"]);\n",
              "//# sourceURL=js_281442d24b"
            ],
            "text/plain": [
              "<IPython.core.display.Javascript object>"
            ]
          },
          "metadata": {}
        },
        {
          "output_type": "display_data",
          "data": {
            "application/javascript": [
              "window[\"ebecce36-794c-11ec-977b-0242ac1c0002\"] = google.colab.output.getActiveOutputArea();\n",
              "//# sourceURL=js_cdc9c68df3"
            ],
            "text/plain": [
              "<IPython.core.display.Javascript object>"
            ]
          },
          "metadata": {}
        },
        {
          "output_type": "display_data",
          "data": {
            "application/javascript": [
              "window[\"ebed7ade-794c-11ec-977b-0242ac1c0002\"] = document.querySelector(\"#id4-2-0\");\n",
              "//# sourceURL=js_78e4ad7a58"
            ],
            "text/plain": [
              "<IPython.core.display.Javascript object>"
            ]
          },
          "metadata": {}
        },
        {
          "output_type": "display_data",
          "data": {
            "application/javascript": [
              "window[\"ebedd40c-794c-11ec-977b-0242ac1c0002\"] = google.colab.output.setActiveOutputArea(window[\"ebed7ade-794c-11ec-977b-0242ac1c0002\"]);\n",
              "//# sourceURL=js_5ada703c07"
            ],
            "text/plain": [
              "<IPython.core.display.Javascript object>"
            ]
          },
          "metadata": {}
        },
        {
          "output_type": "stream",
          "name": "stdout",
          "text": [
            "Temperatura\n"
          ]
        },
        {
          "output_type": "display_data",
          "data": {
            "application/javascript": [
              "window[\"ebeef0d0-794c-11ec-977b-0242ac1c0002\"] = google.colab.output.setActiveOutputArea(window[\"ebecce36-794c-11ec-977b-0242ac1c0002\"]);\n",
              "//# sourceURL=js_8f81934709"
            ],
            "text/plain": [
              "<IPython.core.display.Javascript object>"
            ]
          },
          "metadata": {}
        },
        {
          "output_type": "display_data",
          "data": {
            "application/javascript": [
              "window[\"ebf092aa-794c-11ec-977b-0242ac1c0002\"] = google.colab.output.getActiveOutputArea();\n",
              "//# sourceURL=js_f07dafd0ec"
            ],
            "text/plain": [
              "<IPython.core.display.Javascript object>"
            ]
          },
          "metadata": {}
        },
        {
          "output_type": "display_data",
          "data": {
            "application/javascript": [
              "window[\"ebf0e958-794c-11ec-977b-0242ac1c0002\"] = document.querySelector(\"#id4-3-0\");\n",
              "//# sourceURL=js_aef40e0e3e"
            ],
            "text/plain": [
              "<IPython.core.display.Javascript object>"
            ]
          },
          "metadata": {}
        },
        {
          "output_type": "display_data",
          "data": {
            "application/javascript": [
              "window[\"ebf13b06-794c-11ec-977b-0242ac1c0002\"] = google.colab.output.setActiveOutputArea(window[\"ebf0e958-794c-11ec-977b-0242ac1c0002\"]);\n",
              "//# sourceURL=js_ff5ba6e2d7"
            ],
            "text/plain": [
              "<IPython.core.display.Javascript object>"
            ]
          },
          "metadata": {}
        },
        {
          "output_type": "stream",
          "name": "stdout",
          "text": [
            "Precipitación\n"
          ]
        },
        {
          "output_type": "display_data",
          "data": {
            "application/javascript": [
              "window[\"ebf2491a-794c-11ec-977b-0242ac1c0002\"] = google.colab.output.setActiveOutputArea(window[\"ebf092aa-794c-11ec-977b-0242ac1c0002\"]);\n",
              "//# sourceURL=js_c815472bc9"
            ],
            "text/plain": [
              "<IPython.core.display.Javascript object>"
            ]
          },
          "metadata": {}
        },
        {
          "output_type": "display_data",
          "data": {
            "application/javascript": [
              "window[\"ebf3f1a2-794c-11ec-977b-0242ac1c0002\"] = google.colab.output.getActiveOutputArea();\n",
              "//# sourceURL=js_e933e8b698"
            ],
            "text/plain": [
              "<IPython.core.display.Javascript object>"
            ]
          },
          "metadata": {}
        },
        {
          "output_type": "display_data",
          "data": {
            "application/javascript": [
              "window[\"ebf44b98-794c-11ec-977b-0242ac1c0002\"] = document.querySelector(\"#id4-1-1\");\n",
              "//# sourceURL=js_a6548af8a9"
            ],
            "text/plain": [
              "<IPython.core.display.Javascript object>"
            ]
          },
          "metadata": {}
        },
        {
          "output_type": "display_data",
          "data": {
            "application/javascript": [
              "window[\"ebf49fb2-794c-11ec-977b-0242ac1c0002\"] = google.colab.output.setActiveOutputArea(window[\"ebf44b98-794c-11ec-977b-0242ac1c0002\"]);\n",
              "//# sourceURL=js_e5ff62766d"
            ],
            "text/plain": [
              "<IPython.core.display.Javascript object>"
            ]
          },
          "metadata": {}
        },
        {
          "output_type": "stream",
          "name": "stdout",
          "text": [
            "-0.1610256845131922\n"
          ]
        },
        {
          "output_type": "display_data",
          "data": {
            "application/javascript": [
              "window[\"ebf5cbee-794c-11ec-977b-0242ac1c0002\"] = google.colab.output.setActiveOutputArea(window[\"ebf3f1a2-794c-11ec-977b-0242ac1c0002\"]);\n",
              "//# sourceURL=js_0c4cf0d6af"
            ],
            "text/plain": [
              "<IPython.core.display.Javascript object>"
            ]
          },
          "metadata": {}
        },
        {
          "output_type": "display_data",
          "data": {
            "application/javascript": [
              "window[\"ebf762e2-794c-11ec-977b-0242ac1c0002\"] = google.colab.output.getActiveOutputArea();\n",
              "//# sourceURL=js_761b372e1f"
            ],
            "text/plain": [
              "<IPython.core.display.Javascript object>"
            ]
          },
          "metadata": {}
        },
        {
          "output_type": "display_data",
          "data": {
            "application/javascript": [
              "window[\"ebf7b256-794c-11ec-977b-0242ac1c0002\"] = document.querySelector(\"#id4-2-1\");\n",
              "//# sourceURL=js_4cc4c81b89"
            ],
            "text/plain": [
              "<IPython.core.display.Javascript object>"
            ]
          },
          "metadata": {}
        },
        {
          "output_type": "display_data",
          "data": {
            "application/javascript": [
              "window[\"ebf7ffea-794c-11ec-977b-0242ac1c0002\"] = google.colab.output.setActiveOutputArea(window[\"ebf7b256-794c-11ec-977b-0242ac1c0002\"]);\n",
              "//# sourceURL=js_ea9a843e4e"
            ],
            "text/plain": [
              "<IPython.core.display.Javascript object>"
            ]
          },
          "metadata": {}
        },
        {
          "output_type": "stream",
          "name": "stdout",
          "text": [
            "-0.14062909092857145\n"
          ]
        },
        {
          "output_type": "display_data",
          "data": {
            "application/javascript": [
              "window[\"ebf9181c-794c-11ec-977b-0242ac1c0002\"] = google.colab.output.setActiveOutputArea(window[\"ebf762e2-794c-11ec-977b-0242ac1c0002\"]);\n",
              "//# sourceURL=js_e44c571b99"
            ],
            "text/plain": [
              "<IPython.core.display.Javascript object>"
            ]
          },
          "metadata": {}
        },
        {
          "output_type": "display_data",
          "data": {
            "application/javascript": [
              "window[\"ebfaabc8-794c-11ec-977b-0242ac1c0002\"] = google.colab.output.getActiveOutputArea();\n",
              "//# sourceURL=js_7872a44497"
            ],
            "text/plain": [
              "<IPython.core.display.Javascript object>"
            ]
          },
          "metadata": {}
        },
        {
          "output_type": "display_data",
          "data": {
            "application/javascript": [
              "window[\"ebfafcb8-794c-11ec-977b-0242ac1c0002\"] = document.querySelector(\"#id4-3-1\");\n",
              "//# sourceURL=js_5e442c8f9c"
            ],
            "text/plain": [
              "<IPython.core.display.Javascript object>"
            ]
          },
          "metadata": {}
        },
        {
          "output_type": "display_data",
          "data": {
            "application/javascript": [
              "window[\"ebfb4768-794c-11ec-977b-0242ac1c0002\"] = google.colab.output.setActiveOutputArea(window[\"ebfafcb8-794c-11ec-977b-0242ac1c0002\"]);\n",
              "//# sourceURL=js_997d0d9910"
            ],
            "text/plain": [
              "<IPython.core.display.Javascript object>"
            ]
          },
          "metadata": {}
        },
        {
          "output_type": "stream",
          "name": "stdout",
          "text": [
            "-0.1413482068810138\n"
          ]
        },
        {
          "output_type": "display_data",
          "data": {
            "application/javascript": [
              "window[\"ebfc4d84-794c-11ec-977b-0242ac1c0002\"] = google.colab.output.setActiveOutputArea(window[\"ebfaabc8-794c-11ec-977b-0242ac1c0002\"]);\n",
              "//# sourceURL=js_a789c52d67"
            ],
            "text/plain": [
              "<IPython.core.display.Javascript object>"
            ]
          },
          "metadata": {}
        },
        {
          "output_type": "display_data",
          "data": {
            "application/javascript": [
              "window[\"ebfdee78-794c-11ec-977b-0242ac1c0002\"] = google.colab.output.getActiveOutputArea();\n",
              "//# sourceURL=js_476c6411c3"
            ],
            "text/plain": [
              "<IPython.core.display.Javascript object>"
            ]
          },
          "metadata": {}
        },
        {
          "output_type": "display_data",
          "data": {
            "application/javascript": [
              "window[\"ebfe42e2-794c-11ec-977b-0242ac1c0002\"] = document.querySelector(\"#id4-0-1\");\n",
              "//# sourceURL=js_b0e1d14600"
            ],
            "text/plain": [
              "<IPython.core.display.Javascript object>"
            ]
          },
          "metadata": {}
        },
        {
          "output_type": "display_data",
          "data": {
            "application/javascript": [
              "window[\"ebfe93b4-794c-11ec-977b-0242ac1c0002\"] = google.colab.output.setActiveOutputArea(window[\"ebfe42e2-794c-11ec-977b-0242ac1c0002\"]);\n",
              "//# sourceURL=js_44f22c67d0"
            ],
            "text/plain": [
              "<IPython.core.display.Javascript object>"
            ]
          },
          "metadata": {}
        },
        {
          "output_type": "stream",
          "name": "stdout",
          "text": [
            "Beneficio real - Beneficio esperado\n"
          ]
        },
        {
          "output_type": "display_data",
          "data": {
            "application/javascript": [
              "window[\"ec00335e-794c-11ec-977b-0242ac1c0002\"] = google.colab.output.setActiveOutputArea(window[\"ebfdee78-794c-11ec-977b-0242ac1c0002\"]);\n",
              "//# sourceURL=js_3d4a124724"
            ],
            "text/plain": [
              "<IPython.core.display.Javascript object>"
            ]
          },
          "metadata": {}
        },
        {
          "output_type": "display_data",
          "data": {
            "application/javascript": [
              "window[\"ec0296a8-794c-11ec-977b-0242ac1c0002\"] = google.colab.output.getActiveOutputArea();\n",
              "//# sourceURL=js_f0e08058f5"
            ],
            "text/plain": [
              "<IPython.core.display.Javascript object>"
            ]
          },
          "metadata": {}
        },
        {
          "output_type": "display_data",
          "data": {
            "application/javascript": [
              "window[\"ec035610-794c-11ec-977b-0242ac1c0002\"] = document.querySelector(\"#id4-0-2\");\n",
              "//# sourceURL=js_ec18ae6377"
            ],
            "text/plain": [
              "<IPython.core.display.Javascript object>"
            ]
          },
          "metadata": {}
        },
        {
          "output_type": "display_data",
          "data": {
            "application/javascript": [
              "window[\"ec03b60a-794c-11ec-977b-0242ac1c0002\"] = google.colab.output.setActiveOutputArea(window[\"ec035610-794c-11ec-977b-0242ac1c0002\"]);\n",
              "//# sourceURL=js_173657e120"
            ],
            "text/plain": [
              "<IPython.core.display.Javascript object>"
            ]
          },
          "metadata": {}
        },
        {
          "output_type": "stream",
          "name": "stdout",
          "text": [
            "Influencia\n"
          ]
        },
        {
          "output_type": "display_data",
          "data": {
            "application/javascript": [
              "window[\"ec0539bc-794c-11ec-977b-0242ac1c0002\"] = google.colab.output.setActiveOutputArea(window[\"ec0296a8-794c-11ec-977b-0242ac1c0002\"]);\n",
              "//# sourceURL=js_eb5c6fbd65"
            ],
            "text/plain": [
              "<IPython.core.display.Javascript object>"
            ]
          },
          "metadata": {}
        },
        {
          "output_type": "display_data",
          "data": {
            "application/javascript": [
              "window[\"ec06ff2c-794c-11ec-977b-0242ac1c0002\"] = google.colab.output.getActiveOutputArea();\n",
              "//# sourceURL=js_46e1b80aaa"
            ],
            "text/plain": [
              "<IPython.core.display.Javascript object>"
            ]
          },
          "metadata": {}
        },
        {
          "output_type": "display_data",
          "data": {
            "application/javascript": [
              "window[\"ec075184-794c-11ec-977b-0242ac1c0002\"] = document.querySelector(\"#id4-1-2\");\n",
              "//# sourceURL=js_3418a2c618"
            ],
            "text/plain": [
              "<IPython.core.display.Javascript object>"
            ]
          },
          "metadata": {}
        },
        {
          "output_type": "display_data",
          "data": {
            "application/javascript": [
              "window[\"ec079e78-794c-11ec-977b-0242ac1c0002\"] = google.colab.output.setActiveOutputArea(window[\"ec075184-794c-11ec-977b-0242ac1c0002\"]);\n",
              "//# sourceURL=js_d0a28c926b"
            ],
            "text/plain": [
              "<IPython.core.display.Javascript object>"
            ]
          },
          "metadata": {}
        },
        {
          "output_type": "stream",
          "name": "stdout",
          "text": [
            "neutral\n"
          ]
        },
        {
          "output_type": "display_data",
          "data": {
            "application/javascript": [
              "window[\"ec08b56a-794c-11ec-977b-0242ac1c0002\"] = google.colab.output.setActiveOutputArea(window[\"ec06ff2c-794c-11ec-977b-0242ac1c0002\"]);\n",
              "//# sourceURL=js_945d06ce6c"
            ],
            "text/plain": [
              "<IPython.core.display.Javascript object>"
            ]
          },
          "metadata": {}
        },
        {
          "output_type": "display_data",
          "data": {
            "application/javascript": [
              "window[\"ec0a6982-794c-11ec-977b-0242ac1c0002\"] = google.colab.output.getActiveOutputArea();\n",
              "//# sourceURL=js_176c3a159f"
            ],
            "text/plain": [
              "<IPython.core.display.Javascript object>"
            ]
          },
          "metadata": {}
        },
        {
          "output_type": "display_data",
          "data": {
            "application/javascript": [
              "window[\"ec0acf1c-794c-11ec-977b-0242ac1c0002\"] = document.querySelector(\"#id4-2-2\");\n",
              "//# sourceURL=js_425978be1b"
            ],
            "text/plain": [
              "<IPython.core.display.Javascript object>"
            ]
          },
          "metadata": {}
        },
        {
          "output_type": "display_data",
          "data": {
            "application/javascript": [
              "window[\"ec0b23fe-794c-11ec-977b-0242ac1c0002\"] = google.colab.output.setActiveOutputArea(window[\"ec0acf1c-794c-11ec-977b-0242ac1c0002\"]);\n",
              "//# sourceURL=js_929acce7b2"
            ],
            "text/plain": [
              "<IPython.core.display.Javascript object>"
            ]
          },
          "metadata": {}
        },
        {
          "output_type": "stream",
          "name": "stdout",
          "text": [
            "neutral\n"
          ]
        },
        {
          "output_type": "display_data",
          "data": {
            "application/javascript": [
              "window[\"ec0c5508-794c-11ec-977b-0242ac1c0002\"] = google.colab.output.setActiveOutputArea(window[\"ec0a6982-794c-11ec-977b-0242ac1c0002\"]);\n",
              "//# sourceURL=js_7d289b78e8"
            ],
            "text/plain": [
              "<IPython.core.display.Javascript object>"
            ]
          },
          "metadata": {}
        },
        {
          "output_type": "display_data",
          "data": {
            "application/javascript": [
              "window[\"ec0e1cda-794c-11ec-977b-0242ac1c0002\"] = google.colab.output.getActiveOutputArea();\n",
              "//# sourceURL=js_abeb24fadb"
            ],
            "text/plain": [
              "<IPython.core.display.Javascript object>"
            ]
          },
          "metadata": {}
        },
        {
          "output_type": "display_data",
          "data": {
            "application/javascript": [
              "window[\"ec0e778e-794c-11ec-977b-0242ac1c0002\"] = document.querySelector(\"#id4-3-2\");\n",
              "//# sourceURL=js_fceeb654fb"
            ],
            "text/plain": [
              "<IPython.core.display.Javascript object>"
            ]
          },
          "metadata": {}
        },
        {
          "output_type": "display_data",
          "data": {
            "application/javascript": [
              "window[\"ec0edf62-794c-11ec-977b-0242ac1c0002\"] = google.colab.output.setActiveOutputArea(window[\"ec0e778e-794c-11ec-977b-0242ac1c0002\"]);\n",
              "//# sourceURL=js_ec1c5574d8"
            ],
            "text/plain": [
              "<IPython.core.display.Javascript object>"
            ]
          },
          "metadata": {}
        },
        {
          "output_type": "stream",
          "name": "stdout",
          "text": [
            "neutral\n"
          ]
        },
        {
          "output_type": "display_data",
          "data": {
            "application/javascript": [
              "window[\"ec0ff730-794c-11ec-977b-0242ac1c0002\"] = google.colab.output.setActiveOutputArea(window[\"ec0e1cda-794c-11ec-977b-0242ac1c0002\"]);\n",
              "//# sourceURL=js_87e6b93d6b"
            ],
            "text/plain": [
              "<IPython.core.display.Javascript object>"
            ]
          },
          "metadata": {}
        }
      ]
    },
    {
      "cell_type": "markdown",
      "source": [
        "\n",
        "Al realizar inferencia, se calcula la diferencia del precio por kilogramo obtenido y del precio esperado ignorando la característica analizada. Un valor positivo indica que el valor de dicha característica ha aportado positivamente al precio, mientras que un valor negativo refleja una influencia negativa. Los valores en el intervalo [-0.2, 0.2] se consideran neutrales puesto que se tratan de valores cercanos a 0."
      ],
      "metadata": {
        "id": "6Wsv1WrwdQKs"
      }
    },
    {
      "cell_type": "code",
      "source": [
        "checkInfluence(9, 16.9, 0.0, \"BROCOLI\", \"Castilla La Mancha\", 1.0)\n",
        "checkInfluence(9, 5.9, 0.0, \"BROCOLI\", \"Castilla La Mancha\", 1.0)\n",
        "print('\\n\\n')\n",
        "checkInfluence(1, 20.9, 2.0, \"SANDIA\", \"Castilla La Mancha\", 1.0)\n",
        "checkInfluence(1, 20.9, 0.0, \"SANDIA\", \"Castilla La Mancha\", 1.0)\n",
        "print('\\n\\n')\n",
        "checkInfluence(4, 20.9, 0.0, \"ALCACHOFA\", \"Castilla La Mancha\", 4.0)\n",
        "checkInfluence(8, 20.9, 0.0, \"ALCACHOFA\", \"Castilla La Mancha\", 4.0)"
      ],
      "metadata": {
        "colab": {
          "base_uri": "https://localhost:8080/",
          "height": 720
        },
        "id": "ApsIgdQSKmDl",
        "outputId": "c997d245-4efa-47d0-9d9d-a03af1d88504"
      },
      "execution_count": 64,
      "outputs": [
        {
          "output_type": "stream",
          "name": "stdout",
          "text": [
            "Diferencia de beneficios\n"
          ]
        },
        {
          "output_type": "display_data",
          "data": {
            "text/html": [
              "<style>\n",
              "       table#id6, #id6 > tbody > tr > th, #id6 > tbody > tr > td {\n",
              "         border: 1px solid lightgray;\n",
              "         border-collapse:collapse;\n",
              "         \n",
              "        }</style>"
            ],
            "text/plain": [
              "<IPython.core.display.HTML object>"
            ]
          },
          "metadata": {}
        },
        {
          "output_type": "display_data",
          "data": {
            "text/html": [
              "<table id=id6><tr><th id=id6-0-0></th><th id=id6-0-1></th><th id=id6-0-2></th></tr><tr><th id=id6-1-0></th><td id=id6-1-1></td><td id=id6-1-2></td></tr><tr><th id=id6-2-0></th><td id=id6-2-1></td><td id=id6-2-2></td></tr><tr><th id=id6-3-0></th><td id=id6-3-1></td><td id=id6-3-2></td></tr></table>"
            ],
            "text/plain": [
              "<IPython.core.display.HTML object>"
            ]
          },
          "metadata": {}
        },
        {
          "output_type": "display_data",
          "data": {
            "application/javascript": [
              "window[\"ec246468-794c-11ec-977b-0242ac1c0002\"] = google.colab.output.getActiveOutputArea();\n",
              "//# sourceURL=js_10bb9f4bc0"
            ],
            "text/plain": [
              "<IPython.core.display.Javascript object>"
            ]
          },
          "metadata": {}
        },
        {
          "output_type": "display_data",
          "data": {
            "application/javascript": [
              "window[\"ec24b4b8-794c-11ec-977b-0242ac1c0002\"] = document.querySelector(\"#id6-0-0\");\n",
              "//# sourceURL=js_b2df343ec8"
            ],
            "text/plain": [
              "<IPython.core.display.Javascript object>"
            ]
          },
          "metadata": {}
        },
        {
          "output_type": "display_data",
          "data": {
            "application/javascript": [
              "window[\"ec2508fa-794c-11ec-977b-0242ac1c0002\"] = google.colab.output.setActiveOutputArea(window[\"ec24b4b8-794c-11ec-977b-0242ac1c0002\"]);\n",
              "//# sourceURL=js_278243dfa5"
            ],
            "text/plain": [
              "<IPython.core.display.Javascript object>"
            ]
          },
          "metadata": {}
        },
        {
          "output_type": "stream",
          "name": "stdout",
          "text": [
            "Característica que falta\n"
          ]
        },
        {
          "output_type": "display_data",
          "data": {
            "application/javascript": [
              "window[\"ec27c572-794c-11ec-977b-0242ac1c0002\"] = google.colab.output.setActiveOutputArea(window[\"ec246468-794c-11ec-977b-0242ac1c0002\"]);\n",
              "//# sourceURL=js_6cab061456"
            ],
            "text/plain": [
              "<IPython.core.display.Javascript object>"
            ]
          },
          "metadata": {}
        },
        {
          "output_type": "display_data",
          "data": {
            "application/javascript": [
              "window[\"ec29c750-794c-11ec-977b-0242ac1c0002\"] = google.colab.output.getActiveOutputArea();\n",
              "//# sourceURL=js_7d514f8be7"
            ],
            "text/plain": [
              "<IPython.core.display.Javascript object>"
            ]
          },
          "metadata": {}
        },
        {
          "output_type": "display_data",
          "data": {
            "application/javascript": [
              "window[\"ec2a1e3a-794c-11ec-977b-0242ac1c0002\"] = document.querySelector(\"#id6-1-0\");\n",
              "//# sourceURL=js_3a2285823f"
            ],
            "text/plain": [
              "<IPython.core.display.Javascript object>"
            ]
          },
          "metadata": {}
        },
        {
          "output_type": "display_data",
          "data": {
            "application/javascript": [
              "window[\"ec2a7826-794c-11ec-977b-0242ac1c0002\"] = google.colab.output.setActiveOutputArea(window[\"ec2a1e3a-794c-11ec-977b-0242ac1c0002\"]);\n",
              "//# sourceURL=js_96d7ef0fc8"
            ],
            "text/plain": [
              "<IPython.core.display.Javascript object>"
            ]
          },
          "metadata": {}
        },
        {
          "output_type": "stream",
          "name": "stdout",
          "text": [
            "Mes\n"
          ]
        },
        {
          "output_type": "display_data",
          "data": {
            "application/javascript": [
              "window[\"ec2b963e-794c-11ec-977b-0242ac1c0002\"] = google.colab.output.setActiveOutputArea(window[\"ec29c750-794c-11ec-977b-0242ac1c0002\"]);\n",
              "//# sourceURL=js_5c20ec1cab"
            ],
            "text/plain": [
              "<IPython.core.display.Javascript object>"
            ]
          },
          "metadata": {}
        },
        {
          "output_type": "display_data",
          "data": {
            "application/javascript": [
              "window[\"ec2d693c-794c-11ec-977b-0242ac1c0002\"] = google.colab.output.getActiveOutputArea();\n",
              "//# sourceURL=js_c18d10ae58"
            ],
            "text/plain": [
              "<IPython.core.display.Javascript object>"
            ]
          },
          "metadata": {}
        },
        {
          "output_type": "display_data",
          "data": {
            "application/javascript": [
              "window[\"ec2dc026-794c-11ec-977b-0242ac1c0002\"] = document.querySelector(\"#id6-2-0\");\n",
              "//# sourceURL=js_db735ab2d3"
            ],
            "text/plain": [
              "<IPython.core.display.Javascript object>"
            ]
          },
          "metadata": {}
        },
        {
          "output_type": "display_data",
          "data": {
            "application/javascript": [
              "window[\"ec2e0d4c-794c-11ec-977b-0242ac1c0002\"] = google.colab.output.setActiveOutputArea(window[\"ec2dc026-794c-11ec-977b-0242ac1c0002\"]);\n",
              "//# sourceURL=js_c61e3293fd"
            ],
            "text/plain": [
              "<IPython.core.display.Javascript object>"
            ]
          },
          "metadata": {}
        },
        {
          "output_type": "stream",
          "name": "stdout",
          "text": [
            "Temperatura\n"
          ]
        },
        {
          "output_type": "display_data",
          "data": {
            "application/javascript": [
              "window[\"ec2f4e5a-794c-11ec-977b-0242ac1c0002\"] = google.colab.output.setActiveOutputArea(window[\"ec2d693c-794c-11ec-977b-0242ac1c0002\"]);\n",
              "//# sourceURL=js_6efb72c80d"
            ],
            "text/plain": [
              "<IPython.core.display.Javascript object>"
            ]
          },
          "metadata": {}
        },
        {
          "output_type": "display_data",
          "data": {
            "application/javascript": [
              "window[\"ec30d9fa-794c-11ec-977b-0242ac1c0002\"] = google.colab.output.getActiveOutputArea();\n",
              "//# sourceURL=js_637606bb3e"
            ],
            "text/plain": [
              "<IPython.core.display.Javascript object>"
            ]
          },
          "metadata": {}
        },
        {
          "output_type": "display_data",
          "data": {
            "application/javascript": [
              "window[\"ec3140e8-794c-11ec-977b-0242ac1c0002\"] = document.querySelector(\"#id6-3-0\");\n",
              "//# sourceURL=js_42daa1838b"
            ],
            "text/plain": [
              "<IPython.core.display.Javascript object>"
            ]
          },
          "metadata": {}
        },
        {
          "output_type": "display_data",
          "data": {
            "application/javascript": [
              "window[\"ec3193b8-794c-11ec-977b-0242ac1c0002\"] = google.colab.output.setActiveOutputArea(window[\"ec3140e8-794c-11ec-977b-0242ac1c0002\"]);\n",
              "//# sourceURL=js_f02804b6f1"
            ],
            "text/plain": [
              "<IPython.core.display.Javascript object>"
            ]
          },
          "metadata": {}
        },
        {
          "output_type": "stream",
          "name": "stdout",
          "text": [
            "Precipitación\n"
          ]
        },
        {
          "output_type": "display_data",
          "data": {
            "application/javascript": [
              "window[\"ec32cbf2-794c-11ec-977b-0242ac1c0002\"] = google.colab.output.setActiveOutputArea(window[\"ec30d9fa-794c-11ec-977b-0242ac1c0002\"]);\n",
              "//# sourceURL=js_0b2592ee36"
            ],
            "text/plain": [
              "<IPython.core.display.Javascript object>"
            ]
          },
          "metadata": {}
        },
        {
          "output_type": "display_data",
          "data": {
            "application/javascript": [
              "window[\"ec34902c-794c-11ec-977b-0242ac1c0002\"] = google.colab.output.getActiveOutputArea();\n",
              "//# sourceURL=js_28832ea13d"
            ],
            "text/plain": [
              "<IPython.core.display.Javascript object>"
            ]
          },
          "metadata": {}
        },
        {
          "output_type": "display_data",
          "data": {
            "application/javascript": [
              "window[\"ec34e70c-794c-11ec-977b-0242ac1c0002\"] = document.querySelector(\"#id6-1-1\");\n",
              "//# sourceURL=js_211d66838d"
            ],
            "text/plain": [
              "<IPython.core.display.Javascript object>"
            ]
          },
          "metadata": {}
        },
        {
          "output_type": "display_data",
          "data": {
            "application/javascript": [
              "window[\"ec353cf2-794c-11ec-977b-0242ac1c0002\"] = google.colab.output.setActiveOutputArea(window[\"ec34e70c-794c-11ec-977b-0242ac1c0002\"]);\n",
              "//# sourceURL=js_858fe10386"
            ],
            "text/plain": [
              "<IPython.core.display.Javascript object>"
            ]
          },
          "metadata": {}
        },
        {
          "output_type": "stream",
          "name": "stdout",
          "text": [
            "-1.5943840579999997\n"
          ]
        },
        {
          "output_type": "display_data",
          "data": {
            "application/javascript": [
              "window[\"ec366a5a-794c-11ec-977b-0242ac1c0002\"] = google.colab.output.setActiveOutputArea(window[\"ec34902c-794c-11ec-977b-0242ac1c0002\"]);\n",
              "//# sourceURL=js_46d72b71ab"
            ],
            "text/plain": [
              "<IPython.core.display.Javascript object>"
            ]
          },
          "metadata": {}
        },
        {
          "output_type": "display_data",
          "data": {
            "application/javascript": [
              "window[\"ec382b2e-794c-11ec-977b-0242ac1c0002\"] = google.colab.output.getActiveOutputArea();\n",
              "//# sourceURL=js_9925b831e4"
            ],
            "text/plain": [
              "<IPython.core.display.Javascript object>"
            ]
          },
          "metadata": {}
        },
        {
          "output_type": "display_data",
          "data": {
            "application/javascript": [
              "window[\"ec38813c-794c-11ec-977b-0242ac1c0002\"] = document.querySelector(\"#id6-2-1\");\n",
              "//# sourceURL=js_cad16e41cd"
            ],
            "text/plain": [
              "<IPython.core.display.Javascript object>"
            ]
          },
          "metadata": {}
        },
        {
          "output_type": "display_data",
          "data": {
            "application/javascript": [
              "window[\"ec38c7e6-794c-11ec-977b-0242ac1c0002\"] = google.colab.output.setActiveOutputArea(window[\"ec38813c-794c-11ec-977b-0242ac1c0002\"]);\n",
              "//# sourceURL=js_713235913f"
            ],
            "text/plain": [
              "<IPython.core.display.Javascript object>"
            ]
          },
          "metadata": {}
        },
        {
          "output_type": "stream",
          "name": "stdout",
          "text": [
            "-0.17931547612499998\n"
          ]
        },
        {
          "output_type": "display_data",
          "data": {
            "application/javascript": [
              "window[\"ec39fff8-794c-11ec-977b-0242ac1c0002\"] = google.colab.output.setActiveOutputArea(window[\"ec382b2e-794c-11ec-977b-0242ac1c0002\"]);\n",
              "//# sourceURL=js_ac158e5dca"
            ],
            "text/plain": [
              "<IPython.core.display.Javascript object>"
            ]
          },
          "metadata": {}
        },
        {
          "output_type": "display_data",
          "data": {
            "application/javascript": [
              "window[\"ec3bb226-794c-11ec-977b-0242ac1c0002\"] = google.colab.output.getActiveOutputArea();\n",
              "//# sourceURL=js_0d55179a0c"
            ],
            "text/plain": [
              "<IPython.core.display.Javascript object>"
            ]
          },
          "metadata": {}
        },
        {
          "output_type": "display_data",
          "data": {
            "application/javascript": [
              "window[\"ec3c0884-794c-11ec-977b-0242ac1c0002\"] = document.querySelector(\"#id6-3-1\");\n",
              "//# sourceURL=js_48542a3a9b"
            ],
            "text/plain": [
              "<IPython.core.display.Javascript object>"
            ]
          },
          "metadata": {}
        },
        {
          "output_type": "display_data",
          "data": {
            "application/javascript": [
              "window[\"ec3c501e-794c-11ec-977b-0242ac1c0002\"] = google.colab.output.setActiveOutputArea(window[\"ec3c0884-794c-11ec-977b-0242ac1c0002\"]);\n",
              "//# sourceURL=js_c0958bc1ba"
            ],
            "text/plain": [
              "<IPython.core.display.Javascript object>"
            ]
          },
          "metadata": {}
        },
        {
          "output_type": "stream",
          "name": "stdout",
          "text": [
            "-0.30629132176566887\n"
          ]
        },
        {
          "output_type": "display_data",
          "data": {
            "application/javascript": [
              "window[\"ec3dc778-794c-11ec-977b-0242ac1c0002\"] = google.colab.output.setActiveOutputArea(window[\"ec3bb226-794c-11ec-977b-0242ac1c0002\"]);\n",
              "//# sourceURL=js_d6deae5cd4"
            ],
            "text/plain": [
              "<IPython.core.display.Javascript object>"
            ]
          },
          "metadata": {}
        },
        {
          "output_type": "display_data",
          "data": {
            "application/javascript": [
              "window[\"ec3f7d48-794c-11ec-977b-0242ac1c0002\"] = google.colab.output.getActiveOutputArea();\n",
              "//# sourceURL=js_30de9fd6e4"
            ],
            "text/plain": [
              "<IPython.core.display.Javascript object>"
            ]
          },
          "metadata": {}
        },
        {
          "output_type": "display_data",
          "data": {
            "application/javascript": [
              "window[\"ec413872-794c-11ec-977b-0242ac1c0002\"] = document.querySelector(\"#id6-0-1\");\n",
              "//# sourceURL=js_ded2e16e17"
            ],
            "text/plain": [
              "<IPython.core.display.Javascript object>"
            ]
          },
          "metadata": {}
        },
        {
          "output_type": "display_data",
          "data": {
            "application/javascript": [
              "window[\"ec41cb0c-794c-11ec-977b-0242ac1c0002\"] = google.colab.output.setActiveOutputArea(window[\"ec413872-794c-11ec-977b-0242ac1c0002\"]);\n",
              "//# sourceURL=js_1fdf00ab34"
            ],
            "text/plain": [
              "<IPython.core.display.Javascript object>"
            ]
          },
          "metadata": {}
        },
        {
          "output_type": "stream",
          "name": "stdout",
          "text": [
            "Beneficio real - Beneficio esperado\n"
          ]
        },
        {
          "output_type": "display_data",
          "data": {
            "application/javascript": [
              "window[\"ec451cf8-794c-11ec-977b-0242ac1c0002\"] = google.colab.output.setActiveOutputArea(window[\"ec3f7d48-794c-11ec-977b-0242ac1c0002\"]);\n",
              "//# sourceURL=js_dd35e1920e"
            ],
            "text/plain": [
              "<IPython.core.display.Javascript object>"
            ]
          },
          "metadata": {}
        },
        {
          "output_type": "display_data",
          "data": {
            "application/javascript": [
              "window[\"ec4808fa-794c-11ec-977b-0242ac1c0002\"] = google.colab.output.getActiveOutputArea();\n",
              "//# sourceURL=js_0b4ecbd6eb"
            ],
            "text/plain": [
              "<IPython.core.display.Javascript object>"
            ]
          },
          "metadata": {}
        },
        {
          "output_type": "display_data",
          "data": {
            "application/javascript": [
              "window[\"ec486e1c-794c-11ec-977b-0242ac1c0002\"] = document.querySelector(\"#id6-0-2\");\n",
              "//# sourceURL=js_7a757e032b"
            ],
            "text/plain": [
              "<IPython.core.display.Javascript object>"
            ]
          },
          "metadata": {}
        },
        {
          "output_type": "display_data",
          "data": {
            "application/javascript": [
              "window[\"ec492c76-794c-11ec-977b-0242ac1c0002\"] = google.colab.output.setActiveOutputArea(window[\"ec486e1c-794c-11ec-977b-0242ac1c0002\"]);\n",
              "//# sourceURL=js_d9e2c0ec0d"
            ],
            "text/plain": [
              "<IPython.core.display.Javascript object>"
            ]
          },
          "metadata": {}
        },
        {
          "output_type": "stream",
          "name": "stdout",
          "text": [
            "Influencia\n"
          ]
        },
        {
          "output_type": "display_data",
          "data": {
            "application/javascript": [
              "window[\"ec4b19fa-794c-11ec-977b-0242ac1c0002\"] = google.colab.output.setActiveOutputArea(window[\"ec4808fa-794c-11ec-977b-0242ac1c0002\"]);\n",
              "//# sourceURL=js_cb583dd756"
            ],
            "text/plain": [
              "<IPython.core.display.Javascript object>"
            ]
          },
          "metadata": {}
        },
        {
          "output_type": "display_data",
          "data": {
            "application/javascript": [
              "window[\"ec4cdc90-794c-11ec-977b-0242ac1c0002\"] = google.colab.output.getActiveOutputArea();\n",
              "//# sourceURL=js_d8cf31738f"
            ],
            "text/plain": [
              "<IPython.core.display.Javascript object>"
            ]
          },
          "metadata": {}
        },
        {
          "output_type": "display_data",
          "data": {
            "application/javascript": [
              "window[\"ec4de914-794c-11ec-977b-0242ac1c0002\"] = document.querySelector(\"#id6-1-2\");\n",
              "//# sourceURL=js_5757a93046"
            ],
            "text/plain": [
              "<IPython.core.display.Javascript object>"
            ]
          },
          "metadata": {}
        },
        {
          "output_type": "display_data",
          "data": {
            "application/javascript": [
              "window[\"ec4e323e-794c-11ec-977b-0242ac1c0002\"] = google.colab.output.setActiveOutputArea(window[\"ec4de914-794c-11ec-977b-0242ac1c0002\"]);\n",
              "//# sourceURL=js_2838a1e8fb"
            ],
            "text/plain": [
              "<IPython.core.display.Javascript object>"
            ]
          },
          "metadata": {}
        },
        {
          "output_type": "stream",
          "name": "stdout",
          "text": [
            "negative\n"
          ]
        },
        {
          "output_type": "display_data",
          "data": {
            "application/javascript": [
              "window[\"ec504ae2-794c-11ec-977b-0242ac1c0002\"] = google.colab.output.setActiveOutputArea(window[\"ec4cdc90-794c-11ec-977b-0242ac1c0002\"]);\n",
              "//# sourceURL=js_8c8fe5b142"
            ],
            "text/plain": [
              "<IPython.core.display.Javascript object>"
            ]
          },
          "metadata": {}
        },
        {
          "output_type": "display_data",
          "data": {
            "application/javascript": [
              "window[\"ec5274fc-794c-11ec-977b-0242ac1c0002\"] = google.colab.output.getActiveOutputArea();\n",
              "//# sourceURL=js_ab6398463c"
            ],
            "text/plain": [
              "<IPython.core.display.Javascript object>"
            ]
          },
          "metadata": {}
        },
        {
          "output_type": "display_data",
          "data": {
            "application/javascript": [
              "window[\"ec52d7ee-794c-11ec-977b-0242ac1c0002\"] = document.querySelector(\"#id6-2-2\");\n",
              "//# sourceURL=js_ad6dcb659b"
            ],
            "text/plain": [
              "<IPython.core.display.Javascript object>"
            ]
          },
          "metadata": {}
        },
        {
          "output_type": "display_data",
          "data": {
            "application/javascript": [
              "window[\"ec53fc8c-794c-11ec-977b-0242ac1c0002\"] = google.colab.output.setActiveOutputArea(window[\"ec52d7ee-794c-11ec-977b-0242ac1c0002\"]);\n",
              "//# sourceURL=js_eebe60dd6a"
            ],
            "text/plain": [
              "<IPython.core.display.Javascript object>"
            ]
          },
          "metadata": {}
        },
        {
          "output_type": "stream",
          "name": "stdout",
          "text": [
            "neutral\n"
          ]
        },
        {
          "output_type": "display_data",
          "data": {
            "application/javascript": [
              "window[\"ec561ca6-794c-11ec-977b-0242ac1c0002\"] = google.colab.output.setActiveOutputArea(window[\"ec5274fc-794c-11ec-977b-0242ac1c0002\"]);\n",
              "//# sourceURL=js_fec98aaae6"
            ],
            "text/plain": [
              "<IPython.core.display.Javascript object>"
            ]
          },
          "metadata": {}
        },
        {
          "output_type": "display_data",
          "data": {
            "application/javascript": [
              "window[\"ec58e9ae-794c-11ec-977b-0242ac1c0002\"] = google.colab.output.getActiveOutputArea();\n",
              "//# sourceURL=js_cc10add17b"
            ],
            "text/plain": [
              "<IPython.core.display.Javascript object>"
            ]
          },
          "metadata": {}
        },
        {
          "output_type": "display_data",
          "data": {
            "application/javascript": [
              "window[\"ec593d82-794c-11ec-977b-0242ac1c0002\"] = document.querySelector(\"#id6-3-2\");\n",
              "//# sourceURL=js_83eaed74ab"
            ],
            "text/plain": [
              "<IPython.core.display.Javascript object>"
            ]
          },
          "metadata": {}
        },
        {
          "output_type": "display_data",
          "data": {
            "application/javascript": [
              "window[\"ec5a1fa4-794c-11ec-977b-0242ac1c0002\"] = google.colab.output.setActiveOutputArea(window[\"ec593d82-794c-11ec-977b-0242ac1c0002\"]);\n",
              "//# sourceURL=js_f98a113722"
            ],
            "text/plain": [
              "<IPython.core.display.Javascript object>"
            ]
          },
          "metadata": {}
        },
        {
          "output_type": "stream",
          "name": "stdout",
          "text": [
            "negative\n"
          ]
        },
        {
          "output_type": "display_data",
          "data": {
            "application/javascript": [
              "window[\"ec5be596-794c-11ec-977b-0242ac1c0002\"] = google.colab.output.setActiveOutputArea(window[\"ec58e9ae-794c-11ec-977b-0242ac1c0002\"]);\n",
              "//# sourceURL=js_142fe3d6d7"
            ],
            "text/plain": [
              "<IPython.core.display.Javascript object>"
            ]
          },
          "metadata": {}
        },
        {
          "output_type": "stream",
          "name": "stdout",
          "text": [
            "Diferencia de beneficios\n"
          ]
        },
        {
          "output_type": "display_data",
          "data": {
            "text/html": [
              "<style>\n",
              "       table#id8, #id8 > tbody > tr > th, #id8 > tbody > tr > td {\n",
              "         border: 1px solid lightgray;\n",
              "         border-collapse:collapse;\n",
              "         \n",
              "        }</style>"
            ],
            "text/plain": [
              "<IPython.core.display.HTML object>"
            ]
          },
          "metadata": {}
        },
        {
          "output_type": "display_data",
          "data": {
            "text/html": [
              "<table id=id8><tr><th id=id8-0-0></th><th id=id8-0-1></th><th id=id8-0-2></th></tr><tr><th id=id8-1-0></th><td id=id8-1-1></td><td id=id8-1-2></td></tr><tr><th id=id8-2-0></th><td id=id8-2-1></td><td id=id8-2-2></td></tr><tr><th id=id8-3-0></th><td id=id8-3-1></td><td id=id8-3-2></td></tr></table>"
            ],
            "text/plain": [
              "<IPython.core.display.HTML object>"
            ]
          },
          "metadata": {}
        },
        {
          "output_type": "display_data",
          "data": {
            "application/javascript": [
              "window[\"ec6a9226-794c-11ec-977b-0242ac1c0002\"] = google.colab.output.getActiveOutputArea();\n",
              "//# sourceURL=js_497dde8c1b"
            ],
            "text/plain": [
              "<IPython.core.display.Javascript object>"
            ]
          },
          "metadata": {}
        },
        {
          "output_type": "display_data",
          "data": {
            "application/javascript": [
              "window[\"ec6b2254-794c-11ec-977b-0242ac1c0002\"] = document.querySelector(\"#id8-0-0\");\n",
              "//# sourceURL=js_d28673880d"
            ],
            "text/plain": [
              "<IPython.core.display.Javascript object>"
            ]
          },
          "metadata": {}
        },
        {
          "output_type": "display_data",
          "data": {
            "application/javascript": [
              "window[\"ec6b72d6-794c-11ec-977b-0242ac1c0002\"] = google.colab.output.setActiveOutputArea(window[\"ec6b2254-794c-11ec-977b-0242ac1c0002\"]);\n",
              "//# sourceURL=js_51ffb0890d"
            ],
            "text/plain": [
              "<IPython.core.display.Javascript object>"
            ]
          },
          "metadata": {}
        },
        {
          "output_type": "stream",
          "name": "stdout",
          "text": [
            "Característica que falta\n"
          ]
        },
        {
          "output_type": "display_data",
          "data": {
            "application/javascript": [
              "window[\"ec6ca638-794c-11ec-977b-0242ac1c0002\"] = google.colab.output.setActiveOutputArea(window[\"ec6a9226-794c-11ec-977b-0242ac1c0002\"]);\n",
              "//# sourceURL=js_b77046adf2"
            ],
            "text/plain": [
              "<IPython.core.display.Javascript object>"
            ]
          },
          "metadata": {}
        },
        {
          "output_type": "display_data",
          "data": {
            "application/javascript": [
              "window[\"ec6e67ac-794c-11ec-977b-0242ac1c0002\"] = google.colab.output.getActiveOutputArea();\n",
              "//# sourceURL=js_7317ca44e3"
            ],
            "text/plain": [
              "<IPython.core.display.Javascript object>"
            ]
          },
          "metadata": {}
        },
        {
          "output_type": "display_data",
          "data": {
            "application/javascript": [
              "window[\"ec6ec260-794c-11ec-977b-0242ac1c0002\"] = document.querySelector(\"#id8-1-0\");\n",
              "//# sourceURL=js_e9c07f431a"
            ],
            "text/plain": [
              "<IPython.core.display.Javascript object>"
            ]
          },
          "metadata": {}
        },
        {
          "output_type": "display_data",
          "data": {
            "application/javascript": [
              "window[\"ec6f135a-794c-11ec-977b-0242ac1c0002\"] = google.colab.output.setActiveOutputArea(window[\"ec6ec260-794c-11ec-977b-0242ac1c0002\"]);\n",
              "//# sourceURL=js_178ad43c48"
            ],
            "text/plain": [
              "<IPython.core.display.Javascript object>"
            ]
          },
          "metadata": {}
        },
        {
          "output_type": "stream",
          "name": "stdout",
          "text": [
            "Mes\n"
          ]
        },
        {
          "output_type": "display_data",
          "data": {
            "application/javascript": [
              "window[\"ec70909a-794c-11ec-977b-0242ac1c0002\"] = google.colab.output.setActiveOutputArea(window[\"ec6e67ac-794c-11ec-977b-0242ac1c0002\"]);\n",
              "//# sourceURL=js_0ae972791d"
            ],
            "text/plain": [
              "<IPython.core.display.Javascript object>"
            ]
          },
          "metadata": {}
        },
        {
          "output_type": "display_data",
          "data": {
            "application/javascript": [
              "window[\"ec723fee-794c-11ec-977b-0242ac1c0002\"] = google.colab.output.getActiveOutputArea();\n",
              "//# sourceURL=js_0b92c005d3"
            ],
            "text/plain": [
              "<IPython.core.display.Javascript object>"
            ]
          },
          "metadata": {}
        },
        {
          "output_type": "display_data",
          "data": {
            "application/javascript": [
              "window[\"ec729f8e-794c-11ec-977b-0242ac1c0002\"] = document.querySelector(\"#id8-2-0\");\n",
              "//# sourceURL=js_bb250eca56"
            ],
            "text/plain": [
              "<IPython.core.display.Javascript object>"
            ]
          },
          "metadata": {}
        },
        {
          "output_type": "display_data",
          "data": {
            "application/javascript": [
              "window[\"ec72ea20-794c-11ec-977b-0242ac1c0002\"] = google.colab.output.setActiveOutputArea(window[\"ec729f8e-794c-11ec-977b-0242ac1c0002\"]);\n",
              "//# sourceURL=js_67652c6ab6"
            ],
            "text/plain": [
              "<IPython.core.display.Javascript object>"
            ]
          },
          "metadata": {}
        },
        {
          "output_type": "stream",
          "name": "stdout",
          "text": [
            "Temperatura\n"
          ]
        },
        {
          "output_type": "display_data",
          "data": {
            "application/javascript": [
              "window[\"ec741044-794c-11ec-977b-0242ac1c0002\"] = google.colab.output.setActiveOutputArea(window[\"ec723fee-794c-11ec-977b-0242ac1c0002\"]);\n",
              "//# sourceURL=js_163bfe2106"
            ],
            "text/plain": [
              "<IPython.core.display.Javascript object>"
            ]
          },
          "metadata": {}
        },
        {
          "output_type": "display_data",
          "data": {
            "application/javascript": [
              "window[\"ec759dc4-794c-11ec-977b-0242ac1c0002\"] = google.colab.output.getActiveOutputArea();\n",
              "//# sourceURL=js_963f1f5719"
            ],
            "text/plain": [
              "<IPython.core.display.Javascript object>"
            ]
          },
          "metadata": {}
        },
        {
          "output_type": "display_data",
          "data": {
            "application/javascript": [
              "window[\"ec75f134-794c-11ec-977b-0242ac1c0002\"] = document.querySelector(\"#id8-3-0\");\n",
              "//# sourceURL=js_aa8e33adc2"
            ],
            "text/plain": [
              "<IPython.core.display.Javascript object>"
            ]
          },
          "metadata": {}
        },
        {
          "output_type": "display_data",
          "data": {
            "application/javascript": [
              "window[\"ec763a2c-794c-11ec-977b-0242ac1c0002\"] = google.colab.output.setActiveOutputArea(window[\"ec75f134-794c-11ec-977b-0242ac1c0002\"]);\n",
              "//# sourceURL=js_2f6a50ffae"
            ],
            "text/plain": [
              "<IPython.core.display.Javascript object>"
            ]
          },
          "metadata": {}
        },
        {
          "output_type": "stream",
          "name": "stdout",
          "text": [
            "Precipitación\n"
          ]
        },
        {
          "output_type": "display_data",
          "data": {
            "application/javascript": [
              "window[\"ec776028-794c-11ec-977b-0242ac1c0002\"] = google.colab.output.setActiveOutputArea(window[\"ec759dc4-794c-11ec-977b-0242ac1c0002\"]);\n",
              "//# sourceURL=js_3122741a76"
            ],
            "text/plain": [
              "<IPython.core.display.Javascript object>"
            ]
          },
          "metadata": {}
        },
        {
          "output_type": "display_data",
          "data": {
            "application/javascript": [
              "window[\"ec7903b0-794c-11ec-977b-0242ac1c0002\"] = google.colab.output.getActiveOutputArea();\n",
              "//# sourceURL=js_77d732ea34"
            ],
            "text/plain": [
              "<IPython.core.display.Javascript object>"
            ]
          },
          "metadata": {}
        },
        {
          "output_type": "display_data",
          "data": {
            "application/javascript": [
              "window[\"ec794bcc-794c-11ec-977b-0242ac1c0002\"] = document.querySelector(\"#id8-1-1\");\n",
              "//# sourceURL=js_a6a2a5cb63"
            ],
            "text/plain": [
              "<IPython.core.display.Javascript object>"
            ]
          },
          "metadata": {}
        },
        {
          "output_type": "display_data",
          "data": {
            "application/javascript": [
              "window[\"ec79900a-794c-11ec-977b-0242ac1c0002\"] = google.colab.output.setActiveOutputArea(window[\"ec794bcc-794c-11ec-977b-0242ac1c0002\"]);\n",
              "//# sourceURL=js_c37e8751e7"
            ],
            "text/plain": [
              "<IPython.core.display.Javascript object>"
            ]
          },
          "metadata": {}
        },
        {
          "output_type": "stream",
          "name": "stdout",
          "text": [
            "-0.5613636364999999\n"
          ]
        },
        {
          "output_type": "display_data",
          "data": {
            "application/javascript": [
              "window[\"ec7a97fc-794c-11ec-977b-0242ac1c0002\"] = google.colab.output.setActiveOutputArea(window[\"ec7903b0-794c-11ec-977b-0242ac1c0002\"]);\n",
              "//# sourceURL=js_2ab193597d"
            ],
            "text/plain": [
              "<IPython.core.display.Javascript object>"
            ]
          },
          "metadata": {}
        },
        {
          "output_type": "display_data",
          "data": {
            "application/javascript": [
              "window[\"ec7c19ec-794c-11ec-977b-0242ac1c0002\"] = google.colab.output.getActiveOutputArea();\n",
              "//# sourceURL=js_e70fa5a1b6"
            ],
            "text/plain": [
              "<IPython.core.display.Javascript object>"
            ]
          },
          "metadata": {}
        },
        {
          "output_type": "display_data",
          "data": {
            "application/javascript": [
              "window[\"ec7c6172-794c-11ec-977b-0242ac1c0002\"] = document.querySelector(\"#id8-2-1\");\n",
              "//# sourceURL=js_c0935faf9b"
            ],
            "text/plain": [
              "<IPython.core.display.Javascript object>"
            ]
          },
          "metadata": {}
        },
        {
          "output_type": "display_data",
          "data": {
            "application/javascript": [
              "window[\"ec7ca880-794c-11ec-977b-0242ac1c0002\"] = google.colab.output.setActiveOutputArea(window[\"ec7c6172-794c-11ec-977b-0242ac1c0002\"]);\n",
              "//# sourceURL=js_7fccdccdc7"
            ],
            "text/plain": [
              "<IPython.core.display.Javascript object>"
            ]
          },
          "metadata": {}
        },
        {
          "output_type": "stream",
          "name": "stdout",
          "text": [
            "-0.17931547612499998\n"
          ]
        },
        {
          "output_type": "display_data",
          "data": {
            "application/javascript": [
              "window[\"ec7dacbc-794c-11ec-977b-0242ac1c0002\"] = google.colab.output.setActiveOutputArea(window[\"ec7c19ec-794c-11ec-977b-0242ac1c0002\"]);\n",
              "//# sourceURL=js_4387c187ef"
            ],
            "text/plain": [
              "<IPython.core.display.Javascript object>"
            ]
          },
          "metadata": {}
        },
        {
          "output_type": "display_data",
          "data": {
            "application/javascript": [
              "window[\"ec7f15fc-794c-11ec-977b-0242ac1c0002\"] = google.colab.output.getActiveOutputArea();\n",
              "//# sourceURL=js_28d88d6876"
            ],
            "text/plain": [
              "<IPython.core.display.Javascript object>"
            ]
          },
          "metadata": {}
        },
        {
          "output_type": "display_data",
          "data": {
            "application/javascript": [
              "window[\"ec7f55e4-794c-11ec-977b-0242ac1c0002\"] = document.querySelector(\"#id8-3-1\");\n",
              "//# sourceURL=js_29a2e34c07"
            ],
            "text/plain": [
              "<IPython.core.display.Javascript object>"
            ]
          },
          "metadata": {}
        },
        {
          "output_type": "display_data",
          "data": {
            "application/javascript": [
              "window[\"ec7f9554-794c-11ec-977b-0242ac1c0002\"] = google.colab.output.setActiveOutputArea(window[\"ec7f55e4-794c-11ec-977b-0242ac1c0002\"]);\n",
              "//# sourceURL=js_1bb2a4b120"
            ],
            "text/plain": [
              "<IPython.core.display.Javascript object>"
            ]
          },
          "metadata": {}
        },
        {
          "output_type": "stream",
          "name": "stdout",
          "text": [
            "-0.38709197551566876\n"
          ]
        },
        {
          "output_type": "display_data",
          "data": {
            "application/javascript": [
              "window[\"ec808d7e-794c-11ec-977b-0242ac1c0002\"] = google.colab.output.setActiveOutputArea(window[\"ec7f15fc-794c-11ec-977b-0242ac1c0002\"]);\n",
              "//# sourceURL=js_bd2d3fb912"
            ],
            "text/plain": [
              "<IPython.core.display.Javascript object>"
            ]
          },
          "metadata": {}
        },
        {
          "output_type": "display_data",
          "data": {
            "application/javascript": [
              "window[\"ec821388-794c-11ec-977b-0242ac1c0002\"] = google.colab.output.getActiveOutputArea();\n",
              "//# sourceURL=js_1f87330d35"
            ],
            "text/plain": [
              "<IPython.core.display.Javascript object>"
            ]
          },
          "metadata": {}
        },
        {
          "output_type": "display_data",
          "data": {
            "application/javascript": [
              "window[\"ec825d34-794c-11ec-977b-0242ac1c0002\"] = document.querySelector(\"#id8-0-1\");\n",
              "//# sourceURL=js_a50417992d"
            ],
            "text/plain": [
              "<IPython.core.display.Javascript object>"
            ]
          },
          "metadata": {}
        },
        {
          "output_type": "display_data",
          "data": {
            "application/javascript": [
              "window[\"ec82ca30-794c-11ec-977b-0242ac1c0002\"] = google.colab.output.setActiveOutputArea(window[\"ec825d34-794c-11ec-977b-0242ac1c0002\"]);\n",
              "//# sourceURL=js_134ecc4c51"
            ],
            "text/plain": [
              "<IPython.core.display.Javascript object>"
            ]
          },
          "metadata": {}
        },
        {
          "output_type": "stream",
          "name": "stdout",
          "text": [
            "Beneficio real - Beneficio esperado\n"
          ]
        },
        {
          "output_type": "display_data",
          "data": {
            "application/javascript": [
              "window[\"ec841f66-794c-11ec-977b-0242ac1c0002\"] = google.colab.output.setActiveOutputArea(window[\"ec821388-794c-11ec-977b-0242ac1c0002\"]);\n",
              "//# sourceURL=js_5e11858fc4"
            ],
            "text/plain": [
              "<IPython.core.display.Javascript object>"
            ]
          },
          "metadata": {}
        },
        {
          "output_type": "display_data",
          "data": {
            "application/javascript": [
              "window[\"ec85b5ce-794c-11ec-977b-0242ac1c0002\"] = google.colab.output.getActiveOutputArea();\n",
              "//# sourceURL=js_69e25e9c3a"
            ],
            "text/plain": [
              "<IPython.core.display.Javascript object>"
            ]
          },
          "metadata": {}
        },
        {
          "output_type": "display_data",
          "data": {
            "application/javascript": [
              "window[\"ec860290-794c-11ec-977b-0242ac1c0002\"] = document.querySelector(\"#id8-0-2\");\n",
              "//# sourceURL=js_dbd6c2b4fe"
            ],
            "text/plain": [
              "<IPython.core.display.Javascript object>"
            ]
          },
          "metadata": {}
        },
        {
          "output_type": "display_data",
          "data": {
            "application/javascript": [
              "window[\"ec864d86-794c-11ec-977b-0242ac1c0002\"] = google.colab.output.setActiveOutputArea(window[\"ec860290-794c-11ec-977b-0242ac1c0002\"]);\n",
              "//# sourceURL=js_53ea33f136"
            ],
            "text/plain": [
              "<IPython.core.display.Javascript object>"
            ]
          },
          "metadata": {}
        },
        {
          "output_type": "stream",
          "name": "stdout",
          "text": [
            "Influencia\n"
          ]
        },
        {
          "output_type": "display_data",
          "data": {
            "application/javascript": [
              "window[\"ec8763e2-794c-11ec-977b-0242ac1c0002\"] = google.colab.output.setActiveOutputArea(window[\"ec85b5ce-794c-11ec-977b-0242ac1c0002\"]);\n",
              "//# sourceURL=js_c7a62e5e45"
            ],
            "text/plain": [
              "<IPython.core.display.Javascript object>"
            ]
          },
          "metadata": {}
        },
        {
          "output_type": "display_data",
          "data": {
            "application/javascript": [
              "window[\"ec890418-794c-11ec-977b-0242ac1c0002\"] = google.colab.output.getActiveOutputArea();\n",
              "//# sourceURL=js_96196006ef"
            ],
            "text/plain": [
              "<IPython.core.display.Javascript object>"
            ]
          },
          "metadata": {}
        },
        {
          "output_type": "display_data",
          "data": {
            "application/javascript": [
              "window[\"ec8952c4-794c-11ec-977b-0242ac1c0002\"] = document.querySelector(\"#id8-1-2\");\n",
              "//# sourceURL=js_6141aee5b9"
            ],
            "text/plain": [
              "<IPython.core.display.Javascript object>"
            ]
          },
          "metadata": {}
        },
        {
          "output_type": "display_data",
          "data": {
            "application/javascript": [
              "window[\"ec8b1aaa-794c-11ec-977b-0242ac1c0002\"] = google.colab.output.setActiveOutputArea(window[\"ec8952c4-794c-11ec-977b-0242ac1c0002\"]);\n",
              "//# sourceURL=js_38d1583401"
            ],
            "text/plain": [
              "<IPython.core.display.Javascript object>"
            ]
          },
          "metadata": {}
        },
        {
          "output_type": "stream",
          "name": "stdout",
          "text": [
            "negative\n"
          ]
        },
        {
          "output_type": "display_data",
          "data": {
            "application/javascript": [
              "window[\"ec8d17ec-794c-11ec-977b-0242ac1c0002\"] = google.colab.output.setActiveOutputArea(window[\"ec890418-794c-11ec-977b-0242ac1c0002\"]);\n",
              "//# sourceURL=js_0aba1d3e6e"
            ],
            "text/plain": [
              "<IPython.core.display.Javascript object>"
            ]
          },
          "metadata": {}
        },
        {
          "output_type": "display_data",
          "data": {
            "application/javascript": [
              "window[\"ec9102b2-794c-11ec-977b-0242ac1c0002\"] = google.colab.output.getActiveOutputArea();\n",
              "//# sourceURL=js_78c6604772"
            ],
            "text/plain": [
              "<IPython.core.display.Javascript object>"
            ]
          },
          "metadata": {}
        },
        {
          "output_type": "display_data",
          "data": {
            "application/javascript": [
              "window[\"ec9182d2-794c-11ec-977b-0242ac1c0002\"] = document.querySelector(\"#id8-2-2\");\n",
              "//# sourceURL=js_6a1c019dca"
            ],
            "text/plain": [
              "<IPython.core.display.Javascript object>"
            ]
          },
          "metadata": {}
        },
        {
          "output_type": "display_data",
          "data": {
            "application/javascript": [
              "window[\"ec91e0e2-794c-11ec-977b-0242ac1c0002\"] = google.colab.output.setActiveOutputArea(window[\"ec9182d2-794c-11ec-977b-0242ac1c0002\"]);\n",
              "//# sourceURL=js_a15f8dd7d7"
            ],
            "text/plain": [
              "<IPython.core.display.Javascript object>"
            ]
          },
          "metadata": {}
        },
        {
          "output_type": "stream",
          "name": "stdout",
          "text": [
            "neutral\n"
          ]
        },
        {
          "output_type": "display_data",
          "data": {
            "application/javascript": [
              "window[\"ec940fca-794c-11ec-977b-0242ac1c0002\"] = google.colab.output.setActiveOutputArea(window[\"ec9102b2-794c-11ec-977b-0242ac1c0002\"]);\n",
              "//# sourceURL=js_9ffced1dde"
            ],
            "text/plain": [
              "<IPython.core.display.Javascript object>"
            ]
          },
          "metadata": {}
        },
        {
          "output_type": "display_data",
          "data": {
            "application/javascript": [
              "window[\"ec967a94-794c-11ec-977b-0242ac1c0002\"] = google.colab.output.getActiveOutputArea();\n",
              "//# sourceURL=js_6e3d4107e9"
            ],
            "text/plain": [
              "<IPython.core.display.Javascript object>"
            ]
          },
          "metadata": {}
        },
        {
          "output_type": "display_data",
          "data": {
            "application/javascript": [
              "window[\"ec96e236-794c-11ec-977b-0242ac1c0002\"] = document.querySelector(\"#id8-3-2\");\n",
              "//# sourceURL=js_1b2306acbf"
            ],
            "text/plain": [
              "<IPython.core.display.Javascript object>"
            ]
          },
          "metadata": {}
        },
        {
          "output_type": "display_data",
          "data": {
            "application/javascript": [
              "window[\"ec9734fc-794c-11ec-977b-0242ac1c0002\"] = google.colab.output.setActiveOutputArea(window[\"ec96e236-794c-11ec-977b-0242ac1c0002\"]);\n",
              "//# sourceURL=js_30d0fb5703"
            ],
            "text/plain": [
              "<IPython.core.display.Javascript object>"
            ]
          },
          "metadata": {}
        },
        {
          "output_type": "stream",
          "name": "stdout",
          "text": [
            "negative\n"
          ]
        },
        {
          "output_type": "display_data",
          "data": {
            "application/javascript": [
              "window[\"ec98940a-794c-11ec-977b-0242ac1c0002\"] = google.colab.output.setActiveOutputArea(window[\"ec967a94-794c-11ec-977b-0242ac1c0002\"]);\n",
              "//# sourceURL=js_9e4a373044"
            ],
            "text/plain": [
              "<IPython.core.display.Javascript object>"
            ]
          },
          "metadata": {}
        },
        {
          "output_type": "stream",
          "name": "stdout",
          "text": [
            "\n",
            "\n",
            "\n",
            "Diferencia de beneficios\n"
          ]
        },
        {
          "output_type": "display_data",
          "data": {
            "text/html": [
              "<style>\n",
              "       table#id10, #id10 > tbody > tr > th, #id10 > tbody > tr > td {\n",
              "         border: 1px solid lightgray;\n",
              "         border-collapse:collapse;\n",
              "         \n",
              "        }</style>"
            ],
            "text/plain": [
              "<IPython.core.display.HTML object>"
            ]
          },
          "metadata": {}
        },
        {
          "output_type": "display_data",
          "data": {
            "text/html": [
              "<table id=id10><tr><th id=id10-0-0></th><th id=id10-0-1></th><th id=id10-0-2></th></tr><tr><th id=id10-1-0></th><td id=id10-1-1></td><td id=id10-1-2></td></tr><tr><th id=id10-2-0></th><td id=id10-2-1></td><td id=id10-2-2></td></tr><tr><th id=id10-3-0></th><td id=id10-3-1></td><td id=id10-3-2></td></tr></table>"
            ],
            "text/plain": [
              "<IPython.core.display.HTML object>"
            ]
          },
          "metadata": {}
        },
        {
          "output_type": "display_data",
          "data": {
            "application/javascript": [
              "window[\"ecab6922-794c-11ec-977b-0242ac1c0002\"] = google.colab.output.getActiveOutputArea();\n",
              "//# sourceURL=js_7baa1f717e"
            ],
            "text/plain": [
              "<IPython.core.display.Javascript object>"
            ]
          },
          "metadata": {}
        },
        {
          "output_type": "display_data",
          "data": {
            "application/javascript": [
              "window[\"ecabc430-794c-11ec-977b-0242ac1c0002\"] = document.querySelector(\"#id10-0-0\");\n",
              "//# sourceURL=js_bd319833e9"
            ],
            "text/plain": [
              "<IPython.core.display.Javascript object>"
            ]
          },
          "metadata": {}
        },
        {
          "output_type": "display_data",
          "data": {
            "application/javascript": [
              "window[\"ecac20c4-794c-11ec-977b-0242ac1c0002\"] = google.colab.output.setActiveOutputArea(window[\"ecabc430-794c-11ec-977b-0242ac1c0002\"]);\n",
              "//# sourceURL=js_66f9ae2124"
            ],
            "text/plain": [
              "<IPython.core.display.Javascript object>"
            ]
          },
          "metadata": {}
        },
        {
          "output_type": "stream",
          "name": "stdout",
          "text": [
            "Característica que falta\n"
          ]
        },
        {
          "output_type": "display_data",
          "data": {
            "application/javascript": [
              "window[\"ecad6e02-794c-11ec-977b-0242ac1c0002\"] = google.colab.output.setActiveOutputArea(window[\"ecab6922-794c-11ec-977b-0242ac1c0002\"]);\n",
              "//# sourceURL=js_4240d409ff"
            ],
            "text/plain": [
              "<IPython.core.display.Javascript object>"
            ]
          },
          "metadata": {}
        },
        {
          "output_type": "display_data",
          "data": {
            "application/javascript": [
              "window[\"ecaf53a2-794c-11ec-977b-0242ac1c0002\"] = google.colab.output.getActiveOutputArea();\n",
              "//# sourceURL=js_ba08a2bcb8"
            ],
            "text/plain": [
              "<IPython.core.display.Javascript object>"
            ]
          },
          "metadata": {}
        },
        {
          "output_type": "display_data",
          "data": {
            "application/javascript": [
              "window[\"ecafbbb2-794c-11ec-977b-0242ac1c0002\"] = document.querySelector(\"#id10-1-0\");\n",
              "//# sourceURL=js_c7d31859f6"
            ],
            "text/plain": [
              "<IPython.core.display.Javascript object>"
            ]
          },
          "metadata": {}
        },
        {
          "output_type": "display_data",
          "data": {
            "application/javascript": [
              "window[\"ecb016c0-794c-11ec-977b-0242ac1c0002\"] = google.colab.output.setActiveOutputArea(window[\"ecafbbb2-794c-11ec-977b-0242ac1c0002\"]);\n",
              "//# sourceURL=js_031ab71c69"
            ],
            "text/plain": [
              "<IPython.core.display.Javascript object>"
            ]
          },
          "metadata": {}
        },
        {
          "output_type": "stream",
          "name": "stdout",
          "text": [
            "Mes\n"
          ]
        },
        {
          "output_type": "display_data",
          "data": {
            "application/javascript": [
              "window[\"ecb16c14-794c-11ec-977b-0242ac1c0002\"] = google.colab.output.setActiveOutputArea(window[\"ecaf53a2-794c-11ec-977b-0242ac1c0002\"]);\n",
              "//# sourceURL=js_55c30fafb6"
            ],
            "text/plain": [
              "<IPython.core.display.Javascript object>"
            ]
          },
          "metadata": {}
        },
        {
          "output_type": "display_data",
          "data": {
            "application/javascript": [
              "window[\"ecb3a164-794c-11ec-977b-0242ac1c0002\"] = google.colab.output.getActiveOutputArea();\n",
              "//# sourceURL=js_a81faf2989"
            ],
            "text/plain": [
              "<IPython.core.display.Javascript object>"
            ]
          },
          "metadata": {}
        },
        {
          "output_type": "display_data",
          "data": {
            "application/javascript": [
              "window[\"ecb41874-794c-11ec-977b-0242ac1c0002\"] = document.querySelector(\"#id10-2-0\");\n",
              "//# sourceURL=js_19af5c8066"
            ],
            "text/plain": [
              "<IPython.core.display.Javascript object>"
            ]
          },
          "metadata": {}
        },
        {
          "output_type": "display_data",
          "data": {
            "application/javascript": [
              "window[\"ecb4884a-794c-11ec-977b-0242ac1c0002\"] = google.colab.output.setActiveOutputArea(window[\"ecb41874-794c-11ec-977b-0242ac1c0002\"]);\n",
              "//# sourceURL=js_630d86401c"
            ],
            "text/plain": [
              "<IPython.core.display.Javascript object>"
            ]
          },
          "metadata": {}
        },
        {
          "output_type": "stream",
          "name": "stdout",
          "text": [
            "Temperatura\n"
          ]
        },
        {
          "output_type": "display_data",
          "data": {
            "application/javascript": [
              "window[\"ecb5cbe2-794c-11ec-977b-0242ac1c0002\"] = google.colab.output.setActiveOutputArea(window[\"ecb3a164-794c-11ec-977b-0242ac1c0002\"]);\n",
              "//# sourceURL=js_df176f7a14"
            ],
            "text/plain": [
              "<IPython.core.display.Javascript object>"
            ]
          },
          "metadata": {}
        },
        {
          "output_type": "display_data",
          "data": {
            "application/javascript": [
              "window[\"ecb7dc2a-794c-11ec-977b-0242ac1c0002\"] = google.colab.output.getActiveOutputArea();\n",
              "//# sourceURL=js_d9d3d2128c"
            ],
            "text/plain": [
              "<IPython.core.display.Javascript object>"
            ]
          },
          "metadata": {}
        },
        {
          "output_type": "display_data",
          "data": {
            "application/javascript": [
              "window[\"ecb83198-794c-11ec-977b-0242ac1c0002\"] = document.querySelector(\"#id10-3-0\");\n",
              "//# sourceURL=js_4561d26c68"
            ],
            "text/plain": [
              "<IPython.core.display.Javascript object>"
            ]
          },
          "metadata": {}
        },
        {
          "output_type": "display_data",
          "data": {
            "application/javascript": [
              "window[\"ecb8f272-794c-11ec-977b-0242ac1c0002\"] = google.colab.output.setActiveOutputArea(window[\"ecb83198-794c-11ec-977b-0242ac1c0002\"]);\n",
              "//# sourceURL=js_887e382dca"
            ],
            "text/plain": [
              "<IPython.core.display.Javascript object>"
            ]
          },
          "metadata": {}
        },
        {
          "output_type": "stream",
          "name": "stdout",
          "text": [
            "Precipitación\n"
          ]
        },
        {
          "output_type": "display_data",
          "data": {
            "application/javascript": [
              "window[\"ecbb08be-794c-11ec-977b-0242ac1c0002\"] = google.colab.output.setActiveOutputArea(window[\"ecb7dc2a-794c-11ec-977b-0242ac1c0002\"]);\n",
              "//# sourceURL=js_5ec1d42a0f"
            ],
            "text/plain": [
              "<IPython.core.display.Javascript object>"
            ]
          },
          "metadata": {}
        },
        {
          "output_type": "display_data",
          "data": {
            "application/javascript": [
              "window[\"ecbead70-794c-11ec-977b-0242ac1c0002\"] = google.colab.output.getActiveOutputArea();\n",
              "//# sourceURL=js_f3ea2b933d"
            ],
            "text/plain": [
              "<IPython.core.display.Javascript object>"
            ]
          },
          "metadata": {}
        },
        {
          "output_type": "display_data",
          "data": {
            "application/javascript": [
              "window[\"ecbf000e-794c-11ec-977b-0242ac1c0002\"] = document.querySelector(\"#id10-1-1\");\n",
              "//# sourceURL=js_168f5b3cc0"
            ],
            "text/plain": [
              "<IPython.core.display.Javascript object>"
            ]
          },
          "metadata": {}
        },
        {
          "output_type": "display_data",
          "data": {
            "application/javascript": [
              "window[\"ecbfbf94-794c-11ec-977b-0242ac1c0002\"] = google.colab.output.setActiveOutputArea(window[\"ecbf000e-794c-11ec-977b-0242ac1c0002\"]);\n",
              "//# sourceURL=js_7f9609fdd9"
            ],
            "text/plain": [
              "<IPython.core.display.Javascript object>"
            ]
          },
          "metadata": {}
        },
        {
          "output_type": "stream",
          "name": "stdout",
          "text": [
            "0.46291260008333335\n"
          ]
        },
        {
          "output_type": "display_data",
          "data": {
            "application/javascript": [
              "window[\"ecc17c6c-794c-11ec-977b-0242ac1c0002\"] = google.colab.output.setActiveOutputArea(window[\"ecbead70-794c-11ec-977b-0242ac1c0002\"]);\n",
              "//# sourceURL=js_a75fc59678"
            ],
            "text/plain": [
              "<IPython.core.display.Javascript object>"
            ]
          },
          "metadata": {}
        },
        {
          "output_type": "display_data",
          "data": {
            "application/javascript": [
              "window[\"ecc63e78-794c-11ec-977b-0242ac1c0002\"] = google.colab.output.getActiveOutputArea();\n",
              "//# sourceURL=js_fb32bef0f5"
            ],
            "text/plain": [
              "<IPython.core.display.Javascript object>"
            ]
          },
          "metadata": {}
        },
        {
          "output_type": "display_data",
          "data": {
            "application/javascript": [
              "window[\"ecc6980a-794c-11ec-977b-0242ac1c0002\"] = document.querySelector(\"#id10-2-1\");\n",
              "//# sourceURL=js_6766bcddb4"
            ],
            "text/plain": [
              "<IPython.core.display.Javascript object>"
            ]
          },
          "metadata": {}
        },
        {
          "output_type": "display_data",
          "data": {
            "application/javascript": [
              "window[\"ecc7b122-794c-11ec-977b-0242ac1c0002\"] = google.colab.output.setActiveOutputArea(window[\"ecc6980a-794c-11ec-977b-0242ac1c0002\"]);\n",
              "//# sourceURL=js_6e4c426170"
            ],
            "text/plain": [
              "<IPython.core.display.Javascript object>"
            ]
          },
          "metadata": {}
        },
        {
          "output_type": "stream",
          "name": "stdout",
          "text": [
            "0.516937296058874\n"
          ]
        },
        {
          "output_type": "display_data",
          "data": {
            "application/javascript": [
              "window[\"ecc991fe-794c-11ec-977b-0242ac1c0002\"] = google.colab.output.setActiveOutputArea(window[\"ecc63e78-794c-11ec-977b-0242ac1c0002\"]);\n",
              "//# sourceURL=js_7925a69206"
            ],
            "text/plain": [
              "<IPython.core.display.Javascript object>"
            ]
          },
          "metadata": {}
        },
        {
          "output_type": "display_data",
          "data": {
            "application/javascript": [
              "window[\"eccc1dca-794c-11ec-977b-0242ac1c0002\"] = google.colab.output.getActiveOutputArea();\n",
              "//# sourceURL=js_70bd693306"
            ],
            "text/plain": [
              "<IPython.core.display.Javascript object>"
            ]
          },
          "metadata": {}
        },
        {
          "output_type": "display_data",
          "data": {
            "application/javascript": [
              "window[\"eccc8206-794c-11ec-977b-0242ac1c0002\"] = document.querySelector(\"#id10-3-1\");\n",
              "//# sourceURL=js_be6e0e3f49"
            ],
            "text/plain": [
              "<IPython.core.display.Javascript object>"
            ]
          },
          "metadata": {}
        },
        {
          "output_type": "display_data",
          "data": {
            "application/javascript": [
              "window[\"ecccdc92-794c-11ec-977b-0242ac1c0002\"] = google.colab.output.setActiveOutputArea(window[\"eccc8206-794c-11ec-977b-0242ac1c0002\"]);\n",
              "//# sourceURL=js_6f26e952c8"
            ],
            "text/plain": [
              "<IPython.core.display.Javascript object>"
            ]
          },
          "metadata": {}
        },
        {
          "output_type": "stream",
          "name": "stdout",
          "text": [
            "0.4655493929943143\n"
          ]
        },
        {
          "output_type": "display_data",
          "data": {
            "application/javascript": [
              "window[\"ecce0e82-794c-11ec-977b-0242ac1c0002\"] = google.colab.output.setActiveOutputArea(window[\"eccc1dca-794c-11ec-977b-0242ac1c0002\"]);\n",
              "//# sourceURL=js_928b60305a"
            ],
            "text/plain": [
              "<IPython.core.display.Javascript object>"
            ]
          },
          "metadata": {}
        },
        {
          "output_type": "display_data",
          "data": {
            "application/javascript": [
              "window[\"eccfd8f2-794c-11ec-977b-0242ac1c0002\"] = google.colab.output.getActiveOutputArea();\n",
              "//# sourceURL=js_00d0c1fe81"
            ],
            "text/plain": [
              "<IPython.core.display.Javascript object>"
            ]
          },
          "metadata": {}
        },
        {
          "output_type": "display_data",
          "data": {
            "application/javascript": [
              "window[\"ecd02744-794c-11ec-977b-0242ac1c0002\"] = document.querySelector(\"#id10-0-1\");\n",
              "//# sourceURL=js_fb6882a33e"
            ],
            "text/plain": [
              "<IPython.core.display.Javascript object>"
            ]
          },
          "metadata": {}
        },
        {
          "output_type": "display_data",
          "data": {
            "application/javascript": [
              "window[\"ecd0873e-794c-11ec-977b-0242ac1c0002\"] = google.colab.output.setActiveOutputArea(window[\"ecd02744-794c-11ec-977b-0242ac1c0002\"]);\n",
              "//# sourceURL=js_94fb0e43a5"
            ],
            "text/plain": [
              "<IPython.core.display.Javascript object>"
            ]
          },
          "metadata": {}
        },
        {
          "output_type": "stream",
          "name": "stdout",
          "text": [
            "Beneficio real - Beneficio esperado\n"
          ]
        },
        {
          "output_type": "display_data",
          "data": {
            "application/javascript": [
              "window[\"ecd1a678-794c-11ec-977b-0242ac1c0002\"] = google.colab.output.setActiveOutputArea(window[\"eccfd8f2-794c-11ec-977b-0242ac1c0002\"]);\n",
              "//# sourceURL=js_3b0a26f0f4"
            ],
            "text/plain": [
              "<IPython.core.display.Javascript object>"
            ]
          },
          "metadata": {}
        },
        {
          "output_type": "display_data",
          "data": {
            "application/javascript": [
              "window[\"ecd35e6e-794c-11ec-977b-0242ac1c0002\"] = google.colab.output.getActiveOutputArea();\n",
              "//# sourceURL=js_bd4391ab46"
            ],
            "text/plain": [
              "<IPython.core.display.Javascript object>"
            ]
          },
          "metadata": {}
        },
        {
          "output_type": "display_data",
          "data": {
            "application/javascript": [
              "window[\"ecd3d04c-794c-11ec-977b-0242ac1c0002\"] = document.querySelector(\"#id10-0-2\");\n",
              "//# sourceURL=js_fa4b07b35d"
            ],
            "text/plain": [
              "<IPython.core.display.Javascript object>"
            ]
          },
          "metadata": {}
        },
        {
          "output_type": "display_data",
          "data": {
            "application/javascript": [
              "window[\"ecd43fa0-794c-11ec-977b-0242ac1c0002\"] = google.colab.output.setActiveOutputArea(window[\"ecd3d04c-794c-11ec-977b-0242ac1c0002\"]);\n",
              "//# sourceURL=js_8d3fb968aa"
            ],
            "text/plain": [
              "<IPython.core.display.Javascript object>"
            ]
          },
          "metadata": {}
        },
        {
          "output_type": "stream",
          "name": "stdout",
          "text": [
            "Influencia\n"
          ]
        },
        {
          "output_type": "display_data",
          "data": {
            "application/javascript": [
              "window[\"ecd5d374-794c-11ec-977b-0242ac1c0002\"] = google.colab.output.setActiveOutputArea(window[\"ecd35e6e-794c-11ec-977b-0242ac1c0002\"]);\n",
              "//# sourceURL=js_49d0506595"
            ],
            "text/plain": [
              "<IPython.core.display.Javascript object>"
            ]
          },
          "metadata": {}
        },
        {
          "output_type": "display_data",
          "data": {
            "application/javascript": [
              "window[\"ecd75762-794c-11ec-977b-0242ac1c0002\"] = google.colab.output.getActiveOutputArea();\n",
              "//# sourceURL=js_b5bbbb4b9a"
            ],
            "text/plain": [
              "<IPython.core.display.Javascript object>"
            ]
          },
          "metadata": {}
        },
        {
          "output_type": "display_data",
          "data": {
            "application/javascript": [
              "window[\"ecd7a2e4-794c-11ec-977b-0242ac1c0002\"] = document.querySelector(\"#id10-1-2\");\n",
              "//# sourceURL=js_2030712bba"
            ],
            "text/plain": [
              "<IPython.core.display.Javascript object>"
            ]
          },
          "metadata": {}
        },
        {
          "output_type": "display_data",
          "data": {
            "application/javascript": [
              "window[\"ecd7eb46-794c-11ec-977b-0242ac1c0002\"] = google.colab.output.setActiveOutputArea(window[\"ecd7a2e4-794c-11ec-977b-0242ac1c0002\"]);\n",
              "//# sourceURL=js_297939f5c7"
            ],
            "text/plain": [
              "<IPython.core.display.Javascript object>"
            ]
          },
          "metadata": {}
        },
        {
          "output_type": "stream",
          "name": "stdout",
          "text": [
            "positive\n"
          ]
        },
        {
          "output_type": "display_data",
          "data": {
            "application/javascript": [
              "window[\"ecd906ca-794c-11ec-977b-0242ac1c0002\"] = google.colab.output.setActiveOutputArea(window[\"ecd75762-794c-11ec-977b-0242ac1c0002\"]);\n",
              "//# sourceURL=js_5273a90b16"
            ],
            "text/plain": [
              "<IPython.core.display.Javascript object>"
            ]
          },
          "metadata": {}
        },
        {
          "output_type": "display_data",
          "data": {
            "application/javascript": [
              "window[\"ecda93e6-794c-11ec-977b-0242ac1c0002\"] = google.colab.output.getActiveOutputArea();\n",
              "//# sourceURL=js_09e91bd3e8"
            ],
            "text/plain": [
              "<IPython.core.display.Javascript object>"
            ]
          },
          "metadata": {}
        },
        {
          "output_type": "display_data",
          "data": {
            "application/javascript": [
              "window[\"ecdadc20-794c-11ec-977b-0242ac1c0002\"] = document.querySelector(\"#id10-2-2\");\n",
              "//# sourceURL=js_ec47488ee2"
            ],
            "text/plain": [
              "<IPython.core.display.Javascript object>"
            ]
          },
          "metadata": {}
        },
        {
          "output_type": "display_data",
          "data": {
            "application/javascript": [
              "window[\"ecdb287e-794c-11ec-977b-0242ac1c0002\"] = google.colab.output.setActiveOutputArea(window[\"ecdadc20-794c-11ec-977b-0242ac1c0002\"]);\n",
              "//# sourceURL=js_c4a2fceaf8"
            ],
            "text/plain": [
              "<IPython.core.display.Javascript object>"
            ]
          },
          "metadata": {}
        },
        {
          "output_type": "stream",
          "name": "stdout",
          "text": [
            "positive\n"
          ]
        },
        {
          "output_type": "display_data",
          "data": {
            "application/javascript": [
              "window[\"ecdc2ee0-794c-11ec-977b-0242ac1c0002\"] = google.colab.output.setActiveOutputArea(window[\"ecda93e6-794c-11ec-977b-0242ac1c0002\"]);\n",
              "//# sourceURL=js_53a2ea7482"
            ],
            "text/plain": [
              "<IPython.core.display.Javascript object>"
            ]
          },
          "metadata": {}
        },
        {
          "output_type": "display_data",
          "data": {
            "application/javascript": [
              "window[\"ecddb148-794c-11ec-977b-0242ac1c0002\"] = google.colab.output.getActiveOutputArea();\n",
              "//# sourceURL=js_333067474d"
            ],
            "text/plain": [
              "<IPython.core.display.Javascript object>"
            ]
          },
          "metadata": {}
        },
        {
          "output_type": "display_data",
          "data": {
            "application/javascript": [
              "window[\"ecddfa22-794c-11ec-977b-0242ac1c0002\"] = document.querySelector(\"#id10-3-2\");\n",
              "//# sourceURL=js_d5b902702e"
            ],
            "text/plain": [
              "<IPython.core.display.Javascript object>"
            ]
          },
          "metadata": {}
        },
        {
          "output_type": "display_data",
          "data": {
            "application/javascript": [
              "window[\"ecde4842-794c-11ec-977b-0242ac1c0002\"] = google.colab.output.setActiveOutputArea(window[\"ecddfa22-794c-11ec-977b-0242ac1c0002\"]);\n",
              "//# sourceURL=js_d4c8c9be88"
            ],
            "text/plain": [
              "<IPython.core.display.Javascript object>"
            ]
          },
          "metadata": {}
        },
        {
          "output_type": "stream",
          "name": "stdout",
          "text": [
            "positive\n"
          ]
        },
        {
          "output_type": "display_data",
          "data": {
            "application/javascript": [
              "window[\"ecdf4eea-794c-11ec-977b-0242ac1c0002\"] = google.colab.output.setActiveOutputArea(window[\"ecddb148-794c-11ec-977b-0242ac1c0002\"]);\n",
              "//# sourceURL=js_54a5810eb8"
            ],
            "text/plain": [
              "<IPython.core.display.Javascript object>"
            ]
          },
          "metadata": {}
        },
        {
          "output_type": "stream",
          "name": "stdout",
          "text": [
            "Diferencia de beneficios\n"
          ]
        },
        {
          "output_type": "display_data",
          "data": {
            "text/html": [
              "<style>\n",
              "       table#id12, #id12 > tbody > tr > th, #id12 > tbody > tr > td {\n",
              "         border: 1px solid lightgray;\n",
              "         border-collapse:collapse;\n",
              "         \n",
              "        }</style>"
            ],
            "text/plain": [
              "<IPython.core.display.HTML object>"
            ]
          },
          "metadata": {}
        },
        {
          "output_type": "display_data",
          "data": {
            "text/html": [
              "<table id=id12><tr><th id=id12-0-0></th><th id=id12-0-1></th><th id=id12-0-2></th></tr><tr><th id=id12-1-0></th><td id=id12-1-1></td><td id=id12-1-2></td></tr><tr><th id=id12-2-0></th><td id=id12-2-1></td><td id=id12-2-2></td></tr><tr><th id=id12-3-0></th><td id=id12-3-1></td><td id=id12-3-2></td></tr></table>"
            ],
            "text/plain": [
              "<IPython.core.display.HTML object>"
            ]
          },
          "metadata": {}
        },
        {
          "output_type": "display_data",
          "data": {
            "application/javascript": [
              "window[\"ecef6bc2-794c-11ec-977b-0242ac1c0002\"] = google.colab.output.getActiveOutputArea();\n",
              "//# sourceURL=js_d190a00236"
            ],
            "text/plain": [
              "<IPython.core.display.Javascript object>"
            ]
          },
          "metadata": {}
        },
        {
          "output_type": "display_data",
          "data": {
            "application/javascript": [
              "window[\"ecefedb8-794c-11ec-977b-0242ac1c0002\"] = document.querySelector(\"#id12-0-0\");\n",
              "//# sourceURL=js_c25049ce18"
            ],
            "text/plain": [
              "<IPython.core.display.Javascript object>"
            ]
          },
          "metadata": {}
        },
        {
          "output_type": "display_data",
          "data": {
            "application/javascript": [
              "window[\"ecf06a90-794c-11ec-977b-0242ac1c0002\"] = google.colab.output.setActiveOutputArea(window[\"ecefedb8-794c-11ec-977b-0242ac1c0002\"]);\n",
              "//# sourceURL=js_278bc603a9"
            ],
            "text/plain": [
              "<IPython.core.display.Javascript object>"
            ]
          },
          "metadata": {}
        },
        {
          "output_type": "stream",
          "name": "stdout",
          "text": [
            "Característica que falta\n"
          ]
        },
        {
          "output_type": "display_data",
          "data": {
            "application/javascript": [
              "window[\"ecf18df8-794c-11ec-977b-0242ac1c0002\"] = google.colab.output.setActiveOutputArea(window[\"ecef6bc2-794c-11ec-977b-0242ac1c0002\"]);\n",
              "//# sourceURL=js_aa685c92ea"
            ],
            "text/plain": [
              "<IPython.core.display.Javascript object>"
            ]
          },
          "metadata": {}
        },
        {
          "output_type": "display_data",
          "data": {
            "application/javascript": [
              "window[\"ecf50b90-794c-11ec-977b-0242ac1c0002\"] = google.colab.output.getActiveOutputArea();\n",
              "//# sourceURL=js_1c67a3ebfa"
            ],
            "text/plain": [
              "<IPython.core.display.Javascript object>"
            ]
          },
          "metadata": {}
        },
        {
          "output_type": "display_data",
          "data": {
            "application/javascript": [
              "window[\"ecf56824-794c-11ec-977b-0242ac1c0002\"] = document.querySelector(\"#id12-1-0\");\n",
              "//# sourceURL=js_ce137d0879"
            ],
            "text/plain": [
              "<IPython.core.display.Javascript object>"
            ]
          },
          "metadata": {}
        },
        {
          "output_type": "display_data",
          "data": {
            "application/javascript": [
              "window[\"ecf5d08e-794c-11ec-977b-0242ac1c0002\"] = google.colab.output.setActiveOutputArea(window[\"ecf56824-794c-11ec-977b-0242ac1c0002\"]);\n",
              "//# sourceURL=js_dd0931b553"
            ],
            "text/plain": [
              "<IPython.core.display.Javascript object>"
            ]
          },
          "metadata": {}
        },
        {
          "output_type": "stream",
          "name": "stdout",
          "text": [
            "Mes\n"
          ]
        },
        {
          "output_type": "display_data",
          "data": {
            "application/javascript": [
              "window[\"ecf848d2-794c-11ec-977b-0242ac1c0002\"] = google.colab.output.setActiveOutputArea(window[\"ecf50b90-794c-11ec-977b-0242ac1c0002\"]);\n",
              "//# sourceURL=js_0118d48d99"
            ],
            "text/plain": [
              "<IPython.core.display.Javascript object>"
            ]
          },
          "metadata": {}
        },
        {
          "output_type": "display_data",
          "data": {
            "application/javascript": [
              "window[\"ecfa44b6-794c-11ec-977b-0242ac1c0002\"] = google.colab.output.getActiveOutputArea();\n",
              "//# sourceURL=js_e63dab8978"
            ],
            "text/plain": [
              "<IPython.core.display.Javascript object>"
            ]
          },
          "metadata": {}
        },
        {
          "output_type": "display_data",
          "data": {
            "application/javascript": [
              "window[\"ecfa9876-794c-11ec-977b-0242ac1c0002\"] = document.querySelector(\"#id12-2-0\");\n",
              "//# sourceURL=js_0c1de31478"
            ],
            "text/plain": [
              "<IPython.core.display.Javascript object>"
            ]
          },
          "metadata": {}
        },
        {
          "output_type": "display_data",
          "data": {
            "application/javascript": [
              "window[\"ecfadf98-794c-11ec-977b-0242ac1c0002\"] = google.colab.output.setActiveOutputArea(window[\"ecfa9876-794c-11ec-977b-0242ac1c0002\"]);\n",
              "//# sourceURL=js_3d2af9bbc8"
            ],
            "text/plain": [
              "<IPython.core.display.Javascript object>"
            ]
          },
          "metadata": {}
        },
        {
          "output_type": "stream",
          "name": "stdout",
          "text": [
            "Temperatura\n"
          ]
        },
        {
          "output_type": "display_data",
          "data": {
            "application/javascript": [
              "window[\"ecfbe456-794c-11ec-977b-0242ac1c0002\"] = google.colab.output.setActiveOutputArea(window[\"ecfa44b6-794c-11ec-977b-0242ac1c0002\"]);\n",
              "//# sourceURL=js_97eedab4f1"
            ],
            "text/plain": [
              "<IPython.core.display.Javascript object>"
            ]
          },
          "metadata": {}
        },
        {
          "output_type": "display_data",
          "data": {
            "application/javascript": [
              "window[\"ecfe6a82-794c-11ec-977b-0242ac1c0002\"] = google.colab.output.getActiveOutputArea();\n",
              "//# sourceURL=js_9863d33877"
            ],
            "text/plain": [
              "<IPython.core.display.Javascript object>"
            ]
          },
          "metadata": {}
        },
        {
          "output_type": "display_data",
          "data": {
            "application/javascript": [
              "window[\"ecfeb122-794c-11ec-977b-0242ac1c0002\"] = document.querySelector(\"#id12-3-0\");\n",
              "//# sourceURL=js_dcf5cfc5c4"
            ],
            "text/plain": [
              "<IPython.core.display.Javascript object>"
            ]
          },
          "metadata": {}
        },
        {
          "output_type": "display_data",
          "data": {
            "application/javascript": [
              "window[\"ecff9cea-794c-11ec-977b-0242ac1c0002\"] = google.colab.output.setActiveOutputArea(window[\"ecfeb122-794c-11ec-977b-0242ac1c0002\"]);\n",
              "//# sourceURL=js_6e69b24c2d"
            ],
            "text/plain": [
              "<IPython.core.display.Javascript object>"
            ]
          },
          "metadata": {}
        },
        {
          "output_type": "stream",
          "name": "stdout",
          "text": [
            "Precipitación\n"
          ]
        },
        {
          "output_type": "display_data",
          "data": {
            "application/javascript": [
              "window[\"ed01d0be-794c-11ec-977b-0242ac1c0002\"] = google.colab.output.setActiveOutputArea(window[\"ecfe6a82-794c-11ec-977b-0242ac1c0002\"]);\n",
              "//# sourceURL=js_c57a8e00e2"
            ],
            "text/plain": [
              "<IPython.core.display.Javascript object>"
            ]
          },
          "metadata": {}
        },
        {
          "output_type": "display_data",
          "data": {
            "application/javascript": [
              "window[\"ed04b004-794c-11ec-977b-0242ac1c0002\"] = google.colab.output.getActiveOutputArea();\n",
              "//# sourceURL=js_4b10353f17"
            ],
            "text/plain": [
              "<IPython.core.display.Javascript object>"
            ]
          },
          "metadata": {}
        },
        {
          "output_type": "display_data",
          "data": {
            "application/javascript": [
              "window[\"ed050946-794c-11ec-977b-0242ac1c0002\"] = document.querySelector(\"#id12-1-1\");\n",
              "//# sourceURL=js_ca32b2ae66"
            ],
            "text/plain": [
              "<IPython.core.display.Javascript object>"
            ]
          },
          "metadata": {}
        },
        {
          "output_type": "display_data",
          "data": {
            "application/javascript": [
              "window[\"ed05a4be-794c-11ec-977b-0242ac1c0002\"] = google.colab.output.setActiveOutputArea(window[\"ed050946-794c-11ec-977b-0242ac1c0002\"]);\n",
              "//# sourceURL=js_299051abec"
            ],
            "text/plain": [
              "<IPython.core.display.Javascript object>"
            ]
          },
          "metadata": {}
        },
        {
          "output_type": "stream",
          "name": "stdout",
          "text": [
            "0.4198351650833334\n"
          ]
        },
        {
          "output_type": "display_data",
          "data": {
            "application/javascript": [
              "window[\"ed075a52-794c-11ec-977b-0242ac1c0002\"] = google.colab.output.setActiveOutputArea(window[\"ed04b004-794c-11ec-977b-0242ac1c0002\"]);\n",
              "//# sourceURL=js_bd3ab17b67"
            ],
            "text/plain": [
              "<IPython.core.display.Javascript object>"
            ]
          },
          "metadata": {}
        },
        {
          "output_type": "display_data",
          "data": {
            "application/javascript": [
              "window[\"ed0a7f7a-794c-11ec-977b-0242ac1c0002\"] = google.colab.output.getActiveOutputArea();\n",
              "//# sourceURL=js_a505b77a38"
            ],
            "text/plain": [
              "<IPython.core.display.Javascript object>"
            ]
          },
          "metadata": {}
        },
        {
          "output_type": "display_data",
          "data": {
            "application/javascript": [
              "window[\"ed0ad204-794c-11ec-977b-0242ac1c0002\"] = document.querySelector(\"#id12-2-1\");\n",
              "//# sourceURL=js_0003836134"
            ],
            "text/plain": [
              "<IPython.core.display.Javascript object>"
            ]
          },
          "metadata": {}
        },
        {
          "output_type": "display_data",
          "data": {
            "application/javascript": [
              "window[\"ed0b473e-794c-11ec-977b-0242ac1c0002\"] = google.colab.output.setActiveOutputArea(window[\"ed0ad204-794c-11ec-977b-0242ac1c0002\"]);\n",
              "//# sourceURL=js_d5f051efac"
            ],
            "text/plain": [
              "<IPython.core.display.Javascript object>"
            ]
          },
          "metadata": {}
        },
        {
          "output_type": "stream",
          "name": "stdout",
          "text": [
            "0.48377582793186336\n"
          ]
        },
        {
          "output_type": "display_data",
          "data": {
            "application/javascript": [
              "window[\"ed0dc694-794c-11ec-977b-0242ac1c0002\"] = google.colab.output.setActiveOutputArea(window[\"ed0a7f7a-794c-11ec-977b-0242ac1c0002\"]);\n",
              "//# sourceURL=js_044cdae457"
            ],
            "text/plain": [
              "<IPython.core.display.Javascript object>"
            ]
          },
          "metadata": {}
        },
        {
          "output_type": "display_data",
          "data": {
            "application/javascript": [
              "window[\"ed1022c2-794c-11ec-977b-0242ac1c0002\"] = google.colab.output.getActiveOutputArea();\n",
              "//# sourceURL=js_289fdf1070"
            ],
            "text/plain": [
              "<IPython.core.display.Javascript object>"
            ]
          },
          "metadata": {}
        },
        {
          "output_type": "display_data",
          "data": {
            "application/javascript": [
              "window[\"ed109018-794c-11ec-977b-0242ac1c0002\"] = document.querySelector(\"#id12-3-1\");\n",
              "//# sourceURL=js_c5811ce590"
            ],
            "text/plain": [
              "<IPython.core.display.Javascript object>"
            ]
          },
          "metadata": {}
        },
        {
          "output_type": "display_data",
          "data": {
            "application/javascript": [
              "window[\"ed10def6-794c-11ec-977b-0242ac1c0002\"] = google.colab.output.setActiveOutputArea(window[\"ed109018-794c-11ec-977b-0242ac1c0002\"]);\n",
              "//# sourceURL=js_b88a33d326"
            ],
            "text/plain": [
              "<IPython.core.display.Javascript object>"
            ]
          },
          "metadata": {}
        },
        {
          "output_type": "stream",
          "name": "stdout",
          "text": [
            "0.4655493929943143\n"
          ]
        },
        {
          "output_type": "display_data",
          "data": {
            "application/javascript": [
              "window[\"ed1209ca-794c-11ec-977b-0242ac1c0002\"] = google.colab.output.setActiveOutputArea(window[\"ed1022c2-794c-11ec-977b-0242ac1c0002\"]);\n",
              "//# sourceURL=js_7d3f104080"
            ],
            "text/plain": [
              "<IPython.core.display.Javascript object>"
            ]
          },
          "metadata": {}
        },
        {
          "output_type": "display_data",
          "data": {
            "application/javascript": [
              "window[\"ed13c170-794c-11ec-977b-0242ac1c0002\"] = google.colab.output.getActiveOutputArea();\n",
              "//# sourceURL=js_7c35fec7d4"
            ],
            "text/plain": [
              "<IPython.core.display.Javascript object>"
            ]
          },
          "metadata": {}
        },
        {
          "output_type": "display_data",
          "data": {
            "application/javascript": [
              "window[\"ed14208e-794c-11ec-977b-0242ac1c0002\"] = document.querySelector(\"#id12-0-1\");\n",
              "//# sourceURL=js_4322c81260"
            ],
            "text/plain": [
              "<IPython.core.display.Javascript object>"
            ]
          },
          "metadata": {}
        },
        {
          "output_type": "display_data",
          "data": {
            "application/javascript": [
              "window[\"ed147c6e-794c-11ec-977b-0242ac1c0002\"] = google.colab.output.setActiveOutputArea(window[\"ed14208e-794c-11ec-977b-0242ac1c0002\"]);\n",
              "//# sourceURL=js_01bc495675"
            ],
            "text/plain": [
              "<IPython.core.display.Javascript object>"
            ]
          },
          "metadata": {}
        },
        {
          "output_type": "stream",
          "name": "stdout",
          "text": [
            "Beneficio real - Beneficio esperado\n"
          ]
        },
        {
          "output_type": "display_data",
          "data": {
            "application/javascript": [
              "window[\"ed158140-794c-11ec-977b-0242ac1c0002\"] = google.colab.output.setActiveOutputArea(window[\"ed13c170-794c-11ec-977b-0242ac1c0002\"]);\n",
              "//# sourceURL=js_ab47d7c062"
            ],
            "text/plain": [
              "<IPython.core.display.Javascript object>"
            ]
          },
          "metadata": {}
        },
        {
          "output_type": "display_data",
          "data": {
            "application/javascript": [
              "window[\"ed173710-794c-11ec-977b-0242ac1c0002\"] = google.colab.output.getActiveOutputArea();\n",
              "//# sourceURL=js_d5ac411070"
            ],
            "text/plain": [
              "<IPython.core.display.Javascript object>"
            ]
          },
          "metadata": {}
        },
        {
          "output_type": "display_data",
          "data": {
            "application/javascript": [
              "window[\"ed179d86-794c-11ec-977b-0242ac1c0002\"] = document.querySelector(\"#id12-0-2\");\n",
              "//# sourceURL=js_6fb99c2a5d"
            ],
            "text/plain": [
              "<IPython.core.display.Javascript object>"
            ]
          },
          "metadata": {}
        },
        {
          "output_type": "display_data",
          "data": {
            "application/javascript": [
              "window[\"ed17fa92-794c-11ec-977b-0242ac1c0002\"] = google.colab.output.setActiveOutputArea(window[\"ed179d86-794c-11ec-977b-0242ac1c0002\"]);\n",
              "//# sourceURL=js_144a4f5aeb"
            ],
            "text/plain": [
              "<IPython.core.display.Javascript object>"
            ]
          },
          "metadata": {}
        },
        {
          "output_type": "stream",
          "name": "stdout",
          "text": [
            "Influencia\n"
          ]
        },
        {
          "output_type": "display_data",
          "data": {
            "application/javascript": [
              "window[\"ed198f88-794c-11ec-977b-0242ac1c0002\"] = google.colab.output.setActiveOutputArea(window[\"ed173710-794c-11ec-977b-0242ac1c0002\"]);\n",
              "//# sourceURL=js_923c373031"
            ],
            "text/plain": [
              "<IPython.core.display.Javascript object>"
            ]
          },
          "metadata": {}
        },
        {
          "output_type": "display_data",
          "data": {
            "application/javascript": [
              "window[\"ed1b8086-794c-11ec-977b-0242ac1c0002\"] = google.colab.output.getActiveOutputArea();\n",
              "//# sourceURL=js_1ddaa13356"
            ],
            "text/plain": [
              "<IPython.core.display.Javascript object>"
            ]
          },
          "metadata": {}
        },
        {
          "output_type": "display_data",
          "data": {
            "application/javascript": [
              "window[\"ed1bca6e-794c-11ec-977b-0242ac1c0002\"] = document.querySelector(\"#id12-1-2\");\n",
              "//# sourceURL=js_f8f336617b"
            ],
            "text/plain": [
              "<IPython.core.display.Javascript object>"
            ]
          },
          "metadata": {}
        },
        {
          "output_type": "display_data",
          "data": {
            "application/javascript": [
              "window[\"ed1c1578-794c-11ec-977b-0242ac1c0002\"] = google.colab.output.setActiveOutputArea(window[\"ed1bca6e-794c-11ec-977b-0242ac1c0002\"]);\n",
              "//# sourceURL=js_f76e051ecb"
            ],
            "text/plain": [
              "<IPython.core.display.Javascript object>"
            ]
          },
          "metadata": {}
        },
        {
          "output_type": "stream",
          "name": "stdout",
          "text": [
            "positive\n"
          ]
        },
        {
          "output_type": "display_data",
          "data": {
            "application/javascript": [
              "window[\"ed1d77f6-794c-11ec-977b-0242ac1c0002\"] = google.colab.output.setActiveOutputArea(window[\"ed1b8086-794c-11ec-977b-0242ac1c0002\"]);\n",
              "//# sourceURL=js_1cdd630872"
            ],
            "text/plain": [
              "<IPython.core.display.Javascript object>"
            ]
          },
          "metadata": {}
        },
        {
          "output_type": "display_data",
          "data": {
            "application/javascript": [
              "window[\"ed1f0c42-794c-11ec-977b-0242ac1c0002\"] = google.colab.output.getActiveOutputArea();\n",
              "//# sourceURL=js_4b162a62ee"
            ],
            "text/plain": [
              "<IPython.core.display.Javascript object>"
            ]
          },
          "metadata": {}
        },
        {
          "output_type": "display_data",
          "data": {
            "application/javascript": [
              "window[\"ed1f5684-794c-11ec-977b-0242ac1c0002\"] = document.querySelector(\"#id12-2-2\");\n",
              "//# sourceURL=js_fc8f74c6df"
            ],
            "text/plain": [
              "<IPython.core.display.Javascript object>"
            ]
          },
          "metadata": {}
        },
        {
          "output_type": "display_data",
          "data": {
            "application/javascript": [
              "window[\"ed1f9ae0-794c-11ec-977b-0242ac1c0002\"] = google.colab.output.setActiveOutputArea(window[\"ed1f5684-794c-11ec-977b-0242ac1c0002\"]);\n",
              "//# sourceURL=js_f7b454213a"
            ],
            "text/plain": [
              "<IPython.core.display.Javascript object>"
            ]
          },
          "metadata": {}
        },
        {
          "output_type": "stream",
          "name": "stdout",
          "text": [
            "positive\n"
          ]
        },
        {
          "output_type": "display_data",
          "data": {
            "application/javascript": [
              "window[\"ed20da22-794c-11ec-977b-0242ac1c0002\"] = google.colab.output.setActiveOutputArea(window[\"ed1f0c42-794c-11ec-977b-0242ac1c0002\"]);\n",
              "//# sourceURL=js_34ee8408e4"
            ],
            "text/plain": [
              "<IPython.core.display.Javascript object>"
            ]
          },
          "metadata": {}
        },
        {
          "output_type": "display_data",
          "data": {
            "application/javascript": [
              "window[\"ed22a244-794c-11ec-977b-0242ac1c0002\"] = google.colab.output.getActiveOutputArea();\n",
              "//# sourceURL=js_a1effa9094"
            ],
            "text/plain": [
              "<IPython.core.display.Javascript object>"
            ]
          },
          "metadata": {}
        },
        {
          "output_type": "display_data",
          "data": {
            "application/javascript": [
              "window[\"ed22e9e8-794c-11ec-977b-0242ac1c0002\"] = document.querySelector(\"#id12-3-2\");\n",
              "//# sourceURL=js_313ec7c623"
            ],
            "text/plain": [
              "<IPython.core.display.Javascript object>"
            ]
          },
          "metadata": {}
        },
        {
          "output_type": "display_data",
          "data": {
            "application/javascript": [
              "window[\"ed235630-794c-11ec-977b-0242ac1c0002\"] = google.colab.output.setActiveOutputArea(window[\"ed22e9e8-794c-11ec-977b-0242ac1c0002\"]);\n",
              "//# sourceURL=js_a89f349759"
            ],
            "text/plain": [
              "<IPython.core.display.Javascript object>"
            ]
          },
          "metadata": {}
        },
        {
          "output_type": "stream",
          "name": "stdout",
          "text": [
            "positive\n"
          ]
        },
        {
          "output_type": "display_data",
          "data": {
            "application/javascript": [
              "window[\"ed248064-794c-11ec-977b-0242ac1c0002\"] = google.colab.output.setActiveOutputArea(window[\"ed22a244-794c-11ec-977b-0242ac1c0002\"]);\n",
              "//# sourceURL=js_58e33be9de"
            ],
            "text/plain": [
              "<IPython.core.display.Javascript object>"
            ]
          },
          "metadata": {}
        },
        {
          "output_type": "stream",
          "name": "stdout",
          "text": [
            "\n",
            "\n",
            "\n",
            "Diferencia de beneficios\n"
          ]
        },
        {
          "output_type": "display_data",
          "data": {
            "text/html": [
              "<style>\n",
              "       table#id14, #id14 > tbody > tr > th, #id14 > tbody > tr > td {\n",
              "         border: 1px solid lightgray;\n",
              "         border-collapse:collapse;\n",
              "         \n",
              "        }</style>"
            ],
            "text/plain": [
              "<IPython.core.display.HTML object>"
            ]
          },
          "metadata": {}
        },
        {
          "output_type": "display_data",
          "data": {
            "text/html": [
              "<table id=id14><tr><th id=id14-0-0></th><th id=id14-0-1></th><th id=id14-0-2></th></tr><tr><th id=id14-1-0></th><td id=id14-1-1></td><td id=id14-1-2></td></tr><tr><th id=id14-2-0></th><td id=id14-2-1></td><td id=id14-2-2></td></tr><tr><th id=id14-3-0></th><td id=id14-3-1></td><td id=id14-3-2></td></tr></table>"
            ],
            "text/plain": [
              "<IPython.core.display.HTML object>"
            ]
          },
          "metadata": {}
        },
        {
          "output_type": "display_data",
          "data": {
            "application/javascript": [
              "window[\"ed356456-794c-11ec-977b-0242ac1c0002\"] = google.colab.output.getActiveOutputArea();\n",
              "//# sourceURL=js_c3bd7b51eb"
            ],
            "text/plain": [
              "<IPython.core.display.Javascript object>"
            ]
          },
          "metadata": {}
        },
        {
          "output_type": "display_data",
          "data": {
            "application/javascript": [
              "window[\"ed35cb4e-794c-11ec-977b-0242ac1c0002\"] = document.querySelector(\"#id14-0-0\");\n",
              "//# sourceURL=js_4a92cb73e0"
            ],
            "text/plain": [
              "<IPython.core.display.Javascript object>"
            ]
          },
          "metadata": {}
        },
        {
          "output_type": "display_data",
          "data": {
            "application/javascript": [
              "window[\"ed36ab4a-794c-11ec-977b-0242ac1c0002\"] = google.colab.output.setActiveOutputArea(window[\"ed35cb4e-794c-11ec-977b-0242ac1c0002\"]);\n",
              "//# sourceURL=js_1688d5ace0"
            ],
            "text/plain": [
              "<IPython.core.display.Javascript object>"
            ]
          },
          "metadata": {}
        },
        {
          "output_type": "stream",
          "name": "stdout",
          "text": [
            "Característica que falta\n"
          ]
        },
        {
          "output_type": "display_data",
          "data": {
            "application/javascript": [
              "window[\"ed38bd86-794c-11ec-977b-0242ac1c0002\"] = google.colab.output.setActiveOutputArea(window[\"ed356456-794c-11ec-977b-0242ac1c0002\"]);\n",
              "//# sourceURL=js_919af9644a"
            ],
            "text/plain": [
              "<IPython.core.display.Javascript object>"
            ]
          },
          "metadata": {}
        },
        {
          "output_type": "display_data",
          "data": {
            "application/javascript": [
              "window[\"ed3b4fec-794c-11ec-977b-0242ac1c0002\"] = google.colab.output.getActiveOutputArea();\n",
              "//# sourceURL=js_2fd15d131c"
            ],
            "text/plain": [
              "<IPython.core.display.Javascript object>"
            ]
          },
          "metadata": {}
        },
        {
          "output_type": "display_data",
          "data": {
            "application/javascript": [
              "window[\"ed3b9e7a-794c-11ec-977b-0242ac1c0002\"] = document.querySelector(\"#id14-1-0\");\n",
              "//# sourceURL=js_9024d34095"
            ],
            "text/plain": [
              "<IPython.core.display.Javascript object>"
            ]
          },
          "metadata": {}
        },
        {
          "output_type": "display_data",
          "data": {
            "application/javascript": [
              "window[\"ed3c0040-794c-11ec-977b-0242ac1c0002\"] = google.colab.output.setActiveOutputArea(window[\"ed3b9e7a-794c-11ec-977b-0242ac1c0002\"]);\n",
              "//# sourceURL=js_141d3a5ea7"
            ],
            "text/plain": [
              "<IPython.core.display.Javascript object>"
            ]
          },
          "metadata": {}
        },
        {
          "output_type": "stream",
          "name": "stdout",
          "text": [
            "Mes\n"
          ]
        },
        {
          "output_type": "display_data",
          "data": {
            "application/javascript": [
              "window[\"ed3deeb4-794c-11ec-977b-0242ac1c0002\"] = google.colab.output.setActiveOutputArea(window[\"ed3b4fec-794c-11ec-977b-0242ac1c0002\"]);\n",
              "//# sourceURL=js_6360fdf90f"
            ],
            "text/plain": [
              "<IPython.core.display.Javascript object>"
            ]
          },
          "metadata": {}
        },
        {
          "output_type": "display_data",
          "data": {
            "application/javascript": [
              "window[\"ed40f17c-794c-11ec-977b-0242ac1c0002\"] = google.colab.output.getActiveOutputArea();\n",
              "//# sourceURL=js_1985adb905"
            ],
            "text/plain": [
              "<IPython.core.display.Javascript object>"
            ]
          },
          "metadata": {}
        },
        {
          "output_type": "display_data",
          "data": {
            "application/javascript": [
              "window[\"ed417e58-794c-11ec-977b-0242ac1c0002\"] = document.querySelector(\"#id14-2-0\");\n",
              "//# sourceURL=js_28c5bf79e5"
            ],
            "text/plain": [
              "<IPython.core.display.Javascript object>"
            ]
          },
          "metadata": {}
        },
        {
          "output_type": "display_data",
          "data": {
            "application/javascript": [
              "window[\"ed41f45a-794c-11ec-977b-0242ac1c0002\"] = google.colab.output.setActiveOutputArea(window[\"ed417e58-794c-11ec-977b-0242ac1c0002\"]);\n",
              "//# sourceURL=js_dd1a8b19ca"
            ],
            "text/plain": [
              "<IPython.core.display.Javascript object>"
            ]
          },
          "metadata": {}
        },
        {
          "output_type": "stream",
          "name": "stdout",
          "text": [
            "Temperatura\n"
          ]
        },
        {
          "output_type": "display_data",
          "data": {
            "application/javascript": [
              "window[\"ed43647a-794c-11ec-977b-0242ac1c0002\"] = google.colab.output.setActiveOutputArea(window[\"ed40f17c-794c-11ec-977b-0242ac1c0002\"]);\n",
              "//# sourceURL=js_f2a1173b8b"
            ],
            "text/plain": [
              "<IPython.core.display.Javascript object>"
            ]
          },
          "metadata": {}
        },
        {
          "output_type": "display_data",
          "data": {
            "application/javascript": [
              "window[\"ed455528-794c-11ec-977b-0242ac1c0002\"] = google.colab.output.getActiveOutputArea();\n",
              "//# sourceURL=js_009aa30219"
            ],
            "text/plain": [
              "<IPython.core.display.Javascript object>"
            ]
          },
          "metadata": {}
        },
        {
          "output_type": "display_data",
          "data": {
            "application/javascript": [
              "window[\"ed45b3f6-794c-11ec-977b-0242ac1c0002\"] = document.querySelector(\"#id14-3-0\");\n",
              "//# sourceURL=js_9ccf473888"
            ],
            "text/plain": [
              "<IPython.core.display.Javascript object>"
            ]
          },
          "metadata": {}
        },
        {
          "output_type": "display_data",
          "data": {
            "application/javascript": [
              "window[\"ed47927a-794c-11ec-977b-0242ac1c0002\"] = google.colab.output.setActiveOutputArea(window[\"ed45b3f6-794c-11ec-977b-0242ac1c0002\"]);\n",
              "//# sourceURL=js_43720eeae7"
            ],
            "text/plain": [
              "<IPython.core.display.Javascript object>"
            ]
          },
          "metadata": {}
        },
        {
          "output_type": "stream",
          "name": "stdout",
          "text": [
            "Precipitación\n"
          ]
        },
        {
          "output_type": "display_data",
          "data": {
            "application/javascript": [
              "window[\"ed4a7882-794c-11ec-977b-0242ac1c0002\"] = google.colab.output.setActiveOutputArea(window[\"ed455528-794c-11ec-977b-0242ac1c0002\"]);\n",
              "//# sourceURL=js_211d33db9a"
            ],
            "text/plain": [
              "<IPython.core.display.Javascript object>"
            ]
          },
          "metadata": {}
        },
        {
          "output_type": "display_data",
          "data": {
            "application/javascript": [
              "window[\"ed4d3db0-794c-11ec-977b-0242ac1c0002\"] = google.colab.output.getActiveOutputArea();\n",
              "//# sourceURL=js_bf8ed7fbec"
            ],
            "text/plain": [
              "<IPython.core.display.Javascript object>"
            ]
          },
          "metadata": {}
        },
        {
          "output_type": "display_data",
          "data": {
            "application/javascript": [
              "window[\"ed4db4b6-794c-11ec-977b-0242ac1c0002\"] = document.querySelector(\"#id14-1-1\");\n",
              "//# sourceURL=js_e2d5607e50"
            ],
            "text/plain": [
              "<IPython.core.display.Javascript object>"
            ]
          },
          "metadata": {}
        },
        {
          "output_type": "display_data",
          "data": {
            "application/javascript": [
              "window[\"ed4eae8e-794c-11ec-977b-0242ac1c0002\"] = google.colab.output.setActiveOutputArea(window[\"ed4db4b6-794c-11ec-977b-0242ac1c0002\"]);\n",
              "//# sourceURL=js_77e329bcaf"
            ],
            "text/plain": [
              "<IPython.core.display.Javascript object>"
            ]
          },
          "metadata": {}
        },
        {
          "output_type": "stream",
          "name": "stdout",
          "text": [
            "0.25\n"
          ]
        },
        {
          "output_type": "display_data",
          "data": {
            "application/javascript": [
              "window[\"ed50857e-794c-11ec-977b-0242ac1c0002\"] = google.colab.output.setActiveOutputArea(window[\"ed4d3db0-794c-11ec-977b-0242ac1c0002\"]);\n",
              "//# sourceURL=js_a1216e7b22"
            ],
            "text/plain": [
              "<IPython.core.display.Javascript object>"
            ]
          },
          "metadata": {}
        },
        {
          "output_type": "display_data",
          "data": {
            "application/javascript": [
              "window[\"ed5277b2-794c-11ec-977b-0242ac1c0002\"] = google.colab.output.getActiveOutputArea();\n",
              "//# sourceURL=js_ff0c528158"
            ],
            "text/plain": [
              "<IPython.core.display.Javascript object>"
            ]
          },
          "metadata": {}
        },
        {
          "output_type": "display_data",
          "data": {
            "application/javascript": [
              "window[\"ed52c276-794c-11ec-977b-0242ac1c0002\"] = document.querySelector(\"#id14-2-1\");\n",
              "//# sourceURL=js_9511b2d165"
            ],
            "text/plain": [
              "<IPython.core.display.Javascript object>"
            ]
          },
          "metadata": {}
        },
        {
          "output_type": "display_data",
          "data": {
            "application/javascript": [
              "window[\"ed530c90-794c-11ec-977b-0242ac1c0002\"] = google.colab.output.setActiveOutputArea(window[\"ed52c276-794c-11ec-977b-0242ac1c0002\"]);\n",
              "//# sourceURL=js_f06d818184"
            ],
            "text/plain": [
              "<IPython.core.display.Javascript object>"
            ]
          },
          "metadata": {}
        },
        {
          "output_type": "stream",
          "name": "stdout",
          "text": [
            "2.021875\n"
          ]
        },
        {
          "output_type": "display_data",
          "data": {
            "application/javascript": [
              "window[\"ed542d82-794c-11ec-977b-0242ac1c0002\"] = google.colab.output.setActiveOutputArea(window[\"ed5277b2-794c-11ec-977b-0242ac1c0002\"]);\n",
              "//# sourceURL=js_d67da1043d"
            ],
            "text/plain": [
              "<IPython.core.display.Javascript object>"
            ]
          },
          "metadata": {}
        },
        {
          "output_type": "display_data",
          "data": {
            "application/javascript": [
              "window[\"ed561124-794c-11ec-977b-0242ac1c0002\"] = google.colab.output.getActiveOutputArea();\n",
              "//# sourceURL=js_d69cf3ac4e"
            ],
            "text/plain": [
              "<IPython.core.display.Javascript object>"
            ]
          },
          "metadata": {}
        },
        {
          "output_type": "display_data",
          "data": {
            "application/javascript": [
              "window[\"ed566d72-794c-11ec-977b-0242ac1c0002\"] = document.querySelector(\"#id14-3-1\");\n",
              "//# sourceURL=js_2904141709"
            ],
            "text/plain": [
              "<IPython.core.display.Javascript object>"
            ]
          },
          "metadata": {}
        },
        {
          "output_type": "display_data",
          "data": {
            "application/javascript": [
              "window[\"ed56d960-794c-11ec-977b-0242ac1c0002\"] = google.colab.output.setActiveOutputArea(window[\"ed566d72-794c-11ec-977b-0242ac1c0002\"]);\n",
              "//# sourceURL=js_cc8efa3af6"
            ],
            "text/plain": [
              "<IPython.core.display.Javascript object>"
            ]
          },
          "metadata": {}
        },
        {
          "output_type": "stream",
          "name": "stdout",
          "text": [
            "0.25\n"
          ]
        },
        {
          "output_type": "display_data",
          "data": {
            "application/javascript": [
              "window[\"ed58952a-794c-11ec-977b-0242ac1c0002\"] = google.colab.output.setActiveOutputArea(window[\"ed561124-794c-11ec-977b-0242ac1c0002\"]);\n",
              "//# sourceURL=js_ff77d77d55"
            ],
            "text/plain": [
              "<IPython.core.display.Javascript object>"
            ]
          },
          "metadata": {}
        },
        {
          "output_type": "display_data",
          "data": {
            "application/javascript": [
              "window[\"ed5b68ae-794c-11ec-977b-0242ac1c0002\"] = google.colab.output.getActiveOutputArea();\n",
              "//# sourceURL=js_3f9312446c"
            ],
            "text/plain": [
              "<IPython.core.display.Javascript object>"
            ]
          },
          "metadata": {}
        },
        {
          "output_type": "display_data",
          "data": {
            "application/javascript": [
              "window[\"ed5bc556-794c-11ec-977b-0242ac1c0002\"] = document.querySelector(\"#id14-0-1\");\n",
              "//# sourceURL=js_9996f42428"
            ],
            "text/plain": [
              "<IPython.core.display.Javascript object>"
            ]
          },
          "metadata": {}
        },
        {
          "output_type": "display_data",
          "data": {
            "application/javascript": [
              "window[\"ed5c1df8-794c-11ec-977b-0242ac1c0002\"] = google.colab.output.setActiveOutputArea(window[\"ed5bc556-794c-11ec-977b-0242ac1c0002\"]);\n",
              "//# sourceURL=js_846d244755"
            ],
            "text/plain": [
              "<IPython.core.display.Javascript object>"
            ]
          },
          "metadata": {}
        },
        {
          "output_type": "stream",
          "name": "stdout",
          "text": [
            "Beneficio real - Beneficio esperado\n"
          ]
        },
        {
          "output_type": "display_data",
          "data": {
            "application/javascript": [
              "window[\"ed5d3eea-794c-11ec-977b-0242ac1c0002\"] = google.colab.output.setActiveOutputArea(window[\"ed5b68ae-794c-11ec-977b-0242ac1c0002\"]);\n",
              "//# sourceURL=js_b60e58f22d"
            ],
            "text/plain": [
              "<IPython.core.display.Javascript object>"
            ]
          },
          "metadata": {}
        },
        {
          "output_type": "display_data",
          "data": {
            "application/javascript": [
              "window[\"ed5eeaf6-794c-11ec-977b-0242ac1c0002\"] = google.colab.output.getActiveOutputArea();\n",
              "//# sourceURL=js_df00061de3"
            ],
            "text/plain": [
              "<IPython.core.display.Javascript object>"
            ]
          },
          "metadata": {}
        },
        {
          "output_type": "display_data",
          "data": {
            "application/javascript": [
              "window[\"ed5f334e-794c-11ec-977b-0242ac1c0002\"] = document.querySelector(\"#id14-0-2\");\n",
              "//# sourceURL=js_c170eb0016"
            ],
            "text/plain": [
              "<IPython.core.display.Javascript object>"
            ]
          },
          "metadata": {}
        },
        {
          "output_type": "display_data",
          "data": {
            "application/javascript": [
              "window[\"ed5f9014-794c-11ec-977b-0242ac1c0002\"] = google.colab.output.setActiveOutputArea(window[\"ed5f334e-794c-11ec-977b-0242ac1c0002\"]);\n",
              "//# sourceURL=js_7c49114fae"
            ],
            "text/plain": [
              "<IPython.core.display.Javascript object>"
            ]
          },
          "metadata": {}
        },
        {
          "output_type": "stream",
          "name": "stdout",
          "text": [
            "Influencia\n"
          ]
        },
        {
          "output_type": "display_data",
          "data": {
            "application/javascript": [
              "window[\"ed61d23e-794c-11ec-977b-0242ac1c0002\"] = google.colab.output.setActiveOutputArea(window[\"ed5eeaf6-794c-11ec-977b-0242ac1c0002\"]);\n",
              "//# sourceURL=js_7d85882224"
            ],
            "text/plain": [
              "<IPython.core.display.Javascript object>"
            ]
          },
          "metadata": {}
        },
        {
          "output_type": "display_data",
          "data": {
            "application/javascript": [
              "window[\"ed63be50-794c-11ec-977b-0242ac1c0002\"] = google.colab.output.getActiveOutputArea();\n",
              "//# sourceURL=js_bcd58d974b"
            ],
            "text/plain": [
              "<IPython.core.display.Javascript object>"
            ]
          },
          "metadata": {}
        },
        {
          "output_type": "display_data",
          "data": {
            "application/javascript": [
              "window[\"ed640c52-794c-11ec-977b-0242ac1c0002\"] = document.querySelector(\"#id14-1-2\");\n",
              "//# sourceURL=js_9a73e12dc1"
            ],
            "text/plain": [
              "<IPython.core.display.Javascript object>"
            ]
          },
          "metadata": {}
        },
        {
          "output_type": "display_data",
          "data": {
            "application/javascript": [
              "window[\"ed647534-794c-11ec-977b-0242ac1c0002\"] = google.colab.output.setActiveOutputArea(window[\"ed640c52-794c-11ec-977b-0242ac1c0002\"]);\n",
              "//# sourceURL=js_6880a393b7"
            ],
            "text/plain": [
              "<IPython.core.display.Javascript object>"
            ]
          },
          "metadata": {}
        },
        {
          "output_type": "stream",
          "name": "stdout",
          "text": [
            "positive\n"
          ]
        },
        {
          "output_type": "display_data",
          "data": {
            "application/javascript": [
              "window[\"ed65af62-794c-11ec-977b-0242ac1c0002\"] = google.colab.output.setActiveOutputArea(window[\"ed63be50-794c-11ec-977b-0242ac1c0002\"]);\n",
              "//# sourceURL=js_a45816bb59"
            ],
            "text/plain": [
              "<IPython.core.display.Javascript object>"
            ]
          },
          "metadata": {}
        },
        {
          "output_type": "display_data",
          "data": {
            "application/javascript": [
              "window[\"ed6749ee-794c-11ec-977b-0242ac1c0002\"] = google.colab.output.getActiveOutputArea();\n",
              "//# sourceURL=js_77640b86f9"
            ],
            "text/plain": [
              "<IPython.core.display.Javascript object>"
            ]
          },
          "metadata": {}
        },
        {
          "output_type": "display_data",
          "data": {
            "application/javascript": [
              "window[\"ed678cce-794c-11ec-977b-0242ac1c0002\"] = document.querySelector(\"#id14-2-2\");\n",
              "//# sourceURL=js_44789be3db"
            ],
            "text/plain": [
              "<IPython.core.display.Javascript object>"
            ]
          },
          "metadata": {}
        },
        {
          "output_type": "display_data",
          "data": {
            "application/javascript": [
              "window[\"ed67db20-794c-11ec-977b-0242ac1c0002\"] = google.colab.output.setActiveOutputArea(window[\"ed678cce-794c-11ec-977b-0242ac1c0002\"]);\n",
              "//# sourceURL=js_36509273cf"
            ],
            "text/plain": [
              "<IPython.core.display.Javascript object>"
            ]
          },
          "metadata": {}
        },
        {
          "output_type": "stream",
          "name": "stdout",
          "text": [
            "positive\n"
          ]
        },
        {
          "output_type": "display_data",
          "data": {
            "application/javascript": [
              "window[\"ed68ff28-794c-11ec-977b-0242ac1c0002\"] = google.colab.output.setActiveOutputArea(window[\"ed6749ee-794c-11ec-977b-0242ac1c0002\"]);\n",
              "//# sourceURL=js_41c5e7e771"
            ],
            "text/plain": [
              "<IPython.core.display.Javascript object>"
            ]
          },
          "metadata": {}
        },
        {
          "output_type": "display_data",
          "data": {
            "application/javascript": [
              "window[\"ed6ab89a-794c-11ec-977b-0242ac1c0002\"] = google.colab.output.getActiveOutputArea();\n",
              "//# sourceURL=js_4b757dbbf1"
            ],
            "text/plain": [
              "<IPython.core.display.Javascript object>"
            ]
          },
          "metadata": {}
        },
        {
          "output_type": "display_data",
          "data": {
            "application/javascript": [
              "window[\"ed6b14de-794c-11ec-977b-0242ac1c0002\"] = document.querySelector(\"#id14-3-2\");\n",
              "//# sourceURL=js_10e1f929cf"
            ],
            "text/plain": [
              "<IPython.core.display.Javascript object>"
            ]
          },
          "metadata": {}
        },
        {
          "output_type": "display_data",
          "data": {
            "application/javascript": [
              "window[\"ed6b7c30-794c-11ec-977b-0242ac1c0002\"] = google.colab.output.setActiveOutputArea(window[\"ed6b14de-794c-11ec-977b-0242ac1c0002\"]);\n",
              "//# sourceURL=js_bad98cd6d1"
            ],
            "text/plain": [
              "<IPython.core.display.Javascript object>"
            ]
          },
          "metadata": {}
        },
        {
          "output_type": "stream",
          "name": "stdout",
          "text": [
            "positive\n"
          ]
        },
        {
          "output_type": "display_data",
          "data": {
            "application/javascript": [
              "window[\"ed6c9dfe-794c-11ec-977b-0242ac1c0002\"] = google.colab.output.setActiveOutputArea(window[\"ed6ab89a-794c-11ec-977b-0242ac1c0002\"]);\n",
              "//# sourceURL=js_df2f3c22c8"
            ],
            "text/plain": [
              "<IPython.core.display.Javascript object>"
            ]
          },
          "metadata": {}
        },
        {
          "output_type": "stream",
          "name": "stdout",
          "text": [
            "Diferencia de beneficios\n"
          ]
        },
        {
          "output_type": "display_data",
          "data": {
            "text/html": [
              "<style>\n",
              "       table#id16, #id16 > tbody > tr > th, #id16 > tbody > tr > td {\n",
              "         border: 1px solid lightgray;\n",
              "         border-collapse:collapse;\n",
              "         \n",
              "        }</style>"
            ],
            "text/plain": [
              "<IPython.core.display.HTML object>"
            ]
          },
          "metadata": {}
        },
        {
          "output_type": "display_data",
          "data": {
            "text/html": [
              "<table id=id16><tr><th id=id16-0-0></th><th id=id16-0-1></th><th id=id16-0-2></th></tr><tr><th id=id16-1-0></th><td id=id16-1-1></td><td id=id16-1-2></td></tr><tr><th id=id16-2-0></th><td id=id16-2-1></td><td id=id16-2-2></td></tr><tr><th id=id16-3-0></th><td id=id16-3-1></td><td id=id16-3-2></td></tr></table>"
            ],
            "text/plain": [
              "<IPython.core.display.HTML object>"
            ]
          },
          "metadata": {}
        },
        {
          "output_type": "display_data",
          "data": {
            "application/javascript": [
              "window[\"ed7e1f20-794c-11ec-977b-0242ac1c0002\"] = google.colab.output.getActiveOutputArea();\n",
              "//# sourceURL=js_3a286485d1"
            ],
            "text/plain": [
              "<IPython.core.display.Javascript object>"
            ]
          },
          "metadata": {}
        },
        {
          "output_type": "display_data",
          "data": {
            "application/javascript": [
              "window[\"ed7e83d4-794c-11ec-977b-0242ac1c0002\"] = document.querySelector(\"#id16-0-0\");\n",
              "//# sourceURL=js_1276586160"
            ],
            "text/plain": [
              "<IPython.core.display.Javascript object>"
            ]
          },
          "metadata": {}
        },
        {
          "output_type": "display_data",
          "data": {
            "application/javascript": [
              "window[\"ed7f1358-794c-11ec-977b-0242ac1c0002\"] = google.colab.output.setActiveOutputArea(window[\"ed7e83d4-794c-11ec-977b-0242ac1c0002\"]);\n",
              "//# sourceURL=js_b4bbf89dae"
            ],
            "text/plain": [
              "<IPython.core.display.Javascript object>"
            ]
          },
          "metadata": {}
        },
        {
          "output_type": "stream",
          "name": "stdout",
          "text": [
            "Característica que falta\n"
          ]
        },
        {
          "output_type": "display_data",
          "data": {
            "application/javascript": [
              "window[\"ed816bf8-794c-11ec-977b-0242ac1c0002\"] = google.colab.output.setActiveOutputArea(window[\"ed7e1f20-794c-11ec-977b-0242ac1c0002\"]);\n",
              "//# sourceURL=js_91e6f7f051"
            ],
            "text/plain": [
              "<IPython.core.display.Javascript object>"
            ]
          },
          "metadata": {}
        },
        {
          "output_type": "display_data",
          "data": {
            "application/javascript": [
              "window[\"ed842596-794c-11ec-977b-0242ac1c0002\"] = google.colab.output.getActiveOutputArea();\n",
              "//# sourceURL=js_17faf9a1f7"
            ],
            "text/plain": [
              "<IPython.core.display.Javascript object>"
            ]
          },
          "metadata": {}
        },
        {
          "output_type": "display_data",
          "data": {
            "application/javascript": [
              "window[\"ed848fa4-794c-11ec-977b-0242ac1c0002\"] = document.querySelector(\"#id16-1-0\");\n",
              "//# sourceURL=js_a2314dec18"
            ],
            "text/plain": [
              "<IPython.core.display.Javascript object>"
            ]
          },
          "metadata": {}
        },
        {
          "output_type": "display_data",
          "data": {
            "application/javascript": [
              "window[\"ed852afe-794c-11ec-977b-0242ac1c0002\"] = google.colab.output.setActiveOutputArea(window[\"ed848fa4-794c-11ec-977b-0242ac1c0002\"]);\n",
              "//# sourceURL=js_9329b29e24"
            ],
            "text/plain": [
              "<IPython.core.display.Javascript object>"
            ]
          },
          "metadata": {}
        },
        {
          "output_type": "stream",
          "name": "stdout",
          "text": [
            "Mes\n"
          ]
        },
        {
          "output_type": "display_data",
          "data": {
            "application/javascript": [
              "window[\"ed86fcbc-794c-11ec-977b-0242ac1c0002\"] = google.colab.output.setActiveOutputArea(window[\"ed842596-794c-11ec-977b-0242ac1c0002\"]);\n",
              "//# sourceURL=js_9a368af965"
            ],
            "text/plain": [
              "<IPython.core.display.Javascript object>"
            ]
          },
          "metadata": {}
        },
        {
          "output_type": "display_data",
          "data": {
            "application/javascript": [
              "window[\"ed89537c-794c-11ec-977b-0242ac1c0002\"] = google.colab.output.getActiveOutputArea();\n",
              "//# sourceURL=js_161201cd24"
            ],
            "text/plain": [
              "<IPython.core.display.Javascript object>"
            ]
          },
          "metadata": {}
        },
        {
          "output_type": "display_data",
          "data": {
            "application/javascript": [
              "window[\"ed89c334-794c-11ec-977b-0242ac1c0002\"] = document.querySelector(\"#id16-2-0\");\n",
              "//# sourceURL=js_853276c6f0"
            ],
            "text/plain": [
              "<IPython.core.display.Javascript object>"
            ]
          },
          "metadata": {}
        },
        {
          "output_type": "display_data",
          "data": {
            "application/javascript": [
              "window[\"ed8ab956-794c-11ec-977b-0242ac1c0002\"] = google.colab.output.setActiveOutputArea(window[\"ed89c334-794c-11ec-977b-0242ac1c0002\"]);\n",
              "//# sourceURL=js_318216ae57"
            ],
            "text/plain": [
              "<IPython.core.display.Javascript object>"
            ]
          },
          "metadata": {}
        },
        {
          "output_type": "stream",
          "name": "stdout",
          "text": [
            "Temperatura\n"
          ]
        },
        {
          "output_type": "display_data",
          "data": {
            "application/javascript": [
              "window[\"ed8bfb36-794c-11ec-977b-0242ac1c0002\"] = google.colab.output.setActiveOutputArea(window[\"ed89537c-794c-11ec-977b-0242ac1c0002\"]);\n",
              "//# sourceURL=js_1aede9b6d2"
            ],
            "text/plain": [
              "<IPython.core.display.Javascript object>"
            ]
          },
          "metadata": {}
        },
        {
          "output_type": "display_data",
          "data": {
            "application/javascript": [
              "window[\"ed8e9bde-794c-11ec-977b-0242ac1c0002\"] = google.colab.output.getActiveOutputArea();\n",
              "//# sourceURL=js_1735ea0b96"
            ],
            "text/plain": [
              "<IPython.core.display.Javascript object>"
            ]
          },
          "metadata": {}
        },
        {
          "output_type": "display_data",
          "data": {
            "application/javascript": [
              "window[\"ed8effac-794c-11ec-977b-0242ac1c0002\"] = document.querySelector(\"#id16-3-0\");\n",
              "//# sourceURL=js_8aeabc103b"
            ],
            "text/plain": [
              "<IPython.core.display.Javascript object>"
            ]
          },
          "metadata": {}
        },
        {
          "output_type": "display_data",
          "data": {
            "application/javascript": [
              "window[\"ed8fa6d2-794c-11ec-977b-0242ac1c0002\"] = google.colab.output.setActiveOutputArea(window[\"ed8effac-794c-11ec-977b-0242ac1c0002\"]);\n",
              "//# sourceURL=js_b839f601c5"
            ],
            "text/plain": [
              "<IPython.core.display.Javascript object>"
            ]
          },
          "metadata": {}
        },
        {
          "output_type": "stream",
          "name": "stdout",
          "text": [
            "Precipitación\n"
          ]
        },
        {
          "output_type": "display_data",
          "data": {
            "application/javascript": [
              "window[\"ed91441a-794c-11ec-977b-0242ac1c0002\"] = google.colab.output.setActiveOutputArea(window[\"ed8e9bde-794c-11ec-977b-0242ac1c0002\"]);\n",
              "//# sourceURL=js_990ba9d990"
            ],
            "text/plain": [
              "<IPython.core.display.Javascript object>"
            ]
          },
          "metadata": {}
        },
        {
          "output_type": "display_data",
          "data": {
            "application/javascript": [
              "window[\"ed93e3f0-794c-11ec-977b-0242ac1c0002\"] = google.colab.output.getActiveOutputArea();\n",
              "//# sourceURL=js_e2cd78fd8f"
            ],
            "text/plain": [
              "<IPython.core.display.Javascript object>"
            ]
          },
          "metadata": {}
        },
        {
          "output_type": "display_data",
          "data": {
            "application/javascript": [
              "window[\"ed944cf0-794c-11ec-977b-0242ac1c0002\"] = document.querySelector(\"#id16-1-1\");\n",
              "//# sourceURL=js_c8b05fc574"
            ],
            "text/plain": [
              "<IPython.core.display.Javascript object>"
            ]
          },
          "metadata": {}
        },
        {
          "output_type": "display_data",
          "data": {
            "application/javascript": [
              "window[\"ed94d1ac-794c-11ec-977b-0242ac1c0002\"] = google.colab.output.setActiveOutputArea(window[\"ed944cf0-794c-11ec-977b-0242ac1c0002\"]);\n",
              "//# sourceURL=js_a6a637e9dc"
            ],
            "text/plain": [
              "<IPython.core.display.Javascript object>"
            ]
          },
          "metadata": {}
        },
        {
          "output_type": "stream",
          "name": "stdout",
          "text": [
            "0.25\n"
          ]
        },
        {
          "output_type": "display_data",
          "data": {
            "application/javascript": [
              "window[\"ed966a4e-794c-11ec-977b-0242ac1c0002\"] = google.colab.output.setActiveOutputArea(window[\"ed93e3f0-794c-11ec-977b-0242ac1c0002\"]);\n",
              "//# sourceURL=js_eb2c3f727f"
            ],
            "text/plain": [
              "<IPython.core.display.Javascript object>"
            ]
          },
          "metadata": {}
        },
        {
          "output_type": "display_data",
          "data": {
            "application/javascript": [
              "window[\"ed991da2-794c-11ec-977b-0242ac1c0002\"] = google.colab.output.getActiveOutputArea();\n",
              "//# sourceURL=js_6cfd026367"
            ],
            "text/plain": [
              "<IPython.core.display.Javascript object>"
            ]
          },
          "metadata": {}
        },
        {
          "output_type": "display_data",
          "data": {
            "application/javascript": [
              "window[\"ed9978e2-794c-11ec-977b-0242ac1c0002\"] = document.querySelector(\"#id16-2-1\");\n",
              "//# sourceURL=js_114090132a"
            ],
            "text/plain": [
              "<IPython.core.display.Javascript object>"
            ]
          },
          "metadata": {}
        },
        {
          "output_type": "display_data",
          "data": {
            "application/javascript": [
              "window[\"ed9a1306-794c-11ec-977b-0242ac1c0002\"] = google.colab.output.setActiveOutputArea(window[\"ed9978e2-794c-11ec-977b-0242ac1c0002\"]);\n",
              "//# sourceURL=js_11bc1f344c"
            ],
            "text/plain": [
              "<IPython.core.display.Javascript object>"
            ]
          },
          "metadata": {}
        },
        {
          "output_type": "stream",
          "name": "stdout",
          "text": [
            "1.3656249999999996\n"
          ]
        },
        {
          "output_type": "display_data",
          "data": {
            "application/javascript": [
              "window[\"ed9bb544-794c-11ec-977b-0242ac1c0002\"] = google.colab.output.setActiveOutputArea(window[\"ed991da2-794c-11ec-977b-0242ac1c0002\"]);\n",
              "//# sourceURL=js_9b39c3846a"
            ],
            "text/plain": [
              "<IPython.core.display.Javascript object>"
            ]
          },
          "metadata": {}
        },
        {
          "output_type": "display_data",
          "data": {
            "application/javascript": [
              "window[\"ed9e432c-794c-11ec-977b-0242ac1c0002\"] = google.colab.output.getActiveOutputArea();\n",
              "//# sourceURL=js_b82a94a718"
            ],
            "text/plain": [
              "<IPython.core.display.Javascript object>"
            ]
          },
          "metadata": {}
        },
        {
          "output_type": "display_data",
          "data": {
            "application/javascript": [
              "window[\"ed9e9d9a-794c-11ec-977b-0242ac1c0002\"] = document.querySelector(\"#id16-3-1\");\n",
              "//# sourceURL=js_92339e69c6"
            ],
            "text/plain": [
              "<IPython.core.display.Javascript object>"
            ]
          },
          "metadata": {}
        },
        {
          "output_type": "display_data",
          "data": {
            "application/javascript": [
              "window[\"ed9f20c6-794c-11ec-977b-0242ac1c0002\"] = google.colab.output.setActiveOutputArea(window[\"ed9e9d9a-794c-11ec-977b-0242ac1c0002\"]);\n",
              "//# sourceURL=js_4d24fd1e6f"
            ],
            "text/plain": [
              "<IPython.core.display.Javascript object>"
            ]
          },
          "metadata": {}
        },
        {
          "output_type": "stream",
          "name": "stdout",
          "text": [
            "0.25\n"
          ]
        },
        {
          "output_type": "display_data",
          "data": {
            "application/javascript": [
              "window[\"eda122e0-794c-11ec-977b-0242ac1c0002\"] = google.colab.output.setActiveOutputArea(window[\"ed9e432c-794c-11ec-977b-0242ac1c0002\"]);\n",
              "//# sourceURL=js_9d1528829d"
            ],
            "text/plain": [
              "<IPython.core.display.Javascript object>"
            ]
          },
          "metadata": {}
        },
        {
          "output_type": "display_data",
          "data": {
            "application/javascript": [
              "window[\"eda3ac36-794c-11ec-977b-0242ac1c0002\"] = google.colab.output.getActiveOutputArea();\n",
              "//# sourceURL=js_06e83aa915"
            ],
            "text/plain": [
              "<IPython.core.display.Javascript object>"
            ]
          },
          "metadata": {}
        },
        {
          "output_type": "display_data",
          "data": {
            "application/javascript": [
              "window[\"eda40fd2-794c-11ec-977b-0242ac1c0002\"] = document.querySelector(\"#id16-0-1\");\n",
              "//# sourceURL=js_d6bc796f4e"
            ],
            "text/plain": [
              "<IPython.core.display.Javascript object>"
            ]
          },
          "metadata": {}
        },
        {
          "output_type": "display_data",
          "data": {
            "application/javascript": [
              "window[\"eda53e52-794c-11ec-977b-0242ac1c0002\"] = google.colab.output.setActiveOutputArea(window[\"eda40fd2-794c-11ec-977b-0242ac1c0002\"]);\n",
              "//# sourceURL=js_814ecf59f4"
            ],
            "text/plain": [
              "<IPython.core.display.Javascript object>"
            ]
          },
          "metadata": {}
        },
        {
          "output_type": "stream",
          "name": "stdout",
          "text": [
            "Beneficio real - Beneficio esperado\n"
          ]
        },
        {
          "output_type": "display_data",
          "data": {
            "application/javascript": [
              "window[\"eda724ec-794c-11ec-977b-0242ac1c0002\"] = google.colab.output.setActiveOutputArea(window[\"eda3ac36-794c-11ec-977b-0242ac1c0002\"]);\n",
              "//# sourceURL=js_0c8cd6014c"
            ],
            "text/plain": [
              "<IPython.core.display.Javascript object>"
            ]
          },
          "metadata": {}
        },
        {
          "output_type": "display_data",
          "data": {
            "application/javascript": [
              "window[\"eda9caf8-794c-11ec-977b-0242ac1c0002\"] = google.colab.output.getActiveOutputArea();\n",
              "//# sourceURL=js_25d2983ca5"
            ],
            "text/plain": [
              "<IPython.core.display.Javascript object>"
            ]
          },
          "metadata": {}
        },
        {
          "output_type": "display_data",
          "data": {
            "application/javascript": [
              "window[\"edaa3aa6-794c-11ec-977b-0242ac1c0002\"] = document.querySelector(\"#id16-0-2\");\n",
              "//# sourceURL=js_f653266660"
            ],
            "text/plain": [
              "<IPython.core.display.Javascript object>"
            ]
          },
          "metadata": {}
        },
        {
          "output_type": "display_data",
          "data": {
            "application/javascript": [
              "window[\"edaacc0a-794c-11ec-977b-0242ac1c0002\"] = google.colab.output.setActiveOutputArea(window[\"edaa3aa6-794c-11ec-977b-0242ac1c0002\"]);\n",
              "//# sourceURL=js_ac90e0ac49"
            ],
            "text/plain": [
              "<IPython.core.display.Javascript object>"
            ]
          },
          "metadata": {}
        },
        {
          "output_type": "stream",
          "name": "stdout",
          "text": [
            "Influencia\n"
          ]
        },
        {
          "output_type": "display_data",
          "data": {
            "application/javascript": [
              "window[\"edacf124-794c-11ec-977b-0242ac1c0002\"] = google.colab.output.setActiveOutputArea(window[\"eda9caf8-794c-11ec-977b-0242ac1c0002\"]);\n",
              "//# sourceURL=js_263a777348"
            ],
            "text/plain": [
              "<IPython.core.display.Javascript object>"
            ]
          },
          "metadata": {}
        },
        {
          "output_type": "display_data",
          "data": {
            "application/javascript": [
              "window[\"edaf2e58-794c-11ec-977b-0242ac1c0002\"] = google.colab.output.getActiveOutputArea();\n",
              "//# sourceURL=js_d37111d408"
            ],
            "text/plain": [
              "<IPython.core.display.Javascript object>"
            ]
          },
          "metadata": {}
        },
        {
          "output_type": "display_data",
          "data": {
            "application/javascript": [
              "window[\"edaf7c6e-794c-11ec-977b-0242ac1c0002\"] = document.querySelector(\"#id16-1-2\");\n",
              "//# sourceURL=js_7d5c16057f"
            ],
            "text/plain": [
              "<IPython.core.display.Javascript object>"
            ]
          },
          "metadata": {}
        },
        {
          "output_type": "display_data",
          "data": {
            "application/javascript": [
              "window[\"edaff8ce-794c-11ec-977b-0242ac1c0002\"] = google.colab.output.setActiveOutputArea(window[\"edaf7c6e-794c-11ec-977b-0242ac1c0002\"]);\n",
              "//# sourceURL=js_b083ea1abf"
            ],
            "text/plain": [
              "<IPython.core.display.Javascript object>"
            ]
          },
          "metadata": {}
        },
        {
          "output_type": "stream",
          "name": "stdout",
          "text": [
            "positive\n"
          ]
        },
        {
          "output_type": "display_data",
          "data": {
            "application/javascript": [
              "window[\"edb191de-794c-11ec-977b-0242ac1c0002\"] = google.colab.output.setActiveOutputArea(window[\"edaf2e58-794c-11ec-977b-0242ac1c0002\"]);\n",
              "//# sourceURL=js_82b9701a29"
            ],
            "text/plain": [
              "<IPython.core.display.Javascript object>"
            ]
          },
          "metadata": {}
        },
        {
          "output_type": "display_data",
          "data": {
            "application/javascript": [
              "window[\"edb41382-794c-11ec-977b-0242ac1c0002\"] = google.colab.output.getActiveOutputArea();\n",
              "//# sourceURL=js_c945c482a2"
            ],
            "text/plain": [
              "<IPython.core.display.Javascript object>"
            ]
          },
          "metadata": {}
        },
        {
          "output_type": "display_data",
          "data": {
            "application/javascript": [
              "window[\"edb474f8-794c-11ec-977b-0242ac1c0002\"] = document.querySelector(\"#id16-2-2\");\n",
              "//# sourceURL=js_91662bc0af"
            ],
            "text/plain": [
              "<IPython.core.display.Javascript object>"
            ]
          },
          "metadata": {}
        },
        {
          "output_type": "display_data",
          "data": {
            "application/javascript": [
              "window[\"edb4e3fc-794c-11ec-977b-0242ac1c0002\"] = google.colab.output.setActiveOutputArea(window[\"edb474f8-794c-11ec-977b-0242ac1c0002\"]);\n",
              "//# sourceURL=js_1a0e498bce"
            ],
            "text/plain": [
              "<IPython.core.display.Javascript object>"
            ]
          },
          "metadata": {}
        },
        {
          "output_type": "stream",
          "name": "stdout",
          "text": [
            "positive\n"
          ]
        },
        {
          "output_type": "display_data",
          "data": {
            "application/javascript": [
              "window[\"edb82774-794c-11ec-977b-0242ac1c0002\"] = google.colab.output.setActiveOutputArea(window[\"edb41382-794c-11ec-977b-0242ac1c0002\"]);\n",
              "//# sourceURL=js_c0a8056160"
            ],
            "text/plain": [
              "<IPython.core.display.Javascript object>"
            ]
          },
          "metadata": {}
        },
        {
          "output_type": "display_data",
          "data": {
            "application/javascript": [
              "window[\"edbaa666-794c-11ec-977b-0242ac1c0002\"] = google.colab.output.getActiveOutputArea();\n",
              "//# sourceURL=js_ea9611ab88"
            ],
            "text/plain": [
              "<IPython.core.display.Javascript object>"
            ]
          },
          "metadata": {}
        },
        {
          "output_type": "display_data",
          "data": {
            "application/javascript": [
              "window[\"edbb025a-794c-11ec-977b-0242ac1c0002\"] = document.querySelector(\"#id16-3-2\");\n",
              "//# sourceURL=js_1ff7cf13ae"
            ],
            "text/plain": [
              "<IPython.core.display.Javascript object>"
            ]
          },
          "metadata": {}
        },
        {
          "output_type": "display_data",
          "data": {
            "application/javascript": [
              "window[\"edbb89f0-794c-11ec-977b-0242ac1c0002\"] = google.colab.output.setActiveOutputArea(window[\"edbb025a-794c-11ec-977b-0242ac1c0002\"]);\n",
              "//# sourceURL=js_50a3b9026a"
            ],
            "text/plain": [
              "<IPython.core.display.Javascript object>"
            ]
          },
          "metadata": {}
        },
        {
          "output_type": "stream",
          "name": "stdout",
          "text": [
            "positive\n"
          ]
        },
        {
          "output_type": "display_data",
          "data": {
            "application/javascript": [
              "window[\"edbd14a0-794c-11ec-977b-0242ac1c0002\"] = google.colab.output.setActiveOutputArea(window[\"edbaa666-794c-11ec-977b-0242ac1c0002\"]);\n",
              "//# sourceURL=js_a2b2216a89"
            ],
            "text/plain": [
              "<IPython.core.display.Javascript object>"
            ]
          },
          "metadata": {}
        }
      ]
    },
    {
      "cell_type": "markdown",
      "source": [
        "Como se puede observar, al cambiar una única característica no afecta a su propia influencia sino a la inflluencia de las otras 2 características. Esto es debido a que si en la realidad hubiese cambiado el valor de una característica, también habría cambiado el valor del precio por kilogramo obtenido en ese cultivo. Sin embarrgo, en nuestros ejemplos el precio por kilogramo permanece constante."
      ],
      "metadata": {
        "id": "IOUVPQ3Xbsxx"
      }
    },
    {
      "cell_type": "markdown",
      "source": [
        "### 4.3 Entrada del usuario"
      ],
      "metadata": {
        "id": "sfnA6s6rVjVC"
      }
    },
    {
      "cell_type": "markdown",
      "source": [
        "A continuación, haciendo uso de *sliders* de colab, se ha creado una pequeña interfaz para que el usuario pueda introducir los datos. Introduciendo el mes, la región, la precipitación y la temperatura, se mostrará la influencia de los tres factores: a saber temperatura, mes y precipitación."
      ],
      "metadata": {
        "id": "d4y9FiBMgNfq"
      }
    },
    {
      "cell_type": "code",
      "source": [
        "month = 7 #@param {type:\"slider\", min:1, max:12}\n",
        "temperature = 37.13 #@param {type:\"slider\", min:-20, max:47, step:0.01}\n",
        "precipitacion_group = 0 #@param {type:\"slider\", min:0.0, max:2.0, step:1.0}\n",
        "product = \"GUISANTE\" #@param [\"ACELGA\", \"AJO\", \"ALCACHOFA\", \"APIO\", \"BERENJENA\", \"BROCOLI\", \"CALABACIN\", \"CALABAZA\", \"CEBOLLA\", \"CEBOLLETA\", \"CHIRIVIA\", \"COL BRUSELAS\", \"COL CHINA\", \"COL LOMBARDA\", \"COL REPOLLO\", \"COLIFLOR\", \"ESCAROLA\", \"ESPINACA\", \"GUISANTE\", \"HABA\", \"JUDIA\", \"LECHUGA\", \"MAIZ\", \"MELON\", \"NABO\", \"PATATA\", \"PEPINO\", \"PEREJIL\", \"PIMIENTO\", \"PUERRO\", \"RABANITO\", \"REMOLACHA\", \"SANDIA\", \"TOMATE\", \"ZANAHORIA\"]\n",
        "origen = \"Castilla La Mancha\" #@param [\"Andalucia\", \"Aragon\", \"Asturias\", \"Baleares\", \"Canarias\", \"Cantabria\", \"Castilla La Mancha\", \"Castilla Leon\", \"Cataluña\", \"Extremadura\", \"Galicia\", \"La Rioja\", \"Madrid\", \"Murcia\", \"Navarra\", \"Pais Vasco\", \"Valencia\"]\n",
        "price_max_recolec = 2.37 #@param {type:\"slider\", min:0.0, max:10.0, step:0.01}\n",
        "\n",
        "checkInfluence(month, temperature, float(precipitacion_group), product, origen, price_max_recolec)"
      ],
      "metadata": {
        "colab": {
          "base_uri": "https://localhost:8080/",
          "height": 117
        },
        "id": "hbJNqD78KgO-",
        "outputId": "232856d8-6213-4cd3-a7b0-06e576c1e76a"
      },
      "execution_count": 66,
      "outputs": [
        {
          "output_type": "stream",
          "name": "stdout",
          "text": [
            "Diferencia de beneficios\n"
          ]
        },
        {
          "output_type": "display_data",
          "data": {
            "text/html": [
              "<style>\n",
              "       table#id20, #id20 > tbody > tr > th, #id20 > tbody > tr > td {\n",
              "         border: 1px solid lightgray;\n",
              "         border-collapse:collapse;\n",
              "         \n",
              "        }</style>"
            ],
            "text/plain": [
              "<IPython.core.display.HTML object>"
            ]
          },
          "metadata": {}
        },
        {
          "output_type": "display_data",
          "data": {
            "text/html": [
              "<table id=id20><tr><th id=id20-0-0></th><th id=id20-0-1></th><th id=id20-0-2></th></tr><tr><th id=id20-1-0></th><td id=id20-1-1></td><td id=id20-1-2></td></tr><tr><th id=id20-2-0></th><td id=id20-2-1></td><td id=id20-2-2></td></tr><tr><th id=id20-3-0></th><td id=id20-3-1></td><td id=id20-3-2></td></tr></table>"
            ],
            "text/plain": [
              "<IPython.core.display.HTML object>"
            ]
          },
          "metadata": {}
        },
        {
          "output_type": "display_data",
          "data": {
            "application/javascript": [
              "window[\"fb42c066-794c-11ec-977b-0242ac1c0002\"] = google.colab.output.getActiveOutputArea();\n",
              "//# sourceURL=js_35ebadd9e6"
            ],
            "text/plain": [
              "<IPython.core.display.Javascript object>"
            ]
          },
          "metadata": {}
        },
        {
          "output_type": "display_data",
          "data": {
            "application/javascript": [
              "window[\"fb43328a-794c-11ec-977b-0242ac1c0002\"] = document.querySelector(\"#id20-0-0\");\n",
              "//# sourceURL=js_d4a2b3211f"
            ],
            "text/plain": [
              "<IPython.core.display.Javascript object>"
            ]
          },
          "metadata": {}
        },
        {
          "output_type": "display_data",
          "data": {
            "application/javascript": [
              "window[\"fb439e28-794c-11ec-977b-0242ac1c0002\"] = google.colab.output.setActiveOutputArea(window[\"fb43328a-794c-11ec-977b-0242ac1c0002\"]);\n",
              "//# sourceURL=js_27c6a29479"
            ],
            "text/plain": [
              "<IPython.core.display.Javascript object>"
            ]
          },
          "metadata": {}
        },
        {
          "output_type": "stream",
          "name": "stdout",
          "text": [
            "Característica que falta\n"
          ]
        },
        {
          "output_type": "display_data",
          "data": {
            "application/javascript": [
              "window[\"fb4533be-794c-11ec-977b-0242ac1c0002\"] = google.colab.output.setActiveOutputArea(window[\"fb42c066-794c-11ec-977b-0242ac1c0002\"]);\n",
              "//# sourceURL=js_e437e37656"
            ],
            "text/plain": [
              "<IPython.core.display.Javascript object>"
            ]
          },
          "metadata": {}
        },
        {
          "output_type": "display_data",
          "data": {
            "application/javascript": [
              "window[\"fb46f564-794c-11ec-977b-0242ac1c0002\"] = google.colab.output.getActiveOutputArea();\n",
              "//# sourceURL=js_38d87d4b96"
            ],
            "text/plain": [
              "<IPython.core.display.Javascript object>"
            ]
          },
          "metadata": {}
        },
        {
          "output_type": "display_data",
          "data": {
            "application/javascript": [
              "window[\"fb474c94-794c-11ec-977b-0242ac1c0002\"] = document.querySelector(\"#id20-1-0\");\n",
              "//# sourceURL=js_c227a6cb44"
            ],
            "text/plain": [
              "<IPython.core.display.Javascript object>"
            ]
          },
          "metadata": {}
        },
        {
          "output_type": "display_data",
          "data": {
            "application/javascript": [
              "window[\"fb479f5a-794c-11ec-977b-0242ac1c0002\"] = google.colab.output.setActiveOutputArea(window[\"fb474c94-794c-11ec-977b-0242ac1c0002\"]);\n",
              "//# sourceURL=js_9a723396f6"
            ],
            "text/plain": [
              "<IPython.core.display.Javascript object>"
            ]
          },
          "metadata": {}
        },
        {
          "output_type": "stream",
          "name": "stdout",
          "text": [
            "Mes\n"
          ]
        },
        {
          "output_type": "display_data",
          "data": {
            "application/javascript": [
              "window[\"fb48caa6-794c-11ec-977b-0242ac1c0002\"] = google.colab.output.setActiveOutputArea(window[\"fb46f564-794c-11ec-977b-0242ac1c0002\"]);\n",
              "//# sourceURL=js_54442358e0"
            ],
            "text/plain": [
              "<IPython.core.display.Javascript object>"
            ]
          },
          "metadata": {}
        },
        {
          "output_type": "display_data",
          "data": {
            "application/javascript": [
              "window[\"fb4a8daa-794c-11ec-977b-0242ac1c0002\"] = google.colab.output.getActiveOutputArea();\n",
              "//# sourceURL=js_87825bd77b"
            ],
            "text/plain": [
              "<IPython.core.display.Javascript object>"
            ]
          },
          "metadata": {}
        },
        {
          "output_type": "display_data",
          "data": {
            "application/javascript": [
              "window[\"fb4adc24-794c-11ec-977b-0242ac1c0002\"] = document.querySelector(\"#id20-2-0\");\n",
              "//# sourceURL=js_623bd410f2"
            ],
            "text/plain": [
              "<IPython.core.display.Javascript object>"
            ]
          },
          "metadata": {}
        },
        {
          "output_type": "display_data",
          "data": {
            "application/javascript": [
              "window[\"fb4b5578-794c-11ec-977b-0242ac1c0002\"] = google.colab.output.setActiveOutputArea(window[\"fb4adc24-794c-11ec-977b-0242ac1c0002\"]);\n",
              "//# sourceURL=js_0d0f5af87e"
            ],
            "text/plain": [
              "<IPython.core.display.Javascript object>"
            ]
          },
          "metadata": {}
        },
        {
          "output_type": "stream",
          "name": "stdout",
          "text": [
            "Temperatura\n"
          ]
        },
        {
          "output_type": "display_data",
          "data": {
            "application/javascript": [
              "window[\"fb4e4436-794c-11ec-977b-0242ac1c0002\"] = google.colab.output.setActiveOutputArea(window[\"fb4a8daa-794c-11ec-977b-0242ac1c0002\"]);\n",
              "//# sourceURL=js_6d1eced901"
            ],
            "text/plain": [
              "<IPython.core.display.Javascript object>"
            ]
          },
          "metadata": {}
        },
        {
          "output_type": "display_data",
          "data": {
            "application/javascript": [
              "window[\"fb509894-794c-11ec-977b-0242ac1c0002\"] = google.colab.output.getActiveOutputArea();\n",
              "//# sourceURL=js_d033f86d3e"
            ],
            "text/plain": [
              "<IPython.core.display.Javascript object>"
            ]
          },
          "metadata": {}
        },
        {
          "output_type": "display_data",
          "data": {
            "application/javascript": [
              "window[\"fb51f81a-794c-11ec-977b-0242ac1c0002\"] = document.querySelector(\"#id20-3-0\");\n",
              "//# sourceURL=js_0ddfad34ba"
            ],
            "text/plain": [
              "<IPython.core.display.Javascript object>"
            ]
          },
          "metadata": {}
        },
        {
          "output_type": "display_data",
          "data": {
            "application/javascript": [
              "window[\"fb5327c6-794c-11ec-977b-0242ac1c0002\"] = google.colab.output.setActiveOutputArea(window[\"fb51f81a-794c-11ec-977b-0242ac1c0002\"]);\n",
              "//# sourceURL=js_23e3cf91e9"
            ],
            "text/plain": [
              "<IPython.core.display.Javascript object>"
            ]
          },
          "metadata": {}
        },
        {
          "output_type": "stream",
          "name": "stdout",
          "text": [
            "Precipitación\n"
          ]
        },
        {
          "output_type": "display_data",
          "data": {
            "application/javascript": [
              "window[\"fb5534b2-794c-11ec-977b-0242ac1c0002\"] = google.colab.output.setActiveOutputArea(window[\"fb509894-794c-11ec-977b-0242ac1c0002\"]);\n",
              "//# sourceURL=js_2627e7b5c8"
            ],
            "text/plain": [
              "<IPython.core.display.Javascript object>"
            ]
          },
          "metadata": {}
        },
        {
          "output_type": "display_data",
          "data": {
            "application/javascript": [
              "window[\"fb582c76-794c-11ec-977b-0242ac1c0002\"] = google.colab.output.getActiveOutputArea();\n",
              "//# sourceURL=js_5b957e2481"
            ],
            "text/plain": [
              "<IPython.core.display.Javascript object>"
            ]
          },
          "metadata": {}
        },
        {
          "output_type": "display_data",
          "data": {
            "application/javascript": [
              "window[\"fb58d9be-794c-11ec-977b-0242ac1c0002\"] = document.querySelector(\"#id20-1-1\");\n",
              "//# sourceURL=js_902c9e4239"
            ],
            "text/plain": [
              "<IPython.core.display.Javascript object>"
            ]
          },
          "metadata": {}
        },
        {
          "output_type": "display_data",
          "data": {
            "application/javascript": [
              "window[\"fb596c08-794c-11ec-977b-0242ac1c0002\"] = google.colab.output.setActiveOutputArea(window[\"fb58d9be-794c-11ec-977b-0242ac1c0002\"]);\n",
              "//# sourceURL=js_35d7138650"
            ],
            "text/plain": [
              "<IPython.core.display.Javascript object>"
            ]
          },
          "metadata": {}
        },
        {
          "output_type": "stream",
          "name": "stdout",
          "text": [
            "0.06647937708333362\n"
          ]
        },
        {
          "output_type": "display_data",
          "data": {
            "application/javascript": [
              "window[\"fb5b19a4-794c-11ec-977b-0242ac1c0002\"] = google.colab.output.setActiveOutputArea(window[\"fb582c76-794c-11ec-977b-0242ac1c0002\"]);\n",
              "//# sourceURL=js_1da39a746c"
            ],
            "text/plain": [
              "<IPython.core.display.Javascript object>"
            ]
          },
          "metadata": {}
        },
        {
          "output_type": "display_data",
          "data": {
            "application/javascript": [
              "window[\"fb5d839c-794c-11ec-977b-0242ac1c0002\"] = google.colab.output.getActiveOutputArea();\n",
              "//# sourceURL=js_59a39e28d7"
            ],
            "text/plain": [
              "<IPython.core.display.Javascript object>"
            ]
          },
          "metadata": {}
        },
        {
          "output_type": "display_data",
          "data": {
            "application/javascript": [
              "window[\"fb5deee0-794c-11ec-977b-0242ac1c0002\"] = document.querySelector(\"#id20-2-1\");\n",
              "//# sourceURL=js_9ed4adbbb5"
            ],
            "text/plain": [
              "<IPython.core.display.Javascript object>"
            ]
          },
          "metadata": {}
        },
        {
          "output_type": "display_data",
          "data": {
            "application/javascript": [
              "window[\"fb5e6686-794c-11ec-977b-0242ac1c0002\"] = google.colab.output.setActiveOutputArea(window[\"fb5deee0-794c-11ec-977b-0242ac1c0002\"]);\n",
              "//# sourceURL=js_98c06ec682"
            ],
            "text/plain": [
              "<IPython.core.display.Javascript object>"
            ]
          },
          "metadata": {}
        },
        {
          "output_type": "stream",
          "name": "stdout",
          "text": [
            "0.0979271885416666\n"
          ]
        },
        {
          "output_type": "display_data",
          "data": {
            "application/javascript": [
              "window[\"fb601300-794c-11ec-977b-0242ac1c0002\"] = google.colab.output.setActiveOutputArea(window[\"fb5d839c-794c-11ec-977b-0242ac1c0002\"]);\n",
              "//# sourceURL=js_e949159f4a"
            ],
            "text/plain": [
              "<IPython.core.display.Javascript object>"
            ]
          },
          "metadata": {}
        },
        {
          "output_type": "display_data",
          "data": {
            "application/javascript": [
              "window[\"fb62025a-794c-11ec-977b-0242ac1c0002\"] = google.colab.output.getActiveOutputArea();\n",
              "//# sourceURL=js_b7787297a2"
            ],
            "text/plain": [
              "<IPython.core.display.Javascript object>"
            ]
          },
          "metadata": {}
        },
        {
          "output_type": "display_data",
          "data": {
            "application/javascript": [
              "window[\"fb624d82-794c-11ec-977b-0242ac1c0002\"] = document.querySelector(\"#id20-3-1\");\n",
              "//# sourceURL=js_586aa5d7cc"
            ],
            "text/plain": [
              "<IPython.core.display.Javascript object>"
            ]
          },
          "metadata": {}
        },
        {
          "output_type": "display_data",
          "data": {
            "application/javascript": [
              "window[\"fb629670-794c-11ec-977b-0242ac1c0002\"] = google.colab.output.setActiveOutputArea(window[\"fb624d82-794c-11ec-977b-0242ac1c0002\"]);\n",
              "//# sourceURL=js_69d0a5ace9"
            ],
            "text/plain": [
              "<IPython.core.display.Javascript object>"
            ]
          },
          "metadata": {}
        },
        {
          "output_type": "stream",
          "name": "stdout",
          "text": [
            "-0.011645622916666376\n"
          ]
        },
        {
          "output_type": "display_data",
          "data": {
            "application/javascript": [
              "window[\"fb6401b8-794c-11ec-977b-0242ac1c0002\"] = google.colab.output.setActiveOutputArea(window[\"fb62025a-794c-11ec-977b-0242ac1c0002\"]);\n",
              "//# sourceURL=js_af2861983e"
            ],
            "text/plain": [
              "<IPython.core.display.Javascript object>"
            ]
          },
          "metadata": {}
        },
        {
          "output_type": "display_data",
          "data": {
            "application/javascript": [
              "window[\"fb6895ac-794c-11ec-977b-0242ac1c0002\"] = google.colab.output.getActiveOutputArea();\n",
              "//# sourceURL=js_6c85c36e6c"
            ],
            "text/plain": [
              "<IPython.core.display.Javascript object>"
            ]
          },
          "metadata": {}
        },
        {
          "output_type": "display_data",
          "data": {
            "application/javascript": [
              "window[\"fb68ed0e-794c-11ec-977b-0242ac1c0002\"] = document.querySelector(\"#id20-0-1\");\n",
              "//# sourceURL=js_1197afe82c"
            ],
            "text/plain": [
              "<IPython.core.display.Javascript object>"
            ]
          },
          "metadata": {}
        },
        {
          "output_type": "display_data",
          "data": {
            "application/javascript": [
              "window[\"fb696ba8-794c-11ec-977b-0242ac1c0002\"] = google.colab.output.setActiveOutputArea(window[\"fb68ed0e-794c-11ec-977b-0242ac1c0002\"]);\n",
              "//# sourceURL=js_8df8aa61ac"
            ],
            "text/plain": [
              "<IPython.core.display.Javascript object>"
            ]
          },
          "metadata": {}
        },
        {
          "output_type": "stream",
          "name": "stdout",
          "text": [
            "Beneficio real - Beneficio esperado\n"
          ]
        },
        {
          "output_type": "display_data",
          "data": {
            "application/javascript": [
              "window[\"fb6b1e9e-794c-11ec-977b-0242ac1c0002\"] = google.colab.output.setActiveOutputArea(window[\"fb6895ac-794c-11ec-977b-0242ac1c0002\"]);\n",
              "//# sourceURL=js_eced27b038"
            ],
            "text/plain": [
              "<IPython.core.display.Javascript object>"
            ]
          },
          "metadata": {}
        },
        {
          "output_type": "display_data",
          "data": {
            "application/javascript": [
              "window[\"fb6d757c-794c-11ec-977b-0242ac1c0002\"] = google.colab.output.getActiveOutputArea();\n",
              "//# sourceURL=js_87a2f7e56d"
            ],
            "text/plain": [
              "<IPython.core.display.Javascript object>"
            ]
          },
          "metadata": {}
        },
        {
          "output_type": "display_data",
          "data": {
            "application/javascript": [
              "window[\"fb6ddbde-794c-11ec-977b-0242ac1c0002\"] = document.querySelector(\"#id20-0-2\");\n",
              "//# sourceURL=js_f9a036085b"
            ],
            "text/plain": [
              "<IPython.core.display.Javascript object>"
            ]
          },
          "metadata": {}
        },
        {
          "output_type": "display_data",
          "data": {
            "application/javascript": [
              "window[\"fb6e466e-794c-11ec-977b-0242ac1c0002\"] = google.colab.output.setActiveOutputArea(window[\"fb6ddbde-794c-11ec-977b-0242ac1c0002\"]);\n",
              "//# sourceURL=js_707f7ad92f"
            ],
            "text/plain": [
              "<IPython.core.display.Javascript object>"
            ]
          },
          "metadata": {}
        },
        {
          "output_type": "stream",
          "name": "stdout",
          "text": [
            "Influencia\n"
          ]
        },
        {
          "output_type": "display_data",
          "data": {
            "application/javascript": [
              "window[\"fb6fbecc-794c-11ec-977b-0242ac1c0002\"] = google.colab.output.setActiveOutputArea(window[\"fb6d757c-794c-11ec-977b-0242ac1c0002\"]);\n",
              "//# sourceURL=js_b2b76d319c"
            ],
            "text/plain": [
              "<IPython.core.display.Javascript object>"
            ]
          },
          "metadata": {}
        },
        {
          "output_type": "display_data",
          "data": {
            "application/javascript": [
              "window[\"fb720358-794c-11ec-977b-0242ac1c0002\"] = google.colab.output.getActiveOutputArea();\n",
              "//# sourceURL=js_3f14c5687b"
            ],
            "text/plain": [
              "<IPython.core.display.Javascript object>"
            ]
          },
          "metadata": {}
        },
        {
          "output_type": "display_data",
          "data": {
            "application/javascript": [
              "window[\"fb727aae-794c-11ec-977b-0242ac1c0002\"] = document.querySelector(\"#id20-1-2\");\n",
              "//# sourceURL=js_c0d068edc7"
            ],
            "text/plain": [
              "<IPython.core.display.Javascript object>"
            ]
          },
          "metadata": {}
        },
        {
          "output_type": "display_data",
          "data": {
            "application/javascript": [
              "window[\"fb72df08-794c-11ec-977b-0242ac1c0002\"] = google.colab.output.setActiveOutputArea(window[\"fb727aae-794c-11ec-977b-0242ac1c0002\"]);\n",
              "//# sourceURL=js_e1735cbd1e"
            ],
            "text/plain": [
              "<IPython.core.display.Javascript object>"
            ]
          },
          "metadata": {}
        },
        {
          "output_type": "stream",
          "name": "stdout",
          "text": [
            "neutral\n"
          ]
        },
        {
          "output_type": "display_data",
          "data": {
            "application/javascript": [
              "window[\"fb744096-794c-11ec-977b-0242ac1c0002\"] = google.colab.output.setActiveOutputArea(window[\"fb720358-794c-11ec-977b-0242ac1c0002\"]);\n",
              "//# sourceURL=js_26ffc270ac"
            ],
            "text/plain": [
              "<IPython.core.display.Javascript object>"
            ]
          },
          "metadata": {}
        },
        {
          "output_type": "display_data",
          "data": {
            "application/javascript": [
              "window[\"fb762eb0-794c-11ec-977b-0242ac1c0002\"] = google.colab.output.getActiveOutputArea();\n",
              "//# sourceURL=js_fa5f74fed9"
            ],
            "text/plain": [
              "<IPython.core.display.Javascript object>"
            ]
          },
          "metadata": {}
        },
        {
          "output_type": "display_data",
          "data": {
            "application/javascript": [
              "window[\"fb769968-794c-11ec-977b-0242ac1c0002\"] = document.querySelector(\"#id20-2-2\");\n",
              "//# sourceURL=js_1e089529c5"
            ],
            "text/plain": [
              "<IPython.core.display.Javascript object>"
            ]
          },
          "metadata": {}
        },
        {
          "output_type": "display_data",
          "data": {
            "application/javascript": [
              "window[\"fb76fdf4-794c-11ec-977b-0242ac1c0002\"] = google.colab.output.setActiveOutputArea(window[\"fb769968-794c-11ec-977b-0242ac1c0002\"]);\n",
              "//# sourceURL=js_85543e9269"
            ],
            "text/plain": [
              "<IPython.core.display.Javascript object>"
            ]
          },
          "metadata": {}
        },
        {
          "output_type": "stream",
          "name": "stdout",
          "text": [
            "neutral\n"
          ]
        },
        {
          "output_type": "display_data",
          "data": {
            "application/javascript": [
              "window[\"fb786cca-794c-11ec-977b-0242ac1c0002\"] = google.colab.output.setActiveOutputArea(window[\"fb762eb0-794c-11ec-977b-0242ac1c0002\"]);\n",
              "//# sourceURL=js_8c56f0a783"
            ],
            "text/plain": [
              "<IPython.core.display.Javascript object>"
            ]
          },
          "metadata": {}
        },
        {
          "output_type": "display_data",
          "data": {
            "application/javascript": [
              "window[\"fb7a71aa-794c-11ec-977b-0242ac1c0002\"] = google.colab.output.getActiveOutputArea();\n",
              "//# sourceURL=js_4517586fe5"
            ],
            "text/plain": [
              "<IPython.core.display.Javascript object>"
            ]
          },
          "metadata": {}
        },
        {
          "output_type": "display_data",
          "data": {
            "application/javascript": [
              "window[\"fb7ad6b8-794c-11ec-977b-0242ac1c0002\"] = document.querySelector(\"#id20-3-2\");\n",
              "//# sourceURL=js_7a7c2f081d"
            ],
            "text/plain": [
              "<IPython.core.display.Javascript object>"
            ]
          },
          "metadata": {}
        },
        {
          "output_type": "display_data",
          "data": {
            "application/javascript": [
              "window[\"fb7b3d9c-794c-11ec-977b-0242ac1c0002\"] = google.colab.output.setActiveOutputArea(window[\"fb7ad6b8-794c-11ec-977b-0242ac1c0002\"]);\n",
              "//# sourceURL=js_d42813e518"
            ],
            "text/plain": [
              "<IPython.core.display.Javascript object>"
            ]
          },
          "metadata": {}
        },
        {
          "output_type": "stream",
          "name": "stdout",
          "text": [
            "neutral\n"
          ]
        },
        {
          "output_type": "display_data",
          "data": {
            "application/javascript": [
              "window[\"fb7c9930-794c-11ec-977b-0242ac1c0002\"] = google.colab.output.setActiveOutputArea(window[\"fb7a71aa-794c-11ec-977b-0242ac1c0002\"]);\n",
              "//# sourceURL=js_6cad34ab82"
            ],
            "text/plain": [
              "<IPython.core.display.Javascript object>"
            ]
          },
          "metadata": {}
        }
      ]
    }
  ]
}