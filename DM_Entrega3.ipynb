{
  "nbformat": 4,
  "nbformat_minor": 0,
  "metadata": {
    "colab": {
      "name": "DM_Entrega3.ipynb",
      "provenance": [],
      "collapsed_sections": [],
      "toc_visible": true,
      "include_colab_link": true
    },
    "kernelspec": {
      "name": "python3",
      "display_name": "Python 3"
    },
    "language_info": {
      "name": "python"
    }
  },
  "cells": [
    {
      "cell_type": "markdown",
      "metadata": {
        "id": "view-in-github",
        "colab_type": "text"
      },
      "source": [
        "<a href=\"https://colab.research.google.com/github/Laura-VFA/DataMining-21-22/blob/main/DM_Entrega3.ipynb\" target=\"_parent\"><img src=\"https://colab.research.google.com/assets/colab-badge.svg\" alt=\"Open In Colab\"/></a>"
      ]
    },
    {
      "cell_type": "markdown",
      "source": [
        "- Iago García Suárez  \n",
        "- David González Bermúdez  \n",
        "- Sergio Martínez Cid  \n",
        "- Laura Villa Fernández-Arroyo"
      ],
      "metadata": {
        "id": "MIppySjMTMjc"
      }
    },
    {
      "cell_type": "markdown",
      "source": [
        "# Minería de datos\n",
        "# Aplicación de modelo de minería de datos"
      ],
      "metadata": {
        "id": "bbMgKIPCTOYy"
      }
    },
    {
      "cell_type": "markdown",
      "source": [
        "## 1. Carga de datos"
      ],
      "metadata": {
        "id": "EdRob44RK_hI"
      }
    },
    {
      "cell_type": "code",
      "source": [
        "import json\n",
        "import itertools\n",
        "import warnings\n",
        "import numpy as np\n",
        "import pandas as pd\n",
        "import seaborn as sns\n",
        "import matplotlib.pyplot as plt\n",
        "from google.colab import widgets\n",
        "from sklearn import metrics, ensemble\n",
        "from sklearn.metrics import accuracy_score\n",
        "from sklearn.tree import DecisionTreeRegressor\n",
        "from sklearn.ensemble import RandomForestRegressor\n",
        "from sklearn.model_selection import train_test_split\n",
        "from sklearn.model_selection import KFold, train_test_split"
      ],
      "metadata": {
        "id": "srYeFbF-152g"
      },
      "execution_count": 1,
      "outputs": []
    },
    {
      "cell_type": "code",
      "execution_count": 2,
      "metadata": {
        "colab": {
          "base_uri": "https://localhost:8080/"
        },
        "id": "r2Plw-5H0GUM",
        "outputId": "8b8e7304-b5e2-4477-fd3d-b1302e64e20d"
      },
      "outputs": [
        {
          "output_type": "stream",
          "name": "stdout",
          "text": [
            "rm: cannot remove '*.*': No such file or directory\n",
            "--2022-01-20 11:07:16--  https://raw.githubusercontent.com/Laura-VFA/DataMining-21-22/main/Datasets/agroanalisis.csv\n",
            "Resolving raw.githubusercontent.com (raw.githubusercontent.com)... 185.199.108.133, 185.199.109.133, 185.199.110.133, ...\n",
            "Connecting to raw.githubusercontent.com (raw.githubusercontent.com)|185.199.108.133|:443... connected.\n",
            "HTTP request sent, awaiting response... 200 OK\n",
            "Length: 2241493 (2.1M) [text/plain]\n",
            "Saving to: ‘agroanalisis.csv’\n",
            "\n",
            "agroanalisis.csv    100%[===================>]   2.14M  --.-KB/s    in 0.02s   \n",
            "\n",
            "2022-01-20 11:07:17 (90.0 MB/s) - ‘agroanalisis.csv’ saved [2241493/2241493]\n",
            "\n",
            "--2022-01-20 11:07:17--  https://raw.githubusercontent.com/Laura-VFA/DataMining-21-22/main/Dicts/product_origen_inference.json\n",
            "Resolving raw.githubusercontent.com (raw.githubusercontent.com)... 185.199.108.133, 185.199.109.133, 185.199.110.133, ...\n",
            "Connecting to raw.githubusercontent.com (raw.githubusercontent.com)|185.199.108.133|:443... connected.\n",
            "HTTP request sent, awaiting response... 200 OK\n",
            "Length: 1173 (1.1K) [text/plain]\n",
            "Saving to: ‘product_origen_inference.json’\n",
            "\n",
            "product_origen_infe 100%[===================>]   1.15K  --.-KB/s    in 0s      \n",
            "\n",
            "2022-01-20 11:07:17 (72.2 MB/s) - ‘product_origen_inference.json’ saved [1173/1173]\n",
            "\n",
            "--2022-01-20 11:07:17--  https://raw.githubusercontent.com/Laura-VFA/DataMining-21-22/main/Dicts/available_products.json\n",
            "Resolving raw.githubusercontent.com (raw.githubusercontent.com)... 185.199.111.133, 185.199.110.133, 185.199.109.133, ...\n",
            "Connecting to raw.githubusercontent.com (raw.githubusercontent.com)|185.199.111.133|:443... connected.\n",
            "HTTP request sent, awaiting response... 200 OK\n",
            "Length: 395 [text/plain]\n",
            "Saving to: ‘available_products.json’\n",
            "\n",
            "available_products. 100%[===================>]     395  --.-KB/s    in 0s      \n",
            "\n",
            "2022-01-20 11:07:17 (23.9 MB/s) - ‘available_products.json’ saved [395/395]\n",
            "\n"
          ]
        }
      ],
      "source": [
        "!rm *.*\n",
        "\n",
        "!wget https://raw.githubusercontent.com/Laura-VFA/DataMining-21-22/main/Datasets/agroanalisis.csv\n",
        "\n",
        "!wget https://raw.githubusercontent.com/Laura-VFA/DataMining-21-22/main/Dicts/product_origen_inference.json\n",
        "!wget https://raw.githubusercontent.com/Laura-VFA/DataMining-21-22/main/Dicts/available_products.json\n"
      ]
    },
    {
      "cell_type": "code",
      "source": [
        "agroanalisis = pd.read_csv('agroanalisis.csv', sep=';')\n",
        "agroanalisis.drop(axis=1, labels=['Unnamed: 0'], inplace=True)\n",
        "agroanalisis.head()"
      ],
      "metadata": {
        "colab": {
          "base_uri": "https://localhost:8080/",
          "height": 340
        },
        "id": "GG4ofL2a13ex",
        "outputId": "2d36104b-2981-46a5-8451-d5eea7a8503d"
      },
      "execution_count": 3,
      "outputs": [
        {
          "output_type": "execute_result",
          "data": {
            "text/html": [
              "\n",
              "  <div id=\"df-b33193f7-7412-4b92-94b8-26e39b75dd41\">\n",
              "    <div class=\"colab-df-container\">\n",
              "      <div>\n",
              "<style scoped>\n",
              "    .dataframe tbody tr th:only-of-type {\n",
              "        vertical-align: middle;\n",
              "    }\n",
              "\n",
              "    .dataframe tbody tr th {\n",
              "        vertical-align: top;\n",
              "    }\n",
              "\n",
              "    .dataframe thead th {\n",
              "        text-align: right;\n",
              "    }\n",
              "</style>\n",
              "<table border=\"1\" class=\"dataframe\">\n",
              "  <thead>\n",
              "    <tr style=\"text-align: right;\">\n",
              "      <th></th>\n",
              "      <th>product</th>\n",
              "      <th>origen</th>\n",
              "      <th>YEAR</th>\n",
              "      <th>MONTH</th>\n",
              "      <th>price_mean</th>\n",
              "      <th>Volumen</th>\n",
              "      <th>temperatura</th>\n",
              "      <th>Precipitacion_group</th>\n",
              "      <th>Min siem-recol</th>\n",
              "      <th>Max siem-recol</th>\n",
              "      <th>Temperatura min req</th>\n",
              "      <th>Temperatura max req</th>\n",
              "      <th>Temperatura min opt</th>\n",
              "      <th>Temperatura max opt</th>\n",
              "      <th>Dias entre riego zona seca</th>\n",
              "      <th>Dias entre riego zona húmeda</th>\n",
              "      <th>distancia_mes_inicio_siem</th>\n",
              "      <th>distancia_mes_fin_siem</th>\n",
              "    </tr>\n",
              "  </thead>\n",
              "  <tbody>\n",
              "    <tr>\n",
              "      <th>0</th>\n",
              "      <td>ACELGA</td>\n",
              "      <td>Andalucia</td>\n",
              "      <td>2018</td>\n",
              "      <td>1</td>\n",
              "      <td>0.750238</td>\n",
              "      <td>46516.0</td>\n",
              "      <td>10.26</td>\n",
              "      <td>0.0</td>\n",
              "      <td>3</td>\n",
              "      <td>3</td>\n",
              "      <td>6.0</td>\n",
              "      <td>33.0</td>\n",
              "      <td>15.0</td>\n",
              "      <td>25.0</td>\n",
              "      <td>4</td>\n",
              "      <td>10</td>\n",
              "      <td>-8.0</td>\n",
              "      <td>-10.0</td>\n",
              "    </tr>\n",
              "    <tr>\n",
              "      <th>1</th>\n",
              "      <td>ACELGA</td>\n",
              "      <td>Andalucia</td>\n",
              "      <td>2018</td>\n",
              "      <td>1</td>\n",
              "      <td>0.750238</td>\n",
              "      <td>46516.0</td>\n",
              "      <td>10.26</td>\n",
              "      <td>0.0</td>\n",
              "      <td>3</td>\n",
              "      <td>3</td>\n",
              "      <td>6.0</td>\n",
              "      <td>33.0</td>\n",
              "      <td>15.0</td>\n",
              "      <td>25.0</td>\n",
              "      <td>4</td>\n",
              "      <td>10</td>\n",
              "      <td>-2.0</td>\n",
              "      <td>-4.0</td>\n",
              "    </tr>\n",
              "    <tr>\n",
              "      <th>2</th>\n",
              "      <td>ACELGA</td>\n",
              "      <td>Andalucia</td>\n",
              "      <td>2018</td>\n",
              "      <td>2</td>\n",
              "      <td>0.734375</td>\n",
              "      <td>37237.0</td>\n",
              "      <td>9.68</td>\n",
              "      <td>0.0</td>\n",
              "      <td>3</td>\n",
              "      <td>3</td>\n",
              "      <td>6.0</td>\n",
              "      <td>33.0</td>\n",
              "      <td>15.0</td>\n",
              "      <td>25.0</td>\n",
              "      <td>4</td>\n",
              "      <td>10</td>\n",
              "      <td>-7.0</td>\n",
              "      <td>-9.0</td>\n",
              "    </tr>\n",
              "    <tr>\n",
              "      <th>3</th>\n",
              "      <td>ACELGA</td>\n",
              "      <td>Andalucia</td>\n",
              "      <td>2018</td>\n",
              "      <td>2</td>\n",
              "      <td>0.734375</td>\n",
              "      <td>37237.0</td>\n",
              "      <td>9.68</td>\n",
              "      <td>0.0</td>\n",
              "      <td>3</td>\n",
              "      <td>3</td>\n",
              "      <td>6.0</td>\n",
              "      <td>33.0</td>\n",
              "      <td>15.0</td>\n",
              "      <td>25.0</td>\n",
              "      <td>4</td>\n",
              "      <td>10</td>\n",
              "      <td>-1.0</td>\n",
              "      <td>-3.0</td>\n",
              "    </tr>\n",
              "    <tr>\n",
              "      <th>4</th>\n",
              "      <td>ACELGA</td>\n",
              "      <td>Andalucia</td>\n",
              "      <td>2018</td>\n",
              "      <td>3</td>\n",
              "      <td>0.672059</td>\n",
              "      <td>78318.0</td>\n",
              "      <td>11.90</td>\n",
              "      <td>2.0</td>\n",
              "      <td>3</td>\n",
              "      <td>3</td>\n",
              "      <td>6.0</td>\n",
              "      <td>33.0</td>\n",
              "      <td>15.0</td>\n",
              "      <td>25.0</td>\n",
              "      <td>4</td>\n",
              "      <td>10</td>\n",
              "      <td>-6.0</td>\n",
              "      <td>-8.0</td>\n",
              "    </tr>\n",
              "  </tbody>\n",
              "</table>\n",
              "</div>\n",
              "      <button class=\"colab-df-convert\" onclick=\"convertToInteractive('df-b33193f7-7412-4b92-94b8-26e39b75dd41')\"\n",
              "              title=\"Convert this dataframe to an interactive table.\"\n",
              "              style=\"display:none;\">\n",
              "        \n",
              "  <svg xmlns=\"http://www.w3.org/2000/svg\" height=\"24px\"viewBox=\"0 0 24 24\"\n",
              "       width=\"24px\">\n",
              "    <path d=\"M0 0h24v24H0V0z\" fill=\"none\"/>\n",
              "    <path d=\"M18.56 5.44l.94 2.06.94-2.06 2.06-.94-2.06-.94-.94-2.06-.94 2.06-2.06.94zm-11 1L8.5 8.5l.94-2.06 2.06-.94-2.06-.94L8.5 2.5l-.94 2.06-2.06.94zm10 10l.94 2.06.94-2.06 2.06-.94-2.06-.94-.94-2.06-.94 2.06-2.06.94z\"/><path d=\"M17.41 7.96l-1.37-1.37c-.4-.4-.92-.59-1.43-.59-.52 0-1.04.2-1.43.59L10.3 9.45l-7.72 7.72c-.78.78-.78 2.05 0 2.83L4 21.41c.39.39.9.59 1.41.59.51 0 1.02-.2 1.41-.59l7.78-7.78 2.81-2.81c.8-.78.8-2.07 0-2.86zM5.41 20L4 18.59l7.72-7.72 1.47 1.35L5.41 20z\"/>\n",
              "  </svg>\n",
              "      </button>\n",
              "      \n",
              "  <style>\n",
              "    .colab-df-container {\n",
              "      display:flex;\n",
              "      flex-wrap:wrap;\n",
              "      gap: 12px;\n",
              "    }\n",
              "\n",
              "    .colab-df-convert {\n",
              "      background-color: #E8F0FE;\n",
              "      border: none;\n",
              "      border-radius: 50%;\n",
              "      cursor: pointer;\n",
              "      display: none;\n",
              "      fill: #1967D2;\n",
              "      height: 32px;\n",
              "      padding: 0 0 0 0;\n",
              "      width: 32px;\n",
              "    }\n",
              "\n",
              "    .colab-df-convert:hover {\n",
              "      background-color: #E2EBFA;\n",
              "      box-shadow: 0px 1px 2px rgba(60, 64, 67, 0.3), 0px 1px 3px 1px rgba(60, 64, 67, 0.15);\n",
              "      fill: #174EA6;\n",
              "    }\n",
              "\n",
              "    [theme=dark] .colab-df-convert {\n",
              "      background-color: #3B4455;\n",
              "      fill: #D2E3FC;\n",
              "    }\n",
              "\n",
              "    [theme=dark] .colab-df-convert:hover {\n",
              "      background-color: #434B5C;\n",
              "      box-shadow: 0px 1px 3px 1px rgba(0, 0, 0, 0.15);\n",
              "      filter: drop-shadow(0px 1px 2px rgba(0, 0, 0, 0.3));\n",
              "      fill: #FFFFFF;\n",
              "    }\n",
              "  </style>\n",
              "\n",
              "      <script>\n",
              "        const buttonEl =\n",
              "          document.querySelector('#df-b33193f7-7412-4b92-94b8-26e39b75dd41 button.colab-df-convert');\n",
              "        buttonEl.style.display =\n",
              "          google.colab.kernel.accessAllowed ? 'block' : 'none';\n",
              "\n",
              "        async function convertToInteractive(key) {\n",
              "          const element = document.querySelector('#df-b33193f7-7412-4b92-94b8-26e39b75dd41');\n",
              "          const dataTable =\n",
              "            await google.colab.kernel.invokeFunction('convertToInteractive',\n",
              "                                                     [key], {});\n",
              "          if (!dataTable) return;\n",
              "\n",
              "          const docLinkHtml = 'Like what you see? Visit the ' +\n",
              "            '<a target=\"_blank\" href=https://colab.research.google.com/notebooks/data_table.ipynb>data table notebook</a>'\n",
              "            + ' to learn more about interactive tables.';\n",
              "          element.innerHTML = '';\n",
              "          dataTable['output_type'] = 'display_data';\n",
              "          await google.colab.output.renderOutput(dataTable, element);\n",
              "          const docLink = document.createElement('div');\n",
              "          docLink.innerHTML = docLinkHtml;\n",
              "          element.appendChild(docLink);\n",
              "        }\n",
              "      </script>\n",
              "    </div>\n",
              "  </div>\n",
              "  "
            ],
            "text/plain": [
              "  product     origen  ...  distancia_mes_inicio_siem  distancia_mes_fin_siem\n",
              "0  ACELGA  Andalucia  ...                       -8.0                   -10.0\n",
              "1  ACELGA  Andalucia  ...                       -2.0                    -4.0\n",
              "2  ACELGA  Andalucia  ...                       -7.0                    -9.0\n",
              "3  ACELGA  Andalucia  ...                       -1.0                    -3.0\n",
              "4  ACELGA  Andalucia  ...                       -6.0                    -8.0\n",
              "\n",
              "[5 rows x 18 columns]"
            ]
          },
          "metadata": {},
          "execution_count": 3
        }
      ]
    },
    {
      "cell_type": "markdown",
      "source": [
        "## 2. Transformación"
      ],
      "metadata": {
        "id": "2iTn4Wx2LEmd"
      }
    },
    {
      "cell_type": "markdown",
      "source": [
        "Se añaden varias columnas con los valores relacionados al **precio, volumen y mes** en el cual se llevaría a cabo la recolección del cultivo. En el caso de que hubiera varias posibilidades, permanecería solo el cultivo cuyo precio sea más elevado. Esta operación puede resultar en nulos para algunos casos donde el cultivo no está en su periodo de siembra. Además, otros valores que no son de interés son aquellos que representan el **producto inexistente**, como es el caso de los registros con *Volumen = 0*. Para mantener una tarjeta de datos lo más limpia posible y sin ruido, se han **eliminado esos registros**."
      ],
      "metadata": {
        "id": "yc1eK2LiTkau"
      }
    },
    {
      "cell_type": "code",
      "source": [
        "for index1 in agroanalisis.index:\n",
        "  if agroanalisis.at[index1, 'distancia_mes_inicio_siem'] >= 0 and agroanalisis.at[index1,'distancia_mes_fin_siem'] <= 0:\n",
        "    interval = range(agroanalisis.at[index1,'Min siem-recol'],agroanalisis.at[index1,'Max siem-recol']+1)\n",
        "    prices = []\n",
        "    for year, month in map(lambda delta: (agroanalisis.at[index1,'YEAR'] if agroanalisis.at[index1,'MONTH']+delta <=12 else agroanalisis.at[index1,'YEAR']+1, (agroanalisis.at[index1,'MONTH']+delta) % 12), interval):\n",
        "      result = agroanalisis[(agroanalisis['product'] == agroanalisis.at[index1,'product']) & \\\n",
        "                   (agroanalisis['origen'] == agroanalisis.at[index1,'origen']) & \\\n",
        "                   (agroanalisis['YEAR'] == year) & (agroanalisis['MONTH'] == month)]\n",
        "      for index2 in result.index:\n",
        "          prices.append((result.at[index2,'price_mean'], result.at[index2,'Volumen'], result.at[index2,'MONTH'] ))\n",
        "    if prices:\n",
        "      agroanalisis.at[index1, 'price_max_recolec'], agroanalisis.at[index1, 'Volumen_max_recolec'], agroanalisis.at[index1, 'MONTH_max_recolec'] = max(prices)"
      ],
      "metadata": {
        "id": "RCExAKOqKjJH"
      },
      "execution_count": 4,
      "outputs": []
    },
    {
      "cell_type": "code",
      "source": [
        "agroanalisis.head()"
      ],
      "metadata": {
        "colab": {
          "base_uri": "https://localhost:8080/",
          "height": 340
        },
        "id": "wsn9eJlCBR7m",
        "outputId": "9ba8f637-0598-4be8-d198-e268528732a0"
      },
      "execution_count": 5,
      "outputs": [
        {
          "output_type": "execute_result",
          "data": {
            "text/html": [
              "\n",
              "  <div id=\"df-56838ec1-6fb6-4622-a65a-2912d51bff00\">\n",
              "    <div class=\"colab-df-container\">\n",
              "      <div>\n",
              "<style scoped>\n",
              "    .dataframe tbody tr th:only-of-type {\n",
              "        vertical-align: middle;\n",
              "    }\n",
              "\n",
              "    .dataframe tbody tr th {\n",
              "        vertical-align: top;\n",
              "    }\n",
              "\n",
              "    .dataframe thead th {\n",
              "        text-align: right;\n",
              "    }\n",
              "</style>\n",
              "<table border=\"1\" class=\"dataframe\">\n",
              "  <thead>\n",
              "    <tr style=\"text-align: right;\">\n",
              "      <th></th>\n",
              "      <th>product</th>\n",
              "      <th>origen</th>\n",
              "      <th>YEAR</th>\n",
              "      <th>MONTH</th>\n",
              "      <th>price_mean</th>\n",
              "      <th>Volumen</th>\n",
              "      <th>temperatura</th>\n",
              "      <th>Precipitacion_group</th>\n",
              "      <th>Min siem-recol</th>\n",
              "      <th>Max siem-recol</th>\n",
              "      <th>Temperatura min req</th>\n",
              "      <th>Temperatura max req</th>\n",
              "      <th>Temperatura min opt</th>\n",
              "      <th>Temperatura max opt</th>\n",
              "      <th>Dias entre riego zona seca</th>\n",
              "      <th>Dias entre riego zona húmeda</th>\n",
              "      <th>distancia_mes_inicio_siem</th>\n",
              "      <th>distancia_mes_fin_siem</th>\n",
              "      <th>price_max_recolec</th>\n",
              "      <th>Volumen_max_recolec</th>\n",
              "      <th>MONTH_max_recolec</th>\n",
              "    </tr>\n",
              "  </thead>\n",
              "  <tbody>\n",
              "    <tr>\n",
              "      <th>0</th>\n",
              "      <td>ACELGA</td>\n",
              "      <td>Andalucia</td>\n",
              "      <td>2018</td>\n",
              "      <td>1</td>\n",
              "      <td>0.750238</td>\n",
              "      <td>46516.0</td>\n",
              "      <td>10.26</td>\n",
              "      <td>0.0</td>\n",
              "      <td>3</td>\n",
              "      <td>3</td>\n",
              "      <td>6.0</td>\n",
              "      <td>33.0</td>\n",
              "      <td>15.0</td>\n",
              "      <td>25.0</td>\n",
              "      <td>4</td>\n",
              "      <td>10</td>\n",
              "      <td>-8.0</td>\n",
              "      <td>-10.0</td>\n",
              "      <td>NaN</td>\n",
              "      <td>NaN</td>\n",
              "      <td>NaN</td>\n",
              "    </tr>\n",
              "    <tr>\n",
              "      <th>1</th>\n",
              "      <td>ACELGA</td>\n",
              "      <td>Andalucia</td>\n",
              "      <td>2018</td>\n",
              "      <td>1</td>\n",
              "      <td>0.750238</td>\n",
              "      <td>46516.0</td>\n",
              "      <td>10.26</td>\n",
              "      <td>0.0</td>\n",
              "      <td>3</td>\n",
              "      <td>3</td>\n",
              "      <td>6.0</td>\n",
              "      <td>33.0</td>\n",
              "      <td>15.0</td>\n",
              "      <td>25.0</td>\n",
              "      <td>4</td>\n",
              "      <td>10</td>\n",
              "      <td>-2.0</td>\n",
              "      <td>-4.0</td>\n",
              "      <td>NaN</td>\n",
              "      <td>NaN</td>\n",
              "      <td>NaN</td>\n",
              "    </tr>\n",
              "    <tr>\n",
              "      <th>2</th>\n",
              "      <td>ACELGA</td>\n",
              "      <td>Andalucia</td>\n",
              "      <td>2018</td>\n",
              "      <td>2</td>\n",
              "      <td>0.734375</td>\n",
              "      <td>37237.0</td>\n",
              "      <td>9.68</td>\n",
              "      <td>0.0</td>\n",
              "      <td>3</td>\n",
              "      <td>3</td>\n",
              "      <td>6.0</td>\n",
              "      <td>33.0</td>\n",
              "      <td>15.0</td>\n",
              "      <td>25.0</td>\n",
              "      <td>4</td>\n",
              "      <td>10</td>\n",
              "      <td>-7.0</td>\n",
              "      <td>-9.0</td>\n",
              "      <td>NaN</td>\n",
              "      <td>NaN</td>\n",
              "      <td>NaN</td>\n",
              "    </tr>\n",
              "    <tr>\n",
              "      <th>3</th>\n",
              "      <td>ACELGA</td>\n",
              "      <td>Andalucia</td>\n",
              "      <td>2018</td>\n",
              "      <td>2</td>\n",
              "      <td>0.734375</td>\n",
              "      <td>37237.0</td>\n",
              "      <td>9.68</td>\n",
              "      <td>0.0</td>\n",
              "      <td>3</td>\n",
              "      <td>3</td>\n",
              "      <td>6.0</td>\n",
              "      <td>33.0</td>\n",
              "      <td>15.0</td>\n",
              "      <td>25.0</td>\n",
              "      <td>4</td>\n",
              "      <td>10</td>\n",
              "      <td>-1.0</td>\n",
              "      <td>-3.0</td>\n",
              "      <td>NaN</td>\n",
              "      <td>NaN</td>\n",
              "      <td>NaN</td>\n",
              "    </tr>\n",
              "    <tr>\n",
              "      <th>4</th>\n",
              "      <td>ACELGA</td>\n",
              "      <td>Andalucia</td>\n",
              "      <td>2018</td>\n",
              "      <td>3</td>\n",
              "      <td>0.672059</td>\n",
              "      <td>78318.0</td>\n",
              "      <td>11.90</td>\n",
              "      <td>2.0</td>\n",
              "      <td>3</td>\n",
              "      <td>3</td>\n",
              "      <td>6.0</td>\n",
              "      <td>33.0</td>\n",
              "      <td>15.0</td>\n",
              "      <td>25.0</td>\n",
              "      <td>4</td>\n",
              "      <td>10</td>\n",
              "      <td>-6.0</td>\n",
              "      <td>-8.0</td>\n",
              "      <td>NaN</td>\n",
              "      <td>NaN</td>\n",
              "      <td>NaN</td>\n",
              "    </tr>\n",
              "  </tbody>\n",
              "</table>\n",
              "</div>\n",
              "      <button class=\"colab-df-convert\" onclick=\"convertToInteractive('df-56838ec1-6fb6-4622-a65a-2912d51bff00')\"\n",
              "              title=\"Convert this dataframe to an interactive table.\"\n",
              "              style=\"display:none;\">\n",
              "        \n",
              "  <svg xmlns=\"http://www.w3.org/2000/svg\" height=\"24px\"viewBox=\"0 0 24 24\"\n",
              "       width=\"24px\">\n",
              "    <path d=\"M0 0h24v24H0V0z\" fill=\"none\"/>\n",
              "    <path d=\"M18.56 5.44l.94 2.06.94-2.06 2.06-.94-2.06-.94-.94-2.06-.94 2.06-2.06.94zm-11 1L8.5 8.5l.94-2.06 2.06-.94-2.06-.94L8.5 2.5l-.94 2.06-2.06.94zm10 10l.94 2.06.94-2.06 2.06-.94-2.06-.94-.94-2.06-.94 2.06-2.06.94z\"/><path d=\"M17.41 7.96l-1.37-1.37c-.4-.4-.92-.59-1.43-.59-.52 0-1.04.2-1.43.59L10.3 9.45l-7.72 7.72c-.78.78-.78 2.05 0 2.83L4 21.41c.39.39.9.59 1.41.59.51 0 1.02-.2 1.41-.59l7.78-7.78 2.81-2.81c.8-.78.8-2.07 0-2.86zM5.41 20L4 18.59l7.72-7.72 1.47 1.35L5.41 20z\"/>\n",
              "  </svg>\n",
              "      </button>\n",
              "      \n",
              "  <style>\n",
              "    .colab-df-container {\n",
              "      display:flex;\n",
              "      flex-wrap:wrap;\n",
              "      gap: 12px;\n",
              "    }\n",
              "\n",
              "    .colab-df-convert {\n",
              "      background-color: #E8F0FE;\n",
              "      border: none;\n",
              "      border-radius: 50%;\n",
              "      cursor: pointer;\n",
              "      display: none;\n",
              "      fill: #1967D2;\n",
              "      height: 32px;\n",
              "      padding: 0 0 0 0;\n",
              "      width: 32px;\n",
              "    }\n",
              "\n",
              "    .colab-df-convert:hover {\n",
              "      background-color: #E2EBFA;\n",
              "      box-shadow: 0px 1px 2px rgba(60, 64, 67, 0.3), 0px 1px 3px 1px rgba(60, 64, 67, 0.15);\n",
              "      fill: #174EA6;\n",
              "    }\n",
              "\n",
              "    [theme=dark] .colab-df-convert {\n",
              "      background-color: #3B4455;\n",
              "      fill: #D2E3FC;\n",
              "    }\n",
              "\n",
              "    [theme=dark] .colab-df-convert:hover {\n",
              "      background-color: #434B5C;\n",
              "      box-shadow: 0px 1px 3px 1px rgba(0, 0, 0, 0.15);\n",
              "      filter: drop-shadow(0px 1px 2px rgba(0, 0, 0, 0.3));\n",
              "      fill: #FFFFFF;\n",
              "    }\n",
              "  </style>\n",
              "\n",
              "      <script>\n",
              "        const buttonEl =\n",
              "          document.querySelector('#df-56838ec1-6fb6-4622-a65a-2912d51bff00 button.colab-df-convert');\n",
              "        buttonEl.style.display =\n",
              "          google.colab.kernel.accessAllowed ? 'block' : 'none';\n",
              "\n",
              "        async function convertToInteractive(key) {\n",
              "          const element = document.querySelector('#df-56838ec1-6fb6-4622-a65a-2912d51bff00');\n",
              "          const dataTable =\n",
              "            await google.colab.kernel.invokeFunction('convertToInteractive',\n",
              "                                                     [key], {});\n",
              "          if (!dataTable) return;\n",
              "\n",
              "          const docLinkHtml = 'Like what you see? Visit the ' +\n",
              "            '<a target=\"_blank\" href=https://colab.research.google.com/notebooks/data_table.ipynb>data table notebook</a>'\n",
              "            + ' to learn more about interactive tables.';\n",
              "          element.innerHTML = '';\n",
              "          dataTable['output_type'] = 'display_data';\n",
              "          await google.colab.output.renderOutput(dataTable, element);\n",
              "          const docLink = document.createElement('div');\n",
              "          docLink.innerHTML = docLinkHtml;\n",
              "          element.appendChild(docLink);\n",
              "        }\n",
              "      </script>\n",
              "    </div>\n",
              "  </div>\n",
              "  "
            ],
            "text/plain": [
              "  product     origen  ...  Volumen_max_recolec  MONTH_max_recolec\n",
              "0  ACELGA  Andalucia  ...                  NaN                NaN\n",
              "1  ACELGA  Andalucia  ...                  NaN                NaN\n",
              "2  ACELGA  Andalucia  ...                  NaN                NaN\n",
              "3  ACELGA  Andalucia  ...                  NaN                NaN\n",
              "4  ACELGA  Andalucia  ...                  NaN                NaN\n",
              "\n",
              "[5 rows x 21 columns]"
            ]
          },
          "metadata": {},
          "execution_count": 5
        }
      ]
    },
    {
      "cell_type": "code",
      "source": [
        "agroanalisis.dropna(inplace=True)"
      ],
      "metadata": {
        "id": "THno3alyIs_L"
      },
      "execution_count": 6,
      "outputs": []
    },
    {
      "cell_type": "markdown",
      "source": [
        "Se comprueba si algún registro se repite para un producto, lugar y fecha, ya que podría haber **periodos solapados**."
      ],
      "metadata": {
        "id": "sSvsm10UT07E"
      }
    },
    {
      "cell_type": "code",
      "source": [
        "agroanalisis.shape"
      ],
      "metadata": {
        "colab": {
          "base_uri": "https://localhost:8080/"
        },
        "id": "NYCLlg_MJltq",
        "outputId": "0dec0100-31d3-440b-fc32-4807d197527a"
      },
      "execution_count": 7,
      "outputs": [
        {
          "output_type": "execute_result",
          "data": {
            "text/plain": [
              "(3822, 21)"
            ]
          },
          "metadata": {},
          "execution_count": 7
        }
      ]
    },
    {
      "cell_type": "code",
      "source": [
        "agroanalisis.groupby(['product', 'origen','YEAR', 'MONTH'], as_index=False).count()"
      ],
      "metadata": {
        "colab": {
          "base_uri": "https://localhost:8080/",
          "height": 557
        },
        "id": "5Tmt7kZTM138",
        "outputId": "8e0a8d61-ced4-4c2b-89cf-ed03c5d82333"
      },
      "execution_count": 8,
      "outputs": [
        {
          "output_type": "execute_result",
          "data": {
            "text/html": [
              "\n",
              "  <div id=\"df-7c64535a-f4cb-4bf5-9421-6fe9b47186ff\">\n",
              "    <div class=\"colab-df-container\">\n",
              "      <div>\n",
              "<style scoped>\n",
              "    .dataframe tbody tr th:only-of-type {\n",
              "        vertical-align: middle;\n",
              "    }\n",
              "\n",
              "    .dataframe tbody tr th {\n",
              "        vertical-align: top;\n",
              "    }\n",
              "\n",
              "    .dataframe thead th {\n",
              "        text-align: right;\n",
              "    }\n",
              "</style>\n",
              "<table border=\"1\" class=\"dataframe\">\n",
              "  <thead>\n",
              "    <tr style=\"text-align: right;\">\n",
              "      <th></th>\n",
              "      <th>product</th>\n",
              "      <th>origen</th>\n",
              "      <th>YEAR</th>\n",
              "      <th>MONTH</th>\n",
              "      <th>price_mean</th>\n",
              "      <th>Volumen</th>\n",
              "      <th>temperatura</th>\n",
              "      <th>Precipitacion_group</th>\n",
              "      <th>Min siem-recol</th>\n",
              "      <th>Max siem-recol</th>\n",
              "      <th>Temperatura min req</th>\n",
              "      <th>Temperatura max req</th>\n",
              "      <th>Temperatura min opt</th>\n",
              "      <th>Temperatura max opt</th>\n",
              "      <th>Dias entre riego zona seca</th>\n",
              "      <th>Dias entre riego zona húmeda</th>\n",
              "      <th>distancia_mes_inicio_siem</th>\n",
              "      <th>distancia_mes_fin_siem</th>\n",
              "      <th>price_max_recolec</th>\n",
              "      <th>Volumen_max_recolec</th>\n",
              "      <th>MONTH_max_recolec</th>\n",
              "    </tr>\n",
              "  </thead>\n",
              "  <tbody>\n",
              "    <tr>\n",
              "      <th>0</th>\n",
              "      <td>ACELGA</td>\n",
              "      <td>Andalucia</td>\n",
              "      <td>2018</td>\n",
              "      <td>3</td>\n",
              "      <td>1</td>\n",
              "      <td>1</td>\n",
              "      <td>1</td>\n",
              "      <td>1</td>\n",
              "      <td>1</td>\n",
              "      <td>1</td>\n",
              "      <td>1</td>\n",
              "      <td>1</td>\n",
              "      <td>1</td>\n",
              "      <td>1</td>\n",
              "      <td>1</td>\n",
              "      <td>1</td>\n",
              "      <td>1</td>\n",
              "      <td>1</td>\n",
              "      <td>1</td>\n",
              "      <td>1</td>\n",
              "      <td>1</td>\n",
              "    </tr>\n",
              "    <tr>\n",
              "      <th>1</th>\n",
              "      <td>ACELGA</td>\n",
              "      <td>Andalucia</td>\n",
              "      <td>2018</td>\n",
              "      <td>4</td>\n",
              "      <td>1</td>\n",
              "      <td>1</td>\n",
              "      <td>1</td>\n",
              "      <td>1</td>\n",
              "      <td>1</td>\n",
              "      <td>1</td>\n",
              "      <td>1</td>\n",
              "      <td>1</td>\n",
              "      <td>1</td>\n",
              "      <td>1</td>\n",
              "      <td>1</td>\n",
              "      <td>1</td>\n",
              "      <td>1</td>\n",
              "      <td>1</td>\n",
              "      <td>1</td>\n",
              "      <td>1</td>\n",
              "      <td>1</td>\n",
              "    </tr>\n",
              "    <tr>\n",
              "      <th>2</th>\n",
              "      <td>ACELGA</td>\n",
              "      <td>Andalucia</td>\n",
              "      <td>2018</td>\n",
              "      <td>5</td>\n",
              "      <td>1</td>\n",
              "      <td>1</td>\n",
              "      <td>1</td>\n",
              "      <td>1</td>\n",
              "      <td>1</td>\n",
              "      <td>1</td>\n",
              "      <td>1</td>\n",
              "      <td>1</td>\n",
              "      <td>1</td>\n",
              "      <td>1</td>\n",
              "      <td>1</td>\n",
              "      <td>1</td>\n",
              "      <td>1</td>\n",
              "      <td>1</td>\n",
              "      <td>1</td>\n",
              "      <td>1</td>\n",
              "      <td>1</td>\n",
              "    </tr>\n",
              "    <tr>\n",
              "      <th>3</th>\n",
              "      <td>ACELGA</td>\n",
              "      <td>Andalucia</td>\n",
              "      <td>2018</td>\n",
              "      <td>10</td>\n",
              "      <td>1</td>\n",
              "      <td>1</td>\n",
              "      <td>1</td>\n",
              "      <td>1</td>\n",
              "      <td>1</td>\n",
              "      <td>1</td>\n",
              "      <td>1</td>\n",
              "      <td>1</td>\n",
              "      <td>1</td>\n",
              "      <td>1</td>\n",
              "      <td>1</td>\n",
              "      <td>1</td>\n",
              "      <td>1</td>\n",
              "      <td>1</td>\n",
              "      <td>1</td>\n",
              "      <td>1</td>\n",
              "      <td>1</td>\n",
              "    </tr>\n",
              "    <tr>\n",
              "      <th>4</th>\n",
              "      <td>ACELGA</td>\n",
              "      <td>Andalucia</td>\n",
              "      <td>2018</td>\n",
              "      <td>11</td>\n",
              "      <td>1</td>\n",
              "      <td>1</td>\n",
              "      <td>1</td>\n",
              "      <td>1</td>\n",
              "      <td>1</td>\n",
              "      <td>1</td>\n",
              "      <td>1</td>\n",
              "      <td>1</td>\n",
              "      <td>1</td>\n",
              "      <td>1</td>\n",
              "      <td>1</td>\n",
              "      <td>1</td>\n",
              "      <td>1</td>\n",
              "      <td>1</td>\n",
              "      <td>1</td>\n",
              "      <td>1</td>\n",
              "      <td>1</td>\n",
              "    </tr>\n",
              "    <tr>\n",
              "      <th>...</th>\n",
              "      <td>...</td>\n",
              "      <td>...</td>\n",
              "      <td>...</td>\n",
              "      <td>...</td>\n",
              "      <td>...</td>\n",
              "      <td>...</td>\n",
              "      <td>...</td>\n",
              "      <td>...</td>\n",
              "      <td>...</td>\n",
              "      <td>...</td>\n",
              "      <td>...</td>\n",
              "      <td>...</td>\n",
              "      <td>...</td>\n",
              "      <td>...</td>\n",
              "      <td>...</td>\n",
              "      <td>...</td>\n",
              "      <td>...</td>\n",
              "      <td>...</td>\n",
              "      <td>...</td>\n",
              "      <td>...</td>\n",
              "      <td>...</td>\n",
              "    </tr>\n",
              "    <tr>\n",
              "      <th>3817</th>\n",
              "      <td>ZANAHORIA</td>\n",
              "      <td>Valencia</td>\n",
              "      <td>2019</td>\n",
              "      <td>11</td>\n",
              "      <td>1</td>\n",
              "      <td>1</td>\n",
              "      <td>1</td>\n",
              "      <td>1</td>\n",
              "      <td>1</td>\n",
              "      <td>1</td>\n",
              "      <td>1</td>\n",
              "      <td>1</td>\n",
              "      <td>1</td>\n",
              "      <td>1</td>\n",
              "      <td>1</td>\n",
              "      <td>1</td>\n",
              "      <td>1</td>\n",
              "      <td>1</td>\n",
              "      <td>1</td>\n",
              "      <td>1</td>\n",
              "      <td>1</td>\n",
              "    </tr>\n",
              "    <tr>\n",
              "      <th>3818</th>\n",
              "      <td>ZANAHORIA</td>\n",
              "      <td>Valencia</td>\n",
              "      <td>2020</td>\n",
              "      <td>2</td>\n",
              "      <td>1</td>\n",
              "      <td>1</td>\n",
              "      <td>1</td>\n",
              "      <td>1</td>\n",
              "      <td>1</td>\n",
              "      <td>1</td>\n",
              "      <td>1</td>\n",
              "      <td>1</td>\n",
              "      <td>1</td>\n",
              "      <td>1</td>\n",
              "      <td>1</td>\n",
              "      <td>1</td>\n",
              "      <td>1</td>\n",
              "      <td>1</td>\n",
              "      <td>1</td>\n",
              "      <td>1</td>\n",
              "      <td>1</td>\n",
              "    </tr>\n",
              "    <tr>\n",
              "      <th>3819</th>\n",
              "      <td>ZANAHORIA</td>\n",
              "      <td>Valencia</td>\n",
              "      <td>2020</td>\n",
              "      <td>3</td>\n",
              "      <td>1</td>\n",
              "      <td>1</td>\n",
              "      <td>1</td>\n",
              "      <td>1</td>\n",
              "      <td>1</td>\n",
              "      <td>1</td>\n",
              "      <td>1</td>\n",
              "      <td>1</td>\n",
              "      <td>1</td>\n",
              "      <td>1</td>\n",
              "      <td>1</td>\n",
              "      <td>1</td>\n",
              "      <td>1</td>\n",
              "      <td>1</td>\n",
              "      <td>1</td>\n",
              "      <td>1</td>\n",
              "      <td>1</td>\n",
              "    </tr>\n",
              "    <tr>\n",
              "      <th>3820</th>\n",
              "      <td>ZANAHORIA</td>\n",
              "      <td>Valencia</td>\n",
              "      <td>2020</td>\n",
              "      <td>4</td>\n",
              "      <td>1</td>\n",
              "      <td>1</td>\n",
              "      <td>1</td>\n",
              "      <td>1</td>\n",
              "      <td>1</td>\n",
              "      <td>1</td>\n",
              "      <td>1</td>\n",
              "      <td>1</td>\n",
              "      <td>1</td>\n",
              "      <td>1</td>\n",
              "      <td>1</td>\n",
              "      <td>1</td>\n",
              "      <td>1</td>\n",
              "      <td>1</td>\n",
              "      <td>1</td>\n",
              "      <td>1</td>\n",
              "      <td>1</td>\n",
              "    </tr>\n",
              "    <tr>\n",
              "      <th>3821</th>\n",
              "      <td>ZANAHORIA</td>\n",
              "      <td>Valencia</td>\n",
              "      <td>2020</td>\n",
              "      <td>5</td>\n",
              "      <td>1</td>\n",
              "      <td>1</td>\n",
              "      <td>1</td>\n",
              "      <td>1</td>\n",
              "      <td>1</td>\n",
              "      <td>1</td>\n",
              "      <td>1</td>\n",
              "      <td>1</td>\n",
              "      <td>1</td>\n",
              "      <td>1</td>\n",
              "      <td>1</td>\n",
              "      <td>1</td>\n",
              "      <td>1</td>\n",
              "      <td>1</td>\n",
              "      <td>1</td>\n",
              "      <td>1</td>\n",
              "      <td>1</td>\n",
              "    </tr>\n",
              "  </tbody>\n",
              "</table>\n",
              "<p>3822 rows × 21 columns</p>\n",
              "</div>\n",
              "      <button class=\"colab-df-convert\" onclick=\"convertToInteractive('df-7c64535a-f4cb-4bf5-9421-6fe9b47186ff')\"\n",
              "              title=\"Convert this dataframe to an interactive table.\"\n",
              "              style=\"display:none;\">\n",
              "        \n",
              "  <svg xmlns=\"http://www.w3.org/2000/svg\" height=\"24px\"viewBox=\"0 0 24 24\"\n",
              "       width=\"24px\">\n",
              "    <path d=\"M0 0h24v24H0V0z\" fill=\"none\"/>\n",
              "    <path d=\"M18.56 5.44l.94 2.06.94-2.06 2.06-.94-2.06-.94-.94-2.06-.94 2.06-2.06.94zm-11 1L8.5 8.5l.94-2.06 2.06-.94-2.06-.94L8.5 2.5l-.94 2.06-2.06.94zm10 10l.94 2.06.94-2.06 2.06-.94-2.06-.94-.94-2.06-.94 2.06-2.06.94z\"/><path d=\"M17.41 7.96l-1.37-1.37c-.4-.4-.92-.59-1.43-.59-.52 0-1.04.2-1.43.59L10.3 9.45l-7.72 7.72c-.78.78-.78 2.05 0 2.83L4 21.41c.39.39.9.59 1.41.59.51 0 1.02-.2 1.41-.59l7.78-7.78 2.81-2.81c.8-.78.8-2.07 0-2.86zM5.41 20L4 18.59l7.72-7.72 1.47 1.35L5.41 20z\"/>\n",
              "  </svg>\n",
              "      </button>\n",
              "      \n",
              "  <style>\n",
              "    .colab-df-container {\n",
              "      display:flex;\n",
              "      flex-wrap:wrap;\n",
              "      gap: 12px;\n",
              "    }\n",
              "\n",
              "    .colab-df-convert {\n",
              "      background-color: #E8F0FE;\n",
              "      border: none;\n",
              "      border-radius: 50%;\n",
              "      cursor: pointer;\n",
              "      display: none;\n",
              "      fill: #1967D2;\n",
              "      height: 32px;\n",
              "      padding: 0 0 0 0;\n",
              "      width: 32px;\n",
              "    }\n",
              "\n",
              "    .colab-df-convert:hover {\n",
              "      background-color: #E2EBFA;\n",
              "      box-shadow: 0px 1px 2px rgba(60, 64, 67, 0.3), 0px 1px 3px 1px rgba(60, 64, 67, 0.15);\n",
              "      fill: #174EA6;\n",
              "    }\n",
              "\n",
              "    [theme=dark] .colab-df-convert {\n",
              "      background-color: #3B4455;\n",
              "      fill: #D2E3FC;\n",
              "    }\n",
              "\n",
              "    [theme=dark] .colab-df-convert:hover {\n",
              "      background-color: #434B5C;\n",
              "      box-shadow: 0px 1px 3px 1px rgba(0, 0, 0, 0.15);\n",
              "      filter: drop-shadow(0px 1px 2px rgba(0, 0, 0, 0.3));\n",
              "      fill: #FFFFFF;\n",
              "    }\n",
              "  </style>\n",
              "\n",
              "      <script>\n",
              "        const buttonEl =\n",
              "          document.querySelector('#df-7c64535a-f4cb-4bf5-9421-6fe9b47186ff button.colab-df-convert');\n",
              "        buttonEl.style.display =\n",
              "          google.colab.kernel.accessAllowed ? 'block' : 'none';\n",
              "\n",
              "        async function convertToInteractive(key) {\n",
              "          const element = document.querySelector('#df-7c64535a-f4cb-4bf5-9421-6fe9b47186ff');\n",
              "          const dataTable =\n",
              "            await google.colab.kernel.invokeFunction('convertToInteractive',\n",
              "                                                     [key], {});\n",
              "          if (!dataTable) return;\n",
              "\n",
              "          const docLinkHtml = 'Like what you see? Visit the ' +\n",
              "            '<a target=\"_blank\" href=https://colab.research.google.com/notebooks/data_table.ipynb>data table notebook</a>'\n",
              "            + ' to learn more about interactive tables.';\n",
              "          element.innerHTML = '';\n",
              "          dataTable['output_type'] = 'display_data';\n",
              "          await google.colab.output.renderOutput(dataTable, element);\n",
              "          const docLink = document.createElement('div');\n",
              "          docLink.innerHTML = docLinkHtml;\n",
              "          element.appendChild(docLink);\n",
              "        }\n",
              "      </script>\n",
              "    </div>\n",
              "  </div>\n",
              "  "
            ],
            "text/plain": [
              "        product     origen  ...  Volumen_max_recolec  MONTH_max_recolec\n",
              "0        ACELGA  Andalucia  ...                    1                  1\n",
              "1        ACELGA  Andalucia  ...                    1                  1\n",
              "2        ACELGA  Andalucia  ...                    1                  1\n",
              "3        ACELGA  Andalucia  ...                    1                  1\n",
              "4        ACELGA  Andalucia  ...                    1                  1\n",
              "...         ...        ...  ...                  ...                ...\n",
              "3817  ZANAHORIA   Valencia  ...                    1                  1\n",
              "3818  ZANAHORIA   Valencia  ...                    1                  1\n",
              "3819  ZANAHORIA   Valencia  ...                    1                  1\n",
              "3820  ZANAHORIA   Valencia  ...                    1                  1\n",
              "3821  ZANAHORIA   Valencia  ...                    1                  1\n",
              "\n",
              "[3822 rows x 21 columns]"
            ]
          },
          "metadata": {},
          "execution_count": 8
        }
      ]
    },
    {
      "cell_type": "markdown",
      "source": [
        "Como tras hacer la agrupación el número de filas es el mismo, podemos concluir que no hay solapamientos."
      ],
      "metadata": {
        "id": "UrclwwCoJ0mZ"
      }
    },
    {
      "cell_type": "markdown",
      "source": [
        "Para **relacionar la humedad de una zona con la necesidad de riego de cada cultivo** se ha llevado a cabo una **discretización manual**, por la cual se comprueban los valores que pueden tomar todos los cultivos y se agrupan en 3 grupos, de los cuales el 0 corresponde al grupo que menos necesidad hídrica tiene y el 2 al que más necesidad hídrica tiene."
      ],
      "metadata": {
        "id": "rbjLulGbUAQV"
      }
    },
    {
      "cell_type": "code",
      "source": [
        "agroanalisis['Dias entre riego zona seca'].hist(bins=15)"
      ],
      "metadata": {
        "colab": {
          "base_uri": "https://localhost:8080/",
          "height": 282
        },
        "id": "j9plSSXjX709",
        "outputId": "60f40e14-e4f6-4eaf-9768-c4821666900b"
      },
      "execution_count": 9,
      "outputs": [
        {
          "output_type": "execute_result",
          "data": {
            "text/plain": [
              "<matplotlib.axes._subplots.AxesSubplot at 0x7f5a5333b590>"
            ]
          },
          "metadata": {},
          "execution_count": 9
        },
        {
          "output_type": "display_data",
          "data": {
            "image/png": "[encoded data removed]",
            "text/plain": [
              "<Figure size 432x288 with 1 Axes>"
            ]
          },
          "metadata": {
            "needs_background": "light"
          }
        }
      ]
    },
    {
      "cell_type": "code",
      "source": [
        "agroanalisis['Dias entre riego zona húmeda'].hist()"
      ],
      "metadata": {
        "colab": {
          "base_uri": "https://localhost:8080/",
          "height": 282
        },
        "id": "9iByfW08YDVh",
        "outputId": "af574a9e-7517-4a05-cb30-d27b9edea3b5"
      },
      "execution_count": 10,
      "outputs": [
        {
          "output_type": "execute_result",
          "data": {
            "text/plain": [
              "<matplotlib.axes._subplots.AxesSubplot at 0x7f5a53240750>"
            ]
          },
          "metadata": {},
          "execution_count": 10
        },
        {
          "output_type": "display_data",
          "data": {
            "image/png": "[encoded data removed]",
            "text/plain": [
              "<Figure size 432x288 with 1 Axes>"
            ]
          },
          "metadata": {
            "needs_background": "light"
          }
        }
      ]
    },
    {
      "cell_type": "code",
      "source": [
        "for index in agroanalisis.index:\n",
        "  if agroanalisis.at[index, 'Dias entre riego zona seca'] < 2:\n",
        "    val = 2\n",
        "  elif agroanalisis.at[index, 'Dias entre riego zona seca'] < 4:\n",
        "    val = 1\n",
        "  else:\n",
        "    val = 0\n",
        "  agroanalisis.at[index, 'need_humidity_group'] = val"
      ],
      "metadata": {
        "id": "K0RkFdooaaUW"
      },
      "execution_count": 11,
      "outputs": []
    },
    {
      "cell_type": "markdown",
      "source": [
        "Con la necesidad de riego ya discretizada y el precio en el mes de recolección calculado, podemos **eliminar las columnas** correspondientes a los días entre riego para zonas secas y húmedas y a los meses de cultivo, ya que no volverán a ser necesarias (la columna *Dias entre riego zona húmeda* no es necesaria puesto que las necesidades de riego son bien descritas con la columna *Dias entre riego zona seca*, ya que muestra bien qué tiene que ser regado con más o menos frecuencia, que es lo que interesa)."
      ],
      "metadata": {
        "id": "3XwN5zgdUGpM"
      }
    },
    {
      "cell_type": "code",
      "source": [
        "agroanalisis.drop(axis=1, labels=['Dias entre riego zona seca', 'Dias entre riego zona húmeda', 'Min siem-recol', 'Max siem-recol'], inplace=True)"
      ],
      "metadata": {
        "id": "j8TILxDsbyAm"
      },
      "execution_count": 12,
      "outputs": []
    },
    {
      "cell_type": "markdown",
      "source": [
        "También se comprobará si hay registros cuyo volumen vendido en el mes máximo de la recolección sea 0, ya que puede ocurrir que no se vendiesen piezas de un producto en ese mes concreto. En tal caso deben eliminarse.  \n",
        "Así, como ya se ha calculado el precio máximo de la recolección y su volumen, las columnas *price_mean* y *Volumen* quedan un poco obsoletas y pueden descartarse."
      ],
      "metadata": {
        "id": "ZB2TOLPAK7WV"
      }
    },
    {
      "cell_type": "code",
      "source": [
        "agroanalisis['Volumen_max_recolec'].describe()"
      ],
      "metadata": {
        "colab": {
          "base_uri": "https://localhost:8080/"
        },
        "id": "-LGU_JsklZHq",
        "outputId": "d078360b-f368-42e1-e092-50d546c31599"
      },
      "execution_count": 13,
      "outputs": [
        {
          "output_type": "execute_result",
          "data": {
            "text/plain": [
              "count    3.822000e+03\n",
              "mean     3.896903e+05\n",
              "std      1.066783e+06\n",
              "min      0.000000e+00\n",
              "25%      1.144100e+04\n",
              "50%      5.636800e+04\n",
              "75%      2.354790e+05\n",
              "max      1.452241e+07\n",
              "Name: Volumen_max_recolec, dtype: float64"
            ]
          },
          "metadata": {},
          "execution_count": 13
        }
      ]
    },
    {
      "cell_type": "code",
      "source": [
        "agroanalisis.drop(agroanalisis[agroanalisis['Volumen_max_recolec'] <= 0].index, inplace=True)\n",
        "agroanalisis.drop(labels=['price_mean', 'Volumen'], axis=1, inplace=True)\n"
      ],
      "metadata": {
        "id": "R9L00Bj6peoi"
      },
      "execution_count": 14,
      "outputs": []
    },
    {
      "cell_type": "markdown",
      "source": [
        "## 3. Línea de trabajo 1: ¿Cuál es el cultivo más rentable a sembrar?"
      ],
      "metadata": {
        "id": "ww6SlxGg3IKU"
      }
    },
    {
      "cell_type": "markdown",
      "source": [
        "### 3.1 Construcción del campo objetivo"
      ],
      "metadata": {
        "id": "EKep3I0TLo39"
      }
    },
    {
      "cell_type": "markdown",
      "source": [
        "A continuación, se creará una columna/característica en el *Dataframe*, que se corresponderá con la columna objetivo.  \n",
        "El objetivo es **etiquetar los 5 mejores cultivos** (con mejor se refiere a un cultivo con el precio de los más altos) por mes, comunidad y año de esa fila. Así, para una agrupación por mes, comunidad y año, solo 5 cultivos tendrán un valor 1 en la nueva columna *rentable*. \n",
        "Así, esta columna tomará valores 0 o 1, representando que es no rentable y rentable, respectivamente."
      ],
      "metadata": {
        "id": "a8opKxy6MKas"
      }
    },
    {
      "cell_type": "code",
      "source": [
        "agroanalisis['rentable'] = 0 # Creación de nueva columna, todos los valores 0\n",
        "agroanalisis.head()"
      ],
      "metadata": {
        "colab": {
          "base_uri": "https://localhost:8080/",
          "height": 288
        },
        "id": "77AsZ2QbqjHh",
        "outputId": "f01f72ea-140c-4244-d152-3366f474a56e"
      },
      "execution_count": 15,
      "outputs": [
        {
          "output_type": "execute_result",
          "data": {
            "text/html": [
              "\n",
              "  <div id=\"df-d3a291f4-b52e-49ce-9336-4933af77548a\">\n",
              "    <div class=\"colab-df-container\">\n",
              "      <div>\n",
              "<style scoped>\n",
              "    .dataframe tbody tr th:only-of-type {\n",
              "        vertical-align: middle;\n",
              "    }\n",
              "\n",
              "    .dataframe tbody tr th {\n",
              "        vertical-align: top;\n",
              "    }\n",
              "\n",
              "    .dataframe thead th {\n",
              "        text-align: right;\n",
              "    }\n",
              "</style>\n",
              "<table border=\"1\" class=\"dataframe\">\n",
              "  <thead>\n",
              "    <tr style=\"text-align: right;\">\n",
              "      <th></th>\n",
              "      <th>product</th>\n",
              "      <th>origen</th>\n",
              "      <th>YEAR</th>\n",
              "      <th>MONTH</th>\n",
              "      <th>temperatura</th>\n",
              "      <th>Precipitacion_group</th>\n",
              "      <th>Temperatura min req</th>\n",
              "      <th>Temperatura max req</th>\n",
              "      <th>Temperatura min opt</th>\n",
              "      <th>Temperatura max opt</th>\n",
              "      <th>distancia_mes_inicio_siem</th>\n",
              "      <th>distancia_mes_fin_siem</th>\n",
              "      <th>price_max_recolec</th>\n",
              "      <th>Volumen_max_recolec</th>\n",
              "      <th>MONTH_max_recolec</th>\n",
              "      <th>need_humidity_group</th>\n",
              "      <th>rentable</th>\n",
              "    </tr>\n",
              "  </thead>\n",
              "  <tbody>\n",
              "    <tr>\n",
              "      <th>5</th>\n",
              "      <td>ACELGA</td>\n",
              "      <td>Andalucia</td>\n",
              "      <td>2018</td>\n",
              "      <td>3</td>\n",
              "      <td>11.90</td>\n",
              "      <td>2.0</td>\n",
              "      <td>6.0</td>\n",
              "      <td>33.0</td>\n",
              "      <td>15.0</td>\n",
              "      <td>25.0</td>\n",
              "      <td>0.0</td>\n",
              "      <td>-2.0</td>\n",
              "      <td>1.035714</td>\n",
              "      <td>58905.0</td>\n",
              "      <td>6.0</td>\n",
              "      <td>0.0</td>\n",
              "      <td>0</td>\n",
              "    </tr>\n",
              "    <tr>\n",
              "      <th>7</th>\n",
              "      <td>ACELGA</td>\n",
              "      <td>Andalucia</td>\n",
              "      <td>2018</td>\n",
              "      <td>4</td>\n",
              "      <td>14.84</td>\n",
              "      <td>1.0</td>\n",
              "      <td>6.0</td>\n",
              "      <td>33.0</td>\n",
              "      <td>15.0</td>\n",
              "      <td>25.0</td>\n",
              "      <td>1.0</td>\n",
              "      <td>-1.0</td>\n",
              "      <td>0.725000</td>\n",
              "      <td>16570.0</td>\n",
              "      <td>7.0</td>\n",
              "      <td>0.0</td>\n",
              "      <td>0</td>\n",
              "    </tr>\n",
              "    <tr>\n",
              "      <th>9</th>\n",
              "      <td>ACELGA</td>\n",
              "      <td>Andalucia</td>\n",
              "      <td>2018</td>\n",
              "      <td>5</td>\n",
              "      <td>17.50</td>\n",
              "      <td>0.0</td>\n",
              "      <td>6.0</td>\n",
              "      <td>33.0</td>\n",
              "      <td>15.0</td>\n",
              "      <td>25.0</td>\n",
              "      <td>2.0</td>\n",
              "      <td>0.0</td>\n",
              "      <td>0.529167</td>\n",
              "      <td>35470.0</td>\n",
              "      <td>8.0</td>\n",
              "      <td>0.0</td>\n",
              "      <td>0</td>\n",
              "    </tr>\n",
              "    <tr>\n",
              "      <th>18</th>\n",
              "      <td>ACELGA</td>\n",
              "      <td>Andalucia</td>\n",
              "      <td>2018</td>\n",
              "      <td>10</td>\n",
              "      <td>18.05</td>\n",
              "      <td>1.0</td>\n",
              "      <td>6.0</td>\n",
              "      <td>33.0</td>\n",
              "      <td>15.0</td>\n",
              "      <td>25.0</td>\n",
              "      <td>1.0</td>\n",
              "      <td>-1.0</td>\n",
              "      <td>0.880000</td>\n",
              "      <td>61704.0</td>\n",
              "      <td>1.0</td>\n",
              "      <td>0.0</td>\n",
              "      <td>0</td>\n",
              "    </tr>\n",
              "    <tr>\n",
              "      <th>20</th>\n",
              "      <td>ACELGA</td>\n",
              "      <td>Andalucia</td>\n",
              "      <td>2018</td>\n",
              "      <td>11</td>\n",
              "      <td>13.19</td>\n",
              "      <td>1.0</td>\n",
              "      <td>6.0</td>\n",
              "      <td>33.0</td>\n",
              "      <td>15.0</td>\n",
              "      <td>25.0</td>\n",
              "      <td>2.0</td>\n",
              "      <td>0.0</td>\n",
              "      <td>0.682381</td>\n",
              "      <td>106154.0</td>\n",
              "      <td>2.0</td>\n",
              "      <td>0.0</td>\n",
              "      <td>0</td>\n",
              "    </tr>\n",
              "  </tbody>\n",
              "</table>\n",
              "</div>\n",
              "      <button class=\"colab-df-convert\" onclick=\"convertToInteractive('df-d3a291f4-b52e-49ce-9336-4933af77548a')\"\n",
              "              title=\"Convert this dataframe to an interactive table.\"\n",
              "              style=\"display:none;\">\n",
              "        \n",
              "  <svg xmlns=\"http://www.w3.org/2000/svg\" height=\"24px\"viewBox=\"0 0 24 24\"\n",
              "       width=\"24px\">\n",
              "    <path d=\"M0 0h24v24H0V0z\" fill=\"none\"/>\n",
              "    <path d=\"M18.56 5.44l.94 2.06.94-2.06 2.06-.94-2.06-.94-.94-2.06-.94 2.06-2.06.94zm-11 1L8.5 8.5l.94-2.06 2.06-.94-2.06-.94L8.5 2.5l-.94 2.06-2.06.94zm10 10l.94 2.06.94-2.06 2.06-.94-2.06-.94-.94-2.06-.94 2.06-2.06.94z\"/><path d=\"M17.41 7.96l-1.37-1.37c-.4-.4-.92-.59-1.43-.59-.52 0-1.04.2-1.43.59L10.3 9.45l-7.72 7.72c-.78.78-.78 2.05 0 2.83L4 21.41c.39.39.9.59 1.41.59.51 0 1.02-.2 1.41-.59l7.78-7.78 2.81-2.81c.8-.78.8-2.07 0-2.86zM5.41 20L4 18.59l7.72-7.72 1.47 1.35L5.41 20z\"/>\n",
              "  </svg>\n",
              "      </button>\n",
              "      \n",
              "  <style>\n",
              "    .colab-df-container {\n",
              "      display:flex;\n",
              "      flex-wrap:wrap;\n",
              "      gap: 12px;\n",
              "    }\n",
              "\n",
              "    .colab-df-convert {\n",
              "      background-color: #E8F0FE;\n",
              "      border: none;\n",
              "      border-radius: 50%;\n",
              "      cursor: pointer;\n",
              "      display: none;\n",
              "      fill: #1967D2;\n",
              "      height: 32px;\n",
              "      padding: 0 0 0 0;\n",
              "      width: 32px;\n",
              "    }\n",
              "\n",
              "    .colab-df-convert:hover {\n",
              "      background-color: #E2EBFA;\n",
              "      box-shadow: 0px 1px 2px rgba(60, 64, 67, 0.3), 0px 1px 3px 1px rgba(60, 64, 67, 0.15);\n",
              "      fill: #174EA6;\n",
              "    }\n",
              "\n",
              "    [theme=dark] .colab-df-convert {\n",
              "      background-color: #3B4455;\n",
              "      fill: #D2E3FC;\n",
              "    }\n",
              "\n",
              "    [theme=dark] .colab-df-convert:hover {\n",
              "      background-color: #434B5C;\n",
              "      box-shadow: 0px 1px 3px 1px rgba(0, 0, 0, 0.15);\n",
              "      filter: drop-shadow(0px 1px 2px rgba(0, 0, 0, 0.3));\n",
              "      fill: #FFFFFF;\n",
              "    }\n",
              "  </style>\n",
              "\n",
              "      <script>\n",
              "        const buttonEl =\n",
              "          document.querySelector('#df-d3a291f4-b52e-49ce-9336-4933af77548a button.colab-df-convert');\n",
              "        buttonEl.style.display =\n",
              "          google.colab.kernel.accessAllowed ? 'block' : 'none';\n",
              "\n",
              "        async function convertToInteractive(key) {\n",
              "          const element = document.querySelector('#df-d3a291f4-b52e-49ce-9336-4933af77548a');\n",
              "          const dataTable =\n",
              "            await google.colab.kernel.invokeFunction('convertToInteractive',\n",
              "                                                     [key], {});\n",
              "          if (!dataTable) return;\n",
              "\n",
              "          const docLinkHtml = 'Like what you see? Visit the ' +\n",
              "            '<a target=\"_blank\" href=https://colab.research.google.com/notebooks/data_table.ipynb>data table notebook</a>'\n",
              "            + ' to learn more about interactive tables.';\n",
              "          element.innerHTML = '';\n",
              "          dataTable['output_type'] = 'display_data';\n",
              "          await google.colab.output.renderOutput(dataTable, element);\n",
              "          const docLink = document.createElement('div');\n",
              "          docLink.innerHTML = docLinkHtml;\n",
              "          element.appendChild(docLink);\n",
              "        }\n",
              "      </script>\n",
              "    </div>\n",
              "  </div>\n",
              "  "
            ],
            "text/plain": [
              "   product     origen  YEAR  ...  MONTH_max_recolec  need_humidity_group  rentable\n",
              "5   ACELGA  Andalucia  2018  ...                6.0                  0.0         0\n",
              "7   ACELGA  Andalucia  2018  ...                7.0                  0.0         0\n",
              "9   ACELGA  Andalucia  2018  ...                8.0                  0.0         0\n",
              "18  ACELGA  Andalucia  2018  ...                1.0                  0.0         0\n",
              "20  ACELGA  Andalucia  2018  ...                2.0                  0.0         0\n",
              "\n",
              "[5 rows x 17 columns]"
            ]
          },
          "metadata": {},
          "execution_count": 15
        }
      ]
    },
    {
      "cell_type": "markdown",
      "source": [
        "A continuación, se irá iterando por filas teniendo en cuenta las posibles variaciones de origen, año y mes. Estas se ordenarán por *price_max_recolec* (de mayor a menor), y se tomarán las 5 primeras filas, correspondientes a los 5 cultivos más rentables. En esas filas se pondrá un valor 1 en la nueva característica *rentable*."
      ],
      "metadata": {
        "id": "wMHYLC2-PVD8"
      }
    },
    {
      "cell_type": "code",
      "source": [
        "with warnings.catch_warnings():\n",
        "  warnings.filterwarnings('ignore')\n",
        "  for origen, year, month in itertools.product(agroanalisis['origen'].unique(), agroanalisis['YEAR'].unique(), agroanalisis['MONTH'].unique()):\n",
        "    result = agroanalisis[(agroanalisis['origen'] == origen) & \\\n",
        "                    (agroanalisis['YEAR'] == year) & (agroanalisis['MONTH'] == month)]\n",
        "    if len(result) > 0:\n",
        "      result.sort_values('price_max_recolec', axis=0, ascending=False, inplace=True)\n",
        "      agroanalisis.loc[(agroanalisis['origen'] == origen) & \\\n",
        "                      (agroanalisis['YEAR'] == year) & \\\n",
        "                      (agroanalisis['MONTH'] == month) & \n",
        "                      (agroanalisis['price_max_recolec'] >= list(result['price_max_recolec'][:5])[-1]), 'rentable' ] = 1\n"
      ],
      "metadata": {
        "id": "SwUqsPrkrUFB"
      },
      "execution_count": 16,
      "outputs": []
    },
    {
      "cell_type": "markdown",
      "source": [
        "### 3.2 Preparación de datos para el modelo"
      ],
      "metadata": {
        "id": "-aQqfyOXQ77E"
      }
    },
    {
      "cell_type": "markdown",
      "source": [
        "Se aplicará un modelo de clasificación de RandomForests.  \n",
        "Para ello, primero será necesario comprobar que no nos enfrentamos a un problema desbalanceado. Esta comprobación se realizará mediante el recuento de valores de cada tipo en la columna *rentable*."
      ],
      "metadata": {
        "id": "Y3PJh9z4RC-L"
      }
    },
    {
      "cell_type": "code",
      "source": [
        "sns.set(style='darkgrid')\n",
        "\n",
        "print(agroanalisis.groupby('rentable').size())\n",
        "   \n",
        "sns.catplot(x='rentable', data=agroanalisis, kind='count')"
      ],
      "metadata": {
        "colab": {
          "base_uri": "https://localhost:8080/",
          "height": 452
        },
        "id": "fU0Qhq9mzTgD",
        "outputId": "069fcfe1-699d-4e53-b442-13f7f4bb987c"
      },
      "execution_count": 17,
      "outputs": [
        {
          "output_type": "stream",
          "name": "stdout",
          "text": [
            "rentable\n",
            "0    2054\n",
            "1    1763\n",
            "dtype: int64\n"
          ]
        },
        {
          "output_type": "execute_result",
          "data": {
            "text/plain": [
              "<seaborn.axisgrid.FacetGrid at 0x7f5a52d8c2d0>"
            ]
          },
          "metadata": {},
          "execution_count": 17
        },
        {
          "output_type": "display_data",
          "data": {
            "image/png": "[encoded data removed]",
            "text/plain": [
              "<Figure size 360x360 with 1 Axes>"
            ]
          },
          "metadata": {}
        }
      ]
    },
    {
      "cell_type": "markdown",
      "source": [
        "Como se puede comprobar, se encuentra bastante balanceado y no es necesario aplicar ninguna transformación."
      ],
      "metadata": {
        "id": "uVbv5xs1RjCj"
      }
    },
    {
      "cell_type": "markdown",
      "source": [
        "##### 3.2.1 OneHot Encoding"
      ],
      "metadata": {
        "id": "tZ0ZvP1eRQU1"
      }
    },
    {
      "cell_type": "markdown",
      "source": [
        "En el *dataframe* existen datos de tipo categórico, los cuales pueden resultar problemáticos a la hora de aplicar el modelo de clasificación. Por ello, se ha decidido aplicar un **encoding** a este tipo de datos. Más concretamente, se ha decidido utilizar el **OneHot**, ya que otro tipo de encoding podría acarrear relaciones numéricas entre datos que realmente no poseen ningún tipo de orden."
      ],
      "metadata": {
        "id": "AfmfJoLGRpfE"
      }
    },
    {
      "cell_type": "markdown",
      "source": [
        "Se aplicará a los campos *product* y *origen*."
      ],
      "metadata": {
        "id": "h6t_jxncSTSb"
      }
    },
    {
      "cell_type": "code",
      "source": [
        "# OneHot de product\n",
        "df_OneHot = pd.get_dummies(agroanalisis[['product']])\n",
        "agroanalisis = pd.concat([agroanalisis, df_OneHot], axis = 1)"
      ],
      "metadata": {
        "id": "-FxcNDSoE2mM"
      },
      "execution_count": 18,
      "outputs": []
    },
    {
      "cell_type": "code",
      "source": [
        "# OneHot de origen\n",
        "df_OneHot = pd.get_dummies(agroanalisis[['origen']])\n",
        "agroanalisis = pd.concat([agroanalisis, df_OneHot], axis = 1)"
      ],
      "metadata": {
        "id": "Sc01sKdEGMm1"
      },
      "execution_count": 19,
      "outputs": []
    },
    {
      "cell_type": "code",
      "source": [
        "# Descarte de columnas no numéricas\n",
        "agroanalisis.drop(labels=['product', 'origen'], axis=1, inplace=True)\n",
        "agroanalisis.head()"
      ],
      "metadata": {
        "colab": {
          "base_uri": "https://localhost:8080/",
          "height": 288
        },
        "id": "XcxqH-4bF9Cz",
        "outputId": "dc0e85d5-f3bf-43a7-e16c-5289be535ed4"
      },
      "execution_count": 20,
      "outputs": [
        {
          "output_type": "execute_result",
          "data": {
            "text/html": [
              "\n",
              "  <div id=\"df-de50b9bf-724d-4da2-b9ac-c5dce71997cc\">\n",
              "    <div class=\"colab-df-container\">\n",
              "      <div>\n",
              "<style scoped>\n",
              "    .dataframe tbody tr th:only-of-type {\n",
              "        vertical-align: middle;\n",
              "    }\n",
              "\n",
              "    .dataframe tbody tr th {\n",
              "        vertical-align: top;\n",
              "    }\n",
              "\n",
              "    .dataframe thead th {\n",
              "        text-align: right;\n",
              "    }\n",
              "</style>\n",
              "<table border=\"1\" class=\"dataframe\">\n",
              "  <thead>\n",
              "    <tr style=\"text-align: right;\">\n",
              "      <th></th>\n",
              "      <th>YEAR</th>\n",
              "      <th>MONTH</th>\n",
              "      <th>temperatura</th>\n",
              "      <th>Precipitacion_group</th>\n",
              "      <th>Temperatura min req</th>\n",
              "      <th>Temperatura max req</th>\n",
              "      <th>Temperatura min opt</th>\n",
              "      <th>Temperatura max opt</th>\n",
              "      <th>distancia_mes_inicio_siem</th>\n",
              "      <th>distancia_mes_fin_siem</th>\n",
              "      <th>price_max_recolec</th>\n",
              "      <th>Volumen_max_recolec</th>\n",
              "      <th>MONTH_max_recolec</th>\n",
              "      <th>need_humidity_group</th>\n",
              "      <th>rentable</th>\n",
              "      <th>product_ACELGA</th>\n",
              "      <th>product_AJO</th>\n",
              "      <th>product_ALCACHOFA</th>\n",
              "      <th>product_APIO</th>\n",
              "      <th>product_BERENJENA</th>\n",
              "      <th>product_BROCOLI</th>\n",
              "      <th>product_CALABACIN</th>\n",
              "      <th>product_CALABAZA</th>\n",
              "      <th>product_CEBOLLA</th>\n",
              "      <th>product_CEBOLLETA</th>\n",
              "      <th>product_CHIRIVIA</th>\n",
              "      <th>product_COL BRUSELAS</th>\n",
              "      <th>product_COL CHINA</th>\n",
              "      <th>product_COL LOMBARDA</th>\n",
              "      <th>product_COL REPOLLO</th>\n",
              "      <th>product_COLIFLOR</th>\n",
              "      <th>product_ESCAROLA</th>\n",
              "      <th>product_ESPINACA</th>\n",
              "      <th>product_GUISANTE</th>\n",
              "      <th>product_HABA</th>\n",
              "      <th>product_JUDIA</th>\n",
              "      <th>product_LECHUGA</th>\n",
              "      <th>product_MAIZ</th>\n",
              "      <th>product_MELON</th>\n",
              "      <th>product_NABO</th>\n",
              "      <th>product_PATATA</th>\n",
              "      <th>product_PEPINO</th>\n",
              "      <th>product_PEREJIL</th>\n",
              "      <th>product_PIMIENTO</th>\n",
              "      <th>product_PUERRO</th>\n",
              "      <th>product_RABANITO</th>\n",
              "      <th>product_REMOLACHA</th>\n",
              "      <th>product_SANDIA</th>\n",
              "      <th>product_TOMATE</th>\n",
              "      <th>product_ZANAHORIA</th>\n",
              "      <th>origen_Andalucia</th>\n",
              "      <th>origen_Aragon</th>\n",
              "      <th>origen_Asturias</th>\n",
              "      <th>origen_Baleares</th>\n",
              "      <th>origen_Canarias</th>\n",
              "      <th>origen_Cantabria</th>\n",
              "      <th>origen_Castilla La Mancha</th>\n",
              "      <th>origen_Castilla Leon</th>\n",
              "      <th>origen_Cataluña</th>\n",
              "      <th>origen_Extremadura</th>\n",
              "      <th>origen_Galicia</th>\n",
              "      <th>origen_La Rioja</th>\n",
              "      <th>origen_Madrid</th>\n",
              "      <th>origen_Murcia</th>\n",
              "      <th>origen_Navarra</th>\n",
              "      <th>origen_Pais Vasco</th>\n",
              "      <th>origen_Valencia</th>\n",
              "    </tr>\n",
              "  </thead>\n",
              "  <tbody>\n",
              "    <tr>\n",
              "      <th>5</th>\n",
              "      <td>2018</td>\n",
              "      <td>3</td>\n",
              "      <td>11.90</td>\n",
              "      <td>2.0</td>\n",
              "      <td>6.0</td>\n",
              "      <td>33.0</td>\n",
              "      <td>15.0</td>\n",
              "      <td>25.0</td>\n",
              "      <td>0.0</td>\n",
              "      <td>-2.0</td>\n",
              "      <td>1.035714</td>\n",
              "      <td>58905.0</td>\n",
              "      <td>6.0</td>\n",
              "      <td>0.0</td>\n",
              "      <td>0</td>\n",
              "      <td>1</td>\n",
              "      <td>0</td>\n",
              "      <td>0</td>\n",
              "      <td>0</td>\n",
              "      <td>0</td>\n",
              "      <td>0</td>\n",
              "      <td>0</td>\n",
              "      <td>0</td>\n",
              "      <td>0</td>\n",
              "      <td>0</td>\n",
              "      <td>0</td>\n",
              "      <td>0</td>\n",
              "      <td>0</td>\n",
              "      <td>0</td>\n",
              "      <td>0</td>\n",
              "      <td>0</td>\n",
              "      <td>0</td>\n",
              "      <td>0</td>\n",
              "      <td>0</td>\n",
              "      <td>0</td>\n",
              "      <td>0</td>\n",
              "      <td>0</td>\n",
              "      <td>0</td>\n",
              "      <td>0</td>\n",
              "      <td>0</td>\n",
              "      <td>0</td>\n",
              "      <td>0</td>\n",
              "      <td>0</td>\n",
              "      <td>0</td>\n",
              "      <td>0</td>\n",
              "      <td>0</td>\n",
              "      <td>0</td>\n",
              "      <td>0</td>\n",
              "      <td>0</td>\n",
              "      <td>0</td>\n",
              "      <td>1</td>\n",
              "      <td>0</td>\n",
              "      <td>0</td>\n",
              "      <td>0</td>\n",
              "      <td>0</td>\n",
              "      <td>0</td>\n",
              "      <td>0</td>\n",
              "      <td>0</td>\n",
              "      <td>0</td>\n",
              "      <td>0</td>\n",
              "      <td>0</td>\n",
              "      <td>0</td>\n",
              "      <td>0</td>\n",
              "      <td>0</td>\n",
              "      <td>0</td>\n",
              "      <td>0</td>\n",
              "      <td>0</td>\n",
              "    </tr>\n",
              "    <tr>\n",
              "      <th>7</th>\n",
              "      <td>2018</td>\n",
              "      <td>4</td>\n",
              "      <td>14.84</td>\n",
              "      <td>1.0</td>\n",
              "      <td>6.0</td>\n",
              "      <td>33.0</td>\n",
              "      <td>15.0</td>\n",
              "      <td>25.0</td>\n",
              "      <td>1.0</td>\n",
              "      <td>-1.0</td>\n",
              "      <td>0.725000</td>\n",
              "      <td>16570.0</td>\n",
              "      <td>7.0</td>\n",
              "      <td>0.0</td>\n",
              "      <td>0</td>\n",
              "      <td>1</td>\n",
              "      <td>0</td>\n",
              "      <td>0</td>\n",
              "      <td>0</td>\n",
              "      <td>0</td>\n",
              "      <td>0</td>\n",
              "      <td>0</td>\n",
              "      <td>0</td>\n",
              "      <td>0</td>\n",
              "      <td>0</td>\n",
              "      <td>0</td>\n",
              "      <td>0</td>\n",
              "      <td>0</td>\n",
              "      <td>0</td>\n",
              "      <td>0</td>\n",
              "      <td>0</td>\n",
              "      <td>0</td>\n",
              "      <td>0</td>\n",
              "      <td>0</td>\n",
              "      <td>0</td>\n",
              "      <td>0</td>\n",
              "      <td>0</td>\n",
              "      <td>0</td>\n",
              "      <td>0</td>\n",
              "      <td>0</td>\n",
              "      <td>0</td>\n",
              "      <td>0</td>\n",
              "      <td>0</td>\n",
              "      <td>0</td>\n",
              "      <td>0</td>\n",
              "      <td>0</td>\n",
              "      <td>0</td>\n",
              "      <td>0</td>\n",
              "      <td>0</td>\n",
              "      <td>0</td>\n",
              "      <td>1</td>\n",
              "      <td>0</td>\n",
              "      <td>0</td>\n",
              "      <td>0</td>\n",
              "      <td>0</td>\n",
              "      <td>0</td>\n",
              "      <td>0</td>\n",
              "      <td>0</td>\n",
              "      <td>0</td>\n",
              "      <td>0</td>\n",
              "      <td>0</td>\n",
              "      <td>0</td>\n",
              "      <td>0</td>\n",
              "      <td>0</td>\n",
              "      <td>0</td>\n",
              "      <td>0</td>\n",
              "      <td>0</td>\n",
              "    </tr>\n",
              "    <tr>\n",
              "      <th>9</th>\n",
              "      <td>2018</td>\n",
              "      <td>5</td>\n",
              "      <td>17.50</td>\n",
              "      <td>0.0</td>\n",
              "      <td>6.0</td>\n",
              "      <td>33.0</td>\n",
              "      <td>15.0</td>\n",
              "      <td>25.0</td>\n",
              "      <td>2.0</td>\n",
              "      <td>0.0</td>\n",
              "      <td>0.529167</td>\n",
              "      <td>35470.0</td>\n",
              "      <td>8.0</td>\n",
              "      <td>0.0</td>\n",
              "      <td>0</td>\n",
              "      <td>1</td>\n",
              "      <td>0</td>\n",
              "      <td>0</td>\n",
              "      <td>0</td>\n",
              "      <td>0</td>\n",
              "      <td>0</td>\n",
              "      <td>0</td>\n",
              "      <td>0</td>\n",
              "      <td>0</td>\n",
              "      <td>0</td>\n",
              "      <td>0</td>\n",
              "      <td>0</td>\n",
              "      <td>0</td>\n",
              "      <td>0</td>\n",
              "      <td>0</td>\n",
              "      <td>0</td>\n",
              "      <td>0</td>\n",
              "      <td>0</td>\n",
              "      <td>0</td>\n",
              "      <td>0</td>\n",
              "      <td>0</td>\n",
              "      <td>0</td>\n",
              "      <td>0</td>\n",
              "      <td>0</td>\n",
              "      <td>0</td>\n",
              "      <td>0</td>\n",
              "      <td>0</td>\n",
              "      <td>0</td>\n",
              "      <td>0</td>\n",
              "      <td>0</td>\n",
              "      <td>0</td>\n",
              "      <td>0</td>\n",
              "      <td>0</td>\n",
              "      <td>0</td>\n",
              "      <td>0</td>\n",
              "      <td>1</td>\n",
              "      <td>0</td>\n",
              "      <td>0</td>\n",
              "      <td>0</td>\n",
              "      <td>0</td>\n",
              "      <td>0</td>\n",
              "      <td>0</td>\n",
              "      <td>0</td>\n",
              "      <td>0</td>\n",
              "      <td>0</td>\n",
              "      <td>0</td>\n",
              "      <td>0</td>\n",
              "      <td>0</td>\n",
              "      <td>0</td>\n",
              "      <td>0</td>\n",
              "      <td>0</td>\n",
              "      <td>0</td>\n",
              "    </tr>\n",
              "    <tr>\n",
              "      <th>18</th>\n",
              "      <td>2018</td>\n",
              "      <td>10</td>\n",
              "      <td>18.05</td>\n",
              "      <td>1.0</td>\n",
              "      <td>6.0</td>\n",
              "      <td>33.0</td>\n",
              "      <td>15.0</td>\n",
              "      <td>25.0</td>\n",
              "      <td>1.0</td>\n",
              "      <td>-1.0</td>\n",
              "      <td>0.880000</td>\n",
              "      <td>61704.0</td>\n",
              "      <td>1.0</td>\n",
              "      <td>0.0</td>\n",
              "      <td>0</td>\n",
              "      <td>1</td>\n",
              "      <td>0</td>\n",
              "      <td>0</td>\n",
              "      <td>0</td>\n",
              "      <td>0</td>\n",
              "      <td>0</td>\n",
              "      <td>0</td>\n",
              "      <td>0</td>\n",
              "      <td>0</td>\n",
              "      <td>0</td>\n",
              "      <td>0</td>\n",
              "      <td>0</td>\n",
              "      <td>0</td>\n",
              "      <td>0</td>\n",
              "      <td>0</td>\n",
              "      <td>0</td>\n",
              "      <td>0</td>\n",
              "      <td>0</td>\n",
              "      <td>0</td>\n",
              "      <td>0</td>\n",
              "      <td>0</td>\n",
              "      <td>0</td>\n",
              "      <td>0</td>\n",
              "      <td>0</td>\n",
              "      <td>0</td>\n",
              "      <td>0</td>\n",
              "      <td>0</td>\n",
              "      <td>0</td>\n",
              "      <td>0</td>\n",
              "      <td>0</td>\n",
              "      <td>0</td>\n",
              "      <td>0</td>\n",
              "      <td>0</td>\n",
              "      <td>0</td>\n",
              "      <td>0</td>\n",
              "      <td>1</td>\n",
              "      <td>0</td>\n",
              "      <td>0</td>\n",
              "      <td>0</td>\n",
              "      <td>0</td>\n",
              "      <td>0</td>\n",
              "      <td>0</td>\n",
              "      <td>0</td>\n",
              "      <td>0</td>\n",
              "      <td>0</td>\n",
              "      <td>0</td>\n",
              "      <td>0</td>\n",
              "      <td>0</td>\n",
              "      <td>0</td>\n",
              "      <td>0</td>\n",
              "      <td>0</td>\n",
              "      <td>0</td>\n",
              "    </tr>\n",
              "    <tr>\n",
              "      <th>20</th>\n",
              "      <td>2018</td>\n",
              "      <td>11</td>\n",
              "      <td>13.19</td>\n",
              "      <td>1.0</td>\n",
              "      <td>6.0</td>\n",
              "      <td>33.0</td>\n",
              "      <td>15.0</td>\n",
              "      <td>25.0</td>\n",
              "      <td>2.0</td>\n",
              "      <td>0.0</td>\n",
              "      <td>0.682381</td>\n",
              "      <td>106154.0</td>\n",
              "      <td>2.0</td>\n",
              "      <td>0.0</td>\n",
              "      <td>0</td>\n",
              "      <td>1</td>\n",
              "      <td>0</td>\n",
              "      <td>0</td>\n",
              "      <td>0</td>\n",
              "      <td>0</td>\n",
              "      <td>0</td>\n",
              "      <td>0</td>\n",
              "      <td>0</td>\n",
              "      <td>0</td>\n",
              "      <td>0</td>\n",
              "      <td>0</td>\n",
              "      <td>0</td>\n",
              "      <td>0</td>\n",
              "      <td>0</td>\n",
              "      <td>0</td>\n",
              "      <td>0</td>\n",
              "      <td>0</td>\n",
              "      <td>0</td>\n",
              "      <td>0</td>\n",
              "      <td>0</td>\n",
              "      <td>0</td>\n",
              "      <td>0</td>\n",
              "      <td>0</td>\n",
              "      <td>0</td>\n",
              "      <td>0</td>\n",
              "      <td>0</td>\n",
              "      <td>0</td>\n",
              "      <td>0</td>\n",
              "      <td>0</td>\n",
              "      <td>0</td>\n",
              "      <td>0</td>\n",
              "      <td>0</td>\n",
              "      <td>0</td>\n",
              "      <td>0</td>\n",
              "      <td>0</td>\n",
              "      <td>1</td>\n",
              "      <td>0</td>\n",
              "      <td>0</td>\n",
              "      <td>0</td>\n",
              "      <td>0</td>\n",
              "      <td>0</td>\n",
              "      <td>0</td>\n",
              "      <td>0</td>\n",
              "      <td>0</td>\n",
              "      <td>0</td>\n",
              "      <td>0</td>\n",
              "      <td>0</td>\n",
              "      <td>0</td>\n",
              "      <td>0</td>\n",
              "      <td>0</td>\n",
              "      <td>0</td>\n",
              "      <td>0</td>\n",
              "    </tr>\n",
              "  </tbody>\n",
              "</table>\n",
              "</div>\n",
              "      <button class=\"colab-df-convert\" onclick=\"convertToInteractive('df-de50b9bf-724d-4da2-b9ac-c5dce71997cc')\"\n",
              "              title=\"Convert this dataframe to an interactive table.\"\n",
              "              style=\"display:none;\">\n",
              "        \n",
              "  <svg xmlns=\"http://www.w3.org/2000/svg\" height=\"24px\"viewBox=\"0 0 24 24\"\n",
              "       width=\"24px\">\n",
              "    <path d=\"M0 0h24v24H0V0z\" fill=\"none\"/>\n",
              "    <path d=\"M18.56 5.44l.94 2.06.94-2.06 2.06-.94-2.06-.94-.94-2.06-.94 2.06-2.06.94zm-11 1L8.5 8.5l.94-2.06 2.06-.94-2.06-.94L8.5 2.5l-.94 2.06-2.06.94zm10 10l.94 2.06.94-2.06 2.06-.94-2.06-.94-.94-2.06-.94 2.06-2.06.94z\"/><path d=\"M17.41 7.96l-1.37-1.37c-.4-.4-.92-.59-1.43-.59-.52 0-1.04.2-1.43.59L10.3 9.45l-7.72 7.72c-.78.78-.78 2.05 0 2.83L4 21.41c.39.39.9.59 1.41.59.51 0 1.02-.2 1.41-.59l7.78-7.78 2.81-2.81c.8-.78.8-2.07 0-2.86zM5.41 20L4 18.59l7.72-7.72 1.47 1.35L5.41 20z\"/>\n",
              "  </svg>\n",
              "      </button>\n",
              "      \n",
              "  <style>\n",
              "    .colab-df-container {\n",
              "      display:flex;\n",
              "      flex-wrap:wrap;\n",
              "      gap: 12px;\n",
              "    }\n",
              "\n",
              "    .colab-df-convert {\n",
              "      background-color: #E8F0FE;\n",
              "      border: none;\n",
              "      border-radius: 50%;\n",
              "      cursor: pointer;\n",
              "      display: none;\n",
              "      fill: #1967D2;\n",
              "      height: 32px;\n",
              "      padding: 0 0 0 0;\n",
              "      width: 32px;\n",
              "    }\n",
              "\n",
              "    .colab-df-convert:hover {\n",
              "      background-color: #E2EBFA;\n",
              "      box-shadow: 0px 1px 2px rgba(60, 64, 67, 0.3), 0px 1px 3px 1px rgba(60, 64, 67, 0.15);\n",
              "      fill: #174EA6;\n",
              "    }\n",
              "\n",
              "    [theme=dark] .colab-df-convert {\n",
              "      background-color: #3B4455;\n",
              "      fill: #D2E3FC;\n",
              "    }\n",
              "\n",
              "    [theme=dark] .colab-df-convert:hover {\n",
              "      background-color: #434B5C;\n",
              "      box-shadow: 0px 1px 3px 1px rgba(0, 0, 0, 0.15);\n",
              "      filter: drop-shadow(0px 1px 2px rgba(0, 0, 0, 0.3));\n",
              "      fill: #FFFFFF;\n",
              "    }\n",
              "  </style>\n",
              "\n",
              "      <script>\n",
              "        const buttonEl =\n",
              "          document.querySelector('#df-de50b9bf-724d-4da2-b9ac-c5dce71997cc button.colab-df-convert');\n",
              "        buttonEl.style.display =\n",
              "          google.colab.kernel.accessAllowed ? 'block' : 'none';\n",
              "\n",
              "        async function convertToInteractive(key) {\n",
              "          const element = document.querySelector('#df-de50b9bf-724d-4da2-b9ac-c5dce71997cc');\n",
              "          const dataTable =\n",
              "            await google.colab.kernel.invokeFunction('convertToInteractive',\n",
              "                                                     [key], {});\n",
              "          if (!dataTable) return;\n",
              "\n",
              "          const docLinkHtml = 'Like what you see? Visit the ' +\n",
              "            '<a target=\"_blank\" href=https://colab.research.google.com/notebooks/data_table.ipynb>data table notebook</a>'\n",
              "            + ' to learn more about interactive tables.';\n",
              "          element.innerHTML = '';\n",
              "          dataTable['output_type'] = 'display_data';\n",
              "          await google.colab.output.renderOutput(dataTable, element);\n",
              "          const docLink = document.createElement('div');\n",
              "          docLink.innerHTML = docLinkHtml;\n",
              "          element.appendChild(docLink);\n",
              "        }\n",
              "      </script>\n",
              "    </div>\n",
              "  </div>\n",
              "  "
            ],
            "text/plain": [
              "    YEAR  MONTH  ...  origen_Pais Vasco  origen_Valencia\n",
              "5   2018      3  ...                  0                0\n",
              "7   2018      4  ...                  0                0\n",
              "9   2018      5  ...                  0                0\n",
              "18  2018     10  ...                  0                0\n",
              "20  2018     11  ...                  0                0\n",
              "\n",
              "[5 rows x 67 columns]"
            ]
          },
          "metadata": {},
          "execution_count": 20
        }
      ]
    },
    {
      "cell_type": "code",
      "source": [
        "agroanalisis.shape"
      ],
      "metadata": {
        "colab": {
          "base_uri": "https://localhost:8080/"
        },
        "id": "kjYa3P-eS67G",
        "outputId": "717be5ad-7c87-441f-9ed5-58657dcea540"
      },
      "execution_count": 21,
      "outputs": [
        {
          "output_type": "execute_result",
          "data": {
            "text/plain": [
              "(3817, 67)"
            ]
          },
          "metadata": {},
          "execution_count": 21
        }
      ]
    },
    {
      "cell_type": "markdown",
      "source": [
        "### 3.3 Aplicación de modelo de clasificación"
      ],
      "metadata": {
        "id": "mzbjqllqL3Fi"
      }
    },
    {
      "cell_type": "markdown",
      "source": [
        "Se usará el algoritmo **RandomForest**.  \n",
        "Además, se utilizará **cross-validation**.  \n",
        "En la división del dataset para datos de entrenamiento y test, se descartarán la columna objetivo *rentable*, así como *price_max_recolec* y *Volumen_max_recolec* puesto que a la hora de realizar la predicción no se dispondrá de estos valores a priori."
      ],
      "metadata": {
        "id": "kJ1BQodZU8us"
      }
    },
    {
      "cell_type": "code",
      "source": [
        "X = list(agroanalisis.columns)\n",
        "X.remove('rentable')\n",
        "X.remove('YEAR')\n",
        "X.remove('price_max_recolec')\n",
        "X.remove('Volumen_max_recolec')\n",
        "X = agroanalisis[X]\n",
        "y = agroanalisis['rentable']\n",
        "\n",
        "X_train, X_test, y_train, y_test = train_test_split( X, y, test_size=0.30, random_state=42)"
      ],
      "metadata": {
        "id": "cZpfiptI1tUa"
      },
      "execution_count": 22,
      "outputs": []
    },
    {
      "cell_type": "code",
      "source": [
        "cv = KFold(n_splits = 5, shuffle = True, random_state=0)\n",
        "\n",
        "fold_accuracy = []\n",
        "rndfor = ensemble.RandomForestClassifier(n_estimators=1000, random_state=0)\n",
        "for train_fold, test_fold in cv.split(X_train):\n",
        "  # División train test aleatoria\n",
        "  fx_train = X_train.iloc[train_fold]\n",
        "  fy_train = y_train.iloc[train_fold]\n",
        "  fx_test = X_train.iloc[test_fold]\n",
        "  fy_test = y_train.iloc[test_fold]\n",
        "  # entrenamiento y ejecución del modelo\n",
        "  rndfor.fit( X = fx_train, y = fy_train)\n",
        "  fy_pred = rndfor.predict(X = fx_test)\n",
        "  # evaluación del modelo\n",
        "  acc = accuracy_score(fy_test, fy_pred)\n",
        "  fold_accuracy.append(acc)\n",
        "total_scores = sum(fold_accuracy)/len(fold_accuracy)\n",
        "\n",
        "print(total_scores)\n"
      ],
      "metadata": {
        "colab": {
          "base_uri": "https://localhost:8080/"
        },
        "id": "x3u2Rmpi3n6z",
        "outputId": "681c815a-df95-4ac3-c131-9bf94be95ca7"
      },
      "execution_count": 23,
      "outputs": [
        {
          "output_type": "stream",
          "name": "stdout",
          "text": [
            "0.8880583849627218\n"
          ]
        }
      ]
    },
    {
      "cell_type": "code",
      "source": [
        "# Fit y predicción\n",
        "rndfor.fit( X = X_train, y = y_train)\n",
        "y_pred = rndfor.predict(X = X_test)"
      ],
      "metadata": {
        "id": "ZdlCfyUB3oJ6"
      },
      "execution_count": 24,
      "outputs": []
    },
    {
      "cell_type": "markdown",
      "source": [
        "#### 3.3.1 Matriz de confusión"
      ],
      "metadata": {
        "id": "2v4-RtppXYrG"
      }
    },
    {
      "cell_type": "markdown",
      "source": [
        "Para una mejor visualización de los resultados de acierto y error en la predicción, se dibujará la matriz de confusión."
      ],
      "metadata": {
        "id": "OvgyeittXbdd"
      }
    },
    {
      "cell_type": "code",
      "source": [
        "cm = metrics.confusion_matrix(y_test, y_pred)\n",
        "print(cm)"
      ],
      "metadata": {
        "colab": {
          "base_uri": "https://localhost:8080/"
        },
        "id": "-2IVc4JRHVF9",
        "outputId": "f2105544-1089-4f58-858d-2fd139d2c93a"
      },
      "execution_count": 25,
      "outputs": [
        {
          "output_type": "stream",
          "name": "stdout",
          "text": [
            "[[549  73]\n",
            " [ 58 466]]\n"
          ]
        }
      ]
    },
    {
      "cell_type": "code",
      "source": [
        "plt.figure(figsize=(9,9))\n",
        "sns.heatmap(cm, annot=True, fmt=\".3f\", linewidths=.5, square = True, cmap = 'Blues_r')\n",
        "plt.ylabel('Valor Real')\n",
        "plt.xlabel('Valor Predicho')\n",
        "all_sample_title = 'Exactitud: {0}'.format(total_scores)\n",
        "plt.title(all_sample_title, size = 15)"
      ],
      "metadata": {
        "colab": {
          "base_uri": "https://localhost:8080/",
          "height": 537
        },
        "id": "_4tteEdK3vP6",
        "outputId": "a3e0d4ac-b33e-423c-ceae-fa5496aea270"
      },
      "execution_count": 26,
      "outputs": [
        {
          "output_type": "execute_result",
          "data": {
            "text/plain": [
              "Text(0.5, 1.0, 'Exactitud: 0.8880583849627218')"
            ]
          },
          "metadata": {},
          "execution_count": 26
        },
        {
          "output_type": "display_data",
          "data": {
            "image/png": "[encoded data removed]",
            "text/plain": [
              "<Figure size 648x648 with 2 Axes>"
            ]
          },
          "metadata": {}
        }
      ]
    },
    {
      "cell_type": "markdown",
      "source": [
        "Así, podríamos decir en principio que se trata de un modelo bastane preciso (89%) para determinar si la siembra de un cultivo es rentable o no."
      ],
      "metadata": {
        "id": "StSL8xa0aoQC"
      }
    },
    {
      "cell_type": "markdown",
      "source": [
        "### 3.4 Entrada del usuario"
      ],
      "metadata": {
        "id": "CxAfCJYvVA5o"
      }
    },
    {
      "cell_type": "markdown",
      "source": [
        "A continuación, haciendo uso de *sliders* de colab, se ha creado una pequeña interfaz para que el usuario pueda introducir los datos. Introduciendo el mes, la región, la precipitación y la temperatura, se mostrará un top 5 (si lo hay) de los cultivos que resulte más rentable sembrar."
      ],
      "metadata": {
        "id": "Wgz3g8-jbAJB"
      }
    },
    {
      "cell_type": "code",
      "source": [
        "with open('available_products.json', 'r') as available_products_file:\n",
        "  available_products = json.load(available_products_file)\n",
        "\n",
        "with open('product_origen_inference.json', 'r') as product_origen_inference_file:\n",
        "  product_origen_inference = json.load(product_origen_inference_file)"
      ],
      "metadata": {
        "id": "IkVhYXZvEkIg"
      },
      "execution_count": 27,
      "outputs": []
    },
    {
      "cell_type": "code",
      "source": [
        "product_data_columns = [\n",
        "        \"Temperatura min req\",\n",
        "        \"Temperatura max req\",\n",
        "        \"Temperatura min opt\",\n",
        "        \"Temperatura max opt\",\n",
        "        \"distancia_mes_inicio_siem\",\n",
        "        \"distancia_mes_fin_siem\",\n",
        "        \"MONTH_max_recolec\",\n",
        "        \"need_humidity_group\"\n",
        "]\n",
        "\n",
        "def predict_best_product(month, origen, temperatura, precipitacion):\n",
        "  best_products = []\n",
        "\n",
        "  for product in available_products:\n",
        "      product_data = agroanalisis[(agroanalisis['product_'+product] == 1) & (agroanalisis['MONTH'] == month)]\n",
        "      if len(product_data) <= 0:\n",
        "        continue\n",
        "      dict_features = {\n",
        "        \"MONTH\": month,\n",
        "        \"temperatura\": temperatura,\n",
        "        \"Precipitacion_group\": precipitacion,\n",
        "        **product_data[product_data_columns].iloc[0].to_dict(),\n",
        "        **product_origen_inference\n",
        "      }\n",
        "      dict_features[\"product_\"+product] = 1\n",
        "      dict_features[\"origen_\"+origen] = 1\n",
        "      \n",
        "      df_input = pd.DataFrame([dict_features])\n",
        "      pred = rndfor.predict(df_input)[0]\n",
        "\n",
        "      if pred == 1:\n",
        "        best_products.append(product)\n",
        "\n",
        "  return best_products"
      ],
      "metadata": {
        "id": "-DE5LplVVFRY"
      },
      "execution_count": 28,
      "outputs": []
    },
    {
      "cell_type": "code",
      "source": [
        "month = 7 #@param {type:\"slider\", min:1, max:12}\n",
        "origen = \"Madrid\" #@param [\"Andalucia\", \"Aragon\", \"Asturias\", \"Baleares\", \"Canarias\", \"Cantabria\", \"Castilla La Mancha\", \"Castilla Leon\", \"Cataluña\", \"Extremadura\", \"Galicia\", \"La Rioja\", \"Madrid\", \"Murcia\", \"Navarra\", \"Pais Vasco\", \"Valencia\"]\n",
        "temperature = 40 #@param {type:\"slider\", min:-20, max:47, step:0.01}\n",
        "precipitacion_group = 1 #@param {type:\"slider\", min:0.0, max:2.0, step:1.0}\n",
        "\n",
        "predict_best_product(month, origen, temperature, precipitacion_group)"
      ],
      "metadata": {
        "colab": {
          "base_uri": "https://localhost:8080/"
        },
        "id": "D02g8oVBVIP6",
        "outputId": "f70d270c-26b6-4052-aa9c-9949fc0a8738"
      },
      "execution_count": 29,
      "outputs": [
        {
          "output_type": "execute_result",
          "data": {
            "text/plain": [
              "['BROCOLI', 'COL BRUSELAS', 'COL CHINA', 'COLIFLOR', 'PEREJIL']"
            ]
          },
          "metadata": {},
          "execution_count": 29
        }
      ]
    },
    {
      "cell_type": "markdown",
      "source": [
        "## 4. Línea de trabajo 3: Influencia de variables en el beneficio de un cultivo\n"
      ],
      "metadata": {
        "id": "WikFoGwNi9Ei"
      }
    },
    {
      "cell_type": "markdown",
      "source": [
        "Esta línea se abordará de dos maneras diferentes:\n",
        "- Se podría realizar un **árbol de decisión de cada región**, y obtener así la importancia de cada característica dependiendo de dónde se haya sembrado el cultivo.\n",
        "- Otra opción sería crear un **modelo para cada factor cuya influencia se quiera estudiar** (mes, temperatura y precipitación en este caso son los primordiales) que prediga el precio medio sin esa misma característica, y comparar con el precio real que introduzca el usuario. Así, si el precio medio sin ese factor es mucho más alto que el precio real, significará que esa característica ha afectado negativamente. Lo mismo sucede al contrario: si el precio medio predecido es mucho más bajo, ese factor afectó positivamente."
      ],
      "metadata": {
        "id": "UiFO7KQc4T3x"
      }
    },
    {
      "cell_type": "markdown",
      "source": [
        "### 4.1 Influencia de variables por región"
      ],
      "metadata": {
        "id": "KRFV9D9NvAMO"
      }
    },
    {
      "cell_type": "markdown",
      "source": [
        "Dada una región,  se estudiará el grado en que los factores han contribuido. En este caso, se han construido modelos de árboles de decisión de ejemplo para tres regiones: Galicia, Castilla - La Mancha y Andalucía. Así se podrá comprobar cómo funciona esta estrategia con datos reales."
      ],
      "metadata": {
        "id": "GfffMxEQjDXO"
      }
    },
    {
      "cell_type": "markdown",
      "source": [
        "#### 4.1.1 Galicia"
      ],
      "metadata": {
        "id": "xv9IPIrZ78C8"
      }
    },
    {
      "cell_type": "code",
      "source": [
        "# Filtrar dataframe por la región elegida\n",
        "aux = agroanalisis[agroanalisis['origen_Galicia'] == 1]\n",
        "aux.head()"
      ],
      "metadata": {
        "id": "Rz8qu3CDvXSL",
        "colab": {
          "base_uri": "https://localhost:8080/",
          "height": 288
        },
        "outputId": "0f57639d-8995-4302-943a-a10a13edeb0b"
      },
      "execution_count": 30,
      "outputs": [
        {
          "output_type": "execute_result",
          "data": {
            "text/html": [
              "\n",
              "  <div id=\"df-fda146ae-b7fc-4d17-83dd-c79a2b22bafa\">\n",
              "    <div class=\"colab-df-container\">\n",
              "      <div>\n",
              "<style scoped>\n",
              "    .dataframe tbody tr th:only-of-type {\n",
              "        vertical-align: middle;\n",
              "    }\n",
              "\n",
              "    .dataframe tbody tr th {\n",
              "        vertical-align: top;\n",
              "    }\n",
              "\n",
              "    .dataframe thead th {\n",
              "        text-align: right;\n",
              "    }\n",
              "</style>\n",
              "<table border=\"1\" class=\"dataframe\">\n",
              "  <thead>\n",
              "    <tr style=\"text-align: right;\">\n",
              "      <th></th>\n",
              "      <th>YEAR</th>\n",
              "      <th>MONTH</th>\n",
              "      <th>temperatura</th>\n",
              "      <th>Precipitacion_group</th>\n",
              "      <th>Temperatura min req</th>\n",
              "      <th>Temperatura max req</th>\n",
              "      <th>Temperatura min opt</th>\n",
              "      <th>Temperatura max opt</th>\n",
              "      <th>distancia_mes_inicio_siem</th>\n",
              "      <th>distancia_mes_fin_siem</th>\n",
              "      <th>price_max_recolec</th>\n",
              "      <th>Volumen_max_recolec</th>\n",
              "      <th>MONTH_max_recolec</th>\n",
              "      <th>need_humidity_group</th>\n",
              "      <th>rentable</th>\n",
              "      <th>product_ACELGA</th>\n",
              "      <th>product_AJO</th>\n",
              "      <th>product_ALCACHOFA</th>\n",
              "      <th>product_APIO</th>\n",
              "      <th>product_BERENJENA</th>\n",
              "      <th>product_BROCOLI</th>\n",
              "      <th>product_CALABACIN</th>\n",
              "      <th>product_CALABAZA</th>\n",
              "      <th>product_CEBOLLA</th>\n",
              "      <th>product_CEBOLLETA</th>\n",
              "      <th>product_CHIRIVIA</th>\n",
              "      <th>product_COL BRUSELAS</th>\n",
              "      <th>product_COL CHINA</th>\n",
              "      <th>product_COL LOMBARDA</th>\n",
              "      <th>product_COL REPOLLO</th>\n",
              "      <th>product_COLIFLOR</th>\n",
              "      <th>product_ESCAROLA</th>\n",
              "      <th>product_ESPINACA</th>\n",
              "      <th>product_GUISANTE</th>\n",
              "      <th>product_HABA</th>\n",
              "      <th>product_JUDIA</th>\n",
              "      <th>product_LECHUGA</th>\n",
              "      <th>product_MAIZ</th>\n",
              "      <th>product_MELON</th>\n",
              "      <th>product_NABO</th>\n",
              "      <th>product_PATATA</th>\n",
              "      <th>product_PEPINO</th>\n",
              "      <th>product_PEREJIL</th>\n",
              "      <th>product_PIMIENTO</th>\n",
              "      <th>product_PUERRO</th>\n",
              "      <th>product_RABANITO</th>\n",
              "      <th>product_REMOLACHA</th>\n",
              "      <th>product_SANDIA</th>\n",
              "      <th>product_TOMATE</th>\n",
              "      <th>product_ZANAHORIA</th>\n",
              "      <th>origen_Andalucia</th>\n",
              "      <th>origen_Aragon</th>\n",
              "      <th>origen_Asturias</th>\n",
              "      <th>origen_Baleares</th>\n",
              "      <th>origen_Canarias</th>\n",
              "      <th>origen_Cantabria</th>\n",
              "      <th>origen_Castilla La Mancha</th>\n",
              "      <th>origen_Castilla Leon</th>\n",
              "      <th>origen_Cataluña</th>\n",
              "      <th>origen_Extremadura</th>\n",
              "      <th>origen_Galicia</th>\n",
              "      <th>origen_La Rioja</th>\n",
              "      <th>origen_Madrid</th>\n",
              "      <th>origen_Murcia</th>\n",
              "      <th>origen_Navarra</th>\n",
              "      <th>origen_Pais Vasco</th>\n",
              "      <th>origen_Valencia</th>\n",
              "    </tr>\n",
              "  </thead>\n",
              "  <tbody>\n",
              "    <tr>\n",
              "      <th>287</th>\n",
              "      <td>2018</td>\n",
              "      <td>3</td>\n",
              "      <td>7.97</td>\n",
              "      <td>2.0</td>\n",
              "      <td>6.0</td>\n",
              "      <td>33.0</td>\n",
              "      <td>15.0</td>\n",
              "      <td>25.0</td>\n",
              "      <td>0.0</td>\n",
              "      <td>-2.0</td>\n",
              "      <td>0.600000</td>\n",
              "      <td>231.0</td>\n",
              "      <td>6.0</td>\n",
              "      <td>0.0</td>\n",
              "      <td>0</td>\n",
              "      <td>1</td>\n",
              "      <td>0</td>\n",
              "      <td>0</td>\n",
              "      <td>0</td>\n",
              "      <td>0</td>\n",
              "      <td>0</td>\n",
              "      <td>0</td>\n",
              "      <td>0</td>\n",
              "      <td>0</td>\n",
              "      <td>0</td>\n",
              "      <td>0</td>\n",
              "      <td>0</td>\n",
              "      <td>0</td>\n",
              "      <td>0</td>\n",
              "      <td>0</td>\n",
              "      <td>0</td>\n",
              "      <td>0</td>\n",
              "      <td>0</td>\n",
              "      <td>0</td>\n",
              "      <td>0</td>\n",
              "      <td>0</td>\n",
              "      <td>0</td>\n",
              "      <td>0</td>\n",
              "      <td>0</td>\n",
              "      <td>0</td>\n",
              "      <td>0</td>\n",
              "      <td>0</td>\n",
              "      <td>0</td>\n",
              "      <td>0</td>\n",
              "      <td>0</td>\n",
              "      <td>0</td>\n",
              "      <td>0</td>\n",
              "      <td>0</td>\n",
              "      <td>0</td>\n",
              "      <td>0</td>\n",
              "      <td>0</td>\n",
              "      <td>0</td>\n",
              "      <td>0</td>\n",
              "      <td>0</td>\n",
              "      <td>0</td>\n",
              "      <td>0</td>\n",
              "      <td>0</td>\n",
              "      <td>0</td>\n",
              "      <td>0</td>\n",
              "      <td>0</td>\n",
              "      <td>1</td>\n",
              "      <td>0</td>\n",
              "      <td>0</td>\n",
              "      <td>0</td>\n",
              "      <td>0</td>\n",
              "      <td>0</td>\n",
              "      <td>0</td>\n",
              "    </tr>\n",
              "    <tr>\n",
              "      <th>924</th>\n",
              "      <td>2018</td>\n",
              "      <td>9</td>\n",
              "      <td>20.32</td>\n",
              "      <td>0.0</td>\n",
              "      <td>7.0</td>\n",
              "      <td>30.0</td>\n",
              "      <td>14.0</td>\n",
              "      <td>24.0</td>\n",
              "      <td>0.0</td>\n",
              "      <td>-2.0</td>\n",
              "      <td>3.127511</td>\n",
              "      <td>119580.0</td>\n",
              "      <td>11.0</td>\n",
              "      <td>0.0</td>\n",
              "      <td>1</td>\n",
              "      <td>0</td>\n",
              "      <td>1</td>\n",
              "      <td>0</td>\n",
              "      <td>0</td>\n",
              "      <td>0</td>\n",
              "      <td>0</td>\n",
              "      <td>0</td>\n",
              "      <td>0</td>\n",
              "      <td>0</td>\n",
              "      <td>0</td>\n",
              "      <td>0</td>\n",
              "      <td>0</td>\n",
              "      <td>0</td>\n",
              "      <td>0</td>\n",
              "      <td>0</td>\n",
              "      <td>0</td>\n",
              "      <td>0</td>\n",
              "      <td>0</td>\n",
              "      <td>0</td>\n",
              "      <td>0</td>\n",
              "      <td>0</td>\n",
              "      <td>0</td>\n",
              "      <td>0</td>\n",
              "      <td>0</td>\n",
              "      <td>0</td>\n",
              "      <td>0</td>\n",
              "      <td>0</td>\n",
              "      <td>0</td>\n",
              "      <td>0</td>\n",
              "      <td>0</td>\n",
              "      <td>0</td>\n",
              "      <td>0</td>\n",
              "      <td>0</td>\n",
              "      <td>0</td>\n",
              "      <td>0</td>\n",
              "      <td>0</td>\n",
              "      <td>0</td>\n",
              "      <td>0</td>\n",
              "      <td>0</td>\n",
              "      <td>0</td>\n",
              "      <td>0</td>\n",
              "      <td>0</td>\n",
              "      <td>0</td>\n",
              "      <td>0</td>\n",
              "      <td>0</td>\n",
              "      <td>1</td>\n",
              "      <td>0</td>\n",
              "      <td>0</td>\n",
              "      <td>0</td>\n",
              "      <td>0</td>\n",
              "      <td>0</td>\n",
              "      <td>0</td>\n",
              "    </tr>\n",
              "    <tr>\n",
              "      <th>926</th>\n",
              "      <td>2018</td>\n",
              "      <td>10</td>\n",
              "      <td>14.19</td>\n",
              "      <td>1.0</td>\n",
              "      <td>7.0</td>\n",
              "      <td>30.0</td>\n",
              "      <td>14.0</td>\n",
              "      <td>24.0</td>\n",
              "      <td>1.0</td>\n",
              "      <td>-1.0</td>\n",
              "      <td>2.988657</td>\n",
              "      <td>157130.0</td>\n",
              "      <td>1.0</td>\n",
              "      <td>0.0</td>\n",
              "      <td>1</td>\n",
              "      <td>0</td>\n",
              "      <td>1</td>\n",
              "      <td>0</td>\n",
              "      <td>0</td>\n",
              "      <td>0</td>\n",
              "      <td>0</td>\n",
              "      <td>0</td>\n",
              "      <td>0</td>\n",
              "      <td>0</td>\n",
              "      <td>0</td>\n",
              "      <td>0</td>\n",
              "      <td>0</td>\n",
              "      <td>0</td>\n",
              "      <td>0</td>\n",
              "      <td>0</td>\n",
              "      <td>0</td>\n",
              "      <td>0</td>\n",
              "      <td>0</td>\n",
              "      <td>0</td>\n",
              "      <td>0</td>\n",
              "      <td>0</td>\n",
              "      <td>0</td>\n",
              "      <td>0</td>\n",
              "      <td>0</td>\n",
              "      <td>0</td>\n",
              "      <td>0</td>\n",
              "      <td>0</td>\n",
              "      <td>0</td>\n",
              "      <td>0</td>\n",
              "      <td>0</td>\n",
              "      <td>0</td>\n",
              "      <td>0</td>\n",
              "      <td>0</td>\n",
              "      <td>0</td>\n",
              "      <td>0</td>\n",
              "      <td>0</td>\n",
              "      <td>0</td>\n",
              "      <td>0</td>\n",
              "      <td>0</td>\n",
              "      <td>0</td>\n",
              "      <td>0</td>\n",
              "      <td>0</td>\n",
              "      <td>0</td>\n",
              "      <td>0</td>\n",
              "      <td>0</td>\n",
              "      <td>1</td>\n",
              "      <td>0</td>\n",
              "      <td>0</td>\n",
              "      <td>0</td>\n",
              "      <td>0</td>\n",
              "      <td>0</td>\n",
              "      <td>0</td>\n",
              "    </tr>\n",
              "    <tr>\n",
              "      <th>930</th>\n",
              "      <td>2019</td>\n",
              "      <td>11</td>\n",
              "      <td>10.07</td>\n",
              "      <td>2.0</td>\n",
              "      <td>7.0</td>\n",
              "      <td>30.0</td>\n",
              "      <td>14.0</td>\n",
              "      <td>24.0</td>\n",
              "      <td>2.0</td>\n",
              "      <td>0.0</td>\n",
              "      <td>3.081226</td>\n",
              "      <td>154920.0</td>\n",
              "      <td>3.0</td>\n",
              "      <td>0.0</td>\n",
              "      <td>1</td>\n",
              "      <td>0</td>\n",
              "      <td>1</td>\n",
              "      <td>0</td>\n",
              "      <td>0</td>\n",
              "      <td>0</td>\n",
              "      <td>0</td>\n",
              "      <td>0</td>\n",
              "      <td>0</td>\n",
              "      <td>0</td>\n",
              "      <td>0</td>\n",
              "      <td>0</td>\n",
              "      <td>0</td>\n",
              "      <td>0</td>\n",
              "      <td>0</td>\n",
              "      <td>0</td>\n",
              "      <td>0</td>\n",
              "      <td>0</td>\n",
              "      <td>0</td>\n",
              "      <td>0</td>\n",
              "      <td>0</td>\n",
              "      <td>0</td>\n",
              "      <td>0</td>\n",
              "      <td>0</td>\n",
              "      <td>0</td>\n",
              "      <td>0</td>\n",
              "      <td>0</td>\n",
              "      <td>0</td>\n",
              "      <td>0</td>\n",
              "      <td>0</td>\n",
              "      <td>0</td>\n",
              "      <td>0</td>\n",
              "      <td>0</td>\n",
              "      <td>0</td>\n",
              "      <td>0</td>\n",
              "      <td>0</td>\n",
              "      <td>0</td>\n",
              "      <td>0</td>\n",
              "      <td>0</td>\n",
              "      <td>0</td>\n",
              "      <td>0</td>\n",
              "      <td>0</td>\n",
              "      <td>0</td>\n",
              "      <td>0</td>\n",
              "      <td>0</td>\n",
              "      <td>0</td>\n",
              "      <td>1</td>\n",
              "      <td>0</td>\n",
              "      <td>0</td>\n",
              "      <td>0</td>\n",
              "      <td>0</td>\n",
              "      <td>0</td>\n",
              "      <td>0</td>\n",
              "    </tr>\n",
              "    <tr>\n",
              "      <th>1366</th>\n",
              "      <td>2018</td>\n",
              "      <td>3</td>\n",
              "      <td>7.97</td>\n",
              "      <td>2.0</td>\n",
              "      <td>7.0</td>\n",
              "      <td>29.0</td>\n",
              "      <td>15.0</td>\n",
              "      <td>18.0</td>\n",
              "      <td>0.0</td>\n",
              "      <td>-2.0</td>\n",
              "      <td>1.408372</td>\n",
              "      <td>53380.0</td>\n",
              "      <td>7.0</td>\n",
              "      <td>2.0</td>\n",
              "      <td>1</td>\n",
              "      <td>0</td>\n",
              "      <td>0</td>\n",
              "      <td>1</td>\n",
              "      <td>0</td>\n",
              "      <td>0</td>\n",
              "      <td>0</td>\n",
              "      <td>0</td>\n",
              "      <td>0</td>\n",
              "      <td>0</td>\n",
              "      <td>0</td>\n",
              "      <td>0</td>\n",
              "      <td>0</td>\n",
              "      <td>0</td>\n",
              "      <td>0</td>\n",
              "      <td>0</td>\n",
              "      <td>0</td>\n",
              "      <td>0</td>\n",
              "      <td>0</td>\n",
              "      <td>0</td>\n",
              "      <td>0</td>\n",
              "      <td>0</td>\n",
              "      <td>0</td>\n",
              "      <td>0</td>\n",
              "      <td>0</td>\n",
              "      <td>0</td>\n",
              "      <td>0</td>\n",
              "      <td>0</td>\n",
              "      <td>0</td>\n",
              "      <td>0</td>\n",
              "      <td>0</td>\n",
              "      <td>0</td>\n",
              "      <td>0</td>\n",
              "      <td>0</td>\n",
              "      <td>0</td>\n",
              "      <td>0</td>\n",
              "      <td>0</td>\n",
              "      <td>0</td>\n",
              "      <td>0</td>\n",
              "      <td>0</td>\n",
              "      <td>0</td>\n",
              "      <td>0</td>\n",
              "      <td>0</td>\n",
              "      <td>0</td>\n",
              "      <td>0</td>\n",
              "      <td>0</td>\n",
              "      <td>1</td>\n",
              "      <td>0</td>\n",
              "      <td>0</td>\n",
              "      <td>0</td>\n",
              "      <td>0</td>\n",
              "      <td>0</td>\n",
              "      <td>0</td>\n",
              "    </tr>\n",
              "  </tbody>\n",
              "</table>\n",
              "</div>\n",
              "      <button class=\"colab-df-convert\" onclick=\"convertToInteractive('df-fda146ae-b7fc-4d17-83dd-c79a2b22bafa')\"\n",
              "              title=\"Convert this dataframe to an interactive table.\"\n",
              "              style=\"display:none;\">\n",
              "        \n",
              "  <svg xmlns=\"http://www.w3.org/2000/svg\" height=\"24px\"viewBox=\"0 0 24 24\"\n",
              "       width=\"24px\">\n",
              "    <path d=\"M0 0h24v24H0V0z\" fill=\"none\"/>\n",
              "    <path d=\"M18.56 5.44l.94 2.06.94-2.06 2.06-.94-2.06-.94-.94-2.06-.94 2.06-2.06.94zm-11 1L8.5 8.5l.94-2.06 2.06-.94-2.06-.94L8.5 2.5l-.94 2.06-2.06.94zm10 10l.94 2.06.94-2.06 2.06-.94-2.06-.94-.94-2.06-.94 2.06-2.06.94z\"/><path d=\"M17.41 7.96l-1.37-1.37c-.4-.4-.92-.59-1.43-.59-.52 0-1.04.2-1.43.59L10.3 9.45l-7.72 7.72c-.78.78-.78 2.05 0 2.83L4 21.41c.39.39.9.59 1.41.59.51 0 1.02-.2 1.41-.59l7.78-7.78 2.81-2.81c.8-.78.8-2.07 0-2.86zM5.41 20L4 18.59l7.72-7.72 1.47 1.35L5.41 20z\"/>\n",
              "  </svg>\n",
              "      </button>\n",
              "      \n",
              "  <style>\n",
              "    .colab-df-container {\n",
              "      display:flex;\n",
              "      flex-wrap:wrap;\n",
              "      gap: 12px;\n",
              "    }\n",
              "\n",
              "    .colab-df-convert {\n",
              "      background-color: #E8F0FE;\n",
              "      border: none;\n",
              "      border-radius: 50%;\n",
              "      cursor: pointer;\n",
              "      display: none;\n",
              "      fill: #1967D2;\n",
              "      height: 32px;\n",
              "      padding: 0 0 0 0;\n",
              "      width: 32px;\n",
              "    }\n",
              "\n",
              "    .colab-df-convert:hover {\n",
              "      background-color: #E2EBFA;\n",
              "      box-shadow: 0px 1px 2px rgba(60, 64, 67, 0.3), 0px 1px 3px 1px rgba(60, 64, 67, 0.15);\n",
              "      fill: #174EA6;\n",
              "    }\n",
              "\n",
              "    [theme=dark] .colab-df-convert {\n",
              "      background-color: #3B4455;\n",
              "      fill: #D2E3FC;\n",
              "    }\n",
              "\n",
              "    [theme=dark] .colab-df-convert:hover {\n",
              "      background-color: #434B5C;\n",
              "      box-shadow: 0px 1px 3px 1px rgba(0, 0, 0, 0.15);\n",
              "      filter: drop-shadow(0px 1px 2px rgba(0, 0, 0, 0.3));\n",
              "      fill: #FFFFFF;\n",
              "    }\n",
              "  </style>\n",
              "\n",
              "      <script>\n",
              "        const buttonEl =\n",
              "          document.querySelector('#df-fda146ae-b7fc-4d17-83dd-c79a2b22bafa button.colab-df-convert');\n",
              "        buttonEl.style.display =\n",
              "          google.colab.kernel.accessAllowed ? 'block' : 'none';\n",
              "\n",
              "        async function convertToInteractive(key) {\n",
              "          const element = document.querySelector('#df-fda146ae-b7fc-4d17-83dd-c79a2b22bafa');\n",
              "          const dataTable =\n",
              "            await google.colab.kernel.invokeFunction('convertToInteractive',\n",
              "                                                     [key], {});\n",
              "          if (!dataTable) return;\n",
              "\n",
              "          const docLinkHtml = 'Like what you see? Visit the ' +\n",
              "            '<a target=\"_blank\" href=https://colab.research.google.com/notebooks/data_table.ipynb>data table notebook</a>'\n",
              "            + ' to learn more about interactive tables.';\n",
              "          element.innerHTML = '';\n",
              "          dataTable['output_type'] = 'display_data';\n",
              "          await google.colab.output.renderOutput(dataTable, element);\n",
              "          const docLink = document.createElement('div');\n",
              "          docLink.innerHTML = docLinkHtml;\n",
              "          element.appendChild(docLink);\n",
              "        }\n",
              "      </script>\n",
              "    </div>\n",
              "  </div>\n",
              "  "
            ],
            "text/plain": [
              "      YEAR  MONTH  ...  origen_Pais Vasco  origen_Valencia\n",
              "287   2018      3  ...                  0                0\n",
              "924   2018      9  ...                  0                0\n",
              "926   2018     10  ...                  0                0\n",
              "930   2019     11  ...                  0                0\n",
              "1366  2018      3  ...                  0                0\n",
              "\n",
              "[5 rows x 67 columns]"
            ]
          },
          "metadata": {},
          "execution_count": 30
        }
      ]
    },
    {
      "cell_type": "markdown",
      "source": [
        "Se descartarán las características que no sirvan para el propósito: las de origen de las comunidades, los productos (ya que interesa saber qué factores tienen importancia en general en cada región, no algo dependiente del cultivo), el año, el precio, el volumen vendido y el mes de recolección. También se descartará el campo objetivo construido en el apartado anterior (*rentable*)."
      ],
      "metadata": {
        "id": "LXYmS0Nq_i6J"
      }
    },
    {
      "cell_type": "code",
      "source": [
        "x_features = list(aux.columns)\n",
        "x_features = [ item for item in x_features if 'origen_' not in item]\n",
        "x_features = [ item for item in x_features if 'product_' not in item]\n",
        "x_features.remove('rentable')\n",
        "x_features.remove('YEAR')\n",
        "x_features.remove('price_max_recolec')\n",
        "x_features.remove('Volumen_max_recolec')\n",
        "x_features.remove('MONTH_max_recolec')"
      ],
      "metadata": {
        "id": "RU42wUbZvAYH"
      },
      "execution_count": 31,
      "outputs": []
    },
    {
      "cell_type": "markdown",
      "source": [
        "Cabe destacar que no se hará división entre datos de train y test, sino que se empleará una estrategia de **train vs train**. Esto se debe a que los árboles que se van a obtener son **árboles descriptivos**, y se usarán para describir los datos, y no como modelo de predicción."
      ],
      "metadata": {
        "id": "4663ZOmIAlxE"
      }
    },
    {
      "cell_type": "code",
      "source": [
        "X = aux[x_features]\n",
        "y = aux['price_max_recolec'] # Campo sobre el que se desea ver la influencia"
      ],
      "metadata": {
        "id": "alwWgKgRyWMv"
      },
      "execution_count": 32,
      "outputs": []
    },
    {
      "cell_type": "code",
      "source": [
        "regressor = DecisionTreeRegressor(criterion='mse', random_state=0)\n",
        "regressor.fit(X, y)\n",
        "\n",
        "y_pred = regressor.predict(X = X) # Predicción sobre los propios datos de train"
      ],
      "metadata": {
        "colab": {
          "base_uri": "https://localhost:8080/"
        },
        "id": "Iqy-Dp4Ewtcp",
        "outputId": "92e58899-13db-4184-db23-4eea3f98f673"
      },
      "execution_count": 33,
      "outputs": [
        {
          "output_type": "stream",
          "name": "stderr",
          "text": [
            "/usr/local/lib/python3.7/dist-packages/sklearn/tree/_classes.py:363: FutureWarning: Criterion 'mse' was deprecated in v1.0 and will be removed in version 1.2. Use `criterion='squared_error'` which is equivalent.\n",
            "  FutureWarning,\n"
          ]
        }
      ]
    },
    {
      "cell_type": "code",
      "source": [
        "print ('Feature Relevances')\n",
        "pd.DataFrame({'Attributes': x_features ,\n",
        "              'Decision Tree': regressor.feature_importances_})"
      ],
      "metadata": {
        "colab": {
          "base_uri": "https://localhost:8080/",
          "height": 380
        },
        "id": "-rHOiTPkypv5",
        "outputId": "802d42e2-d328-408a-f6ff-faa69d9f51f4"
      },
      "execution_count": 34,
      "outputs": [
        {
          "output_type": "stream",
          "name": "stdout",
          "text": [
            "Feature Relevances\n"
          ]
        },
        {
          "output_type": "execute_result",
          "data": {
            "text/html": [
              "\n",
              "  <div id=\"df-5653cb5d-c8df-44c1-a55c-1527d7d540a4\">\n",
              "    <div class=\"colab-df-container\">\n",
              "      <div>\n",
              "<style scoped>\n",
              "    .dataframe tbody tr th:only-of-type {\n",
              "        vertical-align: middle;\n",
              "    }\n",
              "\n",
              "    .dataframe tbody tr th {\n",
              "        vertical-align: top;\n",
              "    }\n",
              "\n",
              "    .dataframe thead th {\n",
              "        text-align: right;\n",
              "    }\n",
              "</style>\n",
              "<table border=\"1\" class=\"dataframe\">\n",
              "  <thead>\n",
              "    <tr style=\"text-align: right;\">\n",
              "      <th></th>\n",
              "      <th>Attributes</th>\n",
              "      <th>Decision Tree</th>\n",
              "    </tr>\n",
              "  </thead>\n",
              "  <tbody>\n",
              "    <tr>\n",
              "      <th>0</th>\n",
              "      <td>MONTH</td>\n",
              "      <td>0.076154</td>\n",
              "    </tr>\n",
              "    <tr>\n",
              "      <th>1</th>\n",
              "      <td>temperatura</td>\n",
              "      <td>0.078801</td>\n",
              "    </tr>\n",
              "    <tr>\n",
              "      <th>2</th>\n",
              "      <td>Precipitacion_group</td>\n",
              "      <td>0.016940</td>\n",
              "    </tr>\n",
              "    <tr>\n",
              "      <th>3</th>\n",
              "      <td>Temperatura min req</td>\n",
              "      <td>0.003789</td>\n",
              "    </tr>\n",
              "    <tr>\n",
              "      <th>4</th>\n",
              "      <td>Temperatura max req</td>\n",
              "      <td>0.359900</td>\n",
              "    </tr>\n",
              "    <tr>\n",
              "      <th>5</th>\n",
              "      <td>Temperatura min opt</td>\n",
              "      <td>0.138241</td>\n",
              "    </tr>\n",
              "    <tr>\n",
              "      <th>6</th>\n",
              "      <td>Temperatura max opt</td>\n",
              "      <td>0.146305</td>\n",
              "    </tr>\n",
              "    <tr>\n",
              "      <th>7</th>\n",
              "      <td>distancia_mes_inicio_siem</td>\n",
              "      <td>0.001435</td>\n",
              "    </tr>\n",
              "    <tr>\n",
              "      <th>8</th>\n",
              "      <td>distancia_mes_fin_siem</td>\n",
              "      <td>0.002983</td>\n",
              "    </tr>\n",
              "    <tr>\n",
              "      <th>9</th>\n",
              "      <td>need_humidity_group</td>\n",
              "      <td>0.175452</td>\n",
              "    </tr>\n",
              "  </tbody>\n",
              "</table>\n",
              "</div>\n",
              "      <button class=\"colab-df-convert\" onclick=\"convertToInteractive('df-5653cb5d-c8df-44c1-a55c-1527d7d540a4')\"\n",
              "              title=\"Convert this dataframe to an interactive table.\"\n",
              "              style=\"display:none;\">\n",
              "        \n",
              "  <svg xmlns=\"http://www.w3.org/2000/svg\" height=\"24px\"viewBox=\"0 0 24 24\"\n",
              "       width=\"24px\">\n",
              "    <path d=\"M0 0h24v24H0V0z\" fill=\"none\"/>\n",
              "    <path d=\"M18.56 5.44l.94 2.06.94-2.06 2.06-.94-2.06-.94-.94-2.06-.94 2.06-2.06.94zm-11 1L8.5 8.5l.94-2.06 2.06-.94-2.06-.94L8.5 2.5l-.94 2.06-2.06.94zm10 10l.94 2.06.94-2.06 2.06-.94-2.06-.94-.94-2.06-.94 2.06-2.06.94z\"/><path d=\"M17.41 7.96l-1.37-1.37c-.4-.4-.92-.59-1.43-.59-.52 0-1.04.2-1.43.59L10.3 9.45l-7.72 7.72c-.78.78-.78 2.05 0 2.83L4 21.41c.39.39.9.59 1.41.59.51 0 1.02-.2 1.41-.59l7.78-7.78 2.81-2.81c.8-.78.8-2.07 0-2.86zM5.41 20L4 18.59l7.72-7.72 1.47 1.35L5.41 20z\"/>\n",
              "  </svg>\n",
              "      </button>\n",
              "      \n",
              "  <style>\n",
              "    .colab-df-container {\n",
              "      display:flex;\n",
              "      flex-wrap:wrap;\n",
              "      gap: 12px;\n",
              "    }\n",
              "\n",
              "    .colab-df-convert {\n",
              "      background-color: #E8F0FE;\n",
              "      border: none;\n",
              "      border-radius: 50%;\n",
              "      cursor: pointer;\n",
              "      display: none;\n",
              "      fill: #1967D2;\n",
              "      height: 32px;\n",
              "      padding: 0 0 0 0;\n",
              "      width: 32px;\n",
              "    }\n",
              "\n",
              "    .colab-df-convert:hover {\n",
              "      background-color: #E2EBFA;\n",
              "      box-shadow: 0px 1px 2px rgba(60, 64, 67, 0.3), 0px 1px 3px 1px rgba(60, 64, 67, 0.15);\n",
              "      fill: #174EA6;\n",
              "    }\n",
              "\n",
              "    [theme=dark] .colab-df-convert {\n",
              "      background-color: #3B4455;\n",
              "      fill: #D2E3FC;\n",
              "    }\n",
              "\n",
              "    [theme=dark] .colab-df-convert:hover {\n",
              "      background-color: #434B5C;\n",
              "      box-shadow: 0px 1px 3px 1px rgba(0, 0, 0, 0.15);\n",
              "      filter: drop-shadow(0px 1px 2px rgba(0, 0, 0, 0.3));\n",
              "      fill: #FFFFFF;\n",
              "    }\n",
              "  </style>\n",
              "\n",
              "      <script>\n",
              "        const buttonEl =\n",
              "          document.querySelector('#df-5653cb5d-c8df-44c1-a55c-1527d7d540a4 button.colab-df-convert');\n",
              "        buttonEl.style.display =\n",
              "          google.colab.kernel.accessAllowed ? 'block' : 'none';\n",
              "\n",
              "        async function convertToInteractive(key) {\n",
              "          const element = document.querySelector('#df-5653cb5d-c8df-44c1-a55c-1527d7d540a4');\n",
              "          const dataTable =\n",
              "            await google.colab.kernel.invokeFunction('convertToInteractive',\n",
              "                                                     [key], {});\n",
              "          if (!dataTable) return;\n",
              "\n",
              "          const docLinkHtml = 'Like what you see? Visit the ' +\n",
              "            '<a target=\"_blank\" href=https://colab.research.google.com/notebooks/data_table.ipynb>data table notebook</a>'\n",
              "            + ' to learn more about interactive tables.';\n",
              "          element.innerHTML = '';\n",
              "          dataTable['output_type'] = 'display_data';\n",
              "          await google.colab.output.renderOutput(dataTable, element);\n",
              "          const docLink = document.createElement('div');\n",
              "          docLink.innerHTML = docLinkHtml;\n",
              "          element.appendChild(docLink);\n",
              "        }\n",
              "      </script>\n",
              "    </div>\n",
              "  </div>\n",
              "  "
            ],
            "text/plain": [
              "                  Attributes  Decision Tree\n",
              "0                      MONTH       0.076154\n",
              "1                temperatura       0.078801\n",
              "2        Precipitacion_group       0.016940\n",
              "3        Temperatura min req       0.003789\n",
              "4        Temperatura max req       0.359900\n",
              "5        Temperatura min opt       0.138241\n",
              "6        Temperatura max opt       0.146305\n",
              "7  distancia_mes_inicio_siem       0.001435\n",
              "8     distancia_mes_fin_siem       0.002983\n",
              "9        need_humidity_group       0.175452"
            ]
          },
          "metadata": {},
          "execution_count": 34
        }
      ]
    },
    {
      "cell_type": "code",
      "source": [
        "print (\"MAE:\", metrics.mean_absolute_error(y_pred , y))\n",
        "print (\"MAPE:\", metrics.mean_absolute_percentage_error(y_pred , y))\n",
        "print (\"MSE:\", metrics.mean_squared_error(y_pred , y))\n",
        "print (\"R^2:\", metrics.r2_score(y_pred , y))"
      ],
      "metadata": {
        "colab": {
          "base_uri": "https://localhost:8080/"
        },
        "id": "yYJo4kCcx9I5",
        "outputId": "f1ebc44a-ef2a-4e78-80c4-02452dceee92"
      },
      "execution_count": 35,
      "outputs": [
        {
          "output_type": "stream",
          "name": "stdout",
          "text": [
            "MAE: 0.0\n",
            "MAPE: 0.0\n",
            "MSE: 0.0\n",
            "R^2: 1.0\n"
          ]
        }
      ]
    },
    {
      "cell_type": "markdown",
      "source": [
        "Como se puede apreciar, el error de predicción es bajísimo, por lo que podemos concluir que los datos no tienen mucho ruido/distorsiones y el modelo describe correctamente el fenómeno."
      ],
      "metadata": {
        "id": "eV5t6xdIBoEt"
      }
    },
    {
      "cell_type": "markdown",
      "source": [
        "#### 4.1.2 Castilla - La Mancha"
      ],
      "metadata": {
        "id": "dH_zL6l-8CbT"
      }
    },
    {
      "cell_type": "code",
      "source": [
        "# Filtrar dataframe por la región elegida\n",
        "aux = agroanalisis[agroanalisis['origen_Castilla La Mancha'] == 1]\n",
        "aux.head()"
      ],
      "metadata": {
        "colab": {
          "base_uri": "https://localhost:8080/",
          "height": 288
        },
        "id": "GinHSmt40JAh",
        "outputId": "0006ceb0-e566-47e3-aef1-4ef9c679088f"
      },
      "execution_count": 36,
      "outputs": [
        {
          "output_type": "execute_result",
          "data": {
            "text/html": [
              "\n",
              "  <div id=\"df-8782c3dc-ff7f-4357-ae63-69b095e15f4b\">\n",
              "    <div class=\"colab-df-container\">\n",
              "      <div>\n",
              "<style scoped>\n",
              "    .dataframe tbody tr th:only-of-type {\n",
              "        vertical-align: middle;\n",
              "    }\n",
              "\n",
              "    .dataframe tbody tr th {\n",
              "        vertical-align: top;\n",
              "    }\n",
              "\n",
              "    .dataframe thead th {\n",
              "        text-align: right;\n",
              "    }\n",
              "</style>\n",
              "<table border=\"1\" class=\"dataframe\">\n",
              "  <thead>\n",
              "    <tr style=\"text-align: right;\">\n",
              "      <th></th>\n",
              "      <th>YEAR</th>\n",
              "      <th>MONTH</th>\n",
              "      <th>temperatura</th>\n",
              "      <th>Precipitacion_group</th>\n",
              "      <th>Temperatura min req</th>\n",
              "      <th>Temperatura max req</th>\n",
              "      <th>Temperatura min opt</th>\n",
              "      <th>Temperatura max opt</th>\n",
              "      <th>distancia_mes_inicio_siem</th>\n",
              "      <th>distancia_mes_fin_siem</th>\n",
              "      <th>price_max_recolec</th>\n",
              "      <th>Volumen_max_recolec</th>\n",
              "      <th>MONTH_max_recolec</th>\n",
              "      <th>need_humidity_group</th>\n",
              "      <th>rentable</th>\n",
              "      <th>product_ACELGA</th>\n",
              "      <th>product_AJO</th>\n",
              "      <th>product_ALCACHOFA</th>\n",
              "      <th>product_APIO</th>\n",
              "      <th>product_BERENJENA</th>\n",
              "      <th>product_BROCOLI</th>\n",
              "      <th>product_CALABACIN</th>\n",
              "      <th>product_CALABAZA</th>\n",
              "      <th>product_CEBOLLA</th>\n",
              "      <th>product_CEBOLLETA</th>\n",
              "      <th>product_CHIRIVIA</th>\n",
              "      <th>product_COL BRUSELAS</th>\n",
              "      <th>product_COL CHINA</th>\n",
              "      <th>product_COL LOMBARDA</th>\n",
              "      <th>product_COL REPOLLO</th>\n",
              "      <th>product_COLIFLOR</th>\n",
              "      <th>product_ESCAROLA</th>\n",
              "      <th>product_ESPINACA</th>\n",
              "      <th>product_GUISANTE</th>\n",
              "      <th>product_HABA</th>\n",
              "      <th>product_JUDIA</th>\n",
              "      <th>product_LECHUGA</th>\n",
              "      <th>product_MAIZ</th>\n",
              "      <th>product_MELON</th>\n",
              "      <th>product_NABO</th>\n",
              "      <th>product_PATATA</th>\n",
              "      <th>product_PEPINO</th>\n",
              "      <th>product_PEREJIL</th>\n",
              "      <th>product_PIMIENTO</th>\n",
              "      <th>product_PUERRO</th>\n",
              "      <th>product_RABANITO</th>\n",
              "      <th>product_REMOLACHA</th>\n",
              "      <th>product_SANDIA</th>\n",
              "      <th>product_TOMATE</th>\n",
              "      <th>product_ZANAHORIA</th>\n",
              "      <th>origen_Andalucia</th>\n",
              "      <th>origen_Aragon</th>\n",
              "      <th>origen_Asturias</th>\n",
              "      <th>origen_Baleares</th>\n",
              "      <th>origen_Canarias</th>\n",
              "      <th>origen_Cantabria</th>\n",
              "      <th>origen_Castilla La Mancha</th>\n",
              "      <th>origen_Castilla Leon</th>\n",
              "      <th>origen_Cataluña</th>\n",
              "      <th>origen_Extremadura</th>\n",
              "      <th>origen_Galicia</th>\n",
              "      <th>origen_La Rioja</th>\n",
              "      <th>origen_Madrid</th>\n",
              "      <th>origen_Murcia</th>\n",
              "      <th>origen_Navarra</th>\n",
              "      <th>origen_Pais Vasco</th>\n",
              "      <th>origen_Valencia</th>\n",
              "    </tr>\n",
              "  </thead>\n",
              "  <tbody>\n",
              "    <tr>\n",
              "      <th>87</th>\n",
              "      <td>2018</td>\n",
              "      <td>3</td>\n",
              "      <td>7.66</td>\n",
              "      <td>1.0</td>\n",
              "      <td>6.0</td>\n",
              "      <td>33.0</td>\n",
              "      <td>15.0</td>\n",
              "      <td>25.0</td>\n",
              "      <td>0.0</td>\n",
              "      <td>-2.0</td>\n",
              "      <td>1.120000</td>\n",
              "      <td>248740.0</td>\n",
              "      <td>6.0</td>\n",
              "      <td>0.0</td>\n",
              "      <td>0</td>\n",
              "      <td>1</td>\n",
              "      <td>0</td>\n",
              "      <td>0</td>\n",
              "      <td>0</td>\n",
              "      <td>0</td>\n",
              "      <td>0</td>\n",
              "      <td>0</td>\n",
              "      <td>0</td>\n",
              "      <td>0</td>\n",
              "      <td>0</td>\n",
              "      <td>0</td>\n",
              "      <td>0</td>\n",
              "      <td>0</td>\n",
              "      <td>0</td>\n",
              "      <td>0</td>\n",
              "      <td>0</td>\n",
              "      <td>0</td>\n",
              "      <td>0</td>\n",
              "      <td>0</td>\n",
              "      <td>0</td>\n",
              "      <td>0</td>\n",
              "      <td>0</td>\n",
              "      <td>0</td>\n",
              "      <td>0</td>\n",
              "      <td>0</td>\n",
              "      <td>0</td>\n",
              "      <td>0</td>\n",
              "      <td>0</td>\n",
              "      <td>0</td>\n",
              "      <td>0</td>\n",
              "      <td>0</td>\n",
              "      <td>0</td>\n",
              "      <td>0</td>\n",
              "      <td>0</td>\n",
              "      <td>0</td>\n",
              "      <td>0</td>\n",
              "      <td>0</td>\n",
              "      <td>0</td>\n",
              "      <td>0</td>\n",
              "      <td>0</td>\n",
              "      <td>0</td>\n",
              "      <td>1</td>\n",
              "      <td>0</td>\n",
              "      <td>0</td>\n",
              "      <td>0</td>\n",
              "      <td>0</td>\n",
              "      <td>0</td>\n",
              "      <td>0</td>\n",
              "      <td>0</td>\n",
              "      <td>0</td>\n",
              "      <td>0</td>\n",
              "      <td>0</td>\n",
              "    </tr>\n",
              "    <tr>\n",
              "      <th>89</th>\n",
              "      <td>2018</td>\n",
              "      <td>4</td>\n",
              "      <td>11.85</td>\n",
              "      <td>0.0</td>\n",
              "      <td>6.0</td>\n",
              "      <td>33.0</td>\n",
              "      <td>15.0</td>\n",
              "      <td>25.0</td>\n",
              "      <td>1.0</td>\n",
              "      <td>-1.0</td>\n",
              "      <td>0.776190</td>\n",
              "      <td>50195.0</td>\n",
              "      <td>7.0</td>\n",
              "      <td>0.0</td>\n",
              "      <td>0</td>\n",
              "      <td>1</td>\n",
              "      <td>0</td>\n",
              "      <td>0</td>\n",
              "      <td>0</td>\n",
              "      <td>0</td>\n",
              "      <td>0</td>\n",
              "      <td>0</td>\n",
              "      <td>0</td>\n",
              "      <td>0</td>\n",
              "      <td>0</td>\n",
              "      <td>0</td>\n",
              "      <td>0</td>\n",
              "      <td>0</td>\n",
              "      <td>0</td>\n",
              "      <td>0</td>\n",
              "      <td>0</td>\n",
              "      <td>0</td>\n",
              "      <td>0</td>\n",
              "      <td>0</td>\n",
              "      <td>0</td>\n",
              "      <td>0</td>\n",
              "      <td>0</td>\n",
              "      <td>0</td>\n",
              "      <td>0</td>\n",
              "      <td>0</td>\n",
              "      <td>0</td>\n",
              "      <td>0</td>\n",
              "      <td>0</td>\n",
              "      <td>0</td>\n",
              "      <td>0</td>\n",
              "      <td>0</td>\n",
              "      <td>0</td>\n",
              "      <td>0</td>\n",
              "      <td>0</td>\n",
              "      <td>0</td>\n",
              "      <td>0</td>\n",
              "      <td>0</td>\n",
              "      <td>0</td>\n",
              "      <td>0</td>\n",
              "      <td>0</td>\n",
              "      <td>0</td>\n",
              "      <td>1</td>\n",
              "      <td>0</td>\n",
              "      <td>0</td>\n",
              "      <td>0</td>\n",
              "      <td>0</td>\n",
              "      <td>0</td>\n",
              "      <td>0</td>\n",
              "      <td>0</td>\n",
              "      <td>0</td>\n",
              "      <td>0</td>\n",
              "      <td>0</td>\n",
              "    </tr>\n",
              "    <tr>\n",
              "      <th>91</th>\n",
              "      <td>2018</td>\n",
              "      <td>5</td>\n",
              "      <td>15.45</td>\n",
              "      <td>0.0</td>\n",
              "      <td>6.0</td>\n",
              "      <td>33.0</td>\n",
              "      <td>15.0</td>\n",
              "      <td>25.0</td>\n",
              "      <td>2.0</td>\n",
              "      <td>0.0</td>\n",
              "      <td>0.559091</td>\n",
              "      <td>134190.0</td>\n",
              "      <td>8.0</td>\n",
              "      <td>0.0</td>\n",
              "      <td>0</td>\n",
              "      <td>1</td>\n",
              "      <td>0</td>\n",
              "      <td>0</td>\n",
              "      <td>0</td>\n",
              "      <td>0</td>\n",
              "      <td>0</td>\n",
              "      <td>0</td>\n",
              "      <td>0</td>\n",
              "      <td>0</td>\n",
              "      <td>0</td>\n",
              "      <td>0</td>\n",
              "      <td>0</td>\n",
              "      <td>0</td>\n",
              "      <td>0</td>\n",
              "      <td>0</td>\n",
              "      <td>0</td>\n",
              "      <td>0</td>\n",
              "      <td>0</td>\n",
              "      <td>0</td>\n",
              "      <td>0</td>\n",
              "      <td>0</td>\n",
              "      <td>0</td>\n",
              "      <td>0</td>\n",
              "      <td>0</td>\n",
              "      <td>0</td>\n",
              "      <td>0</td>\n",
              "      <td>0</td>\n",
              "      <td>0</td>\n",
              "      <td>0</td>\n",
              "      <td>0</td>\n",
              "      <td>0</td>\n",
              "      <td>0</td>\n",
              "      <td>0</td>\n",
              "      <td>0</td>\n",
              "      <td>0</td>\n",
              "      <td>0</td>\n",
              "      <td>0</td>\n",
              "      <td>0</td>\n",
              "      <td>0</td>\n",
              "      <td>0</td>\n",
              "      <td>0</td>\n",
              "      <td>1</td>\n",
              "      <td>0</td>\n",
              "      <td>0</td>\n",
              "      <td>0</td>\n",
              "      <td>0</td>\n",
              "      <td>0</td>\n",
              "      <td>0</td>\n",
              "      <td>0</td>\n",
              "      <td>0</td>\n",
              "      <td>0</td>\n",
              "      <td>0</td>\n",
              "    </tr>\n",
              "    <tr>\n",
              "      <th>100</th>\n",
              "      <td>2018</td>\n",
              "      <td>10</td>\n",
              "      <td>14.23</td>\n",
              "      <td>0.0</td>\n",
              "      <td>6.0</td>\n",
              "      <td>33.0</td>\n",
              "      <td>15.0</td>\n",
              "      <td>25.0</td>\n",
              "      <td>1.0</td>\n",
              "      <td>-1.0</td>\n",
              "      <td>0.890476</td>\n",
              "      <td>113425.0</td>\n",
              "      <td>1.0</td>\n",
              "      <td>0.0</td>\n",
              "      <td>0</td>\n",
              "      <td>1</td>\n",
              "      <td>0</td>\n",
              "      <td>0</td>\n",
              "      <td>0</td>\n",
              "      <td>0</td>\n",
              "      <td>0</td>\n",
              "      <td>0</td>\n",
              "      <td>0</td>\n",
              "      <td>0</td>\n",
              "      <td>0</td>\n",
              "      <td>0</td>\n",
              "      <td>0</td>\n",
              "      <td>0</td>\n",
              "      <td>0</td>\n",
              "      <td>0</td>\n",
              "      <td>0</td>\n",
              "      <td>0</td>\n",
              "      <td>0</td>\n",
              "      <td>0</td>\n",
              "      <td>0</td>\n",
              "      <td>0</td>\n",
              "      <td>0</td>\n",
              "      <td>0</td>\n",
              "      <td>0</td>\n",
              "      <td>0</td>\n",
              "      <td>0</td>\n",
              "      <td>0</td>\n",
              "      <td>0</td>\n",
              "      <td>0</td>\n",
              "      <td>0</td>\n",
              "      <td>0</td>\n",
              "      <td>0</td>\n",
              "      <td>0</td>\n",
              "      <td>0</td>\n",
              "      <td>0</td>\n",
              "      <td>0</td>\n",
              "      <td>0</td>\n",
              "      <td>0</td>\n",
              "      <td>0</td>\n",
              "      <td>0</td>\n",
              "      <td>0</td>\n",
              "      <td>1</td>\n",
              "      <td>0</td>\n",
              "      <td>0</td>\n",
              "      <td>0</td>\n",
              "      <td>0</td>\n",
              "      <td>0</td>\n",
              "      <td>0</td>\n",
              "      <td>0</td>\n",
              "      <td>0</td>\n",
              "      <td>0</td>\n",
              "      <td>0</td>\n",
              "    </tr>\n",
              "    <tr>\n",
              "      <th>102</th>\n",
              "      <td>2018</td>\n",
              "      <td>11</td>\n",
              "      <td>9.23</td>\n",
              "      <td>0.0</td>\n",
              "      <td>6.0</td>\n",
              "      <td>33.0</td>\n",
              "      <td>15.0</td>\n",
              "      <td>25.0</td>\n",
              "      <td>2.0</td>\n",
              "      <td>0.0</td>\n",
              "      <td>0.707895</td>\n",
              "      <td>107030.0</td>\n",
              "      <td>2.0</td>\n",
              "      <td>0.0</td>\n",
              "      <td>0</td>\n",
              "      <td>1</td>\n",
              "      <td>0</td>\n",
              "      <td>0</td>\n",
              "      <td>0</td>\n",
              "      <td>0</td>\n",
              "      <td>0</td>\n",
              "      <td>0</td>\n",
              "      <td>0</td>\n",
              "      <td>0</td>\n",
              "      <td>0</td>\n",
              "      <td>0</td>\n",
              "      <td>0</td>\n",
              "      <td>0</td>\n",
              "      <td>0</td>\n",
              "      <td>0</td>\n",
              "      <td>0</td>\n",
              "      <td>0</td>\n",
              "      <td>0</td>\n",
              "      <td>0</td>\n",
              "      <td>0</td>\n",
              "      <td>0</td>\n",
              "      <td>0</td>\n",
              "      <td>0</td>\n",
              "      <td>0</td>\n",
              "      <td>0</td>\n",
              "      <td>0</td>\n",
              "      <td>0</td>\n",
              "      <td>0</td>\n",
              "      <td>0</td>\n",
              "      <td>0</td>\n",
              "      <td>0</td>\n",
              "      <td>0</td>\n",
              "      <td>0</td>\n",
              "      <td>0</td>\n",
              "      <td>0</td>\n",
              "      <td>0</td>\n",
              "      <td>0</td>\n",
              "      <td>0</td>\n",
              "      <td>0</td>\n",
              "      <td>0</td>\n",
              "      <td>0</td>\n",
              "      <td>1</td>\n",
              "      <td>0</td>\n",
              "      <td>0</td>\n",
              "      <td>0</td>\n",
              "      <td>0</td>\n",
              "      <td>0</td>\n",
              "      <td>0</td>\n",
              "      <td>0</td>\n",
              "      <td>0</td>\n",
              "      <td>0</td>\n",
              "      <td>0</td>\n",
              "    </tr>\n",
              "  </tbody>\n",
              "</table>\n",
              "</div>\n",
              "      <button class=\"colab-df-convert\" onclick=\"convertToInteractive('df-8782c3dc-ff7f-4357-ae63-69b095e15f4b')\"\n",
              "              title=\"Convert this dataframe to an interactive table.\"\n",
              "              style=\"display:none;\">\n",
              "        \n",
              "  <svg xmlns=\"http://www.w3.org/2000/svg\" height=\"24px\"viewBox=\"0 0 24 24\"\n",
              "       width=\"24px\">\n",
              "    <path d=\"M0 0h24v24H0V0z\" fill=\"none\"/>\n",
              "    <path d=\"M18.56 5.44l.94 2.06.94-2.06 2.06-.94-2.06-.94-.94-2.06-.94 2.06-2.06.94zm-11 1L8.5 8.5l.94-2.06 2.06-.94-2.06-.94L8.5 2.5l-.94 2.06-2.06.94zm10 10l.94 2.06.94-2.06 2.06-.94-2.06-.94-.94-2.06-.94 2.06-2.06.94z\"/><path d=\"M17.41 7.96l-1.37-1.37c-.4-.4-.92-.59-1.43-.59-.52 0-1.04.2-1.43.59L10.3 9.45l-7.72 7.72c-.78.78-.78 2.05 0 2.83L4 21.41c.39.39.9.59 1.41.59.51 0 1.02-.2 1.41-.59l7.78-7.78 2.81-2.81c.8-.78.8-2.07 0-2.86zM5.41 20L4 18.59l7.72-7.72 1.47 1.35L5.41 20z\"/>\n",
              "  </svg>\n",
              "      </button>\n",
              "      \n",
              "  <style>\n",
              "    .colab-df-container {\n",
              "      display:flex;\n",
              "      flex-wrap:wrap;\n",
              "      gap: 12px;\n",
              "    }\n",
              "\n",
              "    .colab-df-convert {\n",
              "      background-color: #E8F0FE;\n",
              "      border: none;\n",
              "      border-radius: 50%;\n",
              "      cursor: pointer;\n",
              "      display: none;\n",
              "      fill: #1967D2;\n",
              "      height: 32px;\n",
              "      padding: 0 0 0 0;\n",
              "      width: 32px;\n",
              "    }\n",
              "\n",
              "    .colab-df-convert:hover {\n",
              "      background-color: #E2EBFA;\n",
              "      box-shadow: 0px 1px 2px rgba(60, 64, 67, 0.3), 0px 1px 3px 1px rgba(60, 64, 67, 0.15);\n",
              "      fill: #174EA6;\n",
              "    }\n",
              "\n",
              "    [theme=dark] .colab-df-convert {\n",
              "      background-color: #3B4455;\n",
              "      fill: #D2E3FC;\n",
              "    }\n",
              "\n",
              "    [theme=dark] .colab-df-convert:hover {\n",
              "      background-color: #434B5C;\n",
              "      box-shadow: 0px 1px 3px 1px rgba(0, 0, 0, 0.15);\n",
              "      filter: drop-shadow(0px 1px 2px rgba(0, 0, 0, 0.3));\n",
              "      fill: #FFFFFF;\n",
              "    }\n",
              "  </style>\n",
              "\n",
              "      <script>\n",
              "        const buttonEl =\n",
              "          document.querySelector('#df-8782c3dc-ff7f-4357-ae63-69b095e15f4b button.colab-df-convert');\n",
              "        buttonEl.style.display =\n",
              "          google.colab.kernel.accessAllowed ? 'block' : 'none';\n",
              "\n",
              "        async function convertToInteractive(key) {\n",
              "          const element = document.querySelector('#df-8782c3dc-ff7f-4357-ae63-69b095e15f4b');\n",
              "          const dataTable =\n",
              "            await google.colab.kernel.invokeFunction('convertToInteractive',\n",
              "                                                     [key], {});\n",
              "          if (!dataTable) return;\n",
              "\n",
              "          const docLinkHtml = 'Like what you see? Visit the ' +\n",
              "            '<a target=\"_blank\" href=https://colab.research.google.com/notebooks/data_table.ipynb>data table notebook</a>'\n",
              "            + ' to learn more about interactive tables.';\n",
              "          element.innerHTML = '';\n",
              "          dataTable['output_type'] = 'display_data';\n",
              "          await google.colab.output.renderOutput(dataTable, element);\n",
              "          const docLink = document.createElement('div');\n",
              "          docLink.innerHTML = docLinkHtml;\n",
              "          element.appendChild(docLink);\n",
              "        }\n",
              "      </script>\n",
              "    </div>\n",
              "  </div>\n",
              "  "
            ],
            "text/plain": [
              "     YEAR  MONTH  ...  origen_Pais Vasco  origen_Valencia\n",
              "87   2018      3  ...                  0                0\n",
              "89   2018      4  ...                  0                0\n",
              "91   2018      5  ...                  0                0\n",
              "100  2018     10  ...                  0                0\n",
              "102  2018     11  ...                  0                0\n",
              "\n",
              "[5 rows x 67 columns]"
            ]
          },
          "metadata": {},
          "execution_count": 36
        }
      ]
    },
    {
      "cell_type": "markdown",
      "source": [
        "Se descartarán las mismas características que en el apartado anterior."
      ],
      "metadata": {
        "id": "5RrRw7L9CpXD"
      }
    },
    {
      "cell_type": "code",
      "source": [
        "x_features = list(aux.columns)\n",
        "x_features = [ item for item in x_features if 'origen_' not in item]\n",
        "x_features = [ item for item in x_features if 'product_' not in item]\n",
        "x_features.remove('rentable')\n",
        "x_features.remove('YEAR')\n",
        "x_features.remove('price_max_recolec')\n",
        "x_features.remove('Volumen_max_recolec')\n",
        "x_features.remove('MONTH_max_recolec')"
      ],
      "metadata": {
        "id": "Up8uUViU0UUC"
      },
      "execution_count": 37,
      "outputs": []
    },
    {
      "cell_type": "code",
      "source": [
        "X = aux[x_features]\n",
        "y = aux['price_max_recolec'] # Campo sobre el que se desea ver la influencia"
      ],
      "metadata": {
        "id": "HpvhvPfL0U5C"
      },
      "execution_count": 38,
      "outputs": []
    },
    {
      "cell_type": "code",
      "source": [
        "regressor = DecisionTreeRegressor(criterion='mse', random_state=0)\n",
        "regressor.fit(X, y)\n",
        "\n",
        "y_pred = regressor.predict(X = X)"
      ],
      "metadata": {
        "colab": {
          "base_uri": "https://localhost:8080/"
        },
        "id": "ybp-Vb4Z0YBn",
        "outputId": "bd1efb15-2ba5-43bc-c31c-cb52068abc89"
      },
      "execution_count": 39,
      "outputs": [
        {
          "output_type": "stream",
          "name": "stderr",
          "text": [
            "/usr/local/lib/python3.7/dist-packages/sklearn/tree/_classes.py:363: FutureWarning: Criterion 'mse' was deprecated in v1.0 and will be removed in version 1.2. Use `criterion='squared_error'` which is equivalent.\n",
            "  FutureWarning,\n"
          ]
        }
      ]
    },
    {
      "cell_type": "code",
      "source": [
        "print ('Feature Relevances')\n",
        "pd.DataFrame({'Attributes': x_features ,\n",
        "              'Decision Tree': regressor.feature_importances_})"
      ],
      "metadata": {
        "colab": {
          "base_uri": "https://localhost:8080/",
          "height": 380
        },
        "id": "4fZaPozB0a8x",
        "outputId": "ef271a70-2775-452e-8690-a585c23485c7"
      },
      "execution_count": 40,
      "outputs": [
        {
          "output_type": "stream",
          "name": "stdout",
          "text": [
            "Feature Relevances\n"
          ]
        },
        {
          "output_type": "execute_result",
          "data": {
            "text/html": [
              "\n",
              "  <div id=\"df-14f8b651-f7c0-4320-8e58-77f200622e81\">\n",
              "    <div class=\"colab-df-container\">\n",
              "      <div>\n",
              "<style scoped>\n",
              "    .dataframe tbody tr th:only-of-type {\n",
              "        vertical-align: middle;\n",
              "    }\n",
              "\n",
              "    .dataframe tbody tr th {\n",
              "        vertical-align: top;\n",
              "    }\n",
              "\n",
              "    .dataframe thead th {\n",
              "        text-align: right;\n",
              "    }\n",
              "</style>\n",
              "<table border=\"1\" class=\"dataframe\">\n",
              "  <thead>\n",
              "    <tr style=\"text-align: right;\">\n",
              "      <th></th>\n",
              "      <th>Attributes</th>\n",
              "      <th>Decision Tree</th>\n",
              "    </tr>\n",
              "  </thead>\n",
              "  <tbody>\n",
              "    <tr>\n",
              "      <th>0</th>\n",
              "      <td>MONTH</td>\n",
              "      <td>0.114665</td>\n",
              "    </tr>\n",
              "    <tr>\n",
              "      <th>1</th>\n",
              "      <td>temperatura</td>\n",
              "      <td>0.077658</td>\n",
              "    </tr>\n",
              "    <tr>\n",
              "      <th>2</th>\n",
              "      <td>Precipitacion_group</td>\n",
              "      <td>0.007806</td>\n",
              "    </tr>\n",
              "    <tr>\n",
              "      <th>3</th>\n",
              "      <td>Temperatura min req</td>\n",
              "      <td>0.426042</td>\n",
              "    </tr>\n",
              "    <tr>\n",
              "      <th>4</th>\n",
              "      <td>Temperatura max req</td>\n",
              "      <td>0.092111</td>\n",
              "    </tr>\n",
              "    <tr>\n",
              "      <th>5</th>\n",
              "      <td>Temperatura min opt</td>\n",
              "      <td>0.166185</td>\n",
              "    </tr>\n",
              "    <tr>\n",
              "      <th>6</th>\n",
              "      <td>Temperatura max opt</td>\n",
              "      <td>0.104534</td>\n",
              "    </tr>\n",
              "    <tr>\n",
              "      <th>7</th>\n",
              "      <td>distancia_mes_inicio_siem</td>\n",
              "      <td>0.006085</td>\n",
              "    </tr>\n",
              "    <tr>\n",
              "      <th>8</th>\n",
              "      <td>distancia_mes_fin_siem</td>\n",
              "      <td>0.001326</td>\n",
              "    </tr>\n",
              "    <tr>\n",
              "      <th>9</th>\n",
              "      <td>need_humidity_group</td>\n",
              "      <td>0.003588</td>\n",
              "    </tr>\n",
              "  </tbody>\n",
              "</table>\n",
              "</div>\n",
              "      <button class=\"colab-df-convert\" onclick=\"convertToInteractive('df-14f8b651-f7c0-4320-8e58-77f200622e81')\"\n",
              "              title=\"Convert this dataframe to an interactive table.\"\n",
              "              style=\"display:none;\">\n",
              "        \n",
              "  <svg xmlns=\"http://www.w3.org/2000/svg\" height=\"24px\"viewBox=\"0 0 24 24\"\n",
              "       width=\"24px\">\n",
              "    <path d=\"M0 0h24v24H0V0z\" fill=\"none\"/>\n",
              "    <path d=\"M18.56 5.44l.94 2.06.94-2.06 2.06-.94-2.06-.94-.94-2.06-.94 2.06-2.06.94zm-11 1L8.5 8.5l.94-2.06 2.06-.94-2.06-.94L8.5 2.5l-.94 2.06-2.06.94zm10 10l.94 2.06.94-2.06 2.06-.94-2.06-.94-.94-2.06-.94 2.06-2.06.94z\"/><path d=\"M17.41 7.96l-1.37-1.37c-.4-.4-.92-.59-1.43-.59-.52 0-1.04.2-1.43.59L10.3 9.45l-7.72 7.72c-.78.78-.78 2.05 0 2.83L4 21.41c.39.39.9.59 1.41.59.51 0 1.02-.2 1.41-.59l7.78-7.78 2.81-2.81c.8-.78.8-2.07 0-2.86zM5.41 20L4 18.59l7.72-7.72 1.47 1.35L5.41 20z\"/>\n",
              "  </svg>\n",
              "      </button>\n",
              "      \n",
              "  <style>\n",
              "    .colab-df-container {\n",
              "      display:flex;\n",
              "      flex-wrap:wrap;\n",
              "      gap: 12px;\n",
              "    }\n",
              "\n",
              "    .colab-df-convert {\n",
              "      background-color: #E8F0FE;\n",
              "      border: none;\n",
              "      border-radius: 50%;\n",
              "      cursor: pointer;\n",
              "      display: none;\n",
              "      fill: #1967D2;\n",
              "      height: 32px;\n",
              "      padding: 0 0 0 0;\n",
              "      width: 32px;\n",
              "    }\n",
              "\n",
              "    .colab-df-convert:hover {\n",
              "      background-color: #E2EBFA;\n",
              "      box-shadow: 0px 1px 2px rgba(60, 64, 67, 0.3), 0px 1px 3px 1px rgba(60, 64, 67, 0.15);\n",
              "      fill: #174EA6;\n",
              "    }\n",
              "\n",
              "    [theme=dark] .colab-df-convert {\n",
              "      background-color: #3B4455;\n",
              "      fill: #D2E3FC;\n",
              "    }\n",
              "\n",
              "    [theme=dark] .colab-df-convert:hover {\n",
              "      background-color: #434B5C;\n",
              "      box-shadow: 0px 1px 3px 1px rgba(0, 0, 0, 0.15);\n",
              "      filter: drop-shadow(0px 1px 2px rgba(0, 0, 0, 0.3));\n",
              "      fill: #FFFFFF;\n",
              "    }\n",
              "  </style>\n",
              "\n",
              "      <script>\n",
              "        const buttonEl =\n",
              "          document.querySelector('#df-14f8b651-f7c0-4320-8e58-77f200622e81 button.colab-df-convert');\n",
              "        buttonEl.style.display =\n",
              "          google.colab.kernel.accessAllowed ? 'block' : 'none';\n",
              "\n",
              "        async function convertToInteractive(key) {\n",
              "          const element = document.querySelector('#df-14f8b651-f7c0-4320-8e58-77f200622e81');\n",
              "          const dataTable =\n",
              "            await google.colab.kernel.invokeFunction('convertToInteractive',\n",
              "                                                     [key], {});\n",
              "          if (!dataTable) return;\n",
              "\n",
              "          const docLinkHtml = 'Like what you see? Visit the ' +\n",
              "            '<a target=\"_blank\" href=https://colab.research.google.com/notebooks/data_table.ipynb>data table notebook</a>'\n",
              "            + ' to learn more about interactive tables.';\n",
              "          element.innerHTML = '';\n",
              "          dataTable['output_type'] = 'display_data';\n",
              "          await google.colab.output.renderOutput(dataTable, element);\n",
              "          const docLink = document.createElement('div');\n",
              "          docLink.innerHTML = docLinkHtml;\n",
              "          element.appendChild(docLink);\n",
              "        }\n",
              "      </script>\n",
              "    </div>\n",
              "  </div>\n",
              "  "
            ],
            "text/plain": [
              "                  Attributes  Decision Tree\n",
              "0                      MONTH       0.114665\n",
              "1                temperatura       0.077658\n",
              "2        Precipitacion_group       0.007806\n",
              "3        Temperatura min req       0.426042\n",
              "4        Temperatura max req       0.092111\n",
              "5        Temperatura min opt       0.166185\n",
              "6        Temperatura max opt       0.104534\n",
              "7  distancia_mes_inicio_siem       0.006085\n",
              "8     distancia_mes_fin_siem       0.001326\n",
              "9        need_humidity_group       0.003588"
            ]
          },
          "metadata": {},
          "execution_count": 40
        }
      ]
    },
    {
      "cell_type": "code",
      "source": [
        "print (\"MAE:\", metrics.mean_absolute_error(y_pred , y))\n",
        "print (\"MAPE:\", metrics.mean_absolute_percentage_error(y_pred , y))\n",
        "print (\"MSE:\", metrics.mean_squared_error(y_pred , y))\n",
        "print (\"R^2:\", metrics.r2_score(y_pred , y))"
      ],
      "metadata": {
        "colab": {
          "base_uri": "https://localhost:8080/"
        },
        "id": "Phg8quog0gCA",
        "outputId": "b805c61b-0c6d-4ebf-ecf5-5c5b9e72fe26"
      },
      "execution_count": 41,
      "outputs": [
        {
          "output_type": "stream",
          "name": "stdout",
          "text": [
            "MAE: 0.0\n",
            "MAPE: 0.0\n",
            "MSE: 0.0\n",
            "R^2: 1.0\n"
          ]
        }
      ]
    },
    {
      "cell_type": "markdown",
      "source": [
        "De nuevo el error es bajísimo, por lo que el modelo describe correctamente el fenómeno."
      ],
      "metadata": {
        "id": "jnq0RJJaCz-d"
      }
    },
    {
      "cell_type": "markdown",
      "source": [
        "#### 4.1.3 Andalucía"
      ],
      "metadata": {
        "id": "Cy9Jajsy8JGR"
      }
    },
    {
      "cell_type": "code",
      "source": [
        "aux = agroanalisis[agroanalisis['origen_Andalucia'] == 1]\n",
        "aux.head()"
      ],
      "metadata": {
        "colab": {
          "base_uri": "https://localhost:8080/",
          "height": 288
        },
        "id": "qCGptzZ98OOq",
        "outputId": "6636bc28-4571-4fad-fde8-c5348f4cd256"
      },
      "execution_count": 42,
      "outputs": [
        {
          "output_type": "execute_result",
          "data": {
            "text/html": [
              "\n",
              "  <div id=\"df-89290710-3075-4df2-a6f7-3214cde3636b\">\n",
              "    <div class=\"colab-df-container\">\n",
              "      <div>\n",
              "<style scoped>\n",
              "    .dataframe tbody tr th:only-of-type {\n",
              "        vertical-align: middle;\n",
              "    }\n",
              "\n",
              "    .dataframe tbody tr th {\n",
              "        vertical-align: top;\n",
              "    }\n",
              "\n",
              "    .dataframe thead th {\n",
              "        text-align: right;\n",
              "    }\n",
              "</style>\n",
              "<table border=\"1\" class=\"dataframe\">\n",
              "  <thead>\n",
              "    <tr style=\"text-align: right;\">\n",
              "      <th></th>\n",
              "      <th>YEAR</th>\n",
              "      <th>MONTH</th>\n",
              "      <th>temperatura</th>\n",
              "      <th>Precipitacion_group</th>\n",
              "      <th>Temperatura min req</th>\n",
              "      <th>Temperatura max req</th>\n",
              "      <th>Temperatura min opt</th>\n",
              "      <th>Temperatura max opt</th>\n",
              "      <th>distancia_mes_inicio_siem</th>\n",
              "      <th>distancia_mes_fin_siem</th>\n",
              "      <th>price_max_recolec</th>\n",
              "      <th>Volumen_max_recolec</th>\n",
              "      <th>MONTH_max_recolec</th>\n",
              "      <th>need_humidity_group</th>\n",
              "      <th>rentable</th>\n",
              "      <th>product_ACELGA</th>\n",
              "      <th>product_AJO</th>\n",
              "      <th>product_ALCACHOFA</th>\n",
              "      <th>product_APIO</th>\n",
              "      <th>product_BERENJENA</th>\n",
              "      <th>product_BROCOLI</th>\n",
              "      <th>product_CALABACIN</th>\n",
              "      <th>product_CALABAZA</th>\n",
              "      <th>product_CEBOLLA</th>\n",
              "      <th>product_CEBOLLETA</th>\n",
              "      <th>product_CHIRIVIA</th>\n",
              "      <th>product_COL BRUSELAS</th>\n",
              "      <th>product_COL CHINA</th>\n",
              "      <th>product_COL LOMBARDA</th>\n",
              "      <th>product_COL REPOLLO</th>\n",
              "      <th>product_COLIFLOR</th>\n",
              "      <th>product_ESCAROLA</th>\n",
              "      <th>product_ESPINACA</th>\n",
              "      <th>product_GUISANTE</th>\n",
              "      <th>product_HABA</th>\n",
              "      <th>product_JUDIA</th>\n",
              "      <th>product_LECHUGA</th>\n",
              "      <th>product_MAIZ</th>\n",
              "      <th>product_MELON</th>\n",
              "      <th>product_NABO</th>\n",
              "      <th>product_PATATA</th>\n",
              "      <th>product_PEPINO</th>\n",
              "      <th>product_PEREJIL</th>\n",
              "      <th>product_PIMIENTO</th>\n",
              "      <th>product_PUERRO</th>\n",
              "      <th>product_RABANITO</th>\n",
              "      <th>product_REMOLACHA</th>\n",
              "      <th>product_SANDIA</th>\n",
              "      <th>product_TOMATE</th>\n",
              "      <th>product_ZANAHORIA</th>\n",
              "      <th>origen_Andalucia</th>\n",
              "      <th>origen_Aragon</th>\n",
              "      <th>origen_Asturias</th>\n",
              "      <th>origen_Baleares</th>\n",
              "      <th>origen_Canarias</th>\n",
              "      <th>origen_Cantabria</th>\n",
              "      <th>origen_Castilla La Mancha</th>\n",
              "      <th>origen_Castilla Leon</th>\n",
              "      <th>origen_Cataluña</th>\n",
              "      <th>origen_Extremadura</th>\n",
              "      <th>origen_Galicia</th>\n",
              "      <th>origen_La Rioja</th>\n",
              "      <th>origen_Madrid</th>\n",
              "      <th>origen_Murcia</th>\n",
              "      <th>origen_Navarra</th>\n",
              "      <th>origen_Pais Vasco</th>\n",
              "      <th>origen_Valencia</th>\n",
              "    </tr>\n",
              "  </thead>\n",
              "  <tbody>\n",
              "    <tr>\n",
              "      <th>5</th>\n",
              "      <td>2018</td>\n",
              "      <td>3</td>\n",
              "      <td>11.90</td>\n",
              "      <td>2.0</td>\n",
              "      <td>6.0</td>\n",
              "      <td>33.0</td>\n",
              "      <td>15.0</td>\n",
              "      <td>25.0</td>\n",
              "      <td>0.0</td>\n",
              "      <td>-2.0</td>\n",
              "      <td>1.035714</td>\n",
              "      <td>58905.0</td>\n",
              "      <td>6.0</td>\n",
              "      <td>0.0</td>\n",
              "      <td>0</td>\n",
              "      <td>1</td>\n",
              "      <td>0</td>\n",
              "      <td>0</td>\n",
              "      <td>0</td>\n",
              "      <td>0</td>\n",
              "      <td>0</td>\n",
              "      <td>0</td>\n",
              "      <td>0</td>\n",
              "      <td>0</td>\n",
              "      <td>0</td>\n",
              "      <td>0</td>\n",
              "      <td>0</td>\n",
              "      <td>0</td>\n",
              "      <td>0</td>\n",
              "      <td>0</td>\n",
              "      <td>0</td>\n",
              "      <td>0</td>\n",
              "      <td>0</td>\n",
              "      <td>0</td>\n",
              "      <td>0</td>\n",
              "      <td>0</td>\n",
              "      <td>0</td>\n",
              "      <td>0</td>\n",
              "      <td>0</td>\n",
              "      <td>0</td>\n",
              "      <td>0</td>\n",
              "      <td>0</td>\n",
              "      <td>0</td>\n",
              "      <td>0</td>\n",
              "      <td>0</td>\n",
              "      <td>0</td>\n",
              "      <td>0</td>\n",
              "      <td>0</td>\n",
              "      <td>0</td>\n",
              "      <td>0</td>\n",
              "      <td>1</td>\n",
              "      <td>0</td>\n",
              "      <td>0</td>\n",
              "      <td>0</td>\n",
              "      <td>0</td>\n",
              "      <td>0</td>\n",
              "      <td>0</td>\n",
              "      <td>0</td>\n",
              "      <td>0</td>\n",
              "      <td>0</td>\n",
              "      <td>0</td>\n",
              "      <td>0</td>\n",
              "      <td>0</td>\n",
              "      <td>0</td>\n",
              "      <td>0</td>\n",
              "      <td>0</td>\n",
              "      <td>0</td>\n",
              "    </tr>\n",
              "    <tr>\n",
              "      <th>7</th>\n",
              "      <td>2018</td>\n",
              "      <td>4</td>\n",
              "      <td>14.84</td>\n",
              "      <td>1.0</td>\n",
              "      <td>6.0</td>\n",
              "      <td>33.0</td>\n",
              "      <td>15.0</td>\n",
              "      <td>25.0</td>\n",
              "      <td>1.0</td>\n",
              "      <td>-1.0</td>\n",
              "      <td>0.725000</td>\n",
              "      <td>16570.0</td>\n",
              "      <td>7.0</td>\n",
              "      <td>0.0</td>\n",
              "      <td>0</td>\n",
              "      <td>1</td>\n",
              "      <td>0</td>\n",
              "      <td>0</td>\n",
              "      <td>0</td>\n",
              "      <td>0</td>\n",
              "      <td>0</td>\n",
              "      <td>0</td>\n",
              "      <td>0</td>\n",
              "      <td>0</td>\n",
              "      <td>0</td>\n",
              "      <td>0</td>\n",
              "      <td>0</td>\n",
              "      <td>0</td>\n",
              "      <td>0</td>\n",
              "      <td>0</td>\n",
              "      <td>0</td>\n",
              "      <td>0</td>\n",
              "      <td>0</td>\n",
              "      <td>0</td>\n",
              "      <td>0</td>\n",
              "      <td>0</td>\n",
              "      <td>0</td>\n",
              "      <td>0</td>\n",
              "      <td>0</td>\n",
              "      <td>0</td>\n",
              "      <td>0</td>\n",
              "      <td>0</td>\n",
              "      <td>0</td>\n",
              "      <td>0</td>\n",
              "      <td>0</td>\n",
              "      <td>0</td>\n",
              "      <td>0</td>\n",
              "      <td>0</td>\n",
              "      <td>0</td>\n",
              "      <td>0</td>\n",
              "      <td>1</td>\n",
              "      <td>0</td>\n",
              "      <td>0</td>\n",
              "      <td>0</td>\n",
              "      <td>0</td>\n",
              "      <td>0</td>\n",
              "      <td>0</td>\n",
              "      <td>0</td>\n",
              "      <td>0</td>\n",
              "      <td>0</td>\n",
              "      <td>0</td>\n",
              "      <td>0</td>\n",
              "      <td>0</td>\n",
              "      <td>0</td>\n",
              "      <td>0</td>\n",
              "      <td>0</td>\n",
              "      <td>0</td>\n",
              "    </tr>\n",
              "    <tr>\n",
              "      <th>9</th>\n",
              "      <td>2018</td>\n",
              "      <td>5</td>\n",
              "      <td>17.50</td>\n",
              "      <td>0.0</td>\n",
              "      <td>6.0</td>\n",
              "      <td>33.0</td>\n",
              "      <td>15.0</td>\n",
              "      <td>25.0</td>\n",
              "      <td>2.0</td>\n",
              "      <td>0.0</td>\n",
              "      <td>0.529167</td>\n",
              "      <td>35470.0</td>\n",
              "      <td>8.0</td>\n",
              "      <td>0.0</td>\n",
              "      <td>0</td>\n",
              "      <td>1</td>\n",
              "      <td>0</td>\n",
              "      <td>0</td>\n",
              "      <td>0</td>\n",
              "      <td>0</td>\n",
              "      <td>0</td>\n",
              "      <td>0</td>\n",
              "      <td>0</td>\n",
              "      <td>0</td>\n",
              "      <td>0</td>\n",
              "      <td>0</td>\n",
              "      <td>0</td>\n",
              "      <td>0</td>\n",
              "      <td>0</td>\n",
              "      <td>0</td>\n",
              "      <td>0</td>\n",
              "      <td>0</td>\n",
              "      <td>0</td>\n",
              "      <td>0</td>\n",
              "      <td>0</td>\n",
              "      <td>0</td>\n",
              "      <td>0</td>\n",
              "      <td>0</td>\n",
              "      <td>0</td>\n",
              "      <td>0</td>\n",
              "      <td>0</td>\n",
              "      <td>0</td>\n",
              "      <td>0</td>\n",
              "      <td>0</td>\n",
              "      <td>0</td>\n",
              "      <td>0</td>\n",
              "      <td>0</td>\n",
              "      <td>0</td>\n",
              "      <td>0</td>\n",
              "      <td>0</td>\n",
              "      <td>1</td>\n",
              "      <td>0</td>\n",
              "      <td>0</td>\n",
              "      <td>0</td>\n",
              "      <td>0</td>\n",
              "      <td>0</td>\n",
              "      <td>0</td>\n",
              "      <td>0</td>\n",
              "      <td>0</td>\n",
              "      <td>0</td>\n",
              "      <td>0</td>\n",
              "      <td>0</td>\n",
              "      <td>0</td>\n",
              "      <td>0</td>\n",
              "      <td>0</td>\n",
              "      <td>0</td>\n",
              "      <td>0</td>\n",
              "    </tr>\n",
              "    <tr>\n",
              "      <th>18</th>\n",
              "      <td>2018</td>\n",
              "      <td>10</td>\n",
              "      <td>18.05</td>\n",
              "      <td>1.0</td>\n",
              "      <td>6.0</td>\n",
              "      <td>33.0</td>\n",
              "      <td>15.0</td>\n",
              "      <td>25.0</td>\n",
              "      <td>1.0</td>\n",
              "      <td>-1.0</td>\n",
              "      <td>0.880000</td>\n",
              "      <td>61704.0</td>\n",
              "      <td>1.0</td>\n",
              "      <td>0.0</td>\n",
              "      <td>0</td>\n",
              "      <td>1</td>\n",
              "      <td>0</td>\n",
              "      <td>0</td>\n",
              "      <td>0</td>\n",
              "      <td>0</td>\n",
              "      <td>0</td>\n",
              "      <td>0</td>\n",
              "      <td>0</td>\n",
              "      <td>0</td>\n",
              "      <td>0</td>\n",
              "      <td>0</td>\n",
              "      <td>0</td>\n",
              "      <td>0</td>\n",
              "      <td>0</td>\n",
              "      <td>0</td>\n",
              "      <td>0</td>\n",
              "      <td>0</td>\n",
              "      <td>0</td>\n",
              "      <td>0</td>\n",
              "      <td>0</td>\n",
              "      <td>0</td>\n",
              "      <td>0</td>\n",
              "      <td>0</td>\n",
              "      <td>0</td>\n",
              "      <td>0</td>\n",
              "      <td>0</td>\n",
              "      <td>0</td>\n",
              "      <td>0</td>\n",
              "      <td>0</td>\n",
              "      <td>0</td>\n",
              "      <td>0</td>\n",
              "      <td>0</td>\n",
              "      <td>0</td>\n",
              "      <td>0</td>\n",
              "      <td>0</td>\n",
              "      <td>1</td>\n",
              "      <td>0</td>\n",
              "      <td>0</td>\n",
              "      <td>0</td>\n",
              "      <td>0</td>\n",
              "      <td>0</td>\n",
              "      <td>0</td>\n",
              "      <td>0</td>\n",
              "      <td>0</td>\n",
              "      <td>0</td>\n",
              "      <td>0</td>\n",
              "      <td>0</td>\n",
              "      <td>0</td>\n",
              "      <td>0</td>\n",
              "      <td>0</td>\n",
              "      <td>0</td>\n",
              "      <td>0</td>\n",
              "    </tr>\n",
              "    <tr>\n",
              "      <th>20</th>\n",
              "      <td>2018</td>\n",
              "      <td>11</td>\n",
              "      <td>13.19</td>\n",
              "      <td>1.0</td>\n",
              "      <td>6.0</td>\n",
              "      <td>33.0</td>\n",
              "      <td>15.0</td>\n",
              "      <td>25.0</td>\n",
              "      <td>2.0</td>\n",
              "      <td>0.0</td>\n",
              "      <td>0.682381</td>\n",
              "      <td>106154.0</td>\n",
              "      <td>2.0</td>\n",
              "      <td>0.0</td>\n",
              "      <td>0</td>\n",
              "      <td>1</td>\n",
              "      <td>0</td>\n",
              "      <td>0</td>\n",
              "      <td>0</td>\n",
              "      <td>0</td>\n",
              "      <td>0</td>\n",
              "      <td>0</td>\n",
              "      <td>0</td>\n",
              "      <td>0</td>\n",
              "      <td>0</td>\n",
              "      <td>0</td>\n",
              "      <td>0</td>\n",
              "      <td>0</td>\n",
              "      <td>0</td>\n",
              "      <td>0</td>\n",
              "      <td>0</td>\n",
              "      <td>0</td>\n",
              "      <td>0</td>\n",
              "      <td>0</td>\n",
              "      <td>0</td>\n",
              "      <td>0</td>\n",
              "      <td>0</td>\n",
              "      <td>0</td>\n",
              "      <td>0</td>\n",
              "      <td>0</td>\n",
              "      <td>0</td>\n",
              "      <td>0</td>\n",
              "      <td>0</td>\n",
              "      <td>0</td>\n",
              "      <td>0</td>\n",
              "      <td>0</td>\n",
              "      <td>0</td>\n",
              "      <td>0</td>\n",
              "      <td>0</td>\n",
              "      <td>0</td>\n",
              "      <td>1</td>\n",
              "      <td>0</td>\n",
              "      <td>0</td>\n",
              "      <td>0</td>\n",
              "      <td>0</td>\n",
              "      <td>0</td>\n",
              "      <td>0</td>\n",
              "      <td>0</td>\n",
              "      <td>0</td>\n",
              "      <td>0</td>\n",
              "      <td>0</td>\n",
              "      <td>0</td>\n",
              "      <td>0</td>\n",
              "      <td>0</td>\n",
              "      <td>0</td>\n",
              "      <td>0</td>\n",
              "      <td>0</td>\n",
              "    </tr>\n",
              "  </tbody>\n",
              "</table>\n",
              "</div>\n",
              "      <button class=\"colab-df-convert\" onclick=\"convertToInteractive('df-89290710-3075-4df2-a6f7-3214cde3636b')\"\n",
              "              title=\"Convert this dataframe to an interactive table.\"\n",
              "              style=\"display:none;\">\n",
              "        \n",
              "  <svg xmlns=\"http://www.w3.org/2000/svg\" height=\"24px\"viewBox=\"0 0 24 24\"\n",
              "       width=\"24px\">\n",
              "    <path d=\"M0 0h24v24H0V0z\" fill=\"none\"/>\n",
              "    <path d=\"M18.56 5.44l.94 2.06.94-2.06 2.06-.94-2.06-.94-.94-2.06-.94 2.06-2.06.94zm-11 1L8.5 8.5l.94-2.06 2.06-.94-2.06-.94L8.5 2.5l-.94 2.06-2.06.94zm10 10l.94 2.06.94-2.06 2.06-.94-2.06-.94-.94-2.06-.94 2.06-2.06.94z\"/><path d=\"M17.41 7.96l-1.37-1.37c-.4-.4-.92-.59-1.43-.59-.52 0-1.04.2-1.43.59L10.3 9.45l-7.72 7.72c-.78.78-.78 2.05 0 2.83L4 21.41c.39.39.9.59 1.41.59.51 0 1.02-.2 1.41-.59l7.78-7.78 2.81-2.81c.8-.78.8-2.07 0-2.86zM5.41 20L4 18.59l7.72-7.72 1.47 1.35L5.41 20z\"/>\n",
              "  </svg>\n",
              "      </button>\n",
              "      \n",
              "  <style>\n",
              "    .colab-df-container {\n",
              "      display:flex;\n",
              "      flex-wrap:wrap;\n",
              "      gap: 12px;\n",
              "    }\n",
              "\n",
              "    .colab-df-convert {\n",
              "      background-color: #E8F0FE;\n",
              "      border: none;\n",
              "      border-radius: 50%;\n",
              "      cursor: pointer;\n",
              "      display: none;\n",
              "      fill: #1967D2;\n",
              "      height: 32px;\n",
              "      padding: 0 0 0 0;\n",
              "      width: 32px;\n",
              "    }\n",
              "\n",
              "    .colab-df-convert:hover {\n",
              "      background-color: #E2EBFA;\n",
              "      box-shadow: 0px 1px 2px rgba(60, 64, 67, 0.3), 0px 1px 3px 1px rgba(60, 64, 67, 0.15);\n",
              "      fill: #174EA6;\n",
              "    }\n",
              "\n",
              "    [theme=dark] .colab-df-convert {\n",
              "      background-color: #3B4455;\n",
              "      fill: #D2E3FC;\n",
              "    }\n",
              "\n",
              "    [theme=dark] .colab-df-convert:hover {\n",
              "      background-color: #434B5C;\n",
              "      box-shadow: 0px 1px 3px 1px rgba(0, 0, 0, 0.15);\n",
              "      filter: drop-shadow(0px 1px 2px rgba(0, 0, 0, 0.3));\n",
              "      fill: #FFFFFF;\n",
              "    }\n",
              "  </style>\n",
              "\n",
              "      <script>\n",
              "        const buttonEl =\n",
              "          document.querySelector('#df-89290710-3075-4df2-a6f7-3214cde3636b button.colab-df-convert');\n",
              "        buttonEl.style.display =\n",
              "          google.colab.kernel.accessAllowed ? 'block' : 'none';\n",
              "\n",
              "        async function convertToInteractive(key) {\n",
              "          const element = document.querySelector('#df-89290710-3075-4df2-a6f7-3214cde3636b');\n",
              "          const dataTable =\n",
              "            await google.colab.kernel.invokeFunction('convertToInteractive',\n",
              "                                                     [key], {});\n",
              "          if (!dataTable) return;\n",
              "\n",
              "          const docLinkHtml = 'Like what you see? Visit the ' +\n",
              "            '<a target=\"_blank\" href=https://colab.research.google.com/notebooks/data_table.ipynb>data table notebook</a>'\n",
              "            + ' to learn more about interactive tables.';\n",
              "          element.innerHTML = '';\n",
              "          dataTable['output_type'] = 'display_data';\n",
              "          await google.colab.output.renderOutput(dataTable, element);\n",
              "          const docLink = document.createElement('div');\n",
              "          docLink.innerHTML = docLinkHtml;\n",
              "          element.appendChild(docLink);\n",
              "        }\n",
              "      </script>\n",
              "    </div>\n",
              "  </div>\n",
              "  "
            ],
            "text/plain": [
              "    YEAR  MONTH  ...  origen_Pais Vasco  origen_Valencia\n",
              "5   2018      3  ...                  0                0\n",
              "7   2018      4  ...                  0                0\n",
              "9   2018      5  ...                  0                0\n",
              "18  2018     10  ...                  0                0\n",
              "20  2018     11  ...                  0                0\n",
              "\n",
              "[5 rows x 67 columns]"
            ]
          },
          "metadata": {},
          "execution_count": 42
        }
      ]
    },
    {
      "cell_type": "code",
      "source": [
        "x_features = list(aux.columns)\n",
        "x_features = [ item for item in x_features if 'origen_' not in item]\n",
        "x_features = [ item for item in x_features if 'product_' not in item]\n",
        "x_features.remove('rentable')\n",
        "x_features.remove('YEAR')\n",
        "x_features.remove('price_max_recolec')\n",
        "x_features.remove('Volumen_max_recolec')\n",
        "x_features.remove('MONTH_max_recolec')"
      ],
      "metadata": {
        "id": "aJ_8yBCX8Tur"
      },
      "execution_count": 43,
      "outputs": []
    },
    {
      "cell_type": "code",
      "source": [
        "X = aux[x_features]\n",
        "y = aux['price_max_recolec']"
      ],
      "metadata": {
        "id": "w695Dy0n8TxJ"
      },
      "execution_count": 44,
      "outputs": []
    },
    {
      "cell_type": "code",
      "source": [
        "regressor = DecisionTreeRegressor(criterion='mse', random_state=0)\n",
        "regressor.fit(X, y)\n",
        "\n",
        "y_pred = regressor.predict(X = X)"
      ],
      "metadata": {
        "colab": {
          "base_uri": "https://localhost:8080/"
        },
        "id": "BPPTZZwP8Tze",
        "outputId": "60237272-a451-4dd3-e21d-90f6e473b5cd"
      },
      "execution_count": 45,
      "outputs": [
        {
          "output_type": "stream",
          "name": "stderr",
          "text": [
            "/usr/local/lib/python3.7/dist-packages/sklearn/tree/_classes.py:363: FutureWarning: Criterion 'mse' was deprecated in v1.0 and will be removed in version 1.2. Use `criterion='squared_error'` which is equivalent.\n",
            "  FutureWarning,\n"
          ]
        }
      ]
    },
    {
      "cell_type": "code",
      "source": [
        "print ('Feature Relevances')\n",
        "pd.DataFrame({'Attributes': x_features ,\n",
        "              'Decision Tree': regressor.feature_importances_})"
      ],
      "metadata": {
        "colab": {
          "base_uri": "https://localhost:8080/",
          "height": 380
        },
        "id": "7Dga0RYe8a1i",
        "outputId": "206aab4c-9985-4313-b70d-7ee4784a1ca3"
      },
      "execution_count": 46,
      "outputs": [
        {
          "output_type": "stream",
          "name": "stdout",
          "text": [
            "Feature Relevances\n"
          ]
        },
        {
          "output_type": "execute_result",
          "data": {
            "text/html": [
              "\n",
              "  <div id=\"df-760b9558-52e9-4dcf-95ed-3eaf92b927a1\">\n",
              "    <div class=\"colab-df-container\">\n",
              "      <div>\n",
              "<style scoped>\n",
              "    .dataframe tbody tr th:only-of-type {\n",
              "        vertical-align: middle;\n",
              "    }\n",
              "\n",
              "    .dataframe tbody tr th {\n",
              "        vertical-align: top;\n",
              "    }\n",
              "\n",
              "    .dataframe thead th {\n",
              "        text-align: right;\n",
              "    }\n",
              "</style>\n",
              "<table border=\"1\" class=\"dataframe\">\n",
              "  <thead>\n",
              "    <tr style=\"text-align: right;\">\n",
              "      <th></th>\n",
              "      <th>Attributes</th>\n",
              "      <th>Decision Tree</th>\n",
              "    </tr>\n",
              "  </thead>\n",
              "  <tbody>\n",
              "    <tr>\n",
              "      <th>0</th>\n",
              "      <td>MONTH</td>\n",
              "      <td>0.022249</td>\n",
              "    </tr>\n",
              "    <tr>\n",
              "      <th>1</th>\n",
              "      <td>temperatura</td>\n",
              "      <td>0.131240</td>\n",
              "    </tr>\n",
              "    <tr>\n",
              "      <th>2</th>\n",
              "      <td>Precipitacion_group</td>\n",
              "      <td>0.002168</td>\n",
              "    </tr>\n",
              "    <tr>\n",
              "      <th>3</th>\n",
              "      <td>Temperatura min req</td>\n",
              "      <td>0.140059</td>\n",
              "    </tr>\n",
              "    <tr>\n",
              "      <th>4</th>\n",
              "      <td>Temperatura max req</td>\n",
              "      <td>0.222578</td>\n",
              "    </tr>\n",
              "    <tr>\n",
              "      <th>5</th>\n",
              "      <td>Temperatura min opt</td>\n",
              "      <td>0.341773</td>\n",
              "    </tr>\n",
              "    <tr>\n",
              "      <th>6</th>\n",
              "      <td>Temperatura max opt</td>\n",
              "      <td>0.101533</td>\n",
              "    </tr>\n",
              "    <tr>\n",
              "      <th>7</th>\n",
              "      <td>distancia_mes_inicio_siem</td>\n",
              "      <td>0.000848</td>\n",
              "    </tr>\n",
              "    <tr>\n",
              "      <th>8</th>\n",
              "      <td>distancia_mes_fin_siem</td>\n",
              "      <td>0.005457</td>\n",
              "    </tr>\n",
              "    <tr>\n",
              "      <th>9</th>\n",
              "      <td>need_humidity_group</td>\n",
              "      <td>0.032095</td>\n",
              "    </tr>\n",
              "  </tbody>\n",
              "</table>\n",
              "</div>\n",
              "      <button class=\"colab-df-convert\" onclick=\"convertToInteractive('df-760b9558-52e9-4dcf-95ed-3eaf92b927a1')\"\n",
              "              title=\"Convert this dataframe to an interactive table.\"\n",
              "              style=\"display:none;\">\n",
              "        \n",
              "  <svg xmlns=\"http://www.w3.org/2000/svg\" height=\"24px\"viewBox=\"0 0 24 24\"\n",
              "       width=\"24px\">\n",
              "    <path d=\"M0 0h24v24H0V0z\" fill=\"none\"/>\n",
              "    <path d=\"M18.56 5.44l.94 2.06.94-2.06 2.06-.94-2.06-.94-.94-2.06-.94 2.06-2.06.94zm-11 1L8.5 8.5l.94-2.06 2.06-.94-2.06-.94L8.5 2.5l-.94 2.06-2.06.94zm10 10l.94 2.06.94-2.06 2.06-.94-2.06-.94-.94-2.06-.94 2.06-2.06.94z\"/><path d=\"M17.41 7.96l-1.37-1.37c-.4-.4-.92-.59-1.43-.59-.52 0-1.04.2-1.43.59L10.3 9.45l-7.72 7.72c-.78.78-.78 2.05 0 2.83L4 21.41c.39.39.9.59 1.41.59.51 0 1.02-.2 1.41-.59l7.78-7.78 2.81-2.81c.8-.78.8-2.07 0-2.86zM5.41 20L4 18.59l7.72-7.72 1.47 1.35L5.41 20z\"/>\n",
              "  </svg>\n",
              "      </button>\n",
              "      \n",
              "  <style>\n",
              "    .colab-df-container {\n",
              "      display:flex;\n",
              "      flex-wrap:wrap;\n",
              "      gap: 12px;\n",
              "    }\n",
              "\n",
              "    .colab-df-convert {\n",
              "      background-color: #E8F0FE;\n",
              "      border: none;\n",
              "      border-radius: 50%;\n",
              "      cursor: pointer;\n",
              "      display: none;\n",
              "      fill: #1967D2;\n",
              "      height: 32px;\n",
              "      padding: 0 0 0 0;\n",
              "      width: 32px;\n",
              "    }\n",
              "\n",
              "    .colab-df-convert:hover {\n",
              "      background-color: #E2EBFA;\n",
              "      box-shadow: 0px 1px 2px rgba(60, 64, 67, 0.3), 0px 1px 3px 1px rgba(60, 64, 67, 0.15);\n",
              "      fill: #174EA6;\n",
              "    }\n",
              "\n",
              "    [theme=dark] .colab-df-convert {\n",
              "      background-color: #3B4455;\n",
              "      fill: #D2E3FC;\n",
              "    }\n",
              "\n",
              "    [theme=dark] .colab-df-convert:hover {\n",
              "      background-color: #434B5C;\n",
              "      box-shadow: 0px 1px 3px 1px rgba(0, 0, 0, 0.15);\n",
              "      filter: drop-shadow(0px 1px 2px rgba(0, 0, 0, 0.3));\n",
              "      fill: #FFFFFF;\n",
              "    }\n",
              "  </style>\n",
              "\n",
              "      <script>\n",
              "        const buttonEl =\n",
              "          document.querySelector('#df-760b9558-52e9-4dcf-95ed-3eaf92b927a1 button.colab-df-convert');\n",
              "        buttonEl.style.display =\n",
              "          google.colab.kernel.accessAllowed ? 'block' : 'none';\n",
              "\n",
              "        async function convertToInteractive(key) {\n",
              "          const element = document.querySelector('#df-760b9558-52e9-4dcf-95ed-3eaf92b927a1');\n",
              "          const dataTable =\n",
              "            await google.colab.kernel.invokeFunction('convertToInteractive',\n",
              "                                                     [key], {});\n",
              "          if (!dataTable) return;\n",
              "\n",
              "          const docLinkHtml = 'Like what you see? Visit the ' +\n",
              "            '<a target=\"_blank\" href=https://colab.research.google.com/notebooks/data_table.ipynb>data table notebook</a>'\n",
              "            + ' to learn more about interactive tables.';\n",
              "          element.innerHTML = '';\n",
              "          dataTable['output_type'] = 'display_data';\n",
              "          await google.colab.output.renderOutput(dataTable, element);\n",
              "          const docLink = document.createElement('div');\n",
              "          docLink.innerHTML = docLinkHtml;\n",
              "          element.appendChild(docLink);\n",
              "        }\n",
              "      </script>\n",
              "    </div>\n",
              "  </div>\n",
              "  "
            ],
            "text/plain": [
              "                  Attributes  Decision Tree\n",
              "0                      MONTH       0.022249\n",
              "1                temperatura       0.131240\n",
              "2        Precipitacion_group       0.002168\n",
              "3        Temperatura min req       0.140059\n",
              "4        Temperatura max req       0.222578\n",
              "5        Temperatura min opt       0.341773\n",
              "6        Temperatura max opt       0.101533\n",
              "7  distancia_mes_inicio_siem       0.000848\n",
              "8     distancia_mes_fin_siem       0.005457\n",
              "9        need_humidity_group       0.032095"
            ]
          },
          "metadata": {},
          "execution_count": 46
        }
      ]
    },
    {
      "cell_type": "code",
      "source": [
        "print (\"MAE:\", metrics.mean_absolute_error(y_pred , y))\n",
        "print (\"MAPE:\", metrics.mean_absolute_percentage_error(y_pred , y))\n",
        "print (\"MSE:\", metrics.mean_squared_error(y_pred , y))\n",
        "print (\"R^2:\", metrics.r2_score(y_pred , y))"
      ],
      "metadata": {
        "colab": {
          "base_uri": "https://localhost:8080/"
        },
        "id": "UAO-z6TU8dAc",
        "outputId": "1d95dc59-73f1-4f12-d4ee-ae4f2a948bf8"
      },
      "execution_count": 47,
      "outputs": [
        {
          "output_type": "stream",
          "name": "stdout",
          "text": [
            "MAE: 0.0\n",
            "MAPE: 0.0\n",
            "MSE: 0.0\n",
            "R^2: 1.0\n"
          ]
        }
      ]
    },
    {
      "cell_type": "markdown",
      "source": [
        "De nuevo el error es bajísimo, por lo que el modelo describe correctamente el fenómeno."
      ],
      "metadata": {
        "id": "pLOoqDEaDGH9"
      }
    },
    {
      "cell_type": "markdown",
      "source": [
        "#### 4.1.4 Conclusión"
      ],
      "metadata": {
        "id": "qiAE-etaIu6l"
      }
    },
    {
      "cell_type": "markdown",
      "source": [
        "El contraste en la **importancia de cada región con respecto a la *need_humidity_group*** es destacable: en Galicia, al tratarse de la zona más húmeda, en los cultivos que se planten allí tiene sentido que se vean influenciados por la humedad más que en las otras dos regiones (0.17 de importancia en Galicia frente a 0.003 y 0.03 en CLM y Andalucía).  \n",
        "Algo parecido ocurre con ***precipitacion_group***: en el caso de CLM y Andalucía, al tratarse de zonas en las que las precipitaciones son más intermitentes, tiene sentido que le el grupo de precipitación sea menos influyente en los cultivos que se siembren en estas regiones (0.007 en CLM y 0.002 en Andalucía).  \n",
        "Respecto a la **temperatura de los cultivos**, en general tiene bastante importancia en todas las regiones en las que se han realizado pruebas. Destaca que la temperatura que más relevancia tiene en Galicia es la máxima. Si bien puede parecer inicialmente paradójico, debido a que el requerimiento de temperatura mínima es más estricto en Galicia, tiene sentido que el modelo le de más importancia. Esto es debido a que la diferencia de la temperatura real con la temperatura mínima del cultivo es menor que la diferencia con la temperatura máxima del cultivo. Esta lógica también se aplica a la temperatura mínima en las comunidades de Castilla-La Mancha y Andalucía.  \n",
        "\n",
        "En general, las distancias hasta el mes de inicio y fin siembra no son demasiado influyentes."
      ],
      "metadata": {
        "id": "42HW3FJUIyb0"
      }
    },
    {
      "cell_type": "markdown",
      "source": [
        "### 4.2 Influencia de variables por característica "
      ],
      "metadata": {
        "id": "uPRlzoEkcuMj"
      }
    },
    {
      "cell_type": "markdown",
      "source": [
        "Para estudiar la influencia de cada característica, se **predice el precio ignorando dicha característica** y se compara con el precio real. Por cada característica se crea un modelo."
      ],
      "metadata": {
        "id": "44D5l1xC-Lmz"
      }
    },
    {
      "cell_type": "code",
      "source": [
        "x_features_all = [\"MONTH\",\n",
        "\"temperatura\",\n",
        "\"Precipitacion_group\",\n",
        "*list(product_origen_inference.keys())]\n",
        "\n",
        "x_features_month = [feature for feature in x_features_all if feature != 'MONTH']\n",
        "x_features_temperatura = [feature for feature in x_features_all if feature != 'temperatura']\n",
        "x_features_precipitacion = [feature for feature in x_features_all if feature != 'Precipitacion_group']"
      ],
      "metadata": {
        "id": "sYbT6CQmeTrM"
      },
      "execution_count": 48,
      "outputs": []
    },
    {
      "cell_type": "markdown",
      "source": [
        "#### 4.2.1 Modelo del mes"
      ],
      "metadata": {
        "id": "m9QU7O8Oh1Gf"
      }
    },
    {
      "cell_type": "code",
      "source": [
        "X = agroanalisis[x_features_month]\n",
        "y = agroanalisis['price_max_recolec']\n",
        "\n",
        "X_train, X_test, y_train, y_test = train_test_split( X, y, test_size=0.33, random_state=42)\n",
        "X_train.head()"
      ],
      "metadata": {
        "colab": {
          "base_uri": "https://localhost:8080/",
          "height": 288
        },
        "id": "BB5soZEzf4He",
        "outputId": "fc9db86d-3f2f-4616-b878-44bd64d154fc"
      },
      "execution_count": 49,
      "outputs": [
        {
          "output_type": "execute_result",
          "data": {
            "text/html": [
              "\n",
              "  <div id=\"df-904ecb06-53d1-4800-8815-aa8ad110aa05\">\n",
              "    <div class=\"colab-df-container\">\n",
              "      <div>\n",
              "<style scoped>\n",
              "    .dataframe tbody tr th:only-of-type {\n",
              "        vertical-align: middle;\n",
              "    }\n",
              "\n",
              "    .dataframe tbody tr th {\n",
              "        vertical-align: top;\n",
              "    }\n",
              "\n",
              "    .dataframe thead th {\n",
              "        text-align: right;\n",
              "    }\n",
              "</style>\n",
              "<table border=\"1\" class=\"dataframe\">\n",
              "  <thead>\n",
              "    <tr style=\"text-align: right;\">\n",
              "      <th></th>\n",
              "      <th>temperatura</th>\n",
              "      <th>Precipitacion_group</th>\n",
              "      <th>product_ACELGA</th>\n",
              "      <th>product_AJO</th>\n",
              "      <th>product_ALCACHOFA</th>\n",
              "      <th>product_APIO</th>\n",
              "      <th>product_BERENJENA</th>\n",
              "      <th>product_BROCOLI</th>\n",
              "      <th>product_CALABACIN</th>\n",
              "      <th>product_CALABAZA</th>\n",
              "      <th>product_CEBOLLA</th>\n",
              "      <th>product_CEBOLLETA</th>\n",
              "      <th>product_CHIRIVIA</th>\n",
              "      <th>product_COL BRUSELAS</th>\n",
              "      <th>product_COL CHINA</th>\n",
              "      <th>product_COL LOMBARDA</th>\n",
              "      <th>product_COL REPOLLO</th>\n",
              "      <th>product_COLIFLOR</th>\n",
              "      <th>product_ESCAROLA</th>\n",
              "      <th>product_ESPINACA</th>\n",
              "      <th>product_GUISANTE</th>\n",
              "      <th>product_HABA</th>\n",
              "      <th>product_JUDIA</th>\n",
              "      <th>product_LECHUGA</th>\n",
              "      <th>product_MAIZ</th>\n",
              "      <th>product_MELON</th>\n",
              "      <th>product_NABO</th>\n",
              "      <th>product_PATATA</th>\n",
              "      <th>product_PEPINO</th>\n",
              "      <th>product_PEREJIL</th>\n",
              "      <th>product_PIMIENTO</th>\n",
              "      <th>product_PUERRO</th>\n",
              "      <th>product_RABANITO</th>\n",
              "      <th>product_REMOLACHA</th>\n",
              "      <th>product_SANDIA</th>\n",
              "      <th>product_TOMATE</th>\n",
              "      <th>product_ZANAHORIA</th>\n",
              "      <th>origen_Andalucia</th>\n",
              "      <th>origen_Aragon</th>\n",
              "      <th>origen_Asturias</th>\n",
              "      <th>origen_Baleares</th>\n",
              "      <th>origen_Canarias</th>\n",
              "      <th>origen_Cantabria</th>\n",
              "      <th>origen_Castilla La Mancha</th>\n",
              "      <th>origen_Castilla Leon</th>\n",
              "      <th>origen_Cataluña</th>\n",
              "      <th>origen_Extremadura</th>\n",
              "      <th>origen_Galicia</th>\n",
              "      <th>origen_La Rioja</th>\n",
              "      <th>origen_Madrid</th>\n",
              "      <th>origen_Murcia</th>\n",
              "      <th>origen_Navarra</th>\n",
              "      <th>origen_Pais Vasco</th>\n",
              "      <th>origen_Valencia</th>\n",
              "    </tr>\n",
              "  </thead>\n",
              "  <tbody>\n",
              "    <tr>\n",
              "      <th>702</th>\n",
              "      <td>22.07</td>\n",
              "      <td>0.0</td>\n",
              "      <td>0</td>\n",
              "      <td>1</td>\n",
              "      <td>0</td>\n",
              "      <td>0</td>\n",
              "      <td>0</td>\n",
              "      <td>0</td>\n",
              "      <td>0</td>\n",
              "      <td>0</td>\n",
              "      <td>0</td>\n",
              "      <td>0</td>\n",
              "      <td>0</td>\n",
              "      <td>0</td>\n",
              "      <td>0</td>\n",
              "      <td>0</td>\n",
              "      <td>0</td>\n",
              "      <td>0</td>\n",
              "      <td>0</td>\n",
              "      <td>0</td>\n",
              "      <td>0</td>\n",
              "      <td>0</td>\n",
              "      <td>0</td>\n",
              "      <td>0</td>\n",
              "      <td>0</td>\n",
              "      <td>0</td>\n",
              "      <td>0</td>\n",
              "      <td>0</td>\n",
              "      <td>0</td>\n",
              "      <td>0</td>\n",
              "      <td>0</td>\n",
              "      <td>0</td>\n",
              "      <td>0</td>\n",
              "      <td>0</td>\n",
              "      <td>0</td>\n",
              "      <td>0</td>\n",
              "      <td>0</td>\n",
              "      <td>0</td>\n",
              "      <td>0</td>\n",
              "      <td>0</td>\n",
              "      <td>0</td>\n",
              "      <td>0</td>\n",
              "      <td>0</td>\n",
              "      <td>1</td>\n",
              "      <td>0</td>\n",
              "      <td>0</td>\n",
              "      <td>0</td>\n",
              "      <td>0</td>\n",
              "      <td>0</td>\n",
              "      <td>0</td>\n",
              "      <td>0</td>\n",
              "      <td>0</td>\n",
              "      <td>0</td>\n",
              "      <td>0</td>\n",
              "    </tr>\n",
              "    <tr>\n",
              "      <th>17623</th>\n",
              "      <td>9.40</td>\n",
              "      <td>1.0</td>\n",
              "      <td>0</td>\n",
              "      <td>0</td>\n",
              "      <td>0</td>\n",
              "      <td>0</td>\n",
              "      <td>0</td>\n",
              "      <td>0</td>\n",
              "      <td>0</td>\n",
              "      <td>0</td>\n",
              "      <td>0</td>\n",
              "      <td>0</td>\n",
              "      <td>0</td>\n",
              "      <td>0</td>\n",
              "      <td>0</td>\n",
              "      <td>0</td>\n",
              "      <td>0</td>\n",
              "      <td>0</td>\n",
              "      <td>0</td>\n",
              "      <td>0</td>\n",
              "      <td>0</td>\n",
              "      <td>0</td>\n",
              "      <td>0</td>\n",
              "      <td>0</td>\n",
              "      <td>0</td>\n",
              "      <td>1</td>\n",
              "      <td>0</td>\n",
              "      <td>0</td>\n",
              "      <td>0</td>\n",
              "      <td>0</td>\n",
              "      <td>0</td>\n",
              "      <td>0</td>\n",
              "      <td>0</td>\n",
              "      <td>0</td>\n",
              "      <td>0</td>\n",
              "      <td>0</td>\n",
              "      <td>0</td>\n",
              "      <td>0</td>\n",
              "      <td>0</td>\n",
              "      <td>0</td>\n",
              "      <td>0</td>\n",
              "      <td>0</td>\n",
              "      <td>0</td>\n",
              "      <td>0</td>\n",
              "      <td>0</td>\n",
              "      <td>0</td>\n",
              "      <td>0</td>\n",
              "      <td>0</td>\n",
              "      <td>0</td>\n",
              "      <td>0</td>\n",
              "      <td>0</td>\n",
              "      <td>0</td>\n",
              "      <td>1</td>\n",
              "      <td>0</td>\n",
              "    </tr>\n",
              "    <tr>\n",
              "      <th>10686</th>\n",
              "      <td>13.63</td>\n",
              "      <td>1.0</td>\n",
              "      <td>0</td>\n",
              "      <td>0</td>\n",
              "      <td>0</td>\n",
              "      <td>0</td>\n",
              "      <td>0</td>\n",
              "      <td>0</td>\n",
              "      <td>0</td>\n",
              "      <td>0</td>\n",
              "      <td>0</td>\n",
              "      <td>0</td>\n",
              "      <td>0</td>\n",
              "      <td>0</td>\n",
              "      <td>0</td>\n",
              "      <td>0</td>\n",
              "      <td>0</td>\n",
              "      <td>0</td>\n",
              "      <td>0</td>\n",
              "      <td>0</td>\n",
              "      <td>0</td>\n",
              "      <td>0</td>\n",
              "      <td>0</td>\n",
              "      <td>1</td>\n",
              "      <td>0</td>\n",
              "      <td>0</td>\n",
              "      <td>0</td>\n",
              "      <td>0</td>\n",
              "      <td>0</td>\n",
              "      <td>0</td>\n",
              "      <td>0</td>\n",
              "      <td>0</td>\n",
              "      <td>0</td>\n",
              "      <td>0</td>\n",
              "      <td>0</td>\n",
              "      <td>0</td>\n",
              "      <td>0</td>\n",
              "      <td>0</td>\n",
              "      <td>0</td>\n",
              "      <td>0</td>\n",
              "      <td>0</td>\n",
              "      <td>0</td>\n",
              "      <td>0</td>\n",
              "      <td>0</td>\n",
              "      <td>0</td>\n",
              "      <td>0</td>\n",
              "      <td>0</td>\n",
              "      <td>0</td>\n",
              "      <td>0</td>\n",
              "      <td>1</td>\n",
              "      <td>0</td>\n",
              "      <td>0</td>\n",
              "      <td>0</td>\n",
              "      <td>0</td>\n",
              "    </tr>\n",
              "    <tr>\n",
              "      <th>13470</th>\n",
              "      <td>9.51</td>\n",
              "      <td>0.0</td>\n",
              "      <td>0</td>\n",
              "      <td>0</td>\n",
              "      <td>0</td>\n",
              "      <td>0</td>\n",
              "      <td>0</td>\n",
              "      <td>0</td>\n",
              "      <td>0</td>\n",
              "      <td>0</td>\n",
              "      <td>0</td>\n",
              "      <td>0</td>\n",
              "      <td>0</td>\n",
              "      <td>0</td>\n",
              "      <td>0</td>\n",
              "      <td>0</td>\n",
              "      <td>0</td>\n",
              "      <td>0</td>\n",
              "      <td>0</td>\n",
              "      <td>0</td>\n",
              "      <td>0</td>\n",
              "      <td>0</td>\n",
              "      <td>0</td>\n",
              "      <td>0</td>\n",
              "      <td>0</td>\n",
              "      <td>0</td>\n",
              "      <td>0</td>\n",
              "      <td>0</td>\n",
              "      <td>0</td>\n",
              "      <td>0</td>\n",
              "      <td>1</td>\n",
              "      <td>0</td>\n",
              "      <td>0</td>\n",
              "      <td>0</td>\n",
              "      <td>0</td>\n",
              "      <td>0</td>\n",
              "      <td>0</td>\n",
              "      <td>0</td>\n",
              "      <td>0</td>\n",
              "      <td>0</td>\n",
              "      <td>0</td>\n",
              "      <td>0</td>\n",
              "      <td>1</td>\n",
              "      <td>0</td>\n",
              "      <td>0</td>\n",
              "      <td>0</td>\n",
              "      <td>0</td>\n",
              "      <td>0</td>\n",
              "      <td>0</td>\n",
              "      <td>0</td>\n",
              "      <td>0</td>\n",
              "      <td>0</td>\n",
              "      <td>0</td>\n",
              "      <td>0</td>\n",
              "    </tr>\n",
              "    <tr>\n",
              "      <th>10629</th>\n",
              "      <td>10.30</td>\n",
              "      <td>1.0</td>\n",
              "      <td>0</td>\n",
              "      <td>0</td>\n",
              "      <td>0</td>\n",
              "      <td>0</td>\n",
              "      <td>0</td>\n",
              "      <td>0</td>\n",
              "      <td>0</td>\n",
              "      <td>0</td>\n",
              "      <td>0</td>\n",
              "      <td>0</td>\n",
              "      <td>0</td>\n",
              "      <td>0</td>\n",
              "      <td>0</td>\n",
              "      <td>0</td>\n",
              "      <td>0</td>\n",
              "      <td>0</td>\n",
              "      <td>0</td>\n",
              "      <td>0</td>\n",
              "      <td>0</td>\n",
              "      <td>0</td>\n",
              "      <td>0</td>\n",
              "      <td>1</td>\n",
              "      <td>0</td>\n",
              "      <td>0</td>\n",
              "      <td>0</td>\n",
              "      <td>0</td>\n",
              "      <td>0</td>\n",
              "      <td>0</td>\n",
              "      <td>0</td>\n",
              "      <td>0</td>\n",
              "      <td>0</td>\n",
              "      <td>0</td>\n",
              "      <td>0</td>\n",
              "      <td>0</td>\n",
              "      <td>0</td>\n",
              "      <td>0</td>\n",
              "      <td>0</td>\n",
              "      <td>0</td>\n",
              "      <td>0</td>\n",
              "      <td>0</td>\n",
              "      <td>0</td>\n",
              "      <td>0</td>\n",
              "      <td>0</td>\n",
              "      <td>0</td>\n",
              "      <td>0</td>\n",
              "      <td>0</td>\n",
              "      <td>1</td>\n",
              "      <td>0</td>\n",
              "      <td>0</td>\n",
              "      <td>0</td>\n",
              "      <td>0</td>\n",
              "      <td>0</td>\n",
              "    </tr>\n",
              "  </tbody>\n",
              "</table>\n",
              "</div>\n",
              "      <button class=\"colab-df-convert\" onclick=\"convertToInteractive('df-904ecb06-53d1-4800-8815-aa8ad110aa05')\"\n",
              "              title=\"Convert this dataframe to an interactive table.\"\n",
              "              style=\"display:none;\">\n",
              "        \n",
              "  <svg xmlns=\"http://www.w3.org/2000/svg\" height=\"24px\"viewBox=\"0 0 24 24\"\n",
              "       width=\"24px\">\n",
              "    <path d=\"M0 0h24v24H0V0z\" fill=\"none\"/>\n",
              "    <path d=\"M18.56 5.44l.94 2.06.94-2.06 2.06-.94-2.06-.94-.94-2.06-.94 2.06-2.06.94zm-11 1L8.5 8.5l.94-2.06 2.06-.94-2.06-.94L8.5 2.5l-.94 2.06-2.06.94zm10 10l.94 2.06.94-2.06 2.06-.94-2.06-.94-.94-2.06-.94 2.06-2.06.94z\"/><path d=\"M17.41 7.96l-1.37-1.37c-.4-.4-.92-.59-1.43-.59-.52 0-1.04.2-1.43.59L10.3 9.45l-7.72 7.72c-.78.78-.78 2.05 0 2.83L4 21.41c.39.39.9.59 1.41.59.51 0 1.02-.2 1.41-.59l7.78-7.78 2.81-2.81c.8-.78.8-2.07 0-2.86zM5.41 20L4 18.59l7.72-7.72 1.47 1.35L5.41 20z\"/>\n",
              "  </svg>\n",
              "      </button>\n",
              "      \n",
              "  <style>\n",
              "    .colab-df-container {\n",
              "      display:flex;\n",
              "      flex-wrap:wrap;\n",
              "      gap: 12px;\n",
              "    }\n",
              "\n",
              "    .colab-df-convert {\n",
              "      background-color: #E8F0FE;\n",
              "      border: none;\n",
              "      border-radius: 50%;\n",
              "      cursor: pointer;\n",
              "      display: none;\n",
              "      fill: #1967D2;\n",
              "      height: 32px;\n",
              "      padding: 0 0 0 0;\n",
              "      width: 32px;\n",
              "    }\n",
              "\n",
              "    .colab-df-convert:hover {\n",
              "      background-color: #E2EBFA;\n",
              "      box-shadow: 0px 1px 2px rgba(60, 64, 67, 0.3), 0px 1px 3px 1px rgba(60, 64, 67, 0.15);\n",
              "      fill: #174EA6;\n",
              "    }\n",
              "\n",
              "    [theme=dark] .colab-df-convert {\n",
              "      background-color: #3B4455;\n",
              "      fill: #D2E3FC;\n",
              "    }\n",
              "\n",
              "    [theme=dark] .colab-df-convert:hover {\n",
              "      background-color: #434B5C;\n",
              "      box-shadow: 0px 1px 3px 1px rgba(0, 0, 0, 0.15);\n",
              "      filter: drop-shadow(0px 1px 2px rgba(0, 0, 0, 0.3));\n",
              "      fill: #FFFFFF;\n",
              "    }\n",
              "  </style>\n",
              "\n",
              "      <script>\n",
              "        const buttonEl =\n",
              "          document.querySelector('#df-904ecb06-53d1-4800-8815-aa8ad110aa05 button.colab-df-convert');\n",
              "        buttonEl.style.display =\n",
              "          google.colab.kernel.accessAllowed ? 'block' : 'none';\n",
              "\n",
              "        async function convertToInteractive(key) {\n",
              "          const element = document.querySelector('#df-904ecb06-53d1-4800-8815-aa8ad110aa05');\n",
              "          const dataTable =\n",
              "            await google.colab.kernel.invokeFunction('convertToInteractive',\n",
              "                                                     [key], {});\n",
              "          if (!dataTable) return;\n",
              "\n",
              "          const docLinkHtml = 'Like what you see? Visit the ' +\n",
              "            '<a target=\"_blank\" href=https://colab.research.google.com/notebooks/data_table.ipynb>data table notebook</a>'\n",
              "            + ' to learn more about interactive tables.';\n",
              "          element.innerHTML = '';\n",
              "          dataTable['output_type'] = 'display_data';\n",
              "          await google.colab.output.renderOutput(dataTable, element);\n",
              "          const docLink = document.createElement('div');\n",
              "          docLink.innerHTML = docLinkHtml;\n",
              "          element.appendChild(docLink);\n",
              "        }\n",
              "      </script>\n",
              "    </div>\n",
              "  </div>\n",
              "  "
            ],
            "text/plain": [
              "       temperatura  Precipitacion_group  ...  origen_Pais Vasco  origen_Valencia\n",
              "702          22.07                  0.0  ...                  0                0\n",
              "17623         9.40                  1.0  ...                  1                0\n",
              "10686        13.63                  1.0  ...                  0                0\n",
              "13470         9.51                  0.0  ...                  0                0\n",
              "10629        10.30                  1.0  ...                  0                0\n",
              "\n",
              "[5 rows x 54 columns]"
            ]
          },
          "metadata": {},
          "execution_count": 49
        }
      ]
    },
    {
      "cell_type": "code",
      "source": [
        "regr_month = RandomForestRegressor(n_estimators= 4, criterion='absolute_error', random_state=0)\n",
        "\n",
        "# Entrenamiento y ejecución del modelo\n",
        "regr_month.fit(X_train, y_train)\n",
        "y_pred = regr_month.predict(X_test)"
      ],
      "metadata": {
        "id": "6JFN5ECDgxCv"
      },
      "execution_count": 50,
      "outputs": []
    },
    {
      "cell_type": "code",
      "source": [
        "print (\"MAE:\", metrics.mean_absolute_error(y_pred , y_test))\n",
        "print (\"MAPE:\", metrics.mean_absolute_percentage_error(y_pred , y_test))\n",
        "print (\"MSE:\", metrics.mean_squared_error(y_pred , y_test))\n",
        "print (\"R^2:\", metrics.r2_score(y_pred , y_test))"
      ],
      "metadata": {
        "colab": {
          "base_uri": "https://localhost:8080/"
        },
        "id": "AO29m8ywhTuw",
        "outputId": "670a9b6c-adf9-4ae0-e207-cd61a168ef60"
      },
      "execution_count": 51,
      "outputs": [
        {
          "output_type": "stream",
          "name": "stdout",
          "text": [
            "MAE: 0.2134568362975141\n",
            "MAPE: 0.1806802168213629\n",
            "MSE: 0.17175733461819367\n",
            "R^2: 0.6936667696452574\n"
          ]
        }
      ]
    },
    {
      "cell_type": "code",
      "source": [
        "xx = np.stack(i for i in range(len(y_test)))\n",
        "plt.scatter(xx, y_test, c='r', label='data')\n",
        "plt.plot(xx, y_pred, c='g', label='prediction')\n",
        "plt.axis('tight')\n",
        "plt.legend()\n",
        "plt.title(\"RandomForests Regressor\")\n",
        "\n",
        "plt.show()"
      ],
      "metadata": {
        "colab": {
          "base_uri": "https://localhost:8080/",
          "height": 339
        },
        "id": "gkX9gWSmhaOv",
        "outputId": "afb65617-3399-4213-e901-5c9685985139"
      },
      "execution_count": 52,
      "outputs": [
        {
          "output_type": "stream",
          "name": "stderr",
          "text": [
            "/usr/local/lib/python3.7/dist-packages/IPython/core/interactiveshell.py:2822: FutureWarning: arrays to stack must be passed as a \"sequence\" type such as list or tuple. Support for non-sequence iterables such as generators is deprecated as of NumPy 1.16 and will raise an error in the future.\n",
            "  if self.run_code(code, result):\n"
          ]
        },
        {
          "output_type": "display_data",
          "data": {
            "image/png": "[encoded data removed]",
            "text/plain": [
              "<Figure size 432x288 with 1 Axes>"
            ]
          },
          "metadata": {}
        }
      ]
    },
    {
      "cell_type": "markdown",
      "source": [
        "#### 4.2.2 Modelo de la temperatura"
      ],
      "metadata": {
        "id": "cI8iNKBSiPVN"
      }
    },
    {
      "cell_type": "code",
      "source": [
        "X = agroanalisis[x_features_temperatura]\n",
        "y = agroanalisis['price_max_recolec']\n",
        "\n",
        "X_train, X_test, y_train, y_test = train_test_split( X, y, test_size=0.33, random_state=42)\n",
        "X_train.head()"
      ],
      "metadata": {
        "colab": {
          "base_uri": "https://localhost:8080/",
          "height": 288
        },
        "outputId": "cb5dcadb-17c3-451b-e822-c33be04096a1",
        "id": "B5ZhxkiTiPVQ"
      },
      "execution_count": 53,
      "outputs": [
        {
          "output_type": "execute_result",
          "data": {
            "text/html": [
              "\n",
              "  <div id=\"df-396f7d57-7891-47d8-b529-bcfa5c89f3a9\">\n",
              "    <div class=\"colab-df-container\">\n",
              "      <div>\n",
              "<style scoped>\n",
              "    .dataframe tbody tr th:only-of-type {\n",
              "        vertical-align: middle;\n",
              "    }\n",
              "\n",
              "    .dataframe tbody tr th {\n",
              "        vertical-align: top;\n",
              "    }\n",
              "\n",
              "    .dataframe thead th {\n",
              "        text-align: right;\n",
              "    }\n",
              "</style>\n",
              "<table border=\"1\" class=\"dataframe\">\n",
              "  <thead>\n",
              "    <tr style=\"text-align: right;\">\n",
              "      <th></th>\n",
              "      <th>MONTH</th>\n",
              "      <th>Precipitacion_group</th>\n",
              "      <th>product_ACELGA</th>\n",
              "      <th>product_AJO</th>\n",
              "      <th>product_ALCACHOFA</th>\n",
              "      <th>product_APIO</th>\n",
              "      <th>product_BERENJENA</th>\n",
              "      <th>product_BROCOLI</th>\n",
              "      <th>product_CALABACIN</th>\n",
              "      <th>product_CALABAZA</th>\n",
              "      <th>product_CEBOLLA</th>\n",
              "      <th>product_CEBOLLETA</th>\n",
              "      <th>product_CHIRIVIA</th>\n",
              "      <th>product_COL BRUSELAS</th>\n",
              "      <th>product_COL CHINA</th>\n",
              "      <th>product_COL LOMBARDA</th>\n",
              "      <th>product_COL REPOLLO</th>\n",
              "      <th>product_COLIFLOR</th>\n",
              "      <th>product_ESCAROLA</th>\n",
              "      <th>product_ESPINACA</th>\n",
              "      <th>product_GUISANTE</th>\n",
              "      <th>product_HABA</th>\n",
              "      <th>product_JUDIA</th>\n",
              "      <th>product_LECHUGA</th>\n",
              "      <th>product_MAIZ</th>\n",
              "      <th>product_MELON</th>\n",
              "      <th>product_NABO</th>\n",
              "      <th>product_PATATA</th>\n",
              "      <th>product_PEPINO</th>\n",
              "      <th>product_PEREJIL</th>\n",
              "      <th>product_PIMIENTO</th>\n",
              "      <th>product_PUERRO</th>\n",
              "      <th>product_RABANITO</th>\n",
              "      <th>product_REMOLACHA</th>\n",
              "      <th>product_SANDIA</th>\n",
              "      <th>product_TOMATE</th>\n",
              "      <th>product_ZANAHORIA</th>\n",
              "      <th>origen_Andalucia</th>\n",
              "      <th>origen_Aragon</th>\n",
              "      <th>origen_Asturias</th>\n",
              "      <th>origen_Baleares</th>\n",
              "      <th>origen_Canarias</th>\n",
              "      <th>origen_Cantabria</th>\n",
              "      <th>origen_Castilla La Mancha</th>\n",
              "      <th>origen_Castilla Leon</th>\n",
              "      <th>origen_Cataluña</th>\n",
              "      <th>origen_Extremadura</th>\n",
              "      <th>origen_Galicia</th>\n",
              "      <th>origen_La Rioja</th>\n",
              "      <th>origen_Madrid</th>\n",
              "      <th>origen_Murcia</th>\n",
              "      <th>origen_Navarra</th>\n",
              "      <th>origen_Pais Vasco</th>\n",
              "      <th>origen_Valencia</th>\n",
              "    </tr>\n",
              "  </thead>\n",
              "  <tbody>\n",
              "    <tr>\n",
              "      <th>702</th>\n",
              "      <td>9</td>\n",
              "      <td>0.0</td>\n",
              "      <td>0</td>\n",
              "      <td>1</td>\n",
              "      <td>0</td>\n",
              "      <td>0</td>\n",
              "      <td>0</td>\n",
              "      <td>0</td>\n",
              "      <td>0</td>\n",
              "      <td>0</td>\n",
              "      <td>0</td>\n",
              "      <td>0</td>\n",
              "      <td>0</td>\n",
              "      <td>0</td>\n",
              "      <td>0</td>\n",
              "      <td>0</td>\n",
              "      <td>0</td>\n",
              "      <td>0</td>\n",
              "      <td>0</td>\n",
              "      <td>0</td>\n",
              "      <td>0</td>\n",
              "      <td>0</td>\n",
              "      <td>0</td>\n",
              "      <td>0</td>\n",
              "      <td>0</td>\n",
              "      <td>0</td>\n",
              "      <td>0</td>\n",
              "      <td>0</td>\n",
              "      <td>0</td>\n",
              "      <td>0</td>\n",
              "      <td>0</td>\n",
              "      <td>0</td>\n",
              "      <td>0</td>\n",
              "      <td>0</td>\n",
              "      <td>0</td>\n",
              "      <td>0</td>\n",
              "      <td>0</td>\n",
              "      <td>0</td>\n",
              "      <td>0</td>\n",
              "      <td>0</td>\n",
              "      <td>0</td>\n",
              "      <td>0</td>\n",
              "      <td>0</td>\n",
              "      <td>1</td>\n",
              "      <td>0</td>\n",
              "      <td>0</td>\n",
              "      <td>0</td>\n",
              "      <td>0</td>\n",
              "      <td>0</td>\n",
              "      <td>0</td>\n",
              "      <td>0</td>\n",
              "      <td>0</td>\n",
              "      <td>0</td>\n",
              "      <td>0</td>\n",
              "    </tr>\n",
              "    <tr>\n",
              "      <th>17623</th>\n",
              "      <td>3</td>\n",
              "      <td>1.0</td>\n",
              "      <td>0</td>\n",
              "      <td>0</td>\n",
              "      <td>0</td>\n",
              "      <td>0</td>\n",
              "      <td>0</td>\n",
              "      <td>0</td>\n",
              "      <td>0</td>\n",
              "      <td>0</td>\n",
              "      <td>0</td>\n",
              "      <td>0</td>\n",
              "      <td>0</td>\n",
              "      <td>0</td>\n",
              "      <td>0</td>\n",
              "      <td>0</td>\n",
              "      <td>0</td>\n",
              "      <td>0</td>\n",
              "      <td>0</td>\n",
              "      <td>0</td>\n",
              "      <td>0</td>\n",
              "      <td>0</td>\n",
              "      <td>0</td>\n",
              "      <td>0</td>\n",
              "      <td>0</td>\n",
              "      <td>1</td>\n",
              "      <td>0</td>\n",
              "      <td>0</td>\n",
              "      <td>0</td>\n",
              "      <td>0</td>\n",
              "      <td>0</td>\n",
              "      <td>0</td>\n",
              "      <td>0</td>\n",
              "      <td>0</td>\n",
              "      <td>0</td>\n",
              "      <td>0</td>\n",
              "      <td>0</td>\n",
              "      <td>0</td>\n",
              "      <td>0</td>\n",
              "      <td>0</td>\n",
              "      <td>0</td>\n",
              "      <td>0</td>\n",
              "      <td>0</td>\n",
              "      <td>0</td>\n",
              "      <td>0</td>\n",
              "      <td>0</td>\n",
              "      <td>0</td>\n",
              "      <td>0</td>\n",
              "      <td>0</td>\n",
              "      <td>0</td>\n",
              "      <td>0</td>\n",
              "      <td>0</td>\n",
              "      <td>1</td>\n",
              "      <td>0</td>\n",
              "    </tr>\n",
              "    <tr>\n",
              "      <th>10686</th>\n",
              "      <td>10</td>\n",
              "      <td>1.0</td>\n",
              "      <td>0</td>\n",
              "      <td>0</td>\n",
              "      <td>0</td>\n",
              "      <td>0</td>\n",
              "      <td>0</td>\n",
              "      <td>0</td>\n",
              "      <td>0</td>\n",
              "      <td>0</td>\n",
              "      <td>0</td>\n",
              "      <td>0</td>\n",
              "      <td>0</td>\n",
              "      <td>0</td>\n",
              "      <td>0</td>\n",
              "      <td>0</td>\n",
              "      <td>0</td>\n",
              "      <td>0</td>\n",
              "      <td>0</td>\n",
              "      <td>0</td>\n",
              "      <td>0</td>\n",
              "      <td>0</td>\n",
              "      <td>0</td>\n",
              "      <td>1</td>\n",
              "      <td>0</td>\n",
              "      <td>0</td>\n",
              "      <td>0</td>\n",
              "      <td>0</td>\n",
              "      <td>0</td>\n",
              "      <td>0</td>\n",
              "      <td>0</td>\n",
              "      <td>0</td>\n",
              "      <td>0</td>\n",
              "      <td>0</td>\n",
              "      <td>0</td>\n",
              "      <td>0</td>\n",
              "      <td>0</td>\n",
              "      <td>0</td>\n",
              "      <td>0</td>\n",
              "      <td>0</td>\n",
              "      <td>0</td>\n",
              "      <td>0</td>\n",
              "      <td>0</td>\n",
              "      <td>0</td>\n",
              "      <td>0</td>\n",
              "      <td>0</td>\n",
              "      <td>0</td>\n",
              "      <td>0</td>\n",
              "      <td>0</td>\n",
              "      <td>1</td>\n",
              "      <td>0</td>\n",
              "      <td>0</td>\n",
              "      <td>0</td>\n",
              "      <td>0</td>\n",
              "    </tr>\n",
              "    <tr>\n",
              "      <th>13470</th>\n",
              "      <td>3</td>\n",
              "      <td>0.0</td>\n",
              "      <td>0</td>\n",
              "      <td>0</td>\n",
              "      <td>0</td>\n",
              "      <td>0</td>\n",
              "      <td>0</td>\n",
              "      <td>0</td>\n",
              "      <td>0</td>\n",
              "      <td>0</td>\n",
              "      <td>0</td>\n",
              "      <td>0</td>\n",
              "      <td>0</td>\n",
              "      <td>0</td>\n",
              "      <td>0</td>\n",
              "      <td>0</td>\n",
              "      <td>0</td>\n",
              "      <td>0</td>\n",
              "      <td>0</td>\n",
              "      <td>0</td>\n",
              "      <td>0</td>\n",
              "      <td>0</td>\n",
              "      <td>0</td>\n",
              "      <td>0</td>\n",
              "      <td>0</td>\n",
              "      <td>0</td>\n",
              "      <td>0</td>\n",
              "      <td>0</td>\n",
              "      <td>0</td>\n",
              "      <td>0</td>\n",
              "      <td>1</td>\n",
              "      <td>0</td>\n",
              "      <td>0</td>\n",
              "      <td>0</td>\n",
              "      <td>0</td>\n",
              "      <td>0</td>\n",
              "      <td>0</td>\n",
              "      <td>0</td>\n",
              "      <td>0</td>\n",
              "      <td>0</td>\n",
              "      <td>0</td>\n",
              "      <td>0</td>\n",
              "      <td>1</td>\n",
              "      <td>0</td>\n",
              "      <td>0</td>\n",
              "      <td>0</td>\n",
              "      <td>0</td>\n",
              "      <td>0</td>\n",
              "      <td>0</td>\n",
              "      <td>0</td>\n",
              "      <td>0</td>\n",
              "      <td>0</td>\n",
              "      <td>0</td>\n",
              "      <td>0</td>\n",
              "    </tr>\n",
              "    <tr>\n",
              "      <th>10629</th>\n",
              "      <td>4</td>\n",
              "      <td>1.0</td>\n",
              "      <td>0</td>\n",
              "      <td>0</td>\n",
              "      <td>0</td>\n",
              "      <td>0</td>\n",
              "      <td>0</td>\n",
              "      <td>0</td>\n",
              "      <td>0</td>\n",
              "      <td>0</td>\n",
              "      <td>0</td>\n",
              "      <td>0</td>\n",
              "      <td>0</td>\n",
              "      <td>0</td>\n",
              "      <td>0</td>\n",
              "      <td>0</td>\n",
              "      <td>0</td>\n",
              "      <td>0</td>\n",
              "      <td>0</td>\n",
              "      <td>0</td>\n",
              "      <td>0</td>\n",
              "      <td>0</td>\n",
              "      <td>0</td>\n",
              "      <td>1</td>\n",
              "      <td>0</td>\n",
              "      <td>0</td>\n",
              "      <td>0</td>\n",
              "      <td>0</td>\n",
              "      <td>0</td>\n",
              "      <td>0</td>\n",
              "      <td>0</td>\n",
              "      <td>0</td>\n",
              "      <td>0</td>\n",
              "      <td>0</td>\n",
              "      <td>0</td>\n",
              "      <td>0</td>\n",
              "      <td>0</td>\n",
              "      <td>0</td>\n",
              "      <td>0</td>\n",
              "      <td>0</td>\n",
              "      <td>0</td>\n",
              "      <td>0</td>\n",
              "      <td>0</td>\n",
              "      <td>0</td>\n",
              "      <td>0</td>\n",
              "      <td>0</td>\n",
              "      <td>0</td>\n",
              "      <td>0</td>\n",
              "      <td>1</td>\n",
              "      <td>0</td>\n",
              "      <td>0</td>\n",
              "      <td>0</td>\n",
              "      <td>0</td>\n",
              "      <td>0</td>\n",
              "    </tr>\n",
              "  </tbody>\n",
              "</table>\n",
              "</div>\n",
              "      <button class=\"colab-df-convert\" onclick=\"convertToInteractive('df-396f7d57-7891-47d8-b529-bcfa5c89f3a9')\"\n",
              "              title=\"Convert this dataframe to an interactive table.\"\n",
              "              style=\"display:none;\">\n",
              "        \n",
              "  <svg xmlns=\"http://www.w3.org/2000/svg\" height=\"24px\"viewBox=\"0 0 24 24\"\n",
              "       width=\"24px\">\n",
              "    <path d=\"M0 0h24v24H0V0z\" fill=\"none\"/>\n",
              "    <path d=\"M18.56 5.44l.94 2.06.94-2.06 2.06-.94-2.06-.94-.94-2.06-.94 2.06-2.06.94zm-11 1L8.5 8.5l.94-2.06 2.06-.94-2.06-.94L8.5 2.5l-.94 2.06-2.06.94zm10 10l.94 2.06.94-2.06 2.06-.94-2.06-.94-.94-2.06-.94 2.06-2.06.94z\"/><path d=\"M17.41 7.96l-1.37-1.37c-.4-.4-.92-.59-1.43-.59-.52 0-1.04.2-1.43.59L10.3 9.45l-7.72 7.72c-.78.78-.78 2.05 0 2.83L4 21.41c.39.39.9.59 1.41.59.51 0 1.02-.2 1.41-.59l7.78-7.78 2.81-2.81c.8-.78.8-2.07 0-2.86zM5.41 20L4 18.59l7.72-7.72 1.47 1.35L5.41 20z\"/>\n",
              "  </svg>\n",
              "      </button>\n",
              "      \n",
              "  <style>\n",
              "    .colab-df-container {\n",
              "      display:flex;\n",
              "      flex-wrap:wrap;\n",
              "      gap: 12px;\n",
              "    }\n",
              "\n",
              "    .colab-df-convert {\n",
              "      background-color: #E8F0FE;\n",
              "      border: none;\n",
              "      border-radius: 50%;\n",
              "      cursor: pointer;\n",
              "      display: none;\n",
              "      fill: #1967D2;\n",
              "      height: 32px;\n",
              "      padding: 0 0 0 0;\n",
              "      width: 32px;\n",
              "    }\n",
              "\n",
              "    .colab-df-convert:hover {\n",
              "      background-color: #E2EBFA;\n",
              "      box-shadow: 0px 1px 2px rgba(60, 64, 67, 0.3), 0px 1px 3px 1px rgba(60, 64, 67, 0.15);\n",
              "      fill: #174EA6;\n",
              "    }\n",
              "\n",
              "    [theme=dark] .colab-df-convert {\n",
              "      background-color: #3B4455;\n",
              "      fill: #D2E3FC;\n",
              "    }\n",
              "\n",
              "    [theme=dark] .colab-df-convert:hover {\n",
              "      background-color: #434B5C;\n",
              "      box-shadow: 0px 1px 3px 1px rgba(0, 0, 0, 0.15);\n",
              "      filter: drop-shadow(0px 1px 2px rgba(0, 0, 0, 0.3));\n",
              "      fill: #FFFFFF;\n",
              "    }\n",
              "  </style>\n",
              "\n",
              "      <script>\n",
              "        const buttonEl =\n",
              "          document.querySelector('#df-396f7d57-7891-47d8-b529-bcfa5c89f3a9 button.colab-df-convert');\n",
              "        buttonEl.style.display =\n",
              "          google.colab.kernel.accessAllowed ? 'block' : 'none';\n",
              "\n",
              "        async function convertToInteractive(key) {\n",
              "          const element = document.querySelector('#df-396f7d57-7891-47d8-b529-bcfa5c89f3a9');\n",
              "          const dataTable =\n",
              "            await google.colab.kernel.invokeFunction('convertToInteractive',\n",
              "                                                     [key], {});\n",
              "          if (!dataTable) return;\n",
              "\n",
              "          const docLinkHtml = 'Like what you see? Visit the ' +\n",
              "            '<a target=\"_blank\" href=https://colab.research.google.com/notebooks/data_table.ipynb>data table notebook</a>'\n",
              "            + ' to learn more about interactive tables.';\n",
              "          element.innerHTML = '';\n",
              "          dataTable['output_type'] = 'display_data';\n",
              "          await google.colab.output.renderOutput(dataTable, element);\n",
              "          const docLink = document.createElement('div');\n",
              "          docLink.innerHTML = docLinkHtml;\n",
              "          element.appendChild(docLink);\n",
              "        }\n",
              "      </script>\n",
              "    </div>\n",
              "  </div>\n",
              "  "
            ],
            "text/plain": [
              "       MONTH  Precipitacion_group  ...  origen_Pais Vasco  origen_Valencia\n",
              "702        9                  0.0  ...                  0                0\n",
              "17623      3                  1.0  ...                  1                0\n",
              "10686     10                  1.0  ...                  0                0\n",
              "13470      3                  0.0  ...                  0                0\n",
              "10629      4                  1.0  ...                  0                0\n",
              "\n",
              "[5 rows x 54 columns]"
            ]
          },
          "metadata": {},
          "execution_count": 53
        }
      ]
    },
    {
      "cell_type": "code",
      "source": [
        "regr_temp = RandomForestRegressor(n_estimators= 4, criterion='absolute_error', random_state=0)\n",
        "\n",
        "# Entrenamiento y ejecución del modelo\n",
        "regr_temp.fit(X_train, y_train)\n",
        "y_pred = regr_temp.predict(X_test)"
      ],
      "metadata": {
        "id": "DccGAX0TiPVZ"
      },
      "execution_count": 54,
      "outputs": []
    },
    {
      "cell_type": "code",
      "source": [
        "print (\"MAE:\", metrics.mean_absolute_error(y_pred , y_test))\n",
        "print (\"MAPE:\", metrics.mean_absolute_percentage_error(y_pred , y_test))\n",
        "print (\"MSE:\", metrics.mean_squared_error(y_pred , y_test))\n",
        "print (\"R^2:\", metrics.r2_score(y_pred , y_test))"
      ],
      "metadata": {
        "colab": {
          "base_uri": "https://localhost:8080/"
        },
        "outputId": "cc87712b-fb54-4b74-de66-f86c6a381bdc",
        "id": "jcRXt2vmiPVd"
      },
      "execution_count": 55,
      "outputs": [
        {
          "output_type": "stream",
          "name": "stdout",
          "text": [
            "MAE: 0.21699185006444177\n",
            "MAPE: 0.17694889125716265\n",
            "MSE: 0.18760731484797083\n",
            "R^2: 0.7073456286672091\n"
          ]
        }
      ]
    },
    {
      "cell_type": "code",
      "source": [
        "xx = np.stack(i for i in range(len(y_test)))\n",
        "plt.scatter(xx, y_test, c='r', label='data')\n",
        "plt.plot(xx, y_pred, c='g', label='prediction')\n",
        "plt.axis('tight')\n",
        "plt.legend()\n",
        "plt.title(\"RandomForests Regressor\")\n",
        "\n",
        "plt.show()"
      ],
      "metadata": {
        "colab": {
          "base_uri": "https://localhost:8080/",
          "height": 339
        },
        "outputId": "228ca772-6622-493b-ed3e-ed3498e21ba0",
        "id": "t68xuNywiPVh"
      },
      "execution_count": 56,
      "outputs": [
        {
          "output_type": "stream",
          "name": "stderr",
          "text": [
            "/usr/local/lib/python3.7/dist-packages/IPython/core/interactiveshell.py:2822: FutureWarning: arrays to stack must be passed as a \"sequence\" type such as list or tuple. Support for non-sequence iterables such as generators is deprecated as of NumPy 1.16 and will raise an error in the future.\n",
            "  if self.run_code(code, result):\n"
          ]
        },
        {
          "output_type": "display_data",
          "data": {
            "image/png": "[encoded data removed]",
            "text/plain": [
              "<Figure size 432x288 with 1 Axes>"
            ]
          },
          "metadata": {}
        }
      ]
    },
    {
      "cell_type": "markdown",
      "source": [
        "#### 4.2.3 Modelo de la precipitación"
      ],
      "metadata": {
        "id": "d5ElrW_WiRoV"
      }
    },
    {
      "cell_type": "code",
      "source": [
        "X = agroanalisis[x_features_precipitacion]\n",
        "y = agroanalisis['price_max_recolec']\n",
        "\n",
        "X_train, X_test, y_train, y_test = train_test_split( X, y, test_size=0.33, random_state=42)\n",
        "X_train.head()"
      ],
      "metadata": {
        "colab": {
          "base_uri": "https://localhost:8080/",
          "height": 288
        },
        "outputId": "a063942d-b62b-4fe6-f52d-d2b0ec8b889a",
        "id": "zONO6AqJiRoZ"
      },
      "execution_count": 57,
      "outputs": [
        {
          "output_type": "execute_result",
          "data": {
            "text/html": [
              "\n",
              "  <div id=\"df-1a0ebfe1-91ee-4be8-a688-8b6c80a23e89\">\n",
              "    <div class=\"colab-df-container\">\n",
              "      <div>\n",
              "<style scoped>\n",
              "    .dataframe tbody tr th:only-of-type {\n",
              "        vertical-align: middle;\n",
              "    }\n",
              "\n",
              "    .dataframe tbody tr th {\n",
              "        vertical-align: top;\n",
              "    }\n",
              "\n",
              "    .dataframe thead th {\n",
              "        text-align: right;\n",
              "    }\n",
              "</style>\n",
              "<table border=\"1\" class=\"dataframe\">\n",
              "  <thead>\n",
              "    <tr style=\"text-align: right;\">\n",
              "      <th></th>\n",
              "      <th>MONTH</th>\n",
              "      <th>temperatura</th>\n",
              "      <th>product_ACELGA</th>\n",
              "      <th>product_AJO</th>\n",
              "      <th>product_ALCACHOFA</th>\n",
              "      <th>product_APIO</th>\n",
              "      <th>product_BERENJENA</th>\n",
              "      <th>product_BROCOLI</th>\n",
              "      <th>product_CALABACIN</th>\n",
              "      <th>product_CALABAZA</th>\n",
              "      <th>product_CEBOLLA</th>\n",
              "      <th>product_CEBOLLETA</th>\n",
              "      <th>product_CHIRIVIA</th>\n",
              "      <th>product_COL BRUSELAS</th>\n",
              "      <th>product_COL CHINA</th>\n",
              "      <th>product_COL LOMBARDA</th>\n",
              "      <th>product_COL REPOLLO</th>\n",
              "      <th>product_COLIFLOR</th>\n",
              "      <th>product_ESCAROLA</th>\n",
              "      <th>product_ESPINACA</th>\n",
              "      <th>product_GUISANTE</th>\n",
              "      <th>product_HABA</th>\n",
              "      <th>product_JUDIA</th>\n",
              "      <th>product_LECHUGA</th>\n",
              "      <th>product_MAIZ</th>\n",
              "      <th>product_MELON</th>\n",
              "      <th>product_NABO</th>\n",
              "      <th>product_PATATA</th>\n",
              "      <th>product_PEPINO</th>\n",
              "      <th>product_PEREJIL</th>\n",
              "      <th>product_PIMIENTO</th>\n",
              "      <th>product_PUERRO</th>\n",
              "      <th>product_RABANITO</th>\n",
              "      <th>product_REMOLACHA</th>\n",
              "      <th>product_SANDIA</th>\n",
              "      <th>product_TOMATE</th>\n",
              "      <th>product_ZANAHORIA</th>\n",
              "      <th>origen_Andalucia</th>\n",
              "      <th>origen_Aragon</th>\n",
              "      <th>origen_Asturias</th>\n",
              "      <th>origen_Baleares</th>\n",
              "      <th>origen_Canarias</th>\n",
              "      <th>origen_Cantabria</th>\n",
              "      <th>origen_Castilla La Mancha</th>\n",
              "      <th>origen_Castilla Leon</th>\n",
              "      <th>origen_Cataluña</th>\n",
              "      <th>origen_Extremadura</th>\n",
              "      <th>origen_Galicia</th>\n",
              "      <th>origen_La Rioja</th>\n",
              "      <th>origen_Madrid</th>\n",
              "      <th>origen_Murcia</th>\n",
              "      <th>origen_Navarra</th>\n",
              "      <th>origen_Pais Vasco</th>\n",
              "      <th>origen_Valencia</th>\n",
              "    </tr>\n",
              "  </thead>\n",
              "  <tbody>\n",
              "    <tr>\n",
              "      <th>702</th>\n",
              "      <td>9</td>\n",
              "      <td>22.07</td>\n",
              "      <td>0</td>\n",
              "      <td>1</td>\n",
              "      <td>0</td>\n",
              "      <td>0</td>\n",
              "      <td>0</td>\n",
              "      <td>0</td>\n",
              "      <td>0</td>\n",
              "      <td>0</td>\n",
              "      <td>0</td>\n",
              "      <td>0</td>\n",
              "      <td>0</td>\n",
              "      <td>0</td>\n",
              "      <td>0</td>\n",
              "      <td>0</td>\n",
              "      <td>0</td>\n",
              "      <td>0</td>\n",
              "      <td>0</td>\n",
              "      <td>0</td>\n",
              "      <td>0</td>\n",
              "      <td>0</td>\n",
              "      <td>0</td>\n",
              "      <td>0</td>\n",
              "      <td>0</td>\n",
              "      <td>0</td>\n",
              "      <td>0</td>\n",
              "      <td>0</td>\n",
              "      <td>0</td>\n",
              "      <td>0</td>\n",
              "      <td>0</td>\n",
              "      <td>0</td>\n",
              "      <td>0</td>\n",
              "      <td>0</td>\n",
              "      <td>0</td>\n",
              "      <td>0</td>\n",
              "      <td>0</td>\n",
              "      <td>0</td>\n",
              "      <td>0</td>\n",
              "      <td>0</td>\n",
              "      <td>0</td>\n",
              "      <td>0</td>\n",
              "      <td>0</td>\n",
              "      <td>1</td>\n",
              "      <td>0</td>\n",
              "      <td>0</td>\n",
              "      <td>0</td>\n",
              "      <td>0</td>\n",
              "      <td>0</td>\n",
              "      <td>0</td>\n",
              "      <td>0</td>\n",
              "      <td>0</td>\n",
              "      <td>0</td>\n",
              "      <td>0</td>\n",
              "    </tr>\n",
              "    <tr>\n",
              "      <th>17623</th>\n",
              "      <td>3</td>\n",
              "      <td>9.40</td>\n",
              "      <td>0</td>\n",
              "      <td>0</td>\n",
              "      <td>0</td>\n",
              "      <td>0</td>\n",
              "      <td>0</td>\n",
              "      <td>0</td>\n",
              "      <td>0</td>\n",
              "      <td>0</td>\n",
              "      <td>0</td>\n",
              "      <td>0</td>\n",
              "      <td>0</td>\n",
              "      <td>0</td>\n",
              "      <td>0</td>\n",
              "      <td>0</td>\n",
              "      <td>0</td>\n",
              "      <td>0</td>\n",
              "      <td>0</td>\n",
              "      <td>0</td>\n",
              "      <td>0</td>\n",
              "      <td>0</td>\n",
              "      <td>0</td>\n",
              "      <td>0</td>\n",
              "      <td>0</td>\n",
              "      <td>1</td>\n",
              "      <td>0</td>\n",
              "      <td>0</td>\n",
              "      <td>0</td>\n",
              "      <td>0</td>\n",
              "      <td>0</td>\n",
              "      <td>0</td>\n",
              "      <td>0</td>\n",
              "      <td>0</td>\n",
              "      <td>0</td>\n",
              "      <td>0</td>\n",
              "      <td>0</td>\n",
              "      <td>0</td>\n",
              "      <td>0</td>\n",
              "      <td>0</td>\n",
              "      <td>0</td>\n",
              "      <td>0</td>\n",
              "      <td>0</td>\n",
              "      <td>0</td>\n",
              "      <td>0</td>\n",
              "      <td>0</td>\n",
              "      <td>0</td>\n",
              "      <td>0</td>\n",
              "      <td>0</td>\n",
              "      <td>0</td>\n",
              "      <td>0</td>\n",
              "      <td>0</td>\n",
              "      <td>1</td>\n",
              "      <td>0</td>\n",
              "    </tr>\n",
              "    <tr>\n",
              "      <th>10686</th>\n",
              "      <td>10</td>\n",
              "      <td>13.63</td>\n",
              "      <td>0</td>\n",
              "      <td>0</td>\n",
              "      <td>0</td>\n",
              "      <td>0</td>\n",
              "      <td>0</td>\n",
              "      <td>0</td>\n",
              "      <td>0</td>\n",
              "      <td>0</td>\n",
              "      <td>0</td>\n",
              "      <td>0</td>\n",
              "      <td>0</td>\n",
              "      <td>0</td>\n",
              "      <td>0</td>\n",
              "      <td>0</td>\n",
              "      <td>0</td>\n",
              "      <td>0</td>\n",
              "      <td>0</td>\n",
              "      <td>0</td>\n",
              "      <td>0</td>\n",
              "      <td>0</td>\n",
              "      <td>0</td>\n",
              "      <td>1</td>\n",
              "      <td>0</td>\n",
              "      <td>0</td>\n",
              "      <td>0</td>\n",
              "      <td>0</td>\n",
              "      <td>0</td>\n",
              "      <td>0</td>\n",
              "      <td>0</td>\n",
              "      <td>0</td>\n",
              "      <td>0</td>\n",
              "      <td>0</td>\n",
              "      <td>0</td>\n",
              "      <td>0</td>\n",
              "      <td>0</td>\n",
              "      <td>0</td>\n",
              "      <td>0</td>\n",
              "      <td>0</td>\n",
              "      <td>0</td>\n",
              "      <td>0</td>\n",
              "      <td>0</td>\n",
              "      <td>0</td>\n",
              "      <td>0</td>\n",
              "      <td>0</td>\n",
              "      <td>0</td>\n",
              "      <td>0</td>\n",
              "      <td>0</td>\n",
              "      <td>1</td>\n",
              "      <td>0</td>\n",
              "      <td>0</td>\n",
              "      <td>0</td>\n",
              "      <td>0</td>\n",
              "    </tr>\n",
              "    <tr>\n",
              "      <th>13470</th>\n",
              "      <td>3</td>\n",
              "      <td>9.51</td>\n",
              "      <td>0</td>\n",
              "      <td>0</td>\n",
              "      <td>0</td>\n",
              "      <td>0</td>\n",
              "      <td>0</td>\n",
              "      <td>0</td>\n",
              "      <td>0</td>\n",
              "      <td>0</td>\n",
              "      <td>0</td>\n",
              "      <td>0</td>\n",
              "      <td>0</td>\n",
              "      <td>0</td>\n",
              "      <td>0</td>\n",
              "      <td>0</td>\n",
              "      <td>0</td>\n",
              "      <td>0</td>\n",
              "      <td>0</td>\n",
              "      <td>0</td>\n",
              "      <td>0</td>\n",
              "      <td>0</td>\n",
              "      <td>0</td>\n",
              "      <td>0</td>\n",
              "      <td>0</td>\n",
              "      <td>0</td>\n",
              "      <td>0</td>\n",
              "      <td>0</td>\n",
              "      <td>0</td>\n",
              "      <td>0</td>\n",
              "      <td>1</td>\n",
              "      <td>0</td>\n",
              "      <td>0</td>\n",
              "      <td>0</td>\n",
              "      <td>0</td>\n",
              "      <td>0</td>\n",
              "      <td>0</td>\n",
              "      <td>0</td>\n",
              "      <td>0</td>\n",
              "      <td>0</td>\n",
              "      <td>0</td>\n",
              "      <td>0</td>\n",
              "      <td>1</td>\n",
              "      <td>0</td>\n",
              "      <td>0</td>\n",
              "      <td>0</td>\n",
              "      <td>0</td>\n",
              "      <td>0</td>\n",
              "      <td>0</td>\n",
              "      <td>0</td>\n",
              "      <td>0</td>\n",
              "      <td>0</td>\n",
              "      <td>0</td>\n",
              "      <td>0</td>\n",
              "    </tr>\n",
              "    <tr>\n",
              "      <th>10629</th>\n",
              "      <td>4</td>\n",
              "      <td>10.30</td>\n",
              "      <td>0</td>\n",
              "      <td>0</td>\n",
              "      <td>0</td>\n",
              "      <td>0</td>\n",
              "      <td>0</td>\n",
              "      <td>0</td>\n",
              "      <td>0</td>\n",
              "      <td>0</td>\n",
              "      <td>0</td>\n",
              "      <td>0</td>\n",
              "      <td>0</td>\n",
              "      <td>0</td>\n",
              "      <td>0</td>\n",
              "      <td>0</td>\n",
              "      <td>0</td>\n",
              "      <td>0</td>\n",
              "      <td>0</td>\n",
              "      <td>0</td>\n",
              "      <td>0</td>\n",
              "      <td>0</td>\n",
              "      <td>0</td>\n",
              "      <td>1</td>\n",
              "      <td>0</td>\n",
              "      <td>0</td>\n",
              "      <td>0</td>\n",
              "      <td>0</td>\n",
              "      <td>0</td>\n",
              "      <td>0</td>\n",
              "      <td>0</td>\n",
              "      <td>0</td>\n",
              "      <td>0</td>\n",
              "      <td>0</td>\n",
              "      <td>0</td>\n",
              "      <td>0</td>\n",
              "      <td>0</td>\n",
              "      <td>0</td>\n",
              "      <td>0</td>\n",
              "      <td>0</td>\n",
              "      <td>0</td>\n",
              "      <td>0</td>\n",
              "      <td>0</td>\n",
              "      <td>0</td>\n",
              "      <td>0</td>\n",
              "      <td>0</td>\n",
              "      <td>0</td>\n",
              "      <td>0</td>\n",
              "      <td>1</td>\n",
              "      <td>0</td>\n",
              "      <td>0</td>\n",
              "      <td>0</td>\n",
              "      <td>0</td>\n",
              "      <td>0</td>\n",
              "    </tr>\n",
              "  </tbody>\n",
              "</table>\n",
              "</div>\n",
              "      <button class=\"colab-df-convert\" onclick=\"convertToInteractive('df-1a0ebfe1-91ee-4be8-a688-8b6c80a23e89')\"\n",
              "              title=\"Convert this dataframe to an interactive table.\"\n",
              "              style=\"display:none;\">\n",
              "        \n",
              "  <svg xmlns=\"http://www.w3.org/2000/svg\" height=\"24px\"viewBox=\"0 0 24 24\"\n",
              "       width=\"24px\">\n",
              "    <path d=\"M0 0h24v24H0V0z\" fill=\"none\"/>\n",
              "    <path d=\"M18.56 5.44l.94 2.06.94-2.06 2.06-.94-2.06-.94-.94-2.06-.94 2.06-2.06.94zm-11 1L8.5 8.5l.94-2.06 2.06-.94-2.06-.94L8.5 2.5l-.94 2.06-2.06.94zm10 10l.94 2.06.94-2.06 2.06-.94-2.06-.94-.94-2.06-.94 2.06-2.06.94z\"/><path d=\"M17.41 7.96l-1.37-1.37c-.4-.4-.92-.59-1.43-.59-.52 0-1.04.2-1.43.59L10.3 9.45l-7.72 7.72c-.78.78-.78 2.05 0 2.83L4 21.41c.39.39.9.59 1.41.59.51 0 1.02-.2 1.41-.59l7.78-7.78 2.81-2.81c.8-.78.8-2.07 0-2.86zM5.41 20L4 18.59l7.72-7.72 1.47 1.35L5.41 20z\"/>\n",
              "  </svg>\n",
              "      </button>\n",
              "      \n",
              "  <style>\n",
              "    .colab-df-container {\n",
              "      display:flex;\n",
              "      flex-wrap:wrap;\n",
              "      gap: 12px;\n",
              "    }\n",
              "\n",
              "    .colab-df-convert {\n",
              "      background-color: #E8F0FE;\n",
              "      border: none;\n",
              "      border-radius: 50%;\n",
              "      cursor: pointer;\n",
              "      display: none;\n",
              "      fill: #1967D2;\n",
              "      height: 32px;\n",
              "      padding: 0 0 0 0;\n",
              "      width: 32px;\n",
              "    }\n",
              "\n",
              "    .colab-df-convert:hover {\n",
              "      background-color: #E2EBFA;\n",
              "      box-shadow: 0px 1px 2px rgba(60, 64, 67, 0.3), 0px 1px 3px 1px rgba(60, 64, 67, 0.15);\n",
              "      fill: #174EA6;\n",
              "    }\n",
              "\n",
              "    [theme=dark] .colab-df-convert {\n",
              "      background-color: #3B4455;\n",
              "      fill: #D2E3FC;\n",
              "    }\n",
              "\n",
              "    [theme=dark] .colab-df-convert:hover {\n",
              "      background-color: #434B5C;\n",
              "      box-shadow: 0px 1px 3px 1px rgba(0, 0, 0, 0.15);\n",
              "      filter: drop-shadow(0px 1px 2px rgba(0, 0, 0, 0.3));\n",
              "      fill: #FFFFFF;\n",
              "    }\n",
              "  </style>\n",
              "\n",
              "      <script>\n",
              "        const buttonEl =\n",
              "          document.querySelector('#df-1a0ebfe1-91ee-4be8-a688-8b6c80a23e89 button.colab-df-convert');\n",
              "        buttonEl.style.display =\n",
              "          google.colab.kernel.accessAllowed ? 'block' : 'none';\n",
              "\n",
              "        async function convertToInteractive(key) {\n",
              "          const element = document.querySelector('#df-1a0ebfe1-91ee-4be8-a688-8b6c80a23e89');\n",
              "          const dataTable =\n",
              "            await google.colab.kernel.invokeFunction('convertToInteractive',\n",
              "                                                     [key], {});\n",
              "          if (!dataTable) return;\n",
              "\n",
              "          const docLinkHtml = 'Like what you see? Visit the ' +\n",
              "            '<a target=\"_blank\" href=https://colab.research.google.com/notebooks/data_table.ipynb>data table notebook</a>'\n",
              "            + ' to learn more about interactive tables.';\n",
              "          element.innerHTML = '';\n",
              "          dataTable['output_type'] = 'display_data';\n",
              "          await google.colab.output.renderOutput(dataTable, element);\n",
              "          const docLink = document.createElement('div');\n",
              "          docLink.innerHTML = docLinkHtml;\n",
              "          element.appendChild(docLink);\n",
              "        }\n",
              "      </script>\n",
              "    </div>\n",
              "  </div>\n",
              "  "
            ],
            "text/plain": [
              "       MONTH  temperatura  ...  origen_Pais Vasco  origen_Valencia\n",
              "702        9        22.07  ...                  0                0\n",
              "17623      3         9.40  ...                  1                0\n",
              "10686     10        13.63  ...                  0                0\n",
              "13470      3         9.51  ...                  0                0\n",
              "10629      4        10.30  ...                  0                0\n",
              "\n",
              "[5 rows x 54 columns]"
            ]
          },
          "metadata": {},
          "execution_count": 57
        }
      ]
    },
    {
      "cell_type": "code",
      "source": [
        "regr_precip = RandomForestRegressor(n_estimators= 4, criterion='absolute_error', random_state=0)\n",
        "\n",
        "# Entrenamiento y ejecución del modelo\n",
        "regr_precip.fit(X_train, y_train)\n",
        "y_pred = regr_precip.predict(X_test)"
      ],
      "metadata": {
        "id": "94io2AppiRok"
      },
      "execution_count": 58,
      "outputs": []
    },
    {
      "cell_type": "code",
      "source": [
        "print (\"MAE:\", metrics.mean_absolute_error(y_pred , y_test))\n",
        "print (\"MAPE:\", metrics.mean_absolute_percentage_error(y_pred , y_test))\n",
        "print (\"MSE:\", metrics.mean_squared_error(y_pred , y_test))\n",
        "print (\"R^2:\", metrics.r2_score(y_pred , y_test))"
      ],
      "metadata": {
        "colab": {
          "base_uri": "https://localhost:8080/"
        },
        "outputId": "c26b4eb8-28ee-4d9e-8d9f-2af00f8dacdd",
        "id": "wK-H8sIIiRoo"
      },
      "execution_count": 59,
      "outputs": [
        {
          "output_type": "stream",
          "name": "stdout",
          "text": [
            "MAE: 0.21748720457323692\n",
            "MAPE: 0.18146379735391652\n",
            "MSE: 0.17335876650329177\n",
            "R^2: 0.7010750433823212\n"
          ]
        }
      ]
    },
    {
      "cell_type": "code",
      "source": [
        "xx = np.stack(i for i in range(len(y_test)))\n",
        "plt.scatter(xx, y_test, c='r', label='data')\n",
        "plt.plot(xx, y_pred, c='g', label='prediction')\n",
        "plt.axis('tight')\n",
        "plt.legend()\n",
        "plt.title(\"RandomForests Regressor\")\n",
        "\n",
        "plt.show()"
      ],
      "metadata": {
        "colab": {
          "base_uri": "https://localhost:8080/",
          "height": 339
        },
        "outputId": "1677ce34-672f-4bb8-ba17-299893b4c108",
        "id": "sbvxVuveiRoq"
      },
      "execution_count": 60,
      "outputs": [
        {
          "output_type": "stream",
          "name": "stderr",
          "text": [
            "/usr/local/lib/python3.7/dist-packages/IPython/core/interactiveshell.py:2822: FutureWarning: arrays to stack must be passed as a \"sequence\" type such as list or tuple. Support for non-sequence iterables such as generators is deprecated as of NumPy 1.16 and will raise an error in the future.\n",
            "  if self.run_code(code, result):\n"
          ]
        },
        {
          "output_type": "display_data",
          "data": {
            "image/png": "[encoded data removed]",
            "text/plain": [
              "<Figure size 432x288 with 1 Axes>"
            ]
          },
          "metadata": {}
        }
      ]
    },
    {
      "cell_type": "markdown",
      "source": [
        "#### 4.2.4 Integración de los modelos"
      ],
      "metadata": {
        "id": "w-rBzf0Ir531"
      }
    },
    {
      "cell_type": "markdown",
      "source": [
        "A continuación, se integrarán todos los modelos anteriores, para mostrar la **diferencia entre los beneficios predichos y los reales**, indicando así si el factor influyó positiva o negativamente."
      ],
      "metadata": {
        "id": "zqumWXrfgr7H"
      }
    },
    {
      "cell_type": "code",
      "source": [
        "def to_table (dif_month, dif_temperatura, dif_precipitacion): # Funcion para mostrar las diferencias en forma de tabla\n",
        "  print(\"Diferencia de beneficios\")\n",
        "\n",
        "  grid = widgets.Grid(4, 3, header_row=True, header_column=True)\n",
        "\n",
        "  with grid.output_to(0, 0):\n",
        "    print(\"Característica que falta\")\n",
        "\n",
        "  with grid.output_to(1, 0):\n",
        "    print(\"Mes\")\n",
        "  with grid.output_to(2, 0):\n",
        "    print(\"Temperatura\")\n",
        "  with grid.output_to(3, 0):\n",
        "    print(\"Precipitación\")\n",
        "\n",
        "  with grid.output_to(1, 1):\n",
        "    print(dif_month)\n",
        "  with grid.output_to(2, 1):\n",
        "    print(dif_temperatura)\n",
        "  with grid.output_to(3, 1):\n",
        "    print(dif_precipitacion)\n",
        "\n",
        "  with grid.output_to(0, 1):\n",
        "    print(\"Beneficio real - Beneficio esperado\")\n",
        "\n",
        "  with grid.output_to(0, 2):\n",
        "    print('Influencia')\n",
        "  with grid.output_to(1, 2):\n",
        "    if dif_month < 0.2 and dif_month > -0.2:\n",
        "      influence = 'neutral'\n",
        "    else:\n",
        "      influence = 'positive' if dif_month > 0 else 'negative'\n",
        "    print(influence)\n",
        "  with grid.output_to(2, 2):\n",
        "    if dif_temperatura < 0.2 and dif_temperatura > -0.2:\n",
        "      influence = 'neutral'\n",
        "    else:\n",
        "      influence = 'positive' if dif_temperatura > 0 else 'negative'\n",
        "    print(influence)\n",
        "  with grid.output_to(3, 2):\n",
        "    if dif_precipitacion < 0.2 and dif_precipitacion > -0.2:\n",
        "      influence = 'neutral'\n",
        "    else:\n",
        "      influence = 'positive' if dif_precipitacion > 0 else 'negative'\n",
        "    print(influence)\n"
      ],
      "metadata": {
        "id": "hUXLveavdKIH"
      },
      "execution_count": 61,
      "outputs": []
    },
    {
      "cell_type": "code",
      "source": [
        "def checkInfluence(month, temperatura, precipitacion_group, product, origen, price_max_recolec):\n",
        "  dict_all_features = {\n",
        "      \"MONTH\": month,\n",
        "      \"temperatura\": temperatura,\n",
        "      \"Precipitacion_group\": precipitacion_group,\n",
        "      **product_origen_inference\n",
        "  }\n",
        "  dict_all_features[\"product_\"+product] = 1\n",
        "  dict_all_features[\"origen_\"+origen] = 1\n",
        "  dict_month = dict_all_features.copy()\n",
        "  dict_temperatura = dict_all_features.copy()\n",
        "  dict_precipitacion = dict_all_features.copy()\n",
        "\n",
        "  dict_month.pop(\"MONTH\", None)\n",
        "  dict_temperatura.pop(\"temperatura\", None)\n",
        "  dict_precipitacion.pop(\"Precipitacion_group\", None)\n",
        "  \n",
        "  df_month = pd.DataFrame([dict_month])\n",
        "  df_temperatura = pd.DataFrame([dict_temperatura])\n",
        "  df_precipitacion = pd.DataFrame([dict_precipitacion])\n",
        "\n",
        "  pred_month = regr_month.predict(df_month)[0]\n",
        "  pred_temperatura = regr_temp.predict(df_temperatura)[0]\n",
        "  pred_precipitacion = regr_precip.predict(df_precipitacion)[0]\n",
        "  \n",
        "  dif_month = price_max_recolec - pred_month\n",
        "  dif_temperatura = price_max_recolec - pred_temperatura\n",
        "  dif_precipitacion = price_max_recolec - pred_precipitacion\n",
        "  \n",
        "  to_table(dif_month, dif_temperatura, dif_precipitacion)\n"
      ],
      "metadata": {
        "id": "Ez1fhiAOkJvE"
      },
      "execution_count": 62,
      "outputs": []
    },
    {
      "cell_type": "markdown",
      "source": [
        "#### 4.2.5 Ejemplos de prueba"
      ],
      "metadata": {
        "id": "K6A9mpuibuGr"
      }
    },
    {
      "cell_type": "markdown",
      "source": [
        "A continuación se muestran ejemplos de inferencia sobre la tercera línea de trabajo.  "
      ],
      "metadata": {
        "id": "s51OWjVuddeR"
      }
    },
    {
      "cell_type": "code",
      "source": [
        "checkInfluence(3, 11.9, 2.0, \"ACELGA\", \"Andalucia\", 1.035714)\n",
        "print('\\n\\n')\n",
        "checkInfluence(12, 15.45, 0.0, \"SANDIA\", \"Castilla La Mancha\", 0.397377)"
      ],
      "metadata": {
        "colab": {
          "base_uri": "https://localhost:8080/",
          "height": 269
        },
        "id": "oeeo39TC2BlE",
        "outputId": "b3bb5539-9c1c-40a1-b1fa-01602577d18c"
      },
      "execution_count": 63,
      "outputs": [
        {
          "output_type": "stream",
          "name": "stdout",
          "text": [
            "Diferencia de beneficios\n"
          ]
        },
        {
          "output_type": "display_data",
          "data": {
            "text/html": [
              "<style>\n",
              "       table#id2, #id2 > tbody > tr > th, #id2 > tbody > tr > td {\n",
              "         border: 1px solid lightgray;\n",
              "         border-collapse:collapse;\n",
              "         \n",
              "        }</style>"
            ],
            "text/plain": [
              "<IPython.core.display.HTML object>"
            ]
          },
          "metadata": {}
        },
        {
          "output_type": "display_data",
          "data": {
            "text/html": [
              "<table id=id2><tr><th id=id2-0-0></th><th id=id2-0-1></th><th id=id2-0-2></th></tr><tr><th id=id2-1-0></th><td id=id2-1-1></td><td id=id2-1-2></td></tr><tr><th id=id2-2-0></th><td id=id2-2-1></td><td id=id2-2-2></td></tr><tr><th id=id2-3-0></th><td id=id2-3-1></td><td id=id2-3-2></td></tr></table>"
            ],
            "text/plain": [
              "<IPython.core.display.HTML object>"
            ]
          },
          "metadata": {}
        },
        {
          "output_type": "display_data",
          "data": {
            "application/javascript": [
              "window[\"46b45606-79e1-11ec-8afc-0242ac1c0002\"] = google.colab.output.getActiveOutputArea();\n",
              "//# sourceURL=js_1fc2656238"
            ],
            "text/plain": [
              "<IPython.core.display.Javascript object>"
            ]
          },
          "metadata": {}
        },
        {
          "output_type": "display_data",
          "data": {
            "application/javascript": [
              "window[\"46b4b998-79e1-11ec-8afc-0242ac1c0002\"] = document.querySelector(\"#id2-0-0\");\n",
              "//# sourceURL=js_a2bd29642e"
            ],
            "text/plain": [
              "<IPython.core.display.Javascript object>"
            ]
          },
          "metadata": {}
        },
        {
          "output_type": "display_data",
          "data": {
            "application/javascript": [
              "window[\"46b52cca-79e1-11ec-8afc-0242ac1c0002\"] = google.colab.output.setActiveOutputArea(window[\"46b4b998-79e1-11ec-8afc-0242ac1c0002\"]);\n",
              "//# sourceURL=js_3b66204f5f"
            ],
            "text/plain": [
              "<IPython.core.display.Javascript object>"
            ]
          },
          "metadata": {}
        },
        {
          "output_type": "stream",
          "name": "stdout",
          "text": [
            "Característica que falta\n"
          ]
        },
        {
          "output_type": "display_data",
          "data": {
            "application/javascript": [
              "window[\"46b674ea-79e1-11ec-8afc-0242ac1c0002\"] = google.colab.output.setActiveOutputArea(window[\"46b45606-79e1-11ec-8afc-0242ac1c0002\"]);\n",
              "//# sourceURL=js_9b4df3cf06"
            ],
            "text/plain": [
              "<IPython.core.display.Javascript object>"
            ]
          },
          "metadata": {}
        },
        {
          "output_type": "display_data",
          "data": {
            "application/javascript": [
              "window[\"46b7b918-79e1-11ec-8afc-0242ac1c0002\"] = google.colab.output.getActiveOutputArea();\n",
              "//# sourceURL=js_ea116fc637"
            ],
            "text/plain": [
              "<IPython.core.display.Javascript object>"
            ]
          },
          "metadata": {}
        },
        {
          "output_type": "display_data",
          "data": {
            "application/javascript": [
              "window[\"46b7f248-79e1-11ec-8afc-0242ac1c0002\"] = document.querySelector(\"#id2-1-0\");\n",
              "//# sourceURL=js_66ee9370a8"
            ],
            "text/plain": [
              "<IPython.core.display.Javascript object>"
            ]
          },
          "metadata": {}
        },
        {
          "output_type": "display_data",
          "data": {
            "application/javascript": [
              "window[\"46b82a06-79e1-11ec-8afc-0242ac1c0002\"] = google.colab.output.setActiveOutputArea(window[\"46b7f248-79e1-11ec-8afc-0242ac1c0002\"]);\n",
              "//# sourceURL=js_08eea867e1"
            ],
            "text/plain": [
              "<IPython.core.display.Javascript object>"
            ]
          },
          "metadata": {}
        },
        {
          "output_type": "stream",
          "name": "stdout",
          "text": [
            "Mes\n"
          ]
        },
        {
          "output_type": "display_data",
          "data": {
            "application/javascript": [
              "window[\"46b8fb16-79e1-11ec-8afc-0242ac1c0002\"] = google.colab.output.setActiveOutputArea(window[\"46b7b918-79e1-11ec-8afc-0242ac1c0002\"]);\n",
              "//# sourceURL=js_f9447ded68"
            ],
            "text/plain": [
              "<IPython.core.display.Javascript object>"
            ]
          },
          "metadata": {}
        },
        {
          "output_type": "display_data",
          "data": {
            "application/javascript": [
              "window[\"46ba3b7a-79e1-11ec-8afc-0242ac1c0002\"] = google.colab.output.getActiveOutputArea();\n",
              "//# sourceURL=js_02476879f9"
            ],
            "text/plain": [
              "<IPython.core.display.Javascript object>"
            ]
          },
          "metadata": {}
        },
        {
          "output_type": "display_data",
          "data": {
            "application/javascript": [
              "window[\"46ba77b6-79e1-11ec-8afc-0242ac1c0002\"] = document.querySelector(\"#id2-2-0\");\n",
              "//# sourceURL=js_f6358b63bf"
            ],
            "text/plain": [
              "<IPython.core.display.Javascript object>"
            ]
          },
          "metadata": {}
        },
        {
          "output_type": "display_data",
          "data": {
            "application/javascript": [
              "window[\"46baabbe-79e1-11ec-8afc-0242ac1c0002\"] = google.colab.output.setActiveOutputArea(window[\"46ba77b6-79e1-11ec-8afc-0242ac1c0002\"]);\n",
              "//# sourceURL=js_1a6bf36772"
            ],
            "text/plain": [
              "<IPython.core.display.Javascript object>"
            ]
          },
          "metadata": {}
        },
        {
          "output_type": "stream",
          "name": "stdout",
          "text": [
            "Temperatura\n"
          ]
        },
        {
          "output_type": "display_data",
          "data": {
            "application/javascript": [
              "window[\"46bb7f62-79e1-11ec-8afc-0242ac1c0002\"] = google.colab.output.setActiveOutputArea(window[\"46ba3b7a-79e1-11ec-8afc-0242ac1c0002\"]);\n",
              "//# sourceURL=js_fef9ab45e2"
            ],
            "text/plain": [
              "<IPython.core.display.Javascript object>"
            ]
          },
          "metadata": {}
        },
        {
          "output_type": "display_data",
          "data": {
            "application/javascript": [
              "window[\"46bcf4b4-79e1-11ec-8afc-0242ac1c0002\"] = google.colab.output.getActiveOutputArea();\n",
              "//# sourceURL=js_9ae3f178a5"
            ],
            "text/plain": [
              "<IPython.core.display.Javascript object>"
            ]
          },
          "metadata": {}
        },
        {
          "output_type": "display_data",
          "data": {
            "application/javascript": [
              "window[\"46bd31d6-79e1-11ec-8afc-0242ac1c0002\"] = document.querySelector(\"#id2-3-0\");\n",
              "//# sourceURL=js_d86e65b8d5"
            ],
            "text/plain": [
              "<IPython.core.display.Javascript object>"
            ]
          },
          "metadata": {}
        },
        {
          "output_type": "display_data",
          "data": {
            "application/javascript": [
              "window[\"46bd6b2e-79e1-11ec-8afc-0242ac1c0002\"] = google.colab.output.setActiveOutputArea(window[\"46bd31d6-79e1-11ec-8afc-0242ac1c0002\"]);\n",
              "//# sourceURL=js_f20a7bef2d"
            ],
            "text/plain": [
              "<IPython.core.display.Javascript object>"
            ]
          },
          "metadata": {}
        },
        {
          "output_type": "stream",
          "name": "stdout",
          "text": [
            "Precipitación\n"
          ]
        },
        {
          "output_type": "display_data",
          "data": {
            "application/javascript": [
              "window[\"46be6bfa-79e1-11ec-8afc-0242ac1c0002\"] = google.colab.output.setActiveOutputArea(window[\"46bcf4b4-79e1-11ec-8afc-0242ac1c0002\"]);\n",
              "//# sourceURL=js_d134ee9fd6"
            ],
            "text/plain": [
              "<IPython.core.display.Javascript object>"
            ]
          },
          "metadata": {}
        },
        {
          "output_type": "display_data",
          "data": {
            "application/javascript": [
              "window[\"46bfd512-79e1-11ec-8afc-0242ac1c0002\"] = google.colab.output.getActiveOutputArea();\n",
              "//# sourceURL=js_c6b6914997"
            ],
            "text/plain": [
              "<IPython.core.display.Javascript object>"
            ]
          },
          "metadata": {}
        },
        {
          "output_type": "display_data",
          "data": {
            "application/javascript": [
              "window[\"46c01a18-79e1-11ec-8afc-0242ac1c0002\"] = document.querySelector(\"#id2-1-1\");\n",
              "//# sourceURL=js_2e035233d4"
            ],
            "text/plain": [
              "<IPython.core.display.Javascript object>"
            ]
          },
          "metadata": {}
        },
        {
          "output_type": "display_data",
          "data": {
            "application/javascript": [
              "window[\"46c051e0-79e1-11ec-8afc-0242ac1c0002\"] = google.colab.output.setActiveOutputArea(window[\"46c01a18-79e1-11ec-8afc-0242ac1c0002\"]);\n",
              "//# sourceURL=js_54493e4ba7"
            ],
            "text/plain": [
              "<IPython.core.display.Javascript object>"
            ]
          },
          "metadata": {}
        },
        {
          "output_type": "stream",
          "name": "stdout",
          "text": [
            "0.40179270202500006\n"
          ]
        },
        {
          "output_type": "display_data",
          "data": {
            "application/javascript": [
              "window[\"46c1455a-79e1-11ec-8afc-0242ac1c0002\"] = google.colab.output.setActiveOutputArea(window[\"46bfd512-79e1-11ec-8afc-0242ac1c0002\"]);\n",
              "//# sourceURL=js_18c1de29c9"
            ],
            "text/plain": [
              "<IPython.core.display.Javascript object>"
            ]
          },
          "metadata": {}
        },
        {
          "output_type": "display_data",
          "data": {
            "application/javascript": [
              "window[\"46c2cf42-79e1-11ec-8afc-0242ac1c0002\"] = google.colab.output.getActiveOutputArea();\n",
              "//# sourceURL=js_a618521ed9"
            ],
            "text/plain": [
              "<IPython.core.display.Javascript object>"
            ]
          },
          "metadata": {}
        },
        {
          "output_type": "display_data",
          "data": {
            "application/javascript": [
              "window[\"46c31e66-79e1-11ec-8afc-0242ac1c0002\"] = document.querySelector(\"#id2-2-1\");\n",
              "//# sourceURL=js_ef15dd27c9"
            ],
            "text/plain": [
              "<IPython.core.display.Javascript object>"
            ]
          },
          "metadata": {}
        },
        {
          "output_type": "display_data",
          "data": {
            "application/javascript": [
              "window[\"46c358f4-79e1-11ec-8afc-0242ac1c0002\"] = google.colab.output.setActiveOutputArea(window[\"46c31e66-79e1-11ec-8afc-0242ac1c0002\"]);\n",
              "//# sourceURL=js_4e2e43ebd7"
            ],
            "text/plain": [
              "<IPython.core.display.Javascript object>"
            ]
          },
          "metadata": {}
        },
        {
          "output_type": "stream",
          "name": "stdout",
          "text": [
            "0.3655751111250001\n"
          ]
        },
        {
          "output_type": "display_data",
          "data": {
            "application/javascript": [
              "window[\"46c44b92-79e1-11ec-8afc-0242ac1c0002\"] = google.colab.output.setActiveOutputArea(window[\"46c2cf42-79e1-11ec-8afc-0242ac1c0002\"]);\n",
              "//# sourceURL=js_dbfbaba0e7"
            ],
            "text/plain": [
              "<IPython.core.display.Javascript object>"
            ]
          },
          "metadata": {}
        },
        {
          "output_type": "display_data",
          "data": {
            "application/javascript": [
              "window[\"46c5d516-79e1-11ec-8afc-0242ac1c0002\"] = google.colab.output.getActiveOutputArea();\n",
              "//# sourceURL=js_057c16ea0a"
            ],
            "text/plain": [
              "<IPython.core.display.Javascript object>"
            ]
          },
          "metadata": {}
        },
        {
          "output_type": "display_data",
          "data": {
            "application/javascript": [
              "window[\"46c610da-79e1-11ec-8afc-0242ac1c0002\"] = document.querySelector(\"#id2-3-1\");\n",
              "//# sourceURL=js_d5d15194cd"
            ],
            "text/plain": [
              "<IPython.core.display.Javascript object>"
            ]
          },
          "metadata": {}
        },
        {
          "output_type": "display_data",
          "data": {
            "application/javascript": [
              "window[\"46c64a14-79e1-11ec-8afc-0242ac1c0002\"] = google.colab.output.setActiveOutputArea(window[\"46c610da-79e1-11ec-8afc-0242ac1c0002\"]);\n",
              "//# sourceURL=js_d42afc0b18"
            ],
            "text/plain": [
              "<IPython.core.display.Javascript object>"
            ]
          },
          "metadata": {}
        },
        {
          "output_type": "stream",
          "name": "stdout",
          "text": [
            "0.5530949523333333\n"
          ]
        },
        {
          "output_type": "display_data",
          "data": {
            "application/javascript": [
              "window[\"46c71e9e-79e1-11ec-8afc-0242ac1c0002\"] = google.colab.output.setActiveOutputArea(window[\"46c5d516-79e1-11ec-8afc-0242ac1c0002\"]);\n",
              "//# sourceURL=js_628d77df21"
            ],
            "text/plain": [
              "<IPython.core.display.Javascript object>"
            ]
          },
          "metadata": {}
        },
        {
          "output_type": "display_data",
          "data": {
            "application/javascript": [
              "window[\"46c87e24-79e1-11ec-8afc-0242ac1c0002\"] = google.colab.output.getActiveOutputArea();\n",
              "//# sourceURL=js_2cd5d7309a"
            ],
            "text/plain": [
              "<IPython.core.display.Javascript object>"
            ]
          },
          "metadata": {}
        },
        {
          "output_type": "display_data",
          "data": {
            "application/javascript": [
              "window[\"46c8b88a-79e1-11ec-8afc-0242ac1c0002\"] = document.querySelector(\"#id2-0-1\");\n",
              "//# sourceURL=js_7a38c6445f"
            ],
            "text/plain": [
              "<IPython.core.display.Javascript object>"
            ]
          },
          "metadata": {}
        },
        {
          "output_type": "display_data",
          "data": {
            "application/javascript": [
              "window[\"46c8eed6-79e1-11ec-8afc-0242ac1c0002\"] = google.colab.output.setActiveOutputArea(window[\"46c8b88a-79e1-11ec-8afc-0242ac1c0002\"]);\n",
              "//# sourceURL=js_c15b91a30b"
            ],
            "text/plain": [
              "<IPython.core.display.Javascript object>"
            ]
          },
          "metadata": {}
        },
        {
          "output_type": "stream",
          "name": "stdout",
          "text": [
            "Beneficio real - Beneficio esperado\n"
          ]
        },
        {
          "output_type": "display_data",
          "data": {
            "application/javascript": [
              "window[\"46c9c16c-79e1-11ec-8afc-0242ac1c0002\"] = google.colab.output.setActiveOutputArea(window[\"46c87e24-79e1-11ec-8afc-0242ac1c0002\"]);\n",
              "//# sourceURL=js_0fcee06a30"
            ],
            "text/plain": [
              "<IPython.core.display.Javascript object>"
            ]
          },
          "metadata": {}
        },
        {
          "output_type": "display_data",
          "data": {
            "application/javascript": [
              "window[\"46caffdc-79e1-11ec-8afc-0242ac1c0002\"] = google.colab.output.getActiveOutputArea();\n",
              "//# sourceURL=js_5d605c2872"
            ],
            "text/plain": [
              "<IPython.core.display.Javascript object>"
            ]
          },
          "metadata": {}
        },
        {
          "output_type": "display_data",
          "data": {
            "application/javascript": [
              "window[\"46cb3c22-79e1-11ec-8afc-0242ac1c0002\"] = document.querySelector(\"#id2-0-2\");\n",
              "//# sourceURL=js_67fb17d5f6"
            ],
            "text/plain": [
              "<IPython.core.display.Javascript object>"
            ]
          },
          "metadata": {}
        },
        {
          "output_type": "display_data",
          "data": {
            "application/javascript": [
              "window[\"46cb73d6-79e1-11ec-8afc-0242ac1c0002\"] = google.colab.output.setActiveOutputArea(window[\"46cb3c22-79e1-11ec-8afc-0242ac1c0002\"]);\n",
              "//# sourceURL=js_4a363085d5"
            ],
            "text/plain": [
              "<IPython.core.display.Javascript object>"
            ]
          },
          "metadata": {}
        },
        {
          "output_type": "stream",
          "name": "stdout",
          "text": [
            "Influencia\n"
          ]
        },
        {
          "output_type": "display_data",
          "data": {
            "application/javascript": [
              "window[\"46cc6426-79e1-11ec-8afc-0242ac1c0002\"] = google.colab.output.setActiveOutputArea(window[\"46caffdc-79e1-11ec-8afc-0242ac1c0002\"]);\n",
              "//# sourceURL=js_c95036be0a"
            ],
            "text/plain": [
              "<IPython.core.display.Javascript object>"
            ]
          },
          "metadata": {}
        },
        {
          "output_type": "display_data",
          "data": {
            "application/javascript": [
              "window[\"46cdbb6e-79e1-11ec-8afc-0242ac1c0002\"] = google.colab.output.getActiveOutputArea();\n",
              "//# sourceURL=js_aed067b185"
            ],
            "text/plain": [
              "<IPython.core.display.Javascript object>"
            ]
          },
          "metadata": {}
        },
        {
          "output_type": "display_data",
          "data": {
            "application/javascript": [
              "window[\"46ce0b78-79e1-11ec-8afc-0242ac1c0002\"] = document.querySelector(\"#id2-1-2\");\n",
              "//# sourceURL=js_fa41da9563"
            ],
            "text/plain": [
              "<IPython.core.display.Javascript object>"
            ]
          },
          "metadata": {}
        },
        {
          "output_type": "display_data",
          "data": {
            "application/javascript": [
              "window[\"46ce4606-79e1-11ec-8afc-0242ac1c0002\"] = google.colab.output.setActiveOutputArea(window[\"46ce0b78-79e1-11ec-8afc-0242ac1c0002\"]);\n",
              "//# sourceURL=js_71d54f41da"
            ],
            "text/plain": [
              "<IPython.core.display.Javascript object>"
            ]
          },
          "metadata": {}
        },
        {
          "output_type": "stream",
          "name": "stdout",
          "text": [
            "positive\n"
          ]
        },
        {
          "output_type": "display_data",
          "data": {
            "application/javascript": [
              "window[\"46cf353e-79e1-11ec-8afc-0242ac1c0002\"] = google.colab.output.setActiveOutputArea(window[\"46cdbb6e-79e1-11ec-8afc-0242ac1c0002\"]);\n",
              "//# sourceURL=js_af78dc331c"
            ],
            "text/plain": [
              "<IPython.core.display.Javascript object>"
            ]
          },
          "metadata": {}
        },
        {
          "output_type": "display_data",
          "data": {
            "application/javascript": [
              "window[\"46d09898-79e1-11ec-8afc-0242ac1c0002\"] = google.colab.output.getActiveOutputArea();\n",
              "//# sourceURL=js_d50c053cba"
            ],
            "text/plain": [
              "<IPython.core.display.Javascript object>"
            ]
          },
          "metadata": {}
        },
        {
          "output_type": "display_data",
          "data": {
            "application/javascript": [
              "window[\"46d0d506-79e1-11ec-8afc-0242ac1c0002\"] = document.querySelector(\"#id2-2-2\");\n",
              "//# sourceURL=js_7b23beca0d"
            ],
            "text/plain": [
              "<IPython.core.display.Javascript object>"
            ]
          },
          "metadata": {}
        },
        {
          "output_type": "display_data",
          "data": {
            "application/javascript": [
              "window[\"46d10bfc-79e1-11ec-8afc-0242ac1c0002\"] = google.colab.output.setActiveOutputArea(window[\"46d0d506-79e1-11ec-8afc-0242ac1c0002\"]);\n",
              "//# sourceURL=js_30d95c7fde"
            ],
            "text/plain": [
              "<IPython.core.display.Javascript object>"
            ]
          },
          "metadata": {}
        },
        {
          "output_type": "stream",
          "name": "stdout",
          "text": [
            "positive\n"
          ]
        },
        {
          "output_type": "display_data",
          "data": {
            "application/javascript": [
              "window[\"46d206ba-79e1-11ec-8afc-0242ac1c0002\"] = google.colab.output.setActiveOutputArea(window[\"46d09898-79e1-11ec-8afc-0242ac1c0002\"]);\n",
              "//# sourceURL=js_a7df06ee0a"
            ],
            "text/plain": [
              "<IPython.core.display.Javascript object>"
            ]
          },
          "metadata": {}
        },
        {
          "output_type": "display_data",
          "data": {
            "application/javascript": [
              "window[\"46d333f0-79e1-11ec-8afc-0242ac1c0002\"] = google.colab.output.getActiveOutputArea();\n",
              "//# sourceURL=js_1ab47e623b"
            ],
            "text/plain": [
              "<IPython.core.display.Javascript object>"
            ]
          },
          "metadata": {}
        },
        {
          "output_type": "display_data",
          "data": {
            "application/javascript": [
              "window[\"46d3704a-79e1-11ec-8afc-0242ac1c0002\"] = document.querySelector(\"#id2-3-2\");\n",
              "//# sourceURL=js_fed9c0b214"
            ],
            "text/plain": [
              "<IPython.core.display.Javascript object>"
            ]
          },
          "metadata": {}
        },
        {
          "output_type": "display_data",
          "data": {
            "application/javascript": [
              "window[\"46d3a22c-79e1-11ec-8afc-0242ac1c0002\"] = google.colab.output.setActiveOutputArea(window[\"46d3704a-79e1-11ec-8afc-0242ac1c0002\"]);\n",
              "//# sourceURL=js_13f4511708"
            ],
            "text/plain": [
              "<IPython.core.display.Javascript object>"
            ]
          },
          "metadata": {}
        },
        {
          "output_type": "stream",
          "name": "stdout",
          "text": [
            "positive\n"
          ]
        },
        {
          "output_type": "display_data",
          "data": {
            "application/javascript": [
              "window[\"46d48b10-79e1-11ec-8afc-0242ac1c0002\"] = google.colab.output.setActiveOutputArea(window[\"46d333f0-79e1-11ec-8afc-0242ac1c0002\"]);\n",
              "//# sourceURL=js_ff611ed366"
            ],
            "text/plain": [
              "<IPython.core.display.Javascript object>"
            ]
          },
          "metadata": {}
        },
        {
          "output_type": "stream",
          "name": "stdout",
          "text": [
            "\n",
            "\n",
            "\n",
            "Diferencia de beneficios\n"
          ]
        },
        {
          "output_type": "display_data",
          "data": {
            "text/html": [
              "<style>\n",
              "       table#id4, #id4 > tbody > tr > th, #id4 > tbody > tr > td {\n",
              "         border: 1px solid lightgray;\n",
              "         border-collapse:collapse;\n",
              "         \n",
              "        }</style>"
            ],
            "text/plain": [
              "<IPython.core.display.HTML object>"
            ]
          },
          "metadata": {}
        },
        {
          "output_type": "display_data",
          "data": {
            "text/html": [
              "<table id=id4><tr><th id=id4-0-0></th><th id=id4-0-1></th><th id=id4-0-2></th></tr><tr><th id=id4-1-0></th><td id=id4-1-1></td><td id=id4-1-2></td></tr><tr><th id=id4-2-0></th><td id=id4-2-1></td><td id=id4-2-2></td></tr><tr><th id=id4-3-0></th><td id=id4-3-1></td><td id=id4-3-2></td></tr></table>"
            ],
            "text/plain": [
              "<IPython.core.display.HTML object>"
            ]
          },
          "metadata": {}
        },
        {
          "output_type": "display_data",
          "data": {
            "application/javascript": [
              "window[\"46efd8b6-79e1-11ec-8afc-0242ac1c0002\"] = google.colab.output.getActiveOutputArea();\n",
              "//# sourceURL=js_ebff230776"
            ],
            "text/plain": [
              "<IPython.core.display.Javascript object>"
            ]
          },
          "metadata": {}
        },
        {
          "output_type": "display_data",
          "data": {
            "application/javascript": [
              "window[\"46f02a1e-79e1-11ec-8afc-0242ac1c0002\"] = document.querySelector(\"#id4-0-0\");\n",
              "//# sourceURL=js_e7bf28272d"
            ],
            "text/plain": [
              "<IPython.core.display.Javascript object>"
            ]
          },
          "metadata": {}
        },
        {
          "output_type": "display_data",
          "data": {
            "application/javascript": [
              "window[\"46f17536-79e1-11ec-8afc-0242ac1c0002\"] = google.colab.output.setActiveOutputArea(window[\"46f02a1e-79e1-11ec-8afc-0242ac1c0002\"]);\n",
              "//# sourceURL=js_86c4667e02"
            ],
            "text/plain": [
              "<IPython.core.display.Javascript object>"
            ]
          },
          "metadata": {}
        },
        {
          "output_type": "stream",
          "name": "stdout",
          "text": [
            "Característica que falta\n"
          ]
        },
        {
          "output_type": "display_data",
          "data": {
            "application/javascript": [
              "window[\"46f3b648-79e1-11ec-8afc-0242ac1c0002\"] = google.colab.output.setActiveOutputArea(window[\"46efd8b6-79e1-11ec-8afc-0242ac1c0002\"]);\n",
              "//# sourceURL=js_a60eae61ae"
            ],
            "text/plain": [
              "<IPython.core.display.Javascript object>"
            ]
          },
          "metadata": {}
        },
        {
          "output_type": "display_data",
          "data": {
            "application/javascript": [
              "window[\"46f7a97e-79e1-11ec-8afc-0242ac1c0002\"] = google.colab.output.getActiveOutputArea();\n",
              "//# sourceURL=js_d4900f050d"
            ],
            "text/plain": [
              "<IPython.core.display.Javascript object>"
            ]
          },
          "metadata": {}
        },
        {
          "output_type": "display_data",
          "data": {
            "application/javascript": [
              "window[\"46f7f0dc-79e1-11ec-8afc-0242ac1c0002\"] = document.querySelector(\"#id4-1-0\");\n",
              "//# sourceURL=js_49c6fad03a"
            ],
            "text/plain": [
              "<IPython.core.display.Javascript object>"
            ]
          },
          "metadata": {}
        },
        {
          "output_type": "display_data",
          "data": {
            "application/javascript": [
              "window[\"46f83bd2-79e1-11ec-8afc-0242ac1c0002\"] = google.colab.output.setActiveOutputArea(window[\"46f7f0dc-79e1-11ec-8afc-0242ac1c0002\"]);\n",
              "//# sourceURL=js_a30df28bcb"
            ],
            "text/plain": [
              "<IPython.core.display.Javascript object>"
            ]
          },
          "metadata": {}
        },
        {
          "output_type": "stream",
          "name": "stdout",
          "text": [
            "Mes\n"
          ]
        },
        {
          "output_type": "display_data",
          "data": {
            "application/javascript": [
              "window[\"46f9dad2-79e1-11ec-8afc-0242ac1c0002\"] = google.colab.output.setActiveOutputArea(window[\"46f7a97e-79e1-11ec-8afc-0242ac1c0002\"]);\n",
              "//# sourceURL=js_c3c558b13e"
            ],
            "text/plain": [
              "<IPython.core.display.Javascript object>"
            ]
          },
          "metadata": {}
        },
        {
          "output_type": "display_data",
          "data": {
            "application/javascript": [
              "window[\"46fc5000-79e1-11ec-8afc-0242ac1c0002\"] = google.colab.output.getActiveOutputArea();\n",
              "//# sourceURL=js_a1a9f1905f"
            ],
            "text/plain": [
              "<IPython.core.display.Javascript object>"
            ]
          },
          "metadata": {}
        },
        {
          "output_type": "display_data",
          "data": {
            "application/javascript": [
              "window[\"46fcd0b6-79e1-11ec-8afc-0242ac1c0002\"] = document.querySelector(\"#id4-2-0\");\n",
              "//# sourceURL=js_27f124a71f"
            ],
            "text/plain": [
              "<IPython.core.display.Javascript object>"
            ]
          },
          "metadata": {}
        },
        {
          "output_type": "display_data",
          "data": {
            "application/javascript": [
              "window[\"46fd61c0-79e1-11ec-8afc-0242ac1c0002\"] = google.colab.output.setActiveOutputArea(window[\"46fcd0b6-79e1-11ec-8afc-0242ac1c0002\"]);\n",
              "//# sourceURL=js_0c98d46cac"
            ],
            "text/plain": [
              "<IPython.core.display.Javascript object>"
            ]
          },
          "metadata": {}
        },
        {
          "output_type": "stream",
          "name": "stdout",
          "text": [
            "Temperatura\n"
          ]
        },
        {
          "output_type": "display_data",
          "data": {
            "application/javascript": [
              "window[\"46ff19ca-79e1-11ec-8afc-0242ac1c0002\"] = google.colab.output.setActiveOutputArea(window[\"46fc5000-79e1-11ec-8afc-0242ac1c0002\"]);\n",
              "//# sourceURL=js_a852b26e49"
            ],
            "text/plain": [
              "<IPython.core.display.Javascript object>"
            ]
          },
          "metadata": {}
        },
        {
          "output_type": "display_data",
          "data": {
            "application/javascript": [
              "window[\"4700b2f8-79e1-11ec-8afc-0242ac1c0002\"] = google.colab.output.getActiveOutputArea();\n",
              "//# sourceURL=js_f5e3aec974"
            ],
            "text/plain": [
              "<IPython.core.display.Javascript object>"
            ]
          },
          "metadata": {}
        },
        {
          "output_type": "display_data",
          "data": {
            "application/javascript": [
              "window[\"4700ff74-79e1-11ec-8afc-0242ac1c0002\"] = document.querySelector(\"#id4-3-0\");\n",
              "//# sourceURL=js_4807f89225"
            ],
            "text/plain": [
              "<IPython.core.display.Javascript object>"
            ]
          },
          "metadata": {}
        },
        {
          "output_type": "display_data",
          "data": {
            "application/javascript": [
              "window[\"470147b8-79e1-11ec-8afc-0242ac1c0002\"] = google.colab.output.setActiveOutputArea(window[\"4700ff74-79e1-11ec-8afc-0242ac1c0002\"]);\n",
              "//# sourceURL=js_d482caf126"
            ],
            "text/plain": [
              "<IPython.core.display.Javascript object>"
            ]
          },
          "metadata": {}
        },
        {
          "output_type": "stream",
          "name": "stdout",
          "text": [
            "Precipitación\n"
          ]
        },
        {
          "output_type": "display_data",
          "data": {
            "application/javascript": [
              "window[\"47024e9c-79e1-11ec-8afc-0242ac1c0002\"] = google.colab.output.setActiveOutputArea(window[\"4700b2f8-79e1-11ec-8afc-0242ac1c0002\"]);\n",
              "//# sourceURL=js_dff813d0c9"
            ],
            "text/plain": [
              "<IPython.core.display.Javascript object>"
            ]
          },
          "metadata": {}
        },
        {
          "output_type": "display_data",
          "data": {
            "application/javascript": [
              "window[\"470418ee-79e1-11ec-8afc-0242ac1c0002\"] = google.colab.output.getActiveOutputArea();\n",
              "//# sourceURL=js_578ffe3db7"
            ],
            "text/plain": [
              "<IPython.core.display.Javascript object>"
            ]
          },
          "metadata": {}
        },
        {
          "output_type": "display_data",
          "data": {
            "application/javascript": [
              "window[\"4704890a-79e1-11ec-8afc-0242ac1c0002\"] = document.querySelector(\"#id4-1-1\");\n",
              "//# sourceURL=js_9875d10e71"
            ],
            "text/plain": [
              "<IPython.core.display.Javascript object>"
            ]
          },
          "metadata": {}
        },
        {
          "output_type": "display_data",
          "data": {
            "application/javascript": [
              "window[\"4704be8e-79e1-11ec-8afc-0242ac1c0002\"] = google.colab.output.setActiveOutputArea(window[\"4704890a-79e1-11ec-8afc-0242ac1c0002\"]);\n",
              "//# sourceURL=js_99ffc2308f"
            ],
            "text/plain": [
              "<IPython.core.display.Javascript object>"
            ]
          },
          "metadata": {}
        },
        {
          "output_type": "stream",
          "name": "stdout",
          "text": [
            "-0.1610256845131922\n"
          ]
        },
        {
          "output_type": "display_data",
          "data": {
            "application/javascript": [
              "window[\"4705e1e2-79e1-11ec-8afc-0242ac1c0002\"] = google.colab.output.setActiveOutputArea(window[\"470418ee-79e1-11ec-8afc-0242ac1c0002\"]);\n",
              "//# sourceURL=js_403d12eed9"
            ],
            "text/plain": [
              "<IPython.core.display.Javascript object>"
            ]
          },
          "metadata": {}
        },
        {
          "output_type": "display_data",
          "data": {
            "application/javascript": [
              "window[\"4707d5d8-79e1-11ec-8afc-0242ac1c0002\"] = google.colab.output.getActiveOutputArea();\n",
              "//# sourceURL=js_417a28b750"
            ],
            "text/plain": [
              "<IPython.core.display.Javascript object>"
            ]
          },
          "metadata": {}
        },
        {
          "output_type": "display_data",
          "data": {
            "application/javascript": [
              "window[\"47082dda-79e1-11ec-8afc-0242ac1c0002\"] = document.querySelector(\"#id4-2-1\");\n",
              "//# sourceURL=js_4bd02270a8"
            ],
            "text/plain": [
              "<IPython.core.display.Javascript object>"
            ]
          },
          "metadata": {}
        },
        {
          "output_type": "display_data",
          "data": {
            "application/javascript": [
              "window[\"470885fa-79e1-11ec-8afc-0242ac1c0002\"] = google.colab.output.setActiveOutputArea(window[\"47082dda-79e1-11ec-8afc-0242ac1c0002\"]);\n",
              "//# sourceURL=js_0ddc4a63aa"
            ],
            "text/plain": [
              "<IPython.core.display.Javascript object>"
            ]
          },
          "metadata": {}
        },
        {
          "output_type": "stream",
          "name": "stdout",
          "text": [
            "-0.14062909092857145\n"
          ]
        },
        {
          "output_type": "display_data",
          "data": {
            "application/javascript": [
              "window[\"4709b042-79e1-11ec-8afc-0242ac1c0002\"] = google.colab.output.setActiveOutputArea(window[\"4707d5d8-79e1-11ec-8afc-0242ac1c0002\"]);\n",
              "//# sourceURL=js_26b82b6e80"
            ],
            "text/plain": [
              "<IPython.core.display.Javascript object>"
            ]
          },
          "metadata": {}
        },
        {
          "output_type": "display_data",
          "data": {
            "application/javascript": [
              "window[\"470ae14c-79e1-11ec-8afc-0242ac1c0002\"] = google.colab.output.getActiveOutputArea();\n",
              "//# sourceURL=js_26c5335155"
            ],
            "text/plain": [
              "<IPython.core.display.Javascript object>"
            ]
          },
          "metadata": {}
        },
        {
          "output_type": "display_data",
          "data": {
            "application/javascript": [
              "window[\"470b1702-79e1-11ec-8afc-0242ac1c0002\"] = document.querySelector(\"#id4-3-1\");\n",
              "//# sourceURL=js_041c21f144"
            ],
            "text/plain": [
              "<IPython.core.display.Javascript object>"
            ]
          },
          "metadata": {}
        },
        {
          "output_type": "display_data",
          "data": {
            "application/javascript": [
              "window[\"470b4d1c-79e1-11ec-8afc-0242ac1c0002\"] = google.colab.output.setActiveOutputArea(window[\"470b1702-79e1-11ec-8afc-0242ac1c0002\"]);\n",
              "//# sourceURL=js_0e50126e20"
            ],
            "text/plain": [
              "<IPython.core.display.Javascript object>"
            ]
          },
          "metadata": {}
        },
        {
          "output_type": "stream",
          "name": "stdout",
          "text": [
            "-0.1413482068810138\n"
          ]
        },
        {
          "output_type": "display_data",
          "data": {
            "application/javascript": [
              "window[\"470c1a62-79e1-11ec-8afc-0242ac1c0002\"] = google.colab.output.setActiveOutputArea(window[\"470ae14c-79e1-11ec-8afc-0242ac1c0002\"]);\n",
              "//# sourceURL=js_c4145d124e"
            ],
            "text/plain": [
              "<IPython.core.display.Javascript object>"
            ]
          },
          "metadata": {}
        },
        {
          "output_type": "display_data",
          "data": {
            "application/javascript": [
              "window[\"470d61ba-79e1-11ec-8afc-0242ac1c0002\"] = google.colab.output.getActiveOutputArea();\n",
              "//# sourceURL=js_3136a1b25e"
            ],
            "text/plain": [
              "<IPython.core.display.Javascript object>"
            ]
          },
          "metadata": {}
        },
        {
          "output_type": "display_data",
          "data": {
            "application/javascript": [
              "window[\"470da09e-79e1-11ec-8afc-0242ac1c0002\"] = document.querySelector(\"#id4-0-1\");\n",
              "//# sourceURL=js_f7ef7b9059"
            ],
            "text/plain": [
              "<IPython.core.display.Javascript object>"
            ]
          },
          "metadata": {}
        },
        {
          "output_type": "display_data",
          "data": {
            "application/javascript": [
              "window[\"470dd1fe-79e1-11ec-8afc-0242ac1c0002\"] = google.colab.output.setActiveOutputArea(window[\"470da09e-79e1-11ec-8afc-0242ac1c0002\"]);\n",
              "//# sourceURL=js_bdee3b6fd4"
            ],
            "text/plain": [
              "<IPython.core.display.Javascript object>"
            ]
          },
          "metadata": {}
        },
        {
          "output_type": "stream",
          "name": "stdout",
          "text": [
            "Beneficio real - Beneficio esperado\n"
          ]
        },
        {
          "output_type": "display_data",
          "data": {
            "application/javascript": [
              "window[\"470eaa34-79e1-11ec-8afc-0242ac1c0002\"] = google.colab.output.setActiveOutputArea(window[\"470d61ba-79e1-11ec-8afc-0242ac1c0002\"]);\n",
              "//# sourceURL=js_a4a2602ed4"
            ],
            "text/plain": [
              "<IPython.core.display.Javascript object>"
            ]
          },
          "metadata": {}
        },
        {
          "output_type": "display_data",
          "data": {
            "application/javascript": [
              "window[\"470fdc2e-79e1-11ec-8afc-0242ac1c0002\"] = google.colab.output.getActiveOutputArea();\n",
              "//# sourceURL=js_d71fa066fd"
            ],
            "text/plain": [
              "<IPython.core.display.Javascript object>"
            ]
          },
          "metadata": {}
        },
        {
          "output_type": "display_data",
          "data": {
            "application/javascript": [
              "window[\"47101892-79e1-11ec-8afc-0242ac1c0002\"] = document.querySelector(\"#id4-0-2\");\n",
              "//# sourceURL=js_04cb457538"
            ],
            "text/plain": [
              "<IPython.core.display.Javascript object>"
            ]
          },
          "metadata": {}
        },
        {
          "output_type": "display_data",
          "data": {
            "application/javascript": [
              "window[\"47104f4c-79e1-11ec-8afc-0242ac1c0002\"] = google.colab.output.setActiveOutputArea(window[\"47101892-79e1-11ec-8afc-0242ac1c0002\"]);\n",
              "//# sourceURL=js_656326becb"
            ],
            "text/plain": [
              "<IPython.core.display.Javascript object>"
            ]
          },
          "metadata": {}
        },
        {
          "output_type": "stream",
          "name": "stdout",
          "text": [
            "Influencia\n"
          ]
        },
        {
          "output_type": "display_data",
          "data": {
            "application/javascript": [
              "window[\"471112e2-79e1-11ec-8afc-0242ac1c0002\"] = google.colab.output.setActiveOutputArea(window[\"470fdc2e-79e1-11ec-8afc-0242ac1c0002\"]);\n",
              "//# sourceURL=js_3774176abd"
            ],
            "text/plain": [
              "<IPython.core.display.Javascript object>"
            ]
          },
          "metadata": {}
        },
        {
          "output_type": "display_data",
          "data": {
            "application/javascript": [
              "window[\"4712556c-79e1-11ec-8afc-0242ac1c0002\"] = google.colab.output.getActiveOutputArea();\n",
              "//# sourceURL=js_98f2e0e4c8"
            ],
            "text/plain": [
              "<IPython.core.display.Javascript object>"
            ]
          },
          "metadata": {}
        },
        {
          "output_type": "display_data",
          "data": {
            "application/javascript": [
              "window[\"471288c0-79e1-11ec-8afc-0242ac1c0002\"] = document.querySelector(\"#id4-1-2\");\n",
              "//# sourceURL=js_567317e312"
            ],
            "text/plain": [
              "<IPython.core.display.Javascript object>"
            ]
          },
          "metadata": {}
        },
        {
          "output_type": "display_data",
          "data": {
            "application/javascript": [
              "window[\"4712b8c2-79e1-11ec-8afc-0242ac1c0002\"] = google.colab.output.setActiveOutputArea(window[\"471288c0-79e1-11ec-8afc-0242ac1c0002\"]);\n",
              "//# sourceURL=js_242862fa29"
            ],
            "text/plain": [
              "<IPython.core.display.Javascript object>"
            ]
          },
          "metadata": {}
        },
        {
          "output_type": "stream",
          "name": "stdout",
          "text": [
            "neutral\n"
          ]
        },
        {
          "output_type": "display_data",
          "data": {
            "application/javascript": [
              "window[\"47139846-79e1-11ec-8afc-0242ac1c0002\"] = google.colab.output.setActiveOutputArea(window[\"4712556c-79e1-11ec-8afc-0242ac1c0002\"]);\n",
              "//# sourceURL=js_f44cf388ea"
            ],
            "text/plain": [
              "<IPython.core.display.Javascript object>"
            ]
          },
          "metadata": {}
        },
        {
          "output_type": "display_data",
          "data": {
            "application/javascript": [
              "window[\"4714dc88-79e1-11ec-8afc-0242ac1c0002\"] = google.colab.output.getActiveOutputArea();\n",
              "//# sourceURL=js_fdb604ba8a"
            ],
            "text/plain": [
              "<IPython.core.display.Javascript object>"
            ]
          },
          "metadata": {}
        },
        {
          "output_type": "display_data",
          "data": {
            "application/javascript": [
              "window[\"471521ca-79e1-11ec-8afc-0242ac1c0002\"] = document.querySelector(\"#id4-2-2\");\n",
              "//# sourceURL=js_a369570463"
            ],
            "text/plain": [
              "<IPython.core.display.Javascript object>"
            ]
          },
          "metadata": {}
        },
        {
          "output_type": "display_data",
          "data": {
            "application/javascript": [
              "window[\"4715547e-79e1-11ec-8afc-0242ac1c0002\"] = google.colab.output.setActiveOutputArea(window[\"471521ca-79e1-11ec-8afc-0242ac1c0002\"]);\n",
              "//# sourceURL=js_385d180bb6"
            ],
            "text/plain": [
              "<IPython.core.display.Javascript object>"
            ]
          },
          "metadata": {}
        },
        {
          "output_type": "stream",
          "name": "stdout",
          "text": [
            "neutral\n"
          ]
        },
        {
          "output_type": "display_data",
          "data": {
            "application/javascript": [
              "window[\"47162390-79e1-11ec-8afc-0242ac1c0002\"] = google.colab.output.setActiveOutputArea(window[\"4714dc88-79e1-11ec-8afc-0242ac1c0002\"]);\n",
              "//# sourceURL=js_70ef3e6b9b"
            ],
            "text/plain": [
              "<IPython.core.display.Javascript object>"
            ]
          },
          "metadata": {}
        },
        {
          "output_type": "display_data",
          "data": {
            "application/javascript": [
              "window[\"47174f5e-79e1-11ec-8afc-0242ac1c0002\"] = google.colab.output.getActiveOutputArea();\n",
              "//# sourceURL=js_c178b81121"
            ],
            "text/plain": [
              "<IPython.core.display.Javascript object>"
            ]
          },
          "metadata": {}
        },
        {
          "output_type": "display_data",
          "data": {
            "application/javascript": [
              "window[\"471789f6-79e1-11ec-8afc-0242ac1c0002\"] = document.querySelector(\"#id4-3-2\");\n",
              "//# sourceURL=js_25b39ab706"
            ],
            "text/plain": [
              "<IPython.core.display.Javascript object>"
            ]
          },
          "metadata": {}
        },
        {
          "output_type": "display_data",
          "data": {
            "application/javascript": [
              "window[\"4717bfca-79e1-11ec-8afc-0242ac1c0002\"] = google.colab.output.setActiveOutputArea(window[\"471789f6-79e1-11ec-8afc-0242ac1c0002\"]);\n",
              "//# sourceURL=js_3c7a22481e"
            ],
            "text/plain": [
              "<IPython.core.display.Javascript object>"
            ]
          },
          "metadata": {}
        },
        {
          "output_type": "stream",
          "name": "stdout",
          "text": [
            "neutral\n"
          ]
        },
        {
          "output_type": "display_data",
          "data": {
            "application/javascript": [
              "window[\"471892a6-79e1-11ec-8afc-0242ac1c0002\"] = google.colab.output.setActiveOutputArea(window[\"47174f5e-79e1-11ec-8afc-0242ac1c0002\"]);\n",
              "//# sourceURL=js_6c47ead8ee"
            ],
            "text/plain": [
              "<IPython.core.display.Javascript object>"
            ]
          },
          "metadata": {}
        }
      ]
    },
    {
      "cell_type": "markdown",
      "source": [
        "\n",
        "Al realizar inferencia, se calcula la diferencia del precio por kilogramo obtenido y del precio esperado ignorando la característica analizada. Un valor positivo indica que el valor de dicha característica ha aportado positivamente al precio, mientras que un valor negativo refleja una influencia negativa. Los valores en el intervalo [-0.2, 0.2] se consideran neutrales puesto que se tratan de valores cercanos a 0."
      ],
      "metadata": {
        "id": "6Wsv1WrwdQKs"
      }
    },
    {
      "cell_type": "code",
      "source": [
        "checkInfluence(9, 16.9, 0.0, \"BROCOLI\", \"Castilla La Mancha\", 1.0)\n",
        "checkInfluence(9, 5.9, 0.0, \"BROCOLI\", \"Castilla La Mancha\", 1.0)\n",
        "print('\\n\\n')\n",
        "checkInfluence(1, 20.9, 2.0, \"SANDIA\", \"Castilla La Mancha\", 1.0)\n",
        "checkInfluence(1, 20.9, 0.0, \"SANDIA\", \"Castilla La Mancha\", 1.0)\n",
        "print('\\n\\n')\n",
        "checkInfluence(4, 20.9, 0.0, \"ALCACHOFA\", \"Castilla La Mancha\", 4.0)\n",
        "checkInfluence(8, 20.9, 0.0, \"ALCACHOFA\", \"Castilla La Mancha\", 4.0)"
      ],
      "metadata": {
        "colab": {
          "base_uri": "https://localhost:8080/",
          "height": 720
        },
        "id": "ApsIgdQSKmDl",
        "outputId": "fd3bdc53-3aeb-4572-d55c-8bec5ea5f3dd"
      },
      "execution_count": 64,
      "outputs": [
        {
          "output_type": "stream",
          "name": "stdout",
          "text": [
            "Diferencia de beneficios\n"
          ]
        },
        {
          "output_type": "display_data",
          "data": {
            "text/html": [
              "<style>\n",
              "       table#id6, #id6 > tbody > tr > th, #id6 > tbody > tr > td {\n",
              "         border: 1px solid lightgray;\n",
              "         border-collapse:collapse;\n",
              "         \n",
              "        }</style>"
            ],
            "text/plain": [
              "<IPython.core.display.HTML object>"
            ]
          },
          "metadata": {}
        },
        {
          "output_type": "display_data",
          "data": {
            "text/html": [
              "<table id=id6><tr><th id=id6-0-0></th><th id=id6-0-1></th><th id=id6-0-2></th></tr><tr><th id=id6-1-0></th><td id=id6-1-1></td><td id=id6-1-2></td></tr><tr><th id=id6-2-0></th><td id=id6-2-1></td><td id=id6-2-2></td></tr><tr><th id=id6-3-0></th><td id=id6-3-1></td><td id=id6-3-2></td></tr></table>"
            ],
            "text/plain": [
              "<IPython.core.display.HTML object>"
            ]
          },
          "metadata": {}
        },
        {
          "output_type": "display_data",
          "data": {
            "application/javascript": [
              "window[\"47269144-79e1-11ec-8afc-0242ac1c0002\"] = google.colab.output.getActiveOutputArea();\n",
              "//# sourceURL=js_20b3c645d2"
            ],
            "text/plain": [
              "<IPython.core.display.Javascript object>"
            ]
          },
          "metadata": {}
        },
        {
          "output_type": "display_data",
          "data": {
            "application/javascript": [
              "window[\"4726c826-79e1-11ec-8afc-0242ac1c0002\"] = document.querySelector(\"#id6-0-0\");\n",
              "//# sourceURL=js_f2e49294d9"
            ],
            "text/plain": [
              "<IPython.core.display.Javascript object>"
            ]
          },
          "metadata": {}
        },
        {
          "output_type": "display_data",
          "data": {
            "application/javascript": [
              "window[\"47270354-79e1-11ec-8afc-0242ac1c0002\"] = google.colab.output.setActiveOutputArea(window[\"4726c826-79e1-11ec-8afc-0242ac1c0002\"]);\n",
              "//# sourceURL=js_b380366626"
            ],
            "text/plain": [
              "<IPython.core.display.Javascript object>"
            ]
          },
          "metadata": {}
        },
        {
          "output_type": "stream",
          "name": "stdout",
          "text": [
            "Característica que falta\n"
          ]
        },
        {
          "output_type": "display_data",
          "data": {
            "application/javascript": [
              "window[\"4727d220-79e1-11ec-8afc-0242ac1c0002\"] = google.colab.output.setActiveOutputArea(window[\"47269144-79e1-11ec-8afc-0242ac1c0002\"]);\n",
              "//# sourceURL=js_f448aefd70"
            ],
            "text/plain": [
              "<IPython.core.display.Javascript object>"
            ]
          },
          "metadata": {}
        },
        {
          "output_type": "display_data",
          "data": {
            "application/javascript": [
              "window[\"47291446-79e1-11ec-8afc-0242ac1c0002\"] = google.colab.output.getActiveOutputArea();\n",
              "//# sourceURL=js_e0f3a68998"
            ],
            "text/plain": [
              "<IPython.core.display.Javascript object>"
            ]
          },
          "metadata": {}
        },
        {
          "output_type": "display_data",
          "data": {
            "application/javascript": [
              "window[\"4729546a-79e1-11ec-8afc-0242ac1c0002\"] = document.querySelector(\"#id6-1-0\");\n",
              "//# sourceURL=js_1a7b34549d"
            ],
            "text/plain": [
              "<IPython.core.display.Javascript object>"
            ]
          },
          "metadata": {}
        },
        {
          "output_type": "display_data",
          "data": {
            "application/javascript": [
              "window[\"4729918c-79e1-11ec-8afc-0242ac1c0002\"] = google.colab.output.setActiveOutputArea(window[\"4729546a-79e1-11ec-8afc-0242ac1c0002\"]);\n",
              "//# sourceURL=js_09c64cad96"
            ],
            "text/plain": [
              "<IPython.core.display.Javascript object>"
            ]
          },
          "metadata": {}
        },
        {
          "output_type": "stream",
          "name": "stdout",
          "text": [
            "Mes\n"
          ]
        },
        {
          "output_type": "display_data",
          "data": {
            "application/javascript": [
              "window[\"472a67d8-79e1-11ec-8afc-0242ac1c0002\"] = google.colab.output.setActiveOutputArea(window[\"47291446-79e1-11ec-8afc-0242ac1c0002\"]);\n",
              "//# sourceURL=js_db682f4f78"
            ],
            "text/plain": [
              "<IPython.core.display.Javascript object>"
            ]
          },
          "metadata": {}
        },
        {
          "output_type": "display_data",
          "data": {
            "application/javascript": [
              "window[\"472bb7b4-79e1-11ec-8afc-0242ac1c0002\"] = google.colab.output.getActiveOutputArea();\n",
              "//# sourceURL=js_c5b077af98"
            ],
            "text/plain": [
              "<IPython.core.display.Javascript object>"
            ]
          },
          "metadata": {}
        },
        {
          "output_type": "display_data",
          "data": {
            "application/javascript": [
              "window[\"472becac-79e1-11ec-8afc-0242ac1c0002\"] = document.querySelector(\"#id6-2-0\");\n",
              "//# sourceURL=js_de473427d8"
            ],
            "text/plain": [
              "<IPython.core.display.Javascript object>"
            ]
          },
          "metadata": {}
        },
        {
          "output_type": "display_data",
          "data": {
            "application/javascript": [
              "window[\"472c1ccc-79e1-11ec-8afc-0242ac1c0002\"] = google.colab.output.setActiveOutputArea(window[\"472becac-79e1-11ec-8afc-0242ac1c0002\"]);\n",
              "//# sourceURL=js_f8be1c39f3"
            ],
            "text/plain": [
              "<IPython.core.display.Javascript object>"
            ]
          },
          "metadata": {}
        },
        {
          "output_type": "stream",
          "name": "stdout",
          "text": [
            "Temperatura\n"
          ]
        },
        {
          "output_type": "display_data",
          "data": {
            "application/javascript": [
              "window[\"472cf304-79e1-11ec-8afc-0242ac1c0002\"] = google.colab.output.setActiveOutputArea(window[\"472bb7b4-79e1-11ec-8afc-0242ac1c0002\"]);\n",
              "//# sourceURL=js_80c73e2ab6"
            ],
            "text/plain": [
              "<IPython.core.display.Javascript object>"
            ]
          },
          "metadata": {}
        },
        {
          "output_type": "display_data",
          "data": {
            "application/javascript": [
              "window[\"472e2d14-79e1-11ec-8afc-0242ac1c0002\"] = google.colab.output.getActiveOutputArea();\n",
              "//# sourceURL=js_4c95308da6"
            ],
            "text/plain": [
              "<IPython.core.display.Javascript object>"
            ]
          },
          "metadata": {}
        },
        {
          "output_type": "display_data",
          "data": {
            "application/javascript": [
              "window[\"472e6d74-79e1-11ec-8afc-0242ac1c0002\"] = document.querySelector(\"#id6-3-0\");\n",
              "//# sourceURL=js_2e4cb12f55"
            ],
            "text/plain": [
              "<IPython.core.display.Javascript object>"
            ]
          },
          "metadata": {}
        },
        {
          "output_type": "display_data",
          "data": {
            "application/javascript": [
              "window[\"472ea80c-79e1-11ec-8afc-0242ac1c0002\"] = google.colab.output.setActiveOutputArea(window[\"472e6d74-79e1-11ec-8afc-0242ac1c0002\"]);\n",
              "//# sourceURL=js_2ffad07df9"
            ],
            "text/plain": [
              "<IPython.core.display.Javascript object>"
            ]
          },
          "metadata": {}
        },
        {
          "output_type": "stream",
          "name": "stdout",
          "text": [
            "Precipitación\n"
          ]
        },
        {
          "output_type": "display_data",
          "data": {
            "application/javascript": [
              "window[\"47300e5e-79e1-11ec-8afc-0242ac1c0002\"] = google.colab.output.setActiveOutputArea(window[\"472e2d14-79e1-11ec-8afc-0242ac1c0002\"]);\n",
              "//# sourceURL=js_99ef0467b8"
            ],
            "text/plain": [
              "<IPython.core.display.Javascript object>"
            ]
          },
          "metadata": {}
        },
        {
          "output_type": "display_data",
          "data": {
            "application/javascript": [
              "window[\"473146fc-79e1-11ec-8afc-0242ac1c0002\"] = google.colab.output.getActiveOutputArea();\n",
              "//# sourceURL=js_6172f7561a"
            ],
            "text/plain": [
              "<IPython.core.display.Javascript object>"
            ]
          },
          "metadata": {}
        },
        {
          "output_type": "display_data",
          "data": {
            "application/javascript": [
              "window[\"47318bee-79e1-11ec-8afc-0242ac1c0002\"] = document.querySelector(\"#id6-1-1\");\n",
              "//# sourceURL=js_72758843b6"
            ],
            "text/plain": [
              "<IPython.core.display.Javascript object>"
            ]
          },
          "metadata": {}
        },
        {
          "output_type": "display_data",
          "data": {
            "application/javascript": [
              "window[\"4731c8ac-79e1-11ec-8afc-0242ac1c0002\"] = google.colab.output.setActiveOutputArea(window[\"47318bee-79e1-11ec-8afc-0242ac1c0002\"]);\n",
              "//# sourceURL=js_4d1ddbe20c"
            ],
            "text/plain": [
              "<IPython.core.display.Javascript object>"
            ]
          },
          "metadata": {}
        },
        {
          "output_type": "stream",
          "name": "stdout",
          "text": [
            "-1.5943840579999997\n"
          ]
        },
        {
          "output_type": "display_data",
          "data": {
            "application/javascript": [
              "window[\"47329890-79e1-11ec-8afc-0242ac1c0002\"] = google.colab.output.setActiveOutputArea(window[\"473146fc-79e1-11ec-8afc-0242ac1c0002\"]);\n",
              "//# sourceURL=js_94f0c81e9a"
            ],
            "text/plain": [
              "<IPython.core.display.Javascript object>"
            ]
          },
          "metadata": {}
        },
        {
          "output_type": "display_data",
          "data": {
            "application/javascript": [
              "window[\"47340ebe-79e1-11ec-8afc-0242ac1c0002\"] = google.colab.output.getActiveOutputArea();\n",
              "//# sourceURL=js_7916f7b283"
            ],
            "text/plain": [
              "<IPython.core.display.Javascript object>"
            ]
          },
          "metadata": {}
        },
        {
          "output_type": "display_data",
          "data": {
            "application/javascript": [
              "window[\"47344b18-79e1-11ec-8afc-0242ac1c0002\"] = document.querySelector(\"#id6-2-1\");\n",
              "//# sourceURL=js_451d4d2201"
            ],
            "text/plain": [
              "<IPython.core.display.Javascript object>"
            ]
          },
          "metadata": {}
        },
        {
          "output_type": "display_data",
          "data": {
            "application/javascript": [
              "window[\"47349500-79e1-11ec-8afc-0242ac1c0002\"] = google.colab.output.setActiveOutputArea(window[\"47344b18-79e1-11ec-8afc-0242ac1c0002\"]);\n",
              "//# sourceURL=js_75ef2c68ad"
            ],
            "text/plain": [
              "<IPython.core.display.Javascript object>"
            ]
          },
          "metadata": {}
        },
        {
          "output_type": "stream",
          "name": "stdout",
          "text": [
            "-0.17931547612499998\n"
          ]
        },
        {
          "output_type": "display_data",
          "data": {
            "application/javascript": [
              "window[\"4735759c-79e1-11ec-8afc-0242ac1c0002\"] = google.colab.output.setActiveOutputArea(window[\"47340ebe-79e1-11ec-8afc-0242ac1c0002\"]);\n",
              "//# sourceURL=js_ffc6ea5fd1"
            ],
            "text/plain": [
              "<IPython.core.display.Javascript object>"
            ]
          },
          "metadata": {}
        },
        {
          "output_type": "display_data",
          "data": {
            "application/javascript": [
              "window[\"4736cdfc-79e1-11ec-8afc-0242ac1c0002\"] = google.colab.output.getActiveOutputArea();\n",
              "//# sourceURL=js_43ed08e763"
            ],
            "text/plain": [
              "<IPython.core.display.Javascript object>"
            ]
          },
          "metadata": {}
        },
        {
          "output_type": "display_data",
          "data": {
            "application/javascript": [
              "window[\"473711d6-79e1-11ec-8afc-0242ac1c0002\"] = document.querySelector(\"#id6-3-1\");\n",
              "//# sourceURL=js_fb571d978b"
            ],
            "text/plain": [
              "<IPython.core.display.Javascript object>"
            ]
          },
          "metadata": {}
        },
        {
          "output_type": "display_data",
          "data": {
            "application/javascript": [
              "window[\"47374570-79e1-11ec-8afc-0242ac1c0002\"] = google.colab.output.setActiveOutputArea(window[\"473711d6-79e1-11ec-8afc-0242ac1c0002\"]);\n",
              "//# sourceURL=js_14d5cb77aa"
            ],
            "text/plain": [
              "<IPython.core.display.Javascript object>"
            ]
          },
          "metadata": {}
        },
        {
          "output_type": "stream",
          "name": "stdout",
          "text": [
            "-0.30629132176566887\n"
          ]
        },
        {
          "output_type": "display_data",
          "data": {
            "application/javascript": [
              "window[\"47381400-79e1-11ec-8afc-0242ac1c0002\"] = google.colab.output.setActiveOutputArea(window[\"4736cdfc-79e1-11ec-8afc-0242ac1c0002\"]);\n",
              "//# sourceURL=js_f35a56e0f0"
            ],
            "text/plain": [
              "<IPython.core.display.Javascript object>"
            ]
          },
          "metadata": {}
        },
        {
          "output_type": "display_data",
          "data": {
            "application/javascript": [
              "window[\"47397584-79e1-11ec-8afc-0242ac1c0002\"] = google.colab.output.getActiveOutputArea();\n",
              "//# sourceURL=js_3a8ac93630"
            ],
            "text/plain": [
              "<IPython.core.display.Javascript object>"
            ]
          },
          "metadata": {}
        },
        {
          "output_type": "display_data",
          "data": {
            "application/javascript": [
              "window[\"4739c7a0-79e1-11ec-8afc-0242ac1c0002\"] = document.querySelector(\"#id6-0-1\");\n",
              "//# sourceURL=js_da4c5df91e"
            ],
            "text/plain": [
              "<IPython.core.display.Javascript object>"
            ]
          },
          "metadata": {}
        },
        {
          "output_type": "display_data",
          "data": {
            "application/javascript": [
              "window[\"473a11ce-79e1-11ec-8afc-0242ac1c0002\"] = google.colab.output.setActiveOutputArea(window[\"4739c7a0-79e1-11ec-8afc-0242ac1c0002\"]);\n",
              "//# sourceURL=js_085a4d0496"
            ],
            "text/plain": [
              "<IPython.core.display.Javascript object>"
            ]
          },
          "metadata": {}
        },
        {
          "output_type": "stream",
          "name": "stdout",
          "text": [
            "Beneficio real - Beneficio esperado\n"
          ]
        },
        {
          "output_type": "display_data",
          "data": {
            "application/javascript": [
              "window[\"473b2c30-79e1-11ec-8afc-0242ac1c0002\"] = google.colab.output.setActiveOutputArea(window[\"47397584-79e1-11ec-8afc-0242ac1c0002\"]);\n",
              "//# sourceURL=js_0d44c4401f"
            ],
            "text/plain": [
              "<IPython.core.display.Javascript object>"
            ]
          },
          "metadata": {}
        },
        {
          "output_type": "display_data",
          "data": {
            "application/javascript": [
              "window[\"473c85bc-79e1-11ec-8afc-0242ac1c0002\"] = google.colab.output.getActiveOutputArea();\n",
              "//# sourceURL=js_379f907392"
            ],
            "text/plain": [
              "<IPython.core.display.Javascript object>"
            ]
          },
          "metadata": {}
        },
        {
          "output_type": "display_data",
          "data": {
            "application/javascript": [
              "window[\"473cbe2e-79e1-11ec-8afc-0242ac1c0002\"] = document.querySelector(\"#id6-0-2\");\n",
              "//# sourceURL=js_296cd2e019"
            ],
            "text/plain": [
              "<IPython.core.display.Javascript object>"
            ]
          },
          "metadata": {}
        },
        {
          "output_type": "display_data",
          "data": {
            "application/javascript": [
              "window[\"473d03a2-79e1-11ec-8afc-0242ac1c0002\"] = google.colab.output.setActiveOutputArea(window[\"473cbe2e-79e1-11ec-8afc-0242ac1c0002\"]);\n",
              "//# sourceURL=js_43f7e13939"
            ],
            "text/plain": [
              "<IPython.core.display.Javascript object>"
            ]
          },
          "metadata": {}
        },
        {
          "output_type": "stream",
          "name": "stdout",
          "text": [
            "Influencia\n"
          ]
        },
        {
          "output_type": "display_data",
          "data": {
            "application/javascript": [
              "window[\"473df352-79e1-11ec-8afc-0242ac1c0002\"] = google.colab.output.setActiveOutputArea(window[\"473c85bc-79e1-11ec-8afc-0242ac1c0002\"]);\n",
              "//# sourceURL=js_eed70eb028"
            ],
            "text/plain": [
              "<IPython.core.display.Javascript object>"
            ]
          },
          "metadata": {}
        },
        {
          "output_type": "display_data",
          "data": {
            "application/javascript": [
              "window[\"473f4d9c-79e1-11ec-8afc-0242ac1c0002\"] = google.colab.output.getActiveOutputArea();\n",
              "//# sourceURL=js_349e549836"
            ],
            "text/plain": [
              "<IPython.core.display.Javascript object>"
            ]
          },
          "metadata": {}
        },
        {
          "output_type": "display_data",
          "data": {
            "application/javascript": [
              "window[\"473f8a8c-79e1-11ec-8afc-0242ac1c0002\"] = document.querySelector(\"#id6-1-2\");\n",
              "//# sourceURL=js_5ecc1afcb2"
            ],
            "text/plain": [
              "<IPython.core.display.Javascript object>"
            ]
          },
          "metadata": {}
        },
        {
          "output_type": "display_data",
          "data": {
            "application/javascript": [
              "window[\"473fc704-79e1-11ec-8afc-0242ac1c0002\"] = google.colab.output.setActiveOutputArea(window[\"473f8a8c-79e1-11ec-8afc-0242ac1c0002\"]);\n",
              "//# sourceURL=js_50bfe8325d"
            ],
            "text/plain": [
              "<IPython.core.display.Javascript object>"
            ]
          },
          "metadata": {}
        },
        {
          "output_type": "stream",
          "name": "stdout",
          "text": [
            "negative\n"
          ]
        },
        {
          "output_type": "display_data",
          "data": {
            "application/javascript": [
              "window[\"4740ce38-79e1-11ec-8afc-0242ac1c0002\"] = google.colab.output.setActiveOutputArea(window[\"473f4d9c-79e1-11ec-8afc-0242ac1c0002\"]);\n",
              "//# sourceURL=js_067e482c7b"
            ],
            "text/plain": [
              "<IPython.core.display.Javascript object>"
            ]
          },
          "metadata": {}
        },
        {
          "output_type": "display_data",
          "data": {
            "application/javascript": [
              "window[\"474216a8-79e1-11ec-8afc-0242ac1c0002\"] = google.colab.output.getActiveOutputArea();\n",
              "//# sourceURL=js_b65d54b762"
            ],
            "text/plain": [
              "<IPython.core.display.Javascript object>"
            ]
          },
          "metadata": {}
        },
        {
          "output_type": "display_data",
          "data": {
            "application/javascript": [
              "window[\"4742657c-79e1-11ec-8afc-0242ac1c0002\"] = document.querySelector(\"#id6-2-2\");\n",
              "//# sourceURL=js_0cea9b6b34"
            ],
            "text/plain": [
              "<IPython.core.display.Javascript object>"
            ]
          },
          "metadata": {}
        },
        {
          "output_type": "display_data",
          "data": {
            "application/javascript": [
              "window[\"4742a9c4-79e1-11ec-8afc-0242ac1c0002\"] = google.colab.output.setActiveOutputArea(window[\"4742657c-79e1-11ec-8afc-0242ac1c0002\"]);\n",
              "//# sourceURL=js_750b9486e3"
            ],
            "text/plain": [
              "<IPython.core.display.Javascript object>"
            ]
          },
          "metadata": {}
        },
        {
          "output_type": "stream",
          "name": "stdout",
          "text": [
            "neutral\n"
          ]
        },
        {
          "output_type": "display_data",
          "data": {
            "application/javascript": [
              "window[\"47439852-79e1-11ec-8afc-0242ac1c0002\"] = google.colab.output.setActiveOutputArea(window[\"474216a8-79e1-11ec-8afc-0242ac1c0002\"]);\n",
              "//# sourceURL=js_e4d6d092f9"
            ],
            "text/plain": [
              "<IPython.core.display.Javascript object>"
            ]
          },
          "metadata": {}
        },
        {
          "output_type": "display_data",
          "data": {
            "application/javascript": [
              "window[\"4744edc4-79e1-11ec-8afc-0242ac1c0002\"] = google.colab.output.getActiveOutputArea();\n",
              "//# sourceURL=js_47f5749a05"
            ],
            "text/plain": [
              "<IPython.core.display.Javascript object>"
            ]
          },
          "metadata": {}
        },
        {
          "output_type": "display_data",
          "data": {
            "application/javascript": [
              "window[\"47452e60-79e1-11ec-8afc-0242ac1c0002\"] = document.querySelector(\"#id6-3-2\");\n",
              "//# sourceURL=js_7621e23d75"
            ],
            "text/plain": [
              "<IPython.core.display.Javascript object>"
            ]
          },
          "metadata": {}
        },
        {
          "output_type": "display_data",
          "data": {
            "application/javascript": [
              "window[\"4745686c-79e1-11ec-8afc-0242ac1c0002\"] = google.colab.output.setActiveOutputArea(window[\"47452e60-79e1-11ec-8afc-0242ac1c0002\"]);\n",
              "//# sourceURL=js_45ff9cb1f7"
            ],
            "text/plain": [
              "<IPython.core.display.Javascript object>"
            ]
          },
          "metadata": {}
        },
        {
          "output_type": "stream",
          "name": "stdout",
          "text": [
            "negative\n"
          ]
        },
        {
          "output_type": "display_data",
          "data": {
            "application/javascript": [
              "window[\"47465984-79e1-11ec-8afc-0242ac1c0002\"] = google.colab.output.setActiveOutputArea(window[\"4744edc4-79e1-11ec-8afc-0242ac1c0002\"]);\n",
              "//# sourceURL=js_3987352ee4"
            ],
            "text/plain": [
              "<IPython.core.display.Javascript object>"
            ]
          },
          "metadata": {}
        },
        {
          "output_type": "stream",
          "name": "stdout",
          "text": [
            "Diferencia de beneficios\n"
          ]
        },
        {
          "output_type": "display_data",
          "data": {
            "text/html": [
              "<style>\n",
              "       table#id8, #id8 > tbody > tr > th, #id8 > tbody > tr > td {\n",
              "         border: 1px solid lightgray;\n",
              "         border-collapse:collapse;\n",
              "         \n",
              "        }</style>"
            ],
            "text/plain": [
              "<IPython.core.display.HTML object>"
            ]
          },
          "metadata": {}
        },
        {
          "output_type": "display_data",
          "data": {
            "text/html": [
              "<table id=id8><tr><th id=id8-0-0></th><th id=id8-0-1></th><th id=id8-0-2></th></tr><tr><th id=id8-1-0></th><td id=id8-1-1></td><td id=id8-1-2></td></tr><tr><th id=id8-2-0></th><td id=id8-2-1></td><td id=id8-2-2></td></tr><tr><th id=id8-3-0></th><td id=id8-3-1></td><td id=id8-3-2></td></tr></table>"
            ],
            "text/plain": [
              "<IPython.core.display.HTML object>"
            ]
          },
          "metadata": {}
        },
        {
          "output_type": "display_data",
          "data": {
            "application/javascript": [
              "window[\"475baed8-79e1-11ec-8afc-0242ac1c0002\"] = google.colab.output.getActiveOutputArea();\n",
              "//# sourceURL=js_a4dcbb8146"
            ],
            "text/plain": [
              "<IPython.core.display.Javascript object>"
            ]
          },
          "metadata": {}
        },
        {
          "output_type": "display_data",
          "data": {
            "application/javascript": [
              "window[\"475c08ec-79e1-11ec-8afc-0242ac1c0002\"] = document.querySelector(\"#id8-0-0\");\n",
              "//# sourceURL=js_5ba26c44a9"
            ],
            "text/plain": [
              "<IPython.core.display.Javascript object>"
            ]
          },
          "metadata": {}
        },
        {
          "output_type": "display_data",
          "data": {
            "application/javascript": [
              "window[\"475d40c2-79e1-11ec-8afc-0242ac1c0002\"] = google.colab.output.setActiveOutputArea(window[\"475c08ec-79e1-11ec-8afc-0242ac1c0002\"]);\n",
              "//# sourceURL=js_ffcb67e857"
            ],
            "text/plain": [
              "<IPython.core.display.Javascript object>"
            ]
          },
          "metadata": {}
        },
        {
          "output_type": "stream",
          "name": "stdout",
          "text": [
            "Característica que falta\n"
          ]
        },
        {
          "output_type": "display_data",
          "data": {
            "application/javascript": [
              "window[\"475e7762-79e1-11ec-8afc-0242ac1c0002\"] = google.colab.output.setActiveOutputArea(window[\"475baed8-79e1-11ec-8afc-0242ac1c0002\"]);\n",
              "//# sourceURL=js_796a932a0a"
            ],
            "text/plain": [
              "<IPython.core.display.Javascript object>"
            ]
          },
          "metadata": {}
        },
        {
          "output_type": "display_data",
          "data": {
            "application/javascript": [
              "window[\"476055c8-79e1-11ec-8afc-0242ac1c0002\"] = google.colab.output.getActiveOutputArea();\n",
              "//# sourceURL=js_7fb82bc000"
            ],
            "text/plain": [
              "<IPython.core.display.Javascript object>"
            ]
          },
          "metadata": {}
        },
        {
          "output_type": "display_data",
          "data": {
            "application/javascript": [
              "window[\"47609c90-79e1-11ec-8afc-0242ac1c0002\"] = document.querySelector(\"#id8-1-0\");\n",
              "//# sourceURL=js_e87ad599d0"
            ],
            "text/plain": [
              "<IPython.core.display.Javascript object>"
            ]
          },
          "metadata": {}
        },
        {
          "output_type": "display_data",
          "data": {
            "application/javascript": [
              "window[\"4761108a-79e1-11ec-8afc-0242ac1c0002\"] = google.colab.output.setActiveOutputArea(window[\"47609c90-79e1-11ec-8afc-0242ac1c0002\"]);\n",
              "//# sourceURL=js_238ba93ba3"
            ],
            "text/plain": [
              "<IPython.core.display.Javascript object>"
            ]
          },
          "metadata": {}
        },
        {
          "output_type": "stream",
          "name": "stdout",
          "text": [
            "Mes\n"
          ]
        },
        {
          "output_type": "display_data",
          "data": {
            "application/javascript": [
              "window[\"47624324-79e1-11ec-8afc-0242ac1c0002\"] = google.colab.output.setActiveOutputArea(window[\"476055c8-79e1-11ec-8afc-0242ac1c0002\"]);\n",
              "//# sourceURL=js_9f84664e11"
            ],
            "text/plain": [
              "<IPython.core.display.Javascript object>"
            ]
          },
          "metadata": {}
        },
        {
          "output_type": "display_data",
          "data": {
            "application/javascript": [
              "window[\"4764248c-79e1-11ec-8afc-0242ac1c0002\"] = google.colab.output.getActiveOutputArea();\n",
              "//# sourceURL=js_815a22c783"
            ],
            "text/plain": [
              "<IPython.core.display.Javascript object>"
            ]
          },
          "metadata": {}
        },
        {
          "output_type": "display_data",
          "data": {
            "application/javascript": [
              "window[\"47649d54-79e1-11ec-8afc-0242ac1c0002\"] = document.querySelector(\"#id8-2-0\");\n",
              "//# sourceURL=js_0ab547654a"
            ],
            "text/plain": [
              "<IPython.core.display.Javascript object>"
            ]
          },
          "metadata": {}
        },
        {
          "output_type": "display_data",
          "data": {
            "application/javascript": [
              "window[\"4764e192-79e1-11ec-8afc-0242ac1c0002\"] = google.colab.output.setActiveOutputArea(window[\"47649d54-79e1-11ec-8afc-0242ac1c0002\"]);\n",
              "//# sourceURL=js_a1902de14d"
            ],
            "text/plain": [
              "<IPython.core.display.Javascript object>"
            ]
          },
          "metadata": {}
        },
        {
          "output_type": "stream",
          "name": "stdout",
          "text": [
            "Temperatura\n"
          ]
        },
        {
          "output_type": "display_data",
          "data": {
            "application/javascript": [
              "window[\"476613e6-79e1-11ec-8afc-0242ac1c0002\"] = google.colab.output.setActiveOutputArea(window[\"4764248c-79e1-11ec-8afc-0242ac1c0002\"]);\n",
              "//# sourceURL=js_8d6a2949e9"
            ],
            "text/plain": [
              "<IPython.core.display.Javascript object>"
            ]
          },
          "metadata": {}
        },
        {
          "output_type": "display_data",
          "data": {
            "application/javascript": [
              "window[\"4767deec-79e1-11ec-8afc-0242ac1c0002\"] = google.colab.output.getActiveOutputArea();\n",
              "//# sourceURL=js_b52a7b97a6"
            ],
            "text/plain": [
              "<IPython.core.display.Javascript object>"
            ]
          },
          "metadata": {}
        },
        {
          "output_type": "display_data",
          "data": {
            "application/javascript": [
              "window[\"47684a30-79e1-11ec-8afc-0242ac1c0002\"] = document.querySelector(\"#id8-3-0\");\n",
              "//# sourceURL=js_979e2bd049"
            ],
            "text/plain": [
              "<IPython.core.display.Javascript object>"
            ]
          },
          "metadata": {}
        },
        {
          "output_type": "display_data",
          "data": {
            "application/javascript": [
              "window[\"47689800-79e1-11ec-8afc-0242ac1c0002\"] = google.colab.output.setActiveOutputArea(window[\"47684a30-79e1-11ec-8afc-0242ac1c0002\"]);\n",
              "//# sourceURL=js_99a158391c"
            ],
            "text/plain": [
              "<IPython.core.display.Javascript object>"
            ]
          },
          "metadata": {}
        },
        {
          "output_type": "stream",
          "name": "stdout",
          "text": [
            "Precipitación\n"
          ]
        },
        {
          "output_type": "display_data",
          "data": {
            "application/javascript": [
              "window[\"4769d594-79e1-11ec-8afc-0242ac1c0002\"] = google.colab.output.setActiveOutputArea(window[\"4767deec-79e1-11ec-8afc-0242ac1c0002\"]);\n",
              "//# sourceURL=js_342afc11dd"
            ],
            "text/plain": [
              "<IPython.core.display.Javascript object>"
            ]
          },
          "metadata": {}
        },
        {
          "output_type": "display_data",
          "data": {
            "application/javascript": [
              "window[\"476baf40-79e1-11ec-8afc-0242ac1c0002\"] = google.colab.output.getActiveOutputArea();\n",
              "//# sourceURL=js_26090b24e9"
            ],
            "text/plain": [
              "<IPython.core.display.Javascript object>"
            ]
          },
          "metadata": {}
        },
        {
          "output_type": "display_data",
          "data": {
            "application/javascript": [
              "window[\"476bf586-79e1-11ec-8afc-0242ac1c0002\"] = document.querySelector(\"#id8-1-1\");\n",
              "//# sourceURL=js_b6a6589b03"
            ],
            "text/plain": [
              "<IPython.core.display.Javascript object>"
            ]
          },
          "metadata": {}
        },
        {
          "output_type": "display_data",
          "data": {
            "application/javascript": [
              "window[\"476ca6d4-79e1-11ec-8afc-0242ac1c0002\"] = google.colab.output.setActiveOutputArea(window[\"476bf586-79e1-11ec-8afc-0242ac1c0002\"]);\n",
              "//# sourceURL=js_cfbe5eb000"
            ],
            "text/plain": [
              "<IPython.core.display.Javascript object>"
            ]
          },
          "metadata": {}
        },
        {
          "output_type": "stream",
          "name": "stdout",
          "text": [
            "-0.5613636364999999\n"
          ]
        },
        {
          "output_type": "display_data",
          "data": {
            "application/javascript": [
              "window[\"476dfe80-79e1-11ec-8afc-0242ac1c0002\"] = google.colab.output.setActiveOutputArea(window[\"476baf40-79e1-11ec-8afc-0242ac1c0002\"]);\n",
              "//# sourceURL=js_e09b0a281c"
            ],
            "text/plain": [
              "<IPython.core.display.Javascript object>"
            ]
          },
          "metadata": {}
        },
        {
          "output_type": "display_data",
          "data": {
            "application/javascript": [
              "window[\"47718564-79e1-11ec-8afc-0242ac1c0002\"] = google.colab.output.getActiveOutputArea();\n",
              "//# sourceURL=js_59c440cb47"
            ],
            "text/plain": [
              "<IPython.core.display.Javascript object>"
            ]
          },
          "metadata": {}
        },
        {
          "output_type": "display_data",
          "data": {
            "application/javascript": [
              "window[\"4771c7c2-79e1-11ec-8afc-0242ac1c0002\"] = document.querySelector(\"#id8-2-1\");\n",
              "//# sourceURL=js_9e7c2e7756"
            ],
            "text/plain": [
              "<IPython.core.display.Javascript object>"
            ]
          },
          "metadata": {}
        },
        {
          "output_type": "display_data",
          "data": {
            "application/javascript": [
              "window[\"4772002a-79e1-11ec-8afc-0242ac1c0002\"] = google.colab.output.setActiveOutputArea(window[\"4771c7c2-79e1-11ec-8afc-0242ac1c0002\"]);\n",
              "//# sourceURL=js_c6be666864"
            ],
            "text/plain": [
              "<IPython.core.display.Javascript object>"
            ]
          },
          "metadata": {}
        },
        {
          "output_type": "stream",
          "name": "stdout",
          "text": [
            "-0.17931547612499998\n"
          ]
        },
        {
          "output_type": "display_data",
          "data": {
            "application/javascript": [
              "window[\"4772de46-79e1-11ec-8afc-0242ac1c0002\"] = google.colab.output.setActiveOutputArea(window[\"47718564-79e1-11ec-8afc-0242ac1c0002\"]);\n",
              "//# sourceURL=js_ea1138b4b1"
            ],
            "text/plain": [
              "<IPython.core.display.Javascript object>"
            ]
          },
          "metadata": {}
        },
        {
          "output_type": "display_data",
          "data": {
            "application/javascript": [
              "window[\"4774427c-79e1-11ec-8afc-0242ac1c0002\"] = google.colab.output.getActiveOutputArea();\n",
              "//# sourceURL=js_48662916c1"
            ],
            "text/plain": [
              "<IPython.core.display.Javascript object>"
            ]
          },
          "metadata": {}
        },
        {
          "output_type": "display_data",
          "data": {
            "application/javascript": [
              "window[\"477487aa-79e1-11ec-8afc-0242ac1c0002\"] = document.querySelector(\"#id8-3-1\");\n",
              "//# sourceURL=js_88d6dbe750"
            ],
            "text/plain": [
              "<IPython.core.display.Javascript object>"
            ]
          },
          "metadata": {}
        },
        {
          "output_type": "display_data",
          "data": {
            "application/javascript": [
              "window[\"4774c6b6-79e1-11ec-8afc-0242ac1c0002\"] = google.colab.output.setActiveOutputArea(window[\"477487aa-79e1-11ec-8afc-0242ac1c0002\"]);\n",
              "//# sourceURL=js_8fbf10e9c0"
            ],
            "text/plain": [
              "<IPython.core.display.Javascript object>"
            ]
          },
          "metadata": {}
        },
        {
          "output_type": "stream",
          "name": "stdout",
          "text": [
            "-0.38709197551566876\n"
          ]
        },
        {
          "output_type": "display_data",
          "data": {
            "application/javascript": [
              "window[\"4775b53a-79e1-11ec-8afc-0242ac1c0002\"] = google.colab.output.setActiveOutputArea(window[\"4774427c-79e1-11ec-8afc-0242ac1c0002\"]);\n",
              "//# sourceURL=js_c2c33f92d6"
            ],
            "text/plain": [
              "<IPython.core.display.Javascript object>"
            ]
          },
          "metadata": {}
        },
        {
          "output_type": "display_data",
          "data": {
            "application/javascript": [
              "window[\"477719b6-79e1-11ec-8afc-0242ac1c0002\"] = google.colab.output.getActiveOutputArea();\n",
              "//# sourceURL=js_ad51537e3c"
            ],
            "text/plain": [
              "<IPython.core.display.Javascript object>"
            ]
          },
          "metadata": {}
        },
        {
          "output_type": "display_data",
          "data": {
            "application/javascript": [
              "window[\"47775a20-79e1-11ec-8afc-0242ac1c0002\"] = document.querySelector(\"#id8-0-1\");\n",
              "//# sourceURL=js_395722f06e"
            ],
            "text/plain": [
              "<IPython.core.display.Javascript object>"
            ]
          },
          "metadata": {}
        },
        {
          "output_type": "display_data",
          "data": {
            "application/javascript": [
              "window[\"47779012-79e1-11ec-8afc-0242ac1c0002\"] = google.colab.output.setActiveOutputArea(window[\"47775a20-79e1-11ec-8afc-0242ac1c0002\"]);\n",
              "//# sourceURL=js_e82ac1b021"
            ],
            "text/plain": [
              "<IPython.core.display.Javascript object>"
            ]
          },
          "metadata": {}
        },
        {
          "output_type": "stream",
          "name": "stdout",
          "text": [
            "Beneficio real - Beneficio esperado\n"
          ]
        },
        {
          "output_type": "display_data",
          "data": {
            "application/javascript": [
              "window[\"477888be-79e1-11ec-8afc-0242ac1c0002\"] = google.colab.output.setActiveOutputArea(window[\"477719b6-79e1-11ec-8afc-0242ac1c0002\"]);\n",
              "//# sourceURL=js_d5d681b42e"
            ],
            "text/plain": [
              "<IPython.core.display.Javascript object>"
            ]
          },
          "metadata": {}
        },
        {
          "output_type": "display_data",
          "data": {
            "application/javascript": [
              "window[\"4779e5ec-79e1-11ec-8afc-0242ac1c0002\"] = google.colab.output.getActiveOutputArea();\n",
              "//# sourceURL=js_6d9ec23568"
            ],
            "text/plain": [
              "<IPython.core.display.Javascript object>"
            ]
          },
          "metadata": {}
        },
        {
          "output_type": "display_data",
          "data": {
            "application/javascript": [
              "window[\"477a2ade-79e1-11ec-8afc-0242ac1c0002\"] = document.querySelector(\"#id8-0-2\");\n",
              "//# sourceURL=js_c0b9739933"
            ],
            "text/plain": [
              "<IPython.core.display.Javascript object>"
            ]
          },
          "metadata": {}
        },
        {
          "output_type": "display_data",
          "data": {
            "application/javascript": [
              "window[\"477a6ada-79e1-11ec-8afc-0242ac1c0002\"] = google.colab.output.setActiveOutputArea(window[\"477a2ade-79e1-11ec-8afc-0242ac1c0002\"]);\n",
              "//# sourceURL=js_5fb691bbca"
            ],
            "text/plain": [
              "<IPython.core.display.Javascript object>"
            ]
          },
          "metadata": {}
        },
        {
          "output_type": "stream",
          "name": "stdout",
          "text": [
            "Influencia\n"
          ]
        },
        {
          "output_type": "display_data",
          "data": {
            "application/javascript": [
              "window[\"477b5634-79e1-11ec-8afc-0242ac1c0002\"] = google.colab.output.setActiveOutputArea(window[\"4779e5ec-79e1-11ec-8afc-0242ac1c0002\"]);\n",
              "//# sourceURL=js_ef6c48b671"
            ],
            "text/plain": [
              "<IPython.core.display.Javascript object>"
            ]
          },
          "metadata": {}
        },
        {
          "output_type": "display_data",
          "data": {
            "application/javascript": [
              "window[\"477cca96-79e1-11ec-8afc-0242ac1c0002\"] = google.colab.output.getActiveOutputArea();\n",
              "//# sourceURL=js_d56946d72e"
            ],
            "text/plain": [
              "<IPython.core.display.Javascript object>"
            ]
          },
          "metadata": {}
        },
        {
          "output_type": "display_data",
          "data": {
            "application/javascript": [
              "window[\"477d0876-79e1-11ec-8afc-0242ac1c0002\"] = document.querySelector(\"#id8-1-2\");\n",
              "//# sourceURL=js_5f22c9b050"
            ],
            "text/plain": [
              "<IPython.core.display.Javascript object>"
            ]
          },
          "metadata": {}
        },
        {
          "output_type": "display_data",
          "data": {
            "application/javascript": [
              "window[\"477d4da4-79e1-11ec-8afc-0242ac1c0002\"] = google.colab.output.setActiveOutputArea(window[\"477d0876-79e1-11ec-8afc-0242ac1c0002\"]);\n",
              "//# sourceURL=js_20fd9a44fb"
            ],
            "text/plain": [
              "<IPython.core.display.Javascript object>"
            ]
          },
          "metadata": {}
        },
        {
          "output_type": "stream",
          "name": "stdout",
          "text": [
            "negative\n"
          ]
        },
        {
          "output_type": "display_data",
          "data": {
            "application/javascript": [
              "window[\"477e3958-79e1-11ec-8afc-0242ac1c0002\"] = google.colab.output.setActiveOutputArea(window[\"477cca96-79e1-11ec-8afc-0242ac1c0002\"]);\n",
              "//# sourceURL=js_c6dc4e61e6"
            ],
            "text/plain": [
              "<IPython.core.display.Javascript object>"
            ]
          },
          "metadata": {}
        },
        {
          "output_type": "display_data",
          "data": {
            "application/javascript": [
              "window[\"477fbf9e-79e1-11ec-8afc-0242ac1c0002\"] = google.colab.output.getActiveOutputArea();\n",
              "//# sourceURL=js_80909fb503"
            ],
            "text/plain": [
              "<IPython.core.display.Javascript object>"
            ]
          },
          "metadata": {}
        },
        {
          "output_type": "display_data",
          "data": {
            "application/javascript": [
              "window[\"478007b0-79e1-11ec-8afc-0242ac1c0002\"] = document.querySelector(\"#id8-2-2\");\n",
              "//# sourceURL=js_492866f29f"
            ],
            "text/plain": [
              "<IPython.core.display.Javascript object>"
            ]
          },
          "metadata": {}
        },
        {
          "output_type": "display_data",
          "data": {
            "application/javascript": [
              "window[\"478068f4-79e1-11ec-8afc-0242ac1c0002\"] = google.colab.output.setActiveOutputArea(window[\"478007b0-79e1-11ec-8afc-0242ac1c0002\"]);\n",
              "//# sourceURL=js_c2892e001a"
            ],
            "text/plain": [
              "<IPython.core.display.Javascript object>"
            ]
          },
          "metadata": {}
        },
        {
          "output_type": "stream",
          "name": "stdout",
          "text": [
            "neutral\n"
          ]
        },
        {
          "output_type": "display_data",
          "data": {
            "application/javascript": [
              "window[\"47813aae-79e1-11ec-8afc-0242ac1c0002\"] = google.colab.output.setActiveOutputArea(window[\"477fbf9e-79e1-11ec-8afc-0242ac1c0002\"]);\n",
              "//# sourceURL=js_0da1360956"
            ],
            "text/plain": [
              "<IPython.core.display.Javascript object>"
            ]
          },
          "metadata": {}
        },
        {
          "output_type": "display_data",
          "data": {
            "application/javascript": [
              "window[\"478286d4-79e1-11ec-8afc-0242ac1c0002\"] = google.colab.output.getActiveOutputArea();\n",
              "//# sourceURL=js_db1b6f4cff"
            ],
            "text/plain": [
              "<IPython.core.display.Javascript object>"
            ]
          },
          "metadata": {}
        },
        {
          "output_type": "display_data",
          "data": {
            "application/javascript": [
              "window[\"4782c66c-79e1-11ec-8afc-0242ac1c0002\"] = document.querySelector(\"#id8-3-2\");\n",
              "//# sourceURL=js_2dfb54fdaf"
            ],
            "text/plain": [
              "<IPython.core.display.Javascript object>"
            ]
          },
          "metadata": {}
        },
        {
          "output_type": "display_data",
          "data": {
            "application/javascript": [
              "window[\"4782fb14-79e1-11ec-8afc-0242ac1c0002\"] = google.colab.output.setActiveOutputArea(window[\"4782c66c-79e1-11ec-8afc-0242ac1c0002\"]);\n",
              "//# sourceURL=js_d57987f0c7"
            ],
            "text/plain": [
              "<IPython.core.display.Javascript object>"
            ]
          },
          "metadata": {}
        },
        {
          "output_type": "stream",
          "name": "stdout",
          "text": [
            "negative\n"
          ]
        },
        {
          "output_type": "display_data",
          "data": {
            "application/javascript": [
              "window[\"4783e4fc-79e1-11ec-8afc-0242ac1c0002\"] = google.colab.output.setActiveOutputArea(window[\"478286d4-79e1-11ec-8afc-0242ac1c0002\"]);\n",
              "//# sourceURL=js_bfa97a906e"
            ],
            "text/plain": [
              "<IPython.core.display.Javascript object>"
            ]
          },
          "metadata": {}
        },
        {
          "output_type": "stream",
          "name": "stdout",
          "text": [
            "\n",
            "\n",
            "\n",
            "Diferencia de beneficios\n"
          ]
        },
        {
          "output_type": "display_data",
          "data": {
            "text/html": [
              "<style>\n",
              "       table#id10, #id10 > tbody > tr > th, #id10 > tbody > tr > td {\n",
              "         border: 1px solid lightgray;\n",
              "         border-collapse:collapse;\n",
              "         \n",
              "        }</style>"
            ],
            "text/plain": [
              "<IPython.core.display.HTML object>"
            ]
          },
          "metadata": {}
        },
        {
          "output_type": "display_data",
          "data": {
            "text/html": [
              "<table id=id10><tr><th id=id10-0-0></th><th id=id10-0-1></th><th id=id10-0-2></th></tr><tr><th id=id10-1-0></th><td id=id10-1-1></td><td id=id10-1-2></td></tr><tr><th id=id10-2-0></th><td id=id10-2-1></td><td id=id10-2-2></td></tr><tr><th id=id10-3-0></th><td id=id10-3-1></td><td id=id10-3-2></td></tr></table>"
            ],
            "text/plain": [
              "<IPython.core.display.HTML object>"
            ]
          },
          "metadata": {}
        },
        {
          "output_type": "display_data",
          "data": {
            "application/javascript": [
              "window[\"4795d978-79e1-11ec-8afc-0242ac1c0002\"] = google.colab.output.getActiveOutputArea();\n",
              "//# sourceURL=js_37dcbca2da"
            ],
            "text/plain": [
              "<IPython.core.display.Javascript object>"
            ]
          },
          "metadata": {}
        },
        {
          "output_type": "display_data",
          "data": {
            "application/javascript": [
              "window[\"47962888-79e1-11ec-8afc-0242ac1c0002\"] = document.querySelector(\"#id10-0-0\");\n",
              "//# sourceURL=js_58d36e151a"
            ],
            "text/plain": [
              "<IPython.core.display.Javascript object>"
            ]
          },
          "metadata": {}
        },
        {
          "output_type": "display_data",
          "data": {
            "application/javascript": [
              "window[\"47965a1a-79e1-11ec-8afc-0242ac1c0002\"] = google.colab.output.setActiveOutputArea(window[\"47962888-79e1-11ec-8afc-0242ac1c0002\"]);\n",
              "//# sourceURL=js_0635c1b404"
            ],
            "text/plain": [
              "<IPython.core.display.Javascript object>"
            ]
          },
          "metadata": {}
        },
        {
          "output_type": "stream",
          "name": "stdout",
          "text": [
            "Característica que falta\n"
          ]
        },
        {
          "output_type": "display_data",
          "data": {
            "application/javascript": [
              "window[\"47972d14-79e1-11ec-8afc-0242ac1c0002\"] = google.colab.output.setActiveOutputArea(window[\"4795d978-79e1-11ec-8afc-0242ac1c0002\"]);\n",
              "//# sourceURL=js_6dcb1428c8"
            ],
            "text/plain": [
              "<IPython.core.display.Javascript object>"
            ]
          },
          "metadata": {}
        },
        {
          "output_type": "display_data",
          "data": {
            "application/javascript": [
              "window[\"47987df4-79e1-11ec-8afc-0242ac1c0002\"] = google.colab.output.getActiveOutputArea();\n",
              "//# sourceURL=js_0655aa6059"
            ],
            "text/plain": [
              "<IPython.core.display.Javascript object>"
            ]
          },
          "metadata": {}
        },
        {
          "output_type": "display_data",
          "data": {
            "application/javascript": [
              "window[\"4798be04-79e1-11ec-8afc-0242ac1c0002\"] = document.querySelector(\"#id10-1-0\");\n",
              "//# sourceURL=js_d5e90345b8"
            ],
            "text/plain": [
              "<IPython.core.display.Javascript object>"
            ]
          },
          "metadata": {}
        },
        {
          "output_type": "display_data",
          "data": {
            "application/javascript": [
              "window[\"47992024-79e1-11ec-8afc-0242ac1c0002\"] = google.colab.output.setActiveOutputArea(window[\"4798be04-79e1-11ec-8afc-0242ac1c0002\"]);\n",
              "//# sourceURL=js_360cb67402"
            ],
            "text/plain": [
              "<IPython.core.display.Javascript object>"
            ]
          },
          "metadata": {}
        },
        {
          "output_type": "stream",
          "name": "stdout",
          "text": [
            "Mes\n"
          ]
        },
        {
          "output_type": "display_data",
          "data": {
            "application/javascript": [
              "window[\"479a012e-79e1-11ec-8afc-0242ac1c0002\"] = google.colab.output.setActiveOutputArea(window[\"47987df4-79e1-11ec-8afc-0242ac1c0002\"]);\n",
              "//# sourceURL=js_c28acad8fe"
            ],
            "text/plain": [
              "<IPython.core.display.Javascript object>"
            ]
          },
          "metadata": {}
        },
        {
          "output_type": "display_data",
          "data": {
            "application/javascript": [
              "window[\"479b53e4-79e1-11ec-8afc-0242ac1c0002\"] = google.colab.output.getActiveOutputArea();\n",
              "//# sourceURL=js_d8b8ef8811"
            ],
            "text/plain": [
              "<IPython.core.display.Javascript object>"
            ]
          },
          "metadata": {}
        },
        {
          "output_type": "display_data",
          "data": {
            "application/javascript": [
              "window[\"479b8cd8-79e1-11ec-8afc-0242ac1c0002\"] = document.querySelector(\"#id10-2-0\");\n",
              "//# sourceURL=js_b0c35e4d39"
            ],
            "text/plain": [
              "<IPython.core.display.Javascript object>"
            ]
          },
          "metadata": {}
        },
        {
          "output_type": "display_data",
          "data": {
            "application/javascript": [
              "window[\"479bd346-79e1-11ec-8afc-0242ac1c0002\"] = google.colab.output.setActiveOutputArea(window[\"479b8cd8-79e1-11ec-8afc-0242ac1c0002\"]);\n",
              "//# sourceURL=js_727503627c"
            ],
            "text/plain": [
              "<IPython.core.display.Javascript object>"
            ]
          },
          "metadata": {}
        },
        {
          "output_type": "stream",
          "name": "stdout",
          "text": [
            "Temperatura\n"
          ]
        },
        {
          "output_type": "display_data",
          "data": {
            "application/javascript": [
              "window[\"479cad66-79e1-11ec-8afc-0242ac1c0002\"] = google.colab.output.setActiveOutputArea(window[\"479b53e4-79e1-11ec-8afc-0242ac1c0002\"]);\n",
              "//# sourceURL=js_0e824ed52c"
            ],
            "text/plain": [
              "<IPython.core.display.Javascript object>"
            ]
          },
          "metadata": {}
        },
        {
          "output_type": "display_data",
          "data": {
            "application/javascript": [
              "window[\"479e1764-79e1-11ec-8afc-0242ac1c0002\"] = google.colab.output.getActiveOutputArea();\n",
              "//# sourceURL=js_2ff1b6ac09"
            ],
            "text/plain": [
              "<IPython.core.display.Javascript object>"
            ]
          },
          "metadata": {}
        },
        {
          "output_type": "display_data",
          "data": {
            "application/javascript": [
              "window[\"479e6098-79e1-11ec-8afc-0242ac1c0002\"] = document.querySelector(\"#id10-3-0\");\n",
              "//# sourceURL=js_c2fc9b4139"
            ],
            "text/plain": [
              "<IPython.core.display.Javascript object>"
            ]
          },
          "metadata": {}
        },
        {
          "output_type": "display_data",
          "data": {
            "application/javascript": [
              "window[\"479ea9c2-79e1-11ec-8afc-0242ac1c0002\"] = google.colab.output.setActiveOutputArea(window[\"479e6098-79e1-11ec-8afc-0242ac1c0002\"]);\n",
              "//# sourceURL=js_e22533f4da"
            ],
            "text/plain": [
              "<IPython.core.display.Javascript object>"
            ]
          },
          "metadata": {}
        },
        {
          "output_type": "stream",
          "name": "stdout",
          "text": [
            "Precipitación\n"
          ]
        },
        {
          "output_type": "display_data",
          "data": {
            "application/javascript": [
              "window[\"479fbef2-79e1-11ec-8afc-0242ac1c0002\"] = google.colab.output.setActiveOutputArea(window[\"479e1764-79e1-11ec-8afc-0242ac1c0002\"]);\n",
              "//# sourceURL=js_200259db0d"
            ],
            "text/plain": [
              "<IPython.core.display.Javascript object>"
            ]
          },
          "metadata": {}
        },
        {
          "output_type": "display_data",
          "data": {
            "application/javascript": [
              "window[\"47a1262a-79e1-11ec-8afc-0242ac1c0002\"] = google.colab.output.getActiveOutputArea();\n",
              "//# sourceURL=js_d80d88b12b"
            ],
            "text/plain": [
              "<IPython.core.display.Javascript object>"
            ]
          },
          "metadata": {}
        },
        {
          "output_type": "display_data",
          "data": {
            "application/javascript": [
              "window[\"47a16c16-79e1-11ec-8afc-0242ac1c0002\"] = document.querySelector(\"#id10-1-1\");\n",
              "//# sourceURL=js_adf25a55f2"
            ],
            "text/plain": [
              "<IPython.core.display.Javascript object>"
            ]
          },
          "metadata": {}
        },
        {
          "output_type": "display_data",
          "data": {
            "application/javascript": [
              "window[\"47a1ad7a-79e1-11ec-8afc-0242ac1c0002\"] = google.colab.output.setActiveOutputArea(window[\"47a16c16-79e1-11ec-8afc-0242ac1c0002\"]);\n",
              "//# sourceURL=js_d582fb9c73"
            ],
            "text/plain": [
              "<IPython.core.display.Javascript object>"
            ]
          },
          "metadata": {}
        },
        {
          "output_type": "stream",
          "name": "stdout",
          "text": [
            "0.46291260008333335\n"
          ]
        },
        {
          "output_type": "display_data",
          "data": {
            "application/javascript": [
              "window[\"47a29ffa-79e1-11ec-8afc-0242ac1c0002\"] = google.colab.output.setActiveOutputArea(window[\"47a1262a-79e1-11ec-8afc-0242ac1c0002\"]);\n",
              "//# sourceURL=js_367d18f6d7"
            ],
            "text/plain": [
              "<IPython.core.display.Javascript object>"
            ]
          },
          "metadata": {}
        },
        {
          "output_type": "display_data",
          "data": {
            "application/javascript": [
              "window[\"47a43824-79e1-11ec-8afc-0242ac1c0002\"] = google.colab.output.getActiveOutputArea();\n",
              "//# sourceURL=js_cbf92251fb"
            ],
            "text/plain": [
              "<IPython.core.display.Javascript object>"
            ]
          },
          "metadata": {}
        },
        {
          "output_type": "display_data",
          "data": {
            "application/javascript": [
              "window[\"47a4832e-79e1-11ec-8afc-0242ac1c0002\"] = document.querySelector(\"#id10-2-1\");\n",
              "//# sourceURL=js_98cc7eafce"
            ],
            "text/plain": [
              "<IPython.core.display.Javascript object>"
            ]
          },
          "metadata": {}
        },
        {
          "output_type": "display_data",
          "data": {
            "application/javascript": [
              "window[\"47a4d838-79e1-11ec-8afc-0242ac1c0002\"] = google.colab.output.setActiveOutputArea(window[\"47a4832e-79e1-11ec-8afc-0242ac1c0002\"]);\n",
              "//# sourceURL=js_19c081df29"
            ],
            "text/plain": [
              "<IPython.core.display.Javascript object>"
            ]
          },
          "metadata": {}
        },
        {
          "output_type": "stream",
          "name": "stdout",
          "text": [
            "0.516937296058874\n"
          ]
        },
        {
          "output_type": "display_data",
          "data": {
            "application/javascript": [
              "window[\"47a5e5ac-79e1-11ec-8afc-0242ac1c0002\"] = google.colab.output.setActiveOutputArea(window[\"47a43824-79e1-11ec-8afc-0242ac1c0002\"]);\n",
              "//# sourceURL=js_be069928b2"
            ],
            "text/plain": [
              "<IPython.core.display.Javascript object>"
            ]
          },
          "metadata": {}
        },
        {
          "output_type": "display_data",
          "data": {
            "application/javascript": [
              "window[\"47a7737c-79e1-11ec-8afc-0242ac1c0002\"] = google.colab.output.getActiveOutputArea();\n",
              "//# sourceURL=js_d7f1948cab"
            ],
            "text/plain": [
              "<IPython.core.display.Javascript object>"
            ]
          },
          "metadata": {}
        },
        {
          "output_type": "display_data",
          "data": {
            "application/javascript": [
              "window[\"47a7ba4e-79e1-11ec-8afc-0242ac1c0002\"] = document.querySelector(\"#id10-3-1\");\n",
              "//# sourceURL=js_1f446224cb"
            ],
            "text/plain": [
              "<IPython.core.display.Javascript object>"
            ]
          },
          "metadata": {}
        },
        {
          "output_type": "display_data",
          "data": {
            "application/javascript": [
              "window[\"47a7fffe-79e1-11ec-8afc-0242ac1c0002\"] = google.colab.output.setActiveOutputArea(window[\"47a7ba4e-79e1-11ec-8afc-0242ac1c0002\"]);\n",
              "//# sourceURL=js_49c11aff48"
            ],
            "text/plain": [
              "<IPython.core.display.Javascript object>"
            ]
          },
          "metadata": {}
        },
        {
          "output_type": "stream",
          "name": "stdout",
          "text": [
            "0.4655493929943143\n"
          ]
        },
        {
          "output_type": "display_data",
          "data": {
            "application/javascript": [
              "window[\"47a8fae4-79e1-11ec-8afc-0242ac1c0002\"] = google.colab.output.setActiveOutputArea(window[\"47a7737c-79e1-11ec-8afc-0242ac1c0002\"]);\n",
              "//# sourceURL=js_a59065baa8"
            ],
            "text/plain": [
              "<IPython.core.display.Javascript object>"
            ]
          },
          "metadata": {}
        },
        {
          "output_type": "display_data",
          "data": {
            "application/javascript": [
              "window[\"47ac627e-79e1-11ec-8afc-0242ac1c0002\"] = google.colab.output.getActiveOutputArea();\n",
              "//# sourceURL=js_0820e9f9e1"
            ],
            "text/plain": [
              "<IPython.core.display.Javascript object>"
            ]
          },
          "metadata": {}
        },
        {
          "output_type": "display_data",
          "data": {
            "application/javascript": [
              "window[\"47acc368-79e1-11ec-8afc-0242ac1c0002\"] = document.querySelector(\"#id10-0-1\");\n",
              "//# sourceURL=js_9ff97bd7a1"
            ],
            "text/plain": [
              "<IPython.core.display.Javascript object>"
            ]
          },
          "metadata": {}
        },
        {
          "output_type": "display_data",
          "data": {
            "application/javascript": [
              "window[\"47ad10f2-79e1-11ec-8afc-0242ac1c0002\"] = google.colab.output.setActiveOutputArea(window[\"47acc368-79e1-11ec-8afc-0242ac1c0002\"]);\n",
              "//# sourceURL=js_4271fd567e"
            ],
            "text/plain": [
              "<IPython.core.display.Javascript object>"
            ]
          },
          "metadata": {}
        },
        {
          "output_type": "stream",
          "name": "stdout",
          "text": [
            "Beneficio real - Beneficio esperado\n"
          ]
        },
        {
          "output_type": "display_data",
          "data": {
            "application/javascript": [
              "window[\"47ae3e5a-79e1-11ec-8afc-0242ac1c0002\"] = google.colab.output.setActiveOutputArea(window[\"47ac627e-79e1-11ec-8afc-0242ac1c0002\"]);\n",
              "//# sourceURL=js_0abb841c62"
            ],
            "text/plain": [
              "<IPython.core.display.Javascript object>"
            ]
          },
          "metadata": {}
        },
        {
          "output_type": "display_data",
          "data": {
            "application/javascript": [
              "window[\"47b0245e-79e1-11ec-8afc-0242ac1c0002\"] = google.colab.output.getActiveOutputArea();\n",
              "//# sourceURL=js_2c696722fa"
            ],
            "text/plain": [
              "<IPython.core.display.Javascript object>"
            ]
          },
          "metadata": {}
        },
        {
          "output_type": "display_data",
          "data": {
            "application/javascript": [
              "window[\"47b073be-79e1-11ec-8afc-0242ac1c0002\"] = document.querySelector(\"#id10-0-2\");\n",
              "//# sourceURL=js_92c333eb5c"
            ],
            "text/plain": [
              "<IPython.core.display.Javascript object>"
            ]
          },
          "metadata": {}
        },
        {
          "output_type": "display_data",
          "data": {
            "application/javascript": [
              "window[\"47b0d62e-79e1-11ec-8afc-0242ac1c0002\"] = google.colab.output.setActiveOutputArea(window[\"47b073be-79e1-11ec-8afc-0242ac1c0002\"]);\n",
              "//# sourceURL=js_ceb0e7f56a"
            ],
            "text/plain": [
              "<IPython.core.display.Javascript object>"
            ]
          },
          "metadata": {}
        },
        {
          "output_type": "stream",
          "name": "stdout",
          "text": [
            "Influencia\n"
          ]
        },
        {
          "output_type": "display_data",
          "data": {
            "application/javascript": [
              "window[\"47b29c7a-79e1-11ec-8afc-0242ac1c0002\"] = google.colab.output.setActiveOutputArea(window[\"47b0245e-79e1-11ec-8afc-0242ac1c0002\"]);\n",
              "//# sourceURL=js_bf008c5ee2"
            ],
            "text/plain": [
              "<IPython.core.display.Javascript object>"
            ]
          },
          "metadata": {}
        },
        {
          "output_type": "display_data",
          "data": {
            "application/javascript": [
              "window[\"47b48134-79e1-11ec-8afc-0242ac1c0002\"] = google.colab.output.getActiveOutputArea();\n",
              "//# sourceURL=js_546b302f61"
            ],
            "text/plain": [
              "<IPython.core.display.Javascript object>"
            ]
          },
          "metadata": {}
        },
        {
          "output_type": "display_data",
          "data": {
            "application/javascript": [
              "window[\"47b4ba46-79e1-11ec-8afc-0242ac1c0002\"] = document.querySelector(\"#id10-1-2\");\n",
              "//# sourceURL=js_a8abccd67f"
            ],
            "text/plain": [
              "<IPython.core.display.Javascript object>"
            ]
          },
          "metadata": {}
        },
        {
          "output_type": "display_data",
          "data": {
            "application/javascript": [
              "window[\"47b52012-79e1-11ec-8afc-0242ac1c0002\"] = google.colab.output.setActiveOutputArea(window[\"47b4ba46-79e1-11ec-8afc-0242ac1c0002\"]);\n",
              "//# sourceURL=js_4df594f6da"
            ],
            "text/plain": [
              "<IPython.core.display.Javascript object>"
            ]
          },
          "metadata": {}
        },
        {
          "output_type": "stream",
          "name": "stdout",
          "text": [
            "positive\n"
          ]
        },
        {
          "output_type": "display_data",
          "data": {
            "application/javascript": [
              "window[\"47b65a54-79e1-11ec-8afc-0242ac1c0002\"] = google.colab.output.setActiveOutputArea(window[\"47b48134-79e1-11ec-8afc-0242ac1c0002\"]);\n",
              "//# sourceURL=js_c56a67bd04"
            ],
            "text/plain": [
              "<IPython.core.display.Javascript object>"
            ]
          },
          "metadata": {}
        },
        {
          "output_type": "display_data",
          "data": {
            "application/javascript": [
              "window[\"47b831ee-79e1-11ec-8afc-0242ac1c0002\"] = google.colab.output.getActiveOutputArea();\n",
              "//# sourceURL=js_97f5ffa86d"
            ],
            "text/plain": [
              "<IPython.core.display.Javascript object>"
            ]
          },
          "metadata": {}
        },
        {
          "output_type": "display_data",
          "data": {
            "application/javascript": [
              "window[\"47b8a278-79e1-11ec-8afc-0242ac1c0002\"] = document.querySelector(\"#id10-2-2\");\n",
              "//# sourceURL=js_a359e7db7d"
            ],
            "text/plain": [
              "<IPython.core.display.Javascript object>"
            ]
          },
          "metadata": {}
        },
        {
          "output_type": "display_data",
          "data": {
            "application/javascript": [
              "window[\"47b91604-79e1-11ec-8afc-0242ac1c0002\"] = google.colab.output.setActiveOutputArea(window[\"47b8a278-79e1-11ec-8afc-0242ac1c0002\"]);\n",
              "//# sourceURL=js_aa015d7787"
            ],
            "text/plain": [
              "<IPython.core.display.Javascript object>"
            ]
          },
          "metadata": {}
        },
        {
          "output_type": "stream",
          "name": "stdout",
          "text": [
            "positive\n"
          ]
        },
        {
          "output_type": "display_data",
          "data": {
            "application/javascript": [
              "window[\"47ba35e8-79e1-11ec-8afc-0242ac1c0002\"] = google.colab.output.setActiveOutputArea(window[\"47b831ee-79e1-11ec-8afc-0242ac1c0002\"]);\n",
              "//# sourceURL=js_dcfc4f9b89"
            ],
            "text/plain": [
              "<IPython.core.display.Javascript object>"
            ]
          },
          "metadata": {}
        },
        {
          "output_type": "display_data",
          "data": {
            "application/javascript": [
              "window[\"47bb8786-79e1-11ec-8afc-0242ac1c0002\"] = google.colab.output.getActiveOutputArea();\n",
              "//# sourceURL=js_2e41019c00"
            ],
            "text/plain": [
              "<IPython.core.display.Javascript object>"
            ]
          },
          "metadata": {}
        },
        {
          "output_type": "display_data",
          "data": {
            "application/javascript": [
              "window[\"47bbf586-79e1-11ec-8afc-0242ac1c0002\"] = document.querySelector(\"#id10-3-2\");\n",
              "//# sourceURL=js_7e880d78e2"
            ],
            "text/plain": [
              "<IPython.core.display.Javascript object>"
            ]
          },
          "metadata": {}
        },
        {
          "output_type": "display_data",
          "data": {
            "application/javascript": [
              "window[\"47bc4518-79e1-11ec-8afc-0242ac1c0002\"] = google.colab.output.setActiveOutputArea(window[\"47bbf586-79e1-11ec-8afc-0242ac1c0002\"]);\n",
              "//# sourceURL=js_a8df23aa31"
            ],
            "text/plain": [
              "<IPython.core.display.Javascript object>"
            ]
          },
          "metadata": {}
        },
        {
          "output_type": "stream",
          "name": "stdout",
          "text": [
            "positive\n"
          ]
        },
        {
          "output_type": "display_data",
          "data": {
            "application/javascript": [
              "window[\"47bd2bc2-79e1-11ec-8afc-0242ac1c0002\"] = google.colab.output.setActiveOutputArea(window[\"47bb8786-79e1-11ec-8afc-0242ac1c0002\"]);\n",
              "//# sourceURL=js_e0e66fe37d"
            ],
            "text/plain": [
              "<IPython.core.display.Javascript object>"
            ]
          },
          "metadata": {}
        },
        {
          "output_type": "stream",
          "name": "stdout",
          "text": [
            "Diferencia de beneficios\n"
          ]
        },
        {
          "output_type": "display_data",
          "data": {
            "text/html": [
              "<style>\n",
              "       table#id12, #id12 > tbody > tr > th, #id12 > tbody > tr > td {\n",
              "         border: 1px solid lightgray;\n",
              "         border-collapse:collapse;\n",
              "         \n",
              "        }</style>"
            ],
            "text/plain": [
              "<IPython.core.display.HTML object>"
            ]
          },
          "metadata": {}
        },
        {
          "output_type": "display_data",
          "data": {
            "text/html": [
              "<table id=id12><tr><th id=id12-0-0></th><th id=id12-0-1></th><th id=id12-0-2></th></tr><tr><th id=id12-1-0></th><td id=id12-1-1></td><td id=id12-1-2></td></tr><tr><th id=id12-2-0></th><td id=id12-2-1></td><td id=id12-2-2></td></tr><tr><th id=id12-3-0></th><td id=id12-3-1></td><td id=id12-3-2></td></tr></table>"
            ],
            "text/plain": [
              "<IPython.core.display.HTML object>"
            ]
          },
          "metadata": {}
        },
        {
          "output_type": "display_data",
          "data": {
            "application/javascript": [
              "window[\"47c9d124-79e1-11ec-8afc-0242ac1c0002\"] = google.colab.output.getActiveOutputArea();\n",
              "//# sourceURL=js_b3907bb36c"
            ],
            "text/plain": [
              "<IPython.core.display.Javascript object>"
            ]
          },
          "metadata": {}
        },
        {
          "output_type": "display_data",
          "data": {
            "application/javascript": [
              "window[\"47ca21f6-79e1-11ec-8afc-0242ac1c0002\"] = document.querySelector(\"#id12-0-0\");\n",
              "//# sourceURL=js_e6c313bf5f"
            ],
            "text/plain": [
              "<IPython.core.display.Javascript object>"
            ]
          },
          "metadata": {}
        },
        {
          "output_type": "display_data",
          "data": {
            "application/javascript": [
              "window[\"47ca627e-79e1-11ec-8afc-0242ac1c0002\"] = google.colab.output.setActiveOutputArea(window[\"47ca21f6-79e1-11ec-8afc-0242ac1c0002\"]);\n",
              "//# sourceURL=js_d04ce4e633"
            ],
            "text/plain": [
              "<IPython.core.display.Javascript object>"
            ]
          },
          "metadata": {}
        },
        {
          "output_type": "stream",
          "name": "stdout",
          "text": [
            "Característica que falta\n"
          ]
        },
        {
          "output_type": "display_data",
          "data": {
            "application/javascript": [
              "window[\"47cb51b6-79e1-11ec-8afc-0242ac1c0002\"] = google.colab.output.setActiveOutputArea(window[\"47c9d124-79e1-11ec-8afc-0242ac1c0002\"]);\n",
              "//# sourceURL=js_e429b2210d"
            ],
            "text/plain": [
              "<IPython.core.display.Javascript object>"
            ]
          },
          "metadata": {}
        },
        {
          "output_type": "display_data",
          "data": {
            "application/javascript": [
              "window[\"47cc9f8a-79e1-11ec-8afc-0242ac1c0002\"] = google.colab.output.getActiveOutputArea();\n",
              "//# sourceURL=js_02ad7e6655"
            ],
            "text/plain": [
              "<IPython.core.display.Javascript object>"
            ]
          },
          "metadata": {}
        },
        {
          "output_type": "display_data",
          "data": {
            "application/javascript": [
              "window[\"47ccd5ea-79e1-11ec-8afc-0242ac1c0002\"] = document.querySelector(\"#id12-1-0\");\n",
              "//# sourceURL=js_67f9de2751"
            ],
            "text/plain": [
              "<IPython.core.display.Javascript object>"
            ]
          },
          "metadata": {}
        },
        {
          "output_type": "display_data",
          "data": {
            "application/javascript": [
              "window[\"47cd0830-79e1-11ec-8afc-0242ac1c0002\"] = google.colab.output.setActiveOutputArea(window[\"47ccd5ea-79e1-11ec-8afc-0242ac1c0002\"]);\n",
              "//# sourceURL=js_afe9a2b5ad"
            ],
            "text/plain": [
              "<IPython.core.display.Javascript object>"
            ]
          },
          "metadata": {}
        },
        {
          "output_type": "stream",
          "name": "stdout",
          "text": [
            "Mes\n"
          ]
        },
        {
          "output_type": "display_data",
          "data": {
            "application/javascript": [
              "window[\"47cdee58-79e1-11ec-8afc-0242ac1c0002\"] = google.colab.output.setActiveOutputArea(window[\"47cc9f8a-79e1-11ec-8afc-0242ac1c0002\"]);\n",
              "//# sourceURL=js_9d9447fb91"
            ],
            "text/plain": [
              "<IPython.core.display.Javascript object>"
            ]
          },
          "metadata": {}
        },
        {
          "output_type": "display_data",
          "data": {
            "application/javascript": [
              "window[\"47cf465e-79e1-11ec-8afc-0242ac1c0002\"] = google.colab.output.getActiveOutputArea();\n",
              "//# sourceURL=js_aabc451bfa"
            ],
            "text/plain": [
              "<IPython.core.display.Javascript object>"
            ]
          },
          "metadata": {}
        },
        {
          "output_type": "display_data",
          "data": {
            "application/javascript": [
              "window[\"47cf8466-79e1-11ec-8afc-0242ac1c0002\"] = document.querySelector(\"#id12-2-0\");\n",
              "//# sourceURL=js_5f6c70419f"
            ],
            "text/plain": [
              "<IPython.core.display.Javascript object>"
            ]
          },
          "metadata": {}
        },
        {
          "output_type": "display_data",
          "data": {
            "application/javascript": [
              "window[\"47cfb8d2-79e1-11ec-8afc-0242ac1c0002\"] = google.colab.output.setActiveOutputArea(window[\"47cf8466-79e1-11ec-8afc-0242ac1c0002\"]);\n",
              "//# sourceURL=js_293d2cb26f"
            ],
            "text/plain": [
              "<IPython.core.display.Javascript object>"
            ]
          },
          "metadata": {}
        },
        {
          "output_type": "stream",
          "name": "stdout",
          "text": [
            "Temperatura\n"
          ]
        },
        {
          "output_type": "display_data",
          "data": {
            "application/javascript": [
              "window[\"47d08cda-79e1-11ec-8afc-0242ac1c0002\"] = google.colab.output.setActiveOutputArea(window[\"47cf465e-79e1-11ec-8afc-0242ac1c0002\"]);\n",
              "//# sourceURL=js_968d04cc1b"
            ],
            "text/plain": [
              "<IPython.core.display.Javascript object>"
            ]
          },
          "metadata": {}
        },
        {
          "output_type": "display_data",
          "data": {
            "application/javascript": [
              "window[\"47d1df36-79e1-11ec-8afc-0242ac1c0002\"] = google.colab.output.getActiveOutputArea();\n",
              "//# sourceURL=js_7661b4e967"
            ],
            "text/plain": [
              "<IPython.core.display.Javascript object>"
            ]
          },
          "metadata": {}
        },
        {
          "output_type": "display_data",
          "data": {
            "application/javascript": [
              "window[\"47d21708-79e1-11ec-8afc-0242ac1c0002\"] = document.querySelector(\"#id12-3-0\");\n",
              "//# sourceURL=js_4a261a20f2"
            ],
            "text/plain": [
              "<IPython.core.display.Javascript object>"
            ]
          },
          "metadata": {}
        },
        {
          "output_type": "display_data",
          "data": {
            "application/javascript": [
              "window[\"47d24746-79e1-11ec-8afc-0242ac1c0002\"] = google.colab.output.setActiveOutputArea(window[\"47d21708-79e1-11ec-8afc-0242ac1c0002\"]);\n",
              "//# sourceURL=js_2c3c6717d8"
            ],
            "text/plain": [
              "<IPython.core.display.Javascript object>"
            ]
          },
          "metadata": {}
        },
        {
          "output_type": "stream",
          "name": "stdout",
          "text": [
            "Precipitación\n"
          ]
        },
        {
          "output_type": "display_data",
          "data": {
            "application/javascript": [
              "window[\"47d35122-79e1-11ec-8afc-0242ac1c0002\"] = google.colab.output.setActiveOutputArea(window[\"47d1df36-79e1-11ec-8afc-0242ac1c0002\"]);\n",
              "//# sourceURL=js_032f6b462c"
            ],
            "text/plain": [
              "<IPython.core.display.Javascript object>"
            ]
          },
          "metadata": {}
        },
        {
          "output_type": "display_data",
          "data": {
            "application/javascript": [
              "window[\"47d4d006-79e1-11ec-8afc-0242ac1c0002\"] = google.colab.output.getActiveOutputArea();\n",
              "//# sourceURL=js_7fc2fae5cc"
            ],
            "text/plain": [
              "<IPython.core.display.Javascript object>"
            ]
          },
          "metadata": {}
        },
        {
          "output_type": "display_data",
          "data": {
            "application/javascript": [
              "window[\"47d51e08-79e1-11ec-8afc-0242ac1c0002\"] = document.querySelector(\"#id12-1-1\");\n",
              "//# sourceURL=js_87c4919bf4"
            ],
            "text/plain": [
              "<IPython.core.display.Javascript object>"
            ]
          },
          "metadata": {}
        },
        {
          "output_type": "display_data",
          "data": {
            "application/javascript": [
              "window[\"47d55de6-79e1-11ec-8afc-0242ac1c0002\"] = google.colab.output.setActiveOutputArea(window[\"47d51e08-79e1-11ec-8afc-0242ac1c0002\"]);\n",
              "//# sourceURL=js_8e18c2391e"
            ],
            "text/plain": [
              "<IPython.core.display.Javascript object>"
            ]
          },
          "metadata": {}
        },
        {
          "output_type": "stream",
          "name": "stdout",
          "text": [
            "0.4198351650833334\n"
          ]
        },
        {
          "output_type": "display_data",
          "data": {
            "application/javascript": [
              "window[\"47d67eba-79e1-11ec-8afc-0242ac1c0002\"] = google.colab.output.setActiveOutputArea(window[\"47d4d006-79e1-11ec-8afc-0242ac1c0002\"]);\n",
              "//# sourceURL=js_e797decd25"
            ],
            "text/plain": [
              "<IPython.core.display.Javascript object>"
            ]
          },
          "metadata": {}
        },
        {
          "output_type": "display_data",
          "data": {
            "application/javascript": [
              "window[\"47e2ba4a-79e1-11ec-8afc-0242ac1c0002\"] = google.colab.output.getActiveOutputArea();\n",
              "//# sourceURL=js_9b45a34b59"
            ],
            "text/plain": [
              "<IPython.core.display.Javascript object>"
            ]
          },
          "metadata": {}
        },
        {
          "output_type": "display_data",
          "data": {
            "application/javascript": [
              "window[\"47e4b642-79e1-11ec-8afc-0242ac1c0002\"] = document.querySelector(\"#id12-2-1\");\n",
              "//# sourceURL=js_13d22fb3cf"
            ],
            "text/plain": [
              "<IPython.core.display.Javascript object>"
            ]
          },
          "metadata": {}
        },
        {
          "output_type": "display_data",
          "data": {
            "application/javascript": [
              "window[\"47e61910-79e1-11ec-8afc-0242ac1c0002\"] = google.colab.output.setActiveOutputArea(window[\"47e4b642-79e1-11ec-8afc-0242ac1c0002\"]);\n",
              "//# sourceURL=js_9995107232"
            ],
            "text/plain": [
              "<IPython.core.display.Javascript object>"
            ]
          },
          "metadata": {}
        },
        {
          "output_type": "stream",
          "name": "stdout",
          "text": [
            "0.48377582793186336\n"
          ]
        },
        {
          "output_type": "display_data",
          "data": {
            "application/javascript": [
              "window[\"47edce8a-79e1-11ec-8afc-0242ac1c0002\"] = google.colab.output.setActiveOutputArea(window[\"47e2ba4a-79e1-11ec-8afc-0242ac1c0002\"]);\n",
              "//# sourceURL=js_b31500f768"
            ],
            "text/plain": [
              "<IPython.core.display.Javascript object>"
            ]
          },
          "metadata": {}
        },
        {
          "output_type": "display_data",
          "data": {
            "application/javascript": [
              "window[\"47f56780-79e1-11ec-8afc-0242ac1c0002\"] = google.colab.output.getActiveOutputArea();\n",
              "//# sourceURL=js_6035f78548"
            ],
            "text/plain": [
              "<IPython.core.display.Javascript object>"
            ]
          },
          "metadata": {}
        },
        {
          "output_type": "display_data",
          "data": {
            "application/javascript": [
              "window[\"47f6c544-79e1-11ec-8afc-0242ac1c0002\"] = document.querySelector(\"#id12-3-1\");\n",
              "//# sourceURL=js_170067b7ae"
            ],
            "text/plain": [
              "<IPython.core.display.Javascript object>"
            ]
          },
          "metadata": {}
        },
        {
          "output_type": "display_data",
          "data": {
            "application/javascript": [
              "window[\"47f704aa-79e1-11ec-8afc-0242ac1c0002\"] = google.colab.output.setActiveOutputArea(window[\"47f6c544-79e1-11ec-8afc-0242ac1c0002\"]);\n",
              "//# sourceURL=js_543fe367be"
            ],
            "text/plain": [
              "<IPython.core.display.Javascript object>"
            ]
          },
          "metadata": {}
        },
        {
          "output_type": "stream",
          "name": "stdout",
          "text": [
            "0.4655493929943143\n"
          ]
        },
        {
          "output_type": "display_data",
          "data": {
            "application/javascript": [
              "window[\"47f84f0e-79e1-11ec-8afc-0242ac1c0002\"] = google.colab.output.setActiveOutputArea(window[\"47f56780-79e1-11ec-8afc-0242ac1c0002\"]);\n",
              "//# sourceURL=js_eea676ea15"
            ],
            "text/plain": [
              "<IPython.core.display.Javascript object>"
            ]
          },
          "metadata": {}
        },
        {
          "output_type": "display_data",
          "data": {
            "application/javascript": [
              "window[\"47fa56b4-79e1-11ec-8afc-0242ac1c0002\"] = google.colab.output.getActiveOutputArea();\n",
              "//# sourceURL=js_505d397b69"
            ],
            "text/plain": [
              "<IPython.core.display.Javascript object>"
            ]
          },
          "metadata": {}
        },
        {
          "output_type": "display_data",
          "data": {
            "application/javascript": [
              "window[\"47fa917e-79e1-11ec-8afc-0242ac1c0002\"] = document.querySelector(\"#id12-0-1\");\n",
              "//# sourceURL=js_5827e038c8"
            ],
            "text/plain": [
              "<IPython.core.display.Javascript object>"
            ]
          },
          "metadata": {}
        },
        {
          "output_type": "display_data",
          "data": {
            "application/javascript": [
              "window[\"47faca22-79e1-11ec-8afc-0242ac1c0002\"] = google.colab.output.setActiveOutputArea(window[\"47fa917e-79e1-11ec-8afc-0242ac1c0002\"]);\n",
              "//# sourceURL=js_477ba671c3"
            ],
            "text/plain": [
              "<IPython.core.display.Javascript object>"
            ]
          },
          "metadata": {}
        },
        {
          "output_type": "stream",
          "name": "stdout",
          "text": [
            "Beneficio real - Beneficio esperado\n"
          ]
        },
        {
          "output_type": "display_data",
          "data": {
            "application/javascript": [
              "window[\"47fc1288-79e1-11ec-8afc-0242ac1c0002\"] = google.colab.output.setActiveOutputArea(window[\"47fa56b4-79e1-11ec-8afc-0242ac1c0002\"]);\n",
              "//# sourceURL=js_e65c068e7c"
            ],
            "text/plain": [
              "<IPython.core.display.Javascript object>"
            ]
          },
          "metadata": {}
        },
        {
          "output_type": "display_data",
          "data": {
            "application/javascript": [
              "window[\"47fda2ba-79e1-11ec-8afc-0242ac1c0002\"] = google.colab.output.getActiveOutputArea();\n",
              "//# sourceURL=js_50162d6ca8"
            ],
            "text/plain": [
              "<IPython.core.display.Javascript object>"
            ]
          },
          "metadata": {}
        },
        {
          "output_type": "display_data",
          "data": {
            "application/javascript": [
              "window[\"47fdd956-79e1-11ec-8afc-0242ac1c0002\"] = document.querySelector(\"#id12-0-2\");\n",
              "//# sourceURL=js_6a2dc4dafb"
            ],
            "text/plain": [
              "<IPython.core.display.Javascript object>"
            ]
          },
          "metadata": {}
        },
        {
          "output_type": "display_data",
          "data": {
            "application/javascript": [
              "window[\"47fe9e86-79e1-11ec-8afc-0242ac1c0002\"] = google.colab.output.setActiveOutputArea(window[\"47fdd956-79e1-11ec-8afc-0242ac1c0002\"]);\n",
              "//# sourceURL=js_f14976341c"
            ],
            "text/plain": [
              "<IPython.core.display.Javascript object>"
            ]
          },
          "metadata": {}
        },
        {
          "output_type": "stream",
          "name": "stdout",
          "text": [
            "Influencia\n"
          ]
        },
        {
          "output_type": "display_data",
          "data": {
            "application/javascript": [
              "window[\"47ffc1bc-79e1-11ec-8afc-0242ac1c0002\"] = google.colab.output.setActiveOutputArea(window[\"47fda2ba-79e1-11ec-8afc-0242ac1c0002\"]);\n",
              "//# sourceURL=js_d650b7da51"
            ],
            "text/plain": [
              "<IPython.core.display.Javascript object>"
            ]
          },
          "metadata": {}
        },
        {
          "output_type": "display_data",
          "data": {
            "application/javascript": [
              "window[\"480191c2-79e1-11ec-8afc-0242ac1c0002\"] = google.colab.output.getActiveOutputArea();\n",
              "//# sourceURL=js_4750b2b51b"
            ],
            "text/plain": [
              "<IPython.core.display.Javascript object>"
            ]
          },
          "metadata": {}
        },
        {
          "output_type": "display_data",
          "data": {
            "application/javascript": [
              "window[\"4801cd72-79e1-11ec-8afc-0242ac1c0002\"] = document.querySelector(\"#id12-1-2\");\n",
              "//# sourceURL=js_3435f0f7af"
            ],
            "text/plain": [
              "<IPython.core.display.Javascript object>"
            ]
          },
          "metadata": {}
        },
        {
          "output_type": "display_data",
          "data": {
            "application/javascript": [
              "window[\"4802035a-79e1-11ec-8afc-0242ac1c0002\"] = google.colab.output.setActiveOutputArea(window[\"4801cd72-79e1-11ec-8afc-0242ac1c0002\"]);\n",
              "//# sourceURL=js_5cbb116709"
            ],
            "text/plain": [
              "<IPython.core.display.Javascript object>"
            ]
          },
          "metadata": {}
        },
        {
          "output_type": "stream",
          "name": "stdout",
          "text": [
            "positive\n"
          ]
        },
        {
          "output_type": "display_data",
          "data": {
            "application/javascript": [
              "window[\"48035890-79e1-11ec-8afc-0242ac1c0002\"] = google.colab.output.setActiveOutputArea(window[\"480191c2-79e1-11ec-8afc-0242ac1c0002\"]);\n",
              "//# sourceURL=js_7ee69623c1"
            ],
            "text/plain": [
              "<IPython.core.display.Javascript object>"
            ]
          },
          "metadata": {}
        },
        {
          "output_type": "display_data",
          "data": {
            "application/javascript": [
              "window[\"48050d7a-79e1-11ec-8afc-0242ac1c0002\"] = google.colab.output.getActiveOutputArea();\n",
              "//# sourceURL=js_0e2efa1d75"
            ],
            "text/plain": [
              "<IPython.core.display.Javascript object>"
            ]
          },
          "metadata": {}
        },
        {
          "output_type": "display_data",
          "data": {
            "application/javascript": [
              "window[\"480572ec-79e1-11ec-8afc-0242ac1c0002\"] = document.querySelector(\"#id12-2-2\");\n",
              "//# sourceURL=js_e48848eeae"
            ],
            "text/plain": [
              "<IPython.core.display.Javascript object>"
            ]
          },
          "metadata": {}
        },
        {
          "output_type": "display_data",
          "data": {
            "application/javascript": [
              "window[\"4805dcc8-79e1-11ec-8afc-0242ac1c0002\"] = google.colab.output.setActiveOutputArea(window[\"480572ec-79e1-11ec-8afc-0242ac1c0002\"]);\n",
              "//# sourceURL=js_d05309e59d"
            ],
            "text/plain": [
              "<IPython.core.display.Javascript object>"
            ]
          },
          "metadata": {}
        },
        {
          "output_type": "stream",
          "name": "stdout",
          "text": [
            "positive\n"
          ]
        },
        {
          "output_type": "display_data",
          "data": {
            "application/javascript": [
              "window[\"4808a8c2-79e1-11ec-8afc-0242ac1c0002\"] = google.colab.output.setActiveOutputArea(window[\"48050d7a-79e1-11ec-8afc-0242ac1c0002\"]);\n",
              "//# sourceURL=js_3af43c3755"
            ],
            "text/plain": [
              "<IPython.core.display.Javascript object>"
            ]
          },
          "metadata": {}
        },
        {
          "output_type": "display_data",
          "data": {
            "application/javascript": [
              "window[\"480a3c78-79e1-11ec-8afc-0242ac1c0002\"] = google.colab.output.getActiveOutputArea();\n",
              "//# sourceURL=js_51fa905703"
            ],
            "text/plain": [
              "<IPython.core.display.Javascript object>"
            ]
          },
          "metadata": {}
        },
        {
          "output_type": "display_data",
          "data": {
            "application/javascript": [
              "window[\"480a735a-79e1-11ec-8afc-0242ac1c0002\"] = document.querySelector(\"#id12-3-2\");\n",
              "//# sourceURL=js_76b7bae036"
            ],
            "text/plain": [
              "<IPython.core.display.Javascript object>"
            ]
          },
          "metadata": {}
        },
        {
          "output_type": "display_data",
          "data": {
            "application/javascript": [
              "window[\"480accce-79e1-11ec-8afc-0242ac1c0002\"] = google.colab.output.setActiveOutputArea(window[\"480a735a-79e1-11ec-8afc-0242ac1c0002\"]);\n",
              "//# sourceURL=js_3d187593f1"
            ],
            "text/plain": [
              "<IPython.core.display.Javascript object>"
            ]
          },
          "metadata": {}
        },
        {
          "output_type": "stream",
          "name": "stdout",
          "text": [
            "positive\n"
          ]
        },
        {
          "output_type": "display_data",
          "data": {
            "application/javascript": [
              "window[\"480b9884-79e1-11ec-8afc-0242ac1c0002\"] = google.colab.output.setActiveOutputArea(window[\"480a3c78-79e1-11ec-8afc-0242ac1c0002\"]);\n",
              "//# sourceURL=js_b0e9d52f90"
            ],
            "text/plain": [
              "<IPython.core.display.Javascript object>"
            ]
          },
          "metadata": {}
        },
        {
          "output_type": "stream",
          "name": "stdout",
          "text": [
            "\n",
            "\n",
            "\n",
            "Diferencia de beneficios\n"
          ]
        },
        {
          "output_type": "display_data",
          "data": {
            "text/html": [
              "<style>\n",
              "       table#id14, #id14 > tbody > tr > th, #id14 > tbody > tr > td {\n",
              "         border: 1px solid lightgray;\n",
              "         border-collapse:collapse;\n",
              "         \n",
              "        }</style>"
            ],
            "text/plain": [
              "<IPython.core.display.HTML object>"
            ]
          },
          "metadata": {}
        },
        {
          "output_type": "display_data",
          "data": {
            "text/html": [
              "<table id=id14><tr><th id=id14-0-0></th><th id=id14-0-1></th><th id=id14-0-2></th></tr><tr><th id=id14-1-0></th><td id=id14-1-1></td><td id=id14-1-2></td></tr><tr><th id=id14-2-0></th><td id=id14-2-1></td><td id=id14-2-2></td></tr><tr><th id=id14-3-0></th><td id=id14-3-1></td><td id=id14-3-2></td></tr></table>"
            ],
            "text/plain": [
              "<IPython.core.display.HTML object>"
            ]
          },
          "metadata": {}
        },
        {
          "output_type": "display_data",
          "data": {
            "application/javascript": [
              "window[\"4817c3d4-79e1-11ec-8afc-0242ac1c0002\"] = google.colab.output.getActiveOutputArea();\n",
              "//# sourceURL=js_2df3e25428"
            ],
            "text/plain": [
              "<IPython.core.display.Javascript object>"
            ]
          },
          "metadata": {}
        },
        {
          "output_type": "display_data",
          "data": {
            "application/javascript": [
              "window[\"4817f96c-79e1-11ec-8afc-0242ac1c0002\"] = document.querySelector(\"#id14-0-0\");\n",
              "//# sourceURL=js_136ed89891"
            ],
            "text/plain": [
              "<IPython.core.display.Javascript object>"
            ]
          },
          "metadata": {}
        },
        {
          "output_type": "display_data",
          "data": {
            "application/javascript": [
              "window[\"48182ea0-79e1-11ec-8afc-0242ac1c0002\"] = google.colab.output.setActiveOutputArea(window[\"4817f96c-79e1-11ec-8afc-0242ac1c0002\"]);\n",
              "//# sourceURL=js_dea3f21819"
            ],
            "text/plain": [
              "<IPython.core.display.Javascript object>"
            ]
          },
          "metadata": {}
        },
        {
          "output_type": "stream",
          "name": "stdout",
          "text": [
            "Característica que falta\n"
          ]
        },
        {
          "output_type": "display_data",
          "data": {
            "application/javascript": [
              "window[\"4818edd6-79e1-11ec-8afc-0242ac1c0002\"] = google.colab.output.setActiveOutputArea(window[\"4817c3d4-79e1-11ec-8afc-0242ac1c0002\"]);\n",
              "//# sourceURL=js_e7b91acec6"
            ],
            "text/plain": [
              "<IPython.core.display.Javascript object>"
            ]
          },
          "metadata": {}
        },
        {
          "output_type": "display_data",
          "data": {
            "application/javascript": [
              "window[\"481a0338-79e1-11ec-8afc-0242ac1c0002\"] = google.colab.output.getActiveOutputArea();\n",
              "//# sourceURL=js_f8e2e393a7"
            ],
            "text/plain": [
              "<IPython.core.display.Javascript object>"
            ]
          },
          "metadata": {}
        },
        {
          "output_type": "display_data",
          "data": {
            "application/javascript": [
              "window[\"481a3bdc-79e1-11ec-8afc-0242ac1c0002\"] = document.querySelector(\"#id14-1-0\");\n",
              "//# sourceURL=js_f1148381dc"
            ],
            "text/plain": [
              "<IPython.core.display.Javascript object>"
            ]
          },
          "metadata": {}
        },
        {
          "output_type": "display_data",
          "data": {
            "application/javascript": [
              "window[\"481a6d0a-79e1-11ec-8afc-0242ac1c0002\"] = google.colab.output.setActiveOutputArea(window[\"481a3bdc-79e1-11ec-8afc-0242ac1c0002\"]);\n",
              "//# sourceURL=js_02472a3800"
            ],
            "text/plain": [
              "<IPython.core.display.Javascript object>"
            ]
          },
          "metadata": {}
        },
        {
          "output_type": "stream",
          "name": "stdout",
          "text": [
            "Mes\n"
          ]
        },
        {
          "output_type": "display_data",
          "data": {
            "application/javascript": [
              "window[\"481b5094-79e1-11ec-8afc-0242ac1c0002\"] = google.colab.output.setActiveOutputArea(window[\"481a0338-79e1-11ec-8afc-0242ac1c0002\"]);\n",
              "//# sourceURL=js_07633830c7"
            ],
            "text/plain": [
              "<IPython.core.display.Javascript object>"
            ]
          },
          "metadata": {}
        },
        {
          "output_type": "display_data",
          "data": {
            "application/javascript": [
              "window[\"481c814e-79e1-11ec-8afc-0242ac1c0002\"] = google.colab.output.getActiveOutputArea();\n",
              "//# sourceURL=js_17d7c44c8f"
            ],
            "text/plain": [
              "<IPython.core.display.Javascript object>"
            ]
          },
          "metadata": {}
        },
        {
          "output_type": "display_data",
          "data": {
            "application/javascript": [
              "window[\"481cb7cc-79e1-11ec-8afc-0242ac1c0002\"] = document.querySelector(\"#id14-2-0\");\n",
              "//# sourceURL=js_19a0c066f9"
            ],
            "text/plain": [
              "<IPython.core.display.Javascript object>"
            ]
          },
          "metadata": {}
        },
        {
          "output_type": "display_data",
          "data": {
            "application/javascript": [
              "window[\"481cea76-79e1-11ec-8afc-0242ac1c0002\"] = google.colab.output.setActiveOutputArea(window[\"481cb7cc-79e1-11ec-8afc-0242ac1c0002\"]);\n",
              "//# sourceURL=js_08e5f135a4"
            ],
            "text/plain": [
              "<IPython.core.display.Javascript object>"
            ]
          },
          "metadata": {}
        },
        {
          "output_type": "stream",
          "name": "stdout",
          "text": [
            "Temperatura\n"
          ]
        },
        {
          "output_type": "display_data",
          "data": {
            "application/javascript": [
              "window[\"481da9e8-79e1-11ec-8afc-0242ac1c0002\"] = google.colab.output.setActiveOutputArea(window[\"481c814e-79e1-11ec-8afc-0242ac1c0002\"]);\n",
              "//# sourceURL=js_c840fdd2d0"
            ],
            "text/plain": [
              "<IPython.core.display.Javascript object>"
            ]
          },
          "metadata": {}
        },
        {
          "output_type": "display_data",
          "data": {
            "application/javascript": [
              "window[\"481ec94a-79e1-11ec-8afc-0242ac1c0002\"] = google.colab.output.getActiveOutputArea();\n",
              "//# sourceURL=js_63fd33d812"
            ],
            "text/plain": [
              "<IPython.core.display.Javascript object>"
            ]
          },
          "metadata": {}
        },
        {
          "output_type": "display_data",
          "data": {
            "application/javascript": [
              "window[\"481f0036-79e1-11ec-8afc-0242ac1c0002\"] = document.querySelector(\"#id14-3-0\");\n",
              "//# sourceURL=js_7d7861985c"
            ],
            "text/plain": [
              "<IPython.core.display.Javascript object>"
            ]
          },
          "metadata": {}
        },
        {
          "output_type": "display_data",
          "data": {
            "application/javascript": [
              "window[\"481f30d8-79e1-11ec-8afc-0242ac1c0002\"] = google.colab.output.setActiveOutputArea(window[\"481f0036-79e1-11ec-8afc-0242ac1c0002\"]);\n",
              "//# sourceURL=js_cd854999ba"
            ],
            "text/plain": [
              "<IPython.core.display.Javascript object>"
            ]
          },
          "metadata": {}
        },
        {
          "output_type": "stream",
          "name": "stdout",
          "text": [
            "Precipitación\n"
          ]
        },
        {
          "output_type": "display_data",
          "data": {
            "application/javascript": [
              "window[\"4820166a-79e1-11ec-8afc-0242ac1c0002\"] = google.colab.output.setActiveOutputArea(window[\"481ec94a-79e1-11ec-8afc-0242ac1c0002\"]);\n",
              "//# sourceURL=js_9c66b3986b"
            ],
            "text/plain": [
              "<IPython.core.display.Javascript object>"
            ]
          },
          "metadata": {}
        },
        {
          "output_type": "display_data",
          "data": {
            "application/javascript": [
              "window[\"48213d88-79e1-11ec-8afc-0242ac1c0002\"] = google.colab.output.getActiveOutputArea();\n",
              "//# sourceURL=js_150e6898d1"
            ],
            "text/plain": [
              "<IPython.core.display.Javascript object>"
            ]
          },
          "metadata": {}
        },
        {
          "output_type": "display_data",
          "data": {
            "application/javascript": [
              "window[\"48217488-79e1-11ec-8afc-0242ac1c0002\"] = document.querySelector(\"#id14-1-1\");\n",
              "//# sourceURL=js_aa1f7d436f"
            ],
            "text/plain": [
              "<IPython.core.display.Javascript object>"
            ]
          },
          "metadata": {}
        },
        {
          "output_type": "display_data",
          "data": {
            "application/javascript": [
              "window[\"4821a976-79e1-11ec-8afc-0242ac1c0002\"] = google.colab.output.setActiveOutputArea(window[\"48217488-79e1-11ec-8afc-0242ac1c0002\"]);\n",
              "//# sourceURL=js_8d8be5954b"
            ],
            "text/plain": [
              "<IPython.core.display.Javascript object>"
            ]
          },
          "metadata": {}
        },
        {
          "output_type": "stream",
          "name": "stdout",
          "text": [
            "0.25\n"
          ]
        },
        {
          "output_type": "display_data",
          "data": {
            "application/javascript": [
              "window[\"48226988-79e1-11ec-8afc-0242ac1c0002\"] = google.colab.output.setActiveOutputArea(window[\"48213d88-79e1-11ec-8afc-0242ac1c0002\"]);\n",
              "//# sourceURL=js_5ac579b4c3"
            ],
            "text/plain": [
              "<IPython.core.display.Javascript object>"
            ]
          },
          "metadata": {}
        },
        {
          "output_type": "display_data",
          "data": {
            "application/javascript": [
              "window[\"4823882c-79e1-11ec-8afc-0242ac1c0002\"] = google.colab.output.getActiveOutputArea();\n",
              "//# sourceURL=js_75137f3f40"
            ],
            "text/plain": [
              "<IPython.core.display.Javascript object>"
            ]
          },
          "metadata": {}
        },
        {
          "output_type": "display_data",
          "data": {
            "application/javascript": [
              "window[\"4823be32-79e1-11ec-8afc-0242ac1c0002\"] = document.querySelector(\"#id14-2-1\");\n",
              "//# sourceURL=js_17cd17eb30"
            ],
            "text/plain": [
              "<IPython.core.display.Javascript object>"
            ]
          },
          "metadata": {}
        },
        {
          "output_type": "display_data",
          "data": {
            "application/javascript": [
              "window[\"4823ece0-79e1-11ec-8afc-0242ac1c0002\"] = google.colab.output.setActiveOutputArea(window[\"4823be32-79e1-11ec-8afc-0242ac1c0002\"]);\n",
              "//# sourceURL=js_68ac3a01a3"
            ],
            "text/plain": [
              "<IPython.core.display.Javascript object>"
            ]
          },
          "metadata": {}
        },
        {
          "output_type": "stream",
          "name": "stdout",
          "text": [
            "2.021875\n"
          ]
        },
        {
          "output_type": "display_data",
          "data": {
            "application/javascript": [
              "window[\"4824d100-79e1-11ec-8afc-0242ac1c0002\"] = google.colab.output.setActiveOutputArea(window[\"4823882c-79e1-11ec-8afc-0242ac1c0002\"]);\n",
              "//# sourceURL=js_9e6925e37d"
            ],
            "text/plain": [
              "<IPython.core.display.Javascript object>"
            ]
          },
          "metadata": {}
        },
        {
          "output_type": "display_data",
          "data": {
            "application/javascript": [
              "window[\"48264ac6-79e1-11ec-8afc-0242ac1c0002\"] = google.colab.output.getActiveOutputArea();\n",
              "//# sourceURL=js_fe2ef9a2ae"
            ],
            "text/plain": [
              "<IPython.core.display.Javascript object>"
            ]
          },
          "metadata": {}
        },
        {
          "output_type": "display_data",
          "data": {
            "application/javascript": [
              "window[\"48267fd2-79e1-11ec-8afc-0242ac1c0002\"] = document.querySelector(\"#id14-3-1\");\n",
              "//# sourceURL=js_b8019ffe1d"
            ],
            "text/plain": [
              "<IPython.core.display.Javascript object>"
            ]
          },
          "metadata": {}
        },
        {
          "output_type": "display_data",
          "data": {
            "application/javascript": [
              "window[\"4826b31c-79e1-11ec-8afc-0242ac1c0002\"] = google.colab.output.setActiveOutputArea(window[\"48267fd2-79e1-11ec-8afc-0242ac1c0002\"]);\n",
              "//# sourceURL=js_1208c0df41"
            ],
            "text/plain": [
              "<IPython.core.display.Javascript object>"
            ]
          },
          "metadata": {}
        },
        {
          "output_type": "stream",
          "name": "stdout",
          "text": [
            "0.25\n"
          ]
        },
        {
          "output_type": "display_data",
          "data": {
            "application/javascript": [
              "window[\"482772de-79e1-11ec-8afc-0242ac1c0002\"] = google.colab.output.setActiveOutputArea(window[\"48264ac6-79e1-11ec-8afc-0242ac1c0002\"]);\n",
              "//# sourceURL=js_4f4b6dba0a"
            ],
            "text/plain": [
              "<IPython.core.display.Javascript object>"
            ]
          },
          "metadata": {}
        },
        {
          "output_type": "display_data",
          "data": {
            "application/javascript": [
              "window[\"4828ac1c-79e1-11ec-8afc-0242ac1c0002\"] = google.colab.output.getActiveOutputArea();\n",
              "//# sourceURL=js_64b361058e"
            ],
            "text/plain": [
              "<IPython.core.display.Javascript object>"
            ]
          },
          "metadata": {}
        },
        {
          "output_type": "display_data",
          "data": {
            "application/javascript": [
              "window[\"4828e1f0-79e1-11ec-8afc-0242ac1c0002\"] = document.querySelector(\"#id14-0-1\");\n",
              "//# sourceURL=js_2ef808b761"
            ],
            "text/plain": [
              "<IPython.core.display.Javascript object>"
            ]
          },
          "metadata": {}
        },
        {
          "output_type": "display_data",
          "data": {
            "application/javascript": [
              "window[\"48290fea-79e1-11ec-8afc-0242ac1c0002\"] = google.colab.output.setActiveOutputArea(window[\"4828e1f0-79e1-11ec-8afc-0242ac1c0002\"]);\n",
              "//# sourceURL=js_8e7c2c0825"
            ],
            "text/plain": [
              "<IPython.core.display.Javascript object>"
            ]
          },
          "metadata": {}
        },
        {
          "output_type": "stream",
          "name": "stdout",
          "text": [
            "Beneficio real - Beneficio esperado\n"
          ]
        },
        {
          "output_type": "display_data",
          "data": {
            "application/javascript": [
              "window[\"4829ecc6-79e1-11ec-8afc-0242ac1c0002\"] = google.colab.output.setActiveOutputArea(window[\"4828ac1c-79e1-11ec-8afc-0242ac1c0002\"]);\n",
              "//# sourceURL=js_d7b86ec8de"
            ],
            "text/plain": [
              "<IPython.core.display.Javascript object>"
            ]
          },
          "metadata": {}
        },
        {
          "output_type": "display_data",
          "data": {
            "application/javascript": [
              "window[\"482b651a-79e1-11ec-8afc-0242ac1c0002\"] = google.colab.output.getActiveOutputArea();\n",
              "//# sourceURL=js_c539d942c4"
            ],
            "text/plain": [
              "<IPython.core.display.Javascript object>"
            ]
          },
          "metadata": {}
        },
        {
          "output_type": "display_data",
          "data": {
            "application/javascript": [
              "window[\"482bd7a2-79e1-11ec-8afc-0242ac1c0002\"] = document.querySelector(\"#id14-0-2\");\n",
              "//# sourceURL=js_2bc24bc4b3"
            ],
            "text/plain": [
              "<IPython.core.display.Javascript object>"
            ]
          },
          "metadata": {}
        },
        {
          "output_type": "display_data",
          "data": {
            "application/javascript": [
              "window[\"482df794-79e1-11ec-8afc-0242ac1c0002\"] = google.colab.output.setActiveOutputArea(window[\"482bd7a2-79e1-11ec-8afc-0242ac1c0002\"]);\n",
              "//# sourceURL=js_504b1bb828"
            ],
            "text/plain": [
              "<IPython.core.display.Javascript object>"
            ]
          },
          "metadata": {}
        },
        {
          "output_type": "stream",
          "name": "stdout",
          "text": [
            "Influencia\n"
          ]
        },
        {
          "output_type": "display_data",
          "data": {
            "application/javascript": [
              "window[\"4836a498-79e1-11ec-8afc-0242ac1c0002\"] = google.colab.output.setActiveOutputArea(window[\"482b651a-79e1-11ec-8afc-0242ac1c0002\"]);\n",
              "//# sourceURL=js_1da768c5c4"
            ],
            "text/plain": [
              "<IPython.core.display.Javascript object>"
            ]
          },
          "metadata": {}
        },
        {
          "output_type": "display_data",
          "data": {
            "application/javascript": [
              "window[\"4847982a-79e1-11ec-8afc-0242ac1c0002\"] = google.colab.output.getActiveOutputArea();\n",
              "//# sourceURL=js_b34e0b7716"
            ],
            "text/plain": [
              "<IPython.core.display.Javascript object>"
            ]
          },
          "metadata": {}
        },
        {
          "output_type": "display_data",
          "data": {
            "application/javascript": [
              "window[\"48489284-79e1-11ec-8afc-0242ac1c0002\"] = document.querySelector(\"#id14-1-2\");\n",
              "//# sourceURL=js_b679ae7b01"
            ],
            "text/plain": [
              "<IPython.core.display.Javascript object>"
            ]
          },
          "metadata": {}
        },
        {
          "output_type": "display_data",
          "data": {
            "application/javascript": [
              "window[\"484a315c-79e1-11ec-8afc-0242ac1c0002\"] = google.colab.output.setActiveOutputArea(window[\"48489284-79e1-11ec-8afc-0242ac1c0002\"]);\n",
              "//# sourceURL=js_a2a694d11f"
            ],
            "text/plain": [
              "<IPython.core.display.Javascript object>"
            ]
          },
          "metadata": {}
        },
        {
          "output_type": "stream",
          "name": "stdout",
          "text": [
            "positive\n"
          ]
        },
        {
          "output_type": "display_data",
          "data": {
            "application/javascript": [
              "window[\"48532870-79e1-11ec-8afc-0242ac1c0002\"] = google.colab.output.setActiveOutputArea(window[\"4847982a-79e1-11ec-8afc-0242ac1c0002\"]);\n",
              "//# sourceURL=js_42eac89774"
            ],
            "text/plain": [
              "<IPython.core.display.Javascript object>"
            ]
          },
          "metadata": {}
        },
        {
          "output_type": "display_data",
          "data": {
            "application/javascript": [
              "window[\"48618258-79e1-11ec-8afc-0242ac1c0002\"] = google.colab.output.getActiveOutputArea();\n",
              "//# sourceURL=js_02aef2a63a"
            ],
            "text/plain": [
              "<IPython.core.display.Javascript object>"
            ]
          },
          "metadata": {}
        },
        {
          "output_type": "display_data",
          "data": {
            "application/javascript": [
              "window[\"4861d672-79e1-11ec-8afc-0242ac1c0002\"] = document.querySelector(\"#id14-2-2\");\n",
              "//# sourceURL=js_a206aa1f9e"
            ],
            "text/plain": [
              "<IPython.core.display.Javascript object>"
            ]
          },
          "metadata": {}
        },
        {
          "output_type": "display_data",
          "data": {
            "application/javascript": [
              "window[\"4862c0be-79e1-11ec-8afc-0242ac1c0002\"] = google.colab.output.setActiveOutputArea(window[\"4861d672-79e1-11ec-8afc-0242ac1c0002\"]);\n",
              "//# sourceURL=js_5288bfe4ed"
            ],
            "text/plain": [
              "<IPython.core.display.Javascript object>"
            ]
          },
          "metadata": {}
        },
        {
          "output_type": "stream",
          "name": "stdout",
          "text": [
            "positive\n"
          ]
        },
        {
          "output_type": "display_data",
          "data": {
            "application/javascript": [
              "window[\"48644d6c-79e1-11ec-8afc-0242ac1c0002\"] = google.colab.output.setActiveOutputArea(window[\"48618258-79e1-11ec-8afc-0242ac1c0002\"]);\n",
              "//# sourceURL=js_3cdf73bfaf"
            ],
            "text/plain": [
              "<IPython.core.display.Javascript object>"
            ]
          },
          "metadata": {}
        },
        {
          "output_type": "display_data",
          "data": {
            "application/javascript": [
              "window[\"48667060-79e1-11ec-8afc-0242ac1c0002\"] = google.colab.output.getActiveOutputArea();\n",
              "//# sourceURL=js_4fd27776d3"
            ],
            "text/plain": [
              "<IPython.core.display.Javascript object>"
            ]
          },
          "metadata": {}
        },
        {
          "output_type": "display_data",
          "data": {
            "application/javascript": [
              "window[\"4866b174-79e1-11ec-8afc-0242ac1c0002\"] = document.querySelector(\"#id14-3-2\");\n",
              "//# sourceURL=js_dcb1fb3983"
            ],
            "text/plain": [
              "<IPython.core.display.Javascript object>"
            ]
          },
          "metadata": {}
        },
        {
          "output_type": "display_data",
          "data": {
            "application/javascript": [
              "window[\"4866e9c8-79e1-11ec-8afc-0242ac1c0002\"] = google.colab.output.setActiveOutputArea(window[\"4866b174-79e1-11ec-8afc-0242ac1c0002\"]);\n",
              "//# sourceURL=js_fcd0d8e402"
            ],
            "text/plain": [
              "<IPython.core.display.Javascript object>"
            ]
          },
          "metadata": {}
        },
        {
          "output_type": "stream",
          "name": "stdout",
          "text": [
            "positive\n"
          ]
        },
        {
          "output_type": "display_data",
          "data": {
            "application/javascript": [
              "window[\"4868e264-79e1-11ec-8afc-0242ac1c0002\"] = google.colab.output.setActiveOutputArea(window[\"48667060-79e1-11ec-8afc-0242ac1c0002\"]);\n",
              "//# sourceURL=js_942ae29806"
            ],
            "text/plain": [
              "<IPython.core.display.Javascript object>"
            ]
          },
          "metadata": {}
        },
        {
          "output_type": "stream",
          "name": "stdout",
          "text": [
            "Diferencia de beneficios\n"
          ]
        },
        {
          "output_type": "display_data",
          "data": {
            "text/html": [
              "<style>\n",
              "       table#id16, #id16 > tbody > tr > th, #id16 > tbody > tr > td {\n",
              "         border: 1px solid lightgray;\n",
              "         border-collapse:collapse;\n",
              "         \n",
              "        }</style>"
            ],
            "text/plain": [
              "<IPython.core.display.HTML object>"
            ]
          },
          "metadata": {}
        },
        {
          "output_type": "display_data",
          "data": {
            "text/html": [
              "<table id=id16><tr><th id=id16-0-0></th><th id=id16-0-1></th><th id=id16-0-2></th></tr><tr><th id=id16-1-0></th><td id=id16-1-1></td><td id=id16-1-2></td></tr><tr><th id=id16-2-0></th><td id=id16-2-1></td><td id=id16-2-2></td></tr><tr><th id=id16-3-0></th><td id=id16-3-1></td><td id=id16-3-2></td></tr></table>"
            ],
            "text/plain": [
              "<IPython.core.display.HTML object>"
            ]
          },
          "metadata": {}
        },
        {
          "output_type": "display_data",
          "data": {
            "application/javascript": [
              "window[\"48773dd2-79e1-11ec-8afc-0242ac1c0002\"] = google.colab.output.getActiveOutputArea();\n",
              "//# sourceURL=js_2d40356578"
            ],
            "text/plain": [
              "<IPython.core.display.Javascript object>"
            ]
          },
          "metadata": {}
        },
        {
          "output_type": "display_data",
          "data": {
            "application/javascript": [
              "window[\"48778d46-79e1-11ec-8afc-0242ac1c0002\"] = document.querySelector(\"#id16-0-0\");\n",
              "//# sourceURL=js_0825692457"
            ],
            "text/plain": [
              "<IPython.core.display.Javascript object>"
            ]
          },
          "metadata": {}
        },
        {
          "output_type": "display_data",
          "data": {
            "application/javascript": [
              "window[\"4877d530-79e1-11ec-8afc-0242ac1c0002\"] = google.colab.output.setActiveOutputArea(window[\"48778d46-79e1-11ec-8afc-0242ac1c0002\"]);\n",
              "//# sourceURL=js_0700bcbaec"
            ],
            "text/plain": [
              "<IPython.core.display.Javascript object>"
            ]
          },
          "metadata": {}
        },
        {
          "output_type": "stream",
          "name": "stdout",
          "text": [
            "Característica que falta\n"
          ]
        },
        {
          "output_type": "display_data",
          "data": {
            "application/javascript": [
              "window[\"4878f0be-79e1-11ec-8afc-0242ac1c0002\"] = google.colab.output.setActiveOutputArea(window[\"48773dd2-79e1-11ec-8afc-0242ac1c0002\"]);\n",
              "//# sourceURL=js_1c95c0d422"
            ],
            "text/plain": [
              "<IPython.core.display.Javascript object>"
            ]
          },
          "metadata": {}
        },
        {
          "output_type": "display_data",
          "data": {
            "application/javascript": [
              "window[\"487a33e8-79e1-11ec-8afc-0242ac1c0002\"] = google.colab.output.getActiveOutputArea();\n",
              "//# sourceURL=js_e54a6e41a6"
            ],
            "text/plain": [
              "<IPython.core.display.Javascript object>"
            ]
          },
          "metadata": {}
        },
        {
          "output_type": "display_data",
          "data": {
            "application/javascript": [
              "window[\"487a7024-79e1-11ec-8afc-0242ac1c0002\"] = document.querySelector(\"#id16-1-0\");\n",
              "//# sourceURL=js_5ef3ef8644"
            ],
            "text/plain": [
              "<IPython.core.display.Javascript object>"
            ]
          },
          "metadata": {}
        },
        {
          "output_type": "display_data",
          "data": {
            "application/javascript": [
              "window[\"487aabc0-79e1-11ec-8afc-0242ac1c0002\"] = google.colab.output.setActiveOutputArea(window[\"487a7024-79e1-11ec-8afc-0242ac1c0002\"]);\n",
              "//# sourceURL=js_e19b19dfbe"
            ],
            "text/plain": [
              "<IPython.core.display.Javascript object>"
            ]
          },
          "metadata": {}
        },
        {
          "output_type": "stream",
          "name": "stdout",
          "text": [
            "Mes\n"
          ]
        },
        {
          "output_type": "display_data",
          "data": {
            "application/javascript": [
              "window[\"487b90d0-79e1-11ec-8afc-0242ac1c0002\"] = google.colab.output.setActiveOutputArea(window[\"487a33e8-79e1-11ec-8afc-0242ac1c0002\"]);\n",
              "//# sourceURL=js_d21ca58a1b"
            ],
            "text/plain": [
              "<IPython.core.display.Javascript object>"
            ]
          },
          "metadata": {}
        },
        {
          "output_type": "display_data",
          "data": {
            "application/javascript": [
              "window[\"487cca72-79e1-11ec-8afc-0242ac1c0002\"] = google.colab.output.getActiveOutputArea();\n",
              "//# sourceURL=js_1c05298a68"
            ],
            "text/plain": [
              "<IPython.core.display.Javascript object>"
            ]
          },
          "metadata": {}
        },
        {
          "output_type": "display_data",
          "data": {
            "application/javascript": [
              "window[\"487d01ea-79e1-11ec-8afc-0242ac1c0002\"] = document.querySelector(\"#id16-2-0\");\n",
              "//# sourceURL=js_f1664be58d"
            ],
            "text/plain": [
              "<IPython.core.display.Javascript object>"
            ]
          },
          "metadata": {}
        },
        {
          "output_type": "display_data",
          "data": {
            "application/javascript": [
              "window[\"487d37e6-79e1-11ec-8afc-0242ac1c0002\"] = google.colab.output.setActiveOutputArea(window[\"487d01ea-79e1-11ec-8afc-0242ac1c0002\"]);\n",
              "//# sourceURL=js_9824d1c3b2"
            ],
            "text/plain": [
              "<IPython.core.display.Javascript object>"
            ]
          },
          "metadata": {}
        },
        {
          "output_type": "stream",
          "name": "stdout",
          "text": [
            "Temperatura\n"
          ]
        },
        {
          "output_type": "display_data",
          "data": {
            "application/javascript": [
              "window[\"487dfcee-79e1-11ec-8afc-0242ac1c0002\"] = google.colab.output.setActiveOutputArea(window[\"487cca72-79e1-11ec-8afc-0242ac1c0002\"]);\n",
              "//# sourceURL=js_acfbc50e37"
            ],
            "text/plain": [
              "<IPython.core.display.Javascript object>"
            ]
          },
          "metadata": {}
        },
        {
          "output_type": "display_data",
          "data": {
            "application/javascript": [
              "window[\"487f2178-79e1-11ec-8afc-0242ac1c0002\"] = google.colab.output.getActiveOutputArea();\n",
              "//# sourceURL=js_7d1acc2bbf"
            ],
            "text/plain": [
              "<IPython.core.display.Javascript object>"
            ]
          },
          "metadata": {}
        },
        {
          "output_type": "display_data",
          "data": {
            "application/javascript": [
              "window[\"48811910-79e1-11ec-8afc-0242ac1c0002\"] = document.querySelector(\"#id16-3-0\");\n",
              "//# sourceURL=js_e2a6fd0f0a"
            ],
            "text/plain": [
              "<IPython.core.display.Javascript object>"
            ]
          },
          "metadata": {}
        },
        {
          "output_type": "display_data",
          "data": {
            "application/javascript": [
              "window[\"4883665c-79e1-11ec-8afc-0242ac1c0002\"] = google.colab.output.setActiveOutputArea(window[\"48811910-79e1-11ec-8afc-0242ac1c0002\"]);\n",
              "//# sourceURL=js_920ffa744f"
            ],
            "text/plain": [
              "<IPython.core.display.Javascript object>"
            ]
          },
          "metadata": {}
        },
        {
          "output_type": "stream",
          "name": "stdout",
          "text": [
            "Precipitación\n"
          ]
        },
        {
          "output_type": "display_data",
          "data": {
            "application/javascript": [
              "window[\"4887df7a-79e1-11ec-8afc-0242ac1c0002\"] = google.colab.output.setActiveOutputArea(window[\"487f2178-79e1-11ec-8afc-0242ac1c0002\"]);\n",
              "//# sourceURL=js_2215a391ad"
            ],
            "text/plain": [
              "<IPython.core.display.Javascript object>"
            ]
          },
          "metadata": {}
        },
        {
          "output_type": "display_data",
          "data": {
            "application/javascript": [
              "window[\"488d62e2-79e1-11ec-8afc-0242ac1c0002\"] = google.colab.output.getActiveOutputArea();\n",
              "//# sourceURL=js_5e34773e58"
            ],
            "text/plain": [
              "<IPython.core.display.Javascript object>"
            ]
          },
          "metadata": {}
        },
        {
          "output_type": "display_data",
          "data": {
            "application/javascript": [
              "window[\"488dc11a-79e1-11ec-8afc-0242ac1c0002\"] = document.querySelector(\"#id16-1-1\");\n",
              "//# sourceURL=js_31c566a19d"
            ],
            "text/plain": [
              "<IPython.core.display.Javascript object>"
            ]
          },
          "metadata": {}
        },
        {
          "output_type": "display_data",
          "data": {
            "application/javascript": [
              "window[\"488e4266-79e1-11ec-8afc-0242ac1c0002\"] = google.colab.output.setActiveOutputArea(window[\"488dc11a-79e1-11ec-8afc-0242ac1c0002\"]);\n",
              "//# sourceURL=js_51694f7a07"
            ],
            "text/plain": [
              "<IPython.core.display.Javascript object>"
            ]
          },
          "metadata": {}
        },
        {
          "output_type": "stream",
          "name": "stdout",
          "text": [
            "0.25\n"
          ]
        },
        {
          "output_type": "display_data",
          "data": {
            "application/javascript": [
              "window[\"4890722a-79e1-11ec-8afc-0242ac1c0002\"] = google.colab.output.setActiveOutputArea(window[\"488d62e2-79e1-11ec-8afc-0242ac1c0002\"]);\n",
              "//# sourceURL=js_c33a37fda3"
            ],
            "text/plain": [
              "<IPython.core.display.Javascript object>"
            ]
          },
          "metadata": {}
        },
        {
          "output_type": "display_data",
          "data": {
            "application/javascript": [
              "window[\"48935896-79e1-11ec-8afc-0242ac1c0002\"] = google.colab.output.getActiveOutputArea();\n",
              "//# sourceURL=js_ac2a9532cf"
            ],
            "text/plain": [
              "<IPython.core.display.Javascript object>"
            ]
          },
          "metadata": {}
        },
        {
          "output_type": "display_data",
          "data": {
            "application/javascript": [
              "window[\"4893a6de-79e1-11ec-8afc-0242ac1c0002\"] = document.querySelector(\"#id16-2-1\");\n",
              "//# sourceURL=js_db5acaf9f7"
            ],
            "text/plain": [
              "<IPython.core.display.Javascript object>"
            ]
          },
          "metadata": {}
        },
        {
          "output_type": "display_data",
          "data": {
            "application/javascript": [
              "window[\"4894788e-79e1-11ec-8afc-0242ac1c0002\"] = google.colab.output.setActiveOutputArea(window[\"4893a6de-79e1-11ec-8afc-0242ac1c0002\"]);\n",
              "//# sourceURL=js_29b8965eb9"
            ],
            "text/plain": [
              "<IPython.core.display.Javascript object>"
            ]
          },
          "metadata": {}
        },
        {
          "output_type": "stream",
          "name": "stdout",
          "text": [
            "1.3656249999999996\n"
          ]
        },
        {
          "output_type": "display_data",
          "data": {
            "application/javascript": [
              "window[\"48960ae6-79e1-11ec-8afc-0242ac1c0002\"] = google.colab.output.setActiveOutputArea(window[\"48935896-79e1-11ec-8afc-0242ac1c0002\"]);\n",
              "//# sourceURL=js_d400a2287f"
            ],
            "text/plain": [
              "<IPython.core.display.Javascript object>"
            ]
          },
          "metadata": {}
        },
        {
          "output_type": "display_data",
          "data": {
            "application/javascript": [
              "window[\"48989e8c-79e1-11ec-8afc-0242ac1c0002\"] = google.colab.output.getActiveOutputArea();\n",
              "//# sourceURL=js_142dd9689d"
            ],
            "text/plain": [
              "<IPython.core.display.Javascript object>"
            ]
          },
          "metadata": {}
        },
        {
          "output_type": "display_data",
          "data": {
            "application/javascript": [
              "window[\"48995f48-79e1-11ec-8afc-0242ac1c0002\"] = document.querySelector(\"#id16-3-1\");\n",
              "//# sourceURL=js_6614c1b9b5"
            ],
            "text/plain": [
              "<IPython.core.display.Javascript object>"
            ]
          },
          "metadata": {}
        },
        {
          "output_type": "display_data",
          "data": {
            "application/javascript": [
              "window[\"4899cfe6-79e1-11ec-8afc-0242ac1c0002\"] = google.colab.output.setActiveOutputArea(window[\"48995f48-79e1-11ec-8afc-0242ac1c0002\"]);\n",
              "//# sourceURL=js_e7a88518c4"
            ],
            "text/plain": [
              "<IPython.core.display.Javascript object>"
            ]
          },
          "metadata": {}
        },
        {
          "output_type": "stream",
          "name": "stdout",
          "text": [
            "0.25\n"
          ]
        },
        {
          "output_type": "display_data",
          "data": {
            "application/javascript": [
              "window[\"489c42a8-79e1-11ec-8afc-0242ac1c0002\"] = google.colab.output.setActiveOutputArea(window[\"48989e8c-79e1-11ec-8afc-0242ac1c0002\"]);\n",
              "//# sourceURL=js_015daa8c78"
            ],
            "text/plain": [
              "<IPython.core.display.Javascript object>"
            ]
          },
          "metadata": {}
        },
        {
          "output_type": "display_data",
          "data": {
            "application/javascript": [
              "window[\"489f7068-79e1-11ec-8afc-0242ac1c0002\"] = google.colab.output.getActiveOutputArea();\n",
              "//# sourceURL=js_bfe1122b92"
            ],
            "text/plain": [
              "<IPython.core.display.Javascript object>"
            ]
          },
          "metadata": {}
        },
        {
          "output_type": "display_data",
          "data": {
            "application/javascript": [
              "window[\"489ff7e0-79e1-11ec-8afc-0242ac1c0002\"] = document.querySelector(\"#id16-0-1\");\n",
              "//# sourceURL=js_f73cb28b7f"
            ],
            "text/plain": [
              "<IPython.core.display.Javascript object>"
            ]
          },
          "metadata": {}
        },
        {
          "output_type": "display_data",
          "data": {
            "application/javascript": [
              "window[\"48a04d94-79e1-11ec-8afc-0242ac1c0002\"] = google.colab.output.setActiveOutputArea(window[\"489ff7e0-79e1-11ec-8afc-0242ac1c0002\"]);\n",
              "//# sourceURL=js_2ed00455f5"
            ],
            "text/plain": [
              "<IPython.core.display.Javascript object>"
            ]
          },
          "metadata": {}
        },
        {
          "output_type": "stream",
          "name": "stdout",
          "text": [
            "Beneficio real - Beneficio esperado\n"
          ]
        },
        {
          "output_type": "display_data",
          "data": {
            "application/javascript": [
              "window[\"48a2527e-79e1-11ec-8afc-0242ac1c0002\"] = google.colab.output.setActiveOutputArea(window[\"489f7068-79e1-11ec-8afc-0242ac1c0002\"]);\n",
              "//# sourceURL=js_c69b0cdfe3"
            ],
            "text/plain": [
              "<IPython.core.display.Javascript object>"
            ]
          },
          "metadata": {}
        },
        {
          "output_type": "display_data",
          "data": {
            "application/javascript": [
              "window[\"48a51022-79e1-11ec-8afc-0242ac1c0002\"] = google.colab.output.getActiveOutputArea();\n",
              "//# sourceURL=js_5c1c0e3d8d"
            ],
            "text/plain": [
              "<IPython.core.display.Javascript object>"
            ]
          },
          "metadata": {}
        },
        {
          "output_type": "display_data",
          "data": {
            "application/javascript": [
              "window[\"48a56162-79e1-11ec-8afc-0242ac1c0002\"] = document.querySelector(\"#id16-0-2\");\n",
              "//# sourceURL=js_5637882ef2"
            ],
            "text/plain": [
              "<IPython.core.display.Javascript object>"
            ]
          },
          "metadata": {}
        },
        {
          "output_type": "display_data",
          "data": {
            "application/javascript": [
              "window[\"48a5ed1c-79e1-11ec-8afc-0242ac1c0002\"] = google.colab.output.setActiveOutputArea(window[\"48a56162-79e1-11ec-8afc-0242ac1c0002\"]);\n",
              "//# sourceURL=js_7fc442a50a"
            ],
            "text/plain": [
              "<IPython.core.display.Javascript object>"
            ]
          },
          "metadata": {}
        },
        {
          "output_type": "stream",
          "name": "stdout",
          "text": [
            "Influencia\n"
          ]
        },
        {
          "output_type": "display_data",
          "data": {
            "application/javascript": [
              "window[\"48a7b3e0-79e1-11ec-8afc-0242ac1c0002\"] = google.colab.output.setActiveOutputArea(window[\"48a51022-79e1-11ec-8afc-0242ac1c0002\"]);\n",
              "//# sourceURL=js_3db2773f51"
            ],
            "text/plain": [
              "<IPython.core.display.Javascript object>"
            ]
          },
          "metadata": {}
        },
        {
          "output_type": "display_data",
          "data": {
            "application/javascript": [
              "window[\"48aa2134-79e1-11ec-8afc-0242ac1c0002\"] = google.colab.output.getActiveOutputArea();\n",
              "//# sourceURL=js_3f1c0d66c6"
            ],
            "text/plain": [
              "<IPython.core.display.Javascript object>"
            ]
          },
          "metadata": {}
        },
        {
          "output_type": "display_data",
          "data": {
            "application/javascript": [
              "window[\"48aa71ac-79e1-11ec-8afc-0242ac1c0002\"] = document.querySelector(\"#id16-1-2\");\n",
              "//# sourceURL=js_2ed9394923"
            ],
            "text/plain": [
              "<IPython.core.display.Javascript object>"
            ]
          },
          "metadata": {}
        },
        {
          "output_type": "display_data",
          "data": {
            "application/javascript": [
              "window[\"48ab82a4-79e1-11ec-8afc-0242ac1c0002\"] = google.colab.output.setActiveOutputArea(window[\"48aa71ac-79e1-11ec-8afc-0242ac1c0002\"]);\n",
              "//# sourceURL=js_eb4390c3d2"
            ],
            "text/plain": [
              "<IPython.core.display.Javascript object>"
            ]
          },
          "metadata": {}
        },
        {
          "output_type": "stream",
          "name": "stdout",
          "text": [
            "positive\n"
          ]
        },
        {
          "output_type": "display_data",
          "data": {
            "application/javascript": [
              "window[\"48ad5746-79e1-11ec-8afc-0242ac1c0002\"] = google.colab.output.setActiveOutputArea(window[\"48aa2134-79e1-11ec-8afc-0242ac1c0002\"]);\n",
              "//# sourceURL=js_c8793b4381"
            ],
            "text/plain": [
              "<IPython.core.display.Javascript object>"
            ]
          },
          "metadata": {}
        },
        {
          "output_type": "display_data",
          "data": {
            "application/javascript": [
              "window[\"48afc396-79e1-11ec-8afc-0242ac1c0002\"] = google.colab.output.getActiveOutputArea();\n",
              "//# sourceURL=js_be7ff1ccd6"
            ],
            "text/plain": [
              "<IPython.core.display.Javascript object>"
            ]
          },
          "metadata": {}
        },
        {
          "output_type": "display_data",
          "data": {
            "application/javascript": [
              "window[\"48b0437a-79e1-11ec-8afc-0242ac1c0002\"] = document.querySelector(\"#id16-2-2\");\n",
              "//# sourceURL=js_a37449c0ca"
            ],
            "text/plain": [
              "<IPython.core.display.Javascript object>"
            ]
          },
          "metadata": {}
        },
        {
          "output_type": "display_data",
          "data": {
            "application/javascript": [
              "window[\"48b0a1e4-79e1-11ec-8afc-0242ac1c0002\"] = google.colab.output.setActiveOutputArea(window[\"48b0437a-79e1-11ec-8afc-0242ac1c0002\"]);\n",
              "//# sourceURL=js_bb12265b79"
            ],
            "text/plain": [
              "<IPython.core.display.Javascript object>"
            ]
          },
          "metadata": {}
        },
        {
          "output_type": "stream",
          "name": "stdout",
          "text": [
            "positive\n"
          ]
        },
        {
          "output_type": "display_data",
          "data": {
            "application/javascript": [
              "window[\"48b1e90a-79e1-11ec-8afc-0242ac1c0002\"] = google.colab.output.setActiveOutputArea(window[\"48afc396-79e1-11ec-8afc-0242ac1c0002\"]);\n",
              "//# sourceURL=js_34c3505f68"
            ],
            "text/plain": [
              "<IPython.core.display.Javascript object>"
            ]
          },
          "metadata": {}
        },
        {
          "output_type": "display_data",
          "data": {
            "application/javascript": [
              "window[\"48b388be-79e1-11ec-8afc-0242ac1c0002\"] = google.colab.output.getActiveOutputArea();\n",
              "//# sourceURL=js_3becc5f582"
            ],
            "text/plain": [
              "<IPython.core.display.Javascript object>"
            ]
          },
          "metadata": {}
        },
        {
          "output_type": "display_data",
          "data": {
            "application/javascript": [
              "window[\"48b3c9be-79e1-11ec-8afc-0242ac1c0002\"] = document.querySelector(\"#id16-3-2\");\n",
              "//# sourceURL=js_fd07407e13"
            ],
            "text/plain": [
              "<IPython.core.display.Javascript object>"
            ]
          },
          "metadata": {}
        },
        {
          "output_type": "display_data",
          "data": {
            "application/javascript": [
              "window[\"48b40b90-79e1-11ec-8afc-0242ac1c0002\"] = google.colab.output.setActiveOutputArea(window[\"48b3c9be-79e1-11ec-8afc-0242ac1c0002\"]);\n",
              "//# sourceURL=js_5709e85a76"
            ],
            "text/plain": [
              "<IPython.core.display.Javascript object>"
            ]
          },
          "metadata": {}
        },
        {
          "output_type": "stream",
          "name": "stdout",
          "text": [
            "positive\n"
          ]
        },
        {
          "output_type": "display_data",
          "data": {
            "application/javascript": [
              "window[\"48b5244e-79e1-11ec-8afc-0242ac1c0002\"] = google.colab.output.setActiveOutputArea(window[\"48b388be-79e1-11ec-8afc-0242ac1c0002\"]);\n",
              "//# sourceURL=js_f2e43c680b"
            ],
            "text/plain": [
              "<IPython.core.display.Javascript object>"
            ]
          },
          "metadata": {}
        }
      ]
    },
    {
      "cell_type": "markdown",
      "source": [
        "Como se puede observar, al cambiar una única característica no afecta a su propia influencia sino a la inflluencia de las otras 2 características. Esto es debido a que si en la realidad hubiese cambiado el valor de una característica, también habría cambiado el valor del precio por kilogramo obtenido en ese cultivo. Sin embarrgo, en nuestros ejemplos el precio por kilogramo permanece constante."
      ],
      "metadata": {
        "id": "IOUVPQ3Xbsxx"
      }
    },
    {
      "cell_type": "markdown",
      "source": [
        "### 4.3 Entrada del usuario"
      ],
      "metadata": {
        "id": "sfnA6s6rVjVC"
      }
    },
    {
      "cell_type": "markdown",
      "source": [
        "A continuación, haciendo uso de *sliders* de colab, se ha creado una pequeña interfaz para que el usuario pueda introducir los datos. Introduciendo el mes, la región, la precipitación y la temperatura, se mostrará la influencia de los tres factores: a saber temperatura, mes y precipitación."
      ],
      "metadata": {
        "id": "d4y9FiBMgNfq"
      }
    },
    {
      "cell_type": "code",
      "source": [
        "month = 7 #@param {type:\"slider\", min:1, max:12}\n",
        "temperature = 37.13 #@param {type:\"slider\", min:-20, max:47, step:0.01}\n",
        "precipitacion_group = 0 #@param {type:\"slider\", min:0.0, max:2.0, step:1.0}\n",
        "product = \"GUISANTE\" #@param [\"ACELGA\", \"AJO\", \"ALCACHOFA\", \"APIO\", \"BERENJENA\", \"BROCOLI\", \"CALABACIN\", \"CALABAZA\", \"CEBOLLA\", \"CEBOLLETA\", \"CHIRIVIA\", \"COL BRUSELAS\", \"COL CHINA\", \"COL LOMBARDA\", \"COL REPOLLO\", \"COLIFLOR\", \"ESCAROLA\", \"ESPINACA\", \"GUISANTE\", \"HABA\", \"JUDIA\", \"LECHUGA\", \"MAIZ\", \"MELON\", \"NABO\", \"PATATA\", \"PEPINO\", \"PEREJIL\", \"PIMIENTO\", \"PUERRO\", \"RABANITO\", \"REMOLACHA\", \"SANDIA\", \"TOMATE\", \"ZANAHORIA\"]\n",
        "origen = \"Castilla La Mancha\" #@param [\"Andalucia\", \"Aragon\", \"Asturias\", \"Baleares\", \"Canarias\", \"Cantabria\", \"Castilla La Mancha\", \"Castilla Leon\", \"Cataluña\", \"Extremadura\", \"Galicia\", \"La Rioja\", \"Madrid\", \"Murcia\", \"Navarra\", \"Pais Vasco\", \"Valencia\"]\n",
        "price_max_recolec = 2.37 #@param {type:\"slider\", min:0.0, max:10.0, step:0.01}\n",
        "\n",
        "checkInfluence(month, temperature, float(precipitacion_group), product, origen, price_max_recolec)"
      ],
      "metadata": {
        "colab": {
          "base_uri": "https://localhost:8080/",
          "height": 117
        },
        "id": "hbJNqD78KgO-",
        "outputId": "8957d27c-0396-4da8-a70a-3f5956cd8c4b"
      },
      "execution_count": 65,
      "outputs": [
        {
          "output_type": "stream",
          "name": "stdout",
          "text": [
            "Diferencia de beneficios\n"
          ]
        },
        {
          "output_type": "display_data",
          "data": {
            "text/html": [
              "<style>\n",
              "       table#id18, #id18 > tbody > tr > th, #id18 > tbody > tr > td {\n",
              "         border: 1px solid lightgray;\n",
              "         border-collapse:collapse;\n",
              "         \n",
              "        }</style>"
            ],
            "text/plain": [
              "<IPython.core.display.HTML object>"
            ]
          },
          "metadata": {}
        },
        {
          "output_type": "display_data",
          "data": {
            "text/html": [
              "<table id=id18><tr><th id=id18-0-0></th><th id=id18-0-1></th><th id=id18-0-2></th></tr><tr><th id=id18-1-0></th><td id=id18-1-1></td><td id=id18-1-2></td></tr><tr><th id=id18-2-0></th><td id=id18-2-1></td><td id=id18-2-2></td></tr><tr><th id=id18-3-0></th><td id=id18-3-1></td><td id=id18-3-2></td></tr></table>"
            ],
            "text/plain": [
              "<IPython.core.display.HTML object>"
            ]
          },
          "metadata": {}
        },
        {
          "output_type": "display_data",
          "data": {
            "application/javascript": [
              "window[\"48c6b2cc-79e1-11ec-8afc-0242ac1c0002\"] = google.colab.output.getActiveOutputArea();\n",
              "//# sourceURL=js_6f70b89fd9"
            ],
            "text/plain": [
              "<IPython.core.display.Javascript object>"
            ]
          },
          "metadata": {}
        },
        {
          "output_type": "display_data",
          "data": {
            "application/javascript": [
              "window[\"48c74db8-79e1-11ec-8afc-0242ac1c0002\"] = document.querySelector(\"#id18-0-0\");\n",
              "//# sourceURL=js_789327abf1"
            ],
            "text/plain": [
              "<IPython.core.display.Javascript object>"
            ]
          },
          "metadata": {}
        },
        {
          "output_type": "display_data",
          "data": {
            "application/javascript": [
              "window[\"48c7a4de-79e1-11ec-8afc-0242ac1c0002\"] = google.colab.output.setActiveOutputArea(window[\"48c74db8-79e1-11ec-8afc-0242ac1c0002\"]);\n",
              "//# sourceURL=js_cbcff950ed"
            ],
            "text/plain": [
              "<IPython.core.display.Javascript object>"
            ]
          },
          "metadata": {}
        },
        {
          "output_type": "stream",
          "name": "stdout",
          "text": [
            "Característica que falta\n"
          ]
        },
        {
          "output_type": "display_data",
          "data": {
            "application/javascript": [
              "window[\"48ca26aa-79e1-11ec-8afc-0242ac1c0002\"] = google.colab.output.setActiveOutputArea(window[\"48c6b2cc-79e1-11ec-8afc-0242ac1c0002\"]);\n",
              "//# sourceURL=js_642af15193"
            ],
            "text/plain": [
              "<IPython.core.display.Javascript object>"
            ]
          },
          "metadata": {}
        },
        {
          "output_type": "display_data",
          "data": {
            "application/javascript": [
              "window[\"48cd3318-79e1-11ec-8afc-0242ac1c0002\"] = google.colab.output.getActiveOutputArea();\n",
              "//# sourceURL=js_85e2f6c4c8"
            ],
            "text/plain": [
              "<IPython.core.display.Javascript object>"
            ]
          },
          "metadata": {}
        },
        {
          "output_type": "display_data",
          "data": {
            "application/javascript": [
              "window[\"48cd85fc-79e1-11ec-8afc-0242ac1c0002\"] = document.querySelector(\"#id18-1-0\");\n",
              "//# sourceURL=js_92271e69bc"
            ],
            "text/plain": [
              "<IPython.core.display.Javascript object>"
            ]
          },
          "metadata": {}
        },
        {
          "output_type": "display_data",
          "data": {
            "application/javascript": [
              "window[\"48cdd19c-79e1-11ec-8afc-0242ac1c0002\"] = google.colab.output.setActiveOutputArea(window[\"48cd85fc-79e1-11ec-8afc-0242ac1c0002\"]);\n",
              "//# sourceURL=js_64d1218af1"
            ],
            "text/plain": [
              "<IPython.core.display.Javascript object>"
            ]
          },
          "metadata": {}
        },
        {
          "output_type": "stream",
          "name": "stdout",
          "text": [
            "Mes\n"
          ]
        },
        {
          "output_type": "display_data",
          "data": {
            "application/javascript": [
              "window[\"48d04d1e-79e1-11ec-8afc-0242ac1c0002\"] = google.colab.output.setActiveOutputArea(window[\"48cd3318-79e1-11ec-8afc-0242ac1c0002\"]);\n",
              "//# sourceURL=js_aabe3ac6f0"
            ],
            "text/plain": [
              "<IPython.core.display.Javascript object>"
            ]
          },
          "metadata": {}
        },
        {
          "output_type": "display_data",
          "data": {
            "application/javascript": [
              "window[\"48d383f8-79e1-11ec-8afc-0242ac1c0002\"] = google.colab.output.getActiveOutputArea();\n",
              "//# sourceURL=js_f0a611b783"
            ],
            "text/plain": [
              "<IPython.core.display.Javascript object>"
            ]
          },
          "metadata": {}
        },
        {
          "output_type": "display_data",
          "data": {
            "application/javascript": [
              "window[\"48d3d326-79e1-11ec-8afc-0242ac1c0002\"] = document.querySelector(\"#id18-2-0\");\n",
              "//# sourceURL=js_baaf5079d5"
            ],
            "text/plain": [
              "<IPython.core.display.Javascript object>"
            ]
          },
          "metadata": {}
        },
        {
          "output_type": "display_data",
          "data": {
            "application/javascript": [
              "window[\"48d41d22-79e1-11ec-8afc-0242ac1c0002\"] = google.colab.output.setActiveOutputArea(window[\"48d3d326-79e1-11ec-8afc-0242ac1c0002\"]);\n",
              "//# sourceURL=js_a0d4697c06"
            ],
            "text/plain": [
              "<IPython.core.display.Javascript object>"
            ]
          },
          "metadata": {}
        },
        {
          "output_type": "stream",
          "name": "stdout",
          "text": [
            "Temperatura\n"
          ]
        },
        {
          "output_type": "display_data",
          "data": {
            "application/javascript": [
              "window[\"48d65cae-79e1-11ec-8afc-0242ac1c0002\"] = google.colab.output.setActiveOutputArea(window[\"48d383f8-79e1-11ec-8afc-0242ac1c0002\"]);\n",
              "//# sourceURL=js_dcced8f82f"
            ],
            "text/plain": [
              "<IPython.core.display.Javascript object>"
            ]
          },
          "metadata": {}
        },
        {
          "output_type": "display_data",
          "data": {
            "application/javascript": [
              "window[\"48d967e6-79e1-11ec-8afc-0242ac1c0002\"] = google.colab.output.getActiveOutputArea();\n",
              "//# sourceURL=js_d6755f9d31"
            ],
            "text/plain": [
              "<IPython.core.display.Javascript object>"
            ]
          },
          "metadata": {}
        },
        {
          "output_type": "display_data",
          "data": {
            "application/javascript": [
              "window[\"48d9bb74-79e1-11ec-8afc-0242ac1c0002\"] = document.querySelector(\"#id18-3-0\");\n",
              "//# sourceURL=js_eec35a5f40"
            ],
            "text/plain": [
              "<IPython.core.display.Javascript object>"
            ]
          },
          "metadata": {}
        },
        {
          "output_type": "display_data",
          "data": {
            "application/javascript": [
              "window[\"48da325c-79e1-11ec-8afc-0242ac1c0002\"] = google.colab.output.setActiveOutputArea(window[\"48d9bb74-79e1-11ec-8afc-0242ac1c0002\"]);\n",
              "//# sourceURL=js_b5279ac17a"
            ],
            "text/plain": [
              "<IPython.core.display.Javascript object>"
            ]
          },
          "metadata": {}
        },
        {
          "output_type": "stream",
          "name": "stdout",
          "text": [
            "Precipitación\n"
          ]
        },
        {
          "output_type": "display_data",
          "data": {
            "application/javascript": [
              "window[\"48dc1d1a-79e1-11ec-8afc-0242ac1c0002\"] = google.colab.output.setActiveOutputArea(window[\"48d967e6-79e1-11ec-8afc-0242ac1c0002\"]);\n",
              "//# sourceURL=js_d91dae5a45"
            ],
            "text/plain": [
              "<IPython.core.display.Javascript object>"
            ]
          },
          "metadata": {}
        },
        {
          "output_type": "display_data",
          "data": {
            "application/javascript": [
              "window[\"48de91a8-79e1-11ec-8afc-0242ac1c0002\"] = google.colab.output.getActiveOutputArea();\n",
              "//# sourceURL=js_e1dc7f517d"
            ],
            "text/plain": [
              "<IPython.core.display.Javascript object>"
            ]
          },
          "metadata": {}
        },
        {
          "output_type": "display_data",
          "data": {
            "application/javascript": [
              "window[\"48dee612-79e1-11ec-8afc-0242ac1c0002\"] = document.querySelector(\"#id18-1-1\");\n",
              "//# sourceURL=js_4bce07b2c6"
            ],
            "text/plain": [
              "<IPython.core.display.Javascript object>"
            ]
          },
          "metadata": {}
        },
        {
          "output_type": "display_data",
          "data": {
            "application/javascript": [
              "window[\"48df4076-79e1-11ec-8afc-0242ac1c0002\"] = google.colab.output.setActiveOutputArea(window[\"48dee612-79e1-11ec-8afc-0242ac1c0002\"]);\n",
              "//# sourceURL=js_58515d7a78"
            ],
            "text/plain": [
              "<IPython.core.display.Javascript object>"
            ]
          },
          "metadata": {}
        },
        {
          "output_type": "stream",
          "name": "stdout",
          "text": [
            "0.06647937708333362\n"
          ]
        },
        {
          "output_type": "display_data",
          "data": {
            "application/javascript": [
              "window[\"48e17882-79e1-11ec-8afc-0242ac1c0002\"] = google.colab.output.setActiveOutputArea(window[\"48de91a8-79e1-11ec-8afc-0242ac1c0002\"]);\n",
              "//# sourceURL=js_dd32741f6b"
            ],
            "text/plain": [
              "<IPython.core.display.Javascript object>"
            ]
          },
          "metadata": {}
        },
        {
          "output_type": "display_data",
          "data": {
            "application/javascript": [
              "window[\"48e2fa22-79e1-11ec-8afc-0242ac1c0002\"] = google.colab.output.getActiveOutputArea();\n",
              "//# sourceURL=js_23cd2d0025"
            ],
            "text/plain": [
              "<IPython.core.display.Javascript object>"
            ]
          },
          "metadata": {}
        },
        {
          "output_type": "display_data",
          "data": {
            "application/javascript": [
              "window[\"48e344fa-79e1-11ec-8afc-0242ac1c0002\"] = document.querySelector(\"#id18-2-1\");\n",
              "//# sourceURL=js_98c5e710e5"
            ],
            "text/plain": [
              "<IPython.core.display.Javascript object>"
            ]
          },
          "metadata": {}
        },
        {
          "output_type": "display_data",
          "data": {
            "application/javascript": [
              "window[\"48e37e16-79e1-11ec-8afc-0242ac1c0002\"] = google.colab.output.setActiveOutputArea(window[\"48e344fa-79e1-11ec-8afc-0242ac1c0002\"]);\n",
              "//# sourceURL=js_378f042937"
            ],
            "text/plain": [
              "<IPython.core.display.Javascript object>"
            ]
          },
          "metadata": {}
        },
        {
          "output_type": "stream",
          "name": "stdout",
          "text": [
            "0.0979271885416666\n"
          ]
        },
        {
          "output_type": "display_data",
          "data": {
            "application/javascript": [
              "window[\"48e458ae-79e1-11ec-8afc-0242ac1c0002\"] = google.colab.output.setActiveOutputArea(window[\"48e2fa22-79e1-11ec-8afc-0242ac1c0002\"]);\n",
              "//# sourceURL=js_421e8d1db4"
            ],
            "text/plain": [
              "<IPython.core.display.Javascript object>"
            ]
          },
          "metadata": {}
        },
        {
          "output_type": "display_data",
          "data": {
            "application/javascript": [
              "window[\"48e596a6-79e1-11ec-8afc-0242ac1c0002\"] = google.colab.output.getActiveOutputArea();\n",
              "//# sourceURL=js_d50fc211e4"
            ],
            "text/plain": [
              "<IPython.core.display.Javascript object>"
            ]
          },
          "metadata": {}
        },
        {
          "output_type": "display_data",
          "data": {
            "application/javascript": [
              "window[\"48e5d5c6-79e1-11ec-8afc-0242ac1c0002\"] = document.querySelector(\"#id18-3-1\");\n",
              "//# sourceURL=js_3cb8607adb"
            ],
            "text/plain": [
              "<IPython.core.display.Javascript object>"
            ]
          },
          "metadata": {}
        },
        {
          "output_type": "display_data",
          "data": {
            "application/javascript": [
              "window[\"48e6134c-79e1-11ec-8afc-0242ac1c0002\"] = google.colab.output.setActiveOutputArea(window[\"48e5d5c6-79e1-11ec-8afc-0242ac1c0002\"]);\n",
              "//# sourceURL=js_310e962f45"
            ],
            "text/plain": [
              "<IPython.core.display.Javascript object>"
            ]
          },
          "metadata": {}
        },
        {
          "output_type": "stream",
          "name": "stdout",
          "text": [
            "-0.011645622916666376\n"
          ]
        },
        {
          "output_type": "display_data",
          "data": {
            "application/javascript": [
              "window[\"48e6e934-79e1-11ec-8afc-0242ac1c0002\"] = google.colab.output.setActiveOutputArea(window[\"48e596a6-79e1-11ec-8afc-0242ac1c0002\"]);\n",
              "//# sourceURL=js_99809eef35"
            ],
            "text/plain": [
              "<IPython.core.display.Javascript object>"
            ]
          },
          "metadata": {}
        },
        {
          "output_type": "display_data",
          "data": {
            "application/javascript": [
              "window[\"48e82830-79e1-11ec-8afc-0242ac1c0002\"] = google.colab.output.getActiveOutputArea();\n",
              "//# sourceURL=js_5ad74002a8"
            ],
            "text/plain": [
              "<IPython.core.display.Javascript object>"
            ]
          },
          "metadata": {}
        },
        {
          "output_type": "display_data",
          "data": {
            "application/javascript": [
              "window[\"48e863c2-79e1-11ec-8afc-0242ac1c0002\"] = document.querySelector(\"#id18-0-1\");\n",
              "//# sourceURL=js_3add402a8c"
            ],
            "text/plain": [
              "<IPython.core.display.Javascript object>"
            ]
          },
          "metadata": {}
        },
        {
          "output_type": "display_data",
          "data": {
            "application/javascript": [
              "window[\"48e89af4-79e1-11ec-8afc-0242ac1c0002\"] = google.colab.output.setActiveOutputArea(window[\"48e863c2-79e1-11ec-8afc-0242ac1c0002\"]);\n",
              "//# sourceURL=js_42de005544"
            ],
            "text/plain": [
              "<IPython.core.display.Javascript object>"
            ]
          },
          "metadata": {}
        },
        {
          "output_type": "stream",
          "name": "stdout",
          "text": [
            "Beneficio real - Beneficio esperado\n"
          ]
        },
        {
          "output_type": "display_data",
          "data": {
            "application/javascript": [
              "window[\"48e987ac-79e1-11ec-8afc-0242ac1c0002\"] = google.colab.output.setActiveOutputArea(window[\"48e82830-79e1-11ec-8afc-0242ac1c0002\"]);\n",
              "//# sourceURL=js_b8bdc5997d"
            ],
            "text/plain": [
              "<IPython.core.display.Javascript object>"
            ]
          },
          "metadata": {}
        },
        {
          "output_type": "display_data",
          "data": {
            "application/javascript": [
              "window[\"48eadbe8-79e1-11ec-8afc-0242ac1c0002\"] = google.colab.output.getActiveOutputArea();\n",
              "//# sourceURL=js_544c241dfb"
            ],
            "text/plain": [
              "<IPython.core.display.Javascript object>"
            ]
          },
          "metadata": {}
        },
        {
          "output_type": "display_data",
          "data": {
            "application/javascript": [
              "window[\"48eb1e0a-79e1-11ec-8afc-0242ac1c0002\"] = document.querySelector(\"#id18-0-2\");\n",
              "//# sourceURL=js_2b38cdbd93"
            ],
            "text/plain": [
              "<IPython.core.display.Javascript object>"
            ]
          },
          "metadata": {}
        },
        {
          "output_type": "display_data",
          "data": {
            "application/javascript": [
              "window[\"48eb5816-79e1-11ec-8afc-0242ac1c0002\"] = google.colab.output.setActiveOutputArea(window[\"48eb1e0a-79e1-11ec-8afc-0242ac1c0002\"]);\n",
              "//# sourceURL=js_c2a1f6f5ed"
            ],
            "text/plain": [
              "<IPython.core.display.Javascript object>"
            ]
          },
          "metadata": {}
        },
        {
          "output_type": "stream",
          "name": "stdout",
          "text": [
            "Influencia\n"
          ]
        },
        {
          "output_type": "display_data",
          "data": {
            "application/javascript": [
              "window[\"48ec2fa2-79e1-11ec-8afc-0242ac1c0002\"] = google.colab.output.setActiveOutputArea(window[\"48eadbe8-79e1-11ec-8afc-0242ac1c0002\"]);\n",
              "//# sourceURL=js_351ebc2dee"
            ],
            "text/plain": [
              "<IPython.core.display.Javascript object>"
            ]
          },
          "metadata": {}
        },
        {
          "output_type": "display_data",
          "data": {
            "application/javascript": [
              "window[\"48ed83b6-79e1-11ec-8afc-0242ac1c0002\"] = google.colab.output.getActiveOutputArea();\n",
              "//# sourceURL=js_fbf990367a"
            ],
            "text/plain": [
              "<IPython.core.display.Javascript object>"
            ]
          },
          "metadata": {}
        },
        {
          "output_type": "display_data",
          "data": {
            "application/javascript": [
              "window[\"48edbe08-79e1-11ec-8afc-0242ac1c0002\"] = document.querySelector(\"#id18-1-2\");\n",
              "//# sourceURL=js_39062cda19"
            ],
            "text/plain": [
              "<IPython.core.display.Javascript object>"
            ]
          },
          "metadata": {}
        },
        {
          "output_type": "display_data",
          "data": {
            "application/javascript": [
              "window[\"48edff80-79e1-11ec-8afc-0242ac1c0002\"] = google.colab.output.setActiveOutputArea(window[\"48edbe08-79e1-11ec-8afc-0242ac1c0002\"]);\n",
              "//# sourceURL=js_f8ccb6ddc5"
            ],
            "text/plain": [
              "<IPython.core.display.Javascript object>"
            ]
          },
          "metadata": {}
        },
        {
          "output_type": "stream",
          "name": "stdout",
          "text": [
            "neutral\n"
          ]
        },
        {
          "output_type": "display_data",
          "data": {
            "application/javascript": [
              "window[\"48ef04d4-79e1-11ec-8afc-0242ac1c0002\"] = google.colab.output.setActiveOutputArea(window[\"48ed83b6-79e1-11ec-8afc-0242ac1c0002\"]);\n",
              "//# sourceURL=js_2ec42e96ac"
            ],
            "text/plain": [
              "<IPython.core.display.Javascript object>"
            ]
          },
          "metadata": {}
        },
        {
          "output_type": "display_data",
          "data": {
            "application/javascript": [
              "window[\"48f04e02-79e1-11ec-8afc-0242ac1c0002\"] = google.colab.output.getActiveOutputArea();\n",
              "//# sourceURL=js_8b1766a917"
            ],
            "text/plain": [
              "<IPython.core.display.Javascript object>"
            ]
          },
          "metadata": {}
        },
        {
          "output_type": "display_data",
          "data": {
            "application/javascript": [
              "window[\"48f08458-79e1-11ec-8afc-0242ac1c0002\"] = document.querySelector(\"#id18-2-2\");\n",
              "//# sourceURL=js_535cd7df56"
            ],
            "text/plain": [
              "<IPython.core.display.Javascript object>"
            ]
          },
          "metadata": {}
        },
        {
          "output_type": "display_data",
          "data": {
            "application/javascript": [
              "window[\"48f0c080-79e1-11ec-8afc-0242ac1c0002\"] = google.colab.output.setActiveOutputArea(window[\"48f08458-79e1-11ec-8afc-0242ac1c0002\"]);\n",
              "//# sourceURL=js_7971d0b3f2"
            ],
            "text/plain": [
              "<IPython.core.display.Javascript object>"
            ]
          },
          "metadata": {}
        },
        {
          "output_type": "stream",
          "name": "stdout",
          "text": [
            "neutral\n"
          ]
        },
        {
          "output_type": "display_data",
          "data": {
            "application/javascript": [
              "window[\"48f19064-79e1-11ec-8afc-0242ac1c0002\"] = google.colab.output.setActiveOutputArea(window[\"48f04e02-79e1-11ec-8afc-0242ac1c0002\"]);\n",
              "//# sourceURL=js_2f8ffbe370"
            ],
            "text/plain": [
              "<IPython.core.display.Javascript object>"
            ]
          },
          "metadata": {}
        },
        {
          "output_type": "display_data",
          "data": {
            "application/javascript": [
              "window[\"48f2da78-79e1-11ec-8afc-0242ac1c0002\"] = google.colab.output.getActiveOutputArea();\n",
              "//# sourceURL=js_388af3fa3f"
            ],
            "text/plain": [
              "<IPython.core.display.Javascript object>"
            ]
          },
          "metadata": {}
        },
        {
          "output_type": "display_data",
          "data": {
            "application/javascript": [
              "window[\"48f340bc-79e1-11ec-8afc-0242ac1c0002\"] = document.querySelector(\"#id18-3-2\");\n",
              "//# sourceURL=js_b51e94c673"
            ],
            "text/plain": [
              "<IPython.core.display.Javascript object>"
            ]
          },
          "metadata": {}
        },
        {
          "output_type": "display_data",
          "data": {
            "application/javascript": [
              "window[\"48f4211c-79e1-11ec-8afc-0242ac1c0002\"] = google.colab.output.setActiveOutputArea(window[\"48f340bc-79e1-11ec-8afc-0242ac1c0002\"]);\n",
              "//# sourceURL=js_d140317edc"
            ],
            "text/plain": [
              "<IPython.core.display.Javascript object>"
            ]
          },
          "metadata": {}
        },
        {
          "output_type": "stream",
          "name": "stdout",
          "text": [
            "neutral\n"
          ]
        },
        {
          "output_type": "display_data",
          "data": {
            "application/javascript": [
              "window[\"48f54b82-79e1-11ec-8afc-0242ac1c0002\"] = google.colab.output.setActiveOutputArea(window[\"48f2da78-79e1-11ec-8afc-0242ac1c0002\"]);\n",
              "//# sourceURL=js_c8903c0dad"
            ],
            "text/plain": [
              "<IPython.core.display.Javascript object>"
            ]
          },
          "metadata": {}
        }
      ]
    }
  ]
}