{
  "nbformat": 4,
  "nbformat_minor": 0,
  "metadata": {
    "colab": {
      "name": "DM_Entrega3.ipynb",
      "provenance": [],
      "collapsed_sections": [],
      "toc_visible": true,
      "include_colab_link": true
    },
    "kernelspec": {
      "name": "python3",
      "display_name": "Python 3"
    },
    "language_info": {
      "name": "python"
    }
  },
  "cells": [
    {
      "cell_type": "markdown",
      "metadata": {
        "id": "view-in-github",
        "colab_type": "text"
      },
      "source": [
        "<a href=\"https://colab.research.google.com/github/Laura-VFA/DataMining-21-22/blob/main/DM_Entrega3.ipynb\" target=\"_parent\"><img src=\"https://colab.research.google.com/assets/colab-badge.svg\" alt=\"Open In Colab\"/></a>"
      ]
    },
    {
      "cell_type": "markdown",
      "source": [
        "- Iago García Suárez  \n",
        "- David González Bermúdez  \n",
        "- Sergio Martínez Cid  \n",
        "- Laura Villa Fernández-Arroyo"
      ],
      "metadata": {
        "id": "MIppySjMTMjc"
      }
    },
    {
      "cell_type": "markdown",
      "source": [
        "# Minería de datos\n",
        "# Aplicación de modelo de minería de datos"
      ],
      "metadata": {
        "id": "bbMgKIPCTOYy"
      }
    },
    {
      "cell_type": "markdown",
      "source": [
        "## 1. Carga de datos"
      ],
      "metadata": {
        "id": "EdRob44RK_hI"
      }
    },
    {
      "cell_type": "code",
      "source": [
        "import itertools\n",
        "import warnings\n",
        "import numpy as np\n",
        "import pandas as pd\n",
        "import seaborn as sns\n",
        "import matplotlib.pyplot as plt\n",
        "from google.colab import widgets\n",
        "from sklearn import metrics, ensemble\n",
        "from sklearn.metrics import accuracy_score\n",
        "from sklearn.tree import DecisionTreeRegressor\n",
        "from sklearn.ensemble import RandomForestRegressor\n",
        "from sklearn.model_selection import train_test_split\n",
        "from sklearn.model_selection import KFold, train_test_split"
      ],
      "metadata": {
        "id": "srYeFbF-152g"
      },
      "execution_count": 1,
      "outputs": []
    },
    {
      "cell_type": "code",
      "execution_count": 2,
      "metadata": {
        "colab": {
          "base_uri": "https://localhost:8080/"
        },
        "id": "r2Plw-5H0GUM",
        "outputId": "c6b58cd2-3f14-4699-8950-9abcb8a11acc"
      },
      "outputs": [
        {
          "output_type": "stream",
          "name": "stdout",
          "text": [
            "--2022-01-17 19:50:49--  https://raw.githubusercontent.com/Laura-VFA/DataMining-21-22/main/Datasets/agroanalisis_recolec.csv\n",
            "Resolving raw.githubusercontent.com (raw.githubusercontent.com)... 185.199.108.133, 185.199.109.133, 185.199.110.133, ...\n",
            "Connecting to raw.githubusercontent.com (raw.githubusercontent.com)|185.199.108.133|:443... connected.\n",
            "HTTP request sent, awaiting response... 200 OK\n",
            "Length: 2241493 (2.1M) [text/plain]\n",
            "Saving to: ‘agroanalisis_recolec.csv’\n",
            "\n",
            "\ragroanalisis_recole   0%[                    ]       0  --.-KB/s               \ragroanalisis_recole 100%[===================>]   2.14M  --.-KB/s    in 0.04s   \n",
            "\n",
            "2022-01-17 19:50:50 (56.5 MB/s) - ‘agroanalisis_recolec.csv’ saved [2241493/2241493]\n",
            "\n"
          ]
        }
      ],
      "source": [
        "!rm *.*\n",
        "\n",
        "!wget https://raw.githubusercontent.com/Laura-VFA/DataMining-21-22/main/Datasets/agroanalisis_recolec.csv\n"
      ]
    },
    {
      "cell_type": "code",
      "source": [
        "agroanalisis = pd.read_csv('agroanalisis_recolec.csv', sep=';')\n",
        "agroanalisis.drop(axis=1, labels=['Unnamed: 0'], inplace=True)\n",
        "agroanalisis.head()"
      ],
      "metadata": {
        "colab": {
          "base_uri": "https://localhost:8080/",
          "height": 340
        },
        "id": "GG4ofL2a13ex",
        "outputId": "56830403-d027-4054-c40d-906f35687d5e"
      },
      "execution_count": 3,
      "outputs": [
        {
          "output_type": "execute_result",
          "data": {
            "text/html": [
              "\n",
              "  <div id=\"df-0eefce44-ff74-427f-8a7b-33243064b355\">\n",
              "    <div class=\"colab-df-container\">\n",
              "      <div>\n",
              "<style scoped>\n",
              "    .dataframe tbody tr th:only-of-type {\n",
              "        vertical-align: middle;\n",
              "    }\n",
              "\n",
              "    .dataframe tbody tr th {\n",
              "        vertical-align: top;\n",
              "    }\n",
              "\n",
              "    .dataframe thead th {\n",
              "        text-align: right;\n",
              "    }\n",
              "</style>\n",
              "<table border=\"1\" class=\"dataframe\">\n",
              "  <thead>\n",
              "    <tr style=\"text-align: right;\">\n",
              "      <th></th>\n",
              "      <th>product</th>\n",
              "      <th>origen</th>\n",
              "      <th>YEAR</th>\n",
              "      <th>MONTH</th>\n",
              "      <th>price_mean</th>\n",
              "      <th>Volumen</th>\n",
              "      <th>temperatura</th>\n",
              "      <th>Precipitacion_group</th>\n",
              "      <th>Min siem-recol</th>\n",
              "      <th>Max siem-recol</th>\n",
              "      <th>Temperatura min req</th>\n",
              "      <th>Temperatura max req</th>\n",
              "      <th>Temperatura min opt</th>\n",
              "      <th>Temperatura max opt</th>\n",
              "      <th>Dias entre riego zona seca</th>\n",
              "      <th>Dias entre riego zona húmeda</th>\n",
              "      <th>distancia_mes_inicio_siem</th>\n",
              "      <th>distancia_mes_fin_siem</th>\n",
              "    </tr>\n",
              "  </thead>\n",
              "  <tbody>\n",
              "    <tr>\n",
              "      <th>0</th>\n",
              "      <td>ACELGA</td>\n",
              "      <td>Andalucia</td>\n",
              "      <td>2018</td>\n",
              "      <td>1</td>\n",
              "      <td>0.750238</td>\n",
              "      <td>46516.0</td>\n",
              "      <td>10.26</td>\n",
              "      <td>0.0</td>\n",
              "      <td>3</td>\n",
              "      <td>3</td>\n",
              "      <td>6.0</td>\n",
              "      <td>33.0</td>\n",
              "      <td>15.0</td>\n",
              "      <td>25.0</td>\n",
              "      <td>4</td>\n",
              "      <td>10</td>\n",
              "      <td>-8.0</td>\n",
              "      <td>-10.0</td>\n",
              "    </tr>\n",
              "    <tr>\n",
              "      <th>1</th>\n",
              "      <td>ACELGA</td>\n",
              "      <td>Andalucia</td>\n",
              "      <td>2018</td>\n",
              "      <td>1</td>\n",
              "      <td>0.750238</td>\n",
              "      <td>46516.0</td>\n",
              "      <td>10.26</td>\n",
              "      <td>0.0</td>\n",
              "      <td>3</td>\n",
              "      <td>3</td>\n",
              "      <td>6.0</td>\n",
              "      <td>33.0</td>\n",
              "      <td>15.0</td>\n",
              "      <td>25.0</td>\n",
              "      <td>4</td>\n",
              "      <td>10</td>\n",
              "      <td>-2.0</td>\n",
              "      <td>-4.0</td>\n",
              "    </tr>\n",
              "    <tr>\n",
              "      <th>2</th>\n",
              "      <td>ACELGA</td>\n",
              "      <td>Andalucia</td>\n",
              "      <td>2018</td>\n",
              "      <td>2</td>\n",
              "      <td>0.734375</td>\n",
              "      <td>37237.0</td>\n",
              "      <td>9.68</td>\n",
              "      <td>0.0</td>\n",
              "      <td>3</td>\n",
              "      <td>3</td>\n",
              "      <td>6.0</td>\n",
              "      <td>33.0</td>\n",
              "      <td>15.0</td>\n",
              "      <td>25.0</td>\n",
              "      <td>4</td>\n",
              "      <td>10</td>\n",
              "      <td>-7.0</td>\n",
              "      <td>-9.0</td>\n",
              "    </tr>\n",
              "    <tr>\n",
              "      <th>3</th>\n",
              "      <td>ACELGA</td>\n",
              "      <td>Andalucia</td>\n",
              "      <td>2018</td>\n",
              "      <td>2</td>\n",
              "      <td>0.734375</td>\n",
              "      <td>37237.0</td>\n",
              "      <td>9.68</td>\n",
              "      <td>0.0</td>\n",
              "      <td>3</td>\n",
              "      <td>3</td>\n",
              "      <td>6.0</td>\n",
              "      <td>33.0</td>\n",
              "      <td>15.0</td>\n",
              "      <td>25.0</td>\n",
              "      <td>4</td>\n",
              "      <td>10</td>\n",
              "      <td>-1.0</td>\n",
              "      <td>-3.0</td>\n",
              "    </tr>\n",
              "    <tr>\n",
              "      <th>4</th>\n",
              "      <td>ACELGA</td>\n",
              "      <td>Andalucia</td>\n",
              "      <td>2018</td>\n",
              "      <td>3</td>\n",
              "      <td>0.672059</td>\n",
              "      <td>78318.0</td>\n",
              "      <td>11.90</td>\n",
              "      <td>2.0</td>\n",
              "      <td>3</td>\n",
              "      <td>3</td>\n",
              "      <td>6.0</td>\n",
              "      <td>33.0</td>\n",
              "      <td>15.0</td>\n",
              "      <td>25.0</td>\n",
              "      <td>4</td>\n",
              "      <td>10</td>\n",
              "      <td>-6.0</td>\n",
              "      <td>-8.0</td>\n",
              "    </tr>\n",
              "  </tbody>\n",
              "</table>\n",
              "</div>\n",
              "      <button class=\"colab-df-convert\" onclick=\"convertToInteractive('df-0eefce44-ff74-427f-8a7b-33243064b355')\"\n",
              "              title=\"Convert this dataframe to an interactive table.\"\n",
              "              style=\"display:none;\">\n",
              "        \n",
              "  <svg xmlns=\"http://www.w3.org/2000/svg\" height=\"24px\"viewBox=\"0 0 24 24\"\n",
              "       width=\"24px\">\n",
              "    <path d=\"M0 0h24v24H0V0z\" fill=\"none\"/>\n",
              "    <path d=\"M18.56 5.44l.94 2.06.94-2.06 2.06-.94-2.06-.94-.94-2.06-.94 2.06-2.06.94zm-11 1L8.5 8.5l.94-2.06 2.06-.94-2.06-.94L8.5 2.5l-.94 2.06-2.06.94zm10 10l.94 2.06.94-2.06 2.06-.94-2.06-.94-.94-2.06-.94 2.06-2.06.94z\"/><path d=\"M17.41 7.96l-1.37-1.37c-.4-.4-.92-.59-1.43-.59-.52 0-1.04.2-1.43.59L10.3 9.45l-7.72 7.72c-.78.78-.78 2.05 0 2.83L4 21.41c.39.39.9.59 1.41.59.51 0 1.02-.2 1.41-.59l7.78-7.78 2.81-2.81c.8-.78.8-2.07 0-2.86zM5.41 20L4 18.59l7.72-7.72 1.47 1.35L5.41 20z\"/>\n",
              "  </svg>\n",
              "      </button>\n",
              "      \n",
              "  <style>\n",
              "    .colab-df-container {\n",
              "      display:flex;\n",
              "      flex-wrap:wrap;\n",
              "      gap: 12px;\n",
              "    }\n",
              "\n",
              "    .colab-df-convert {\n",
              "      background-color: #E8F0FE;\n",
              "      border: none;\n",
              "      border-radius: 50%;\n",
              "      cursor: pointer;\n",
              "      display: none;\n",
              "      fill: #1967D2;\n",
              "      height: 32px;\n",
              "      padding: 0 0 0 0;\n",
              "      width: 32px;\n",
              "    }\n",
              "\n",
              "    .colab-df-convert:hover {\n",
              "      background-color: #E2EBFA;\n",
              "      box-shadow: 0px 1px 2px rgba(60, 64, 67, 0.3), 0px 1px 3px 1px rgba(60, 64, 67, 0.15);\n",
              "      fill: #174EA6;\n",
              "    }\n",
              "\n",
              "    [theme=dark] .colab-df-convert {\n",
              "      background-color: #3B4455;\n",
              "      fill: #D2E3FC;\n",
              "    }\n",
              "\n",
              "    [theme=dark] .colab-df-convert:hover {\n",
              "      background-color: #434B5C;\n",
              "      box-shadow: 0px 1px 3px 1px rgba(0, 0, 0, 0.15);\n",
              "      filter: drop-shadow(0px 1px 2px rgba(0, 0, 0, 0.3));\n",
              "      fill: #FFFFFF;\n",
              "    }\n",
              "  </style>\n",
              "\n",
              "      <script>\n",
              "        const buttonEl =\n",
              "          document.querySelector('#df-0eefce44-ff74-427f-8a7b-33243064b355 button.colab-df-convert');\n",
              "        buttonEl.style.display =\n",
              "          google.colab.kernel.accessAllowed ? 'block' : 'none';\n",
              "\n",
              "        async function convertToInteractive(key) {\n",
              "          const element = document.querySelector('#df-0eefce44-ff74-427f-8a7b-33243064b355');\n",
              "          const dataTable =\n",
              "            await google.colab.kernel.invokeFunction('convertToInteractive',\n",
              "                                                     [key], {});\n",
              "          if (!dataTable) return;\n",
              "\n",
              "          const docLinkHtml = 'Like what you see? Visit the ' +\n",
              "            '<a target=\"_blank\" href=https://colab.research.google.com/notebooks/data_table.ipynb>data table notebook</a>'\n",
              "            + ' to learn more about interactive tables.';\n",
              "          element.innerHTML = '';\n",
              "          dataTable['output_type'] = 'display_data';\n",
              "          await google.colab.output.renderOutput(dataTable, element);\n",
              "          const docLink = document.createElement('div');\n",
              "          docLink.innerHTML = docLinkHtml;\n",
              "          element.appendChild(docLink);\n",
              "        }\n",
              "      </script>\n",
              "    </div>\n",
              "  </div>\n",
              "  "
            ],
            "text/plain": [
              "  product     origen  ...  distancia_mes_inicio_siem  distancia_mes_fin_siem\n",
              "0  ACELGA  Andalucia  ...                       -8.0                   -10.0\n",
              "1  ACELGA  Andalucia  ...                       -2.0                    -4.0\n",
              "2  ACELGA  Andalucia  ...                       -7.0                    -9.0\n",
              "3  ACELGA  Andalucia  ...                       -1.0                    -3.0\n",
              "4  ACELGA  Andalucia  ...                       -6.0                    -8.0\n",
              "\n",
              "[5 rows x 18 columns]"
            ]
          },
          "metadata": {},
          "execution_count": 3
        }
      ]
    },
    {
      "cell_type": "markdown",
      "source": [
        "## 2. Transformación"
      ],
      "metadata": {
        "id": "2iTn4Wx2LEmd"
      }
    },
    {
      "cell_type": "markdown",
      "source": [
        "Se añaden varias columnas con los valores relacionados al precio, volumen y mes en el cual se llevaría a cabo la recolección del cultivo. Esta operación puede resultar en nulos para algunos casos donde el cultivo no está en su periodo de siembra. Además, otros valores que no son de interés son aquellos que representan el producto inexistente, como es el caso de los registros con *Volumen = 0*. Para mantener una tarjeta de datos lo más limpia posible y sin ruido, se han eliminado esos registros."
      ],
      "metadata": {
        "id": "yc1eK2LiTkau"
      }
    },
    {
      "cell_type": "code",
      "source": [
        "for index1 in agroanalisis.index:\n",
        "  if agroanalisis.at[index1, 'distancia_mes_inicio_siem'] >= 0 and agroanalisis.at[index1,'distancia_mes_fin_siem'] <= 0:\n",
        "    interval = range(agroanalisis.at[index1,'Min siem-recol'],agroanalisis.at[index1,'Max siem-recol']+1)\n",
        "    prices = []\n",
        "    for year, month in map(lambda delta: (agroanalisis.at[index1,'YEAR'] if agroanalisis.at[index1,'MONTH']+delta <=12 else agroanalisis.at[index1,'YEAR']+1, (agroanalisis.at[index1,'MONTH']+delta) % 12), interval):\n",
        "      result = agroanalisis[(agroanalisis['product'] == agroanalisis.at[index1,'product']) & \\\n",
        "                   (agroanalisis['origen'] == agroanalisis.at[index1,'origen']) & \\\n",
        "                   (agroanalisis['YEAR'] == year) & (agroanalisis['MONTH'] == month)]\n",
        "      for index2 in result.index:\n",
        "          prices.append((result.at[index2,'price_mean'], result.at[index2,'Volumen'], result.at[index2,'MONTH'] ))\n",
        "    if prices:\n",
        "      agroanalisis.at[index1, 'price_max_recolec'], agroanalisis.at[index1, 'Volumen_max_recolec'], agroanalisis.at[index1, 'MONTH_max_recolec'] = max(prices)"
      ],
      "metadata": {
        "id": "RCExAKOqKjJH"
      },
      "execution_count": 4,
      "outputs": []
    },
    {
      "cell_type": "code",
      "source": [
        "agroanalisis.head()"
      ],
      "metadata": {
        "colab": {
          "base_uri": "https://localhost:8080/",
          "height": 340
        },
        "id": "wsn9eJlCBR7m",
        "outputId": "2273055e-956a-4266-83f3-41f9347b5f4f"
      },
      "execution_count": 5,
      "outputs": [
        {
          "output_type": "execute_result",
          "data": {
            "text/html": [
              "\n",
              "  <div id=\"df-f27d2e7f-0c9d-45f1-b17d-2216f52215be\">\n",
              "    <div class=\"colab-df-container\">\n",
              "      <div>\n",
              "<style scoped>\n",
              "    .dataframe tbody tr th:only-of-type {\n",
              "        vertical-align: middle;\n",
              "    }\n",
              "\n",
              "    .dataframe tbody tr th {\n",
              "        vertical-align: top;\n",
              "    }\n",
              "\n",
              "    .dataframe thead th {\n",
              "        text-align: right;\n",
              "    }\n",
              "</style>\n",
              "<table border=\"1\" class=\"dataframe\">\n",
              "  <thead>\n",
              "    <tr style=\"text-align: right;\">\n",
              "      <th></th>\n",
              "      <th>product</th>\n",
              "      <th>origen</th>\n",
              "      <th>YEAR</th>\n",
              "      <th>MONTH</th>\n",
              "      <th>price_mean</th>\n",
              "      <th>Volumen</th>\n",
              "      <th>temperatura</th>\n",
              "      <th>Precipitacion_group</th>\n",
              "      <th>Min siem-recol</th>\n",
              "      <th>Max siem-recol</th>\n",
              "      <th>Temperatura min req</th>\n",
              "      <th>Temperatura max req</th>\n",
              "      <th>Temperatura min opt</th>\n",
              "      <th>Temperatura max opt</th>\n",
              "      <th>Dias entre riego zona seca</th>\n",
              "      <th>Dias entre riego zona húmeda</th>\n",
              "      <th>distancia_mes_inicio_siem</th>\n",
              "      <th>distancia_mes_fin_siem</th>\n",
              "      <th>price_max_recolec</th>\n",
              "      <th>Volumen_max_recolec</th>\n",
              "      <th>MONTH_max_recolec</th>\n",
              "    </tr>\n",
              "  </thead>\n",
              "  <tbody>\n",
              "    <tr>\n",
              "      <th>0</th>\n",
              "      <td>ACELGA</td>\n",
              "      <td>Andalucia</td>\n",
              "      <td>2018</td>\n",
              "      <td>1</td>\n",
              "      <td>0.750238</td>\n",
              "      <td>46516.0</td>\n",
              "      <td>10.26</td>\n",
              "      <td>0.0</td>\n",
              "      <td>3</td>\n",
              "      <td>3</td>\n",
              "      <td>6.0</td>\n",
              "      <td>33.0</td>\n",
              "      <td>15.0</td>\n",
              "      <td>25.0</td>\n",
              "      <td>4</td>\n",
              "      <td>10</td>\n",
              "      <td>-8.0</td>\n",
              "      <td>-10.0</td>\n",
              "      <td>NaN</td>\n",
              "      <td>NaN</td>\n",
              "      <td>NaN</td>\n",
              "    </tr>\n",
              "    <tr>\n",
              "      <th>1</th>\n",
              "      <td>ACELGA</td>\n",
              "      <td>Andalucia</td>\n",
              "      <td>2018</td>\n",
              "      <td>1</td>\n",
              "      <td>0.750238</td>\n",
              "      <td>46516.0</td>\n",
              "      <td>10.26</td>\n",
              "      <td>0.0</td>\n",
              "      <td>3</td>\n",
              "      <td>3</td>\n",
              "      <td>6.0</td>\n",
              "      <td>33.0</td>\n",
              "      <td>15.0</td>\n",
              "      <td>25.0</td>\n",
              "      <td>4</td>\n",
              "      <td>10</td>\n",
              "      <td>-2.0</td>\n",
              "      <td>-4.0</td>\n",
              "      <td>NaN</td>\n",
              "      <td>NaN</td>\n",
              "      <td>NaN</td>\n",
              "    </tr>\n",
              "    <tr>\n",
              "      <th>2</th>\n",
              "      <td>ACELGA</td>\n",
              "      <td>Andalucia</td>\n",
              "      <td>2018</td>\n",
              "      <td>2</td>\n",
              "      <td>0.734375</td>\n",
              "      <td>37237.0</td>\n",
              "      <td>9.68</td>\n",
              "      <td>0.0</td>\n",
              "      <td>3</td>\n",
              "      <td>3</td>\n",
              "      <td>6.0</td>\n",
              "      <td>33.0</td>\n",
              "      <td>15.0</td>\n",
              "      <td>25.0</td>\n",
              "      <td>4</td>\n",
              "      <td>10</td>\n",
              "      <td>-7.0</td>\n",
              "      <td>-9.0</td>\n",
              "      <td>NaN</td>\n",
              "      <td>NaN</td>\n",
              "      <td>NaN</td>\n",
              "    </tr>\n",
              "    <tr>\n",
              "      <th>3</th>\n",
              "      <td>ACELGA</td>\n",
              "      <td>Andalucia</td>\n",
              "      <td>2018</td>\n",
              "      <td>2</td>\n",
              "      <td>0.734375</td>\n",
              "      <td>37237.0</td>\n",
              "      <td>9.68</td>\n",
              "      <td>0.0</td>\n",
              "      <td>3</td>\n",
              "      <td>3</td>\n",
              "      <td>6.0</td>\n",
              "      <td>33.0</td>\n",
              "      <td>15.0</td>\n",
              "      <td>25.0</td>\n",
              "      <td>4</td>\n",
              "      <td>10</td>\n",
              "      <td>-1.0</td>\n",
              "      <td>-3.0</td>\n",
              "      <td>NaN</td>\n",
              "      <td>NaN</td>\n",
              "      <td>NaN</td>\n",
              "    </tr>\n",
              "    <tr>\n",
              "      <th>4</th>\n",
              "      <td>ACELGA</td>\n",
              "      <td>Andalucia</td>\n",
              "      <td>2018</td>\n",
              "      <td>3</td>\n",
              "      <td>0.672059</td>\n",
              "      <td>78318.0</td>\n",
              "      <td>11.90</td>\n",
              "      <td>2.0</td>\n",
              "      <td>3</td>\n",
              "      <td>3</td>\n",
              "      <td>6.0</td>\n",
              "      <td>33.0</td>\n",
              "      <td>15.0</td>\n",
              "      <td>25.0</td>\n",
              "      <td>4</td>\n",
              "      <td>10</td>\n",
              "      <td>-6.0</td>\n",
              "      <td>-8.0</td>\n",
              "      <td>NaN</td>\n",
              "      <td>NaN</td>\n",
              "      <td>NaN</td>\n",
              "    </tr>\n",
              "  </tbody>\n",
              "</table>\n",
              "</div>\n",
              "      <button class=\"colab-df-convert\" onclick=\"convertToInteractive('df-f27d2e7f-0c9d-45f1-b17d-2216f52215be')\"\n",
              "              title=\"Convert this dataframe to an interactive table.\"\n",
              "              style=\"display:none;\">\n",
              "        \n",
              "  <svg xmlns=\"http://www.w3.org/2000/svg\" height=\"24px\"viewBox=\"0 0 24 24\"\n",
              "       width=\"24px\">\n",
              "    <path d=\"M0 0h24v24H0V0z\" fill=\"none\"/>\n",
              "    <path d=\"M18.56 5.44l.94 2.06.94-2.06 2.06-.94-2.06-.94-.94-2.06-.94 2.06-2.06.94zm-11 1L8.5 8.5l.94-2.06 2.06-.94-2.06-.94L8.5 2.5l-.94 2.06-2.06.94zm10 10l.94 2.06.94-2.06 2.06-.94-2.06-.94-.94-2.06-.94 2.06-2.06.94z\"/><path d=\"M17.41 7.96l-1.37-1.37c-.4-.4-.92-.59-1.43-.59-.52 0-1.04.2-1.43.59L10.3 9.45l-7.72 7.72c-.78.78-.78 2.05 0 2.83L4 21.41c.39.39.9.59 1.41.59.51 0 1.02-.2 1.41-.59l7.78-7.78 2.81-2.81c.8-.78.8-2.07 0-2.86zM5.41 20L4 18.59l7.72-7.72 1.47 1.35L5.41 20z\"/>\n",
              "  </svg>\n",
              "      </button>\n",
              "      \n",
              "  <style>\n",
              "    .colab-df-container {\n",
              "      display:flex;\n",
              "      flex-wrap:wrap;\n",
              "      gap: 12px;\n",
              "    }\n",
              "\n",
              "    .colab-df-convert {\n",
              "      background-color: #E8F0FE;\n",
              "      border: none;\n",
              "      border-radius: 50%;\n",
              "      cursor: pointer;\n",
              "      display: none;\n",
              "      fill: #1967D2;\n",
              "      height: 32px;\n",
              "      padding: 0 0 0 0;\n",
              "      width: 32px;\n",
              "    }\n",
              "\n",
              "    .colab-df-convert:hover {\n",
              "      background-color: #E2EBFA;\n",
              "      box-shadow: 0px 1px 2px rgba(60, 64, 67, 0.3), 0px 1px 3px 1px rgba(60, 64, 67, 0.15);\n",
              "      fill: #174EA6;\n",
              "    }\n",
              "\n",
              "    [theme=dark] .colab-df-convert {\n",
              "      background-color: #3B4455;\n",
              "      fill: #D2E3FC;\n",
              "    }\n",
              "\n",
              "    [theme=dark] .colab-df-convert:hover {\n",
              "      background-color: #434B5C;\n",
              "      box-shadow: 0px 1px 3px 1px rgba(0, 0, 0, 0.15);\n",
              "      filter: drop-shadow(0px 1px 2px rgba(0, 0, 0, 0.3));\n",
              "      fill: #FFFFFF;\n",
              "    }\n",
              "  </style>\n",
              "\n",
              "      <script>\n",
              "        const buttonEl =\n",
              "          document.querySelector('#df-f27d2e7f-0c9d-45f1-b17d-2216f52215be button.colab-df-convert');\n",
              "        buttonEl.style.display =\n",
              "          google.colab.kernel.accessAllowed ? 'block' : 'none';\n",
              "\n",
              "        async function convertToInteractive(key) {\n",
              "          const element = document.querySelector('#df-f27d2e7f-0c9d-45f1-b17d-2216f52215be');\n",
              "          const dataTable =\n",
              "            await google.colab.kernel.invokeFunction('convertToInteractive',\n",
              "                                                     [key], {});\n",
              "          if (!dataTable) return;\n",
              "\n",
              "          const docLinkHtml = 'Like what you see? Visit the ' +\n",
              "            '<a target=\"_blank\" href=https://colab.research.google.com/notebooks/data_table.ipynb>data table notebook</a>'\n",
              "            + ' to learn more about interactive tables.';\n",
              "          element.innerHTML = '';\n",
              "          dataTable['output_type'] = 'display_data';\n",
              "          await google.colab.output.renderOutput(dataTable, element);\n",
              "          const docLink = document.createElement('div');\n",
              "          docLink.innerHTML = docLinkHtml;\n",
              "          element.appendChild(docLink);\n",
              "        }\n",
              "      </script>\n",
              "    </div>\n",
              "  </div>\n",
              "  "
            ],
            "text/plain": [
              "  product     origen  ...  Volumen_max_recolec  MONTH_max_recolec\n",
              "0  ACELGA  Andalucia  ...                  NaN                NaN\n",
              "1  ACELGA  Andalucia  ...                  NaN                NaN\n",
              "2  ACELGA  Andalucia  ...                  NaN                NaN\n",
              "3  ACELGA  Andalucia  ...                  NaN                NaN\n",
              "4  ACELGA  Andalucia  ...                  NaN                NaN\n",
              "\n",
              "[5 rows x 21 columns]"
            ]
          },
          "metadata": {},
          "execution_count": 5
        }
      ]
    },
    {
      "cell_type": "code",
      "source": [
        "agroanalisis.dropna(inplace=True)"
      ],
      "metadata": {
        "id": "THno3alyIs_L"
      },
      "execution_count": 6,
      "outputs": []
    },
    {
      "cell_type": "markdown",
      "source": [
        "Se comprueba si algún registro se repite para un producto, lugar y fecha, ya que podría haber periodos solapados."
      ],
      "metadata": {
        "id": "sSvsm10UT07E"
      }
    },
    {
      "cell_type": "code",
      "source": [
        "agroanalisis.groupby(['product', 'origen','YEAR', 'MONTH'], as_index=False).count()"
      ],
      "metadata": {
        "colab": {
          "base_uri": "https://localhost:8080/",
          "height": 557
        },
        "id": "5Tmt7kZTM138",
        "outputId": "eafa2b65-5f29-4c7e-de05-b51aff7af1fb"
      },
      "execution_count": 7,
      "outputs": [
        {
          "output_type": "execute_result",
          "data": {
            "text/html": [
              "\n",
              "  <div id=\"df-639cbbb3-4230-45ee-8d66-dcb6f2833acf\">\n",
              "    <div class=\"colab-df-container\">\n",
              "      <div>\n",
              "<style scoped>\n",
              "    .dataframe tbody tr th:only-of-type {\n",
              "        vertical-align: middle;\n",
              "    }\n",
              "\n",
              "    .dataframe tbody tr th {\n",
              "        vertical-align: top;\n",
              "    }\n",
              "\n",
              "    .dataframe thead th {\n",
              "        text-align: right;\n",
              "    }\n",
              "</style>\n",
              "<table border=\"1\" class=\"dataframe\">\n",
              "  <thead>\n",
              "    <tr style=\"text-align: right;\">\n",
              "      <th></th>\n",
              "      <th>product</th>\n",
              "      <th>origen</th>\n",
              "      <th>YEAR</th>\n",
              "      <th>MONTH</th>\n",
              "      <th>price_mean</th>\n",
              "      <th>Volumen</th>\n",
              "      <th>temperatura</th>\n",
              "      <th>Precipitacion_group</th>\n",
              "      <th>Min siem-recol</th>\n",
              "      <th>Max siem-recol</th>\n",
              "      <th>Temperatura min req</th>\n",
              "      <th>Temperatura max req</th>\n",
              "      <th>Temperatura min opt</th>\n",
              "      <th>Temperatura max opt</th>\n",
              "      <th>Dias entre riego zona seca</th>\n",
              "      <th>Dias entre riego zona húmeda</th>\n",
              "      <th>distancia_mes_inicio_siem</th>\n",
              "      <th>distancia_mes_fin_siem</th>\n",
              "      <th>price_max_recolec</th>\n",
              "      <th>Volumen_max_recolec</th>\n",
              "      <th>MONTH_max_recolec</th>\n",
              "    </tr>\n",
              "  </thead>\n",
              "  <tbody>\n",
              "    <tr>\n",
              "      <th>0</th>\n",
              "      <td>ACELGA</td>\n",
              "      <td>Andalucia</td>\n",
              "      <td>2018</td>\n",
              "      <td>3</td>\n",
              "      <td>1</td>\n",
              "      <td>1</td>\n",
              "      <td>1</td>\n",
              "      <td>1</td>\n",
              "      <td>1</td>\n",
              "      <td>1</td>\n",
              "      <td>1</td>\n",
              "      <td>1</td>\n",
              "      <td>1</td>\n",
              "      <td>1</td>\n",
              "      <td>1</td>\n",
              "      <td>1</td>\n",
              "      <td>1</td>\n",
              "      <td>1</td>\n",
              "      <td>1</td>\n",
              "      <td>1</td>\n",
              "      <td>1</td>\n",
              "    </tr>\n",
              "    <tr>\n",
              "      <th>1</th>\n",
              "      <td>ACELGA</td>\n",
              "      <td>Andalucia</td>\n",
              "      <td>2018</td>\n",
              "      <td>4</td>\n",
              "      <td>1</td>\n",
              "      <td>1</td>\n",
              "      <td>1</td>\n",
              "      <td>1</td>\n",
              "      <td>1</td>\n",
              "      <td>1</td>\n",
              "      <td>1</td>\n",
              "      <td>1</td>\n",
              "      <td>1</td>\n",
              "      <td>1</td>\n",
              "      <td>1</td>\n",
              "      <td>1</td>\n",
              "      <td>1</td>\n",
              "      <td>1</td>\n",
              "      <td>1</td>\n",
              "      <td>1</td>\n",
              "      <td>1</td>\n",
              "    </tr>\n",
              "    <tr>\n",
              "      <th>2</th>\n",
              "      <td>ACELGA</td>\n",
              "      <td>Andalucia</td>\n",
              "      <td>2018</td>\n",
              "      <td>5</td>\n",
              "      <td>1</td>\n",
              "      <td>1</td>\n",
              "      <td>1</td>\n",
              "      <td>1</td>\n",
              "      <td>1</td>\n",
              "      <td>1</td>\n",
              "      <td>1</td>\n",
              "      <td>1</td>\n",
              "      <td>1</td>\n",
              "      <td>1</td>\n",
              "      <td>1</td>\n",
              "      <td>1</td>\n",
              "      <td>1</td>\n",
              "      <td>1</td>\n",
              "      <td>1</td>\n",
              "      <td>1</td>\n",
              "      <td>1</td>\n",
              "    </tr>\n",
              "    <tr>\n",
              "      <th>3</th>\n",
              "      <td>ACELGA</td>\n",
              "      <td>Andalucia</td>\n",
              "      <td>2018</td>\n",
              "      <td>10</td>\n",
              "      <td>1</td>\n",
              "      <td>1</td>\n",
              "      <td>1</td>\n",
              "      <td>1</td>\n",
              "      <td>1</td>\n",
              "      <td>1</td>\n",
              "      <td>1</td>\n",
              "      <td>1</td>\n",
              "      <td>1</td>\n",
              "      <td>1</td>\n",
              "      <td>1</td>\n",
              "      <td>1</td>\n",
              "      <td>1</td>\n",
              "      <td>1</td>\n",
              "      <td>1</td>\n",
              "      <td>1</td>\n",
              "      <td>1</td>\n",
              "    </tr>\n",
              "    <tr>\n",
              "      <th>4</th>\n",
              "      <td>ACELGA</td>\n",
              "      <td>Andalucia</td>\n",
              "      <td>2018</td>\n",
              "      <td>11</td>\n",
              "      <td>1</td>\n",
              "      <td>1</td>\n",
              "      <td>1</td>\n",
              "      <td>1</td>\n",
              "      <td>1</td>\n",
              "      <td>1</td>\n",
              "      <td>1</td>\n",
              "      <td>1</td>\n",
              "      <td>1</td>\n",
              "      <td>1</td>\n",
              "      <td>1</td>\n",
              "      <td>1</td>\n",
              "      <td>1</td>\n",
              "      <td>1</td>\n",
              "      <td>1</td>\n",
              "      <td>1</td>\n",
              "      <td>1</td>\n",
              "    </tr>\n",
              "    <tr>\n",
              "      <th>...</th>\n",
              "      <td>...</td>\n",
              "      <td>...</td>\n",
              "      <td>...</td>\n",
              "      <td>...</td>\n",
              "      <td>...</td>\n",
              "      <td>...</td>\n",
              "      <td>...</td>\n",
              "      <td>...</td>\n",
              "      <td>...</td>\n",
              "      <td>...</td>\n",
              "      <td>...</td>\n",
              "      <td>...</td>\n",
              "      <td>...</td>\n",
              "      <td>...</td>\n",
              "      <td>...</td>\n",
              "      <td>...</td>\n",
              "      <td>...</td>\n",
              "      <td>...</td>\n",
              "      <td>...</td>\n",
              "      <td>...</td>\n",
              "      <td>...</td>\n",
              "    </tr>\n",
              "    <tr>\n",
              "      <th>3817</th>\n",
              "      <td>ZANAHORIA</td>\n",
              "      <td>Valencia</td>\n",
              "      <td>2019</td>\n",
              "      <td>11</td>\n",
              "      <td>1</td>\n",
              "      <td>1</td>\n",
              "      <td>1</td>\n",
              "      <td>1</td>\n",
              "      <td>1</td>\n",
              "      <td>1</td>\n",
              "      <td>1</td>\n",
              "      <td>1</td>\n",
              "      <td>1</td>\n",
              "      <td>1</td>\n",
              "      <td>1</td>\n",
              "      <td>1</td>\n",
              "      <td>1</td>\n",
              "      <td>1</td>\n",
              "      <td>1</td>\n",
              "      <td>1</td>\n",
              "      <td>1</td>\n",
              "    </tr>\n",
              "    <tr>\n",
              "      <th>3818</th>\n",
              "      <td>ZANAHORIA</td>\n",
              "      <td>Valencia</td>\n",
              "      <td>2020</td>\n",
              "      <td>2</td>\n",
              "      <td>1</td>\n",
              "      <td>1</td>\n",
              "      <td>1</td>\n",
              "      <td>1</td>\n",
              "      <td>1</td>\n",
              "      <td>1</td>\n",
              "      <td>1</td>\n",
              "      <td>1</td>\n",
              "      <td>1</td>\n",
              "      <td>1</td>\n",
              "      <td>1</td>\n",
              "      <td>1</td>\n",
              "      <td>1</td>\n",
              "      <td>1</td>\n",
              "      <td>1</td>\n",
              "      <td>1</td>\n",
              "      <td>1</td>\n",
              "    </tr>\n",
              "    <tr>\n",
              "      <th>3819</th>\n",
              "      <td>ZANAHORIA</td>\n",
              "      <td>Valencia</td>\n",
              "      <td>2020</td>\n",
              "      <td>3</td>\n",
              "      <td>1</td>\n",
              "      <td>1</td>\n",
              "      <td>1</td>\n",
              "      <td>1</td>\n",
              "      <td>1</td>\n",
              "      <td>1</td>\n",
              "      <td>1</td>\n",
              "      <td>1</td>\n",
              "      <td>1</td>\n",
              "      <td>1</td>\n",
              "      <td>1</td>\n",
              "      <td>1</td>\n",
              "      <td>1</td>\n",
              "      <td>1</td>\n",
              "      <td>1</td>\n",
              "      <td>1</td>\n",
              "      <td>1</td>\n",
              "    </tr>\n",
              "    <tr>\n",
              "      <th>3820</th>\n",
              "      <td>ZANAHORIA</td>\n",
              "      <td>Valencia</td>\n",
              "      <td>2020</td>\n",
              "      <td>4</td>\n",
              "      <td>1</td>\n",
              "      <td>1</td>\n",
              "      <td>1</td>\n",
              "      <td>1</td>\n",
              "      <td>1</td>\n",
              "      <td>1</td>\n",
              "      <td>1</td>\n",
              "      <td>1</td>\n",
              "      <td>1</td>\n",
              "      <td>1</td>\n",
              "      <td>1</td>\n",
              "      <td>1</td>\n",
              "      <td>1</td>\n",
              "      <td>1</td>\n",
              "      <td>1</td>\n",
              "      <td>1</td>\n",
              "      <td>1</td>\n",
              "    </tr>\n",
              "    <tr>\n",
              "      <th>3821</th>\n",
              "      <td>ZANAHORIA</td>\n",
              "      <td>Valencia</td>\n",
              "      <td>2020</td>\n",
              "      <td>5</td>\n",
              "      <td>1</td>\n",
              "      <td>1</td>\n",
              "      <td>1</td>\n",
              "      <td>1</td>\n",
              "      <td>1</td>\n",
              "      <td>1</td>\n",
              "      <td>1</td>\n",
              "      <td>1</td>\n",
              "      <td>1</td>\n",
              "      <td>1</td>\n",
              "      <td>1</td>\n",
              "      <td>1</td>\n",
              "      <td>1</td>\n",
              "      <td>1</td>\n",
              "      <td>1</td>\n",
              "      <td>1</td>\n",
              "      <td>1</td>\n",
              "    </tr>\n",
              "  </tbody>\n",
              "</table>\n",
              "<p>3822 rows × 21 columns</p>\n",
              "</div>\n",
              "      <button class=\"colab-df-convert\" onclick=\"convertToInteractive('df-639cbbb3-4230-45ee-8d66-dcb6f2833acf')\"\n",
              "              title=\"Convert this dataframe to an interactive table.\"\n",
              "              style=\"display:none;\">\n",
              "        \n",
              "  <svg xmlns=\"http://www.w3.org/2000/svg\" height=\"24px\"viewBox=\"0 0 24 24\"\n",
              "       width=\"24px\">\n",
              "    <path d=\"M0 0h24v24H0V0z\" fill=\"none\"/>\n",
              "    <path d=\"M18.56 5.44l.94 2.06.94-2.06 2.06-.94-2.06-.94-.94-2.06-.94 2.06-2.06.94zm-11 1L8.5 8.5l.94-2.06 2.06-.94-2.06-.94L8.5 2.5l-.94 2.06-2.06.94zm10 10l.94 2.06.94-2.06 2.06-.94-2.06-.94-.94-2.06-.94 2.06-2.06.94z\"/><path d=\"M17.41 7.96l-1.37-1.37c-.4-.4-.92-.59-1.43-.59-.52 0-1.04.2-1.43.59L10.3 9.45l-7.72 7.72c-.78.78-.78 2.05 0 2.83L4 21.41c.39.39.9.59 1.41.59.51 0 1.02-.2 1.41-.59l7.78-7.78 2.81-2.81c.8-.78.8-2.07 0-2.86zM5.41 20L4 18.59l7.72-7.72 1.47 1.35L5.41 20z\"/>\n",
              "  </svg>\n",
              "      </button>\n",
              "      \n",
              "  <style>\n",
              "    .colab-df-container {\n",
              "      display:flex;\n",
              "      flex-wrap:wrap;\n",
              "      gap: 12px;\n",
              "    }\n",
              "\n",
              "    .colab-df-convert {\n",
              "      background-color: #E8F0FE;\n",
              "      border: none;\n",
              "      border-radius: 50%;\n",
              "      cursor: pointer;\n",
              "      display: none;\n",
              "      fill: #1967D2;\n",
              "      height: 32px;\n",
              "      padding: 0 0 0 0;\n",
              "      width: 32px;\n",
              "    }\n",
              "\n",
              "    .colab-df-convert:hover {\n",
              "      background-color: #E2EBFA;\n",
              "      box-shadow: 0px 1px 2px rgba(60, 64, 67, 0.3), 0px 1px 3px 1px rgba(60, 64, 67, 0.15);\n",
              "      fill: #174EA6;\n",
              "    }\n",
              "\n",
              "    [theme=dark] .colab-df-convert {\n",
              "      background-color: #3B4455;\n",
              "      fill: #D2E3FC;\n",
              "    }\n",
              "\n",
              "    [theme=dark] .colab-df-convert:hover {\n",
              "      background-color: #434B5C;\n",
              "      box-shadow: 0px 1px 3px 1px rgba(0, 0, 0, 0.15);\n",
              "      filter: drop-shadow(0px 1px 2px rgba(0, 0, 0, 0.3));\n",
              "      fill: #FFFFFF;\n",
              "    }\n",
              "  </style>\n",
              "\n",
              "      <script>\n",
              "        const buttonEl =\n",
              "          document.querySelector('#df-639cbbb3-4230-45ee-8d66-dcb6f2833acf button.colab-df-convert');\n",
              "        buttonEl.style.display =\n",
              "          google.colab.kernel.accessAllowed ? 'block' : 'none';\n",
              "\n",
              "        async function convertToInteractive(key) {\n",
              "          const element = document.querySelector('#df-639cbbb3-4230-45ee-8d66-dcb6f2833acf');\n",
              "          const dataTable =\n",
              "            await google.colab.kernel.invokeFunction('convertToInteractive',\n",
              "                                                     [key], {});\n",
              "          if (!dataTable) return;\n",
              "\n",
              "          const docLinkHtml = 'Like what you see? Visit the ' +\n",
              "            '<a target=\"_blank\" href=https://colab.research.google.com/notebooks/data_table.ipynb>data table notebook</a>'\n",
              "            + ' to learn more about interactive tables.';\n",
              "          element.innerHTML = '';\n",
              "          dataTable['output_type'] = 'display_data';\n",
              "          await google.colab.output.renderOutput(dataTable, element);\n",
              "          const docLink = document.createElement('div');\n",
              "          docLink.innerHTML = docLinkHtml;\n",
              "          element.appendChild(docLink);\n",
              "        }\n",
              "      </script>\n",
              "    </div>\n",
              "  </div>\n",
              "  "
            ],
            "text/plain": [
              "        product     origen  ...  Volumen_max_recolec  MONTH_max_recolec\n",
              "0        ACELGA  Andalucia  ...                    1                  1\n",
              "1        ACELGA  Andalucia  ...                    1                  1\n",
              "2        ACELGA  Andalucia  ...                    1                  1\n",
              "3        ACELGA  Andalucia  ...                    1                  1\n",
              "4        ACELGA  Andalucia  ...                    1                  1\n",
              "...         ...        ...  ...                  ...                ...\n",
              "3817  ZANAHORIA   Valencia  ...                    1                  1\n",
              "3818  ZANAHORIA   Valencia  ...                    1                  1\n",
              "3819  ZANAHORIA   Valencia  ...                    1                  1\n",
              "3820  ZANAHORIA   Valencia  ...                    1                  1\n",
              "3821  ZANAHORIA   Valencia  ...                    1                  1\n",
              "\n",
              "[3822 rows x 21 columns]"
            ]
          },
          "metadata": {},
          "execution_count": 7
        }
      ]
    },
    {
      "cell_type": "markdown",
      "source": [
        "Para relacionar la humedad de una zona con la necesidad de riego de cada cultivo se ha llevado a cabo una discretización manual, por la cual se comprueban los valores que pueden tomar todos los cultivos y se agrupan en 3 grupos, de los cuales el 0 corresponde al grupo que menos necesidad hídrica tiene y el 2 al que más necesidad hídrica tiene."
      ],
      "metadata": {
        "id": "rbjLulGbUAQV"
      }
    },
    {
      "cell_type": "code",
      "source": [
        "agroanalisis['Dias entre riego zona seca'].hist(bins=15)"
      ],
      "metadata": {
        "colab": {
          "base_uri": "https://localhost:8080/",
          "height": 282
        },
        "id": "j9plSSXjX709",
        "outputId": "07b763c9-ee28-4abf-abe9-be222a7ea8db"
      },
      "execution_count": 8,
      "outputs": [
        {
          "output_type": "execute_result",
          "data": {
            "text/plain": [
              "<matplotlib.axes._subplots.AxesSubplot at 0x7f54ccc94fd0>"
            ]
          },
          "metadata": {},
          "execution_count": 8
        },
        {
          "output_type": "display_data",
          "data": {
            "image/png": "[encoded data removed]",
            "text/plain": [
              "<Figure size 432x288 with 1 Axes>"
            ]
          },
          "metadata": {
            "needs_background": "light"
          }
        }
      ]
    },
    {
      "cell_type": "code",
      "source": [
        "agroanalisis['Dias entre riego zona húmeda'].hist()"
      ],
      "metadata": {
        "colab": {
          "base_uri": "https://localhost:8080/",
          "height": 282
        },
        "id": "9iByfW08YDVh",
        "outputId": "3685ee9e-2c8a-4fc3-e24b-5738b42fdae5"
      },
      "execution_count": 9,
      "outputs": [
        {
          "output_type": "execute_result",
          "data": {
            "text/plain": [
              "<matplotlib.axes._subplots.AxesSubplot at 0x7f54ccc09ed0>"
            ]
          },
          "metadata": {},
          "execution_count": 9
        },
        {
          "output_type": "display_data",
          "data": {
            "image/png": "[encoded data removed]",
            "text/plain": [
              "<Figure size 432x288 with 1 Axes>"
            ]
          },
          "metadata": {
            "needs_background": "light"
          }
        }
      ]
    },
    {
      "cell_type": "code",
      "source": [
        "for index in agroanalisis.index:\n",
        "  if agroanalisis.at[index, 'Dias entre riego zona seca'] < 2:\n",
        "    val = 2\n",
        "  elif agroanalisis.at[index, 'Dias entre riego zona seca'] < 4:\n",
        "    val = 1\n",
        "  else:\n",
        "    val = 0\n",
        "  agroanalisis.at[index, 'need_humidity_group'] = val"
      ],
      "metadata": {
        "id": "K0RkFdooaaUW"
      },
      "execution_count": 10,
      "outputs": []
    },
    {
      "cell_type": "markdown",
      "source": [
        "Con la necesidad de riego ya discretizada y el precio en el mes de recolección calculado, podemos eliminar las columnas correspondientes a los días entre riego para zonas secas y húmedas y a los meses de cultivo, ya que no volverán a ser necesarias."
      ],
      "metadata": {
        "id": "3XwN5zgdUGpM"
      }
    },
    {
      "cell_type": "code",
      "source": [
        "agroanalisis.drop(axis=1, labels=['Dias entre riego zona seca', 'Dias entre riego zona húmeda', 'Min siem-recol', 'Max siem-recol'], inplace=True)"
      ],
      "metadata": {
        "id": "j8TILxDsbyAm"
      },
      "execution_count": 11,
      "outputs": []
    },
    {
      "cell_type": "code",
      "source": [
        "\n",
        "agroanalisis['Volumen_max_recolec'].describe()"
      ],
      "metadata": {
        "colab": {
          "base_uri": "https://localhost:8080/"
        },
        "id": "-LGU_JsklZHq",
        "outputId": "64de8bdc-6f8c-4bf6-e323-b62d329e82b5"
      },
      "execution_count": 12,
      "outputs": [
        {
          "output_type": "execute_result",
          "data": {
            "text/plain": [
              "count    3.822000e+03\n",
              "mean     3.896903e+05\n",
              "std      1.066783e+06\n",
              "min      0.000000e+00\n",
              "25%      1.144100e+04\n",
              "50%      5.636800e+04\n",
              "75%      2.354790e+05\n",
              "max      1.452241e+07\n",
              "Name: Volumen_max_recolec, dtype: float64"
            ]
          },
          "metadata": {},
          "execution_count": 12
        }
      ]
    },
    {
      "cell_type": "code",
      "source": [
        "agroanalisis.drop(agroanalisis[agroanalisis['Volumen_max_recolec'] <= 0].index, inplace=True)\n",
        "agroanalisis.drop(labels=['price_mean', 'Volumen'], axis=1, inplace=True)\n"
      ],
      "metadata": {
        "id": "R9L00Bj6peoi"
      },
      "execution_count": 13,
      "outputs": []
    },
    {
      "cell_type": "markdown",
      "source": [
        "## 3. Línea de trabajo 1: ¿Cuál es el cultivo más rentable a sembrar?"
      ],
      "metadata": {
        "id": "ww6SlxGg3IKU"
      }
    },
    {
      "cell_type": "markdown",
      "source": [
        "### 3.1 Construcción del campo objetivo"
      ],
      "metadata": {
        "id": "EKep3I0TLo39"
      }
    },
    {
      "cell_type": "markdown",
      "source": [
        "A continuación, se creará una columna/característica en el *Dataframe*, que se corresponderá con la columna objetivo.  \n",
        "El objetivo es etiquetar los 5 mejores cultivos (con mejor se refiere a un cultivo con el precio de los más altos) por mes, comunidad y año de esa fila. Así, para una agrupación por mes, comunidad y año, solo 5 cultivos tendrán un valor 1 en la nueva columna *rentable*. \n",
        "Así, esta columna tomará valores 0 o 1, representando que es no rentable y rentable, respectivamente."
      ],
      "metadata": {
        "id": "a8opKxy6MKas"
      }
    },
    {
      "cell_type": "code",
      "source": [
        "agroanalisis['rentable'] = 0 # Creación de nueva columna, todos los valores 0\n",
        "agroanalisis.head()"
      ],
      "metadata": {
        "colab": {
          "base_uri": "https://localhost:8080/",
          "height": 288
        },
        "id": "77AsZ2QbqjHh",
        "outputId": "cc5365a2-d062-44b7-e683-357d01cd4833"
      },
      "execution_count": 14,
      "outputs": [
        {
          "output_type": "execute_result",
          "data": {
            "text/html": [
              "\n",
              "  <div id=\"df-c90eb1c0-ae64-458a-8b94-e89629e8cd5e\">\n",
              "    <div class=\"colab-df-container\">\n",
              "      <div>\n",
              "<style scoped>\n",
              "    .dataframe tbody tr th:only-of-type {\n",
              "        vertical-align: middle;\n",
              "    }\n",
              "\n",
              "    .dataframe tbody tr th {\n",
              "        vertical-align: top;\n",
              "    }\n",
              "\n",
              "    .dataframe thead th {\n",
              "        text-align: right;\n",
              "    }\n",
              "</style>\n",
              "<table border=\"1\" class=\"dataframe\">\n",
              "  <thead>\n",
              "    <tr style=\"text-align: right;\">\n",
              "      <th></th>\n",
              "      <th>product</th>\n",
              "      <th>origen</th>\n",
              "      <th>YEAR</th>\n",
              "      <th>MONTH</th>\n",
              "      <th>temperatura</th>\n",
              "      <th>Precipitacion_group</th>\n",
              "      <th>Temperatura min req</th>\n",
              "      <th>Temperatura max req</th>\n",
              "      <th>Temperatura min opt</th>\n",
              "      <th>Temperatura max opt</th>\n",
              "      <th>distancia_mes_inicio_siem</th>\n",
              "      <th>distancia_mes_fin_siem</th>\n",
              "      <th>price_max_recolec</th>\n",
              "      <th>Volumen_max_recolec</th>\n",
              "      <th>MONTH_max_recolec</th>\n",
              "      <th>need_humidity_group</th>\n",
              "      <th>rentable</th>\n",
              "    </tr>\n",
              "  </thead>\n",
              "  <tbody>\n",
              "    <tr>\n",
              "      <th>5</th>\n",
              "      <td>ACELGA</td>\n",
              "      <td>Andalucia</td>\n",
              "      <td>2018</td>\n",
              "      <td>3</td>\n",
              "      <td>11.90</td>\n",
              "      <td>2.0</td>\n",
              "      <td>6.0</td>\n",
              "      <td>33.0</td>\n",
              "      <td>15.0</td>\n",
              "      <td>25.0</td>\n",
              "      <td>0.0</td>\n",
              "      <td>-2.0</td>\n",
              "      <td>1.035714</td>\n",
              "      <td>58905.0</td>\n",
              "      <td>6.0</td>\n",
              "      <td>0.0</td>\n",
              "      <td>0</td>\n",
              "    </tr>\n",
              "    <tr>\n",
              "      <th>7</th>\n",
              "      <td>ACELGA</td>\n",
              "      <td>Andalucia</td>\n",
              "      <td>2018</td>\n",
              "      <td>4</td>\n",
              "      <td>14.84</td>\n",
              "      <td>1.0</td>\n",
              "      <td>6.0</td>\n",
              "      <td>33.0</td>\n",
              "      <td>15.0</td>\n",
              "      <td>25.0</td>\n",
              "      <td>1.0</td>\n",
              "      <td>-1.0</td>\n",
              "      <td>0.725000</td>\n",
              "      <td>16570.0</td>\n",
              "      <td>7.0</td>\n",
              "      <td>0.0</td>\n",
              "      <td>0</td>\n",
              "    </tr>\n",
              "    <tr>\n",
              "      <th>9</th>\n",
              "      <td>ACELGA</td>\n",
              "      <td>Andalucia</td>\n",
              "      <td>2018</td>\n",
              "      <td>5</td>\n",
              "      <td>17.50</td>\n",
              "      <td>0.0</td>\n",
              "      <td>6.0</td>\n",
              "      <td>33.0</td>\n",
              "      <td>15.0</td>\n",
              "      <td>25.0</td>\n",
              "      <td>2.0</td>\n",
              "      <td>0.0</td>\n",
              "      <td>0.529167</td>\n",
              "      <td>35470.0</td>\n",
              "      <td>8.0</td>\n",
              "      <td>0.0</td>\n",
              "      <td>0</td>\n",
              "    </tr>\n",
              "    <tr>\n",
              "      <th>18</th>\n",
              "      <td>ACELGA</td>\n",
              "      <td>Andalucia</td>\n",
              "      <td>2018</td>\n",
              "      <td>10</td>\n",
              "      <td>18.05</td>\n",
              "      <td>1.0</td>\n",
              "      <td>6.0</td>\n",
              "      <td>33.0</td>\n",
              "      <td>15.0</td>\n",
              "      <td>25.0</td>\n",
              "      <td>1.0</td>\n",
              "      <td>-1.0</td>\n",
              "      <td>0.880000</td>\n",
              "      <td>61704.0</td>\n",
              "      <td>1.0</td>\n",
              "      <td>0.0</td>\n",
              "      <td>0</td>\n",
              "    </tr>\n",
              "    <tr>\n",
              "      <th>20</th>\n",
              "      <td>ACELGA</td>\n",
              "      <td>Andalucia</td>\n",
              "      <td>2018</td>\n",
              "      <td>11</td>\n",
              "      <td>13.19</td>\n",
              "      <td>1.0</td>\n",
              "      <td>6.0</td>\n",
              "      <td>33.0</td>\n",
              "      <td>15.0</td>\n",
              "      <td>25.0</td>\n",
              "      <td>2.0</td>\n",
              "      <td>0.0</td>\n",
              "      <td>0.682381</td>\n",
              "      <td>106154.0</td>\n",
              "      <td>2.0</td>\n",
              "      <td>0.0</td>\n",
              "      <td>0</td>\n",
              "    </tr>\n",
              "  </tbody>\n",
              "</table>\n",
              "</div>\n",
              "      <button class=\"colab-df-convert\" onclick=\"convertToInteractive('df-c90eb1c0-ae64-458a-8b94-e89629e8cd5e')\"\n",
              "              title=\"Convert this dataframe to an interactive table.\"\n",
              "              style=\"display:none;\">\n",
              "        \n",
              "  <svg xmlns=\"http://www.w3.org/2000/svg\" height=\"24px\"viewBox=\"0 0 24 24\"\n",
              "       width=\"24px\">\n",
              "    <path d=\"M0 0h24v24H0V0z\" fill=\"none\"/>\n",
              "    <path d=\"M18.56 5.44l.94 2.06.94-2.06 2.06-.94-2.06-.94-.94-2.06-.94 2.06-2.06.94zm-11 1L8.5 8.5l.94-2.06 2.06-.94-2.06-.94L8.5 2.5l-.94 2.06-2.06.94zm10 10l.94 2.06.94-2.06 2.06-.94-2.06-.94-.94-2.06-.94 2.06-2.06.94z\"/><path d=\"M17.41 7.96l-1.37-1.37c-.4-.4-.92-.59-1.43-.59-.52 0-1.04.2-1.43.59L10.3 9.45l-7.72 7.72c-.78.78-.78 2.05 0 2.83L4 21.41c.39.39.9.59 1.41.59.51 0 1.02-.2 1.41-.59l7.78-7.78 2.81-2.81c.8-.78.8-2.07 0-2.86zM5.41 20L4 18.59l7.72-7.72 1.47 1.35L5.41 20z\"/>\n",
              "  </svg>\n",
              "      </button>\n",
              "      \n",
              "  <style>\n",
              "    .colab-df-container {\n",
              "      display:flex;\n",
              "      flex-wrap:wrap;\n",
              "      gap: 12px;\n",
              "    }\n",
              "\n",
              "    .colab-df-convert {\n",
              "      background-color: #E8F0FE;\n",
              "      border: none;\n",
              "      border-radius: 50%;\n",
              "      cursor: pointer;\n",
              "      display: none;\n",
              "      fill: #1967D2;\n",
              "      height: 32px;\n",
              "      padding: 0 0 0 0;\n",
              "      width: 32px;\n",
              "    }\n",
              "\n",
              "    .colab-df-convert:hover {\n",
              "      background-color: #E2EBFA;\n",
              "      box-shadow: 0px 1px 2px rgba(60, 64, 67, 0.3), 0px 1px 3px 1px rgba(60, 64, 67, 0.15);\n",
              "      fill: #174EA6;\n",
              "    }\n",
              "\n",
              "    [theme=dark] .colab-df-convert {\n",
              "      background-color: #3B4455;\n",
              "      fill: #D2E3FC;\n",
              "    }\n",
              "\n",
              "    [theme=dark] .colab-df-convert:hover {\n",
              "      background-color: #434B5C;\n",
              "      box-shadow: 0px 1px 3px 1px rgba(0, 0, 0, 0.15);\n",
              "      filter: drop-shadow(0px 1px 2px rgba(0, 0, 0, 0.3));\n",
              "      fill: #FFFFFF;\n",
              "    }\n",
              "  </style>\n",
              "\n",
              "      <script>\n",
              "        const buttonEl =\n",
              "          document.querySelector('#df-c90eb1c0-ae64-458a-8b94-e89629e8cd5e button.colab-df-convert');\n",
              "        buttonEl.style.display =\n",
              "          google.colab.kernel.accessAllowed ? 'block' : 'none';\n",
              "\n",
              "        async function convertToInteractive(key) {\n",
              "          const element = document.querySelector('#df-c90eb1c0-ae64-458a-8b94-e89629e8cd5e');\n",
              "          const dataTable =\n",
              "            await google.colab.kernel.invokeFunction('convertToInteractive',\n",
              "                                                     [key], {});\n",
              "          if (!dataTable) return;\n",
              "\n",
              "          const docLinkHtml = 'Like what you see? Visit the ' +\n",
              "            '<a target=\"_blank\" href=https://colab.research.google.com/notebooks/data_table.ipynb>data table notebook</a>'\n",
              "            + ' to learn more about interactive tables.';\n",
              "          element.innerHTML = '';\n",
              "          dataTable['output_type'] = 'display_data';\n",
              "          await google.colab.output.renderOutput(dataTable, element);\n",
              "          const docLink = document.createElement('div');\n",
              "          docLink.innerHTML = docLinkHtml;\n",
              "          element.appendChild(docLink);\n",
              "        }\n",
              "      </script>\n",
              "    </div>\n",
              "  </div>\n",
              "  "
            ],
            "text/plain": [
              "   product     origen  YEAR  ...  MONTH_max_recolec  need_humidity_group  rentable\n",
              "5   ACELGA  Andalucia  2018  ...                6.0                  0.0         0\n",
              "7   ACELGA  Andalucia  2018  ...                7.0                  0.0         0\n",
              "9   ACELGA  Andalucia  2018  ...                8.0                  0.0         0\n",
              "18  ACELGA  Andalucia  2018  ...                1.0                  0.0         0\n",
              "20  ACELGA  Andalucia  2018  ...                2.0                  0.0         0\n",
              "\n",
              "[5 rows x 17 columns]"
            ]
          },
          "metadata": {},
          "execution_count": 14
        }
      ]
    },
    {
      "cell_type": "markdown",
      "source": [
        "A continuación, se irá iterando por filas teniendo en cuenta las posibles variaciones de origen, año y mes. Estas se ordenarán por *price_max_recolec* (de mayor a menor), y se tomarán las 5 primeras filas para tomar los 5 cultivos más rentables. En esas filas se pondrá un valor 1 en la nueva característica *rentable*."
      ],
      "metadata": {
        "id": "wMHYLC2-PVD8"
      }
    },
    {
      "cell_type": "code",
      "source": [
        "with warnings.catch_warnings():\n",
        "  warnings.filterwarnings('ignore')\n",
        "  for origen, year, month in itertools.product(agroanalisis['origen'].unique(), agroanalisis['YEAR'].unique(), agroanalisis['MONTH'].unique()):\n",
        "    result = agroanalisis[(agroanalisis['origen'] == origen) & \\\n",
        "                    (agroanalisis['YEAR'] == year) & (agroanalisis['MONTH'] == month)]\n",
        "    if len(result) > 0:\n",
        "      result.sort_values('price_max_recolec', axis=0, ascending=False, inplace=True)\n",
        "      agroanalisis.loc[(agroanalisis['origen'] == origen) & \\\n",
        "                      (agroanalisis['YEAR'] == year) & \\\n",
        "                      (agroanalisis['MONTH'] == month) & \n",
        "                      (agroanalisis['price_max_recolec'] >= list(result['price_max_recolec'][:5])[-1]), 'rentable' ] = 1\n"
      ],
      "metadata": {
        "id": "SwUqsPrkrUFB"
      },
      "execution_count": 15,
      "outputs": []
    },
    {
      "cell_type": "markdown",
      "source": [
        "### 3.2 Preparación de datos para el modelo"
      ],
      "metadata": {
        "id": "-aQqfyOXQ77E"
      }
    },
    {
      "cell_type": "markdown",
      "source": [
        "Se aplicará un modelo de clasificación de RandomForests.  \n",
        "Para ello, primero será necesario comprobar que no nos enfrentamos a un problema desbalanceado. Esta comprobación se realizará mediante el recuento de valores de cada tipo en la columna *rentable*."
      ],
      "metadata": {
        "id": "Y3PJh9z4RC-L"
      }
    },
    {
      "cell_type": "code",
      "source": [
        "sns.set(style='darkgrid')\n",
        "\n",
        "print(agroanalisis.groupby('rentable').size())\n",
        "   \n",
        "sns.catplot(x='rentable', data=agroanalisis, kind='count')"
      ],
      "metadata": {
        "colab": {
          "base_uri": "https://localhost:8080/",
          "height": 452
        },
        "id": "fU0Qhq9mzTgD",
        "outputId": "c223ccda-c333-433e-993f-bc043d03042f"
      },
      "execution_count": 16,
      "outputs": [
        {
          "output_type": "stream",
          "name": "stdout",
          "text": [
            "rentable\n",
            "0    2054\n",
            "1    1763\n",
            "dtype: int64\n"
          ]
        },
        {
          "output_type": "execute_result",
          "data": {
            "text/plain": [
              "<seaborn.axisgrid.FacetGrid at 0x7f54ccbdf5d0>"
            ]
          },
          "metadata": {},
          "execution_count": 16
        },
        {
          "output_type": "display_data",
          "data": {
            "image/png": "[encoded data removed]",
            "text/plain": [
              "<Figure size 360x360 with 1 Axes>"
            ]
          },
          "metadata": {}
        }
      ]
    },
    {
      "cell_type": "markdown",
      "source": [
        "Como se puede comprobar, se encuentra bastante balanceado y no es necesario aplicar ninguna transformación."
      ],
      "metadata": {
        "id": "uVbv5xs1RjCj"
      }
    },
    {
      "cell_type": "markdown",
      "source": [
        "##### 3.2.1 OneHot Encoding"
      ],
      "metadata": {
        "id": "tZ0ZvP1eRQU1"
      }
    },
    {
      "cell_type": "markdown",
      "source": [
        "En el *dataframe* existen datos de tipo categórico, los cuales pueden resultar problemáticos a la hora de aplicar el modelo de clasificación. Por ello, se ha decidido aplicar un encoding a este tipo de datos. Más concretamente, se ha decidido utilizar el **OneHot**, ya que otro tipo de encoding podría acarrear relaciones numéricas entre datos que realmente no poseen ningún tipo de orden."
      ],
      "metadata": {
        "id": "AfmfJoLGRpfE"
      }
    },
    {
      "cell_type": "markdown",
      "source": [
        "Se aplicará a los campos *product* y *origen*."
      ],
      "metadata": {
        "id": "h6t_jxncSTSb"
      }
    },
    {
      "cell_type": "code",
      "source": [
        "# OneHot de product\n",
        "df_OneHot = pd.get_dummies(agroanalisis[['product']])\n",
        "agroanalisis = pd.concat([agroanalisis, df_OneHot], axis = 1)"
      ],
      "metadata": {
        "id": "-FxcNDSoE2mM"
      },
      "execution_count": 17,
      "outputs": []
    },
    {
      "cell_type": "code",
      "source": [
        "# OneHot de origen\n",
        "df_OneHot = pd.get_dummies(agroanalisis[['origen']])\n",
        "agroanalisis = pd.concat([agroanalisis, df_OneHot], axis = 1)"
      ],
      "metadata": {
        "id": "Sc01sKdEGMm1"
      },
      "execution_count": 18,
      "outputs": []
    },
    {
      "cell_type": "code",
      "source": [
        "# Descarte de columnas no numéricas\n",
        "agroanalisis.drop(labels=['product', 'origen'], axis=1, inplace=True)\n",
        "agroanalisis.head()"
      ],
      "metadata": {
        "colab": {
          "base_uri": "https://localhost:8080/",
          "height": 288
        },
        "id": "XcxqH-4bF9Cz",
        "outputId": "2b4d2292-2d4f-4720-f87c-9f785567e1dd"
      },
      "execution_count": 19,
      "outputs": [
        {
          "output_type": "execute_result",
          "data": {
            "text/html": [
              "\n",
              "  <div id=\"df-a05cec3f-1af7-4597-9d5d-a92d5d7edf7d\">\n",
              "    <div class=\"colab-df-container\">\n",
              "      <div>\n",
              "<style scoped>\n",
              "    .dataframe tbody tr th:only-of-type {\n",
              "        vertical-align: middle;\n",
              "    }\n",
              "\n",
              "    .dataframe tbody tr th {\n",
              "        vertical-align: top;\n",
              "    }\n",
              "\n",
              "    .dataframe thead th {\n",
              "        text-align: right;\n",
              "    }\n",
              "</style>\n",
              "<table border=\"1\" class=\"dataframe\">\n",
              "  <thead>\n",
              "    <tr style=\"text-align: right;\">\n",
              "      <th></th>\n",
              "      <th>YEAR</th>\n",
              "      <th>MONTH</th>\n",
              "      <th>temperatura</th>\n",
              "      <th>Precipitacion_group</th>\n",
              "      <th>Temperatura min req</th>\n",
              "      <th>Temperatura max req</th>\n",
              "      <th>Temperatura min opt</th>\n",
              "      <th>Temperatura max opt</th>\n",
              "      <th>distancia_mes_inicio_siem</th>\n",
              "      <th>distancia_mes_fin_siem</th>\n",
              "      <th>price_max_recolec</th>\n",
              "      <th>Volumen_max_recolec</th>\n",
              "      <th>MONTH_max_recolec</th>\n",
              "      <th>need_humidity_group</th>\n",
              "      <th>rentable</th>\n",
              "      <th>product_ACELGA</th>\n",
              "      <th>product_AJO</th>\n",
              "      <th>product_ALCACHOFA</th>\n",
              "      <th>product_APIO</th>\n",
              "      <th>product_BERENJENA</th>\n",
              "      <th>product_BROCOLI</th>\n",
              "      <th>product_CALABACIN</th>\n",
              "      <th>product_CALABAZA</th>\n",
              "      <th>product_CEBOLLA</th>\n",
              "      <th>product_CEBOLLETA</th>\n",
              "      <th>product_CHIRIVIA</th>\n",
              "      <th>product_COL BRUSELAS</th>\n",
              "      <th>product_COL CHINA</th>\n",
              "      <th>product_COL LOMBARDA</th>\n",
              "      <th>product_COL REPOLLO</th>\n",
              "      <th>product_COLIFLOR</th>\n",
              "      <th>product_ESCAROLA</th>\n",
              "      <th>product_ESPINACA</th>\n",
              "      <th>product_GUISANTE</th>\n",
              "      <th>product_HABA</th>\n",
              "      <th>product_JUDIA</th>\n",
              "      <th>product_LECHUGA</th>\n",
              "      <th>product_MAIZ</th>\n",
              "      <th>product_MELON</th>\n",
              "      <th>product_NABO</th>\n",
              "      <th>product_PATATA</th>\n",
              "      <th>product_PEPINO</th>\n",
              "      <th>product_PEREJIL</th>\n",
              "      <th>product_PIMIENTO</th>\n",
              "      <th>product_PUERRO</th>\n",
              "      <th>product_RABANITO</th>\n",
              "      <th>product_REMOLACHA</th>\n",
              "      <th>product_SANDIA</th>\n",
              "      <th>product_TOMATE</th>\n",
              "      <th>product_ZANAHORIA</th>\n",
              "      <th>origen_Andalucia</th>\n",
              "      <th>origen_Aragon</th>\n",
              "      <th>origen_Asturias</th>\n",
              "      <th>origen_Baleares</th>\n",
              "      <th>origen_Canarias</th>\n",
              "      <th>origen_Cantabria</th>\n",
              "      <th>origen_Castilla La Mancha</th>\n",
              "      <th>origen_Castilla Leon</th>\n",
              "      <th>origen_Cataluña</th>\n",
              "      <th>origen_Extremadura</th>\n",
              "      <th>origen_Galicia</th>\n",
              "      <th>origen_La Rioja</th>\n",
              "      <th>origen_Madrid</th>\n",
              "      <th>origen_Murcia</th>\n",
              "      <th>origen_Navarra</th>\n",
              "      <th>origen_Pais Vasco</th>\n",
              "      <th>origen_Valencia</th>\n",
              "    </tr>\n",
              "  </thead>\n",
              "  <tbody>\n",
              "    <tr>\n",
              "      <th>5</th>\n",
              "      <td>2018</td>\n",
              "      <td>3</td>\n",
              "      <td>11.90</td>\n",
              "      <td>2.0</td>\n",
              "      <td>6.0</td>\n",
              "      <td>33.0</td>\n",
              "      <td>15.0</td>\n",
              "      <td>25.0</td>\n",
              "      <td>0.0</td>\n",
              "      <td>-2.0</td>\n",
              "      <td>1.035714</td>\n",
              "      <td>58905.0</td>\n",
              "      <td>6.0</td>\n",
              "      <td>0.0</td>\n",
              "      <td>0</td>\n",
              "      <td>1</td>\n",
              "      <td>0</td>\n",
              "      <td>0</td>\n",
              "      <td>0</td>\n",
              "      <td>0</td>\n",
              "      <td>0</td>\n",
              "      <td>0</td>\n",
              "      <td>0</td>\n",
              "      <td>0</td>\n",
              "      <td>0</td>\n",
              "      <td>0</td>\n",
              "      <td>0</td>\n",
              "      <td>0</td>\n",
              "      <td>0</td>\n",
              "      <td>0</td>\n",
              "      <td>0</td>\n",
              "      <td>0</td>\n",
              "      <td>0</td>\n",
              "      <td>0</td>\n",
              "      <td>0</td>\n",
              "      <td>0</td>\n",
              "      <td>0</td>\n",
              "      <td>0</td>\n",
              "      <td>0</td>\n",
              "      <td>0</td>\n",
              "      <td>0</td>\n",
              "      <td>0</td>\n",
              "      <td>0</td>\n",
              "      <td>0</td>\n",
              "      <td>0</td>\n",
              "      <td>0</td>\n",
              "      <td>0</td>\n",
              "      <td>0</td>\n",
              "      <td>0</td>\n",
              "      <td>0</td>\n",
              "      <td>1</td>\n",
              "      <td>0</td>\n",
              "      <td>0</td>\n",
              "      <td>0</td>\n",
              "      <td>0</td>\n",
              "      <td>0</td>\n",
              "      <td>0</td>\n",
              "      <td>0</td>\n",
              "      <td>0</td>\n",
              "      <td>0</td>\n",
              "      <td>0</td>\n",
              "      <td>0</td>\n",
              "      <td>0</td>\n",
              "      <td>0</td>\n",
              "      <td>0</td>\n",
              "      <td>0</td>\n",
              "      <td>0</td>\n",
              "    </tr>\n",
              "    <tr>\n",
              "      <th>7</th>\n",
              "      <td>2018</td>\n",
              "      <td>4</td>\n",
              "      <td>14.84</td>\n",
              "      <td>1.0</td>\n",
              "      <td>6.0</td>\n",
              "      <td>33.0</td>\n",
              "      <td>15.0</td>\n",
              "      <td>25.0</td>\n",
              "      <td>1.0</td>\n",
              "      <td>-1.0</td>\n",
              "      <td>0.725000</td>\n",
              "      <td>16570.0</td>\n",
              "      <td>7.0</td>\n",
              "      <td>0.0</td>\n",
              "      <td>0</td>\n",
              "      <td>1</td>\n",
              "      <td>0</td>\n",
              "      <td>0</td>\n",
              "      <td>0</td>\n",
              "      <td>0</td>\n",
              "      <td>0</td>\n",
              "      <td>0</td>\n",
              "      <td>0</td>\n",
              "      <td>0</td>\n",
              "      <td>0</td>\n",
              "      <td>0</td>\n",
              "      <td>0</td>\n",
              "      <td>0</td>\n",
              "      <td>0</td>\n",
              "      <td>0</td>\n",
              "      <td>0</td>\n",
              "      <td>0</td>\n",
              "      <td>0</td>\n",
              "      <td>0</td>\n",
              "      <td>0</td>\n",
              "      <td>0</td>\n",
              "      <td>0</td>\n",
              "      <td>0</td>\n",
              "      <td>0</td>\n",
              "      <td>0</td>\n",
              "      <td>0</td>\n",
              "      <td>0</td>\n",
              "      <td>0</td>\n",
              "      <td>0</td>\n",
              "      <td>0</td>\n",
              "      <td>0</td>\n",
              "      <td>0</td>\n",
              "      <td>0</td>\n",
              "      <td>0</td>\n",
              "      <td>0</td>\n",
              "      <td>1</td>\n",
              "      <td>0</td>\n",
              "      <td>0</td>\n",
              "      <td>0</td>\n",
              "      <td>0</td>\n",
              "      <td>0</td>\n",
              "      <td>0</td>\n",
              "      <td>0</td>\n",
              "      <td>0</td>\n",
              "      <td>0</td>\n",
              "      <td>0</td>\n",
              "      <td>0</td>\n",
              "      <td>0</td>\n",
              "      <td>0</td>\n",
              "      <td>0</td>\n",
              "      <td>0</td>\n",
              "      <td>0</td>\n",
              "    </tr>\n",
              "    <tr>\n",
              "      <th>9</th>\n",
              "      <td>2018</td>\n",
              "      <td>5</td>\n",
              "      <td>17.50</td>\n",
              "      <td>0.0</td>\n",
              "      <td>6.0</td>\n",
              "      <td>33.0</td>\n",
              "      <td>15.0</td>\n",
              "      <td>25.0</td>\n",
              "      <td>2.0</td>\n",
              "      <td>0.0</td>\n",
              "      <td>0.529167</td>\n",
              "      <td>35470.0</td>\n",
              "      <td>8.0</td>\n",
              "      <td>0.0</td>\n",
              "      <td>0</td>\n",
              "      <td>1</td>\n",
              "      <td>0</td>\n",
              "      <td>0</td>\n",
              "      <td>0</td>\n",
              "      <td>0</td>\n",
              "      <td>0</td>\n",
              "      <td>0</td>\n",
              "      <td>0</td>\n",
              "      <td>0</td>\n",
              "      <td>0</td>\n",
              "      <td>0</td>\n",
              "      <td>0</td>\n",
              "      <td>0</td>\n",
              "      <td>0</td>\n",
              "      <td>0</td>\n",
              "      <td>0</td>\n",
              "      <td>0</td>\n",
              "      <td>0</td>\n",
              "      <td>0</td>\n",
              "      <td>0</td>\n",
              "      <td>0</td>\n",
              "      <td>0</td>\n",
              "      <td>0</td>\n",
              "      <td>0</td>\n",
              "      <td>0</td>\n",
              "      <td>0</td>\n",
              "      <td>0</td>\n",
              "      <td>0</td>\n",
              "      <td>0</td>\n",
              "      <td>0</td>\n",
              "      <td>0</td>\n",
              "      <td>0</td>\n",
              "      <td>0</td>\n",
              "      <td>0</td>\n",
              "      <td>0</td>\n",
              "      <td>1</td>\n",
              "      <td>0</td>\n",
              "      <td>0</td>\n",
              "      <td>0</td>\n",
              "      <td>0</td>\n",
              "      <td>0</td>\n",
              "      <td>0</td>\n",
              "      <td>0</td>\n",
              "      <td>0</td>\n",
              "      <td>0</td>\n",
              "      <td>0</td>\n",
              "      <td>0</td>\n",
              "      <td>0</td>\n",
              "      <td>0</td>\n",
              "      <td>0</td>\n",
              "      <td>0</td>\n",
              "      <td>0</td>\n",
              "    </tr>\n",
              "    <tr>\n",
              "      <th>18</th>\n",
              "      <td>2018</td>\n",
              "      <td>10</td>\n",
              "      <td>18.05</td>\n",
              "      <td>1.0</td>\n",
              "      <td>6.0</td>\n",
              "      <td>33.0</td>\n",
              "      <td>15.0</td>\n",
              "      <td>25.0</td>\n",
              "      <td>1.0</td>\n",
              "      <td>-1.0</td>\n",
              "      <td>0.880000</td>\n",
              "      <td>61704.0</td>\n",
              "      <td>1.0</td>\n",
              "      <td>0.0</td>\n",
              "      <td>0</td>\n",
              "      <td>1</td>\n",
              "      <td>0</td>\n",
              "      <td>0</td>\n",
              "      <td>0</td>\n",
              "      <td>0</td>\n",
              "      <td>0</td>\n",
              "      <td>0</td>\n",
              "      <td>0</td>\n",
              "      <td>0</td>\n",
              "      <td>0</td>\n",
              "      <td>0</td>\n",
              "      <td>0</td>\n",
              "      <td>0</td>\n",
              "      <td>0</td>\n",
              "      <td>0</td>\n",
              "      <td>0</td>\n",
              "      <td>0</td>\n",
              "      <td>0</td>\n",
              "      <td>0</td>\n",
              "      <td>0</td>\n",
              "      <td>0</td>\n",
              "      <td>0</td>\n",
              "      <td>0</td>\n",
              "      <td>0</td>\n",
              "      <td>0</td>\n",
              "      <td>0</td>\n",
              "      <td>0</td>\n",
              "      <td>0</td>\n",
              "      <td>0</td>\n",
              "      <td>0</td>\n",
              "      <td>0</td>\n",
              "      <td>0</td>\n",
              "      <td>0</td>\n",
              "      <td>0</td>\n",
              "      <td>0</td>\n",
              "      <td>1</td>\n",
              "      <td>0</td>\n",
              "      <td>0</td>\n",
              "      <td>0</td>\n",
              "      <td>0</td>\n",
              "      <td>0</td>\n",
              "      <td>0</td>\n",
              "      <td>0</td>\n",
              "      <td>0</td>\n",
              "      <td>0</td>\n",
              "      <td>0</td>\n",
              "      <td>0</td>\n",
              "      <td>0</td>\n",
              "      <td>0</td>\n",
              "      <td>0</td>\n",
              "      <td>0</td>\n",
              "      <td>0</td>\n",
              "    </tr>\n",
              "    <tr>\n",
              "      <th>20</th>\n",
              "      <td>2018</td>\n",
              "      <td>11</td>\n",
              "      <td>13.19</td>\n",
              "      <td>1.0</td>\n",
              "      <td>6.0</td>\n",
              "      <td>33.0</td>\n",
              "      <td>15.0</td>\n",
              "      <td>25.0</td>\n",
              "      <td>2.0</td>\n",
              "      <td>0.0</td>\n",
              "      <td>0.682381</td>\n",
              "      <td>106154.0</td>\n",
              "      <td>2.0</td>\n",
              "      <td>0.0</td>\n",
              "      <td>0</td>\n",
              "      <td>1</td>\n",
              "      <td>0</td>\n",
              "      <td>0</td>\n",
              "      <td>0</td>\n",
              "      <td>0</td>\n",
              "      <td>0</td>\n",
              "      <td>0</td>\n",
              "      <td>0</td>\n",
              "      <td>0</td>\n",
              "      <td>0</td>\n",
              "      <td>0</td>\n",
              "      <td>0</td>\n",
              "      <td>0</td>\n",
              "      <td>0</td>\n",
              "      <td>0</td>\n",
              "      <td>0</td>\n",
              "      <td>0</td>\n",
              "      <td>0</td>\n",
              "      <td>0</td>\n",
              "      <td>0</td>\n",
              "      <td>0</td>\n",
              "      <td>0</td>\n",
              "      <td>0</td>\n",
              "      <td>0</td>\n",
              "      <td>0</td>\n",
              "      <td>0</td>\n",
              "      <td>0</td>\n",
              "      <td>0</td>\n",
              "      <td>0</td>\n",
              "      <td>0</td>\n",
              "      <td>0</td>\n",
              "      <td>0</td>\n",
              "      <td>0</td>\n",
              "      <td>0</td>\n",
              "      <td>0</td>\n",
              "      <td>1</td>\n",
              "      <td>0</td>\n",
              "      <td>0</td>\n",
              "      <td>0</td>\n",
              "      <td>0</td>\n",
              "      <td>0</td>\n",
              "      <td>0</td>\n",
              "      <td>0</td>\n",
              "      <td>0</td>\n",
              "      <td>0</td>\n",
              "      <td>0</td>\n",
              "      <td>0</td>\n",
              "      <td>0</td>\n",
              "      <td>0</td>\n",
              "      <td>0</td>\n",
              "      <td>0</td>\n",
              "      <td>0</td>\n",
              "    </tr>\n",
              "  </tbody>\n",
              "</table>\n",
              "</div>\n",
              "      <button class=\"colab-df-convert\" onclick=\"convertToInteractive('df-a05cec3f-1af7-4597-9d5d-a92d5d7edf7d')\"\n",
              "              title=\"Convert this dataframe to an interactive table.\"\n",
              "              style=\"display:none;\">\n",
              "        \n",
              "  <svg xmlns=\"http://www.w3.org/2000/svg\" height=\"24px\"viewBox=\"0 0 24 24\"\n",
              "       width=\"24px\">\n",
              "    <path d=\"M0 0h24v24H0V0z\" fill=\"none\"/>\n",
              "    <path d=\"M18.56 5.44l.94 2.06.94-2.06 2.06-.94-2.06-.94-.94-2.06-.94 2.06-2.06.94zm-11 1L8.5 8.5l.94-2.06 2.06-.94-2.06-.94L8.5 2.5l-.94 2.06-2.06.94zm10 10l.94 2.06.94-2.06 2.06-.94-2.06-.94-.94-2.06-.94 2.06-2.06.94z\"/><path d=\"M17.41 7.96l-1.37-1.37c-.4-.4-.92-.59-1.43-.59-.52 0-1.04.2-1.43.59L10.3 9.45l-7.72 7.72c-.78.78-.78 2.05 0 2.83L4 21.41c.39.39.9.59 1.41.59.51 0 1.02-.2 1.41-.59l7.78-7.78 2.81-2.81c.8-.78.8-2.07 0-2.86zM5.41 20L4 18.59l7.72-7.72 1.47 1.35L5.41 20z\"/>\n",
              "  </svg>\n",
              "      </button>\n",
              "      \n",
              "  <style>\n",
              "    .colab-df-container {\n",
              "      display:flex;\n",
              "      flex-wrap:wrap;\n",
              "      gap: 12px;\n",
              "    }\n",
              "\n",
              "    .colab-df-convert {\n",
              "      background-color: #E8F0FE;\n",
              "      border: none;\n",
              "      border-radius: 50%;\n",
              "      cursor: pointer;\n",
              "      display: none;\n",
              "      fill: #1967D2;\n",
              "      height: 32px;\n",
              "      padding: 0 0 0 0;\n",
              "      width: 32px;\n",
              "    }\n",
              "\n",
              "    .colab-df-convert:hover {\n",
              "      background-color: #E2EBFA;\n",
              "      box-shadow: 0px 1px 2px rgba(60, 64, 67, 0.3), 0px 1px 3px 1px rgba(60, 64, 67, 0.15);\n",
              "      fill: #174EA6;\n",
              "    }\n",
              "\n",
              "    [theme=dark] .colab-df-convert {\n",
              "      background-color: #3B4455;\n",
              "      fill: #D2E3FC;\n",
              "    }\n",
              "\n",
              "    [theme=dark] .colab-df-convert:hover {\n",
              "      background-color: #434B5C;\n",
              "      box-shadow: 0px 1px 3px 1px rgba(0, 0, 0, 0.15);\n",
              "      filter: drop-shadow(0px 1px 2px rgba(0, 0, 0, 0.3));\n",
              "      fill: #FFFFFF;\n",
              "    }\n",
              "  </style>\n",
              "\n",
              "      <script>\n",
              "        const buttonEl =\n",
              "          document.querySelector('#df-a05cec3f-1af7-4597-9d5d-a92d5d7edf7d button.colab-df-convert');\n",
              "        buttonEl.style.display =\n",
              "          google.colab.kernel.accessAllowed ? 'block' : 'none';\n",
              "\n",
              "        async function convertToInteractive(key) {\n",
              "          const element = document.querySelector('#df-a05cec3f-1af7-4597-9d5d-a92d5d7edf7d');\n",
              "          const dataTable =\n",
              "            await google.colab.kernel.invokeFunction('convertToInteractive',\n",
              "                                                     [key], {});\n",
              "          if (!dataTable) return;\n",
              "\n",
              "          const docLinkHtml = 'Like what you see? Visit the ' +\n",
              "            '<a target=\"_blank\" href=https://colab.research.google.com/notebooks/data_table.ipynb>data table notebook</a>'\n",
              "            + ' to learn more about interactive tables.';\n",
              "          element.innerHTML = '';\n",
              "          dataTable['output_type'] = 'display_data';\n",
              "          await google.colab.output.renderOutput(dataTable, element);\n",
              "          const docLink = document.createElement('div');\n",
              "          docLink.innerHTML = docLinkHtml;\n",
              "          element.appendChild(docLink);\n",
              "        }\n",
              "      </script>\n",
              "    </div>\n",
              "  </div>\n",
              "  "
            ],
            "text/plain": [
              "    YEAR  MONTH  ...  origen_Pais Vasco  origen_Valencia\n",
              "5   2018      3  ...                  0                0\n",
              "7   2018      4  ...                  0                0\n",
              "9   2018      5  ...                  0                0\n",
              "18  2018     10  ...                  0                0\n",
              "20  2018     11  ...                  0                0\n",
              "\n",
              "[5 rows x 67 columns]"
            ]
          },
          "metadata": {},
          "execution_count": 19
        }
      ]
    },
    {
      "cell_type": "code",
      "source": [
        "agroanalisis.shape"
      ],
      "metadata": {
        "colab": {
          "base_uri": "https://localhost:8080/"
        },
        "id": "kjYa3P-eS67G",
        "outputId": "0ba71447-f9f1-4ad8-c47e-f3eb2858fbd5"
      },
      "execution_count": 20,
      "outputs": [
        {
          "output_type": "execute_result",
          "data": {
            "text/plain": [
              "(3817, 67)"
            ]
          },
          "metadata": {},
          "execution_count": 20
        }
      ]
    },
    {
      "cell_type": "markdown",
      "source": [
        "### 3.3 Aplicación de modelo de clasificación"
      ],
      "metadata": {
        "id": "mzbjqllqL3Fi"
      }
    },
    {
      "cell_type": "markdown",
      "source": [
        "Se usará el algoritmo RandomForest.  \n",
        "Además, se utilizará cross-validation.  \n",
        "En la división del dataset para datos de entrenamiento y test, se descartarán la columna objetivo *rentable*, así como *price_max_recolec* y *Volumen_max_recolec* puesto que a la hora de realizar la predicción no se dispondrá de estos valores a priori."
      ],
      "metadata": {
        "id": "kJ1BQodZU8us"
      }
    },
    {
      "cell_type": "code",
      "source": [
        "X = list(agroanalisis.columns)\n",
        "X.remove('rentable')\n",
        "X.remove('YEAR')\n",
        "X.remove('price_max_recolec')\n",
        "X.remove('Volumen_max_recolec')\n",
        "X = agroanalisis[X]\n",
        "y = agroanalisis['rentable']\n",
        "\n",
        "X_train, X_test, y_train, y_test = train_test_split( X, y, test_size=0.30, random_state=42)"
      ],
      "metadata": {
        "id": "cZpfiptI1tUa"
      },
      "execution_count": 21,
      "outputs": []
    },
    {
      "cell_type": "code",
      "source": [
        "cv = KFold(n_splits = 5, shuffle = True)\n",
        "\n",
        "fold_accuracy = []\n",
        "rndfor = ensemble.RandomForestClassifier(n_estimators=1000)\n",
        "for train_fold, test_fold in cv.split(X_train):\n",
        "  # División train test aleatoria\n",
        "  fx_train = X_train.iloc[train_fold]\n",
        "  fy_train = y_train.iloc[train_fold]\n",
        "  fx_test = X_train.iloc[test_fold]\n",
        "  fy_test = y_train.iloc[test_fold]\n",
        "  # entrenamiento y ejecución del modelo\n",
        "  rndfor.fit( X = fx_train, y = fy_train)\n",
        "  fy_pred = rndfor.predict(X = fx_test)\n",
        "  # evaluación del modelo\n",
        "  acc = accuracy_score(fy_test, fy_pred)\n",
        "  fold_accuracy.append(acc)\n",
        "total_scores = sum(fold_accuracy)/len(fold_accuracy)\n",
        "\n",
        "print(total_scores)\n"
      ],
      "metadata": {
        "colab": {
          "base_uri": "https://localhost:8080/"
        },
        "id": "x3u2Rmpi3n6z",
        "outputId": "97937a35-20cf-4431-8b4c-80b98e929d05"
      },
      "execution_count": 22,
      "outputs": [
        {
          "output_type": "stream",
          "name": "stdout",
          "text": [
            "0.895914452728482\n"
          ]
        }
      ]
    },
    {
      "cell_type": "code",
      "source": [
        "# Fit y predicción\n",
        "rndfor.fit( X = X_train, y = y_train)\n",
        "y_pred = rndfor.predict(X = X_test)\n",
        "\n",
        "print (\"MAE:\", metrics.mean_absolute_error(y_pred , y_test))\n",
        "print (\"MAPE:\", metrics.mean_absolute_percentage_error(y_pred , y_test))\n",
        "print (\"MSE:\", metrics.mean_squared_error(y_pred , y_test))\n",
        "print (\"R^2:\", metrics.r2_score(y_pred , y_test))"
      ],
      "metadata": {
        "colab": {
          "base_uri": "https://localhost:8080/"
        },
        "id": "ZdlCfyUB3oJ6",
        "outputId": "d33ce104-d834-44ac-dc8b-ad0fadafc5ae"
      },
      "execution_count": 23,
      "outputs": [
        {
          "output_type": "stream",
          "name": "stdout",
          "text": [
            "MAE: 0.11343804537521815\n",
            "MAPE: 227930871193271.22\n",
            "MSE: 0.11343804537521815\n",
            "R^2: 0.5445485227939738\n"
          ]
        }
      ]
    },
    {
      "cell_type": "markdown",
      "source": [
        "#### 3.3.1 Matriz de confusión"
      ],
      "metadata": {
        "id": "2v4-RtppXYrG"
      }
    },
    {
      "cell_type": "markdown",
      "source": [
        "Para una mejor visualización de los resultados de acierto y error en la predicción, se dibujará la matriz de confusión."
      ],
      "metadata": {
        "id": "OvgyeittXbdd"
      }
    },
    {
      "cell_type": "code",
      "source": [
        "cm = metrics.confusion_matrix(y_test, y_pred)\n",
        "print(cm)"
      ],
      "metadata": {
        "colab": {
          "base_uri": "https://localhost:8080/"
        },
        "id": "-2IVc4JRHVF9",
        "outputId": "95bc0566-643b-401c-bfc1-f3adae3f2d39"
      },
      "execution_count": 24,
      "outputs": [
        {
          "output_type": "stream",
          "name": "stdout",
          "text": [
            "[[550  72]\n",
            " [ 58 466]]\n"
          ]
        }
      ]
    },
    {
      "cell_type": "code",
      "source": [
        "plt.figure(figsize=(9,9))\n",
        "sns.heatmap(cm, annot=True, fmt=\".3f\", linewidths=.5, square = True, cmap = 'Blues_r');\n",
        "plt.ylabel('Valor Real');\n",
        "plt.xlabel('Valor Predicho');\n",
        "all_sample_title = 'Exactitud: {0}'.format(total_scores)\n",
        "plt.title(all_sample_title, size = 15);"
      ],
      "metadata": {
        "colab": {
          "base_uri": "https://localhost:8080/",
          "height": 520
        },
        "id": "_4tteEdK3vP6",
        "outputId": "b0998cc2-e1ac-498b-9536-64b286569ffd"
      },
      "execution_count": 25,
      "outputs": [
        {
          "output_type": "display_data",
          "data": {
            "image/png": "[encoded data removed]",
            "text/plain": [
              "<Figure size 648x648 with 2 Axes>"
            ]
          },
          "metadata": {}
        }
      ]
    },
    {
      "cell_type": "markdown",
      "source": [
        "Así, podríamos decir en principio que se trata de un modelo bastane preciso (89%) para determinar si la siembra de un cultivo es rentable o no."
      ],
      "metadata": {
        "id": "StSL8xa0aoQC"
      }
    },
    {
      "cell_type": "markdown",
      "source": [
        "### 3.4 Entrada del usuario"
      ],
      "metadata": {
        "id": "CxAfCJYvVA5o"
      }
    },
    {
      "cell_type": "markdown",
      "source": [
        "A continuación, haciendo uso de *sliders* de colab, se ha creado una pequeña interfaz para que el usuario pueda introducir los datos. Introduciendo el mes, la región, la precipitación y la temperatura, se mostrará un top 5 (si lo hay) de los cultivos que resulte más rentable sembrar."
      ],
      "metadata": {
        "id": "Wgz3g8-jbAJB"
      }
    },
    {
      "cell_type": "code",
      "source": [
        "available_products = [\n",
        "  \"ACELGA\",\n",
        "  \"AJO\",\n",
        "  \"ALCACHOFA\",\n",
        "  \"APIO\",\n",
        "  \"BERENJENA\",\n",
        "  \"BROCOLI\",\n",
        "  \"CALABACIN\",\n",
        "  \"CALABAZA\",\n",
        "  \"CEBOLLA\",\n",
        "  \"CEBOLLETA\",\n",
        "  \"CHIRIVIA\",\n",
        "  \"COL BRUSELAS\",\n",
        "  \"COL CHINA\",\n",
        "  \"COL LOMBARDA\",\n",
        "  \"COL REPOLLO\",\n",
        "  \"COLIFLOR\",\n",
        "  \"ESCAROLA\",\n",
        "  \"ESPINACA\",\n",
        "  \"GUISANTE\",\n",
        "  \"HABA\",\n",
        "  \"JUDIA\",\n",
        "  \"LECHUGA\",\n",
        "  \"MAIZ\",\n",
        "  \"MELON\",\n",
        "  \"NABO\",\n",
        "  \"PATATA\",\n",
        "  \"PEPINO\",\n",
        "  \"PEREJIL\",\n",
        "  \"PIMIENTO\",\n",
        "  \"PUERRO\",\n",
        "  \"RABANITO\",\n",
        "  \"REMOLACHA\",\n",
        "  \"SANDIA\",\n",
        "  \"TOMATE\",\n",
        "  \"ZANAHORIA\"\n",
        "]\n",
        "\n",
        "product_data_columns = [\n",
        "        \"Temperatura min req\",\n",
        "        \"Temperatura max req\",\n",
        "        \"Temperatura min opt\",\n",
        "        \"Temperatura max opt\",\n",
        "        \"distancia_mes_inicio_siem\",\n",
        "        \"distancia_mes_fin_siem\",\n",
        "        \"MONTH_max_recolec\",\n",
        "        \"need_humidity_group\"\n",
        "]\n",
        "\n",
        "def predict_best_product(month, origen, temperatura, precipitacion):\n",
        "  best_products = []\n",
        "\n",
        "  for product in available_products:\n",
        "      product_data = agroanalisis[(agroanalisis['product_'+product] == 1) & (agroanalisis['MONTH'] == month)]\n",
        "      if len(product_data) <= 0:\n",
        "        continue\n",
        "      dict_features = {\n",
        "        \"MONTH\": month,\n",
        "        \"temperatura\": temperatura,\n",
        "        \"Precipitacion_group\": precipitacion,\n",
        "        **product_data[product_data_columns].iloc[0].to_dict(),\n",
        "\n",
        "        \"product_ACELGA\": 0,\n",
        "        \"product_AJO\": 0,\n",
        "        \"product_ALCACHOFA\": 0,\n",
        "        \"product_APIO\": 0,\n",
        "        \"product_BERENJENA\": 0,\n",
        "        \"product_BROCOLI\": 0,\n",
        "        \"product_CALABACIN\": 0,\n",
        "        \"product_CALABAZA\": 0,\n",
        "        \"product_CEBOLLA\": 0,\n",
        "        \"product_CEBOLLETA\": 0,\n",
        "        \"product_CHIRIVIA\": 0,\n",
        "        \"product_COL BRUSELAS\": 0,\n",
        "        \"product_COL CHINA\": 0,\n",
        "        \"product_COL LOMBARDA\": 0,\n",
        "        \"product_COL REPOLLO\": 0,\n",
        "        \"product_COLIFLOR\": 0,\n",
        "        \"product_ESCAROLA\": 0,\n",
        "        \"product_ESPINACA\": 0,\n",
        "        \"product_GUISANTE\": 0,\n",
        "        \"product_HABA\": 0,\n",
        "        \"product_JUDIA\": 0,\n",
        "        \"product_LECHUGA\": 0,\n",
        "        \"product_MAIZ\": 0,\n",
        "        \"product_MELON\": 0,\n",
        "        \"product_NABO\": 0,\n",
        "        \"product_PATATA\": 0,\n",
        "        \"product_PEPINO\": 0,\n",
        "        \"product_PEREJIL\": 0,\n",
        "        \"product_PIMIENTO\": 0,\n",
        "        \"product_PUERRO\": 0,\n",
        "        \"product_RABANITO\": 0,\n",
        "        \"product_REMOLACHA\": 0,\n",
        "        \"product_SANDIA\": 0,\n",
        "        \"product_TOMATE\": 0,\n",
        "        \"product_ZANAHORIA\": 0,\n",
        "        \"origen_Andalucia\": 0,\n",
        "        \"origen_Aragon\": 0,\n",
        "        \"origen_Asturias\": 0,\n",
        "        \"origen_Baleares\": 0,\n",
        "        \"origen_Canarias\": 0,\n",
        "        \"origen_Cantabria\": 0,\n",
        "        \"origen_Castilla La Mancha\": 0,\n",
        "        \"origen_Castilla Leon\": 0,\n",
        "        \"origen_Cataluña\": 0,\n",
        "        \"origen_Extremadura\": 0,\n",
        "        \"origen_Galicia\": 0,\n",
        "        \"origen_La Rioja\": 0,\n",
        "        \"origen_Madrid\": 0,\n",
        "        \"origen_Murcia\": 0,\n",
        "        \"origen_Navarra\": 0,\n",
        "        \"origen_Pais Vasco\": 0,\n",
        "        \"origen_Valencia\": 0\n",
        "      }\n",
        "      dict_features[\"product_\"+product] = 1\n",
        "      dict_features[\"origen_\"+origen] = 1\n",
        "      \n",
        "      df_input = pd.DataFrame([dict_features])\n",
        "      pred = rndfor.predict(df_input)[0]\n",
        "\n",
        "      if pred == 1:\n",
        "        best_products.append(product)\n",
        "\n",
        "  return best_products"
      ],
      "metadata": {
        "id": "-DE5LplVVFRY"
      },
      "execution_count": 26,
      "outputs": []
    },
    {
      "cell_type": "code",
      "source": [
        "month = 7 #@param {type:\"slider\", min:1, max:12}\n",
        "origen = \"Madrid\" #@param [\"Andalucia\", \"Aragon\", \"Asturias\", \"Baleares\", \"Canarias\", \"Cantabria\", \"Castilla La Mancha\", \"Castilla Leon\", \"Cataluña\", \"Extremadura\", \"Galicia\", \"La Rioja\", \"Madrid\", \"Murcia\", \"Navarra\", \"Pais Vasco\", \"Valencia\"]\n",
        "temperature = 40 #@param {type:\"slider\", min:-20, max:47, step:0.01}\n",
        "precipitacion_group = 1 #@param {type:\"slider\", min:0.0, max:2.0, step:1.0}\n",
        "\n",
        "predict_best_product(month, origen, temperature, precipitacion_group)"
      ],
      "metadata": {
        "colab": {
          "base_uri": "https://localhost:8080/"
        },
        "id": "D02g8oVBVIP6",
        "outputId": "eff363de-9246-429c-e317-82f9579cc462"
      },
      "execution_count": 27,
      "outputs": [
        {
          "output_type": "execute_result",
          "data": {
            "text/plain": [
              "['BROCOLI', 'COL BRUSELAS', 'COL CHINA', 'COLIFLOR', 'PEREJIL']"
            ]
          },
          "metadata": {},
          "execution_count": 27
        }
      ]
    },
    {
      "cell_type": "markdown",
      "source": [
        "## 4. Línea de trabajo 3: Influencia de variables en el beneficio de un cultivo\n"
      ],
      "metadata": {
        "id": "WikFoGwNi9Ei"
      }
    },
    {
      "cell_type": "markdown",
      "source": [
        "Esta línea se abordará de dos maneras diferentes:\n",
        "- Se podría realizar un árbol de decisión de cada región, y obtener así la importancia de cada característica dependiendo de dónde se haya sembrado el cultivo.\n",
        "- Otra opción sería crear un modelo para cada factor cuya influencia se quiera estudiar (mes, temperatura y precipitación en este caso son los primordiales) que prediga el precio medio sin esa misma característica, y comparar con el precio real que introduzca el usuario. Así, si el precio medio sin ese factor es mucho más alto que el precio real, significará que esa característica ha afectado negativamente. Lo mismo sucede al contrario: si el precio medio predecido es mucho más bajo, ese factor afectó positivamente."
      ],
      "metadata": {
        "id": "UiFO7KQc4T3x"
      }
    },
    {
      "cell_type": "markdown",
      "source": [
        "### 4.1 Influencia de variables por región"
      ],
      "metadata": {
        "id": "KRFV9D9NvAMO"
      }
    },
    {
      "cell_type": "markdown",
      "source": [
        "Dada una región,  se estudiará el grado en que los factores han contribuido. En este caso, se han construido modelos de árboles de decisión de ejemplo para tres regiones: Galicia, Castilla - La Mancha y Andalucía. Así se podrá comprobar cómo funciona esta estrategia con datos reales."
      ],
      "metadata": {
        "id": "GfffMxEQjDXO"
      }
    },
    {
      "cell_type": "markdown",
      "source": [
        "#### 4.1.1 Galicia"
      ],
      "metadata": {
        "id": "xv9IPIrZ78C8"
      }
    },
    {
      "cell_type": "code",
      "source": [
        "# Filtrar dataframe por la región elegida\n",
        "aux = agroanalisis[agroanalisis['origen_Galicia'] == 1]\n",
        "aux.head()"
      ],
      "metadata": {
        "id": "Rz8qu3CDvXSL",
        "colab": {
          "base_uri": "https://localhost:8080/",
          "height": 288
        },
        "outputId": "2138bb1e-5be5-4e0b-ecd5-7cf9e6a00641"
      },
      "execution_count": 28,
      "outputs": [
        {
          "output_type": "execute_result",
          "data": {
            "text/html": [
              "\n",
              "  <div id=\"df-ed420e18-2d93-47a7-9d6a-ab46db394113\">\n",
              "    <div class=\"colab-df-container\">\n",
              "      <div>\n",
              "<style scoped>\n",
              "    .dataframe tbody tr th:only-of-type {\n",
              "        vertical-align: middle;\n",
              "    }\n",
              "\n",
              "    .dataframe tbody tr th {\n",
              "        vertical-align: top;\n",
              "    }\n",
              "\n",
              "    .dataframe thead th {\n",
              "        text-align: right;\n",
              "    }\n",
              "</style>\n",
              "<table border=\"1\" class=\"dataframe\">\n",
              "  <thead>\n",
              "    <tr style=\"text-align: right;\">\n",
              "      <th></th>\n",
              "      <th>YEAR</th>\n",
              "      <th>MONTH</th>\n",
              "      <th>temperatura</th>\n",
              "      <th>Precipitacion_group</th>\n",
              "      <th>Temperatura min req</th>\n",
              "      <th>Temperatura max req</th>\n",
              "      <th>Temperatura min opt</th>\n",
              "      <th>Temperatura max opt</th>\n",
              "      <th>distancia_mes_inicio_siem</th>\n",
              "      <th>distancia_mes_fin_siem</th>\n",
              "      <th>price_max_recolec</th>\n",
              "      <th>Volumen_max_recolec</th>\n",
              "      <th>MONTH_max_recolec</th>\n",
              "      <th>need_humidity_group</th>\n",
              "      <th>rentable</th>\n",
              "      <th>product_ACELGA</th>\n",
              "      <th>product_AJO</th>\n",
              "      <th>product_ALCACHOFA</th>\n",
              "      <th>product_APIO</th>\n",
              "      <th>product_BERENJENA</th>\n",
              "      <th>product_BROCOLI</th>\n",
              "      <th>product_CALABACIN</th>\n",
              "      <th>product_CALABAZA</th>\n",
              "      <th>product_CEBOLLA</th>\n",
              "      <th>product_CEBOLLETA</th>\n",
              "      <th>product_CHIRIVIA</th>\n",
              "      <th>product_COL BRUSELAS</th>\n",
              "      <th>product_COL CHINA</th>\n",
              "      <th>product_COL LOMBARDA</th>\n",
              "      <th>product_COL REPOLLO</th>\n",
              "      <th>product_COLIFLOR</th>\n",
              "      <th>product_ESCAROLA</th>\n",
              "      <th>product_ESPINACA</th>\n",
              "      <th>product_GUISANTE</th>\n",
              "      <th>product_HABA</th>\n",
              "      <th>product_JUDIA</th>\n",
              "      <th>product_LECHUGA</th>\n",
              "      <th>product_MAIZ</th>\n",
              "      <th>product_MELON</th>\n",
              "      <th>product_NABO</th>\n",
              "      <th>product_PATATA</th>\n",
              "      <th>product_PEPINO</th>\n",
              "      <th>product_PEREJIL</th>\n",
              "      <th>product_PIMIENTO</th>\n",
              "      <th>product_PUERRO</th>\n",
              "      <th>product_RABANITO</th>\n",
              "      <th>product_REMOLACHA</th>\n",
              "      <th>product_SANDIA</th>\n",
              "      <th>product_TOMATE</th>\n",
              "      <th>product_ZANAHORIA</th>\n",
              "      <th>origen_Andalucia</th>\n",
              "      <th>origen_Aragon</th>\n",
              "      <th>origen_Asturias</th>\n",
              "      <th>origen_Baleares</th>\n",
              "      <th>origen_Canarias</th>\n",
              "      <th>origen_Cantabria</th>\n",
              "      <th>origen_Castilla La Mancha</th>\n",
              "      <th>origen_Castilla Leon</th>\n",
              "      <th>origen_Cataluña</th>\n",
              "      <th>origen_Extremadura</th>\n",
              "      <th>origen_Galicia</th>\n",
              "      <th>origen_La Rioja</th>\n",
              "      <th>origen_Madrid</th>\n",
              "      <th>origen_Murcia</th>\n",
              "      <th>origen_Navarra</th>\n",
              "      <th>origen_Pais Vasco</th>\n",
              "      <th>origen_Valencia</th>\n",
              "    </tr>\n",
              "  </thead>\n",
              "  <tbody>\n",
              "    <tr>\n",
              "      <th>287</th>\n",
              "      <td>2018</td>\n",
              "      <td>3</td>\n",
              "      <td>7.97</td>\n",
              "      <td>2.0</td>\n",
              "      <td>6.0</td>\n",
              "      <td>33.0</td>\n",
              "      <td>15.0</td>\n",
              "      <td>25.0</td>\n",
              "      <td>0.0</td>\n",
              "      <td>-2.0</td>\n",
              "      <td>0.600000</td>\n",
              "      <td>231.0</td>\n",
              "      <td>6.0</td>\n",
              "      <td>0.0</td>\n",
              "      <td>0</td>\n",
              "      <td>1</td>\n",
              "      <td>0</td>\n",
              "      <td>0</td>\n",
              "      <td>0</td>\n",
              "      <td>0</td>\n",
              "      <td>0</td>\n",
              "      <td>0</td>\n",
              "      <td>0</td>\n",
              "      <td>0</td>\n",
              "      <td>0</td>\n",
              "      <td>0</td>\n",
              "      <td>0</td>\n",
              "      <td>0</td>\n",
              "      <td>0</td>\n",
              "      <td>0</td>\n",
              "      <td>0</td>\n",
              "      <td>0</td>\n",
              "      <td>0</td>\n",
              "      <td>0</td>\n",
              "      <td>0</td>\n",
              "      <td>0</td>\n",
              "      <td>0</td>\n",
              "      <td>0</td>\n",
              "      <td>0</td>\n",
              "      <td>0</td>\n",
              "      <td>0</td>\n",
              "      <td>0</td>\n",
              "      <td>0</td>\n",
              "      <td>0</td>\n",
              "      <td>0</td>\n",
              "      <td>0</td>\n",
              "      <td>0</td>\n",
              "      <td>0</td>\n",
              "      <td>0</td>\n",
              "      <td>0</td>\n",
              "      <td>0</td>\n",
              "      <td>0</td>\n",
              "      <td>0</td>\n",
              "      <td>0</td>\n",
              "      <td>0</td>\n",
              "      <td>0</td>\n",
              "      <td>0</td>\n",
              "      <td>0</td>\n",
              "      <td>0</td>\n",
              "      <td>0</td>\n",
              "      <td>1</td>\n",
              "      <td>0</td>\n",
              "      <td>0</td>\n",
              "      <td>0</td>\n",
              "      <td>0</td>\n",
              "      <td>0</td>\n",
              "      <td>0</td>\n",
              "    </tr>\n",
              "    <tr>\n",
              "      <th>924</th>\n",
              "      <td>2018</td>\n",
              "      <td>9</td>\n",
              "      <td>20.32</td>\n",
              "      <td>0.0</td>\n",
              "      <td>7.0</td>\n",
              "      <td>30.0</td>\n",
              "      <td>14.0</td>\n",
              "      <td>24.0</td>\n",
              "      <td>0.0</td>\n",
              "      <td>-2.0</td>\n",
              "      <td>3.127511</td>\n",
              "      <td>119580.0</td>\n",
              "      <td>11.0</td>\n",
              "      <td>0.0</td>\n",
              "      <td>1</td>\n",
              "      <td>0</td>\n",
              "      <td>1</td>\n",
              "      <td>0</td>\n",
              "      <td>0</td>\n",
              "      <td>0</td>\n",
              "      <td>0</td>\n",
              "      <td>0</td>\n",
              "      <td>0</td>\n",
              "      <td>0</td>\n",
              "      <td>0</td>\n",
              "      <td>0</td>\n",
              "      <td>0</td>\n",
              "      <td>0</td>\n",
              "      <td>0</td>\n",
              "      <td>0</td>\n",
              "      <td>0</td>\n",
              "      <td>0</td>\n",
              "      <td>0</td>\n",
              "      <td>0</td>\n",
              "      <td>0</td>\n",
              "      <td>0</td>\n",
              "      <td>0</td>\n",
              "      <td>0</td>\n",
              "      <td>0</td>\n",
              "      <td>0</td>\n",
              "      <td>0</td>\n",
              "      <td>0</td>\n",
              "      <td>0</td>\n",
              "      <td>0</td>\n",
              "      <td>0</td>\n",
              "      <td>0</td>\n",
              "      <td>0</td>\n",
              "      <td>0</td>\n",
              "      <td>0</td>\n",
              "      <td>0</td>\n",
              "      <td>0</td>\n",
              "      <td>0</td>\n",
              "      <td>0</td>\n",
              "      <td>0</td>\n",
              "      <td>0</td>\n",
              "      <td>0</td>\n",
              "      <td>0</td>\n",
              "      <td>0</td>\n",
              "      <td>0</td>\n",
              "      <td>0</td>\n",
              "      <td>1</td>\n",
              "      <td>0</td>\n",
              "      <td>0</td>\n",
              "      <td>0</td>\n",
              "      <td>0</td>\n",
              "      <td>0</td>\n",
              "      <td>0</td>\n",
              "    </tr>\n",
              "    <tr>\n",
              "      <th>926</th>\n",
              "      <td>2018</td>\n",
              "      <td>10</td>\n",
              "      <td>14.19</td>\n",
              "      <td>1.0</td>\n",
              "      <td>7.0</td>\n",
              "      <td>30.0</td>\n",
              "      <td>14.0</td>\n",
              "      <td>24.0</td>\n",
              "      <td>1.0</td>\n",
              "      <td>-1.0</td>\n",
              "      <td>2.988657</td>\n",
              "      <td>157130.0</td>\n",
              "      <td>1.0</td>\n",
              "      <td>0.0</td>\n",
              "      <td>1</td>\n",
              "      <td>0</td>\n",
              "      <td>1</td>\n",
              "      <td>0</td>\n",
              "      <td>0</td>\n",
              "      <td>0</td>\n",
              "      <td>0</td>\n",
              "      <td>0</td>\n",
              "      <td>0</td>\n",
              "      <td>0</td>\n",
              "      <td>0</td>\n",
              "      <td>0</td>\n",
              "      <td>0</td>\n",
              "      <td>0</td>\n",
              "      <td>0</td>\n",
              "      <td>0</td>\n",
              "      <td>0</td>\n",
              "      <td>0</td>\n",
              "      <td>0</td>\n",
              "      <td>0</td>\n",
              "      <td>0</td>\n",
              "      <td>0</td>\n",
              "      <td>0</td>\n",
              "      <td>0</td>\n",
              "      <td>0</td>\n",
              "      <td>0</td>\n",
              "      <td>0</td>\n",
              "      <td>0</td>\n",
              "      <td>0</td>\n",
              "      <td>0</td>\n",
              "      <td>0</td>\n",
              "      <td>0</td>\n",
              "      <td>0</td>\n",
              "      <td>0</td>\n",
              "      <td>0</td>\n",
              "      <td>0</td>\n",
              "      <td>0</td>\n",
              "      <td>0</td>\n",
              "      <td>0</td>\n",
              "      <td>0</td>\n",
              "      <td>0</td>\n",
              "      <td>0</td>\n",
              "      <td>0</td>\n",
              "      <td>0</td>\n",
              "      <td>0</td>\n",
              "      <td>0</td>\n",
              "      <td>1</td>\n",
              "      <td>0</td>\n",
              "      <td>0</td>\n",
              "      <td>0</td>\n",
              "      <td>0</td>\n",
              "      <td>0</td>\n",
              "      <td>0</td>\n",
              "    </tr>\n",
              "    <tr>\n",
              "      <th>930</th>\n",
              "      <td>2019</td>\n",
              "      <td>11</td>\n",
              "      <td>10.07</td>\n",
              "      <td>2.0</td>\n",
              "      <td>7.0</td>\n",
              "      <td>30.0</td>\n",
              "      <td>14.0</td>\n",
              "      <td>24.0</td>\n",
              "      <td>2.0</td>\n",
              "      <td>0.0</td>\n",
              "      <td>3.081226</td>\n",
              "      <td>154920.0</td>\n",
              "      <td>3.0</td>\n",
              "      <td>0.0</td>\n",
              "      <td>1</td>\n",
              "      <td>0</td>\n",
              "      <td>1</td>\n",
              "      <td>0</td>\n",
              "      <td>0</td>\n",
              "      <td>0</td>\n",
              "      <td>0</td>\n",
              "      <td>0</td>\n",
              "      <td>0</td>\n",
              "      <td>0</td>\n",
              "      <td>0</td>\n",
              "      <td>0</td>\n",
              "      <td>0</td>\n",
              "      <td>0</td>\n",
              "      <td>0</td>\n",
              "      <td>0</td>\n",
              "      <td>0</td>\n",
              "      <td>0</td>\n",
              "      <td>0</td>\n",
              "      <td>0</td>\n",
              "      <td>0</td>\n",
              "      <td>0</td>\n",
              "      <td>0</td>\n",
              "      <td>0</td>\n",
              "      <td>0</td>\n",
              "      <td>0</td>\n",
              "      <td>0</td>\n",
              "      <td>0</td>\n",
              "      <td>0</td>\n",
              "      <td>0</td>\n",
              "      <td>0</td>\n",
              "      <td>0</td>\n",
              "      <td>0</td>\n",
              "      <td>0</td>\n",
              "      <td>0</td>\n",
              "      <td>0</td>\n",
              "      <td>0</td>\n",
              "      <td>0</td>\n",
              "      <td>0</td>\n",
              "      <td>0</td>\n",
              "      <td>0</td>\n",
              "      <td>0</td>\n",
              "      <td>0</td>\n",
              "      <td>0</td>\n",
              "      <td>0</td>\n",
              "      <td>0</td>\n",
              "      <td>1</td>\n",
              "      <td>0</td>\n",
              "      <td>0</td>\n",
              "      <td>0</td>\n",
              "      <td>0</td>\n",
              "      <td>0</td>\n",
              "      <td>0</td>\n",
              "    </tr>\n",
              "    <tr>\n",
              "      <th>1366</th>\n",
              "      <td>2018</td>\n",
              "      <td>3</td>\n",
              "      <td>7.97</td>\n",
              "      <td>2.0</td>\n",
              "      <td>7.0</td>\n",
              "      <td>29.0</td>\n",
              "      <td>15.0</td>\n",
              "      <td>18.0</td>\n",
              "      <td>0.0</td>\n",
              "      <td>-2.0</td>\n",
              "      <td>1.408372</td>\n",
              "      <td>53380.0</td>\n",
              "      <td>7.0</td>\n",
              "      <td>2.0</td>\n",
              "      <td>1</td>\n",
              "      <td>0</td>\n",
              "      <td>0</td>\n",
              "      <td>1</td>\n",
              "      <td>0</td>\n",
              "      <td>0</td>\n",
              "      <td>0</td>\n",
              "      <td>0</td>\n",
              "      <td>0</td>\n",
              "      <td>0</td>\n",
              "      <td>0</td>\n",
              "      <td>0</td>\n",
              "      <td>0</td>\n",
              "      <td>0</td>\n",
              "      <td>0</td>\n",
              "      <td>0</td>\n",
              "      <td>0</td>\n",
              "      <td>0</td>\n",
              "      <td>0</td>\n",
              "      <td>0</td>\n",
              "      <td>0</td>\n",
              "      <td>0</td>\n",
              "      <td>0</td>\n",
              "      <td>0</td>\n",
              "      <td>0</td>\n",
              "      <td>0</td>\n",
              "      <td>0</td>\n",
              "      <td>0</td>\n",
              "      <td>0</td>\n",
              "      <td>0</td>\n",
              "      <td>0</td>\n",
              "      <td>0</td>\n",
              "      <td>0</td>\n",
              "      <td>0</td>\n",
              "      <td>0</td>\n",
              "      <td>0</td>\n",
              "      <td>0</td>\n",
              "      <td>0</td>\n",
              "      <td>0</td>\n",
              "      <td>0</td>\n",
              "      <td>0</td>\n",
              "      <td>0</td>\n",
              "      <td>0</td>\n",
              "      <td>0</td>\n",
              "      <td>0</td>\n",
              "      <td>0</td>\n",
              "      <td>1</td>\n",
              "      <td>0</td>\n",
              "      <td>0</td>\n",
              "      <td>0</td>\n",
              "      <td>0</td>\n",
              "      <td>0</td>\n",
              "      <td>0</td>\n",
              "    </tr>\n",
              "  </tbody>\n",
              "</table>\n",
              "</div>\n",
              "      <button class=\"colab-df-convert\" onclick=\"convertToInteractive('df-ed420e18-2d93-47a7-9d6a-ab46db394113')\"\n",
              "              title=\"Convert this dataframe to an interactive table.\"\n",
              "              style=\"display:none;\">\n",
              "        \n",
              "  <svg xmlns=\"http://www.w3.org/2000/svg\" height=\"24px\"viewBox=\"0 0 24 24\"\n",
              "       width=\"24px\">\n",
              "    <path d=\"M0 0h24v24H0V0z\" fill=\"none\"/>\n",
              "    <path d=\"M18.56 5.44l.94 2.06.94-2.06 2.06-.94-2.06-.94-.94-2.06-.94 2.06-2.06.94zm-11 1L8.5 8.5l.94-2.06 2.06-.94-2.06-.94L8.5 2.5l-.94 2.06-2.06.94zm10 10l.94 2.06.94-2.06 2.06-.94-2.06-.94-.94-2.06-.94 2.06-2.06.94z\"/><path d=\"M17.41 7.96l-1.37-1.37c-.4-.4-.92-.59-1.43-.59-.52 0-1.04.2-1.43.59L10.3 9.45l-7.72 7.72c-.78.78-.78 2.05 0 2.83L4 21.41c.39.39.9.59 1.41.59.51 0 1.02-.2 1.41-.59l7.78-7.78 2.81-2.81c.8-.78.8-2.07 0-2.86zM5.41 20L4 18.59l7.72-7.72 1.47 1.35L5.41 20z\"/>\n",
              "  </svg>\n",
              "      </button>\n",
              "      \n",
              "  <style>\n",
              "    .colab-df-container {\n",
              "      display:flex;\n",
              "      flex-wrap:wrap;\n",
              "      gap: 12px;\n",
              "    }\n",
              "\n",
              "    .colab-df-convert {\n",
              "      background-color: #E8F0FE;\n",
              "      border: none;\n",
              "      border-radius: 50%;\n",
              "      cursor: pointer;\n",
              "      display: none;\n",
              "      fill: #1967D2;\n",
              "      height: 32px;\n",
              "      padding: 0 0 0 0;\n",
              "      width: 32px;\n",
              "    }\n",
              "\n",
              "    .colab-df-convert:hover {\n",
              "      background-color: #E2EBFA;\n",
              "      box-shadow: 0px 1px 2px rgba(60, 64, 67, 0.3), 0px 1px 3px 1px rgba(60, 64, 67, 0.15);\n",
              "      fill: #174EA6;\n",
              "    }\n",
              "\n",
              "    [theme=dark] .colab-df-convert {\n",
              "      background-color: #3B4455;\n",
              "      fill: #D2E3FC;\n",
              "    }\n",
              "\n",
              "    [theme=dark] .colab-df-convert:hover {\n",
              "      background-color: #434B5C;\n",
              "      box-shadow: 0px 1px 3px 1px rgba(0, 0, 0, 0.15);\n",
              "      filter: drop-shadow(0px 1px 2px rgba(0, 0, 0, 0.3));\n",
              "      fill: #FFFFFF;\n",
              "    }\n",
              "  </style>\n",
              "\n",
              "      <script>\n",
              "        const buttonEl =\n",
              "          document.querySelector('#df-ed420e18-2d93-47a7-9d6a-ab46db394113 button.colab-df-convert');\n",
              "        buttonEl.style.display =\n",
              "          google.colab.kernel.accessAllowed ? 'block' : 'none';\n",
              "\n",
              "        async function convertToInteractive(key) {\n",
              "          const element = document.querySelector('#df-ed420e18-2d93-47a7-9d6a-ab46db394113');\n",
              "          const dataTable =\n",
              "            await google.colab.kernel.invokeFunction('convertToInteractive',\n",
              "                                                     [key], {});\n",
              "          if (!dataTable) return;\n",
              "\n",
              "          const docLinkHtml = 'Like what you see? Visit the ' +\n",
              "            '<a target=\"_blank\" href=https://colab.research.google.com/notebooks/data_table.ipynb>data table notebook</a>'\n",
              "            + ' to learn more about interactive tables.';\n",
              "          element.innerHTML = '';\n",
              "          dataTable['output_type'] = 'display_data';\n",
              "          await google.colab.output.renderOutput(dataTable, element);\n",
              "          const docLink = document.createElement('div');\n",
              "          docLink.innerHTML = docLinkHtml;\n",
              "          element.appendChild(docLink);\n",
              "        }\n",
              "      </script>\n",
              "    </div>\n",
              "  </div>\n",
              "  "
            ],
            "text/plain": [
              "      YEAR  MONTH  ...  origen_Pais Vasco  origen_Valencia\n",
              "287   2018      3  ...                  0                0\n",
              "924   2018      9  ...                  0                0\n",
              "926   2018     10  ...                  0                0\n",
              "930   2019     11  ...                  0                0\n",
              "1366  2018      3  ...                  0                0\n",
              "\n",
              "[5 rows x 67 columns]"
            ]
          },
          "metadata": {},
          "execution_count": 28
        }
      ]
    },
    {
      "cell_type": "markdown",
      "source": [
        "Se descartarán las características que no sirvan para el propósito: las de origen de las comunidades, los productos (ya que interesa saber qué factores tienen importancia en general en cada región, no algo dependiente del cultivo), el año, el precio, el volumen vendido y el mes de recolección. También se descartará el campo objetivo construido en el apartado anterior (*rentable*)."
      ],
      "metadata": {
        "id": "LXYmS0Nq_i6J"
      }
    },
    {
      "cell_type": "code",
      "source": [
        "x_features = list(aux.columns)\n",
        "x_features = [ item for item in x_features if 'origen_' not in item]\n",
        "x_features = [ item for item in x_features if 'product_' not in item]\n",
        "x_features.remove('rentable')\n",
        "x_features.remove('YEAR')\n",
        "x_features.remove('price_max_recolec')\n",
        "x_features.remove('Volumen_max_recolec')\n",
        "x_features.remove('MONTH_max_recolec')"
      ],
      "metadata": {
        "id": "RU42wUbZvAYH"
      },
      "execution_count": 29,
      "outputs": []
    },
    {
      "cell_type": "markdown",
      "source": [
        "Cabe destacar que no se hará división entre datos de train y test, sino que se empleará una estrategia de train vs train. Esto se debe a que los árboles que se van a obtener son árboles descriptivos, y se usarán para describir los datos, y no como modelo de predicción."
      ],
      "metadata": {
        "id": "4663ZOmIAlxE"
      }
    },
    {
      "cell_type": "code",
      "source": [
        "X = aux[x_features]\n",
        "y = aux['price_max_recolec'] # Campo sobre el que se desea ver la influencia"
      ],
      "metadata": {
        "id": "alwWgKgRyWMv"
      },
      "execution_count": 30,
      "outputs": []
    },
    {
      "cell_type": "code",
      "source": [
        "regressor = DecisionTreeRegressor(criterion='mse', random_state=0)\n",
        "regressor.fit(X, y)\n",
        "\n",
        "y_pred = regressor.predict(X = X) # Predicción sobre los propios datos de train"
      ],
      "metadata": {
        "colab": {
          "base_uri": "https://localhost:8080/"
        },
        "id": "Iqy-Dp4Ewtcp",
        "outputId": "e8b622dd-b999-4156-b3a9-e6054d20edba"
      },
      "execution_count": 31,
      "outputs": [
        {
          "output_type": "stream",
          "name": "stderr",
          "text": [
            "/usr/local/lib/python3.7/dist-packages/sklearn/tree/_classes.py:363: FutureWarning: Criterion 'mse' was deprecated in v1.0 and will be removed in version 1.2. Use `criterion='squared_error'` which is equivalent.\n",
            "  FutureWarning,\n"
          ]
        }
      ]
    },
    {
      "cell_type": "code",
      "source": [
        "print ('Feature Relevances')\n",
        "pd.DataFrame({'Attributes': x_features ,\n",
        "              'Decision Tree': regressor.feature_importances_})"
      ],
      "metadata": {
        "colab": {
          "base_uri": "https://localhost:8080/",
          "height": 380
        },
        "id": "-rHOiTPkypv5",
        "outputId": "fbccb87b-4bba-482c-d322-cc5cf14b5aca"
      },
      "execution_count": 32,
      "outputs": [
        {
          "output_type": "stream",
          "name": "stdout",
          "text": [
            "Feature Relevances\n"
          ]
        },
        {
          "output_type": "execute_result",
          "data": {
            "text/html": [
              "\n",
              "  <div id=\"df-abfe0fa3-a659-4973-8734-25e7948f1e24\">\n",
              "    <div class=\"colab-df-container\">\n",
              "      <div>\n",
              "<style scoped>\n",
              "    .dataframe tbody tr th:only-of-type {\n",
              "        vertical-align: middle;\n",
              "    }\n",
              "\n",
              "    .dataframe tbody tr th {\n",
              "        vertical-align: top;\n",
              "    }\n",
              "\n",
              "    .dataframe thead th {\n",
              "        text-align: right;\n",
              "    }\n",
              "</style>\n",
              "<table border=\"1\" class=\"dataframe\">\n",
              "  <thead>\n",
              "    <tr style=\"text-align: right;\">\n",
              "      <th></th>\n",
              "      <th>Attributes</th>\n",
              "      <th>Decision Tree</th>\n",
              "    </tr>\n",
              "  </thead>\n",
              "  <tbody>\n",
              "    <tr>\n",
              "      <th>0</th>\n",
              "      <td>MONTH</td>\n",
              "      <td>0.076154</td>\n",
              "    </tr>\n",
              "    <tr>\n",
              "      <th>1</th>\n",
              "      <td>temperatura</td>\n",
              "      <td>0.078801</td>\n",
              "    </tr>\n",
              "    <tr>\n",
              "      <th>2</th>\n",
              "      <td>Precipitacion_group</td>\n",
              "      <td>0.016940</td>\n",
              "    </tr>\n",
              "    <tr>\n",
              "      <th>3</th>\n",
              "      <td>Temperatura min req</td>\n",
              "      <td>0.003789</td>\n",
              "    </tr>\n",
              "    <tr>\n",
              "      <th>4</th>\n",
              "      <td>Temperatura max req</td>\n",
              "      <td>0.359900</td>\n",
              "    </tr>\n",
              "    <tr>\n",
              "      <th>5</th>\n",
              "      <td>Temperatura min opt</td>\n",
              "      <td>0.138241</td>\n",
              "    </tr>\n",
              "    <tr>\n",
              "      <th>6</th>\n",
              "      <td>Temperatura max opt</td>\n",
              "      <td>0.146305</td>\n",
              "    </tr>\n",
              "    <tr>\n",
              "      <th>7</th>\n",
              "      <td>distancia_mes_inicio_siem</td>\n",
              "      <td>0.001435</td>\n",
              "    </tr>\n",
              "    <tr>\n",
              "      <th>8</th>\n",
              "      <td>distancia_mes_fin_siem</td>\n",
              "      <td>0.002983</td>\n",
              "    </tr>\n",
              "    <tr>\n",
              "      <th>9</th>\n",
              "      <td>need_humidity_group</td>\n",
              "      <td>0.175452</td>\n",
              "    </tr>\n",
              "  </tbody>\n",
              "</table>\n",
              "</div>\n",
              "      <button class=\"colab-df-convert\" onclick=\"convertToInteractive('df-abfe0fa3-a659-4973-8734-25e7948f1e24')\"\n",
              "              title=\"Convert this dataframe to an interactive table.\"\n",
              "              style=\"display:none;\">\n",
              "        \n",
              "  <svg xmlns=\"http://www.w3.org/2000/svg\" height=\"24px\"viewBox=\"0 0 24 24\"\n",
              "       width=\"24px\">\n",
              "    <path d=\"M0 0h24v24H0V0z\" fill=\"none\"/>\n",
              "    <path d=\"M18.56 5.44l.94 2.06.94-2.06 2.06-.94-2.06-.94-.94-2.06-.94 2.06-2.06.94zm-11 1L8.5 8.5l.94-2.06 2.06-.94-2.06-.94L8.5 2.5l-.94 2.06-2.06.94zm10 10l.94 2.06.94-2.06 2.06-.94-2.06-.94-.94-2.06-.94 2.06-2.06.94z\"/><path d=\"M17.41 7.96l-1.37-1.37c-.4-.4-.92-.59-1.43-.59-.52 0-1.04.2-1.43.59L10.3 9.45l-7.72 7.72c-.78.78-.78 2.05 0 2.83L4 21.41c.39.39.9.59 1.41.59.51 0 1.02-.2 1.41-.59l7.78-7.78 2.81-2.81c.8-.78.8-2.07 0-2.86zM5.41 20L4 18.59l7.72-7.72 1.47 1.35L5.41 20z\"/>\n",
              "  </svg>\n",
              "      </button>\n",
              "      \n",
              "  <style>\n",
              "    .colab-df-container {\n",
              "      display:flex;\n",
              "      flex-wrap:wrap;\n",
              "      gap: 12px;\n",
              "    }\n",
              "\n",
              "    .colab-df-convert {\n",
              "      background-color: #E8F0FE;\n",
              "      border: none;\n",
              "      border-radius: 50%;\n",
              "      cursor: pointer;\n",
              "      display: none;\n",
              "      fill: #1967D2;\n",
              "      height: 32px;\n",
              "      padding: 0 0 0 0;\n",
              "      width: 32px;\n",
              "    }\n",
              "\n",
              "    .colab-df-convert:hover {\n",
              "      background-color: #E2EBFA;\n",
              "      box-shadow: 0px 1px 2px rgba(60, 64, 67, 0.3), 0px 1px 3px 1px rgba(60, 64, 67, 0.15);\n",
              "      fill: #174EA6;\n",
              "    }\n",
              "\n",
              "    [theme=dark] .colab-df-convert {\n",
              "      background-color: #3B4455;\n",
              "      fill: #D2E3FC;\n",
              "    }\n",
              "\n",
              "    [theme=dark] .colab-df-convert:hover {\n",
              "      background-color: #434B5C;\n",
              "      box-shadow: 0px 1px 3px 1px rgba(0, 0, 0, 0.15);\n",
              "      filter: drop-shadow(0px 1px 2px rgba(0, 0, 0, 0.3));\n",
              "      fill: #FFFFFF;\n",
              "    }\n",
              "  </style>\n",
              "\n",
              "      <script>\n",
              "        const buttonEl =\n",
              "          document.querySelector('#df-abfe0fa3-a659-4973-8734-25e7948f1e24 button.colab-df-convert');\n",
              "        buttonEl.style.display =\n",
              "          google.colab.kernel.accessAllowed ? 'block' : 'none';\n",
              "\n",
              "        async function convertToInteractive(key) {\n",
              "          const element = document.querySelector('#df-abfe0fa3-a659-4973-8734-25e7948f1e24');\n",
              "          const dataTable =\n",
              "            await google.colab.kernel.invokeFunction('convertToInteractive',\n",
              "                                                     [key], {});\n",
              "          if (!dataTable) return;\n",
              "\n",
              "          const docLinkHtml = 'Like what you see? Visit the ' +\n",
              "            '<a target=\"_blank\" href=https://colab.research.google.com/notebooks/data_table.ipynb>data table notebook</a>'\n",
              "            + ' to learn more about interactive tables.';\n",
              "          element.innerHTML = '';\n",
              "          dataTable['output_type'] = 'display_data';\n",
              "          await google.colab.output.renderOutput(dataTable, element);\n",
              "          const docLink = document.createElement('div');\n",
              "          docLink.innerHTML = docLinkHtml;\n",
              "          element.appendChild(docLink);\n",
              "        }\n",
              "      </script>\n",
              "    </div>\n",
              "  </div>\n",
              "  "
            ],
            "text/plain": [
              "                  Attributes  Decision Tree\n",
              "0                      MONTH       0.076154\n",
              "1                temperatura       0.078801\n",
              "2        Precipitacion_group       0.016940\n",
              "3        Temperatura min req       0.003789\n",
              "4        Temperatura max req       0.359900\n",
              "5        Temperatura min opt       0.138241\n",
              "6        Temperatura max opt       0.146305\n",
              "7  distancia_mes_inicio_siem       0.001435\n",
              "8     distancia_mes_fin_siem       0.002983\n",
              "9        need_humidity_group       0.175452"
            ]
          },
          "metadata": {},
          "execution_count": 32
        }
      ]
    },
    {
      "cell_type": "code",
      "source": [
        "print (\"MAE:\", metrics.mean_absolute_error(y_pred , y))\n",
        "print (\"MAPE:\", metrics.mean_absolute_percentage_error(y_pred , y))\n",
        "print (\"MSE:\", metrics.mean_squared_error(y_pred , y))\n",
        "print (\"R^2:\", metrics.r2_score(y_pred , y))"
      ],
      "metadata": {
        "colab": {
          "base_uri": "https://localhost:8080/"
        },
        "id": "yYJo4kCcx9I5",
        "outputId": "b0002310-d6cd-4c95-882f-4e50e6ef7437"
      },
      "execution_count": 33,
      "outputs": [
        {
          "output_type": "stream",
          "name": "stdout",
          "text": [
            "MAE: 0.0\n",
            "MAPE: 0.0\n",
            "MSE: 0.0\n",
            "R^2: 1.0\n"
          ]
        }
      ]
    },
    {
      "cell_type": "markdown",
      "source": [
        "Como se puede apreciar, el error de predicción es bajísimo, por lo que podemos concluir que los datos no tienen mucho ruido/distorsiones y el modelo describe correctamente el fenómeno."
      ],
      "metadata": {
        "id": "eV5t6xdIBoEt"
      }
    },
    {
      "cell_type": "markdown",
      "source": [
        "#### 4.1.2 Castilla - La Mancha"
      ],
      "metadata": {
        "id": "dH_zL6l-8CbT"
      }
    },
    {
      "cell_type": "code",
      "source": [
        "# Filtrar dataframe por la región elegida\n",
        "aux = agroanalisis[agroanalisis['origen_Castilla La Mancha'] == 1]\n",
        "aux.head()"
      ],
      "metadata": {
        "colab": {
          "base_uri": "https://localhost:8080/",
          "height": 288
        },
        "id": "GinHSmt40JAh",
        "outputId": "2a2895fe-e934-4ec3-93ac-3280a81953fb"
      },
      "execution_count": 34,
      "outputs": [
        {
          "output_type": "execute_result",
          "data": {
            "text/html": [
              "\n",
              "  <div id=\"df-6dd327b2-2ca4-48e1-b400-3d0442655156\">\n",
              "    <div class=\"colab-df-container\">\n",
              "      <div>\n",
              "<style scoped>\n",
              "    .dataframe tbody tr th:only-of-type {\n",
              "        vertical-align: middle;\n",
              "    }\n",
              "\n",
              "    .dataframe tbody tr th {\n",
              "        vertical-align: top;\n",
              "    }\n",
              "\n",
              "    .dataframe thead th {\n",
              "        text-align: right;\n",
              "    }\n",
              "</style>\n",
              "<table border=\"1\" class=\"dataframe\">\n",
              "  <thead>\n",
              "    <tr style=\"text-align: right;\">\n",
              "      <th></th>\n",
              "      <th>YEAR</th>\n",
              "      <th>MONTH</th>\n",
              "      <th>temperatura</th>\n",
              "      <th>Precipitacion_group</th>\n",
              "      <th>Temperatura min req</th>\n",
              "      <th>Temperatura max req</th>\n",
              "      <th>Temperatura min opt</th>\n",
              "      <th>Temperatura max opt</th>\n",
              "      <th>distancia_mes_inicio_siem</th>\n",
              "      <th>distancia_mes_fin_siem</th>\n",
              "      <th>price_max_recolec</th>\n",
              "      <th>Volumen_max_recolec</th>\n",
              "      <th>MONTH_max_recolec</th>\n",
              "      <th>need_humidity_group</th>\n",
              "      <th>rentable</th>\n",
              "      <th>product_ACELGA</th>\n",
              "      <th>product_AJO</th>\n",
              "      <th>product_ALCACHOFA</th>\n",
              "      <th>product_APIO</th>\n",
              "      <th>product_BERENJENA</th>\n",
              "      <th>product_BROCOLI</th>\n",
              "      <th>product_CALABACIN</th>\n",
              "      <th>product_CALABAZA</th>\n",
              "      <th>product_CEBOLLA</th>\n",
              "      <th>product_CEBOLLETA</th>\n",
              "      <th>product_CHIRIVIA</th>\n",
              "      <th>product_COL BRUSELAS</th>\n",
              "      <th>product_COL CHINA</th>\n",
              "      <th>product_COL LOMBARDA</th>\n",
              "      <th>product_COL REPOLLO</th>\n",
              "      <th>product_COLIFLOR</th>\n",
              "      <th>product_ESCAROLA</th>\n",
              "      <th>product_ESPINACA</th>\n",
              "      <th>product_GUISANTE</th>\n",
              "      <th>product_HABA</th>\n",
              "      <th>product_JUDIA</th>\n",
              "      <th>product_LECHUGA</th>\n",
              "      <th>product_MAIZ</th>\n",
              "      <th>product_MELON</th>\n",
              "      <th>product_NABO</th>\n",
              "      <th>product_PATATA</th>\n",
              "      <th>product_PEPINO</th>\n",
              "      <th>product_PEREJIL</th>\n",
              "      <th>product_PIMIENTO</th>\n",
              "      <th>product_PUERRO</th>\n",
              "      <th>product_RABANITO</th>\n",
              "      <th>product_REMOLACHA</th>\n",
              "      <th>product_SANDIA</th>\n",
              "      <th>product_TOMATE</th>\n",
              "      <th>product_ZANAHORIA</th>\n",
              "      <th>origen_Andalucia</th>\n",
              "      <th>origen_Aragon</th>\n",
              "      <th>origen_Asturias</th>\n",
              "      <th>origen_Baleares</th>\n",
              "      <th>origen_Canarias</th>\n",
              "      <th>origen_Cantabria</th>\n",
              "      <th>origen_Castilla La Mancha</th>\n",
              "      <th>origen_Castilla Leon</th>\n",
              "      <th>origen_Cataluña</th>\n",
              "      <th>origen_Extremadura</th>\n",
              "      <th>origen_Galicia</th>\n",
              "      <th>origen_La Rioja</th>\n",
              "      <th>origen_Madrid</th>\n",
              "      <th>origen_Murcia</th>\n",
              "      <th>origen_Navarra</th>\n",
              "      <th>origen_Pais Vasco</th>\n",
              "      <th>origen_Valencia</th>\n",
              "    </tr>\n",
              "  </thead>\n",
              "  <tbody>\n",
              "    <tr>\n",
              "      <th>87</th>\n",
              "      <td>2018</td>\n",
              "      <td>3</td>\n",
              "      <td>7.66</td>\n",
              "      <td>1.0</td>\n",
              "      <td>6.0</td>\n",
              "      <td>33.0</td>\n",
              "      <td>15.0</td>\n",
              "      <td>25.0</td>\n",
              "      <td>0.0</td>\n",
              "      <td>-2.0</td>\n",
              "      <td>1.120000</td>\n",
              "      <td>248740.0</td>\n",
              "      <td>6.0</td>\n",
              "      <td>0.0</td>\n",
              "      <td>0</td>\n",
              "      <td>1</td>\n",
              "      <td>0</td>\n",
              "      <td>0</td>\n",
              "      <td>0</td>\n",
              "      <td>0</td>\n",
              "      <td>0</td>\n",
              "      <td>0</td>\n",
              "      <td>0</td>\n",
              "      <td>0</td>\n",
              "      <td>0</td>\n",
              "      <td>0</td>\n",
              "      <td>0</td>\n",
              "      <td>0</td>\n",
              "      <td>0</td>\n",
              "      <td>0</td>\n",
              "      <td>0</td>\n",
              "      <td>0</td>\n",
              "      <td>0</td>\n",
              "      <td>0</td>\n",
              "      <td>0</td>\n",
              "      <td>0</td>\n",
              "      <td>0</td>\n",
              "      <td>0</td>\n",
              "      <td>0</td>\n",
              "      <td>0</td>\n",
              "      <td>0</td>\n",
              "      <td>0</td>\n",
              "      <td>0</td>\n",
              "      <td>0</td>\n",
              "      <td>0</td>\n",
              "      <td>0</td>\n",
              "      <td>0</td>\n",
              "      <td>0</td>\n",
              "      <td>0</td>\n",
              "      <td>0</td>\n",
              "      <td>0</td>\n",
              "      <td>0</td>\n",
              "      <td>0</td>\n",
              "      <td>0</td>\n",
              "      <td>0</td>\n",
              "      <td>0</td>\n",
              "      <td>1</td>\n",
              "      <td>0</td>\n",
              "      <td>0</td>\n",
              "      <td>0</td>\n",
              "      <td>0</td>\n",
              "      <td>0</td>\n",
              "      <td>0</td>\n",
              "      <td>0</td>\n",
              "      <td>0</td>\n",
              "      <td>0</td>\n",
              "      <td>0</td>\n",
              "    </tr>\n",
              "    <tr>\n",
              "      <th>89</th>\n",
              "      <td>2018</td>\n",
              "      <td>4</td>\n",
              "      <td>11.85</td>\n",
              "      <td>0.0</td>\n",
              "      <td>6.0</td>\n",
              "      <td>33.0</td>\n",
              "      <td>15.0</td>\n",
              "      <td>25.0</td>\n",
              "      <td>1.0</td>\n",
              "      <td>-1.0</td>\n",
              "      <td>0.776190</td>\n",
              "      <td>50195.0</td>\n",
              "      <td>7.0</td>\n",
              "      <td>0.0</td>\n",
              "      <td>0</td>\n",
              "      <td>1</td>\n",
              "      <td>0</td>\n",
              "      <td>0</td>\n",
              "      <td>0</td>\n",
              "      <td>0</td>\n",
              "      <td>0</td>\n",
              "      <td>0</td>\n",
              "      <td>0</td>\n",
              "      <td>0</td>\n",
              "      <td>0</td>\n",
              "      <td>0</td>\n",
              "      <td>0</td>\n",
              "      <td>0</td>\n",
              "      <td>0</td>\n",
              "      <td>0</td>\n",
              "      <td>0</td>\n",
              "      <td>0</td>\n",
              "      <td>0</td>\n",
              "      <td>0</td>\n",
              "      <td>0</td>\n",
              "      <td>0</td>\n",
              "      <td>0</td>\n",
              "      <td>0</td>\n",
              "      <td>0</td>\n",
              "      <td>0</td>\n",
              "      <td>0</td>\n",
              "      <td>0</td>\n",
              "      <td>0</td>\n",
              "      <td>0</td>\n",
              "      <td>0</td>\n",
              "      <td>0</td>\n",
              "      <td>0</td>\n",
              "      <td>0</td>\n",
              "      <td>0</td>\n",
              "      <td>0</td>\n",
              "      <td>0</td>\n",
              "      <td>0</td>\n",
              "      <td>0</td>\n",
              "      <td>0</td>\n",
              "      <td>0</td>\n",
              "      <td>0</td>\n",
              "      <td>1</td>\n",
              "      <td>0</td>\n",
              "      <td>0</td>\n",
              "      <td>0</td>\n",
              "      <td>0</td>\n",
              "      <td>0</td>\n",
              "      <td>0</td>\n",
              "      <td>0</td>\n",
              "      <td>0</td>\n",
              "      <td>0</td>\n",
              "      <td>0</td>\n",
              "    </tr>\n",
              "    <tr>\n",
              "      <th>91</th>\n",
              "      <td>2018</td>\n",
              "      <td>5</td>\n",
              "      <td>15.45</td>\n",
              "      <td>0.0</td>\n",
              "      <td>6.0</td>\n",
              "      <td>33.0</td>\n",
              "      <td>15.0</td>\n",
              "      <td>25.0</td>\n",
              "      <td>2.0</td>\n",
              "      <td>0.0</td>\n",
              "      <td>0.559091</td>\n",
              "      <td>134190.0</td>\n",
              "      <td>8.0</td>\n",
              "      <td>0.0</td>\n",
              "      <td>0</td>\n",
              "      <td>1</td>\n",
              "      <td>0</td>\n",
              "      <td>0</td>\n",
              "      <td>0</td>\n",
              "      <td>0</td>\n",
              "      <td>0</td>\n",
              "      <td>0</td>\n",
              "      <td>0</td>\n",
              "      <td>0</td>\n",
              "      <td>0</td>\n",
              "      <td>0</td>\n",
              "      <td>0</td>\n",
              "      <td>0</td>\n",
              "      <td>0</td>\n",
              "      <td>0</td>\n",
              "      <td>0</td>\n",
              "      <td>0</td>\n",
              "      <td>0</td>\n",
              "      <td>0</td>\n",
              "      <td>0</td>\n",
              "      <td>0</td>\n",
              "      <td>0</td>\n",
              "      <td>0</td>\n",
              "      <td>0</td>\n",
              "      <td>0</td>\n",
              "      <td>0</td>\n",
              "      <td>0</td>\n",
              "      <td>0</td>\n",
              "      <td>0</td>\n",
              "      <td>0</td>\n",
              "      <td>0</td>\n",
              "      <td>0</td>\n",
              "      <td>0</td>\n",
              "      <td>0</td>\n",
              "      <td>0</td>\n",
              "      <td>0</td>\n",
              "      <td>0</td>\n",
              "      <td>0</td>\n",
              "      <td>0</td>\n",
              "      <td>0</td>\n",
              "      <td>0</td>\n",
              "      <td>1</td>\n",
              "      <td>0</td>\n",
              "      <td>0</td>\n",
              "      <td>0</td>\n",
              "      <td>0</td>\n",
              "      <td>0</td>\n",
              "      <td>0</td>\n",
              "      <td>0</td>\n",
              "      <td>0</td>\n",
              "      <td>0</td>\n",
              "      <td>0</td>\n",
              "    </tr>\n",
              "    <tr>\n",
              "      <th>100</th>\n",
              "      <td>2018</td>\n",
              "      <td>10</td>\n",
              "      <td>14.23</td>\n",
              "      <td>0.0</td>\n",
              "      <td>6.0</td>\n",
              "      <td>33.0</td>\n",
              "      <td>15.0</td>\n",
              "      <td>25.0</td>\n",
              "      <td>1.0</td>\n",
              "      <td>-1.0</td>\n",
              "      <td>0.890476</td>\n",
              "      <td>113425.0</td>\n",
              "      <td>1.0</td>\n",
              "      <td>0.0</td>\n",
              "      <td>0</td>\n",
              "      <td>1</td>\n",
              "      <td>0</td>\n",
              "      <td>0</td>\n",
              "      <td>0</td>\n",
              "      <td>0</td>\n",
              "      <td>0</td>\n",
              "      <td>0</td>\n",
              "      <td>0</td>\n",
              "      <td>0</td>\n",
              "      <td>0</td>\n",
              "      <td>0</td>\n",
              "      <td>0</td>\n",
              "      <td>0</td>\n",
              "      <td>0</td>\n",
              "      <td>0</td>\n",
              "      <td>0</td>\n",
              "      <td>0</td>\n",
              "      <td>0</td>\n",
              "      <td>0</td>\n",
              "      <td>0</td>\n",
              "      <td>0</td>\n",
              "      <td>0</td>\n",
              "      <td>0</td>\n",
              "      <td>0</td>\n",
              "      <td>0</td>\n",
              "      <td>0</td>\n",
              "      <td>0</td>\n",
              "      <td>0</td>\n",
              "      <td>0</td>\n",
              "      <td>0</td>\n",
              "      <td>0</td>\n",
              "      <td>0</td>\n",
              "      <td>0</td>\n",
              "      <td>0</td>\n",
              "      <td>0</td>\n",
              "      <td>0</td>\n",
              "      <td>0</td>\n",
              "      <td>0</td>\n",
              "      <td>0</td>\n",
              "      <td>0</td>\n",
              "      <td>0</td>\n",
              "      <td>1</td>\n",
              "      <td>0</td>\n",
              "      <td>0</td>\n",
              "      <td>0</td>\n",
              "      <td>0</td>\n",
              "      <td>0</td>\n",
              "      <td>0</td>\n",
              "      <td>0</td>\n",
              "      <td>0</td>\n",
              "      <td>0</td>\n",
              "      <td>0</td>\n",
              "    </tr>\n",
              "    <tr>\n",
              "      <th>102</th>\n",
              "      <td>2018</td>\n",
              "      <td>11</td>\n",
              "      <td>9.23</td>\n",
              "      <td>0.0</td>\n",
              "      <td>6.0</td>\n",
              "      <td>33.0</td>\n",
              "      <td>15.0</td>\n",
              "      <td>25.0</td>\n",
              "      <td>2.0</td>\n",
              "      <td>0.0</td>\n",
              "      <td>0.707895</td>\n",
              "      <td>107030.0</td>\n",
              "      <td>2.0</td>\n",
              "      <td>0.0</td>\n",
              "      <td>0</td>\n",
              "      <td>1</td>\n",
              "      <td>0</td>\n",
              "      <td>0</td>\n",
              "      <td>0</td>\n",
              "      <td>0</td>\n",
              "      <td>0</td>\n",
              "      <td>0</td>\n",
              "      <td>0</td>\n",
              "      <td>0</td>\n",
              "      <td>0</td>\n",
              "      <td>0</td>\n",
              "      <td>0</td>\n",
              "      <td>0</td>\n",
              "      <td>0</td>\n",
              "      <td>0</td>\n",
              "      <td>0</td>\n",
              "      <td>0</td>\n",
              "      <td>0</td>\n",
              "      <td>0</td>\n",
              "      <td>0</td>\n",
              "      <td>0</td>\n",
              "      <td>0</td>\n",
              "      <td>0</td>\n",
              "      <td>0</td>\n",
              "      <td>0</td>\n",
              "      <td>0</td>\n",
              "      <td>0</td>\n",
              "      <td>0</td>\n",
              "      <td>0</td>\n",
              "      <td>0</td>\n",
              "      <td>0</td>\n",
              "      <td>0</td>\n",
              "      <td>0</td>\n",
              "      <td>0</td>\n",
              "      <td>0</td>\n",
              "      <td>0</td>\n",
              "      <td>0</td>\n",
              "      <td>0</td>\n",
              "      <td>0</td>\n",
              "      <td>0</td>\n",
              "      <td>0</td>\n",
              "      <td>1</td>\n",
              "      <td>0</td>\n",
              "      <td>0</td>\n",
              "      <td>0</td>\n",
              "      <td>0</td>\n",
              "      <td>0</td>\n",
              "      <td>0</td>\n",
              "      <td>0</td>\n",
              "      <td>0</td>\n",
              "      <td>0</td>\n",
              "      <td>0</td>\n",
              "    </tr>\n",
              "  </tbody>\n",
              "</table>\n",
              "</div>\n",
              "      <button class=\"colab-df-convert\" onclick=\"convertToInteractive('df-6dd327b2-2ca4-48e1-b400-3d0442655156')\"\n",
              "              title=\"Convert this dataframe to an interactive table.\"\n",
              "              style=\"display:none;\">\n",
              "        \n",
              "  <svg xmlns=\"http://www.w3.org/2000/svg\" height=\"24px\"viewBox=\"0 0 24 24\"\n",
              "       width=\"24px\">\n",
              "    <path d=\"M0 0h24v24H0V0z\" fill=\"none\"/>\n",
              "    <path d=\"M18.56 5.44l.94 2.06.94-2.06 2.06-.94-2.06-.94-.94-2.06-.94 2.06-2.06.94zm-11 1L8.5 8.5l.94-2.06 2.06-.94-2.06-.94L8.5 2.5l-.94 2.06-2.06.94zm10 10l.94 2.06.94-2.06 2.06-.94-2.06-.94-.94-2.06-.94 2.06-2.06.94z\"/><path d=\"M17.41 7.96l-1.37-1.37c-.4-.4-.92-.59-1.43-.59-.52 0-1.04.2-1.43.59L10.3 9.45l-7.72 7.72c-.78.78-.78 2.05 0 2.83L4 21.41c.39.39.9.59 1.41.59.51 0 1.02-.2 1.41-.59l7.78-7.78 2.81-2.81c.8-.78.8-2.07 0-2.86zM5.41 20L4 18.59l7.72-7.72 1.47 1.35L5.41 20z\"/>\n",
              "  </svg>\n",
              "      </button>\n",
              "      \n",
              "  <style>\n",
              "    .colab-df-container {\n",
              "      display:flex;\n",
              "      flex-wrap:wrap;\n",
              "      gap: 12px;\n",
              "    }\n",
              "\n",
              "    .colab-df-convert {\n",
              "      background-color: #E8F0FE;\n",
              "      border: none;\n",
              "      border-radius: 50%;\n",
              "      cursor: pointer;\n",
              "      display: none;\n",
              "      fill: #1967D2;\n",
              "      height: 32px;\n",
              "      padding: 0 0 0 0;\n",
              "      width: 32px;\n",
              "    }\n",
              "\n",
              "    .colab-df-convert:hover {\n",
              "      background-color: #E2EBFA;\n",
              "      box-shadow: 0px 1px 2px rgba(60, 64, 67, 0.3), 0px 1px 3px 1px rgba(60, 64, 67, 0.15);\n",
              "      fill: #174EA6;\n",
              "    }\n",
              "\n",
              "    [theme=dark] .colab-df-convert {\n",
              "      background-color: #3B4455;\n",
              "      fill: #D2E3FC;\n",
              "    }\n",
              "\n",
              "    [theme=dark] .colab-df-convert:hover {\n",
              "      background-color: #434B5C;\n",
              "      box-shadow: 0px 1px 3px 1px rgba(0, 0, 0, 0.15);\n",
              "      filter: drop-shadow(0px 1px 2px rgba(0, 0, 0, 0.3));\n",
              "      fill: #FFFFFF;\n",
              "    }\n",
              "  </style>\n",
              "\n",
              "      <script>\n",
              "        const buttonEl =\n",
              "          document.querySelector('#df-6dd327b2-2ca4-48e1-b400-3d0442655156 button.colab-df-convert');\n",
              "        buttonEl.style.display =\n",
              "          google.colab.kernel.accessAllowed ? 'block' : 'none';\n",
              "\n",
              "        async function convertToInteractive(key) {\n",
              "          const element = document.querySelector('#df-6dd327b2-2ca4-48e1-b400-3d0442655156');\n",
              "          const dataTable =\n",
              "            await google.colab.kernel.invokeFunction('convertToInteractive',\n",
              "                                                     [key], {});\n",
              "          if (!dataTable) return;\n",
              "\n",
              "          const docLinkHtml = 'Like what you see? Visit the ' +\n",
              "            '<a target=\"_blank\" href=https://colab.research.google.com/notebooks/data_table.ipynb>data table notebook</a>'\n",
              "            + ' to learn more about interactive tables.';\n",
              "          element.innerHTML = '';\n",
              "          dataTable['output_type'] = 'display_data';\n",
              "          await google.colab.output.renderOutput(dataTable, element);\n",
              "          const docLink = document.createElement('div');\n",
              "          docLink.innerHTML = docLinkHtml;\n",
              "          element.appendChild(docLink);\n",
              "        }\n",
              "      </script>\n",
              "    </div>\n",
              "  </div>\n",
              "  "
            ],
            "text/plain": [
              "     YEAR  MONTH  ...  origen_Pais Vasco  origen_Valencia\n",
              "87   2018      3  ...                  0                0\n",
              "89   2018      4  ...                  0                0\n",
              "91   2018      5  ...                  0                0\n",
              "100  2018     10  ...                  0                0\n",
              "102  2018     11  ...                  0                0\n",
              "\n",
              "[5 rows x 67 columns]"
            ]
          },
          "metadata": {},
          "execution_count": 34
        }
      ]
    },
    {
      "cell_type": "markdown",
      "source": [
        "Se descartarán las mismas características que en el apartado anterior."
      ],
      "metadata": {
        "id": "5RrRw7L9CpXD"
      }
    },
    {
      "cell_type": "code",
      "source": [
        "x_features = list(aux.columns)\n",
        "x_features = [ item for item in x_features if 'origen_' not in item]\n",
        "x_features = [ item for item in x_features if 'product_' not in item]\n",
        "x_features.remove('rentable')\n",
        "x_features.remove('YEAR')\n",
        "x_features.remove('price_max_recolec')\n",
        "x_features.remove('Volumen_max_recolec')\n",
        "x_features.remove('MONTH_max_recolec')"
      ],
      "metadata": {
        "id": "Up8uUViU0UUC"
      },
      "execution_count": 35,
      "outputs": []
    },
    {
      "cell_type": "code",
      "source": [
        "X = aux[x_features]\n",
        "y = aux['price_max_recolec'] # Campo sobre el que se desea ver la influencia"
      ],
      "metadata": {
        "id": "HpvhvPfL0U5C"
      },
      "execution_count": 36,
      "outputs": []
    },
    {
      "cell_type": "code",
      "source": [
        "regressor = DecisionTreeRegressor(criterion='mse', random_state=0)\n",
        "regressor.fit(X, y)\n",
        "\n",
        "y_pred = regressor.predict(X = X)"
      ],
      "metadata": {
        "colab": {
          "base_uri": "https://localhost:8080/"
        },
        "id": "ybp-Vb4Z0YBn",
        "outputId": "ae5c4987-f5fd-49d1-fb00-8dcb8f321c8d"
      },
      "execution_count": 37,
      "outputs": [
        {
          "output_type": "stream",
          "name": "stderr",
          "text": [
            "/usr/local/lib/python3.7/dist-packages/sklearn/tree/_classes.py:363: FutureWarning: Criterion 'mse' was deprecated in v1.0 and will be removed in version 1.2. Use `criterion='squared_error'` which is equivalent.\n",
            "  FutureWarning,\n"
          ]
        }
      ]
    },
    {
      "cell_type": "code",
      "source": [
        "print ('Feature Relevances')\n",
        "pd.DataFrame({'Attributes': x_features ,\n",
        "              'Decision Tree': regressor.feature_importances_})"
      ],
      "metadata": {
        "colab": {
          "base_uri": "https://localhost:8080/",
          "height": 380
        },
        "id": "4fZaPozB0a8x",
        "outputId": "dcff6191-7b77-4aec-f724-6d0590ee30b1"
      },
      "execution_count": 38,
      "outputs": [
        {
          "output_type": "stream",
          "name": "stdout",
          "text": [
            "Feature Relevances\n"
          ]
        },
        {
          "output_type": "execute_result",
          "data": {
            "text/html": [
              "\n",
              "  <div id=\"df-c09fc259-1fd4-430d-9ea7-34e94eb4ade8\">\n",
              "    <div class=\"colab-df-container\">\n",
              "      <div>\n",
              "<style scoped>\n",
              "    .dataframe tbody tr th:only-of-type {\n",
              "        vertical-align: middle;\n",
              "    }\n",
              "\n",
              "    .dataframe tbody tr th {\n",
              "        vertical-align: top;\n",
              "    }\n",
              "\n",
              "    .dataframe thead th {\n",
              "        text-align: right;\n",
              "    }\n",
              "</style>\n",
              "<table border=\"1\" class=\"dataframe\">\n",
              "  <thead>\n",
              "    <tr style=\"text-align: right;\">\n",
              "      <th></th>\n",
              "      <th>Attributes</th>\n",
              "      <th>Decision Tree</th>\n",
              "    </tr>\n",
              "  </thead>\n",
              "  <tbody>\n",
              "    <tr>\n",
              "      <th>0</th>\n",
              "      <td>MONTH</td>\n",
              "      <td>0.114665</td>\n",
              "    </tr>\n",
              "    <tr>\n",
              "      <th>1</th>\n",
              "      <td>temperatura</td>\n",
              "      <td>0.077658</td>\n",
              "    </tr>\n",
              "    <tr>\n",
              "      <th>2</th>\n",
              "      <td>Precipitacion_group</td>\n",
              "      <td>0.007806</td>\n",
              "    </tr>\n",
              "    <tr>\n",
              "      <th>3</th>\n",
              "      <td>Temperatura min req</td>\n",
              "      <td>0.426042</td>\n",
              "    </tr>\n",
              "    <tr>\n",
              "      <th>4</th>\n",
              "      <td>Temperatura max req</td>\n",
              "      <td>0.092111</td>\n",
              "    </tr>\n",
              "    <tr>\n",
              "      <th>5</th>\n",
              "      <td>Temperatura min opt</td>\n",
              "      <td>0.166185</td>\n",
              "    </tr>\n",
              "    <tr>\n",
              "      <th>6</th>\n",
              "      <td>Temperatura max opt</td>\n",
              "      <td>0.104534</td>\n",
              "    </tr>\n",
              "    <tr>\n",
              "      <th>7</th>\n",
              "      <td>distancia_mes_inicio_siem</td>\n",
              "      <td>0.006085</td>\n",
              "    </tr>\n",
              "    <tr>\n",
              "      <th>8</th>\n",
              "      <td>distancia_mes_fin_siem</td>\n",
              "      <td>0.001326</td>\n",
              "    </tr>\n",
              "    <tr>\n",
              "      <th>9</th>\n",
              "      <td>need_humidity_group</td>\n",
              "      <td>0.003588</td>\n",
              "    </tr>\n",
              "  </tbody>\n",
              "</table>\n",
              "</div>\n",
              "      <button class=\"colab-df-convert\" onclick=\"convertToInteractive('df-c09fc259-1fd4-430d-9ea7-34e94eb4ade8')\"\n",
              "              title=\"Convert this dataframe to an interactive table.\"\n",
              "              style=\"display:none;\">\n",
              "        \n",
              "  <svg xmlns=\"http://www.w3.org/2000/svg\" height=\"24px\"viewBox=\"0 0 24 24\"\n",
              "       width=\"24px\">\n",
              "    <path d=\"M0 0h24v24H0V0z\" fill=\"none\"/>\n",
              "    <path d=\"M18.56 5.44l.94 2.06.94-2.06 2.06-.94-2.06-.94-.94-2.06-.94 2.06-2.06.94zm-11 1L8.5 8.5l.94-2.06 2.06-.94-2.06-.94L8.5 2.5l-.94 2.06-2.06.94zm10 10l.94 2.06.94-2.06 2.06-.94-2.06-.94-.94-2.06-.94 2.06-2.06.94z\"/><path d=\"M17.41 7.96l-1.37-1.37c-.4-.4-.92-.59-1.43-.59-.52 0-1.04.2-1.43.59L10.3 9.45l-7.72 7.72c-.78.78-.78 2.05 0 2.83L4 21.41c.39.39.9.59 1.41.59.51 0 1.02-.2 1.41-.59l7.78-7.78 2.81-2.81c.8-.78.8-2.07 0-2.86zM5.41 20L4 18.59l7.72-7.72 1.47 1.35L5.41 20z\"/>\n",
              "  </svg>\n",
              "      </button>\n",
              "      \n",
              "  <style>\n",
              "    .colab-df-container {\n",
              "      display:flex;\n",
              "      flex-wrap:wrap;\n",
              "      gap: 12px;\n",
              "    }\n",
              "\n",
              "    .colab-df-convert {\n",
              "      background-color: #E8F0FE;\n",
              "      border: none;\n",
              "      border-radius: 50%;\n",
              "      cursor: pointer;\n",
              "      display: none;\n",
              "      fill: #1967D2;\n",
              "      height: 32px;\n",
              "      padding: 0 0 0 0;\n",
              "      width: 32px;\n",
              "    }\n",
              "\n",
              "    .colab-df-convert:hover {\n",
              "      background-color: #E2EBFA;\n",
              "      box-shadow: 0px 1px 2px rgba(60, 64, 67, 0.3), 0px 1px 3px 1px rgba(60, 64, 67, 0.15);\n",
              "      fill: #174EA6;\n",
              "    }\n",
              "\n",
              "    [theme=dark] .colab-df-convert {\n",
              "      background-color: #3B4455;\n",
              "      fill: #D2E3FC;\n",
              "    }\n",
              "\n",
              "    [theme=dark] .colab-df-convert:hover {\n",
              "      background-color: #434B5C;\n",
              "      box-shadow: 0px 1px 3px 1px rgba(0, 0, 0, 0.15);\n",
              "      filter: drop-shadow(0px 1px 2px rgba(0, 0, 0, 0.3));\n",
              "      fill: #FFFFFF;\n",
              "    }\n",
              "  </style>\n",
              "\n",
              "      <script>\n",
              "        const buttonEl =\n",
              "          document.querySelector('#df-c09fc259-1fd4-430d-9ea7-34e94eb4ade8 button.colab-df-convert');\n",
              "        buttonEl.style.display =\n",
              "          google.colab.kernel.accessAllowed ? 'block' : 'none';\n",
              "\n",
              "        async function convertToInteractive(key) {\n",
              "          const element = document.querySelector('#df-c09fc259-1fd4-430d-9ea7-34e94eb4ade8');\n",
              "          const dataTable =\n",
              "            await google.colab.kernel.invokeFunction('convertToInteractive',\n",
              "                                                     [key], {});\n",
              "          if (!dataTable) return;\n",
              "\n",
              "          const docLinkHtml = 'Like what you see? Visit the ' +\n",
              "            '<a target=\"_blank\" href=https://colab.research.google.com/notebooks/data_table.ipynb>data table notebook</a>'\n",
              "            + ' to learn more about interactive tables.';\n",
              "          element.innerHTML = '';\n",
              "          dataTable['output_type'] = 'display_data';\n",
              "          await google.colab.output.renderOutput(dataTable, element);\n",
              "          const docLink = document.createElement('div');\n",
              "          docLink.innerHTML = docLinkHtml;\n",
              "          element.appendChild(docLink);\n",
              "        }\n",
              "      </script>\n",
              "    </div>\n",
              "  </div>\n",
              "  "
            ],
            "text/plain": [
              "                  Attributes  Decision Tree\n",
              "0                      MONTH       0.114665\n",
              "1                temperatura       0.077658\n",
              "2        Precipitacion_group       0.007806\n",
              "3        Temperatura min req       0.426042\n",
              "4        Temperatura max req       0.092111\n",
              "5        Temperatura min opt       0.166185\n",
              "6        Temperatura max opt       0.104534\n",
              "7  distancia_mes_inicio_siem       0.006085\n",
              "8     distancia_mes_fin_siem       0.001326\n",
              "9        need_humidity_group       0.003588"
            ]
          },
          "metadata": {},
          "execution_count": 38
        }
      ]
    },
    {
      "cell_type": "code",
      "source": [
        "print (\"MAE:\", metrics.mean_absolute_error(y_pred , y))\n",
        "print (\"MAPE:\", metrics.mean_absolute_percentage_error(y_pred , y))\n",
        "print (\"MSE:\", metrics.mean_squared_error(y_pred , y))\n",
        "print (\"R^2:\", metrics.r2_score(y_pred , y))"
      ],
      "metadata": {
        "colab": {
          "base_uri": "https://localhost:8080/"
        },
        "id": "Phg8quog0gCA",
        "outputId": "40c606f2-dddb-4c0c-f572-815e1a7bd08b"
      },
      "execution_count": 39,
      "outputs": [
        {
          "output_type": "stream",
          "name": "stdout",
          "text": [
            "MAE: 0.0\n",
            "MAPE: 0.0\n",
            "MSE: 0.0\n",
            "R^2: 1.0\n"
          ]
        }
      ]
    },
    {
      "cell_type": "markdown",
      "source": [
        "De nuevo el error es bajísimo, por lo que el modelo describe correctamente el fenómeno."
      ],
      "metadata": {
        "id": "jnq0RJJaCz-d"
      }
    },
    {
      "cell_type": "markdown",
      "source": [
        "#### 4.1.3 Andalucía"
      ],
      "metadata": {
        "id": "Cy9Jajsy8JGR"
      }
    },
    {
      "cell_type": "code",
      "source": [
        "aux = agroanalisis[agroanalisis['origen_Andalucia'] == 1]\n",
        "aux.head()"
      ],
      "metadata": {
        "colab": {
          "base_uri": "https://localhost:8080/",
          "height": 288
        },
        "id": "qCGptzZ98OOq",
        "outputId": "9657abc4-aece-4dfa-bfb4-ae980dbdbc59"
      },
      "execution_count": 40,
      "outputs": [
        {
          "output_type": "execute_result",
          "data": {
            "text/html": [
              "\n",
              "  <div id=\"df-68573d0e-b5f0-46d1-bd0c-3e13c3115169\">\n",
              "    <div class=\"colab-df-container\">\n",
              "      <div>\n",
              "<style scoped>\n",
              "    .dataframe tbody tr th:only-of-type {\n",
              "        vertical-align: middle;\n",
              "    }\n",
              "\n",
              "    .dataframe tbody tr th {\n",
              "        vertical-align: top;\n",
              "    }\n",
              "\n",
              "    .dataframe thead th {\n",
              "        text-align: right;\n",
              "    }\n",
              "</style>\n",
              "<table border=\"1\" class=\"dataframe\">\n",
              "  <thead>\n",
              "    <tr style=\"text-align: right;\">\n",
              "      <th></th>\n",
              "      <th>YEAR</th>\n",
              "      <th>MONTH</th>\n",
              "      <th>temperatura</th>\n",
              "      <th>Precipitacion_group</th>\n",
              "      <th>Temperatura min req</th>\n",
              "      <th>Temperatura max req</th>\n",
              "      <th>Temperatura min opt</th>\n",
              "      <th>Temperatura max opt</th>\n",
              "      <th>distancia_mes_inicio_siem</th>\n",
              "      <th>distancia_mes_fin_siem</th>\n",
              "      <th>price_max_recolec</th>\n",
              "      <th>Volumen_max_recolec</th>\n",
              "      <th>MONTH_max_recolec</th>\n",
              "      <th>need_humidity_group</th>\n",
              "      <th>rentable</th>\n",
              "      <th>product_ACELGA</th>\n",
              "      <th>product_AJO</th>\n",
              "      <th>product_ALCACHOFA</th>\n",
              "      <th>product_APIO</th>\n",
              "      <th>product_BERENJENA</th>\n",
              "      <th>product_BROCOLI</th>\n",
              "      <th>product_CALABACIN</th>\n",
              "      <th>product_CALABAZA</th>\n",
              "      <th>product_CEBOLLA</th>\n",
              "      <th>product_CEBOLLETA</th>\n",
              "      <th>product_CHIRIVIA</th>\n",
              "      <th>product_COL BRUSELAS</th>\n",
              "      <th>product_COL CHINA</th>\n",
              "      <th>product_COL LOMBARDA</th>\n",
              "      <th>product_COL REPOLLO</th>\n",
              "      <th>product_COLIFLOR</th>\n",
              "      <th>product_ESCAROLA</th>\n",
              "      <th>product_ESPINACA</th>\n",
              "      <th>product_GUISANTE</th>\n",
              "      <th>product_HABA</th>\n",
              "      <th>product_JUDIA</th>\n",
              "      <th>product_LECHUGA</th>\n",
              "      <th>product_MAIZ</th>\n",
              "      <th>product_MELON</th>\n",
              "      <th>product_NABO</th>\n",
              "      <th>product_PATATA</th>\n",
              "      <th>product_PEPINO</th>\n",
              "      <th>product_PEREJIL</th>\n",
              "      <th>product_PIMIENTO</th>\n",
              "      <th>product_PUERRO</th>\n",
              "      <th>product_RABANITO</th>\n",
              "      <th>product_REMOLACHA</th>\n",
              "      <th>product_SANDIA</th>\n",
              "      <th>product_TOMATE</th>\n",
              "      <th>product_ZANAHORIA</th>\n",
              "      <th>origen_Andalucia</th>\n",
              "      <th>origen_Aragon</th>\n",
              "      <th>origen_Asturias</th>\n",
              "      <th>origen_Baleares</th>\n",
              "      <th>origen_Canarias</th>\n",
              "      <th>origen_Cantabria</th>\n",
              "      <th>origen_Castilla La Mancha</th>\n",
              "      <th>origen_Castilla Leon</th>\n",
              "      <th>origen_Cataluña</th>\n",
              "      <th>origen_Extremadura</th>\n",
              "      <th>origen_Galicia</th>\n",
              "      <th>origen_La Rioja</th>\n",
              "      <th>origen_Madrid</th>\n",
              "      <th>origen_Murcia</th>\n",
              "      <th>origen_Navarra</th>\n",
              "      <th>origen_Pais Vasco</th>\n",
              "      <th>origen_Valencia</th>\n",
              "    </tr>\n",
              "  </thead>\n",
              "  <tbody>\n",
              "    <tr>\n",
              "      <th>5</th>\n",
              "      <td>2018</td>\n",
              "      <td>3</td>\n",
              "      <td>11.90</td>\n",
              "      <td>2.0</td>\n",
              "      <td>6.0</td>\n",
              "      <td>33.0</td>\n",
              "      <td>15.0</td>\n",
              "      <td>25.0</td>\n",
              "      <td>0.0</td>\n",
              "      <td>-2.0</td>\n",
              "      <td>1.035714</td>\n",
              "      <td>58905.0</td>\n",
              "      <td>6.0</td>\n",
              "      <td>0.0</td>\n",
              "      <td>0</td>\n",
              "      <td>1</td>\n",
              "      <td>0</td>\n",
              "      <td>0</td>\n",
              "      <td>0</td>\n",
              "      <td>0</td>\n",
              "      <td>0</td>\n",
              "      <td>0</td>\n",
              "      <td>0</td>\n",
              "      <td>0</td>\n",
              "      <td>0</td>\n",
              "      <td>0</td>\n",
              "      <td>0</td>\n",
              "      <td>0</td>\n",
              "      <td>0</td>\n",
              "      <td>0</td>\n",
              "      <td>0</td>\n",
              "      <td>0</td>\n",
              "      <td>0</td>\n",
              "      <td>0</td>\n",
              "      <td>0</td>\n",
              "      <td>0</td>\n",
              "      <td>0</td>\n",
              "      <td>0</td>\n",
              "      <td>0</td>\n",
              "      <td>0</td>\n",
              "      <td>0</td>\n",
              "      <td>0</td>\n",
              "      <td>0</td>\n",
              "      <td>0</td>\n",
              "      <td>0</td>\n",
              "      <td>0</td>\n",
              "      <td>0</td>\n",
              "      <td>0</td>\n",
              "      <td>0</td>\n",
              "      <td>0</td>\n",
              "      <td>1</td>\n",
              "      <td>0</td>\n",
              "      <td>0</td>\n",
              "      <td>0</td>\n",
              "      <td>0</td>\n",
              "      <td>0</td>\n",
              "      <td>0</td>\n",
              "      <td>0</td>\n",
              "      <td>0</td>\n",
              "      <td>0</td>\n",
              "      <td>0</td>\n",
              "      <td>0</td>\n",
              "      <td>0</td>\n",
              "      <td>0</td>\n",
              "      <td>0</td>\n",
              "      <td>0</td>\n",
              "      <td>0</td>\n",
              "    </tr>\n",
              "    <tr>\n",
              "      <th>7</th>\n",
              "      <td>2018</td>\n",
              "      <td>4</td>\n",
              "      <td>14.84</td>\n",
              "      <td>1.0</td>\n",
              "      <td>6.0</td>\n",
              "      <td>33.0</td>\n",
              "      <td>15.0</td>\n",
              "      <td>25.0</td>\n",
              "      <td>1.0</td>\n",
              "      <td>-1.0</td>\n",
              "      <td>0.725000</td>\n",
              "      <td>16570.0</td>\n",
              "      <td>7.0</td>\n",
              "      <td>0.0</td>\n",
              "      <td>0</td>\n",
              "      <td>1</td>\n",
              "      <td>0</td>\n",
              "      <td>0</td>\n",
              "      <td>0</td>\n",
              "      <td>0</td>\n",
              "      <td>0</td>\n",
              "      <td>0</td>\n",
              "      <td>0</td>\n",
              "      <td>0</td>\n",
              "      <td>0</td>\n",
              "      <td>0</td>\n",
              "      <td>0</td>\n",
              "      <td>0</td>\n",
              "      <td>0</td>\n",
              "      <td>0</td>\n",
              "      <td>0</td>\n",
              "      <td>0</td>\n",
              "      <td>0</td>\n",
              "      <td>0</td>\n",
              "      <td>0</td>\n",
              "      <td>0</td>\n",
              "      <td>0</td>\n",
              "      <td>0</td>\n",
              "      <td>0</td>\n",
              "      <td>0</td>\n",
              "      <td>0</td>\n",
              "      <td>0</td>\n",
              "      <td>0</td>\n",
              "      <td>0</td>\n",
              "      <td>0</td>\n",
              "      <td>0</td>\n",
              "      <td>0</td>\n",
              "      <td>0</td>\n",
              "      <td>0</td>\n",
              "      <td>0</td>\n",
              "      <td>1</td>\n",
              "      <td>0</td>\n",
              "      <td>0</td>\n",
              "      <td>0</td>\n",
              "      <td>0</td>\n",
              "      <td>0</td>\n",
              "      <td>0</td>\n",
              "      <td>0</td>\n",
              "      <td>0</td>\n",
              "      <td>0</td>\n",
              "      <td>0</td>\n",
              "      <td>0</td>\n",
              "      <td>0</td>\n",
              "      <td>0</td>\n",
              "      <td>0</td>\n",
              "      <td>0</td>\n",
              "      <td>0</td>\n",
              "    </tr>\n",
              "    <tr>\n",
              "      <th>9</th>\n",
              "      <td>2018</td>\n",
              "      <td>5</td>\n",
              "      <td>17.50</td>\n",
              "      <td>0.0</td>\n",
              "      <td>6.0</td>\n",
              "      <td>33.0</td>\n",
              "      <td>15.0</td>\n",
              "      <td>25.0</td>\n",
              "      <td>2.0</td>\n",
              "      <td>0.0</td>\n",
              "      <td>0.529167</td>\n",
              "      <td>35470.0</td>\n",
              "      <td>8.0</td>\n",
              "      <td>0.0</td>\n",
              "      <td>0</td>\n",
              "      <td>1</td>\n",
              "      <td>0</td>\n",
              "      <td>0</td>\n",
              "      <td>0</td>\n",
              "      <td>0</td>\n",
              "      <td>0</td>\n",
              "      <td>0</td>\n",
              "      <td>0</td>\n",
              "      <td>0</td>\n",
              "      <td>0</td>\n",
              "      <td>0</td>\n",
              "      <td>0</td>\n",
              "      <td>0</td>\n",
              "      <td>0</td>\n",
              "      <td>0</td>\n",
              "      <td>0</td>\n",
              "      <td>0</td>\n",
              "      <td>0</td>\n",
              "      <td>0</td>\n",
              "      <td>0</td>\n",
              "      <td>0</td>\n",
              "      <td>0</td>\n",
              "      <td>0</td>\n",
              "      <td>0</td>\n",
              "      <td>0</td>\n",
              "      <td>0</td>\n",
              "      <td>0</td>\n",
              "      <td>0</td>\n",
              "      <td>0</td>\n",
              "      <td>0</td>\n",
              "      <td>0</td>\n",
              "      <td>0</td>\n",
              "      <td>0</td>\n",
              "      <td>0</td>\n",
              "      <td>0</td>\n",
              "      <td>1</td>\n",
              "      <td>0</td>\n",
              "      <td>0</td>\n",
              "      <td>0</td>\n",
              "      <td>0</td>\n",
              "      <td>0</td>\n",
              "      <td>0</td>\n",
              "      <td>0</td>\n",
              "      <td>0</td>\n",
              "      <td>0</td>\n",
              "      <td>0</td>\n",
              "      <td>0</td>\n",
              "      <td>0</td>\n",
              "      <td>0</td>\n",
              "      <td>0</td>\n",
              "      <td>0</td>\n",
              "      <td>0</td>\n",
              "    </tr>\n",
              "    <tr>\n",
              "      <th>18</th>\n",
              "      <td>2018</td>\n",
              "      <td>10</td>\n",
              "      <td>18.05</td>\n",
              "      <td>1.0</td>\n",
              "      <td>6.0</td>\n",
              "      <td>33.0</td>\n",
              "      <td>15.0</td>\n",
              "      <td>25.0</td>\n",
              "      <td>1.0</td>\n",
              "      <td>-1.0</td>\n",
              "      <td>0.880000</td>\n",
              "      <td>61704.0</td>\n",
              "      <td>1.0</td>\n",
              "      <td>0.0</td>\n",
              "      <td>0</td>\n",
              "      <td>1</td>\n",
              "      <td>0</td>\n",
              "      <td>0</td>\n",
              "      <td>0</td>\n",
              "      <td>0</td>\n",
              "      <td>0</td>\n",
              "      <td>0</td>\n",
              "      <td>0</td>\n",
              "      <td>0</td>\n",
              "      <td>0</td>\n",
              "      <td>0</td>\n",
              "      <td>0</td>\n",
              "      <td>0</td>\n",
              "      <td>0</td>\n",
              "      <td>0</td>\n",
              "      <td>0</td>\n",
              "      <td>0</td>\n",
              "      <td>0</td>\n",
              "      <td>0</td>\n",
              "      <td>0</td>\n",
              "      <td>0</td>\n",
              "      <td>0</td>\n",
              "      <td>0</td>\n",
              "      <td>0</td>\n",
              "      <td>0</td>\n",
              "      <td>0</td>\n",
              "      <td>0</td>\n",
              "      <td>0</td>\n",
              "      <td>0</td>\n",
              "      <td>0</td>\n",
              "      <td>0</td>\n",
              "      <td>0</td>\n",
              "      <td>0</td>\n",
              "      <td>0</td>\n",
              "      <td>0</td>\n",
              "      <td>1</td>\n",
              "      <td>0</td>\n",
              "      <td>0</td>\n",
              "      <td>0</td>\n",
              "      <td>0</td>\n",
              "      <td>0</td>\n",
              "      <td>0</td>\n",
              "      <td>0</td>\n",
              "      <td>0</td>\n",
              "      <td>0</td>\n",
              "      <td>0</td>\n",
              "      <td>0</td>\n",
              "      <td>0</td>\n",
              "      <td>0</td>\n",
              "      <td>0</td>\n",
              "      <td>0</td>\n",
              "      <td>0</td>\n",
              "    </tr>\n",
              "    <tr>\n",
              "      <th>20</th>\n",
              "      <td>2018</td>\n",
              "      <td>11</td>\n",
              "      <td>13.19</td>\n",
              "      <td>1.0</td>\n",
              "      <td>6.0</td>\n",
              "      <td>33.0</td>\n",
              "      <td>15.0</td>\n",
              "      <td>25.0</td>\n",
              "      <td>2.0</td>\n",
              "      <td>0.0</td>\n",
              "      <td>0.682381</td>\n",
              "      <td>106154.0</td>\n",
              "      <td>2.0</td>\n",
              "      <td>0.0</td>\n",
              "      <td>0</td>\n",
              "      <td>1</td>\n",
              "      <td>0</td>\n",
              "      <td>0</td>\n",
              "      <td>0</td>\n",
              "      <td>0</td>\n",
              "      <td>0</td>\n",
              "      <td>0</td>\n",
              "      <td>0</td>\n",
              "      <td>0</td>\n",
              "      <td>0</td>\n",
              "      <td>0</td>\n",
              "      <td>0</td>\n",
              "      <td>0</td>\n",
              "      <td>0</td>\n",
              "      <td>0</td>\n",
              "      <td>0</td>\n",
              "      <td>0</td>\n",
              "      <td>0</td>\n",
              "      <td>0</td>\n",
              "      <td>0</td>\n",
              "      <td>0</td>\n",
              "      <td>0</td>\n",
              "      <td>0</td>\n",
              "      <td>0</td>\n",
              "      <td>0</td>\n",
              "      <td>0</td>\n",
              "      <td>0</td>\n",
              "      <td>0</td>\n",
              "      <td>0</td>\n",
              "      <td>0</td>\n",
              "      <td>0</td>\n",
              "      <td>0</td>\n",
              "      <td>0</td>\n",
              "      <td>0</td>\n",
              "      <td>0</td>\n",
              "      <td>1</td>\n",
              "      <td>0</td>\n",
              "      <td>0</td>\n",
              "      <td>0</td>\n",
              "      <td>0</td>\n",
              "      <td>0</td>\n",
              "      <td>0</td>\n",
              "      <td>0</td>\n",
              "      <td>0</td>\n",
              "      <td>0</td>\n",
              "      <td>0</td>\n",
              "      <td>0</td>\n",
              "      <td>0</td>\n",
              "      <td>0</td>\n",
              "      <td>0</td>\n",
              "      <td>0</td>\n",
              "      <td>0</td>\n",
              "    </tr>\n",
              "  </tbody>\n",
              "</table>\n",
              "</div>\n",
              "      <button class=\"colab-df-convert\" onclick=\"convertToInteractive('df-68573d0e-b5f0-46d1-bd0c-3e13c3115169')\"\n",
              "              title=\"Convert this dataframe to an interactive table.\"\n",
              "              style=\"display:none;\">\n",
              "        \n",
              "  <svg xmlns=\"http://www.w3.org/2000/svg\" height=\"24px\"viewBox=\"0 0 24 24\"\n",
              "       width=\"24px\">\n",
              "    <path d=\"M0 0h24v24H0V0z\" fill=\"none\"/>\n",
              "    <path d=\"M18.56 5.44l.94 2.06.94-2.06 2.06-.94-2.06-.94-.94-2.06-.94 2.06-2.06.94zm-11 1L8.5 8.5l.94-2.06 2.06-.94-2.06-.94L8.5 2.5l-.94 2.06-2.06.94zm10 10l.94 2.06.94-2.06 2.06-.94-2.06-.94-.94-2.06-.94 2.06-2.06.94z\"/><path d=\"M17.41 7.96l-1.37-1.37c-.4-.4-.92-.59-1.43-.59-.52 0-1.04.2-1.43.59L10.3 9.45l-7.72 7.72c-.78.78-.78 2.05 0 2.83L4 21.41c.39.39.9.59 1.41.59.51 0 1.02-.2 1.41-.59l7.78-7.78 2.81-2.81c.8-.78.8-2.07 0-2.86zM5.41 20L4 18.59l7.72-7.72 1.47 1.35L5.41 20z\"/>\n",
              "  </svg>\n",
              "      </button>\n",
              "      \n",
              "  <style>\n",
              "    .colab-df-container {\n",
              "      display:flex;\n",
              "      flex-wrap:wrap;\n",
              "      gap: 12px;\n",
              "    }\n",
              "\n",
              "    .colab-df-convert {\n",
              "      background-color: #E8F0FE;\n",
              "      border: none;\n",
              "      border-radius: 50%;\n",
              "      cursor: pointer;\n",
              "      display: none;\n",
              "      fill: #1967D2;\n",
              "      height: 32px;\n",
              "      padding: 0 0 0 0;\n",
              "      width: 32px;\n",
              "    }\n",
              "\n",
              "    .colab-df-convert:hover {\n",
              "      background-color: #E2EBFA;\n",
              "      box-shadow: 0px 1px 2px rgba(60, 64, 67, 0.3), 0px 1px 3px 1px rgba(60, 64, 67, 0.15);\n",
              "      fill: #174EA6;\n",
              "    }\n",
              "\n",
              "    [theme=dark] .colab-df-convert {\n",
              "      background-color: #3B4455;\n",
              "      fill: #D2E3FC;\n",
              "    }\n",
              "\n",
              "    [theme=dark] .colab-df-convert:hover {\n",
              "      background-color: #434B5C;\n",
              "      box-shadow: 0px 1px 3px 1px rgba(0, 0, 0, 0.15);\n",
              "      filter: drop-shadow(0px 1px 2px rgba(0, 0, 0, 0.3));\n",
              "      fill: #FFFFFF;\n",
              "    }\n",
              "  </style>\n",
              "\n",
              "      <script>\n",
              "        const buttonEl =\n",
              "          document.querySelector('#df-68573d0e-b5f0-46d1-bd0c-3e13c3115169 button.colab-df-convert');\n",
              "        buttonEl.style.display =\n",
              "          google.colab.kernel.accessAllowed ? 'block' : 'none';\n",
              "\n",
              "        async function convertToInteractive(key) {\n",
              "          const element = document.querySelector('#df-68573d0e-b5f0-46d1-bd0c-3e13c3115169');\n",
              "          const dataTable =\n",
              "            await google.colab.kernel.invokeFunction('convertToInteractive',\n",
              "                                                     [key], {});\n",
              "          if (!dataTable) return;\n",
              "\n",
              "          const docLinkHtml = 'Like what you see? Visit the ' +\n",
              "            '<a target=\"_blank\" href=https://colab.research.google.com/notebooks/data_table.ipynb>data table notebook</a>'\n",
              "            + ' to learn more about interactive tables.';\n",
              "          element.innerHTML = '';\n",
              "          dataTable['output_type'] = 'display_data';\n",
              "          await google.colab.output.renderOutput(dataTable, element);\n",
              "          const docLink = document.createElement('div');\n",
              "          docLink.innerHTML = docLinkHtml;\n",
              "          element.appendChild(docLink);\n",
              "        }\n",
              "      </script>\n",
              "    </div>\n",
              "  </div>\n",
              "  "
            ],
            "text/plain": [
              "    YEAR  MONTH  ...  origen_Pais Vasco  origen_Valencia\n",
              "5   2018      3  ...                  0                0\n",
              "7   2018      4  ...                  0                0\n",
              "9   2018      5  ...                  0                0\n",
              "18  2018     10  ...                  0                0\n",
              "20  2018     11  ...                  0                0\n",
              "\n",
              "[5 rows x 67 columns]"
            ]
          },
          "metadata": {},
          "execution_count": 40
        }
      ]
    },
    {
      "cell_type": "code",
      "source": [
        "x_features = list(aux.columns)\n",
        "x_features = [ item for item in x_features if 'origen_' not in item]\n",
        "x_features = [ item for item in x_features if 'product_' not in item]\n",
        "x_features.remove('rentable')\n",
        "x_features.remove('YEAR')\n",
        "x_features.remove('price_max_recolec')\n",
        "x_features.remove('Volumen_max_recolec')\n",
        "x_features.remove('MONTH_max_recolec')"
      ],
      "metadata": {
        "id": "aJ_8yBCX8Tur"
      },
      "execution_count": 41,
      "outputs": []
    },
    {
      "cell_type": "code",
      "source": [
        "X = aux[x_features]\n",
        "y = aux['price_max_recolec']"
      ],
      "metadata": {
        "id": "w695Dy0n8TxJ"
      },
      "execution_count": 42,
      "outputs": []
    },
    {
      "cell_type": "code",
      "source": [
        "regressor = DecisionTreeRegressor(criterion='mse', random_state=0)\n",
        "regressor.fit(X, y)\n",
        "\n",
        "y_pred = regressor.predict(X = X)"
      ],
      "metadata": {
        "colab": {
          "base_uri": "https://localhost:8080/"
        },
        "id": "BPPTZZwP8Tze",
        "outputId": "a12e4366-31b6-42d0-a6ab-a0693f9c533f"
      },
      "execution_count": 43,
      "outputs": [
        {
          "output_type": "stream",
          "name": "stderr",
          "text": [
            "/usr/local/lib/python3.7/dist-packages/sklearn/tree/_classes.py:363: FutureWarning: Criterion 'mse' was deprecated in v1.0 and will be removed in version 1.2. Use `criterion='squared_error'` which is equivalent.\n",
            "  FutureWarning,\n"
          ]
        }
      ]
    },
    {
      "cell_type": "code",
      "source": [
        "print ('Feature Relevances')\n",
        "pd.DataFrame({'Attributes': x_features ,\n",
        "              'Decision Tree': regressor.feature_importances_})"
      ],
      "metadata": {
        "colab": {
          "base_uri": "https://localhost:8080/",
          "height": 380
        },
        "id": "7Dga0RYe8a1i",
        "outputId": "b13d966f-d6c4-4a2e-a345-f6722dd8c14c"
      },
      "execution_count": 44,
      "outputs": [
        {
          "output_type": "stream",
          "name": "stdout",
          "text": [
            "Feature Relevances\n"
          ]
        },
        {
          "output_type": "execute_result",
          "data": {
            "text/html": [
              "\n",
              "  <div id=\"df-94539b00-232e-4b3b-a1dc-2f9496ca1297\">\n",
              "    <div class=\"colab-df-container\">\n",
              "      <div>\n",
              "<style scoped>\n",
              "    .dataframe tbody tr th:only-of-type {\n",
              "        vertical-align: middle;\n",
              "    }\n",
              "\n",
              "    .dataframe tbody tr th {\n",
              "        vertical-align: top;\n",
              "    }\n",
              "\n",
              "    .dataframe thead th {\n",
              "        text-align: right;\n",
              "    }\n",
              "</style>\n",
              "<table border=\"1\" class=\"dataframe\">\n",
              "  <thead>\n",
              "    <tr style=\"text-align: right;\">\n",
              "      <th></th>\n",
              "      <th>Attributes</th>\n",
              "      <th>Decision Tree</th>\n",
              "    </tr>\n",
              "  </thead>\n",
              "  <tbody>\n",
              "    <tr>\n",
              "      <th>0</th>\n",
              "      <td>MONTH</td>\n",
              "      <td>0.022249</td>\n",
              "    </tr>\n",
              "    <tr>\n",
              "      <th>1</th>\n",
              "      <td>temperatura</td>\n",
              "      <td>0.131240</td>\n",
              "    </tr>\n",
              "    <tr>\n",
              "      <th>2</th>\n",
              "      <td>Precipitacion_group</td>\n",
              "      <td>0.002168</td>\n",
              "    </tr>\n",
              "    <tr>\n",
              "      <th>3</th>\n",
              "      <td>Temperatura min req</td>\n",
              "      <td>0.140059</td>\n",
              "    </tr>\n",
              "    <tr>\n",
              "      <th>4</th>\n",
              "      <td>Temperatura max req</td>\n",
              "      <td>0.222578</td>\n",
              "    </tr>\n",
              "    <tr>\n",
              "      <th>5</th>\n",
              "      <td>Temperatura min opt</td>\n",
              "      <td>0.341773</td>\n",
              "    </tr>\n",
              "    <tr>\n",
              "      <th>6</th>\n",
              "      <td>Temperatura max opt</td>\n",
              "      <td>0.101533</td>\n",
              "    </tr>\n",
              "    <tr>\n",
              "      <th>7</th>\n",
              "      <td>distancia_mes_inicio_siem</td>\n",
              "      <td>0.000848</td>\n",
              "    </tr>\n",
              "    <tr>\n",
              "      <th>8</th>\n",
              "      <td>distancia_mes_fin_siem</td>\n",
              "      <td>0.005457</td>\n",
              "    </tr>\n",
              "    <tr>\n",
              "      <th>9</th>\n",
              "      <td>need_humidity_group</td>\n",
              "      <td>0.032095</td>\n",
              "    </tr>\n",
              "  </tbody>\n",
              "</table>\n",
              "</div>\n",
              "      <button class=\"colab-df-convert\" onclick=\"convertToInteractive('df-94539b00-232e-4b3b-a1dc-2f9496ca1297')\"\n",
              "              title=\"Convert this dataframe to an interactive table.\"\n",
              "              style=\"display:none;\">\n",
              "        \n",
              "  <svg xmlns=\"http://www.w3.org/2000/svg\" height=\"24px\"viewBox=\"0 0 24 24\"\n",
              "       width=\"24px\">\n",
              "    <path d=\"M0 0h24v24H0V0z\" fill=\"none\"/>\n",
              "    <path d=\"M18.56 5.44l.94 2.06.94-2.06 2.06-.94-2.06-.94-.94-2.06-.94 2.06-2.06.94zm-11 1L8.5 8.5l.94-2.06 2.06-.94-2.06-.94L8.5 2.5l-.94 2.06-2.06.94zm10 10l.94 2.06.94-2.06 2.06-.94-2.06-.94-.94-2.06-.94 2.06-2.06.94z\"/><path d=\"M17.41 7.96l-1.37-1.37c-.4-.4-.92-.59-1.43-.59-.52 0-1.04.2-1.43.59L10.3 9.45l-7.72 7.72c-.78.78-.78 2.05 0 2.83L4 21.41c.39.39.9.59 1.41.59.51 0 1.02-.2 1.41-.59l7.78-7.78 2.81-2.81c.8-.78.8-2.07 0-2.86zM5.41 20L4 18.59l7.72-7.72 1.47 1.35L5.41 20z\"/>\n",
              "  </svg>\n",
              "      </button>\n",
              "      \n",
              "  <style>\n",
              "    .colab-df-container {\n",
              "      display:flex;\n",
              "      flex-wrap:wrap;\n",
              "      gap: 12px;\n",
              "    }\n",
              "\n",
              "    .colab-df-convert {\n",
              "      background-color: #E8F0FE;\n",
              "      border: none;\n",
              "      border-radius: 50%;\n",
              "      cursor: pointer;\n",
              "      display: none;\n",
              "      fill: #1967D2;\n",
              "      height: 32px;\n",
              "      padding: 0 0 0 0;\n",
              "      width: 32px;\n",
              "    }\n",
              "\n",
              "    .colab-df-convert:hover {\n",
              "      background-color: #E2EBFA;\n",
              "      box-shadow: 0px 1px 2px rgba(60, 64, 67, 0.3), 0px 1px 3px 1px rgba(60, 64, 67, 0.15);\n",
              "      fill: #174EA6;\n",
              "    }\n",
              "\n",
              "    [theme=dark] .colab-df-convert {\n",
              "      background-color: #3B4455;\n",
              "      fill: #D2E3FC;\n",
              "    }\n",
              "\n",
              "    [theme=dark] .colab-df-convert:hover {\n",
              "      background-color: #434B5C;\n",
              "      box-shadow: 0px 1px 3px 1px rgba(0, 0, 0, 0.15);\n",
              "      filter: drop-shadow(0px 1px 2px rgba(0, 0, 0, 0.3));\n",
              "      fill: #FFFFFF;\n",
              "    }\n",
              "  </style>\n",
              "\n",
              "      <script>\n",
              "        const buttonEl =\n",
              "          document.querySelector('#df-94539b00-232e-4b3b-a1dc-2f9496ca1297 button.colab-df-convert');\n",
              "        buttonEl.style.display =\n",
              "          google.colab.kernel.accessAllowed ? 'block' : 'none';\n",
              "\n",
              "        async function convertToInteractive(key) {\n",
              "          const element = document.querySelector('#df-94539b00-232e-4b3b-a1dc-2f9496ca1297');\n",
              "          const dataTable =\n",
              "            await google.colab.kernel.invokeFunction('convertToInteractive',\n",
              "                                                     [key], {});\n",
              "          if (!dataTable) return;\n",
              "\n",
              "          const docLinkHtml = 'Like what you see? Visit the ' +\n",
              "            '<a target=\"_blank\" href=https://colab.research.google.com/notebooks/data_table.ipynb>data table notebook</a>'\n",
              "            + ' to learn more about interactive tables.';\n",
              "          element.innerHTML = '';\n",
              "          dataTable['output_type'] = 'display_data';\n",
              "          await google.colab.output.renderOutput(dataTable, element);\n",
              "          const docLink = document.createElement('div');\n",
              "          docLink.innerHTML = docLinkHtml;\n",
              "          element.appendChild(docLink);\n",
              "        }\n",
              "      </script>\n",
              "    </div>\n",
              "  </div>\n",
              "  "
            ],
            "text/plain": [
              "                  Attributes  Decision Tree\n",
              "0                      MONTH       0.022249\n",
              "1                temperatura       0.131240\n",
              "2        Precipitacion_group       0.002168\n",
              "3        Temperatura min req       0.140059\n",
              "4        Temperatura max req       0.222578\n",
              "5        Temperatura min opt       0.341773\n",
              "6        Temperatura max opt       0.101533\n",
              "7  distancia_mes_inicio_siem       0.000848\n",
              "8     distancia_mes_fin_siem       0.005457\n",
              "9        need_humidity_group       0.032095"
            ]
          },
          "metadata": {},
          "execution_count": 44
        }
      ]
    },
    {
      "cell_type": "code",
      "source": [
        "print (\"MAE:\", metrics.mean_absolute_error(y_pred , y))\n",
        "print (\"MAPE:\", metrics.mean_absolute_percentage_error(y_pred , y))\n",
        "print (\"MSE:\", metrics.mean_squared_error(y_pred , y))\n",
        "print (\"R^2:\", metrics.r2_score(y_pred , y))"
      ],
      "metadata": {
        "colab": {
          "base_uri": "https://localhost:8080/"
        },
        "id": "UAO-z6TU8dAc",
        "outputId": "3f197cac-6c06-47c6-93b1-7fd57c63e7d2"
      },
      "execution_count": 45,
      "outputs": [
        {
          "output_type": "stream",
          "name": "stdout",
          "text": [
            "MAE: 0.0\n",
            "MAPE: 0.0\n",
            "MSE: 0.0\n",
            "R^2: 1.0\n"
          ]
        }
      ]
    },
    {
      "cell_type": "markdown",
      "source": [
        "De nuevo el error es bajísimo, por lo que el modelo describe correctamente el fenómeno."
      ],
      "metadata": {
        "id": "pLOoqDEaDGH9"
      }
    },
    {
      "cell_type": "markdown",
      "source": [
        "#### 4.1.4 Conclusión"
      ],
      "metadata": {
        "id": "qiAE-etaIu6l"
      }
    },
    {
      "cell_type": "markdown",
      "source": [
        "El contraste en la importancia de cada región con respecto a la *need_humidity_group* es destacable: en Galicia, al tratarse de la zona más húmeda, en los cultivos que se planten allí tiene sentido que se vean influenciados por la humedad más que en las otras dos regiones (0.17 de importancia en Galicia frente a 0.003 y 0.03 en CLM y Andalucía).  \n",
        "Algo parecido ocurre con *precipitacion_group*: en el caso de CLM y Andalucía, al tratarse de zonas en las que las precipitaciones son más intermitentes, tiene sentido que le el grupo de precipitación sea menos influyente en los cultivos que se siembren en estas regiones (0.007 en CLM y 0.002 en Andalucía).  \n",
        "Respecto a la temperatura de los cultivos, en general tiene bastante importancia en todas las regiones en las que se han realizado pruebas. Destaca que la temperatura que más relevancia tiene en Galicia es la máxima. Si bien puede parecer inicialmente paradójico, debido a que el requerimiento de temperatura mínima es más estricto en Galicia, tiene sentido que el modelo le de más importancia. Esto es debido a que la diferencia de la temperatura real con la temperatura mínima del cultivo es menor que la diferencia con la temperatura máxima del cultivo. Esta lógica también se aplica a la temperatura mínima en las comunidades de Castilla-La Mancha y Andalucía.  \n",
        "\n",
        "En general, las distancias hasta el mes de inicio y fin siembra no son demasiado influyentes."
      ],
      "metadata": {
        "id": "42HW3FJUIyb0"
      }
    },
    {
      "cell_type": "markdown",
      "source": [
        "### 4.2 Influencia de variables por característica "
      ],
      "metadata": {
        "id": "uPRlzoEkcuMj"
      }
    },
    {
      "cell_type": "markdown",
      "source": [
        "Para estudiar la influencia de cada característica, se predice el precio ignorando dicha característica y se compara con el precio real. Por cada característica se crea un modelo."
      ],
      "metadata": {
        "id": "44D5l1xC-Lmz"
      }
    },
    {
      "cell_type": "code",
      "source": [
        "x_features_all = [\"MONTH\",\n",
        "\"temperatura\",\n",
        "\"Precipitacion_group\",\n",
        "\"product_ACELGA\",\n",
        "\"product_AJO\",\n",
        "\"product_ALCACHOFA\",\n",
        "\"product_APIO\",\n",
        "\"product_BERENJENA\",\n",
        "\"product_BROCOLI\",\n",
        "\"product_CALABACIN\",\n",
        "\"product_CALABAZA\",\n",
        "\"product_CEBOLLA\",\n",
        "\"product_CEBOLLETA\",\n",
        "\"product_CHIRIVIA\",\n",
        "\"product_COL BRUSELAS\",\n",
        "\"product_COL CHINA\",\n",
        "\"product_COL LOMBARDA\",\n",
        "\"product_COL REPOLLO\",\n",
        "\"product_COLIFLOR\",\n",
        "\"product_ESCAROLA\",\n",
        "\"product_ESPINACA\",\n",
        "\"product_GUISANTE\",\n",
        "\"product_HABA\",\n",
        "\"product_JUDIA\",\n",
        "\"product_LECHUGA\",\n",
        "\"product_MAIZ\",\n",
        "\"product_MELON\",\n",
        "\"product_NABO\",\n",
        "\"product_PATATA\",\n",
        "\"product_PEPINO\",\n",
        "\"product_PEREJIL\",\n",
        "\"product_PIMIENTO\",\n",
        "\"product_PUERRO\",\n",
        "\"product_RABANITO\",\n",
        "\"product_REMOLACHA\",\n",
        "\"product_SANDIA\",\n",
        "\"product_TOMATE\",\n",
        "\"product_ZANAHORIA\",\n",
        "\"origen_Andalucia\",\n",
        "\"origen_Aragon\",\n",
        "\"origen_Asturias\",\n",
        "\"origen_Baleares\",\n",
        "\"origen_Canarias\",\n",
        "\"origen_Cantabria\",\n",
        "\"origen_Castilla La Mancha\",\n",
        "\"origen_Castilla Leon\",\n",
        "\"origen_Cataluña\",\n",
        "\"origen_Extremadura\",\n",
        "\"origen_Galicia\",\n",
        "\"origen_La Rioja\",\n",
        "\"origen_Madrid\",\n",
        "\"origen_Murcia\",\n",
        "\"origen_Navarra\",\n",
        "\"origen_Pais Vasco\",\n",
        "\"origen_Valencia\"]\n",
        "\n",
        "x_features_month = [feature for feature in x_features_all if feature != 'MONTH']\n",
        "x_features_temperatura = [feature for feature in x_features_all if feature != 'temperatura']\n",
        "x_features_precipitacion = [feature for feature in x_features_all if feature != 'Precipitacion_group']"
      ],
      "metadata": {
        "id": "sYbT6CQmeTrM"
      },
      "execution_count": 46,
      "outputs": []
    },
    {
      "cell_type": "markdown",
      "source": [
        "#### 4.2.1 Modelo del mes"
      ],
      "metadata": {
        "id": "m9QU7O8Oh1Gf"
      }
    },
    {
      "cell_type": "code",
      "source": [
        "X = agroanalisis[x_features_month]\n",
        "y = agroanalisis['price_max_recolec']\n",
        "\n",
        "X_train, X_test, y_train, y_test = train_test_split( X, y, test_size=0.33, random_state=42)\n",
        "X_train.head()"
      ],
      "metadata": {
        "colab": {
          "base_uri": "https://localhost:8080/",
          "height": 288
        },
        "id": "BB5soZEzf4He",
        "outputId": "c416128f-9013-4b04-d0da-dbd23f65a135"
      },
      "execution_count": 47,
      "outputs": [
        {
          "output_type": "execute_result",
          "data": {
            "text/html": [
              "\n",
              "  <div id=\"df-09cb1a41-ea18-4327-8a3e-e705844148a0\">\n",
              "    <div class=\"colab-df-container\">\n",
              "      <div>\n",
              "<style scoped>\n",
              "    .dataframe tbody tr th:only-of-type {\n",
              "        vertical-align: middle;\n",
              "    }\n",
              "\n",
              "    .dataframe tbody tr th {\n",
              "        vertical-align: top;\n",
              "    }\n",
              "\n",
              "    .dataframe thead th {\n",
              "        text-align: right;\n",
              "    }\n",
              "</style>\n",
              "<table border=\"1\" class=\"dataframe\">\n",
              "  <thead>\n",
              "    <tr style=\"text-align: right;\">\n",
              "      <th></th>\n",
              "      <th>temperatura</th>\n",
              "      <th>Precipitacion_group</th>\n",
              "      <th>product_ACELGA</th>\n",
              "      <th>product_AJO</th>\n",
              "      <th>product_ALCACHOFA</th>\n",
              "      <th>product_APIO</th>\n",
              "      <th>product_BERENJENA</th>\n",
              "      <th>product_BROCOLI</th>\n",
              "      <th>product_CALABACIN</th>\n",
              "      <th>product_CALABAZA</th>\n",
              "      <th>product_CEBOLLA</th>\n",
              "      <th>product_CEBOLLETA</th>\n",
              "      <th>product_CHIRIVIA</th>\n",
              "      <th>product_COL BRUSELAS</th>\n",
              "      <th>product_COL CHINA</th>\n",
              "      <th>product_COL LOMBARDA</th>\n",
              "      <th>product_COL REPOLLO</th>\n",
              "      <th>product_COLIFLOR</th>\n",
              "      <th>product_ESCAROLA</th>\n",
              "      <th>product_ESPINACA</th>\n",
              "      <th>product_GUISANTE</th>\n",
              "      <th>product_HABA</th>\n",
              "      <th>product_JUDIA</th>\n",
              "      <th>product_LECHUGA</th>\n",
              "      <th>product_MAIZ</th>\n",
              "      <th>product_MELON</th>\n",
              "      <th>product_NABO</th>\n",
              "      <th>product_PATATA</th>\n",
              "      <th>product_PEPINO</th>\n",
              "      <th>product_PEREJIL</th>\n",
              "      <th>product_PIMIENTO</th>\n",
              "      <th>product_PUERRO</th>\n",
              "      <th>product_RABANITO</th>\n",
              "      <th>product_REMOLACHA</th>\n",
              "      <th>product_SANDIA</th>\n",
              "      <th>product_TOMATE</th>\n",
              "      <th>product_ZANAHORIA</th>\n",
              "      <th>origen_Andalucia</th>\n",
              "      <th>origen_Aragon</th>\n",
              "      <th>origen_Asturias</th>\n",
              "      <th>origen_Baleares</th>\n",
              "      <th>origen_Canarias</th>\n",
              "      <th>origen_Cantabria</th>\n",
              "      <th>origen_Castilla La Mancha</th>\n",
              "      <th>origen_Castilla Leon</th>\n",
              "      <th>origen_Cataluña</th>\n",
              "      <th>origen_Extremadura</th>\n",
              "      <th>origen_Galicia</th>\n",
              "      <th>origen_La Rioja</th>\n",
              "      <th>origen_Madrid</th>\n",
              "      <th>origen_Murcia</th>\n",
              "      <th>origen_Navarra</th>\n",
              "      <th>origen_Pais Vasco</th>\n",
              "      <th>origen_Valencia</th>\n",
              "    </tr>\n",
              "  </thead>\n",
              "  <tbody>\n",
              "    <tr>\n",
              "      <th>702</th>\n",
              "      <td>22.07</td>\n",
              "      <td>0.0</td>\n",
              "      <td>0</td>\n",
              "      <td>1</td>\n",
              "      <td>0</td>\n",
              "      <td>0</td>\n",
              "      <td>0</td>\n",
              "      <td>0</td>\n",
              "      <td>0</td>\n",
              "      <td>0</td>\n",
              "      <td>0</td>\n",
              "      <td>0</td>\n",
              "      <td>0</td>\n",
              "      <td>0</td>\n",
              "      <td>0</td>\n",
              "      <td>0</td>\n",
              "      <td>0</td>\n",
              "      <td>0</td>\n",
              "      <td>0</td>\n",
              "      <td>0</td>\n",
              "      <td>0</td>\n",
              "      <td>0</td>\n",
              "      <td>0</td>\n",
              "      <td>0</td>\n",
              "      <td>0</td>\n",
              "      <td>0</td>\n",
              "      <td>0</td>\n",
              "      <td>0</td>\n",
              "      <td>0</td>\n",
              "      <td>0</td>\n",
              "      <td>0</td>\n",
              "      <td>0</td>\n",
              "      <td>0</td>\n",
              "      <td>0</td>\n",
              "      <td>0</td>\n",
              "      <td>0</td>\n",
              "      <td>0</td>\n",
              "      <td>0</td>\n",
              "      <td>0</td>\n",
              "      <td>0</td>\n",
              "      <td>0</td>\n",
              "      <td>0</td>\n",
              "      <td>0</td>\n",
              "      <td>1</td>\n",
              "      <td>0</td>\n",
              "      <td>0</td>\n",
              "      <td>0</td>\n",
              "      <td>0</td>\n",
              "      <td>0</td>\n",
              "      <td>0</td>\n",
              "      <td>0</td>\n",
              "      <td>0</td>\n",
              "      <td>0</td>\n",
              "      <td>0</td>\n",
              "    </tr>\n",
              "    <tr>\n",
              "      <th>17623</th>\n",
              "      <td>9.40</td>\n",
              "      <td>1.0</td>\n",
              "      <td>0</td>\n",
              "      <td>0</td>\n",
              "      <td>0</td>\n",
              "      <td>0</td>\n",
              "      <td>0</td>\n",
              "      <td>0</td>\n",
              "      <td>0</td>\n",
              "      <td>0</td>\n",
              "      <td>0</td>\n",
              "      <td>0</td>\n",
              "      <td>0</td>\n",
              "      <td>0</td>\n",
              "      <td>0</td>\n",
              "      <td>0</td>\n",
              "      <td>0</td>\n",
              "      <td>0</td>\n",
              "      <td>0</td>\n",
              "      <td>0</td>\n",
              "      <td>0</td>\n",
              "      <td>0</td>\n",
              "      <td>0</td>\n",
              "      <td>0</td>\n",
              "      <td>0</td>\n",
              "      <td>1</td>\n",
              "      <td>0</td>\n",
              "      <td>0</td>\n",
              "      <td>0</td>\n",
              "      <td>0</td>\n",
              "      <td>0</td>\n",
              "      <td>0</td>\n",
              "      <td>0</td>\n",
              "      <td>0</td>\n",
              "      <td>0</td>\n",
              "      <td>0</td>\n",
              "      <td>0</td>\n",
              "      <td>0</td>\n",
              "      <td>0</td>\n",
              "      <td>0</td>\n",
              "      <td>0</td>\n",
              "      <td>0</td>\n",
              "      <td>0</td>\n",
              "      <td>0</td>\n",
              "      <td>0</td>\n",
              "      <td>0</td>\n",
              "      <td>0</td>\n",
              "      <td>0</td>\n",
              "      <td>0</td>\n",
              "      <td>0</td>\n",
              "      <td>0</td>\n",
              "      <td>0</td>\n",
              "      <td>1</td>\n",
              "      <td>0</td>\n",
              "    </tr>\n",
              "    <tr>\n",
              "      <th>10686</th>\n",
              "      <td>13.63</td>\n",
              "      <td>1.0</td>\n",
              "      <td>0</td>\n",
              "      <td>0</td>\n",
              "      <td>0</td>\n",
              "      <td>0</td>\n",
              "      <td>0</td>\n",
              "      <td>0</td>\n",
              "      <td>0</td>\n",
              "      <td>0</td>\n",
              "      <td>0</td>\n",
              "      <td>0</td>\n",
              "      <td>0</td>\n",
              "      <td>0</td>\n",
              "      <td>0</td>\n",
              "      <td>0</td>\n",
              "      <td>0</td>\n",
              "      <td>0</td>\n",
              "      <td>0</td>\n",
              "      <td>0</td>\n",
              "      <td>0</td>\n",
              "      <td>0</td>\n",
              "      <td>0</td>\n",
              "      <td>1</td>\n",
              "      <td>0</td>\n",
              "      <td>0</td>\n",
              "      <td>0</td>\n",
              "      <td>0</td>\n",
              "      <td>0</td>\n",
              "      <td>0</td>\n",
              "      <td>0</td>\n",
              "      <td>0</td>\n",
              "      <td>0</td>\n",
              "      <td>0</td>\n",
              "      <td>0</td>\n",
              "      <td>0</td>\n",
              "      <td>0</td>\n",
              "      <td>0</td>\n",
              "      <td>0</td>\n",
              "      <td>0</td>\n",
              "      <td>0</td>\n",
              "      <td>0</td>\n",
              "      <td>0</td>\n",
              "      <td>0</td>\n",
              "      <td>0</td>\n",
              "      <td>0</td>\n",
              "      <td>0</td>\n",
              "      <td>0</td>\n",
              "      <td>0</td>\n",
              "      <td>1</td>\n",
              "      <td>0</td>\n",
              "      <td>0</td>\n",
              "      <td>0</td>\n",
              "      <td>0</td>\n",
              "    </tr>\n",
              "    <tr>\n",
              "      <th>13470</th>\n",
              "      <td>9.51</td>\n",
              "      <td>0.0</td>\n",
              "      <td>0</td>\n",
              "      <td>0</td>\n",
              "      <td>0</td>\n",
              "      <td>0</td>\n",
              "      <td>0</td>\n",
              "      <td>0</td>\n",
              "      <td>0</td>\n",
              "      <td>0</td>\n",
              "      <td>0</td>\n",
              "      <td>0</td>\n",
              "      <td>0</td>\n",
              "      <td>0</td>\n",
              "      <td>0</td>\n",
              "      <td>0</td>\n",
              "      <td>0</td>\n",
              "      <td>0</td>\n",
              "      <td>0</td>\n",
              "      <td>0</td>\n",
              "      <td>0</td>\n",
              "      <td>0</td>\n",
              "      <td>0</td>\n",
              "      <td>0</td>\n",
              "      <td>0</td>\n",
              "      <td>0</td>\n",
              "      <td>0</td>\n",
              "      <td>0</td>\n",
              "      <td>0</td>\n",
              "      <td>0</td>\n",
              "      <td>1</td>\n",
              "      <td>0</td>\n",
              "      <td>0</td>\n",
              "      <td>0</td>\n",
              "      <td>0</td>\n",
              "      <td>0</td>\n",
              "      <td>0</td>\n",
              "      <td>0</td>\n",
              "      <td>0</td>\n",
              "      <td>0</td>\n",
              "      <td>0</td>\n",
              "      <td>0</td>\n",
              "      <td>1</td>\n",
              "      <td>0</td>\n",
              "      <td>0</td>\n",
              "      <td>0</td>\n",
              "      <td>0</td>\n",
              "      <td>0</td>\n",
              "      <td>0</td>\n",
              "      <td>0</td>\n",
              "      <td>0</td>\n",
              "      <td>0</td>\n",
              "      <td>0</td>\n",
              "      <td>0</td>\n",
              "    </tr>\n",
              "    <tr>\n",
              "      <th>10629</th>\n",
              "      <td>10.30</td>\n",
              "      <td>1.0</td>\n",
              "      <td>0</td>\n",
              "      <td>0</td>\n",
              "      <td>0</td>\n",
              "      <td>0</td>\n",
              "      <td>0</td>\n",
              "      <td>0</td>\n",
              "      <td>0</td>\n",
              "      <td>0</td>\n",
              "      <td>0</td>\n",
              "      <td>0</td>\n",
              "      <td>0</td>\n",
              "      <td>0</td>\n",
              "      <td>0</td>\n",
              "      <td>0</td>\n",
              "      <td>0</td>\n",
              "      <td>0</td>\n",
              "      <td>0</td>\n",
              "      <td>0</td>\n",
              "      <td>0</td>\n",
              "      <td>0</td>\n",
              "      <td>0</td>\n",
              "      <td>1</td>\n",
              "      <td>0</td>\n",
              "      <td>0</td>\n",
              "      <td>0</td>\n",
              "      <td>0</td>\n",
              "      <td>0</td>\n",
              "      <td>0</td>\n",
              "      <td>0</td>\n",
              "      <td>0</td>\n",
              "      <td>0</td>\n",
              "      <td>0</td>\n",
              "      <td>0</td>\n",
              "      <td>0</td>\n",
              "      <td>0</td>\n",
              "      <td>0</td>\n",
              "      <td>0</td>\n",
              "      <td>0</td>\n",
              "      <td>0</td>\n",
              "      <td>0</td>\n",
              "      <td>0</td>\n",
              "      <td>0</td>\n",
              "      <td>0</td>\n",
              "      <td>0</td>\n",
              "      <td>0</td>\n",
              "      <td>0</td>\n",
              "      <td>1</td>\n",
              "      <td>0</td>\n",
              "      <td>0</td>\n",
              "      <td>0</td>\n",
              "      <td>0</td>\n",
              "      <td>0</td>\n",
              "    </tr>\n",
              "  </tbody>\n",
              "</table>\n",
              "</div>\n",
              "      <button class=\"colab-df-convert\" onclick=\"convertToInteractive('df-09cb1a41-ea18-4327-8a3e-e705844148a0')\"\n",
              "              title=\"Convert this dataframe to an interactive table.\"\n",
              "              style=\"display:none;\">\n",
              "        \n",
              "  <svg xmlns=\"http://www.w3.org/2000/svg\" height=\"24px\"viewBox=\"0 0 24 24\"\n",
              "       width=\"24px\">\n",
              "    <path d=\"M0 0h24v24H0V0z\" fill=\"none\"/>\n",
              "    <path d=\"M18.56 5.44l.94 2.06.94-2.06 2.06-.94-2.06-.94-.94-2.06-.94 2.06-2.06.94zm-11 1L8.5 8.5l.94-2.06 2.06-.94-2.06-.94L8.5 2.5l-.94 2.06-2.06.94zm10 10l.94 2.06.94-2.06 2.06-.94-2.06-.94-.94-2.06-.94 2.06-2.06.94z\"/><path d=\"M17.41 7.96l-1.37-1.37c-.4-.4-.92-.59-1.43-.59-.52 0-1.04.2-1.43.59L10.3 9.45l-7.72 7.72c-.78.78-.78 2.05 0 2.83L4 21.41c.39.39.9.59 1.41.59.51 0 1.02-.2 1.41-.59l7.78-7.78 2.81-2.81c.8-.78.8-2.07 0-2.86zM5.41 20L4 18.59l7.72-7.72 1.47 1.35L5.41 20z\"/>\n",
              "  </svg>\n",
              "      </button>\n",
              "      \n",
              "  <style>\n",
              "    .colab-df-container {\n",
              "      display:flex;\n",
              "      flex-wrap:wrap;\n",
              "      gap: 12px;\n",
              "    }\n",
              "\n",
              "    .colab-df-convert {\n",
              "      background-color: #E8F0FE;\n",
              "      border: none;\n",
              "      border-radius: 50%;\n",
              "      cursor: pointer;\n",
              "      display: none;\n",
              "      fill: #1967D2;\n",
              "      height: 32px;\n",
              "      padding: 0 0 0 0;\n",
              "      width: 32px;\n",
              "    }\n",
              "\n",
              "    .colab-df-convert:hover {\n",
              "      background-color: #E2EBFA;\n",
              "      box-shadow: 0px 1px 2px rgba(60, 64, 67, 0.3), 0px 1px 3px 1px rgba(60, 64, 67, 0.15);\n",
              "      fill: #174EA6;\n",
              "    }\n",
              "\n",
              "    [theme=dark] .colab-df-convert {\n",
              "      background-color: #3B4455;\n",
              "      fill: #D2E3FC;\n",
              "    }\n",
              "\n",
              "    [theme=dark] .colab-df-convert:hover {\n",
              "      background-color: #434B5C;\n",
              "      box-shadow: 0px 1px 3px 1px rgba(0, 0, 0, 0.15);\n",
              "      filter: drop-shadow(0px 1px 2px rgba(0, 0, 0, 0.3));\n",
              "      fill: #FFFFFF;\n",
              "    }\n",
              "  </style>\n",
              "\n",
              "      <script>\n",
              "        const buttonEl =\n",
              "          document.querySelector('#df-09cb1a41-ea18-4327-8a3e-e705844148a0 button.colab-df-convert');\n",
              "        buttonEl.style.display =\n",
              "          google.colab.kernel.accessAllowed ? 'block' : 'none';\n",
              "\n",
              "        async function convertToInteractive(key) {\n",
              "          const element = document.querySelector('#df-09cb1a41-ea18-4327-8a3e-e705844148a0');\n",
              "          const dataTable =\n",
              "            await google.colab.kernel.invokeFunction('convertToInteractive',\n",
              "                                                     [key], {});\n",
              "          if (!dataTable) return;\n",
              "\n",
              "          const docLinkHtml = 'Like what you see? Visit the ' +\n",
              "            '<a target=\"_blank\" href=https://colab.research.google.com/notebooks/data_table.ipynb>data table notebook</a>'\n",
              "            + ' to learn more about interactive tables.';\n",
              "          element.innerHTML = '';\n",
              "          dataTable['output_type'] = 'display_data';\n",
              "          await google.colab.output.renderOutput(dataTable, element);\n",
              "          const docLink = document.createElement('div');\n",
              "          docLink.innerHTML = docLinkHtml;\n",
              "          element.appendChild(docLink);\n",
              "        }\n",
              "      </script>\n",
              "    </div>\n",
              "  </div>\n",
              "  "
            ],
            "text/plain": [
              "       temperatura  Precipitacion_group  ...  origen_Pais Vasco  origen_Valencia\n",
              "702          22.07                  0.0  ...                  0                0\n",
              "17623         9.40                  1.0  ...                  1                0\n",
              "10686        13.63                  1.0  ...                  0                0\n",
              "13470         9.51                  0.0  ...                  0                0\n",
              "10629        10.30                  1.0  ...                  0                0\n",
              "\n",
              "[5 rows x 54 columns]"
            ]
          },
          "metadata": {},
          "execution_count": 47
        }
      ]
    },
    {
      "cell_type": "code",
      "source": [
        "regr_month = RandomForestRegressor(n_estimators= 4, criterion='absolute_error', random_state=0)\n",
        "\n",
        "# Entrenamiento y ejecución del modelo\n",
        "regr_month.fit(X_train, y_train)\n",
        "y_pred = regr_month.predict(X_test)"
      ],
      "metadata": {
        "id": "6JFN5ECDgxCv"
      },
      "execution_count": 48,
      "outputs": []
    },
    {
      "cell_type": "code",
      "source": [
        "print (\"MAE:\", metrics.mean_absolute_error(y_pred , y_test))\n",
        "print (\"MAPE:\", metrics.mean_absolute_percentage_error(y_pred , y_test))\n",
        "print (\"MSE:\", metrics.mean_squared_error(y_pred , y_test))\n",
        "print (\"R^2:\", metrics.r2_score(y_pred , y_test))"
      ],
      "metadata": {
        "colab": {
          "base_uri": "https://localhost:8080/"
        },
        "id": "AO29m8ywhTuw",
        "outputId": "ae24810d-14fa-421f-d957-ed21bcda8c4a"
      },
      "execution_count": 49,
      "outputs": [
        {
          "output_type": "stream",
          "name": "stdout",
          "text": [
            "MAE: 0.2134568362975141\n",
            "MAPE: 0.1806802168213629\n",
            "MSE: 0.17175733461819367\n",
            "R^2: 0.6936667696452574\n"
          ]
        }
      ]
    },
    {
      "cell_type": "code",
      "source": [
        "xx = np.stack(i for i in range(len(y_test)))\n",
        "plt.scatter(xx, y_test, c='r', label='data')\n",
        "plt.plot(xx, y_pred, c='g', label='prediction')\n",
        "plt.axis('tight')\n",
        "plt.legend()\n",
        "plt.title(\"RandomForests Regressor\")\n",
        "\n",
        "plt.show()"
      ],
      "metadata": {
        "colab": {
          "base_uri": "https://localhost:8080/",
          "height": 339
        },
        "id": "gkX9gWSmhaOv",
        "outputId": "a75084d7-2f06-4080-beee-794af57735d9"
      },
      "execution_count": 50,
      "outputs": [
        {
          "output_type": "stream",
          "name": "stderr",
          "text": [
            "/usr/local/lib/python3.7/dist-packages/IPython/core/interactiveshell.py:2822: FutureWarning: arrays to stack must be passed as a \"sequence\" type such as list or tuple. Support for non-sequence iterables such as generators is deprecated as of NumPy 1.16 and will raise an error in the future.\n",
            "  if self.run_code(code, result):\n"
          ]
        },
        {
          "output_type": "display_data",
          "data": {
            "image/png": "[encoded data removed]",
            "text/plain": [
              "<Figure size 432x288 with 1 Axes>"
            ]
          },
          "metadata": {}
        }
      ]
    },
    {
      "cell_type": "markdown",
      "source": [
        "#### 4.2.2 Modelo de la temperatura"
      ],
      "metadata": {
        "id": "cI8iNKBSiPVN"
      }
    },
    {
      "cell_type": "code",
      "source": [
        "X = agroanalisis[x_features_temperatura]\n",
        "y = agroanalisis['price_max_recolec']\n",
        "\n",
        "X_train, X_test, y_train, y_test = train_test_split( X, y, test_size=0.33, random_state=42)\n",
        "X_train.head()"
      ],
      "metadata": {
        "colab": {
          "base_uri": "https://localhost:8080/",
          "height": 288
        },
        "outputId": "cbbd0546-a0d7-4797-e61a-12082392e7b5",
        "id": "B5ZhxkiTiPVQ"
      },
      "execution_count": 51,
      "outputs": [
        {
          "output_type": "execute_result",
          "data": {
            "text/html": [
              "\n",
              "  <div id=\"df-9d027976-8572-4d26-a413-e69517000cf6\">\n",
              "    <div class=\"colab-df-container\">\n",
              "      <div>\n",
              "<style scoped>\n",
              "    .dataframe tbody tr th:only-of-type {\n",
              "        vertical-align: middle;\n",
              "    }\n",
              "\n",
              "    .dataframe tbody tr th {\n",
              "        vertical-align: top;\n",
              "    }\n",
              "\n",
              "    .dataframe thead th {\n",
              "        text-align: right;\n",
              "    }\n",
              "</style>\n",
              "<table border=\"1\" class=\"dataframe\">\n",
              "  <thead>\n",
              "    <tr style=\"text-align: right;\">\n",
              "      <th></th>\n",
              "      <th>MONTH</th>\n",
              "      <th>Precipitacion_group</th>\n",
              "      <th>product_ACELGA</th>\n",
              "      <th>product_AJO</th>\n",
              "      <th>product_ALCACHOFA</th>\n",
              "      <th>product_APIO</th>\n",
              "      <th>product_BERENJENA</th>\n",
              "      <th>product_BROCOLI</th>\n",
              "      <th>product_CALABACIN</th>\n",
              "      <th>product_CALABAZA</th>\n",
              "      <th>product_CEBOLLA</th>\n",
              "      <th>product_CEBOLLETA</th>\n",
              "      <th>product_CHIRIVIA</th>\n",
              "      <th>product_COL BRUSELAS</th>\n",
              "      <th>product_COL CHINA</th>\n",
              "      <th>product_COL LOMBARDA</th>\n",
              "      <th>product_COL REPOLLO</th>\n",
              "      <th>product_COLIFLOR</th>\n",
              "      <th>product_ESCAROLA</th>\n",
              "      <th>product_ESPINACA</th>\n",
              "      <th>product_GUISANTE</th>\n",
              "      <th>product_HABA</th>\n",
              "      <th>product_JUDIA</th>\n",
              "      <th>product_LECHUGA</th>\n",
              "      <th>product_MAIZ</th>\n",
              "      <th>product_MELON</th>\n",
              "      <th>product_NABO</th>\n",
              "      <th>product_PATATA</th>\n",
              "      <th>product_PEPINO</th>\n",
              "      <th>product_PEREJIL</th>\n",
              "      <th>product_PIMIENTO</th>\n",
              "      <th>product_PUERRO</th>\n",
              "      <th>product_RABANITO</th>\n",
              "      <th>product_REMOLACHA</th>\n",
              "      <th>product_SANDIA</th>\n",
              "      <th>product_TOMATE</th>\n",
              "      <th>product_ZANAHORIA</th>\n",
              "      <th>origen_Andalucia</th>\n",
              "      <th>origen_Aragon</th>\n",
              "      <th>origen_Asturias</th>\n",
              "      <th>origen_Baleares</th>\n",
              "      <th>origen_Canarias</th>\n",
              "      <th>origen_Cantabria</th>\n",
              "      <th>origen_Castilla La Mancha</th>\n",
              "      <th>origen_Castilla Leon</th>\n",
              "      <th>origen_Cataluña</th>\n",
              "      <th>origen_Extremadura</th>\n",
              "      <th>origen_Galicia</th>\n",
              "      <th>origen_La Rioja</th>\n",
              "      <th>origen_Madrid</th>\n",
              "      <th>origen_Murcia</th>\n",
              "      <th>origen_Navarra</th>\n",
              "      <th>origen_Pais Vasco</th>\n",
              "      <th>origen_Valencia</th>\n",
              "    </tr>\n",
              "  </thead>\n",
              "  <tbody>\n",
              "    <tr>\n",
              "      <th>702</th>\n",
              "      <td>9</td>\n",
              "      <td>0.0</td>\n",
              "      <td>0</td>\n",
              "      <td>1</td>\n",
              "      <td>0</td>\n",
              "      <td>0</td>\n",
              "      <td>0</td>\n",
              "      <td>0</td>\n",
              "      <td>0</td>\n",
              "      <td>0</td>\n",
              "      <td>0</td>\n",
              "      <td>0</td>\n",
              "      <td>0</td>\n",
              "      <td>0</td>\n",
              "      <td>0</td>\n",
              "      <td>0</td>\n",
              "      <td>0</td>\n",
              "      <td>0</td>\n",
              "      <td>0</td>\n",
              "      <td>0</td>\n",
              "      <td>0</td>\n",
              "      <td>0</td>\n",
              "      <td>0</td>\n",
              "      <td>0</td>\n",
              "      <td>0</td>\n",
              "      <td>0</td>\n",
              "      <td>0</td>\n",
              "      <td>0</td>\n",
              "      <td>0</td>\n",
              "      <td>0</td>\n",
              "      <td>0</td>\n",
              "      <td>0</td>\n",
              "      <td>0</td>\n",
              "      <td>0</td>\n",
              "      <td>0</td>\n",
              "      <td>0</td>\n",
              "      <td>0</td>\n",
              "      <td>0</td>\n",
              "      <td>0</td>\n",
              "      <td>0</td>\n",
              "      <td>0</td>\n",
              "      <td>0</td>\n",
              "      <td>0</td>\n",
              "      <td>1</td>\n",
              "      <td>0</td>\n",
              "      <td>0</td>\n",
              "      <td>0</td>\n",
              "      <td>0</td>\n",
              "      <td>0</td>\n",
              "      <td>0</td>\n",
              "      <td>0</td>\n",
              "      <td>0</td>\n",
              "      <td>0</td>\n",
              "      <td>0</td>\n",
              "    </tr>\n",
              "    <tr>\n",
              "      <th>17623</th>\n",
              "      <td>3</td>\n",
              "      <td>1.0</td>\n",
              "      <td>0</td>\n",
              "      <td>0</td>\n",
              "      <td>0</td>\n",
              "      <td>0</td>\n",
              "      <td>0</td>\n",
              "      <td>0</td>\n",
              "      <td>0</td>\n",
              "      <td>0</td>\n",
              "      <td>0</td>\n",
              "      <td>0</td>\n",
              "      <td>0</td>\n",
              "      <td>0</td>\n",
              "      <td>0</td>\n",
              "      <td>0</td>\n",
              "      <td>0</td>\n",
              "      <td>0</td>\n",
              "      <td>0</td>\n",
              "      <td>0</td>\n",
              "      <td>0</td>\n",
              "      <td>0</td>\n",
              "      <td>0</td>\n",
              "      <td>0</td>\n",
              "      <td>0</td>\n",
              "      <td>1</td>\n",
              "      <td>0</td>\n",
              "      <td>0</td>\n",
              "      <td>0</td>\n",
              "      <td>0</td>\n",
              "      <td>0</td>\n",
              "      <td>0</td>\n",
              "      <td>0</td>\n",
              "      <td>0</td>\n",
              "      <td>0</td>\n",
              "      <td>0</td>\n",
              "      <td>0</td>\n",
              "      <td>0</td>\n",
              "      <td>0</td>\n",
              "      <td>0</td>\n",
              "      <td>0</td>\n",
              "      <td>0</td>\n",
              "      <td>0</td>\n",
              "      <td>0</td>\n",
              "      <td>0</td>\n",
              "      <td>0</td>\n",
              "      <td>0</td>\n",
              "      <td>0</td>\n",
              "      <td>0</td>\n",
              "      <td>0</td>\n",
              "      <td>0</td>\n",
              "      <td>0</td>\n",
              "      <td>1</td>\n",
              "      <td>0</td>\n",
              "    </tr>\n",
              "    <tr>\n",
              "      <th>10686</th>\n",
              "      <td>10</td>\n",
              "      <td>1.0</td>\n",
              "      <td>0</td>\n",
              "      <td>0</td>\n",
              "      <td>0</td>\n",
              "      <td>0</td>\n",
              "      <td>0</td>\n",
              "      <td>0</td>\n",
              "      <td>0</td>\n",
              "      <td>0</td>\n",
              "      <td>0</td>\n",
              "      <td>0</td>\n",
              "      <td>0</td>\n",
              "      <td>0</td>\n",
              "      <td>0</td>\n",
              "      <td>0</td>\n",
              "      <td>0</td>\n",
              "      <td>0</td>\n",
              "      <td>0</td>\n",
              "      <td>0</td>\n",
              "      <td>0</td>\n",
              "      <td>0</td>\n",
              "      <td>0</td>\n",
              "      <td>1</td>\n",
              "      <td>0</td>\n",
              "      <td>0</td>\n",
              "      <td>0</td>\n",
              "      <td>0</td>\n",
              "      <td>0</td>\n",
              "      <td>0</td>\n",
              "      <td>0</td>\n",
              "      <td>0</td>\n",
              "      <td>0</td>\n",
              "      <td>0</td>\n",
              "      <td>0</td>\n",
              "      <td>0</td>\n",
              "      <td>0</td>\n",
              "      <td>0</td>\n",
              "      <td>0</td>\n",
              "      <td>0</td>\n",
              "      <td>0</td>\n",
              "      <td>0</td>\n",
              "      <td>0</td>\n",
              "      <td>0</td>\n",
              "      <td>0</td>\n",
              "      <td>0</td>\n",
              "      <td>0</td>\n",
              "      <td>0</td>\n",
              "      <td>0</td>\n",
              "      <td>1</td>\n",
              "      <td>0</td>\n",
              "      <td>0</td>\n",
              "      <td>0</td>\n",
              "      <td>0</td>\n",
              "    </tr>\n",
              "    <tr>\n",
              "      <th>13470</th>\n",
              "      <td>3</td>\n",
              "      <td>0.0</td>\n",
              "      <td>0</td>\n",
              "      <td>0</td>\n",
              "      <td>0</td>\n",
              "      <td>0</td>\n",
              "      <td>0</td>\n",
              "      <td>0</td>\n",
              "      <td>0</td>\n",
              "      <td>0</td>\n",
              "      <td>0</td>\n",
              "      <td>0</td>\n",
              "      <td>0</td>\n",
              "      <td>0</td>\n",
              "      <td>0</td>\n",
              "      <td>0</td>\n",
              "      <td>0</td>\n",
              "      <td>0</td>\n",
              "      <td>0</td>\n",
              "      <td>0</td>\n",
              "      <td>0</td>\n",
              "      <td>0</td>\n",
              "      <td>0</td>\n",
              "      <td>0</td>\n",
              "      <td>0</td>\n",
              "      <td>0</td>\n",
              "      <td>0</td>\n",
              "      <td>0</td>\n",
              "      <td>0</td>\n",
              "      <td>0</td>\n",
              "      <td>1</td>\n",
              "      <td>0</td>\n",
              "      <td>0</td>\n",
              "      <td>0</td>\n",
              "      <td>0</td>\n",
              "      <td>0</td>\n",
              "      <td>0</td>\n",
              "      <td>0</td>\n",
              "      <td>0</td>\n",
              "      <td>0</td>\n",
              "      <td>0</td>\n",
              "      <td>0</td>\n",
              "      <td>1</td>\n",
              "      <td>0</td>\n",
              "      <td>0</td>\n",
              "      <td>0</td>\n",
              "      <td>0</td>\n",
              "      <td>0</td>\n",
              "      <td>0</td>\n",
              "      <td>0</td>\n",
              "      <td>0</td>\n",
              "      <td>0</td>\n",
              "      <td>0</td>\n",
              "      <td>0</td>\n",
              "    </tr>\n",
              "    <tr>\n",
              "      <th>10629</th>\n",
              "      <td>4</td>\n",
              "      <td>1.0</td>\n",
              "      <td>0</td>\n",
              "      <td>0</td>\n",
              "      <td>0</td>\n",
              "      <td>0</td>\n",
              "      <td>0</td>\n",
              "      <td>0</td>\n",
              "      <td>0</td>\n",
              "      <td>0</td>\n",
              "      <td>0</td>\n",
              "      <td>0</td>\n",
              "      <td>0</td>\n",
              "      <td>0</td>\n",
              "      <td>0</td>\n",
              "      <td>0</td>\n",
              "      <td>0</td>\n",
              "      <td>0</td>\n",
              "      <td>0</td>\n",
              "      <td>0</td>\n",
              "      <td>0</td>\n",
              "      <td>0</td>\n",
              "      <td>0</td>\n",
              "      <td>1</td>\n",
              "      <td>0</td>\n",
              "      <td>0</td>\n",
              "      <td>0</td>\n",
              "      <td>0</td>\n",
              "      <td>0</td>\n",
              "      <td>0</td>\n",
              "      <td>0</td>\n",
              "      <td>0</td>\n",
              "      <td>0</td>\n",
              "      <td>0</td>\n",
              "      <td>0</td>\n",
              "      <td>0</td>\n",
              "      <td>0</td>\n",
              "      <td>0</td>\n",
              "      <td>0</td>\n",
              "      <td>0</td>\n",
              "      <td>0</td>\n",
              "      <td>0</td>\n",
              "      <td>0</td>\n",
              "      <td>0</td>\n",
              "      <td>0</td>\n",
              "      <td>0</td>\n",
              "      <td>0</td>\n",
              "      <td>0</td>\n",
              "      <td>1</td>\n",
              "      <td>0</td>\n",
              "      <td>0</td>\n",
              "      <td>0</td>\n",
              "      <td>0</td>\n",
              "      <td>0</td>\n",
              "    </tr>\n",
              "  </tbody>\n",
              "</table>\n",
              "</div>\n",
              "      <button class=\"colab-df-convert\" onclick=\"convertToInteractive('df-9d027976-8572-4d26-a413-e69517000cf6')\"\n",
              "              title=\"Convert this dataframe to an interactive table.\"\n",
              "              style=\"display:none;\">\n",
              "        \n",
              "  <svg xmlns=\"http://www.w3.org/2000/svg\" height=\"24px\"viewBox=\"0 0 24 24\"\n",
              "       width=\"24px\">\n",
              "    <path d=\"M0 0h24v24H0V0z\" fill=\"none\"/>\n",
              "    <path d=\"M18.56 5.44l.94 2.06.94-2.06 2.06-.94-2.06-.94-.94-2.06-.94 2.06-2.06.94zm-11 1L8.5 8.5l.94-2.06 2.06-.94-2.06-.94L8.5 2.5l-.94 2.06-2.06.94zm10 10l.94 2.06.94-2.06 2.06-.94-2.06-.94-.94-2.06-.94 2.06-2.06.94z\"/><path d=\"M17.41 7.96l-1.37-1.37c-.4-.4-.92-.59-1.43-.59-.52 0-1.04.2-1.43.59L10.3 9.45l-7.72 7.72c-.78.78-.78 2.05 0 2.83L4 21.41c.39.39.9.59 1.41.59.51 0 1.02-.2 1.41-.59l7.78-7.78 2.81-2.81c.8-.78.8-2.07 0-2.86zM5.41 20L4 18.59l7.72-7.72 1.47 1.35L5.41 20z\"/>\n",
              "  </svg>\n",
              "      </button>\n",
              "      \n",
              "  <style>\n",
              "    .colab-df-container {\n",
              "      display:flex;\n",
              "      flex-wrap:wrap;\n",
              "      gap: 12px;\n",
              "    }\n",
              "\n",
              "    .colab-df-convert {\n",
              "      background-color: #E8F0FE;\n",
              "      border: none;\n",
              "      border-radius: 50%;\n",
              "      cursor: pointer;\n",
              "      display: none;\n",
              "      fill: #1967D2;\n",
              "      height: 32px;\n",
              "      padding: 0 0 0 0;\n",
              "      width: 32px;\n",
              "    }\n",
              "\n",
              "    .colab-df-convert:hover {\n",
              "      background-color: #E2EBFA;\n",
              "      box-shadow: 0px 1px 2px rgba(60, 64, 67, 0.3), 0px 1px 3px 1px rgba(60, 64, 67, 0.15);\n",
              "      fill: #174EA6;\n",
              "    }\n",
              "\n",
              "    [theme=dark] .colab-df-convert {\n",
              "      background-color: #3B4455;\n",
              "      fill: #D2E3FC;\n",
              "    }\n",
              "\n",
              "    [theme=dark] .colab-df-convert:hover {\n",
              "      background-color: #434B5C;\n",
              "      box-shadow: 0px 1px 3px 1px rgba(0, 0, 0, 0.15);\n",
              "      filter: drop-shadow(0px 1px 2px rgba(0, 0, 0, 0.3));\n",
              "      fill: #FFFFFF;\n",
              "    }\n",
              "  </style>\n",
              "\n",
              "      <script>\n",
              "        const buttonEl =\n",
              "          document.querySelector('#df-9d027976-8572-4d26-a413-e69517000cf6 button.colab-df-convert');\n",
              "        buttonEl.style.display =\n",
              "          google.colab.kernel.accessAllowed ? 'block' : 'none';\n",
              "\n",
              "        async function convertToInteractive(key) {\n",
              "          const element = document.querySelector('#df-9d027976-8572-4d26-a413-e69517000cf6');\n",
              "          const dataTable =\n",
              "            await google.colab.kernel.invokeFunction('convertToInteractive',\n",
              "                                                     [key], {});\n",
              "          if (!dataTable) return;\n",
              "\n",
              "          const docLinkHtml = 'Like what you see? Visit the ' +\n",
              "            '<a target=\"_blank\" href=https://colab.research.google.com/notebooks/data_table.ipynb>data table notebook</a>'\n",
              "            + ' to learn more about interactive tables.';\n",
              "          element.innerHTML = '';\n",
              "          dataTable['output_type'] = 'display_data';\n",
              "          await google.colab.output.renderOutput(dataTable, element);\n",
              "          const docLink = document.createElement('div');\n",
              "          docLink.innerHTML = docLinkHtml;\n",
              "          element.appendChild(docLink);\n",
              "        }\n",
              "      </script>\n",
              "    </div>\n",
              "  </div>\n",
              "  "
            ],
            "text/plain": [
              "       MONTH  Precipitacion_group  ...  origen_Pais Vasco  origen_Valencia\n",
              "702        9                  0.0  ...                  0                0\n",
              "17623      3                  1.0  ...                  1                0\n",
              "10686     10                  1.0  ...                  0                0\n",
              "13470      3                  0.0  ...                  0                0\n",
              "10629      4                  1.0  ...                  0                0\n",
              "\n",
              "[5 rows x 54 columns]"
            ]
          },
          "metadata": {},
          "execution_count": 51
        }
      ]
    },
    {
      "cell_type": "code",
      "source": [
        "regr_temp = RandomForestRegressor(n_estimators= 4, criterion='absolute_error', random_state=0)\n",
        "\n",
        "# Entrenamiento y ejecución del modelo\n",
        "regr_temp.fit(X_train, y_train)\n",
        "y_pred = regr_temp.predict(X_test)"
      ],
      "metadata": {
        "id": "DccGAX0TiPVZ"
      },
      "execution_count": 52,
      "outputs": []
    },
    {
      "cell_type": "code",
      "source": [
        "print (\"MAE:\", metrics.mean_absolute_error(y_pred , y_test))\n",
        "print (\"MAPE:\", metrics.mean_absolute_percentage_error(y_pred , y_test))\n",
        "print (\"MSE:\", metrics.mean_squared_error(y_pred , y_test))\n",
        "print (\"R^2:\", metrics.r2_score(y_pred , y_test))"
      ],
      "metadata": {
        "colab": {
          "base_uri": "https://localhost:8080/"
        },
        "outputId": "5ef38202-de11-4a04-dbfb-a95f7c1de99e",
        "id": "jcRXt2vmiPVd"
      },
      "execution_count": 53,
      "outputs": [
        {
          "output_type": "stream",
          "name": "stdout",
          "text": [
            "MAE: 0.21699185006444177\n",
            "MAPE: 0.17694889125716265\n",
            "MSE: 0.18760731484797083\n",
            "R^2: 0.7073456286672091\n"
          ]
        }
      ]
    },
    {
      "cell_type": "code",
      "source": [
        "xx = np.stack(i for i in range(len(y_test)))\n",
        "plt.scatter(xx, y_test, c='r', label='data')\n",
        "plt.plot(xx, y_pred, c='g', label='prediction')\n",
        "plt.axis('tight')\n",
        "plt.legend()\n",
        "plt.title(\"RandomForests Regressor\")\n",
        "\n",
        "plt.show()"
      ],
      "metadata": {
        "colab": {
          "base_uri": "https://localhost:8080/",
          "height": 339
        },
        "outputId": "6d8b8b8e-f9b5-474f-e516-33397cd906cd",
        "id": "t68xuNywiPVh"
      },
      "execution_count": 54,
      "outputs": [
        {
          "output_type": "stream",
          "name": "stderr",
          "text": [
            "/usr/local/lib/python3.7/dist-packages/IPython/core/interactiveshell.py:2822: FutureWarning: arrays to stack must be passed as a \"sequence\" type such as list or tuple. Support for non-sequence iterables such as generators is deprecated as of NumPy 1.16 and will raise an error in the future.\n",
            "  if self.run_code(code, result):\n"
          ]
        },
        {
          "output_type": "display_data",
          "data": {
            "image/png": "[encoded data removed]",
            "text/plain": [
              "<Figure size 432x288 with 1 Axes>"
            ]
          },
          "metadata": {}
        }
      ]
    },
    {
      "cell_type": "markdown",
      "source": [
        "#### 4.2.3 Modelo de la precipitación"
      ],
      "metadata": {
        "id": "d5ElrW_WiRoV"
      }
    },
    {
      "cell_type": "code",
      "source": [
        "X = agroanalisis[x_features_precipitacion]\n",
        "y = agroanalisis['price_max_recolec']\n",
        "\n",
        "X_train, X_test, y_train, y_test = train_test_split( X, y, test_size=0.33, random_state=42)\n",
        "X_train.head()"
      ],
      "metadata": {
        "colab": {
          "base_uri": "https://localhost:8080/",
          "height": 288
        },
        "outputId": "c761e8d1-567a-4d7b-c256-7137888b7e27",
        "id": "zONO6AqJiRoZ"
      },
      "execution_count": 55,
      "outputs": [
        {
          "output_type": "execute_result",
          "data": {
            "text/html": [
              "\n",
              "  <div id=\"df-d4150f6f-5616-4919-b7b8-d22c2556983e\">\n",
              "    <div class=\"colab-df-container\">\n",
              "      <div>\n",
              "<style scoped>\n",
              "    .dataframe tbody tr th:only-of-type {\n",
              "        vertical-align: middle;\n",
              "    }\n",
              "\n",
              "    .dataframe tbody tr th {\n",
              "        vertical-align: top;\n",
              "    }\n",
              "\n",
              "    .dataframe thead th {\n",
              "        text-align: right;\n",
              "    }\n",
              "</style>\n",
              "<table border=\"1\" class=\"dataframe\">\n",
              "  <thead>\n",
              "    <tr style=\"text-align: right;\">\n",
              "      <th></th>\n",
              "      <th>MONTH</th>\n",
              "      <th>temperatura</th>\n",
              "      <th>product_ACELGA</th>\n",
              "      <th>product_AJO</th>\n",
              "      <th>product_ALCACHOFA</th>\n",
              "      <th>product_APIO</th>\n",
              "      <th>product_BERENJENA</th>\n",
              "      <th>product_BROCOLI</th>\n",
              "      <th>product_CALABACIN</th>\n",
              "      <th>product_CALABAZA</th>\n",
              "      <th>product_CEBOLLA</th>\n",
              "      <th>product_CEBOLLETA</th>\n",
              "      <th>product_CHIRIVIA</th>\n",
              "      <th>product_COL BRUSELAS</th>\n",
              "      <th>product_COL CHINA</th>\n",
              "      <th>product_COL LOMBARDA</th>\n",
              "      <th>product_COL REPOLLO</th>\n",
              "      <th>product_COLIFLOR</th>\n",
              "      <th>product_ESCAROLA</th>\n",
              "      <th>product_ESPINACA</th>\n",
              "      <th>product_GUISANTE</th>\n",
              "      <th>product_HABA</th>\n",
              "      <th>product_JUDIA</th>\n",
              "      <th>product_LECHUGA</th>\n",
              "      <th>product_MAIZ</th>\n",
              "      <th>product_MELON</th>\n",
              "      <th>product_NABO</th>\n",
              "      <th>product_PATATA</th>\n",
              "      <th>product_PEPINO</th>\n",
              "      <th>product_PEREJIL</th>\n",
              "      <th>product_PIMIENTO</th>\n",
              "      <th>product_PUERRO</th>\n",
              "      <th>product_RABANITO</th>\n",
              "      <th>product_REMOLACHA</th>\n",
              "      <th>product_SANDIA</th>\n",
              "      <th>product_TOMATE</th>\n",
              "      <th>product_ZANAHORIA</th>\n",
              "      <th>origen_Andalucia</th>\n",
              "      <th>origen_Aragon</th>\n",
              "      <th>origen_Asturias</th>\n",
              "      <th>origen_Baleares</th>\n",
              "      <th>origen_Canarias</th>\n",
              "      <th>origen_Cantabria</th>\n",
              "      <th>origen_Castilla La Mancha</th>\n",
              "      <th>origen_Castilla Leon</th>\n",
              "      <th>origen_Cataluña</th>\n",
              "      <th>origen_Extremadura</th>\n",
              "      <th>origen_Galicia</th>\n",
              "      <th>origen_La Rioja</th>\n",
              "      <th>origen_Madrid</th>\n",
              "      <th>origen_Murcia</th>\n",
              "      <th>origen_Navarra</th>\n",
              "      <th>origen_Pais Vasco</th>\n",
              "      <th>origen_Valencia</th>\n",
              "    </tr>\n",
              "  </thead>\n",
              "  <tbody>\n",
              "    <tr>\n",
              "      <th>702</th>\n",
              "      <td>9</td>\n",
              "      <td>22.07</td>\n",
              "      <td>0</td>\n",
              "      <td>1</td>\n",
              "      <td>0</td>\n",
              "      <td>0</td>\n",
              "      <td>0</td>\n",
              "      <td>0</td>\n",
              "      <td>0</td>\n",
              "      <td>0</td>\n",
              "      <td>0</td>\n",
              "      <td>0</td>\n",
              "      <td>0</td>\n",
              "      <td>0</td>\n",
              "      <td>0</td>\n",
              "      <td>0</td>\n",
              "      <td>0</td>\n",
              "      <td>0</td>\n",
              "      <td>0</td>\n",
              "      <td>0</td>\n",
              "      <td>0</td>\n",
              "      <td>0</td>\n",
              "      <td>0</td>\n",
              "      <td>0</td>\n",
              "      <td>0</td>\n",
              "      <td>0</td>\n",
              "      <td>0</td>\n",
              "      <td>0</td>\n",
              "      <td>0</td>\n",
              "      <td>0</td>\n",
              "      <td>0</td>\n",
              "      <td>0</td>\n",
              "      <td>0</td>\n",
              "      <td>0</td>\n",
              "      <td>0</td>\n",
              "      <td>0</td>\n",
              "      <td>0</td>\n",
              "      <td>0</td>\n",
              "      <td>0</td>\n",
              "      <td>0</td>\n",
              "      <td>0</td>\n",
              "      <td>0</td>\n",
              "      <td>0</td>\n",
              "      <td>1</td>\n",
              "      <td>0</td>\n",
              "      <td>0</td>\n",
              "      <td>0</td>\n",
              "      <td>0</td>\n",
              "      <td>0</td>\n",
              "      <td>0</td>\n",
              "      <td>0</td>\n",
              "      <td>0</td>\n",
              "      <td>0</td>\n",
              "      <td>0</td>\n",
              "    </tr>\n",
              "    <tr>\n",
              "      <th>17623</th>\n",
              "      <td>3</td>\n",
              "      <td>9.40</td>\n",
              "      <td>0</td>\n",
              "      <td>0</td>\n",
              "      <td>0</td>\n",
              "      <td>0</td>\n",
              "      <td>0</td>\n",
              "      <td>0</td>\n",
              "      <td>0</td>\n",
              "      <td>0</td>\n",
              "      <td>0</td>\n",
              "      <td>0</td>\n",
              "      <td>0</td>\n",
              "      <td>0</td>\n",
              "      <td>0</td>\n",
              "      <td>0</td>\n",
              "      <td>0</td>\n",
              "      <td>0</td>\n",
              "      <td>0</td>\n",
              "      <td>0</td>\n",
              "      <td>0</td>\n",
              "      <td>0</td>\n",
              "      <td>0</td>\n",
              "      <td>0</td>\n",
              "      <td>0</td>\n",
              "      <td>1</td>\n",
              "      <td>0</td>\n",
              "      <td>0</td>\n",
              "      <td>0</td>\n",
              "      <td>0</td>\n",
              "      <td>0</td>\n",
              "      <td>0</td>\n",
              "      <td>0</td>\n",
              "      <td>0</td>\n",
              "      <td>0</td>\n",
              "      <td>0</td>\n",
              "      <td>0</td>\n",
              "      <td>0</td>\n",
              "      <td>0</td>\n",
              "      <td>0</td>\n",
              "      <td>0</td>\n",
              "      <td>0</td>\n",
              "      <td>0</td>\n",
              "      <td>0</td>\n",
              "      <td>0</td>\n",
              "      <td>0</td>\n",
              "      <td>0</td>\n",
              "      <td>0</td>\n",
              "      <td>0</td>\n",
              "      <td>0</td>\n",
              "      <td>0</td>\n",
              "      <td>0</td>\n",
              "      <td>1</td>\n",
              "      <td>0</td>\n",
              "    </tr>\n",
              "    <tr>\n",
              "      <th>10686</th>\n",
              "      <td>10</td>\n",
              "      <td>13.63</td>\n",
              "      <td>0</td>\n",
              "      <td>0</td>\n",
              "      <td>0</td>\n",
              "      <td>0</td>\n",
              "      <td>0</td>\n",
              "      <td>0</td>\n",
              "      <td>0</td>\n",
              "      <td>0</td>\n",
              "      <td>0</td>\n",
              "      <td>0</td>\n",
              "      <td>0</td>\n",
              "      <td>0</td>\n",
              "      <td>0</td>\n",
              "      <td>0</td>\n",
              "      <td>0</td>\n",
              "      <td>0</td>\n",
              "      <td>0</td>\n",
              "      <td>0</td>\n",
              "      <td>0</td>\n",
              "      <td>0</td>\n",
              "      <td>0</td>\n",
              "      <td>1</td>\n",
              "      <td>0</td>\n",
              "      <td>0</td>\n",
              "      <td>0</td>\n",
              "      <td>0</td>\n",
              "      <td>0</td>\n",
              "      <td>0</td>\n",
              "      <td>0</td>\n",
              "      <td>0</td>\n",
              "      <td>0</td>\n",
              "      <td>0</td>\n",
              "      <td>0</td>\n",
              "      <td>0</td>\n",
              "      <td>0</td>\n",
              "      <td>0</td>\n",
              "      <td>0</td>\n",
              "      <td>0</td>\n",
              "      <td>0</td>\n",
              "      <td>0</td>\n",
              "      <td>0</td>\n",
              "      <td>0</td>\n",
              "      <td>0</td>\n",
              "      <td>0</td>\n",
              "      <td>0</td>\n",
              "      <td>0</td>\n",
              "      <td>0</td>\n",
              "      <td>1</td>\n",
              "      <td>0</td>\n",
              "      <td>0</td>\n",
              "      <td>0</td>\n",
              "      <td>0</td>\n",
              "    </tr>\n",
              "    <tr>\n",
              "      <th>13470</th>\n",
              "      <td>3</td>\n",
              "      <td>9.51</td>\n",
              "      <td>0</td>\n",
              "      <td>0</td>\n",
              "      <td>0</td>\n",
              "      <td>0</td>\n",
              "      <td>0</td>\n",
              "      <td>0</td>\n",
              "      <td>0</td>\n",
              "      <td>0</td>\n",
              "      <td>0</td>\n",
              "      <td>0</td>\n",
              "      <td>0</td>\n",
              "      <td>0</td>\n",
              "      <td>0</td>\n",
              "      <td>0</td>\n",
              "      <td>0</td>\n",
              "      <td>0</td>\n",
              "      <td>0</td>\n",
              "      <td>0</td>\n",
              "      <td>0</td>\n",
              "      <td>0</td>\n",
              "      <td>0</td>\n",
              "      <td>0</td>\n",
              "      <td>0</td>\n",
              "      <td>0</td>\n",
              "      <td>0</td>\n",
              "      <td>0</td>\n",
              "      <td>0</td>\n",
              "      <td>0</td>\n",
              "      <td>1</td>\n",
              "      <td>0</td>\n",
              "      <td>0</td>\n",
              "      <td>0</td>\n",
              "      <td>0</td>\n",
              "      <td>0</td>\n",
              "      <td>0</td>\n",
              "      <td>0</td>\n",
              "      <td>0</td>\n",
              "      <td>0</td>\n",
              "      <td>0</td>\n",
              "      <td>0</td>\n",
              "      <td>1</td>\n",
              "      <td>0</td>\n",
              "      <td>0</td>\n",
              "      <td>0</td>\n",
              "      <td>0</td>\n",
              "      <td>0</td>\n",
              "      <td>0</td>\n",
              "      <td>0</td>\n",
              "      <td>0</td>\n",
              "      <td>0</td>\n",
              "      <td>0</td>\n",
              "      <td>0</td>\n",
              "    </tr>\n",
              "    <tr>\n",
              "      <th>10629</th>\n",
              "      <td>4</td>\n",
              "      <td>10.30</td>\n",
              "      <td>0</td>\n",
              "      <td>0</td>\n",
              "      <td>0</td>\n",
              "      <td>0</td>\n",
              "      <td>0</td>\n",
              "      <td>0</td>\n",
              "      <td>0</td>\n",
              "      <td>0</td>\n",
              "      <td>0</td>\n",
              "      <td>0</td>\n",
              "      <td>0</td>\n",
              "      <td>0</td>\n",
              "      <td>0</td>\n",
              "      <td>0</td>\n",
              "      <td>0</td>\n",
              "      <td>0</td>\n",
              "      <td>0</td>\n",
              "      <td>0</td>\n",
              "      <td>0</td>\n",
              "      <td>0</td>\n",
              "      <td>0</td>\n",
              "      <td>1</td>\n",
              "      <td>0</td>\n",
              "      <td>0</td>\n",
              "      <td>0</td>\n",
              "      <td>0</td>\n",
              "      <td>0</td>\n",
              "      <td>0</td>\n",
              "      <td>0</td>\n",
              "      <td>0</td>\n",
              "      <td>0</td>\n",
              "      <td>0</td>\n",
              "      <td>0</td>\n",
              "      <td>0</td>\n",
              "      <td>0</td>\n",
              "      <td>0</td>\n",
              "      <td>0</td>\n",
              "      <td>0</td>\n",
              "      <td>0</td>\n",
              "      <td>0</td>\n",
              "      <td>0</td>\n",
              "      <td>0</td>\n",
              "      <td>0</td>\n",
              "      <td>0</td>\n",
              "      <td>0</td>\n",
              "      <td>0</td>\n",
              "      <td>1</td>\n",
              "      <td>0</td>\n",
              "      <td>0</td>\n",
              "      <td>0</td>\n",
              "      <td>0</td>\n",
              "      <td>0</td>\n",
              "    </tr>\n",
              "  </tbody>\n",
              "</table>\n",
              "</div>\n",
              "      <button class=\"colab-df-convert\" onclick=\"convertToInteractive('df-d4150f6f-5616-4919-b7b8-d22c2556983e')\"\n",
              "              title=\"Convert this dataframe to an interactive table.\"\n",
              "              style=\"display:none;\">\n",
              "        \n",
              "  <svg xmlns=\"http://www.w3.org/2000/svg\" height=\"24px\"viewBox=\"0 0 24 24\"\n",
              "       width=\"24px\">\n",
              "    <path d=\"M0 0h24v24H0V0z\" fill=\"none\"/>\n",
              "    <path d=\"M18.56 5.44l.94 2.06.94-2.06 2.06-.94-2.06-.94-.94-2.06-.94 2.06-2.06.94zm-11 1L8.5 8.5l.94-2.06 2.06-.94-2.06-.94L8.5 2.5l-.94 2.06-2.06.94zm10 10l.94 2.06.94-2.06 2.06-.94-2.06-.94-.94-2.06-.94 2.06-2.06.94z\"/><path d=\"M17.41 7.96l-1.37-1.37c-.4-.4-.92-.59-1.43-.59-.52 0-1.04.2-1.43.59L10.3 9.45l-7.72 7.72c-.78.78-.78 2.05 0 2.83L4 21.41c.39.39.9.59 1.41.59.51 0 1.02-.2 1.41-.59l7.78-7.78 2.81-2.81c.8-.78.8-2.07 0-2.86zM5.41 20L4 18.59l7.72-7.72 1.47 1.35L5.41 20z\"/>\n",
              "  </svg>\n",
              "      </button>\n",
              "      \n",
              "  <style>\n",
              "    .colab-df-container {\n",
              "      display:flex;\n",
              "      flex-wrap:wrap;\n",
              "      gap: 12px;\n",
              "    }\n",
              "\n",
              "    .colab-df-convert {\n",
              "      background-color: #E8F0FE;\n",
              "      border: none;\n",
              "      border-radius: 50%;\n",
              "      cursor: pointer;\n",
              "      display: none;\n",
              "      fill: #1967D2;\n",
              "      height: 32px;\n",
              "      padding: 0 0 0 0;\n",
              "      width: 32px;\n",
              "    }\n",
              "\n",
              "    .colab-df-convert:hover {\n",
              "      background-color: #E2EBFA;\n",
              "      box-shadow: 0px 1px 2px rgba(60, 64, 67, 0.3), 0px 1px 3px 1px rgba(60, 64, 67, 0.15);\n",
              "      fill: #174EA6;\n",
              "    }\n",
              "\n",
              "    [theme=dark] .colab-df-convert {\n",
              "      background-color: #3B4455;\n",
              "      fill: #D2E3FC;\n",
              "    }\n",
              "\n",
              "    [theme=dark] .colab-df-convert:hover {\n",
              "      background-color: #434B5C;\n",
              "      box-shadow: 0px 1px 3px 1px rgba(0, 0, 0, 0.15);\n",
              "      filter: drop-shadow(0px 1px 2px rgba(0, 0, 0, 0.3));\n",
              "      fill: #FFFFFF;\n",
              "    }\n",
              "  </style>\n",
              "\n",
              "      <script>\n",
              "        const buttonEl =\n",
              "          document.querySelector('#df-d4150f6f-5616-4919-b7b8-d22c2556983e button.colab-df-convert');\n",
              "        buttonEl.style.display =\n",
              "          google.colab.kernel.accessAllowed ? 'block' : 'none';\n",
              "\n",
              "        async function convertToInteractive(key) {\n",
              "          const element = document.querySelector('#df-d4150f6f-5616-4919-b7b8-d22c2556983e');\n",
              "          const dataTable =\n",
              "            await google.colab.kernel.invokeFunction('convertToInteractive',\n",
              "                                                     [key], {});\n",
              "          if (!dataTable) return;\n",
              "\n",
              "          const docLinkHtml = 'Like what you see? Visit the ' +\n",
              "            '<a target=\"_blank\" href=https://colab.research.google.com/notebooks/data_table.ipynb>data table notebook</a>'\n",
              "            + ' to learn more about interactive tables.';\n",
              "          element.innerHTML = '';\n",
              "          dataTable['output_type'] = 'display_data';\n",
              "          await google.colab.output.renderOutput(dataTable, element);\n",
              "          const docLink = document.createElement('div');\n",
              "          docLink.innerHTML = docLinkHtml;\n",
              "          element.appendChild(docLink);\n",
              "        }\n",
              "      </script>\n",
              "    </div>\n",
              "  </div>\n",
              "  "
            ],
            "text/plain": [
              "       MONTH  temperatura  ...  origen_Pais Vasco  origen_Valencia\n",
              "702        9        22.07  ...                  0                0\n",
              "17623      3         9.40  ...                  1                0\n",
              "10686     10        13.63  ...                  0                0\n",
              "13470      3         9.51  ...                  0                0\n",
              "10629      4        10.30  ...                  0                0\n",
              "\n",
              "[5 rows x 54 columns]"
            ]
          },
          "metadata": {},
          "execution_count": 55
        }
      ]
    },
    {
      "cell_type": "code",
      "source": [
        "regr_precip = RandomForestRegressor(n_estimators= 4, criterion='absolute_error', random_state=0)\n",
        "\n",
        "# Entrenamiento y ejecución del modelo\n",
        "regr_precip.fit(X_train, y_train)\n",
        "y_pred = regr_precip.predict(X_test)"
      ],
      "metadata": {
        "id": "94io2AppiRok"
      },
      "execution_count": 56,
      "outputs": []
    },
    {
      "cell_type": "code",
      "source": [
        "print (\"MAE:\", metrics.mean_absolute_error(y_pred , y_test))\n",
        "print (\"MAPE:\", metrics.mean_absolute_percentage_error(y_pred , y_test))\n",
        "print (\"MSE:\", metrics.mean_squared_error(y_pred , y_test))\n",
        "print (\"R^2:\", metrics.r2_score(y_pred , y_test))"
      ],
      "metadata": {
        "colab": {
          "base_uri": "https://localhost:8080/"
        },
        "outputId": "b7b4e187-00e5-4cd4-fd8f-0d2086db0144",
        "id": "wK-H8sIIiRoo"
      },
      "execution_count": 57,
      "outputs": [
        {
          "output_type": "stream",
          "name": "stdout",
          "text": [
            "MAE: 0.21748720457323692\n",
            "MAPE: 0.18146379735391652\n",
            "MSE: 0.17335876650329177\n",
            "R^2: 0.7010750433823212\n"
          ]
        }
      ]
    },
    {
      "cell_type": "code",
      "source": [
        "xx = np.stack(i for i in range(len(y_test)))\n",
        "plt.scatter(xx, y_test, c='r', label='data')\n",
        "plt.plot(xx, y_pred, c='g', label='prediction')\n",
        "plt.axis('tight')\n",
        "plt.legend()\n",
        "plt.title(\"RandomForests Regressor\")\n",
        "\n",
        "plt.show()"
      ],
      "metadata": {
        "colab": {
          "base_uri": "https://localhost:8080/",
          "height": 339
        },
        "outputId": "a49d15e4-9554-4e50-8994-c749ffeb69f9",
        "id": "sbvxVuveiRoq"
      },
      "execution_count": 58,
      "outputs": [
        {
          "output_type": "stream",
          "name": "stderr",
          "text": [
            "/usr/local/lib/python3.7/dist-packages/IPython/core/interactiveshell.py:2822: FutureWarning: arrays to stack must be passed as a \"sequence\" type such as list or tuple. Support for non-sequence iterables such as generators is deprecated as of NumPy 1.16 and will raise an error in the future.\n",
            "  if self.run_code(code, result):\n"
          ]
        },
        {
          "output_type": "display_data",
          "data": {
            "image/png": "[encoded data removed]",
            "text/plain": [
              "<Figure size 432x288 with 1 Axes>"
            ]
          },
          "metadata": {}
        }
      ]
    },
    {
      "cell_type": "markdown",
      "source": [
        "#### 4.2.4 Integración de los modelos"
      ],
      "metadata": {
        "id": "w-rBzf0Ir531"
      }
    },
    {
      "cell_type": "markdown",
      "source": [
        "A continuación, se integrarán todos los modelos anteriores, para mostrar la diferencia entre los beneficios predichos y los reales, indicando así si el factor influyó positiva o negativamente."
      ],
      "metadata": {
        "id": "zqumWXrfgr7H"
      }
    },
    {
      "cell_type": "code",
      "source": [
        "def to_table (dif_month, dif_temperatura, dif_precipitacion):\n",
        "  print(\"Diferencia de beneficios\")\n",
        "\n",
        "  grid = widgets.Grid(4, 2, header_row=True, header_column=True)\n",
        "\n",
        "  with grid.output_to(0, 0):\n",
        "    print(\"Característica que falta\")\n",
        "\n",
        "  with grid.output_to(1, 0):\n",
        "    print(\"Mes\")\n",
        "  with grid.output_to(2, 0):\n",
        "    print(\"Temperatura\")\n",
        "  with grid.output_to(3, 0):\n",
        "    print(\"Precipitación\")\n",
        "\n",
        "  with grid.output_to(1, 1):\n",
        "    print(dif_month)\n",
        "  with grid.output_to(2, 1):\n",
        "    print(dif_temperatura)\n",
        "  with grid.output_to(3, 1):\n",
        "    print(dif_precipitacion)\n",
        "\n",
        "  with grid.output_to(0, 1):\n",
        "    print(\"Beneficio real - Beneficio esperado\")\n"
      ],
      "metadata": {
        "id": "hUXLveavdKIH"
      },
      "execution_count": 59,
      "outputs": []
    },
    {
      "cell_type": "code",
      "source": [
        "def checkInfluence(month, temperatura, precipitacion_group, product, origen, price_max_recolec):\n",
        "  dict_all_features = {\n",
        "    \"MONTH\": month,\n",
        "    \"temperatura\": temperatura,\n",
        "    \"Precipitacion_group\": precipitacion_group,\n",
        "    \"product_ACELGA\": 0,\n",
        "    \"product_AJO\": 0,\n",
        "    \"product_ALCACHOFA\": 0,\n",
        "    \"product_APIO\": 0,\n",
        "    \"product_BERENJENA\": 0,\n",
        "    \"product_BROCOLI\": 0,\n",
        "    \"product_CALABACIN\": 0,\n",
        "    \"product_CALABAZA\": 0,\n",
        "    \"product_CEBOLLA\": 0,\n",
        "    \"product_CEBOLLETA\": 0,\n",
        "    \"product_CHIRIVIA\": 0,\n",
        "    \"product_COL BRUSELAS\": 0,\n",
        "    \"product_COL CHINA\": 0,\n",
        "    \"product_COL LOMBARDA\": 0,\n",
        "    \"product_COL REPOLLO\": 0,\n",
        "    \"product_COLIFLOR\": 0,\n",
        "    \"product_ESCAROLA\": 0,\n",
        "    \"product_ESPINACA\": 0,\n",
        "    \"product_GUISANTE\": 0,\n",
        "    \"product_HABA\": 0,\n",
        "    \"product_JUDIA\": 0,\n",
        "    \"product_LECHUGA\": 0,\n",
        "    \"product_MAIZ\": 0,\n",
        "    \"product_MELON\": 0,\n",
        "    \"product_NABO\": 0,\n",
        "    \"product_PATATA\": 0,\n",
        "    \"product_PEPINO\": 0,\n",
        "    \"product_PEREJIL\": 0,\n",
        "    \"product_PIMIENTO\": 0,\n",
        "    \"product_PUERRO\": 0,\n",
        "    \"product_RABANITO\": 0,\n",
        "    \"product_REMOLACHA\": 0,\n",
        "    \"product_SANDIA\": 0,\n",
        "    \"product_TOMATE\": 0,\n",
        "    \"product_ZANAHORIA\": 0,\n",
        "    \"origen_Andalucia\": 0,\n",
        "    \"origen_Aragon\": 0,\n",
        "    \"origen_Asturias\": 0,\n",
        "    \"origen_Baleares\": 0,\n",
        "    \"origen_Canarias\": 0,\n",
        "    \"origen_Cantabria\": 0,\n",
        "    \"origen_Castilla La Mancha\": 0,\n",
        "    \"origen_Castilla Leon\": 0,\n",
        "    \"origen_Cataluña\": 0,\n",
        "    \"origen_Extremadura\": 0,\n",
        "    \"origen_Galicia\": 0,\n",
        "    \"origen_La Rioja\": 0,\n",
        "    \"origen_Madrid\": 0,\n",
        "    \"origen_Murcia\": 0,\n",
        "    \"origen_Navarra\": 0,\n",
        "    \"origen_Pais Vasco\": 0,\n",
        "    \"origen_Valencia\": 0\n",
        "}\n",
        "  dict_all_features[\"product_\"+product] = 1\n",
        "  dict_all_features[\"origen_\"+origen] = 1\n",
        "  dict_month = dict_all_features.copy()\n",
        "  dict_temperatura = dict_all_features.copy()\n",
        "  dict_precipitacion = dict_all_features.copy()\n",
        "\n",
        "  dict_month.pop(\"MONTH\", None)\n",
        "  dict_temperatura.pop(\"temperatura\", None)\n",
        "  dict_precipitacion.pop(\"Precipitacion_group\", None)\n",
        "  \n",
        "  df_month = pd.DataFrame([dict_month])\n",
        "  df_temperatura = pd.DataFrame([dict_temperatura])\n",
        "  df_precipitacion = pd.DataFrame([dict_precipitacion])\n",
        "\n",
        "  pred_month = regr_month.predict(df_month)[0]\n",
        "  pred_temperatura = regr_temp.predict(df_temperatura)[0]\n",
        "  pred_precipitacion = regr_precip.predict(df_precipitacion)[0]\n",
        "  \n",
        "  dif_month = price_max_recolec - pred_month\n",
        "  dif_temperatura = price_max_recolec - pred_temperatura\n",
        "  dif_precipitacion = price_max_recolec - pred_precipitacion\n",
        "  \n",
        "  to_table(dif_month, dif_temperatura, dif_precipitacion)\n"
      ],
      "metadata": {
        "id": "Ez1fhiAOkJvE"
      },
      "execution_count": 60,
      "outputs": []
    },
    {
      "cell_type": "markdown",
      "source": [
        "#### 4.2.5 Ejemplos de prueba"
      ],
      "metadata": {
        "id": "K6A9mpuibuGr"
      }
    },
    {
      "cell_type": "markdown",
      "source": [
        "A continuación se muestran ejemplos de inferencia sobre la tercera línea de trabajo.  "
      ],
      "metadata": {
        "id": "s51OWjVuddeR"
      }
    },
    {
      "cell_type": "code",
      "source": [
        "checkInfluence(3, 11.9, 2.0, \"ACELGA\", \"Andalucia\", 1.035714)\n",
        "print()\n",
        "checkInfluence(12, 15.45, 0.0, \"SANDIA\", \"Castilla La Mancha\", 0.397377)"
      ],
      "metadata": {
        "colab": {
          "base_uri": "https://localhost:8080/",
          "height": 234
        },
        "id": "oeeo39TC2BlE",
        "outputId": "f6a63b65-67e0-4e46-bfc5-14175f29d677"
      },
      "execution_count": 61,
      "outputs": [
        {
          "output_type": "stream",
          "name": "stdout",
          "text": [
            "Diferencia de beneficios\n"
          ]
        },
        {
          "output_type": "display_data",
          "data": {
            "text/html": [
              "<style>\n",
              "       table#id2, #id2 > tbody > tr > th, #id2 > tbody > tr > td {\n",
              "         border: 1px solid lightgray;\n",
              "         border-collapse:collapse;\n",
              "         \n",
              "        }</style>"
            ],
            "text/plain": [
              "<IPython.core.display.HTML object>"
            ]
          },
          "metadata": {}
        },
        {
          "output_type": "display_data",
          "data": {
            "text/html": [
              "<table id=id2><tr><th id=id2-0-0></th><th id=id2-0-1></th></tr><tr><th id=id2-1-0></th><td id=id2-1-1></td></tr><tr><th id=id2-2-0></th><td id=id2-2-1></td></tr><tr><th id=id2-3-0></th><td id=id2-3-1></td></tr></table>"
            ],
            "text/plain": [
              "<IPython.core.display.HTML object>"
            ]
          },
          "metadata": {}
        },
        {
          "output_type": "display_data",
          "data": {
            "application/javascript": [
              "window[\"ee43c6b4-77ce-11ec-84d6-0242ac1c0002\"] = google.colab.output.getActiveOutputArea();\n",
              "//# sourceURL=js_23a81c4a16"
            ],
            "text/plain": [
              "<IPython.core.display.Javascript object>"
            ]
          },
          "metadata": {}
        },
        {
          "output_type": "display_data",
          "data": {
            "application/javascript": [
              "window[\"ee443414-77ce-11ec-84d6-0242ac1c0002\"] = document.querySelector(\"#id2-0-0\");\n",
              "//# sourceURL=js_fc4e27df44"
            ],
            "text/plain": [
              "<IPython.core.display.Javascript object>"
            ]
          },
          "metadata": {}
        },
        {
          "output_type": "display_data",
          "data": {
            "application/javascript": [
              "window[\"ee44fa48-77ce-11ec-84d6-0242ac1c0002\"] = google.colab.output.setActiveOutputArea(window[\"ee443414-77ce-11ec-84d6-0242ac1c0002\"]);\n",
              "//# sourceURL=js_b85c0168cd"
            ],
            "text/plain": [
              "<IPython.core.display.Javascript object>"
            ]
          },
          "metadata": {}
        },
        {
          "output_type": "stream",
          "name": "stdout",
          "text": [
            "Característica que falta\n"
          ]
        },
        {
          "output_type": "display_data",
          "data": {
            "application/javascript": [
              "window[\"ee46ae9c-77ce-11ec-84d6-0242ac1c0002\"] = google.colab.output.setActiveOutputArea(window[\"ee43c6b4-77ce-11ec-84d6-0242ac1c0002\"]);\n",
              "//# sourceURL=js_49e55c0f86"
            ],
            "text/plain": [
              "<IPython.core.display.Javascript object>"
            ]
          },
          "metadata": {}
        },
        {
          "output_type": "display_data",
          "data": {
            "application/javascript": [
              "window[\"ee48d69a-77ce-11ec-84d6-0242ac1c0002\"] = google.colab.output.getActiveOutputArea();\n",
              "//# sourceURL=js_dfd1f7e673"
            ],
            "text/plain": [
              "<IPython.core.display.Javascript object>"
            ]
          },
          "metadata": {}
        },
        {
          "output_type": "display_data",
          "data": {
            "application/javascript": [
              "window[\"ee492a8c-77ce-11ec-84d6-0242ac1c0002\"] = document.querySelector(\"#id2-1-0\");\n",
              "//# sourceURL=js_5801c54c34"
            ],
            "text/plain": [
              "<IPython.core.display.Javascript object>"
            ]
          },
          "metadata": {}
        },
        {
          "output_type": "display_data",
          "data": {
            "application/javascript": [
              "window[\"ee4a2090-77ce-11ec-84d6-0242ac1c0002\"] = google.colab.output.setActiveOutputArea(window[\"ee492a8c-77ce-11ec-84d6-0242ac1c0002\"]);\n",
              "//# sourceURL=js_d0c4323716"
            ],
            "text/plain": [
              "<IPython.core.display.Javascript object>"
            ]
          },
          "metadata": {}
        },
        {
          "output_type": "stream",
          "name": "stdout",
          "text": [
            "Mes\n"
          ]
        },
        {
          "output_type": "display_data",
          "data": {
            "application/javascript": [
              "window[\"ee4b7666-77ce-11ec-84d6-0242ac1c0002\"] = google.colab.output.setActiveOutputArea(window[\"ee48d69a-77ce-11ec-84d6-0242ac1c0002\"]);\n",
              "//# sourceURL=js_f9ee7ffca9"
            ],
            "text/plain": [
              "<IPython.core.display.Javascript object>"
            ]
          },
          "metadata": {}
        },
        {
          "output_type": "display_data",
          "data": {
            "application/javascript": [
              "window[\"ee4d4662-77ce-11ec-84d6-0242ac1c0002\"] = google.colab.output.getActiveOutputArea();\n",
              "//# sourceURL=js_485d02f670"
            ],
            "text/plain": [
              "<IPython.core.display.Javascript object>"
            ]
          },
          "metadata": {}
        },
        {
          "output_type": "display_data",
          "data": {
            "application/javascript": [
              "window[\"ee4d97d4-77ce-11ec-84d6-0242ac1c0002\"] = document.querySelector(\"#id2-2-0\");\n",
              "//# sourceURL=js_407b6167f7"
            ],
            "text/plain": [
              "<IPython.core.display.Javascript object>"
            ]
          },
          "metadata": {}
        },
        {
          "output_type": "display_data",
          "data": {
            "application/javascript": [
              "window[\"ee4de82e-77ce-11ec-84d6-0242ac1c0002\"] = google.colab.output.setActiveOutputArea(window[\"ee4d97d4-77ce-11ec-84d6-0242ac1c0002\"]);\n",
              "//# sourceURL=js_86e80ff1a9"
            ],
            "text/plain": [
              "<IPython.core.display.Javascript object>"
            ]
          },
          "metadata": {}
        },
        {
          "output_type": "stream",
          "name": "stdout",
          "text": [
            "Temperatura\n"
          ]
        },
        {
          "output_type": "display_data",
          "data": {
            "application/javascript": [
              "window[\"ee4f09b6-77ce-11ec-84d6-0242ac1c0002\"] = google.colab.output.setActiveOutputArea(window[\"ee4d4662-77ce-11ec-84d6-0242ac1c0002\"]);\n",
              "//# sourceURL=js_f46add7bb3"
            ],
            "text/plain": [
              "<IPython.core.display.Javascript object>"
            ]
          },
          "metadata": {}
        },
        {
          "output_type": "display_data",
          "data": {
            "application/javascript": [
              "window[\"ee514334-77ce-11ec-84d6-0242ac1c0002\"] = google.colab.output.getActiveOutputArea();\n",
              "//# sourceURL=js_bf3a379f3c"
            ],
            "text/plain": [
              "<IPython.core.display.Javascript object>"
            ]
          },
          "metadata": {}
        },
        {
          "output_type": "display_data",
          "data": {
            "application/javascript": [
              "window[\"ee519532-77ce-11ec-84d6-0242ac1c0002\"] = document.querySelector(\"#id2-3-0\");\n",
              "//# sourceURL=js_4ddb53a756"
            ],
            "text/plain": [
              "<IPython.core.display.Javascript object>"
            ]
          },
          "metadata": {}
        },
        {
          "output_type": "display_data",
          "data": {
            "application/javascript": [
              "window[\"ee51e50a-77ce-11ec-84d6-0242ac1c0002\"] = google.colab.output.setActiveOutputArea(window[\"ee519532-77ce-11ec-84d6-0242ac1c0002\"]);\n",
              "//# sourceURL=js_183d95024b"
            ],
            "text/plain": [
              "<IPython.core.display.Javascript object>"
            ]
          },
          "metadata": {}
        },
        {
          "output_type": "stream",
          "name": "stdout",
          "text": [
            "Precipitación\n"
          ]
        },
        {
          "output_type": "display_data",
          "data": {
            "application/javascript": [
              "window[\"ee531bc8-77ce-11ec-84d6-0242ac1c0002\"] = google.colab.output.setActiveOutputArea(window[\"ee514334-77ce-11ec-84d6-0242ac1c0002\"]);\n",
              "//# sourceURL=js_c247fa2e67"
            ],
            "text/plain": [
              "<IPython.core.display.Javascript object>"
            ]
          },
          "metadata": {}
        },
        {
          "output_type": "display_data",
          "data": {
            "application/javascript": [
              "window[\"ee565450-77ce-11ec-84d6-0242ac1c0002\"] = google.colab.output.getActiveOutputArea();\n",
              "//# sourceURL=js_f509855f69"
            ],
            "text/plain": [
              "<IPython.core.display.Javascript object>"
            ]
          },
          "metadata": {}
        },
        {
          "output_type": "display_data",
          "data": {
            "application/javascript": [
              "window[\"ee56b062-77ce-11ec-84d6-0242ac1c0002\"] = document.querySelector(\"#id2-1-1\");\n",
              "//# sourceURL=js_1ad0d00aea"
            ],
            "text/plain": [
              "<IPython.core.display.Javascript object>"
            ]
          },
          "metadata": {}
        },
        {
          "output_type": "display_data",
          "data": {
            "application/javascript": [
              "window[\"ee57376c-77ce-11ec-84d6-0242ac1c0002\"] = google.colab.output.setActiveOutputArea(window[\"ee56b062-77ce-11ec-84d6-0242ac1c0002\"]);\n",
              "//# sourceURL=js_6ecee69125"
            ],
            "text/plain": [
              "<IPython.core.display.Javascript object>"
            ]
          },
          "metadata": {}
        },
        {
          "output_type": "stream",
          "name": "stdout",
          "text": [
            "0.40179270202500006\n"
          ]
        },
        {
          "output_type": "display_data",
          "data": {
            "application/javascript": [
              "window[\"ee5a05b4-77ce-11ec-84d6-0242ac1c0002\"] = google.colab.output.setActiveOutputArea(window[\"ee565450-77ce-11ec-84d6-0242ac1c0002\"]);\n",
              "//# sourceURL=js_80fe7e3b95"
            ],
            "text/plain": [
              "<IPython.core.display.Javascript object>"
            ]
          },
          "metadata": {}
        },
        {
          "output_type": "display_data",
          "data": {
            "application/javascript": [
              "window[\"ee5c79a2-77ce-11ec-84d6-0242ac1c0002\"] = google.colab.output.getActiveOutputArea();\n",
              "//# sourceURL=js_aa28a24b8c"
            ],
            "text/plain": [
              "<IPython.core.display.Javascript object>"
            ]
          },
          "metadata": {}
        },
        {
          "output_type": "display_data",
          "data": {
            "application/javascript": [
              "window[\"ee5cfb16-77ce-11ec-84d6-0242ac1c0002\"] = document.querySelector(\"#id2-2-1\");\n",
              "//# sourceURL=js_93b262b520"
            ],
            "text/plain": [
              "<IPython.core.display.Javascript object>"
            ]
          },
          "metadata": {}
        },
        {
          "output_type": "display_data",
          "data": {
            "application/javascript": [
              "window[\"ee5d69c0-77ce-11ec-84d6-0242ac1c0002\"] = google.colab.output.setActiveOutputArea(window[\"ee5cfb16-77ce-11ec-84d6-0242ac1c0002\"]);\n",
              "//# sourceURL=js_e07d0df653"
            ],
            "text/plain": [
              "<IPython.core.display.Javascript object>"
            ]
          },
          "metadata": {}
        },
        {
          "output_type": "stream",
          "name": "stdout",
          "text": [
            "0.3655751111250001\n"
          ]
        },
        {
          "output_type": "display_data",
          "data": {
            "application/javascript": [
              "window[\"ee5ed1d4-77ce-11ec-84d6-0242ac1c0002\"] = google.colab.output.setActiveOutputArea(window[\"ee5c79a2-77ce-11ec-84d6-0242ac1c0002\"]);\n",
              "//# sourceURL=js_c410b29d6d"
            ],
            "text/plain": [
              "<IPython.core.display.Javascript object>"
            ]
          },
          "metadata": {}
        },
        {
          "output_type": "display_data",
          "data": {
            "application/javascript": [
              "window[\"ee614aa4-77ce-11ec-84d6-0242ac1c0002\"] = google.colab.output.getActiveOutputArea();\n",
              "//# sourceURL=js_4beb458b94"
            ],
            "text/plain": [
              "<IPython.core.display.Javascript object>"
            ]
          },
          "metadata": {}
        },
        {
          "output_type": "display_data",
          "data": {
            "application/javascript": [
              "window[\"ee61b804-77ce-11ec-84d6-0242ac1c0002\"] = document.querySelector(\"#id2-3-1\");\n",
              "//# sourceURL=js_0dba11e0db"
            ],
            "text/plain": [
              "<IPython.core.display.Javascript object>"
            ]
          },
          "metadata": {}
        },
        {
          "output_type": "display_data",
          "data": {
            "application/javascript": [
              "window[\"ee622758-77ce-11ec-84d6-0242ac1c0002\"] = google.colab.output.setActiveOutputArea(window[\"ee61b804-77ce-11ec-84d6-0242ac1c0002\"]);\n",
              "//# sourceURL=js_8e78c0e962"
            ],
            "text/plain": [
              "<IPython.core.display.Javascript object>"
            ]
          },
          "metadata": {}
        },
        {
          "output_type": "stream",
          "name": "stdout",
          "text": [
            "0.5530949523333333\n"
          ]
        },
        {
          "output_type": "display_data",
          "data": {
            "application/javascript": [
              "window[\"ee66038c-77ce-11ec-84d6-0242ac1c0002\"] = google.colab.output.setActiveOutputArea(window[\"ee614aa4-77ce-11ec-84d6-0242ac1c0002\"]);\n",
              "//# sourceURL=js_741b0ca54e"
            ],
            "text/plain": [
              "<IPython.core.display.Javascript object>"
            ]
          },
          "metadata": {}
        },
        {
          "output_type": "display_data",
          "data": {
            "application/javascript": [
              "window[\"ee68298c-77ce-11ec-84d6-0242ac1c0002\"] = google.colab.output.getActiveOutputArea();\n",
              "//# sourceURL=js_7c67f0b1ec"
            ],
            "text/plain": [
              "<IPython.core.display.Javascript object>"
            ]
          },
          "metadata": {}
        },
        {
          "output_type": "display_data",
          "data": {
            "application/javascript": [
              "window[\"ee689d86-77ce-11ec-84d6-0242ac1c0002\"] = document.querySelector(\"#id2-0-1\");\n",
              "//# sourceURL=js_5856062341"
            ],
            "text/plain": [
              "<IPython.core.display.Javascript object>"
            ]
          },
          "metadata": {}
        },
        {
          "output_type": "display_data",
          "data": {
            "application/javascript": [
              "window[\"ee6910c2-77ce-11ec-84d6-0242ac1c0002\"] = google.colab.output.setActiveOutputArea(window[\"ee689d86-77ce-11ec-84d6-0242ac1c0002\"]);\n",
              "//# sourceURL=js_e1ae217176"
            ],
            "text/plain": [
              "<IPython.core.display.Javascript object>"
            ]
          },
          "metadata": {}
        },
        {
          "output_type": "stream",
          "name": "stdout",
          "text": [
            "Beneficio real - Beneficio esperado\n"
          ]
        },
        {
          "output_type": "display_data",
          "data": {
            "application/javascript": [
              "window[\"ee6acb7e-77ce-11ec-84d6-0242ac1c0002\"] = google.colab.output.setActiveOutputArea(window[\"ee68298c-77ce-11ec-84d6-0242ac1c0002\"]);\n",
              "//# sourceURL=js_0e6e9a44b9"
            ],
            "text/plain": [
              "<IPython.core.display.Javascript object>"
            ]
          },
          "metadata": {}
        },
        {
          "output_type": "stream",
          "name": "stdout",
          "text": [
            "\n",
            "Diferencia de beneficios\n"
          ]
        },
        {
          "output_type": "display_data",
          "data": {
            "text/html": [
              "<style>\n",
              "       table#id4, #id4 > tbody > tr > th, #id4 > tbody > tr > td {\n",
              "         border: 1px solid lightgray;\n",
              "         border-collapse:collapse;\n",
              "         \n",
              "        }</style>"
            ],
            "text/plain": [
              "<IPython.core.display.HTML object>"
            ]
          },
          "metadata": {}
        },
        {
          "output_type": "display_data",
          "data": {
            "text/html": [
              "<table id=id4><tr><th id=id4-0-0></th><th id=id4-0-1></th></tr><tr><th id=id4-1-0></th><td id=id4-1-1></td></tr><tr><th id=id4-2-0></th><td id=id4-2-1></td></tr><tr><th id=id4-3-0></th><td id=id4-3-1></td></tr></table>"
            ],
            "text/plain": [
              "<IPython.core.display.HTML object>"
            ]
          },
          "metadata": {}
        },
        {
          "output_type": "display_data",
          "data": {
            "application/javascript": [
              "window[\"ee7d3192-77ce-11ec-84d6-0242ac1c0002\"] = google.colab.output.getActiveOutputArea();\n",
              "//# sourceURL=js_5e2f3b1262"
            ],
            "text/plain": [
              "<IPython.core.display.Javascript object>"
            ]
          },
          "metadata": {}
        },
        {
          "output_type": "display_data",
          "data": {
            "application/javascript": [
              "window[\"ee7d9236-77ce-11ec-84d6-0242ac1c0002\"] = document.querySelector(\"#id4-0-0\");\n",
              "//# sourceURL=js_91651e122a"
            ],
            "text/plain": [
              "<IPython.core.display.Javascript object>"
            ]
          },
          "metadata": {}
        },
        {
          "output_type": "display_data",
          "data": {
            "application/javascript": [
              "window[\"ee7f10de-77ce-11ec-84d6-0242ac1c0002\"] = google.colab.output.setActiveOutputArea(window[\"ee7d9236-77ce-11ec-84d6-0242ac1c0002\"]);\n",
              "//# sourceURL=js_58bc687adf"
            ],
            "text/plain": [
              "<IPython.core.display.Javascript object>"
            ]
          },
          "metadata": {}
        },
        {
          "output_type": "stream",
          "name": "stdout",
          "text": [
            "Característica que falta\n"
          ]
        },
        {
          "output_type": "display_data",
          "data": {
            "application/javascript": [
              "window[\"ee80480a-77ce-11ec-84d6-0242ac1c0002\"] = google.colab.output.setActiveOutputArea(window[\"ee7d3192-77ce-11ec-84d6-0242ac1c0002\"]);\n",
              "//# sourceURL=js_293659dd69"
            ],
            "text/plain": [
              "<IPython.core.display.Javascript object>"
            ]
          },
          "metadata": {}
        },
        {
          "output_type": "display_data",
          "data": {
            "application/javascript": [
              "window[\"ee81f09c-77ce-11ec-84d6-0242ac1c0002\"] = google.colab.output.getActiveOutputArea();\n",
              "//# sourceURL=js_d909c6db27"
            ],
            "text/plain": [
              "<IPython.core.display.Javascript object>"
            ]
          },
          "metadata": {}
        },
        {
          "output_type": "display_data",
          "data": {
            "application/javascript": [
              "window[\"ee8244e8-77ce-11ec-84d6-0242ac1c0002\"] = document.querySelector(\"#id4-1-0\");\n",
              "//# sourceURL=js_0c79a117fc"
            ],
            "text/plain": [
              "<IPython.core.display.Javascript object>"
            ]
          },
          "metadata": {}
        },
        {
          "output_type": "display_data",
          "data": {
            "application/javascript": [
              "window[\"ee8295ec-77ce-11ec-84d6-0242ac1c0002\"] = google.colab.output.setActiveOutputArea(window[\"ee8244e8-77ce-11ec-84d6-0242ac1c0002\"]);\n",
              "//# sourceURL=js_a4cc9f442b"
            ],
            "text/plain": [
              "<IPython.core.display.Javascript object>"
            ]
          },
          "metadata": {}
        },
        {
          "output_type": "stream",
          "name": "stdout",
          "text": [
            "Mes\n"
          ]
        },
        {
          "output_type": "display_data",
          "data": {
            "application/javascript": [
              "window[\"ee83b5e4-77ce-11ec-84d6-0242ac1c0002\"] = google.colab.output.setActiveOutputArea(window[\"ee81f09c-77ce-11ec-84d6-0242ac1c0002\"]);\n",
              "//# sourceURL=js_1e72811b13"
            ],
            "text/plain": [
              "<IPython.core.display.Javascript object>"
            ]
          },
          "metadata": {}
        },
        {
          "output_type": "display_data",
          "data": {
            "application/javascript": [
              "window[\"ee85bcc2-77ce-11ec-84d6-0242ac1c0002\"] = google.colab.output.getActiveOutputArea();\n",
              "//# sourceURL=js_5d2d022f2c"
            ],
            "text/plain": [
              "<IPython.core.display.Javascript object>"
            ]
          },
          "metadata": {}
        },
        {
          "output_type": "display_data",
          "data": {
            "application/javascript": [
              "window[\"ee860bdc-77ce-11ec-84d6-0242ac1c0002\"] = document.querySelector(\"#id4-2-0\");\n",
              "//# sourceURL=js_7d8b66a1e8"
            ],
            "text/plain": [
              "<IPython.core.display.Javascript object>"
            ]
          },
          "metadata": {}
        },
        {
          "output_type": "display_data",
          "data": {
            "application/javascript": [
              "window[\"ee865fce-77ce-11ec-84d6-0242ac1c0002\"] = google.colab.output.setActiveOutputArea(window[\"ee860bdc-77ce-11ec-84d6-0242ac1c0002\"]);\n",
              "//# sourceURL=js_7d9d740a04"
            ],
            "text/plain": [
              "<IPython.core.display.Javascript object>"
            ]
          },
          "metadata": {}
        },
        {
          "output_type": "stream",
          "name": "stdout",
          "text": [
            "Temperatura\n"
          ]
        },
        {
          "output_type": "display_data",
          "data": {
            "application/javascript": [
              "window[\"ee889c30-77ce-11ec-84d6-0242ac1c0002\"] = google.colab.output.setActiveOutputArea(window[\"ee85bcc2-77ce-11ec-84d6-0242ac1c0002\"]);\n",
              "//# sourceURL=js_149a4d016d"
            ],
            "text/plain": [
              "<IPython.core.display.Javascript object>"
            ]
          },
          "metadata": {}
        },
        {
          "output_type": "display_data",
          "data": {
            "application/javascript": [
              "window[\"ee8a69e8-77ce-11ec-84d6-0242ac1c0002\"] = google.colab.output.getActiveOutputArea();\n",
              "//# sourceURL=js_c044a99895"
            ],
            "text/plain": [
              "<IPython.core.display.Javascript object>"
            ]
          },
          "metadata": {}
        },
        {
          "output_type": "display_data",
          "data": {
            "application/javascript": [
              "window[\"ee8abcea-77ce-11ec-84d6-0242ac1c0002\"] = document.querySelector(\"#id4-3-0\");\n",
              "//# sourceURL=js_21bd3aeb79"
            ],
            "text/plain": [
              "<IPython.core.display.Javascript object>"
            ]
          },
          "metadata": {}
        },
        {
          "output_type": "display_data",
          "data": {
            "application/javascript": [
              "window[\"ee8b1294-77ce-11ec-84d6-0242ac1c0002\"] = google.colab.output.setActiveOutputArea(window[\"ee8abcea-77ce-11ec-84d6-0242ac1c0002\"]);\n",
              "//# sourceURL=js_8eaf7d2c76"
            ],
            "text/plain": [
              "<IPython.core.display.Javascript object>"
            ]
          },
          "metadata": {}
        },
        {
          "output_type": "stream",
          "name": "stdout",
          "text": [
            "Precipitación\n"
          ]
        },
        {
          "output_type": "display_data",
          "data": {
            "application/javascript": [
              "window[\"ee8c7cba-77ce-11ec-84d6-0242ac1c0002\"] = google.colab.output.setActiveOutputArea(window[\"ee8a69e8-77ce-11ec-84d6-0242ac1c0002\"]);\n",
              "//# sourceURL=js_63ac5c87d5"
            ],
            "text/plain": [
              "<IPython.core.display.Javascript object>"
            ]
          },
          "metadata": {}
        },
        {
          "output_type": "display_data",
          "data": {
            "application/javascript": [
              "window[\"ee8e4c66-77ce-11ec-84d6-0242ac1c0002\"] = google.colab.output.getActiveOutputArea();\n",
              "//# sourceURL=js_94a4569347"
            ],
            "text/plain": [
              "<IPython.core.display.Javascript object>"
            ]
          },
          "metadata": {}
        },
        {
          "output_type": "display_data",
          "data": {
            "application/javascript": [
              "window[\"ee8eb318-77ce-11ec-84d6-0242ac1c0002\"] = document.querySelector(\"#id4-1-1\");\n",
              "//# sourceURL=js_d34ff1f8b9"
            ],
            "text/plain": [
              "<IPython.core.display.Javascript object>"
            ]
          },
          "metadata": {}
        },
        {
          "output_type": "display_data",
          "data": {
            "application/javascript": [
              "window[\"ee8f9472-77ce-11ec-84d6-0242ac1c0002\"] = google.colab.output.setActiveOutputArea(window[\"ee8eb318-77ce-11ec-84d6-0242ac1c0002\"]);\n",
              "//# sourceURL=js_063f4ff98a"
            ],
            "text/plain": [
              "<IPython.core.display.Javascript object>"
            ]
          },
          "metadata": {}
        },
        {
          "output_type": "stream",
          "name": "stdout",
          "text": [
            "-0.1610256845131922\n"
          ]
        },
        {
          "output_type": "display_data",
          "data": {
            "application/javascript": [
              "window[\"ee90c180-77ce-11ec-84d6-0242ac1c0002\"] = google.colab.output.setActiveOutputArea(window[\"ee8e4c66-77ce-11ec-84d6-0242ac1c0002\"]);\n",
              "//# sourceURL=js_10fb40b317"
            ],
            "text/plain": [
              "<IPython.core.display.Javascript object>"
            ]
          },
          "metadata": {}
        },
        {
          "output_type": "display_data",
          "data": {
            "application/javascript": [
              "window[\"ee927020-77ce-11ec-84d6-0242ac1c0002\"] = google.colab.output.getActiveOutputArea();\n",
              "//# sourceURL=js_1ce4f2a064"
            ],
            "text/plain": [
              "<IPython.core.display.Javascript object>"
            ]
          },
          "metadata": {}
        },
        {
          "output_type": "display_data",
          "data": {
            "application/javascript": [
              "window[\"ee92bfe4-77ce-11ec-84d6-0242ac1c0002\"] = document.querySelector(\"#id4-2-1\");\n",
              "//# sourceURL=js_20206e7322"
            ],
            "text/plain": [
              "<IPython.core.display.Javascript object>"
            ]
          },
          "metadata": {}
        },
        {
          "output_type": "display_data",
          "data": {
            "application/javascript": [
              "window[\"ee9311ec-77ce-11ec-84d6-0242ac1c0002\"] = google.colab.output.setActiveOutputArea(window[\"ee92bfe4-77ce-11ec-84d6-0242ac1c0002\"]);\n",
              "//# sourceURL=js_ecf93622de"
            ],
            "text/plain": [
              "<IPython.core.display.Javascript object>"
            ]
          },
          "metadata": {}
        },
        {
          "output_type": "stream",
          "name": "stdout",
          "text": [
            "-0.14062909092857145\n"
          ]
        },
        {
          "output_type": "display_data",
          "data": {
            "application/javascript": [
              "window[\"ee942ca8-77ce-11ec-84d6-0242ac1c0002\"] = google.colab.output.setActiveOutputArea(window[\"ee927020-77ce-11ec-84d6-0242ac1c0002\"]);\n",
              "//# sourceURL=js_52da3e2777"
            ],
            "text/plain": [
              "<IPython.core.display.Javascript object>"
            ]
          },
          "metadata": {}
        },
        {
          "output_type": "display_data",
          "data": {
            "application/javascript": [
              "window[\"ee95cc34-77ce-11ec-84d6-0242ac1c0002\"] = google.colab.output.getActiveOutputArea();\n",
              "//# sourceURL=js_7da76a851e"
            ],
            "text/plain": [
              "<IPython.core.display.Javascript object>"
            ]
          },
          "metadata": {}
        },
        {
          "output_type": "display_data",
          "data": {
            "application/javascript": [
              "window[\"ee9618ce-77ce-11ec-84d6-0242ac1c0002\"] = document.querySelector(\"#id4-3-1\");\n",
              "//# sourceURL=js_125c7d6164"
            ],
            "text/plain": [
              "<IPython.core.display.Javascript object>"
            ]
          },
          "metadata": {}
        },
        {
          "output_type": "display_data",
          "data": {
            "application/javascript": [
              "window[\"ee966220-77ce-11ec-84d6-0242ac1c0002\"] = google.colab.output.setActiveOutputArea(window[\"ee9618ce-77ce-11ec-84d6-0242ac1c0002\"]);\n",
              "//# sourceURL=js_7edb543c8b"
            ],
            "text/plain": [
              "<IPython.core.display.Javascript object>"
            ]
          },
          "metadata": {}
        },
        {
          "output_type": "stream",
          "name": "stdout",
          "text": [
            "-0.1413482068810138\n"
          ]
        },
        {
          "output_type": "display_data",
          "data": {
            "application/javascript": [
              "window[\"ee97895c-77ce-11ec-84d6-0242ac1c0002\"] = google.colab.output.setActiveOutputArea(window[\"ee95cc34-77ce-11ec-84d6-0242ac1c0002\"]);\n",
              "//# sourceURL=js_c3f93d338e"
            ],
            "text/plain": [
              "<IPython.core.display.Javascript object>"
            ]
          },
          "metadata": {}
        },
        {
          "output_type": "display_data",
          "data": {
            "application/javascript": [
              "window[\"ee9a3936-77ce-11ec-84d6-0242ac1c0002\"] = google.colab.output.getActiveOutputArea();\n",
              "//# sourceURL=js_99f749de62"
            ],
            "text/plain": [
              "<IPython.core.display.Javascript object>"
            ]
          },
          "metadata": {}
        },
        {
          "output_type": "display_data",
          "data": {
            "application/javascript": [
              "window[\"ee9aac40-77ce-11ec-84d6-0242ac1c0002\"] = document.querySelector(\"#id4-0-1\");\n",
              "//# sourceURL=js_7136c65191"
            ],
            "text/plain": [
              "<IPython.core.display.Javascript object>"
            ]
          },
          "metadata": {}
        },
        {
          "output_type": "display_data",
          "data": {
            "application/javascript": [
              "window[\"ee9b073a-77ce-11ec-84d6-0242ac1c0002\"] = google.colab.output.setActiveOutputArea(window[\"ee9aac40-77ce-11ec-84d6-0242ac1c0002\"]);\n",
              "//# sourceURL=js_85bf90d415"
            ],
            "text/plain": [
              "<IPython.core.display.Javascript object>"
            ]
          },
          "metadata": {}
        },
        {
          "output_type": "stream",
          "name": "stdout",
          "text": [
            "Beneficio real - Beneficio esperado\n"
          ]
        },
        {
          "output_type": "display_data",
          "data": {
            "application/javascript": [
              "window[\"ee9d298e-77ce-11ec-84d6-0242ac1c0002\"] = google.colab.output.setActiveOutputArea(window[\"ee9a3936-77ce-11ec-84d6-0242ac1c0002\"]);\n",
              "//# sourceURL=js_0847a6214e"
            ],
            "text/plain": [
              "<IPython.core.display.Javascript object>"
            ]
          },
          "metadata": {}
        }
      ]
    },
    {
      "cell_type": "markdown",
      "source": [
        "\n",
        "Al realizar inferencia, se calcula la diferencia del precio por kilogramo obtenido y del precio esperado ignorando la característica analizada. Un valor positivo indica que el valor de dicha característica ha aportado positivamente al precio, mientras que un valor negativo refleja una influencia negativa."
      ],
      "metadata": {
        "id": "6Wsv1WrwdQKs"
      }
    },
    {
      "cell_type": "code",
      "source": [
        "checkInfluence(9, 16.9, 0.0, \"BROCOLI\", \"Castilla La Mancha\", 1.0)\n",
        "checkInfluence(9, 5.9, 0.0, \"BROCOLI\", \"Castilla La Mancha\", 1.0)\n",
        "print()\n",
        "checkInfluence(1, 20.9, 2.0, \"SANDIA\", \"Castilla La Mancha\", 1.0)\n",
        "checkInfluence(1, 20.9, 0.0, \"SANDIA\", \"Castilla La Mancha\", 1.0)\n",
        "print()\n",
        "checkInfluence(4, 20.9, 0.0, \"ALCACHOFA\", \"Castilla La Mancha\", 4.0)\n",
        "checkInfluence(8, 20.9, 0.0, \"ALCACHOFA\", \"Castilla La Mancha\", 4.0)"
      ],
      "metadata": {
        "colab": {
          "base_uri": "https://localhost:8080/",
          "height": 651
        },
        "id": "ApsIgdQSKmDl",
        "outputId": "a1dcb30a-1627-4e72-b3c4-10e753430789"
      },
      "execution_count": 62,
      "outputs": [
        {
          "output_type": "stream",
          "name": "stdout",
          "text": [
            "Diferencia de beneficios\n"
          ]
        },
        {
          "output_type": "display_data",
          "data": {
            "text/html": [
              "<style>\n",
              "       table#id6, #id6 > tbody > tr > th, #id6 > tbody > tr > td {\n",
              "         border: 1px solid lightgray;\n",
              "         border-collapse:collapse;\n",
              "         \n",
              "        }</style>"
            ],
            "text/plain": [
              "<IPython.core.display.HTML object>"
            ]
          },
          "metadata": {}
        },
        {
          "output_type": "display_data",
          "data": {
            "text/html": [
              "<table id=id6><tr><th id=id6-0-0></th><th id=id6-0-1></th></tr><tr><th id=id6-1-0></th><td id=id6-1-1></td></tr><tr><th id=id6-2-0></th><td id=id6-2-1></td></tr><tr><th id=id6-3-0></th><td id=id6-3-1></td></tr></table>"
            ],
            "text/plain": [
              "<IPython.core.display.HTML object>"
            ]
          },
          "metadata": {}
        },
        {
          "output_type": "display_data",
          "data": {
            "application/javascript": [
              "window[\"eeb197ca-77ce-11ec-84d6-0242ac1c0002\"] = google.colab.output.getActiveOutputArea();\n",
              "//# sourceURL=js_9403fd48cf"
            ],
            "text/plain": [
              "<IPython.core.display.Javascript object>"
            ]
          },
          "metadata": {}
        },
        {
          "output_type": "display_data",
          "data": {
            "application/javascript": [
              "window[\"eeb1f0ee-77ce-11ec-84d6-0242ac1c0002\"] = document.querySelector(\"#id6-0-0\");\n",
              "//# sourceURL=js_b7b964815f"
            ],
            "text/plain": [
              "<IPython.core.display.Javascript object>"
            ]
          },
          "metadata": {}
        },
        {
          "output_type": "display_data",
          "data": {
            "application/javascript": [
              "window[\"eeb2b790-77ce-11ec-84d6-0242ac1c0002\"] = google.colab.output.setActiveOutputArea(window[\"eeb1f0ee-77ce-11ec-84d6-0242ac1c0002\"]);\n",
              "//# sourceURL=js_66d526befe"
            ],
            "text/plain": [
              "<IPython.core.display.Javascript object>"
            ]
          },
          "metadata": {}
        },
        {
          "output_type": "stream",
          "name": "stdout",
          "text": [
            "Característica que falta\n"
          ]
        },
        {
          "output_type": "display_data",
          "data": {
            "application/javascript": [
              "window[\"eeb42666-77ce-11ec-84d6-0242ac1c0002\"] = google.colab.output.setActiveOutputArea(window[\"eeb197ca-77ce-11ec-84d6-0242ac1c0002\"]);\n",
              "//# sourceURL=js_e5a2b743f0"
            ],
            "text/plain": [
              "<IPython.core.display.Javascript object>"
            ]
          },
          "metadata": {}
        },
        {
          "output_type": "display_data",
          "data": {
            "application/javascript": [
              "window[\"eeb62c2c-77ce-11ec-84d6-0242ac1c0002\"] = google.colab.output.getActiveOutputArea();\n",
              "//# sourceURL=js_9bdfb21d7e"
            ],
            "text/plain": [
              "<IPython.core.display.Javascript object>"
            ]
          },
          "metadata": {}
        },
        {
          "output_type": "display_data",
          "data": {
            "application/javascript": [
              "window[\"eeb70ae8-77ce-11ec-84d6-0242ac1c0002\"] = document.querySelector(\"#id6-1-0\");\n",
              "//# sourceURL=js_049eb684e6"
            ],
            "text/plain": [
              "<IPython.core.display.Javascript object>"
            ]
          },
          "metadata": {}
        },
        {
          "output_type": "display_data",
          "data": {
            "application/javascript": [
              "window[\"eeb75d86-77ce-11ec-84d6-0242ac1c0002\"] = google.colab.output.setActiveOutputArea(window[\"eeb70ae8-77ce-11ec-84d6-0242ac1c0002\"]);\n",
              "//# sourceURL=js_8c5daf16ab"
            ],
            "text/plain": [
              "<IPython.core.display.Javascript object>"
            ]
          },
          "metadata": {}
        },
        {
          "output_type": "stream",
          "name": "stdout",
          "text": [
            "Mes\n"
          ]
        },
        {
          "output_type": "display_data",
          "data": {
            "application/javascript": [
              "window[\"eeb97094-77ce-11ec-84d6-0242ac1c0002\"] = google.colab.output.setActiveOutputArea(window[\"eeb62c2c-77ce-11ec-84d6-0242ac1c0002\"]);\n",
              "//# sourceURL=js_f7c9607d49"
            ],
            "text/plain": [
              "<IPython.core.display.Javascript object>"
            ]
          },
          "metadata": {}
        },
        {
          "output_type": "display_data",
          "data": {
            "application/javascript": [
              "window[\"eebb2cc2-77ce-11ec-84d6-0242ac1c0002\"] = google.colab.output.getActiveOutputArea();\n",
              "//# sourceURL=js_84793aca23"
            ],
            "text/plain": [
              "<IPython.core.display.Javascript object>"
            ]
          },
          "metadata": {}
        },
        {
          "output_type": "display_data",
          "data": {
            "application/javascript": [
              "window[\"eebb763c-77ce-11ec-84d6-0242ac1c0002\"] = document.querySelector(\"#id6-2-0\");\n",
              "//# sourceURL=js_8c6f79d08f"
            ],
            "text/plain": [
              "<IPython.core.display.Javascript object>"
            ]
          },
          "metadata": {}
        },
        {
          "output_type": "display_data",
          "data": {
            "application/javascript": [
              "window[\"eebbf350-77ce-11ec-84d6-0242ac1c0002\"] = google.colab.output.setActiveOutputArea(window[\"eebb763c-77ce-11ec-84d6-0242ac1c0002\"]);\n",
              "//# sourceURL=js_bf588063e3"
            ],
            "text/plain": [
              "<IPython.core.display.Javascript object>"
            ]
          },
          "metadata": {}
        },
        {
          "output_type": "stream",
          "name": "stdout",
          "text": [
            "Temperatura\n"
          ]
        },
        {
          "output_type": "display_data",
          "data": {
            "application/javascript": [
              "window[\"eebd15be-77ce-11ec-84d6-0242ac1c0002\"] = google.colab.output.setActiveOutputArea(window[\"eebb2cc2-77ce-11ec-84d6-0242ac1c0002\"]);\n",
              "//# sourceURL=js_0640ec39a4"
            ],
            "text/plain": [
              "<IPython.core.display.Javascript object>"
            ]
          },
          "metadata": {}
        },
        {
          "output_type": "display_data",
          "data": {
            "application/javascript": [
              "window[\"eebedc64-77ce-11ec-84d6-0242ac1c0002\"] = google.colab.output.getActiveOutputArea();\n",
              "//# sourceURL=js_67bb03c4c4"
            ],
            "text/plain": [
              "<IPython.core.display.Javascript object>"
            ]
          },
          "metadata": {}
        },
        {
          "output_type": "display_data",
          "data": {
            "application/javascript": [
              "window[\"eebf3ace-77ce-11ec-84d6-0242ac1c0002\"] = document.querySelector(\"#id6-3-0\");\n",
              "//# sourceURL=js_4edb0167f3"
            ],
            "text/plain": [
              "<IPython.core.display.Javascript object>"
            ]
          },
          "metadata": {}
        },
        {
          "output_type": "display_data",
          "data": {
            "application/javascript": [
              "window[\"eebf9640-77ce-11ec-84d6-0242ac1c0002\"] = google.colab.output.setActiveOutputArea(window[\"eebf3ace-77ce-11ec-84d6-0242ac1c0002\"]);\n",
              "//# sourceURL=js_ba4df89a0e"
            ],
            "text/plain": [
              "<IPython.core.display.Javascript object>"
            ]
          },
          "metadata": {}
        },
        {
          "output_type": "stream",
          "name": "stdout",
          "text": [
            "Precipitación\n"
          ]
        },
        {
          "output_type": "display_data",
          "data": {
            "application/javascript": [
              "window[\"eec26a1e-77ce-11ec-84d6-0242ac1c0002\"] = google.colab.output.setActiveOutputArea(window[\"eebedc64-77ce-11ec-84d6-0242ac1c0002\"]);\n",
              "//# sourceURL=js_2c9fb6f000"
            ],
            "text/plain": [
              "<IPython.core.display.Javascript object>"
            ]
          },
          "metadata": {}
        },
        {
          "output_type": "display_data",
          "data": {
            "application/javascript": [
              "window[\"eec51430-77ce-11ec-84d6-0242ac1c0002\"] = google.colab.output.getActiveOutputArea();\n",
              "//# sourceURL=js_5bc00a8a13"
            ],
            "text/plain": [
              "<IPython.core.display.Javascript object>"
            ]
          },
          "metadata": {}
        },
        {
          "output_type": "display_data",
          "data": {
            "application/javascript": [
              "window[\"eec56872-77ce-11ec-84d6-0242ac1c0002\"] = document.querySelector(\"#id6-1-1\");\n",
              "//# sourceURL=js_7a9a72e5b3"
            ],
            "text/plain": [
              "<IPython.core.display.Javascript object>"
            ]
          },
          "metadata": {}
        },
        {
          "output_type": "display_data",
          "data": {
            "application/javascript": [
              "window[\"eec6d856-77ce-11ec-84d6-0242ac1c0002\"] = google.colab.output.setActiveOutputArea(window[\"eec56872-77ce-11ec-84d6-0242ac1c0002\"]);\n",
              "//# sourceURL=js_6faaa57690"
            ],
            "text/plain": [
              "<IPython.core.display.Javascript object>"
            ]
          },
          "metadata": {}
        },
        {
          "output_type": "stream",
          "name": "stdout",
          "text": [
            "-1.5943840579999997\n"
          ]
        },
        {
          "output_type": "display_data",
          "data": {
            "application/javascript": [
              "window[\"eec8f514-77ce-11ec-84d6-0242ac1c0002\"] = google.colab.output.setActiveOutputArea(window[\"eec51430-77ce-11ec-84d6-0242ac1c0002\"]);\n",
              "//# sourceURL=js_c26c9d45a7"
            ],
            "text/plain": [
              "<IPython.core.display.Javascript object>"
            ]
          },
          "metadata": {}
        },
        {
          "output_type": "display_data",
          "data": {
            "application/javascript": [
              "window[\"eecb3b94-77ce-11ec-84d6-0242ac1c0002\"] = google.colab.output.getActiveOutputArea();\n",
              "//# sourceURL=js_e18678c844"
            ],
            "text/plain": [
              "<IPython.core.display.Javascript object>"
            ]
          },
          "metadata": {}
        },
        {
          "output_type": "display_data",
          "data": {
            "application/javascript": [
              "window[\"eecb9b2a-77ce-11ec-84d6-0242ac1c0002\"] = document.querySelector(\"#id6-2-1\");\n",
              "//# sourceURL=js_7c0e0ae815"
            ],
            "text/plain": [
              "<IPython.core.display.Javascript object>"
            ]
          },
          "metadata": {}
        },
        {
          "output_type": "display_data",
          "data": {
            "application/javascript": [
              "window[\"eecbf2f0-77ce-11ec-84d6-0242ac1c0002\"] = google.colab.output.setActiveOutputArea(window[\"eecb9b2a-77ce-11ec-84d6-0242ac1c0002\"]);\n",
              "//# sourceURL=js_4eef417441"
            ],
            "text/plain": [
              "<IPython.core.display.Javascript object>"
            ]
          },
          "metadata": {}
        },
        {
          "output_type": "stream",
          "name": "stdout",
          "text": [
            "-0.17931547612499998\n"
          ]
        },
        {
          "output_type": "display_data",
          "data": {
            "application/javascript": [
              "window[\"eece86a0-77ce-11ec-84d6-0242ac1c0002\"] = google.colab.output.setActiveOutputArea(window[\"eecb3b94-77ce-11ec-84d6-0242ac1c0002\"]);\n",
              "//# sourceURL=js_390979da9d"
            ],
            "text/plain": [
              "<IPython.core.display.Javascript object>"
            ]
          },
          "metadata": {}
        },
        {
          "output_type": "display_data",
          "data": {
            "application/javascript": [
              "window[\"eed0e1de-77ce-11ec-84d6-0242ac1c0002\"] = google.colab.output.getActiveOutputArea();\n",
              "//# sourceURL=js_50c840587f"
            ],
            "text/plain": [
              "<IPython.core.display.Javascript object>"
            ]
          },
          "metadata": {}
        },
        {
          "output_type": "display_data",
          "data": {
            "application/javascript": [
              "window[\"eed1434a-77ce-11ec-84d6-0242ac1c0002\"] = document.querySelector(\"#id6-3-1\");\n",
              "//# sourceURL=js_9433305992"
            ],
            "text/plain": [
              "<IPython.core.display.Javascript object>"
            ]
          },
          "metadata": {}
        },
        {
          "output_type": "display_data",
          "data": {
            "application/javascript": [
              "window[\"eed1a47a-77ce-11ec-84d6-0242ac1c0002\"] = google.colab.output.setActiveOutputArea(window[\"eed1434a-77ce-11ec-84d6-0242ac1c0002\"]);\n",
              "//# sourceURL=js_c15e843dce"
            ],
            "text/plain": [
              "<IPython.core.display.Javascript object>"
            ]
          },
          "metadata": {}
        },
        {
          "output_type": "stream",
          "name": "stdout",
          "text": [
            "-0.30629132176566887\n"
          ]
        },
        {
          "output_type": "display_data",
          "data": {
            "application/javascript": [
              "window[\"eed2edc6-77ce-11ec-84d6-0242ac1c0002\"] = google.colab.output.setActiveOutputArea(window[\"eed0e1de-77ce-11ec-84d6-0242ac1c0002\"]);\n",
              "//# sourceURL=js_b60950a3bb"
            ],
            "text/plain": [
              "<IPython.core.display.Javascript object>"
            ]
          },
          "metadata": {}
        },
        {
          "output_type": "display_data",
          "data": {
            "application/javascript": [
              "window[\"eed4d028-77ce-11ec-84d6-0242ac1c0002\"] = google.colab.output.getActiveOutputArea();\n",
              "//# sourceURL=js_b2d6e864c9"
            ],
            "text/plain": [
              "<IPython.core.display.Javascript object>"
            ]
          },
          "metadata": {}
        },
        {
          "output_type": "display_data",
          "data": {
            "application/javascript": [
              "window[\"eed52294-77ce-11ec-84d6-0242ac1c0002\"] = document.querySelector(\"#id6-0-1\");\n",
              "//# sourceURL=js_a3365b3ec5"
            ],
            "text/plain": [
              "<IPython.core.display.Javascript object>"
            ]
          },
          "metadata": {}
        },
        {
          "output_type": "display_data",
          "data": {
            "application/javascript": [
              "window[\"eed57c58-77ce-11ec-84d6-0242ac1c0002\"] = google.colab.output.setActiveOutputArea(window[\"eed52294-77ce-11ec-84d6-0242ac1c0002\"]);\n",
              "//# sourceURL=js_168f5a4690"
            ],
            "text/plain": [
              "<IPython.core.display.Javascript object>"
            ]
          },
          "metadata": {}
        },
        {
          "output_type": "stream",
          "name": "stdout",
          "text": [
            "Beneficio real - Beneficio esperado\n"
          ]
        },
        {
          "output_type": "display_data",
          "data": {
            "application/javascript": [
              "window[\"eed6c108-77ce-11ec-84d6-0242ac1c0002\"] = google.colab.output.setActiveOutputArea(window[\"eed4d028-77ce-11ec-84d6-0242ac1c0002\"]);\n",
              "//# sourceURL=js_8d852a15ab"
            ],
            "text/plain": [
              "<IPython.core.display.Javascript object>"
            ]
          },
          "metadata": {}
        },
        {
          "output_type": "stream",
          "name": "stdout",
          "text": [
            "Diferencia de beneficios\n"
          ]
        },
        {
          "output_type": "display_data",
          "data": {
            "text/html": [
              "<style>\n",
              "       table#id8, #id8 > tbody > tr > th, #id8 > tbody > tr > td {\n",
              "         border: 1px solid lightgray;\n",
              "         border-collapse:collapse;\n",
              "         \n",
              "        }</style>"
            ],
            "text/plain": [
              "<IPython.core.display.HTML object>"
            ]
          },
          "metadata": {}
        },
        {
          "output_type": "display_data",
          "data": {
            "text/html": [
              "<table id=id8><tr><th id=id8-0-0></th><th id=id8-0-1></th></tr><tr><th id=id8-1-0></th><td id=id8-1-1></td></tr><tr><th id=id8-2-0></th><td id=id8-2-1></td></tr><tr><th id=id8-3-0></th><td id=id8-3-1></td></tr></table>"
            ],
            "text/plain": [
              "<IPython.core.display.HTML object>"
            ]
          },
          "metadata": {}
        },
        {
          "output_type": "display_data",
          "data": {
            "application/javascript": [
              "window[\"eee81a16-77ce-11ec-84d6-0242ac1c0002\"] = google.colab.output.getActiveOutputArea();\n",
              "//# sourceURL=js_0a0753a860"
            ],
            "text/plain": [
              "<IPython.core.display.Javascript object>"
            ]
          },
          "metadata": {}
        },
        {
          "output_type": "display_data",
          "data": {
            "application/javascript": [
              "window[\"eee87916-77ce-11ec-84d6-0242ac1c0002\"] = document.querySelector(\"#id8-0-0\");\n",
              "//# sourceURL=js_63b7376ca6"
            ],
            "text/plain": [
              "<IPython.core.display.Javascript object>"
            ]
          },
          "metadata": {}
        },
        {
          "output_type": "display_data",
          "data": {
            "application/javascript": [
              "window[\"eee8cc36-77ce-11ec-84d6-0242ac1c0002\"] = google.colab.output.setActiveOutputArea(window[\"eee87916-77ce-11ec-84d6-0242ac1c0002\"]);\n",
              "//# sourceURL=js_3205d66171"
            ],
            "text/plain": [
              "<IPython.core.display.Javascript object>"
            ]
          },
          "metadata": {}
        },
        {
          "output_type": "stream",
          "name": "stdout",
          "text": [
            "Característica que falta\n"
          ]
        },
        {
          "output_type": "display_data",
          "data": {
            "application/javascript": [
              "window[\"eee9ed28-77ce-11ec-84d6-0242ac1c0002\"] = google.colab.output.setActiveOutputArea(window[\"eee81a16-77ce-11ec-84d6-0242ac1c0002\"]);\n",
              "//# sourceURL=js_be637b15cb"
            ],
            "text/plain": [
              "<IPython.core.display.Javascript object>"
            ]
          },
          "metadata": {}
        },
        {
          "output_type": "display_data",
          "data": {
            "application/javascript": [
              "window[\"eeebddc2-77ce-11ec-84d6-0242ac1c0002\"] = google.colab.output.getActiveOutputArea();\n",
              "//# sourceURL=js_e097dc4f91"
            ],
            "text/plain": [
              "<IPython.core.display.Javascript object>"
            ]
          },
          "metadata": {}
        },
        {
          "output_type": "display_data",
          "data": {
            "application/javascript": [
              "window[\"eeec31be-77ce-11ec-84d6-0242ac1c0002\"] = document.querySelector(\"#id8-1-0\");\n",
              "//# sourceURL=js_881ffd0496"
            ],
            "text/plain": [
              "<IPython.core.display.Javascript object>"
            ]
          },
          "metadata": {}
        },
        {
          "output_type": "display_data",
          "data": {
            "application/javascript": [
              "window[\"eeec87f4-77ce-11ec-84d6-0242ac1c0002\"] = google.colab.output.setActiveOutputArea(window[\"eeec31be-77ce-11ec-84d6-0242ac1c0002\"]);\n",
              "//# sourceURL=js_fe340f9396"
            ],
            "text/plain": [
              "<IPython.core.display.Javascript object>"
            ]
          },
          "metadata": {}
        },
        {
          "output_type": "stream",
          "name": "stdout",
          "text": [
            "Mes\n"
          ]
        },
        {
          "output_type": "display_data",
          "data": {
            "application/javascript": [
              "window[\"eeedd30c-77ce-11ec-84d6-0242ac1c0002\"] = google.colab.output.setActiveOutputArea(window[\"eeebddc2-77ce-11ec-84d6-0242ac1c0002\"]);\n",
              "//# sourceURL=js_5d8162684a"
            ],
            "text/plain": [
              "<IPython.core.display.Javascript object>"
            ]
          },
          "metadata": {}
        },
        {
          "output_type": "display_data",
          "data": {
            "application/javascript": [
              "window[\"eeef9354-77ce-11ec-84d6-0242ac1c0002\"] = google.colab.output.getActiveOutputArea();\n",
              "//# sourceURL=js_86a3c4fcb5"
            ],
            "text/plain": [
              "<IPython.core.display.Javascript object>"
            ]
          },
          "metadata": {}
        },
        {
          "output_type": "display_data",
          "data": {
            "application/javascript": [
              "window[\"eeeff132-77ce-11ec-84d6-0242ac1c0002\"] = document.querySelector(\"#id8-2-0\");\n",
              "//# sourceURL=js_1c604df777"
            ],
            "text/plain": [
              "<IPython.core.display.Javascript object>"
            ]
          },
          "metadata": {}
        },
        {
          "output_type": "display_data",
          "data": {
            "application/javascript": [
              "window[\"eef04538-77ce-11ec-84d6-0242ac1c0002\"] = google.colab.output.setActiveOutputArea(window[\"eeeff132-77ce-11ec-84d6-0242ac1c0002\"]);\n",
              "//# sourceURL=js_d554e5c85f"
            ],
            "text/plain": [
              "<IPython.core.display.Javascript object>"
            ]
          },
          "metadata": {}
        },
        {
          "output_type": "stream",
          "name": "stdout",
          "text": [
            "Temperatura\n"
          ]
        },
        {
          "output_type": "display_data",
          "data": {
            "application/javascript": [
              "window[\"eef2766e-77ce-11ec-84d6-0242ac1c0002\"] = google.colab.output.setActiveOutputArea(window[\"eeef9354-77ce-11ec-84d6-0242ac1c0002\"]);\n",
              "//# sourceURL=js_2e6adf92d2"
            ],
            "text/plain": [
              "<IPython.core.display.Javascript object>"
            ]
          },
          "metadata": {}
        },
        {
          "output_type": "display_data",
          "data": {
            "application/javascript": [
              "window[\"eef46aaa-77ce-11ec-84d6-0242ac1c0002\"] = google.colab.output.getActiveOutputArea();\n",
              "//# sourceURL=js_df3d51e667"
            ],
            "text/plain": [
              "<IPython.core.display.Javascript object>"
            ]
          },
          "metadata": {}
        },
        {
          "output_type": "display_data",
          "data": {
            "application/javascript": [
              "window[\"eef4c1d0-77ce-11ec-84d6-0242ac1c0002\"] = document.querySelector(\"#id8-3-0\");\n",
              "//# sourceURL=js_3359ca9770"
            ],
            "text/plain": [
              "<IPython.core.display.Javascript object>"
            ]
          },
          "metadata": {}
        },
        {
          "output_type": "display_data",
          "data": {
            "application/javascript": [
              "window[\"eef51b1c-77ce-11ec-84d6-0242ac1c0002\"] = google.colab.output.setActiveOutputArea(window[\"eef4c1d0-77ce-11ec-84d6-0242ac1c0002\"]);\n",
              "//# sourceURL=js_5102ca08dc"
            ],
            "text/plain": [
              "<IPython.core.display.Javascript object>"
            ]
          },
          "metadata": {}
        },
        {
          "output_type": "stream",
          "name": "stdout",
          "text": [
            "Precipitación\n"
          ]
        },
        {
          "output_type": "display_data",
          "data": {
            "application/javascript": [
              "window[\"eef65450-77ce-11ec-84d6-0242ac1c0002\"] = google.colab.output.setActiveOutputArea(window[\"eef46aaa-77ce-11ec-84d6-0242ac1c0002\"]);\n",
              "//# sourceURL=js_d189f1ce93"
            ],
            "text/plain": [
              "<IPython.core.display.Javascript object>"
            ]
          },
          "metadata": {}
        },
        {
          "output_type": "display_data",
          "data": {
            "application/javascript": [
              "window[\"eef824f6-77ce-11ec-84d6-0242ac1c0002\"] = google.colab.output.getActiveOutputArea();\n",
              "//# sourceURL=js_b5385f0f34"
            ],
            "text/plain": [
              "<IPython.core.display.Javascript object>"
            ]
          },
          "metadata": {}
        },
        {
          "output_type": "display_data",
          "data": {
            "application/javascript": [
              "window[\"eef87a3c-77ce-11ec-84d6-0242ac1c0002\"] = document.querySelector(\"#id8-1-1\");\n",
              "//# sourceURL=js_b2fb7fb845"
            ],
            "text/plain": [
              "<IPython.core.display.Javascript object>"
            ]
          },
          "metadata": {}
        },
        {
          "output_type": "display_data",
          "data": {
            "application/javascript": [
              "window[\"eef8c758-77ce-11ec-84d6-0242ac1c0002\"] = google.colab.output.setActiveOutputArea(window[\"eef87a3c-77ce-11ec-84d6-0242ac1c0002\"]);\n",
              "//# sourceURL=js_54b8e45237"
            ],
            "text/plain": [
              "<IPython.core.display.Javascript object>"
            ]
          },
          "metadata": {}
        },
        {
          "output_type": "stream",
          "name": "stdout",
          "text": [
            "-0.5613636364999999\n"
          ]
        },
        {
          "output_type": "display_data",
          "data": {
            "application/javascript": [
              "window[\"eefa0474-77ce-11ec-84d6-0242ac1c0002\"] = google.colab.output.setActiveOutputArea(window[\"eef824f6-77ce-11ec-84d6-0242ac1c0002\"]);\n",
              "//# sourceURL=js_5b086e1e60"
            ],
            "text/plain": [
              "<IPython.core.display.Javascript object>"
            ]
          },
          "metadata": {}
        },
        {
          "output_type": "display_data",
          "data": {
            "application/javascript": [
              "window[\"eefbdfba-77ce-11ec-84d6-0242ac1c0002\"] = google.colab.output.getActiveOutputArea();\n",
              "//# sourceURL=js_f179f8b7cd"
            ],
            "text/plain": [
              "<IPython.core.display.Javascript object>"
            ]
          },
          "metadata": {}
        },
        {
          "output_type": "display_data",
          "data": {
            "application/javascript": [
              "window[\"eefc369a-77ce-11ec-84d6-0242ac1c0002\"] = document.querySelector(\"#id8-2-1\");\n",
              "//# sourceURL=js_c953a49633"
            ],
            "text/plain": [
              "<IPython.core.display.Javascript object>"
            ]
          },
          "metadata": {}
        },
        {
          "output_type": "display_data",
          "data": {
            "application/javascript": [
              "window[\"eefc8b36-77ce-11ec-84d6-0242ac1c0002\"] = google.colab.output.setActiveOutputArea(window[\"eefc369a-77ce-11ec-84d6-0242ac1c0002\"]);\n",
              "//# sourceURL=js_0f5f5a69fd"
            ],
            "text/plain": [
              "<IPython.core.display.Javascript object>"
            ]
          },
          "metadata": {}
        },
        {
          "output_type": "stream",
          "name": "stdout",
          "text": [
            "-0.17931547612499998\n"
          ]
        },
        {
          "output_type": "display_data",
          "data": {
            "application/javascript": [
              "window[\"eefdd3e2-77ce-11ec-84d6-0242ac1c0002\"] = google.colab.output.setActiveOutputArea(window[\"eefbdfba-77ce-11ec-84d6-0242ac1c0002\"]);\n",
              "//# sourceURL=js_e97eee0d09"
            ],
            "text/plain": [
              "<IPython.core.display.Javascript object>"
            ]
          },
          "metadata": {}
        },
        {
          "output_type": "display_data",
          "data": {
            "application/javascript": [
              "window[\"eeffa348-77ce-11ec-84d6-0242ac1c0002\"] = google.colab.output.getActiveOutputArea();\n",
              "//# sourceURL=js_fe6a048b90"
            ],
            "text/plain": [
              "<IPython.core.display.Javascript object>"
            ]
          },
          "metadata": {}
        },
        {
          "output_type": "display_data",
          "data": {
            "application/javascript": [
              "window[\"eefff0b4-77ce-11ec-84d6-0242ac1c0002\"] = document.querySelector(\"#id8-3-1\");\n",
              "//# sourceURL=js_eabec79422"
            ],
            "text/plain": [
              "<IPython.core.display.Javascript object>"
            ]
          },
          "metadata": {}
        },
        {
          "output_type": "display_data",
          "data": {
            "application/javascript": [
              "window[\"ef005112-77ce-11ec-84d6-0242ac1c0002\"] = google.colab.output.setActiveOutputArea(window[\"eefff0b4-77ce-11ec-84d6-0242ac1c0002\"]);\n",
              "//# sourceURL=js_a657cfd792"
            ],
            "text/plain": [
              "<IPython.core.display.Javascript object>"
            ]
          },
          "metadata": {}
        },
        {
          "output_type": "stream",
          "name": "stdout",
          "text": [
            "-0.38709197551566876\n"
          ]
        },
        {
          "output_type": "display_data",
          "data": {
            "application/javascript": [
              "window[\"ef018564-77ce-11ec-84d6-0242ac1c0002\"] = google.colab.output.setActiveOutputArea(window[\"eeffa348-77ce-11ec-84d6-0242ac1c0002\"]);\n",
              "//# sourceURL=js_cc15f394e5"
            ],
            "text/plain": [
              "<IPython.core.display.Javascript object>"
            ]
          },
          "metadata": {}
        },
        {
          "output_type": "display_data",
          "data": {
            "application/javascript": [
              "window[\"ef0321c6-77ce-11ec-84d6-0242ac1c0002\"] = google.colab.output.getActiveOutputArea();\n",
              "//# sourceURL=js_f50c1158cd"
            ],
            "text/plain": [
              "<IPython.core.display.Javascript object>"
            ]
          },
          "metadata": {}
        },
        {
          "output_type": "display_data",
          "data": {
            "application/javascript": [
              "window[\"ef038724-77ce-11ec-84d6-0242ac1c0002\"] = document.querySelector(\"#id8-0-1\");\n",
              "//# sourceURL=js_4c95b9d716"
            ],
            "text/plain": [
              "<IPython.core.display.Javascript object>"
            ]
          },
          "metadata": {}
        },
        {
          "output_type": "display_data",
          "data": {
            "application/javascript": [
              "window[\"ef03da4e-77ce-11ec-84d6-0242ac1c0002\"] = google.colab.output.setActiveOutputArea(window[\"ef038724-77ce-11ec-84d6-0242ac1c0002\"]);\n",
              "//# sourceURL=js_59641d23f4"
            ],
            "text/plain": [
              "<IPython.core.display.Javascript object>"
            ]
          },
          "metadata": {}
        },
        {
          "output_type": "stream",
          "name": "stdout",
          "text": [
            "Beneficio real - Beneficio esperado\n"
          ]
        },
        {
          "output_type": "display_data",
          "data": {
            "application/javascript": [
              "window[\"ef0512c4-77ce-11ec-84d6-0242ac1c0002\"] = google.colab.output.setActiveOutputArea(window[\"ef0321c6-77ce-11ec-84d6-0242ac1c0002\"]);\n",
              "//# sourceURL=js_deef6d03ae"
            ],
            "text/plain": [
              "<IPython.core.display.Javascript object>"
            ]
          },
          "metadata": {}
        },
        {
          "output_type": "stream",
          "name": "stdout",
          "text": [
            "\n",
            "Diferencia de beneficios\n"
          ]
        },
        {
          "output_type": "display_data",
          "data": {
            "text/html": [
              "<style>\n",
              "       table#id10, #id10 > tbody > tr > th, #id10 > tbody > tr > td {\n",
              "         border: 1px solid lightgray;\n",
              "         border-collapse:collapse;\n",
              "         \n",
              "        }</style>"
            ],
            "text/plain": [
              "<IPython.core.display.HTML object>"
            ]
          },
          "metadata": {}
        },
        {
          "output_type": "display_data",
          "data": {
            "text/html": [
              "<table id=id10><tr><th id=id10-0-0></th><th id=id10-0-1></th></tr><tr><th id=id10-1-0></th><td id=id10-1-1></td></tr><tr><th id=id10-2-0></th><td id=id10-2-1></td></tr><tr><th id=id10-3-0></th><td id=id10-3-1></td></tr></table>"
            ],
            "text/plain": [
              "<IPython.core.display.HTML object>"
            ]
          },
          "metadata": {}
        },
        {
          "output_type": "display_data",
          "data": {
            "application/javascript": [
              "window[\"ef15dc26-77ce-11ec-84d6-0242ac1c0002\"] = google.colab.output.getActiveOutputArea();\n",
              "//# sourceURL=js_56c86c61e9"
            ],
            "text/plain": [
              "<IPython.core.display.Javascript object>"
            ]
          },
          "metadata": {}
        },
        {
          "output_type": "display_data",
          "data": {
            "application/javascript": [
              "window[\"ef16454e-77ce-11ec-84d6-0242ac1c0002\"] = document.querySelector(\"#id10-0-0\");\n",
              "//# sourceURL=js_d343d3f19c"
            ],
            "text/plain": [
              "<IPython.core.display.Javascript object>"
            ]
          },
          "metadata": {}
        },
        {
          "output_type": "display_data",
          "data": {
            "application/javascript": [
              "window[\"ef16a4ee-77ce-11ec-84d6-0242ac1c0002\"] = google.colab.output.setActiveOutputArea(window[\"ef16454e-77ce-11ec-84d6-0242ac1c0002\"]);\n",
              "//# sourceURL=js_d9f3a2e969"
            ],
            "text/plain": [
              "<IPython.core.display.Javascript object>"
            ]
          },
          "metadata": {}
        },
        {
          "output_type": "stream",
          "name": "stdout",
          "text": [
            "Característica que falta\n"
          ]
        },
        {
          "output_type": "display_data",
          "data": {
            "application/javascript": [
              "window[\"ef17c770-77ce-11ec-84d6-0242ac1c0002\"] = google.colab.output.setActiveOutputArea(window[\"ef15dc26-77ce-11ec-84d6-0242ac1c0002\"]);\n",
              "//# sourceURL=js_32fcb1674a"
            ],
            "text/plain": [
              "<IPython.core.display.Javascript object>"
            ]
          },
          "metadata": {}
        },
        {
          "output_type": "display_data",
          "data": {
            "application/javascript": [
              "window[\"ef19b422-77ce-11ec-84d6-0242ac1c0002\"] = google.colab.output.getActiveOutputArea();\n",
              "//# sourceURL=js_d902992684"
            ],
            "text/plain": [
              "<IPython.core.display.Javascript object>"
            ]
          },
          "metadata": {}
        },
        {
          "output_type": "display_data",
          "data": {
            "application/javascript": [
              "window[\"ef1a0fbc-77ce-11ec-84d6-0242ac1c0002\"] = document.querySelector(\"#id10-1-0\");\n",
              "//# sourceURL=js_f60cf642d9"
            ],
            "text/plain": [
              "<IPython.core.display.Javascript object>"
            ]
          },
          "metadata": {}
        },
        {
          "output_type": "display_data",
          "data": {
            "application/javascript": [
              "window[\"ef1a699e-77ce-11ec-84d6-0242ac1c0002\"] = google.colab.output.setActiveOutputArea(window[\"ef1a0fbc-77ce-11ec-84d6-0242ac1c0002\"]);\n",
              "//# sourceURL=js_06672c6818"
            ],
            "text/plain": [
              "<IPython.core.display.Javascript object>"
            ]
          },
          "metadata": {}
        },
        {
          "output_type": "stream",
          "name": "stdout",
          "text": [
            "Mes\n"
          ]
        },
        {
          "output_type": "display_data",
          "data": {
            "application/javascript": [
              "window[\"ef1bc212-77ce-11ec-84d6-0242ac1c0002\"] = google.colab.output.setActiveOutputArea(window[\"ef19b422-77ce-11ec-84d6-0242ac1c0002\"]);\n",
              "//# sourceURL=js_25e9671d10"
            ],
            "text/plain": [
              "<IPython.core.display.Javascript object>"
            ]
          },
          "metadata": {}
        },
        {
          "output_type": "display_data",
          "data": {
            "application/javascript": [
              "window[\"ef1dbf86-77ce-11ec-84d6-0242ac1c0002\"] = google.colab.output.getActiveOutputArea();\n",
              "//# sourceURL=js_aff14ac5da"
            ],
            "text/plain": [
              "<IPython.core.display.Javascript object>"
            ]
          },
          "metadata": {}
        },
        {
          "output_type": "display_data",
          "data": {
            "application/javascript": [
              "window[\"ef1e1ab2-77ce-11ec-84d6-0242ac1c0002\"] = document.querySelector(\"#id10-2-0\");\n",
              "//# sourceURL=js_c1e9ae3f78"
            ],
            "text/plain": [
              "<IPython.core.display.Javascript object>"
            ]
          },
          "metadata": {}
        },
        {
          "output_type": "display_data",
          "data": {
            "application/javascript": [
              "window[\"ef1e6c9c-77ce-11ec-84d6-0242ac1c0002\"] = google.colab.output.setActiveOutputArea(window[\"ef1e1ab2-77ce-11ec-84d6-0242ac1c0002\"]);\n",
              "//# sourceURL=js_1d66368b70"
            ],
            "text/plain": [
              "<IPython.core.display.Javascript object>"
            ]
          },
          "metadata": {}
        },
        {
          "output_type": "stream",
          "name": "stdout",
          "text": [
            "Temperatura\n"
          ]
        },
        {
          "output_type": "display_data",
          "data": {
            "application/javascript": [
              "window[\"ef1fd1e0-77ce-11ec-84d6-0242ac1c0002\"] = google.colab.output.setActiveOutputArea(window[\"ef1dbf86-77ce-11ec-84d6-0242ac1c0002\"]);\n",
              "//# sourceURL=js_f2a2c62658"
            ],
            "text/plain": [
              "<IPython.core.display.Javascript object>"
            ]
          },
          "metadata": {}
        },
        {
          "output_type": "display_data",
          "data": {
            "application/javascript": [
              "window[\"ef21afa6-77ce-11ec-84d6-0242ac1c0002\"] = google.colab.output.getActiveOutputArea();\n",
              "//# sourceURL=js_dd541d0e4c"
            ],
            "text/plain": [
              "<IPython.core.display.Javascript object>"
            ]
          },
          "metadata": {}
        },
        {
          "output_type": "display_data",
          "data": {
            "application/javascript": [
              "window[\"ef22056e-77ce-11ec-84d6-0242ac1c0002\"] = document.querySelector(\"#id10-3-0\");\n",
              "//# sourceURL=js_53d0076170"
            ],
            "text/plain": [
              "<IPython.core.display.Javascript object>"
            ]
          },
          "metadata": {}
        },
        {
          "output_type": "display_data",
          "data": {
            "application/javascript": [
              "window[\"ef2258b6-77ce-11ec-84d6-0242ac1c0002\"] = google.colab.output.setActiveOutputArea(window[\"ef22056e-77ce-11ec-84d6-0242ac1c0002\"]);\n",
              "//# sourceURL=js_93be5d8fe1"
            ],
            "text/plain": [
              "<IPython.core.display.Javascript object>"
            ]
          },
          "metadata": {}
        },
        {
          "output_type": "stream",
          "name": "stdout",
          "text": [
            "Precipitación\n"
          ]
        },
        {
          "output_type": "display_data",
          "data": {
            "application/javascript": [
              "window[\"ef23e0be-77ce-11ec-84d6-0242ac1c0002\"] = google.colab.output.setActiveOutputArea(window[\"ef21afa6-77ce-11ec-84d6-0242ac1c0002\"]);\n",
              "//# sourceURL=js_f75c5f4a2b"
            ],
            "text/plain": [
              "<IPython.core.display.Javascript object>"
            ]
          },
          "metadata": {}
        },
        {
          "output_type": "display_data",
          "data": {
            "application/javascript": [
              "window[\"ef266190-77ce-11ec-84d6-0242ac1c0002\"] = google.colab.output.getActiveOutputArea();\n",
              "//# sourceURL=js_16435208af"
            ],
            "text/plain": [
              "<IPython.core.display.Javascript object>"
            ]
          },
          "metadata": {}
        },
        {
          "output_type": "display_data",
          "data": {
            "application/javascript": [
              "window[\"ef26b690-77ce-11ec-84d6-0242ac1c0002\"] = document.querySelector(\"#id10-1-1\");\n",
              "//# sourceURL=js_e479d1fc89"
            ],
            "text/plain": [
              "<IPython.core.display.Javascript object>"
            ]
          },
          "metadata": {}
        },
        {
          "output_type": "display_data",
          "data": {
            "application/javascript": [
              "window[\"ef270ce4-77ce-11ec-84d6-0242ac1c0002\"] = google.colab.output.setActiveOutputArea(window[\"ef26b690-77ce-11ec-84d6-0242ac1c0002\"]);\n",
              "//# sourceURL=js_f9d707b666"
            ],
            "text/plain": [
              "<IPython.core.display.Javascript object>"
            ]
          },
          "metadata": {}
        },
        {
          "output_type": "stream",
          "name": "stdout",
          "text": [
            "0.46291260008333335\n"
          ]
        },
        {
          "output_type": "display_data",
          "data": {
            "application/javascript": [
              "window[\"ef284370-77ce-11ec-84d6-0242ac1c0002\"] = google.colab.output.setActiveOutputArea(window[\"ef266190-77ce-11ec-84d6-0242ac1c0002\"]);\n",
              "//# sourceURL=js_e8c8faa0ce"
            ],
            "text/plain": [
              "<IPython.core.display.Javascript object>"
            ]
          },
          "metadata": {}
        },
        {
          "output_type": "display_data",
          "data": {
            "application/javascript": [
              "window[\"ef29fb34-77ce-11ec-84d6-0242ac1c0002\"] = google.colab.output.getActiveOutputArea();\n",
              "//# sourceURL=js_4c2fe0310a"
            ],
            "text/plain": [
              "<IPython.core.display.Javascript object>"
            ]
          },
          "metadata": {}
        },
        {
          "output_type": "display_data",
          "data": {
            "application/javascript": [
              "window[\"ef2a541c-77ce-11ec-84d6-0242ac1c0002\"] = document.querySelector(\"#id10-2-1\");\n",
              "//# sourceURL=js_9ec00a8efd"
            ],
            "text/plain": [
              "<IPython.core.display.Javascript object>"
            ]
          },
          "metadata": {}
        },
        {
          "output_type": "display_data",
          "data": {
            "application/javascript": [
              "window[\"ef2aaade-77ce-11ec-84d6-0242ac1c0002\"] = google.colab.output.setActiveOutputArea(window[\"ef2a541c-77ce-11ec-84d6-0242ac1c0002\"]);\n",
              "//# sourceURL=js_4289bf21dc"
            ],
            "text/plain": [
              "<IPython.core.display.Javascript object>"
            ]
          },
          "metadata": {}
        },
        {
          "output_type": "stream",
          "name": "stdout",
          "text": [
            "0.516937296058874\n"
          ]
        },
        {
          "output_type": "display_data",
          "data": {
            "application/javascript": [
              "window[\"ef2bc798-77ce-11ec-84d6-0242ac1c0002\"] = google.colab.output.setActiveOutputArea(window[\"ef29fb34-77ce-11ec-84d6-0242ac1c0002\"]);\n",
              "//# sourceURL=js_75b7b8d562"
            ],
            "text/plain": [
              "<IPython.core.display.Javascript object>"
            ]
          },
          "metadata": {}
        },
        {
          "output_type": "display_data",
          "data": {
            "application/javascript": [
              "window[\"ef2d679c-77ce-11ec-84d6-0242ac1c0002\"] = google.colab.output.getActiveOutputArea();\n",
              "//# sourceURL=js_1103966b03"
            ],
            "text/plain": [
              "<IPython.core.display.Javascript object>"
            ]
          },
          "metadata": {}
        },
        {
          "output_type": "display_data",
          "data": {
            "application/javascript": [
              "window[\"ef2dbce2-77ce-11ec-84d6-0242ac1c0002\"] = document.querySelector(\"#id10-3-1\");\n",
              "//# sourceURL=js_a0d8a19fb1"
            ],
            "text/plain": [
              "<IPython.core.display.Javascript object>"
            ]
          },
          "metadata": {}
        },
        {
          "output_type": "display_data",
          "data": {
            "application/javascript": [
              "window[\"ef2e0d96-77ce-11ec-84d6-0242ac1c0002\"] = google.colab.output.setActiveOutputArea(window[\"ef2dbce2-77ce-11ec-84d6-0242ac1c0002\"]);\n",
              "//# sourceURL=js_761655c30a"
            ],
            "text/plain": [
              "<IPython.core.display.Javascript object>"
            ]
          },
          "metadata": {}
        },
        {
          "output_type": "stream",
          "name": "stdout",
          "text": [
            "0.4655493929943143\n"
          ]
        },
        {
          "output_type": "display_data",
          "data": {
            "application/javascript": [
              "window[\"ef2f265e-77ce-11ec-84d6-0242ac1c0002\"] = google.colab.output.setActiveOutputArea(window[\"ef2d679c-77ce-11ec-84d6-0242ac1c0002\"]);\n",
              "//# sourceURL=js_c24fe5bd17"
            ],
            "text/plain": [
              "<IPython.core.display.Javascript object>"
            ]
          },
          "metadata": {}
        },
        {
          "output_type": "display_data",
          "data": {
            "application/javascript": [
              "window[\"ef30b096-77ce-11ec-84d6-0242ac1c0002\"] = google.colab.output.getActiveOutputArea();\n",
              "//# sourceURL=js_c22a96a496"
            ],
            "text/plain": [
              "<IPython.core.display.Javascript object>"
            ]
          },
          "metadata": {}
        },
        {
          "output_type": "display_data",
          "data": {
            "application/javascript": [
              "window[\"ef310028-77ce-11ec-84d6-0242ac1c0002\"] = document.querySelector(\"#id10-0-1\");\n",
              "//# sourceURL=js_c6873ef40e"
            ],
            "text/plain": [
              "<IPython.core.display.Javascript object>"
            ]
          },
          "metadata": {}
        },
        {
          "output_type": "display_data",
          "data": {
            "application/javascript": [
              "window[\"ef315564-77ce-11ec-84d6-0242ac1c0002\"] = google.colab.output.setActiveOutputArea(window[\"ef310028-77ce-11ec-84d6-0242ac1c0002\"]);\n",
              "//# sourceURL=js_bb78295354"
            ],
            "text/plain": [
              "<IPython.core.display.Javascript object>"
            ]
          },
          "metadata": {}
        },
        {
          "output_type": "stream",
          "name": "stdout",
          "text": [
            "Beneficio real - Beneficio esperado\n"
          ]
        },
        {
          "output_type": "display_data",
          "data": {
            "application/javascript": [
              "window[\"ef3263dc-77ce-11ec-84d6-0242ac1c0002\"] = google.colab.output.setActiveOutputArea(window[\"ef30b096-77ce-11ec-84d6-0242ac1c0002\"]);\n",
              "//# sourceURL=js_5e8b79648a"
            ],
            "text/plain": [
              "<IPython.core.display.Javascript object>"
            ]
          },
          "metadata": {}
        },
        {
          "output_type": "stream",
          "name": "stdout",
          "text": [
            "Diferencia de beneficios\n"
          ]
        },
        {
          "output_type": "display_data",
          "data": {
            "text/html": [
              "<style>\n",
              "       table#id12, #id12 > tbody > tr > th, #id12 > tbody > tr > td {\n",
              "         border: 1px solid lightgray;\n",
              "         border-collapse:collapse;\n",
              "         \n",
              "        }</style>"
            ],
            "text/plain": [
              "<IPython.core.display.HTML object>"
            ]
          },
          "metadata": {}
        },
        {
          "output_type": "display_data",
          "data": {
            "text/html": [
              "<table id=id12><tr><th id=id12-0-0></th><th id=id12-0-1></th></tr><tr><th id=id12-1-0></th><td id=id12-1-1></td></tr><tr><th id=id12-2-0></th><td id=id12-2-1></td></tr><tr><th id=id12-3-0></th><td id=id12-3-1></td></tr></table>"
            ],
            "text/plain": [
              "<IPython.core.display.HTML object>"
            ]
          },
          "metadata": {}
        },
        {
          "output_type": "display_data",
          "data": {
            "application/javascript": [
              "window[\"ef42bdf4-77ce-11ec-84d6-0242ac1c0002\"] = google.colab.output.getActiveOutputArea();\n",
              "//# sourceURL=js_6440d9edd8"
            ],
            "text/plain": [
              "<IPython.core.display.Javascript object>"
            ]
          },
          "metadata": {}
        },
        {
          "output_type": "display_data",
          "data": {
            "application/javascript": [
              "window[\"ef436d26-77ce-11ec-84d6-0242ac1c0002\"] = document.querySelector(\"#id12-0-0\");\n",
              "//# sourceURL=js_1d3460e023"
            ],
            "text/plain": [
              "<IPython.core.display.Javascript object>"
            ]
          },
          "metadata": {}
        },
        {
          "output_type": "display_data",
          "data": {
            "application/javascript": [
              "window[\"ef43d702-77ce-11ec-84d6-0242ac1c0002\"] = google.colab.output.setActiveOutputArea(window[\"ef436d26-77ce-11ec-84d6-0242ac1c0002\"]);\n",
              "//# sourceURL=js_1503367413"
            ],
            "text/plain": [
              "<IPython.core.display.Javascript object>"
            ]
          },
          "metadata": {}
        },
        {
          "output_type": "stream",
          "name": "stdout",
          "text": [
            "Característica que falta\n"
          ]
        },
        {
          "output_type": "display_data",
          "data": {
            "application/javascript": [
              "window[\"ef45972c-77ce-11ec-84d6-0242ac1c0002\"] = google.colab.output.setActiveOutputArea(window[\"ef42bdf4-77ce-11ec-84d6-0242ac1c0002\"]);\n",
              "//# sourceURL=js_8d4d4fa29a"
            ],
            "text/plain": [
              "<IPython.core.display.Javascript object>"
            ]
          },
          "metadata": {}
        },
        {
          "output_type": "display_data",
          "data": {
            "application/javascript": [
              "window[\"ef48ef4e-77ce-11ec-84d6-0242ac1c0002\"] = google.colab.output.getActiveOutputArea();\n",
              "//# sourceURL=js_54005cec2e"
            ],
            "text/plain": [
              "<IPython.core.display.Javascript object>"
            ]
          },
          "metadata": {}
        },
        {
          "output_type": "display_data",
          "data": {
            "application/javascript": [
              "window[\"ef4a2cec-77ce-11ec-84d6-0242ac1c0002\"] = document.querySelector(\"#id12-1-0\");\n",
              "//# sourceURL=js_a326a487d4"
            ],
            "text/plain": [
              "<IPython.core.display.Javascript object>"
            ]
          },
          "metadata": {}
        },
        {
          "output_type": "display_data",
          "data": {
            "application/javascript": [
              "window[\"ef4a9c40-77ce-11ec-84d6-0242ac1c0002\"] = google.colab.output.setActiveOutputArea(window[\"ef4a2cec-77ce-11ec-84d6-0242ac1c0002\"]);\n",
              "//# sourceURL=js_8d5ad594eb"
            ],
            "text/plain": [
              "<IPython.core.display.Javascript object>"
            ]
          },
          "metadata": {}
        },
        {
          "output_type": "stream",
          "name": "stdout",
          "text": [
            "Mes\n"
          ]
        },
        {
          "output_type": "display_data",
          "data": {
            "application/javascript": [
              "window[\"ef4c5508-77ce-11ec-84d6-0242ac1c0002\"] = google.colab.output.setActiveOutputArea(window[\"ef48ef4e-77ce-11ec-84d6-0242ac1c0002\"]);\n",
              "//# sourceURL=js_f0423ccc55"
            ],
            "text/plain": [
              "<IPython.core.display.Javascript object>"
            ]
          },
          "metadata": {}
        },
        {
          "output_type": "display_data",
          "data": {
            "application/javascript": [
              "window[\"ef4e231a-77ce-11ec-84d6-0242ac1c0002\"] = google.colab.output.getActiveOutputArea();\n",
              "//# sourceURL=js_c1f64ec26f"
            ],
            "text/plain": [
              "<IPython.core.display.Javascript object>"
            ]
          },
          "metadata": {}
        },
        {
          "output_type": "display_data",
          "data": {
            "application/javascript": [
              "window[\"ef4e7414-77ce-11ec-84d6-0242ac1c0002\"] = document.querySelector(\"#id12-2-0\");\n",
              "//# sourceURL=js_9a0ced346b"
            ],
            "text/plain": [
              "<IPython.core.display.Javascript object>"
            ]
          },
          "metadata": {}
        },
        {
          "output_type": "display_data",
          "data": {
            "application/javascript": [
              "window[\"ef4ebf32-77ce-11ec-84d6-0242ac1c0002\"] = google.colab.output.setActiveOutputArea(window[\"ef4e7414-77ce-11ec-84d6-0242ac1c0002\"]);\n",
              "//# sourceURL=js_e488012af6"
            ],
            "text/plain": [
              "<IPython.core.display.Javascript object>"
            ]
          },
          "metadata": {}
        },
        {
          "output_type": "stream",
          "name": "stdout",
          "text": [
            "Temperatura\n"
          ]
        },
        {
          "output_type": "display_data",
          "data": {
            "application/javascript": [
              "window[\"ef4fdbba-77ce-11ec-84d6-0242ac1c0002\"] = google.colab.output.setActiveOutputArea(window[\"ef4e231a-77ce-11ec-84d6-0242ac1c0002\"]);\n",
              "//# sourceURL=js_ff44718dba"
            ],
            "text/plain": [
              "<IPython.core.display.Javascript object>"
            ]
          },
          "metadata": {}
        },
        {
          "output_type": "display_data",
          "data": {
            "application/javascript": [
              "window[\"ef517d4e-77ce-11ec-84d6-0242ac1c0002\"] = google.colab.output.getActiveOutputArea();\n",
              "//# sourceURL=js_9bbc4a8b56"
            ],
            "text/plain": [
              "<IPython.core.display.Javascript object>"
            ]
          },
          "metadata": {}
        },
        {
          "output_type": "display_data",
          "data": {
            "application/javascript": [
              "window[\"ef51cc22-77ce-11ec-84d6-0242ac1c0002\"] = document.querySelector(\"#id12-3-0\");\n",
              "//# sourceURL=js_d2eb7d437c"
            ],
            "text/plain": [
              "<IPython.core.display.Javascript object>"
            ]
          },
          "metadata": {}
        },
        {
          "output_type": "display_data",
          "data": {
            "application/javascript": [
              "window[\"ef521a9c-77ce-11ec-84d6-0242ac1c0002\"] = google.colab.output.setActiveOutputArea(window[\"ef51cc22-77ce-11ec-84d6-0242ac1c0002\"]);\n",
              "//# sourceURL=js_e5da7d1aaa"
            ],
            "text/plain": [
              "<IPython.core.display.Javascript object>"
            ]
          },
          "metadata": {}
        },
        {
          "output_type": "stream",
          "name": "stdout",
          "text": [
            "Precipitación\n"
          ]
        },
        {
          "output_type": "display_data",
          "data": {
            "application/javascript": [
              "window[\"ef535b82-77ce-11ec-84d6-0242ac1c0002\"] = google.colab.output.setActiveOutputArea(window[\"ef517d4e-77ce-11ec-84d6-0242ac1c0002\"]);\n",
              "//# sourceURL=js_90eefc8032"
            ],
            "text/plain": [
              "<IPython.core.display.Javascript object>"
            ]
          },
          "metadata": {}
        },
        {
          "output_type": "display_data",
          "data": {
            "application/javascript": [
              "window[\"ef54fec4-77ce-11ec-84d6-0242ac1c0002\"] = google.colab.output.getActiveOutputArea();\n",
              "//# sourceURL=js_8833633a10"
            ],
            "text/plain": [
              "<IPython.core.display.Javascript object>"
            ]
          },
          "metadata": {}
        },
        {
          "output_type": "display_data",
          "data": {
            "application/javascript": [
              "window[\"ef555220-77ce-11ec-84d6-0242ac1c0002\"] = document.querySelector(\"#id12-1-1\");\n",
              "//# sourceURL=js_6d9e708e58"
            ],
            "text/plain": [
              "<IPython.core.display.Javascript object>"
            ]
          },
          "metadata": {}
        },
        {
          "output_type": "display_data",
          "data": {
            "application/javascript": [
              "window[\"ef55a680-77ce-11ec-84d6-0242ac1c0002\"] = google.colab.output.setActiveOutputArea(window[\"ef555220-77ce-11ec-84d6-0242ac1c0002\"]);\n",
              "//# sourceURL=js_bea9ece1e3"
            ],
            "text/plain": [
              "<IPython.core.display.Javascript object>"
            ]
          },
          "metadata": {}
        },
        {
          "output_type": "stream",
          "name": "stdout",
          "text": [
            "0.4198351650833334\n"
          ]
        },
        {
          "output_type": "display_data",
          "data": {
            "application/javascript": [
              "window[\"ef56c24a-77ce-11ec-84d6-0242ac1c0002\"] = google.colab.output.setActiveOutputArea(window[\"ef54fec4-77ce-11ec-84d6-0242ac1c0002\"]);\n",
              "//# sourceURL=js_5d6a553d3b"
            ],
            "text/plain": [
              "<IPython.core.display.Javascript object>"
            ]
          },
          "metadata": {}
        },
        {
          "output_type": "display_data",
          "data": {
            "application/javascript": [
              "window[\"ef58673a-77ce-11ec-84d6-0242ac1c0002\"] = google.colab.output.getActiveOutputArea();\n",
              "//# sourceURL=js_853438ef56"
            ],
            "text/plain": [
              "<IPython.core.display.Javascript object>"
            ]
          },
          "metadata": {}
        },
        {
          "output_type": "display_data",
          "data": {
            "application/javascript": [
              "window[\"ef58b302-77ce-11ec-84d6-0242ac1c0002\"] = document.querySelector(\"#id12-2-1\");\n",
              "//# sourceURL=js_a6301e71bc"
            ],
            "text/plain": [
              "<IPython.core.display.Javascript object>"
            ]
          },
          "metadata": {}
        },
        {
          "output_type": "display_data",
          "data": {
            "application/javascript": [
              "window[\"ef58ff7e-77ce-11ec-84d6-0242ac1c0002\"] = google.colab.output.setActiveOutputArea(window[\"ef58b302-77ce-11ec-84d6-0242ac1c0002\"]);\n",
              "//# sourceURL=js_51e4f3f288"
            ],
            "text/plain": [
              "<IPython.core.display.Javascript object>"
            ]
          },
          "metadata": {}
        },
        {
          "output_type": "stream",
          "name": "stdout",
          "text": [
            "0.48377582793186336\n"
          ]
        },
        {
          "output_type": "display_data",
          "data": {
            "application/javascript": [
              "window[\"ef5a19fe-77ce-11ec-84d6-0242ac1c0002\"] = google.colab.output.setActiveOutputArea(window[\"ef58673a-77ce-11ec-84d6-0242ac1c0002\"]);\n",
              "//# sourceURL=js_2c72d10753"
            ],
            "text/plain": [
              "<IPython.core.display.Javascript object>"
            ]
          },
          "metadata": {}
        },
        {
          "output_type": "display_data",
          "data": {
            "application/javascript": [
              "window[\"ef5bbc50-77ce-11ec-84d6-0242ac1c0002\"] = google.colab.output.getActiveOutputArea();\n",
              "//# sourceURL=js_299ae4c327"
            ],
            "text/plain": [
              "<IPython.core.display.Javascript object>"
            ]
          },
          "metadata": {}
        },
        {
          "output_type": "display_data",
          "data": {
            "application/javascript": [
              "window[\"ef5c04e4-77ce-11ec-84d6-0242ac1c0002\"] = document.querySelector(\"#id12-3-1\");\n",
              "//# sourceURL=js_ec3cd90d32"
            ],
            "text/plain": [
              "<IPython.core.display.Javascript object>"
            ]
          },
          "metadata": {}
        },
        {
          "output_type": "display_data",
          "data": {
            "application/javascript": [
              "window[\"ef5c4d8c-77ce-11ec-84d6-0242ac1c0002\"] = google.colab.output.setActiveOutputArea(window[\"ef5c04e4-77ce-11ec-84d6-0242ac1c0002\"]);\n",
              "//# sourceURL=js_b2488a57e8"
            ],
            "text/plain": [
              "<IPython.core.display.Javascript object>"
            ]
          },
          "metadata": {}
        },
        {
          "output_type": "stream",
          "name": "stdout",
          "text": [
            "0.4655493929943143\n"
          ]
        },
        {
          "output_type": "display_data",
          "data": {
            "application/javascript": [
              "window[\"ef5d6d7a-77ce-11ec-84d6-0242ac1c0002\"] = google.colab.output.setActiveOutputArea(window[\"ef5bbc50-77ce-11ec-84d6-0242ac1c0002\"]);\n",
              "//# sourceURL=js_a76b54d702"
            ],
            "text/plain": [
              "<IPython.core.display.Javascript object>"
            ]
          },
          "metadata": {}
        },
        {
          "output_type": "display_data",
          "data": {
            "application/javascript": [
              "window[\"ef5f177e-77ce-11ec-84d6-0242ac1c0002\"] = google.colab.output.getActiveOutputArea();\n",
              "//# sourceURL=js_e9f1c1dda3"
            ],
            "text/plain": [
              "<IPython.core.display.Javascript object>"
            ]
          },
          "metadata": {}
        },
        {
          "output_type": "display_data",
          "data": {
            "application/javascript": [
              "window[\"ef610a5c-77ce-11ec-84d6-0242ac1c0002\"] = document.querySelector(\"#id12-0-1\");\n",
              "//# sourceURL=js_736c66386a"
            ],
            "text/plain": [
              "<IPython.core.display.Javascript object>"
            ]
          },
          "metadata": {}
        },
        {
          "output_type": "display_data",
          "data": {
            "application/javascript": [
              "window[\"ef618694-77ce-11ec-84d6-0242ac1c0002\"] = google.colab.output.setActiveOutputArea(window[\"ef610a5c-77ce-11ec-84d6-0242ac1c0002\"]);\n",
              "//# sourceURL=js_1396f703f1"
            ],
            "text/plain": [
              "<IPython.core.display.Javascript object>"
            ]
          },
          "metadata": {}
        },
        {
          "output_type": "stream",
          "name": "stdout",
          "text": [
            "Beneficio real - Beneficio esperado\n"
          ]
        },
        {
          "output_type": "display_data",
          "data": {
            "application/javascript": [
              "window[\"ef6366e4-77ce-11ec-84d6-0242ac1c0002\"] = google.colab.output.setActiveOutputArea(window[\"ef5f177e-77ce-11ec-84d6-0242ac1c0002\"]);\n",
              "//# sourceURL=js_b3ae954375"
            ],
            "text/plain": [
              "<IPython.core.display.Javascript object>"
            ]
          },
          "metadata": {}
        },
        {
          "output_type": "stream",
          "name": "stdout",
          "text": [
            "\n",
            "Diferencia de beneficios\n"
          ]
        },
        {
          "output_type": "display_data",
          "data": {
            "text/html": [
              "<style>\n",
              "       table#id14, #id14 > tbody > tr > th, #id14 > tbody > tr > td {\n",
              "         border: 1px solid lightgray;\n",
              "         border-collapse:collapse;\n",
              "         \n",
              "        }</style>"
            ],
            "text/plain": [
              "<IPython.core.display.HTML object>"
            ]
          },
          "metadata": {}
        },
        {
          "output_type": "display_data",
          "data": {
            "text/html": [
              "<table id=id14><tr><th id=id14-0-0></th><th id=id14-0-1></th></tr><tr><th id=id14-1-0></th><td id=id14-1-1></td></tr><tr><th id=id14-2-0></th><td id=id14-2-1></td></tr><tr><th id=id14-3-0></th><td id=id14-3-1></td></tr></table>"
            ],
            "text/plain": [
              "<IPython.core.display.HTML object>"
            ]
          },
          "metadata": {}
        },
        {
          "output_type": "display_data",
          "data": {
            "application/javascript": [
              "window[\"ef74e4aa-77ce-11ec-84d6-0242ac1c0002\"] = google.colab.output.getActiveOutputArea();\n",
              "//# sourceURL=js_101c69dd4e"
            ],
            "text/plain": [
              "<IPython.core.display.Javascript object>"
            ]
          },
          "metadata": {}
        },
        {
          "output_type": "display_data",
          "data": {
            "application/javascript": [
              "window[\"ef7624b4-77ce-11ec-84d6-0242ac1c0002\"] = document.querySelector(\"#id14-0-0\");\n",
              "//# sourceURL=js_bf2783106e"
            ],
            "text/plain": [
              "<IPython.core.display.Javascript object>"
            ]
          },
          "metadata": {}
        },
        {
          "output_type": "display_data",
          "data": {
            "application/javascript": [
              "window[\"ef7697a0-77ce-11ec-84d6-0242ac1c0002\"] = google.colab.output.setActiveOutputArea(window[\"ef7624b4-77ce-11ec-84d6-0242ac1c0002\"]);\n",
              "//# sourceURL=js_d543838ace"
            ],
            "text/plain": [
              "<IPython.core.display.Javascript object>"
            ]
          },
          "metadata": {}
        },
        {
          "output_type": "stream",
          "name": "stdout",
          "text": [
            "Característica que falta\n"
          ]
        },
        {
          "output_type": "display_data",
          "data": {
            "application/javascript": [
              "window[\"ef78b42c-77ce-11ec-84d6-0242ac1c0002\"] = google.colab.output.setActiveOutputArea(window[\"ef74e4aa-77ce-11ec-84d6-0242ac1c0002\"]);\n",
              "//# sourceURL=js_22fe465ecc"
            ],
            "text/plain": [
              "<IPython.core.display.Javascript object>"
            ]
          },
          "metadata": {}
        },
        {
          "output_type": "display_data",
          "data": {
            "application/javascript": [
              "window[\"ef7bc2fc-77ce-11ec-84d6-0242ac1c0002\"] = google.colab.output.getActiveOutputArea();\n",
              "//# sourceURL=js_1705afb1d8"
            ],
            "text/plain": [
              "<IPython.core.display.Javascript object>"
            ]
          },
          "metadata": {}
        },
        {
          "output_type": "display_data",
          "data": {
            "application/javascript": [
              "window[\"ef7c3372-77ce-11ec-84d6-0242ac1c0002\"] = document.querySelector(\"#id14-1-0\");\n",
              "//# sourceURL=js_b4878dad7c"
            ],
            "text/plain": [
              "<IPython.core.display.Javascript object>"
            ]
          },
          "metadata": {}
        },
        {
          "output_type": "display_data",
          "data": {
            "application/javascript": [
              "window[\"ef7c9c9a-77ce-11ec-84d6-0242ac1c0002\"] = google.colab.output.setActiveOutputArea(window[\"ef7c3372-77ce-11ec-84d6-0242ac1c0002\"]);\n",
              "//# sourceURL=js_91a91e98f2"
            ],
            "text/plain": [
              "<IPython.core.display.Javascript object>"
            ]
          },
          "metadata": {}
        },
        {
          "output_type": "stream",
          "name": "stdout",
          "text": [
            "Mes\n"
          ]
        },
        {
          "output_type": "display_data",
          "data": {
            "application/javascript": [
              "window[\"ef7ed4b0-77ce-11ec-84d6-0242ac1c0002\"] = google.colab.output.setActiveOutputArea(window[\"ef7bc2fc-77ce-11ec-84d6-0242ac1c0002\"]);\n",
              "//# sourceURL=js_efe403777d"
            ],
            "text/plain": [
              "<IPython.core.display.Javascript object>"
            ]
          },
          "metadata": {}
        },
        {
          "output_type": "display_data",
          "data": {
            "application/javascript": [
              "window[\"ef81da34-77ce-11ec-84d6-0242ac1c0002\"] = google.colab.output.getActiveOutputArea();\n",
              "//# sourceURL=js_cabd5f612a"
            ],
            "text/plain": [
              "<IPython.core.display.Javascript object>"
            ]
          },
          "metadata": {}
        },
        {
          "output_type": "display_data",
          "data": {
            "application/javascript": [
              "window[\"ef824000-77ce-11ec-84d6-0242ac1c0002\"] = document.querySelector(\"#id14-2-0\");\n",
              "//# sourceURL=js_a96868eef3"
            ],
            "text/plain": [
              "<IPython.core.display.Javascript object>"
            ]
          },
          "metadata": {}
        },
        {
          "output_type": "display_data",
          "data": {
            "application/javascript": [
              "window[\"ef82c49e-77ce-11ec-84d6-0242ac1c0002\"] = google.colab.output.setActiveOutputArea(window[\"ef824000-77ce-11ec-84d6-0242ac1c0002\"]);\n",
              "//# sourceURL=js_3984ea9de2"
            ],
            "text/plain": [
              "<IPython.core.display.Javascript object>"
            ]
          },
          "metadata": {}
        },
        {
          "output_type": "stream",
          "name": "stdout",
          "text": [
            "Temperatura\n"
          ]
        },
        {
          "output_type": "display_data",
          "data": {
            "application/javascript": [
              "window[\"ef84f08e-77ce-11ec-84d6-0242ac1c0002\"] = google.colab.output.setActiveOutputArea(window[\"ef81da34-77ce-11ec-84d6-0242ac1c0002\"]);\n",
              "//# sourceURL=js_d943e20a90"
            ],
            "text/plain": [
              "<IPython.core.display.Javascript object>"
            ]
          },
          "metadata": {}
        },
        {
          "output_type": "display_data",
          "data": {
            "application/javascript": [
              "window[\"ef881458-77ce-11ec-84d6-0242ac1c0002\"] = google.colab.output.getActiveOutputArea();\n",
              "//# sourceURL=js_583c243709"
            ],
            "text/plain": [
              "<IPython.core.display.Javascript object>"
            ]
          },
          "metadata": {}
        },
        {
          "output_type": "display_data",
          "data": {
            "application/javascript": [
              "window[\"ef888424-77ce-11ec-84d6-0242ac1c0002\"] = document.querySelector(\"#id14-3-0\");\n",
              "//# sourceURL=js_f323e0c826"
            ],
            "text/plain": [
              "<IPython.core.display.Javascript object>"
            ]
          },
          "metadata": {}
        },
        {
          "output_type": "display_data",
          "data": {
            "application/javascript": [
              "window[\"ef890d9a-77ce-11ec-84d6-0242ac1c0002\"] = google.colab.output.setActiveOutputArea(window[\"ef888424-77ce-11ec-84d6-0242ac1c0002\"]);\n",
              "//# sourceURL=js_07244dc255"
            ],
            "text/plain": [
              "<IPython.core.display.Javascript object>"
            ]
          },
          "metadata": {}
        },
        {
          "output_type": "stream",
          "name": "stdout",
          "text": [
            "Precipitación\n"
          ]
        },
        {
          "output_type": "display_data",
          "data": {
            "application/javascript": [
              "window[\"ef8b94ac-77ce-11ec-84d6-0242ac1c0002\"] = google.colab.output.setActiveOutputArea(window[\"ef881458-77ce-11ec-84d6-0242ac1c0002\"]);\n",
              "//# sourceURL=js_af1b5507d3"
            ],
            "text/plain": [
              "<IPython.core.display.Javascript object>"
            ]
          },
          "metadata": {}
        },
        {
          "output_type": "display_data",
          "data": {
            "application/javascript": [
              "window[\"ef8e00d4-77ce-11ec-84d6-0242ac1c0002\"] = google.colab.output.getActiveOutputArea();\n",
              "//# sourceURL=js_1b0fa6fb4d"
            ],
            "text/plain": [
              "<IPython.core.display.Javascript object>"
            ]
          },
          "metadata": {}
        },
        {
          "output_type": "display_data",
          "data": {
            "application/javascript": [
              "window[\"ef8e65ba-77ce-11ec-84d6-0242ac1c0002\"] = document.querySelector(\"#id14-1-1\");\n",
              "//# sourceURL=js_84b3b9d0e9"
            ],
            "text/plain": [
              "<IPython.core.display.Javascript object>"
            ]
          },
          "metadata": {}
        },
        {
          "output_type": "display_data",
          "data": {
            "application/javascript": [
              "window[\"ef8ece2e-77ce-11ec-84d6-0242ac1c0002\"] = google.colab.output.setActiveOutputArea(window[\"ef8e65ba-77ce-11ec-84d6-0242ac1c0002\"]);\n",
              "//# sourceURL=js_08cac46bbd"
            ],
            "text/plain": [
              "<IPython.core.display.Javascript object>"
            ]
          },
          "metadata": {}
        },
        {
          "output_type": "stream",
          "name": "stdout",
          "text": [
            "0.25\n"
          ]
        },
        {
          "output_type": "display_data",
          "data": {
            "application/javascript": [
              "window[\"ef9118be-77ce-11ec-84d6-0242ac1c0002\"] = google.colab.output.setActiveOutputArea(window[\"ef8e00d4-77ce-11ec-84d6-0242ac1c0002\"]);\n",
              "//# sourceURL=js_db956aea24"
            ],
            "text/plain": [
              "<IPython.core.display.Javascript object>"
            ]
          },
          "metadata": {}
        },
        {
          "output_type": "display_data",
          "data": {
            "application/javascript": [
              "window[\"ef93c4b0-77ce-11ec-84d6-0242ac1c0002\"] = google.colab.output.getActiveOutputArea();\n",
              "//# sourceURL=js_29a86d0962"
            ],
            "text/plain": [
              "<IPython.core.display.Javascript object>"
            ]
          },
          "metadata": {}
        },
        {
          "output_type": "display_data",
          "data": {
            "application/javascript": [
              "window[\"ef9432f6-77ce-11ec-84d6-0242ac1c0002\"] = document.querySelector(\"#id14-2-1\");\n",
              "//# sourceURL=js_484c104b5d"
            ],
            "text/plain": [
              "<IPython.core.display.Javascript object>"
            ]
          },
          "metadata": {}
        },
        {
          "output_type": "display_data",
          "data": {
            "application/javascript": [
              "window[\"ef94aa9c-77ce-11ec-84d6-0242ac1c0002\"] = google.colab.output.setActiveOutputArea(window[\"ef9432f6-77ce-11ec-84d6-0242ac1c0002\"]);\n",
              "//# sourceURL=js_5383c73dc0"
            ],
            "text/plain": [
              "<IPython.core.display.Javascript object>"
            ]
          },
          "metadata": {}
        },
        {
          "output_type": "stream",
          "name": "stdout",
          "text": [
            "2.021875\n"
          ]
        },
        {
          "output_type": "display_data",
          "data": {
            "application/javascript": [
              "window[\"ef96a78e-77ce-11ec-84d6-0242ac1c0002\"] = google.colab.output.setActiveOutputArea(window[\"ef93c4b0-77ce-11ec-84d6-0242ac1c0002\"]);\n",
              "//# sourceURL=js_48fec33ea3"
            ],
            "text/plain": [
              "<IPython.core.display.Javascript object>"
            ]
          },
          "metadata": {}
        },
        {
          "output_type": "display_data",
          "data": {
            "application/javascript": [
              "window[\"ef996474-77ce-11ec-84d6-0242ac1c0002\"] = google.colab.output.getActiveOutputArea();\n",
              "//# sourceURL=js_a2b56e2104"
            ],
            "text/plain": [
              "<IPython.core.display.Javascript object>"
            ]
          },
          "metadata": {}
        },
        {
          "output_type": "display_data",
          "data": {
            "application/javascript": [
              "window[\"ef9a1d10-77ce-11ec-84d6-0242ac1c0002\"] = document.querySelector(\"#id14-3-1\");\n",
              "//# sourceURL=js_220729e6ee"
            ],
            "text/plain": [
              "<IPython.core.display.Javascript object>"
            ]
          },
          "metadata": {}
        },
        {
          "output_type": "display_data",
          "data": {
            "application/javascript": [
              "window[\"ef9a8c0a-77ce-11ec-84d6-0242ac1c0002\"] = google.colab.output.setActiveOutputArea(window[\"ef9a1d10-77ce-11ec-84d6-0242ac1c0002\"]);\n",
              "//# sourceURL=js_ac4032ffad"
            ],
            "text/plain": [
              "<IPython.core.display.Javascript object>"
            ]
          },
          "metadata": {}
        },
        {
          "output_type": "stream",
          "name": "stdout",
          "text": [
            "0.25\n"
          ]
        },
        {
          "output_type": "display_data",
          "data": {
            "application/javascript": [
              "window[\"ef9cf03a-77ce-11ec-84d6-0242ac1c0002\"] = google.colab.output.setActiveOutputArea(window[\"ef996474-77ce-11ec-84d6-0242ac1c0002\"]);\n",
              "//# sourceURL=js_a323e1494b"
            ],
            "text/plain": [
              "<IPython.core.display.Javascript object>"
            ]
          },
          "metadata": {}
        },
        {
          "output_type": "display_data",
          "data": {
            "application/javascript": [
              "window[\"efa016c0-77ce-11ec-84d6-0242ac1c0002\"] = google.colab.output.getActiveOutputArea();\n",
              "//# sourceURL=js_0fbf654173"
            ],
            "text/plain": [
              "<IPython.core.display.Javascript object>"
            ]
          },
          "metadata": {}
        },
        {
          "output_type": "display_data",
          "data": {
            "application/javascript": [
              "window[\"efa06b70-77ce-11ec-84d6-0242ac1c0002\"] = document.querySelector(\"#id14-0-1\");\n",
              "//# sourceURL=js_63530a1e8f"
            ],
            "text/plain": [
              "<IPython.core.display.Javascript object>"
            ]
          },
          "metadata": {}
        },
        {
          "output_type": "display_data",
          "data": {
            "application/javascript": [
              "window[\"efa16002-77ce-11ec-84d6-0242ac1c0002\"] = google.colab.output.setActiveOutputArea(window[\"efa06b70-77ce-11ec-84d6-0242ac1c0002\"]);\n",
              "//# sourceURL=js_714640cee2"
            ],
            "text/plain": [
              "<IPython.core.display.Javascript object>"
            ]
          },
          "metadata": {}
        },
        {
          "output_type": "stream",
          "name": "stdout",
          "text": [
            "Beneficio real - Beneficio esperado\n"
          ]
        },
        {
          "output_type": "display_data",
          "data": {
            "application/javascript": [
              "window[\"efa2f048-77ce-11ec-84d6-0242ac1c0002\"] = google.colab.output.setActiveOutputArea(window[\"efa016c0-77ce-11ec-84d6-0242ac1c0002\"]);\n",
              "//# sourceURL=js_74e9c59055"
            ],
            "text/plain": [
              "<IPython.core.display.Javascript object>"
            ]
          },
          "metadata": {}
        },
        {
          "output_type": "stream",
          "name": "stdout",
          "text": [
            "Diferencia de beneficios\n"
          ]
        },
        {
          "output_type": "display_data",
          "data": {
            "text/html": [
              "<style>\n",
              "       table#id16, #id16 > tbody > tr > th, #id16 > tbody > tr > td {\n",
              "         border: 1px solid lightgray;\n",
              "         border-collapse:collapse;\n",
              "         \n",
              "        }</style>"
            ],
            "text/plain": [
              "<IPython.core.display.HTML object>"
            ]
          },
          "metadata": {}
        },
        {
          "output_type": "display_data",
          "data": {
            "text/html": [
              "<table id=id16><tr><th id=id16-0-0></th><th id=id16-0-1></th></tr><tr><th id=id16-1-0></th><td id=id16-1-1></td></tr><tr><th id=id16-2-0></th><td id=id16-2-1></td></tr><tr><th id=id16-3-0></th><td id=id16-3-1></td></tr></table>"
            ],
            "text/plain": [
              "<IPython.core.display.HTML object>"
            ]
          },
          "metadata": {}
        },
        {
          "output_type": "display_data",
          "data": {
            "application/javascript": [
              "window[\"efb402de-77ce-11ec-84d6-0242ac1c0002\"] = google.colab.output.getActiveOutputArea();\n",
              "//# sourceURL=js_effe0c6abe"
            ],
            "text/plain": [
              "<IPython.core.display.Javascript object>"
            ]
          },
          "metadata": {}
        },
        {
          "output_type": "display_data",
          "data": {
            "application/javascript": [
              "window[\"efb46404-77ce-11ec-84d6-0242ac1c0002\"] = document.querySelector(\"#id16-0-0\");\n",
              "//# sourceURL=js_d973177151"
            ],
            "text/plain": [
              "<IPython.core.display.Javascript object>"
            ]
          },
          "metadata": {}
        },
        {
          "output_type": "display_data",
          "data": {
            "application/javascript": [
              "window[\"efb4e6c2-77ce-11ec-84d6-0242ac1c0002\"] = google.colab.output.setActiveOutputArea(window[\"efb46404-77ce-11ec-84d6-0242ac1c0002\"]);\n",
              "//# sourceURL=js_86f884dff0"
            ],
            "text/plain": [
              "<IPython.core.display.Javascript object>"
            ]
          },
          "metadata": {}
        },
        {
          "output_type": "stream",
          "name": "stdout",
          "text": [
            "Característica que falta\n"
          ]
        },
        {
          "output_type": "display_data",
          "data": {
            "application/javascript": [
              "window[\"efb7772a-77ce-11ec-84d6-0242ac1c0002\"] = google.colab.output.setActiveOutputArea(window[\"efb402de-77ce-11ec-84d6-0242ac1c0002\"]);\n",
              "//# sourceURL=js_a8ceb1f189"
            ],
            "text/plain": [
              "<IPython.core.display.Javascript object>"
            ]
          },
          "metadata": {}
        },
        {
          "output_type": "display_data",
          "data": {
            "application/javascript": [
              "window[\"efba52c4-77ce-11ec-84d6-0242ac1c0002\"] = google.colab.output.getActiveOutputArea();\n",
              "//# sourceURL=js_8fa73a493d"
            ],
            "text/plain": [
              "<IPython.core.display.Javascript object>"
            ]
          },
          "metadata": {}
        },
        {
          "output_type": "display_data",
          "data": {
            "application/javascript": [
              "window[\"efbabb38-77ce-11ec-84d6-0242ac1c0002\"] = document.querySelector(\"#id16-1-0\");\n",
              "//# sourceURL=js_a7a786de08"
            ],
            "text/plain": [
              "<IPython.core.display.Javascript object>"
            ]
          },
          "metadata": {}
        },
        {
          "output_type": "display_data",
          "data": {
            "application/javascript": [
              "window[\"efbb2d52-77ce-11ec-84d6-0242ac1c0002\"] = google.colab.output.setActiveOutputArea(window[\"efbabb38-77ce-11ec-84d6-0242ac1c0002\"]);\n",
              "//# sourceURL=js_16f2eac440"
            ],
            "text/plain": [
              "<IPython.core.display.Javascript object>"
            ]
          },
          "metadata": {}
        },
        {
          "output_type": "stream",
          "name": "stdout",
          "text": [
            "Mes\n"
          ]
        },
        {
          "output_type": "display_data",
          "data": {
            "application/javascript": [
              "window[\"efbc92c8-77ce-11ec-84d6-0242ac1c0002\"] = google.colab.output.setActiveOutputArea(window[\"efba52c4-77ce-11ec-84d6-0242ac1c0002\"]);\n",
              "//# sourceURL=js_d995054458"
            ],
            "text/plain": [
              "<IPython.core.display.Javascript object>"
            ]
          },
          "metadata": {}
        },
        {
          "output_type": "display_data",
          "data": {
            "application/javascript": [
              "window[\"efbfac06-77ce-11ec-84d6-0242ac1c0002\"] = google.colab.output.getActiveOutputArea();\n",
              "//# sourceURL=js_eb611c5856"
            ],
            "text/plain": [
              "<IPython.core.display.Javascript object>"
            ]
          },
          "metadata": {}
        },
        {
          "output_type": "display_data",
          "data": {
            "application/javascript": [
              "window[\"efc01f74-77ce-11ec-84d6-0242ac1c0002\"] = document.querySelector(\"#id16-2-0\");\n",
              "//# sourceURL=js_b3ad9de1d2"
            ],
            "text/plain": [
              "<IPython.core.display.Javascript object>"
            ]
          },
          "metadata": {}
        },
        {
          "output_type": "display_data",
          "data": {
            "application/javascript": [
              "window[\"efc0bf38-77ce-11ec-84d6-0242ac1c0002\"] = google.colab.output.setActiveOutputArea(window[\"efc01f74-77ce-11ec-84d6-0242ac1c0002\"]);\n",
              "//# sourceURL=js_674ca546fa"
            ],
            "text/plain": [
              "<IPython.core.display.Javascript object>"
            ]
          },
          "metadata": {}
        },
        {
          "output_type": "stream",
          "name": "stdout",
          "text": [
            "Temperatura\n"
          ]
        },
        {
          "output_type": "display_data",
          "data": {
            "application/javascript": [
              "window[\"efc29ef2-77ce-11ec-84d6-0242ac1c0002\"] = google.colab.output.setActiveOutputArea(window[\"efbfac06-77ce-11ec-84d6-0242ac1c0002\"]);\n",
              "//# sourceURL=js_cfaee588a3"
            ],
            "text/plain": [
              "<IPython.core.display.Javascript object>"
            ]
          },
          "metadata": {}
        },
        {
          "output_type": "display_data",
          "data": {
            "application/javascript": [
              "window[\"efc5d950-77ce-11ec-84d6-0242ac1c0002\"] = google.colab.output.getActiveOutputArea();\n",
              "//# sourceURL=js_e933323b6c"
            ],
            "text/plain": [
              "<IPython.core.display.Javascript object>"
            ]
          },
          "metadata": {}
        },
        {
          "output_type": "display_data",
          "data": {
            "application/javascript": [
              "window[\"efc6269e-77ce-11ec-84d6-0242ac1c0002\"] = document.querySelector(\"#id16-3-0\");\n",
              "//# sourceURL=js_e0aec5df90"
            ],
            "text/plain": [
              "<IPython.core.display.Javascript object>"
            ]
          },
          "metadata": {}
        },
        {
          "output_type": "display_data",
          "data": {
            "application/javascript": [
              "window[\"efc77db4-77ce-11ec-84d6-0242ac1c0002\"] = google.colab.output.setActiveOutputArea(window[\"efc6269e-77ce-11ec-84d6-0242ac1c0002\"]);\n",
              "//# sourceURL=js_a0da0ae412"
            ],
            "text/plain": [
              "<IPython.core.display.Javascript object>"
            ]
          },
          "metadata": {}
        },
        {
          "output_type": "stream",
          "name": "stdout",
          "text": [
            "Precipitación\n"
          ]
        },
        {
          "output_type": "display_data",
          "data": {
            "application/javascript": [
              "window[\"efc92ed4-77ce-11ec-84d6-0242ac1c0002\"] = google.colab.output.setActiveOutputArea(window[\"efc5d950-77ce-11ec-84d6-0242ac1c0002\"]);\n",
              "//# sourceURL=js_5f1ec2db78"
            ],
            "text/plain": [
              "<IPython.core.display.Javascript object>"
            ]
          },
          "metadata": {}
        },
        {
          "output_type": "display_data",
          "data": {
            "application/javascript": [
              "window[\"efcab70e-77ce-11ec-84d6-0242ac1c0002\"] = google.colab.output.getActiveOutputArea();\n",
              "//# sourceURL=js_d8885fc7de"
            ],
            "text/plain": [
              "<IPython.core.display.Javascript object>"
            ]
          },
          "metadata": {}
        },
        {
          "output_type": "display_data",
          "data": {
            "application/javascript": [
              "window[\"efcb0934-77ce-11ec-84d6-0242ac1c0002\"] = document.querySelector(\"#id16-1-1\");\n",
              "//# sourceURL=js_68ded6c26c"
            ],
            "text/plain": [
              "<IPython.core.display.Javascript object>"
            ]
          },
          "metadata": {}
        },
        {
          "output_type": "display_data",
          "data": {
            "application/javascript": [
              "window[\"efcb5a1a-77ce-11ec-84d6-0242ac1c0002\"] = google.colab.output.setActiveOutputArea(window[\"efcb0934-77ce-11ec-84d6-0242ac1c0002\"]);\n",
              "//# sourceURL=js_5c9140147c"
            ],
            "text/plain": [
              "<IPython.core.display.Javascript object>"
            ]
          },
          "metadata": {}
        },
        {
          "output_type": "stream",
          "name": "stdout",
          "text": [
            "0.25\n"
          ]
        },
        {
          "output_type": "display_data",
          "data": {
            "application/javascript": [
              "window[\"efcc6446-77ce-11ec-84d6-0242ac1c0002\"] = google.colab.output.setActiveOutputArea(window[\"efcab70e-77ce-11ec-84d6-0242ac1c0002\"]);\n",
              "//# sourceURL=js_91c5746d18"
            ],
            "text/plain": [
              "<IPython.core.display.Javascript object>"
            ]
          },
          "metadata": {}
        },
        {
          "output_type": "display_data",
          "data": {
            "application/javascript": [
              "window[\"efcde5f0-77ce-11ec-84d6-0242ac1c0002\"] = google.colab.output.getActiveOutputArea();\n",
              "//# sourceURL=js_bb94695177"
            ],
            "text/plain": [
              "<IPython.core.display.Javascript object>"
            ]
          },
          "metadata": {}
        },
        {
          "output_type": "display_data",
          "data": {
            "application/javascript": [
              "window[\"efce2ee8-77ce-11ec-84d6-0242ac1c0002\"] = document.querySelector(\"#id16-2-1\");\n",
              "//# sourceURL=js_6f4013f643"
            ],
            "text/plain": [
              "<IPython.core.display.Javascript object>"
            ]
          },
          "metadata": {}
        },
        {
          "output_type": "display_data",
          "data": {
            "application/javascript": [
              "window[\"efce784e-77ce-11ec-84d6-0242ac1c0002\"] = google.colab.output.setActiveOutputArea(window[\"efce2ee8-77ce-11ec-84d6-0242ac1c0002\"]);\n",
              "//# sourceURL=js_4fde687658"
            ],
            "text/plain": [
              "<IPython.core.display.Javascript object>"
            ]
          },
          "metadata": {}
        },
        {
          "output_type": "stream",
          "name": "stdout",
          "text": [
            "1.3656249999999996\n"
          ]
        },
        {
          "output_type": "display_data",
          "data": {
            "application/javascript": [
              "window[\"efcf807c-77ce-11ec-84d6-0242ac1c0002\"] = google.colab.output.setActiveOutputArea(window[\"efcde5f0-77ce-11ec-84d6-0242ac1c0002\"]);\n",
              "//# sourceURL=js_e726b85b0d"
            ],
            "text/plain": [
              "<IPython.core.display.Javascript object>"
            ]
          },
          "metadata": {}
        },
        {
          "output_type": "display_data",
          "data": {
            "application/javascript": [
              "window[\"efd11d38-77ce-11ec-84d6-0242ac1c0002\"] = google.colab.output.getActiveOutputArea();\n",
              "//# sourceURL=js_e31571879d"
            ],
            "text/plain": [
              "<IPython.core.display.Javascript object>"
            ]
          },
          "metadata": {}
        },
        {
          "output_type": "display_data",
          "data": {
            "application/javascript": [
              "window[\"efd168ce-77ce-11ec-84d6-0242ac1c0002\"] = document.querySelector(\"#id16-3-1\");\n",
              "//# sourceURL=js_0f47e4b32a"
            ],
            "text/plain": [
              "<IPython.core.display.Javascript object>"
            ]
          },
          "metadata": {}
        },
        {
          "output_type": "display_data",
          "data": {
            "application/javascript": [
              "window[\"efd1afc8-77ce-11ec-84d6-0242ac1c0002\"] = google.colab.output.setActiveOutputArea(window[\"efd168ce-77ce-11ec-84d6-0242ac1c0002\"]);\n",
              "//# sourceURL=js_66bc89163f"
            ],
            "text/plain": [
              "<IPython.core.display.Javascript object>"
            ]
          },
          "metadata": {}
        },
        {
          "output_type": "stream",
          "name": "stdout",
          "text": [
            "0.25\n"
          ]
        },
        {
          "output_type": "display_data",
          "data": {
            "application/javascript": [
              "window[\"efd2b8e6-77ce-11ec-84d6-0242ac1c0002\"] = google.colab.output.setActiveOutputArea(window[\"efd11d38-77ce-11ec-84d6-0242ac1c0002\"]);\n",
              "//# sourceURL=js_ff1ebc8176"
            ],
            "text/plain": [
              "<IPython.core.display.Javascript object>"
            ]
          },
          "metadata": {}
        },
        {
          "output_type": "display_data",
          "data": {
            "application/javascript": [
              "window[\"efd4552a-77ce-11ec-84d6-0242ac1c0002\"] = google.colab.output.getActiveOutputArea();\n",
              "//# sourceURL=js_e297fbb59a"
            ],
            "text/plain": [
              "<IPython.core.display.Javascript object>"
            ]
          },
          "metadata": {}
        },
        {
          "output_type": "display_data",
          "data": {
            "application/javascript": [
              "window[\"efd4a3c2-77ce-11ec-84d6-0242ac1c0002\"] = document.querySelector(\"#id16-0-1\");\n",
              "//# sourceURL=js_3fcb653feb"
            ],
            "text/plain": [
              "<IPython.core.display.Javascript object>"
            ]
          },
          "metadata": {}
        },
        {
          "output_type": "display_data",
          "data": {
            "application/javascript": [
              "window[\"efd4f25a-77ce-11ec-84d6-0242ac1c0002\"] = google.colab.output.setActiveOutputArea(window[\"efd4a3c2-77ce-11ec-84d6-0242ac1c0002\"]);\n",
              "//# sourceURL=js_85770b9dff"
            ],
            "text/plain": [
              "<IPython.core.display.Javascript object>"
            ]
          },
          "metadata": {}
        },
        {
          "output_type": "stream",
          "name": "stdout",
          "text": [
            "Beneficio real - Beneficio esperado\n"
          ]
        },
        {
          "output_type": "display_data",
          "data": {
            "application/javascript": [
              "window[\"efd6175c-77ce-11ec-84d6-0242ac1c0002\"] = google.colab.output.setActiveOutputArea(window[\"efd4552a-77ce-11ec-84d6-0242ac1c0002\"]);\n",
              "//# sourceURL=js_463b8dc3a8"
            ],
            "text/plain": [
              "<IPython.core.display.Javascript object>"
            ]
          },
          "metadata": {}
        }
      ]
    },
    {
      "cell_type": "markdown",
      "source": [
        "Como se puede observar, al cambiar una única característica no afecta a su propia influencia sino a la inflluencia de las otras 2 características. Esto es debido a que si en la realidad hubiese cambiado el valor de una característica, también habría cambiado el valor del precio por kilogramo obtenido en ese cultivo. Sin embarrgo, en nuestros ejemplos el precio por kilogramo permanece constante."
      ],
      "metadata": {
        "id": "IOUVPQ3Xbsxx"
      }
    },
    {
      "cell_type": "markdown",
      "source": [
        "### 4.3 Entrada del usuario"
      ],
      "metadata": {
        "id": "sfnA6s6rVjVC"
      }
    },
    {
      "cell_type": "markdown",
      "source": [
        "A continuación, haciendo uso de *sliders* de colab, se ha creado una pequeña interfaz para que el usuario pueda introducir los datos. Introduciendo el mes, la región, la precipitación y la temperatura, se mostrará la influencia de los tres factores: a saber temperatura, mes y precipitación."
      ],
      "metadata": {
        "id": "d4y9FiBMgNfq"
      }
    },
    {
      "cell_type": "code",
      "source": [
        "month = 1 #@param {type:\"slider\", min:1, max:12}\n",
        "temperature = 0.0 #@param {type:\"slider\", min:-20, max:47, step:0.01}\n",
        "precipitacion_group = 0 #@param {type:\"slider\", min:0.0, max:2.0, step:1.0}\n",
        "product = \"ACELGA\" #@param [\"ACELGA\", \"AJO\", \"ALCACHOFA\", \"APIO\", \"BERENJENA\", \"BROCOLI\", \"CALABACIN\", \"CALABAZA\", \"CEBOLLA\", \"CEBOLLETA\", \"CHIRIVIA\", \"COL BRUSELAS\", \"COL CHINA\", \"COL LOMBARDA\", \"COL REPOLLO\", \"COLIFLOR\", \"ESCAROLA\", \"ESPINACA\", \"GUISANTE\", \"HABA\", \"JUDIA\", \"LECHUGA\", \"MAIZ\", \"MELON\", \"NABO\", \"PATATA\", \"PEPINO\", \"PEREJIL\", \"PIMIENTO\", \"PUERRO\", \"RABANITO\", \"REMOLACHA\", \"SANDIA\", \"TOMATE\", \"ZANAHORIA\"]\n",
        "origen = \"Andalucia\" #@param [\"Andalucia\", \"Aragon\", \"Asturias\", \"Baleares\", \"Canarias\", \"Cantabria\", \"Castilla La Mancha\", \"Castilla Leon\", \"Cataluña\", \"Extremadura\", \"Galicia\", \"La Rioja\", \"Madrid\", \"Murcia\", \"Navarra\", \"Pais Vasco\", \"Valencia\"]\n",
        "price_max_recolec = 0.0 #@param {type:\"slider\", min:0.0, max:10.0, step:0.001}\n",
        "\n",
        "checkInfluence(month, temperature, float(precipitacion_group), product, origen, price_max_recolec)"
      ],
      "metadata": {
        "colab": {
          "base_uri": "https://localhost:8080/",
          "height": 117
        },
        "id": "hbJNqD78KgO-",
        "outputId": "a4668b78-c815-4db1-a22c-e2522bfeda63"
      },
      "execution_count": 63,
      "outputs": [
        {
          "output_type": "stream",
          "name": "stdout",
          "text": [
            "Diferencia de beneficios\n"
          ]
        },
        {
          "output_type": "display_data",
          "data": {
            "text/html": [
              "<style>\n",
              "       table#id18, #id18 > tbody > tr > th, #id18 > tbody > tr > td {\n",
              "         border: 1px solid lightgray;\n",
              "         border-collapse:collapse;\n",
              "         \n",
              "        }</style>"
            ],
            "text/plain": [
              "<IPython.core.display.HTML object>"
            ]
          },
          "metadata": {}
        },
        {
          "output_type": "display_data",
          "data": {
            "text/html": [
              "<table id=id18><tr><th id=id18-0-0></th><th id=id18-0-1></th></tr><tr><th id=id18-1-0></th><td id=id18-1-1></td></tr><tr><th id=id18-2-0></th><td id=id18-2-1></td></tr><tr><th id=id18-3-0></th><td id=id18-3-1></td></tr></table>"
            ],
            "text/plain": [
              "<IPython.core.display.HTML object>"
            ]
          },
          "metadata": {}
        },
        {
          "output_type": "display_data",
          "data": {
            "application/javascript": [
              "window[\"efe82e9c-77ce-11ec-84d6-0242ac1c0002\"] = google.colab.output.getActiveOutputArea();\n",
              "//# sourceURL=js_b710af4740"
            ],
            "text/plain": [
              "<IPython.core.display.Javascript object>"
            ]
          },
          "metadata": {}
        },
        {
          "output_type": "display_data",
          "data": {
            "application/javascript": [
              "window[\"efe87abe-77ce-11ec-84d6-0242ac1c0002\"] = document.querySelector(\"#id18-0-0\");\n",
              "//# sourceURL=js_227ad16b1f"
            ],
            "text/plain": [
              "<IPython.core.display.Javascript object>"
            ]
          },
          "metadata": {}
        },
        {
          "output_type": "display_data",
          "data": {
            "application/javascript": [
              "window[\"efe8cc30-77ce-11ec-84d6-0242ac1c0002\"] = google.colab.output.setActiveOutputArea(window[\"efe87abe-77ce-11ec-84d6-0242ac1c0002\"]);\n",
              "//# sourceURL=js_5611c7cfe5"
            ],
            "text/plain": [
              "<IPython.core.display.Javascript object>"
            ]
          },
          "metadata": {}
        },
        {
          "output_type": "stream",
          "name": "stdout",
          "text": [
            "Característica que falta\n"
          ]
        },
        {
          "output_type": "display_data",
          "data": {
            "application/javascript": [
              "window[\"efe9f3e4-77ce-11ec-84d6-0242ac1c0002\"] = google.colab.output.setActiveOutputArea(window[\"efe82e9c-77ce-11ec-84d6-0242ac1c0002\"]);\n",
              "//# sourceURL=js_9c0094097f"
            ],
            "text/plain": [
              "<IPython.core.display.Javascript object>"
            ]
          },
          "metadata": {}
        },
        {
          "output_type": "display_data",
          "data": {
            "application/javascript": [
              "window[\"efeba68a-77ce-11ec-84d6-0242ac1c0002\"] = google.colab.output.getActiveOutputArea();\n",
              "//# sourceURL=js_ca6e46b90a"
            ],
            "text/plain": [
              "<IPython.core.display.Javascript object>"
            ]
          },
          "metadata": {}
        },
        {
          "output_type": "display_data",
          "data": {
            "application/javascript": [
              "window[\"efebf284-77ce-11ec-84d6-0242ac1c0002\"] = document.querySelector(\"#id18-1-0\");\n",
              "//# sourceURL=js_86b191a96e"
            ],
            "text/plain": [
              "<IPython.core.display.Javascript object>"
            ]
          },
          "metadata": {}
        },
        {
          "output_type": "display_data",
          "data": {
            "application/javascript": [
              "window[\"efec5972-77ce-11ec-84d6-0242ac1c0002\"] = google.colab.output.setActiveOutputArea(window[\"efebf284-77ce-11ec-84d6-0242ac1c0002\"]);\n",
              "//# sourceURL=js_d9baf28da1"
            ],
            "text/plain": [
              "<IPython.core.display.Javascript object>"
            ]
          },
          "metadata": {}
        },
        {
          "output_type": "stream",
          "name": "stdout",
          "text": [
            "Mes\n"
          ]
        },
        {
          "output_type": "display_data",
          "data": {
            "application/javascript": [
              "window[\"efee4ca0-77ce-11ec-84d6-0242ac1c0002\"] = google.colab.output.setActiveOutputArea(window[\"efeba68a-77ce-11ec-84d6-0242ac1c0002\"]);\n",
              "//# sourceURL=js_52a48baf53"
            ],
            "text/plain": [
              "<IPython.core.display.Javascript object>"
            ]
          },
          "metadata": {}
        },
        {
          "output_type": "display_data",
          "data": {
            "application/javascript": [
              "window[\"eff05a0e-77ce-11ec-84d6-0242ac1c0002\"] = google.colab.output.getActiveOutputArea();\n",
              "//# sourceURL=js_cbb01ca377"
            ],
            "text/plain": [
              "<IPython.core.display.Javascript object>"
            ]
          },
          "metadata": {}
        },
        {
          "output_type": "display_data",
          "data": {
            "application/javascript": [
              "window[\"eff0b166-77ce-11ec-84d6-0242ac1c0002\"] = document.querySelector(\"#id18-2-0\");\n",
              "//# sourceURL=js_3fe08e0762"
            ],
            "text/plain": [
              "<IPython.core.display.Javascript object>"
            ]
          },
          "metadata": {}
        },
        {
          "output_type": "display_data",
          "data": {
            "application/javascript": [
              "window[\"eff10184-77ce-11ec-84d6-0242ac1c0002\"] = google.colab.output.setActiveOutputArea(window[\"eff0b166-77ce-11ec-84d6-0242ac1c0002\"]);\n",
              "//# sourceURL=js_a78759a756"
            ],
            "text/plain": [
              "<IPython.core.display.Javascript object>"
            ]
          },
          "metadata": {}
        },
        {
          "output_type": "stream",
          "name": "stdout",
          "text": [
            "Temperatura\n"
          ]
        },
        {
          "output_type": "display_data",
          "data": {
            "application/javascript": [
              "window[\"eff22776-77ce-11ec-84d6-0242ac1c0002\"] = google.colab.output.setActiveOutputArea(window[\"eff05a0e-77ce-11ec-84d6-0242ac1c0002\"]);\n",
              "//# sourceURL=js_bba0ec69c7"
            ],
            "text/plain": [
              "<IPython.core.display.Javascript object>"
            ]
          },
          "metadata": {}
        },
        {
          "output_type": "display_data",
          "data": {
            "application/javascript": [
              "window[\"eff41d38-77ce-11ec-84d6-0242ac1c0002\"] = google.colab.output.getActiveOutputArea();\n",
              "//# sourceURL=js_36edd861c4"
            ],
            "text/plain": [
              "<IPython.core.display.Javascript object>"
            ]
          },
          "metadata": {}
        },
        {
          "output_type": "display_data",
          "data": {
            "application/javascript": [
              "window[\"eff47e40-77ce-11ec-84d6-0242ac1c0002\"] = document.querySelector(\"#id18-3-0\");\n",
              "//# sourceURL=js_57aac7cada"
            ],
            "text/plain": [
              "<IPython.core.display.Javascript object>"
            ]
          },
          "metadata": {}
        },
        {
          "output_type": "display_data",
          "data": {
            "application/javascript": [
              "window[\"eff4d656-77ce-11ec-84d6-0242ac1c0002\"] = google.colab.output.setActiveOutputArea(window[\"eff47e40-77ce-11ec-84d6-0242ac1c0002\"]);\n",
              "//# sourceURL=js_50fd6354cf"
            ],
            "text/plain": [
              "<IPython.core.display.Javascript object>"
            ]
          },
          "metadata": {}
        },
        {
          "output_type": "stream",
          "name": "stdout",
          "text": [
            "Precipitación\n"
          ]
        },
        {
          "output_type": "display_data",
          "data": {
            "application/javascript": [
              "window[\"eff5e7b2-77ce-11ec-84d6-0242ac1c0002\"] = google.colab.output.setActiveOutputArea(window[\"eff41d38-77ce-11ec-84d6-0242ac1c0002\"]);\n",
              "//# sourceURL=js_1c75ddcd27"
            ],
            "text/plain": [
              "<IPython.core.display.Javascript object>"
            ]
          },
          "metadata": {}
        },
        {
          "output_type": "display_data",
          "data": {
            "application/javascript": [
              "window[\"eff7a232-77ce-11ec-84d6-0242ac1c0002\"] = google.colab.output.getActiveOutputArea();\n",
              "//# sourceURL=js_194669baed"
            ],
            "text/plain": [
              "<IPython.core.display.Javascript object>"
            ]
          },
          "metadata": {}
        },
        {
          "output_type": "display_data",
          "data": {
            "application/javascript": [
              "window[\"eff7f5e8-77ce-11ec-84d6-0242ac1c0002\"] = document.querySelector(\"#id18-1-1\");\n",
              "//# sourceURL=js_177233b23f"
            ],
            "text/plain": [
              "<IPython.core.display.Javascript object>"
            ]
          },
          "metadata": {}
        },
        {
          "output_type": "display_data",
          "data": {
            "application/javascript": [
              "window[\"eff851dc-77ce-11ec-84d6-0242ac1c0002\"] = google.colab.output.setActiveOutputArea(window[\"eff7f5e8-77ce-11ec-84d6-0242ac1c0002\"]);\n",
              "//# sourceURL=js_1bd29acae1"
            ],
            "text/plain": [
              "<IPython.core.display.Javascript object>"
            ]
          },
          "metadata": {}
        },
        {
          "output_type": "stream",
          "name": "stdout",
          "text": [
            "-1.0264621211458334\n"
          ]
        },
        {
          "output_type": "display_data",
          "data": {
            "application/javascript": [
              "window[\"eff96c98-77ce-11ec-84d6-0242ac1c0002\"] = google.colab.output.setActiveOutputArea(window[\"eff7a232-77ce-11ec-84d6-0242ac1c0002\"]);\n",
              "//# sourceURL=js_1adf47705d"
            ],
            "text/plain": [
              "<IPython.core.display.Javascript object>"
            ]
          },
          "metadata": {}
        },
        {
          "output_type": "display_data",
          "data": {
            "application/javascript": [
              "window[\"effbecc0-77ce-11ec-84d6-0242ac1c0002\"] = google.colab.output.getActiveOutputArea();\n",
              "//# sourceURL=js_370b9cfb4f"
            ],
            "text/plain": [
              "<IPython.core.display.Javascript object>"
            ]
          },
          "metadata": {}
        },
        {
          "output_type": "display_data",
          "data": {
            "application/javascript": [
              "window[\"effcb0a6-77ce-11ec-84d6-0242ac1c0002\"] = document.querySelector(\"#id18-2-1\");\n",
              "//# sourceURL=js_a12d6c2fa1"
            ],
            "text/plain": [
              "<IPython.core.display.Javascript object>"
            ]
          },
          "metadata": {}
        },
        {
          "output_type": "display_data",
          "data": {
            "application/javascript": [
              "window[\"effd0b64-77ce-11ec-84d6-0242ac1c0002\"] = google.colab.output.setActiveOutputArea(window[\"effcb0a6-77ce-11ec-84d6-0242ac1c0002\"]);\n",
              "//# sourceURL=js_4e87f89473"
            ],
            "text/plain": [
              "<IPython.core.display.Javascript object>"
            ]
          },
          "metadata": {}
        },
        {
          "output_type": "stream",
          "name": "stdout",
          "text": [
            "-0.45\n"
          ]
        },
        {
          "output_type": "display_data",
          "data": {
            "application/javascript": [
              "window[\"effea4a6-77ce-11ec-84d6-0242ac1c0002\"] = google.colab.output.setActiveOutputArea(window[\"effbecc0-77ce-11ec-84d6-0242ac1c0002\"]);\n",
              "//# sourceURL=js_46d945cc71"
            ],
            "text/plain": [
              "<IPython.core.display.Javascript object>"
            ]
          },
          "metadata": {}
        },
        {
          "output_type": "display_data",
          "data": {
            "application/javascript": [
              "window[\"f00142b0-77ce-11ec-84d6-0242ac1c0002\"] = google.colab.output.getActiveOutputArea();\n",
              "//# sourceURL=js_75e4f4d19d"
            ],
            "text/plain": [
              "<IPython.core.display.Javascript object>"
            ]
          },
          "metadata": {}
        },
        {
          "output_type": "display_data",
          "data": {
            "application/javascript": [
              "window[\"f0019058-77ce-11ec-84d6-0242ac1c0002\"] = document.querySelector(\"#id18-3-1\");\n",
              "//# sourceURL=js_9d59c4c046"
            ],
            "text/plain": [
              "<IPython.core.display.Javascript object>"
            ]
          },
          "metadata": {}
        },
        {
          "output_type": "display_data",
          "data": {
            "application/javascript": [
              "window[\"f001def0-77ce-11ec-84d6-0242ac1c0002\"] = google.colab.output.setActiveOutputArea(window[\"f0019058-77ce-11ec-84d6-0242ac1c0002\"]);\n",
              "//# sourceURL=js_9f7508ea3d"
            ],
            "text/plain": [
              "<IPython.core.display.Javascript object>"
            ]
          },
          "metadata": {}
        },
        {
          "output_type": "stream",
          "name": "stdout",
          "text": [
            "-0.738402777875\n"
          ]
        },
        {
          "output_type": "display_data",
          "data": {
            "application/javascript": [
              "window[\"f003ae60-77ce-11ec-84d6-0242ac1c0002\"] = google.colab.output.setActiveOutputArea(window[\"f00142b0-77ce-11ec-84d6-0242ac1c0002\"]);\n",
              "//# sourceURL=js_d49f0c9115"
            ],
            "text/plain": [
              "<IPython.core.display.Javascript object>"
            ]
          },
          "metadata": {}
        },
        {
          "output_type": "display_data",
          "data": {
            "application/javascript": [
              "window[\"f005c8da-77ce-11ec-84d6-0242ac1c0002\"] = google.colab.output.getActiveOutputArea();\n",
              "//# sourceURL=js_48c82e832e"
            ],
            "text/plain": [
              "<IPython.core.display.Javascript object>"
            ]
          },
          "metadata": {}
        },
        {
          "output_type": "display_data",
          "data": {
            "application/javascript": [
              "window[\"f006274e-77ce-11ec-84d6-0242ac1c0002\"] = document.querySelector(\"#id18-0-1\");\n",
              "//# sourceURL=js_836ad66102"
            ],
            "text/plain": [
              "<IPython.core.display.Javascript object>"
            ]
          },
          "metadata": {}
        },
        {
          "output_type": "display_data",
          "data": {
            "application/javascript": [
              "window[\"f0074250-77ce-11ec-84d6-0242ac1c0002\"] = google.colab.output.setActiveOutputArea(window[\"f006274e-77ce-11ec-84d6-0242ac1c0002\"]);\n",
              "//# sourceURL=js_f5a6f26858"
            ],
            "text/plain": [
              "<IPython.core.display.Javascript object>"
            ]
          },
          "metadata": {}
        },
        {
          "output_type": "stream",
          "name": "stdout",
          "text": [
            "Beneficio real - Beneficio esperado\n"
          ]
        },
        {
          "output_type": "display_data",
          "data": {
            "application/javascript": [
              "window[\"f008da52-77ce-11ec-84d6-0242ac1c0002\"] = google.colab.output.setActiveOutputArea(window[\"f005c8da-77ce-11ec-84d6-0242ac1c0002\"]);\n",
              "//# sourceURL=js_55cfe7ac7a"
            ],
            "text/plain": [
              "<IPython.core.display.Javascript object>"
            ]
          },
          "metadata": {}
        }
      ]
    }
  ]
}